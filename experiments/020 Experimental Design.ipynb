{
 "cells": [
  {
   "cell_type": "markdown",
   "id": "5fc2e5d9-27f8-4f01-b5f6-006c9d13af1d",
   "metadata": {},
   "source": [
    "# Experimental Design"
   ]
  },
  {
   "cell_type": "code",
   "execution_count": null,
   "id": "5f580b35-c7ca-43be-b101-194dcbe72f90",
   "metadata": {},
   "outputs": [],
   "source": [
    "import pandas as pd \n",
    "import numpy as np \n",
    "import seaborn as sns\n",
    "import warnings\n",
    "import matplotlib.pyplot as plt\n",
    "from statsmodels.formula.api import ols\n",
    "\n",
    "warnings.filterwarnings('ignore')"
   ]
  },
  {
   "cell_type": "markdown",
   "id": "6b005c62-99a7-4c42-bd2c-e213eaeb8509",
   "metadata": {},
   "source": [
    "Experimental design is the process in which we carry out research in an objective and controlled fashion. The purpose of this is to ensure we can make specific conclusions in reference to a hypothesis we have.\n",
    "\n",
    "https://www.sciencedirect.com/topics/earth-and-planetary-sciences/experimental-design\n",
    "\n",
    "Because we use objective tools, we need to use quantified language. Instead of using words like 'probably', 'likely', and 'small' when noting our conclusions, we should use precise and quantified language. This often takes the form of noting the percentage risk on a Type I error in the conclusion. \n",
    "\n",
    "Type I errors: we incorrectly reject the null hypothesis when it is actually true. \n",
    "\n",
    "## Terminology\n",
    "\n",
    "Subjects\n",
    ": What we are experimenting on\n",
    "\n",
    "Treatment\n",
    ": Some change given to one group\n",
    "\n",
    "Control group\n",
    ": The group not given any treatment\n",
    "\n",
    "## How to assign subjects to groups\n",
    "\n",
    "- Non Random (iloc with a range for instance)"
   ]
  },
  {
   "cell_type": "code",
   "execution_count": null,
   "id": "88fe498b-9547-4895-bcd5-a3e0517ca069",
   "metadata": {},
   "outputs": [],
   "source": [
    "df = pd.read_feather('../data/dem_votes_potus_12_16.feather')\n",
    "\n",
    "group1 = df.iloc[0:100]\n",
    "group2 = df.iloc[100:200]\n"
   ]
  },
  {
   "cell_type": "code",
   "execution_count": null,
   "id": "843bf591-c52a-4432-8900-41af0c1295c0",
   "metadata": {},
   "outputs": [],
   "source": [
    "group1.describe()"
   ]
  },
  {
   "cell_type": "code",
   "execution_count": null,
   "id": "0413b773-b7d7-4c47-a684-a5a4b1303673",
   "metadata": {},
   "outputs": [],
   "source": [
    "group2.describe()"
   ]
  },
  {
   "cell_type": "markdown",
   "id": "05dc665d-f7cd-485f-af7d-79588eae0aae",
   "metadata": {},
   "source": [
    "- Random (sample method for instance)"
   ]
  },
  {
   "cell_type": "code",
   "execution_count": null,
   "id": "e2c4a312-f3fc-4e43-9d20-f40b3101809d",
   "metadata": {},
   "outputs": [],
   "source": [
    "random_group1 = df.sample(frac=0.5)\n",
    "random_group1.describe()"
   ]
  },
  {
   "cell_type": "code",
   "execution_count": null,
   "id": "dfe35d41-5685-4832-8cac-9ca743be65af",
   "metadata": {},
   "outputs": [],
   "source": [
    "random_group2 = df.drop(random_group1.index)"
   ]
  },
  {
   "cell_type": "code",
   "execution_count": null,
   "id": "d7b08231-4a99-49de-ae7d-9d9e0e879c9c",
   "metadata": {},
   "outputs": [],
   "source": [
    "compare_df_rand = pd.concat([random_group1['dem_percent_12'].describe(), random_group2['dem_percent_12'].describe()], axis=1)\n",
    "compare_df_rand.columns = ['group1', 'group2']\n",
    "\n",
    "print(compare_df_rand)"
   ]
  },
  {
   "cell_type": "markdown",
   "id": "190f8515-c724-49a7-8f34-a8c8834a8738",
   "metadata": {
    "execution": {
     "iopub.execute_input": "2024-08-03T15:16:17.811886Z",
     "iopub.status.busy": "2024-08-03T15:16:17.811087Z",
     "iopub.status.idle": "2024-08-03T15:16:17.822205Z",
     "shell.execute_reply": "2024-08-03T15:16:17.820904Z",
     "shell.execute_reply.started": "2024-08-03T15:16:17.811840Z"
    }
   },
   "source": [
    "# Experimental data setup"
   ]
  },
  {
   "cell_type": "markdown",
   "id": "7bcf92bd-2137-4787-815c-86c8c1644e8c",
   "metadata": {},
   "source": [
    "Randomization is often the best technique for setting up experimental data, but it isnt always.\n",
    "\n",
    "## Scenarios where randomization could cause undesiderable outcomes\n",
    "\n",
    "### Uneven issue\n",
    "\n",
    "Different number of subjects in groups. Can be solved with block randomization.\n",
    "\n",
    "### Covariates\n",
    "\n",
    "Covariates are variables that potentially affect experiment results but aren't the primary focus. If covariates are highly variable or not equally distributed among groups, randomization might not produce balanced groups. This imbalance can lead to biased results. Overall these make it harder to see an effect from a treatment, as these issues may be driving an observed change."
   ]
  },
  {
   "cell_type": "code",
   "execution_count": null,
   "id": "0fd6c8e9-d2cd-41a2-9556-a99154327d1a",
   "metadata": {},
   "outputs": [],
   "source": [
    "group1 = df.sample(frac=0.5, replace=False)\n",
    "group1['Block']=1\n",
    "\n",
    "group2 = df.drop(group1.index)\n",
    "group2['Block']=2\n",
    "\n",
    "print(len(group1), len(group2))"
   ]
  },
  {
   "cell_type": "markdown",
   "id": "5b5d11c0-fbc9-4295-8794-47bd4e203d4c",
   "metadata": {},
   "source": [
    "But does this technique eliminates the covariate issue?\n",
    "\n",
    "A nice way of checking for potential covariate issues is with visualizations."
   ]
  },
  {
   "cell_type": "code",
   "execution_count": null,
   "id": "3359d3a8-26b6-4e88-93f0-ee797db000d6",
   "metadata": {},
   "outputs": [],
   "source": [
    "sns.displot(data=df, x='dem_percent_12', fill=True, kind='kde'\n",
    "            # , hue=''\n",
    "           )"
   ]
  },
  {
   "cell_type": "markdown",
   "id": "42a5427d-94af-4d4e-b85f-0b058f5a7a92",
   "metadata": {
    "execution": {
     "iopub.execute_input": "2024-08-03T15:57:13.085219Z",
     "iopub.status.busy": "2024-08-03T15:57:13.084292Z",
     "iopub.status.idle": "2024-08-03T15:57:13.098714Z",
     "shell.execute_reply": "2024-08-03T15:57:13.096956Z",
     "shell.execute_reply.started": "2024-08-03T15:57:13.085172Z"
    }
   },
   "source": [
    "Not with this dataset, but it could happen that based on a second feature, thmere is quite a difference in the group distributions. When an effect could be because of a variable rather than the treatment, this is often called **confounding**. The covariate issue can be solved with stratified randomization.\n",
    "\n",
    "### Stratified randomization\n",
    "\n",
    "Stratified randomization involves splitting based on a potentially confounding variable first, followed by randomization\n"
   ]
  },
  {
   "cell_type": "markdown",
   "id": "0c0a4c21-a13c-44e1-8970-90dfe1cf7d14",
   "metadata": {},
   "source": [
    "# Normal Data\n",
    "\n",
    "Normal data is drawn from a normal distribution\n",
    "\n",
    "The normal distribution is related to z-scores\n",
    "\n",
    "$$z = \\frac{ x - \\mu}{ \\sigma }$$\n",
    "\n",
    "The most common normal distribution is the standard one, having $\\mu$=0 and $\\sigma$=0\n",
    "\n",
    "The normal distribution is behind many of the statistical **parametric** tests. There are alse **non parametric** tests that dont assume normal data.\n",
    "\n",
    "To visually check if a dataset follow a normal distribution we can plot the kde\n",
    "\n",
    "Another visual tool are the qqplots, that compare "
   ]
  },
  {
   "cell_type": "code",
   "execution_count": null,
   "id": "16efeb58-6bb3-4282-a564-fda1ae3c8203",
   "metadata": {},
   "outputs": [],
   "source": [
    "df = pd.read_csv('../data/chick_weight.csv')\n",
    "\n",
    "df.info()"
   ]
  },
  {
   "cell_type": "code",
   "execution_count": null,
   "id": "e16a0f2f-fa62-49d3-afda-c8d075130992",
   "metadata": {},
   "outputs": [],
   "source": [
    "n_rows=2\n",
    "n_cols=2\n",
    "# Create the subplots\n",
    "fig, axes = plt.subplots(nrows=n_rows, ncols=n_cols)\n",
    "\n",
    "for i, column in enumerate(df.columns):\n",
    "    sns.distplot(df[column],ax=axes[i//n_cols,i%n_cols])\n"
   ]
  },
  {
   "cell_type": "code",
   "execution_count": null,
   "id": "3df74626-3efe-46db-a46c-4464345be8ba",
   "metadata": {},
   "outputs": [],
   "source": [
    "qqplot(data=df.weight, line='s')\n",
    "plt.show()"
   ]
  },
  {
   "cell_type": "code",
   "execution_count": null,
   "id": "fa4102bb-aa69-4ca6-b4c9-796b212dd876",
   "metadata": {},
   "outputs": [],
   "source": [
    "from statsmodels.graphics.gofplots import qqplot\n",
    "from scipy.stats.distributions import norm\n",
    "\n",
    "qqplot(df['weight'], \n",
    "       line='s', \n",
    "       dist=norm\n",
    "      ) \n",
    "plt.show()"
   ]
  },
  {
   "cell_type": "code",
   "execution_count": null,
   "id": "11e2dfc6-79cb-4fda-b8fd-ce9168732e73",
   "metadata": {},
   "outputs": [],
   "source": [
    "# Subset the data\n",
    "subset_data = df[df['Time'] == 2]\n",
    "\n",
    "# Repeat the plotting\n",
    "sns.displot(data=df, x='weight', kind=\"kde\")\n",
    "plt.show()"
   ]
  },
  {
   "cell_type": "markdown",
   "id": "d5cd7e9e-5c66-4519-9bbb-88121d0fa90a",
   "metadata": {},
   "source": [
    "- ideally, the dots should follow the line\n",
    "- bad: bow out at the ends\n",
    "\n",
    "Other tests for normality: \n",
    "- Shapiro-Wilk: good for smaller datasets\n",
    "- D'Agostino $K^2$ (uses curtosis and skewness\n",
    "- Anderson-Darling returns a list of values\n",
    "\n",
    "For all these, the $H<sub>0</sub>$ is \"data is drawn from a Normal distribution\""
   ]
  },
  {
   "cell_type": "markdown",
   "id": "48433ed7-19ba-479a-b247-bdd7243f33ff",
   "metadata": {},
   "source": [
    "# A Shapiro Wilk test\n",
    "from scipy.stats import shapiro\n",
    "\n",
    "alpha = 0.05\n",
    "stat, p = shapiro(df.weight)\n",
    "print(f'p:{round(p,4)} test stat: {round(stat, 4)}')\n"
   ]
  },
  {
   "cell_type": "code",
   "execution_count": null,
   "id": "189f8614-a424-42c0-b0dc-95a4b2f141f7",
   "metadata": {},
   "outputs": [],
   "source": [
    "# A Anderson Darling test\n",
    "from scipy.stats import anderson\n",
    "\n",
    "alpha = 0.05\n",
    "result = anderson(x = df.weight, dist=\"norm\")\n",
    "print(round(result.statistic,4))\n",
    "print(result.significance_level)\n",
    "print(result.critical_values)"
   ]
  },
  {
   "cell_type": "markdown",
   "id": "20a317d4-8251-42b8-bac4-133fc83c7084",
   "metadata": {},
   "source": [
    "# Factorial Design\n",
    "\n",
    "Factorial designs study multiple independent variables/factors in one experiment\n",
    "\n",
    "They test every combination of factor levels. It discovers direct effects and interactions between factors\n"
   ]
  },
  {
   "cell_type": "code",
   "execution_count": null,
   "id": "e2a2f7e0-ba47-4843-be1e-a1623b0d32af",
   "metadata": {},
   "outputs": [],
   "source": [
    "marketing_data = pd.read_feather('../data/marketing_data.feather')"
   ]
  },
  {
   "cell_type": "code",
   "execution_count": null,
   "id": "fc36da4b-fde1-4e9f-bedc-ad0f3b5b73ff",
   "metadata": {},
   "outputs": [],
   "source": [
    "# Create a pivot table for marketing campaign data\n",
    "marketing_pivot = marketing_data.pivot_table(\n",
    "  values='Conversions', \n",
    "  index='Messaging_Style', \n",
    "  columns='Time_of_Day', \n",
    "  aggfunc='mean')\n",
    "\n",
    "# View the pivoted results\n",
    "print(marketing_pivot)"
   ]
  },
  {
   "cell_type": "code",
   "execution_count": null,
   "id": "4240b55f-5c12-4046-b9c1-657b05b464c6",
   "metadata": {},
   "outputs": [],
   "source": [
    "# Visualize interactions with a heatmap\n",
    "sns.heatmap(marketing_pivot, \n",
    "         annot=True, \n",
    "         cmap='coolwarm',\n",
    "         fmt='g')\n",
    "\n",
    "plt.show()"
   ]
  },
  {
   "cell_type": "markdown",
   "id": "1a409b18-abb0-4acf-97eb-e75baabcbc6c",
   "metadata": {},
   "source": [
    "The biggest change is registered in the evening messages from casual to formal."
   ]
  },
  {
   "cell_type": "markdown",
   "id": "ced64364-6497-4985-9921-8461e5b065c1",
   "metadata": {
    "execution": {
     "iopub.execute_input": "2024-08-04T07:18:02.181075Z",
     "iopub.status.busy": "2024-08-04T07:18:02.179977Z",
     "iopub.status.idle": "2024-08-04T07:18:02.193060Z",
     "shell.execute_reply": "2024-08-04T07:18:02.191621Z",
     "shell.execute_reply.started": "2024-08-04T07:18:02.180995Z"
    }
   },
   "source": [
    "### Factorial designs\n",
    "- Multiple treatments and interactions\n",
    "- Dissect complex multi variable effects and interactions\n",
    "- Can require more subjects\n",
    "\n",
    "### Block Designs\n",
    "- Group similar subjects in randomized designs\n",
    "- Control within-block variance\n",
    "- Each treatment is tested within every block\n",
    "\n",
    "# Randomized block design\n",
    "\n",
    "Blocking involves grouping experimental units, often with similar characteristics, to minimize variance within these groups\n",
    "Each block, representing a specific level of the blocking factor, receives every treatment. "
   ]
  },
  {
   "cell_type": "code",
   "execution_count": null,
   "id": "2a73f0c7-5b72-43b1-b46d-2e63e4ef7b4a",
   "metadata": {},
   "outputs": [],
   "source": [
    "athletes = pd.read_csv('../data/athletic_perf.csv')\n",
    "athletes"
   ]
  },
  {
   "cell_type": "markdown",
   "id": "58cb848e-3e96-4e80-9e54-ab2b4daa520c",
   "metadata": {},
   "source": [
    "To implement a randomized block design, we'll group the rows into blocks based on an initial feature, shuffle the rows within these blocks, and randomly assign a treatment."
   ]
  },
  {
   "cell_type": "code",
   "execution_count": null,
   "id": "86d3b62b-fd08-41ae-9404-ff659986750b",
   "metadata": {},
   "outputs": [],
   "source": [
    "blocks = athletes.groupby('Initial_Fitness').apply(\n",
    "    # Lets shuffle each block\n",
    "    lambda x:x.sample(frac=1)\n",
    ")\n",
    "blocks = blocks.reset_index(drop=True)\n",
    "blocks"
   ]
  },
  {
   "cell_type": "code",
   "execution_count": null,
   "id": "338aa7ec-bc59-4c14-86c0-605f46b631b5",
   "metadata": {},
   "outputs": [],
   "source": [
    "# Now, within each block, we assign exercise program randomly\n",
    "blocks['Treatment'] = np.random.choice(\n",
    "    ['Cardio', 'Strength Training', 'Mixed'], \n",
    "    size=len(blocks)\n",
    ")\n",
    "\n",
    "blocks.head()"
   ]
  },
  {
   "cell_type": "code",
   "execution_count": null,
   "id": "420ba328-7d6c-4799-b94b-4ac8870d2be7",
   "metadata": {},
   "outputs": [],
   "source": [
    "# A boxplot is an effective tool for visualizing the distribution of treatment effects across different blocks \n",
    "\n",
    "sns.boxplot(x='Initial_Fitness', y='Performance_Inc', hue='Treatment', data=blocks)"
   ]
  },
  {
   "cell_type": "markdown",
   "id": "31e3ff47-5ca1-4a90-8c18-44a7752ae14d",
   "metadata": {},
   "source": [
    "We can use ANOVA to statistically check for these differences."
   ]
  },
  {
   "cell_type": "code",
   "execution_count": null,
   "id": "12e32115-e505-4684-a8d8-70212f843be3",
   "metadata": {},
   "outputs": [],
   "source": [
    "alpha=0.05\n",
    "\n",
    "from scipy.stats import f_oneway\n",
    "\n",
    "blocks.groupby(\"Initial_Fitness\").apply(\n",
    "    lambda x: f_oneway(x[x['Treatment']== 'Cardio']['Performance_Inc'],\n",
    "                       x[x['Treatment']== 'Mixed']['Performance_Inc'], \n",
    "                       x[x['Treatment']== 'Strength Training']['Performance_Inc'], \n",
    "                      )\n",
    ")"
   ]
  },
  {
   "cell_type": "markdown",
   "id": "6ce7c977-4915-432b-96ed-cb42c01a7984",
   "metadata": {},
   "source": [
    "# Covariate adjustment in experimental design\n",
    "\n",
    "Covariates are variables that are not of primary interest but are related to the outcome variable and can influence its analysis. Including covariates in statistical analyses is crucial for reducing confounding, which occurs when an external variable influences both the dependent variable and independent variable(s).\n",
    "\n",
    "By adjusting for covariates researchers can isolate the effect of the independent variable on the outcome, minimizing the influence of confounders.\n",
    "\n",
    "Like that, the analysis better reflects the true effect by isolating it from the influence of covariates.\n",
    "\n"
   ]
  },
  {
   "cell_type": "code",
   "execution_count": null,
   "id": "bb1817e0-0f7f-4692-80fd-d4c41a0bf4bc",
   "metadata": {},
   "outputs": [],
   "source": [
    "exp_chick_data = pd.read_csv('../data/chick_weight.csv')\n",
    "cov_chick_data = pd.read_csv('../data/chick_cov.csv')\n"
   ]
  },
  {
   "cell_type": "code",
   "execution_count": null,
   "id": "c92a6225-b350-4a83-9062-7b8ef01c8e4e",
   "metadata": {},
   "outputs": [],
   "source": [
    "exp_chick_data"
   ]
  },
  {
   "cell_type": "code",
   "execution_count": null,
   "id": "2fa68ea7-379e-4720-8206-406dab00b598",
   "metadata": {},
   "outputs": [],
   "source": [
    "# Perform ANCOVA with Diet and Time as predictors\n",
    "model = ols('weight ~ Diet + Time', data=exp_chick_data).fit()\n",
    "\n",
    "# Print a summary of the model\n",
    "print(model.summary())"
   ]
  },
  {
   "cell_type": "markdown",
   "id": "e833133c-c417-4e64-a65e-fc3dd60255bb",
   "metadata": {},
   "source": [
    "Prob (F-statistic): The first portion of summary output provides details on the significance of the model; it shows a very small p-value, supporting for covariates affecting the model.\n",
    "Large p-values would implie a lack of support for covariates affecting the model.\n",
    "\n",
    "P>|t| of the second portion are very small, sugesting that each of them alone are significant predictors of growth for this model."
   ]
  },
  {
   "cell_type": "code",
   "execution_count": null,
   "id": "d291b3e6-9774-46d4-aed3-8f0d091a67d3",
   "metadata": {},
   "outputs": [],
   "source": [
    "# Visualize Diet effects with Time adjustment\n",
    "sns.lmplot(x='Time', y='weight', \n",
    "         hue='Diet', \n",
    "         data=exp_chick_data)\n",
    "plt.show()"
   ]
  },
  {
   "cell_type": "markdown",
   "id": "8f11514b-c440-437a-bd35-dba36775485b",
   "metadata": {},
   "source": [
    "The crossing lines here suggest we may add a The crossing regression lines suggest we may want to add an interaction term of time by Diet in another model. Parallel lines would suggest a lack of interaction."
   ]
  },
  {
   "cell_type": "markdown",
   "id": "8b579cdd-b3aa-4a35-b02c-64d9f0984f41",
   "metadata": {},
   "source": [
    "# Choosing the right statistical test\n",
    "\n",
    "Prior to choosing the right test, we have to pay attention to:\n",
    "- Dataset Features:\n",
    "  - Data types\n",
    "  - Distributions: often assumed to be normal in many tests\n",
    "  - Number of variables\n",
    "- Hypothesis\n",
    "\n",
    "Result: Accurate and dependable conclusions\n",
    "\n",
    "Lets see how to apply t-tests, ANOVA and $\\chi^2$\n",
    "\n",
    "The athletic performance dataset contains the impact of training programs and diet on athletic performance"
   ]
  },
  {
   "cell_type": "code",
   "execution_count": 81,
   "id": "590f8449-2bc3-425b-8f22-bd5c0373b4c9",
   "metadata": {
    "execution": {
     "iopub.execute_input": "2024-08-05T15:44:00.799722Z",
     "iopub.status.busy": "2024-08-05T15:44:00.798542Z",
     "iopub.status.idle": "2024-08-05T15:44:00.821010Z",
     "shell.execute_reply": "2024-08-05T15:44:00.820412Z",
     "shell.execute_reply.started": "2024-08-05T15:44:00.799642Z"
    }
   },
   "outputs": [
    {
     "data": {
      "text/html": [
       "<div>\n",
       "<style scoped>\n",
       "    .dataframe tbody tr th:only-of-type {\n",
       "        vertical-align: middle;\n",
       "    }\n",
       "\n",
       "    .dataframe tbody tr th {\n",
       "        vertical-align: top;\n",
       "    }\n",
       "\n",
       "    .dataframe thead th {\n",
       "        text-align: right;\n",
       "    }\n",
       "</style>\n",
       "<table border=\"1\" class=\"dataframe\">\n",
       "  <thead>\n",
       "    <tr style=\"text-align: right;\">\n",
       "      <th></th>\n",
       "      <th>Athlete_ID</th>\n",
       "      <th>Training_Program</th>\n",
       "      <th>Diet_Type</th>\n",
       "      <th>Initial_Fitness</th>\n",
       "      <th>Performance_Inc</th>\n",
       "    </tr>\n",
       "  </thead>\n",
       "  <tbody>\n",
       "    <tr>\n",
       "      <th>0</th>\n",
       "      <td>1</td>\n",
       "      <td>Strength</td>\n",
       "      <td>Keto</td>\n",
       "      <td>Low</td>\n",
       "      <td>8.749524</td>\n",
       "    </tr>\n",
       "    <tr>\n",
       "      <th>1</th>\n",
       "      <td>2</td>\n",
       "      <td>HIIT</td>\n",
       "      <td>Plant-Based</td>\n",
       "      <td>High</td>\n",
       "      <td>9.452781</td>\n",
       "    </tr>\n",
       "    <tr>\n",
       "      <th>2</th>\n",
       "      <td>3</td>\n",
       "      <td>Strength</td>\n",
       "      <td>Plant-Based</td>\n",
       "      <td>Low</td>\n",
       "      <td>13.928506</td>\n",
       "    </tr>\n",
       "    <tr>\n",
       "      <th>3</th>\n",
       "      <td>4</td>\n",
       "      <td>Strength</td>\n",
       "      <td>Plant-Based</td>\n",
       "      <td>High</td>\n",
       "      <td>9.605557</td>\n",
       "    </tr>\n",
       "    <tr>\n",
       "      <th>4</th>\n",
       "      <td>5</td>\n",
       "      <td>HIIT</td>\n",
       "      <td>Plant-Based</td>\n",
       "      <td>Low</td>\n",
       "      <td>7.547894</td>\n",
       "    </tr>\n",
       "  </tbody>\n",
       "</table>\n",
       "</div>"
      ],
      "text/plain": [
       "   Athlete_ID Training_Program    Diet_Type Initial_Fitness  Performance_Inc\n",
       "0           1         Strength         Keto             Low         8.749524\n",
       "1           2             HIIT  Plant-Based            High         9.452781\n",
       "2           3         Strength  Plant-Based             Low        13.928506\n",
       "3           4         Strength  Plant-Based            High         9.605557\n",
       "4           5             HIIT  Plant-Based             Low         7.547894"
      ]
     },
     "execution_count": 81,
     "metadata": {},
     "output_type": "execute_result"
    }
   ],
   "source": [
    "athletic_perf = pd.read_csv('../data/athletic_perf.csv')\n",
    "athletic_perf.head()"
   ]
  },
  {
   "cell_type": "markdown",
   "id": "e1e65a3e-7b5e-42b7-a10c-70e6e4df909f",
   "metadata": {},
   "source": [
    "## Independent Samples t-test\n",
    "\n",
    "Compares the means of two groups.\n",
    "It assumes normal distributions and equal variances to ensure the reliability and validity of the test results.\n"
   ]
  },
  {
   "cell_type": "code",
   "execution_count": 84,
   "id": "eae6afe7-67fc-44f9-a1e0-ecd5c9a39b51",
   "metadata": {
    "execution": {
     "iopub.execute_input": "2024-08-05T15:52:20.764500Z",
     "iopub.status.busy": "2024-08-05T15:52:20.763968Z",
     "iopub.status.idle": "2024-08-05T15:52:20.781349Z",
     "shell.execute_reply": "2024-08-05T15:52:20.780114Z",
     "shell.execute_reply.started": "2024-08-05T15:52:20.764462Z"
    }
   },
   "outputs": [
    {
     "name": "stdout",
     "output_type": "stream",
     "text": [
      "t_stat: 0.20671020082912311, p-value: 0.8364563849070619\n"
     ]
    }
   ],
   "source": [
    "from scipy.stats import ttest_ind\n",
    "\n",
    "group1 = athletic_perf[athletic_perf.Training_Program == 'HIIT']['Performance_Inc']\n",
    "group2 = athletic_perf[athletic_perf.Training_Program == 'Endurance']['Performance_Inc']\n",
    "\n",
    "t_stat, p_val = ttest_ind(group1, group2) \n",
    "print (f't_stat: {t_stat}, p-value: {p_val}')"
   ]
  },
  {
   "cell_type": "markdown",
   "id": "08df3309-0b19-4d40-a607-15722eecd50d",
   "metadata": {},
   "source": [
    "> p_val > $\\alpha$ -> insufficient evidence of a difference in means"
   ]
  },
  {
   "cell_type": "markdown",
   "id": "0a2aa775-3cee-408d-bde2-3a3619d20fe0",
   "metadata": {},
   "source": [
    "## One Way ANOVA\n",
    "\n",
    "Compares the means across multiple groups (more than 2)\n",
    "\n",
    "Assumptions: equal variances among the groups"
   ]
  },
  {
   "cell_type": "code",
   "execution_count": 88,
   "id": "df9c3d64-5f8a-4ad8-aa2b-c4787255ac3c",
   "metadata": {
    "execution": {
     "iopub.execute_input": "2024-08-05T16:03:15.934874Z",
     "iopub.status.busy": "2024-08-05T16:03:15.934163Z",
     "iopub.status.idle": "2024-08-05T16:03:15.951399Z",
     "shell.execute_reply": "2024-08-05T16:03:15.950555Z",
     "shell.execute_reply.started": "2024-08-05T16:03:15.934835Z"
    }
   },
   "outputs": [
    {
     "name": "stdout",
     "output_type": "stream",
     "text": [
      "F-statistic: 1.5270022393256704, p_val: 0.2188859009050602\n"
     ]
    }
   ],
   "source": [
    "from scipy.stats import f_oneway\n",
    "\n",
    "program_types = ['HIIT', 'Endurance', 'Strength']\n",
    "\n",
    "groups = [athletic_perf[athletic_perf['Training_Program'] == program]['Performance_Inc']\n",
    "          for program in program_types]\n",
    "\n",
    "f_stat, p_val = f_oneway(*groups)\n",
    "\n",
    "print(f'F-statistic: {f_stat}, p_val: {p_val}')"
   ]
  },
  {
   "cell_type": "markdown",
   "id": "e7a5d236-cc0d-41f7-b63c-ce0fbd2b9bc2",
   "metadata": {},
   "source": [
    "> p_val > $\\alpha$ -> insufficient evidence of a difference in means"
   ]
  },
  {
   "cell_type": "markdown",
   "id": "0e97156f-e2e6-42a3-9b6f-4a254ff16558",
   "metadata": {},
   "source": [
    "## $\\chi^2$ test of association\n",
    "\n",
    "Tests relationships between categorical values.\n",
    "\n",
    "It does not make assumtions about distributions of the data\n",
    "\n",
    "To prepare for the test, we print the crosstab by training program and diet_type"
   ]
  },
  {
   "cell_type": "code",
   "execution_count": 90,
   "id": "739fb0c6-430f-4224-8a2b-7bf83c3389e8",
   "metadata": {
    "execution": {
     "iopub.execute_input": "2024-08-05T16:06:45.884764Z",
     "iopub.status.busy": "2024-08-05T16:06:45.883613Z",
     "iopub.status.idle": "2024-08-05T16:06:45.915321Z",
     "shell.execute_reply": "2024-08-05T16:06:45.914456Z",
     "shell.execute_reply.started": "2024-08-05T16:06:45.884690Z"
    }
   },
   "outputs": [
    {
     "data": {
      "text/html": [
       "<div>\n",
       "<style scoped>\n",
       "    .dataframe tbody tr th:only-of-type {\n",
       "        vertical-align: middle;\n",
       "    }\n",
       "\n",
       "    .dataframe tbody tr th {\n",
       "        vertical-align: top;\n",
       "    }\n",
       "\n",
       "    .dataframe thead th {\n",
       "        text-align: right;\n",
       "    }\n",
       "</style>\n",
       "<table border=\"1\" class=\"dataframe\">\n",
       "  <thead>\n",
       "    <tr style=\"text-align: right;\">\n",
       "      <th>Diet_Type</th>\n",
       "      <th>High-Protein</th>\n",
       "      <th>Keto</th>\n",
       "      <th>Plant-Based</th>\n",
       "    </tr>\n",
       "    <tr>\n",
       "      <th>Training_Program</th>\n",
       "      <th></th>\n",
       "      <th></th>\n",
       "      <th></th>\n",
       "    </tr>\n",
       "  </thead>\n",
       "  <tbody>\n",
       "    <tr>\n",
       "      <th>Endurance</th>\n",
       "      <td>33</td>\n",
       "      <td>28</td>\n",
       "      <td>33</td>\n",
       "    </tr>\n",
       "    <tr>\n",
       "      <th>HIIT</th>\n",
       "      <td>27</td>\n",
       "      <td>32</td>\n",
       "      <td>40</td>\n",
       "    </tr>\n",
       "    <tr>\n",
       "      <th>Strength</th>\n",
       "      <td>38</td>\n",
       "      <td>29</td>\n",
       "      <td>40</td>\n",
       "    </tr>\n",
       "  </tbody>\n",
       "</table>\n",
       "</div>"
      ],
      "text/plain": [
       "Diet_Type         High-Protein  Keto  Plant-Based\n",
       "Training_Program                                 \n",
       "Endurance                   33    28           33\n",
       "HIIT                        27    32           40\n",
       "Strength                    38    29           40"
      ]
     },
     "execution_count": 90,
     "metadata": {},
     "output_type": "execute_result"
    }
   ],
   "source": [
    "from scipy.stats import chi2_contingency\n",
    "\n",
    "contingency_table = pd.crosstab(athletic_perf['Training_Program'], \n",
    "                               athletic_perf['Diet_Type'])\n",
    "\n",
    "contingency_table"
   ]
  },
  {
   "cell_type": "code",
   "execution_count": 91,
   "id": "ea994e7c-b3e1-4467-ae7c-bd48e4e372f4",
   "metadata": {
    "execution": {
     "iopub.execute_input": "2024-08-05T16:09:22.744347Z",
     "iopub.status.busy": "2024-08-05T16:09:22.743151Z",
     "iopub.status.idle": "2024-08-05T16:09:22.759768Z",
     "shell.execute_reply": "2024-08-05T16:09:22.757856Z",
     "shell.execute_reply.started": "2024-08-05T16:09:22.744269Z"
    }
   },
   "outputs": [
    {
     "name": "stdout",
     "output_type": "stream",
     "text": [
      "chi2 statistic: 2.154450885821988, p_value: 0.7073764021451127\n"
     ]
    }
   ],
   "source": [
    "chi2_stat, p_val, dof, expected = chi2_contingency(contingency_table)\n",
    "\n",
    "print(f'chi2 statistic: {chi2_stat}, p_value: {p_val}')"
   ]
  },
  {
   "cell_type": "markdown",
   "id": "e0c56b1a-60ef-424b-ac11-c4533cebfc77",
   "metadata": {
    "execution": {
     "iopub.execute_input": "2024-08-05T16:41:59.393773Z",
     "iopub.status.busy": "2024-08-05T16:41:59.392831Z",
     "iopub.status.idle": "2024-08-05T16:41:59.408353Z",
     "shell.execute_reply": "2024-08-05T16:41:59.406577Z",
     "shell.execute_reply.started": "2024-08-05T16:41:59.393721Z"
    }
   },
   "source": [
    "> p_val > $\\alpha$ -> insufficient evidence of an association"
   ]
  },
  {
   "cell_type": "markdown",
   "id": "a67698ea-059e-4af8-a576-5ddc8f3612fb",
   "metadata": {},
   "source": [
    "## Post-hoc analysis following ANOVA\n",
    "\n",
    "Post-hoc tests are pivotal when ANOVA reveals significant differences among groups. \n",
    "\n"
   ]
  }
 ],
 "metadata": {
  "kernelspec": {
   "display_name": "Python 3 (ipykernel)",
   "language": "python",
   "name": "python3"
  },
  "language_info": {
   "codemirror_mode": {
    "name": "ipython",
    "version": 3
   },
   "file_extension": ".py",
   "mimetype": "text/x-python",
   "name": "python",
   "nbconvert_exporter": "python",
   "pygments_lexer": "ipython3",
   "version": "3.12.4"
  }
 },
 "nbformat": 4,
 "nbformat_minor": 5
}
