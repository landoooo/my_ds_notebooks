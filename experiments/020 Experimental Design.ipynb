{
 "cells": [
  {
   "cell_type": "markdown",
   "id": "5fc2e5d9-27f8-4f01-b5f6-006c9d13af1d",
   "metadata": {},
   "source": [
    "# Experimental Design"
   ]
  },
  {
   "cell_type": "code",
   "execution_count": 76,
   "id": "5f580b35-c7ca-43be-b101-194dcbe72f90",
   "metadata": {
    "execution": {
     "iopub.execute_input": "2024-08-04T16:02:35.899272Z",
     "iopub.status.busy": "2024-08-04T16:02:35.898728Z",
     "iopub.status.idle": "2024-08-04T16:02:35.993544Z",
     "shell.execute_reply": "2024-08-04T16:02:35.993084Z",
     "shell.execute_reply.started": "2024-08-04T16:02:35.899237Z"
    }
   },
   "outputs": [],
   "source": [
    "import pandas as pd \n",
    "import numpy as np \n",
    "import seaborn as sns\n",
    "import warnings\n",
    "import matplotlib.pyplot as plt\n",
    "from statsmodels.formula.api import ols\n",
    "\n",
    "warnings.filterwarnings('ignore')"
   ]
  },
  {
   "cell_type": "markdown",
   "id": "6b005c62-99a7-4c42-bd2c-e213eaeb8509",
   "metadata": {},
   "source": [
    "Experimental design is the process in which we carry out research in an objective and controlled fashion. The purpose of this is to ensure we can make specific conclusions in reference to a hypothesis we have.\n",
    "\n",
    "https://www.sciencedirect.com/topics/earth-and-planetary-sciences/experimental-design\n",
    "\n",
    "Because we use objective tools, we need to use quantified language. Instead of using words like 'probably', 'likely', and 'small' when noting our conclusions, we should use precise and quantified language. This often takes the form of noting the percentage risk on a Type I error in the conclusion. \n",
    "\n",
    "Type I errors: we incorrectly reject the null hypothesis when it is actually true. \n",
    "\n",
    "## Terminology\n",
    "\n",
    "Subjects\n",
    ": What we are experimenting on\n",
    "\n",
    "Treatment\n",
    ": Some change given to one group\n",
    "\n",
    "Control group\n",
    ": The group not given any treatment\n",
    "\n",
    "## How to assign subjects to groups\n",
    "\n",
    "- Non Random (iloc with a range for instance)"
   ]
  },
  {
   "cell_type": "code",
   "execution_count": null,
   "id": "88fe498b-9547-4895-bcd5-a3e0517ca069",
   "metadata": {},
   "outputs": [],
   "source": [
    "df = pd.read_feather('../data/dem_votes_potus_12_16.feather')\n",
    "\n",
    "group1 = df.iloc[0:100]\n",
    "group2 = df.iloc[100:200]\n"
   ]
  },
  {
   "cell_type": "code",
   "execution_count": null,
   "id": "843bf591-c52a-4432-8900-41af0c1295c0",
   "metadata": {},
   "outputs": [],
   "source": [
    "group1.describe()"
   ]
  },
  {
   "cell_type": "code",
   "execution_count": null,
   "id": "0413b773-b7d7-4c47-a684-a5a4b1303673",
   "metadata": {},
   "outputs": [],
   "source": [
    "group2.describe()"
   ]
  },
  {
   "cell_type": "markdown",
   "id": "05dc665d-f7cd-485f-af7d-79588eae0aae",
   "metadata": {},
   "source": [
    "- Random (sample method for instance)"
   ]
  },
  {
   "cell_type": "code",
   "execution_count": null,
   "id": "e2c4a312-f3fc-4e43-9d20-f40b3101809d",
   "metadata": {},
   "outputs": [],
   "source": [
    "random_group1 = df.sample(frac=0.5)\n",
    "random_group1.describe()"
   ]
  },
  {
   "cell_type": "code",
   "execution_count": null,
   "id": "dfe35d41-5685-4832-8cac-9ca743be65af",
   "metadata": {},
   "outputs": [],
   "source": [
    "random_group2 = df.drop(random_group1.index)"
   ]
  },
  {
   "cell_type": "code",
   "execution_count": null,
   "id": "d7b08231-4a99-49de-ae7d-9d9e0e879c9c",
   "metadata": {},
   "outputs": [],
   "source": [
    "compare_df_rand = pd.concat([random_group1['dem_percent_12'].describe(), random_group2['dem_percent_12'].describe()], axis=1)\n",
    "compare_df_rand.columns = ['group1', 'group2']\n",
    "\n",
    "print(compare_df_rand)"
   ]
  },
  {
   "cell_type": "markdown",
   "id": "190f8515-c724-49a7-8f34-a8c8834a8738",
   "metadata": {
    "execution": {
     "iopub.execute_input": "2024-08-03T15:16:17.811886Z",
     "iopub.status.busy": "2024-08-03T15:16:17.811087Z",
     "iopub.status.idle": "2024-08-03T15:16:17.822205Z",
     "shell.execute_reply": "2024-08-03T15:16:17.820904Z",
     "shell.execute_reply.started": "2024-08-03T15:16:17.811840Z"
    }
   },
   "source": [
    "# Experimental data setup"
   ]
  },
  {
   "cell_type": "markdown",
   "id": "7bcf92bd-2137-4787-815c-86c8c1644e8c",
   "metadata": {},
   "source": [
    "Randomization is often the best technique for setting up experimental data, but it isnt always.\n",
    "\n",
    "## Scenarios where randomization could cause undesiderable outcomes\n",
    "\n",
    "### Uneven issue\n",
    "\n",
    "Different number of subjects in groups. Can be solved with block randomization.\n",
    "\n",
    "### Covariates\n",
    "\n",
    "Covariates are variables that potentially affect experiment results but aren't the primary focus. If covariates are highly variable or not equally distributed among groups, randomization might not produce balanced groups. This imbalance can lead to biased results. Overall these make it harder to see an effect from a treatment, as these issues may be driving an observed change."
   ]
  },
  {
   "cell_type": "code",
   "execution_count": null,
   "id": "0fd6c8e9-d2cd-41a2-9556-a99154327d1a",
   "metadata": {},
   "outputs": [],
   "source": [
    "group1 = df.sample(frac=0.5, replace=False)\n",
    "group1['Block']=1\n",
    "\n",
    "group2 = df.drop(group1.index)\n",
    "group2['Block']=2\n",
    "\n",
    "print(len(group1), len(group2))"
   ]
  },
  {
   "cell_type": "markdown",
   "id": "5b5d11c0-fbc9-4295-8794-47bd4e203d4c",
   "metadata": {},
   "source": [
    "But does this technique eliminates the covariate issue?\n",
    "\n",
    "A nice way of checking for potential covariate issues is with visualizations."
   ]
  },
  {
   "cell_type": "code",
   "execution_count": null,
   "id": "3359d3a8-26b6-4e88-93f0-ee797db000d6",
   "metadata": {},
   "outputs": [],
   "source": [
    "sns.displot(data=df, x='dem_percent_12', fill=True, kind='kde'\n",
    "            # , hue=''\n",
    "           )"
   ]
  },
  {
   "cell_type": "markdown",
   "id": "42a5427d-94af-4d4e-b85f-0b058f5a7a92",
   "metadata": {
    "execution": {
     "iopub.execute_input": "2024-08-03T15:57:13.085219Z",
     "iopub.status.busy": "2024-08-03T15:57:13.084292Z",
     "iopub.status.idle": "2024-08-03T15:57:13.098714Z",
     "shell.execute_reply": "2024-08-03T15:57:13.096956Z",
     "shell.execute_reply.started": "2024-08-03T15:57:13.085172Z"
    }
   },
   "source": [
    "Not with this dataset, but it could happen that based on a second feature, thmere is quite a difference in the group distributions. When an effect could be because of a variable rather than the treatment, this is often called **confounding**. The covariate issue can be solved with stratified randomization.\n",
    "\n",
    "### Stratified randomization\n",
    "\n",
    "Stratified randomization involves splitting based on a potentially confounding variable first, followed by randomization\n"
   ]
  },
  {
   "cell_type": "markdown",
   "id": "0c0a4c21-a13c-44e1-8970-90dfe1cf7d14",
   "metadata": {},
   "source": [
    "# Normal Data\n",
    "\n",
    "Normal data is drawn from a normal distribution\n",
    "\n",
    "The normal distribution is related to z-scores\n",
    "\n",
    "$$z = \\frac{ x - \\mu}{ \\sigma }$$\n",
    "\n",
    "The most common normal distribution is the standard one, having $\\mu$=0 and $\\sigma$=0\n",
    "\n",
    "The normal distribution is behind many of the statistical **parametric** tests. There are alse **non parametric** tests that dont assume normal data.\n",
    "\n",
    "To visually check if a dataset follow a normal distribution we can plot the kde\n",
    "\n",
    "Another visual tool are the qqplots, that compare "
   ]
  },
  {
   "cell_type": "code",
   "execution_count": null,
   "id": "16efeb58-6bb3-4282-a564-fda1ae3c8203",
   "metadata": {},
   "outputs": [],
   "source": [
    "df = pd.read_csv('../data/chick_weight.csv')\n",
    "\n",
    "df.info()"
   ]
  },
  {
   "cell_type": "code",
   "execution_count": null,
   "id": "e16a0f2f-fa62-49d3-afda-c8d075130992",
   "metadata": {},
   "outputs": [],
   "source": [
    "n_rows=2\n",
    "n_cols=2\n",
    "# Create the subplots\n",
    "fig, axes = plt.subplots(nrows=n_rows, ncols=n_cols)\n",
    "\n",
    "for i, column in enumerate(df.columns):\n",
    "    sns.distplot(df[column],ax=axes[i//n_cols,i%n_cols])\n"
   ]
  },
  {
   "cell_type": "code",
   "execution_count": null,
   "id": "3df74626-3efe-46db-a46c-4464345be8ba",
   "metadata": {},
   "outputs": [],
   "source": [
    "qqplot(data=df.weight, line='s')\n",
    "plt.show()"
   ]
  },
  {
   "cell_type": "code",
   "execution_count": null,
   "id": "fa4102bb-aa69-4ca6-b4c9-796b212dd876",
   "metadata": {},
   "outputs": [],
   "source": [
    "from statsmodels.graphics.gofplots import qqplot\n",
    "from scipy.stats.distributions import norm\n",
    "\n",
    "qqplot(df['weight'], \n",
    "       line='s', \n",
    "       dist=norm\n",
    "      ) \n",
    "plt.show()"
   ]
  },
  {
   "cell_type": "code",
   "execution_count": null,
   "id": "11e2dfc6-79cb-4fda-b8fd-ce9168732e73",
   "metadata": {},
   "outputs": [],
   "source": [
    "# Subset the data\n",
    "subset_data = df[df['Time'] == 2]\n",
    "\n",
    "# Repeat the plotting\n",
    "sns.displot(data=df, x='weight', kind=\"kde\")\n",
    "plt.show()"
   ]
  },
  {
   "cell_type": "markdown",
   "id": "d5cd7e9e-5c66-4519-9bbb-88121d0fa90a",
   "metadata": {},
   "source": [
    "- ideally, the dots should follow the line\n",
    "- bad: bow out at the ends\n",
    "\n",
    "Other tests for normality: \n",
    "- Shapiro-Wilk: good for smaller datasets\n",
    "- D'Agostino $K^2$ (uses curtosis and skewness\n",
    "- Anderson-Darling returns a list of values\n",
    "\n",
    "For all these, the $H<sub>0</sub>$ is \"data is drawn from a Normal distribution\""
   ]
  },
  {
   "cell_type": "markdown",
   "id": "48433ed7-19ba-479a-b247-bdd7243f33ff",
   "metadata": {},
   "source": [
    "# A Shapiro Wilk test\n",
    "from scipy.stats import shapiro\n",
    "\n",
    "alpha = 0.05\n",
    "stat, p = shapiro(df.weight)\n",
    "print(f'p:{round(p,4)} test stat: {round(stat, 4)}')\n"
   ]
  },
  {
   "cell_type": "code",
   "execution_count": null,
   "id": "189f8614-a424-42c0-b0dc-95a4b2f141f7",
   "metadata": {},
   "outputs": [],
   "source": [
    "# A Anderson Darling test\n",
    "from scipy.stats import anderson\n",
    "\n",
    "alpha = 0.05\n",
    "result = anderson(x = df.weight, dist=\"norm\")\n",
    "print(round(result.statistic,4))\n",
    "print(result.significance_level)\n",
    "print(result.critical_values)"
   ]
  },
  {
   "cell_type": "markdown",
   "id": "20a317d4-8251-42b8-bac4-133fc83c7084",
   "metadata": {},
   "source": [
    "# Factorial Design\n",
    "\n",
    "Factorial designs study multiple independent variables/factors in one experiment\n",
    "\n",
    "They test every combination of factor levels. It discovers direct effects and interactions between factors\n"
   ]
  },
  {
   "cell_type": "code",
   "execution_count": 54,
   "id": "e2a2f7e0-ba47-4843-be1e-a1623b0d32af",
   "metadata": {
    "execution": {
     "iopub.execute_input": "2024-08-04T07:21:14.501562Z",
     "iopub.status.busy": "2024-08-04T07:21:14.499848Z",
     "iopub.status.idle": "2024-08-04T07:21:14.524611Z",
     "shell.execute_reply": "2024-08-04T07:21:14.523731Z",
     "shell.execute_reply.started": "2024-08-04T07:21:14.501468Z"
    }
   },
   "outputs": [],
   "source": [
    "marketing_data = pd.read_feather('../data/marketing_data.feather')"
   ]
  },
  {
   "cell_type": "code",
   "execution_count": 55,
   "id": "fc36da4b-fde1-4e9f-bedc-ad0f3b5b73ff",
   "metadata": {
    "execution": {
     "iopub.execute_input": "2024-08-04T07:21:14.898087Z",
     "iopub.status.busy": "2024-08-04T07:21:14.897092Z",
     "iopub.status.idle": "2024-08-04T07:21:14.976610Z",
     "shell.execute_reply": "2024-08-04T07:21:14.972166Z",
     "shell.execute_reply.started": "2024-08-04T07:21:14.898015Z"
    }
   },
   "outputs": [
    {
     "name": "stdout",
     "output_type": "stream",
     "text": [
      "Time_of_Day         Evening     Morning\n",
      "Messaging_Style                        \n",
      "Casual           402.329004  401.133891\n",
      "Formal           432.913043  411.096000\n"
     ]
    }
   ],
   "source": [
    "# Create a pivot table for marketing campaign data\n",
    "marketing_pivot = marketing_data.pivot_table(\n",
    "  values='Conversions', \n",
    "  index='Messaging_Style', \n",
    "  columns='Time_of_Day', \n",
    "  aggfunc='mean')\n",
    "\n",
    "# View the pivoted results\n",
    "print(marketing_pivot)"
   ]
  },
  {
   "cell_type": "code",
   "execution_count": 56,
   "id": "4240b55f-5c12-4046-b9c1-657b05b464c6",
   "metadata": {
    "execution": {
     "iopub.execute_input": "2024-08-04T07:26:19.975253Z",
     "iopub.status.busy": "2024-08-04T07:26:19.974451Z",
     "iopub.status.idle": "2024-08-04T07:26:20.102810Z",
     "shell.execute_reply": "2024-08-04T07:26:20.102170Z",
     "shell.execute_reply.started": "2024-08-04T07:26:19.975210Z"
    }
   },
   "outputs": [
    {
     "data": {
      "image/png": "[encoded data removed]",
      "text/plain": [
       "<Figure size 640x480 with 2 Axes>"
      ]
     },
     "metadata": {},
     "output_type": "display_data"
    }
   ],
   "source": [
    "# Visualize interactions with a heatmap\n",
    "sns.heatmap(marketing_pivot, \n",
    "         annot=True, \n",
    "         cmap='coolwarm',\n",
    "         fmt='g')\n",
    "\n",
    "plt.show()"
   ]
  },
  {
   "cell_type": "markdown",
   "id": "1a409b18-abb0-4acf-97eb-e75baabcbc6c",
   "metadata": {},
   "source": [
    "The biggest change is registered in the evening messages from casual to formal."
   ]
  },
  {
   "cell_type": "markdown",
   "id": "ced64364-6497-4985-9921-8461e5b065c1",
   "metadata": {
    "execution": {
     "iopub.execute_input": "2024-08-04T07:18:02.181075Z",
     "iopub.status.busy": "2024-08-04T07:18:02.179977Z",
     "iopub.status.idle": "2024-08-04T07:18:02.193060Z",
     "shell.execute_reply": "2024-08-04T07:18:02.191621Z",
     "shell.execute_reply.started": "2024-08-04T07:18:02.180995Z"
    }
   },
   "source": [
    "### Factorial designs\n",
    "- Multiple treatments and interactions\n",
    "- Dissect complex multi variable effects and interactions\n",
    "- Can require more subjects\n",
    "\n",
    "### Block Designs\n",
    "- Group similar subjects in randomized designs\n",
    "- Control within-block variance\n",
    "- Each treatment is tested within every block\n",
    "\n",
    "# Randomized block design\n",
    "\n",
    "Blocking involves grouping experimental units, often with similar characteristics, to minimize variance within these groups\n",
    "Each block, representing a specific level of the blocking factor, receives every treatment. "
   ]
  },
  {
   "cell_type": "code",
   "execution_count": 61,
   "id": "2a73f0c7-5b72-43b1-b46d-2e63e4ef7b4a",
   "metadata": {
    "execution": {
     "iopub.execute_input": "2024-08-04T07:57:59.413145Z",
     "iopub.status.busy": "2024-08-04T07:57:59.412381Z",
     "iopub.status.idle": "2024-08-04T07:57:59.438591Z",
     "shell.execute_reply": "2024-08-04T07:57:59.437809Z",
     "shell.execute_reply.started": "2024-08-04T07:57:59.413101Z"
    }
   },
   "outputs": [
    {
     "data": {
      "text/html": [
       "<div>\n",
       "<style scoped>\n",
       "    .dataframe tbody tr th:only-of-type {\n",
       "        vertical-align: middle;\n",
       "    }\n",
       "\n",
       "    .dataframe tbody tr th {\n",
       "        vertical-align: top;\n",
       "    }\n",
       "\n",
       "    .dataframe thead th {\n",
       "        text-align: right;\n",
       "    }\n",
       "</style>\n",
       "<table border=\"1\" class=\"dataframe\">\n",
       "  <thead>\n",
       "    <tr style=\"text-align: right;\">\n",
       "      <th></th>\n",
       "      <th>Athlete_ID</th>\n",
       "      <th>Training_Program</th>\n",
       "      <th>Diet_Type</th>\n",
       "      <th>Initial_Fitness</th>\n",
       "      <th>Performance_Inc</th>\n",
       "    </tr>\n",
       "  </thead>\n",
       "  <tbody>\n",
       "    <tr>\n",
       "      <th>0</th>\n",
       "      <td>1</td>\n",
       "      <td>Strength</td>\n",
       "      <td>Keto</td>\n",
       "      <td>Low</td>\n",
       "      <td>8.749524</td>\n",
       "    </tr>\n",
       "    <tr>\n",
       "      <th>1</th>\n",
       "      <td>2</td>\n",
       "      <td>HIIT</td>\n",
       "      <td>Plant-Based</td>\n",
       "      <td>High</td>\n",
       "      <td>9.452781</td>\n",
       "    </tr>\n",
       "    <tr>\n",
       "      <th>2</th>\n",
       "      <td>3</td>\n",
       "      <td>Strength</td>\n",
       "      <td>Plant-Based</td>\n",
       "      <td>Low</td>\n",
       "      <td>13.928506</td>\n",
       "    </tr>\n",
       "    <tr>\n",
       "      <th>3</th>\n",
       "      <td>4</td>\n",
       "      <td>Strength</td>\n",
       "      <td>Plant-Based</td>\n",
       "      <td>High</td>\n",
       "      <td>9.605557</td>\n",
       "    </tr>\n",
       "    <tr>\n",
       "      <th>4</th>\n",
       "      <td>5</td>\n",
       "      <td>HIIT</td>\n",
       "      <td>Plant-Based</td>\n",
       "      <td>Low</td>\n",
       "      <td>7.547894</td>\n",
       "    </tr>\n",
       "    <tr>\n",
       "      <th>...</th>\n",
       "      <td>...</td>\n",
       "      <td>...</td>\n",
       "      <td>...</td>\n",
       "      <td>...</td>\n",
       "      <td>...</td>\n",
       "    </tr>\n",
       "    <tr>\n",
       "      <th>295</th>\n",
       "      <td>296</td>\n",
       "      <td>Endurance</td>\n",
       "      <td>Plant-Based</td>\n",
       "      <td>Medium</td>\n",
       "      <td>9.438768</td>\n",
       "    </tr>\n",
       "    <tr>\n",
       "      <th>296</th>\n",
       "      <td>297</td>\n",
       "      <td>Endurance</td>\n",
       "      <td>Keto</td>\n",
       "      <td>Low</td>\n",
       "      <td>10.749170</td>\n",
       "    </tr>\n",
       "    <tr>\n",
       "      <th>297</th>\n",
       "      <td>298</td>\n",
       "      <td>Endurance</td>\n",
       "      <td>Plant-Based</td>\n",
       "      <td>Medium</td>\n",
       "      <td>7.902343</td>\n",
       "    </tr>\n",
       "    <tr>\n",
       "      <th>298</th>\n",
       "      <td>299</td>\n",
       "      <td>Endurance</td>\n",
       "      <td>Keto</td>\n",
       "      <td>Medium</td>\n",
       "      <td>5.761285</td>\n",
       "    </tr>\n",
       "    <tr>\n",
       "      <th>299</th>\n",
       "      <td>300</td>\n",
       "      <td>Endurance</td>\n",
       "      <td>Plant-Based</td>\n",
       "      <td>Low</td>\n",
       "      <td>9.298269</td>\n",
       "    </tr>\n",
       "  </tbody>\n",
       "</table>\n",
       "<p>300 rows × 5 columns</p>\n",
       "</div>"
      ],
      "text/plain": [
       "     Athlete_ID Training_Program    Diet_Type Initial_Fitness  Performance_Inc\n",
       "0             1         Strength         Keto             Low         8.749524\n",
       "1             2             HIIT  Plant-Based            High         9.452781\n",
       "2             3         Strength  Plant-Based             Low        13.928506\n",
       "3             4         Strength  Plant-Based            High         9.605557\n",
       "4             5             HIIT  Plant-Based             Low         7.547894\n",
       "..          ...              ...          ...             ...              ...\n",
       "295         296        Endurance  Plant-Based          Medium         9.438768\n",
       "296         297        Endurance         Keto             Low        10.749170\n",
       "297         298        Endurance  Plant-Based          Medium         7.902343\n",
       "298         299        Endurance         Keto          Medium         5.761285\n",
       "299         300        Endurance  Plant-Based             Low         9.298269\n",
       "\n",
       "[300 rows x 5 columns]"
      ]
     },
     "execution_count": 61,
     "metadata": {},
     "output_type": "execute_result"
    }
   ],
   "source": [
    "athletes = pd.read_csv('../data/athletic_perf.csv')\n",
    "athletes"
   ]
  },
  {
   "cell_type": "markdown",
   "id": "58cb848e-3e96-4e80-9e54-ab2b4daa520c",
   "metadata": {},
   "source": [
    "To implement a randomized block design, we'll group the rows into blocks based on an initial feature, shuffle the rows within these blocks, and randomly assign a treatment."
   ]
  },
  {
   "cell_type": "code",
   "execution_count": 63,
   "id": "86d3b62b-fd08-41ae-9404-ff659986750b",
   "metadata": {
    "execution": {
     "iopub.execute_input": "2024-08-04T07:59:30.670136Z",
     "iopub.status.busy": "2024-08-04T07:59:30.668957Z",
     "iopub.status.idle": "2024-08-04T07:59:30.697498Z",
     "shell.execute_reply": "2024-08-04T07:59:30.696720Z",
     "shell.execute_reply.started": "2024-08-04T07:59:30.670055Z"
    }
   },
   "outputs": [
    {
     "data": {
      "text/html": [
       "<div>\n",
       "<style scoped>\n",
       "    .dataframe tbody tr th:only-of-type {\n",
       "        vertical-align: middle;\n",
       "    }\n",
       "\n",
       "    .dataframe tbody tr th {\n",
       "        vertical-align: top;\n",
       "    }\n",
       "\n",
       "    .dataframe thead th {\n",
       "        text-align: right;\n",
       "    }\n",
       "</style>\n",
       "<table border=\"1\" class=\"dataframe\">\n",
       "  <thead>\n",
       "    <tr style=\"text-align: right;\">\n",
       "      <th></th>\n",
       "      <th>Athlete_ID</th>\n",
       "      <th>Training_Program</th>\n",
       "      <th>Diet_Type</th>\n",
       "      <th>Initial_Fitness</th>\n",
       "      <th>Performance_Inc</th>\n",
       "    </tr>\n",
       "  </thead>\n",
       "  <tbody>\n",
       "    <tr>\n",
       "      <th>0</th>\n",
       "      <td>18</td>\n",
       "      <td>Endurance</td>\n",
       "      <td>High-Protein</td>\n",
       "      <td>High</td>\n",
       "      <td>11.302130</td>\n",
       "    </tr>\n",
       "    <tr>\n",
       "      <th>1</th>\n",
       "      <td>264</td>\n",
       "      <td>Strength</td>\n",
       "      <td>Keto</td>\n",
       "      <td>High</td>\n",
       "      <td>9.993298</td>\n",
       "    </tr>\n",
       "    <tr>\n",
       "      <th>2</th>\n",
       "      <td>9</td>\n",
       "      <td>Strength</td>\n",
       "      <td>Keto</td>\n",
       "      <td>High</td>\n",
       "      <td>11.599382</td>\n",
       "    </tr>\n",
       "    <tr>\n",
       "      <th>3</th>\n",
       "      <td>199</td>\n",
       "      <td>Endurance</td>\n",
       "      <td>High-Protein</td>\n",
       "      <td>High</td>\n",
       "      <td>8.872467</td>\n",
       "    </tr>\n",
       "    <tr>\n",
       "      <th>4</th>\n",
       "      <td>151</td>\n",
       "      <td>Endurance</td>\n",
       "      <td>Plant-Based</td>\n",
       "      <td>High</td>\n",
       "      <td>7.530111</td>\n",
       "    </tr>\n",
       "    <tr>\n",
       "      <th>...</th>\n",
       "      <td>...</td>\n",
       "      <td>...</td>\n",
       "      <td>...</td>\n",
       "      <td>...</td>\n",
       "      <td>...</td>\n",
       "    </tr>\n",
       "    <tr>\n",
       "      <th>295</th>\n",
       "      <td>210</td>\n",
       "      <td>HIIT</td>\n",
       "      <td>Plant-Based</td>\n",
       "      <td>Medium</td>\n",
       "      <td>5.651353</td>\n",
       "    </tr>\n",
       "    <tr>\n",
       "      <th>296</th>\n",
       "      <td>7</td>\n",
       "      <td>Strength</td>\n",
       "      <td>Plant-Based</td>\n",
       "      <td>Medium</td>\n",
       "      <td>10.356257</td>\n",
       "    </tr>\n",
       "    <tr>\n",
       "      <th>297</th>\n",
       "      <td>230</td>\n",
       "      <td>Strength</td>\n",
       "      <td>Plant-Based</td>\n",
       "      <td>Medium</td>\n",
       "      <td>11.916508</td>\n",
       "    </tr>\n",
       "    <tr>\n",
       "      <th>298</th>\n",
       "      <td>286</td>\n",
       "      <td>Strength</td>\n",
       "      <td>Plant-Based</td>\n",
       "      <td>Medium</td>\n",
       "      <td>10.864617</td>\n",
       "    </tr>\n",
       "    <tr>\n",
       "      <th>299</th>\n",
       "      <td>133</td>\n",
       "      <td>HIIT</td>\n",
       "      <td>Plant-Based</td>\n",
       "      <td>Medium</td>\n",
       "      <td>11.436197</td>\n",
       "    </tr>\n",
       "  </tbody>\n",
       "</table>\n",
       "<p>300 rows × 5 columns</p>\n",
       "</div>"
      ],
      "text/plain": [
       "     Athlete_ID Training_Program     Diet_Type Initial_Fitness  \\\n",
       "0            18        Endurance  High-Protein            High   \n",
       "1           264         Strength          Keto            High   \n",
       "2             9         Strength          Keto            High   \n",
       "3           199        Endurance  High-Protein            High   \n",
       "4           151        Endurance   Plant-Based            High   \n",
       "..          ...              ...           ...             ...   \n",
       "295         210             HIIT   Plant-Based          Medium   \n",
       "296           7         Strength   Plant-Based          Medium   \n",
       "297         230         Strength   Plant-Based          Medium   \n",
       "298         286         Strength   Plant-Based          Medium   \n",
       "299         133             HIIT   Plant-Based          Medium   \n",
       "\n",
       "     Performance_Inc  \n",
       "0          11.302130  \n",
       "1           9.993298  \n",
       "2          11.599382  \n",
       "3           8.872467  \n",
       "4           7.530111  \n",
       "..               ...  \n",
       "295         5.651353  \n",
       "296        10.356257  \n",
       "297        11.916508  \n",
       "298        10.864617  \n",
       "299        11.436197  \n",
       "\n",
       "[300 rows x 5 columns]"
      ]
     },
     "execution_count": 63,
     "metadata": {},
     "output_type": "execute_result"
    }
   ],
   "source": [
    "blocks = athletes.groupby('Initial_Fitness').apply(\n",
    "    # Lets shuffle each block\n",
    "    lambda x:x.sample(frac=1)\n",
    ")\n",
    "blocks = blocks.reset_index(drop=True)\n",
    "blocks"
   ]
  },
  {
   "cell_type": "code",
   "execution_count": 65,
   "id": "338aa7ec-bc59-4c14-86c0-605f46b631b5",
   "metadata": {
    "execution": {
     "iopub.execute_input": "2024-08-04T08:01:51.436517Z",
     "iopub.status.busy": "2024-08-04T08:01:51.435317Z",
     "iopub.status.idle": "2024-08-04T08:01:51.457327Z",
     "shell.execute_reply": "2024-08-04T08:01:51.456457Z",
     "shell.execute_reply.started": "2024-08-04T08:01:51.436441Z"
    }
   },
   "outputs": [
    {
     "data": {
      "text/html": [
       "<div>\n",
       "<style scoped>\n",
       "    .dataframe tbody tr th:only-of-type {\n",
       "        vertical-align: middle;\n",
       "    }\n",
       "\n",
       "    .dataframe tbody tr th {\n",
       "        vertical-align: top;\n",
       "    }\n",
       "\n",
       "    .dataframe thead th {\n",
       "        text-align: right;\n",
       "    }\n",
       "</style>\n",
       "<table border=\"1\" class=\"dataframe\">\n",
       "  <thead>\n",
       "    <tr style=\"text-align: right;\">\n",
       "      <th></th>\n",
       "      <th>Athlete_ID</th>\n",
       "      <th>Training_Program</th>\n",
       "      <th>Diet_Type</th>\n",
       "      <th>Initial_Fitness</th>\n",
       "      <th>Performance_Inc</th>\n",
       "      <th>Treatment</th>\n",
       "    </tr>\n",
       "  </thead>\n",
       "  <tbody>\n",
       "    <tr>\n",
       "      <th>0</th>\n",
       "      <td>18</td>\n",
       "      <td>Endurance</td>\n",
       "      <td>High-Protein</td>\n",
       "      <td>High</td>\n",
       "      <td>11.302130</td>\n",
       "      <td>Cardio</td>\n",
       "    </tr>\n",
       "    <tr>\n",
       "      <th>1</th>\n",
       "      <td>264</td>\n",
       "      <td>Strength</td>\n",
       "      <td>Keto</td>\n",
       "      <td>High</td>\n",
       "      <td>9.993298</td>\n",
       "      <td>Mixed</td>\n",
       "    </tr>\n",
       "    <tr>\n",
       "      <th>2</th>\n",
       "      <td>9</td>\n",
       "      <td>Strength</td>\n",
       "      <td>Keto</td>\n",
       "      <td>High</td>\n",
       "      <td>11.599382</td>\n",
       "      <td>Mixed</td>\n",
       "    </tr>\n",
       "    <tr>\n",
       "      <th>3</th>\n",
       "      <td>199</td>\n",
       "      <td>Endurance</td>\n",
       "      <td>High-Protein</td>\n",
       "      <td>High</td>\n",
       "      <td>8.872467</td>\n",
       "      <td>Strength Training</td>\n",
       "    </tr>\n",
       "    <tr>\n",
       "      <th>4</th>\n",
       "      <td>151</td>\n",
       "      <td>Endurance</td>\n",
       "      <td>Plant-Based</td>\n",
       "      <td>High</td>\n",
       "      <td>7.530111</td>\n",
       "      <td>Strength Training</td>\n",
       "    </tr>\n",
       "  </tbody>\n",
       "</table>\n",
       "</div>"
      ],
      "text/plain": [
       "   Athlete_ID Training_Program     Diet_Type Initial_Fitness  Performance_Inc  \\\n",
       "0          18        Endurance  High-Protein            High        11.302130   \n",
       "1         264         Strength          Keto            High         9.993298   \n",
       "2           9         Strength          Keto            High        11.599382   \n",
       "3         199        Endurance  High-Protein            High         8.872467   \n",
       "4         151        Endurance   Plant-Based            High         7.530111   \n",
       "\n",
       "           Treatment  \n",
       "0             Cardio  \n",
       "1              Mixed  \n",
       "2              Mixed  \n",
       "3  Strength Training  \n",
       "4  Strength Training  "
      ]
     },
     "execution_count": 65,
     "metadata": {},
     "output_type": "execute_result"
    }
   ],
   "source": [
    "# Now, within each block, we assign exercise program randomly\n",
    "blocks['Treatment'] = np.random.choice(\n",
    "    ['Cardio', 'Strength Training', 'Mixed'], \n",
    "    size=len(blocks)\n",
    ")\n",
    "\n",
    "blocks.head()"
   ]
  },
  {
   "cell_type": "code",
   "execution_count": 67,
   "id": "420ba328-7d6c-4799-b94b-4ac8870d2be7",
   "metadata": {
    "execution": {
     "iopub.execute_input": "2024-08-04T08:03:07.607777Z",
     "iopub.status.busy": "2024-08-04T08:03:07.606558Z",
     "iopub.status.idle": "2024-08-04T08:03:07.923318Z",
     "shell.execute_reply": "2024-08-04T08:03:07.922899Z",
     "shell.execute_reply.started": "2024-08-04T08:03:07.607700Z"
    }
   },
   "outputs": [
    {
     "data": {
      "text/plain": [
       "<Axes: xlabel='Initial_Fitness', ylabel='Performance_Inc'>"
      ]
     },
     "execution_count": 67,
     "metadata": {},
     "output_type": "execute_result"
    },
    {
     "data": {
      "image/png": "[encoded data removed]",
      "text/plain": [
       "<Figure size 640x480 with 1 Axes>"
      ]
     },
     "metadata": {},
     "output_type": "display_data"
    }
   ],
   "source": [
    "# A boxplot is an effective tool for visualizing the distribution of treatment effects across different blocks \n",
    "\n",
    "sns.boxplot(x='Initial_Fitness', y='Performance_Inc', hue='Treatment', data=blocks)"
   ]
  },
  {
   "cell_type": "markdown",
   "id": "31e3ff47-5ca1-4a90-8c18-44a7752ae14d",
   "metadata": {},
   "source": [
    "We can use ANOVA to statistically check for these differences."
   ]
  },
  {
   "cell_type": "code",
   "execution_count": 69,
   "id": "12e32115-e505-4684-a8d8-70212f843be3",
   "metadata": {
    "execution": {
     "iopub.execute_input": "2024-08-04T08:07:52.629465Z",
     "iopub.status.busy": "2024-08-04T08:07:52.628573Z",
     "iopub.status.idle": "2024-08-04T08:07:52.654512Z",
     "shell.execute_reply": "2024-08-04T08:07:52.653971Z",
     "shell.execute_reply.started": "2024-08-04T08:07:52.629399Z"
    }
   },
   "outputs": [
    {
     "data": {
      "text/plain": [
       "Initial_Fitness\n",
       "High        (0.3991565409997103, 0.6721365414897893)\n",
       "Low         (0.4299987443000486, 0.6515985972727005)\n",
       "Medium    (0.026995319447116313, 0.9733731835966434)\n",
       "dtype: object"
      ]
     },
     "execution_count": 69,
     "metadata": {},
     "output_type": "execute_result"
    }
   ],
   "source": [
    "alpha=0.05\n",
    "\n",
    "from scipy.stats import f_oneway\n",
    "\n",
    "blocks.groupby(\"Initial_Fitness\").apply(\n",
    "    lambda x: f_oneway(x[x['Treatment']== 'Cardio']['Performance_Inc'],\n",
    "                       x[x['Treatment']== 'Mixed']['Performance_Inc'], \n",
    "                       x[x['Treatment']== 'Strength Training']['Performance_Inc'], \n",
    "                      )\n",
    ")"
   ]
  },
  {
   "cell_type": "markdown",
   "id": "6ce7c977-4915-432b-96ed-cb42c01a7984",
   "metadata": {},
   "source": [
    "# Covariate adjustment in experimental design\n",
    "\n",
    "Covariates are variables that are not of primary interest but are related to the outcome variable and can influence its analysis. Including covariates in statistical analyses is crucial for reducing confounding, which occurs when an external variable influences both the dependent variable and independent variable(s).\n",
    "\n",
    "By adjusting for covariates researchers can isolate the effect of the independent variable on the outcome, minimizing the influence of confounders.\n",
    "\n",
    "Like that, the analysis better reflects the true effect by isolating it from the influence of covariates.\n",
    "\n"
   ]
  },
  {
   "cell_type": "code",
   "execution_count": 72,
   "id": "bb1817e0-0f7f-4692-80fd-d4c41a0bf4bc",
   "metadata": {
    "execution": {
     "iopub.execute_input": "2024-08-04T16:00:24.985070Z",
     "iopub.status.busy": "2024-08-04T16:00:24.984036Z",
     "iopub.status.idle": "2024-08-04T16:00:25.002618Z",
     "shell.execute_reply": "2024-08-04T16:00:25.001814Z",
     "shell.execute_reply.started": "2024-08-04T16:00:24.985024Z"
    }
   },
   "outputs": [],
   "source": [
    "exp_chick_data = pd.read_csv('../data/chick_weight.csv')\n",
    "cov_chick_data = pd.read_csv('../data/chick_cov.csv')\n"
   ]
  },
  {
   "cell_type": "code",
   "execution_count": 73,
   "id": "c92a6225-b350-4a83-9062-7b8ef01c8e4e",
   "metadata": {
    "execution": {
     "iopub.execute_input": "2024-08-04T16:00:31.870501Z",
     "iopub.status.busy": "2024-08-04T16:00:31.869225Z",
     "iopub.status.idle": "2024-08-04T16:00:31.889632Z",
     "shell.execute_reply": "2024-08-04T16:00:31.888941Z",
     "shell.execute_reply.started": "2024-08-04T16:00:31.870418Z"
    }
   },
   "outputs": [
    {
     "data": {
      "text/html": [
       "<div>\n",
       "<style scoped>\n",
       "    .dataframe tbody tr th:only-of-type {\n",
       "        vertical-align: middle;\n",
       "    }\n",
       "\n",
       "    .dataframe tbody tr th {\n",
       "        vertical-align: top;\n",
       "    }\n",
       "\n",
       "    .dataframe thead th {\n",
       "        text-align: right;\n",
       "    }\n",
       "</style>\n",
       "<table border=\"1\" class=\"dataframe\">\n",
       "  <thead>\n",
       "    <tr style=\"text-align: right;\">\n",
       "      <th></th>\n",
       "      <th>weight</th>\n",
       "      <th>Time</th>\n",
       "      <th>Chick</th>\n",
       "      <th>Diet</th>\n",
       "    </tr>\n",
       "  </thead>\n",
       "  <tbody>\n",
       "    <tr>\n",
       "      <th>0</th>\n",
       "      <td>42</td>\n",
       "      <td>0</td>\n",
       "      <td>1</td>\n",
       "      <td>1</td>\n",
       "    </tr>\n",
       "    <tr>\n",
       "      <th>1</th>\n",
       "      <td>51</td>\n",
       "      <td>2</td>\n",
       "      <td>1</td>\n",
       "      <td>1</td>\n",
       "    </tr>\n",
       "    <tr>\n",
       "      <th>2</th>\n",
       "      <td>59</td>\n",
       "      <td>4</td>\n",
       "      <td>1</td>\n",
       "      <td>1</td>\n",
       "    </tr>\n",
       "    <tr>\n",
       "      <th>3</th>\n",
       "      <td>64</td>\n",
       "      <td>6</td>\n",
       "      <td>1</td>\n",
       "      <td>1</td>\n",
       "    </tr>\n",
       "    <tr>\n",
       "      <th>4</th>\n",
       "      <td>76</td>\n",
       "      <td>8</td>\n",
       "      <td>1</td>\n",
       "      <td>1</td>\n",
       "    </tr>\n",
       "    <tr>\n",
       "      <th>...</th>\n",
       "      <td>...</td>\n",
       "      <td>...</td>\n",
       "      <td>...</td>\n",
       "      <td>...</td>\n",
       "    </tr>\n",
       "    <tr>\n",
       "      <th>573</th>\n",
       "      <td>175</td>\n",
       "      <td>14</td>\n",
       "      <td>50</td>\n",
       "      <td>4</td>\n",
       "    </tr>\n",
       "    <tr>\n",
       "      <th>574</th>\n",
       "      <td>205</td>\n",
       "      <td>16</td>\n",
       "      <td>50</td>\n",
       "      <td>4</td>\n",
       "    </tr>\n",
       "    <tr>\n",
       "      <th>575</th>\n",
       "      <td>234</td>\n",
       "      <td>18</td>\n",
       "      <td>50</td>\n",
       "      <td>4</td>\n",
       "    </tr>\n",
       "    <tr>\n",
       "      <th>576</th>\n",
       "      <td>264</td>\n",
       "      <td>20</td>\n",
       "      <td>50</td>\n",
       "      <td>4</td>\n",
       "    </tr>\n",
       "    <tr>\n",
       "      <th>577</th>\n",
       "      <td>264</td>\n",
       "      <td>21</td>\n",
       "      <td>50</td>\n",
       "      <td>4</td>\n",
       "    </tr>\n",
       "  </tbody>\n",
       "</table>\n",
       "<p>578 rows × 4 columns</p>\n",
       "</div>"
      ],
      "text/plain": [
       "     weight  Time  Chick  Diet\n",
       "0        42     0      1     1\n",
       "1        51     2      1     1\n",
       "2        59     4      1     1\n",
       "3        64     6      1     1\n",
       "4        76     8      1     1\n",
       "..      ...   ...    ...   ...\n",
       "573     175    14     50     4\n",
       "574     205    16     50     4\n",
       "575     234    18     50     4\n",
       "576     264    20     50     4\n",
       "577     264    21     50     4\n",
       "\n",
       "[578 rows x 4 columns]"
      ]
     },
     "execution_count": 73,
     "metadata": {},
     "output_type": "execute_result"
    }
   ],
   "source": [
    "exp_chick_data"
   ]
  },
  {
   "cell_type": "code",
   "execution_count": 78,
   "id": "2fa68ea7-379e-4720-8206-406dab00b598",
   "metadata": {
    "execution": {
     "iopub.execute_input": "2024-08-04T16:02:55.451231Z",
     "iopub.status.busy": "2024-08-04T16:02:55.450480Z",
     "iopub.status.idle": "2024-08-04T16:02:55.491351Z",
     "shell.execute_reply": "2024-08-04T16:02:55.490731Z",
     "shell.execute_reply.started": "2024-08-04T16:02:55.451190Z"
    }
   },
   "outputs": [
    {
     "name": "stdout",
     "output_type": "stream",
     "text": [
      "                            OLS Regression Results                            \n",
      "==============================================================================\n",
      "Dep. Variable:                 weight   R-squared:                       0.738\n",
      "Model:                            OLS   Adj. R-squared:                  0.737\n",
      "Method:                 Least Squares   F-statistic:                     809.2\n",
      "Date:                Sun, 04 Aug 2024   Prob (F-statistic):          6.77e-168\n",
      "Time:                        18:02:55   Log-Likelihood:                -2897.1\n",
      "No. Observations:                 578   AIC:                             5800.\n",
      "Df Residuals:                     575   BIC:                             5813.\n",
      "Df Model:                           2                                         \n",
      "Covariance Type:            nonrobust                                         \n",
      "==============================================================================\n",
      "                 coef    std err          t      P>|t|      [0.025      0.975]\n",
      "------------------------------------------------------------------------------\n",
      "Intercept      1.5428      4.043      0.382      0.703      -6.398       9.484\n",
      "Diet          11.7786      1.305      9.023      0.000       9.215      14.343\n",
      "Time           8.7653      0.225     39.030      0.000       8.324       9.206\n",
      "==============================================================================\n",
      "Omnibus:                       75.227   Durbin-Watson:                   0.415\n",
      "Prob(Omnibus):                  0.000   Jarque-Bera (JB):              235.091\n",
      "Skew:                           0.605   Prob(JB):                     8.92e-52\n",
      "Kurtosis:                       5.881   Cond. No.                         35.2\n",
      "==============================================================================\n",
      "\n",
      "Notes:\n",
      "[1] Standard Errors assume that the covariance matrix of the errors is correctly specified.\n"
     ]
    }
   ],
   "source": [
    "# Perform ANCOVA with Diet and Time as predictors\n",
    "model = ols('weight ~ Diet + Time', data=exp_chick_data).fit()\n",
    "\n",
    "# Print a summary of the model\n",
    "print(model.summary())"
   ]
  },
  {
   "cell_type": "markdown",
   "id": "e833133c-c417-4e64-a65e-fc3dd60255bb",
   "metadata": {},
   "source": [
    "Prob (F-statistic): The first portion of summary output provides details on the significance of the model; it shows a very small p-value, supporting for covariates affecting the model.\n",
    "Large p-values would implie a lack of support for covariates affecting the model.\n",
    "\n",
    "P>|t| of the second portion are very small, sugesting that each of them alone are significant predictors of growth for this model."
   ]
  },
  {
   "cell_type": "code",
   "execution_count": 80,
   "id": "d291b3e6-9774-46d4-aed3-8f0d091a67d3",
   "metadata": {
    "execution": {
     "iopub.execute_input": "2024-08-04T16:03:50.883035Z",
     "iopub.status.busy": "2024-08-04T16:03:50.881859Z",
     "iopub.status.idle": "2024-08-04T16:03:51.510448Z",
     "shell.execute_reply": "2024-08-04T16:03:51.510052Z",
     "shell.execute_reply.started": "2024-08-04T16:03:50.882962Z"
    }
   },
   "outputs": [
    {
     "data": {
      "image/png": "[encoded data removed]",
      "text/plain": [
       "<Figure size 558.875x500 with 1 Axes>"
      ]
     },
     "metadata": {},
     "output_type": "display_data"
    }
   ],
   "source": [
    "# Visualize Diet effects with Time adjustment\n",
    "sns.lmplot(x='Time', y='weight', \n",
    "         hue='Diet', \n",
    "         data=exp_chick_data)\n",
    "plt.show()"
   ]
  },
  {
   "cell_type": "markdown",
   "id": "8f11514b-c440-437a-bd35-dba36775485b",
   "metadata": {},
   "source": [
    "The crossing lines here suggest we may add a The crossing regression lines suggest we may want to add an interaction term of time by Diet in another model. Parallel lines would suggest a lack of interaction."
   ]
  }
 ],
 "metadata": {
  "kernelspec": {
   "display_name": "Python 3 (ipykernel)",
   "language": "python",
   "name": "python3"
  },
  "language_info": {
   "codemirror_mode": {
    "name": "ipython",
    "version": 3
   },
   "file_extension": ".py",
   "mimetype": "text/x-python",
   "name": "python",
   "nbconvert_exporter": "python",
   "pygments_lexer": "ipython3",
   "version": "3.12.4"
  }
 },
 "nbformat": 4,
 "nbformat_minor": 5
}
