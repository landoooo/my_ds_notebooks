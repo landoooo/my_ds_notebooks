{
 "cells": [
  {
   "cell_type": "markdown",
   "id": "be5c0b81-319c-495f-b8cf-a776fca058fc",
   "metadata": {},
   "source": [
    "# Experimental Design\n",
    "\n",
    "Experimental design is the process in which we carry out research in an objective and controlled fashion. The purpose of this is to ensure we can make specific conclusions in reference to a hypothesis we have.\n",
    "\n",
    "https://www.sciencedirect.com/topics/earth-and-planetary-sciences/experimental-design\n"
   ]
  },
  {
   "cell_type": "code",
   "execution_count": null,
   "id": "e2c4a312-f3fc-4e43-9d20-f40b3101809d",
   "metadata": {},
   "outputs": [],
   "source": []
  }
 ],
 "metadata": {
  "kernelspec": {
   "display_name": "Python 3 (ipykernel)",
   "language": "python",
   "name": "python3"
  },
  "language_info": {
   "codemirror_mode": {
    "name": "ipython",
    "version": 3
   },
   "file_extension": ".py",
   "mimetype": "text/x-python",
   "name": "python",
   "nbconvert_exporter": "python",
   "pygments_lexer": "ipython3",
   "version": "3.12.4"
  }
 },
 "nbformat": 4,
 "nbformat_minor": 5
}
