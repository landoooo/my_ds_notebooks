{
 "cells": [
  {
   "cell_type": "markdown",
   "id": "5fc2e5d9-27f8-4f01-b5f6-006c9d13af1d",
   "metadata": {},
   "source": [
    "# Experimental Design"
   ]
  },
  {
   "cell_type": "code",
   "execution_count": null,
   "id": "5f580b35-c7ca-43be-b101-194dcbe72f90",
   "metadata": {},
   "outputs": [],
   "source": [
    "import pandas as pd \n",
    "import numpy as np \n",
    "import seaborn as sns\n",
    "import warnings\n",
    "import matplotlib.pyplot as plt\n",
    "\n",
    "warnings.filterwarnings('ignore')"
   ]
  },
  {
   "cell_type": "markdown",
   "id": "6b005c62-99a7-4c42-bd2c-e213eaeb8509",
   "metadata": {},
   "source": [
    "Experimental design is the process in which we carry out research in an objective and controlled fashion. The purpose of this is to ensure we can make specific conclusions in reference to a hypothesis we have.\n",
    "\n",
    "https://www.sciencedirect.com/topics/earth-and-planetary-sciences/experimental-design\n",
    "\n",
    "Because we use objective tools, we need to use quantified language. Instead of using words like 'probably', 'likely', and 'small' when noting our conclusions, we should use precise and quantified language. This often takes the form of noting the percentage risk on a Type I error in the conclusion. \n",
    "\n",
    "Type I errors: we incorrectly reject the null hypothesis when it is actually true. \n",
    "\n",
    "## Terminology\n",
    "\n",
    "Subjects\n",
    ": What we are experimenting on\n",
    "\n",
    "Treatment\n",
    ": Some change given to one group\n",
    "\n",
    "Control group\n",
    ": The group not given any treatment\n",
    "\n",
    "## How to assign subjects to groups\n",
    "\n",
    "- Non Random (iloc with a range for instance)"
   ]
  },
  {
   "cell_type": "code",
   "execution_count": null,
   "id": "88fe498b-9547-4895-bcd5-a3e0517ca069",
   "metadata": {},
   "outputs": [],
   "source": [
    "df = pd.read_feather('../data/dem_votes_potus_12_16.feather')\n",
    "\n",
    "group1 = df.iloc[0:100]\n",
    "group2 = df.iloc[100:200]\n"
   ]
  },
  {
   "cell_type": "code",
   "execution_count": null,
   "id": "843bf591-c52a-4432-8900-41af0c1295c0",
   "metadata": {},
   "outputs": [],
   "source": [
    "group1.describe()"
   ]
  },
  {
   "cell_type": "code",
   "execution_count": null,
   "id": "0413b773-b7d7-4c47-a684-a5a4b1303673",
   "metadata": {},
   "outputs": [],
   "source": [
    "group2.describe()"
   ]
  },
  {
   "cell_type": "markdown",
   "id": "05dc665d-f7cd-485f-af7d-79588eae0aae",
   "metadata": {},
   "source": [
    "- Random (sample method for instance)"
   ]
  },
  {
   "cell_type": "code",
   "execution_count": null,
   "id": "e2c4a312-f3fc-4e43-9d20-f40b3101809d",
   "metadata": {},
   "outputs": [],
   "source": [
    "random_group1 = df.sample(frac=0.5)\n",
    "random_group1.describe()"
   ]
  },
  {
   "cell_type": "code",
   "execution_count": null,
   "id": "dfe35d41-5685-4832-8cac-9ca743be65af",
   "metadata": {},
   "outputs": [],
   "source": [
    "random_group2 = df.drop(random_group1.index)"
   ]
  },
  {
   "cell_type": "code",
   "execution_count": null,
   "id": "d7b08231-4a99-49de-ae7d-9d9e0e879c9c",
   "metadata": {},
   "outputs": [],
   "source": [
    "compare_df_rand = pd.concat([random_group1['dem_percent_12'].describe(), random_group2['dem_percent_12'].describe()], axis=1)\n",
    "compare_df_rand.columns = ['group1', 'group2']\n",
    "\n",
    "print(compare_df_rand)"
   ]
  },
  {
   "cell_type": "markdown",
   "id": "190f8515-c724-49a7-8f34-a8c8834a8738",
   "metadata": {
    "execution": {
     "iopub.execute_input": "2024-08-03T15:16:17.811886Z",
     "iopub.status.busy": "2024-08-03T15:16:17.811087Z",
     "iopub.status.idle": "2024-08-03T15:16:17.822205Z",
     "shell.execute_reply": "2024-08-03T15:16:17.820904Z",
     "shell.execute_reply.started": "2024-08-03T15:16:17.811840Z"
    }
   },
   "source": [
    "# Experimental data setup"
   ]
  },
  {
   "cell_type": "markdown",
   "id": "7bcf92bd-2137-4787-815c-86c8c1644e8c",
   "metadata": {},
   "source": [
    "Randomization is often the best technique for setting up experimental data, but it isnt always.\n",
    "\n",
    "## Scenarios where randomization could cause undesiderable outcomes\n",
    "\n",
    "### Uneven issue\n",
    "\n",
    "Different number of subjects in groups. Can be solved with block randomization.\n",
    "\n",
    "### Covariates\n",
    "\n",
    "Covariates are variables that potentially affect experiment results but aren't the primary focus. If covariates are highly variable or not equally distributed among groups, randomization might not produce balanced groups. This imbalance can lead to biased results. Overall these make it harder to see an effect from a treatment, as these issues may be driving an observed change."
   ]
  },
  {
   "cell_type": "code",
   "execution_count": null,
   "id": "0fd6c8e9-d2cd-41a2-9556-a99154327d1a",
   "metadata": {},
   "outputs": [],
   "source": [
    "group1 = df.sample(frac=0.5, replace=False)\n",
    "group1['Block']=1\n",
    "\n",
    "group2 = df.drop(group1.index)\n",
    "group2['Block']=2\n",
    "\n",
    "print(len(group1), len(group2))"
   ]
  },
  {
   "cell_type": "markdown",
   "id": "5b5d11c0-fbc9-4295-8794-47bd4e203d4c",
   "metadata": {},
   "source": [
    "But does this technique eliminates the covariate issue?\n",
    "\n",
    "A nice way of checking for potential covariate issues is with visualizations."
   ]
  },
  {
   "cell_type": "code",
   "execution_count": null,
   "id": "3359d3a8-26b6-4e88-93f0-ee797db000d6",
   "metadata": {},
   "outputs": [],
   "source": [
    "sns.displot(data=df, x='dem_percent_12', fill=True, kind='kde'\n",
    "            # , hue=''\n",
    "           )"
   ]
  },
  {
   "cell_type": "markdown",
   "id": "42a5427d-94af-4d4e-b85f-0b058f5a7a92",
   "metadata": {
    "execution": {
     "iopub.execute_input": "2024-08-03T15:57:13.085219Z",
     "iopub.status.busy": "2024-08-03T15:57:13.084292Z",
     "iopub.status.idle": "2024-08-03T15:57:13.098714Z",
     "shell.execute_reply": "2024-08-03T15:57:13.096956Z",
     "shell.execute_reply.started": "2024-08-03T15:57:13.085172Z"
    }
   },
   "source": [
    "Not with this dataset, but it could happen that based on a second feature, thmere is quite a difference in the group distributions. When an effect could be because of a variable rather than the treatment, this is often called **confounding**. The covariate issue can be solved with stratified randomization.\n",
    "\n",
    "### Stratified randomization\n",
    "\n",
    "Stratified randomization involves splitting based on a potentially confounding variable first, followed by randomization\n"
   ]
  },
  {
   "cell_type": "markdown",
   "id": "0c0a4c21-a13c-44e1-8970-90dfe1cf7d14",
   "metadata": {},
   "source": [
    "# Normal Data\n",
    "\n",
    "Normal data is drawn from a normal distribution\n",
    "\n",
    "The normal distribution is related to z-scores\n",
    "\n",
    "$$z = \\frac{ x - \\mu}{ \\sigma }$$\n",
    "\n",
    "The most common normal distribution is the standard one, having $\\mu$=0 and $\\sigma$=0\n",
    "\n",
    "The normal distribution is behind many of the statistical **parametric** tests. There are alse **non parametric** tests that dont assume normal data.\n",
    "\n",
    "To visually check if a dataset follow a normal distribution we can plot the kde\n",
    "\n",
    "Another visual tool are the qqplots, that compare "
   ]
  },
  {
   "cell_type": "code",
   "execution_count": null,
   "id": "16efeb58-6bb3-4282-a564-fda1ae3c8203",
   "metadata": {},
   "outputs": [],
   "source": [
    "df = pd.read_csv('../data/chick_weight.csv')\n",
    "\n",
    "df.info()"
   ]
  },
  {
   "cell_type": "code",
   "execution_count": null,
   "id": "e16a0f2f-fa62-49d3-afda-c8d075130992",
   "metadata": {},
   "outputs": [],
   "source": [
    "n_rows=2\n",
    "n_cols=2\n",
    "# Create the subplots\n",
    "fig, axes = plt.subplots(nrows=n_rows, ncols=n_cols)\n",
    "\n",
    "for i, column in enumerate(df.columns):\n",
    "    sns.distplot(df[column],ax=axes[i//n_cols,i%n_cols])\n"
   ]
  },
  {
   "cell_type": "code",
   "execution_count": null,
   "id": "3df74626-3efe-46db-a46c-4464345be8ba",
   "metadata": {},
   "outputs": [],
   "source": [
    "qqplot(data=df.weight, line='s')\n",
    "plt.show()"
   ]
  },
  {
   "cell_type": "code",
   "execution_count": null,
   "id": "fa4102bb-aa69-4ca6-b4c9-796b212dd876",
   "metadata": {},
   "outputs": [],
   "source": [
    "from statsmodels.graphics.gofplots import qqplot\n",
    "from scipy.stats.distributions import norm\n",
    "\n",
    "qqplot(df['weight'], \n",
    "       line='s', \n",
    "       dist=norm\n",
    "      ) \n",
    "plt.show()"
   ]
  },
  {
   "cell_type": "code",
   "execution_count": null,
   "id": "11e2dfc6-79cb-4fda-b8fd-ce9168732e73",
   "metadata": {},
   "outputs": [],
   "source": [
    "# Subset the data\n",
    "subset_data = df[df['Time'] == 2]\n",
    "\n",
    "# Repeat the plotting\n",
    "sns.displot(data=df, x='weight', kind=\"kde\")\n",
    "plt.show()"
   ]
  },
  {
   "cell_type": "markdown",
   "id": "d5cd7e9e-5c66-4519-9bbb-88121d0fa90a",
   "metadata": {},
   "source": [
    "- ideally, the dots should follow the line\n",
    "- bad: bow out at the ends\n",
    "\n",
    "Other tests for normality: \n",
    "- Shapiro-Wilk: good for smaller datasets\n",
    "- D'Agostino $K^2$ (uses curtosis and skewness\n",
    "- Anderson-Darling returns a list of values\n",
    "\n",
    "For all these, the $H<sub>0</sub>$ is \"data is drawn from a Normal distribution\""
   ]
  },
  {
   "cell_type": "code",
   "execution_count": null,
   "id": "b6c54d99-f994-41ca-88fa-109ec1ccfb9c",
   "metadata": {},
   "outputs": [],
   "source": [
    "# A Shapiro Wilk test\n",
    "from scipy.stats import shapiro\n",
    "\n",
    "alpha = 0.05\n",
    "stat, p = shapiro(df.weight)\n",
    "print(f'p:{round(p,4)} test stat: {round(stat, 4)}')\n"
   ]
  },
  {
   "cell_type": "code",
   "execution_count": null,
   "id": "189f8614-a424-42c0-b0dc-95a4b2f141f7",
   "metadata": {},
   "outputs": [],
   "source": [
    "# A Anderson Darling test\n",
    "from scipy.stats import anderson\n",
    "\n",
    "alpha = 0.05\n",
    "result = anderson(x = df.weight, dist=\"norm\")\n",
    "print(round(result.statistic,4))\n",
    "print(result.significance_level)\n",
    "print(result.critical_values)"
   ]
  },
  {
   "cell_type": "code",
   "execution_count": null,
   "id": "0cfa88c4-be9b-48f0-a37f-16a435b8bc74",
   "metadata": {},
   "outputs": [],
   "source": []
  }
 ],
 "metadata": {
  "kernelspec": {
   "display_name": "Python 3 (ipykernel)",
   "language": "python",
   "name": "python3"
  },
  "language_info": {
   "codemirror_mode": {
    "name": "ipython",
    "version": 3
   },
   "file_extension": ".py",
   "mimetype": "text/x-python",
   "name": "python",
   "nbconvert_exporter": "python",
   "pygments_lexer": "ipython3",
   "version": "3.12.4"
  }
 },
 "nbformat": 4,
 "nbformat_minor": 5
}
