{
 "cells": [
  {
   "cell_type": "markdown",
   "id": "8dddf0a4-ff5a-4462-a483-7e591454616c",
   "metadata": {},
   "source": [
    "# Finding the dominant colors on an image \n",
    "\n",
    "Please note there might be some issue when whitening the pixel values before performing the kmeans and adjusting afterwards."
   ]
  },
  {
   "cell_type": "code",
   "execution_count": null,
   "id": "ba8354dd-9f77-4241-bb87-340efd805ca3",
   "metadata": {},
   "outputs": [],
   "source": [
    "import matplotlib.pyplot as plt \n",
    "import matplotlib.image as img \n",
    "import pandas as pd \n",
    "from scipy.cluster.vq import kmeans, vq, whiten\n",
    "\n",
    "import seaborn as sns\n",
    "\n",
    "image = img.imread('000 Dominant colors data/sea.png')"
   ]
  },
  {
   "cell_type": "code",
   "execution_count": null,
   "id": "ecdcdd79-c7a9-4099-8da8-e7b5414a5d0e",
   "metadata": {},
   "outputs": [],
   "source": [
    "r = []\n",
    "g = []\n",
    "b = []\n",
    "\n",
    "for row in image: \n",
    "    for pixel in row: \n",
    "        temp_r, temp_g, temp_b, _ = pixel\n",
    "        r.append(temp_r)\n",
    "        g.append(temp_g)\n",
    "        b.append(temp_b)\n",
    "\n",
    "pixels = pd.DataFrame({\n",
    "    'red': r,\n",
    "    'green': g,\n",
    "    'blue':b\n",
    "})\n",
    "\n",
    "pixels.head()"
   ]
  },
  {
   "cell_type": "code",
   "execution_count": null,
   "id": "0483b03b-4140-4e58-8938-393e78287444",
   "metadata": {},
   "outputs": [],
   "source": [
    "r_std, g_std, b_std = pixels[['red', 'blue', 'green']].std()\n",
    "\n",
    "pixels['scaled_red']=(pixels['red'])\n",
    "pixels['scaled_green']=(pixels['green'])\n",
    "pixels['scaled_blue']=(pixels['blue'])"
   ]
  },
  {
   "cell_type": "code",
   "execution_count": null,
   "id": "cd61353f-a865-4e75-bb42-5132ef8b3ef8",
   "metadata": {},
   "outputs": [],
   "source": [
    "distortions = []\n",
    "num_clusters = range (1, 11)\n",
    "# Create a list of distortions from the kmeans method\n",
    "\n",
    "for i in num_clusters:\n",
    "    cluster_centers, distortion = kmeans(pixels[['scaled_red', 'scaled_blue' ,\n",
    "                        'scaled_green']], i)\n",
    "    distortions.append(distortion)\n",
    "\n",
    "# Create a DataFrame with two lists - number of clusters and distortions\n",
    "elbow_plot = pd. DataFrame({'num_clusters': num_clusters, \n",
    "                            'distortions': distortions})\n",
    "\n",
    "# Creat a line plot of num_clusters and distortions\n",
    "sns.lineplot(x='num_clusters', y='distortions', data = elbow_plot)\n",
    "plt.xticks(num_clusters)\n",
    "plt.show()"
   ]
  },
  {
   "cell_type": "code",
   "execution_count": null,
   "id": "252c7c45-1282-40be-8b02-f220718cb9ca",
   "metadata": {},
   "outputs": [],
   "source": [
    "cluster_centers, distortion = kmeans(pixels[['scaled_red', 'scaled_blue' , 'scaled_green']], 2)"
   ]
  },
  {
   "cell_type": "code",
   "execution_count": null,
   "id": "77df165a-ca8d-4840-b66b-1a72c5379848",
   "metadata": {},
   "outputs": [],
   "source": [
    "colors = []\n",
    "\n",
    "for cluster_center in cluster_centers: \n",
    "    scaled_r, scaled_g, scaled_b = cluster_center \n",
    "    colors.append((\n",
    "        scaled_r,\n",
    "        scaled_g,\n",
    "        scaled_b\n",
    "    ))"
   ]
  },
  {
   "cell_type": "code",
   "execution_count": null,
   "id": "ab96a6c4-3537-404e-a68e-e90c1b6b042d",
   "metadata": {},
   "outputs": [],
   "source": [
    "print(colors)"
   ]
  },
  {
   "cell_type": "code",
   "execution_count": null,
   "id": "51a160da-ef59-4d9a-b12f-f31102604563",
   "metadata": {},
   "outputs": [],
   "source": [
    "plt.imshow([colors])\n",
    "plt.show()"
   ]
  },
  {
   "cell_type": "code",
   "execution_count": null,
   "id": "39d0da82-d543-4fca-b6e3-b2296b89a74f",
   "metadata": {},
   "outputs": [],
   "source": []
  }
 ],
 "metadata": {
  "kernelspec": {
   "display_name": "Python 3 (ipykernel)",
   "language": "python",
   "name": "python3"
  },
  "language_info": {
   "codemirror_mode": {
    "name": "ipython",
    "version": 3
   },
   "file_extension": ".py",
   "mimetype": "text/x-python",
   "name": "python",
   "nbconvert_exporter": "python",
   "pygments_lexer": "ipython3",
   "version": "3.12.4"
  }
 },
 "nbformat": 4,
 "nbformat_minor": 5
}
