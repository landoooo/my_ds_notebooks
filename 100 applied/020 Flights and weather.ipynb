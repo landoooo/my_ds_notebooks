{
 "cells": [
  {
   "cell_type": "markdown",
   "id": "d45e243b-7544-4ee9-8504-4e4ef2cb7a2f",
   "metadata": {},
   "source": [
    "# Does weather affect flights\n",
    "\n",
    "Dataset taken from [a datacamp lab](https://projects.datacamp.com/projects/1962)\n",
    "\n",
    "- `flights_weather2022.csv` contains the same flight information as well as weather conditions such as \n",
    " \n",
    "| Variable   | Description                                           |\n",
    "|------------|-------------------------------------------------------|\n",
    "| `dep_time`   | Departure time (in the format hhmm) where `NA` corresponds to a cancelled flight        |\n",
    "| `dep_delay`  | Departure delay, in minutes (negative for early)    |\n",
    "| `origin`     | Origin airport where flight starts (IATA code)\n",
    "| `airline`    | Carrier/airline name                        |\n",
    "| `dest`       | Destination airport where flight lands (IATA code)  \n",
    "| `visib`      | Visibility (in miles)                                 |\n",
    "| `wind_gust`  | Wind gust speed (in mph)  | \n",
    "\n",
    "The goal of this notebook is to check if the weather (wind, temperature, humidity, visibility, preasure, temperature) has an impact on flight cancelations and delayed departures."
   ]
  },
  {
   "cell_type": "code",
   "execution_count": null,
   "id": "bcc3a547-387f-4d51-ab80-059ab86b16e6",
   "metadata": {},
   "outputs": [],
   "source": [
    "import pandas as pd \n",
    "import matplotlib.pyplot as plt \n",
    "import seaborn as sns \n",
    "import numpy as np \n",
    "\n",
    "df = pd.read_csv('../data/flights_weather2022.csv')\n",
    "\n",
    "df.head()"
   ]
  },
  {
   "cell_type": "code",
   "execution_count": null,
   "id": "4d05a3e2-1eef-4960-9c88-913aebea06ab",
   "metadata": {},
   "outputs": [],
   "source": [
    "df.info()"
   ]
  },
  {
   "cell_type": "code",
   "execution_count": null,
   "id": "9ddc0607-6918-4115-bec3-a4263681f278",
   "metadata": {},
   "outputs": [],
   "source": [
    "df.describe()"
   ]
  },
  {
   "cell_type": "code",
   "execution_count": null,
   "id": "1a27d38d-5712-4760-8607-9b848b81c3e8",
   "metadata": {},
   "outputs": [],
   "source": [
    "df['canceled'] = df['dep_time'].isna()"
   ]
  },
  {
   "cell_type": "code",
   "execution_count": null,
   "id": "e44ac429-2271-46cf-bbd8-00791661562f",
   "metadata": {},
   "outputs": [],
   "source": [
    "df.columns"
   ]
  },
  {
   "cell_type": "code",
   "execution_count": null,
   "id": "62088874-732f-4a19-816d-683ed5113da7",
   "metadata": {},
   "outputs": [],
   "source": [
    "\n",
    "columns = ['temp', 'dewp', 'humid', 'wind_dir', 'wind_speed',\n",
    "       'wind_gust', 'precip', 'pressure', 'visib']\n",
    "\n",
    "def impact_of_weather(df, in_col):\n",
    "    # Set up the figure with subplots arranged in two rows\n",
    "    num_cols = 3  # Number of plots per row\n",
    "    num_rows = -(-len(columns) // num_cols)  # Calculate rows needed\n",
    "    \n",
    "    fig, axes = plt.subplots(num_rows, num_cols, figsize=(5 * num_cols, 5 * num_rows))\n",
    "    \n",
    "    # Flatten axes array for easier indexing\n",
    "    axes = axes.flatten()\n",
    "    \n",
    "    # Loop over columns to create a boxplot for each\n",
    "    for i, column in enumerate(columns):\n",
    "        sns.boxplot(data=df, y=column, hue=in_col, ax=axes[i])  # Use `ax=axes[i]` for each subplot\n",
    "        axes[i].set_title(f'Boxplot of {column}')\n",
    "    \n",
    "    # Hide any unused subplots\n",
    "    for j in range(i + 1, len(axes)):\n",
    "        axes[j].axis('off')\n",
    "    \n",
    "    plt.tight_layout()  # Adjust layout to prevent overlap\n",
    "    plt.show()\n",
    "\n",
    "\n",
    "impact_of_weather(df,'canceled')"
   ]
  },
  {
   "cell_type": "code",
   "execution_count": null,
   "id": "45fe95e2-5621-4a4d-a081-c37208a1cbbb",
   "metadata": {},
   "outputs": [],
   "source": [
    "df['delayed'] = df['dep_delay']>0"
   ]
  },
  {
   "cell_type": "code",
   "execution_count": null,
   "id": "02f83382-1b70-4391-a57f-0e2debef9a2e",
   "metadata": {},
   "outputs": [],
   "source": [
    "impact_of_weather(df,'delayed')"
   ]
  },
  {
   "cell_type": "code",
   "execution_count": null,
   "id": "76e633e8-b091-4616-bcd3-21874b2141d3",
   "metadata": {},
   "outputs": [],
   "source": [
    "sns.kdeplot(df[df['canceled']==True].visib)"
   ]
  },
  {
   "cell_type": "code",
   "execution_count": null,
   "id": "ab26a38c-45bf-4a3c-a3ce-78683585a2a9",
   "metadata": {},
   "outputs": [],
   "source": [
    "sns.kdeplot(df[df['canceled']==False].visib)"
   ]
  },
  {
   "cell_type": "code",
   "execution_count": null,
   "id": "33515904-c0c4-4899-a21b-b7f531f35a47",
   "metadata": {},
   "outputs": [],
   "source": [
    "from scipy.stats import mannwhitneyu\n",
    "\n",
    "visib_canceled = df[df['canceled'] == True]['visib']\n",
    "visib_not_canceled = df[df['canceled'] == False]['visib']\n",
    "\n",
    "# Mann-Whitney U Test\n",
    "stat, p_value = mannwhitneyu(visib_canceled, visib_not_canceled)\n",
    "print(\"Mann-Whitney U Test: p-value =\", p_value)"
   ]
  },
  {
   "cell_type": "markdown",
   "id": "9123f58e-8032-4794-a135-6dc617b0118b",
   "metadata": {},
   "source": [
    "With such small p-value we can conclude that the visibility has a statistically significant impact in the cancelation of flights."
   ]
  },
  {
   "cell_type": "code",
   "execution_count": null,
   "id": "c7d74bec-48c0-4a58-b6cc-ecad50ebdf1b",
   "metadata": {},
   "outputs": [],
   "source": [
    "\n",
    "visib_delayed = df[df['delayed'] == True]['visib']\n",
    "visib_not_delayed = df[df['delayed'] == False]['visib']\n",
    "\n",
    "# Mann-Whitney U Test\n",
    "stat, p_value = mannwhitneyu(visib_delayed, visib_not_delayed)\n",
    "print(\"Mann-Whitney U Test: p-value =\", p_value)"
   ]
  },
  {
   "cell_type": "markdown",
   "id": "3a67dc81-4f24-4984-9956-b9d2cc6419d1",
   "metadata": {},
   "source": [
    "It seems to have an impact in the delays too."
   ]
  }
 ],
 "metadata": {
  "kernelspec": {
   "display_name": "Python 3 (ipykernel)",
   "language": "python",
   "name": "python3"
  },
  "language_info": {
   "codemirror_mode": {
    "name": "ipython",
    "version": 3
   },
   "file_extension": ".py",
   "mimetype": "text/x-python",
   "name": "python",
   "nbconvert_exporter": "python",
   "pygments_lexer": "ipython3",
   "version": "3.11.10"
  }
 },
 "nbformat": 4,
 "nbformat_minor": 5
}
