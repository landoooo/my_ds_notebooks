{
 "cells": [
  {
   "cell_type": "markdown",
   "metadata": {},
   "source": [
    "## What does a data scientist on a marketing team do? \n",
    "- Analizing marketing campaign performance\n",
    "- Attributing credit for conversions to marketing channels\n",
    "- A/B testing"
   ]
  },
  {
   "cell_type": "code",
   "execution_count": null,
   "metadata": {},
   "outputs": [],
   "source": [
    "import pandas as pd \n",
    "import matplotlib.pyplot as plt\n",
    "import numpy as np \n",
    "import seaborn as sns\n",
    "import os\n",
    "\n",
    "marketing = pd.read_csv('marketing_new.csv')\n",
    "marketing.info()"
   ]
  },
  {
   "cell_type": "code",
   "execution_count": null,
   "metadata": {},
   "outputs": [],
   "source": [
    "marketing.describe()"
   ]
  },
  {
   "cell_type": "code",
   "execution_count": null,
   "metadata": {},
   "outputs": [],
   "source": [
    "marketing.head()"
   ]
  },
  {
   "cell_type": "code",
   "execution_count": 103,
   "metadata": {},
   "outputs": [],
   "source": [
    "cat_columns = ['marketing_channel', 'subscribing_channel', 'age_group', 'language_displayed', 'language_preferred', 'variant']\n",
    "for col in cat_columns:\n",
    "    marketing[col] = marketing[col].astype('category')\n",
    "\n",
    "date_columns = ['date_served', 'date_subscribed', 'date_canceled']\n",
    "for date_col in date_columns:\n",
    "    marketing[date_col] = pd.to_datetime(marketing[date_col], errors='coerce')\n",
    "\n",
    "bool_columns = ['converted', 'is_retained']\n",
    "for col in bool_columns:\n",
    "    marketing[col] = marketing[col].astype('bool')"
   ]
  },
  {
   "cell_type": "code",
   "execution_count": null,
   "metadata": {},
   "outputs": [],
   "source": [
    "marketing.head()\n"
   ]
  },
  {
   "cell_type": "code",
   "execution_count": 105,
   "metadata": {},
   "outputs": [],
   "source": [
    "marketing[\"is_house_ads\"] = np.where(marketing[\"marketing_channel\"] == \"House Ads\",\n",
    "                                     True, \n",
    "                                     False)\n"
   ]
  },
  {
   "cell_type": "code",
   "execution_count": null,
   "metadata": {},
   "outputs": [],
   "source": [
    "marketing.head()"
   ]
  },
  {
   "cell_type": "code",
   "execution_count": null,
   "metadata": {},
   "outputs": [],
   "source": [
    "channel_dict={\"House Ads\": 1, \"Instagram\": 2, \"Facebook\": 3, \"Email\": 4, \"Push\": 5}\n",
    "marketing['channel_code'] = marketing['marketing_channel'].map(channel_dict)\n",
    "\n",
    "print(marketing['channel_code'].value_counts())"
   ]
  },
  {
   "cell_type": "code",
   "execution_count": null,
   "metadata": {},
   "outputs": [],
   "source": [
    "marketing_parsed_dates = pd.read_csv(\"marketing.csv\",\n",
    "                                     parse_dates=[\"date_served\", \"date_subscribed\",\n",
    "                                                  \"date_canceled\"])\n",
    "marketing_parsed_dates.info()"
   ]
  },
  {
   "cell_type": "code",
   "execution_count": null,
   "metadata": {},
   "outputs": [],
   "source": [
    "marketing_parsed_dates.head()"
   ]
  },
  {
   "cell_type": "code",
   "execution_count": null,
   "metadata": {},
   "outputs": [],
   "source": [
    "marketing[\"day_served\"] = marketing[\"date_served\"].dt.dayofweek\n",
    "marketing[[\"day_served\", \"date_served\"]].sample(10)"
   ]
  },
  {
   "cell_type": "markdown",
   "metadata": {},
   "source": [
    "## Initial Exploratory Analysis"
   ]
  },
  {
   "cell_type": "code",
   "execution_count": null,
   "metadata": {},
   "outputs": [],
   "source": [
    "# How many unique users see marketing assets each day?\n",
    "print(f\"Datapoints: {marketing.shape[0]}\")\n",
    "print(f\"Unique users: {marketing['user_id'].nunique()}\")\n",
    "\n",
    "daily_unique_users = marketing.groupby('date_served')['user_id'].nunique()\n",
    "\n",
    "daily_unique_users.plot(kind='line', title='Daily Unique Users')\n",
    "plt.xlabel('Date')\n",
    "plt.ylabel('Unique Users')\n",
    "plt.xticks(rotation=45)\n",
    "plt.show()\n"
   ]
  },
  {
   "cell_type": "markdown",
   "metadata": {},
   "source": [
    "## Common marketing metrics and how to measure them\n",
    "\n",
    "Conversion rate is a common way to measure campaign success and its calculated as how many people bought the product out of the people reached by the marketing campaign.\n",
    "Retention is another important metric and harder to calculate.\n"
   ]
  },
  {
   "cell_type": "code",
   "execution_count": null,
   "metadata": {},
   "outputs": [],
   "source": [
    "# Conversion rate\n",
    "subscribers = marketing[marketing[\"converted\"] == True]['user_id'].nunique()\n",
    "total_users = marketing['user_id'].nunique()\n",
    "\n",
    "conversion_rate = subscribers / total_users\n",
    "print(f\"Conversion rate: {conversion_rate:.2%}\")"
   ]
  },
  {
   "cell_type": "code",
   "execution_count": null,
   "metadata": {},
   "outputs": [],
   "source": [
    "# Retention rate (1 month)\n",
    "retained = marketing[marketing[\"is_retained\"] == True][\"user_id\"].nunique()\n",
    "retention_rate = retained / total_users\n",
    "\n",
    "print(f\"Retention rate: {retention_rate:.2%}\")"
   ]
  },
  {
   "cell_type": "code",
   "execution_count": null,
   "metadata": {},
   "outputs": [],
   "source": [
    "marketing.converted"
   ]
  },
  {
   "cell_type": "markdown",
   "metadata": {},
   "source": [
    "## Customer segmentation\n",
    "\n",
    "Segmentation of customers can be done based on age, gender, location, channel, past interactions with business, etc. We can then calculate metrics for each segment."
   ]
  },
  {
   "cell_type": "code",
   "execution_count": null,
   "metadata": {},
   "outputs": [],
   "source": [
    "# Retention rate for house ads\n",
    "house_ads = marketing[marketing['subscribing_channel']=='House Ads']\n",
    "\n",
    "retained = house_ads[house_ads[\"is_retained\"] == True][\"user_id\"].nunique()\n",
    "total_users = house_ads[\"user_id\"].nunique()\n",
    "\n",
    "conversion_rate = retained / total_users\n",
    "print(f\"Retention rate for house ads: {conversion_rate:.2%}\")\n"
   ]
  },
  {
   "cell_type": "code",
   "execution_count": null,
   "metadata": {},
   "outputs": [],
   "source": [
    "# Retention rate for every channel \n",
    "retained = (\n",
    "    marketing[marketing[\"is_retained\"] == True]\n",
    "    .groupby(\"subscribing_channel\")[\"user_id\"]\n",
    "    .nunique()\n",
    ")\n",
    "subscribed = (\n",
    "    marketing[marketing[\"converted\"] == True]\n",
    "    .groupby(\"subscribing_channel\")[\"user_id\"]\n",
    "    .nunique()\n",
    ")\n",
    "channel_retention_rate = retained / subscribed\n",
    "\n",
    "# Print retention rate for every channel\n",
    "print(\"Retention rate for every channel:\")\n",
    "for channel, rate in channel_retention_rate.items():\n",
    "    print(f\"{channel}: {rate:.2%}\")"
   ]
  },
  {
   "cell_type": "markdown",
   "metadata": {},
   "source": [
    "## Plotting campaign results"
   ]
  },
  {
   "cell_type": "code",
   "execution_count": null,
   "metadata": {},
   "outputs": [],
   "source": [
    "channel_retention_rate.plot(kind='bar', title='Retention Rate by Channel')\n",
    "plt.xlabel('Channel')\n",
    "plt.ylabel('Retention Rate')"
   ]
  },
  {
   "cell_type": "code",
   "execution_count": null,
   "metadata": {},
   "outputs": [],
   "source": [
    "subscribed = marketing.groupby(\"date_subscribed\")[\"user_id\"].nunique()\n",
    "\n",
    "retained = (\n",
    "    marketing[marketing[\"is_retained\"] == True]\n",
    "    .groupby(\"date_subscribed\")[\"user_id\"]\n",
    "    .nunique()\n",
    ")\n",
    "\n",
    "# Calculate the conversion rate per day\n",
    "daily_retention_rate = retained / subscribed\n",
    "print(daily_retention_rate)\n"
   ]
  },
  {
   "cell_type": "code",
   "execution_count": null,
   "metadata": {},
   "outputs": [],
   "source": [
    "# Lets convert the series to a dataframe\n",
    "daily_retention_rate_df = pd.DataFrame(daily_retention_rate.reset_index())\n",
    "daily_retention_rate_df.columns = [\"date_subscribed\", \"retention_rate\"]\n",
    "\n",
    "# Plot the retention rate dataframe\n",
    "daily_retention_rate_df.plot(\n",
    "    x=\"date_subscribed\", y=\"retention_rate\", kind=\"line\", title=\"Daily Retention Rate\"\n",
    ")\n",
    "plt.xlabel('Date')\n",
    "plt.ylabel('Retention Rate')\n",
    "plt.ylim(0)\n",
    "plt.show()"
   ]
  },
  {
   "cell_type": "markdown",
   "metadata": {},
   "source": [
    "## Grouping by multiple columns "
   ]
  },
  {
   "cell_type": "code",
   "execution_count": null,
   "metadata": {},
   "outputs": [],
   "source": [
    "language = marketing.groupby(['date_served', 'language_preferred'])['user_id'].count()\n",
    "language\n"
   ]
  },
  {
   "cell_type": "code",
   "execution_count": null,
   "metadata": {},
   "outputs": [],
   "source": [
    "language.unstack(level=1).plot(kind='line', title='Daily Users by Language')\n",
    "plt.legend(title='Language', loc='upper right')\n",
    "plt.show()"
   ]
  },
  {
   "cell_type": "code",
   "execution_count": null,
   "metadata": {},
   "outputs": [],
   "source": [
    "language_age = marketing.groupby([\"language_preferred\", 'age_group'])[\"user_id\"].count()\n",
    "language_age.unstack(level=1).plot(kind=\"bar\", title=\"Users by Language and Age Group\")\n",
    "plt.xlabel(\"Language\")\n",
    "plt.ylabel(\"Users\")\n",
    "plt.show()"
   ]
  },
  {
   "cell_type": "markdown",
   "metadata": {},
   "source": [
    "## Using functions to calculate retention"
   ]
  },
  {
   "cell_type": "code",
   "execution_count": 123,
   "metadata": {},
   "outputs": [],
   "source": [
    "def retention_rate(df, column_names): \n",
    "    retained = df[df['is_retained'] == True].groupby(column_names)['user_id'].nunique()\n",
    "    subscribed = df[df['converted'] == True].groupby(column_names)['user_id'].nunique()\n",
    "\n",
    "    retention_rate = retained / subscribed\n",
    "\n",
    "    return retention_rate"
   ]
  },
  {
   "cell_type": "code",
   "execution_count": null,
   "metadata": {},
   "outputs": [],
   "source": [
    "retention_rate(marketing, \"language_preferred\")\n"
   ]
  },
  {
   "cell_type": "code",
   "execution_count": null,
   "metadata": {},
   "outputs": [],
   "source": [
    "lang_age = retention_rate(marketing, [\"language_preferred\", 'age_group'])\n"
   ]
  },
  {
   "cell_type": "code",
   "execution_count": null,
   "metadata": {},
   "outputs": [],
   "source": [
    "lang_age.unstack(level=1)"
   ]
  },
  {
   "cell_type": "markdown",
   "metadata": {},
   "source": [
    "## Identifying inconsistencies"
   ]
  },
  {
   "cell_type": "code",
   "execution_count": null,
   "metadata": {},
   "outputs": [],
   "source": [
    "marketing"
   ]
  },
  {
   "cell_type": "code",
   "execution_count": null,
   "metadata": {},
   "outputs": [],
   "source": [
    "users_dow = marketing.groupby('day_served')['user_id'].nunique()\n",
    "plt.plot(users_dow.index, users_dow.values)\n",
    "plt.xlabel('Day of Week')\n",
    "plt.ylabel('N Users')\n",
    "plt.title('Users per Day of Week')\n",
    "plt.show()\n"
   ]
  },
  {
   "cell_type": "code",
   "execution_count": 129,
   "metadata": {},
   "outputs": [],
   "source": [
    "retention_dow = retention_rate(marketing, ['day_served'])"
   ]
  },
  {
   "cell_type": "code",
   "execution_count": null,
   "metadata": {},
   "outputs": [],
   "source": [
    "retention_dow"
   ]
  },
  {
   "cell_type": "code",
   "execution_count": 131,
   "metadata": {},
   "outputs": [],
   "source": [
    "def plotting_conv(dataframe):\n",
    "    for column in dataframe:\n",
    "        # Plot column by dataframe's index\n",
    "        plt.plot(dataframe.index, dataframe[column])\n",
    "        plt.title(\"Daily \" + str(column) + \" conversion rate\\n\", size=16)\n",
    "        plt.ylabel(\"Conversion rate\", size=14)\n",
    "        plt.xlabel(\"Date\", size=14)\n",
    "        # Show plot\n",
    "        plt.show()\n",
    "        plt.clf()\n",
    "\n",
    "def conversion_rate(dataframe, column_names):\n",
    "    # Total number of converted users\n",
    "    column_conv = (\n",
    "        dataframe[dataframe[\"converted\"]].groupby(column_names)[\"user_id\"].nunique()\n",
    "    )\n",
    "\n",
    "    # Total number users\n",
    "    column_total = dataframe.groupby(column_names)[\"user_id\"].nunique()\n",
    "\n",
    "    # Conversion rate\n",
    "    conversion_rate = column_conv / column_total\n",
    "\n",
    "    # Fill missing values with 0\n",
    "    conversion_rate = conversion_rate.fillna(0)\n",
    "    return conversion_rate"
   ]
  },
  {
   "cell_type": "code",
   "execution_count": null,
   "metadata": {},
   "outputs": [],
   "source": [
    "# Calculate conversion rate by date served and age group\n",
    "age_group_conv = conversion_rate(marketing, [\"date_served\", \"age_group\"])\n",
    "\n",
    "# Unstack age_group_conv and create a DataFrame\n",
    "age_group_df = pd.DataFrame(age_group_conv.unstack(level=1))\n",
    "\n",
    "# Plot the results\n",
    "plotting_conv(age_group_df)\n"
   ]
  },
  {
   "cell_type": "code",
   "execution_count": null,
   "metadata": {},
   "outputs": [],
   "source": [
    "# Calculate conversion rate by date served and channel\n",
    "daily_conv_channel = conversion_rate(marketing, [\"date_served\", \"marketing_channel\"])\n",
    "\n",
    "# Unstack daily_conv_channel and convert it to a DataFrame\n",
    "daily_conv_channel = pd.DataFrame(daily_conv_channel.unstack(level=1))\n",
    "\n",
    "# Plot results of daily_conv_channel\n",
    "plotting_conv(daily_conv_channel)\n"
   ]
  },
  {
   "cell_type": "code",
   "execution_count": null,
   "metadata": {},
   "outputs": [],
   "source": [
    "# Add day of week column to marketing\n",
    "marketing[\"DoW_served\"] = marketing[\"date_served\"].dt.dayofweek\n",
    "\n",
    "# Calculate conversion rate by day of week\n",
    "DoW_conversion = conversion_rate(marketing, [\"DoW_served\", \"marketing_channel\"])\n",
    "\n",
    "\n",
    "# Unstack channels\n",
    "DoW_df = pd.DataFrame(DoW_conversion.unstack(level=1))\n",
    "\n",
    "# Plot conversion rate by day of week\n",
    "DoW_df.plot(kind=\"line\")\n",
    "plt.title(\"Conversion rate by day of week\\n\")\n",
    "plt.ylim(0)\n",
    "plt.show()\n"
   ]
  },
  {
   "cell_type": "code",
   "execution_count": null,
   "metadata": {},
   "outputs": [],
   "source": [
    "# Add the new column is_correct_lang\n",
    "house_ads[\"is_correct_lang\"] = np.where(\n",
    "    house_ads[\"language_displayed\"] == house_ads[\"language_preferred\"], \"Yes\", \"No\"\n",
    ")\n",
    "\n",
    "# Groupby date_served and correct_language\n",
    "language_check = house_ads.groupby([\"date_served\", \"is_correct_lang\"])[\n",
    "    \"is_correct_lang\"\n",
    "].count()\n",
    "\n",
    "# Unstack language_check and fill missing values with 0's\n",
    "language_check_df = pd.DataFrame(language_check.unstack(level=1)).fillna(0)\n",
    "\n",
    "# Print results\n",
    "print(language_check_df)\n"
   ]
  },
  {
   "cell_type": "code",
   "execution_count": null,
   "metadata": {},
   "outputs": [],
   "source": [
    "# Divide the count where language is correct by the row sum\n",
    "language_check_df[\"pct\"] = language_check_df[\"Yes\"] / language_check_df.sum(axis=1)\n",
    "\n",
    "# Plot and show your results\n",
    "plt.plot(language_check_df.index, language_check_df[\"pct\"])\n",
    "plt.show()\n"
   ]
  },
  {
   "cell_type": "markdown",
   "metadata": {},
   "source": [
    "## Resolving Inconsistencies"
   ]
  },
  {
   "cell_type": "markdown",
   "metadata": {},
   "source": [
    "## AB Testing for marketing\n",
    "\n",
    "A/B testing refers to a randomized experiment which evaluates which variant performs better. \n",
    "In order for our tests to have meaning, we must have a clear control. \n",
    "The control should be something that currently exists and is running in production. \n",
    "Each variant in the test should have only one major change from the control; otherwise, it will be impossible to parse what led to the change in your key metrics. \n",
    "Prior to beginning a test, you must develop a hypothesis and determine which metric you are trying to impact. \n",
    "Always set key metrics ahead of running the test. \n",
    "It's easy to redefine success in retrospect, especially if you are under pressure to find a positive result. \n",
    "If you document success metrics ahead of time, you can maintain clarity around the success of the test.\n"
   ]
  },
  {
   "cell_type": "code",
   "execution_count": null,
   "metadata": {},
   "outputs": [],
   "source": [
    "email = marketing[marketing['marketing_channel'] == 'Email']\n",
    "allocation = email.groupby(['variant'])['user_id'].nunique()\n",
    "\n",
    "allocation.plot(kind='bar', title='Email Variant Allocation')\n",
    "plt.xlabel('Variant')\n",
    "plt.ylabel('Users')\n",
    "plt.show()\n"
   ]
  },
  {
   "cell_type": "code",
   "execution_count": null,
   "metadata": {},
   "outputs": [],
   "source": [
    "subscribers = email.groupby(['user_id', 'variant'])['converted'].max()\n",
    "\n",
    "subscribers"
   ]
  },
  {
   "cell_type": "code",
   "execution_count": null,
   "metadata": {},
   "outputs": [],
   "source": [
    "subscribers = pd.DataFrame(subscribers.unstack(level=1))\n"
   ]
  },
  {
   "cell_type": "code",
   "execution_count": 158,
   "metadata": {},
   "outputs": [],
   "source": [
    "control = subscribers[\"control\"].dropna()\n",
    "personalization = subscribers[\"personalization\"].dropna()\n"
   ]
  },
  {
   "cell_type": "code",
   "execution_count": null,
   "metadata": {},
   "outputs": [],
   "source": [
    "print(\"Conversion rate CONTROL:\", np.mean(control))\n",
    "print(\"Conversion rate PERSO:\", np.mean(personalization))\n"
   ]
  },
  {
   "cell_type": "markdown",
   "metadata": {},
   "source": [
    "## Calculating Lift and significance level\n",
    "\n",
    "$$\n",
    "\\text{Lift} = \\frac{\\text{Treatment conversion rate} - \\text{Control conversion rate}}{\\text{Control conversion rate}}\n",
    "$$"
   ]
  },
  {
   "cell_type": "markdown",
   "metadata": {},
   "source": []
  },
  {
   "cell_type": "code",
   "execution_count": null,
   "metadata": {},
   "outputs": [],
   "source": [
    "lift = (np.mean(personalization) - np.mean(control) ) / np.mean(control)\n",
    "\n",
    "print(f\"Lift: {lift:.2%}\")\n"
   ]
  },
  {
   "cell_type": "code",
   "execution_count": null,
   "metadata": {},
   "outputs": [],
   "source": [
    "from scipy.stats import ttest_ind \n",
    "\n",
    "# Convert boolean values to integers\n",
    "control_int = control.astype(int)\n",
    "personalization_int = personalization.astype(int)\n",
    "\n",
    "t = ttest_ind(control_int, personalization_int)\n",
    "\n",
    "print(t)"
   ]
  },
  {
   "cell_type": "code",
   "execution_count": null,
   "metadata": {},
   "outputs": [],
   "source": []
  }
 ],
 "metadata": {
  "kernelspec": {
   "display_name": "BaseML",
   "language": "python",
   "name": "python3"
  },
  "language_info": {
   "codemirror_mode": {
    "name": "ipython",
    "version": 3
   },
   "file_extension": ".py",
   "mimetype": "text/x-python",
   "name": "python",
   "nbconvert_exporter": "python",
   "pygments_lexer": "ipython3",
   "version": "3.11.10"
  }
 },
 "nbformat": 4,
 "nbformat_minor": 2
}
