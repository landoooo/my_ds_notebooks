{
 "cells": [
  {
   "cell_type": "code",
   "execution_count": null,
   "id": "977629ef-c9a1-4e19-b37d-9217904cd29f",
   "metadata": {},
   "outputs": [],
   "source": [
    "import kagglehub\n",
    "\n",
    "# Download latest version\n",
    "path = kagglehub.dataset_download(\"anandshaw2001/video-game-sales\")\n",
    "\n",
    "print(\"Path to dataset files:\", path)"
   ]
  },
  {
   "cell_type": "code",
   "execution_count": null,
   "id": "53a7bac2-c19c-4fca-996c-3eebc2249016",
   "metadata": {},
   "outputs": [],
   "source": [
    "!ls /Users/el_fer/.cache/kagglehub/datasets/anandshaw2001/video-game-sales/versions/1"
   ]
  },
  {
   "cell_type": "code",
   "execution_count": null,
   "id": "5ca070e8-2974-48f7-91b9-a157a3979034",
   "metadata": {},
   "outputs": [],
   "source": [
    "import pandas as pd \n",
    "import numpy as np \n",
    "import matplotlib.pyplot as plt \n",
    "import seaborn as sns \n",
    "import os"
   ]
  },
  {
   "cell_type": "code",
   "execution_count": null,
   "id": "57fa6348-3cee-4144-98d9-3c0957a45f08",
   "metadata": {},
   "outputs": [],
   "source": [
    "df = pd.read_csv(os.path.join(path, 'vgsales.csv'))"
   ]
  },
  {
   "cell_type": "code",
   "execution_count": null,
   "id": "72603dc0-ecf5-4f64-95e1-79dd952456cd",
   "metadata": {},
   "outputs": [],
   "source": [
    "df.head()"
   ]
  },
  {
   "cell_type": "code",
   "execution_count": null,
   "id": "e4b37e0c-2351-4387-8b03-83590d801089",
   "metadata": {},
   "outputs": [],
   "source": [
    "df.info()"
   ]
  },
  {
   "cell_type": "code",
   "execution_count": null,
   "id": "149fc0ba-50f9-48ab-bf41-c15ddbe6a03f",
   "metadata": {},
   "outputs": [],
   "source": [
    "df[df['Year'].isna()]"
   ]
  },
  {
   "cell_type": "code",
   "execution_count": null,
   "id": "0cdfccb5-17dc-46ff-b8a0-c707e17d8b82",
   "metadata": {},
   "outputs": [],
   "source": [
    "df['Publisher'].value_counts(normalize=True).count()"
   ]
  },
  {
   "cell_type": "code",
   "execution_count": null,
   "id": "7f0c5b29-ad37-4788-beb1-bcc85a52fc4f",
   "metadata": {},
   "outputs": [],
   "source": [
    "df.head()"
   ]
  },
  {
   "cell_type": "code",
   "execution_count": null,
   "id": "5bb432fc-d011-45e8-8575-bb367ed31aed",
   "metadata": {},
   "outputs": [],
   "source": [
    "df['Year'] = pd.to_datetime(df['Year'], format='%Y')\n",
    "df = df.sort_values(by='Year')"
   ]
  },
  {
   "cell_type": "code",
   "execution_count": null,
   "id": "301ae071-47cf-4b4d-8dd0-a8fb530f1593",
   "metadata": {},
   "outputs": [],
   "source": [
    "plt.figure(figsize=(25, 10))\n",
    "sns.boxplot(data=df, x='Year', y='Global_Sales')\n",
    "plt.xticks(rotation=90)\n",
    "plt.show()"
   ]
  },
  {
   "cell_type": "code",
   "execution_count": null,
   "id": "c7fc6cc4-3f2d-406c-9e2b-4ac8e4f05451",
   "metadata": {},
   "outputs": [],
   "source": [
    "sns.lineplot(df.groupby('Year')['Global_Sales'].sum())"
   ]
  },
  {
   "cell_type": "code",
   "execution_count": null,
   "id": "fab31dd9-7f7b-49d3-bb00-7882293c808a",
   "metadata": {},
   "outputs": [],
   "source": [
    "plt.style.use('ggplot')\n",
    "plt.figure(figsize=(25, 20), dpi=300)\n",
    "pd.plotting.scatter_matrix(df, alpha=0.2, figsize = (15,10))\n",
    "plt.show()"
   ]
  },
  {
   "cell_type": "code",
   "execution_count": null,
   "id": "c364a296-93e6-41ea-81d2-e7a48d7148ef",
   "metadata": {},
   "outputs": [],
   "source": []
  }
 ],
 "metadata": {
  "kernelspec": {
   "display_name": "Python 3 (ipykernel)",
   "language": "python",
   "name": "python3"
  },
  "language_info": {
   "codemirror_mode": {
    "name": "ipython",
    "version": 3
   },
   "file_extension": ".py",
   "mimetype": "text/x-python",
   "name": "python",
   "nbconvert_exporter": "python",
   "pygments_lexer": "ipython3",
   "version": "3.11.11"
  }
 },
 "nbformat": 4,
 "nbformat_minor": 5
}
