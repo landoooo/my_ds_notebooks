{
 "cells": [
  {
   "cell_type": "markdown",
   "id": "21503acd-6cbf-40a4-ad05-853a5da28fb7",
   "metadata": {},
   "source": [
    "![tower_bridge](tower_bridge.jpg)\n",
    "\n",
    "As the climate changes, predicting the weather becomes even more important for businesses. You have been asked to support on a machine learning project with the aim of building a pipeline to predict the climate in London, England. Specifically, the model should predict mean temperature in degrees Celsius (°C).\n",
    "\n",
    "Since the weather depends on a lot of different factors, you will want to run a lot of experiments to determine what the best approach is to predict the weather. In this project, you will run experiments for different regression models predicting the mean temperature, using a combination of `sklearn` and `mlflow`.\n",
    "\n",
    "You will be working with data stored in `london_weather.csv`, which contains the following columns:\n",
    "- **date** - recorded date of measurement - (**int**)\n",
    "- **cloud_cover** - cloud cover measurement in oktas - (**float**)\n",
    "- **sunshine** - sunshine measurement in hours (hrs) - (**float**)\n",
    "- **global_radiation** - irradiance measurement in Watt per square meter (W/m2) - (**float**)\n",
    "- **max_temp** - maximum temperature recorded in degrees Celsius (°C) - (**float**)\n",
    "- **mean_temp** - **target** mean temperature in degrees Celsius (°C) - (**float**)\n",
    "- **min_temp** - minimum temperature recorded in degrees Celsius (°C) - (**float**)\n",
    "- **precipitation** - precipitation measurement in millimeters (mm) - (**float**)\n",
    "- **pressure** - pressure measurement in Pascals (Pa) - (**float**)\n",
    "- **snow_depth** - snow depth measurement in centimeters (cm) - (**float**)"
   ]
  },
  {
   "cell_type": "code",
   "execution_count": null,
   "id": "b00d6bd5-7e31-4121-a75b-b9ce65a0fed8",
   "metadata": {
    "executionCancelledAt": null,
    "executionTime": 634,
    "lastExecutedAt": 1698310520129,
    "lastScheduledRunId": null,
    "lastSuccessfullyExecutedCode": "# Run this cell to import the modules you require\nimport pandas as pd\nimport numpy as np\nimport mlflow\nimport mlflow.sklearn\nimport seaborn as sns\nfrom sklearn.model_selection import train_test_split\nfrom sklearn.metrics import mean_squared_error\nfrom sklearn.impute import SimpleImputer\nfrom sklearn.preprocessing import StandardScaler\nfrom sklearn.linear_model import LinearRegression\nfrom sklearn.tree import DecisionTreeRegressor\nfrom sklearn.ensemble import RandomForestRegressor"
   },
   "outputs": [],
   "source": [
    "# Run this cell to import the modules you require\n",
    "import pandas as pd\n",
    "import numpy as np\n",
    "import mlflow\n",
    "import mlflow.sklearn\n",
    "import matplotlib.pyplot as plt\n",
    "import seaborn as sns\n",
    "from sklearn.model_selection import train_test_split\n",
    "from sklearn.metrics import mean_squared_error\n",
    "from sklearn.impute import SimpleImputer\n",
    "from sklearn.preprocessing import StandardScaler\n",
    "from sklearn.linear_model import LinearRegression\n",
    "from sklearn.tree import DecisionTreeRegressor\n",
    "from sklearn.ensemble import RandomForestRegressor"
   ]
  },
  {
   "cell_type": "markdown",
   "id": "6ebca7ad-aa4d-4118-ba48-25254b08f691",
   "metadata": {},
   "source": [
    "# Loading Data"
   ]
  },
  {
   "cell_type": "code",
   "execution_count": null,
   "id": "d5f06700-e13b-41f8-bb4b-4b6adddb70b5",
   "metadata": {
    "executionCancelledAt": null,
    "executionTime": 634,
    "lastExecutedAt": 1698310520129,
    "lastScheduledRunId": null,
    "lastSuccessfullyExecutedCode": "# Run this cell to import the modules you require\nimport pandas as pd\nimport numpy as np\nimport mlflow\nimport mlflow.sklearn\nimport seaborn as sns\nfrom sklearn.model_selection import train_test_split\nfrom sklearn.metrics import mean_squared_error\nfrom sklearn.impute import SimpleImputer\nfrom sklearn.preprocessing import StandardScaler\nfrom sklearn.linear_model import LinearRegression\nfrom sklearn.tree import DecisionTreeRegressor\nfrom sklearn.ensemble import RandomForestRegressor"
   },
   "outputs": [],
   "source": [
    "# Read in the data\n",
    "weather = pd.read_csv(\"london_weather.csv\")\n",
    "\n",
    "# Start coding here\n",
    "# Use as many cells as you like"
   ]
  },
  {
   "cell_type": "code",
   "execution_count": null,
   "id": "2d97fae3-8c76-4ea7-8640-4959e1e3c199",
   "metadata": {},
   "outputs": [],
   "source": [
    "weather.head()"
   ]
  },
  {
   "cell_type": "code",
   "execution_count": null,
   "id": "9b7491a7-99b1-4f4e-bc4c-95bf55a9ff64",
   "metadata": {},
   "outputs": [],
   "source": [
    "weather.describe()"
   ]
  },
  {
   "cell_type": "markdown",
   "id": "65d4b80d-0944-4a2c-91e3-b124d55bc2b3",
   "metadata": {},
   "source": [
    "# Cleaning Data"
   ]
  },
  {
   "cell_type": "code",
   "execution_count": null,
   "id": "ae65ed06-1dfc-4b6a-85ee-5f4a03759831",
   "metadata": {},
   "outputs": [],
   "source": [
    "weather['date'] = pd.to_datetime(weather['date'], format='%Y%m%d')\n",
    "weather.head()"
   ]
  },
  {
   "cell_type": "markdown",
   "id": "66606adf-25fa-4729-a327-2a57702908f0",
   "metadata": {
    "execution": {
     "iopub.execute_input": "2024-10-08T13:00:56.176779Z",
     "iopub.status.busy": "2024-10-08T13:00:56.175932Z",
     "iopub.status.idle": "2024-10-08T13:00:56.187611Z",
     "shell.execute_reply": "2024-10-08T13:00:56.185994Z",
     "shell.execute_reply.started": "2024-10-08T13:00:56.176740Z"
    }
   },
   "source": [
    "- process null values\n",
    "- Normalize features for linear regression\n",
    "- Extract day of year, day of week, day of the month and month as features\n",
    "- Generate average mean temp per month\n"
   ]
  },
  {
   "cell_type": "code",
   "execution_count": null,
   "id": "a19a2b10-4cfc-4dbc-88e8-0492bbf18a17",
   "metadata": {},
   "outputs": [],
   "source": [
    "weather.isna().sum()"
   ]
  },
  {
   "cell_type": "code",
   "execution_count": null,
   "id": "a2e1c65e-85a9-4459-b292-5138ac577542",
   "metadata": {},
   "outputs": [],
   "source": [
    "# Since the amount of nulls in these columns is not that big, lets drop the rows where these values are null.\n",
    "weather = weather[~weather['mean_temp'].isnull()]\n",
    "weather = weather[~weather['cloud_cover'].isnull()]\n",
    "weather = weather[~weather['global_radiation'].isnull()]\n",
    "weather = weather[~weather['pressure'].isnull()]\n",
    "weather = weather[~weather['precipitation'].isnull()]"
   ]
  },
  {
   "cell_type": "code",
   "execution_count": null,
   "id": "5fe63979-a64f-4faf-b951-d0f1a0f5732e",
   "metadata": {},
   "outputs": [],
   "source": [
    "weather.isna().sum()"
   ]
  },
  {
   "cell_type": "markdown",
   "id": "f6512c87-978c-44b8-b85f-921c0c78c6fd",
   "metadata": {
    "execution": {
     "iopub.execute_input": "2024-10-08T13:21:25.437151Z",
     "iopub.status.busy": "2024-10-08T13:21:25.436281Z",
     "iopub.status.idle": "2024-10-08T13:21:25.451126Z",
     "shell.execute_reply": "2024-10-08T13:21:25.449545Z",
     "shell.execute_reply.started": "2024-10-08T13:21:25.437110Z"
    }
   },
   "source": [
    "# Exploratory Data Analysis"
   ]
  },
  {
   "cell_type": "code",
   "execution_count": null,
   "id": "8b0a7893-c0be-45f7-9d13-1ba4b0e7597b",
   "metadata": {},
   "outputs": [],
   "source": [
    "plt.figure(figsize=(50, 6))\n",
    "sns.lineplot(data=weather, x='date', y='mean_temp')"
   ]
  },
  {
   "cell_type": "code",
   "execution_count": null,
   "id": "b26c6722-2ec6-4d59-9b23-1580bb7244cf",
   "metadata": {},
   "outputs": [],
   "source": [
    "plt.figure(figsize=(25, 6))\n",
    "sns.lineplot(data=weather, x='date', y='snow_depth')"
   ]
  },
  {
   "cell_type": "code",
   "execution_count": null,
   "id": "16308afb-51e9-469e-b83a-bf1f159b4993",
   "metadata": {},
   "outputs": [],
   "source": [
    "# Since its a timeseries, lets interpolate to fulfill the missing snow_depths\n",
    "weather['snow_depth'] = weather['snow_depth'].interpolate(method='linear')"
   ]
  },
  {
   "cell_type": "markdown",
   "id": "2a566f41-6a77-4cd9-bdd6-f2cd9b1b9bf0",
   "metadata": {
    "execution": {
     "iopub.execute_input": "2024-10-08T13:21:53.260782Z",
     "iopub.status.busy": "2024-10-08T13:21:53.259962Z",
     "iopub.status.idle": "2024-10-08T13:21:53.267645Z",
     "shell.execute_reply": "2024-10-08T13:21:53.266750Z",
     "shell.execute_reply.started": "2024-10-08T13:21:53.260721Z"
    }
   },
   "source": [
    "# Feature Selection"
   ]
  },
  {
   "cell_type": "code",
   "execution_count": null,
   "id": "3b747620-1356-4621-8367-b3bdd0831b65",
   "metadata": {},
   "outputs": [],
   "source": [
    "sns.pairplot(data=weather)"
   ]
  },
  {
   "cell_type": "markdown",
   "id": "1c29d477-4784-4b18-9438-0d1180b7ba1a",
   "metadata": {},
   "source": [
    "# Preprocessing Data"
   ]
  },
  {
   "cell_type": "code",
   "execution_count": null,
   "id": "195df902-0b13-4992-a228-cfd360402a6b",
   "metadata": {},
   "outputs": [],
   "source": [
    "weather.loc[:, 'month'] = weather['date'].dt.month"
   ]
  },
  {
   "cell_type": "code",
   "execution_count": null,
   "id": "8ed61e20-f6df-44bb-8167-5830f404e5ef",
   "metadata": {},
   "outputs": [],
   "source": [
    "X = weather.drop(['mean_temp', 'date'], axis=1)\n",
    "y = weather['mean_temp']\n",
    "\n",
    "X_train, X_test, y_train, y_test = train_test_split(X, y, train_size=0.8, random_state=43)\n",
    "\n",
    "len(X_train), len(X_test), len(y_train), len(y_test)"
   ]
  },
  {
   "cell_type": "code",
   "execution_count": null,
   "id": "fc1c0f27-7227-4c86-b64d-d537a11a500c",
   "metadata": {},
   "outputs": [],
   "source": [
    "X_columns = X.columns\n",
    "\n",
    "scaler = StandardScaler() \n",
    "X_train = scaler.fit_transform(X_train)\n",
    "X_test = scaler.transform(X_test)\n"
   ]
  },
  {
   "cell_type": "code",
   "execution_count": null,
   "id": "f9c786db-5665-4adc-afd7-bcac9e0a4223",
   "metadata": {},
   "outputs": [],
   "source": [
    "X.isna().sum()"
   ]
  },
  {
   "cell_type": "markdown",
   "id": "ba805484-4860-4ff4-8922-ab68a1ac496d",
   "metadata": {
    "execution": {
     "iopub.execute_input": "2024-10-08T13:25:01.279377Z",
     "iopub.status.busy": "2024-10-08T13:25:01.278569Z",
     "iopub.status.idle": "2024-10-08T13:25:01.292062Z",
     "shell.execute_reply": "2024-10-08T13:25:01.290746Z",
     "shell.execute_reply.started": "2024-10-08T13:25:01.279339Z"
    }
   },
   "source": [
    "# Training and Evaluation"
   ]
  },
  {
   "cell_type": "code",
   "execution_count": null,
   "id": "ee9587d0-6cc1-49cb-af41-cfebf9c3060d",
   "metadata": {},
   "outputs": [],
   "source": [
    "# Storing mlflow tracking in a sqlite file.\n",
    "mlflow.set_tracking_uri('sqlite:///./mydb.sqlite')"
   ]
  },
  {
   "cell_type": "code",
   "execution_count": null,
   "id": "d6df0eba-118e-4bc7-9100-75ac346ce7b0",
   "metadata": {},
   "outputs": [],
   "source": [
    "#experiment_id = mlflow.create_experiment('London_Weather')\n",
    "\n",
    "experiment = mlflow.get_experiment(experiment_id)\n",
    "print(f'Name: {experiment.name}')\n",
    "print(f'Creation time: {experiment.creation_time}')"
   ]
  },
  {
   "cell_type": "code",
   "execution_count": null,
   "id": "422f4c66-b32b-4383-b097-d0a14298962f",
   "metadata": {},
   "outputs": [],
   "source": [
    "mlflow.set_experiment('London_Weather')"
   ]
  },
  {
   "cell_type": "code",
   "execution_count": null,
   "id": "64420737-705f-4f87-a837-fb545a10b1d3",
   "metadata": {},
   "outputs": [],
   "source": [
    "mlflow.sklearn.autolog()"
   ]
  },
  {
   "cell_type": "code",
   "execution_count": null,
   "id": "7e5465af-d042-46fa-aba1-8a7b73a975b0",
   "metadata": {},
   "outputs": [],
   "source": [
    "eval_data = pd.DataFrame(data=X_test, columns=X_columns).reset_index(drop=True)\n",
    "eval_data[\"mean_temp\"] = y_test.reset_index(drop=True)"
   ]
  },
  {
   "cell_type": "code",
   "execution_count": null,
   "id": "7e4dad21-42a8-4303-9e8d-b2183bece786",
   "metadata": {},
   "outputs": [],
   "source": [
    "with mlflow.start_run():\n",
    "\n",
    "    dt = DecisionTreeRegressor(criterion='squared_error', \n",
    "                           splitter='best', \n",
    "                           max_depth=5 \n",
    "                          ) \n",
    "\n",
    "    dt.fit(X_train, y_train)\n",
    "\n",
    "    mlflow.sklearn.log_model(dt, \"model\")\n",
    "    \n",
    "    model_uri = mlflow.get_artifact_uri(\"model\")\n",
    "    \n",
    "    # This will run the evaluate Method against our model and our evaluation Data for the Regressor Type.\n",
    "    # Here we are also only selecting the \"default\" evaluators\n",
    "    result = mlflow.evaluate(\n",
    "        model_uri,\n",
    "        eval_data,\n",
    "        targets=\"mean_temp\",\n",
    "        model_type=\"regressor\",\n",
    "        evaluators=\"default\"\n",
    "    )\n",
    "\n",
    "    predicts = dt.predict(X_test)\n",
    "    dt_rmse = np.sqrt(mean_squared_error(y_test, predicts))\n",
    "    mlflow.log_metric(\"rmse_dt\", dt_rmse)"
   ]
  },
  {
   "cell_type": "code",
   "execution_count": null,
   "id": "4d29cf86-9de2-4e0c-813a-43b36ab552e2",
   "metadata": {},
   "outputs": [],
   "source": [
    "with mlflow.start_run():\n",
    "\n",
    "    lr = LinearRegression() \n",
    "\n",
    "    lr.fit(X_train, y_train)\n",
    "\n",
    "    mlflow.sklearn.log_model(lr, \"model\")\n",
    "    \n",
    "    model_uri = mlflow.get_artifact_uri(\"model\")\n",
    "    \n",
    "    # This will run the evaluate Method against our model and our evaluation Data for the Regressor Type.\n",
    "    # Here we are also only selecting the \"default\" evaluators\n",
    "    result = mlflow.evaluate(\n",
    "        model_uri,\n",
    "        eval_data,\n",
    "        targets=\"mean_temp\",\n",
    "        model_type=\"regressor\",\n",
    "        evaluators=\"default\"\n",
    "    )\n",
    "\n",
    "    predicts = lr.predict(X_test)\n",
    "    lr_rmse = np.sqrt(mean_squared_error(y_test, predicts))\n",
    "    mlflow.log_metric(\"rmse_lr\", lr_rmse)"
   ]
  },
  {
   "cell_type": "code",
   "execution_count": null,
   "id": "c571410a-7d93-42c7-8d53-6561963d9153",
   "metadata": {},
   "outputs": [],
   "source": [
    "experiment_results = mlflow.search_runs()"
   ]
  }
 ],
 "metadata": {
  "colab": {
   "name": "Welcome to DataCamp Workspaces.ipynb",
   "provenance": []
  },
  "kernelspec": {
   "display_name": "Python 3 (ipykernel)",
   "language": "python",
   "name": "python3"
  },
  "language_info": {
   "codemirror_mode": {
    "name": "ipython",
    "version": 3
   },
   "file_extension": ".py",
   "mimetype": "text/x-python",
   "name": "python",
   "nbconvert_exporter": "python",
   "pygments_lexer": "ipython3",
   "version": "3.11.10"
  }
 },
 "nbformat": 4,
 "nbformat_minor": 5
}
