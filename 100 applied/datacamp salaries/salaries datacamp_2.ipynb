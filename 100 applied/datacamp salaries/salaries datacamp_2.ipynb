{
 "cells": [
  {
   "cell_type": "markdown",
   "id": "6671fb82-1962-44c1-aa4f-4e44883b3832",
   "metadata": {},
   "source": [
    "## 📖 Background\n",
    "You work for an international HR consultancy helping companies attract and retain top talent in the competitive tech industry. As part of your services, you provide clients with insights into industry salary trends to ensure they remain competitive in hiring and compensation practices.\n",
    "\n",
    "Your team wants to use a data-driven approach to analyse how various factors—such as job role, experience level, remote work, and company size—impact salaries globally. By understanding these trends, you can advise clients on offering competitive packages to attract the best talent.\n",
    "\n",
    "In this competition, you’ll explore and visualise salary data from thousands of employees worldwide. f you're tackling the advanced level, you'll go a step further—building predictive models to uncover key salary drivers and providing insights on how to enhance future data collection."
   ]
  },
  {
   "cell_type": "markdown",
   "id": "96033c55-1630-4d0a-9f1b-e19d9669d151",
   "metadata": {},
   "source": [
    "# Executive Report\n",
    "\n",
    "This notebook builds on top of what has been done for the level 1.\n",
    "\n",
    "### General Observations\n",
    "\n",
    "- There is a total of **57194 records**.\n",
    "- There is **no null** in the whole dataset\n",
    "- The **52% of the records are duplicated**. We consider them as datapoints corresponding to different employees and not errors.\n",
    "\n",
    "### Comments and Data Cleanup\n",
    "\n",
    "| Column               | Description | Comments | Actions |\n",
    "|----------------------|------------|----------|---------|\n",
    "| **work_year**        | The year the salary was paid. | 2024 for the most part, fewer data points as we go back in time. <br> First observations from 2020 (**range 2020 to 2024**) | No action needed. |\n",
    "| **experience_level** | Employee experience level:<br>**EN**: Entry-level / Junior<br>**MI**: Mid-level / Intermediate<br>**SE**: Senior / Expert<br>**EX**: Executive / Director | Highly imbalanced. <br> SE the most frequent value. | Convert to an ordered category. |\n",
    "| **employment_type**  | Employment type:<br>**PT**: Part-time<br>**FT**: Full-time<br>**CT**: Contract<br>**FL**: Freelance | Highly imbalanced. <br> FT the most frequent. | Convert to a category. |\n",
    "| **job_title**        | The job title during the year. | Too many unique values (253). | Convert to a category. <br>Perform grouping?. Extract fields like manager, engineer, BI, ML, AI...)? |\n",
    "| **salary**          | Gross salary paid (in local currency). | Useless due to different currencies. | Drop this column. |\n",
    "| **salary_currency** | Salary currency (ISO 4217 code). | Highly imbalanced.<br> USD the most frequent value.  | Convert to a category. |\n",
    "| **salary_in_usd**   | Salary converted to USD using average yearly FX rate. | The outliers seem legit. | No action needed. |\n",
    "| **employee_residence** | Employee's primary country of residence (ISO 3166 code). | Highly imbalanced.<br> US the most frequent value.  | Convert to a category. |\n",
    "| **remote_ratio**     | Percentage of remote work:<br>**0**: No remote work (<20%)<br>**50**: Hybrid (50%)<br>**100**: Fully remote (>80%) | 0 (no remote work) for the most part. <br> Highly imbalanced. | Convert to a category. |\n",
    "| **company_location** | Employer's main office location (ISO 3166 code). | Highly imbalanced.<br> US the most frequent value. | Convert to a category. |\n",
    "| **company_size**     | Company size:<br>**S**: Small (<50 employees)<br>**M**: Medium (50–250 employees)<br>**L**: Large (>250 employees) | Highly imbalanced. <br> M the most frequent value | Convert to an ordered category. |\n",
    "\n",
    "### Recommendations\n",
    "\n",
    "The dataset contains valuable information to propose competitive salaries to candidates. Data is quite recent and covers a lot of different scenarions like different company sizes, contracts, company and employee locations, job_titles...\n",
    "\n",
    "Our recommendation would be to dive deepper into this dataset, prepare it and create a model to be able to create salary predictions."
   ]
  },
  {
   "cell_type": "markdown",
   "id": "0d9e910e-1b46-4a24-be97-6beb9e699aed",
   "metadata": {},
   "source": [
    "# Loading Data"
   ]
  },
  {
   "cell_type": "code",
   "execution_count": null,
   "id": "2b75957b-35e3-492e-b1ab-41780128ed18",
   "metadata": {
    "executionCancelledAt": null,
    "executionTime": 1836,
    "lastExecutedAt": 1742894754996,
    "lastExecutedByKernel": "714b3ba4-7c3c-41f6-a182-1d702dfc2c56",
    "lastScheduledRunId": null,
    "lastSuccessfullyExecutedCode": "import pandas as pd\nsalaries_df = pd.read_csv('salaries.csv')\nsalaries_df",
    "outputsMetadata": {
     "0": {
      "height": 550,
      "tableState": {
       "customFilter": {
        "const": {
         "type": "boolean",
         "valid": true,
         "value": true
        },
        "id": "d6efd96f-131a-4913-a740-89ccb9c2f072",
        "nodeType": "const"
       },
       "quickFilterText": ""
      },
      "type": "dataFrame"
     }
    }
   },
   "outputs": [],
   "source": [
    "import pandas as pd\n",
    "import warnings\n",
    "import seaborn as sns\n",
    "import numpy as np\n",
    "import matplotlib.pyplot as plt\n",
    "import scipy.stats as stats\n",
    "\n",
    "sns.set_style(\"darkgrid\")\n",
    "warnings.simplefilter(action='ignore', category=FutureWarning)\n",
    "df = pd.read_csv('salaries.csv')"
   ]
  },
  {
   "cell_type": "markdown",
   "id": "4545bdf4-8671-4f08-b1bc-2e1e7f69a15c",
   "metadata": {},
   "source": [
    "# Level 1"
   ]
  },
  {
   "cell_type": "code",
   "execution_count": null,
   "id": "52840d92-837d-44de-bc0f-2c8bce04c4bb",
   "metadata": {},
   "outputs": [],
   "source": [
    "# Lets analyze graphically the distribution of categorical features with low nunique\n",
    "fig, axes = plt.subplots(1, 5, figsize=(15, 5), sharey=True)\n",
    "\n",
    "cols = ['work_year', 'experience_level', 'employment_type', 'company_size', 'remote_ratio']\n",
    "\n",
    "for ax, col in zip(axes, cols):\n",
    "    sns.countplot(x=col, data=df, ax=ax, width=0.6)\n",
    "    ax.set_title(f'Distribution of {col}')\n",
    "    ax.set_xlabel('') \n",
    "    ax.tick_params(axis='x', rotation=45)  # Rota etiquetas si son largas\n",
    "\n",
    "plt.tight_layout()\n",
    "plt.show()\n"
   ]
  },
  {
   "cell_type": "code",
   "execution_count": null,
   "id": "3da8d986-cc83-48ee-bab0-9abbf79188d4",
   "metadata": {},
   "outputs": [],
   "source": [
    "# Lets analyze graphically the distribution of categorical features with many different values\n",
    "fig, axes = plt.subplots(1, 4, figsize=(20, 5), sharey=True)  # Compartir eje Y\n",
    "\n",
    "cols = ['job_title', 'salary_currency', 'employee_residence', 'company_location']\n",
    "\n",
    "for ax, col in zip(axes, cols):\n",
    "    top_categories = df[col].value_counts().nlargest(4).index  # 4 más comunes\n",
    "    data = df[col].apply(lambda x: x if x in top_categories else 'Other')  # Reemplaza el resto por \"Other\"\n",
    "\n",
    "    palette = {cat: \"C0\" for cat in top_categories} \n",
    "    palette['Other'] = \"green\"  \n",
    "    \n",
    "    sns.countplot(x=data, ax=ax, width=0.6, order=top_categories.tolist() + ['Other'], palette=palette)\n",
    "    ax.set_title(f'Distribution of {col}')\n",
    "    ax.set_xlabel('')\n",
    "    ax.tick_params(axis='x', rotation=45)\n",
    "    del(data)\n",
    "    \n",
    "plt.tight_layout()\n",
    "plt.show()"
   ]
  },
  {
   "cell_type": "markdown",
   "id": "fcd45fab-19da-4d31-b2d5-37a9234929ac",
   "metadata": {},
   "source": [
    "- Job_title is the only categorical feature where the datapoints are distributed across the different categories."
   ]
  },
  {
   "cell_type": "code",
   "execution_count": null,
   "id": "742415f6-10f5-43e7-8366-13a4c394acbe",
   "metadata": {
    "executionCancelledAt": null,
    "executionTime": 48,
    "lastExecutedAt": 1742895845932,
    "lastExecutedByKernel": "714b3ba4-7c3c-41f6-a182-1d702dfc2c56",
    "lastScheduledRunId": null,
    "lastSuccessfullyExecutedCode": "df['remote_ratio'] = np.where(df['remote_ratio']==0, 'presential', np.where(df['remote_ratio']==50, 'partial_remote','full_remote'))"
   },
   "outputs": [],
   "source": [
    "# Convert remote_ratio into a categorical feature with labels easier to interpret\n",
    "df['remote_ratio'] = np.where(df['remote_ratio']==0, 'presential', np.where(df['remote_ratio']==50, 'partial_remote','full_remote'))\n",
    "df['remote_ratio'] = df['remote_ratio'].astype('category')"
   ]
  },
  {
   "cell_type": "code",
   "execution_count": null,
   "id": "1cb45ddf-ddc3-46a2-8186-54aaa1300f09",
   "metadata": {
    "executionCancelledAt": null,
    "executionTime": 546,
    "lastExecutedAt": 1742896484950,
    "lastExecutedByKernel": "714b3ba4-7c3c-41f6-a182-1d702dfc2c56",
    "lastScheduledRunId": null,
    "lastSuccessfullyExecutedCode": "sns.distplot(df.salary_in_usd, bins=50)\nplt.title('Salary in USD')\nplt.show()"
   },
   "outputs": [],
   "source": [
    "# How the salary feature is distributed?\n",
    "sns.displot(df.salary_in_usd, bins=50)\n",
    "plt.title('Salary in USD')\n",
    "plt.xticks(rotation=45)\n",
    "plt.show()"
   ]
  },
  {
   "cell_type": "markdown",
   "id": "0d3b55bc-00b0-4fc2-9df8-6a6f3f1daa55",
   "metadata": {
    "execution": {
     "iopub.execute_input": "2025-04-04T10:17:55.806359Z",
     "iopub.status.busy": "2025-04-04T10:17:55.805799Z",
     "iopub.status.idle": "2025-04-04T10:17:55.814329Z",
     "shell.execute_reply": "2025-04-04T10:17:55.813192Z",
     "shell.execute_reply.started": "2025-04-04T10:17:55.806318Z"
    }
   },
   "source": [
    "# Level 2\n",
    "\n",
    "Lets start visualizing how other features impact salary."
   ]
  },
  {
   "cell_type": "code",
   "execution_count": null,
   "id": "d862f998-658a-4a51-95cd-37f7dc3aa966",
   "metadata": {},
   "outputs": [],
   "source": [
    "# Salary distribution for the main job_titles\n",
    "plt.figure(figsize=(12, 8))\n",
    "\n",
    "top_20_titles = df['job_title'].value_counts().nlargest(20).index\n",
    "df_top = df[df['job_title'].isin(top_20_titles)]\n",
    "order = df_top.groupby('job_title')['salary_in_usd'].median().sort_values(ascending=False).index\n",
    "\n",
    "sns.boxplot(data=df_top, y='job_title', x='salary_in_usd', order=order)\n",
    "plt.title('Salary_in_usd distribution for the main job_titles')\n",
    "plt.show()"
   ]
  },
  {
   "cell_type": "markdown",
   "id": "0b593acb-dd70-41fe-95a9-34fdf9e097c3",
   "metadata": {},
   "source": [
    "- The distribution of salaries is indeed different depending on the job title.\n",
    "- The ranges for the salaries of the different job_titles are quite wide\n",
    "- For pretty much every job_title there are outliers on the upper bound, indicating that some individuals are way above the rest of their peers.\n",
    "- The job_title with the highest median is 'Machine Learning Engineer' "
   ]
  },
  {
   "cell_type": "code",
   "execution_count": null,
   "id": "df562959-0931-4629-af41-468a673f28ea",
   "metadata": {},
   "outputs": [],
   "source": [
    "# Trends in Salaries Over Time\n",
    "plt.figure(figsize=(8, 6))  \n",
    "\n",
    "sns.regplot(data=df, x='work_year', y='salary_in_usd')\n",
    "plt.xticks(sorted(df['work_year'].unique()))\n",
    "\n",
    "plt.title('Trends in Salaries Over Time: Annual Salary_in_usd Distribution (2020-2024)')\n",
    "plt.show()"
   ]
  },
  {
   "cell_type": "code",
   "execution_count": null,
   "id": "7d1d3137-f054-405c-8128-1b69e8756af4",
   "metadata": {},
   "outputs": [],
   "source": [
    "# Distribution of salaries based on categorical features\n",
    "plt.figure(figsize=(12, 8))  \n",
    "\n",
    "fig, axes = plt.subplots(1, 4, figsize=(20, 5))  # Compartir eje Y\n",
    "\n",
    "cols = ['experience_level', 'employment_type', 'remote_ratio', 'company_size']\n",
    "\n",
    "for ax, col in zip(axes, cols):\n",
    "    order = df.groupby(col)['salary_in_usd'].median().sort_values(ascending=False).index\n",
    "    sns.boxplot(data=df, x=col, y='salary_in_usd', order=order, ax=ax)\n",
    "    \n",
    "    ax.set_title(f'Boxplot of {col} - salary USD')\n",
    "    ax.set_xlabel('')\n",
    "    ax.tick_params(axis='x', rotation=45)\n",
    "    \n",
    "plt.tight_layout()\n",
    "plt.show()"
   ]
  },
  {
   "cell_type": "markdown",
   "id": "d89cb209-34f9-499b-82ef-9734feff92fc",
   "metadata": {},
   "source": [
    "- Salary_in_usd is impacted by experience_level, employment_type, remote_ratio and company_size\n",
    "- A higher level of experience is in general better paid\n",
    "- Full time employes are the best paid\n",
    "- Parially remote workers are the worst paid\n",
    "- Employees of small companies are the worst paid\n",
    "- The number of outliers is still high"
   ]
  },
  {
   "cell_type": "code",
   "execution_count": null,
   "id": "66ef092d-8de6-4596-a8bd-11c5eea9d0bd",
   "metadata": {},
   "outputs": [],
   "source": [
    "# Distribution of salaries based on employee_residence\n",
    "plt.figure(figsize=(12, 8))\n",
    "\n",
    "top_20_res = df['employee_residence'].value_counts().nlargest(20).index\n",
    "df_top = df[df['employee_residence'].isin(top_20_res)]\n",
    "order = df_top.groupby('employee_residence')['salary_in_usd'].median().dropna().sort_values(ascending=False).index\n",
    "\n",
    "sns.boxplot(data=df_top, y='employee_residence', x='salary_in_usd', order=order)\n",
    "plt.title('Salary distributions by top 20 employee residence sorted by median salary_in_usd')\n",
    "plt.show()"
   ]
  },
  {
   "cell_type": "markdown",
   "id": "0c42fbcc-5aed-492d-aca7-df2a52de6523",
   "metadata": {},
   "source": [
    "- US employees are the best paid.\n",
    "- The number of outliers in US is big.\n",
    "- There is a relation between the employee residence and the salary"
   ]
  },
  {
   "cell_type": "code",
   "execution_count": null,
   "id": "a975229c-faf8-4bb9-ade2-4600bfcd7095",
   "metadata": {},
   "outputs": [],
   "source": [
    "# Distribution of salaries based on company_location\n",
    "plt.figure(figsize=(12, 8))\n",
    "\n",
    "top_20_res = df['company_location'].value_counts().nlargest(20).index\n",
    "df_top = df[df['company_location'].isin(top_20_res)]\n",
    "order = df_top.groupby('company_location')['salary_in_usd'].median().dropna().sort_values(ascending=False).index\n",
    "\n",
    "sns.boxplot(data=df_top, y='company_location', x='salary_in_usd', order=order)\n",
    "plt.title('Salary distributions by top 20 company location sorted by median salary_in_usd')\n",
    "plt.show()"
   ]
  },
  {
   "cell_type": "markdown",
   "id": "c2fb8e98-1272-4e17-a00c-05fa95ffa625",
   "metadata": {},
   "source": [
    "- Employees of US located companies are the best paid.\n",
    "- The number of outliers in US located companies is big.\n",
    "- There is a relation between the company location and salary_in_usd"
   ]
  },
  {
   "cell_type": "markdown",
   "id": "805228cf-29e2-431f-b707-8db581e419c1",
   "metadata": {},
   "source": [
    "## Questions\n",
    "### Question 1: Create a bar chart displaying the top 5 job titles with the highest average salary (in USD)."
   ]
  },
  {
   "cell_type": "code",
   "execution_count": null,
   "id": "f45abaa1-6db4-40f6-a0f5-612747d6c454",
   "metadata": {},
   "outputs": [],
   "source": [
    "biggest_salaries = df.groupby('job_title')['salary_in_usd'].mean().nlargest(5).round().sort_values()\n",
    "biggest_salaries.plot(kind='barh')\n",
    "plt.xlabel(\"Average Salary in USD\")\n",
    "plt.ylabel(\"Job Title\")\n",
    "plt.title(\"Top 5 Job Titles with Highest Average Salaries\")\n",
    "plt.xticks(rotation=45)\n",
    "plt.show()"
   ]
  },
  {
   "cell_type": "markdown",
   "id": "257a7d3d-1c10-4e7f-8d1b-900518cc3d8c",
   "metadata": {},
   "source": [
    "### Question 2: Compare the average salaries for employees working remotely 100%, 50%, and 0%. What patterns or trends do you observe?"
   ]
  },
  {
   "cell_type": "code",
   "execution_count": null,
   "id": "c5536b4c-9547-4996-a136-6aa85317fa53",
   "metadata": {},
   "outputs": [],
   "source": [
    "fig, axes = plt.subplots(1, 2, figsize=(10, 6), sharey=True)\n",
    "\n",
    "# Bar plot\n",
    "remote_salaries = df.groupby('remote_ratio')['salary_in_usd'].mean().round()\n",
    "remote_salaries.plot(kind='bar', ax=axes[0])\n",
    "axes[0].set_ylabel(\"Average Salary in USD\")\n",
    "axes[0].set_xlabel(\"Remote Ratio\")\n",
    "axes[0].set_title(\"Remote Working Policies - Average Salaries in usd\")\n",
    "axes[0].tick_params(axis='x', rotation=45)\n",
    "\n",
    "# Box plot\n",
    "sns.boxplot(data=df, x='remote_ratio', y='salary_in_usd', ax=axes[1])\n",
    "axes[1].set_xlabel(\"Remote Ratio\")\n",
    "axes[1].set_ylabel(\"Salary in USD\")\n",
    "axes[1].set_title(\"Remote Working Policies - Salary_in_usd Distribution\")\n",
    "axes[1].tick_params(axis='x', rotation=45)\n",
    "\n",
    "plt.tight_layout()\n",
    "plt.show()"
   ]
  },
  {
   "cell_type": "markdown",
   "id": "6545c06d-2998-474c-ab2f-b04fac54136a",
   "metadata": {},
   "source": [
    "- The mean and median of salary_in_usd of the Partial_remote category is inferior to the ones of the two others.\n",
    "- The distributions of salary_in_usd for full_remote and presential look similar based on the box plots. Lets compare these two distributions to see if they similarity is statistically significant."
   ]
  },
  {
   "cell_type": "code",
   "execution_count": null,
   "id": "0713f937-232a-41ae-a511-9ea5ade658bc",
   "metadata": {},
   "outputs": [],
   "source": [
    "# Based on the number of outliers, it seems they are not, but are these distributions normal?\n",
    "for ratio in df['remote_ratio'].unique():\n",
    "    statistic, pvalue = stats.shapiro(df[df['remote_ratio'] == ratio]['salary_in_usd'])\n",
    "    print(f\"Remote Ratio {ratio}: stat:{round(statistic, 5)}, p-val:{pvalue}\")"
   ]
  },
  {
   "cell_type": "markdown",
   "id": "6937f969-a73a-4876-a23e-42316eb2af7f",
   "metadata": {},
   "source": [
    "Since the salary distributions are not normal (p too small, not supporting null hypothesis of normality), we cannot use ANOVA. Lets use kruskal-Wallis instead. Since the distribution of the partial_remote category is clearly different, we dont include it in the test."
   ]
  },
  {
   "cell_type": "code",
   "execution_count": null,
   "id": "15ca3580-7fbd-4fef-b722-a47dae9af3d1",
   "metadata": {},
   "outputs": [],
   "source": [
    "# lets check if the presential and full_remote follow similar distributions\n",
    "kruskal_result = stats.kruskal(df[df['remote_ratio'] == 'presential']['salary_in_usd'], \n",
    "                         df[df['remote_ratio'] == 'full_remote']['salary_in_usd'])\n",
    "\n",
    "print(\"Kruskal-Wallis result:\", kruskal_result)"
   ]
  },
  {
   "cell_type": "markdown",
   "id": "2ce6363c-92dc-4d73-aeeb-90e65c5b3aef",
   "metadata": {
    "execution": {
     "iopub.execute_input": "2025-03-27T15:57:06.542291Z",
     "iopub.status.busy": "2025-03-27T15:57:06.542139Z",
     "iopub.status.idle": "2025-03-27T15:57:06.546038Z",
     "shell.execute_reply": "2025-03-27T15:57:06.545231Z",
     "shell.execute_reply.started": "2025-03-27T15:57:06.542277Z"
    }
   },
   "source": [
    "The p-value of the kruskal test makes us reject the null hypothesis of the distributions of presential and full_remote are the same. We can say then that presential and full remote employees follow different salary distributions."
   ]
  },
  {
   "cell_type": "markdown",
   "id": "8dd550c2-2a17-4cd9-944b-8b0cccaf2ba7",
   "metadata": {},
   "source": [
    "The partial_remote policy is less paid that the other two policies. Presencial is the best payed of all three."
   ]
  },
  {
   "cell_type": "markdown",
   "id": "d3ad249d-ff84-4be4-a7c3-2e908aa9ae0b",
   "metadata": {},
   "source": [
    "### Question 3 : Visualise the salary distribution (in USD) across company sizes (S, M, L). Which company size offers the highest average salary?"
   ]
  },
  {
   "cell_type": "code",
   "execution_count": null,
   "id": "bcb7a3ee-2b20-4507-9485-944741469074",
   "metadata": {},
   "outputs": [],
   "source": [
    "fig, axes = plt.subplots(1, 2, figsize=(10, 6), sharey=True)\n",
    "\n",
    "# Bar plot\n",
    "remote_salaries = df.groupby('company_size')['salary_in_usd'].mean().round()\n",
    "remote_salaries.plot(kind='bar', ax=axes[0])\n",
    "axes[0].set_ylabel(\"Average Salary in USD\")\n",
    "axes[0].set_xlabel(\"company_size\")\n",
    "axes[0].set_title(\"company_size - Average Salaries\")\n",
    "axes[0].tick_params(axis='x', rotation=45)\n",
    "\n",
    "# Box plot\n",
    "sns.boxplot(data=df, x='company_size', y='salary_in_usd', ax=axes[1])\n",
    "axes[1].set_xlabel(\"company_size\")\n",
    "axes[1].set_ylabel(\"Salary in USD\")\n",
    "axes[1].set_title(\"company_size - Salary Distribution\")\n",
    "axes[1].tick_params(axis='x', rotation=45)\n",
    "\n",
    "plt.tight_layout()\n",
    "plt.show()"
   ]
  },
  {
   "cell_type": "markdown",
   "id": "036bc28e-c0c1-4ddb-b11f-1a6d072dd926",
   "metadata": {},
   "source": [
    "Both median and mean salary are higher for the **medium size companies**. Small companies are the ones offering lower salaries."
   ]
  },
  {
   "cell_type": "code",
   "execution_count": null,
   "id": "39247fe2-7df5-43a9-86e3-0b97fc0a40d2",
   "metadata": {},
   "outputs": [],
   "source": []
  }
 ],
 "metadata": {
  "editor": "DataLab",
  "kernelspec": {
   "display_name": "Python 3 (ipykernel)",
   "language": "python",
   "name": "python3"
  },
  "language_info": {
   "codemirror_mode": {
    "name": "ipython",
    "version": 3
   },
   "file_extension": ".py",
   "mimetype": "text/x-python",
   "name": "python",
   "nbconvert_exporter": "python",
   "pygments_lexer": "ipython3",
   "version": "3.11.11"
  }
 },
 "nbformat": 4,
 "nbformat_minor": 5
}
