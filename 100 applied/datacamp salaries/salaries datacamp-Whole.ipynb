{
 "cells": [
  {
   "cell_type": "markdown",
   "id": "0",
   "metadata": {},
   "source": [
    "## 📖 Background\n",
    "You work for an international HR consultancy helping companies attract and retain top talent in the competitive tech industry. As part of your services, you provide clients with insights into industry salary trends to ensure they remain competitive in hiring and compensation practices.\n",
    "\n",
    "Your team wants to use a data-driven approach to analyse how various factors—such as job role, experience level, remote work, and company size—impact salaries globally. By understanding these trends, you can advise clients on offering competitive packages to attract the best talent.\n",
    "\n",
    "In this competition, you’ll explore and visualise salary data from thousands of employees worldwide. f you're tackling the advanced level, you'll go a step further—building predictive models to uncover key salary drivers and providing insights on how to enhance future data collection."
   ]
  },
  {
   "cell_type": "markdown",
   "id": "1",
   "metadata": {},
   "source": [
    "## 💾 The data\n",
    "\n",
    "The data comes from a survey hosted by an HR consultancy, available in `'salaries.csv'`.\n",
    "\n",
    "#### Each row represents a single employee's salary record for a given year:\n",
    "- **`work_year`** - The year the salary was paid.  \n",
    "- **`experience_level`** - Employee experience level:  \n",
    "  - **`EN`**: Entry-level / Junior  \n",
    "  - **`MI`**: Mid-level / Intermediate  \n",
    "  - **`SE`**: Senior / Expert  \n",
    "  - **`EX`**: Executive / Director  \n",
    "- **`employment_type`** - Employment type:  \n",
    "  - **`PT`**: Part-time  \n",
    "  - **`FT`**: Full-time  \n",
    "  - **`CT`**: Contract  \n",
    "  - **`FL`**: Freelance  \n",
    "- **`job_title`** - The job title during the year.  \n",
    "- **`salary`** - Gross salary paid (in local currency).  \n",
    "- **`salary_currency`** - Salary currency (ISO 4217 code).  \n",
    "- **`salary_in_usd`** - Salary converted to USD using average yearly FX rate.  \n",
    "- **`employee_residence`** - Employee's primary country of residence (ISO 3166 code).  \n",
    "- **`remote_ratio`** - Percentage of remote work:  \n",
    "  - **`0`**: No remote work (<20%)  \n",
    "  - **`50`**: Hybrid (50%)  \n",
    "  - **`100`**: Fully remote (>80%)  \n",
    "- **`company_location`** - Employer's main office location (ISO 3166 code).  \n",
    "- **`company_size`** - Company size:  \n",
    "  - **`S`**: Small (<50 employees)  \n",
    "  - **`M`**: Medium (50–250 employees)  \n",
    "  - **`L`**: Large (>250 employees)  "
   ]
  },
  {
   "cell_type": "markdown",
   "id": "2",
   "metadata": {},
   "source": [
    "## 💪 Competition challenge 1\n",
    "\n",
    "In this first level, you’ll explore and summarise the dataset to understand its structure and key statistics. If you want to push yourself further, check out level two!\n",
    "Create a report that answers the following:\n",
    "- How many records are in the dataset, and what is the range of years covered?\n",
    "- What is the average salary (in USD) for Data Scientists and Data Engineers? Which role earns more on average?\n",
    "- How many full-time employees based in the US work 100% remotely?"
   ]
  },
  {
   "cell_type": "markdown",
   "id": "3",
   "metadata": {},
   "source": [
    "## 💪 Competition challenge 2\n",
    "In this second level, you’ll create visualisations to analyse the data and uncover trends. If you’re up for an even greater challenge, head to level three! Create a report that answers the following:\n",
    "\n",
    "- Create a bar chart displaying the top 5 job titles with the highest average salary (in USD).\n",
    "- Compare the average salaries for employees working remotely 100%, 50%, and 0%. What patterns or trends do you observe?\n",
    "- Visualise the salary distribution (in USD) across company sizes (S, M, L). Which company size offers the highest average salary?"
   ]
  },
  {
   "cell_type": "markdown",
   "id": "4",
   "metadata": {},
   "source": [
    "## 💪 Competition challenge 3\n",
    "\n",
    "In this final level, you’ll develop predictive models and dive deeper into the dataset. If this feels overwhelming, consider completing the earlier levels first!\n",
    "Create a report that answers the following:\n",
    "- Analyse how factors such as country, experience level, and remote ratio impact salaries for Data Analysts, Data Scientists, and Machine Learning Engineers. In which conditions do professionals achieve the highest salaries?\n",
    "- Develop a predictive model to estimate an employee’s salary (in USD) using experience level, company location, and remote ratio. Which features are the strongest predictors of salary?\n",
    "- Expand your model by incorporating additional features, such as company size and employment type. Evaluate its performance, what improves, and what doesn’t? Finally, propose new features to make future salary predictions even more accurate future salary predictions even more accurate."
   ]
  },
  {
   "cell_type": "markdown",
   "id": "5",
   "metadata": {},
   "source": [
    "## 🧑‍⚖️ Judging criteria\n",
    "\n",
    "This is a community-based competition. Once the competition concludes, you'll have the opportunity to view and vote for the best submissions of others as the voting begins. The top 5 most upvoted entries will win. The winners will receive DataCamp merchandise."
   ]
  },
  {
   "cell_type": "markdown",
   "id": "6",
   "metadata": {},
   "source": [
    "## ✅ Checklist before publishing into the competition\n",
    "- Rename your workspace to make it descriptive of your work. N.B. you should leave the notebook name as notebook.ipynb.\n",
    "- **Remove redundant cells** like the judging criteria, so the workbook is focused on your story.\n",
    "- Make sure the workbook reads well and explains how you found your insights. \n",
    "- Try to include an **executive summary** of your recommendations at the beginning.\n",
    "- Check that all the cells run without error"
   ]
  },
  {
   "cell_type": "markdown",
   "id": "7",
   "metadata": {},
   "source": [
    "## ⌛️ Time is ticking. Good luck!"
   ]
  },
  {
   "cell_type": "markdown",
   "id": "8",
   "metadata": {},
   "source": [
    "Summarizing whats been observed:\n",
    "\n",
    "### Null Values\n",
    "There is no null in the whole dataset\n",
    "\n",
    "### Duplicates \n",
    "The 52% of the records are duplicated. We consider them as datapoints corresponding to different employees and not errors.\n",
    "\n",
    "| Column               | Description | Comments | Actions |\n",
    "|----------------------|------------|----------|---------|\n",
    "| **work_year**        | The year the salary was paid. | 2024 for the most part, fewer data points as we go back in time. First observations from 2020. | No action needed. |\n",
    "| **experience_level** | Employee experience level:<br>**EN**: Entry-level / Junior<br>**MI**: Mid-level / Intermediate<br>**SE**: Senior / Expert<br>**EX**: Executive / Director | Highly imbalanced. | Convert to an ordered category. |\n",
    "| **employment_type**  | Employment type:<br>**PT**: Part-time<br>**FT**: Full-time<br>**CT**: Contract<br>**FL**: Freelance | Highly imbalanced. | Convert to a category. |\n",
    "| **job_title**        | The job title during the year. | Too many unique values (253). | Perform grouping. Convert to a category. Extract fields like manager, engineer, BI, ML, AI... |\n",
    "| **salary**          | Gross salary paid (in local currency). | Useless due to different currencies. | Drop this column. |\n",
    "| **salary_currency** | Salary currency (ISO 4217 code). | Highly imbalanced. | Convert to a category. |\n",
    "| **salary_in_usd**   | Salary converted to USD using average yearly FX rate. | No outliers. All values seem legit. | No action needed. |\n",
    "| **employee_residence** | Employee's primary country of residence (ISO 3166 code). | Highly imbalanced. | Convert to a category. |\n",
    "| **remote_ratio**     | Percentage of remote work:<br>**0**: No remote work (<20%)<br>**50**: Hybrid (50%)<br>**100**: Fully remote (>80%) | 0 (no remote work) for the most part. Highly imbalanced. | Convert to a category. |\n",
    "| **company_location** | Employer's main office location (ISO 3166 code). | Highly imbalanced. | Convert to a category. |\n",
    "| **company_size**     | Company size:<br>**S**: Small (<50 employees)<br>**M**: Medium (50–250 employees)<br>**L**: Large (>250 employees) | Highly imbalanced. | Convert to an ordered category. |"
   ]
  },
  {
   "cell_type": "code",
   "execution_count": null,
   "id": "9",
   "metadata": {},
   "outputs": [],
   "source": [
    "import pandas as pd\n",
    "import warnings\n",
    "import seaborn as sns\n",
    "import numpy as np\n",
    "import matplotlib.pyplot as plt\n",
    "import scipy.stats as stats\n",
    "\n",
    "sns.set_style(\"darkgrid\")\n",
    "warnings.simplefilter(action='ignore', category=FutureWarning)\n",
    "df = pd.read_csv('salaries.csv')\n",
    "df.head()"
   ]
  },
  {
   "cell_type": "code",
   "execution_count": null,
   "id": "10",
   "metadata": {},
   "outputs": [],
   "source": [
    "df.info()"
   ]
  },
  {
   "cell_type": "code",
   "execution_count": null,
   "id": "11",
   "metadata": {},
   "outputs": [],
   "source": [
    "df.describe(include='all')"
   ]
  },
  {
   "cell_type": "code",
   "execution_count": null,
   "id": "12",
   "metadata": {},
   "outputs": [],
   "source": [
    "duplicates = df[df.duplicated(keep='first')]\n",
    "print(f'There is a {round(100*len(duplicates)/len(df),2)}% of duplicated records based on all the columns')\n"
   ]
  },
  {
   "cell_type": "code",
   "execution_count": null,
   "id": "13",
   "metadata": {},
   "outputs": [],
   "source": [
    "fig, axes = plt.subplots(1, 5, figsize=(15, 5), sharey=True)\n",
    "\n",
    "cols = ['work_year', 'experience_level', 'employment_type', 'company_size', 'remote_ratio']\n",
    "\n",
    "for ax, col in zip(axes, cols):\n",
    "    sns.countplot(x=col, data=df, ax=ax, width=0.6)\n",
    "    ax.set_title(f'Distribution of {col}')\n",
    "    ax.set_xlabel('') \n",
    "    ax.tick_params(axis='x', rotation=45)  # Rota etiquetas si son largas\n",
    "\n",
    "plt.tight_layout()\n",
    "plt.show()\n"
   ]
  },
  {
   "cell_type": "code",
   "execution_count": null,
   "id": "14",
   "metadata": {},
   "outputs": [],
   "source": [
    "fig, axes = plt.subplots(1, 4, figsize=(20, 5), sharey=True)  # Compartir eje Y\n",
    "\n",
    "cols = ['job_title', 'salary_currency', 'employee_residence', 'company_location']\n",
    "\n",
    "for ax, col in zip(axes, cols):\n",
    "    top_categories = df[col].value_counts().nlargest(4).index  # 4 más comunes\n",
    "    data = df[col].apply(lambda x: x if x in top_categories else 'Other')  # Reemplaza el resto por \"Other\"\n",
    "    \n",
    "    sns.countplot(x=data, ax=ax, width=0.6, order=top_categories.tolist() + ['Other'])\n",
    "    ax.set_title(f'Distribution of {col}')\n",
    "    ax.set_xlabel('')\n",
    "    ax.tick_params(axis='x', rotation=45)\n",
    "    del(data)\n",
    "    \n",
    "plt.tight_layout()\n",
    "plt.show()"
   ]
  },
  {
   "cell_type": "code",
   "execution_count": null,
   "id": "15",
   "metadata": {},
   "outputs": [],
   "source": [
    "numeric_cols = df.select_dtypes(include=['number']).columns"
   ]
  },
  {
   "cell_type": "code",
   "execution_count": null,
   "id": "16",
   "metadata": {},
   "outputs": [],
   "source": [
    "sorted_experience_level = ['EN', 'MI', 'SE', 'EX']\n",
    "sorted_company_size = ['S', 'M', 'L']\n",
    "\n",
    "df['experience_level'] = pd.Categorical(df['experience_level'], categories=sorted_experience_level, ordered=True)\n",
    "df['company_size'] = pd.Categorical(df['company_size'], categories=sorted_company_size, ordered=True)\n"
   ]
  },
  {
   "cell_type": "code",
   "execution_count": null,
   "id": "17",
   "metadata": {},
   "outputs": [],
   "source": [
    "df['remote_ratio'] = np.where(df['remote_ratio']==0, 'presential', np.where(df['remote_ratio']==50, 'partial_remote','full_remote'))\n",
    "df['remote_ratio'] = df['remote_ratio'].astype('category')"
   ]
  },
  {
   "cell_type": "code",
   "execution_count": null,
   "id": "18",
   "metadata": {},
   "outputs": [],
   "source": [
    "sns.displot(df.salary_in_usd, bins=50)\n",
    "plt.title('Salary in USD')\n",
    "plt.xticks(rotation=45)\n",
    "plt.show()"
   ]
  },
  {
   "cell_type": "code",
   "execution_count": null,
   "id": "19",
   "metadata": {},
   "outputs": [],
   "source": [
    "df.salary_in_usd.quantile(0.99)"
   ]
  },
  {
   "cell_type": "code",
   "execution_count": null,
   "id": "20",
   "metadata": {},
   "outputs": [],
   "source": [
    "(df.salary_in_usd<400000).mean()"
   ]
  },
  {
   "cell_type": "markdown",
   "id": "21",
   "metadata": {},
   "source": [
    "- How many records are in the dataset, and what is the range of years covered?"
   ]
  },
  {
   "cell_type": "code",
   "execution_count": null,
   "id": "22",
   "metadata": {},
   "outputs": [],
   "source": [
    "print(f'There are {len(df)} records in the dataset.')\n",
    "print(f\"The dataset contains observations from {df['work_year'].min()} to {df['work_year'].max()}\")"
   ]
  },
  {
   "cell_type": "markdown",
   "id": "23",
   "metadata": {},
   "source": [
    "- What is the average salary (in USD) for Data Scientists and Data Engineers? Which role earns more on average?"
   ]
  },
  {
   "cell_type": "code",
   "execution_count": null,
   "id": "24",
   "metadata": {},
   "outputs": [],
   "source": [
    "df[df['job_title'].isin(['Data Scientist', 'Data Engineer'])].groupby('job_title').agg({'salary_in_usd': 'mean'}).round(2)"
   ]
  },
  {
   "cell_type": "markdown",
   "id": "25",
   "metadata": {},
   "source": [
    "The average salary for Data Scientists is higher."
   ]
  },
  {
   "cell_type": "markdown",
   "id": "26",
   "metadata": {},
   "source": [
    "- How many full-time employees based in the US work 100% remotely?"
   ]
  },
  {
   "cell_type": "code",
   "execution_count": null,
   "id": "27",
   "metadata": {},
   "outputs": [],
   "source": [
    "len(df[(df['remote_ratio']=='full_remote')&(df['employee_residence']=='US')])"
   ]
  },
  {
   "cell_type": "code",
   "execution_count": null,
   "id": "28",
   "metadata": {},
   "outputs": [],
   "source": [
    "cat_cols = ['employment_type', 'salary_currency', 'employee_residence', 'company_location']\n",
    "for col in cat_cols: \n",
    "    df[col] = df[col].astype('category')"
   ]
  },
  {
   "cell_type": "code",
   "execution_count": null,
   "id": "29",
   "metadata": {},
   "outputs": [],
   "source": [
    "df=df.drop('salary', axis=1)"
   ]
  },
  {
   "cell_type": "code",
   "execution_count": null,
   "id": "30",
   "metadata": {},
   "outputs": [],
   "source": [
    "plt.figure(figsize=(12, 8))\n",
    "\n",
    "top_20_titles = df['job_title'].value_counts().nlargest(20).index\n",
    "df_top = df[df['job_title'].isin(top_20_titles)]\n",
    "order = df_top.groupby('job_title')['salary_in_usd'].median().sort_values(ascending=False).index\n",
    "\n",
    "sns.boxplot(data=df_top, y='job_title', x='salary_in_usd', order=order)\n",
    "plt.show()"
   ]
  },
  {
   "cell_type": "code",
   "execution_count": null,
   "id": "31",
   "metadata": {},
   "outputs": [],
   "source": [
    "plt.figure(figsize=(8, 6))  \n",
    "\n",
    "sns.regplot(data=df, x='work_year', y='salary_in_usd')\n",
    "plt.xticks(sorted(df['work_year'].unique()))\n",
    "\n",
    "plt.show()"
   ]
  },
  {
   "cell_type": "code",
   "execution_count": null,
   "id": "32",
   "metadata": {},
   "outputs": [],
   "source": [
    "plt.figure(figsize=(12, 8))  \n",
    "\n",
    "fig, axes = plt.subplots(1, 4, figsize=(20, 5))  # Compartir eje Y\n",
    "\n",
    "cols = ['experience_level', 'employment_type', 'remote_ratio', 'company_size']\n",
    "\n",
    "for ax, col in zip(axes, cols):\n",
    "    order = df.groupby(col)['salary_in_usd'].median().sort_values(ascending=False).index\n",
    "    sns.boxplot(data=df, x=col, y='salary_in_usd', order=order, ax=ax)\n",
    "    \n",
    "    ax.set_title(f'Boxplot of {col} - salary USD')\n",
    "    ax.set_xlabel('')\n",
    "    ax.tick_params(axis='x', rotation=45)\n",
    "    \n",
    "plt.tight_layout()\n",
    "plt.show()\n"
   ]
  },
  {
   "cell_type": "code",
   "execution_count": null,
   "id": "33",
   "metadata": {},
   "outputs": [],
   "source": [
    "plt.figure(figsize=(12, 8))\n",
    "\n",
    "top_20_res = df['employee_residence'].value_counts().nlargest(20).index\n",
    "df_top = df[df['employee_residence'].isin(top_20_res)]\n",
    "order = df_top.groupby('employee_residence')['salary_in_usd'].median().dropna().sort_values(ascending=False).index\n",
    "\n",
    "sns.boxplot(data=df_top, y='employee_residence', x='salary_in_usd', order=order)"
   ]
  },
  {
   "cell_type": "code",
   "execution_count": null,
   "id": "34",
   "metadata": {},
   "outputs": [],
   "source": [
    "plt.figure(figsize=(12, 8))\n",
    "\n",
    "top_20_res = df['company_location'].value_counts().nlargest(20).index\n",
    "df_top = df[df['company_location'].isin(top_20_res)]\n",
    "order = df_top.groupby('company_location')['salary_in_usd'].median().dropna().sort_values(ascending=False).index\n",
    "\n",
    "sns.boxplot(data=df_top, y='company_location', x='salary_in_usd', order=order)"
   ]
  },
  {
   "cell_type": "markdown",
   "id": "36",
   "metadata": {},
   "source": [
    "## Bivariate Analysis"
   ]
  },
  {
   "cell_type": "markdown",
   "id": "37",
   "metadata": {},
   "source": [
    "- Create a bar chart displaying the top 5 job titles with the highest average salary (in USD)."
   ]
  },
  {
   "cell_type": "code",
   "execution_count": null,
   "id": "38",
   "metadata": {},
   "outputs": [],
   "source": [
    "biggest_salaries = df.groupby('job_title')['salary_in_usd'].mean().nlargest(5).round()\n",
    "biggest_salaries.plot(kind='barh')\n",
    "plt.xlabel(\"Average Salary in USD\")\n",
    "plt.ylabel(\"Job Title\")\n",
    "plt.title(\"Top 5 Job Titles with Highest Average Salaries\")\n",
    "plt.xticks(rotation=45)\n",
    "plt.show()"
   ]
  },
  {
   "cell_type": "markdown",
   "id": "39",
   "metadata": {},
   "source": [
    "- Compare the average salaries for employees working remotely 100%, 50%, and 0%. What patterns or trends do you observe?"
   ]
  },
  {
   "cell_type": "code",
   "execution_count": null,
   "id": "40",
   "metadata": {},
   "outputs": [],
   "source": [
    "fig, axes = plt.subplots(1, 2, figsize=(10, 6), sharey=True)\n",
    "\n",
    "# Bar plot\n",
    "remote_salaries = df.groupby('remote_ratio')['salary_in_usd'].mean().round()\n",
    "remote_salaries.plot(kind='bar', ax=axes[0])\n",
    "axes[0].set_ylabel(\"Average Salary in USD\")\n",
    "axes[0].set_xlabel(\"Remote Ratio\")\n",
    "axes[0].set_title(\"Remote Working Policies - Average Salaries\")\n",
    "axes[0].tick_params(axis='x', rotation=45)\n",
    "\n",
    "# Box plot\n",
    "sns.boxplot(data=df, x='remote_ratio', y='salary_in_usd', ax=axes[1])\n",
    "axes[1].set_xlabel(\"Remote Ratio\")\n",
    "axes[1].set_ylabel(\"Salary in USD\")\n",
    "axes[1].set_title(\"Remote Working Policies - Salary Distribution\")\n",
    "axes[1].tick_params(axis='x', rotation=45)\n",
    "\n",
    "plt.tight_layout()\n",
    "plt.show()"
   ]
  },
  {
   "cell_type": "code",
   "execution_count": null,
   "id": "41",
   "metadata": {},
   "outputs": [],
   "source": [
    "df['remote_ratio'].unique()"
   ]
  },
  {
   "cell_type": "code",
   "execution_count": null,
   "id": "42",
   "metadata": {},
   "outputs": [],
   "source": [
    "for ratio in df['remote_ratio'].unique():\n",
    "    statistic, pvalue = stats.shapiro(df[df['remote_ratio'] == ratio]['salary_in_usd'])\n",
    "    print(f\"Remote Ratio {ratio}: stat:{round(statistic, 5)}, p-val:{pvalue}\")"
   ]
  },
  {
   "cell_type": "markdown",
   "id": "43",
   "metadata": {},
   "source": [
    "Since the salary distributions are not normal (p too small, not supporting null hypothesis of normality), we cannot use ANOVA. Lets use kruskal-Wallis instead. Since the distribution of the partial_remote category is clearly different, we dont include it in the test."
   ]
  },
  {
   "cell_type": "code",
   "execution_count": null,
   "id": "44",
   "metadata": {},
   "outputs": [],
   "source": [
    "kruskal_result = stats.kruskal(df[df['remote_ratio'] == 'presential']['salary_in_usd'], \n",
    "                         df[df['remote_ratio'] == 'full_remote']['salary_in_usd'])\n",
    "\n",
    "print(\"Kruskal-Wallis result:\", kruskal_result)"
   ]
  },
  {
   "cell_type": "markdown",
   "id": "45",
   "metadata": {},
   "source": [
    "The p-value of the kruskal test makes us reject the null hypothesis of the distributions of presential and full_remote are the same. We can say then that presential and full remote employees follow different salary distributions."
   ]
  },
  {
   "cell_type": "markdown",
   "id": "46",
   "metadata": {},
   "source": [
    "The partial_remote policy is less paid that the other two policies. Presencial is the best payed of all three."
   ]
  },
  {
   "cell_type": "markdown",
   "id": "47",
   "metadata": {},
   "source": [
    "- Visualise the salary distribution (in USD) across company sizes (S, M, L). Which company size offers the highest average salary?"
   ]
  },
  {
   "cell_type": "code",
   "execution_count": null,
   "id": "48",
   "metadata": {},
   "outputs": [],
   "source": [
    "fig, axes = plt.subplots(1, 2, figsize=(10, 6), sharey=True)\n",
    "\n",
    "# Bar plot\n",
    "remote_salaries = df.groupby('company_size')['salary_in_usd'].mean().round()\n",
    "remote_salaries.plot(kind='bar', ax=axes[0])\n",
    "axes[0].set_ylabel(\"Average Salary in USD\")\n",
    "axes[0].set_xlabel(\"company_size\")\n",
    "axes[0].set_title(\"company_size - Average Salaries\")\n",
    "axes[0].tick_params(axis='x', rotation=45)\n",
    "\n",
    "# Box plot\n",
    "sns.boxplot(data=df, x='company_size', y='salary_in_usd', ax=axes[1])\n",
    "axes[1].set_xlabel(\"company_size\")\n",
    "axes[1].set_ylabel(\"Salary in USD\")\n",
    "axes[1].set_title(\"company_size - Salary Distribution\")\n",
    "axes[1].tick_params(axis='x', rotation=45)\n",
    "\n",
    "plt.tight_layout()\n",
    "plt.show()"
   ]
  },
  {
   "cell_type": "markdown",
   "id": "49",
   "metadata": {},
   "source": [
    "Both median and mean salary are higher for the medium size companies."
   ]
  },
  {
   "cell_type": "markdown",
   "id": "50",
   "metadata": {},
   "source": [
    "- Analyse how factors such as country, experience level, and remote ratio impact salaries for Data Analysts, Data Scientists, and Machine Learning Engineers. In which conditions do professionals achieve the highest salaries?"
   ]
  },
  {
   "cell_type": "code",
   "execution_count": null,
   "id": "51",
   "metadata": {},
   "outputs": [],
   "source": [
    "jobs_in_order = [ 'Data Analyst', 'Data Scientist', 'Machine Learning Engineer']  \n",
    "mini_df = df[df['job_title'].isin(jobs_in_order)]"
   ]
  },
  {
   "cell_type": "code",
   "execution_count": null,
   "id": "52",
   "metadata": {},
   "outputs": [],
   "source": [
    "plt.figure(figsize=(10, 6))\n",
    "sns.boxplot(data=mini_df, hue='experience_level', x='salary_in_usd', y='job_title', order=jobs_in_order)\n",
    "\n",
    "plt.title(\"Salary Distribution by Experience Level and Job Title\")\n",
    "plt.ylabel(\"Experience Level\")  \n",
    "plt.xlabel(\"Salary in USD\")  \n",
    "plt.legend(title=\"Job Title\") \n",
    "plt.grid(axis=\"y\", linestyle=\"--\", alpha=0.7) \n",
    "plt.xticks(rotation=45) \n",
    "\n",
    "plt.show()"
   ]
  },
  {
   "cell_type": "markdown",
   "id": "53",
   "metadata": {},
   "source": [
    "- Salaries are different depending on the job title and in general Data Analysts < Data Scientists < Machine Learning Engineers.\n",
    "- The range for each combination job title - experience level suggests the impact of other factors like country, remote policy or industry.\n",
    "- Outliers on the high end for the most combinations\n",
    "- In general the salary grows with experience. There is an exception, though: expert Data Analysts."
   ]
  },
  {
   "cell_type": "code",
   "execution_count": null,
   "id": "54",
   "metadata": {},
   "outputs": [],
   "source": [
    "plt.figure(figsize=(10, 6))\n",
    "sns.boxplot(data=mini_df, hue='remote_ratio', x='salary_in_usd', y='job_title', order=jobs_in_order)\n",
    "\n",
    "plt.title(\"Salary Distribution by Remote Ratio and Job Title\")\n",
    "plt.xlabel(\"Remote Ratio\")  \n",
    "plt.ylabel(\"Salary in USD\")  \n",
    "plt.legend(title=\"Job Title\") \n",
    "plt.grid(axis=\"y\", linestyle=\"--\", alpha=0.7) \n",
    "plt.xticks(rotation=45) \n",
    "\n",
    "plt.show()"
   ]
  },
  {
   "cell_type": "markdown",
   "id": "55",
   "metadata": {},
   "source": [
    "- Partial_remote is the less paid kind of contract.\n",
    "- Presential is the best paid kind of contract for MLE and DS. Full remote is best paid for DA\n",
    "- The wide ranges and presence of outliers suggest there are other factor that impact the salary."
   ]
  },
  {
   "cell_type": "code",
   "execution_count": null,
   "id": "56",
   "metadata": {},
   "outputs": [],
   "source": [
    "n_countries = 10\n",
    "plt.figure(figsize=(10, n_countries))\n",
    "\n",
    "top_countries = mini_df.groupby('employee_residence')['salary_in_usd'].agg('count').nlargest(n_countries).index.to_list()\n",
    "salary_ordered_countries = mini_df.groupby('employee_residence')['salary_in_usd'].agg('median').sort_values(ascending=False).index.to_list()\n",
    "salary_ordered_countries = [country for country in salary_ordered_countries if country in top_countries]\n",
    "\n",
    "countries_df = mini_df[mini_df['employee_residence'].isin(top_countries)] \n",
    "\n",
    "sns.boxplot(data=countries_df, y='employee_residence', x='salary_in_usd', hue='job_title', order=salary_ordered_countries)\n",
    "plt.title(f\"Salary Distribution for {job_title} by Country\")\n",
    "plt.xlabel(\"Salary in USD\")  \n",
    "plt.ylabel(\"Employee Residence\")  \n",
    "plt.grid(axis=\"y\", linestyle=\"--\", alpha=0.7) \n",
    "plt.xticks(rotation=45) \n",
    "\n",
    "plt.show()"
   ]
  },
  {
   "cell_type": "markdown",
   "id": "57",
   "metadata": {},
   "source": [
    "- The distribution of salaries depend on the country and the job title.\n",
    "- In general, the ranges are wide for the most numerous countries and there is a high presence of outliers, indicating there are other factors that may impact the salary.\n",
    "- MLE is in general the best paid job title and data analyst the worst."
   ]
  },
  {
   "cell_type": "markdown",
   "id": "58",
   "metadata": {},
   "source": [
    "- Develop a predictive model to estimate an employee’s salary (in USD) using experience level, company location, and remote ratio. Which features are the strongest predictors of salary?"
   ]
  },
  {
   "cell_type": "code",
   "execution_count": null,
   "id": "59",
   "metadata": {},
   "outputs": [],
   "source": [
    "df_dum = df[['experience_level', 'company_location', 'remote_ratio']]\n",
    "df_dum = pd.get_dummies(df)"
   ]
  },
  {
   "cell_type": "code",
   "execution_count": null,
   "id": "60",
   "metadata": {},
   "outputs": [],
   "source": [
    "from sklearn.preprocessing import StandardScaler\n",
    "from sklearn.model_selection import train_test_split, cross_val_score, GridSearchCV\n",
    "from sklearn.linear_model import Lasso\n",
    "from sklearn.metrics import mean_squared_error\n",
    "\n",
    "scaler = StandardScaler()\n",
    "df_dum.loc[:, 'work_year'] = scaler.fit_transform(df_dum[['work_year']])\n",
    "y = df_dum['salary_in_usd'] \n",
    "X = df_dum.drop('salary_in_usd', axis=1)\n",
    "\n",
    "X_train, X_test, y_train, y_test = train_test_split(X, y, test_size=0.2, random_state=42)\n",
    "\n",
    "# Hyperparameter tuning for Lasso (finding best alpha)\n",
    "alphas = np.logspace(-3, 1, 50)  # Search from 0.001 to 10\n",
    "lasso_cv = GridSearchCV(Lasso(max_iter=5000), {'alpha': alphas}, cv=5, scoring='neg_root_mean_squared_error', n_jobs=-1)\n",
    "lasso_cv.fit(X_train, y_train)\n",
    "\n",
    "# Best alpha\n",
    "best_alpha = lasso_cv.best_params_['alpha']\n",
    "print(f\"Best alpha for Lasso: {best_alpha:.5f}\")\n",
    "\n",
    "# Train Lasso with the best alpha\n",
    "lasso = Lasso(alpha=best_alpha, max_iter=5000)\n",
    "lasso.fit(X_train, y_train)\n",
    "\n",
    "# Cross-validation RMSE\n",
    "cv_scores = -cross_val_score(lasso, X_train, y_train, cv=5, scoring='neg_root_mean_squared_error')\n",
    "train_rmse = np.mean(cv_scores)\n",
    "\n",
    "# Test RMSE\n",
    "y_pred_test = lasso.predict(X_test)\n",
    "test_rmse = np.sqrt(mean_squared_error(y_test, y_pred_test))\n",
    "\n",
    "# Print results\n",
    "print(f\"Train RMSE (CV Mean): {train_rmse:.4f}\")\n",
    "print(f\"Validation RMSE (CV Mean): {train_rmse:.4f}\")\n",
    "print(f\"Test RMSE: {test_rmse:.4f}\")\n",
    "\n",
    "# Feature importance (nonzero coefficients)\n",
    "feature_importances = np.abs(lasso.coef_)\n",
    "feature_names = np.array(X.columns)\n",
    "\n",
    "# Select nonzero features\n",
    "nonzero_mask = feature_importances > 0\n",
    "nonzero_features = feature_names[nonzero_mask]\n",
    "nonzero_importances = feature_importances[nonzero_mask]\n",
    "\n",
    "# Select top 20 most important features\n",
    "top_n = min(20, len(nonzero_importances))  # Avoid errors if <20 features survive\n",
    "top_features_idx = np.argsort(nonzero_importances)[-top_n:]\n",
    "\n",
    "# Plot feature importances\n",
    "plt.figure(figsize=(10, 6))\n",
    "plt.barh(range(len(top_features_idx)), nonzero_importances[top_features_idx], align='center')\n",
    "plt.yticks(range(len(top_features_idx)), [nonzero_features[i] for i in top_features_idx])\n",
    "plt.xlabel(\"Absolute Coefficient Value\")\n",
    "plt.ylabel(\"Feature Name\")\n",
    "plt.title(\"Top 20 Most Important Features in Lasso Model\")\n",
    "plt.show()"
   ]
  },
  {
   "cell_type": "markdown",
   "id": "61",
   "metadata": {},
   "source": [
    "- Expand your model by incorporating additional features, such as company size and employment type. Evaluate its performance, what improves, and what doesn’t? Finally, propose new features to make future salary predictions."
   ]
  },
  {
   "cell_type": "code",
   "execution_count": null,
   "id": "64",
   "metadata": {},
   "outputs": [],
   "source": [
    "fig, axes = plt.subplots(1, 5, figsize=(15, 5), sharey=True)\n",
    "\n",
    "cols = ['work_year', 'experience_level', 'employment_type', 'company_size', 'remote_ratio']\n",
    "\n",
    "for ax, col in zip(axes, cols):\n",
    "    sns.boxplot(data=df, x=col, y='salary_in_usd', ax=ax, width=0.6)\n",
    "    ax.set_title(f'Distribution of {col}')\n",
    "    ax.set_xlabel('') \n",
    "    ax.tick_params(axis='x', rotation=45)  # Rota etiquetas si son largas\n",
    "\n",
    "plt.tight_layout()\n",
    "plt.show()\n"
   ]
  }
 ],
 "metadata": {
  "editor": "DataLab",
  "kernelspec": {
   "display_name": "Python 3 (ipykernel)",
   "language": "python",
   "name": "python3"
  },
  "language_info": {
   "codemirror_mode": {
    "name": "ipython",
    "version": 3
   },
   "file_extension": ".py",
   "mimetype": "text/x-python",
   "name": "python",
   "nbconvert_exporter": "python",
   "pygments_lexer": "ipython3"
  }
 },
 "nbformat": 4,
 "nbformat_minor": 5
}
