{
 "cells": [
  {
   "cell_type": "markdown",
   "id": "96033c55-1630-4d0a-9f1b-e19d9669d151",
   "metadata": {},
   "source": [
    "# Executive Report\n",
    "\n",
    "### General Observations\n",
    "\n",
    "- There is a total of **57194 records**.\n",
    "- There is **no null** in the whole dataset\n",
    "- The **52% of the records are duplicated**. We consider them as datapoints corresponding to different employees and not errors.\n",
    "\n",
    "### Comments and Data Cleanup\n",
    "\n",
    "| Column               | Description | Comments | Actions |\n",
    "|----------------------|------------|----------|---------|\n",
    "| **work_year**        | The year the salary was paid. | 2024 for the most part, fewer data points as we go back in time. <br> First observations from 2020 (**range 2020 to 2024**) | No action needed. |\n",
    "| **experience_level** | Employee experience level:<br>**EN**: Entry-level / Junior<br>**MI**: Mid-level / Intermediate<br>**SE**: Senior / Expert<br>**EX**: Executive / Director | Highly imbalanced. <br> SE the most frequent value. | Convert to an ordered category. |\n",
    "| **employment_type**  | Employment type:<br>**PT**: Part-time<br>**FT**: Full-time<br>**CT**: Contract<br>**FL**: Freelance | Highly imbalanced. <br> FT the most frequent. | Convert to a category. |\n",
    "| **job_title**        | The job title during the year. | Too many unique values (253). | Convert to a category. <br>Perform grouping?. Extract fields like manager, engineer, BI, ML, AI...)? |\n",
    "| **salary**          | Gross salary paid (in local currency). | Useless due to different currencies. | Drop this column. |\n",
    "| **salary_currency** | Salary currency (ISO 4217 code). | Highly imbalanced.<br> USD the most frequent value.  | Convert to a category. |\n",
    "| **salary_in_usd**   | Salary converted to USD using average yearly FX rate. | The outliers seem legit. | No action needed. |\n",
    "| **employee_residence** | Employee's primary country of residence (ISO 3166 code). | Highly imbalanced.<br> US the most frequent value.  | Convert to a category. |\n",
    "| **remote_ratio**     | Percentage of remote work:<br>**0**: No remote work (<20%)<br>**50**: Hybrid (50%)<br>**100**: Fully remote (>80%) | 0 (no remote work) for the most part. <br> Highly imbalanced. | Convert to a category. |\n",
    "| **company_location** | Employer's main office location (ISO 3166 code). | Highly imbalanced.<br> US the most frequent value. | Convert to a category. |\n",
    "| **company_size**     | Company size:<br>**S**: Small (<50 employees)<br>**M**: Medium (50–250 employees)<br>**L**: Large (>250 employees) | Highly imbalanced. <br> M the most frequent value | Convert to an ordered category. |\n",
    "\n",
    "### Questions\n",
    "\n",
    "- How many records are in the dataset, and what is the range of years covered?\n",
    "  - **There are 57194 records in the dataset.**\n",
    "  - **The dataset contains observations from 2020 to 2024**\n",
    "<br><br>\n",
    "- What is the average salary (in USD) for Data Scientists and Data Engineers? Which role earns more on average?\n",
    "  - **The average salary for Data Scientists is higher (159397.07 vs 149315.00).**\n",
    "<br><br>\n",
    "- How many full-time employees based in the US work 100% remotely?\n",
    "  - **The amount of full-time employees based in the US who work 100% remotely is 11163**\n",
    " \n",
    "\n",
    "### Recommendations\n",
    "\n",
    "The dataset contains valuable information to propose competitive salaries to candidates. Data is quite recent and covers a lot of different scenarions like different company sizes, contracts, company and employee locations, job_titles...\n",
    "\n",
    "Our recommendation would be to dive deepper into this dataset, prepare it and create a model to be able to create salary predictions."
   ]
  },
  {
   "cell_type": "markdown",
   "id": "291afed7-c044-46c8-a7f3-1ab536eda940",
   "metadata": {
    "execution": {
     "iopub.execute_input": "2025-04-03T09:51:22.099686Z",
     "iopub.status.busy": "2025-04-03T09:51:22.098847Z",
     "iopub.status.idle": "2025-04-03T09:51:22.108716Z",
     "shell.execute_reply": "2025-04-03T09:51:22.107161Z",
     "shell.execute_reply.started": "2025-04-03T09:51:22.099616Z"
    }
   },
   "source": [
    "# Loading Data"
   ]
  },
  {
   "cell_type": "code",
   "execution_count": null,
   "id": "2b75957b-35e3-492e-b1ab-41780128ed18",
   "metadata": {
    "executionCancelledAt": null,
    "executionTime": 1836,
    "lastExecutedAt": 1742894754996,
    "lastExecutedByKernel": "714b3ba4-7c3c-41f6-a182-1d702dfc2c56",
    "lastScheduledRunId": null,
    "lastSuccessfullyExecutedCode": "import pandas as pd\nsalaries_df = pd.read_csv('salaries.csv')\nsalaries_df",
    "outputsMetadata": {
     "0": {
      "height": 550,
      "tableState": {
       "customFilter": {
        "const": {
         "type": "boolean",
         "valid": true,
         "value": true
        },
        "id": "d6efd96f-131a-4913-a740-89ccb9c2f072",
        "nodeType": "const"
       },
       "quickFilterText": ""
      },
      "type": "dataFrame"
     }
    }
   },
   "outputs": [],
   "source": [
    "import pandas as pd\n",
    "import warnings\n",
    "import seaborn as sns\n",
    "import numpy as np\n",
    "import matplotlib.pyplot as plt\n",
    "import scipy.stats as stats\n",
    "\n",
    "sns.set_style(\"darkgrid\")\n",
    "warnings.simplefilter(action='ignore', category=FutureWarning)\n",
    "\n",
    "# Lets load the data\n",
    "df = pd.read_csv('salaries.csv')"
   ]
  },
  {
   "cell_type": "markdown",
   "id": "db5c5a08-0662-48bb-9782-e174e74ba575",
   "metadata": {},
   "source": [
    "# Exploration"
   ]
  },
  {
   "cell_type": "code",
   "execution_count": null,
   "id": "d3e613a4-cebf-4407-9ea5-a65be1a13e31",
   "metadata": {
    "executionCancelledAt": null,
    "executionTime": 61,
    "lastExecutedAt": 1742894755604,
    "lastExecutedByKernel": "714b3ba4-7c3c-41f6-a182-1d702dfc2c56",
    "lastScheduledRunId": null,
    "lastSuccessfullyExecutedCode": "df=salaries_df\ndf.info()",
    "outputsMetadata": {
     "0": {
      "height": 395,
      "type": "stream"
     }
    }
   },
   "outputs": [],
   "source": [
    "# Lets check the number of null values and type of each feature\n",
    "df.info()"
   ]
  },
  {
   "cell_type": "markdown",
   "id": "5b0eadf3-9003-44d7-8518-daaa720f7d55",
   "metadata": {},
   "source": [
    "- There is no null value. \n",
    "- There are several features containing strings that could  be converted into categories, some of them sorted, helping us reducing the memory footprint and easing the creation of plots."
   ]
  },
  {
   "cell_type": "code",
   "execution_count": null,
   "id": "af9c00ed-5578-457d-90f4-e4d11bdb8e15",
   "metadata": {
    "executionCancelledAt": null,
    "executionTime": null,
    "lastExecutedAt": null,
    "lastExecutedByKernel": null,
    "lastScheduledRunId": null,
    "lastSuccessfullyExecutedCode": null,
    "outputsMetadata": {
     "0": {
      "height": 38,
      "type": "stream"
     },
     "1": {
      "height": 50,
      "tableState": {
       "customFilter": {
        "const": {
         "type": "boolean",
         "valid": true,
         "value": true
        },
        "id": "5deec95d-4e2a-4338-af5b-89b09d71cf71",
        "nodeType": "const"
       },
       "quickFilterText": ""
      },
      "type": "dataFrame"
     }
    }
   },
   "outputs": [],
   "source": [
    "# Lets see how the data is distributed in the different features.\n",
    "df.describe(include='all')"
   ]
  },
  {
   "cell_type": "markdown",
   "id": "02df6cae-d4a5-4a86-8592-cfe4b33f1547",
   "metadata": {},
   "source": [
    "- The provided dictionary is accurate in terms of different values for company_size, experience_level and employment_type\n",
    "- Work_year ranges from 2020 to 2024 being 2024 the most common year.\n",
    "- Job_title presents many unique values\n",
    "- Company_size, company_location, remote_ratio, salary_currency, employment_type, experience_level amd work_year are highly imbalanced."
   ]
  },
  {
   "cell_type": "markdown",
   "id": "c92013ef-f73b-4b87-ad1f-65ad20d1afcf",
   "metadata": {},
   "source": [
    "## Duplicates"
   ]
  },
  {
   "cell_type": "code",
   "execution_count": null,
   "id": "5107423b-ac9c-4abb-b8ed-36b2ca8ca25f",
   "metadata": {},
   "outputs": [],
   "source": [
    "# Are there any duplicates?\n",
    "duplicates = df[df.duplicated(keep='first')]\n",
    "print(f'There is a {round(100*len(duplicates)/len(df),2)}% of duplicated records based on all the columns')\n"
   ]
  },
  {
   "cell_type": "markdown",
   "id": "0ca83d06-f125-464c-8489-ad27b717590a",
   "metadata": {},
   "source": [
    "## Data Distribution"
   ]
  },
  {
   "cell_type": "code",
   "execution_count": null,
   "id": "fb462ede-10ad-4956-bb80-203ea38a350e",
   "metadata": {},
   "outputs": [],
   "source": [
    "# Lets analyze graphically the distribution of categorical features with low nunique\n",
    "fig, axes = plt.subplots(1, 5, figsize=(15, 5), sharey=True)\n",
    "\n",
    "cols = ['work_year', 'experience_level', 'employment_type', 'company_size', 'remote_ratio']\n",
    "\n",
    "for ax, col in zip(axes, cols):\n",
    "    sns.countplot(x=col, data=df, ax=ax, width=0.6)\n",
    "    ax.set_title(f'Distribution of {col}')\n",
    "    ax.set_xlabel('') \n",
    "    ax.tick_params(axis='x', rotation=45)  # Rota etiquetas si son largas\n",
    "\n",
    "plt.tight_layout()\n",
    "plt.show()\n"
   ]
  },
  {
   "cell_type": "code",
   "execution_count": null,
   "id": "2744f3ce-3aa7-43c3-a1dc-940d6afa6f89",
   "metadata": {},
   "outputs": [],
   "source": [
    "# Lets analyze graphically the distribution of categorical features with many different values\n",
    "fig, axes = plt.subplots(1, 4, figsize=(20, 5), sharey=True)  # Compartir eje Y\n",
    "\n",
    "cols = ['job_title', 'salary_currency', 'employee_residence', 'company_location']\n",
    "\n",
    "for ax, col in zip(axes, cols):\n",
    "    top_categories = df[col].value_counts().nlargest(4).index  # 4 más comunes\n",
    "    data = df[col].apply(lambda x: x if x in top_categories else 'Other')  # Reemplaza el resto por \"Other\"\n",
    "\n",
    "    palette = {cat: \"C0\" for cat in top_categories} \n",
    "    palette['Other'] = \"green\"  \n",
    "    \n",
    "    sns.countplot(x=data, ax=ax, width=0.6, order=top_categories.tolist() + ['Other'], palette=palette)\n",
    "    ax.set_title(f'Distribution of {col}')\n",
    "    ax.set_xlabel('')\n",
    "    ax.tick_params(axis='x', rotation=45)\n",
    "    del(data)\n",
    "    \n",
    "plt.tight_layout()\n",
    "plt.show()"
   ]
  },
  {
   "cell_type": "markdown",
   "id": "de97e32f-2d87-4c87-832a-afe71eae413b",
   "metadata": {},
   "source": [
    "- Job_title is the only categorical feature where the datapoints are distributed across the different categories."
   ]
  },
  {
   "cell_type": "code",
   "execution_count": null,
   "id": "f8fcb1ef-fbd6-4633-8918-23cab19cd604",
   "metadata": {
    "executionCancelledAt": null,
    "executionTime": 48,
    "lastExecutedAt": 1742895845932,
    "lastExecutedByKernel": "714b3ba4-7c3c-41f6-a182-1d702dfc2c56",
    "lastScheduledRunId": null,
    "lastSuccessfullyExecutedCode": "df['remote_ratio'] = np.where(df['remote_ratio']==0, 'presential', np.where(df['remote_ratio']==50, 'partial_remote','full_remote'))"
   },
   "outputs": [],
   "source": [
    "# Convert remote_ratio into a categorical feature with labels easier to interpret\n",
    "df['remote_ratio'] = np.where(df['remote_ratio']==0, 'presential', np.where(df['remote_ratio']==50, 'partial_remote','full_remote'))\n",
    "df['remote_ratio'] = df['remote_ratio'].astype('category')"
   ]
  },
  {
   "cell_type": "code",
   "execution_count": null,
   "id": "2319dbe8-896a-4222-ba96-b11f7e29da41",
   "metadata": {
    "executionCancelledAt": null,
    "executionTime": 546,
    "lastExecutedAt": 1742896484950,
    "lastExecutedByKernel": "714b3ba4-7c3c-41f6-a182-1d702dfc2c56",
    "lastScheduledRunId": null,
    "lastSuccessfullyExecutedCode": "sns.distplot(df.salary_in_usd, bins=50)\nplt.title('Salary in USD')\nplt.show()"
   },
   "outputs": [],
   "source": [
    "# How the salary feature is distributed?\n",
    "sns.displot(df.salary_in_usd, bins=50)\n",
    "plt.title('Salary in USD')\n",
    "plt.xticks(rotation=45)\n",
    "plt.show()"
   ]
  },
  {
   "cell_type": "markdown",
   "id": "baf738a1-0c2f-4420-9713-5f2ada9c142d",
   "metadata": {},
   "source": [
    "- Salary_in_usd is right skewed with some extreamly high values compared to the rest."
   ]
  },
  {
   "cell_type": "code",
   "execution_count": null,
   "id": "e66ce08f-5c99-4b30-a90f-0debea2f99d8",
   "metadata": {
    "executionCancelledAt": null,
    "executionTime": 10,
    "lastExecutedAt": 1742896799379,
    "lastExecutedByKernel": "714b3ba4-7c3c-41f6-a182-1d702dfc2c56",
    "lastScheduledRunId": null,
    "lastSuccessfullyExecutedCode": "(df.salary_in_usd<400000).mean()"
   },
   "outputs": [],
   "source": [
    "salary=400000\n",
    "print(f'The {round(100*(df.salary_in_usd<salary).mean(), 2)}% of the observations are under {salary} USD')"
   ]
  },
  {
   "cell_type": "markdown",
   "id": "683188ac-013e-4097-9010-5f623f955ded",
   "metadata": {},
   "source": [
    "# Questions\n",
    "## Question 1: How many records are in the dataset, and what is the range of years covered?"
   ]
  },
  {
   "cell_type": "code",
   "execution_count": null,
   "id": "15bd7a70-67d7-4f6c-8670-1dddd3831192",
   "metadata": {},
   "outputs": [],
   "source": [
    "print(f'There are {len(df)} records in the dataset.')\n",
    "print(f\"The dataset contains observations from {df['work_year'].min()} to {df['work_year'].max()}\")"
   ]
  },
  {
   "cell_type": "markdown",
   "id": "feb506a9-b51d-4f61-a430-6da264bcd151",
   "metadata": {},
   "source": [
    "## Question 2: What is the average salary (in USD) for Data Scientists and Data Engineers? Which role earns more on average?"
   ]
  },
  {
   "cell_type": "code",
   "execution_count": null,
   "id": "0a43211b-864a-4e22-82b5-9d7073c4cee2",
   "metadata": {},
   "outputs": [],
   "source": [
    "df[df['job_title'].isin(['Data Scientist', 'Data Engineer'])].groupby('job_title').agg({'salary_in_usd': 'mean'}).round(2)"
   ]
  },
  {
   "cell_type": "markdown",
   "id": "dd034b3c-45fd-455a-9c68-eae0a15a7105",
   "metadata": {},
   "source": [
    "The average salary for Data Scientists is higher."
   ]
  },
  {
   "cell_type": "markdown",
   "id": "c73949cc-cc37-4e35-91db-4f896f5dcbbe",
   "metadata": {},
   "source": [
    "## Question 3: How many full-time employees based in the US work 100% remotely?"
   ]
  },
  {
   "cell_type": "code",
   "execution_count": null,
   "id": "823dcf3e-bc73-4d1a-b833-e22f60776f07",
   "metadata": {},
   "outputs": [],
   "source": [
    "print(f\"The amount of full-time employees based in the US who work 100% remotely is {len(df[(df['remote_ratio']=='full_remote') & (df['employee_residence']=='US')])}\")"
   ]
  },
  {
   "cell_type": "code",
   "execution_count": null,
   "id": "31f8bd34-c522-46f8-9d0b-edb7a3c87c84",
   "metadata": {},
   "outputs": [],
   "source": []
  }
 ],
 "metadata": {
  "editor": "DataLab",
  "kernelspec": {
   "display_name": "Python 3 (ipykernel)",
   "language": "python",
   "name": "python3"
  },
  "language_info": {
   "codemirror_mode": {
    "name": "ipython",
    "version": 3
   },
   "file_extension": ".py",
   "mimetype": "text/x-python",
   "name": "python",
   "nbconvert_exporter": "python",
   "pygments_lexer": "ipython3",
   "version": "3.11.11"
  }
 },
 "nbformat": 4,
 "nbformat_minor": 5
}
