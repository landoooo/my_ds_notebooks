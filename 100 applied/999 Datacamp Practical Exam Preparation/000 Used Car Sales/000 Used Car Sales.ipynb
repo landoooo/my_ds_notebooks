{
 "cells": [
  {
   "cell_type": "markdown",
   "id": "8bfe9c33-7c68-46b3-841c-5db39f43c22d",
   "metadata": {
    "execution": {
     "iopub.execute_input": "2024-11-01T08:53:46.882629Z",
     "iopub.status.busy": "2024-11-01T08:53:46.874439Z",
     "iopub.status.idle": "2024-11-01T08:53:46.905438Z",
     "shell.execute_reply": "2024-11-01T08:53:46.898068Z",
     "shell.execute_reply.started": "2024-11-01T08:53:46.882528Z"
    }
   },
   "source": [
    "# Used Car Sales \n",
    "\n",
    "https://s3.amazonaws.com/talent-assets.datacamp.com/DS+Case+Study+-+Used+Car+Sales+-+Prework.pdf\n",
    "\n",
    "| Column Name   | Details                                                                                                      |\n",
    "|---------------|--------------------------------------------------------------------------------------------------------------|\n",
    "| model         | Character, the model of the car, 18 possible values                                                          |\n",
    "| year          | Numeric, year of registration from 1998 to 2020                                                              |\n",
    "| price         | Numeric, listed value of the car in GBP                                                                      |\n",
    "| transmission  | Character, one of \"Manual\", \"Automatic\", \"Semi-Auto\" or \"Other\"                                              |\n",
    "| mileage       | Numeric, listed mileage of the car at time of sale                                                           |\n",
    "| fuelType      | Character, one of \"Petrol\", \"Hybrid\", \"Diesel\" or \"Other\"                                                    |\n",
    "| tax           | Numeric, road tax in GBP. Calculated based on CO2 emissions or a fixed price depending on the age of the car |\n",
    "| mpg           | Numeric, miles per gallon as reported by manufacturer                                                        |\n",
    "| engineSize    | Numeric, listed engine size, one of 16 possible values                                                       |"
   ]
  },
  {
   "cell_type": "code",
   "execution_count": null,
   "id": "fdc4591b-002b-438e-9e16-c7169e83ceb3",
   "metadata": {},
   "outputs": [],
   "source": []
  }
 ],
 "metadata": {
  "kernelspec": {
   "display_name": "Python 3 (ipykernel)",
   "language": "python",
   "name": "python3"
  },
  "language_info": {
   "codemirror_mode": {
    "name": "ipython",
    "version": 3
   },
   "file_extension": ".py",
   "mimetype": "text/x-python",
   "name": "python",
   "nbconvert_exporter": "python",
   "pygments_lexer": "ipython3",
   "version": "3.11.10"
  }
 },
 "nbformat": 4,
 "nbformat_minor": 5
}
