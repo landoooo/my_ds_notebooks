{
 "cells": [
  {
   "cell_type": "markdown",
   "id": "8bfe9c33-7c68-46b3-841c-5db39f43c22d",
   "metadata": {
    "execution": {
     "iopub.execute_input": "2024-11-01T08:53:46.882629Z",
     "iopub.status.busy": "2024-11-01T08:53:46.874439Z",
     "iopub.status.idle": "2024-11-01T08:53:46.905438Z",
     "shell.execute_reply": "2024-11-01T08:53:46.898068Z",
     "shell.execute_reply.started": "2024-11-01T08:53:46.882528Z"
    }
   },
   "source": [
    "# Used Car Sales \n",
    "\n",
    "https://s3.amazonaws.com/talent-assets.datacamp.com/DS+Case+Study+-+Used+Car+Sales+-+Prework.pdf\n",
    "\n",
    "| Column Name   | Details                                                                                                      |\n",
    "|---------------|--------------------------------------------------------------------------------------------------------------|\n",
    "| model         | Character, the model of the car, 18 possible values                                                          |\n",
    "| year          | Numeric, year of registration from 1998 to 2020                                                              |\n",
    "| price         | Numeric, listed value of the car in GBP                                                                      |\n",
    "| transmission  | Character, one of \"Manual\", \"Automatic\", \"Semi-Auto\" or \"Other\"                                              |\n",
    "| mileage       | Numeric, listed mileage of the car at time of sale                                                           |\n",
    "| fuelType      | Character, one of \"Petrol\", \"Hybrid\", \"Diesel\" or \"Other\"                                                    |\n",
    "| tax           | Numeric, road tax in GBP. Calculated based on CO2 emissions or a fixed price depending on the age of the car |\n",
    "| mpg           | Numeric, miles per gallon as reported by manufacturer                                                        |\n",
    "| engineSize    | Numeric, listed engine size, one of 16 possible values                                                       |"
   ]
  },
  {
   "cell_type": "markdown",
   "id": "cae7e7a3-d16f-40ed-9b9f-ff88ac76e75e",
   "metadata": {},
   "source": [
    "## 1. Business Goal"
   ]
  },
  {
   "cell_type": "markdown",
   "id": "f33fa70c-b1f6-4c7e-a00a-a47ce2d9296f",
   "metadata": {
    "jp-MarkdownHeadingCollapsed": true
   },
   "source": [
    "They want us to predict prices within 10% of the listed price. But as their team can only manage 30%, it is probably ok to show we are at least as good as that. I don’t know how close you will get in the time we have, but do your best and present whatever you find.\n",
    "\n",
    "Next month our most experienced sales team member will be retiring. They have been on the team almost since the company was founded. They are incredibly talented at estimating the sales price of cars. We are quite worried that when they retire we won’t be able to estimate as well and that will have a huge impact on sales.\n",
    "\n",
    "Currently, when a new car comes in, team members take all of the information that usually appears in the advert and give it to this team member. They then estimate the price. We have been testing the team members estimating themselves but they are always around 30% away from the price we know the car will sell for.\n",
    "\n",
    "Can you help us estimate the price we should list a car for? The team estimates are always around 30% off, we really want to be within 10% of the price. This will mean we can automate the whole process and be able to sell cars quicker.\n",
    "\n",
    "As I said, the team member retires in a month, so we would like to get your initial thoughts as soon as possible. We would like to see a presentation, you will be presenting to me and another sales manager. We would like to hear about whatever you manage to achieve to help us make decisions on the way forward.\n",
    "\n",
    "- **Business Goal 1:** Predict prices within 10% of the price.\n",
    "- **Business Goal 2:** automate the whole process and be able to sell cars quicker"
   ]
  },
  {
   "cell_type": "markdown",
   "id": "76ef2917-5fa1-4c39-b6ab-9e587df9dde6",
   "metadata": {},
   "source": [
    "## 2. Understanding the Data\n"
   ]
  },
  {
   "cell_type": "code",
   "execution_count": null,
   "id": "26c9d484-0630-4024-ad6e-fc186056b0d3",
   "metadata": {},
   "outputs": [],
   "source": [
    "import pandas as pd \n",
    "import numpy as np \n",
    "import matplotlib.pyplot as plt \n",
    "import seaborn as sns \n",
    "\n",
    "df = pd.read_csv('toyota.csv')\n",
    "df.head()"
   ]
  },
  {
   "cell_type": "code",
   "execution_count": null,
   "id": "2c074aa2-5ed0-4c29-84c5-805629c96024",
   "metadata": {},
   "outputs": [],
   "source": [
    "df.isna().sum()"
   ]
  },
  {
   "cell_type": "code",
   "execution_count": null,
   "id": "7b50c71f-adab-4707-ae8f-b481139745f3",
   "metadata": {},
   "outputs": [],
   "source": [
    "df.describe()"
   ]
  },
  {
   "cell_type": "code",
   "execution_count": null,
   "id": "eac990a2-4a86-4fdb-bbf3-8ff736537a82",
   "metadata": {},
   "outputs": [],
   "source": [
    "df.info()"
   ]
  },
  {
   "cell_type": "markdown",
   "id": "07cfb632-9c56-4b28-bd4a-304968a54204",
   "metadata": {},
   "source": [
    "## 2. Cleaning Data \n",
    "\n",
    "The datatypes seem ok and there are no null values in the dataset. \n",
    "\n",
    "Lets now have a look to the presence of duplicates, and how clean the string features are."
   ]
  },
  {
   "cell_type": "code",
   "execution_count": null,
   "id": "c73b20b9-643b-4977-be4b-1b4a211adce6",
   "metadata": {},
   "outputs": [],
   "source": [
    "df.duplicated().sum()"
   ]
  },
  {
   "cell_type": "code",
   "execution_count": null,
   "id": "45a87663-032e-45db-9b1a-a4256ae64245",
   "metadata": {},
   "outputs": [],
   "source": [
    "df['model'].value_counts()"
   ]
  },
  {
   "cell_type": "markdown",
   "id": "5123c9dc-2f3c-48f2-ac4d-f7041b80b6c5",
   "metadata": {},
   "source": [
    "In order to be sure that there are no trailing spaces that could end up in duplicates not caught, lets remove them from the string features."
   ]
  },
  {
   "cell_type": "code",
   "execution_count": null,
   "id": "da870a72-3910-457b-b967-e89999678059",
   "metadata": {},
   "outputs": [],
   "source": [
    "df['model'] = df['model'].str.strip()\n",
    "df['transmission'] = df['transmission'].str.strip()\n",
    "df['fuelType'] = df['fuelType'].str.strip()"
   ]
  },
  {
   "cell_type": "code",
   "execution_count": null,
   "id": "cc80be95-8a2b-4227-912f-ae582c597e7c",
   "metadata": {},
   "outputs": [],
   "source": [
    "for col in ['model', 'transmission', 'fuelType']: \n",
    "    df[col] = df[col].astype('category')"
   ]
  },
  {
   "cell_type": "code",
   "execution_count": null,
   "id": "b0d89e6b-814b-4ed6-af18-de5a8950fbb8",
   "metadata": {},
   "outputs": [],
   "source": [
    "df['transmission'].value_counts()"
   ]
  },
  {
   "cell_type": "code",
   "execution_count": null,
   "id": "5c03427e-135d-4879-a247-b70afa934ed5",
   "metadata": {},
   "outputs": [],
   "source": [
    "df['fuelType'].value_counts()"
   ]
  },
  {
   "cell_type": "markdown",
   "id": "26291705-e109-4e1a-a899-bcc288748bf4",
   "metadata": {
    "execution": {
     "iopub.execute_input": "2024-11-05T09:08:42.123460Z",
     "iopub.status.busy": "2024-11-05T09:08:42.122673Z",
     "iopub.status.idle": "2024-11-05T09:08:42.137066Z",
     "shell.execute_reply": "2024-11-05T09:08:42.134545Z",
     "shell.execute_reply.started": "2024-11-05T09:08:42.123420Z"
    }
   },
   "source": [
    "For the duplicate detection and removal we use all the columns. If mileage wasnt present, we would have keep the duplicates, but we understand is very rare to have 2 second hand cars with the same model, year, engine... and mileage."
   ]
  },
  {
   "cell_type": "code",
   "execution_count": null,
   "id": "373d3eb3-8e57-4336-8906-0eed91a0bda2",
   "metadata": {},
   "outputs": [],
   "source": [
    "df.duplicated(keep=False).sum()"
   ]
  },
  {
   "cell_type": "code",
   "execution_count": null,
   "id": "ed5b98b2-23e0-4627-815a-27c2301df1fb",
   "metadata": {},
   "outputs": [],
   "source": [
    "len(df)"
   ]
  },
  {
   "cell_type": "code",
   "execution_count": null,
   "id": "19bcefcc-f74d-41ac-a563-856943936428",
   "metadata": {},
   "outputs": [],
   "source": [
    "df = df.drop_duplicates(keep='first')"
   ]
  },
  {
   "cell_type": "code",
   "execution_count": null,
   "id": "33a013e3-75b4-42f7-afb5-d87b0ed88366",
   "metadata": {},
   "outputs": [],
   "source": [
    "len(df)"
   ]
  },
  {
   "cell_type": "markdown",
   "id": "f004d531-0ca9-4264-a2e9-f9ce4d2a83f9",
   "metadata": {},
   "source": [
    "## 3. Exploratory data analysis \n",
    "\n",
    "Now that the dataset is clean, lets proceed to perform a bit of EDA to better understand the features and how they interact."
   ]
  },
  {
   "cell_type": "code",
   "execution_count": null,
   "id": "45957a5b-559b-4648-bb76-ee659274e85a",
   "metadata": {},
   "outputs": [],
   "source": [
    "df.head()"
   ]
  },
  {
   "cell_type": "code",
   "execution_count": null,
   "id": "5ad58b88-9541-43f8-a81e-eb102bd669f9",
   "metadata": {},
   "outputs": [],
   "source": [
    "sns.countplot(data=df, x='model')\n",
    "plt.xticks(rotation=60)\n",
    "plt.title('Distribution of observations by model')\n",
    "plt.show()"
   ]
  },
  {
   "cell_type": "code",
   "execution_count": null,
   "id": "80b6243c-ba7d-483f-8157-139da133ffae",
   "metadata": {},
   "outputs": [],
   "source": [
    "df['model'].value_counts(normalize=True)"
   ]
  },
  {
   "cell_type": "code",
   "execution_count": null,
   "id": "d70d9565-6f3e-4602-8b13-699148728e80",
   "metadata": {},
   "outputs": [],
   "source": [
    "df['model'].value_counts()"
   ]
  },
  {
   "cell_type": "markdown",
   "id": "d9186bf0-55d8-46d6-818d-0d1971ddb745",
   "metadata": {},
   "source": [
    "More than 50% of the observations correspond to Yaris and Aygo. 3 types of cars have less than 10 observations each."
   ]
  },
  {
   "cell_type": "code",
   "execution_count": null,
   "id": "3051d08c-160b-4da4-8b02-7b24e740becc",
   "metadata": {},
   "outputs": [],
   "source": [
    "df['year'].value_counts()"
   ]
  },
  {
   "cell_type": "code",
   "execution_count": null,
   "id": "5d5088df-c57b-4a4b-8c7f-3b3208e30cd3",
   "metadata": {},
   "outputs": [],
   "source": [
    "sns.histplot(data=df, x='year')"
   ]
  },
  {
   "cell_type": "markdown",
   "id": "ecf4cfb7-f230-4ff3-a9dd-1779fdc548f1",
   "metadata": {},
   "source": [
    "For the most part, the observations present in the dataset belong to 2015-2020 with very few from 2010 back to 1998."
   ]
  },
  {
   "cell_type": "code",
   "execution_count": null,
   "id": "b0fc899f-e19f-45e0-a951-e1aa8b0acb3f",
   "metadata": {},
   "outputs": [],
   "source": [
    "plt.figure(figsize=(12,6))\n",
    "sns.histplot(data=df, x='price')\n",
    "plt.show()"
   ]
  },
  {
   "cell_type": "markdown",
   "id": "ab113f83-b614-4d6e-98a2-5bd13fe3bede",
   "metadata": {
    "execution": {
     "iopub.execute_input": "2024-11-05T09:19:46.928083Z",
     "iopub.status.busy": "2024-11-05T09:19:46.927434Z",
     "iopub.status.idle": "2024-11-05T09:19:46.939665Z",
     "shell.execute_reply": "2024-11-05T09:19:46.937765Z",
     "shell.execute_reply.started": "2024-11-05T09:19:46.928050Z"
    }
   },
   "source": [
    "The distribution of the price suggests that it could be interesting to apply a log transformation to normalize the prices."
   ]
  },
  {
   "cell_type": "code",
   "execution_count": null,
   "id": "448eb687-7f76-4ff9-bfaa-1e63550c0602",
   "metadata": {},
   "outputs": [],
   "source": [
    "np.quantile(df.price, 0.985)"
   ]
  },
  {
   "cell_type": "markdown",
   "id": "a20f35c7-fba4-41a6-8166-913d19731a20",
   "metadata": {},
   "source": [
    "Almost 99% of the observations are below 30k. "
   ]
  },
  {
   "cell_type": "code",
   "execution_count": null,
   "id": "21eec6fe-4e42-4b82-be77-afca26131eba",
   "metadata": {},
   "outputs": [],
   "source": [
    "df[df['price']>40000]"
   ]
  },
  {
   "cell_type": "markdown",
   "id": "96c0d794-ef31-4daf-b47d-60c3b603c05e",
   "metadata": {
    "execution": {
     "iopub.execute_input": "2024-11-05T10:10:55.867148Z",
     "iopub.status.busy": "2024-11-05T10:10:55.867026Z",
     "iopub.status.idle": "2024-11-05T10:10:55.872278Z",
     "shell.execute_reply": "2024-11-05T10:10:55.869999Z",
     "shell.execute_reply.started": "2024-11-05T10:10:55.867136Z"
    }
   },
   "source": [
    "The extreme prices seem to be perfectly valid ones. These observations seem to correspond to more expensive cars."
   ]
  },
  {
   "cell_type": "code",
   "execution_count": null,
   "id": "221018ca-d64a-4a9e-9fbe-bf7b8dc73ab4",
   "metadata": {},
   "outputs": [],
   "source": [
    "df['transmission'].value_counts()"
   ]
  },
  {
   "cell_type": "code",
   "execution_count": null,
   "id": "92b80421-a434-4fe0-a92a-28e1f65d8a40",
   "metadata": {},
   "outputs": [],
   "source": [
    "df[df['transmission']=='Other']"
   ]
  },
  {
   "cell_type": "code",
   "execution_count": null,
   "id": "38cf9562-a880-4181-b860-01885701641c",
   "metadata": {},
   "outputs": [],
   "source": [
    "df[(df['model']=='Yaris') & (df['year']==2015) & (df['tax']==0) & (df['engineSize']==1.5) & (df['mpg']==78)]"
   ]
  },
  {
   "cell_type": "markdown",
   "id": "b2d8e173-1969-4474-989b-253ce0f41e88",
   "metadata": {
    "execution": {
     "iopub.execute_input": "2024-11-05T10:12:10.251269Z",
     "iopub.status.busy": "2024-11-05T10:12:10.250556Z",
     "iopub.status.idle": "2024-11-05T10:12:10.265920Z",
     "shell.execute_reply": "2024-11-05T10:12:10.263588Z",
     "shell.execute_reply.started": "2024-11-05T10:12:10.251212Z"
    }
   },
   "source": [
    "Based on the amount of observations similar to the ones with the transmission 'Other', lets assign 'Automatic' there"
   ]
  },
  {
   "cell_type": "code",
   "execution_count": null,
   "id": "24db96a2-5bd8-41d9-9cba-0a3f528cf8c9",
   "metadata": {},
   "outputs": [],
   "source": [
    "df.loc[df['transmission'] == 'Other', 'transmission'] = 'Automatic'"
   ]
  },
  {
   "cell_type": "code",
   "execution_count": null,
   "id": "59340c6d-68c9-48e5-8059-ac70fd98cadd",
   "metadata": {},
   "outputs": [],
   "source": [
    "df['transmission'].value_counts()"
   ]
  },
  {
   "cell_type": "code",
   "execution_count": null,
   "id": "fe9f2283-bfcd-4032-a9df-3d57033a9ccb",
   "metadata": {},
   "outputs": [],
   "source": [
    "plt.figure(figsize=(12,6))\n",
    "sns.histplot(data=df, x='mileage')\n",
    "plt.show()"
   ]
  },
  {
   "cell_type": "markdown",
   "id": "db608e5d-a091-4471-a203-ea7997c634f3",
   "metadata": {},
   "source": [
    "Another distribution highly skewed to the right."
   ]
  },
  {
   "cell_type": "code",
   "execution_count": null,
   "id": "51c7460b-c7b8-4069-993e-4b3bf750c09a",
   "metadata": {},
   "outputs": [],
   "source": [
    "df['fuelType'].value_counts()"
   ]
  },
  {
   "cell_type": "code",
   "execution_count": null,
   "id": "4172487b-251c-4cf1-963f-e366f2e74e79",
   "metadata": {},
   "outputs": [],
   "source": [
    "plt.figure(figsize=(12,6))\n",
    "sns.histplot(data=df, x='tax')\n",
    "plt.show()"
   ]
  },
  {
   "cell_type": "code",
   "execution_count": null,
   "id": "707e5194-671d-4031-b2e1-8bfe88381d9e",
   "metadata": {},
   "outputs": [],
   "source": [
    "plt.figure(figsize=(12,6))\n",
    "sns.histplot(data=df, x='mpg')\n",
    "plt.show()"
   ]
  },
  {
   "cell_type": "code",
   "execution_count": null,
   "id": "4599ec62-0a02-4e45-8276-fcd5dd677c72",
   "metadata": {},
   "outputs": [],
   "source": [
    "plt.figure(figsize=(12,6))\n",
    "sns.histplot(data=df, x='engineSize')\n",
    "plt.show()"
   ]
  },
  {
   "cell_type": "code",
   "execution_count": null,
   "id": "68120f2d-b1c6-487e-a8a0-4167f7e80b63",
   "metadata": {},
   "outputs": [],
   "source": [
    "df['engineSize'].value_counts()"
   ]
  },
  {
   "cell_type": "markdown",
   "id": "ee9d9a39-a6f5-4283-a402-67e381e47fde",
   "metadata": {},
   "source": [
    "### Bivariate Analysis"
   ]
  },
  {
   "cell_type": "code",
   "execution_count": null,
   "id": "5e155c3b-5356-4d8d-b59e-76f5ff2b4cdb",
   "metadata": {},
   "outputs": [],
   "source": [
    "df.head()"
   ]
  },
  {
   "cell_type": "code",
   "execution_count": null,
   "id": "6d100fcb-3155-4d06-b6f2-4ebf1c210b06",
   "metadata": {},
   "outputs": [],
   "source": [
    "plt.figure(figsize=(12, 6))\n",
    "sns.boxplot(data=df, y='price', hue='model')\n",
    "plt.show()"
   ]
  },
  {
   "cell_type": "markdown",
   "id": "477defab-35df-4e7c-9568-475f8fbf5a7b",
   "metadata": {
    "execution": {
     "iopub.execute_input": "2024-11-05T10:12:18.663958Z",
     "iopub.status.busy": "2024-11-05T10:12:18.663768Z",
     "iopub.status.idle": "2024-11-05T10:12:18.667839Z",
     "shell.execute_reply": "2024-11-05T10:12:18.667177Z",
     "shell.execute_reply.started": "2024-11-05T10:12:18.663944Z"
    }
   },
   "source": [
    "The kind of car model seems to have a huge impact in the price."
   ]
  },
  {
   "cell_type": "code",
   "execution_count": null,
   "id": "3e6dcda7-a850-4b0f-8029-0c759aca58f0",
   "metadata": {},
   "outputs": [],
   "source": [
    "sns.scatterplot(data=df, x='year', y='price')"
   ]
  },
  {
   "cell_type": "markdown",
   "id": "69188339-8ee0-40cf-8124-3826789c089b",
   "metadata": {},
   "source": [
    "FINDING! cars with more than 20 years are more expensive? Very few observations though."
   ]
  },
  {
   "cell_type": "code",
   "execution_count": null,
   "id": "59391af6-1d34-47ba-b6c4-cb50d8d4aabc",
   "metadata": {},
   "outputs": [],
   "source": [
    "df['price_log'] = np.log(df['price'])"
   ]
  },
  {
   "cell_type": "code",
   "execution_count": null,
   "id": "70e24ecd-226e-4a72-a3e6-ced34fdec7ff",
   "metadata": {},
   "outputs": [],
   "source": [
    "plt.figure(figsize=(12,6))\n",
    "sns.histplot(data=df, x='price_log')\n",
    "plt.show()"
   ]
  },
  {
   "cell_type": "code",
   "execution_count": null,
   "id": "99b57446-44ed-48d0-85eb-bd98c647a431",
   "metadata": {},
   "outputs": [],
   "source": [
    "sns.lmplot(data=df, x='year', y='price_log')\n",
    "plt.show()"
   ]
  },
  {
   "cell_type": "code",
   "execution_count": null,
   "id": "e971f991-46c0-4012-9231-8375859c6745",
   "metadata": {},
   "outputs": [],
   "source": [
    "sns.lmplot(data=df, x='mileage', y='price_log')\n",
    "plt.show()"
   ]
  },
  {
   "cell_type": "code",
   "execution_count": null,
   "id": "0682e6a9-5760-49ad-bcbf-56bf442629e3",
   "metadata": {},
   "outputs": [],
   "source": [
    "df['mileage_log'] = np.log1p(df['mileage'])"
   ]
  },
  {
   "cell_type": "code",
   "execution_count": null,
   "id": "b5f36c85-fcc5-4924-b51d-7987163a16b6",
   "metadata": {},
   "outputs": [],
   "source": [
    "sns.lmplot(data=df, x='mileage_log', y='price_log')\n",
    "plt.show()"
   ]
  },
  {
   "cell_type": "code",
   "execution_count": null,
   "id": "e1a9c6ff-f163-4604-ab6e-d765de1cb37d",
   "metadata": {},
   "outputs": [],
   "source": [
    "df = df.drop('mileage_log', axis=1)"
   ]
  },
  {
   "cell_type": "code",
   "execution_count": null,
   "id": "669aeec8-d391-4d48-b23e-c0304241cd8a",
   "metadata": {},
   "outputs": [],
   "source": [
    "plt.figure(figsize=(12, 6))\n",
    "sns.boxplot(data=df, y='price_log', hue='model')\n",
    "plt.show()"
   ]
  },
  {
   "cell_type": "code",
   "execution_count": null,
   "id": "62d5e763-1703-4be4-a9d7-b171e921387e",
   "metadata": {},
   "outputs": [],
   "source": [
    "plt.figure(figsize=(12, 6))\n",
    "sns.boxplot(data=df, y='price_log', hue='transmission')\n",
    "plt.show()"
   ]
  },
  {
   "cell_type": "code",
   "execution_count": null,
   "id": "14d5fc25-9422-41cc-8942-15b7f39c7b79",
   "metadata": {},
   "outputs": [],
   "source": [
    "plt.figure(figsize=(12, 6))\n",
    "sns.boxplot(data=df, y='price_log', hue='fuelType')\n",
    "plt.show()"
   ]
  },
  {
   "cell_type": "code",
   "execution_count": null,
   "id": "19b8361b-aa07-4e62-b832-a2c5355aa657",
   "metadata": {},
   "outputs": [],
   "source": [
    "plt.figure(figsize=(12,6))\n",
    "sns.lmplot(data=df, x='engineSize', y='price')\n",
    "plt.show()"
   ]
  },
  {
   "cell_type": "code",
   "execution_count": null,
   "id": "e77fe847-386c-4a35-a5ff-ed952185c8d7",
   "metadata": {},
   "outputs": [],
   "source": [
    "plt.figure(figsize=(12,6))\n",
    "sns.lmplot(data=df, x='tax', y='price_log')\n",
    "plt.show()"
   ]
  },
  {
   "cell_type": "code",
   "execution_count": null,
   "id": "ee76eb60-98f0-4fac-afe9-be70dcc59dd1",
   "metadata": {},
   "outputs": [],
   "source": [
    "plt.figure(figsize=(12,6))\n",
    "sns.scatterplot(data=df, x='mpg', y='price', hue='fuelType')\n",
    "plt.show()"
   ]
  },
  {
   "cell_type": "markdown",
   "id": "e3c092e5-9552-417e-8eab-4cd711b7ed19",
   "metadata": {},
   "source": [
    "## Feature Engineering"
   ]
  },
  {
   "cell_type": "markdown",
   "id": "9574930d-2268-4aa6-ba2b-1711cfbd0462",
   "metadata": {},
   "source": [
    "Lets:\n",
    "- use the price_log to make predictions\n",
    "- bin tax\n",
    "- create a old_timer feature indicating the car model has been put in the market in 2000 or before"
   ]
  },
  {
   "cell_type": "code",
   "execution_count": null,
   "id": "7f2eeb71-f2a4-44fd-b211-e60894af76b8",
   "metadata": {},
   "outputs": [],
   "source": [
    "df['tax_binned'] = pd.cut(df['tax'], bins=[0, 100, 200, 300, 400, 1000], labels=['Low', 'Medium', 'High', 'Very High', 'Extreme'])"
   ]
  },
  {
   "cell_type": "code",
   "execution_count": null,
   "id": "15aa1a10-561d-433d-b4ac-1ca50fba4d60",
   "metadata": {},
   "outputs": [],
   "source": [
    "plt.figure(figsize=(12,6))\n",
    "sns.boxplot(data=df, hue='tax_binned', y='price')\n",
    "plt.show()"
   ]
  },
  {
   "cell_type": "code",
   "execution_count": null,
   "id": "0b93e8e3-93f9-44a0-974e-ebbd46466c2e",
   "metadata": {},
   "outputs": [],
   "source": [
    "df['old_timer'] = (df['year']<=2000)"
   ]
  },
  {
   "cell_type": "code",
   "execution_count": null,
   "id": "b2772a30-5323-49d7-8838-75361379ac45",
   "metadata": {},
   "outputs": [],
   "source": [
    "plt.figure(figsize=(12,6))\n",
    "sns.boxplot(data=df, x='old_timer', y='price')\n",
    "plt.show()"
   ]
  },
  {
   "cell_type": "markdown",
   "id": "966f1462-4105-4c98-8b1c-ae9d7bdc72c5",
   "metadata": {
    "execution": {
     "iopub.execute_input": "2024-11-05T10:05:44.468751Z",
     "iopub.status.busy": "2024-11-05T10:05:44.467926Z",
     "iopub.status.idle": "2024-11-05T10:05:44.477076Z",
     "shell.execute_reply": "2024-11-05T10:05:44.475647Z",
     "shell.execute_reply.started": "2024-11-05T10:05:44.468713Z"
    }
   },
   "source": [
    "## Preparing data to train a model"
   ]
  },
  {
   "cell_type": "code",
   "execution_count": null,
   "id": "798fc354-c17b-4ebc-af92-664762c3cbf0",
   "metadata": {},
   "outputs": [],
   "source": [
    "df.columns"
   ]
  },
  {
   "cell_type": "code",
   "execution_count": null,
   "id": "38ff7e4c-8c72-41a9-b32e-2b3fb170da89",
   "metadata": {},
   "outputs": [],
   "source": [
    "features = df[['model', 'year', 'transmission', 'mileage', 'fuelType', 'mpg', 'engineSize', 'tax_binned', 'old_timer']] \n",
    "y = df['price_log']"
   ]
  },
  {
   "cell_type": "code",
   "execution_count": null,
   "id": "1e6db2ce-82ab-4a08-b75c-045ceb77d9cc",
   "metadata": {},
   "outputs": [],
   "source": [
    "from sklearn.preprocessing import StandardScaler\n",
    "\n",
    "cols_to_scale = ['year', 'mileage', 'mpg', 'engineSize']\n",
    "\n",
    "scaler = StandardScaler()\n",
    "features[cols_to_scale] = scaler.fit_transform(features[cols_to_scale])\n",
    "X = pd.get_dummies(features, columns=['model', 'transmission', 'fuelType', 'tax_binned'], drop_first=True)"
   ]
  },
  {
   "cell_type": "code",
   "execution_count": null,
   "id": "ad03f9f8-2f53-4d4c-8351-415f897e0044",
   "metadata": {},
   "outputs": [],
   "source": [
    "from sklearn.model_selection import train_test_split\n",
    "\n",
    "X_train, X_test, y_train, y_test = train_test_split(X, y, test_size=0.2, random_state=42)"
   ]
  },
  {
   "cell_type": "code",
   "execution_count": null,
   "id": "d5044178-b317-40f0-b0e7-19390ef3ab39",
   "metadata": {},
   "outputs": [],
   "source": [
    "from sklearn.linear_model import Ridge, Lasso, LinearRegression\n",
    "from sklearn.ensemble import RandomForestRegressor\n",
    "from sklearn.model_selection import GridSearchCV\n",
    "from sklearn.metrics import mean_squared_error, r2_score\n",
    "import numpy as np\n",
    "\n",
    "# Define parameter grids for each model\n",
    "param_grid_ridge = {\n",
    "    'alpha': [0.1, 1, 10],\n",
    "    'solver': ['auto', 'svd', 'cholesky', 'lsqr', 'sag', 'saga']\n",
    "}\n",
    "\n",
    "param_grid_lasso = {\n",
    "    'alpha': [0.1, 1, 10],\n",
    "    'max_iter': [1000, 5000],\n",
    "    'selection': ['cyclic', 'random']\n",
    "}\n",
    "\n",
    "param_grid_rf = {\n",
    "    'n_estimators': [100, 200],\n",
    "    'max_depth': [None, 10, 20],\n",
    "    'min_samples_split': [2, 5],\n",
    "}\n",
    "\n",
    "# Initialize models\n",
    "ridge = Ridge()\n",
    "lasso = Lasso()\n",
    "lr = LinearRegression()\n",
    "rf = RandomForestRegressor()\n",
    "\n",
    "# Train models using GridSearchCV\n",
    "models = {\n",
    "    \"Ridge\": GridSearchCV(ridge, param_grid_ridge, cv=5, scoring='neg_mean_squared_error'),\n",
    "    \"Lasso\": GridSearchCV(lasso, param_grid_lasso, cv=5, scoring='neg_mean_squared_error'),\n",
    "    \"Linear Regression\": GridSearchCV(lr, {}, cv=5, scoring='neg_mean_squared_error'),\n",
    "    \"Random Forest\": GridSearchCV(rf, param_grid_rf, cv=5, scoring='neg_mean_squared_error')\n",
    "}\n",
    "\n",
    "for name, model in models.items():\n",
    "    model.fit(X_train, y_train)\n",
    "    y_pred_train = model.predict(X_train)\n",
    "    y_pred_test = model.predict(X_test)\n",
    "\n",
    "    # Transform predictions back to original price\n",
    "    y_pred_train_original = np.exp(y_pred_train)  # Inverse of np.log\n",
    "    y_pred_test_original = np.exp(y_pred_test)    # Inverse of np.log\n",
    "\n",
    "    # Calculate RMSE on original price\n",
    "    train_rmse = np.sqrt(mean_squared_error(np.exp(y_train), y_pred_train_original))\n",
    "    test_rmse = np.sqrt(mean_squared_error(np.exp(y_test), y_pred_test_original))\n",
    "    \n",
    "    # Calculate R² on original price\n",
    "    train_r2 = r2_score(np.exp(y_train), y_pred_train_original)\n",
    "    test_r2 = r2_score(np.exp(y_test), y_pred_test_original)\n",
    "\n",
    "    # Print results\n",
    "    print(f\"{name} Best Parameters: {model.best_params_ if hasattr(model, 'best_params_') else 'N/A'}\")\n",
    "    print(f\"Train RMSE (original price): {train_rmse:.2f}\")\n",
    "    print(f\"Test RMSE (original price): {test_rmse:.2f}\")\n",
    "    print(f\"Train R²: {train_r2:.2f}\")\n",
    "    print(f\"Test R²: {test_r2:.2f}\\n\")"
   ]
  },
  {
   "cell_type": "code",
   "execution_count": null,
   "id": "8f1da4a5-2a71-46c7-ba01-249c8147bd93",
   "metadata": {},
   "outputs": [],
   "source": [
    "from sklearn.ensemble import RandomForestRegressor\n",
    "from sklearn.model_selection import GridSearchCV\n",
    "\n",
    "# Define a new parameter grid for fine-tuning\n",
    "param_grid_rf_fine_tune = {\n",
    "    'n_estimators': [150, 200, 250],\n",
    "    'max_depth': [8, 10, 12],\n",
    "    'min_samples_split': [2, 3, 5],\n",
    "    'min_samples_leaf': [1, 2, 4]\n",
    "}\n",
    "\n",
    "# Initialize Random Forest Regressor\n",
    "rf_fine_tune = RandomForestRegressor()\n",
    "\n",
    "# Train the model using GridSearchCV\n",
    "rf_grid_search = GridSearchCV(rf_fine_tune, param_grid_rf_fine_tune, cv=5, scoring='neg_mean_squared_error', n_jobs=-1)\n",
    "rf_grid_search.fit(X_train, y_train)\n",
    "\n",
    "# Make predictions on train and test sets\n",
    "y_pred_train_fine = rf_grid_search.predict(X_train)\n",
    "y_pred_test_fine = rf_grid_search.predict(X_test)\n",
    "\n",
    "# Transform predictions back to original price\n",
    "y_pred_train_fine_original = np.exp(y_pred_train_fine)  # Inverse of np.log\n",
    "y_pred_test_fine_original = np.exp(y_pred_test_fine)    # Inverse of np.log\n",
    "\n",
    "# Calculate RMSE on original price\n",
    "train_rmse_fine = np.sqrt(mean_squared_error(np.exp(y_train), y_pred_train_fine_original))\n",
    "test_rmse_fine = np.sqrt(mean_squared_error(np.exp(y_test), y_pred_test_fine_original))\n",
    "\n",
    "# Calculate R² on original price\n",
    "train_r2_fine = r2_score(np.exp(y_train), y_pred_train_fine_original)\n",
    "test_r2_fine = r2_score(np.exp(y_test), y_pred_test_fine_original)\n",
    "\n",
    "# Print results\n",
    "print(f\"Random Forest Best Parameters: {rf_grid_search.best_params_}\")\n",
    "print(f\"Train RMSE (original price): {train_rmse_fine:.2f}\")\n",
    "print(f\"Test RMSE (original price): {test_rmse_fine:.2f}\")\n",
    "print(f\"Train R²: {train_r2_fine:.2f}\")\n",
    "print(f\"Test R²: {test_r2_fine:.2f}\")"
   ]
  },
  {
   "cell_type": "code",
   "execution_count": null,
   "id": "8093dbb8-12c6-4a87-826f-398ffb1fb87d",
   "metadata": {},
   "outputs": [],
   "source": [
    "# Create a DataFrame for easier analysis\n",
    "results_df = pd.DataFrame({\n",
    "    'Actual Price': np.exp(y_test),\n",
    "    'Predicted Price': np.exp(rf_grid_search.predict(X_test))\n",
    "})\n",
    "\n",
    "# Calculate percentage error\n",
    "results_df['Percentage Error'] = (results_df['Predicted Price'] - results_df['Actual Price']) / results_df['Actual Price'] * 100\n",
    "\n",
    "# Calculate summary statistics\n",
    "mean_error = results_df['Percentage Error'].mean()\n",
    "median_error = results_df['Percentage Error'].median()\n",
    "std_dev_error = results_df['Percentage Error'].std()\n",
    "\n",
    "# Output results\n",
    "print(\"Mean Percentage Error: {:.2f}%\".format(mean_error))\n",
    "print(\"Median Percentage Error: {:.2f}%\".format(median_error))\n",
    "print(\"Standard Deviation of Percentage Error: {:.2f}%\".format(std_dev_error))\n",
    "\n",
    "# You can also inspect the full results DataFrame if needed\n",
    "print(results_df)"
   ]
  },
  {
   "cell_type": "code",
   "execution_count": null,
   "id": "989dc637-97a6-496d-b38f-af3a12106693",
   "metadata": {},
   "outputs": [],
   "source": [
    "results_df['Percentage Error'].describe()"
   ]
  },
  {
   "cell_type": "code",
   "execution_count": null,
   "id": "ab87cd30-8c98-4abc-9a94-3c796f362c7f",
   "metadata": {},
   "outputs": [],
   "source": [
    "np.quantile(results_df['Percentage Error'], [0, 0.05, 0.1, 0.9, 0.95, 1])"
   ]
  },
  {
   "cell_type": "code",
   "execution_count": null,
   "id": "289fb5be-ecc1-4a69-bddd-1a68ad6faad2",
   "metadata": {},
   "outputs": [],
   "source": [
    "sns.displot(data=results_df['Percentage Error'])"
   ]
  },
  {
   "cell_type": "code",
   "execution_count": null,
   "id": "805eb568-bd40-48d7-b6e5-992fe9dda2e5",
   "metadata": {},
   "outputs": [],
   "source": [
    "mean = results_df['Percentage Error'].mean()\n",
    "std_dev = results_df['Percentage Error'].std()\n",
    "\n",
    "# Set the figure size\n",
    "plt.figure(figsize=(12, 6))\n",
    "\n",
    "# Create the KDE plot\n",
    "sns.kdeplot(results_df['Percentage Error'], fill=True, color='skyblue', alpha=0.5)\n",
    "\n",
    "# Add vertical lines for mean, 1*SD, 2*SD, 3*SD\n",
    "plt.axvline(mean, color='red', linestyle='--', label='Mean')\n",
    "plt.axvline(mean + std_dev, color='green', linestyle='--', label='Mean + 1 SD')\n",
    "plt.axvline(mean - std_dev, color='green', linestyle='--', label='Mean - 1 SD')\n",
    "plt.axvline(mean + 2 * std_dev, color='orange', linestyle='--', label='Mean + 2 SD')\n",
    "plt.axvline(mean - 2 * std_dev, color='orange', linestyle='--', label='Mean - 2 SD')\n",
    "plt.axvline(mean + 3 * std_dev, color='blue', linestyle='--', label='Mean + 3 SD')\n",
    "plt.axvline(mean - 3 * std_dev, color='blue', linestyle='--', label='Mean - 3 SD')\n",
    "\n",
    "# Add titles and labels\n",
    "plt.title('KDE Plot with Standard Deviations')\n",
    "plt.xlabel('Value')\n",
    "plt.ylabel('Density')\n",
    "plt.legend()\n",
    "\n",
    "# Display the plot\n",
    "plt.show()"
   ]
  },
  {
   "cell_type": "code",
   "execution_count": null,
   "id": "379d8585-1c9b-469d-a527-fd47e0e6c24a",
   "metadata": {},
   "outputs": [],
   "source": [
    "feature_importances = rf_grid_search.best_estimator_.feature_importances_\n",
    "\n",
    "# Create a DataFrame for better readability\n",
    "importance_df = pd.DataFrame({\n",
    "    'Feature': X.columns,\n",
    "    'Importance': feature_importances\n",
    "})\n",
    "\n",
    "# Sort the DataFrame by importance\n",
    "importance_df = importance_df.sort_values(by='Importance', ascending=False)\n",
    "\n",
    "# Plot using Seaborn\n",
    "plt.figure(figsize=(10, 6))\n",
    "sns.barplot(data=importance_df, x='Importance', y='Feature', palette='viridis')\n",
    "plt.title('Feature Importances from Random Forest')\n",
    "plt.xlabel('Importance')\n",
    "plt.ylabel('Features')\n",
    "\n",
    "plt.show()"
   ]
  },
  {
   "cell_type": "code",
   "execution_count": null,
   "id": "44173b73-aaf5-4a79-8942-c8838923a4be",
   "metadata": {},
   "outputs": [],
   "source": [
    "np.abs(results_df['Percentage Error']).describe()"
   ]
  },
  {
   "cell_type": "code",
   "execution_count": null,
   "id": "34f2333c-5351-419c-a232-21eef48d7b3e",
   "metadata": {},
   "outputs": [],
   "source": [
    "np.quantile(np.abs(results_df['Percentage Error']), [0,0.05, 0.1, 0.9, 0.95, 1])"
   ]
  },
  {
   "cell_type": "code",
   "execution_count": null,
   "id": "34974fd1-3e68-4ea0-a323-a53be40dff94",
   "metadata": {},
   "outputs": [],
   "source": [
    "np.round(np.quantile(np.abs(results_df['Percentage Error']), [0,0.05, 0.1, 0.80, 0.9, 0.95, 1]), 2)"
   ]
  },
  {
   "cell_type": "code",
   "execution_count": null,
   "id": "98066585-0dcb-4f07-a80e-0a69d053fe7a",
   "metadata": {},
   "outputs": [],
   "source": [
    "features.columns"
   ]
  },
  {
   "cell_type": "code",
   "execution_count": null,
   "id": "2847f257-6b7e-4e93-9873-a9d863b517f8",
   "metadata": {},
   "outputs": [],
   "source": [
    "df.columns"
   ]
  },
  {
   "cell_type": "code",
   "execution_count": null,
   "id": "3941061a-44ff-4d5b-84a9-ad1d4d7fd61b",
   "metadata": {},
   "outputs": [],
   "source": []
  }
 ],
 "metadata": {
  "kernelspec": {
   "display_name": "Python 3 (ipykernel)",
   "language": "python",
   "name": "python3"
  },
  "language_info": {
   "codemirror_mode": {
    "name": "ipython",
    "version": 3
   },
   "file_extension": ".py",
   "mimetype": "text/x-python",
   "name": "python",
   "nbconvert_exporter": "python",
   "pygments_lexer": "ipython3",
   "version": "3.11.10"
  }
 },
 "nbformat": 4,
 "nbformat_minor": 5
}
