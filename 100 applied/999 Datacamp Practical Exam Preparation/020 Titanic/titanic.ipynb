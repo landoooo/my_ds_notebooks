{
 "cells": [
  {
   "cell_type": "markdown",
   "metadata": {},
   "source": [
    "# Titanic\n",
    "\n",
    "https://www.kaggle.com/c/titanic/data\n",
    "\n",
    "## Overview\n",
    "The dataset is divided into two groups:\n",
    "\n",
    "1. **Training Set (`train.csv`)**  \n",
    "   - Use this data to build your machine learning models.\n",
    "   - Contains features about each passenger along with the outcome (or “ground truth”) indicating survival.\n",
    "\n",
    "2. **Test Set (`test.csv`)**  \n",
    "   - Use this data to evaluate model performance on unseen data.\n",
    "   - The ground truth (survival outcome) is not provided. Predict survival for each passenger using the trained model.\n",
    "\n",
    "3. **Example Submission (`gender_submission.csv`)**  \n",
    "   - A sample file showing predictions based on the assumption that only female passengers survive.\n",
    "\n",
    "## Data Dictionary\n",
    "\n",
    "| Variable    | Definition                        | Key                                              |\n",
    "|-------------|-----------------------------------|--------------------------------------------------|\n",
    "| `survival`  | Survival                          | 0 = No, 1 = Yes                                  |\n",
    "| `pclass`    | Ticket class                      | 1 = 1st, 2 = 2nd, 3 = 3rd                        |\n",
    "| `sex`       | Sex                               |                                                  |\n",
    "| `age`       | Age in years                      |                                                  |\n",
    "| `sibsp`     | # of siblings / spouses aboard    |                                                  |\n",
    "| `parch`     | # of parents / children aboard    |                                                  |\n",
    "| `ticket`    | Ticket number                     |                                                  |\n",
    "| `fare`      | Passenger fare                    |                                                  |\n",
    "| `cabin`     | Cabin number                      |                                                  |\n",
    "| `embarked`  | Port of Embarkation               | C = Cherbourg, Q = Queenstown, S = Southampton   |\n",
    "\n",
    "## Variable Notes\n",
    "\n",
    "- **`pclass`**: Socio-economic status (SES) proxy  \n",
    "  - 1st = Upper  \n",
    "  - 2nd = Middle  \n",
    "  - 3rd = Lower\n",
    "\n",
    "- **`age`**: If age is fractional, it is below 1. Estimated ages are in the form `xx.5`.\n",
    "\n",
    "- **`sibsp`**:  \n",
    "  - Defines family relations on board.  \n",
    "  - *Sibling*: Brother, sister, stepbrother, stepsister.  \n",
    "  - *Spouse*: Husband, wife (excluding mistresses and fiancés).\n",
    "\n",
    "- **`parch`**:  \n",
    "  - Defines family relations on board.  \n",
    "  - *Parent*: Mother, father.  \n",
    "  - *Child*: Daughter, son, stepdaughter, stepson.  \n",
    "  - Note: Some children traveled with a nanny, so `parch = 0` for them."
   ]
  },
  {
   "cell_type": "markdown",
   "metadata": {
    "jp-MarkdownHeadingCollapsed": true
   },
   "source": [
    "## 1. Define the Problem and Project Objectives\n",
    "\n",
    "Use machine learning to create a model that predicts which passengers survived the Titanic shipwreck.\n"
   ]
  },
  {
   "cell_type": "markdown",
   "metadata": {},
   "source": [
    "## 2. Data Collection and Understanding\n",
    "Examine the dataset provided to understand its structure and contents."
   ]
  },
  {
   "cell_type": "code",
   "execution_count": null,
   "metadata": {},
   "outputs": [],
   "source": [
    "import pandas as pd\n",
    "import numpy as np \n",
    "import seaborn as sns \n",
    "import matplotlib.pyplot as plt \n",
    "\n",
    "# Load the dataset\n",
    "train = pd.read_csv('020 Titanic/data/train.csv')\n",
    "test = pd.read_csv('020 Titanic//data/test.csv')\n",
    "# Display the first few rows\n",
    "\n",
    "print('Length of the training set: {}'.format(len(train)))\n",
    "print('Length of the test set: {}'.format(len(test)))\n",
    "train.head()"
   ]
  },
  {
   "cell_type": "code",
   "execution_count": null,
   "metadata": {},
   "outputs": [],
   "source": [
    "test.head()"
   ]
  },
  {
   "cell_type": "code",
   "execution_count": null,
   "metadata": {},
   "outputs": [],
   "source": [
    "test['Survived']=np.nan"
   ]
  },
  {
   "cell_type": "code",
   "execution_count": null,
   "metadata": {},
   "outputs": [],
   "source": [
    "# Lets join train and test so we process all rows at once.\n",
    "df = pd.concat([train, test], ignore_index=True)"
   ]
  },
  {
   "cell_type": "code",
   "execution_count": null,
   "metadata": {},
   "outputs": [],
   "source": [
    "df.describe()"
   ]
  },
  {
   "cell_type": "code",
   "execution_count": null,
   "metadata": {},
   "outputs": [],
   "source": [
    "df.info()"
   ]
  },
  {
   "cell_type": "code",
   "execution_count": null,
   "metadata": {},
   "outputs": [],
   "source": [
    "df.Survived.value_counts()"
   ]
  },
  {
   "cell_type": "code",
   "execution_count": null,
   "metadata": {},
   "outputs": [],
   "source": [
    "df.Pclass.value_counts()"
   ]
  },
  {
   "cell_type": "code",
   "execution_count": null,
   "metadata": {},
   "outputs": [],
   "source": [
    "df.Sex.value_counts()"
   ]
  },
  {
   "cell_type": "code",
   "execution_count": null,
   "metadata": {},
   "outputs": [],
   "source": [
    "df.Age.value_counts()"
   ]
  },
  {
   "cell_type": "code",
   "execution_count": null,
   "metadata": {},
   "outputs": [],
   "source": [
    "df.SibSp.value_counts()"
   ]
  },
  {
   "cell_type": "code",
   "execution_count": null,
   "metadata": {},
   "outputs": [],
   "source": [
    "df.Parch.value_counts()"
   ]
  },
  {
   "cell_type": "code",
   "execution_count": null,
   "metadata": {},
   "outputs": [],
   "source": [
    "df.Ticket.value_counts()"
   ]
  },
  {
   "cell_type": "code",
   "execution_count": null,
   "metadata": {},
   "outputs": [],
   "source": [
    "df.Fare.value_counts()"
   ]
  },
  {
   "cell_type": "code",
   "execution_count": null,
   "metadata": {},
   "outputs": [],
   "source": [
    "df.Cabin.value_counts()"
   ]
  },
  {
   "cell_type": "code",
   "execution_count": null,
   "metadata": {},
   "outputs": [],
   "source": [
    "df.Embarked.value_counts()"
   ]
  },
  {
   "cell_type": "code",
   "execution_count": null,
   "metadata": {},
   "outputs": [],
   "source": [
    "df.isna().sum()"
   ]
  },
  {
   "cell_type": "code",
   "execution_count": null,
   "metadata": {},
   "outputs": [],
   "source": [
    "df.PassengerId.duplicated().sum()"
   ]
  },
  {
   "cell_type": "markdown",
   "metadata": {
    "execution": {
     "iopub.execute_input": "2024-11-04T16:44:04.545666Z",
     "iopub.status.busy": "2024-11-04T16:44:04.545440Z",
     "iopub.status.idle": "2024-11-04T16:44:04.549808Z",
     "shell.execute_reply": "2024-11-04T16:44:04.548645Z",
     "shell.execute_reply.started": "2024-11-04T16:44:04.545648Z"
    }
   },
   "source": [
    "After a first inspection: \n",
    "- There are 263 missing ages\n",
    "- There are 1014 missing cabins\n",
    "- There is 1 missing Fare\n",
    "- There are 2 missing Embarked\n",
    "- Pclass, Sex, Fare and Embarked can be converted into categories\n",
    "- There are no duplicates\n",
    "- The Name could be used to extract more information"
   ]
  },
  {
   "cell_type": "code",
   "execution_count": null,
   "metadata": {},
   "outputs": [],
   "source": [
    "df.nunique()"
   ]
  },
  {
   "cell_type": "code",
   "execution_count": null,
   "metadata": {},
   "outputs": [],
   "source": [
    "cat_cols = ['Survived', 'Pclass', 'Sex', 'Embarked']\n",
    "\n",
    "for col in cat_cols:\n",
    "    df[col] = df[col].astype('category')    "
   ]
  },
  {
   "cell_type": "markdown",
   "metadata": {},
   "source": [
    "## 3. Data Cleaning\n",
    "Clean the data by handling missing values, removing duplicates, and correcting errors."
   ]
  },
  {
   "cell_type": "markdown",
   "metadata": {},
   "source": [
    "### Age missing"
   ]
  },
  {
   "cell_type": "code",
   "execution_count": null,
   "metadata": {},
   "outputs": [],
   "source": [
    "df.Age.isna().sum()"
   ]
  },
  {
   "cell_type": "code",
   "execution_count": null,
   "metadata": {},
   "outputs": [],
   "source": [
    "sns.histplot(data=df, x='Age')"
   ]
  },
  {
   "cell_type": "code",
   "execution_count": null,
   "metadata": {},
   "outputs": [],
   "source": [
    "df['estimated_age'] = (df['Age']%1) == 0.5"
   ]
  },
  {
   "cell_type": "code",
   "execution_count": null,
   "metadata": {},
   "outputs": [],
   "source": [
    "df[df['Fare'].isna()==True]"
   ]
  },
  {
   "cell_type": "code",
   "execution_count": null,
   "metadata": {},
   "outputs": [],
   "source": [
    "df['Fare'].hist()"
   ]
  },
  {
   "cell_type": "code",
   "execution_count": null,
   "metadata": {},
   "outputs": [],
   "source": [
    "df['Fare'] = df['Fare'].fillna({'Fare': df['Fare'].mean()})"
   ]
  },
  {
   "cell_type": "code",
   "execution_count": null,
   "metadata": {},
   "outputs": [],
   "source": [
    "df.Embarked.value_counts()"
   ]
  },
  {
   "cell_type": "code",
   "execution_count": null,
   "metadata": {},
   "outputs": [],
   "source": [
    "df['Embarked'].fillna(df['Embarked'].mode()[0], inplace=True)"
   ]
  },
  {
   "cell_type": "code",
   "execution_count": null,
   "metadata": {},
   "outputs": [],
   "source": [
    "df['Cabin'].fillna('None', inplace=True)"
   ]
  },
  {
   "cell_type": "code",
   "execution_count": null,
   "metadata": {},
   "outputs": [],
   "source": []
  },
  {
   "cell_type": "code",
   "execution_count": null,
   "metadata": {},
   "outputs": [],
   "source": [
    "df.info()"
   ]
  },
  {
   "cell_type": "markdown",
   "metadata": {},
   "source": [
    "The only missing values are in the age column. We will try to impute values in a smart way after performing some EDA"
   ]
  },
  {
   "cell_type": "markdown",
   "metadata": {},
   "source": [
    "## 4. Exploratory Data Analysis (EDA)\n",
    "Analyze the data visually and statistically to uncover patterns and insights."
   ]
  },
  {
   "cell_type": "code",
   "execution_count": null,
   "metadata": {},
   "outputs": [],
   "source": [
    "df.Pclass.value_counts()"
   ]
  },
  {
   "cell_type": "code",
   "execution_count": null,
   "metadata": {},
   "outputs": [],
   "source": [
    "sns.countplot(data=df, x='Pclass', hue='Survived')"
   ]
  },
  {
   "cell_type": "code",
   "execution_count": null,
   "metadata": {},
   "outputs": [],
   "source": [
    "sns.pairplot(data=df, hue='Survived')\n",
    "plt.show()"
   ]
  },
  {
   "cell_type": "code",
   "execution_count": null,
   "metadata": {},
   "outputs": [],
   "source": [
    "df[df.Name.str.contains('(', regex=False)]['Name']"
   ]
  },
  {
   "cell_type": "code",
   "execution_count": null,
   "metadata": {},
   "outputs": [],
   "source": [
    "df['Name_no_parenthesis'] = df['Name'].str.replace(r\"\\(.*?\\)\", \"\", regex=True)"
   ]
  },
  {
   "cell_type": "code",
   "execution_count": null,
   "metadata": {},
   "outputs": [],
   "source": [
    "df['Title'] = df['Name_no_parenthesis'].str.extract(r'\\b(Mr|Mrs|Miss|Master|Don|Major|Col|Dr|Rev|Sir|Lady|Mme|Mlle|Ms|Dona|Capt|Countess|Jonkheer)\\b', expand=False)"
   ]
  },
  {
   "cell_type": "code",
   "execution_count": null,
   "metadata": {},
   "outputs": [],
   "source": [
    "df.head()"
   ]
  },
  {
   "cell_type": "code",
   "execution_count": null,
   "metadata": {},
   "outputs": [],
   "source": [
    "df['Title'].isna().sum()"
   ]
  },
  {
   "cell_type": "code",
   "execution_count": null,
   "metadata": {},
   "outputs": [],
   "source": [
    "plt.figure(figsize=(12,6))\n",
    "sns.boxplot(data=df, y='Age', x='Title', hue='Sex')"
   ]
  },
  {
   "cell_type": "code",
   "execution_count": null,
   "metadata": {},
   "outputs": [],
   "source": [
    "df['Cabin'].value_counts()"
   ]
  },
  {
   "cell_type": "code",
   "execution_count": null,
   "metadata": {},
   "outputs": [],
   "source": [
    "df['Cabin_Category'] = df['Cabin'].str[0].fillna('None')"
   ]
  },
  {
   "cell_type": "code",
   "execution_count": null,
   "metadata": {},
   "outputs": [],
   "source": [
    "df['Age'] = df['Age'].fillna(df.groupby(['Sex', 'Title'])['Age'].transform('mean'))"
   ]
  },
  {
   "cell_type": "code",
   "execution_count": null,
   "metadata": {},
   "outputs": [],
   "source": [
    "df.columns"
   ]
  },
  {
   "cell_type": "code",
   "execution_count": null,
   "metadata": {},
   "outputs": [],
   "source": [
    "sns.histplot(data=df.Fare)"
   ]
  },
  {
   "cell_type": "code",
   "execution_count": null,
   "metadata": {},
   "outputs": [],
   "source": [
    "df['fare_log'] = np.log1p(df['Fare'])"
   ]
  },
  {
   "cell_type": "code",
   "execution_count": null,
   "metadata": {},
   "outputs": [],
   "source": [
    "sns.histplot(data=df.fare_log)"
   ]
  },
  {
   "cell_type": "code",
   "execution_count": null,
   "metadata": {},
   "outputs": [],
   "source": [
    "df.columns"
   ]
  },
  {
   "cell_type": "code",
   "execution_count": null,
   "metadata": {},
   "outputs": [],
   "source": [
    "from sklearn.model_selection import train_test_split \n",
    "from sklearn.linear_model import LogisticRegression \n",
    "from sklearn.ensemble import RandomForestClassifier \n",
    "from sklearn.model_selection import GridSearchCV\n",
    "from sklearn.metrics import accuracy_score, confusion_matrix, classification_report\n",
    "from sklearn.preprocessing import StandardScaler\n",
    "\n",
    "\n",
    "df_encoded = pd.get_dummies(df, columns=['Sex', 'Embarked', 'Title', 'Cabin_Category', 'Pclass'], drop_first=True)"
   ]
  },
  {
   "cell_type": "code",
   "execution_count": null,
   "metadata": {},
   "outputs": [],
   "source": [
    "columns_to_scale = ['Age', 'Parch', 'SibSp', 'fare_log']\n",
    "\n",
    "# Initialize the StandardScaler\n",
    "scaler = StandardScaler()\n",
    "\n",
    "# Fit the scaler to the specified columns and transform them\n",
    "df_encoded[columns_to_scale] = scaler.fit_transform(df_encoded[columns_to_scale])\n",
    "\n",
    "df_encoded.columns"
   ]
  },
  {
   "cell_type": "code",
   "execution_count": null,
   "metadata": {},
   "outputs": [],
   "source": [
    "feature_columns = ['Age', 'SibSp', 'Parch',\n",
    "       'estimated_age', 'fare_log',\n",
    "       'Sex_male', 'Embarked_Q', 'Embarked_S', 'Title_Col', 'Title_Countess',\n",
    "       'Title_Don', 'Title_Dona', 'Title_Dr', 'Title_Jonkheer', 'Title_Lady',\n",
    "       'Title_Major', 'Title_Master', 'Title_Miss', 'Title_Mlle', 'Title_Mme',\n",
    "       'Title_Mr', 'Title_Mrs', 'Title_Ms', 'Title_Rev', 'Title_Sir',\n",
    "       'Cabin_Category_B', 'Cabin_Category_C', 'Cabin_Category_D',\n",
    "       'Cabin_Category_E', 'Cabin_Category_F', 'Cabin_Category_G',\n",
    "       'Cabin_Category_N', 'Cabin_Category_T', 'Pclass_2', 'Pclass_3']\n",
    "\n",
    "X=df_encoded[~df_encoded['Survived'].isna()][feature_columns]\n",
    "y=df_encoded[~df_encoded['Survived'].isna()]['Survived']\n",
    "\n",
    "X_train, X_test, y_train, y_test = train_test_split(X, y, test_size=0.2, random_state=42)"
   ]
  },
  {
   "cell_type": "code",
   "execution_count": null,
   "metadata": {},
   "outputs": [],
   "source": [
    "import numpy as np\n",
    "import pandas as pd\n",
    "from sklearn.ensemble import RandomForestClassifier\n",
    "from sklearn.linear_model import LogisticRegression\n",
    "from sklearn.model_selection import GridSearchCV\n",
    "from sklearn.metrics import classification_report, confusion_matrix, accuracy_score\n",
    "\n",
    "# Assuming X_train, X_test, y_train, y_test are already defined\n",
    "\n",
    "# Define the models and their parameter grids, including class weights\n",
    "models = {\n",
    "    'RandomForest': (RandomForestClassifier(), {\n",
    "        'n_estimators': [50, 100, 150],\n",
    "        'max_depth': [5, 7, 10, 13],\n",
    "        'min_samples_split': [2, 5],\n",
    "        'class_weight': ['balanced', None]  # Adding class weights\n",
    "    }),\n",
    "    'LogisticRegression': (LogisticRegression(max_iter=200), {\n",
    "        'C': [0.01, 0.1, 1, 5, 10],\n",
    "        'penalty': ['l1', 'l2'],\n",
    "        'solver': ['liblinear', 'lbfgs'],  # Use 'liblinear' for L1 penalty\n",
    "        'class_weight': ['balanced', None]  # Adding class weights\n",
    "    })\n",
    "}\n",
    "\n",
    "# Iterate over the models\n",
    "for model_name, (model, param_grid) in models.items():\n",
    "    print(f\"Training {model_name}...\")\n",
    "\n",
    "    # Set up GridSearchCV\n",
    "    grid_search = GridSearchCV(model, param_grid, cv=5, scoring='accuracy')\n",
    "    grid_search.fit(X_train, y_train)\n",
    "\n",
    "    # Best model after grid search\n",
    "    best_model = grid_search.best_estimator_\n",
    "\n",
    "    # Predictions\n",
    "    y_train_pred = best_model.predict(X_train)\n",
    "    y_test_pred = best_model.predict(X_test)\n",
    "\n",
    "    # Performance metrics\n",
    "    train_accuracy = accuracy_score(y_train, y_train_pred)\n",
    "    test_accuracy = accuracy_score(y_test, y_test_pred)\n",
    "    class_report = classification_report(y_test, y_test_pred)\n",
    "    conf_matrix = confusion_matrix(y_test, y_test_pred)\n",
    "\n",
    "    # Print results\n",
    "    print(f\"Best Parameters for {model_name}: {grid_search.best_params_}\")\n",
    "    print(f\"Training Accuracy for {model_name}: {train_accuracy:.2f}\")\n",
    "    print(f\"Test Accuracy for {model_name}: {test_accuracy:.2f}\")\n",
    "    print(\"Classification Report:\")\n",
    "    print(class_report)\n",
    "    print(\"Confusion Matrix:\")\n",
    "    print(conf_matrix)\n",
    "    print(\"-\" * 50)"
   ]
  },
  {
   "cell_type": "code",
   "execution_count": null,
   "metadata": {},
   "outputs": [],
   "source": [
    "import numpy as np\n",
    "from sklearn.ensemble import RandomForestClassifier\n",
    "from sklearn.model_selection import GridSearchCV\n",
    "\n",
    "# Assuming you have your X_train, y_train data already defined\n",
    "# and the previous best parameters\n",
    "best_params = {\n",
    "    'n_estimators': 100,     # Previous best\n",
    "    'max_depth': 7,          # Previous best\n",
    "    'min_samples_split': 5,  # Previous best\n",
    "    'class_weight': None      # Previous best\n",
    "}\n",
    "\n",
    "# Define the new parameter grid with values close to the best parameters\n",
    "param_grid = {\n",
    "    'n_estimators': [90, 100, 110],            # Slightly varied n_estimators\n",
    "    'max_depth': [5, 6, 7, 8],                 # Exploring depth around the best\n",
    "    'min_samples_split': [4, 5, 6],             # Exploring min_samples_split\n",
    "    'class_weight': ['balanced', None]          # Including balanced class weight option\n",
    "}\n",
    "\n",
    "# Initialize the RandomForestClassifier\n",
    "rf = RandomForestClassifier(random_state=42)\n",
    "\n",
    "# Set up GridSearchCV with the parameter grid\n",
    "grid_search = GridSearchCV(rf, param_grid, cv=5, scoring='accuracy')\n",
    "grid_search.fit(X_train, y_train)\n",
    "\n",
    "# Best model after grid search\n",
    "best_rf_model = grid_search.best_estimator_\n",
    "\n",
    "# Print best parameters\n",
    "print(f\"Best Parameters after fine-tuning: {grid_search.best_params_}\")\n",
    "\n",
    "# Optionally, you can evaluate the model on the test set\n",
    "y_test_pred = best_rf_model.predict(X_test)\n",
    "\n",
    "# Import metrics for evaluation\n",
    "from sklearn.metrics import classification_report, confusion_matrix, accuracy_score\n",
    "\n",
    "# Performance metrics\n",
    "test_accuracy = accuracy_score(y_test, y_test_pred)\n",
    "class_report = classification_report(y_test, y_test_pred)\n",
    "conf_matrix = confusion_matrix(y_test, y_test_pred)\n",
    "\n",
    "# Print results\n",
    "print(f\"Test Accuracy: {test_accuracy:.2f}\")\n",
    "print(\"Classification Report:\")\n",
    "print(class_report)\n",
    "print(\"Confusion Matrix:\")\n",
    "print(conf_matrix)"
   ]
  },
  {
   "cell_type": "code",
   "execution_count": null,
   "metadata": {},
   "outputs": [],
   "source": [
    "best_rf_model.feature_importances_"
   ]
  },
  {
   "cell_type": "code",
   "execution_count": null,
   "metadata": {},
   "outputs": [],
   "source": [
    "importances = best_rf_model.feature_importances_\n",
    "\n",
    "# Create a DataFrame for better visualization\n",
    "feature_importance_df = pd.DataFrame({\n",
    "    'Feature': X_train.columns,  # Assuming X_train is a DataFrame\n",
    "    'Importance': importances\n",
    "}).sort_values(by='Importance', ascending=False)\n",
    "\n",
    "# Print feature importances\n",
    "print(feature_importance_df)\n",
    "\n",
    "# Plotting feature importances\n",
    "plt.figure(figsize=(10, 6))\n",
    "sns.barplot(x='Importance', y='Feature', data=feature_importance_df)\n",
    "plt.title('Feature Importances from Best Random Forest Classifier')\n",
    "plt.xlabel('Importance Score')\n",
    "plt.ylabel('Feature')\n",
    "plt.show()"
   ]
  },
  {
   "cell_type": "code",
   "execution_count": null,
   "metadata": {},
   "outputs": [],
   "source": []
  }
 ],
 "metadata": {
  "kernelspec": {
   "display_name": "Python 3 (ipykernel)",
   "language": "python",
   "name": "python3"
  },
  "language_info": {
   "codemirror_mode": {
    "name": "ipython",
    "version": 3
   },
   "file_extension": ".py",
   "mimetype": "text/x-python",
   "name": "python",
   "nbconvert_exporter": "python",
   "pygments_lexer": "ipython3",
   "version": "3.11.10"
  }
 },
 "nbformat": 4,
 "nbformat_minor": 4
}
