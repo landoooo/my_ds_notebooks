{
 "cells": [
  {
   "cell_type": "markdown",
   "id": "33b15884-b24e-42e1-b491-8c83db39c2b1",
   "metadata": {},
   "source": [
    "# Recipe Site Traffic\n",
    "\n",
    "https://s3.amazonaws.com/talent-assets.datacamp.com/Practical+-+DSP+-+Recipe+Site+Traffic+-+2212.pdf\n",
    "\n",
    "| Column Name   | Details                                                                                                        |\n",
    "|---------------|----------------------------------------------------------------------------------------------------------------|\n",
    "| recipe        | Numeric, unique identifier of recipe                                                                           |\n",
    "| calories      | Numeric, number of calories                                                                                    |\n",
    "| carbohydrate  | Numeric, amount of carbohydrates in grams                                                                      |\n",
    "| sugar         | Numeric, amount of sugar in grams                                                                              |\n",
    "| protein       | Numeric, amount of protein in grams                                                                            |\n",
    "| category      | Character, type of recipe. Recipes are listed in one of ten possible groupings ('Lunch/Snacks', 'Beverages', 'Potato', 'Vegetable', 'Meat', 'Chicken', 'Pork', 'Dessert', 'Breakfast', 'One Dish Meal') |\n",
    "| servings      | Numeric, number of servings for the recipe                                                                     |\n",
    "| high_traffic  | Character, if the traffic to the site was high when this recipe was shown, this is marked with “High”          |"
   ]
  },
  {
   "cell_type": "code",
   "execution_count": null,
   "id": "3672e6f2-3e91-4ca0-b182-b729f45163f8",
   "metadata": {},
   "outputs": [],
   "source": []
  }
 ],
 "metadata": {
  "kernelspec": {
   "display_name": "Python 3 (ipykernel)",
   "language": "python",
   "name": "python3"
  },
  "language_info": {
   "codemirror_mode": {
    "name": "ipython",
    "version": 3
   },
   "file_extension": ".py",
   "mimetype": "text/x-python",
   "name": "python",
   "nbconvert_exporter": "python",
   "pygments_lexer": "ipython3",
   "version": "3.11.10"
  }
 },
 "nbformat": 4,
 "nbformat_minor": 5
}
