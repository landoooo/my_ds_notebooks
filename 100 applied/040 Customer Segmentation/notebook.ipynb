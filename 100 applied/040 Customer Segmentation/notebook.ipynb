{
 "cells": [
  {
   "cell_type": "markdown",
   "id": "351a50b4",
   "metadata": {},
   "source": [
    "# Cohort analysis\n",
    "\n",
    "A descriptive analytics tool. It groups the customers into mutually exclusive cohorts, that are measured over time. Cohort analysis provides deeper insights than the so-called vanity metrics. It helps understanding the high level trends better by providing insights on metrics across both the product and the customer lifecycle.\n",
    "\n",
    "# Types of cohorts\n",
    "## Time cohorts\n",
    "Customers who signed up for a product or service during a particular time frame. Analyzing these cohorts shows the customers bhaviour depending on the time they started using the companys  prdocuts or services. The time can be monthly, quarterly or even daily.\n",
    "\n",
    "## Behaviour cohorts\n",
    "Customers who purchased a product or subscribed to a service in the past. It groups customers by the type of product or service they signed up: those signing for basic level service may have a different behaviour than the ones going premium. Understanding the needs of various cohorts can help a company design customed-made services or products for particular segments.\n",
    "\n",
    "## Size cohorts\n",
    "Refers to the various sizes of customers who purchase companys products or services. This categorization can be based on the amount of spending in some period of  time after acquisition or the product type that the customer spent most of their order amount in some period of time.\n",
    "\n",
    "# Elements of cohort analysis\n",
    "## Pivot table\n",
    "Assigned cohort in rows\n",
    "Cohort index in columns\n",
    "Metrics in the table"
   ]
  },
  {
   "cell_type": "code",
   "execution_count": null,
   "id": "32d7826f",
   "metadata": {},
   "outputs": [],
   "source": [
    "import pandas as pd\n",
    "import datetime as dt\n",
    "import matplotlib.pyplot as plt\n",
    "import seaborn as sns\n",
    "\n"
   ]
  },
  {
   "cell_type": "code",
   "execution_count": null,
   "id": "c3634f8f",
   "metadata": {},
   "outputs": [],
   "source": [
    "cohort_counts = pd.read_csv(\"./data/chapter_1/cohort_counts.csv\")"
   ]
  },
  {
   "cell_type": "code",
   "execution_count": null,
   "id": "57b6dbf6",
   "metadata": {},
   "outputs": [],
   "source": [
    "cohort_counts\n"
   ]
  },
  {
   "cell_type": "markdown",
   "id": "109238f6",
   "metadata": {},
   "source": [
    "There are 332 customers who have made their first transaction in january 2011"
   ]
  },
  {
   "cell_type": "markdown",
   "id": "e47a55b9",
   "metadata": {},
   "source": [
    "# Time Cohorts\n",
    "\n",
    "We will segment customers into acquisition cohorts based on the month they made their first purchase. We will then assign the cohort index to each purchase of the customer. It will represent the number of months since the first transaction.\n",
    "\n",
    "Time based cohorts group customers by the time they completed their first activity. In this lesson, we will group customers into cohorts based on the month of their first purchase. Then we will mark each transaction based on its relative time period since the first purchase. In this example, we will calculate the number of months since the acquisition. In the next step we will calculate metrics like retention or average spend value, and build this heatmap.\n",
    "\n",
    "\n",
    "\n"
   ]
  },
  {
   "cell_type": "code",
   "execution_count": null,
   "id": "69796b85",
   "metadata": {},
   "outputs": [],
   "source": [
    "online = pd.read_csv(\"./data/chapter_1/online.csv\", parse_dates=[\"InvoiceDate\"])\n",
    "online.head()"
   ]
  },
  {
   "cell_type": "code",
   "execution_count": null,
   "id": "6b67f15a",
   "metadata": {},
   "outputs": [],
   "source": [
    "def get_month(x):\n",
    "    return dt.datetime(x.year, x.month, 1)\n",
    "\n",
    "online[\"InvoiceMonth\"] = online[\"InvoiceDate\"].apply(get_month)\n",
    "online[\"CohortMonth\"] = online.groupby(\"CustomerID\")[\"InvoiceMonth\"].transform(\"min\")"
   ]
  },
  {
   "cell_type": "code",
   "execution_count": null,
   "id": "c8a4e350",
   "metadata": {},
   "outputs": [],
   "source": [
    "online"
   ]
  },
  {
   "cell_type": "code",
   "execution_count": null,
   "id": "d0dfd039",
   "metadata": {},
   "outputs": [],
   "source": [
    "def get_date_int(df, column):\n",
    "    year = df[column].dt.year\n",
    "    month = df[column].dt.month\n",
    "    day = df[column].dt.day\n",
    "    return year, month, day\n",
    "\n",
    "invoice_year, invoice_month, _ = get_date_int(online, \"InvoiceMonth\")\n",
    "cohort_year, cohort_month, _ = get_date_int(online, \"CohortMonth\")\n",
    "\n",
    "years_diff = invoice_year - cohort_year\n",
    "months_diff = invoice_month - cohort_month\n",
    "online[\"CohortIndex\"] = years_diff * 12 + months_diff + 1\n",
    "online.head()"
   ]
  },
  {
   "cell_type": "code",
   "execution_count": null,
   "id": "bbfecf43",
   "metadata": {},
   "outputs": [],
   "source": [
    "cohort_data = online.groupby([\"CohortMonth\", \"CohortIndex\"])[\"CustomerID\"].nunique().reset_index()\n",
    "\n",
    "cohort_counts = cohort_data.pivot(index=\"CohortMonth\", columns=\"CohortIndex\", values=\"CustomerID\")\n"
   ]
  },
  {
   "cell_type": "code",
   "execution_count": null,
   "id": "c848226e",
   "metadata": {},
   "outputs": [],
   "source": [
    "cohort_counts\n"
   ]
  },
  {
   "cell_type": "markdown",
   "id": "ae620d4a",
   "metadata": {},
   "source": [
    "The first column indicates how many customers are initially on each cohort (100% for all cohorts). Then, how many customers were still actives in the following months.\n",
    "\n",
    "# Metrics\n",
    "\n",
    "## Retention Rate"
   ]
  },
  {
   "cell_type": "code",
   "execution_count": null,
   "id": "8f4068fe",
   "metadata": {},
   "outputs": [],
   "source": [
    "cohort_sizes= cohort_counts.iloc[:, 0]\n",
    "retention = cohort_counts.divide(cohort_sizes, axis=0).round(3)*100\n",
    "retention"
   ]
  },
  {
   "cell_type": "markdown",
   "id": "3c15292c",
   "metadata": {},
   "source": [
    "## Other Metrics\n"
   ]
  },
  {
   "cell_type": "code",
   "execution_count": null,
   "id": "eaac9f89",
   "metadata": {},
   "outputs": [],
   "source": [
    "cohort_data = online.groupby([\"CohortMonth\", \"CohortIndex\"])[\"Quantity\"].mean()\n",
    "cohort_data = cohort_data.reset_index()\n",
    "average_quantity = cohort_data.pivot(index=\"CohortMonth\", columns=\"CohortIndex\", values=\"Quantity\")\n",
    "\n",
    "average_quantity = average_quantity.round(2)\n",
    "average_quantity"
   ]
  },
  {
   "cell_type": "markdown",
   "id": "e8b03f0e",
   "metadata": {},
   "source": [
    "# Visualizing Cohort Analysis\n",
    "\n",
    "\n"
   ]
  },
  {
   "cell_type": "code",
   "execution_count": null,
   "id": "876ad3de",
   "metadata": {},
   "outputs": [],
   "source": [
    "plt.figure(figsize=(12, 8))\n",
    "plt.title(\"Cohort Analysis: Retention Rates\")\n",
    "sns.heatmap(\n",
    "    retention,\n",
    "    annot=True,\n",
    "    fmt=\".0f\",\n",
    "    cmap=\"Blues\",\n",
    "    linewidths=0.5,\n",
    "    linecolor=\"white\",\n",
    "    cbar_kws={\"label\": \"Retention Rate (%)\"},\n",
    ")\n",
    "plt.xlabel(\"Cohort Index\")\n",
    "plt.show()"
   ]
  },
  {
   "cell_type": "code",
   "execution_count": null,
   "id": "b095fd3c",
   "metadata": {},
   "outputs": [],
   "source": []
  }
 ],
 "metadata": {
  "kernelspec": {
   "display_name": "BaseML",
   "language": "python",
   "name": "python3"
  },
  "language_info": {
   "codemirror_mode": {
    "name": "ipython",
    "version": 3
   },
   "file_extension": ".py",
   "mimetype": "text/x-python",
   "name": "python",
   "nbconvert_exporter": "python",
   "pygments_lexer": "ipython3",
   "version": "3.11.11"
  }
 },
 "nbformat": 4,
 "nbformat_minor": 5
}
