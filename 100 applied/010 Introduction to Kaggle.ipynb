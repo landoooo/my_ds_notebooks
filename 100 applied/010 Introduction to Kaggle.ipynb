{
 "cells": [
  {
   "cell_type": "markdown",
   "id": "fa9010ff-6056-473d-b7ed-b17f5b860c28",
   "metadata": {},
   "source": [
    "# Introduction to Kaggle \n",
    "\n",
    "To introduce how to participate in a kaggle competition lets use the [taxi fare prediction competition](https://www.kaggle.com/competitions/new-york-city-taxi-fare-prediction) as our playground. The dataset can be found [here](https://www.kaggle.com/competitions/new-york-city-taxi-fare-prediction/data)"
   ]
  },
  {
   "cell_type": "code",
   "execution_count": null,
   "id": "e5ecae31-8421-400d-8d6b-336fa038775e",
   "metadata": {},
   "outputs": [],
   "source": [
    "import pandas as pd "
   ]
  },
  {
   "cell_type": "markdown",
   "id": "b2030cda-6d2f-4bb3-afd1-ae300fbb42b7",
   "metadata": {},
   "source": [
    "# Loading Data"
   ]
  },
  {
   "cell_type": "code",
   "execution_count": null,
   "id": "fd8232fb-1f6f-4141-92df-3686e0ea6ff2",
   "metadata": {},
   "outputs": [],
   "source": [
    "taxi_train = pd.read_csv('../data/new-york-city-taxi-fare-prediction/train.csv')"
   ]
  },
  {
   "cell_type": "code",
   "execution_count": null,
   "id": "446253d6-4eb6-4f38-be8f-f4d9d155b124",
   "metadata": {},
   "outputs": [],
   "source": [
    "taxi_train.columns.to_list()"
   ]
  },
  {
   "cell_type": "code",
   "execution_count": null,
   "id": "b43ae2fe-edda-4ecf-a088-1b47bb9740b7",
   "metadata": {},
   "outputs": [],
   "source": [
    "taxi_test = pd.read_csv('../data/new-york-city-taxi-fare-prediction/test.csv')\n",
    "taxi_test.columns.to_list()"
   ]
  },
  {
   "cell_type": "markdown",
   "id": "8d548bf2-2da3-4c02-bd5c-e7075df3cb7f",
   "metadata": {},
   "source": [
    "Fare_amount is the predicted column, thats way its absent in the test dataset."
   ]
  },
  {
   "cell_type": "markdown",
   "id": "40c958e8-1647-4c7b-85b9-3498cbce0f8b",
   "metadata": {
    "execution": {
     "iopub.execute_input": "2024-10-01T11:31:03.377141Z",
     "iopub.status.busy": "2024-10-01T11:31:03.375899Z",
     "iopub.status.idle": "2024-10-01T11:31:03.392194Z",
     "shell.execute_reply": "2024-10-01T11:31:03.389316Z",
     "shell.execute_reply.started": "2024-10-01T11:31:03.377064Z"
    }
   },
   "source": [
    "# Defining the problem"
   ]
  },
  {
   "cell_type": "code",
   "execution_count": null,
   "id": "7ce96432-3990-49b1-a6b9-b33a4680d4a1",
   "metadata": {},
   "outputs": [],
   "source": [
    "taxi_train.describe()"
   ]
  },
  {
   "cell_type": "code",
   "execution_count": null,
   "id": "1910b592-60e3-4d32-9058-c651ac00a841",
   "metadata": {},
   "outputs": [],
   "source": [
    "taxi_train.head()"
   ]
  },
  {
   "cell_type": "code",
   "execution_count": null,
   "id": "d8487815-0d70-4ed1-a4c6-324178bcf741",
   "metadata": {},
   "outputs": [],
   "source": [
    "import matplotlib.pyplot as plt \n",
    "import seaborn as sns \n",
    "\n",
    "#sns.histplot(taxi_train.fare_amount)"
   ]
  },
  {
   "cell_type": "code",
   "execution_count": null,
   "id": "ce6f905e-09a7-469e-bd51-da72126ab7a3",
   "metadata": {},
   "outputs": [],
   "source": [
    "taxi_train.fare_amount.quantile(0.99)"
   ]
  },
  {
   "cell_type": "code",
   "execution_count": null,
   "id": "a0bb4cdf-9715-4975-96b9-bb8d1a70b667",
   "metadata": {},
   "outputs": [],
   "source": [
    "taxi_train[(taxi_train.fare_amount >0) & (taxi_train.fare_amount < 80)].fare_amount.hist(bins=30, alpha=0.5)"
   ]
  },
  {
   "cell_type": "code",
   "execution_count": null,
   "id": "432f9c7d-3365-4f12-8b8d-a63dcf4fa74c",
   "metadata": {},
   "outputs": [],
   "source": [
    "taxi_train[(taxi_train.fare_amount >0) & (taxi_train.fare_amount < 80)]['key'].count()/len(taxi_train)"
   ]
  },
  {
   "cell_type": "markdown",
   "id": "82d498bd-412a-4b3c-8ffd-657bb9537002",
   "metadata": {},
   "source": [
    "We are dealing here with a **regression** problem, since the predicted feature is continuous. \n"
   ]
  },
  {
   "cell_type": "code",
   "execution_count": null,
   "id": "336204c7-99ce-47a0-bbb8-468fb2513711",
   "metadata": {},
   "outputs": [],
   "source": [
    "taxi_train.isna().sum()/len(taxi_train)"
   ]
  },
  {
   "cell_type": "code",
   "execution_count": null,
   "id": "be33527b-12d8-44d1-b514-93c15de61533",
   "metadata": {},
   "outputs": [],
   "source": [
    "taxi_train=taxi_train.dropna()"
   ]
  },
  {
   "cell_type": "markdown",
   "id": "ba74d37f-cb68-4e1c-af3c-e5b632532c22",
   "metadata": {},
   "source": [
    "# Bulding a model"
   ]
  },
  {
   "cell_type": "code",
   "execution_count": null,
   "id": "8d8fdcf5-40fb-4736-b969-57f5c7ecd85f",
   "metadata": {},
   "outputs": [],
   "source": [
    "from sklearn.linear_model import LinearRegression\n",
    "from sklearn.model_selection import train_test_split"
   ]
  },
  {
   "cell_type": "code",
   "execution_count": null,
   "id": "0f852077-7027-40a7-affc-4f585b1db302",
   "metadata": {},
   "outputs": [],
   "source": [
    "lr = LinearRegression() \n",
    "\n",
    "X_train, X_test, y_train, y_test = train_test_split(taxi_train.drop(['fare_amount', 'pickup_datetime', 'key'], axis=1), taxi_train.fare_amount, test_size=0.2)"
   ]
  },
  {
   "cell_type": "code",
   "execution_count": null,
   "id": "d34380f1-c5db-4ff4-a07f-0a6380698723",
   "metadata": {},
   "outputs": [],
   "source": [
    "X_train.head()"
   ]
  },
  {
   "cell_type": "code",
   "execution_count": null,
   "id": "78648663-23d8-4f5d-9bfe-e458d0baeeea",
   "metadata": {},
   "outputs": [],
   "source": [
    "lr.fit(X_train, y_train)"
   ]
  },
  {
   "cell_type": "code",
   "execution_count": null,
   "id": "6fa44d52-5998-4084-8bd1-7effcd54526c",
   "metadata": {},
   "outputs": [],
   "source": [
    "from sklearn.metrics import mean_squared_error\n",
    "\n",
    "MSE_train = mean_squared_error(y_train, lr.predict(X_train), squared=False)\n",
    "print('MSE_train:', MSE_train)\n",
    "\n",
    "MSE_test = mean_squared_error(y_test, lr.predict(X_test), squared=False)\n",
    "print('MSE_test:', MSE_test)\n"
   ]
  },
  {
   "cell_type": "markdown",
   "id": "17e09c1a-22d7-4eba-9d5d-fa4728fc0549",
   "metadata": {},
   "source": [
    "# Solution Workflow\n",
    "\n",
    "Understand the problem > EDA > Local Validation > Modeling\n",
    "\n",
    "## Understanding the problem \n",
    "\n",
    "### Data type\n",
    "\n",
    "What kind of data are we dealing with? Tabular? Time Series? Images? Text? \n",
    "\n",
    "### Problem type \n",
    "\n",
    "Is it about classification? Regression? Ranking? \n",
    "\n",
    "### Evaluation metric \n",
    "\n",
    "ROC AUC, F1-Score, MAE, MSE... \n",
    "\n",
    "In general the evaluation metric can be found under the sklearn.metrics package, but sometimes there is a very specific metric in a particular competition. Sometimes we would have to implement the metric. \n",
    "\n",
    "## Exploratory Data Analysis \n",
    "\n",
    "Exploratory Data Analysis or EDA helps us: \n",
    "- Sizing the data\n",
    "- Understanding the properties of the target variable\n",
    "-  and the properties of the features\n",
    "- Generate ideas for future engineering\n",
    "\n",
    "\n",
    "\n"
   ]
  },
  {
   "cell_type": "code",
   "execution_count": null,
   "id": "2ec0ed7b-a6cc-4097-8a87-bc6b97af3ca0",
   "metadata": {},
   "outputs": [],
   "source": [
    "MISSING"
   ]
  },
  {
   "cell_type": "code",
   "execution_count": null,
   "id": "c8a04e11-0631-4186-8c84-07ae5644ce89",
   "metadata": {},
   "outputs": [],
   "source": []
  },
  {
   "cell_type": "code",
   "execution_count": null,
   "id": "d33363f6-c281-4c82-a3a3-6db7028f78a4",
   "metadata": {},
   "outputs": [],
   "source": []
  },
  {
   "cell_type": "code",
   "execution_count": null,
   "id": "e67e9d9b-cbfd-4edc-8dc2-145f91899ccf",
   "metadata": {},
   "outputs": [],
   "source": [
    "## Keep track of data splits, models, results..."
   ]
  },
  {
   "cell_type": "code",
   "execution_count": null,
   "id": "040bee55-4378-481a-95de-5af459285a52",
   "metadata": {},
   "outputs": [],
   "source": []
  }
 ],
 "metadata": {
  "kernelspec": {
   "display_name": "Python 3 (ipykernel)",
   "language": "python",
   "name": "python3"
  },
  "language_info": {
   "codemirror_mode": {
    "name": "ipython",
    "version": 3
   },
   "file_extension": ".py",
   "mimetype": "text/x-python",
   "name": "python",
   "nbconvert_exporter": "python",
   "pygments_lexer": "ipython3",
   "version": "3.11.10"
  }
 },
 "nbformat": 4,
 "nbformat_minor": 5
}
