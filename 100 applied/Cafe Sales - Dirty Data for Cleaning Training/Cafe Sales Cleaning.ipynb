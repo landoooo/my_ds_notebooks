{
 "cells": [
  {
   "cell_type": "markdown",
   "id": "bafa4013-e6d8-45b9-be2c-84e485d852bb",
   "metadata": {},
   "source": [
    "https://www.kaggle.com/datasets/ahmedmohamed2003/cafe-sales-dirty-data-for-cleaning-training"
   ]
  },
  {
   "cell_type": "code",
   "execution_count": 1,
   "id": "114acdd1-499f-49a2-be61-35232ebb50d1",
   "metadata": {
    "execution": {
     "iopub.execute_input": "2025-03-16T15:08:51.693730Z",
     "iopub.status.busy": "2025-03-16T15:08:51.693201Z",
     "iopub.status.idle": "2025-03-16T15:08:53.520106Z",
     "shell.execute_reply": "2025-03-16T15:08:53.519393Z",
     "shell.execute_reply.started": "2025-03-16T15:08:51.693692Z"
    }
   },
   "outputs": [
    {
     "name": "stdout",
     "output_type": "stream",
     "text": [
      "Warning: Looks like you're using an outdated `kagglehub` version, please consider updating (latest version: 0.3.10)\n",
      "Downloading from https://www.kaggle.com/api/v1/datasets/download/ahmedmohamed2003/cafe-sales-dirty-data-for-cleaning-training?dataset_version_number=1...\n"
     ]
    },
    {
     "name": "stderr",
     "output_type": "stream",
     "text": [
      "100%|██████████████████████████████████████| 111k/111k [00:00<00:00, 50.4MB/s]"
     ]
    },
    {
     "name": "stdout",
     "output_type": "stream",
     "text": [
      "Extracting model files...\n",
      "Path to dataset files: /Users/el_fer/.cache/kagglehub/datasets/ahmedmohamed2003/cafe-sales-dirty-data-for-cleaning-training/versions/1\n"
     ]
    },
    {
     "name": "stderr",
     "output_type": "stream",
     "text": [
      "\n"
     ]
    }
   ],
   "source": [
    "import kagglehub\n",
    "\n",
    "# Download latest version\n",
    "path = kagglehub.dataset_download(\"ahmedmohamed2003/cafe-sales-dirty-data-for-cleaning-training\")\n",
    "\n",
    "print(\"Path to dataset files:\", path)"
   ]
  },
  {
   "cell_type": "code",
   "execution_count": 6,
   "id": "d37a3ac2-abad-47f8-962d-7c4b9638db87",
   "metadata": {
    "execution": {
     "iopub.execute_input": "2025-03-16T15:15:20.271940Z",
     "iopub.status.busy": "2025-03-16T15:15:20.271744Z",
     "iopub.status.idle": "2025-03-16T15:15:20.425367Z",
     "shell.execute_reply": "2025-03-16T15:15:20.424744Z",
     "shell.execute_reply.started": "2025-03-16T15:15:20.271919Z"
    }
   },
   "outputs": [
    {
     "name": "stdout",
     "output_type": "stream",
     "text": [
      "dirty_cafe_sales.csv\n"
     ]
    }
   ],
   "source": [
    " !ls /Users/el_fer/.cache/kagglehub/datasets/ahmedmohamed2003/cafe-sales-dirty-data-for-cleaning-training/versions/1"
   ]
  },
  {
   "cell_type": "code",
   "execution_count": 35,
   "id": "84b41382-ad0a-49ba-834d-1076f3abd92f",
   "metadata": {
    "execution": {
     "iopub.execute_input": "2025-03-16T16:21:39.879486Z",
     "iopub.status.busy": "2025-03-16T16:21:39.878714Z",
     "iopub.status.idle": "2025-03-16T16:22:16.020212Z",
     "shell.execute_reply": "2025-03-16T16:22:16.019800Z",
     "shell.execute_reply.started": "2025-03-16T16:21:39.879433Z"
    }
   },
   "outputs": [],
   "source": [
    "import pandas as pd \n",
    "import numpy as np \n",
    "import matplotlib.pyplot as plt \n",
    "import seaborn as sns\n",
    "\n",
    "df = pd.read_csv(path+'/dirty_cafe_sales.csv')"
   ]
  },
  {
   "cell_type": "code",
   "execution_count": 36,
   "id": "a50c78d9-22c7-422d-9c31-0fbcd5a3b621",
   "metadata": {
    "execution": {
     "iopub.execute_input": "2025-03-16T16:22:16.021247Z",
     "iopub.status.busy": "2025-03-16T16:22:16.021107Z",
     "iopub.status.idle": "2025-03-16T16:22:16.027784Z",
     "shell.execute_reply": "2025-03-16T16:22:16.027404Z",
     "shell.execute_reply.started": "2025-03-16T16:22:16.021234Z"
    }
   },
   "outputs": [
    {
     "data": {
      "text/html": [
       "<div>\n",
       "<style scoped>\n",
       "    .dataframe tbody tr th:only-of-type {\n",
       "        vertical-align: middle;\n",
       "    }\n",
       "\n",
       "    .dataframe tbody tr th {\n",
       "        vertical-align: top;\n",
       "    }\n",
       "\n",
       "    .dataframe thead th {\n",
       "        text-align: right;\n",
       "    }\n",
       "</style>\n",
       "<table border=\"1\" class=\"dataframe\">\n",
       "  <thead>\n",
       "    <tr style=\"text-align: right;\">\n",
       "      <th></th>\n",
       "      <th>Transaction ID</th>\n",
       "      <th>Item</th>\n",
       "      <th>Quantity</th>\n",
       "      <th>Price Per Unit</th>\n",
       "      <th>Total Spent</th>\n",
       "      <th>Payment Method</th>\n",
       "      <th>Location</th>\n",
       "      <th>Transaction Date</th>\n",
       "    </tr>\n",
       "  </thead>\n",
       "  <tbody>\n",
       "    <tr>\n",
       "      <th>0</th>\n",
       "      <td>TXN_1961373</td>\n",
       "      <td>Coffee</td>\n",
       "      <td>2</td>\n",
       "      <td>2.0</td>\n",
       "      <td>4.0</td>\n",
       "      <td>Credit Card</td>\n",
       "      <td>Takeaway</td>\n",
       "      <td>2023-09-08</td>\n",
       "    </tr>\n",
       "    <tr>\n",
       "      <th>1</th>\n",
       "      <td>TXN_4977031</td>\n",
       "      <td>Cake</td>\n",
       "      <td>4</td>\n",
       "      <td>3.0</td>\n",
       "      <td>12.0</td>\n",
       "      <td>Cash</td>\n",
       "      <td>In-store</td>\n",
       "      <td>2023-05-16</td>\n",
       "    </tr>\n",
       "    <tr>\n",
       "      <th>2</th>\n",
       "      <td>TXN_4271903</td>\n",
       "      <td>Cookie</td>\n",
       "      <td>4</td>\n",
       "      <td>1.0</td>\n",
       "      <td>ERROR</td>\n",
       "      <td>Credit Card</td>\n",
       "      <td>In-store</td>\n",
       "      <td>2023-07-19</td>\n",
       "    </tr>\n",
       "    <tr>\n",
       "      <th>3</th>\n",
       "      <td>TXN_7034554</td>\n",
       "      <td>Salad</td>\n",
       "      <td>2</td>\n",
       "      <td>5.0</td>\n",
       "      <td>10.0</td>\n",
       "      <td>UNKNOWN</td>\n",
       "      <td>UNKNOWN</td>\n",
       "      <td>2023-04-27</td>\n",
       "    </tr>\n",
       "    <tr>\n",
       "      <th>4</th>\n",
       "      <td>TXN_3160411</td>\n",
       "      <td>Coffee</td>\n",
       "      <td>2</td>\n",
       "      <td>2.0</td>\n",
       "      <td>4.0</td>\n",
       "      <td>Digital Wallet</td>\n",
       "      <td>In-store</td>\n",
       "      <td>2023-06-11</td>\n",
       "    </tr>\n",
       "  </tbody>\n",
       "</table>\n",
       "</div>"
      ],
      "text/plain": [
       "  Transaction ID    Item Quantity Price Per Unit Total Spent  Payment Method  \\\n",
       "0    TXN_1961373  Coffee        2            2.0         4.0     Credit Card   \n",
       "1    TXN_4977031    Cake        4            3.0        12.0            Cash   \n",
       "2    TXN_4271903  Cookie        4            1.0       ERROR     Credit Card   \n",
       "3    TXN_7034554   Salad        2            5.0        10.0         UNKNOWN   \n",
       "4    TXN_3160411  Coffee        2            2.0         4.0  Digital Wallet   \n",
       "\n",
       "   Location Transaction Date  \n",
       "0  Takeaway       2023-09-08  \n",
       "1  In-store       2023-05-16  \n",
       "2  In-store       2023-07-19  \n",
       "3   UNKNOWN       2023-04-27  \n",
       "4  In-store       2023-06-11  "
      ]
     },
     "execution_count": 36,
     "metadata": {},
     "output_type": "execute_result"
    }
   ],
   "source": [
    "df.head()"
   ]
  },
  {
   "cell_type": "code",
   "execution_count": 37,
   "id": "7df1616a-105d-4178-9b87-c574af8b6845",
   "metadata": {
    "execution": {
     "iopub.execute_input": "2025-03-16T16:22:16.028534Z",
     "iopub.status.busy": "2025-03-16T16:22:16.028283Z",
     "iopub.status.idle": "2025-03-16T16:22:16.036901Z",
     "shell.execute_reply": "2025-03-16T16:22:16.036450Z",
     "shell.execute_reply.started": "2025-03-16T16:22:16.028507Z"
    }
   },
   "outputs": [
    {
     "name": "stdout",
     "output_type": "stream",
     "text": [
      "<class 'pandas.core.frame.DataFrame'>\n",
      "RangeIndex: 10000 entries, 0 to 9999\n",
      "Data columns (total 8 columns):\n",
      " #   Column            Non-Null Count  Dtype \n",
      "---  ------            --------------  ----- \n",
      " 0   Transaction ID    10000 non-null  object\n",
      " 1   Item              9667 non-null   object\n",
      " 2   Quantity          9862 non-null   object\n",
      " 3   Price Per Unit    9821 non-null   object\n",
      " 4   Total Spent       9827 non-null   object\n",
      " 5   Payment Method    7421 non-null   object\n",
      " 6   Location          6735 non-null   object\n",
      " 7   Transaction Date  9841 non-null   object\n",
      "dtypes: object(8)\n",
      "memory usage: 625.1+ KB\n"
     ]
    }
   ],
   "source": [
    "df.info()"
   ]
  },
  {
   "cell_type": "code",
   "execution_count": 38,
   "id": "1b90d1b2-76b8-4557-a528-e27b4f472b77",
   "metadata": {
    "execution": {
     "iopub.execute_input": "2025-03-16T16:22:16.039340Z",
     "iopub.status.busy": "2025-03-16T16:22:16.039071Z",
     "iopub.status.idle": "2025-03-16T16:22:16.042633Z",
     "shell.execute_reply": "2025-03-16T16:22:16.042235Z",
     "shell.execute_reply.started": "2025-03-16T16:22:16.039322Z"
    }
   },
   "outputs": [
    {
     "data": {
      "text/plain": [
       "Index(['Transaction ID', 'Item', 'Quantity', 'Price Per Unit', 'Total Spent',\n",
       "       'Payment Method', 'Location', 'Transaction Date'],\n",
       "      dtype='object')"
      ]
     },
     "execution_count": 38,
     "metadata": {},
     "output_type": "execute_result"
    }
   ],
   "source": [
    "df.columns"
   ]
  },
  {
   "cell_type": "code",
   "execution_count": 39,
   "id": "35ea7a76-5aa4-4392-a86d-f617ade24019",
   "metadata": {
    "execution": {
     "iopub.execute_input": "2025-03-16T16:22:16.043207Z",
     "iopub.status.busy": "2025-03-16T16:22:16.043078Z",
     "iopub.status.idle": "2025-03-16T16:22:16.046162Z",
     "shell.execute_reply": "2025-03-16T16:22:16.045605Z",
     "shell.execute_reply.started": "2025-03-16T16:22:16.043194Z"
    }
   },
   "outputs": [],
   "source": [
    "new_col_names = ['transaction_id', 'item', 'quantity', 'price_per_unit', 'total_spent', 'payment_method', 'location', 'transaction_date']\n",
    "df.columns = new_col_names"
   ]
  },
  {
   "cell_type": "code",
   "execution_count": 40,
   "id": "c0894edd-a4b0-41a5-a9a2-426fb3038b19",
   "metadata": {
    "execution": {
     "iopub.execute_input": "2025-03-16T16:22:16.046958Z",
     "iopub.status.busy": "2025-03-16T16:22:16.046766Z",
     "iopub.status.idle": "2025-03-16T16:22:16.053178Z",
     "shell.execute_reply": "2025-03-16T16:22:16.052763Z",
     "shell.execute_reply.started": "2025-03-16T16:22:16.046938Z"
    }
   },
   "outputs": [
    {
     "data": {
      "text/html": [
       "<div>\n",
       "<style scoped>\n",
       "    .dataframe tbody tr th:only-of-type {\n",
       "        vertical-align: middle;\n",
       "    }\n",
       "\n",
       "    .dataframe tbody tr th {\n",
       "        vertical-align: top;\n",
       "    }\n",
       "\n",
       "    .dataframe thead th {\n",
       "        text-align: right;\n",
       "    }\n",
       "</style>\n",
       "<table border=\"1\" class=\"dataframe\">\n",
       "  <thead>\n",
       "    <tr style=\"text-align: right;\">\n",
       "      <th></th>\n",
       "      <th>transaction_id</th>\n",
       "      <th>item</th>\n",
       "      <th>quantity</th>\n",
       "      <th>price_per_unit</th>\n",
       "      <th>total_spent</th>\n",
       "      <th>payment_method</th>\n",
       "      <th>location</th>\n",
       "      <th>transaction_date</th>\n",
       "    </tr>\n",
       "  </thead>\n",
       "  <tbody>\n",
       "    <tr>\n",
       "      <th>0</th>\n",
       "      <td>TXN_1961373</td>\n",
       "      <td>Coffee</td>\n",
       "      <td>2</td>\n",
       "      <td>2.0</td>\n",
       "      <td>4.0</td>\n",
       "      <td>Credit Card</td>\n",
       "      <td>Takeaway</td>\n",
       "      <td>2023-09-08</td>\n",
       "    </tr>\n",
       "    <tr>\n",
       "      <th>1</th>\n",
       "      <td>TXN_4977031</td>\n",
       "      <td>Cake</td>\n",
       "      <td>4</td>\n",
       "      <td>3.0</td>\n",
       "      <td>12.0</td>\n",
       "      <td>Cash</td>\n",
       "      <td>In-store</td>\n",
       "      <td>2023-05-16</td>\n",
       "    </tr>\n",
       "    <tr>\n",
       "      <th>2</th>\n",
       "      <td>TXN_4271903</td>\n",
       "      <td>Cookie</td>\n",
       "      <td>4</td>\n",
       "      <td>1.0</td>\n",
       "      <td>ERROR</td>\n",
       "      <td>Credit Card</td>\n",
       "      <td>In-store</td>\n",
       "      <td>2023-07-19</td>\n",
       "    </tr>\n",
       "    <tr>\n",
       "      <th>3</th>\n",
       "      <td>TXN_7034554</td>\n",
       "      <td>Salad</td>\n",
       "      <td>2</td>\n",
       "      <td>5.0</td>\n",
       "      <td>10.0</td>\n",
       "      <td>UNKNOWN</td>\n",
       "      <td>UNKNOWN</td>\n",
       "      <td>2023-04-27</td>\n",
       "    </tr>\n",
       "    <tr>\n",
       "      <th>4</th>\n",
       "      <td>TXN_3160411</td>\n",
       "      <td>Coffee</td>\n",
       "      <td>2</td>\n",
       "      <td>2.0</td>\n",
       "      <td>4.0</td>\n",
       "      <td>Digital Wallet</td>\n",
       "      <td>In-store</td>\n",
       "      <td>2023-06-11</td>\n",
       "    </tr>\n",
       "  </tbody>\n",
       "</table>\n",
       "</div>"
      ],
      "text/plain": [
       "  transaction_id    item quantity price_per_unit total_spent  payment_method  \\\n",
       "0    TXN_1961373  Coffee        2            2.0         4.0     Credit Card   \n",
       "1    TXN_4977031    Cake        4            3.0        12.0            Cash   \n",
       "2    TXN_4271903  Cookie        4            1.0       ERROR     Credit Card   \n",
       "3    TXN_7034554   Salad        2            5.0        10.0         UNKNOWN   \n",
       "4    TXN_3160411  Coffee        2            2.0         4.0  Digital Wallet   \n",
       "\n",
       "   location transaction_date  \n",
       "0  Takeaway       2023-09-08  \n",
       "1  In-store       2023-05-16  \n",
       "2  In-store       2023-07-19  \n",
       "3   UNKNOWN       2023-04-27  \n",
       "4  In-store       2023-06-11  "
      ]
     },
     "execution_count": 40,
     "metadata": {},
     "output_type": "execute_result"
    }
   ],
   "source": [
    "df.head()"
   ]
  },
  {
   "cell_type": "code",
   "execution_count": 41,
   "id": "bab8500a-ba12-4162-811f-ef508d0e148c",
   "metadata": {
    "execution": {
     "iopub.execute_input": "2025-03-16T16:22:16.054076Z",
     "iopub.status.busy": "2025-03-16T16:22:16.053833Z",
     "iopub.status.idle": "2025-03-16T16:22:16.059235Z",
     "shell.execute_reply": "2025-03-16T16:22:16.058727Z",
     "shell.execute_reply.started": "2025-03-16T16:22:16.054054Z"
    }
   },
   "outputs": [
    {
     "data": {
      "text/plain": [
       "10000"
      ]
     },
     "execution_count": 41,
     "metadata": {},
     "output_type": "execute_result"
    }
   ],
   "source": [
    "df['transaction_id'].nunique()"
   ]
  },
  {
   "cell_type": "code",
   "execution_count": 42,
   "id": "7fb0f26f-af8a-4326-ba52-c51729b732e1",
   "metadata": {
    "execution": {
     "iopub.execute_input": "2025-03-16T16:22:16.060255Z",
     "iopub.status.busy": "2025-03-16T16:22:16.059965Z",
     "iopub.status.idle": "2025-03-16T16:22:16.064611Z",
     "shell.execute_reply": "2025-03-16T16:22:16.064198Z",
     "shell.execute_reply.started": "2025-03-16T16:22:16.060240Z"
    }
   },
   "outputs": [
    {
     "data": {
      "text/plain": [
       "item\n",
       "Juice       1171\n",
       "Coffee      1165\n",
       "Salad       1148\n",
       "Cake        1139\n",
       "Sandwich    1131\n",
       "Smoothie    1096\n",
       "Cookie      1092\n",
       "Tea         1089\n",
       "UNKNOWN      344\n",
       "NaN          333\n",
       "ERROR        292\n",
       "Name: count, dtype: int64"
      ]
     },
     "execution_count": 42,
     "metadata": {},
     "output_type": "execute_result"
    }
   ],
   "source": [
    "df['item'].value_counts(dropna=False)"
   ]
  },
  {
   "cell_type": "code",
   "execution_count": 43,
   "id": "5f61ead8-81a6-4dbe-8ad4-7d0b4a80d53b",
   "metadata": {
    "execution": {
     "iopub.execute_input": "2025-03-16T16:22:16.065630Z",
     "iopub.status.busy": "2025-03-16T16:22:16.065407Z",
     "iopub.status.idle": "2025-03-16T16:22:16.069891Z",
     "shell.execute_reply": "2025-03-16T16:22:16.069485Z",
     "shell.execute_reply.started": "2025-03-16T16:22:16.065605Z"
    }
   },
   "outputs": [
    {
     "data": {
      "text/plain": [
       "quantity\n",
       "5          2013\n",
       "2          1974\n",
       "4          1863\n",
       "3          1849\n",
       "1          1822\n",
       "UNKNOWN     171\n",
       "ERROR       170\n",
       "NaN         138\n",
       "Name: count, dtype: int64"
      ]
     },
     "execution_count": 43,
     "metadata": {},
     "output_type": "execute_result"
    }
   ],
   "source": [
    "df['quantity'].value_counts(dropna=False)"
   ]
  },
  {
   "cell_type": "code",
   "execution_count": 44,
   "id": "826a8710-c35a-41dd-953e-5de54812d856",
   "metadata": {
    "execution": {
     "iopub.execute_input": "2025-03-16T16:22:16.072799Z",
     "iopub.status.busy": "2025-03-16T16:22:16.072581Z",
     "iopub.status.idle": "2025-03-16T16:22:16.076948Z",
     "shell.execute_reply": "2025-03-16T16:22:16.076570Z",
     "shell.execute_reply.started": "2025-03-16T16:22:16.072783Z"
    }
   },
   "outputs": [
    {
     "data": {
      "text/plain": [
       "price_per_unit\n",
       "3.0        2429\n",
       "4.0        2331\n",
       "2.0        1227\n",
       "5.0        1204\n",
       "1.0        1143\n",
       "1.5        1133\n",
       "ERROR       190\n",
       "NaN         179\n",
       "UNKNOWN     164\n",
       "Name: count, dtype: int64"
      ]
     },
     "execution_count": 44,
     "metadata": {},
     "output_type": "execute_result"
    }
   ],
   "source": [
    "df['price_per_unit'].value_counts(dropna=False)"
   ]
  },
  {
   "cell_type": "code",
   "execution_count": 45,
   "id": "9d8c4776-3852-46de-af23-3439dfe87160",
   "metadata": {
    "execution": {
     "iopub.execute_input": "2025-03-16T16:22:16.077691Z",
     "iopub.status.busy": "2025-03-16T16:22:16.077505Z",
     "iopub.status.idle": "2025-03-16T16:22:16.081787Z",
     "shell.execute_reply": "2025-03-16T16:22:16.081418Z",
     "shell.execute_reply.started": "2025-03-16T16:22:16.077670Z"
    }
   },
   "outputs": [
    {
     "data": {
      "text/plain": [
       "total_spent\n",
       "6.0        979\n",
       "12.0       939\n",
       "3.0        930\n",
       "4.0        923\n",
       "20.0       746\n",
       "15.0       734\n",
       "8.0        677\n",
       "10.0       524\n",
       "2.0        497\n",
       "9.0        479\n",
       "5.0        468\n",
       "16.0       444\n",
       "25.0       259\n",
       "7.5        237\n",
       "1.0        232\n",
       "4.5        225\n",
       "1.5        205\n",
       "NaN        173\n",
       "UNKNOWN    165\n",
       "ERROR      164\n",
       "Name: count, dtype: int64"
      ]
     },
     "execution_count": 45,
     "metadata": {},
     "output_type": "execute_result"
    }
   ],
   "source": [
    "df['total_spent'].value_counts(dropna=False)"
   ]
  },
  {
   "cell_type": "code",
   "execution_count": 46,
   "id": "ffe1d187-ce20-4ea9-aee4-7ab54daf62e6",
   "metadata": {
    "execution": {
     "iopub.execute_input": "2025-03-16T16:22:16.082784Z",
     "iopub.status.busy": "2025-03-16T16:22:16.082527Z",
     "iopub.status.idle": "2025-03-16T16:22:16.086740Z",
     "shell.execute_reply": "2025-03-16T16:22:16.086312Z",
     "shell.execute_reply.started": "2025-03-16T16:22:16.082747Z"
    }
   },
   "outputs": [
    {
     "data": {
      "text/plain": [
       "payment_method\n",
       "NaN               2579\n",
       "Digital Wallet    2291\n",
       "Credit Card       2273\n",
       "Cash              2258\n",
       "ERROR              306\n",
       "UNKNOWN            293\n",
       "Name: count, dtype: int64"
      ]
     },
     "execution_count": 46,
     "metadata": {},
     "output_type": "execute_result"
    }
   ],
   "source": [
    "df['payment_method'].value_counts(dropna=False)"
   ]
  },
  {
   "cell_type": "code",
   "execution_count": 47,
   "id": "aa015ba2-620b-4d28-9030-8398c40bcd91",
   "metadata": {
    "execution": {
     "iopub.execute_input": "2025-03-16T16:22:16.087616Z",
     "iopub.status.busy": "2025-03-16T16:22:16.087449Z",
     "iopub.status.idle": "2025-03-16T16:22:16.092038Z",
     "shell.execute_reply": "2025-03-16T16:22:16.091673Z",
     "shell.execute_reply.started": "2025-03-16T16:22:16.087602Z"
    }
   },
   "outputs": [
    {
     "data": {
      "text/plain": [
       "location\n",
       "NaN         3265\n",
       "Takeaway    3022\n",
       "In-store    3017\n",
       "ERROR        358\n",
       "UNKNOWN      338\n",
       "Name: count, dtype: int64"
      ]
     },
     "execution_count": 47,
     "metadata": {},
     "output_type": "execute_result"
    }
   ],
   "source": [
    "df['location'].value_counts(dropna=False)"
   ]
  },
  {
   "cell_type": "code",
   "execution_count": 48,
   "id": "346c1568-1ec0-4afd-b28d-200712bdaaeb",
   "metadata": {
    "execution": {
     "iopub.execute_input": "2025-03-16T16:22:16.092862Z",
     "iopub.status.busy": "2025-03-16T16:22:16.092626Z",
     "iopub.status.idle": "2025-03-16T16:22:16.097532Z",
     "shell.execute_reply": "2025-03-16T16:22:16.097028Z",
     "shell.execute_reply.started": "2025-03-16T16:22:16.092847Z"
    }
   },
   "outputs": [
    {
     "data": {
      "text/plain": [
       "transaction_date\n",
       "UNKNOWN       159\n",
       "NaN           159\n",
       "ERROR         142\n",
       "2023-06-16     40\n",
       "2023-02-06     40\n",
       "             ... \n",
       "2023-04-27     15\n",
       "2023-09-24     15\n",
       "2023-07-22     14\n",
       "2023-03-11     14\n",
       "2023-02-17     14\n",
       "Name: count, Length: 368, dtype: int64"
      ]
     },
     "execution_count": 48,
     "metadata": {},
     "output_type": "execute_result"
    }
   ],
   "source": [
    "df['transaction_date'].value_counts(dropna=False)"
   ]
  },
  {
   "cell_type": "code",
   "execution_count": 53,
   "id": "302a80e4-8928-43ee-b279-c202e71a7b4c",
   "metadata": {
    "execution": {
     "iopub.execute_input": "2025-03-16T16:24:35.646464Z",
     "iopub.status.busy": "2025-03-16T16:24:35.645033Z",
     "iopub.status.idle": "2025-03-16T16:24:35.666553Z",
     "shell.execute_reply": "2025-03-16T16:24:35.665686Z",
     "shell.execute_reply.started": "2025-03-16T16:24:35.646394Z"
    }
   },
   "outputs": [],
   "source": [
    "df['num_nulls'] = df.isna().sum(axis=1)"
   ]
  },
  {
   "cell_type": "code",
   "execution_count": 54,
   "id": "cd0532da-ad2e-41d1-87cc-b796c835decd",
   "metadata": {
    "execution": {
     "iopub.execute_input": "2025-03-16T16:24:37.466599Z",
     "iopub.status.busy": "2025-03-16T16:24:37.466123Z",
     "iopub.status.idle": "2025-03-16T16:24:37.497465Z",
     "shell.execute_reply": "2025-03-16T16:24:37.496951Z",
     "shell.execute_reply.started": "2025-03-16T16:24:37.466566Z"
    }
   },
   "outputs": [
    {
     "data": {
      "text/html": [
       "<div>\n",
       "<style scoped>\n",
       "    .dataframe tbody tr th:only-of-type {\n",
       "        vertical-align: middle;\n",
       "    }\n",
       "\n",
       "    .dataframe tbody tr th {\n",
       "        vertical-align: top;\n",
       "    }\n",
       "\n",
       "    .dataframe thead th {\n",
       "        text-align: right;\n",
       "    }\n",
       "</style>\n",
       "<table border=\"1\" class=\"dataframe\">\n",
       "  <thead>\n",
       "    <tr style=\"text-align: right;\">\n",
       "      <th></th>\n",
       "      <th>transaction_id</th>\n",
       "      <th>item</th>\n",
       "      <th>quantity</th>\n",
       "      <th>price_per_unit</th>\n",
       "      <th>total_spent</th>\n",
       "      <th>payment_method</th>\n",
       "      <th>location</th>\n",
       "      <th>transaction_date</th>\n",
       "      <th>num_nulls</th>\n",
       "    </tr>\n",
       "  </thead>\n",
       "  <tbody>\n",
       "    <tr>\n",
       "      <th>2987</th>\n",
       "      <td>TXN_1000555</td>\n",
       "      <td>Tea</td>\n",
       "      <td>1</td>\n",
       "      <td>1.5</td>\n",
       "      <td>1.5</td>\n",
       "      <td>Credit Card</td>\n",
       "      <td>In-store</td>\n",
       "      <td>2023-10-19</td>\n",
       "      <td>0</td>\n",
       "    </tr>\n",
       "    <tr>\n",
       "      <th>115</th>\n",
       "      <td>TXN_1001832</td>\n",
       "      <td>Salad</td>\n",
       "      <td>2</td>\n",
       "      <td>5.0</td>\n",
       "      <td>10.0</td>\n",
       "      <td>Cash</td>\n",
       "      <td>Takeaway</td>\n",
       "      <td>NaN</td>\n",
       "      <td>1</td>\n",
       "    </tr>\n",
       "    <tr>\n",
       "      <th>418</th>\n",
       "      <td>TXN_1002457</td>\n",
       "      <td>Cookie</td>\n",
       "      <td>5</td>\n",
       "      <td>1.0</td>\n",
       "      <td>5.0</td>\n",
       "      <td>Digital Wallet</td>\n",
       "      <td>Takeaway</td>\n",
       "      <td>2023-09-29</td>\n",
       "      <td>0</td>\n",
       "    </tr>\n",
       "    <tr>\n",
       "      <th>3417</th>\n",
       "      <td>TXN_1003246</td>\n",
       "      <td>Juice</td>\n",
       "      <td>2</td>\n",
       "      <td>3.0</td>\n",
       "      <td>6.0</td>\n",
       "      <td>NaN</td>\n",
       "      <td>NaN</td>\n",
       "      <td>2023-02-15</td>\n",
       "      <td>2</td>\n",
       "    </tr>\n",
       "    <tr>\n",
       "      <th>4366</th>\n",
       "      <td>TXN_1004184</td>\n",
       "      <td>Smoothie</td>\n",
       "      <td>1</td>\n",
       "      <td>4.0</td>\n",
       "      <td>4.0</td>\n",
       "      <td>Credit Card</td>\n",
       "      <td>In-store</td>\n",
       "      <td>2023-05-18</td>\n",
       "      <td>0</td>\n",
       "    </tr>\n",
       "    <tr>\n",
       "      <th>...</th>\n",
       "      <td>...</td>\n",
       "      <td>...</td>\n",
       "      <td>...</td>\n",
       "      <td>...</td>\n",
       "      <td>...</td>\n",
       "      <td>...</td>\n",
       "      <td>...</td>\n",
       "      <td>...</td>\n",
       "      <td>...</td>\n",
       "    </tr>\n",
       "    <tr>\n",
       "      <th>1389</th>\n",
       "      <td>TXN_9996968</td>\n",
       "      <td>Sandwich</td>\n",
       "      <td>1</td>\n",
       "      <td>NaN</td>\n",
       "      <td>4.0</td>\n",
       "      <td>Cash</td>\n",
       "      <td>In-store</td>\n",
       "      <td>2023-10-14</td>\n",
       "      <td>1</td>\n",
       "    </tr>\n",
       "    <tr>\n",
       "      <th>7964</th>\n",
       "      <td>TXN_9997263</td>\n",
       "      <td>Cookie</td>\n",
       "      <td>2</td>\n",
       "      <td>1.0</td>\n",
       "      <td>2.0</td>\n",
       "      <td>NaN</td>\n",
       "      <td>NaN</td>\n",
       "      <td>2023-03-05</td>\n",
       "      <td>2</td>\n",
       "    </tr>\n",
       "    <tr>\n",
       "      <th>4304</th>\n",
       "      <td>TXN_9997620</td>\n",
       "      <td>Cookie</td>\n",
       "      <td>2</td>\n",
       "      <td>1.0</td>\n",
       "      <td>2.0</td>\n",
       "      <td>Cash</td>\n",
       "      <td>NaN</td>\n",
       "      <td>2023-12-11</td>\n",
       "      <td>1</td>\n",
       "    </tr>\n",
       "    <tr>\n",
       "      <th>98</th>\n",
       "      <td>TXN_9999113</td>\n",
       "      <td>Juice</td>\n",
       "      <td>4</td>\n",
       "      <td>3.0</td>\n",
       "      <td>12.0</td>\n",
       "      <td>Cash</td>\n",
       "      <td>Takeaway</td>\n",
       "      <td>2023-05-27</td>\n",
       "      <td>0</td>\n",
       "    </tr>\n",
       "    <tr>\n",
       "      <th>5037</th>\n",
       "      <td>TXN_9999124</td>\n",
       "      <td>Juice</td>\n",
       "      <td>2</td>\n",
       "      <td>3.0</td>\n",
       "      <td>6.0</td>\n",
       "      <td>Digital Wallet</td>\n",
       "      <td>Takeaway</td>\n",
       "      <td>NaN</td>\n",
       "      <td>1</td>\n",
       "    </tr>\n",
       "  </tbody>\n",
       "</table>\n",
       "<p>10000 rows × 9 columns</p>\n",
       "</div>"
      ],
      "text/plain": [
       "     transaction_id      item quantity price_per_unit total_spent  \\\n",
       "2987    TXN_1000555       Tea        1            1.5         1.5   \n",
       "115     TXN_1001832     Salad        2            5.0        10.0   \n",
       "418     TXN_1002457    Cookie        5            1.0         5.0   \n",
       "3417    TXN_1003246     Juice        2            3.0         6.0   \n",
       "4366    TXN_1004184  Smoothie        1            4.0         4.0   \n",
       "...             ...       ...      ...            ...         ...   \n",
       "1389    TXN_9996968  Sandwich        1            NaN         4.0   \n",
       "7964    TXN_9997263    Cookie        2            1.0         2.0   \n",
       "4304    TXN_9997620    Cookie        2            1.0         2.0   \n",
       "98      TXN_9999113     Juice        4            3.0        12.0   \n",
       "5037    TXN_9999124     Juice        2            3.0         6.0   \n",
       "\n",
       "      payment_method  location transaction_date  num_nulls  \n",
       "2987     Credit Card  In-store       2023-10-19          0  \n",
       "115             Cash  Takeaway              NaN          1  \n",
       "418   Digital Wallet  Takeaway       2023-09-29          0  \n",
       "3417             NaN       NaN       2023-02-15          2  \n",
       "4366     Credit Card  In-store       2023-05-18          0  \n",
       "...              ...       ...              ...        ...  \n",
       "1389            Cash  In-store       2023-10-14          1  \n",
       "7964             NaN       NaN       2023-03-05          2  \n",
       "4304            Cash       NaN       2023-12-11          1  \n",
       "98              Cash  Takeaway       2023-05-27          0  \n",
       "5037  Digital Wallet  Takeaway              NaN          1  \n",
       "\n",
       "[10000 rows x 9 columns]"
      ]
     },
     "execution_count": 54,
     "metadata": {},
     "output_type": "execute_result"
    }
   ],
   "source": [
    "df.sort_values(by='transaction_id')"
   ]
  },
  {
   "cell_type": "markdown",
   "id": "83aa72ca-62a3-4bd7-aae2-07526c69fa13",
   "metadata": {
    "execution": {
     "iopub.execute_input": "2025-03-16T16:17:42.188026Z",
     "iopub.status.busy": "2025-03-16T16:17:42.186779Z",
     "iopub.status.idle": "2025-03-16T16:17:42.199478Z",
     "shell.execute_reply": "2025-03-16T16:17:42.198156Z",
     "shell.execute_reply.started": "2025-03-16T16:17:42.187952Z"
    }
   },
   "source": [
    "Finding: no correlation transaction_id and transaction_date"
   ]
  },
  {
   "cell_type": "code",
   "execution_count": 52,
   "id": "c4e604eb-b41c-4575-a739-081fe5cc6a00",
   "metadata": {
    "execution": {
     "iopub.execute_input": "2025-03-16T16:24:31.623910Z",
     "iopub.status.busy": "2025-03-16T16:24:31.622987Z",
     "iopub.status.idle": "2025-03-16T16:24:31.655399Z",
     "shell.execute_reply": "2025-03-16T16:24:31.654811Z",
     "shell.execute_reply.started": "2025-03-16T16:24:31.623862Z"
    }
   },
   "outputs": [],
   "source": [
    "df = df.replace('ERROR', np.nan)\n",
    "df = df.replace('UNKNOWN', np.nan)"
   ]
  },
  {
   "cell_type": "code",
   "execution_count": 55,
   "id": "ff8f3da9-e535-46e2-bcb8-a7bcc146d4dd",
   "metadata": {
    "execution": {
     "iopub.execute_input": "2025-03-16T16:24:58.124758Z",
     "iopub.status.busy": "2025-03-16T16:24:58.124599Z",
     "iopub.status.idle": "2025-03-16T16:24:58.131158Z",
     "shell.execute_reply": "2025-03-16T16:24:58.130707Z",
     "shell.execute_reply.started": "2025-03-16T16:24:58.124744Z"
    }
   },
   "outputs": [
    {
     "data": {
      "text/plain": [
       "num_nulls\n",
       "1    4285\n",
       "0    3089\n",
       "2    2136\n",
       "3     439\n",
       "4      47\n",
       "5       4\n",
       "Name: count, dtype: int64"
      ]
     },
     "execution_count": 55,
     "metadata": {},
     "output_type": "execute_result"
    }
   ],
   "source": [
    "df['num_nulls'].value_counts()"
   ]
  },
  {
   "cell_type": "code",
   "execution_count": 58,
   "id": "4583c717-578c-45f4-9e11-91712ff6c7c9",
   "metadata": {
    "execution": {
     "iopub.execute_input": "2025-03-16T16:35:53.510649Z",
     "iopub.status.busy": "2025-03-16T16:35:53.509540Z",
     "iopub.status.idle": "2025-03-16T16:35:53.528815Z",
     "shell.execute_reply": "2025-03-16T16:35:53.528047Z",
     "shell.execute_reply.started": "2025-03-16T16:35:53.510597Z"
    }
   },
   "outputs": [],
   "source": [
    "df['total_spent']=df['total_spent'].astype(float)"
   ]
  },
  {
   "cell_type": "code",
   "execution_count": 60,
   "id": "38dc9532-3e03-4535-8df9-e1975b17b692",
   "metadata": {
    "execution": {
     "iopub.execute_input": "2025-03-16T16:36:48.839592Z",
     "iopub.status.busy": "2025-03-16T16:36:48.838180Z",
     "iopub.status.idle": "2025-03-16T16:36:48.857712Z",
     "shell.execute_reply": "2025-03-16T16:36:48.856869Z",
     "shell.execute_reply.started": "2025-03-16T16:36:48.839511Z"
    }
   },
   "outputs": [],
   "source": [
    "df['quantity']=df['quantity'].astype(float)\n",
    "df['price_per_unit']=df['price_per_unit'].astype(float)"
   ]
  },
  {
   "cell_type": "code",
   "execution_count": 74,
   "id": "8392c64e-a61a-4e00-ad19-c49e58e0d9b3",
   "metadata": {
    "execution": {
     "iopub.execute_input": "2025-03-16T16:42:48.499804Z",
     "iopub.status.busy": "2025-03-16T16:42:48.498449Z",
     "iopub.status.idle": "2025-03-16T16:42:48.521411Z",
     "shell.execute_reply": "2025-03-16T16:42:48.520711Z",
     "shell.execute_reply.started": "2025-03-16T16:42:48.499725Z"
    }
   },
   "outputs": [],
   "source": [
    "df.loc[(df['total_spent'].isna())&(~df['price_per_unit'].isna())&(~df['quantity'].isna()),'total_spent'] = df['price_per_unit']*df['quantity']\n",
    "df.loc[(df['price_per_unit'].isna())&(~df['total_spent'].isna())&(~df['quantity'].isna()),'price_per_unit'] = df['total_spent']/df['quantity']\n",
    "df.loc[(df['quantity'].isna())&(~df['total_spent'].isna())&(~df['price_per_unit'].isna()),'quantity'] = df['total_spent']/df['price_per_unit']"
   ]
  },
  {
   "cell_type": "code",
   "execution_count": 76,
   "id": "f6abb65b-8a35-40c5-ac1d-98157c1f22b1",
   "metadata": {
    "execution": {
     "iopub.execute_input": "2025-03-16T16:43:39.891753Z",
     "iopub.status.busy": "2025-03-16T16:43:39.890654Z",
     "iopub.status.idle": "2025-03-16T16:43:39.914291Z",
     "shell.execute_reply": "2025-03-16T16:43:39.913744Z",
     "shell.execute_reply.started": "2025-03-16T16:43:39.891682Z"
    }
   },
   "outputs": [
    {
     "data": {
      "text/plain": [
       "num_nulls\n",
       "1    4457\n",
       "0    3556\n",
       "2    1756\n",
       "3     212\n",
       "4      16\n",
       "5       3\n",
       "Name: count, dtype: int64"
      ]
     },
     "execution_count": 76,
     "metadata": {},
     "output_type": "execute_result"
    }
   ],
   "source": [
    "df['num_nulls'] = df.isna().sum(axis=1)\n",
    "df['num_nulls'].value_counts()"
   ]
  },
  {
   "cell_type": "code",
   "execution_count": 71,
   "id": "a12e133d-6ac6-451c-906c-f92e55c8722b",
   "metadata": {
    "execution": {
     "iopub.execute_input": "2025-03-16T16:39:42.763631Z",
     "iopub.status.busy": "2025-03-16T16:39:42.762485Z",
     "iopub.status.idle": "2025-03-16T16:39:42.780692Z",
     "shell.execute_reply": "2025-03-16T16:39:42.779971Z",
     "shell.execute_reply.started": "2025-03-16T16:39:42.763566Z"
    }
   },
   "outputs": [
    {
     "data": {
      "text/plain": [
       "357"
      ]
     },
     "execution_count": 71,
     "metadata": {},
     "output_type": "execute_result"
    }
   ],
   "source": [
    "df['total_spent'].isna().sum()"
   ]
  },
  {
   "cell_type": "code",
   "execution_count": 72,
   "id": "1f7d70d6-eac7-4bf7-afd3-f21e9c136c83",
   "metadata": {
    "execution": {
     "iopub.execute_input": "2025-03-16T16:39:59.703164Z",
     "iopub.status.busy": "2025-03-16T16:39:59.702227Z",
     "iopub.status.idle": "2025-03-16T16:39:59.729075Z",
     "shell.execute_reply": "2025-03-16T16:39:59.728610Z",
     "shell.execute_reply.started": "2025-03-16T16:39:59.703105Z"
    }
   },
   "outputs": [
    {
     "data": {
      "text/html": [
       "<div>\n",
       "<style scoped>\n",
       "    .dataframe tbody tr th:only-of-type {\n",
       "        vertical-align: middle;\n",
       "    }\n",
       "\n",
       "    .dataframe tbody tr th {\n",
       "        vertical-align: top;\n",
       "    }\n",
       "\n",
       "    .dataframe thead th {\n",
       "        text-align: right;\n",
       "    }\n",
       "</style>\n",
       "<table border=\"1\" class=\"dataframe\">\n",
       "  <thead>\n",
       "    <tr style=\"text-align: right;\">\n",
       "      <th></th>\n",
       "      <th>transaction_id</th>\n",
       "      <th>item</th>\n",
       "      <th>quantity</th>\n",
       "      <th>price_per_unit</th>\n",
       "      <th>total_spent</th>\n",
       "      <th>payment_method</th>\n",
       "      <th>location</th>\n",
       "      <th>transaction_date</th>\n",
       "      <th>num_nulls</th>\n",
       "    </tr>\n",
       "  </thead>\n",
       "  <tbody>\n",
       "    <tr>\n",
       "      <th>25</th>\n",
       "      <td>TXN_7958992</td>\n",
       "      <td>Smoothie</td>\n",
       "      <td>3.0</td>\n",
       "      <td>4.0</td>\n",
       "      <td>NaN</td>\n",
       "      <td>NaN</td>\n",
       "      <td>NaN</td>\n",
       "      <td>2023-12-13</td>\n",
       "      <td>3</td>\n",
       "    </tr>\n",
       "    <tr>\n",
       "      <th>31</th>\n",
       "      <td>TXN_8927252</td>\n",
       "      <td>NaN</td>\n",
       "      <td>2.0</td>\n",
       "      <td>1.0</td>\n",
       "      <td>NaN</td>\n",
       "      <td>Credit Card</td>\n",
       "      <td>NaN</td>\n",
       "      <td>2023-11-06</td>\n",
       "      <td>3</td>\n",
       "    </tr>\n",
       "    <tr>\n",
       "      <th>42</th>\n",
       "      <td>TXN_6650263</td>\n",
       "      <td>Tea</td>\n",
       "      <td>2.0</td>\n",
       "      <td>1.5</td>\n",
       "      <td>NaN</td>\n",
       "      <td>NaN</td>\n",
       "      <td>Takeaway</td>\n",
       "      <td>2023-01-10</td>\n",
       "      <td>2</td>\n",
       "    </tr>\n",
       "    <tr>\n",
       "      <th>65</th>\n",
       "      <td>TXN_4987129</td>\n",
       "      <td>Sandwich</td>\n",
       "      <td>3.0</td>\n",
       "      <td>NaN</td>\n",
       "      <td>NaN</td>\n",
       "      <td>NaN</td>\n",
       "      <td>In-store</td>\n",
       "      <td>2023-10-20</td>\n",
       "      <td>3</td>\n",
       "    </tr>\n",
       "    <tr>\n",
       "      <th>143</th>\n",
       "      <td>TXN_8495063</td>\n",
       "      <td>Juice</td>\n",
       "      <td>1.0</td>\n",
       "      <td>3.0</td>\n",
       "      <td>NaN</td>\n",
       "      <td>Cash</td>\n",
       "      <td>NaN</td>\n",
       "      <td>2023-05-31</td>\n",
       "      <td>2</td>\n",
       "    </tr>\n",
       "    <tr>\n",
       "      <th>...</th>\n",
       "      <td>...</td>\n",
       "      <td>...</td>\n",
       "      <td>...</td>\n",
       "      <td>...</td>\n",
       "      <td>...</td>\n",
       "      <td>...</td>\n",
       "      <td>...</td>\n",
       "      <td>...</td>\n",
       "      <td>...</td>\n",
       "    </tr>\n",
       "    <tr>\n",
       "      <th>9853</th>\n",
       "      <td>TXN_9266499</td>\n",
       "      <td>Cake</td>\n",
       "      <td>1.0</td>\n",
       "      <td>3.0</td>\n",
       "      <td>NaN</td>\n",
       "      <td>Digital Wallet</td>\n",
       "      <td>NaN</td>\n",
       "      <td>2023-02-16</td>\n",
       "      <td>2</td>\n",
       "    </tr>\n",
       "    <tr>\n",
       "      <th>9869</th>\n",
       "      <td>TXN_1975184</td>\n",
       "      <td>Coffee</td>\n",
       "      <td>NaN</td>\n",
       "      <td>2.0</td>\n",
       "      <td>NaN</td>\n",
       "      <td>Digital Wallet</td>\n",
       "      <td>NaN</td>\n",
       "      <td>2023-01-15</td>\n",
       "      <td>3</td>\n",
       "    </tr>\n",
       "    <tr>\n",
       "      <th>9893</th>\n",
       "      <td>TXN_3809533</td>\n",
       "      <td>Juice</td>\n",
       "      <td>2.0</td>\n",
       "      <td>NaN</td>\n",
       "      <td>NaN</td>\n",
       "      <td>Digital Wallet</td>\n",
       "      <td>Takeaway</td>\n",
       "      <td>2023-02-02</td>\n",
       "      <td>2</td>\n",
       "    </tr>\n",
       "    <tr>\n",
       "      <th>9988</th>\n",
       "      <td>TXN_9594133</td>\n",
       "      <td>Cake</td>\n",
       "      <td>5.0</td>\n",
       "      <td>3.0</td>\n",
       "      <td>NaN</td>\n",
       "      <td>NaN</td>\n",
       "      <td>NaN</td>\n",
       "      <td>NaN</td>\n",
       "      <td>4</td>\n",
       "    </tr>\n",
       "    <tr>\n",
       "      <th>9993</th>\n",
       "      <td>TXN_4766549</td>\n",
       "      <td>Smoothie</td>\n",
       "      <td>2.0</td>\n",
       "      <td>4.0</td>\n",
       "      <td>NaN</td>\n",
       "      <td>Cash</td>\n",
       "      <td>NaN</td>\n",
       "      <td>2023-10-20</td>\n",
       "      <td>2</td>\n",
       "    </tr>\n",
       "  </tbody>\n",
       "</table>\n",
       "<p>357 rows × 9 columns</p>\n",
       "</div>"
      ],
      "text/plain": [
       "     transaction_id      item  quantity  price_per_unit  total_spent  \\\n",
       "25      TXN_7958992  Smoothie       3.0             4.0          NaN   \n",
       "31      TXN_8927252       NaN       2.0             1.0          NaN   \n",
       "42      TXN_6650263       Tea       2.0             1.5          NaN   \n",
       "65      TXN_4987129  Sandwich       3.0             NaN          NaN   \n",
       "143     TXN_8495063     Juice       1.0             3.0          NaN   \n",
       "...             ...       ...       ...             ...          ...   \n",
       "9853    TXN_9266499      Cake       1.0             3.0          NaN   \n",
       "9869    TXN_1975184    Coffee       NaN             2.0          NaN   \n",
       "9893    TXN_3809533     Juice       2.0             NaN          NaN   \n",
       "9988    TXN_9594133      Cake       5.0             3.0          NaN   \n",
       "9993    TXN_4766549  Smoothie       2.0             4.0          NaN   \n",
       "\n",
       "      payment_method  location transaction_date  num_nulls  \n",
       "25               NaN       NaN       2023-12-13          3  \n",
       "31       Credit Card       NaN       2023-11-06          3  \n",
       "42               NaN  Takeaway       2023-01-10          2  \n",
       "65               NaN  In-store       2023-10-20          3  \n",
       "143             Cash       NaN       2023-05-31          2  \n",
       "...              ...       ...              ...        ...  \n",
       "9853  Digital Wallet       NaN       2023-02-16          2  \n",
       "9869  Digital Wallet       NaN       2023-01-15          3  \n",
       "9893  Digital Wallet  Takeaway       2023-02-02          2  \n",
       "9988             NaN       NaN              NaN          4  \n",
       "9993            Cash       NaN       2023-10-20          2  \n",
       "\n",
       "[357 rows x 9 columns]"
      ]
     },
     "execution_count": 72,
     "metadata": {},
     "output_type": "execute_result"
    }
   ],
   "source": [
    "df[df['total_spent'].isna()]"
   ]
  },
  {
   "cell_type": "code",
   "execution_count": 81,
   "id": "da5a0a09-c5c8-4aff-bd3c-c33d8ff65d5f",
   "metadata": {
    "execution": {
     "iopub.execute_input": "2025-03-16T17:29:03.203532Z",
     "iopub.status.busy": "2025-03-16T17:29:03.202740Z",
     "iopub.status.idle": "2025-03-16T17:29:03.473861Z",
     "shell.execute_reply": "2025-03-16T17:29:03.473451Z",
     "shell.execute_reply.started": "2025-03-16T17:29:03.203493Z"
    }
   },
   "outputs": [
    {
     "data": {
      "image/png": "[encoded data removed]",
      "text/plain": [
       "<Figure size 640x480 with 1 Axes>"
      ]
     },
     "metadata": {},
     "output_type": "display_data"
    }
   ],
   "source": [
    "sns.boxplot(data=df, y='price_per_unit', x='item', hue='item')\n",
    "plt.xticks(rotation=90)\n",
    "plt.show()"
   ]
  },
  {
   "cell_type": "code",
   "execution_count": 83,
   "id": "7fbf1b30-6849-4c31-ad74-03a6db948eca",
   "metadata": {
    "execution": {
     "iopub.execute_input": "2025-03-16T17:33:41.732967Z",
     "iopub.status.busy": "2025-03-16T17:33:41.732117Z",
     "iopub.status.idle": "2025-03-16T17:33:41.756489Z",
     "shell.execute_reply": "2025-03-16T17:33:41.755958Z",
     "shell.execute_reply.started": "2025-03-16T17:33:41.732930Z"
    }
   },
   "outputs": [
    {
     "data": {
      "text/html": [
       "<div>\n",
       "<style scoped>\n",
       "    .dataframe tbody tr th:only-of-type {\n",
       "        vertical-align: middle;\n",
       "    }\n",
       "\n",
       "    .dataframe tbody tr th {\n",
       "        vertical-align: top;\n",
       "    }\n",
       "\n",
       "    .dataframe thead th {\n",
       "        text-align: right;\n",
       "    }\n",
       "</style>\n",
       "<table border=\"1\" class=\"dataframe\">\n",
       "  <thead>\n",
       "    <tr style=\"text-align: right;\">\n",
       "      <th></th>\n",
       "      <th>mean</th>\n",
       "      <th>std</th>\n",
       "    </tr>\n",
       "    <tr>\n",
       "      <th>item</th>\n",
       "      <th></th>\n",
       "      <th></th>\n",
       "    </tr>\n",
       "  </thead>\n",
       "  <tbody>\n",
       "    <tr>\n",
       "      <th>Cake</th>\n",
       "      <td>3.0</td>\n",
       "      <td>0.0</td>\n",
       "    </tr>\n",
       "    <tr>\n",
       "      <th>Coffee</th>\n",
       "      <td>2.0</td>\n",
       "      <td>0.0</td>\n",
       "    </tr>\n",
       "    <tr>\n",
       "      <th>Cookie</th>\n",
       "      <td>1.0</td>\n",
       "      <td>0.0</td>\n",
       "    </tr>\n",
       "    <tr>\n",
       "      <th>Juice</th>\n",
       "      <td>3.0</td>\n",
       "      <td>0.0</td>\n",
       "    </tr>\n",
       "    <tr>\n",
       "      <th>Salad</th>\n",
       "      <td>5.0</td>\n",
       "      <td>0.0</td>\n",
       "    </tr>\n",
       "    <tr>\n",
       "      <th>Sandwich</th>\n",
       "      <td>4.0</td>\n",
       "      <td>0.0</td>\n",
       "    </tr>\n",
       "    <tr>\n",
       "      <th>Smoothie</th>\n",
       "      <td>4.0</td>\n",
       "      <td>0.0</td>\n",
       "    </tr>\n",
       "    <tr>\n",
       "      <th>Tea</th>\n",
       "      <td>1.5</td>\n",
       "      <td>0.0</td>\n",
       "    </tr>\n",
       "  </tbody>\n",
       "</table>\n",
       "</div>"
      ],
      "text/plain": [
       "          mean  std\n",
       "item               \n",
       "Cake       3.0  0.0\n",
       "Coffee     2.0  0.0\n",
       "Cookie     1.0  0.0\n",
       "Juice      3.0  0.0\n",
       "Salad      5.0  0.0\n",
       "Sandwich   4.0  0.0\n",
       "Smoothie   4.0  0.0\n",
       "Tea        1.5  0.0"
      ]
     },
     "execution_count": 83,
     "metadata": {},
     "output_type": "execute_result"
    }
   ],
   "source": [
    "df.groupby('item')['price_per_unit'].agg(['mean', 'std'])"
   ]
  },
  {
   "cell_type": "code",
   "execution_count": 86,
   "id": "ec88a04e-84b7-400a-babe-f45b46ec976f",
   "metadata": {
    "execution": {
     "iopub.execute_input": "2025-03-16T17:43:14.899987Z",
     "iopub.status.busy": "2025-03-16T17:43:14.898839Z",
     "iopub.status.idle": "2025-03-16T17:43:14.912494Z",
     "shell.execute_reply": "2025-03-16T17:43:14.911513Z",
     "shell.execute_reply.started": "2025-03-16T17:43:14.899925Z"
    }
   },
   "outputs": [],
   "source": [
    "price_dict = df.groupby('item')['price_per_unit'].agg('mean').to_dict()"
   ]
  },
  {
   "cell_type": "code",
   "execution_count": 87,
   "id": "e3126e24-ea9d-4a53-b25c-0586611b734a",
   "metadata": {
    "execution": {
     "iopub.execute_input": "2025-03-16T17:43:15.333318Z",
     "iopub.status.busy": "2025-03-16T17:43:15.330867Z",
     "iopub.status.idle": "2025-03-16T17:43:15.347640Z",
     "shell.execute_reply": "2025-03-16T17:43:15.346237Z",
     "shell.execute_reply.started": "2025-03-16T17:43:15.333236Z"
    }
   },
   "outputs": [],
   "source": [
    "df['price_per_unit'] = df['price_per_unit'].fillna(df['item'].map(price_dict))"
   ]
  },
  {
   "cell_type": "code",
   "execution_count": 91,
   "id": "455fa3ed-dcc2-47f1-9dac-db2d25e9b3d2",
   "metadata": {
    "execution": {
     "iopub.execute_input": "2025-03-16T17:43:59.399844Z",
     "iopub.status.busy": "2025-03-16T17:43:59.399594Z",
     "iopub.status.idle": "2025-03-16T17:43:59.408030Z",
     "shell.execute_reply": "2025-03-16T17:43:59.407385Z",
     "shell.execute_reply.started": "2025-03-16T17:43:59.399826Z"
    }
   },
   "outputs": [
    {
     "data": {
      "text/plain": [
       "num_nulls\n",
       "1    4471\n",
       "0    3556\n",
       "2    1755\n",
       "3     202\n",
       "4      15\n",
       "5       1\n",
       "Name: count, dtype: int64"
      ]
     },
     "execution_count": 91,
     "metadata": {},
     "output_type": "execute_result"
    }
   ],
   "source": [
    "df['num_nulls'] = df.isna().sum(axis=1)\n",
    "df['num_nulls'].value_counts()"
   ]
  },
  {
   "cell_type": "code",
   "execution_count": 94,
   "id": "6ff01fbb-fef2-41b1-9436-f07c775ccc9b",
   "metadata": {
    "execution": {
     "iopub.execute_input": "2025-03-16T17:57:27.748157Z",
     "iopub.status.busy": "2025-03-16T17:57:27.747032Z",
     "iopub.status.idle": "2025-03-16T17:57:27.770060Z",
     "shell.execute_reply": "2025-03-16T17:57:27.769063Z",
     "shell.execute_reply.started": "2025-03-16T17:57:27.748082Z"
    }
   },
   "outputs": [],
   "source": [
    "df.loc[(df['total_spent'].isna())&(~df['price_per_unit'].isna())&(~df['quantity'].isna()),'total_spent'] = df['price_per_unit']*df['quantity']\n",
    "df.loc[(df['price_per_unit'].isna())&(~df['total_spent'].isna())&(~df['quantity'].isna()),'price_per_unit'] = df['total_spent']/df['quantity']\n",
    "df.loc[(df['quantity'].isna())&(~df['total_spent'].isna())&(~df['price_per_unit'].isna()),'quantity'] = df['total_spent']/df['price_per_unit']"
   ]
  },
  {
   "cell_type": "code",
   "execution_count": 95,
   "id": "0df4fb31-c13a-4c3f-a936-9a1a984f3272",
   "metadata": {
    "execution": {
     "iopub.execute_input": "2025-03-16T17:57:28.270550Z",
     "iopub.status.busy": "2025-03-16T17:57:28.268850Z",
     "iopub.status.idle": "2025-03-16T17:57:28.294268Z",
     "shell.execute_reply": "2025-03-16T17:57:28.293768Z",
     "shell.execute_reply.started": "2025-03-16T17:57:28.270492Z"
    }
   },
   "outputs": [
    {
     "data": {
      "text/plain": [
       "num_nulls\n",
       "1    4470\n",
       "0    3570\n",
       "2    1745\n",
       "3     201\n",
       "4      13\n",
       "5       1\n",
       "Name: count, dtype: int64"
      ]
     },
     "execution_count": 95,
     "metadata": {},
     "output_type": "execute_result"
    }
   ],
   "source": [
    "df['num_nulls'] = df.isna().sum(axis=1)\n",
    "df['num_nulls'].value_counts()"
   ]
  },
  {
   "cell_type": "code",
   "execution_count": 96,
   "id": "90de750a-f668-4af2-a21a-6a3501c5f225",
   "metadata": {
    "execution": {
     "iopub.execute_input": "2025-03-16T18:02:49.118119Z",
     "iopub.status.busy": "2025-03-16T18:02:49.117207Z",
     "iopub.status.idle": "2025-03-16T18:02:49.147869Z",
     "shell.execute_reply": "2025-03-16T18:02:49.147257Z",
     "shell.execute_reply.started": "2025-03-16T18:02:49.118051Z"
    }
   },
   "outputs": [
    {
     "data": {
      "text/html": [
       "<div>\n",
       "<style scoped>\n",
       "    .dataframe tbody tr th:only-of-type {\n",
       "        vertical-align: middle;\n",
       "    }\n",
       "\n",
       "    .dataframe tbody tr th {\n",
       "        vertical-align: top;\n",
       "    }\n",
       "\n",
       "    .dataframe thead th {\n",
       "        text-align: right;\n",
       "    }\n",
       "</style>\n",
       "<table border=\"1\" class=\"dataframe\">\n",
       "  <thead>\n",
       "    <tr style=\"text-align: right;\">\n",
       "      <th></th>\n",
       "      <th>transaction_id</th>\n",
       "      <th>item</th>\n",
       "      <th>quantity</th>\n",
       "      <th>price_per_unit</th>\n",
       "      <th>total_spent</th>\n",
       "      <th>payment_method</th>\n",
       "      <th>location</th>\n",
       "      <th>transaction_date</th>\n",
       "      <th>num_nulls</th>\n",
       "    </tr>\n",
       "  </thead>\n",
       "  <tbody>\n",
       "    <tr>\n",
       "      <th>0</th>\n",
       "      <td>TXN_1961373</td>\n",
       "      <td>Coffee</td>\n",
       "      <td>2.0</td>\n",
       "      <td>2.0</td>\n",
       "      <td>4.0</td>\n",
       "      <td>Credit Card</td>\n",
       "      <td>Takeaway</td>\n",
       "      <td>2023-09-08</td>\n",
       "      <td>0</td>\n",
       "    </tr>\n",
       "    <tr>\n",
       "      <th>1</th>\n",
       "      <td>TXN_4977031</td>\n",
       "      <td>Cake</td>\n",
       "      <td>4.0</td>\n",
       "      <td>3.0</td>\n",
       "      <td>12.0</td>\n",
       "      <td>Cash</td>\n",
       "      <td>In-store</td>\n",
       "      <td>2023-05-16</td>\n",
       "      <td>0</td>\n",
       "    </tr>\n",
       "    <tr>\n",
       "      <th>2</th>\n",
       "      <td>TXN_4271903</td>\n",
       "      <td>Cookie</td>\n",
       "      <td>4.0</td>\n",
       "      <td>1.0</td>\n",
       "      <td>4.0</td>\n",
       "      <td>Credit Card</td>\n",
       "      <td>In-store</td>\n",
       "      <td>2023-07-19</td>\n",
       "      <td>0</td>\n",
       "    </tr>\n",
       "    <tr>\n",
       "      <th>3</th>\n",
       "      <td>TXN_7034554</td>\n",
       "      <td>Salad</td>\n",
       "      <td>2.0</td>\n",
       "      <td>5.0</td>\n",
       "      <td>10.0</td>\n",
       "      <td>NaN</td>\n",
       "      <td>NaN</td>\n",
       "      <td>2023-04-27</td>\n",
       "      <td>2</td>\n",
       "    </tr>\n",
       "    <tr>\n",
       "      <th>4</th>\n",
       "      <td>TXN_3160411</td>\n",
       "      <td>Coffee</td>\n",
       "      <td>2.0</td>\n",
       "      <td>2.0</td>\n",
       "      <td>4.0</td>\n",
       "      <td>Digital Wallet</td>\n",
       "      <td>In-store</td>\n",
       "      <td>2023-06-11</td>\n",
       "      <td>0</td>\n",
       "    </tr>\n",
       "  </tbody>\n",
       "</table>\n",
       "</div>"
      ],
      "text/plain": [
       "  transaction_id    item  quantity  price_per_unit  total_spent  \\\n",
       "0    TXN_1961373  Coffee       2.0             2.0          4.0   \n",
       "1    TXN_4977031    Cake       4.0             3.0         12.0   \n",
       "2    TXN_4271903  Cookie       4.0             1.0          4.0   \n",
       "3    TXN_7034554   Salad       2.0             5.0         10.0   \n",
       "4    TXN_3160411  Coffee       2.0             2.0          4.0   \n",
       "\n",
       "   payment_method  location transaction_date  num_nulls  \n",
       "0     Credit Card  Takeaway       2023-09-08          0  \n",
       "1            Cash  In-store       2023-05-16          0  \n",
       "2     Credit Card  In-store       2023-07-19          0  \n",
       "3             NaN       NaN       2023-04-27          2  \n",
       "4  Digital Wallet  In-store       2023-06-11          0  "
      ]
     },
     "execution_count": 96,
     "metadata": {},
     "output_type": "execute_result"
    }
   ],
   "source": [
    "df.head()"
   ]
  },
  {
   "cell_type": "code",
   "execution_count": 97,
   "id": "48215ad0-fec6-487b-a762-c845d9122f54",
   "metadata": {
    "execution": {
     "iopub.execute_input": "2025-03-17T11:19:40.744855Z",
     "iopub.status.busy": "2025-03-17T11:19:40.744142Z",
     "iopub.status.idle": "2025-03-17T11:19:40.774191Z",
     "shell.execute_reply": "2025-03-17T11:19:40.773627Z",
     "shell.execute_reply.started": "2025-03-17T11:19:40.744818Z"
    }
   },
   "outputs": [
    {
     "name": "stdout",
     "output_type": "stream",
     "text": [
      "location        In-store  Takeaway\n",
      "payment_method                    \n",
      "Cash                 702       664\n",
      "Credit Card          681       669\n",
      "Digital Wallet       695       744\n"
     ]
    }
   ],
   "source": [
    "crosstab = pd.crosstab(df['payment_method'], df['location'])\n",
    "print(crosstab)"
   ]
  },
  {
   "cell_type": "code",
   "execution_count": 98,
   "id": "34e66ef5-4673-44c8-af1d-8f369b9db08e",
   "metadata": {
    "execution": {
     "iopub.execute_input": "2025-03-17T11:26:23.027841Z",
     "iopub.status.busy": "2025-03-17T11:26:23.027056Z",
     "iopub.status.idle": "2025-03-17T11:26:23.051059Z",
     "shell.execute_reply": "2025-03-17T11:26:23.050315Z",
     "shell.execute_reply.started": "2025-03-17T11:26:23.027795Z"
    }
   },
   "outputs": [
    {
     "name": "stdout",
     "output_type": "stream",
     "text": [
      "<class 'pandas.core.frame.DataFrame'>\n",
      "RangeIndex: 10000 entries, 0 to 9999\n",
      "Data columns (total 9 columns):\n",
      " #   Column            Non-Null Count  Dtype  \n",
      "---  ------            --------------  -----  \n",
      " 0   transaction_id    10000 non-null  object \n",
      " 1   item              9031 non-null   object \n",
      " 2   quantity          9977 non-null   float64\n",
      " 3   price_per_unit    9994 non-null   float64\n",
      " 4   total_spent       9977 non-null   float64\n",
      " 5   payment_method    6822 non-null   object \n",
      " 6   location          6039 non-null   object \n",
      " 7   transaction_date  9540 non-null   object \n",
      " 8   num_nulls         10000 non-null  int64  \n",
      "dtypes: float64(3), int64(1), object(5)\n",
      "memory usage: 703.3+ KB\n"
     ]
    }
   ],
   "source": [
    "df.info()"
   ]
  },
  {
   "cell_type": "code",
   "execution_count": 99,
   "id": "f34d98eb-a23c-4031-b549-ba34eb770f41",
   "metadata": {
    "execution": {
     "iopub.execute_input": "2025-03-17T11:26:48.514219Z",
     "iopub.status.busy": "2025-03-17T11:26:48.512866Z",
     "iopub.status.idle": "2025-03-17T11:26:48.541336Z",
     "shell.execute_reply": "2025-03-17T11:26:48.540780Z",
     "shell.execute_reply.started": "2025-03-17T11:26:48.514171Z"
    }
   },
   "outputs": [],
   "source": [
    "df['transaction_date'] = pd.to_datetime(df['transaction_date'])"
   ]
  },
  {
   "cell_type": "code",
   "execution_count": null,
   "id": "63812643-d0c2-4923-905c-db9a00a38b21",
   "metadata": {},
   "outputs": [],
   "source": []
  }
 ],
 "metadata": {
  "kernelspec": {
   "display_name": "Python 3 (ipykernel)",
   "language": "python",
   "name": "python3"
  },
  "language_info": {
   "codemirror_mode": {
    "name": "ipython",
    "version": 3
   },
   "file_extension": ".py",
   "mimetype": "text/x-python",
   "name": "python",
   "nbconvert_exporter": "python",
   "pygments_lexer": "ipython3",
   "version": "3.11.11"
  }
 },
 "nbformat": 4,
 "nbformat_minor": 5
}
