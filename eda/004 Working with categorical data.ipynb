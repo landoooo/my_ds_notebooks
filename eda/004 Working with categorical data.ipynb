{
 "cells": [
  {
   "cell_type": "markdown",
   "id": "d6e1a944-27b5-487a-b767-0f045f3c1ba9",
   "metadata": {},
   "source": [
    "# Working with categorical data\n",
    "\n",
    "Categorical data can be split in 2 different kinds:\n",
    "- Ordinal: having a natural order\n",
    "- Nominal: they cannot be ordered"
   ]
  },
  {
   "cell_type": "code",
   "execution_count": null,
   "id": "528d97ef-fa8c-4905-a86f-4e2be1da1ea4",
   "metadata": {},
   "outputs": [],
   "source": [
    "import pandas as pd \n",
    "import numpy as np\n",
    "import seaborn as sns\n",
    "import matplotlib.pyplot as plt \n",
    "\n",
    "import warnings\n",
    "warnings.filterwarnings('ignore')\n"
   ]
  },
  {
   "cell_type": "code",
   "execution_count": null,
   "id": "10d49d64-aa42-4242-bcde-3efcb2f5c15c",
   "metadata": {},
   "outputs": [],
   "source": [
    "df = pd.read_csv('../data/adult.csv')"
   ]
  },
  {
   "cell_type": "code",
   "execution_count": null,
   "id": "f5f6a16d-c5b5-44ac-b26a-2ba6154dff00",
   "metadata": {},
   "outputs": [],
   "source": [
    "df.info()"
   ]
  },
  {
   "cell_type": "markdown",
   "id": "de8bb620-515c-4a4c-be8e-ed89726a53c6",
   "metadata": {},
   "source": [
    "The object variables contain strings.\n",
    "Pandas try to infer the type of each column. Categories are not directly flagged as categorical data but as strings.\n"
   ]
  },
  {
   "cell_type": "code",
   "execution_count": null,
   "id": "c7e48e1b-4c81-47e2-870b-d159157a5d47",
   "metadata": {},
   "outputs": [],
   "source": [
    "df.describe()"
   ]
  },
  {
   "cell_type": "code",
   "execution_count": null,
   "id": "d77ea749-95b9-4238-8702-67a02ada74be",
   "metadata": {},
   "outputs": [],
   "source": [
    "# What's the amount of different values of each variable?\n",
    "df.nunique()"
   ]
  },
  {
   "cell_type": "code",
   "execution_count": null,
   "id": "647947ca-00cf-4dab-888d-ac799b2dcd75",
   "metadata": {},
   "outputs": [],
   "source": [
    "# What are the different values of a specific variable?\n",
    "df.workclass.value_counts()"
   ]
  },
  {
   "cell_type": "code",
   "execution_count": null,
   "id": "3bc853e1-97fb-4df8-92aa-0962cf1eea0a",
   "metadata": {},
   "outputs": [],
   "source": [
    "# And their relative frequences\n",
    "df.workclass.value_counts(normalize=True)"
   ]
  },
  {
   "cell_type": "markdown",
   "id": "bf91e3a0-2465-45de-93c9-41c8686427e2",
   "metadata": {},
   "source": [
    "Object types can be converted into categorical ones by using the astype method:"
   ]
  },
  {
   "cell_type": "code",
   "execution_count": null,
   "id": "6787eb15-23be-4eb9-b661-f7de032fd8c9",
   "metadata": {},
   "outputs": [],
   "source": [
    "df['marital.status'] = df['marital.status'].astype('category')"
   ]
  },
  {
   "cell_type": "code",
   "execution_count": null,
   "id": "1c975d56-9b08-4d43-ae78-a23f15399f3c",
   "metadata": {},
   "outputs": [],
   "source": [
    "df['marital.status'].dtype"
   ]
  },
  {
   "cell_type": "code",
   "execution_count": null,
   "id": "5c879307-4779-496e-9bb2-125d73823f2a",
   "metadata": {},
   "outputs": [],
   "source": [
    "# Creating categorical series\n",
    "\n",
    "my_data = ['A', 'A', 'B', 'A', 'C', 'B']\n",
    "\n",
    "# Unordered\n",
    "my_series1 = pd.Series(my_data, dtype='category')\n",
    "print(my_series1)"
   ]
  },
  {
   "cell_type": "code",
   "execution_count": null,
   "id": "bda5f8bb-db20-4f31-910b-dac74dc73077",
   "metadata": {},
   "outputs": [],
   "source": [
    "# Ordered\n",
    "my_series2 = pd.Categorical(my_data, categories=[\"C\", \"B\", \"A\"], ordered=True)\n",
    "print(my_series2)"
   ]
  },
  {
   "cell_type": "markdown",
   "id": "b57d60f0-dd68-4c53-9b51-d340851ac37c",
   "metadata": {
    "execution": {
     "iopub.execute_input": "2024-07-05T10:08:43.450738Z",
     "iopub.status.busy": "2024-07-05T10:08:43.450260Z",
     "iopub.status.idle": "2024-07-05T10:08:43.464749Z",
     "shell.execute_reply": "2024-07-05T10:08:43.458371Z",
     "shell.execute_reply.started": "2024-07-05T10:08:43.450705Z"
    }
   },
   "source": [
    "Categorical data helps reducing memory footprint by a lot.\n",
    "\n",
    "In order to benefit from lower memory requirements right from the beginning there is a way to pass the dtypes of the variables when reading from the source:"
   ]
  },
  {
   "cell_type": "code",
   "execution_count": null,
   "id": "0ec8857c-4b90-4961-b11d-fce17d19dce1",
   "metadata": {},
   "outputs": [],
   "source": [
    "df_dtypes={\n",
    "\"marital.status\": \"category\"\n",
    "}\n",
    "\n",
    "df = pd.read_csv('../data/adult.csv', dtype=df_dtypes)\n",
    "\n",
    "df.dtypes\n"
   ]
  },
  {
   "cell_type": "markdown",
   "id": "a94ed91c-ba11-4483-b88c-798cd0944fa9",
   "metadata": {},
   "source": [
    "## Grouping data by categories\n",
    "\n"
   ]
  },
  {
   "cell_type": "code",
   "execution_count": null,
   "id": "10f1b50f-130c-41da-8fe3-cb1fee4f8068",
   "metadata": {},
   "outputs": [],
   "source": [
    "df = pd.read_csv('../data/adult.csv')\n",
    "\n",
    "#the following\n",
    "df1 = df[df[\"income\"]==\"<=50K\"]\n",
    "df2 = df[df[\"income\"]==\">50K\"]\n",
    "#can be replaced by \n",
    "groupby_object = df.groupby(by=[\"income\"])"
   ]
  },
  {
   "cell_type": "code",
   "execution_count": null,
   "id": "9051bcda-4a54-4198-8ee9-4a9847b8ebca",
   "metadata": {},
   "outputs": [],
   "source": [
    "#We can use now functions like countm sum, mean... or our own custom functions\n",
    "groupby_object.size()"
   ]
  },
  {
   "cell_type": "code",
   "execution_count": null,
   "id": "eae8a979-e603-4c8a-ba28-ac24152380fc",
   "metadata": {},
   "outputs": [],
   "source": [
    "groupby_object[[\"education.num\", \"age\"]].sum()"
   ]
  },
  {
   "cell_type": "code",
   "execution_count": null,
   "id": "2311b836-552c-4d99-8c50-1194cd82b1fe",
   "metadata": {},
   "outputs": [],
   "source": [
    "groupby_object = df.groupby(by=[\"income\", \"marital.status\"])"
   ]
  },
  {
   "cell_type": "code",
   "execution_count": null,
   "id": "fbbefb64-c1df-4d0d-91a3-7376c0c29c84",
   "metadata": {},
   "outputs": [],
   "source": [
    "groupby_object[[\"education.num\", \"age\"]].sum()"
   ]
  },
  {
   "cell_type": "markdown",
   "id": "e18cd51d-3a25-40b3-bf84-b0474ec575ed",
   "metadata": {},
   "source": [
    "## Setting categorical variables\n",
    "\n",
    "In this section we are going to see how we can manipulate categories. For the most part we are going to use the *.cat* accessor."
   ]
  },
  {
   "cell_type": "code",
   "execution_count": null,
   "id": "7e551af2-693b-4ea0-9dc6-afa77e2cef2e",
   "metadata": {},
   "outputs": [],
   "source": [
    "dogs = pd.read_csv('../data/ShelterDogs.csv')"
   ]
  },
  {
   "cell_type": "code",
   "execution_count": null,
   "id": "442c7b44-abd2-4bea-b029-38072439fd90",
   "metadata": {},
   "outputs": [],
   "source": [
    "dogs.info()"
   ]
  },
  {
   "cell_type": "code",
   "execution_count": null,
   "id": "81289dd0-3223-4c8e-8ccc-58892f1763b2",
   "metadata": {},
   "outputs": [],
   "source": [
    "dogs[\"coat\"] = dogs[\"coat\"].astype(\"category\")"
   ]
  },
  {
   "cell_type": "code",
   "execution_count": null,
   "id": "607f9ccd-882f-4de8-b479-0e81b9cb55ab",
   "metadata": {},
   "outputs": [],
   "source": [
    "dogs[\"coat\"].value_counts()"
   ]
  },
  {
   "cell_type": "code",
   "execution_count": null,
   "id": "8fa08b69-8b54-48ca-a30b-17435c585c90",
   "metadata": {},
   "outputs": [],
   "source": [
    "# Setting the categories will assing a null categorie to the eventual categories previously assigned but not included in the list\n",
    "dogs[\"coat\"] = dogs[\"coat\"].cat.set_categories(new_categories=[\"short\", \"medium\", \"long\"])"
   ]
  },
  {
   "cell_type": "code",
   "execution_count": null,
   "id": "78b56ad6-bedc-4883-88b3-260d69e6cc5c",
   "metadata": {},
   "outputs": [],
   "source": [
    "dogs[\"coat\"].value_counts(dropna=False)"
   ]
  },
  {
   "cell_type": "markdown",
   "id": "6813cf1b-c415-4da2-96e4-acccb3edfe67",
   "metadata": {},
   "source": [
    "The wirehaired category is now gone"
   ]
  },
  {
   "cell_type": "code",
   "execution_count": null,
   "id": "db2426aa-d4f4-47ec-954e-cdc215ba5e10",
   "metadata": {},
   "outputs": [],
   "source": [
    "dogs[\"coat\"] = dogs[\"coat\"].cat.set_categories(\n",
    "    new_categories=[\"short\", \"medium\", \"long\"], \n",
    "    ordered=True\n",
    ")\n",
    "dogs[\"coat\"].head(3)"
   ]
  },
  {
   "cell_type": "code",
   "execution_count": null,
   "id": "48b8ba44-bc51-45e8-8bbe-06780693e06a",
   "metadata": {},
   "outputs": [],
   "source": [
    "#In the case of likes_people, there is a lot of null values\n",
    "\n",
    "dogs['likes_people'].value_counts(dropna=False)"
   ]
  },
  {
   "cell_type": "code",
   "execution_count": null,
   "id": "9443950e-d2c5-4024-914d-053555795f89",
   "metadata": {},
   "outputs": [],
   "source": [
    "dogs[\"likes_people\"] = dogs[\"likes_people\"].astype(\"category\")\n",
    "dogs[\"likes_people\"] = dogs[\"likes_people\"].cat.add_categories([\"did not check\", \"could not tell\"])"
   ]
  },
  {
   "cell_type": "code",
   "execution_count": null,
   "id": "8a7afee3-dc34-46a2-9e13-429ecf98c92c",
   "metadata": {},
   "outputs": [],
   "source": [
    "dogs[\"likes_people\"].value_counts(dropna=False)"
   ]
  },
  {
   "cell_type": "code",
   "execution_count": null,
   "id": "16fb0a76-8347-4607-9a61-42598a505653",
   "metadata": {},
   "outputs": [],
   "source": [
    "#We can remove categories as well\n",
    "dogs['coat'] = dogs['coat'].cat.remove_categories(removals=['wirehaired'])"
   ]
  },
  {
   "cell_type": "code",
   "execution_count": null,
   "id": "106da7c7-663e-48a5-a900-f3cbd0c17154",
   "metadata": {},
   "outputs": [],
   "source": [
    "dogs['coat'] = dogs['coat'].cat."
   ]
  },
  {
   "cell_type": "markdown",
   "id": "2a1ba9dc-3594-4d54-8cec-ec4a336588ff",
   "metadata": {},
   "source": [
    "## Updating and collapsing categories"
   ]
  },
  {
   "cell_type": "code",
   "execution_count": null,
   "id": "b270fa66-d2c7-4c0f-88a7-6e590ab1d1b9",
   "metadata": {},
   "outputs": [],
   "source": [
    "dogs['breed'] = dogs['breed'].astype('category')"
   ]
  },
  {
   "cell_type": "code",
   "execution_count": null,
   "id": "44ac3f1e-6012-4796-83d5-b80b4c28d755",
   "metadata": {},
   "outputs": [],
   "source": [
    "dogs['breed'].value_counts()"
   ]
  },
  {
   "cell_type": "code",
   "execution_count": null,
   "id": "d7f3460b-3cfe-40fa-9ca6-0ae3990e3992",
   "metadata": {},
   "outputs": [],
   "source": [
    "#Renaming one or more categories\n",
    "dogs['breed'] = dogs['breed'].cat.rename_categories(new_categories={\n",
    "   'Unknown Mix': 'Unknown'\n",
    "})"
   ]
  },
  {
   "cell_type": "code",
   "execution_count": null,
   "id": "2e63ebe4-a9ad-4ad3-b427-08903bb4cc0f",
   "metadata": {},
   "outputs": [],
   "source": [
    "dogs['breed'].value_counts()"
   ]
  },
  {
   "cell_type": "code",
   "execution_count": null,
   "id": "28594d4c-30bc-4584-9d26-a22be6f8d742",
   "metadata": {},
   "outputs": [],
   "source": [
    "# Renaming can be done with lambdas too\n",
    "dogs['sex'] = dogs['sex'].astype('category')\n",
    "dogs['sex'] = dogs['sex'].cat.rename_categories(lambda x: x.title())"
   ]
  },
  {
   "cell_type": "code",
   "execution_count": null,
   "id": "c9e083b3-8717-4310-88bb-fcc5e7c342d5",
   "metadata": {},
   "outputs": [],
   "source": [
    "dogs['sex'].value_counts()"
   ]
  },
  {
   "cell_type": "code",
   "execution_count": null,
   "id": "68e75be5-ac64-4005-b457-daa083c80520",
   "metadata": {},
   "outputs": [],
   "source": [
    "dogs['color'] = dogs['color'].astype(\"category\")\n",
    "print(dogs['color'].cat.categories)"
   ]
  },
  {
   "cell_type": "code",
   "execution_count": null,
   "id": "528099c9-47f7-4890-8b7b-7755b1338f18",
   "metadata": {},
   "outputs": [],
   "source": [
    "update_colors = {\n",
    "    \"black and brown\": \"black\",\n",
    "    \"black and tan\": \"black\",\n",
    "    \"black and white\": \"black\"\n",
    "}"
   ]
  },
  {
   "cell_type": "code",
   "execution_count": null,
   "id": "cdd9b3e5-e09e-47ed-acbe-7d03815dba7b",
   "metadata": {},
   "outputs": [],
   "source": [
    "dogs[\"main_color\"] = dogs[\"color\"].replace(update_colors)"
   ]
  },
  {
   "cell_type": "code",
   "execution_count": null,
   "id": "ba9615cc-58fa-45e3-aed8-06fa78dffaab",
   "metadata": {},
   "outputs": [],
   "source": [
    "dogs[\"main_color\"].value_counts()"
   ]
  },
  {
   "cell_type": "code",
   "execution_count": null,
   "id": "35469049-09bf-4efc-b12e-2f62523abd6d",
   "metadata": {},
   "outputs": [],
   "source": [
    "dogs[\"main_color\"].dtype"
   ]
  },
  {
   "cell_type": "code",
   "execution_count": null,
   "id": "8b00f262-3fe7-4536-9a72-92ff7cb242dc",
   "metadata": {},
   "outputs": [],
   "source": []
  }
 ],
 "metadata": {
  "kernelspec": {
   "display_name": "Python 3 (ipykernel)",
   "language": "python",
   "name": "python3"
  },
  "language_info": {
   "codemirror_mode": {
    "name": "ipython",
    "version": 3
   },
   "file_extension": ".py",
   "mimetype": "text/x-python",
   "name": "python",
   "nbconvert_exporter": "python",
   "pygments_lexer": "ipython3",
   "version": "3.12.4"
  }
 },
 "nbformat": 4,
 "nbformat_minor": 5
}
