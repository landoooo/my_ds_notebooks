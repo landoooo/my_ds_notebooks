{
 "cells": [
  {
   "cell_type": "markdown",
   "id": "d6e1a944-27b5-487a-b767-0f045f3c1ba9",
   "metadata": {},
   "source": [
    "# Working with categorical data\n",
    "\n",
    "Categorical data can be split in 2 different kinds:\n",
    "- Ordinal: having a natural order\n",
    "- Nominal: they cannot be ordered"
   ]
  },
  {
   "cell_type": "code",
   "execution_count": null,
   "id": "528d97ef-fa8c-4905-a86f-4e2be1da1ea4",
   "metadata": {},
   "outputs": [],
   "source": [
    "import pandas as pd \n",
    "import numpy as np\n",
    "import seaborn as sns\n",
    "import matplotlib.pyplot as plt \n",
    "\n",
    "import warnings\n",
    "warnings.filterwarnings('ignore')\n"
   ]
  },
  {
   "cell_type": "code",
   "execution_count": null,
   "id": "10d49d64-aa42-4242-bcde-3efcb2f5c15c",
   "metadata": {},
   "outputs": [],
   "source": [
    "df = pd.read_csv('../data/adult.csv')"
   ]
  },
  {
   "cell_type": "code",
   "execution_count": null,
   "id": "f5f6a16d-c5b5-44ac-b26a-2ba6154dff00",
   "metadata": {},
   "outputs": [],
   "source": [
    "df.info()"
   ]
  },
  {
   "cell_type": "markdown",
   "id": "de8bb620-515c-4a4c-be8e-ed89726a53c6",
   "metadata": {},
   "source": [
    "The object variables contain strings.\n",
    "Pandas try to infer the type of each column. Categories are not directly flagged as categorical data but as strings.\n"
   ]
  },
  {
   "cell_type": "code",
   "execution_count": null,
   "id": "c7e48e1b-4c81-47e2-870b-d159157a5d47",
   "metadata": {},
   "outputs": [],
   "source": [
    "df.describe()"
   ]
  },
  {
   "cell_type": "code",
   "execution_count": null,
   "id": "d77ea749-95b9-4238-8702-67a02ada74be",
   "metadata": {},
   "outputs": [],
   "source": [
    "# What's the amount of different values of each variable?\n",
    "df.nunique()"
   ]
  },
  {
   "cell_type": "code",
   "execution_count": null,
   "id": "647947ca-00cf-4dab-888d-ac799b2dcd75",
   "metadata": {},
   "outputs": [],
   "source": [
    "# What are the different values of a specific variable?\n",
    "df.workclass.value_counts()"
   ]
  },
  {
   "cell_type": "code",
   "execution_count": null,
   "id": "3bc853e1-97fb-4df8-92aa-0962cf1eea0a",
   "metadata": {},
   "outputs": [],
   "source": [
    "# And their relative frequences\n",
    "df.workclass.value_counts(normalize=True)"
   ]
  },
  {
   "cell_type": "markdown",
   "id": "bf91e3a0-2465-45de-93c9-41c8686427e2",
   "metadata": {},
   "source": [
    "Object types can be converted into categorical ones by using the astype method:"
   ]
  },
  {
   "cell_type": "code",
   "execution_count": null,
   "id": "6787eb15-23be-4eb9-b661-f7de032fd8c9",
   "metadata": {},
   "outputs": [],
   "source": [
    "df['marital.status'] = df['marital.status'].astype('category')"
   ]
  },
  {
   "cell_type": "code",
   "execution_count": null,
   "id": "1c975d56-9b08-4d43-ae78-a23f15399f3c",
   "metadata": {},
   "outputs": [],
   "source": [
    "df['marital.status'].dtype"
   ]
  },
  {
   "cell_type": "code",
   "execution_count": null,
   "id": "5c879307-4779-496e-9bb2-125d73823f2a",
   "metadata": {},
   "outputs": [],
   "source": [
    "# Creating categorical series\n",
    "\n",
    "my_data = ['A', 'A', 'B', 'A', 'C', 'B']\n",
    "\n",
    "# Unordered\n",
    "my_series1 = pd.Series(my_data, dtype='category')\n",
    "print(my_series1)"
   ]
  },
  {
   "cell_type": "code",
   "execution_count": null,
   "id": "bda5f8bb-db20-4f31-910b-dac74dc73077",
   "metadata": {},
   "outputs": [],
   "source": [
    "# Ordered\n",
    "my_series2 = pd.Categorical(my_data, categories=[\"C\", \"B\", \"A\"], ordered=True)\n",
    "print(my_series2)"
   ]
  },
  {
   "cell_type": "markdown",
   "id": "b57d60f0-dd68-4c53-9b51-d340851ac37c",
   "metadata": {
    "execution": {
     "iopub.execute_input": "2024-07-05T10:08:43.450738Z",
     "iopub.status.busy": "2024-07-05T10:08:43.450260Z",
     "iopub.status.idle": "2024-07-05T10:08:43.464749Z",
     "shell.execute_reply": "2024-07-05T10:08:43.458371Z",
     "shell.execute_reply.started": "2024-07-05T10:08:43.450705Z"
    }
   },
   "source": [
    "Categorical data helps reducing memory footprint by a lot.\n",
    "\n",
    "In order to benefit from lower memory requirements right from the beginning there is a way to pass the dtypes of the variables when reading from the source:"
   ]
  },
  {
   "cell_type": "code",
   "execution_count": null,
   "id": "0ec8857c-4b90-4961-b11d-fce17d19dce1",
   "metadata": {},
   "outputs": [],
   "source": [
    "df_dtypes={\n",
    "\"marital.status\": \"category\"\n",
    "}\n",
    "\n",
    "df = pd.read_csv('../data/adult.csv', dtype=df_dtypes)\n",
    "\n",
    "df.dtypes\n"
   ]
  },
  {
   "cell_type": "markdown",
   "id": "a94ed91c-ba11-4483-b88c-798cd0944fa9",
   "metadata": {},
   "source": [
    "## Grouping data by categories\n",
    "\n"
   ]
  },
  {
   "cell_type": "code",
   "execution_count": null,
   "id": "10f1b50f-130c-41da-8fe3-cb1fee4f8068",
   "metadata": {},
   "outputs": [],
   "source": [
    "df = pd.read_csv('../data/adult.csv')\n",
    "\n",
    "#the following\n",
    "df1 = df[df[\"income\"]==\"<=50K\"]\n",
    "df2 = df[df[\"income\"]==\">50K\"]\n",
    "#can be replaced by \n",
    "groupby_object = df.groupby(by=[\"income\"])"
   ]
  },
  {
   "cell_type": "code",
   "execution_count": null,
   "id": "9051bcda-4a54-4198-8ee9-4a9847b8ebca",
   "metadata": {},
   "outputs": [],
   "source": [
    "#We can use now functions like countm sum, mean... or our own custom functions\n",
    "groupby_object.size()"
   ]
  },
  {
   "cell_type": "code",
   "execution_count": null,
   "id": "eae8a979-e603-4c8a-ba28-ac24152380fc",
   "metadata": {},
   "outputs": [],
   "source": [
    "groupby_object[[\"education.num\", \"age\"]].sum()"
   ]
  },
  {
   "cell_type": "code",
   "execution_count": null,
   "id": "2311b836-552c-4d99-8c50-1194cd82b1fe",
   "metadata": {},
   "outputs": [],
   "source": [
    "groupby_object = df.groupby(by=[\"income\", \"marital.status\"])"
   ]
  },
  {
   "cell_type": "code",
   "execution_count": null,
   "id": "fbbefb64-c1df-4d0d-91a3-7376c0c29c84",
   "metadata": {},
   "outputs": [],
   "source": [
    "groupby_object[[\"education.num\", \"age\"]].sum()"
   ]
  },
  {
   "cell_type": "markdown",
   "id": "e18cd51d-3a25-40b3-bf84-b0474ec575ed",
   "metadata": {},
   "source": [
    "## Setting categorical variables\n",
    "\n",
    "In this section we are going to see how we can manipulate categories. For the most part we are going to use the *.cat* accessor."
   ]
  },
  {
   "cell_type": "code",
   "execution_count": null,
   "id": "7e551af2-693b-4ea0-9dc6-afa77e2cef2e",
   "metadata": {},
   "outputs": [],
   "source": [
    "dogs = pd.read_csv('../data/ShelterDogs.csv')"
   ]
  },
  {
   "cell_type": "code",
   "execution_count": null,
   "id": "442c7b44-abd2-4bea-b029-38072439fd90",
   "metadata": {},
   "outputs": [],
   "source": [
    "dogs.info()"
   ]
  },
  {
   "cell_type": "code",
   "execution_count": null,
   "id": "81289dd0-3223-4c8e-8ccc-58892f1763b2",
   "metadata": {},
   "outputs": [],
   "source": [
    "dogs[\"coat\"] = dogs[\"coat\"].astype(\"category\")"
   ]
  },
  {
   "cell_type": "code",
   "execution_count": null,
   "id": "607f9ccd-882f-4de8-b479-0e81b9cb55ab",
   "metadata": {},
   "outputs": [],
   "source": [
    "dogs[\"coat\"].value_counts()"
   ]
  },
  {
   "cell_type": "code",
   "execution_count": null,
   "id": "8fa08b69-8b54-48ca-a30b-17435c585c90",
   "metadata": {},
   "outputs": [],
   "source": [
    "# Setting the categories will assing a null categorie to the eventual categories previously assigned but not included in the list\n",
    "dogs[\"coat\"] = dogs[\"coat\"].cat.set_categories(new_categories=[\"short\", \"medium\", \"long\"])"
   ]
  },
  {
   "cell_type": "code",
   "execution_count": null,
   "id": "78b56ad6-bedc-4883-88b3-260d69e6cc5c",
   "metadata": {},
   "outputs": [],
   "source": [
    "dogs[\"coat\"].value_counts(dropna=False)"
   ]
  },
  {
   "cell_type": "markdown",
   "id": "6813cf1b-c415-4da2-96e4-acccb3edfe67",
   "metadata": {},
   "source": [
    "The wirehaired category is now gone"
   ]
  },
  {
   "cell_type": "code",
   "execution_count": null,
   "id": "db2426aa-d4f4-47ec-954e-cdc215ba5e10",
   "metadata": {},
   "outputs": [],
   "source": [
    "dogs[\"coat\"] = dogs[\"coat\"].cat.set_categories(\n",
    "    new_categories=[\"short\", \"medium\", \"long\"], \n",
    "    ordered=True\n",
    ")\n",
    "dogs[\"coat\"].head(3)"
   ]
  },
  {
   "cell_type": "code",
   "execution_count": null,
   "id": "48b8ba44-bc51-45e8-8bbe-06780693e06a",
   "metadata": {},
   "outputs": [],
   "source": [
    "#In the case of likes_people, there is a lot of null values\n",
    "\n",
    "dogs['likes_people'].value_counts(dropna=False)"
   ]
  },
  {
   "cell_type": "code",
   "execution_count": null,
   "id": "9443950e-d2c5-4024-914d-053555795f89",
   "metadata": {},
   "outputs": [],
   "source": [
    "dogs[\"likes_people\"] = dogs[\"likes_people\"].astype(\"category\")\n",
    "dogs[\"likes_people\"] = dogs[\"likes_people\"].cat.add_categories([\"did not check\", \"could not tell\"])"
   ]
  },
  {
   "cell_type": "code",
   "execution_count": null,
   "id": "8a7afee3-dc34-46a2-9e13-429ecf98c92c",
   "metadata": {},
   "outputs": [],
   "source": [
    "dogs[\"likes_people\"].value_counts(dropna=False)"
   ]
  },
  {
   "cell_type": "code",
   "execution_count": null,
   "id": "16fb0a76-8347-4607-9a61-42598a505653",
   "metadata": {},
   "outputs": [],
   "source": [
    "#We can remove categories as well\n",
    "dogs['coat'] = dogs['coat'].cat.remove_categories(removals=['wirehaired'])"
   ]
  },
  {
   "cell_type": "markdown",
   "id": "2a1ba9dc-3594-4d54-8cec-ec4a336588ff",
   "metadata": {},
   "source": [
    "## Updating and collapsing categories"
   ]
  },
  {
   "cell_type": "code",
   "execution_count": null,
   "id": "b270fa66-d2c7-4c0f-88a7-6e590ab1d1b9",
   "metadata": {},
   "outputs": [],
   "source": [
    "dogs['breed'] = dogs['breed'].astype('category')"
   ]
  },
  {
   "cell_type": "code",
   "execution_count": null,
   "id": "44ac3f1e-6012-4796-83d5-b80b4c28d755",
   "metadata": {},
   "outputs": [],
   "source": [
    "dogs['breed'].value_counts()"
   ]
  },
  {
   "cell_type": "code",
   "execution_count": null,
   "id": "d7f3460b-3cfe-40fa-9ca6-0ae3990e3992",
   "metadata": {},
   "outputs": [],
   "source": [
    "#Renaming one or more categories\n",
    "dogs['breed'] = dogs['breed'].cat.rename_categories(new_categories={\n",
    "   'Unknown Mix': 'Unknown'\n",
    "})"
   ]
  },
  {
   "cell_type": "code",
   "execution_count": null,
   "id": "2e63ebe4-a9ad-4ad3-b427-08903bb4cc0f",
   "metadata": {},
   "outputs": [],
   "source": [
    "dogs['breed'].value_counts()"
   ]
  },
  {
   "cell_type": "code",
   "execution_count": null,
   "id": "28594d4c-30bc-4584-9d26-a22be6f8d742",
   "metadata": {},
   "outputs": [],
   "source": [
    "# Renaming can be done with lambdas too\n",
    "dogs['sex'] = dogs['sex'].astype('category')\n",
    "dogs['sex'] = dogs['sex'].cat.rename_categories(lambda x: x.title())"
   ]
  },
  {
   "cell_type": "code",
   "execution_count": null,
   "id": "c9e083b3-8717-4310-88bb-fcc5e7c342d5",
   "metadata": {},
   "outputs": [],
   "source": [
    "dogs['sex'].value_counts()"
   ]
  },
  {
   "cell_type": "code",
   "execution_count": null,
   "id": "68e75be5-ac64-4005-b457-daa083c80520",
   "metadata": {},
   "outputs": [],
   "source": [
    "dogs['color'] = dogs['color'].astype(\"category\")\n",
    "print(dogs['color'].cat.categories)"
   ]
  },
  {
   "cell_type": "code",
   "execution_count": null,
   "id": "528099c9-47f7-4890-8b7b-7755b1338f18",
   "metadata": {},
   "outputs": [],
   "source": [
    "update_colors = {\n",
    "    \"black and brown\": \"black\",\n",
    "    \"black and tan\": \"black\",\n",
    "    \"black and white\": \"black\"\n",
    "}"
   ]
  },
  {
   "cell_type": "code",
   "execution_count": null,
   "id": "cdd9b3e5-e09e-47ed-acbe-7d03815dba7b",
   "metadata": {},
   "outputs": [],
   "source": [
    "dogs[\"main_color\"] = dogs[\"color\"].replace(update_colors)"
   ]
  },
  {
   "cell_type": "code",
   "execution_count": null,
   "id": "ba9615cc-58fa-45e3-aed8-06fa78dffaab",
   "metadata": {},
   "outputs": [],
   "source": [
    "dogs[\"main_color\"].value_counts()"
   ]
  },
  {
   "cell_type": "code",
   "execution_count": null,
   "id": "35469049-09bf-4efc-b12e-2f62523abd6d",
   "metadata": {},
   "outputs": [],
   "source": [
    "dogs[\"main_color\"].dtype"
   ]
  },
  {
   "cell_type": "markdown",
   "id": "2ae53c2e-f18e-43ab-b2f1-13e48e0144a2",
   "metadata": {
    "execution": {
     "iopub.execute_input": "2024-07-05T18:47:46.504184Z",
     "iopub.status.busy": "2024-07-05T18:47:46.503707Z",
     "iopub.status.idle": "2024-07-05T18:47:46.511172Z",
     "shell.execute_reply": "2024-07-05T18:47:46.510386Z",
     "shell.execute_reply.started": "2024-07-05T18:47:46.504151Z"
    }
   },
   "source": [
    "## Reordering Categories"
   ]
  },
  {
   "cell_type": "code",
   "execution_count": null,
   "id": "f8a221ac-b7b5-48ac-ac6e-60a8b2d05add",
   "metadata": {},
   "outputs": [],
   "source": [
    "dogs = pd.read_csv('../data/ShelterDogs.csv')\n",
    "\n",
    "dogs['coat'] = dogs['coat'].astype('category')\n",
    "dogs['coat'] = dogs['coat'].cat.reorder_categories(\n",
    "    new_categories=['short', 'medium', 'wirehaired', 'long'],\n",
    "    ordered=True\n",
    ")\n",
    "\n",
    "dogs['coat'].cat.categories"
   ]
  },
  {
   "cell_type": "code",
   "execution_count": null,
   "id": "9f1792d8-5868-43e4-b3de-72286d405232",
   "metadata": {},
   "outputs": [],
   "source": [
    "#The order is taken into account to display the results of the grouping\n",
    "dogs.groupby(by='coat')['age'].mean()"
   ]
  },
  {
   "cell_type": "markdown",
   "id": "d146355a-e182-4e95-a479-17b7c8649d85",
   "metadata": {
    "execution": {
     "iopub.execute_input": "2024-07-05T19:14:33.531306Z",
     "iopub.status.busy": "2024-07-05T19:14:33.530823Z",
     "iopub.status.idle": "2024-07-05T19:14:33.535442Z",
     "shell.execute_reply": "2024-07-05T19:14:33.534671Z",
     "shell.execute_reply.started": "2024-07-05T19:14:33.531272Z"
    }
   },
   "source": [
    "## Cleaning and accessing data\n",
    "\n",
    "There are several kinds of issues we can face when dealing with categorical data:\n",
    "- Inconsistent values\n",
    "- Misspelled values\n",
    "- Wrong dtype after corrections\n",
    "\n",
    "To identify them we can use either the cat.categories or the value_counts method.\n",
    "\n",
    "For fixing the inconsistent values we can use the same methods as for fixing strings:\n",
    "- str.strip()\n",
    "- str.title(), upper() or lower()\n",
    "- str.mapping(dict)\n",
    "\n",
    "Dont forget to check the dtype after the change\n",
    "\n",
    "To access data we can use .str.contains(string or regex)"
   ]
  },
  {
   "cell_type": "code",
   "execution_count": null,
   "id": "3ad577a1-b269-4c16-9298-6263c5c96668",
   "metadata": {},
   "outputs": [],
   "source": [
    "# Accessing data with loc\n",
    "\n",
    "dogs.loc[dogs['get_along_cats']=='yes', \"size\"]"
   ]
  },
  {
   "cell_type": "code",
   "execution_count": null,
   "id": "1e697265-0913-4334-817c-7c8cdbf40ff7",
   "metadata": {},
   "outputs": [],
   "source": [
    "dogs.loc[dogs['get_along_cats']=='yes', \"size\"].value_counts(sort=False)"
   ]
  },
  {
   "cell_type": "markdown",
   "id": "70e32ba3-12c8-45f7-96fd-d618fed8161c",
   "metadata": {
    "execution": {
     "iopub.execute_input": "2024-07-06T12:31:56.424425Z",
     "iopub.status.busy": "2024-07-06T12:31:56.423849Z",
     "iopub.status.idle": "2024-07-06T12:31:56.435453Z",
     "shell.execute_reply": "2024-07-06T12:31:56.434575Z",
     "shell.execute_reply.started": "2024-07-06T12:31:56.424388Z"
    }
   },
   "source": [
    "## Using categorical data in visualization\n",
    "\n",
    "Seaborn has a kind of plot for categories, called catplot"
   ]
  },
  {
   "cell_type": "code",
   "execution_count": 123,
   "id": "cc167793-8fb2-4293-b97f-52a720032250",
   "metadata": {
    "execution": {
     "iopub.execute_input": "2024-07-06T12:35:48.691806Z",
     "iopub.status.busy": "2024-07-06T12:35:48.691275Z",
     "iopub.status.idle": "2024-07-06T12:35:48.707409Z",
     "shell.execute_reply": "2024-07-06T12:35:48.706372Z",
     "shell.execute_reply.started": "2024-07-06T12:35:48.691773Z"
    }
   },
   "outputs": [],
   "source": [
    "df = pd.read_csv('../data/lasvegas_tripadvisor.csv')"
   ]
  },
  {
   "cell_type": "code",
   "execution_count": 124,
   "id": "5773c54c-781e-4b4e-a12a-75f14a00df0a",
   "metadata": {
    "execution": {
     "iopub.execute_input": "2024-07-06T12:35:50.534900Z",
     "iopub.status.busy": "2024-07-06T12:35:50.534397Z",
     "iopub.status.idle": "2024-07-06T12:35:50.562660Z",
     "shell.execute_reply": "2024-07-06T12:35:50.562022Z",
     "shell.execute_reply.started": "2024-07-06T12:35:50.534865Z"
    }
   },
   "outputs": [
    {
     "data": {
      "text/html": [
       "<div>\n",
       "<style scoped>\n",
       "    .dataframe tbody tr th:only-of-type {\n",
       "        vertical-align: middle;\n",
       "    }\n",
       "\n",
       "    .dataframe tbody tr th {\n",
       "        vertical-align: top;\n",
       "    }\n",
       "\n",
       "    .dataframe thead th {\n",
       "        text-align: right;\n",
       "    }\n",
       "</style>\n",
       "<table border=\"1\" class=\"dataframe\">\n",
       "  <thead>\n",
       "    <tr style=\"text-align: right;\">\n",
       "      <th></th>\n",
       "      <th>User country</th>\n",
       "      <th>Nr. reviews</th>\n",
       "      <th>Nr. hotel reviews</th>\n",
       "      <th>Helpful votes</th>\n",
       "      <th>Score</th>\n",
       "      <th>Period of stay</th>\n",
       "      <th>Traveler type</th>\n",
       "      <th>Pool</th>\n",
       "      <th>Gym</th>\n",
       "      <th>Tennis court</th>\n",
       "      <th>Spa</th>\n",
       "      <th>Casino</th>\n",
       "      <th>Free internet</th>\n",
       "      <th>Hotel name</th>\n",
       "      <th>Hotel stars</th>\n",
       "      <th>Nr. rooms</th>\n",
       "      <th>User continent</th>\n",
       "      <th>Member years</th>\n",
       "      <th>Review month</th>\n",
       "      <th>Review weekday</th>\n",
       "    </tr>\n",
       "  </thead>\n",
       "  <tbody>\n",
       "    <tr>\n",
       "      <th>0</th>\n",
       "      <td>USA</td>\n",
       "      <td>11</td>\n",
       "      <td>4</td>\n",
       "      <td>13</td>\n",
       "      <td>5</td>\n",
       "      <td>Dec-Feb</td>\n",
       "      <td>Friends</td>\n",
       "      <td>NO</td>\n",
       "      <td>YES</td>\n",
       "      <td>NO</td>\n",
       "      <td>NO</td>\n",
       "      <td>YES</td>\n",
       "      <td>YES</td>\n",
       "      <td>Circus Circus Hotel &amp; Casino Las Vegas</td>\n",
       "      <td>3</td>\n",
       "      <td>3773</td>\n",
       "      <td>North America</td>\n",
       "      <td>9</td>\n",
       "      <td>January</td>\n",
       "      <td>Thursday</td>\n",
       "    </tr>\n",
       "    <tr>\n",
       "      <th>1</th>\n",
       "      <td>USA</td>\n",
       "      <td>119</td>\n",
       "      <td>21</td>\n",
       "      <td>75</td>\n",
       "      <td>3</td>\n",
       "      <td>Dec-Feb</td>\n",
       "      <td>Business</td>\n",
       "      <td>NO</td>\n",
       "      <td>YES</td>\n",
       "      <td>NO</td>\n",
       "      <td>NO</td>\n",
       "      <td>YES</td>\n",
       "      <td>YES</td>\n",
       "      <td>Circus Circus Hotel &amp; Casino Las Vegas</td>\n",
       "      <td>3</td>\n",
       "      <td>3773</td>\n",
       "      <td>North America</td>\n",
       "      <td>3</td>\n",
       "      <td>January</td>\n",
       "      <td>Friday</td>\n",
       "    </tr>\n",
       "    <tr>\n",
       "      <th>2</th>\n",
       "      <td>USA</td>\n",
       "      <td>36</td>\n",
       "      <td>9</td>\n",
       "      <td>25</td>\n",
       "      <td>5</td>\n",
       "      <td>Mar-May</td>\n",
       "      <td>Families</td>\n",
       "      <td>NO</td>\n",
       "      <td>YES</td>\n",
       "      <td>NO</td>\n",
       "      <td>NO</td>\n",
       "      <td>YES</td>\n",
       "      <td>YES</td>\n",
       "      <td>Circus Circus Hotel &amp; Casino Las Vegas</td>\n",
       "      <td>3</td>\n",
       "      <td>3773</td>\n",
       "      <td>North America</td>\n",
       "      <td>2</td>\n",
       "      <td>February</td>\n",
       "      <td>Saturday</td>\n",
       "    </tr>\n",
       "    <tr>\n",
       "      <th>3</th>\n",
       "      <td>UK</td>\n",
       "      <td>14</td>\n",
       "      <td>7</td>\n",
       "      <td>14</td>\n",
       "      <td>4</td>\n",
       "      <td>Mar-May</td>\n",
       "      <td>Friends</td>\n",
       "      <td>NO</td>\n",
       "      <td>YES</td>\n",
       "      <td>NO</td>\n",
       "      <td>NO</td>\n",
       "      <td>YES</td>\n",
       "      <td>YES</td>\n",
       "      <td>Circus Circus Hotel &amp; Casino Las Vegas</td>\n",
       "      <td>3</td>\n",
       "      <td>3773</td>\n",
       "      <td>Europe</td>\n",
       "      <td>6</td>\n",
       "      <td>February</td>\n",
       "      <td>Friday</td>\n",
       "    </tr>\n",
       "    <tr>\n",
       "      <th>4</th>\n",
       "      <td>Canada</td>\n",
       "      <td>5</td>\n",
       "      <td>5</td>\n",
       "      <td>2</td>\n",
       "      <td>4</td>\n",
       "      <td>Mar-May</td>\n",
       "      <td>Solo</td>\n",
       "      <td>NO</td>\n",
       "      <td>YES</td>\n",
       "      <td>NO</td>\n",
       "      <td>NO</td>\n",
       "      <td>YES</td>\n",
       "      <td>YES</td>\n",
       "      <td>Circus Circus Hotel &amp; Casino Las Vegas</td>\n",
       "      <td>3</td>\n",
       "      <td>3773</td>\n",
       "      <td>North America</td>\n",
       "      <td>7</td>\n",
       "      <td>March</td>\n",
       "      <td>Tuesday</td>\n",
       "    </tr>\n",
       "    <tr>\n",
       "      <th>...</th>\n",
       "      <td>...</td>\n",
       "      <td>...</td>\n",
       "      <td>...</td>\n",
       "      <td>...</td>\n",
       "      <td>...</td>\n",
       "      <td>...</td>\n",
       "      <td>...</td>\n",
       "      <td>...</td>\n",
       "      <td>...</td>\n",
       "      <td>...</td>\n",
       "      <td>...</td>\n",
       "      <td>...</td>\n",
       "      <td>...</td>\n",
       "      <td>...</td>\n",
       "      <td>...</td>\n",
       "      <td>...</td>\n",
       "      <td>...</td>\n",
       "      <td>...</td>\n",
       "      <td>...</td>\n",
       "      <td>...</td>\n",
       "    </tr>\n",
       "    <tr>\n",
       "      <th>499</th>\n",
       "      <td>UK</td>\n",
       "      <td>15</td>\n",
       "      <td>4</td>\n",
       "      <td>8</td>\n",
       "      <td>5</td>\n",
       "      <td>Sep-Nov</td>\n",
       "      <td>Couples</td>\n",
       "      <td>YES</td>\n",
       "      <td>YES</td>\n",
       "      <td>NO</td>\n",
       "      <td>YES</td>\n",
       "      <td>YES</td>\n",
       "      <td>YES</td>\n",
       "      <td>The Westin las Vegas Hotel Casino &amp; Spa</td>\n",
       "      <td>4</td>\n",
       "      <td>826</td>\n",
       "      <td>Europe</td>\n",
       "      <td>1</td>\n",
       "      <td>October</td>\n",
       "      <td>Sunday</td>\n",
       "    </tr>\n",
       "    <tr>\n",
       "      <th>500</th>\n",
       "      <td>Canada</td>\n",
       "      <td>50</td>\n",
       "      <td>13</td>\n",
       "      <td>29</td>\n",
       "      <td>4</td>\n",
       "      <td>Sep-Nov</td>\n",
       "      <td>Couples</td>\n",
       "      <td>YES</td>\n",
       "      <td>YES</td>\n",
       "      <td>NO</td>\n",
       "      <td>YES</td>\n",
       "      <td>YES</td>\n",
       "      <td>YES</td>\n",
       "      <td>The Westin las Vegas Hotel Casino &amp; Spa</td>\n",
       "      <td>4</td>\n",
       "      <td>826</td>\n",
       "      <td>North America</td>\n",
       "      <td>8</td>\n",
       "      <td>November</td>\n",
       "      <td>Thursday</td>\n",
       "    </tr>\n",
       "    <tr>\n",
       "      <th>501</th>\n",
       "      <td>USA</td>\n",
       "      <td>154</td>\n",
       "      <td>23</td>\n",
       "      <td>31</td>\n",
       "      <td>4</td>\n",
       "      <td>Sep-Nov</td>\n",
       "      <td>Friends</td>\n",
       "      <td>YES</td>\n",
       "      <td>YES</td>\n",
       "      <td>NO</td>\n",
       "      <td>YES</td>\n",
       "      <td>YES</td>\n",
       "      <td>YES</td>\n",
       "      <td>The Westin las Vegas Hotel Casino &amp; Spa</td>\n",
       "      <td>4</td>\n",
       "      <td>826</td>\n",
       "      <td>North America</td>\n",
       "      <td>4</td>\n",
       "      <td>November</td>\n",
       "      <td>Thursday</td>\n",
       "    </tr>\n",
       "    <tr>\n",
       "      <th>502</th>\n",
       "      <td>USA</td>\n",
       "      <td>9</td>\n",
       "      <td>6</td>\n",
       "      <td>5</td>\n",
       "      <td>2</td>\n",
       "      <td>Dec-Feb</td>\n",
       "      <td>Families</td>\n",
       "      <td>YES</td>\n",
       "      <td>YES</td>\n",
       "      <td>NO</td>\n",
       "      <td>YES</td>\n",
       "      <td>YES</td>\n",
       "      <td>YES</td>\n",
       "      <td>The Westin las Vegas Hotel Casino &amp; Spa</td>\n",
       "      <td>4</td>\n",
       "      <td>826</td>\n",
       "      <td>North America</td>\n",
       "      <td>9</td>\n",
       "      <td>December</td>\n",
       "      <td>Wednesday</td>\n",
       "    </tr>\n",
       "    <tr>\n",
       "      <th>503</th>\n",
       "      <td>USA</td>\n",
       "      <td>20</td>\n",
       "      <td>19</td>\n",
       "      <td>112</td>\n",
       "      <td>4</td>\n",
       "      <td>Dec-Feb</td>\n",
       "      <td>Families</td>\n",
       "      <td>YES</td>\n",
       "      <td>YES</td>\n",
       "      <td>NO</td>\n",
       "      <td>YES</td>\n",
       "      <td>YES</td>\n",
       "      <td>YES</td>\n",
       "      <td>The Westin las Vegas Hotel Casino &amp; Spa</td>\n",
       "      <td>4</td>\n",
       "      <td>826</td>\n",
       "      <td>North America</td>\n",
       "      <td>5</td>\n",
       "      <td>December</td>\n",
       "      <td>Tuesday</td>\n",
       "    </tr>\n",
       "  </tbody>\n",
       "</table>\n",
       "<p>504 rows × 20 columns</p>\n",
       "</div>"
      ],
      "text/plain": [
       "    User country  Nr. reviews  Nr. hotel reviews  Helpful votes  Score  \\\n",
       "0            USA           11                  4             13      5   \n",
       "1            USA          119                 21             75      3   \n",
       "2            USA           36                  9             25      5   \n",
       "3             UK           14                  7             14      4   \n",
       "4         Canada            5                  5              2      4   \n",
       "..           ...          ...                ...            ...    ...   \n",
       "499           UK           15                  4              8      5   \n",
       "500       Canada           50                 13             29      4   \n",
       "501          USA          154                 23             31      4   \n",
       "502          USA            9                  6              5      2   \n",
       "503          USA           20                 19            112      4   \n",
       "\n",
       "    Period of stay Traveler type Pool  Gym Tennis court  Spa Casino  \\\n",
       "0          Dec-Feb       Friends   NO  YES           NO   NO    YES   \n",
       "1          Dec-Feb      Business   NO  YES           NO   NO    YES   \n",
       "2          Mar-May      Families   NO  YES           NO   NO    YES   \n",
       "3          Mar-May       Friends   NO  YES           NO   NO    YES   \n",
       "4          Mar-May          Solo   NO  YES           NO   NO    YES   \n",
       "..             ...           ...  ...  ...          ...  ...    ...   \n",
       "499        Sep-Nov       Couples  YES  YES           NO  YES    YES   \n",
       "500        Sep-Nov       Couples  YES  YES           NO  YES    YES   \n",
       "501        Sep-Nov       Friends  YES  YES           NO  YES    YES   \n",
       "502        Dec-Feb      Families  YES  YES           NO  YES    YES   \n",
       "503        Dec-Feb      Families  YES  YES           NO  YES    YES   \n",
       "\n",
       "    Free internet                               Hotel name  Hotel stars  \\\n",
       "0             YES   Circus Circus Hotel & Casino Las Vegas            3   \n",
       "1             YES   Circus Circus Hotel & Casino Las Vegas            3   \n",
       "2             YES   Circus Circus Hotel & Casino Las Vegas            3   \n",
       "3             YES   Circus Circus Hotel & Casino Las Vegas            3   \n",
       "4             YES   Circus Circus Hotel & Casino Las Vegas            3   \n",
       "..            ...                                      ...          ...   \n",
       "499           YES  The Westin las Vegas Hotel Casino & Spa            4   \n",
       "500           YES  The Westin las Vegas Hotel Casino & Spa            4   \n",
       "501           YES  The Westin las Vegas Hotel Casino & Spa            4   \n",
       "502           YES  The Westin las Vegas Hotel Casino & Spa            4   \n",
       "503           YES  The Westin las Vegas Hotel Casino & Spa            4   \n",
       "\n",
       "     Nr. rooms User continent  Member years Review month Review weekday  \n",
       "0         3773  North America             9      January       Thursday  \n",
       "1         3773  North America             3      January         Friday  \n",
       "2         3773  North America             2     February       Saturday  \n",
       "3         3773         Europe             6     February         Friday  \n",
       "4         3773  North America             7        March        Tuesday  \n",
       "..         ...            ...           ...          ...            ...  \n",
       "499        826         Europe             1      October         Sunday  \n",
       "500        826  North America             8     November       Thursday  \n",
       "501        826  North America             4     November       Thursday  \n",
       "502        826  North America             9     December      Wednesday  \n",
       "503        826  North America             5     December        Tuesday  \n",
       "\n",
       "[504 rows x 20 columns]"
      ]
     },
     "execution_count": 124,
     "metadata": {},
     "output_type": "execute_result"
    }
   ],
   "source": [
    "df"
   ]
  },
  {
   "cell_type": "code",
   "execution_count": 125,
   "id": "68cb95f7-65e0-4b1b-8dda-4b3eb774bb00",
   "metadata": {
    "execution": {
     "iopub.execute_input": "2024-07-06T12:36:12.021078Z",
     "iopub.status.busy": "2024-07-06T12:36:12.020594Z",
     "iopub.status.idle": "2024-07-06T12:36:12.084130Z",
     "shell.execute_reply": "2024-07-06T12:36:12.054228Z",
     "shell.execute_reply.started": "2024-07-06T12:36:12.021046Z"
    }
   },
   "outputs": [
    {
     "data": {
      "text/html": [
       "<div>\n",
       "<style scoped>\n",
       "    .dataframe tbody tr th:only-of-type {\n",
       "        vertical-align: middle;\n",
       "    }\n",
       "\n",
       "    .dataframe tbody tr th {\n",
       "        vertical-align: top;\n",
       "    }\n",
       "\n",
       "    .dataframe thead th {\n",
       "        text-align: right;\n",
       "    }\n",
       "</style>\n",
       "<table border=\"1\" class=\"dataframe\">\n",
       "  <thead>\n",
       "    <tr style=\"text-align: right;\">\n",
       "      <th></th>\n",
       "      <th>Nr. reviews</th>\n",
       "      <th>Nr. hotel reviews</th>\n",
       "      <th>Helpful votes</th>\n",
       "      <th>Score</th>\n",
       "      <th>Hotel stars</th>\n",
       "      <th>Nr. rooms</th>\n",
       "      <th>Member years</th>\n",
       "    </tr>\n",
       "  </thead>\n",
       "  <tbody>\n",
       "    <tr>\n",
       "      <th>count</th>\n",
       "      <td>504.000000</td>\n",
       "      <td>504.000000</td>\n",
       "      <td>504.000000</td>\n",
       "      <td>504.000000</td>\n",
       "      <td>504.000000</td>\n",
       "      <td>504.000000</td>\n",
       "      <td>504.000000</td>\n",
       "    </tr>\n",
       "    <tr>\n",
       "      <th>mean</th>\n",
       "      <td>48.130952</td>\n",
       "      <td>16.023810</td>\n",
       "      <td>31.751984</td>\n",
       "      <td>4.123016</td>\n",
       "      <td>4.047619</td>\n",
       "      <td>2196.380952</td>\n",
       "      <td>0.767857</td>\n",
       "    </tr>\n",
       "    <tr>\n",
       "      <th>std</th>\n",
       "      <td>74.996426</td>\n",
       "      <td>23.957953</td>\n",
       "      <td>48.520783</td>\n",
       "      <td>1.007302</td>\n",
       "      <td>0.844650</td>\n",
       "      <td>1285.476807</td>\n",
       "      <td>80.692897</td>\n",
       "    </tr>\n",
       "    <tr>\n",
       "      <th>min</th>\n",
       "      <td>1.000000</td>\n",
       "      <td>0.000000</td>\n",
       "      <td>0.000000</td>\n",
       "      <td>1.000000</td>\n",
       "      <td>3.000000</td>\n",
       "      <td>188.000000</td>\n",
       "      <td>-1806.000000</td>\n",
       "    </tr>\n",
       "    <tr>\n",
       "      <th>25%</th>\n",
       "      <td>12.000000</td>\n",
       "      <td>5.000000</td>\n",
       "      <td>8.000000</td>\n",
       "      <td>4.000000</td>\n",
       "      <td>3.000000</td>\n",
       "      <td>826.000000</td>\n",
       "      <td>2.000000</td>\n",
       "    </tr>\n",
       "    <tr>\n",
       "      <th>50%</th>\n",
       "      <td>23.500000</td>\n",
       "      <td>9.000000</td>\n",
       "      <td>16.000000</td>\n",
       "      <td>4.000000</td>\n",
       "      <td>4.000000</td>\n",
       "      <td>2700.000000</td>\n",
       "      <td>4.000000</td>\n",
       "    </tr>\n",
       "    <tr>\n",
       "      <th>75%</th>\n",
       "      <td>54.250000</td>\n",
       "      <td>18.000000</td>\n",
       "      <td>35.000000</td>\n",
       "      <td>5.000000</td>\n",
       "      <td>5.000000</td>\n",
       "      <td>3025.000000</td>\n",
       "      <td>6.000000</td>\n",
       "    </tr>\n",
       "    <tr>\n",
       "      <th>max</th>\n",
       "      <td>775.000000</td>\n",
       "      <td>263.000000</td>\n",
       "      <td>365.000000</td>\n",
       "      <td>5.000000</td>\n",
       "      <td>5.000000</td>\n",
       "      <td>4027.000000</td>\n",
       "      <td>13.000000</td>\n",
       "    </tr>\n",
       "  </tbody>\n",
       "</table>\n",
       "</div>"
      ],
      "text/plain": [
       "       Nr. reviews  Nr. hotel reviews  Helpful votes       Score  Hotel stars  \\\n",
       "count   504.000000         504.000000     504.000000  504.000000   504.000000   \n",
       "mean     48.130952          16.023810      31.751984    4.123016     4.047619   \n",
       "std      74.996426          23.957953      48.520783    1.007302     0.844650   \n",
       "min       1.000000           0.000000       0.000000    1.000000     3.000000   \n",
       "25%      12.000000           5.000000       8.000000    4.000000     3.000000   \n",
       "50%      23.500000           9.000000      16.000000    4.000000     4.000000   \n",
       "75%      54.250000          18.000000      35.000000    5.000000     5.000000   \n",
       "max     775.000000         263.000000     365.000000    5.000000     5.000000   \n",
       "\n",
       "         Nr. rooms  Member years  \n",
       "count   504.000000    504.000000  \n",
       "mean   2196.380952      0.767857  \n",
       "std    1285.476807     80.692897  \n",
       "min     188.000000  -1806.000000  \n",
       "25%     826.000000      2.000000  \n",
       "50%    2700.000000      4.000000  \n",
       "75%    3025.000000      6.000000  \n",
       "max    4027.000000     13.000000  "
      ]
     },
     "execution_count": 125,
     "metadata": {},
     "output_type": "execute_result"
    }
   ],
   "source": [
    "df.describe()"
   ]
  },
  {
   "cell_type": "code",
   "execution_count": 127,
   "id": "0e10e04b-cb25-43d7-b4b2-91af8c47f815",
   "metadata": {
    "execution": {
     "iopub.execute_input": "2024-07-06T12:36:23.732264Z",
     "iopub.status.busy": "2024-07-06T12:36:23.731854Z",
     "iopub.status.idle": "2024-07-06T12:36:23.741606Z",
     "shell.execute_reply": "2024-07-06T12:36:23.741072Z",
     "shell.execute_reply.started": "2024-07-06T12:36:23.732243Z"
    }
   },
   "outputs": [
    {
     "name": "stdout",
     "output_type": "stream",
     "text": [
      "<class 'pandas.core.frame.DataFrame'>\n",
      "RangeIndex: 504 entries, 0 to 503\n",
      "Data columns (total 20 columns):\n",
      " #   Column             Non-Null Count  Dtype \n",
      "---  ------             --------------  ----- \n",
      " 0   User country       504 non-null    object\n",
      " 1   Nr. reviews        504 non-null    int64 \n",
      " 2   Nr. hotel reviews  504 non-null    int64 \n",
      " 3   Helpful votes      504 non-null    int64 \n",
      " 4   Score              504 non-null    int64 \n",
      " 5   Period of stay     504 non-null    object\n",
      " 6   Traveler type      504 non-null    object\n",
      " 7   Pool               504 non-null    object\n",
      " 8   Gym                504 non-null    object\n",
      " 9   Tennis court       504 non-null    object\n",
      " 10  Spa                504 non-null    object\n",
      " 11  Casino             504 non-null    object\n",
      " 12  Free internet      504 non-null    object\n",
      " 13  Hotel name         504 non-null    object\n",
      " 14  Hotel stars        504 non-null    int64 \n",
      " 15  Nr. rooms          504 non-null    int64 \n",
      " 16  User continent     504 non-null    object\n",
      " 17  Member years       504 non-null    int64 \n",
      " 18  Review month       504 non-null    object\n",
      " 19  Review weekday     504 non-null    object\n",
      "dtypes: int64(7), object(13)\n",
      "memory usage: 78.9+ KB\n"
     ]
    }
   ],
   "source": [
    "df.info()"
   ]
  },
  {
   "cell_type": "markdown",
   "id": "1c67dacc-e7eb-46dd-b088-62e8652b8710",
   "metadata": {
    "execution": {
     "iopub.execute_input": "2024-07-06T12:37:07.450108Z",
     "iopub.status.busy": "2024-07-06T12:37:07.449482Z",
     "iopub.status.idle": "2024-07-06T12:37:07.457310Z",
     "shell.execute_reply": "2024-07-06T12:37:07.456255Z",
     "shell.execute_reply.started": "2024-07-06T12:37:07.450067Z"
    }
   },
   "source": [
    "Catplot has the following parameters:\n",
    "- x\n",
    "- y\n",
    "- data\n",
    "- kind: strip, swarm, box, violin, boxen, point, bar, count"
   ]
  },
  {
   "cell_type": "code",
   "execution_count": 130,
   "id": "857c95f6-1603-4f5a-8ab6-3eb5a4c915e7",
   "metadata": {
    "execution": {
     "iopub.execute_input": "2024-07-06T12:44:52.980694Z",
     "iopub.status.busy": "2024-07-06T12:44:52.980102Z",
     "iopub.status.idle": "2024-07-06T12:44:53.138365Z",
     "shell.execute_reply": "2024-07-06T12:44:53.137822Z",
     "shell.execute_reply.started": "2024-07-06T12:44:52.980659Z"
    }
   },
   "outputs": [
    {
     "data": {
      "text/plain": [
       "<seaborn.axisgrid.FacetGrid at 0x18807f4d0>"
      ]
     },
     "execution_count": 130,
     "metadata": {},
     "output_type": "execute_result"
    },
    {
     "data": {
      "image/png": "[encoded data removed]",
      "text/plain": [
       "<Figure size 511.111x500 with 1 Axes>"
      ]
     },
     "metadata": {},
     "output_type": "display_data"
    }
   ],
   "source": [
    "sns.catplot(data=df, y='Nr. rooms', kind='box')"
   ]
  },
  {
   "cell_type": "code",
   "execution_count": 131,
   "id": "da006dd3-8dfb-4a67-903a-1f58b010154e",
   "metadata": {
    "execution": {
     "iopub.execute_input": "2024-07-06T12:45:02.272542Z",
     "iopub.status.busy": "2024-07-06T12:45:02.272059Z",
     "iopub.status.idle": "2024-07-06T12:45:02.428382Z",
     "shell.execute_reply": "2024-07-06T12:45:02.427893Z",
     "shell.execute_reply.started": "2024-07-06T12:45:02.272508Z"
    }
   },
   "outputs": [
    {
     "data": {
      "text/plain": [
       "<seaborn.axisgrid.FacetGrid at 0x185ba2b40>"
      ]
     },
     "execution_count": 131,
     "metadata": {},
     "output_type": "execute_result"
    },
    {
     "data": {
      "image/png": "[encoded data removed]",
      "text/plain": [
       "<Figure size 511.111x500 with 1 Axes>"
      ]
     },
     "metadata": {},
     "output_type": "display_data"
    }
   ],
   "source": [
    "sns.catplot(data=df, y='Nr. rooms', kind='boxen')"
   ]
  },
  {
   "cell_type": "code",
   "execution_count": 132,
   "id": "c35f53ff-bd3b-4a9f-8c3b-e96feed1994c",
   "metadata": {
    "execution": {
     "iopub.execute_input": "2024-07-06T12:45:08.677034Z",
     "iopub.status.busy": "2024-07-06T12:45:08.674285Z",
     "iopub.status.idle": "2024-07-06T12:45:08.833911Z",
     "shell.execute_reply": "2024-07-06T12:45:08.833233Z",
     "shell.execute_reply.started": "2024-07-06T12:45:08.676965Z"
    }
   },
   "outputs": [
    {
     "data": {
      "text/plain": [
       "<seaborn.axisgrid.FacetGrid at 0x186f397c0>"
      ]
     },
     "execution_count": 132,
     "metadata": {},
     "output_type": "execute_result"
    },
    {
     "data": {
      "image/png": "[encoded data removed]",
      "text/plain": [
       "<Figure size 511.111x500 with 1 Axes>"
      ]
     },
     "metadata": {},
     "output_type": "display_data"
    }
   ],
   "source": [
    "sns.catplot(data=df, y='Nr. rooms', kind='violin')"
   ]
  },
  {
   "cell_type": "code",
   "execution_count": 133,
   "id": "19a854de-b7b4-46ad-aceb-bb570619179f",
   "metadata": {
    "execution": {
     "iopub.execute_input": "2024-07-06T12:45:15.391118Z",
     "iopub.status.busy": "2024-07-06T12:45:15.389687Z",
     "iopub.status.idle": "2024-07-06T12:45:18.131591Z",
     "shell.execute_reply": "2024-07-06T12:45:18.131147Z",
     "shell.execute_reply.started": "2024-07-06T12:45:15.391047Z"
    }
   },
   "outputs": [
    {
     "data": {
      "text/plain": [
       "<seaborn.axisgrid.FacetGrid at 0x187ed9700>"
      ]
     },
     "execution_count": 133,
     "metadata": {},
     "output_type": "execute_result"
    },
    {
     "data": {
      "image/png": "[encoded data removed]",
      "text/plain": [
       "<Figure size 511.111x500 with 1 Axes>"
      ]
     },
     "metadata": {},
     "output_type": "display_data"
    }
   ],
   "source": [
    "sns.catplot(data=df, y='Nr. rooms', kind='swarm')"
   ]
  },
  {
   "cell_type": "code",
   "execution_count": 134,
   "id": "587d6f2d-d0a4-45de-b315-bbb1ecbf95ad",
   "metadata": {
    "execution": {
     "iopub.execute_input": "2024-07-06T12:45:54.913208Z",
     "iopub.status.busy": "2024-07-06T12:45:54.912721Z",
     "iopub.status.idle": "2024-07-06T12:45:55.077742Z",
     "shell.execute_reply": "2024-07-06T12:45:55.077351Z",
     "shell.execute_reply.started": "2024-07-06T12:45:54.913175Z"
    }
   },
   "outputs": [
    {
     "data": {
      "text/plain": [
       "<seaborn.axisgrid.FacetGrid at 0x1864d03e0>"
      ]
     },
     "execution_count": 134,
     "metadata": {},
     "output_type": "execute_result"
    },
    {
     "data": {
      "image/png": "[encoded data removed]",
      "text/plain": [
       "<Figure size 511.111x500 with 1 Axes>"
      ]
     },
     "metadata": {},
     "output_type": "display_data"
    }
   ],
   "source": [
    "sns.catplot(data=df, y='Nr. rooms', kind='strip')"
   ]
  },
  {
   "cell_type": "code",
   "execution_count": 135,
   "id": "fb3b28e8-3192-4fa5-b498-000da1714c8e",
   "metadata": {
    "execution": {
     "iopub.execute_input": "2024-07-06T12:46:00.332096Z",
     "iopub.status.busy": "2024-07-06T12:46:00.331600Z",
     "iopub.status.idle": "2024-07-06T12:46:00.482058Z",
     "shell.execute_reply": "2024-07-06T12:46:00.481631Z",
     "shell.execute_reply.started": "2024-07-06T12:46:00.332062Z"
    }
   },
   "outputs": [
    {
     "data": {
      "text/plain": [
       "<seaborn.axisgrid.FacetGrid at 0x1857d9700>"
      ]
     },
     "execution_count": 135,
     "metadata": {},
     "output_type": "execute_result"
    },
    {
     "data": {
      "image/png": "[encoded data removed]",
      "text/plain": [
       "<Figure size 511.111x500 with 1 Axes>"
      ]
     },
     "metadata": {},
     "output_type": "display_data"
    }
   ],
   "source": [
    "sns.catplot(data=df, y='Nr. rooms', kind='point')"
   ]
  },
  {
   "cell_type": "code",
   "execution_count": 136,
   "id": "f3a5e324-ec3b-4d8d-b1db-5e4c57107395",
   "metadata": {
    "execution": {
     "iopub.execute_input": "2024-07-06T12:46:04.595012Z",
     "iopub.status.busy": "2024-07-06T12:46:04.594498Z",
     "iopub.status.idle": "2024-07-06T12:46:04.735556Z",
     "shell.execute_reply": "2024-07-06T12:46:04.735203Z",
     "shell.execute_reply.started": "2024-07-06T12:46:04.594979Z"
    }
   },
   "outputs": [
    {
     "data": {
      "text/plain": [
       "<seaborn.axisgrid.FacetGrid at 0x185ab0e60>"
      ]
     },
     "execution_count": 136,
     "metadata": {},
     "output_type": "execute_result"
    },
    {
     "data": {
      "image/png": "[encoded data removed]",
      "text/plain": [
       "<Figure size 511.111x500 with 1 Axes>"
      ]
     },
     "metadata": {},
     "output_type": "display_data"
    }
   ],
   "source": [
    "sns.catplot(data=df, y='Nr. rooms', kind='bar')"
   ]
  },
  {
   "cell_type": "code",
   "execution_count": 138,
   "id": "a44cc295-b58b-4a54-8a6a-64e4cd63743a",
   "metadata": {
    "execution": {
     "iopub.execute_input": "2024-07-06T12:46:54.266495Z",
     "iopub.status.busy": "2024-07-06T12:46:54.266020Z",
     "iopub.status.idle": "2024-07-06T12:46:54.280082Z",
     "shell.execute_reply": "2024-07-06T12:46:54.277480Z",
     "shell.execute_reply.started": "2024-07-06T12:46:54.266462Z"
    }
   },
   "outputs": [
    {
     "data": {
      "text/plain": [
       "Score\n",
       "5    227\n",
       "4    164\n",
       "3     72\n",
       "2     30\n",
       "1     11\n",
       "Name: count, dtype: int64"
      ]
     },
     "execution_count": 138,
     "metadata": {},
     "output_type": "execute_result"
    }
   ],
   "source": [
    "df['Score'].value_counts()"
   ]
  },
  {
   "cell_type": "code",
   "execution_count": 139,
   "id": "d68d9c1b-084f-4d9e-9f09-8761f7c9d394",
   "metadata": {
    "execution": {
     "iopub.execute_input": "2024-07-06T12:47:36.859515Z",
     "iopub.status.busy": "2024-07-06T12:47:36.858964Z",
     "iopub.status.idle": "2024-07-06T12:47:37.028075Z",
     "shell.execute_reply": "2024-07-06T12:47:37.027564Z",
     "shell.execute_reply.started": "2024-07-06T12:47:36.859480Z"
    }
   },
   "outputs": [
    {
     "data": {
      "text/plain": [
       "<seaborn.axisgrid.FacetGrid at 0x180bc9970>"
      ]
     },
     "execution_count": 139,
     "metadata": {},
     "output_type": "execute_result"
    },
    {
     "data": {
      "image/png": "[encoded data removed]",
      "text/plain": [
       "<Figure size 511.111x500 with 1 Axes>"
      ]
     },
     "metadata": {},
     "output_type": "display_data"
    }
   ],
   "source": [
    "sns.catplot(x='Pool', y='Score', data=df, kind='box')"
   ]
  },
  {
   "cell_type": "code",
   "execution_count": 140,
   "id": "439c4576-a3d0-44e6-8f1f-c5a1351f903a",
   "metadata": {
    "execution": {
     "iopub.execute_input": "2024-07-06T12:48:30.681598Z",
     "iopub.status.busy": "2024-07-06T12:48:30.681124Z",
     "iopub.status.idle": "2024-07-06T12:48:30.689253Z",
     "shell.execute_reply": "2024-07-06T12:48:30.687822Z",
     "shell.execute_reply.started": "2024-07-06T12:48:30.681565Z"
    }
   },
   "outputs": [],
   "source": [
    "sns.set(font_scale=1.4)\n",
    "sns.set_style('whitegrid')"
   ]
  },
  {
   "cell_type": "code",
   "execution_count": 141,
   "id": "b01dcfd7-ea18-4a90-95e5-4ac97b282992",
   "metadata": {
    "execution": {
     "iopub.execute_input": "2024-07-06T12:48:36.261666Z",
     "iopub.status.busy": "2024-07-06T12:48:36.261128Z",
     "iopub.status.idle": "2024-07-06T12:48:36.752556Z",
     "shell.execute_reply": "2024-07-06T12:48:36.752063Z",
     "shell.execute_reply.started": "2024-07-06T12:48:36.261632Z"
    }
   },
   "outputs": [
    {
     "data": {
      "text/plain": [
       "<seaborn.axisgrid.FacetGrid at 0x1825d36e0>"
      ]
     },
     "execution_count": 141,
     "metadata": {},
     "output_type": "execute_result"
    },
    {
     "data": {
      "image/png": "[encoded data removed]",
      "text/plain": [
       "<Figure size 517.111x500 with 1 Axes>"
      ]
     },
     "metadata": {},
     "output_type": "display_data"
    }
   ],
   "source": [
    "sns.catplot(x='Pool', y='Score', data=df, kind='box')"
   ]
  },
  {
   "cell_type": "code",
   "execution_count": 142,
   "id": "df72d1ab-1f58-43f5-a41d-0a9b45234d11",
   "metadata": {
    "execution": {
     "iopub.execute_input": "2024-07-06T13:12:50.052977Z",
     "iopub.status.busy": "2024-07-06T13:12:50.052111Z",
     "iopub.status.idle": "2024-07-06T13:12:50.182003Z",
     "shell.execute_reply": "2024-07-06T13:12:50.181588Z",
     "shell.execute_reply.started": "2024-07-06T13:12:50.052912Z"
    }
   },
   "outputs": [
    {
     "data": {
      "text/plain": [
       "<Axes: xlabel='Traveler type'>"
      ]
     },
     "execution_count": 142,
     "metadata": {},
     "output_type": "execute_result"
    },
    {
     "data": {
      "image/png": "[encoded data removed]",
      "text/plain": [
       "<Figure size 640x480 with 1 Axes>"
      ]
     },
     "metadata": {},
     "output_type": "display_data"
    }
   ],
   "source": [
    "#Pandas offers a way to plot barcharts out of the box:\n",
    "df['Traveler type'].value_counts().plot.bar()"
   ]
  },
  {
   "cell_type": "code",
   "execution_count": 145,
   "id": "17ff51c1-5d75-413d-9955-e75734342067",
   "metadata": {
    "execution": {
     "iopub.execute_input": "2024-07-06T13:23:29.465454Z",
     "iopub.status.busy": "2024-07-06T13:23:29.464949Z",
     "iopub.status.idle": "2024-07-06T13:23:29.747395Z",
     "shell.execute_reply": "2024-07-06T13:23:29.747054Z",
     "shell.execute_reply.started": "2024-07-06T13:23:29.465419Z"
    }
   },
   "outputs": [
    {
     "data": {
      "text/plain": [
       "<seaborn.axisgrid.FacetGrid at 0x1860ff380>"
      ]
     },
     "execution_count": 145,
     "metadata": {},
     "output_type": "execute_result"
    },
    {
     "data": {
      "image/png": "[encoded data removed]",
      "text/plain": [
       "<Figure size 500x500 with 1 Axes>"
      ]
     },
     "metadata": {},
     "output_type": "display_data"
    }
   ],
   "source": [
    "#Seaborn goes beyond this simple plot and allow us to analyze numerical variables through categorical ones\n",
    "sns.catplot(x='Traveler type', hue='Traveler type', y='Score', data=df, kind='bar')"
   ]
  },
  {
   "cell_type": "markdown",
   "id": "6181190e-9be1-40f2-8f97-f098b3fb6879",
   "metadata": {},
   "source": [
    "Sns barplot represents with the height of each bar, the point estimate of the mean of the data. \n",
    "\n",
    "The black band represent the confidence interval for that value. That means, the range of values we are confident at 95% that the observations will fall in."
   ]
  },
  {
   "cell_type": "markdown",
   "id": "5686546c-ac2a-4359-a0c4-1c2e3e630343",
   "metadata": {
    "execution": {
     "iopub.execute_input": "2024-07-06T13:26:17.261097Z",
     "iopub.status.busy": "2024-07-06T13:26:17.260542Z",
     "iopub.status.idle": "2024-07-06T13:26:17.266417Z",
     "shell.execute_reply": "2024-07-06T13:26:17.265626Z",
     "shell.execute_reply.started": "2024-07-06T13:26:17.261058Z"
    }
   },
   "source": [
    "### Ordering categories"
   ]
  },
  {
   "cell_type": "code",
   "execution_count": 148,
   "id": "aa5b3106-8a0f-47ec-949f-4e677f5171ce",
   "metadata": {
    "execution": {
     "iopub.execute_input": "2024-07-06T13:28:11.795537Z",
     "iopub.status.busy": "2024-07-06T13:28:11.795065Z",
     "iopub.status.idle": "2024-07-06T13:28:12.081885Z",
     "shell.execute_reply": "2024-07-06T13:28:12.081503Z",
     "shell.execute_reply.started": "2024-07-06T13:28:11.795505Z"
    }
   },
   "outputs": [
    {
     "data": {
      "text/plain": [
       "<seaborn.axisgrid.FacetGrid at 0x185c4e240>"
      ]
     },
     "execution_count": 148,
     "metadata": {},
     "output_type": "execute_result"
    },
    {
     "data": {
      "image/png": "[encoded data removed]",
      "text/plain": [
       "<Figure size 500x500 with 1 Axes>"
      ]
     },
     "metadata": {},
     "output_type": "display_data"
    }
   ],
   "source": [
    "df['Traveler type'] = df['Traveler type'].astype('category')\n",
    "df['Traveler type'].cat.categories\n",
    "\n",
    "sns.catplot(x='Traveler type', hue='Traveler type', y='Score', data=df, kind='bar')"
   ]
  },
  {
   "cell_type": "markdown",
   "id": "b25d6361-17fe-4c04-83c2-635a702e846e",
   "metadata": {},
   "source": [
    "The catplot method has a \"order\" attribute, but its way more preferable to use the category order since that would be applied to every single graph, and not only."
   ]
  },
  {
   "cell_type": "markdown",
   "id": "8f7cdc34-9c58-470c-84d3-42d58f4a397e",
   "metadata": {},
   "source": [
    "### The hue parameter\n",
    "\n",
    "Adds a color difference depending on the category"
   ]
  },
  {
   "cell_type": "code",
   "execution_count": 150,
   "id": "c8c442ce-28c4-4fb6-93db-2c9978145ed4",
   "metadata": {
    "execution": {
     "iopub.execute_input": "2024-07-06T13:30:51.932362Z",
     "iopub.status.busy": "2024-07-06T13:30:51.931882Z",
     "iopub.status.idle": "2024-07-06T13:30:52.364768Z",
     "shell.execute_reply": "2024-07-06T13:30:52.364396Z",
     "shell.execute_reply.started": "2024-07-06T13:30:51.932329Z"
    }
   },
   "outputs": [
    {
     "data": {
      "text/plain": [
       "<seaborn.axisgrid.FacetGrid at 0x18833b3b0>"
      ]
     },
     "execution_count": 150,
     "metadata": {},
     "output_type": "execute_result"
    },
    {
     "data": {
      "image/png": "[encoded data removed]",
      "text/plain": [
       "<Figure size 642.986x500 with 1 Axes>"
      ]
     },
     "metadata": {},
     "output_type": "display_data"
    }
   ],
   "source": [
    "sns.catplot(x='Traveler type', hue='Tennis court', y='Score', data=df, kind='bar')"
   ]
  },
  {
   "cell_type": "markdown",
   "id": "fab32b0a-5316-4a5b-bb98-3dd6ac986ab4",
   "metadata": {},
   "source": [
    "## Point and count plot\n",
    "\n",
    "The point plot connects the means of the categories helping understanding the eventual difference between them. Confidence intervals are represented as well."
   ]
  },
  {
   "cell_type": "code",
   "execution_count": 153,
   "id": "e875aecd-3274-4a67-9372-205d38c0e8c5",
   "metadata": {
    "execution": {
     "iopub.execute_input": "2024-07-06T14:19:09.966343Z",
     "iopub.status.busy": "2024-07-06T14:19:09.965657Z",
     "iopub.status.idle": "2024-07-06T14:19:10.224862Z",
     "shell.execute_reply": "2024-07-06T14:19:10.224377Z",
     "shell.execute_reply.started": "2024-07-06T14:19:09.966307Z"
    }
   },
   "outputs": [
    {
     "data": {
      "text/plain": [
       "<seaborn.axisgrid.FacetGrid at 0x187d6aae0>"
      ]
     },
     "execution_count": 153,
     "metadata": {},
     "output_type": "execute_result"
    },
    {
     "data": {
      "image/png": "[encoded data removed]",
      "text/plain": [
       "<Figure size 517.111x500 with 1 Axes>"
      ]
     },
     "metadata": {},
     "output_type": "display_data"
    }
   ],
   "source": [
    "sns.catplot(x='Pool', y='Score', data=df, kind='point')"
   ]
  },
  {
   "cell_type": "code",
   "execution_count": 154,
   "id": "7704614b-f232-4f21-9a1e-da52d5d13404",
   "metadata": {
    "execution": {
     "iopub.execute_input": "2024-07-06T14:21:55.943745Z",
     "iopub.status.busy": "2024-07-06T14:21:55.943254Z",
     "iopub.status.idle": "2024-07-06T14:21:56.259272Z",
     "shell.execute_reply": "2024-07-06T14:21:56.258813Z",
     "shell.execute_reply.started": "2024-07-06T14:21:55.943713Z"
    }
   },
   "outputs": [
    {
     "data": {
      "text/plain": [
       "<seaborn.axisgrid.FacetGrid at 0x187724710>"
      ]
     },
     "execution_count": 154,
     "metadata": {},
     "output_type": "execute_result"
    },
    {
     "data": {
      "image/png": "[encoded data removed]",
      "text/plain": [
       "<Figure size 642.986x500 with 1 Axes>"
      ]
     },
     "metadata": {},
     "output_type": "display_data"
    }
   ],
   "source": [
    "sns.catplot(x='Spa', y='Score', data=df, kind='point', hue='Tennis court', dodge=True)"
   ]
  },
  {
   "cell_type": "code",
   "execution_count": 155,
   "id": "1654e6e0-9059-44a2-86e8-3c0d70e985bb",
   "metadata": {
    "execution": {
     "iopub.execute_input": "2024-07-06T14:23:39.604568Z",
     "iopub.status.busy": "2024-07-06T14:23:39.604095Z",
     "iopub.status.idle": "2024-07-06T14:23:39.933471Z",
     "shell.execute_reply": "2024-07-06T14:23:39.933030Z",
     "shell.execute_reply.started": "2024-07-06T14:23:39.604536Z"
    }
   },
   "outputs": [
    {
     "data": {
      "text/plain": [
       "<seaborn.axisgrid.FacetGrid at 0x18580e420>"
      ]
     },
     "execution_count": 155,
     "metadata": {},
     "output_type": "execute_result"
    },
    {
     "data": {
      "image/png": "[encoded data removed]",
      "text/plain": [
       "<Figure size 642.986x500 with 1 Axes>"
      ]
     },
     "metadata": {},
     "output_type": "display_data"
    }
   ],
   "source": [
    "sns.catplot(x='Spa', y='Score', data=df, kind='point', hue='Tennis court', dodge=True, join=False)"
   ]
  },
  {
   "cell_type": "code",
   "execution_count": 157,
   "id": "e78afb09-1bd5-4909-bf77-4b9b98d1f962",
   "metadata": {
    "execution": {
     "iopub.execute_input": "2024-07-06T14:24:26.317949Z",
     "iopub.status.busy": "2024-07-06T14:24:26.317470Z",
     "iopub.status.idle": "2024-07-06T14:24:26.579744Z",
     "shell.execute_reply": "2024-07-06T14:24:26.579243Z",
     "shell.execute_reply.started": "2024-07-06T14:24:26.317917Z"
    }
   },
   "outputs": [
    {
     "data": {
      "text/plain": [
       "<seaborn.axisgrid.FacetGrid at 0x187e88440>"
      ]
     },
     "execution_count": 157,
     "metadata": {},
     "output_type": "execute_result"
    },
    {
     "data": {
      "image/png": "[encoded data removed]",
      "text/plain": [
       "<Figure size 642.986x500 with 1 Axes>"
      ]
     },
     "metadata": {},
     "output_type": "display_data"
    }
   ],
   "source": [
    "sns.catplot(x='Spa', data=df, kind='count', hue='Tennis court')"
   ]
  },
  {
   "cell_type": "code",
   "execution_count": null,
   "id": "5332c306-fab3-4624-86cb-0d13e4f91a53",
   "metadata": {},
   "outputs": [],
   "source": []
  },
  {
   "cell_type": "markdown",
   "id": "aadfd57b-d3aa-415d-9708-1ed310031b64",
   "metadata": {
    "execution": {
     "iopub.execute_input": "2024-07-06T14:36:23.641507Z",
     "iopub.status.busy": "2024-07-06T14:36:23.641239Z",
     "iopub.status.idle": "2024-07-06T14:36:23.644362Z",
     "shell.execute_reply": "2024-07-06T14:36:23.643696Z",
     "shell.execute_reply.started": "2024-07-06T14:36:23.641486Z"
    }
   },
   "source": [
    "## The challenge of displaying several categories at the same time"
   ]
  },
  {
   "cell_type": "code",
   "execution_count": 162,
   "id": "7e3b3a41-0679-404c-8570-affe7df4428d",
   "metadata": {
    "execution": {
     "iopub.execute_input": "2024-07-06T14:41:02.484560Z",
     "iopub.status.busy": "2024-07-06T14:41:02.483865Z",
     "iopub.status.idle": "2024-07-06T14:41:03.595369Z",
     "shell.execute_reply": "2024-07-06T14:41:03.594983Z",
     "shell.execute_reply.started": "2024-07-06T14:41:02.484440Z"
    }
   },
   "outputs": [
    {
     "data": {
      "image/png": "[encoded data removed]",
      "text/plain": [
       "<Figure size 1500x1000 with 6 Axes>"
      ]
     },
     "metadata": {},
     "output_type": "display_data"
    }
   ],
   "source": [
    "ax = sns.catplot(x='Traveler type', \n",
    "            kind='count', \n",
    "            col='User continent', \n",
    "            col_wrap=3, \n",
    "            palette=sns.color_palette('Set1'), \n",
    "            data=df)\n",
    "\n",
    "ax.fig.suptitle('Hotel Score by Traveler Type and User Continent')\n",
    "ax.set_axis_labels(\"Traveler Type\", 'Number of Reviews')\n",
    "plt.subplots_adjust(top=.9)\n"
   ]
  },
  {
   "cell_type": "markdown",
   "id": "6baaf695-5e2c-4d20-85b5-20a8aae7951c",
   "metadata": {
    "execution": {
     "iopub.execute_input": "2024-07-06T14:54:11.722293Z",
     "iopub.status.busy": "2024-07-06T14:54:11.721789Z",
     "iopub.status.idle": "2024-07-06T14:54:11.730557Z",
     "shell.execute_reply": "2024-07-06T14:54:11.728528Z",
     "shell.execute_reply.started": "2024-07-06T14:54:11.722258Z"
    }
   },
   "source": [
    "## Categorical Pitfalls\n",
    "\n",
    "The first one is related to the memory footprint reduction associated with the usage of categories. It wont happen in case of the variable having a big number of different values."
   ]
  },
  {
   "cell_type": "code",
   "execution_count": 190,
   "id": "ace0fd08-6019-49ee-a60e-a8e10e98a24e",
   "metadata": {
    "execution": {
     "iopub.execute_input": "2024-07-06T15:04:54.038990Z",
     "iopub.status.busy": "2024-07-06T15:04:54.038144Z",
     "iopub.status.idle": "2024-07-06T15:04:54.198526Z",
     "shell.execute_reply": "2024-07-06T15:04:54.198047Z",
     "shell.execute_reply.started": "2024-07-06T15:04:54.038953Z"
    }
   },
   "outputs": [],
   "source": [
    "df = pd.read_csv('../data/cars.csv')"
   ]
  },
  {
   "cell_type": "code",
   "execution_count": 191,
   "id": "f265a165-1a56-47cd-a00d-593a20792f73",
   "metadata": {
    "execution": {
     "iopub.execute_input": "2024-07-06T15:04:54.317622Z",
     "iopub.status.busy": "2024-07-06T15:04:54.317207Z",
     "iopub.status.idle": "2024-07-06T15:04:54.345876Z",
     "shell.execute_reply": "2024-07-06T15:04:54.345357Z",
     "shell.execute_reply.started": "2024-07-06T15:04:54.317589Z"
    }
   },
   "outputs": [
    {
     "data": {
      "text/html": [
       "<div>\n",
       "<style scoped>\n",
       "    .dataframe tbody tr th:only-of-type {\n",
       "        vertical-align: middle;\n",
       "    }\n",
       "\n",
       "    .dataframe tbody tr th {\n",
       "        vertical-align: top;\n",
       "    }\n",
       "\n",
       "    .dataframe thead th {\n",
       "        text-align: right;\n",
       "    }\n",
       "</style>\n",
       "<table border=\"1\" class=\"dataframe\">\n",
       "  <thead>\n",
       "    <tr style=\"text-align: right;\">\n",
       "      <th></th>\n",
       "      <th>manufacturer_name</th>\n",
       "      <th>model_name</th>\n",
       "      <th>transmission</th>\n",
       "      <th>color</th>\n",
       "      <th>odometer_value</th>\n",
       "      <th>year_produced</th>\n",
       "      <th>engine_fuel</th>\n",
       "      <th>engine_has_gas</th>\n",
       "      <th>engine_type</th>\n",
       "      <th>engine_capacity</th>\n",
       "      <th>...</th>\n",
       "      <th>feature_1</th>\n",
       "      <th>feature_2</th>\n",
       "      <th>feature_3</th>\n",
       "      <th>feature_4</th>\n",
       "      <th>feature_5</th>\n",
       "      <th>feature_6</th>\n",
       "      <th>feature_7</th>\n",
       "      <th>feature_8</th>\n",
       "      <th>feature_9</th>\n",
       "      <th>duration_listed</th>\n",
       "    </tr>\n",
       "  </thead>\n",
       "  <tbody>\n",
       "    <tr>\n",
       "      <th>0</th>\n",
       "      <td>Subaru</td>\n",
       "      <td>Outback</td>\n",
       "      <td>automatic</td>\n",
       "      <td>silver</td>\n",
       "      <td>190000</td>\n",
       "      <td>2010</td>\n",
       "      <td>gasoline</td>\n",
       "      <td>False</td>\n",
       "      <td>gasoline</td>\n",
       "      <td>2.5</td>\n",
       "      <td>...</td>\n",
       "      <td>True</td>\n",
       "      <td>True</td>\n",
       "      <td>True</td>\n",
       "      <td>False</td>\n",
       "      <td>True</td>\n",
       "      <td>False</td>\n",
       "      <td>True</td>\n",
       "      <td>True</td>\n",
       "      <td>True</td>\n",
       "      <td>16</td>\n",
       "    </tr>\n",
       "    <tr>\n",
       "      <th>1</th>\n",
       "      <td>Subaru</td>\n",
       "      <td>Outback</td>\n",
       "      <td>automatic</td>\n",
       "      <td>blue</td>\n",
       "      <td>290000</td>\n",
       "      <td>2002</td>\n",
       "      <td>gasoline</td>\n",
       "      <td>False</td>\n",
       "      <td>gasoline</td>\n",
       "      <td>3.0</td>\n",
       "      <td>...</td>\n",
       "      <td>True</td>\n",
       "      <td>False</td>\n",
       "      <td>False</td>\n",
       "      <td>True</td>\n",
       "      <td>True</td>\n",
       "      <td>False</td>\n",
       "      <td>False</td>\n",
       "      <td>False</td>\n",
       "      <td>True</td>\n",
       "      <td>83</td>\n",
       "    </tr>\n",
       "    <tr>\n",
       "      <th>2</th>\n",
       "      <td>Subaru</td>\n",
       "      <td>Forester</td>\n",
       "      <td>automatic</td>\n",
       "      <td>red</td>\n",
       "      <td>402000</td>\n",
       "      <td>2001</td>\n",
       "      <td>gasoline</td>\n",
       "      <td>False</td>\n",
       "      <td>gasoline</td>\n",
       "      <td>2.5</td>\n",
       "      <td>...</td>\n",
       "      <td>True</td>\n",
       "      <td>False</td>\n",
       "      <td>False</td>\n",
       "      <td>False</td>\n",
       "      <td>False</td>\n",
       "      <td>False</td>\n",
       "      <td>False</td>\n",
       "      <td>True</td>\n",
       "      <td>True</td>\n",
       "      <td>151</td>\n",
       "    </tr>\n",
       "    <tr>\n",
       "      <th>3</th>\n",
       "      <td>Subaru</td>\n",
       "      <td>Impreza</td>\n",
       "      <td>mechanical</td>\n",
       "      <td>blue</td>\n",
       "      <td>10000</td>\n",
       "      <td>1999</td>\n",
       "      <td>gasoline</td>\n",
       "      <td>False</td>\n",
       "      <td>gasoline</td>\n",
       "      <td>3.0</td>\n",
       "      <td>...</td>\n",
       "      <td>False</td>\n",
       "      <td>False</td>\n",
       "      <td>False</td>\n",
       "      <td>False</td>\n",
       "      <td>False</td>\n",
       "      <td>False</td>\n",
       "      <td>False</td>\n",
       "      <td>False</td>\n",
       "      <td>False</td>\n",
       "      <td>86</td>\n",
       "    </tr>\n",
       "    <tr>\n",
       "      <th>4</th>\n",
       "      <td>Subaru</td>\n",
       "      <td>Legacy</td>\n",
       "      <td>automatic</td>\n",
       "      <td>black</td>\n",
       "      <td>280000</td>\n",
       "      <td>2001</td>\n",
       "      <td>gasoline</td>\n",
       "      <td>False</td>\n",
       "      <td>gasoline</td>\n",
       "      <td>2.5</td>\n",
       "      <td>...</td>\n",
       "      <td>True</td>\n",
       "      <td>False</td>\n",
       "      <td>True</td>\n",
       "      <td>True</td>\n",
       "      <td>False</td>\n",
       "      <td>False</td>\n",
       "      <td>False</td>\n",
       "      <td>False</td>\n",
       "      <td>True</td>\n",
       "      <td>7</td>\n",
       "    </tr>\n",
       "    <tr>\n",
       "      <th>...</th>\n",
       "      <td>...</td>\n",
       "      <td>...</td>\n",
       "      <td>...</td>\n",
       "      <td>...</td>\n",
       "      <td>...</td>\n",
       "      <td>...</td>\n",
       "      <td>...</td>\n",
       "      <td>...</td>\n",
       "      <td>...</td>\n",
       "      <td>...</td>\n",
       "      <td>...</td>\n",
       "      <td>...</td>\n",
       "      <td>...</td>\n",
       "      <td>...</td>\n",
       "      <td>...</td>\n",
       "      <td>...</td>\n",
       "      <td>...</td>\n",
       "      <td>...</td>\n",
       "      <td>...</td>\n",
       "      <td>...</td>\n",
       "      <td>...</td>\n",
       "    </tr>\n",
       "    <tr>\n",
       "      <th>38526</th>\n",
       "      <td>Chrysler</td>\n",
       "      <td>300</td>\n",
       "      <td>automatic</td>\n",
       "      <td>silver</td>\n",
       "      <td>290000</td>\n",
       "      <td>2000</td>\n",
       "      <td>gasoline</td>\n",
       "      <td>False</td>\n",
       "      <td>gasoline</td>\n",
       "      <td>3.5</td>\n",
       "      <td>...</td>\n",
       "      <td>True</td>\n",
       "      <td>False</td>\n",
       "      <td>False</td>\n",
       "      <td>True</td>\n",
       "      <td>True</td>\n",
       "      <td>False</td>\n",
       "      <td>False</td>\n",
       "      <td>True</td>\n",
       "      <td>True</td>\n",
       "      <td>301</td>\n",
       "    </tr>\n",
       "    <tr>\n",
       "      <th>38527</th>\n",
       "      <td>Chrysler</td>\n",
       "      <td>PT Cruiser</td>\n",
       "      <td>mechanical</td>\n",
       "      <td>blue</td>\n",
       "      <td>321000</td>\n",
       "      <td>2004</td>\n",
       "      <td>diesel</td>\n",
       "      <td>False</td>\n",
       "      <td>diesel</td>\n",
       "      <td>2.2</td>\n",
       "      <td>...</td>\n",
       "      <td>True</td>\n",
       "      <td>False</td>\n",
       "      <td>False</td>\n",
       "      <td>True</td>\n",
       "      <td>True</td>\n",
       "      <td>False</td>\n",
       "      <td>False</td>\n",
       "      <td>True</td>\n",
       "      <td>True</td>\n",
       "      <td>317</td>\n",
       "    </tr>\n",
       "    <tr>\n",
       "      <th>38528</th>\n",
       "      <td>Chrysler</td>\n",
       "      <td>300</td>\n",
       "      <td>automatic</td>\n",
       "      <td>blue</td>\n",
       "      <td>777957</td>\n",
       "      <td>2000</td>\n",
       "      <td>gasoline</td>\n",
       "      <td>False</td>\n",
       "      <td>gasoline</td>\n",
       "      <td>3.5</td>\n",
       "      <td>...</td>\n",
       "      <td>True</td>\n",
       "      <td>False</td>\n",
       "      <td>False</td>\n",
       "      <td>True</td>\n",
       "      <td>True</td>\n",
       "      <td>False</td>\n",
       "      <td>False</td>\n",
       "      <td>True</td>\n",
       "      <td>True</td>\n",
       "      <td>369</td>\n",
       "    </tr>\n",
       "    <tr>\n",
       "      <th>38529</th>\n",
       "      <td>Chrysler</td>\n",
       "      <td>PT Cruiser</td>\n",
       "      <td>mechanical</td>\n",
       "      <td>black</td>\n",
       "      <td>20000</td>\n",
       "      <td>2001</td>\n",
       "      <td>gasoline</td>\n",
       "      <td>False</td>\n",
       "      <td>gasoline</td>\n",
       "      <td>2.0</td>\n",
       "      <td>...</td>\n",
       "      <td>True</td>\n",
       "      <td>False</td>\n",
       "      <td>False</td>\n",
       "      <td>False</td>\n",
       "      <td>False</td>\n",
       "      <td>False</td>\n",
       "      <td>False</td>\n",
       "      <td>False</td>\n",
       "      <td>True</td>\n",
       "      <td>490</td>\n",
       "    </tr>\n",
       "    <tr>\n",
       "      <th>38530</th>\n",
       "      <td>Chrysler</td>\n",
       "      <td>Voyager</td>\n",
       "      <td>automatic</td>\n",
       "      <td>silver</td>\n",
       "      <td>297729</td>\n",
       "      <td>2000</td>\n",
       "      <td>gasoline</td>\n",
       "      <td>False</td>\n",
       "      <td>gasoline</td>\n",
       "      <td>2.4</td>\n",
       "      <td>...</td>\n",
       "      <td>False</td>\n",
       "      <td>False</td>\n",
       "      <td>False</td>\n",
       "      <td>False</td>\n",
       "      <td>False</td>\n",
       "      <td>False</td>\n",
       "      <td>False</td>\n",
       "      <td>False</td>\n",
       "      <td>True</td>\n",
       "      <td>632</td>\n",
       "    </tr>\n",
       "  </tbody>\n",
       "</table>\n",
       "<p>38531 rows × 30 columns</p>\n",
       "</div>"
      ],
      "text/plain": [
       "      manufacturer_name  model_name transmission   color  odometer_value  \\\n",
       "0                Subaru     Outback    automatic  silver          190000   \n",
       "1                Subaru     Outback    automatic    blue          290000   \n",
       "2                Subaru    Forester    automatic     red          402000   \n",
       "3                Subaru     Impreza   mechanical    blue           10000   \n",
       "4                Subaru      Legacy    automatic   black          280000   \n",
       "...                 ...         ...          ...     ...             ...   \n",
       "38526          Chrysler         300    automatic  silver          290000   \n",
       "38527          Chrysler  PT Cruiser   mechanical    blue          321000   \n",
       "38528          Chrysler         300    automatic    blue          777957   \n",
       "38529          Chrysler  PT Cruiser   mechanical   black           20000   \n",
       "38530          Chrysler     Voyager    automatic  silver          297729   \n",
       "\n",
       "       year_produced engine_fuel  engine_has_gas engine_type  engine_capacity  \\\n",
       "0               2010    gasoline           False    gasoline              2.5   \n",
       "1               2002    gasoline           False    gasoline              3.0   \n",
       "2               2001    gasoline           False    gasoline              2.5   \n",
       "3               1999    gasoline           False    gasoline              3.0   \n",
       "4               2001    gasoline           False    gasoline              2.5   \n",
       "...              ...         ...             ...         ...              ...   \n",
       "38526           2000    gasoline           False    gasoline              3.5   \n",
       "38527           2004      diesel           False      diesel              2.2   \n",
       "38528           2000    gasoline           False    gasoline              3.5   \n",
       "38529           2001    gasoline           False    gasoline              2.0   \n",
       "38530           2000    gasoline           False    gasoline              2.4   \n",
       "\n",
       "       ... feature_1  feature_2 feature_3 feature_4  feature_5  feature_6  \\\n",
       "0      ...      True       True      True     False       True      False   \n",
       "1      ...      True      False     False      True       True      False   \n",
       "2      ...      True      False     False     False      False      False   \n",
       "3      ...     False      False     False     False      False      False   \n",
       "4      ...      True      False      True      True      False      False   \n",
       "...    ...       ...        ...       ...       ...        ...        ...   \n",
       "38526  ...      True      False     False      True       True      False   \n",
       "38527  ...      True      False     False      True       True      False   \n",
       "38528  ...      True      False     False      True       True      False   \n",
       "38529  ...      True      False     False     False      False      False   \n",
       "38530  ...     False      False     False     False      False      False   \n",
       "\n",
       "      feature_7  feature_8  feature_9  duration_listed  \n",
       "0          True       True       True               16  \n",
       "1         False      False       True               83  \n",
       "2         False       True       True              151  \n",
       "3         False      False      False               86  \n",
       "4         False      False       True                7  \n",
       "...         ...        ...        ...              ...  \n",
       "38526     False       True       True              301  \n",
       "38527     False       True       True              317  \n",
       "38528     False       True       True              369  \n",
       "38529     False      False       True              490  \n",
       "38530     False      False       True              632  \n",
       "\n",
       "[38531 rows x 30 columns]"
      ]
     },
     "execution_count": 191,
     "metadata": {},
     "output_type": "execute_result"
    }
   ],
   "source": [
    "df"
   ]
  },
  {
   "cell_type": "code",
   "execution_count": 181,
   "id": "132cd099-5ecf-477f-9618-c16ff55a16fe",
   "metadata": {
    "execution": {
     "iopub.execute_input": "2024-07-06T15:04:32.541032Z",
     "iopub.status.busy": "2024-07-06T15:04:32.540736Z",
     "iopub.status.idle": "2024-07-06T15:04:32.546681Z",
     "shell.execute_reply": "2024-07-06T15:04:32.546234Z",
     "shell.execute_reply.started": "2024-07-06T15:04:32.541010Z"
    }
   },
   "outputs": [
    {
     "data": {
      "text/plain": [
       "55"
      ]
     },
     "execution_count": 181,
     "metadata": {},
     "output_type": "execute_result"
    }
   ],
   "source": [
    "df.manufacturer_name.nunique()"
   ]
  },
  {
   "cell_type": "code",
   "execution_count": 182,
   "id": "edd7d127-39e2-41d4-b974-ff0423cb584b",
   "metadata": {
    "execution": {
     "iopub.execute_input": "2024-07-06T15:04:32.687990Z",
     "iopub.status.busy": "2024-07-06T15:04:32.687420Z",
     "iopub.status.idle": "2024-07-06T15:04:32.700380Z",
     "shell.execute_reply": "2024-07-06T15:04:32.699447Z",
     "shell.execute_reply.started": "2024-07-06T15:04:32.687946Z"
    }
   },
   "outputs": [
    {
     "data": {
      "text/plain": [
       "308248"
      ]
     },
     "execution_count": 182,
     "metadata": {},
     "output_type": "execute_result"
    }
   ],
   "source": [
    "df.manufacturer_name.nbytes"
   ]
  },
  {
   "cell_type": "code",
   "execution_count": 183,
   "id": "c7992023-9a37-41be-9e5c-b7eca7338e50",
   "metadata": {
    "execution": {
     "iopub.execute_input": "2024-07-06T15:04:32.818098Z",
     "iopub.status.busy": "2024-07-06T15:04:32.817131Z",
     "iopub.status.idle": "2024-07-06T15:04:32.833574Z",
     "shell.execute_reply": "2024-07-06T15:04:32.833051Z",
     "shell.execute_reply.started": "2024-07-06T15:04:32.818029Z"
    }
   },
   "outputs": [
    {
     "data": {
      "text/plain": [
       "38971"
      ]
     },
     "execution_count": 183,
     "metadata": {},
     "output_type": "execute_result"
    }
   ],
   "source": [
    "df.manufacturer_name.astype('category').nbytes"
   ]
  },
  {
   "cell_type": "code",
   "execution_count": 184,
   "id": "2d6fcc9f-7482-47ef-a4b5-a9dda6834a9e",
   "metadata": {
    "execution": {
     "iopub.execute_input": "2024-07-06T15:04:32.959116Z",
     "iopub.status.busy": "2024-07-06T15:04:32.958249Z",
     "iopub.status.idle": "2024-07-06T15:04:32.970783Z",
     "shell.execute_reply": "2024-07-06T15:04:32.970020Z",
     "shell.execute_reply.started": "2024-07-06T15:04:32.959051Z"
    }
   },
   "outputs": [
    {
     "data": {
      "text/plain": [
       "308248"
      ]
     },
     "execution_count": 184,
     "metadata": {},
     "output_type": "execute_result"
    }
   ],
   "source": [
    "df.odometer_value.nbytes"
   ]
  },
  {
   "cell_type": "code",
   "execution_count": 185,
   "id": "ef6f6635-0a23-4c45-b27d-6e09a85060dd",
   "metadata": {
    "execution": {
     "iopub.execute_input": "2024-07-06T15:04:33.131776Z",
     "iopub.status.busy": "2024-07-06T15:04:33.131238Z",
     "iopub.status.idle": "2024-07-06T15:04:33.142558Z",
     "shell.execute_reply": "2024-07-06T15:04:33.141542Z",
     "shell.execute_reply.started": "2024-07-06T15:04:33.131737Z"
    }
   },
   "outputs": [
    {
     "data": {
      "text/plain": [
       "125566"
      ]
     },
     "execution_count": 185,
     "metadata": {},
     "output_type": "execute_result"
    }
   ],
   "source": [
    "df.odometer_value.astype('category').nbytes"
   ]
  },
  {
   "cell_type": "code",
   "execution_count": 186,
   "id": "1c1db1ea-86ca-491f-8c7f-a1de4af5e7ae",
   "metadata": {
    "execution": {
     "iopub.execute_input": "2024-07-06T15:04:33.525064Z",
     "iopub.status.busy": "2024-07-06T15:04:33.524539Z",
     "iopub.status.idle": "2024-07-06T15:04:33.537221Z",
     "shell.execute_reply": "2024-07-06T15:04:33.535600Z",
     "shell.execute_reply.started": "2024-07-06T15:04:33.525031Z"
    }
   },
   "outputs": [
    {
     "data": {
      "text/plain": [
       "6063"
      ]
     },
     "execution_count": 186,
     "metadata": {},
     "output_type": "execute_result"
    }
   ],
   "source": [
    "df.odometer_value.nunique()"
   ]
  },
  {
   "cell_type": "markdown",
   "id": "9b6bf3c1-c193-4129-a853-6ebfb3d22dd9",
   "metadata": {},
   "source": [
    "The memory saving on odometer_value is quite limited compared to what happens with manufacturer_name"
   ]
  },
  {
   "cell_type": "markdown",
   "id": "b4189b37-2751-4a49-b18c-19f217cd83a1",
   "metadata": {
    "execution": {
     "iopub.execute_input": "2024-07-06T14:59:36.767528Z",
     "iopub.status.busy": "2024-07-06T14:59:36.766927Z",
     "iopub.status.idle": "2024-07-06T14:59:36.779973Z",
     "shell.execute_reply": "2024-07-06T14:59:36.775936Z",
     "shell.execute_reply.started": "2024-07-06T14:59:36.767481Z"
    }
   },
   "source": [
    "Using categories can be frustrating as well because:\n",
    "- using .str accessor object to manipulate data converts the Series into objects\n",
    "- The .apply() method outputs a new Series as an object\n",
    "- The common methods of adding, removing, replacing or setting categories do not handle missing categories the same way\n",
    "- Numpy functions generally do not work with categorical Series\n"
   ]
  },
  {
   "cell_type": "code",
   "execution_count": 187,
   "id": "01fc72f2-49aa-4cf0-8868-df1146042052",
   "metadata": {
    "execution": {
     "iopub.execute_input": "2024-07-06T15:04:34.843093Z",
     "iopub.status.busy": "2024-07-06T15:04:34.842622Z",
     "iopub.status.idle": "2024-07-06T15:04:34.858278Z",
     "shell.execute_reply": "2024-07-06T15:04:34.857522Z",
     "shell.execute_reply.started": "2024-07-06T15:04:34.843060Z"
    }
   },
   "outputs": [
    {
     "name": "stdout",
     "output_type": "stream",
     "text": [
      "object\n"
     ]
    }
   ],
   "source": [
    "#Double check the variable is still a category after an operationabs\n",
    "df['color']=df['color'].astype('category')\n",
    "df['color']=df['color'].str.upper()\n",
    "print(df['color'].dtype)\n"
   ]
  },
  {
   "cell_type": "code",
   "execution_count": 188,
   "id": "6fb8ebea-a646-46cb-9975-c01098201ffb",
   "metadata": {
    "execution": {
     "iopub.execute_input": "2024-07-06T15:04:35.216507Z",
     "iopub.status.busy": "2024-07-06T15:04:35.216034Z",
     "iopub.status.idle": "2024-07-06T15:04:35.235174Z",
     "shell.execute_reply": "2024-07-06T15:04:35.230715Z",
     "shell.execute_reply.started": "2024-07-06T15:04:35.216474Z"
    }
   },
   "outputs": [
    {
     "name": "stdout",
     "output_type": "stream",
     "text": [
      "category\n"
     ]
    }
   ],
   "source": [
    "df['color']=df['color'].astype('category')\n",
    "print(df['color'].dtype)"
   ]
  },
  {
   "cell_type": "code",
   "execution_count": 201,
   "id": "72904da7-36ee-4c53-b161-7a998f06aab6",
   "metadata": {
    "execution": {
     "iopub.execute_input": "2024-07-06T15:06:41.087219Z",
     "iopub.status.busy": "2024-07-06T15:06:41.086706Z",
     "iopub.status.idle": "2024-07-06T15:06:41.102113Z",
     "shell.execute_reply": "2024-07-06T15:06:41.101231Z",
     "shell.execute_reply.started": "2024-07-06T15:06:41.087186Z"
    }
   },
   "outputs": [
    {
     "data": {
      "text/plain": [
       "color\n",
       "NaN       18172\n",
       "black      7705\n",
       "silver     6852\n",
       "blue       5802\n",
       "Name: count, dtype: int64"
      ]
     },
     "execution_count": 201,
     "metadata": {},
     "output_type": "execute_result"
    }
   ],
   "source": [
    "#Check the missing values\n",
    "df['color']=df['color'].astype('category')\n",
    "df['color']=df['color'].cat.set_categories(['black', 'silver', 'blue'])\n",
    "df['color'].value_counts(dropna=False)"
   ]
  },
  {
   "cell_type": "markdown",
   "id": "465d9bd1-9b56-4c76-b32d-c058bf58d910",
   "metadata": {},
   "source": [
    "## Label Encoding\n",
    "\n",
    "It codes each category with an integer from 0 to n-1 where n is the number of different categories.\n",
    "-1 is often use to encode missing values.\n",
    "Label encoding is often used to save memory\n",
    "\n",
    "The method cat.codes is used to crete codes:\n"
   ]
  },
  {
   "cell_type": "code",
   "execution_count": 203,
   "id": "8eb70cdd-2fba-4e06-bdb5-c719709c50af",
   "metadata": {
    "execution": {
     "iopub.execute_input": "2024-07-06T15:22:08.963557Z",
     "iopub.status.busy": "2024-07-06T15:22:08.963077Z",
     "iopub.status.idle": "2024-07-06T15:22:08.980898Z",
     "shell.execute_reply": "2024-07-06T15:22:08.980076Z",
     "shell.execute_reply.started": "2024-07-06T15:22:08.963525Z"
    }
   },
   "outputs": [],
   "source": [
    "df['manufacturer_name'] = df['manufacturer_name'].astype('category')"
   ]
  },
  {
   "cell_type": "code",
   "execution_count": 204,
   "id": "9dee5f91-5961-4a6a-b6b9-146720dc84ed",
   "metadata": {
    "execution": {
     "iopub.execute_input": "2024-07-06T15:22:25.322725Z",
     "iopub.status.busy": "2024-07-06T15:22:25.322428Z",
     "iopub.status.idle": "2024-07-06T15:22:25.326484Z",
     "shell.execute_reply": "2024-07-06T15:22:25.325786Z",
     "shell.execute_reply.started": "2024-07-06T15:22:25.322706Z"
    }
   },
   "outputs": [],
   "source": [
    "df['manufacturer_code'] = df['manufacturer_name'].cat.codes"
   ]
  },
  {
   "cell_type": "code",
   "execution_count": 205,
   "id": "573f501d-ea29-4dac-bc8e-bb33b003f356",
   "metadata": {
    "execution": {
     "iopub.execute_input": "2024-07-06T15:22:46.546688Z",
     "iopub.status.busy": "2024-07-06T15:22:46.545815Z",
     "iopub.status.idle": "2024-07-06T15:22:46.564605Z",
     "shell.execute_reply": "2024-07-06T15:22:46.563825Z",
     "shell.execute_reply.started": "2024-07-06T15:22:46.546623Z"
    }
   },
   "outputs": [
    {
     "data": {
      "text/html": [
       "<div>\n",
       "<style scoped>\n",
       "    .dataframe tbody tr th:only-of-type {\n",
       "        vertical-align: middle;\n",
       "    }\n",
       "\n",
       "    .dataframe tbody tr th {\n",
       "        vertical-align: top;\n",
       "    }\n",
       "\n",
       "    .dataframe thead th {\n",
       "        text-align: right;\n",
       "    }\n",
       "</style>\n",
       "<table border=\"1\" class=\"dataframe\">\n",
       "  <thead>\n",
       "    <tr style=\"text-align: right;\">\n",
       "      <th></th>\n",
       "      <th>manufacturer_code</th>\n",
       "      <th>manufacturer_name</th>\n",
       "    </tr>\n",
       "  </thead>\n",
       "  <tbody>\n",
       "    <tr>\n",
       "      <th>0</th>\n",
       "      <td>45</td>\n",
       "      <td>Subaru</td>\n",
       "    </tr>\n",
       "    <tr>\n",
       "      <th>1</th>\n",
       "      <td>45</td>\n",
       "      <td>Subaru</td>\n",
       "    </tr>\n",
       "    <tr>\n",
       "      <th>2</th>\n",
       "      <td>45</td>\n",
       "      <td>Subaru</td>\n",
       "    </tr>\n",
       "    <tr>\n",
       "      <th>3</th>\n",
       "      <td>45</td>\n",
       "      <td>Subaru</td>\n",
       "    </tr>\n",
       "    <tr>\n",
       "      <th>4</th>\n",
       "      <td>45</td>\n",
       "      <td>Subaru</td>\n",
       "    </tr>\n",
       "    <tr>\n",
       "      <th>...</th>\n",
       "      <td>...</td>\n",
       "      <td>...</td>\n",
       "    </tr>\n",
       "    <tr>\n",
       "      <th>38526</th>\n",
       "      <td>8</td>\n",
       "      <td>Chrysler</td>\n",
       "    </tr>\n",
       "    <tr>\n",
       "      <th>38527</th>\n",
       "      <td>8</td>\n",
       "      <td>Chrysler</td>\n",
       "    </tr>\n",
       "    <tr>\n",
       "      <th>38528</th>\n",
       "      <td>8</td>\n",
       "      <td>Chrysler</td>\n",
       "    </tr>\n",
       "    <tr>\n",
       "      <th>38529</th>\n",
       "      <td>8</td>\n",
       "      <td>Chrysler</td>\n",
       "    </tr>\n",
       "    <tr>\n",
       "      <th>38530</th>\n",
       "      <td>8</td>\n",
       "      <td>Chrysler</td>\n",
       "    </tr>\n",
       "  </tbody>\n",
       "</table>\n",
       "<p>38531 rows × 2 columns</p>\n",
       "</div>"
      ],
      "text/plain": [
       "       manufacturer_code manufacturer_name\n",
       "0                     45            Subaru\n",
       "1                     45            Subaru\n",
       "2                     45            Subaru\n",
       "3                     45            Subaru\n",
       "4                     45            Subaru\n",
       "...                  ...               ...\n",
       "38526                  8          Chrysler\n",
       "38527                  8          Chrysler\n",
       "38528                  8          Chrysler\n",
       "38529                  8          Chrysler\n",
       "38530                  8          Chrysler\n",
       "\n",
       "[38531 rows x 2 columns]"
      ]
     },
     "execution_count": 205,
     "metadata": {},
     "output_type": "execute_result"
    }
   ],
   "source": [
    "df[['manufacturer_code', 'manufacturer_name']]"
   ]
  },
  {
   "cell_type": "markdown",
   "id": "a4af90ff-7564-494e-a205-42011a9382fc",
   "metadata": {},
   "source": [
    "If we want to create a code book with the codes and names for later manipulation we can do so thanks to python's zip method:"
   ]
  },
  {
   "cell_type": "code",
   "execution_count": 206,
   "id": "a6ea7bdf-e332-40e5-b627-af5704090b42",
   "metadata": {
    "execution": {
     "iopub.execute_input": "2024-07-06T15:25:25.803875Z",
     "iopub.status.busy": "2024-07-06T15:25:25.803397Z",
     "iopub.status.idle": "2024-07-06T15:25:25.825227Z",
     "shell.execute_reply": "2024-07-06T15:25:25.824594Z",
     "shell.execute_reply.started": "2024-07-06T15:25:25.803842Z"
    }
   },
   "outputs": [],
   "source": [
    "name_map = dict(zip(df.manufacturer_code, df.manufacturer_name))"
   ]
  },
  {
   "cell_type": "code",
   "execution_count": 207,
   "id": "b1c5c693-4cd1-487f-b475-48ba75ebada1",
   "metadata": {
    "execution": {
     "iopub.execute_input": "2024-07-06T15:25:28.834831Z",
     "iopub.status.busy": "2024-07-06T15:25:28.834349Z",
     "iopub.status.idle": "2024-07-06T15:25:28.847134Z",
     "shell.execute_reply": "2024-07-06T15:25:28.845879Z",
     "shell.execute_reply.started": "2024-07-06T15:25:28.834798Z"
    }
   },
   "outputs": [
    {
     "data": {
      "text/plain": [
       "{45: 'Subaru',\n",
       " 24: 'LADA',\n",
       " 12: 'Dodge',\n",
       " 54: 'УАЗ',\n",
       " 23: 'Kia',\n",
       " 35: 'Opel',\n",
       " 53: 'Москвич',\n",
       " 1: 'Alfa Romeo',\n",
       " 0: 'Acura',\n",
       " 10: 'Dacia',\n",
       " 27: 'Lexus',\n",
       " 33: 'Mitsubishi',\n",
       " 25: 'Lancia',\n",
       " 9: 'Citroen',\n",
       " 32: 'Mini',\n",
       " 21: 'Jaguar',\n",
       " 38: 'Porsche',\n",
       " 44: 'SsangYong',\n",
       " 11: 'Daewoo',\n",
       " 15: 'Geely',\n",
       " 50: 'ВАЗ',\n",
       " 13: 'Fiat',\n",
       " 14: 'Ford',\n",
       " 39: 'Renault',\n",
       " 42: 'Seat',\n",
       " 40: 'Rover',\n",
       " 48: 'Volkswagen',\n",
       " 28: 'Lifan',\n",
       " 22: 'Jeep',\n",
       " 5: 'Cadillac',\n",
       " 2: 'Audi',\n",
       " 52: 'ЗАЗ',\n",
       " 47: 'Toyota',\n",
       " 51: 'ГАЗ',\n",
       " 49: 'Volvo',\n",
       " 7: 'Chevrolet',\n",
       " 16: 'Great Wall',\n",
       " 4: 'Buick',\n",
       " 37: 'Pontiac',\n",
       " 29: 'Lincoln',\n",
       " 18: 'Hyundai',\n",
       " 34: 'Nissan',\n",
       " 46: 'Suzuki',\n",
       " 3: 'BMW',\n",
       " 30: 'Mazda',\n",
       " 26: 'Land Rover',\n",
       " 20: 'Iveco',\n",
       " 43: 'Skoda',\n",
       " 41: 'Saab',\n",
       " 19: 'Infiniti',\n",
       " 6: 'Chery',\n",
       " 17: 'Honda',\n",
       " 31: 'Mercedes-Benz',\n",
       " 36: 'Peugeot',\n",
       " 8: 'Chrysler'}"
      ]
     },
     "execution_count": 207,
     "metadata": {},
     "output_type": "execute_result"
    }
   ],
   "source": [
    "name_map"
   ]
  },
  {
   "cell_type": "code",
   "execution_count": 208,
   "id": "6b042afd-1e84-4f52-a2ac-8e61e60e6632",
   "metadata": {
    "execution": {
     "iopub.execute_input": "2024-07-06T15:26:52.196501Z",
     "iopub.status.busy": "2024-07-06T15:26:52.196022Z",
     "iopub.status.idle": "2024-07-06T15:26:52.212040Z",
     "shell.execute_reply": "2024-07-06T15:26:52.210801Z",
     "shell.execute_reply.started": "2024-07-06T15:26:52.196469Z"
    }
   },
   "outputs": [
    {
     "data": {
      "text/plain": [
       "0          Subaru\n",
       "1          Subaru\n",
       "2          Subaru\n",
       "3          Subaru\n",
       "4          Subaru\n",
       "           ...   \n",
       "38526    Chrysler\n",
       "38527    Chrysler\n",
       "38528    Chrysler\n",
       "38529    Chrysler\n",
       "38530    Chrysler\n",
       "Name: manufacturer_code, Length: 38531, dtype: object"
      ]
     },
     "execution_count": 208,
     "metadata": {},
     "output_type": "execute_result"
    }
   ],
   "source": [
    "#to convert codes back into names:\n",
    "df['manufacturer_code'].map(name_map)"
   ]
  },
  {
   "cell_type": "code",
   "execution_count": 209,
   "id": "fa3446de-5c00-4a51-888f-a6269c7ad962",
   "metadata": {
    "execution": {
     "iopub.execute_input": "2024-07-06T15:28:43.316350Z",
     "iopub.status.busy": "2024-07-06T15:28:43.315869Z",
     "iopub.status.idle": "2024-07-06T15:28:43.338271Z",
     "shell.execute_reply": "2024-07-06T15:28:43.337620Z",
     "shell.execute_reply.started": "2024-07-06T15:28:43.316316Z"
    }
   },
   "outputs": [],
   "source": [
    "# To create a van code \n",
    "df['van_code'] = np.where (df['body_type'].str.contains('van', regex=False), 1, 0)"
   ]
  },
  {
   "cell_type": "code",
   "execution_count": 211,
   "id": "0567d2a9-34a0-4715-b93f-81e64216c173",
   "metadata": {
    "execution": {
     "iopub.execute_input": "2024-07-06T15:29:09.296870Z",
     "iopub.status.busy": "2024-07-06T15:29:09.292148Z",
     "iopub.status.idle": "2024-07-06T15:29:09.371888Z",
     "shell.execute_reply": "2024-07-06T15:29:09.357113Z",
     "shell.execute_reply.started": "2024-07-06T15:29:09.296425Z"
    }
   },
   "outputs": [
    {
     "data": {
      "text/plain": [
       "van_code\n",
       "0    34115\n",
       "1     4416\n",
       "Name: count, dtype: int64"
      ]
     },
     "execution_count": 211,
     "metadata": {},
     "output_type": "execute_result"
    }
   ],
   "source": [
    "df['van_code'].value_counts()"
   ]
  },
  {
   "cell_type": "markdown",
   "id": "f30d6eed-14c6-4b7a-9421-59dad4644cc1",
   "metadata": {},
   "source": [
    "### One hot encoding \n",
    "\n",
    "Very helpful for machine learning data preparation.\n",
    "\n",
    "The pandas get_dummies method does this"
   ]
  },
  {
   "cell_type": "code",
   "execution_count": 213,
   "id": "6776ba8c-c9cd-4ce2-948c-46e95ab49c77",
   "metadata": {
    "execution": {
     "iopub.execute_input": "2024-07-06T15:48:51.867424Z",
     "iopub.status.busy": "2024-07-06T15:48:51.866950Z",
     "iopub.status.idle": "2024-07-06T15:48:51.885204Z",
     "shell.execute_reply": "2024-07-06T15:48:51.884233Z",
     "shell.execute_reply.started": "2024-07-06T15:48:51.867391Z"
    }
   },
   "outputs": [
    {
     "data": {
      "text/html": [
       "<div>\n",
       "<style scoped>\n",
       "    .dataframe tbody tr th:only-of-type {\n",
       "        vertical-align: middle;\n",
       "    }\n",
       "\n",
       "    .dataframe tbody tr th {\n",
       "        vertical-align: top;\n",
       "    }\n",
       "\n",
       "    .dataframe thead th {\n",
       "        text-align: right;\n",
       "    }\n",
       "</style>\n",
       "<table border=\"1\" class=\"dataframe\">\n",
       "  <thead>\n",
       "    <tr style=\"text-align: right;\">\n",
       "      <th></th>\n",
       "      <th>odometer_value</th>\n",
       "      <th>color</th>\n",
       "    </tr>\n",
       "  </thead>\n",
       "  <tbody>\n",
       "    <tr>\n",
       "      <th>0</th>\n",
       "      <td>190000</td>\n",
       "      <td>silver</td>\n",
       "    </tr>\n",
       "    <tr>\n",
       "      <th>1</th>\n",
       "      <td>290000</td>\n",
       "      <td>blue</td>\n",
       "    </tr>\n",
       "    <tr>\n",
       "      <th>2</th>\n",
       "      <td>402000</td>\n",
       "      <td>NaN</td>\n",
       "    </tr>\n",
       "    <tr>\n",
       "      <th>3</th>\n",
       "      <td>10000</td>\n",
       "      <td>blue</td>\n",
       "    </tr>\n",
       "    <tr>\n",
       "      <th>4</th>\n",
       "      <td>280000</td>\n",
       "      <td>black</td>\n",
       "    </tr>\n",
       "  </tbody>\n",
       "</table>\n",
       "</div>"
      ],
      "text/plain": [
       "   odometer_value   color\n",
       "0          190000  silver\n",
       "1          290000    blue\n",
       "2          402000     NaN\n",
       "3           10000    blue\n",
       "4          280000   black"
      ]
     },
     "execution_count": 213,
     "metadata": {},
     "output_type": "execute_result"
    }
   ],
   "source": [
    "df[['odometer_value', 'color']].head()"
   ]
  },
  {
   "cell_type": "code",
   "execution_count": 214,
   "id": "436706eb-3785-4b86-aa1e-7f1ac013dba9",
   "metadata": {
    "execution": {
     "iopub.execute_input": "2024-07-06T15:49:18.745531Z",
     "iopub.status.busy": "2024-07-06T15:49:18.745042Z",
     "iopub.status.idle": "2024-07-06T15:49:18.758281Z",
     "shell.execute_reply": "2024-07-06T15:49:18.757489Z",
     "shell.execute_reply.started": "2024-07-06T15:49:18.745497Z"
    }
   },
   "outputs": [],
   "source": [
    "df_onehot = pd.get_dummies(df[['odometer_value', 'color']])"
   ]
  },
  {
   "cell_type": "code",
   "execution_count": 215,
   "id": "686c4415-25e3-4270-ba50-8a446e836e14",
   "metadata": {
    "execution": {
     "iopub.execute_input": "2024-07-06T15:49:25.698177Z",
     "iopub.status.busy": "2024-07-06T15:49:25.697695Z",
     "iopub.status.idle": "2024-07-06T15:49:25.724193Z",
     "shell.execute_reply": "2024-07-06T15:49:25.722748Z",
     "shell.execute_reply.started": "2024-07-06T15:49:25.698146Z"
    }
   },
   "outputs": [
    {
     "data": {
      "text/html": [
       "<div>\n",
       "<style scoped>\n",
       "    .dataframe tbody tr th:only-of-type {\n",
       "        vertical-align: middle;\n",
       "    }\n",
       "\n",
       "    .dataframe tbody tr th {\n",
       "        vertical-align: top;\n",
       "    }\n",
       "\n",
       "    .dataframe thead th {\n",
       "        text-align: right;\n",
       "    }\n",
       "</style>\n",
       "<table border=\"1\" class=\"dataframe\">\n",
       "  <thead>\n",
       "    <tr style=\"text-align: right;\">\n",
       "      <th></th>\n",
       "      <th>odometer_value</th>\n",
       "      <th>color_black</th>\n",
       "      <th>color_silver</th>\n",
       "      <th>color_blue</th>\n",
       "    </tr>\n",
       "  </thead>\n",
       "  <tbody>\n",
       "    <tr>\n",
       "      <th>0</th>\n",
       "      <td>190000</td>\n",
       "      <td>False</td>\n",
       "      <td>True</td>\n",
       "      <td>False</td>\n",
       "    </tr>\n",
       "    <tr>\n",
       "      <th>1</th>\n",
       "      <td>290000</td>\n",
       "      <td>False</td>\n",
       "      <td>False</td>\n",
       "      <td>True</td>\n",
       "    </tr>\n",
       "    <tr>\n",
       "      <th>2</th>\n",
       "      <td>402000</td>\n",
       "      <td>False</td>\n",
       "      <td>False</td>\n",
       "      <td>False</td>\n",
       "    </tr>\n",
       "    <tr>\n",
       "      <th>3</th>\n",
       "      <td>10000</td>\n",
       "      <td>False</td>\n",
       "      <td>False</td>\n",
       "      <td>True</td>\n",
       "    </tr>\n",
       "    <tr>\n",
       "      <th>4</th>\n",
       "      <td>280000</td>\n",
       "      <td>True</td>\n",
       "      <td>False</td>\n",
       "      <td>False</td>\n",
       "    </tr>\n",
       "  </tbody>\n",
       "</table>\n",
       "</div>"
      ],
      "text/plain": [
       "   odometer_value  color_black  color_silver  color_blue\n",
       "0          190000        False          True       False\n",
       "1          290000        False         False        True\n",
       "2          402000        False         False       False\n",
       "3           10000        False         False        True\n",
       "4          280000         True         False       False"
      ]
     },
     "execution_count": 215,
     "metadata": {},
     "output_type": "execute_result"
    }
   ],
   "source": [
    "df_onehot.head()"
   ]
  },
  {
   "cell_type": "code",
   "execution_count": 217,
   "id": "be3d55c3-d53f-4a65-acae-3c27a5d863e9",
   "metadata": {
    "execution": {
     "iopub.execute_input": "2024-07-06T15:51:19.701672Z",
     "iopub.status.busy": "2024-07-06T15:51:19.701022Z",
     "iopub.status.idle": "2024-07-06T15:51:19.729523Z",
     "shell.execute_reply": "2024-07-06T15:51:19.728711Z",
     "shell.execute_reply.started": "2024-07-06T15:51:19.701566Z"
    }
   },
   "outputs": [],
   "source": [
    "df_onehot = pd.get_dummies(df, columns=['color'], prefix='onehot')"
   ]
  },
  {
   "cell_type": "code",
   "execution_count": 218,
   "id": "229e082a-9d92-4411-87a8-64f4e6f17883",
   "metadata": {
    "execution": {
     "iopub.execute_input": "2024-07-06T15:51:24.244981Z",
     "iopub.status.busy": "2024-07-06T15:51:24.243853Z",
     "iopub.status.idle": "2024-07-06T15:51:24.280232Z",
     "shell.execute_reply": "2024-07-06T15:51:24.279593Z",
     "shell.execute_reply.started": "2024-07-06T15:51:24.244937Z"
    }
   },
   "outputs": [
    {
     "data": {
      "text/html": [
       "<div>\n",
       "<style scoped>\n",
       "    .dataframe tbody tr th:only-of-type {\n",
       "        vertical-align: middle;\n",
       "    }\n",
       "\n",
       "    .dataframe tbody tr th {\n",
       "        vertical-align: top;\n",
       "    }\n",
       "\n",
       "    .dataframe thead th {\n",
       "        text-align: right;\n",
       "    }\n",
       "</style>\n",
       "<table border=\"1\" class=\"dataframe\">\n",
       "  <thead>\n",
       "    <tr style=\"text-align: right;\">\n",
       "      <th></th>\n",
       "      <th>manufacturer_name</th>\n",
       "      <th>model_name</th>\n",
       "      <th>transmission</th>\n",
       "      <th>odometer_value</th>\n",
       "      <th>year_produced</th>\n",
       "      <th>engine_fuel</th>\n",
       "      <th>engine_has_gas</th>\n",
       "      <th>engine_type</th>\n",
       "      <th>engine_capacity</th>\n",
       "      <th>body_type</th>\n",
       "      <th>...</th>\n",
       "      <th>feature_6</th>\n",
       "      <th>feature_7</th>\n",
       "      <th>feature_8</th>\n",
       "      <th>feature_9</th>\n",
       "      <th>duration_listed</th>\n",
       "      <th>manufacturer_code</th>\n",
       "      <th>van_code</th>\n",
       "      <th>onehot_black</th>\n",
       "      <th>onehot_silver</th>\n",
       "      <th>onehot_blue</th>\n",
       "    </tr>\n",
       "  </thead>\n",
       "  <tbody>\n",
       "    <tr>\n",
       "      <th>0</th>\n",
       "      <td>Subaru</td>\n",
       "      <td>Outback</td>\n",
       "      <td>automatic</td>\n",
       "      <td>190000</td>\n",
       "      <td>2010</td>\n",
       "      <td>gasoline</td>\n",
       "      <td>False</td>\n",
       "      <td>gasoline</td>\n",
       "      <td>2.5</td>\n",
       "      <td>universal</td>\n",
       "      <td>...</td>\n",
       "      <td>False</td>\n",
       "      <td>True</td>\n",
       "      <td>True</td>\n",
       "      <td>True</td>\n",
       "      <td>16</td>\n",
       "      <td>45</td>\n",
       "      <td>0</td>\n",
       "      <td>False</td>\n",
       "      <td>True</td>\n",
       "      <td>False</td>\n",
       "    </tr>\n",
       "    <tr>\n",
       "      <th>1</th>\n",
       "      <td>Subaru</td>\n",
       "      <td>Outback</td>\n",
       "      <td>automatic</td>\n",
       "      <td>290000</td>\n",
       "      <td>2002</td>\n",
       "      <td>gasoline</td>\n",
       "      <td>False</td>\n",
       "      <td>gasoline</td>\n",
       "      <td>3.0</td>\n",
       "      <td>universal</td>\n",
       "      <td>...</td>\n",
       "      <td>False</td>\n",
       "      <td>False</td>\n",
       "      <td>False</td>\n",
       "      <td>True</td>\n",
       "      <td>83</td>\n",
       "      <td>45</td>\n",
       "      <td>0</td>\n",
       "      <td>False</td>\n",
       "      <td>False</td>\n",
       "      <td>True</td>\n",
       "    </tr>\n",
       "    <tr>\n",
       "      <th>2</th>\n",
       "      <td>Subaru</td>\n",
       "      <td>Forester</td>\n",
       "      <td>automatic</td>\n",
       "      <td>402000</td>\n",
       "      <td>2001</td>\n",
       "      <td>gasoline</td>\n",
       "      <td>False</td>\n",
       "      <td>gasoline</td>\n",
       "      <td>2.5</td>\n",
       "      <td>suv</td>\n",
       "      <td>...</td>\n",
       "      <td>False</td>\n",
       "      <td>False</td>\n",
       "      <td>True</td>\n",
       "      <td>True</td>\n",
       "      <td>151</td>\n",
       "      <td>45</td>\n",
       "      <td>0</td>\n",
       "      <td>False</td>\n",
       "      <td>False</td>\n",
       "      <td>False</td>\n",
       "    </tr>\n",
       "    <tr>\n",
       "      <th>3</th>\n",
       "      <td>Subaru</td>\n",
       "      <td>Impreza</td>\n",
       "      <td>mechanical</td>\n",
       "      <td>10000</td>\n",
       "      <td>1999</td>\n",
       "      <td>gasoline</td>\n",
       "      <td>False</td>\n",
       "      <td>gasoline</td>\n",
       "      <td>3.0</td>\n",
       "      <td>sedan</td>\n",
       "      <td>...</td>\n",
       "      <td>False</td>\n",
       "      <td>False</td>\n",
       "      <td>False</td>\n",
       "      <td>False</td>\n",
       "      <td>86</td>\n",
       "      <td>45</td>\n",
       "      <td>0</td>\n",
       "      <td>False</td>\n",
       "      <td>False</td>\n",
       "      <td>True</td>\n",
       "    </tr>\n",
       "    <tr>\n",
       "      <th>4</th>\n",
       "      <td>Subaru</td>\n",
       "      <td>Legacy</td>\n",
       "      <td>automatic</td>\n",
       "      <td>280000</td>\n",
       "      <td>2001</td>\n",
       "      <td>gasoline</td>\n",
       "      <td>False</td>\n",
       "      <td>gasoline</td>\n",
       "      <td>2.5</td>\n",
       "      <td>universal</td>\n",
       "      <td>...</td>\n",
       "      <td>False</td>\n",
       "      <td>False</td>\n",
       "      <td>False</td>\n",
       "      <td>True</td>\n",
       "      <td>7</td>\n",
       "      <td>45</td>\n",
       "      <td>0</td>\n",
       "      <td>True</td>\n",
       "      <td>False</td>\n",
       "      <td>False</td>\n",
       "    </tr>\n",
       "    <tr>\n",
       "      <th>...</th>\n",
       "      <td>...</td>\n",
       "      <td>...</td>\n",
       "      <td>...</td>\n",
       "      <td>...</td>\n",
       "      <td>...</td>\n",
       "      <td>...</td>\n",
       "      <td>...</td>\n",
       "      <td>...</td>\n",
       "      <td>...</td>\n",
       "      <td>...</td>\n",
       "      <td>...</td>\n",
       "      <td>...</td>\n",
       "      <td>...</td>\n",
       "      <td>...</td>\n",
       "      <td>...</td>\n",
       "      <td>...</td>\n",
       "      <td>...</td>\n",
       "      <td>...</td>\n",
       "      <td>...</td>\n",
       "      <td>...</td>\n",
       "      <td>...</td>\n",
       "    </tr>\n",
       "    <tr>\n",
       "      <th>38526</th>\n",
       "      <td>Chrysler</td>\n",
       "      <td>300</td>\n",
       "      <td>automatic</td>\n",
       "      <td>290000</td>\n",
       "      <td>2000</td>\n",
       "      <td>gasoline</td>\n",
       "      <td>False</td>\n",
       "      <td>gasoline</td>\n",
       "      <td>3.5</td>\n",
       "      <td>sedan</td>\n",
       "      <td>...</td>\n",
       "      <td>False</td>\n",
       "      <td>False</td>\n",
       "      <td>True</td>\n",
       "      <td>True</td>\n",
       "      <td>301</td>\n",
       "      <td>8</td>\n",
       "      <td>0</td>\n",
       "      <td>False</td>\n",
       "      <td>True</td>\n",
       "      <td>False</td>\n",
       "    </tr>\n",
       "    <tr>\n",
       "      <th>38527</th>\n",
       "      <td>Chrysler</td>\n",
       "      <td>PT Cruiser</td>\n",
       "      <td>mechanical</td>\n",
       "      <td>321000</td>\n",
       "      <td>2004</td>\n",
       "      <td>diesel</td>\n",
       "      <td>False</td>\n",
       "      <td>diesel</td>\n",
       "      <td>2.2</td>\n",
       "      <td>hatchback</td>\n",
       "      <td>...</td>\n",
       "      <td>False</td>\n",
       "      <td>False</td>\n",
       "      <td>True</td>\n",
       "      <td>True</td>\n",
       "      <td>317</td>\n",
       "      <td>8</td>\n",
       "      <td>0</td>\n",
       "      <td>False</td>\n",
       "      <td>False</td>\n",
       "      <td>True</td>\n",
       "    </tr>\n",
       "    <tr>\n",
       "      <th>38528</th>\n",
       "      <td>Chrysler</td>\n",
       "      <td>300</td>\n",
       "      <td>automatic</td>\n",
       "      <td>777957</td>\n",
       "      <td>2000</td>\n",
       "      <td>gasoline</td>\n",
       "      <td>False</td>\n",
       "      <td>gasoline</td>\n",
       "      <td>3.5</td>\n",
       "      <td>sedan</td>\n",
       "      <td>...</td>\n",
       "      <td>False</td>\n",
       "      <td>False</td>\n",
       "      <td>True</td>\n",
       "      <td>True</td>\n",
       "      <td>369</td>\n",
       "      <td>8</td>\n",
       "      <td>0</td>\n",
       "      <td>False</td>\n",
       "      <td>False</td>\n",
       "      <td>True</td>\n",
       "    </tr>\n",
       "    <tr>\n",
       "      <th>38529</th>\n",
       "      <td>Chrysler</td>\n",
       "      <td>PT Cruiser</td>\n",
       "      <td>mechanical</td>\n",
       "      <td>20000</td>\n",
       "      <td>2001</td>\n",
       "      <td>gasoline</td>\n",
       "      <td>False</td>\n",
       "      <td>gasoline</td>\n",
       "      <td>2.0</td>\n",
       "      <td>minivan</td>\n",
       "      <td>...</td>\n",
       "      <td>False</td>\n",
       "      <td>False</td>\n",
       "      <td>False</td>\n",
       "      <td>True</td>\n",
       "      <td>490</td>\n",
       "      <td>8</td>\n",
       "      <td>1</td>\n",
       "      <td>True</td>\n",
       "      <td>False</td>\n",
       "      <td>False</td>\n",
       "    </tr>\n",
       "    <tr>\n",
       "      <th>38530</th>\n",
       "      <td>Chrysler</td>\n",
       "      <td>Voyager</td>\n",
       "      <td>automatic</td>\n",
       "      <td>297729</td>\n",
       "      <td>2000</td>\n",
       "      <td>gasoline</td>\n",
       "      <td>False</td>\n",
       "      <td>gasoline</td>\n",
       "      <td>2.4</td>\n",
       "      <td>minivan</td>\n",
       "      <td>...</td>\n",
       "      <td>False</td>\n",
       "      <td>False</td>\n",
       "      <td>False</td>\n",
       "      <td>True</td>\n",
       "      <td>632</td>\n",
       "      <td>8</td>\n",
       "      <td>1</td>\n",
       "      <td>False</td>\n",
       "      <td>True</td>\n",
       "      <td>False</td>\n",
       "    </tr>\n",
       "  </tbody>\n",
       "</table>\n",
       "<p>38531 rows × 34 columns</p>\n",
       "</div>"
      ],
      "text/plain": [
       "      manufacturer_name  model_name transmission  odometer_value  \\\n",
       "0                Subaru     Outback    automatic          190000   \n",
       "1                Subaru     Outback    automatic          290000   \n",
       "2                Subaru    Forester    automatic          402000   \n",
       "3                Subaru     Impreza   mechanical           10000   \n",
       "4                Subaru      Legacy    automatic          280000   \n",
       "...                 ...         ...          ...             ...   \n",
       "38526          Chrysler         300    automatic          290000   \n",
       "38527          Chrysler  PT Cruiser   mechanical          321000   \n",
       "38528          Chrysler         300    automatic          777957   \n",
       "38529          Chrysler  PT Cruiser   mechanical           20000   \n",
       "38530          Chrysler     Voyager    automatic          297729   \n",
       "\n",
       "       year_produced engine_fuel  engine_has_gas engine_type  engine_capacity  \\\n",
       "0               2010    gasoline           False    gasoline              2.5   \n",
       "1               2002    gasoline           False    gasoline              3.0   \n",
       "2               2001    gasoline           False    gasoline              2.5   \n",
       "3               1999    gasoline           False    gasoline              3.0   \n",
       "4               2001    gasoline           False    gasoline              2.5   \n",
       "...              ...         ...             ...         ...              ...   \n",
       "38526           2000    gasoline           False    gasoline              3.5   \n",
       "38527           2004      diesel           False      diesel              2.2   \n",
       "38528           2000    gasoline           False    gasoline              3.5   \n",
       "38529           2001    gasoline           False    gasoline              2.0   \n",
       "38530           2000    gasoline           False    gasoline              2.4   \n",
       "\n",
       "       body_type  ...  feature_6 feature_7 feature_8  feature_9  \\\n",
       "0      universal  ...      False      True      True       True   \n",
       "1      universal  ...      False     False     False       True   \n",
       "2            suv  ...      False     False      True       True   \n",
       "3          sedan  ...      False     False     False      False   \n",
       "4      universal  ...      False     False     False       True   \n",
       "...          ...  ...        ...       ...       ...        ...   \n",
       "38526      sedan  ...      False     False      True       True   \n",
       "38527  hatchback  ...      False     False      True       True   \n",
       "38528      sedan  ...      False     False      True       True   \n",
       "38529    minivan  ...      False     False     False       True   \n",
       "38530    minivan  ...      False     False     False       True   \n",
       "\n",
       "       duration_listed manufacturer_code  van_code  onehot_black  \\\n",
       "0                   16                45         0         False   \n",
       "1                   83                45         0         False   \n",
       "2                  151                45         0         False   \n",
       "3                   86                45         0         False   \n",
       "4                    7                45         0          True   \n",
       "...                ...               ...       ...           ...   \n",
       "38526              301                 8         0         False   \n",
       "38527              317                 8         0         False   \n",
       "38528              369                 8         0         False   \n",
       "38529              490                 8         1          True   \n",
       "38530              632                 8         1         False   \n",
       "\n",
       "       onehot_silver  onehot_blue  \n",
       "0               True        False  \n",
       "1              False         True  \n",
       "2              False        False  \n",
       "3              False         True  \n",
       "4              False        False  \n",
       "...              ...          ...  \n",
       "38526           True        False  \n",
       "38527          False         True  \n",
       "38528          False         True  \n",
       "38529          False        False  \n",
       "38530           True        False  \n",
       "\n",
       "[38531 rows x 34 columns]"
      ]
     },
     "execution_count": 218,
     "metadata": {},
     "output_type": "execute_result"
    }
   ],
   "source": [
    "df_onehot"
   ]
  },
  {
   "cell_type": "code",
   "execution_count": null,
   "id": "7646d5bb-8c94-4df1-9afe-bb5e8dbca88c",
   "metadata": {},
   "outputs": [],
   "source": []
  }
 ],
 "metadata": {
  "kernelspec": {
   "display_name": "Python 3 (ipykernel)",
   "language": "python",
   "name": "python3"
  },
  "language_info": {
   "codemirror_mode": {
    "name": "ipython",
    "version": 3
   },
   "file_extension": ".py",
   "mimetype": "text/x-python",
   "name": "python",
   "nbconvert_exporter": "python",
   "pygments_lexer": "ipython3",
   "version": "3.12.4"
  }
 },
 "nbformat": 4,
 "nbformat_minor": 5
}
