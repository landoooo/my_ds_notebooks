{
 "cells": [
  {
   "cell_type": "markdown",
   "id": "4af7c156-2594-4382-85aa-befe7acbf6a4",
   "metadata": {},
   "source": [
    "# Cleaning data\n"
   ]
  },
  {
   "cell_type": "code",
   "execution_count": 64,
   "id": "88e4ab90-2c37-47c3-8280-56f030f736b8",
   "metadata": {
    "execution": {
     "iopub.execute_input": "2024-07-15T14:53:19.807232Z",
     "iopub.status.busy": "2024-07-15T14:53:19.806437Z",
     "iopub.status.idle": "2024-07-15T14:53:19.819457Z",
     "shell.execute_reply": "2024-07-15T14:53:19.818043Z",
     "shell.execute_reply.started": "2024-07-15T14:53:19.807192Z"
    }
   },
   "outputs": [],
   "source": [
    "import pandas as pd\n",
    "import numpy as np\n",
    "\n",
    "import datetime as dt\n",
    "\n",
    "import warnings\n",
    "warnings.filterwarnings('ignore')"
   ]
  },
  {
   "cell_type": "markdown",
   "id": "9cf52f3b-9d47-4332-8b4c-3c85c09e8e40",
   "metadata": {},
   "source": [
    "**!! The current csv file doent contain whats expected to run the notebook**\n",
    "\n",
    "In the typical DS workflow we: \n",
    "1. Access the data\n",
    "2. Explore and process data\n",
    "3. Extract Insights\n",
    "4. Report Insights\n",
    "\n",
    "Dirty data can appear due to wrong encoding, duplicate entries, wrong processing, etc... If the raw data is garbage, we cannot expect but garbage to be output.\n",
    "\n",
    "## Ensuring the right data types\n",
    "\n",
    "First thing to check is that our variables have the right datatype. \n",
    "\n",
    "### Strings to integers"
   ]
  },
  {
   "cell_type": "code",
   "execution_count": 37,
   "id": "0acecebc-f599-4776-bed1-c6552c618ddd",
   "metadata": {
    "execution": {
     "iopub.execute_input": "2024-07-15T13:52:06.025417Z",
     "iopub.status.busy": "2024-07-15T13:52:06.024487Z",
     "iopub.status.idle": "2024-07-15T13:52:06.080249Z",
     "shell.execute_reply": "2024-07-15T13:52:06.079726Z",
     "shell.execute_reply.started": "2024-07-15T13:52:06.025346Z"
    }
   },
   "outputs": [
    {
     "name": "stdout",
     "output_type": "stream",
     "text": [
      "<class 'pandas.core.frame.DataFrame'>\n",
      "RangeIndex: 25760 entries, 0 to 25759\n",
      "Data columns (total 10 columns):\n",
      " #   Column           Non-Null Count  Dtype \n",
      "---  ------           --------------  ----- \n",
      " 0   Unnamed: 0       25760 non-null  int64 \n",
      " 1   duration         25760 non-null  object\n",
      " 2   station_A_id     25760 non-null  int64 \n",
      " 3   station_A_name   25760 non-null  object\n",
      " 4   station_B_id     25760 non-null  int64 \n",
      " 5   station_B_name   25760 non-null  object\n",
      " 6   bike_id          25760 non-null  int64 \n",
      " 7   user_type        25760 non-null  int64 \n",
      " 8   user_birth_year  25760 non-null  int64 \n",
      " 9   user_gender      25760 non-null  object\n",
      "dtypes: int64(6), object(4)\n",
      "memory usage: 2.0+ MB\n",
      "None\n",
      "count    25760.000000\n",
      "mean         2.008385\n",
      "std          0.704541\n",
      "min          1.000000\n",
      "25%          2.000000\n",
      "50%          2.000000\n",
      "75%          3.000000\n",
      "max          3.000000\n",
      "Name: user_type, dtype: float64\n"
     ]
    },
    {
     "data": {
      "text/plain": [
       "count     25760\n",
       "unique        3\n",
       "top           2\n",
       "freq      12972\n",
       "Name: user_type_cat, dtype: int64"
      ]
     },
     "execution_count": 37,
     "metadata": {},
     "output_type": "execute_result"
    }
   ],
   "source": [
    "ride_sharing = pd.read_csv('../data/ride_sharing_new.csv')\n",
    "\n",
    "print(ride_sharing.info())\n",
    "\n",
    "print(ride_sharing['user_type'].describe())\n",
    "\n",
    "ride_sharing['user_type_cat'] = ride_sharing['user_type'].astype('category')\n",
    "\n",
    "assert ride_sharing['user_type_cat'].dtype == 'category'\n",
    "\n",
    "ride_sharing['user_type_cat'].describe()"
   ]
  },
  {
   "cell_type": "code",
   "execution_count": 38,
   "id": "39bb4379-feee-4bad-b6dd-6111a4635e73",
   "metadata": {
    "execution": {
     "iopub.execute_input": "2024-07-15T13:52:06.138140Z",
     "iopub.status.busy": "2024-07-15T13:52:06.137847Z",
     "iopub.status.idle": "2024-07-15T13:52:06.143045Z",
     "shell.execute_reply": "2024-07-15T13:52:06.142517Z",
     "shell.execute_reply.started": "2024-07-15T13:52:06.138120Z"
    }
   },
   "outputs": [
    {
     "data": {
      "text/plain": [
       "0        12 minutes\n",
       "1        24 minutes\n",
       "2         8 minutes\n",
       "3         4 minutes\n",
       "4        11 minutes\n",
       "            ...    \n",
       "25755    11 minutes\n",
       "25756    10 minutes\n",
       "25757    14 minutes\n",
       "25758    14 minutes\n",
       "25759    29 minutes\n",
       "Name: duration, Length: 25760, dtype: object"
      ]
     },
     "execution_count": 38,
     "metadata": {},
     "output_type": "execute_result"
    }
   ],
   "source": [
    "ride_sharing['duration']"
   ]
  },
  {
   "cell_type": "code",
   "execution_count": 39,
   "id": "9379193a-8545-442f-9dc7-068b0dece7d1",
   "metadata": {
    "execution": {
     "iopub.execute_input": "2024-07-15T13:52:06.242891Z",
     "iopub.status.busy": "2024-07-15T13:52:06.242341Z",
     "iopub.status.idle": "2024-07-15T13:52:06.277225Z",
     "shell.execute_reply": "2024-07-15T13:52:06.276736Z",
     "shell.execute_reply.started": "2024-07-15T13:52:06.242852Z"
    }
   },
   "outputs": [
    {
     "name": "stdout",
     "output_type": "stream",
     "text": [
      "         duration duration_trim  duration_time\n",
      "0      12 minutes           12              12\n",
      "1      24 minutes           24              24\n",
      "2       8 minutes            8               8\n",
      "3       4 minutes            4               4\n",
      "4      11 minutes           11              11\n",
      "...           ...           ...            ...\n",
      "25755  11 minutes           11              11\n",
      "25756  10 minutes           10              10\n",
      "25757  14 minutes           14              14\n",
      "25758  14 minutes           14              14\n",
      "25759  29 minutes           29              29\n",
      "\n",
      "[25760 rows x 3 columns]\n",
      "11.389052795031056\n"
     ]
    }
   ],
   "source": [
    "ride_sharing['duration_trim'] = ride_sharing['duration'].str.strip('minutes')\n",
    "\n",
    "ride_sharing['duration_time'] = ride_sharing['duration_trim'].astype('int')\n",
    "\n",
    "assert ride_sharing['duration_time'].dtype == 'int'\n",
    "\n",
    "print(ride_sharing[['duration','duration_trim','duration_time']])\n",
    "print(ride_sharing.duration_time.mean())"
   ]
  },
  {
   "cell_type": "markdown",
   "id": "f5236aff-8273-464d-8ab6-0a04b657fa8f",
   "metadata": {},
   "source": [
    "## Data range constraints\n",
    "\n",
    "When the range of a certain variable is known, it can happen that there are observations outside the range.\n",
    "\n",
    "What to do with out of range data:\n",
    "- Dropping data: go for this iff the amount of impacted data is low and after understanding the root cause of the issues.\n",
    "- Setting custom minimums or maximums\n",
    "- Setting custom value depending on business assumptions\n",
    "\n"
   ]
  },
  {
   "cell_type": "code",
   "execution_count": 40,
   "id": "e208d603-486d-4290-80e3-c6947858ae4b",
   "metadata": {
    "execution": {
     "iopub.execute_input": "2024-07-15T13:52:06.473843Z",
     "iopub.status.busy": "2024-07-15T13:52:06.473287Z",
     "iopub.status.idle": "2024-07-15T13:52:06.505425Z",
     "shell.execute_reply": "2024-07-15T13:52:06.504705Z",
     "shell.execute_reply.started": "2024-07-15T13:52:06.473807Z"
    }
   },
   "outputs": [
    {
     "data": {
      "text/html": [
       "<div>\n",
       "<style scoped>\n",
       "    .dataframe tbody tr th:only-of-type {\n",
       "        vertical-align: middle;\n",
       "    }\n",
       "\n",
       "    .dataframe tbody tr th {\n",
       "        vertical-align: top;\n",
       "    }\n",
       "\n",
       "    .dataframe thead th {\n",
       "        text-align: right;\n",
       "    }\n",
       "</style>\n",
       "<table border=\"1\" class=\"dataframe\">\n",
       "  <thead>\n",
       "    <tr style=\"text-align: right;\">\n",
       "      <th></th>\n",
       "      <th>Unnamed: 0</th>\n",
       "      <th>station_A_id</th>\n",
       "      <th>station_B_id</th>\n",
       "      <th>bike_id</th>\n",
       "      <th>user_type</th>\n",
       "      <th>user_birth_year</th>\n",
       "      <th>duration_time</th>\n",
       "    </tr>\n",
       "  </thead>\n",
       "  <tbody>\n",
       "    <tr>\n",
       "      <th>count</th>\n",
       "      <td>25760.000000</td>\n",
       "      <td>25760.000000</td>\n",
       "      <td>25760.000000</td>\n",
       "      <td>25760.000000</td>\n",
       "      <td>25760.000000</td>\n",
       "      <td>25760.000000</td>\n",
       "      <td>25760.000000</td>\n",
       "    </tr>\n",
       "    <tr>\n",
       "      <th>mean</th>\n",
       "      <td>12879.500000</td>\n",
       "      <td>31.023602</td>\n",
       "      <td>89.558579</td>\n",
       "      <td>4107.621467</td>\n",
       "      <td>2.008385</td>\n",
       "      <td>1983.054969</td>\n",
       "      <td>11.389053</td>\n",
       "    </tr>\n",
       "    <tr>\n",
       "      <th>std</th>\n",
       "      <td>7436.415803</td>\n",
       "      <td>26.409263</td>\n",
       "      <td>105.144103</td>\n",
       "      <td>1576.315767</td>\n",
       "      <td>0.704541</td>\n",
       "      <td>10.010992</td>\n",
       "      <td>23.500516</td>\n",
       "    </tr>\n",
       "    <tr>\n",
       "      <th>min</th>\n",
       "      <td>0.000000</td>\n",
       "      <td>3.000000</td>\n",
       "      <td>3.000000</td>\n",
       "      <td>11.000000</td>\n",
       "      <td>1.000000</td>\n",
       "      <td>1901.000000</td>\n",
       "      <td>1.000000</td>\n",
       "    </tr>\n",
       "    <tr>\n",
       "      <th>25%</th>\n",
       "      <td>6439.750000</td>\n",
       "      <td>15.000000</td>\n",
       "      <td>21.000000</td>\n",
       "      <td>3106.000000</td>\n",
       "      <td>2.000000</td>\n",
       "      <td>1978.000000</td>\n",
       "      <td>6.000000</td>\n",
       "    </tr>\n",
       "    <tr>\n",
       "      <th>50%</th>\n",
       "      <td>12879.500000</td>\n",
       "      <td>21.000000</td>\n",
       "      <td>58.000000</td>\n",
       "      <td>4821.000000</td>\n",
       "      <td>2.000000</td>\n",
       "      <td>1985.000000</td>\n",
       "      <td>9.000000</td>\n",
       "    </tr>\n",
       "    <tr>\n",
       "      <th>75%</th>\n",
       "      <td>19319.250000</td>\n",
       "      <td>67.000000</td>\n",
       "      <td>93.000000</td>\n",
       "      <td>5257.000000</td>\n",
       "      <td>3.000000</td>\n",
       "      <td>1990.000000</td>\n",
       "      <td>13.000000</td>\n",
       "    </tr>\n",
       "    <tr>\n",
       "      <th>max</th>\n",
       "      <td>25759.000000</td>\n",
       "      <td>81.000000</td>\n",
       "      <td>383.000000</td>\n",
       "      <td>6638.000000</td>\n",
       "      <td>3.000000</td>\n",
       "      <td>2001.000000</td>\n",
       "      <td>1372.000000</td>\n",
       "    </tr>\n",
       "  </tbody>\n",
       "</table>\n",
       "</div>"
      ],
      "text/plain": [
       "         Unnamed: 0  station_A_id  station_B_id       bike_id     user_type  \\\n",
       "count  25760.000000  25760.000000  25760.000000  25760.000000  25760.000000   \n",
       "mean   12879.500000     31.023602     89.558579   4107.621467      2.008385   \n",
       "std     7436.415803     26.409263    105.144103   1576.315767      0.704541   \n",
       "min        0.000000      3.000000      3.000000     11.000000      1.000000   \n",
       "25%     6439.750000     15.000000     21.000000   3106.000000      2.000000   \n",
       "50%    12879.500000     21.000000     58.000000   4821.000000      2.000000   \n",
       "75%    19319.250000     67.000000     93.000000   5257.000000      3.000000   \n",
       "max    25759.000000     81.000000    383.000000   6638.000000      3.000000   \n",
       "\n",
       "       user_birth_year  duration_time  \n",
       "count     25760.000000   25760.000000  \n",
       "mean       1983.054969      11.389053  \n",
       "std          10.010992      23.500516  \n",
       "min        1901.000000       1.000000  \n",
       "25%        1978.000000       6.000000  \n",
       "50%        1985.000000       9.000000  \n",
       "75%        1990.000000      13.000000  \n",
       "max        2001.000000    1372.000000  "
      ]
     },
     "execution_count": 40,
     "metadata": {},
     "output_type": "execute_result"
    }
   ],
   "source": [
    "ride_sharing.describe()"
   ]
  },
  {
   "cell_type": "code",
   "execution_count": 41,
   "id": "8f210758-0e41-4253-b9b0-325ef50eb16f",
   "metadata": {
    "execution": {
     "iopub.execute_input": "2024-07-15T13:52:06.588547Z",
     "iopub.status.busy": "2024-07-15T13:52:06.587678Z",
     "iopub.status.idle": "2024-07-15T13:52:06.650148Z",
     "shell.execute_reply": "2024-07-15T13:52:06.649280Z",
     "shell.execute_reply.started": "2024-07-15T13:52:06.588480Z"
    }
   },
   "outputs": [
    {
     "ename": "KeyError",
     "evalue": "'tire_sizes'",
     "output_type": "error",
     "traceback": [
      "\u001b[0;31m---------------------------------------------------------------------------\u001b[0m",
      "\u001b[0;31mKeyError\u001b[0m                                  Traceback (most recent call last)",
      "File \u001b[0;32m/opt/anaconda3/envs/ISLP_new/lib/python3.12/site-packages/pandas/core/indexes/base.py:3805\u001b[0m, in \u001b[0;36mIndex.get_loc\u001b[0;34m(self, key)\u001b[0m\n\u001b[1;32m   3804\u001b[0m \u001b[38;5;28;01mtry\u001b[39;00m:\n\u001b[0;32m-> 3805\u001b[0m     \u001b[38;5;28;01mreturn\u001b[39;00m \u001b[38;5;28;43mself\u001b[39;49m\u001b[38;5;241;43m.\u001b[39;49m\u001b[43m_engine\u001b[49m\u001b[38;5;241;43m.\u001b[39;49m\u001b[43mget_loc\u001b[49m\u001b[43m(\u001b[49m\u001b[43mcasted_key\u001b[49m\u001b[43m)\u001b[49m\n\u001b[1;32m   3806\u001b[0m \u001b[38;5;28;01mexcept\u001b[39;00m \u001b[38;5;167;01mKeyError\u001b[39;00m \u001b[38;5;28;01mas\u001b[39;00m err:\n",
      "File \u001b[0;32mindex.pyx:167\u001b[0m, in \u001b[0;36mpandas._libs.index.IndexEngine.get_loc\u001b[0;34m()\u001b[0m\n",
      "File \u001b[0;32mindex.pyx:196\u001b[0m, in \u001b[0;36mpandas._libs.index.IndexEngine.get_loc\u001b[0;34m()\u001b[0m\n",
      "File \u001b[0;32mpandas/_libs/hashtable_class_helper.pxi:7081\u001b[0m, in \u001b[0;36mpandas._libs.hashtable.PyObjectHashTable.get_item\u001b[0;34m()\u001b[0m\n",
      "File \u001b[0;32mpandas/_libs/hashtable_class_helper.pxi:7089\u001b[0m, in \u001b[0;36mpandas._libs.hashtable.PyObjectHashTable.get_item\u001b[0;34m()\u001b[0m\n",
      "\u001b[0;31mKeyError\u001b[0m: 'tire_sizes'",
      "\nThe above exception was the direct cause of the following exception:\n",
      "\u001b[0;31mKeyError\u001b[0m                                  Traceback (most recent call last)",
      "Cell \u001b[0;32mIn[41], line 2\u001b[0m\n\u001b[1;32m      1\u001b[0m \u001b[38;5;66;03m# The loaded dataframe dont contain tiresizes, but the idea is to cap the values going beyond the expected range to its max value.\u001b[39;00m\n\u001b[0;32m----> 2\u001b[0m ride_sharing[\u001b[38;5;124m'\u001b[39m\u001b[38;5;124mtire_sizes\u001b[39m\u001b[38;5;124m'\u001b[39m] \u001b[38;5;241m=\u001b[39m \u001b[43mride_sharing\u001b[49m\u001b[43m[\u001b[49m\u001b[38;5;124;43m'\u001b[39;49m\u001b[38;5;124;43mtire_sizes\u001b[39;49m\u001b[38;5;124;43m'\u001b[39;49m\u001b[43m]\u001b[49m\u001b[38;5;241m.\u001b[39mastype(\u001b[38;5;124m'\u001b[39m\u001b[38;5;124mint\u001b[39m\u001b[38;5;124m'\u001b[39m)\n\u001b[1;32m      3\u001b[0m ride_sharing\u001b[38;5;241m.\u001b[39mloc[ride_sharing[\u001b[38;5;124m'\u001b[39m\u001b[38;5;124mtire_sizes\u001b[39m\u001b[38;5;124m'\u001b[39m] \u001b[38;5;241m>\u001b[39m \u001b[38;5;241m27\u001b[39m, \u001b[38;5;124m'\u001b[39m\u001b[38;5;124mtire_sizes\u001b[39m\u001b[38;5;124m'\u001b[39m] \u001b[38;5;241m=\u001b[39m \u001b[38;5;241m27\u001b[39m\n\u001b[1;32m      4\u001b[0m ride_sharing[\u001b[38;5;124m'\u001b[39m\u001b[38;5;124mtire_sizes\u001b[39m\u001b[38;5;124m'\u001b[39m] \u001b[38;5;241m=\u001b[39m ride_sharing[\u001b[38;5;124m'\u001b[39m\u001b[38;5;124mtire_sizes\u001b[39m\u001b[38;5;124m'\u001b[39m]\u001b[38;5;241m.\u001b[39mastype(\u001b[38;5;124m'\u001b[39m\u001b[38;5;124mcategory\u001b[39m\u001b[38;5;124m'\u001b[39m)\n",
      "File \u001b[0;32m/opt/anaconda3/envs/ISLP_new/lib/python3.12/site-packages/pandas/core/frame.py:4102\u001b[0m, in \u001b[0;36mDataFrame.__getitem__\u001b[0;34m(self, key)\u001b[0m\n\u001b[1;32m   4100\u001b[0m \u001b[38;5;28;01mif\u001b[39;00m \u001b[38;5;28mself\u001b[39m\u001b[38;5;241m.\u001b[39mcolumns\u001b[38;5;241m.\u001b[39mnlevels \u001b[38;5;241m>\u001b[39m \u001b[38;5;241m1\u001b[39m:\n\u001b[1;32m   4101\u001b[0m     \u001b[38;5;28;01mreturn\u001b[39;00m \u001b[38;5;28mself\u001b[39m\u001b[38;5;241m.\u001b[39m_getitem_multilevel(key)\n\u001b[0;32m-> 4102\u001b[0m indexer \u001b[38;5;241m=\u001b[39m \u001b[38;5;28;43mself\u001b[39;49m\u001b[38;5;241;43m.\u001b[39;49m\u001b[43mcolumns\u001b[49m\u001b[38;5;241;43m.\u001b[39;49m\u001b[43mget_loc\u001b[49m\u001b[43m(\u001b[49m\u001b[43mkey\u001b[49m\u001b[43m)\u001b[49m\n\u001b[1;32m   4103\u001b[0m \u001b[38;5;28;01mif\u001b[39;00m is_integer(indexer):\n\u001b[1;32m   4104\u001b[0m     indexer \u001b[38;5;241m=\u001b[39m [indexer]\n",
      "File \u001b[0;32m/opt/anaconda3/envs/ISLP_new/lib/python3.12/site-packages/pandas/core/indexes/base.py:3812\u001b[0m, in \u001b[0;36mIndex.get_loc\u001b[0;34m(self, key)\u001b[0m\n\u001b[1;32m   3807\u001b[0m     \u001b[38;5;28;01mif\u001b[39;00m \u001b[38;5;28misinstance\u001b[39m(casted_key, \u001b[38;5;28mslice\u001b[39m) \u001b[38;5;129;01mor\u001b[39;00m (\n\u001b[1;32m   3808\u001b[0m         \u001b[38;5;28misinstance\u001b[39m(casted_key, abc\u001b[38;5;241m.\u001b[39mIterable)\n\u001b[1;32m   3809\u001b[0m         \u001b[38;5;129;01mand\u001b[39;00m \u001b[38;5;28many\u001b[39m(\u001b[38;5;28misinstance\u001b[39m(x, \u001b[38;5;28mslice\u001b[39m) \u001b[38;5;28;01mfor\u001b[39;00m x \u001b[38;5;129;01min\u001b[39;00m casted_key)\n\u001b[1;32m   3810\u001b[0m     ):\n\u001b[1;32m   3811\u001b[0m         \u001b[38;5;28;01mraise\u001b[39;00m InvalidIndexError(key)\n\u001b[0;32m-> 3812\u001b[0m     \u001b[38;5;28;01mraise\u001b[39;00m \u001b[38;5;167;01mKeyError\u001b[39;00m(key) \u001b[38;5;28;01mfrom\u001b[39;00m \u001b[38;5;21;01merr\u001b[39;00m\n\u001b[1;32m   3813\u001b[0m \u001b[38;5;28;01mexcept\u001b[39;00m \u001b[38;5;167;01mTypeError\u001b[39;00m:\n\u001b[1;32m   3814\u001b[0m     \u001b[38;5;66;03m# If we have a listlike key, _check_indexing_error will raise\u001b[39;00m\n\u001b[1;32m   3815\u001b[0m     \u001b[38;5;66;03m#  InvalidIndexError. Otherwise we fall through and re-raise\u001b[39;00m\n\u001b[1;32m   3816\u001b[0m     \u001b[38;5;66;03m#  the TypeError.\u001b[39;00m\n\u001b[1;32m   3817\u001b[0m     \u001b[38;5;28mself\u001b[39m\u001b[38;5;241m.\u001b[39m_check_indexing_error(key)\n",
      "\u001b[0;31mKeyError\u001b[0m: 'tire_sizes'"
     ]
    }
   ],
   "source": [
    "# The loaded dataframe dont contain tiresizes, but the idea is to cap the values going beyond the expected range to its max value.\n",
    "ride_sharing['tire_sizes'] = ride_sharing['tire_sizes'].astype('int')\n",
    "ride_sharing.loc[ride_sharing['tire_sizes'] > 27, 'tire_sizes'] = 27\n",
    "ride_sharing['tire_sizes'] = ride_sharing['tire_sizes'].astype('category')\n"
   ]
  },
  {
   "cell_type": "markdown",
   "id": "515e8a84-d8d0-40b6-b44e-b417706bc783",
   "metadata": {},
   "source": [
    "## Handling duplicates\n",
    "\n",
    "Duplicates happen. Often they are not exact duplicates.\n",
    "They are originated because of: \n",
    "- Human errors\n",
    "- Bugs and design errors on business processes or pipelines\n",
    "- Joining/merging data sources\n",
    "\n",
    "How to find duplicates?\n",
    ".duplicated()\n",
    "\n",
    "How to remove duplicates?\n",
    ".drop_duplicates() \n",
    "\n",
    "We can use the duplicates to be removed to fulfill or improve the remaining records by using .groupby() and agg()\n",
    "\n"
   ]
  },
  {
   "cell_type": "code",
   "execution_count": 42,
   "id": "ce272d47-593c-4899-97ad-27e73bb4dfe0",
   "metadata": {
    "execution": {
     "iopub.execute_input": "2024-07-15T13:52:06.811797Z",
     "iopub.status.busy": "2024-07-15T13:52:06.810931Z",
     "iopub.status.idle": "2024-07-15T13:52:06.833966Z",
     "shell.execute_reply": "2024-07-15T13:52:06.833327Z",
     "shell.execute_reply.started": "2024-07-15T13:52:06.811731Z"
    }
   },
   "outputs": [
    {
     "ename": "KeyError",
     "evalue": "Index(['ride_id'], dtype='object')",
     "output_type": "error",
     "traceback": [
      "\u001b[0;31m---------------------------------------------------------------------------\u001b[0m",
      "\u001b[0;31mKeyError\u001b[0m                                  Traceback (most recent call last)",
      "\u001b[0;32m/var/folders/tx/44c409ls4bvf__rjhb2qjmf40000gn/T/ipykernel_3249/2921623756.py\u001b[0m in \u001b[0;36m?\u001b[0;34m()\u001b[0m\n\u001b[0;32m----> 1\u001b[0;31m \u001b[0mduplicates\u001b[0m \u001b[0;34m=\u001b[0m \u001b[0mride_sharing\u001b[0m\u001b[0;34m.\u001b[0m\u001b[0mduplicated\u001b[0m\u001b[0;34m(\u001b[0m\u001b[0msubset\u001b[0m\u001b[0;34m=\u001b[0m\u001b[0;34m[\u001b[0m\u001b[0;34m'ride_id'\u001b[0m\u001b[0;34m]\u001b[0m\u001b[0;34m,\u001b[0m \u001b[0mkeep\u001b[0m\u001b[0;34m=\u001b[0m\u001b[0;32mFalse\u001b[0m\u001b[0;34m)\u001b[0m\u001b[0;34m\u001b[0m\u001b[0;34m\u001b[0m\u001b[0m\n\u001b[0m\u001b[1;32m      2\u001b[0m \u001b[0;34m\u001b[0m\u001b[0m\n\u001b[1;32m      3\u001b[0m \u001b[0mduplicated_rides\u001b[0m \u001b[0;34m=\u001b[0m \u001b[0mride_sharing\u001b[0m\u001b[0;34m[\u001b[0m\u001b[0mduplicates\u001b[0m\u001b[0;34m]\u001b[0m\u001b[0;34m.\u001b[0m\u001b[0msort_values\u001b[0m\u001b[0;34m(\u001b[0m\u001b[0;34m'ride_id'\u001b[0m\u001b[0;34m)\u001b[0m\u001b[0;34m\u001b[0m\u001b[0;34m\u001b[0m\u001b[0m\n\u001b[1;32m      4\u001b[0m \u001b[0;34m\u001b[0m\u001b[0m\n",
      "\u001b[0;32m/opt/anaconda3/envs/ISLP_new/lib/python3.12/site-packages/pandas/core/frame.py\u001b[0m in \u001b[0;36m?\u001b[0;34m(self, subset, keep)\u001b[0m\n\u001b[1;32m   6946\u001b[0m         \u001b[0;31m# Otherwise, raise a KeyError, same as if you try to __getitem__ with a\u001b[0m\u001b[0;34m\u001b[0m\u001b[0;34m\u001b[0m\u001b[0m\n\u001b[1;32m   6947\u001b[0m         \u001b[0;31m# key that doesn't exist.\u001b[0m\u001b[0;34m\u001b[0m\u001b[0;34m\u001b[0m\u001b[0m\n\u001b[1;32m   6948\u001b[0m         \u001b[0mdiff\u001b[0m \u001b[0;34m=\u001b[0m \u001b[0mset\u001b[0m\u001b[0;34m(\u001b[0m\u001b[0msubset\u001b[0m\u001b[0;34m)\u001b[0m \u001b[0;34m-\u001b[0m \u001b[0mset\u001b[0m\u001b[0;34m(\u001b[0m\u001b[0mself\u001b[0m\u001b[0;34m.\u001b[0m\u001b[0mcolumns\u001b[0m\u001b[0;34m)\u001b[0m\u001b[0;34m\u001b[0m\u001b[0;34m\u001b[0m\u001b[0m\n\u001b[1;32m   6949\u001b[0m         \u001b[0;32mif\u001b[0m \u001b[0mdiff\u001b[0m\u001b[0;34m:\u001b[0m\u001b[0;34m\u001b[0m\u001b[0;34m\u001b[0m\u001b[0m\n\u001b[0;32m-> 6950\u001b[0;31m             \u001b[0;32mraise\u001b[0m \u001b[0mKeyError\u001b[0m\u001b[0;34m(\u001b[0m\u001b[0mIndex\u001b[0m\u001b[0;34m(\u001b[0m\u001b[0mdiff\u001b[0m\u001b[0;34m)\u001b[0m\u001b[0;34m)\u001b[0m\u001b[0;34m\u001b[0m\u001b[0;34m\u001b[0m\u001b[0m\n\u001b[0m\u001b[1;32m   6951\u001b[0m \u001b[0;34m\u001b[0m\u001b[0m\n\u001b[1;32m   6952\u001b[0m         \u001b[0;32mif\u001b[0m \u001b[0mlen\u001b[0m\u001b[0;34m(\u001b[0m\u001b[0msubset\u001b[0m\u001b[0;34m)\u001b[0m \u001b[0;34m==\u001b[0m \u001b[0;36m1\u001b[0m \u001b[0;32mand\u001b[0m \u001b[0mself\u001b[0m\u001b[0;34m.\u001b[0m\u001b[0mcolumns\u001b[0m\u001b[0;34m.\u001b[0m\u001b[0mis_unique\u001b[0m\u001b[0;34m:\u001b[0m\u001b[0;34m\u001b[0m\u001b[0;34m\u001b[0m\u001b[0m\n\u001b[1;32m   6953\u001b[0m             \u001b[0;31m# GH#45236 This is faster than get_group_index below\u001b[0m\u001b[0;34m\u001b[0m\u001b[0;34m\u001b[0m\u001b[0m\n",
      "\u001b[0;31mKeyError\u001b[0m: Index(['ride_id'], dtype='object')"
     ]
    }
   ],
   "source": [
    "duplicates = ride_sharing.duplicated(subset=['ride_id'], keep=False)\n",
    "\n",
    "duplicated_rides = ride_sharing[duplicates].sort_values('ride_id')\n",
    "\n",
    "print(duplicated_rides[['ride_id','duration','user_birth_year']])"
   ]
  },
  {
   "cell_type": "code",
   "execution_count": 43,
   "id": "307dde09-7c62-477f-ade3-07cb06a523b7",
   "metadata": {
    "execution": {
     "iopub.execute_input": "2024-07-15T13:52:06.933081Z",
     "iopub.status.busy": "2024-07-15T13:52:06.932167Z",
     "iopub.status.idle": "2024-07-15T13:52:06.945405Z",
     "shell.execute_reply": "2024-07-15T13:52:06.943995Z",
     "shell.execute_reply.started": "2024-07-15T13:52:06.933015Z"
    }
   },
   "outputs": [
    {
     "ename": "SyntaxError",
     "evalue": "invalid character '£' (U+00A3) (3538104650.py, line 10)",
     "output_type": "error",
     "traceback": [
      "\u001b[0;36m  Cell \u001b[0;32mIn[43], line 10\u001b[0;36m\u001b[0m\n\u001b[0;31m    assert duplicated_rides.shape[0] == 0£\u001b[0m\n\u001b[0m                                         ^\u001b[0m\n\u001b[0;31mSyntaxError\u001b[0m\u001b[0;31m:\u001b[0m invalid character '£' (U+00A3)\n"
     ]
    }
   ],
   "source": [
    "ride_dup = ride_sharing.drop_duplicates()\n",
    "\n",
    "statistics = {'user_birth_year': 'min', 'duration': 'mean'}\n",
    "\n",
    "ride_unique = ride_dup.groupby('ride_id').agg(statistics).reset_index()\n",
    "\n",
    "duplicates = ride_unique.duplicated(subset = 'ride_id', keep = False)\n",
    "duplicated_rides = ride_unique[duplicates == True]\n",
    "\n",
    "assert duplicated_rides.shape[0] == 0£"
   ]
  },
  {
   "cell_type": "markdown",
   "id": "7a58a2f4-ba3a-40af-88cf-b92e39123c27",
   "metadata": {},
   "source": [
    "## Categories and membership constraints\n",
    "\n",
    "Categorical data represent variables whose values belong to predefined set of categories. Variables like \"Marriage Status\", \"Household Income Category\" or \"Loan Status\" belong to this category.\n",
    "\n",
    "When feeding models, these variables are often converted into a numeric representation.\n",
    "\n",
    "Categorical variables cannot have values outside of the predefined ones.\n",
    "\n",
    "Inconsistencies in categorical variables may happen due to a variety of reasons: data entry errors, parsing errors...\n",
    "\n",
    "### Identifying inconsistent categories\n",
    "\n",
    "Before fixing the inconsistent categories we have to identify them:"
   ]
  },
  {
   "cell_type": "code",
   "execution_count": 44,
   "id": "c9a43ca4-f2d5-4f0f-9143-a4305bdf008e",
   "metadata": {
    "execution": {
     "iopub.execute_input": "2024-07-15T13:52:07.169472Z",
     "iopub.status.busy": "2024-07-15T13:52:07.168608Z",
     "iopub.status.idle": "2024-07-15T13:52:07.180709Z",
     "shell.execute_reply": "2024-07-15T13:52:07.179431Z",
     "shell.execute_reply.started": "2024-07-15T13:52:07.169405Z"
    }
   },
   "outputs": [
    {
     "name": "stdout",
     "output_type": "stream",
     "text": [
      "{'D'}\n"
     ]
    }
   ],
   "source": [
    "categories = ['A', 'B', 'C']\n",
    "observations = ['A', 'B', 'D'] \n",
    "\n",
    "inconsistent_categories = set(observations).difference(categories)\n",
    "\n",
    "print(inconsistent_categories)"
   ]
  },
  {
   "cell_type": "markdown",
   "id": "0d679823-58fe-4069-b8d4-c3191755d05a",
   "metadata": {},
   "source": [
    "We can now use the 'inconsistent_categories' with the isin pandas method to find observations with inconsistent values."
   ]
  },
  {
   "cell_type": "markdown",
   "id": "a02b9f7a-5829-45eb-b7f8-f253a808fe2c",
   "metadata": {},
   "source": [
    "How do we treat these problems?\n",
    "\n",
    "### Dropping inconsistent categories"
   ]
  },
  {
   "cell_type": "code",
   "execution_count": 45,
   "id": "4d401740-7b85-4e58-97ad-b58dfa9e7f3b",
   "metadata": {
    "execution": {
     "iopub.execute_input": "2024-07-15T13:52:07.524415Z",
     "iopub.status.busy": "2024-07-15T13:52:07.523471Z",
     "iopub.status.idle": "2024-07-15T13:52:07.547827Z",
     "shell.execute_reply": "2024-07-15T13:52:07.547262Z",
     "shell.execute_reply.started": "2024-07-15T13:52:07.524347Z"
    }
   },
   "outputs": [
    {
     "name": "stdout",
     "output_type": "stream",
     "text": [
      "Cleanliness:  ['Clean' 'Average' 'Somewhat clean' 'Somewhat dirty' 'Dirty'] \n",
      "\n",
      "Safety:  ['Neutral' 'Very safe' 'Somewhat safe' 'Very unsafe' 'Somewhat unsafe'] \n",
      "\n",
      "Satisfaction:  ['Very satisfied' 'Neutral' 'Somewhat satsified' 'Somewhat unsatisfied'\n",
      " 'Very unsatisfied'] \n",
      "\n"
     ]
    }
   ],
   "source": [
    "categories = pd.DataFrame({'cleanliness': {\n",
    "                                0: 'Clean',\n",
    "                                1: 'Average',\n",
    "                                2: 'Somewhat clean',\n",
    "                                3: 'Somewhat dirty',\n",
    "                                4: 'Dirty'\n",
    "                            },'safety': {\n",
    "                                0: 'Neutral',\n",
    "                                1: 'Very safe',\n",
    "                                2: 'Somewhat safe',\n",
    "                                3: 'Very unsafe',\n",
    "                                4: 'Somewhat unsafe'\n",
    "                            },'satisfaction': {\n",
    "                                0: 'Very satisfied',\n",
    "                                1: 'Neutral',\n",
    "                                2: 'Somewhat satisfied',\n",
    "                                3: 'Somewhat unsatisfied',\n",
    "                                4: 'Very unsatisfied'\n",
    "                            }\n",
    "                          }\n",
    ")\n",
    "\n",
    "airlines = pd.read_csv('../data/airlines_final.csv')\n",
    "\n",
    "print('Cleanliness: ', airlines['cleanliness'].unique(), \"\\n\")\n",
    "print('Safety: ', airlines['safety'].unique(), \"\\n\")\n",
    "print('Satisfaction: ', airlines['satisfaction'].unique(), \"\\n\")"
   ]
  },
  {
   "cell_type": "code",
   "execution_count": 46,
   "id": "6fc1d07c-b95d-487d-87c3-89e24742fa8c",
   "metadata": {
    "execution": {
     "iopub.execute_input": "2024-07-15T13:52:07.649034Z",
     "iopub.status.busy": "2024-07-15T13:52:07.648017Z",
     "iopub.status.idle": "2024-07-15T13:52:07.677099Z",
     "shell.execute_reply": "2024-07-15T13:52:07.676655Z",
     "shell.execute_reply.started": "2024-07-15T13:52:07.648963Z"
    }
   },
   "outputs": [
    {
     "data": {
      "text/html": [
       "<div>\n",
       "<style scoped>\n",
       "    .dataframe tbody tr th:only-of-type {\n",
       "        vertical-align: middle;\n",
       "    }\n",
       "\n",
       "    .dataframe tbody tr th {\n",
       "        vertical-align: top;\n",
       "    }\n",
       "\n",
       "    .dataframe thead th {\n",
       "        text-align: right;\n",
       "    }\n",
       "</style>\n",
       "<table border=\"1\" class=\"dataframe\">\n",
       "  <thead>\n",
       "    <tr style=\"text-align: right;\">\n",
       "      <th></th>\n",
       "      <th>Unnamed: 0</th>\n",
       "      <th>id</th>\n",
       "      <th>day</th>\n",
       "      <th>airline</th>\n",
       "      <th>destination</th>\n",
       "      <th>dest_region</th>\n",
       "      <th>dest_size</th>\n",
       "      <th>boarding_area</th>\n",
       "      <th>dept_time</th>\n",
       "      <th>wait_min</th>\n",
       "      <th>cleanliness</th>\n",
       "      <th>safety</th>\n",
       "      <th>satisfaction</th>\n",
       "    </tr>\n",
       "  </thead>\n",
       "  <tbody>\n",
       "    <tr>\n",
       "      <th>0</th>\n",
       "      <td>0</td>\n",
       "      <td>1351</td>\n",
       "      <td>Tuesday</td>\n",
       "      <td>UNITED INTL</td>\n",
       "      <td>KANSAI</td>\n",
       "      <td>Asia</td>\n",
       "      <td>Hub</td>\n",
       "      <td>Gates 91-102</td>\n",
       "      <td>2018-12-31</td>\n",
       "      <td>115.0</td>\n",
       "      <td>Clean</td>\n",
       "      <td>Neutral</td>\n",
       "      <td>Very satisfied</td>\n",
       "    </tr>\n",
       "    <tr>\n",
       "      <th>1</th>\n",
       "      <td>1</td>\n",
       "      <td>373</td>\n",
       "      <td>Friday</td>\n",
       "      <td>ALASKA</td>\n",
       "      <td>SAN JOSE DEL CABO</td>\n",
       "      <td>Canada/Mexico</td>\n",
       "      <td>Small</td>\n",
       "      <td>Gates 50-59</td>\n",
       "      <td>2018-12-31</td>\n",
       "      <td>135.0</td>\n",
       "      <td>Clean</td>\n",
       "      <td>Very safe</td>\n",
       "      <td>Very satisfied</td>\n",
       "    </tr>\n",
       "    <tr>\n",
       "      <th>2</th>\n",
       "      <td>2</td>\n",
       "      <td>2820</td>\n",
       "      <td>Thursday</td>\n",
       "      <td>DELTA</td>\n",
       "      <td>LOS ANGELES</td>\n",
       "      <td>West US</td>\n",
       "      <td>Hub</td>\n",
       "      <td>Gates 40-48</td>\n",
       "      <td>2018-12-31</td>\n",
       "      <td>70.0</td>\n",
       "      <td>Average</td>\n",
       "      <td>Somewhat safe</td>\n",
       "      <td>Neutral</td>\n",
       "    </tr>\n",
       "    <tr>\n",
       "      <th>3</th>\n",
       "      <td>3</td>\n",
       "      <td>1157</td>\n",
       "      <td>Tuesday</td>\n",
       "      <td>SOUTHWEST</td>\n",
       "      <td>LOS ANGELES</td>\n",
       "      <td>West US</td>\n",
       "      <td>Hub</td>\n",
       "      <td>Gates 20-39</td>\n",
       "      <td>2018-12-31</td>\n",
       "      <td>190.0</td>\n",
       "      <td>Clean</td>\n",
       "      <td>Very safe</td>\n",
       "      <td>Somewhat satsified</td>\n",
       "    </tr>\n",
       "    <tr>\n",
       "      <th>4</th>\n",
       "      <td>4</td>\n",
       "      <td>2992</td>\n",
       "      <td>Wednesday</td>\n",
       "      <td>AMERICAN</td>\n",
       "      <td>MIAMI</td>\n",
       "      <td>East US</td>\n",
       "      <td>Hub</td>\n",
       "      <td>Gates 50-59</td>\n",
       "      <td>2018-12-31</td>\n",
       "      <td>559.0</td>\n",
       "      <td>Somewhat clean</td>\n",
       "      <td>Very safe</td>\n",
       "      <td>Somewhat satsified</td>\n",
       "    </tr>\n",
       "    <tr>\n",
       "      <th>...</th>\n",
       "      <td>...</td>\n",
       "      <td>...</td>\n",
       "      <td>...</td>\n",
       "      <td>...</td>\n",
       "      <td>...</td>\n",
       "      <td>...</td>\n",
       "      <td>...</td>\n",
       "      <td>...</td>\n",
       "      <td>...</td>\n",
       "      <td>...</td>\n",
       "      <td>...</td>\n",
       "      <td>...</td>\n",
       "      <td>...</td>\n",
       "    </tr>\n",
       "    <tr>\n",
       "      <th>2472</th>\n",
       "      <td>2804</td>\n",
       "      <td>1475</td>\n",
       "      <td>Tuesday</td>\n",
       "      <td>ALASKA</td>\n",
       "      <td>NEW YORK-JFK</td>\n",
       "      <td>East US</td>\n",
       "      <td>Hub</td>\n",
       "      <td>Gates 50-59</td>\n",
       "      <td>2018-12-31</td>\n",
       "      <td>280.0</td>\n",
       "      <td>Somewhat clean</td>\n",
       "      <td>Neutral</td>\n",
       "      <td>Somewhat satsified</td>\n",
       "    </tr>\n",
       "    <tr>\n",
       "      <th>2473</th>\n",
       "      <td>2805</td>\n",
       "      <td>2222</td>\n",
       "      <td>Thursday</td>\n",
       "      <td>SOUTHWEST</td>\n",
       "      <td>PHOENIX</td>\n",
       "      <td>West US</td>\n",
       "      <td>Hub</td>\n",
       "      <td>Gates 20-39</td>\n",
       "      <td>2018-12-31</td>\n",
       "      <td>165.0</td>\n",
       "      <td>Clean</td>\n",
       "      <td>Very safe</td>\n",
       "      <td>Very satisfied</td>\n",
       "    </tr>\n",
       "    <tr>\n",
       "      <th>2474</th>\n",
       "      <td>2806</td>\n",
       "      <td>2684</td>\n",
       "      <td>Friday</td>\n",
       "      <td>UNITED</td>\n",
       "      <td>ORLANDO</td>\n",
       "      <td>East US</td>\n",
       "      <td>Hub</td>\n",
       "      <td>Gates 70-90</td>\n",
       "      <td>2018-12-31</td>\n",
       "      <td>92.0</td>\n",
       "      <td>Clean</td>\n",
       "      <td>Very safe</td>\n",
       "      <td>Very satisfied</td>\n",
       "    </tr>\n",
       "    <tr>\n",
       "      <th>2475</th>\n",
       "      <td>2807</td>\n",
       "      <td>2549</td>\n",
       "      <td>Tuesday</td>\n",
       "      <td>JETBLUE</td>\n",
       "      <td>LONG BEACH</td>\n",
       "      <td>West US</td>\n",
       "      <td>Small</td>\n",
       "      <td>Gates 1-12</td>\n",
       "      <td>2018-12-31</td>\n",
       "      <td>95.0</td>\n",
       "      <td>Clean</td>\n",
       "      <td>Somewhat safe</td>\n",
       "      <td>Very satisfied</td>\n",
       "    </tr>\n",
       "    <tr>\n",
       "      <th>2476</th>\n",
       "      <td>2808</td>\n",
       "      <td>2162</td>\n",
       "      <td>Saturday</td>\n",
       "      <td>CHINA EASTERN</td>\n",
       "      <td>QINGDAO</td>\n",
       "      <td>Asia</td>\n",
       "      <td>Large</td>\n",
       "      <td>Gates 1-12</td>\n",
       "      <td>2018-12-31</td>\n",
       "      <td>220.0</td>\n",
       "      <td>Clean</td>\n",
       "      <td>Very safe</td>\n",
       "      <td>Somewhat satsified</td>\n",
       "    </tr>\n",
       "  </tbody>\n",
       "</table>\n",
       "<p>2477 rows × 13 columns</p>\n",
       "</div>"
      ],
      "text/plain": [
       "      Unnamed: 0    id        day        airline        destination  \\\n",
       "0              0  1351    Tuesday    UNITED INTL             KANSAI   \n",
       "1              1   373     Friday         ALASKA  SAN JOSE DEL CABO   \n",
       "2              2  2820   Thursday          DELTA        LOS ANGELES   \n",
       "3              3  1157    Tuesday      SOUTHWEST        LOS ANGELES   \n",
       "4              4  2992  Wednesday       AMERICAN              MIAMI   \n",
       "...          ...   ...        ...            ...                ...   \n",
       "2472        2804  1475    Tuesday         ALASKA       NEW YORK-JFK   \n",
       "2473        2805  2222   Thursday      SOUTHWEST            PHOENIX   \n",
       "2474        2806  2684     Friday         UNITED            ORLANDO   \n",
       "2475        2807  2549    Tuesday        JETBLUE         LONG BEACH   \n",
       "2476        2808  2162   Saturday  CHINA EASTERN            QINGDAO   \n",
       "\n",
       "        dest_region dest_size boarding_area   dept_time  wait_min  \\\n",
       "0              Asia       Hub  Gates 91-102  2018-12-31     115.0   \n",
       "1     Canada/Mexico     Small   Gates 50-59  2018-12-31     135.0   \n",
       "2           West US       Hub   Gates 40-48  2018-12-31      70.0   \n",
       "3           West US       Hub   Gates 20-39  2018-12-31     190.0   \n",
       "4           East US       Hub   Gates 50-59  2018-12-31     559.0   \n",
       "...             ...       ...           ...         ...       ...   \n",
       "2472        East US       Hub   Gates 50-59  2018-12-31     280.0   \n",
       "2473        West US       Hub   Gates 20-39  2018-12-31     165.0   \n",
       "2474        East US       Hub   Gates 70-90  2018-12-31      92.0   \n",
       "2475        West US     Small    Gates 1-12  2018-12-31      95.0   \n",
       "2476           Asia     Large    Gates 1-12  2018-12-31     220.0   \n",
       "\n",
       "         cleanliness         safety        satisfaction  \n",
       "0              Clean        Neutral      Very satisfied  \n",
       "1              Clean      Very safe      Very satisfied  \n",
       "2            Average  Somewhat safe             Neutral  \n",
       "3              Clean      Very safe  Somewhat satsified  \n",
       "4     Somewhat clean      Very safe  Somewhat satsified  \n",
       "...              ...            ...                 ...  \n",
       "2472  Somewhat clean        Neutral  Somewhat satsified  \n",
       "2473           Clean      Very safe      Very satisfied  \n",
       "2474           Clean      Very safe      Very satisfied  \n",
       "2475           Clean  Somewhat safe      Very satisfied  \n",
       "2476           Clean      Very safe  Somewhat satsified  \n",
       "\n",
       "[2477 rows x 13 columns]"
      ]
     },
     "execution_count": 46,
     "metadata": {},
     "output_type": "execute_result"
    }
   ],
   "source": [
    "cat_clean = set(airlines['cleanliness']).difference(categories['cleanliness'])\n",
    "cat_clean_rows = airlines['cleanliness'].isin(cat_clean)\n",
    "airlines[~cat_clean_rows]"
   ]
  },
  {
   "cell_type": "markdown",
   "id": "daa0587a-9a6f-496e-b801-210cd82f538c",
   "metadata": {},
   "source": [
    "### Other errors when dealing with categorical variables\n",
    "\n",
    "#### Value inconsistency\n",
    "Due to trailing spaces, wrong casing, spaces...\n",
    "\n",
    "We can str.upper() or str.lower() case to solve casing issues.\n",
    "\n",
    "str.strip() will solve the trailing spaces problem"
   ]
  },
  {
   "cell_type": "code",
   "execution_count": 47,
   "id": "edffc9d6-f4c7-4162-830d-955fd617f965",
   "metadata": {
    "execution": {
     "iopub.execute_input": "2024-07-15T13:52:09.586490Z",
     "iopub.status.busy": "2024-07-15T13:52:09.585787Z",
     "iopub.status.idle": "2024-07-15T13:52:09.600127Z",
     "shell.execute_reply": "2024-07-15T13:52:09.598936Z",
     "shell.execute_reply.started": "2024-07-15T13:52:09.586452Z"
    }
   },
   "outputs": [
    {
     "name": "stdout",
     "output_type": "stream",
     "text": [
      "['Asia' 'Canada/Mexico' 'West US' 'East US' 'Midwest US' 'EAST US'\n",
      " 'Middle East' 'Europe' 'eur' 'Central/South America'\n",
      " 'Australia/New Zealand' 'middle east']\n",
      "['Hub' 'Small' '    Hub' 'Medium' 'Large' 'Hub     ' '    Small'\n",
      " 'Medium     ' '    Medium' 'Small     ' '    Large' 'Large     ']\n"
     ]
    }
   ],
   "source": [
    "print(airlines['dest_region'].unique())\n",
    "print(airlines['dest_size'].unique())"
   ]
  },
  {
   "cell_type": "code",
   "execution_count": 48,
   "id": "85321d47-ded5-4475-9e6a-a9bf2f9f9530",
   "metadata": {
    "execution": {
     "iopub.execute_input": "2024-07-15T13:52:09.721699Z",
     "iopub.status.busy": "2024-07-15T13:52:09.721101Z",
     "iopub.status.idle": "2024-07-15T13:52:09.735817Z",
     "shell.execute_reply": "2024-07-15T13:52:09.734803Z",
     "shell.execute_reply.started": "2024-07-15T13:52:09.721663Z"
    }
   },
   "outputs": [],
   "source": [
    "airlines['dest_region'] = airlines['dest_region'].str.lower()\n",
    "airlines['dest_region'] = airlines['dest_region'].replace({'eur':'europe'})\n",
    "\n",
    "airlines['dest_size'] = airlines['dest_size'].str.strip()"
   ]
  },
  {
   "cell_type": "code",
   "execution_count": 49,
   "id": "11393adb-3576-4df9-8ccc-f7b029caff13",
   "metadata": {
    "execution": {
     "iopub.execute_input": "2024-07-15T13:52:09.857947Z",
     "iopub.status.busy": "2024-07-15T13:52:09.857412Z",
     "iopub.status.idle": "2024-07-15T13:52:09.867673Z",
     "shell.execute_reply": "2024-07-15T13:52:09.866840Z",
     "shell.execute_reply.started": "2024-07-15T13:52:09.857913Z"
    }
   },
   "outputs": [
    {
     "name": "stdout",
     "output_type": "stream",
     "text": [
      "['asia' 'canada/mexico' 'west us' 'east us' 'midwest us' 'middle east'\n",
      " 'europe' 'central/south america' 'australia/new zealand']\n",
      "['Hub' 'Small' 'Medium' 'Large']\n"
     ]
    }
   ],
   "source": [
    "print(airlines['dest_region'].unique())\n",
    "print(airlines['dest_size'].unique())"
   ]
  },
  {
   "cell_type": "markdown",
   "id": "3241ad0b-c292-466e-902b-d4b376380e79",
   "metadata": {},
   "source": [
    "#### Too many categories\n",
    "\n",
    "Often collapsable into few.\n",
    "\n",
    "For splitting into new categories there are two options: qcut (dumber) and cut (smarter). \n",
    "\n",
    "If we want to collapse already existing categories grouping them we can use the replace method."
   ]
  },
  {
   "cell_type": "code",
   "execution_count": 53,
   "id": "57bf9624-26fc-4285-9c8b-38d2c70dad38",
   "metadata": {
    "execution": {
     "iopub.execute_input": "2024-07-15T13:52:59.921816Z",
     "iopub.status.busy": "2024-07-15T13:52:59.920691Z",
     "iopub.status.idle": "2024-07-15T13:52:59.934114Z",
     "shell.execute_reply": "2024-07-15T13:52:59.933226Z",
     "shell.execute_reply.started": "2024-07-15T13:52:59.921755Z"
    }
   },
   "outputs": [
    {
     "data": {
      "text/plain": [
       "array(['Tuesday', 'Friday', 'Thursday', 'Wednesday', 'Saturday', 'Sunday',\n",
       "       'Monday'], dtype=object)"
      ]
     },
     "execution_count": 53,
     "metadata": {},
     "output_type": "execute_result"
    }
   ],
   "source": [
    "airlines.day.unique()"
   ]
  },
  {
   "cell_type": "code",
   "execution_count": 55,
   "id": "a87d9f83-e108-4802-bdf7-2adb51a104a9",
   "metadata": {
    "execution": {
     "iopub.execute_input": "2024-07-15T13:53:13.964708Z",
     "iopub.status.busy": "2024-07-15T13:53:13.963576Z",
     "iopub.status.idle": "2024-07-15T13:53:13.988715Z",
     "shell.execute_reply": "2024-07-15T13:53:13.987705Z",
     "shell.execute_reply.started": "2024-07-15T13:53:13.964632Z"
    }
   },
   "outputs": [
    {
     "data": {
      "text/plain": [
       "count    2477.000000\n",
       "mean      166.084376\n",
       "std       107.643625\n",
       "min        15.000000\n",
       "25%       105.000000\n",
       "50%       145.000000\n",
       "75%       185.000000\n",
       "max      1365.000000\n",
       "Name: wait_min, dtype: float64"
      ]
     },
     "execution_count": 55,
     "metadata": {},
     "output_type": "execute_result"
    }
   ],
   "source": [
    "airlines.wait_min.describe()"
   ]
  },
  {
   "cell_type": "code",
   "execution_count": 50,
   "id": "7fca9da2-2540-48ae-8f54-158f6e499ed6",
   "metadata": {
    "execution": {
     "iopub.execute_input": "2024-07-15T13:52:10.091434Z",
     "iopub.status.busy": "2024-07-15T13:52:10.090661Z",
     "iopub.status.idle": "2024-07-15T13:52:10.107337Z",
     "shell.execute_reply": "2024-07-15T13:52:10.105674Z",
     "shell.execute_reply.started": "2024-07-15T13:52:10.091401Z"
    }
   },
   "outputs": [],
   "source": [
    "label_ranges = [0, 60, 180, np.inf]\n",
    "label_names = ['short', 'medium', 'long']\n",
    "\n",
    "airlines['wait_type'] = pd.cut(airlines['wait_min'], bins = label_ranges, \n",
    "                                labels = label_names)"
   ]
  },
  {
   "cell_type": "code",
   "execution_count": 51,
   "id": "41dc6366-4266-40eb-8830-684e24ab874d",
   "metadata": {
    "execution": {
     "iopub.execute_input": "2024-07-15T13:52:10.888837Z",
     "iopub.status.busy": "2024-07-15T13:52:10.887575Z",
     "iopub.status.idle": "2024-07-15T13:52:10.909330Z",
     "shell.execute_reply": "2024-07-15T13:52:10.908177Z",
     "shell.execute_reply.started": "2024-07-15T13:52:10.888758Z"
    }
   },
   "outputs": [],
   "source": [
    "mappings = {'Monday':'weekday', 'Tuesday':'weekday', 'Wednesday': 'weekday', \n",
    "            'Thursday': 'weekday', 'Friday': 'weekday', \n",
    "            'Saturday': 'weekend', 'Sunday': 'weekend'}\n",
    "\n",
    "airlines['day_week'] = airlines['day'].replace(mappings)"
   ]
  },
  {
   "cell_type": "markdown",
   "id": "3fc8643e-659f-4fc2-8622-0c2f9c8d668a",
   "metadata": {},
   "source": [
    "## Cleaning text data\n",
    "\n",
    "Text data is very frequent.\n",
    "\n",
    "Typical errors are typos, casing, excesive length, different formats...\n",
    "\n",
    "Regular expressions is a powerful tool for fixing these issues."
   ]
  },
  {
   "cell_type": "code",
   "execution_count": 56,
   "id": "5cd28e71-5a84-40cc-8af3-049a36183f94",
   "metadata": {
    "execution": {
     "iopub.execute_input": "2024-07-15T14:03:41.607482Z",
     "iopub.status.busy": "2024-07-15T14:03:41.606680Z",
     "iopub.status.idle": "2024-07-15T14:03:41.675226Z",
     "shell.execute_reply": "2024-07-15T14:03:41.674433Z",
     "shell.execute_reply.started": "2024-07-15T14:03:41.607439Z"
    }
   },
   "outputs": [
    {
     "ename": "KeyError",
     "evalue": "'full_name'",
     "output_type": "error",
     "traceback": [
      "\u001b[0;31m---------------------------------------------------------------------------\u001b[0m",
      "\u001b[0;31mKeyError\u001b[0m                                  Traceback (most recent call last)",
      "File \u001b[0;32m/opt/anaconda3/envs/ISLP_new/lib/python3.12/site-packages/pandas/core/indexes/base.py:3805\u001b[0m, in \u001b[0;36mIndex.get_loc\u001b[0;34m(self, key)\u001b[0m\n\u001b[1;32m   3804\u001b[0m \u001b[38;5;28;01mtry\u001b[39;00m:\n\u001b[0;32m-> 3805\u001b[0m     \u001b[38;5;28;01mreturn\u001b[39;00m \u001b[38;5;28;43mself\u001b[39;49m\u001b[38;5;241;43m.\u001b[39;49m\u001b[43m_engine\u001b[49m\u001b[38;5;241;43m.\u001b[39;49m\u001b[43mget_loc\u001b[49m\u001b[43m(\u001b[49m\u001b[43mcasted_key\u001b[49m\u001b[43m)\u001b[49m\n\u001b[1;32m   3806\u001b[0m \u001b[38;5;28;01mexcept\u001b[39;00m \u001b[38;5;167;01mKeyError\u001b[39;00m \u001b[38;5;28;01mas\u001b[39;00m err:\n",
      "File \u001b[0;32mindex.pyx:167\u001b[0m, in \u001b[0;36mpandas._libs.index.IndexEngine.get_loc\u001b[0;34m()\u001b[0m\n",
      "File \u001b[0;32mindex.pyx:196\u001b[0m, in \u001b[0;36mpandas._libs.index.IndexEngine.get_loc\u001b[0;34m()\u001b[0m\n",
      "File \u001b[0;32mpandas/_libs/hashtable_class_helper.pxi:7081\u001b[0m, in \u001b[0;36mpandas._libs.hashtable.PyObjectHashTable.get_item\u001b[0;34m()\u001b[0m\n",
      "File \u001b[0;32mpandas/_libs/hashtable_class_helper.pxi:7089\u001b[0m, in \u001b[0;36mpandas._libs.hashtable.PyObjectHashTable.get_item\u001b[0;34m()\u001b[0m\n",
      "\u001b[0;31mKeyError\u001b[0m: 'full_name'",
      "\nThe above exception was the direct cause of the following exception:\n",
      "\u001b[0;31mKeyError\u001b[0m                                  Traceback (most recent call last)",
      "Cell \u001b[0;32mIn[56], line 1\u001b[0m\n\u001b[0;32m----> 1\u001b[0m airlines[\u001b[38;5;124m'\u001b[39m\u001b[38;5;124mfull_name\u001b[39m\u001b[38;5;124m'\u001b[39m] \u001b[38;5;241m=\u001b[39m \u001b[43mairlines\u001b[49m\u001b[43m[\u001b[49m\u001b[38;5;124;43m'\u001b[39;49m\u001b[38;5;124;43mfull_name\u001b[39;49m\u001b[38;5;124;43m'\u001b[39;49m\u001b[43m]\u001b[49m\u001b[38;5;241m.\u001b[39mstr\u001b[38;5;241m.\u001b[39mreplace(\u001b[38;5;124m\"\u001b[39m\u001b[38;5;124mDr.\u001b[39m\u001b[38;5;124m\"\u001b[39m,\u001b[38;5;124m\"\u001b[39m\u001b[38;5;124m\"\u001b[39m)\n\u001b[1;32m      2\u001b[0m airlines[\u001b[38;5;124m'\u001b[39m\u001b[38;5;124mfull_name\u001b[39m\u001b[38;5;124m'\u001b[39m] \u001b[38;5;241m=\u001b[39m airlines[\u001b[38;5;124m'\u001b[39m\u001b[38;5;124mfull_name\u001b[39m\u001b[38;5;124m'\u001b[39m]\u001b[38;5;241m.\u001b[39mstr\u001b[38;5;241m.\u001b[39mreplace(\u001b[38;5;124m\"\u001b[39m\u001b[38;5;124mMr.\u001b[39m\u001b[38;5;124m\"\u001b[39m,\u001b[38;5;124m\"\u001b[39m\u001b[38;5;124m\"\u001b[39m)\n\u001b[1;32m      3\u001b[0m airlines[\u001b[38;5;124m'\u001b[39m\u001b[38;5;124mfull_name\u001b[39m\u001b[38;5;124m'\u001b[39m] \u001b[38;5;241m=\u001b[39m airlines[\u001b[38;5;124m'\u001b[39m\u001b[38;5;124mfull_name\u001b[39m\u001b[38;5;124m'\u001b[39m]\u001b[38;5;241m.\u001b[39mstr\u001b[38;5;241m.\u001b[39mreplace(\u001b[38;5;124m\"\u001b[39m\u001b[38;5;124mMiss\u001b[39m\u001b[38;5;124m\"\u001b[39m,\u001b[38;5;124m\"\u001b[39m\u001b[38;5;124m\"\u001b[39m)\n",
      "File \u001b[0;32m/opt/anaconda3/envs/ISLP_new/lib/python3.12/site-packages/pandas/core/frame.py:4102\u001b[0m, in \u001b[0;36mDataFrame.__getitem__\u001b[0;34m(self, key)\u001b[0m\n\u001b[1;32m   4100\u001b[0m \u001b[38;5;28;01mif\u001b[39;00m \u001b[38;5;28mself\u001b[39m\u001b[38;5;241m.\u001b[39mcolumns\u001b[38;5;241m.\u001b[39mnlevels \u001b[38;5;241m>\u001b[39m \u001b[38;5;241m1\u001b[39m:\n\u001b[1;32m   4101\u001b[0m     \u001b[38;5;28;01mreturn\u001b[39;00m \u001b[38;5;28mself\u001b[39m\u001b[38;5;241m.\u001b[39m_getitem_multilevel(key)\n\u001b[0;32m-> 4102\u001b[0m indexer \u001b[38;5;241m=\u001b[39m \u001b[38;5;28;43mself\u001b[39;49m\u001b[38;5;241;43m.\u001b[39;49m\u001b[43mcolumns\u001b[49m\u001b[38;5;241;43m.\u001b[39;49m\u001b[43mget_loc\u001b[49m\u001b[43m(\u001b[49m\u001b[43mkey\u001b[49m\u001b[43m)\u001b[49m\n\u001b[1;32m   4103\u001b[0m \u001b[38;5;28;01mif\u001b[39;00m is_integer(indexer):\n\u001b[1;32m   4104\u001b[0m     indexer \u001b[38;5;241m=\u001b[39m [indexer]\n",
      "File \u001b[0;32m/opt/anaconda3/envs/ISLP_new/lib/python3.12/site-packages/pandas/core/indexes/base.py:3812\u001b[0m, in \u001b[0;36mIndex.get_loc\u001b[0;34m(self, key)\u001b[0m\n\u001b[1;32m   3807\u001b[0m     \u001b[38;5;28;01mif\u001b[39;00m \u001b[38;5;28misinstance\u001b[39m(casted_key, \u001b[38;5;28mslice\u001b[39m) \u001b[38;5;129;01mor\u001b[39;00m (\n\u001b[1;32m   3808\u001b[0m         \u001b[38;5;28misinstance\u001b[39m(casted_key, abc\u001b[38;5;241m.\u001b[39mIterable)\n\u001b[1;32m   3809\u001b[0m         \u001b[38;5;129;01mand\u001b[39;00m \u001b[38;5;28many\u001b[39m(\u001b[38;5;28misinstance\u001b[39m(x, \u001b[38;5;28mslice\u001b[39m) \u001b[38;5;28;01mfor\u001b[39;00m x \u001b[38;5;129;01min\u001b[39;00m casted_key)\n\u001b[1;32m   3810\u001b[0m     ):\n\u001b[1;32m   3811\u001b[0m         \u001b[38;5;28;01mraise\u001b[39;00m InvalidIndexError(key)\n\u001b[0;32m-> 3812\u001b[0m     \u001b[38;5;28;01mraise\u001b[39;00m \u001b[38;5;167;01mKeyError\u001b[39;00m(key) \u001b[38;5;28;01mfrom\u001b[39;00m \u001b[38;5;21;01merr\u001b[39;00m\n\u001b[1;32m   3813\u001b[0m \u001b[38;5;28;01mexcept\u001b[39;00m \u001b[38;5;167;01mTypeError\u001b[39;00m:\n\u001b[1;32m   3814\u001b[0m     \u001b[38;5;66;03m# If we have a listlike key, _check_indexing_error will raise\u001b[39;00m\n\u001b[1;32m   3815\u001b[0m     \u001b[38;5;66;03m#  InvalidIndexError. Otherwise we fall through and re-raise\u001b[39;00m\n\u001b[1;32m   3816\u001b[0m     \u001b[38;5;66;03m#  the TypeError.\u001b[39;00m\n\u001b[1;32m   3817\u001b[0m     \u001b[38;5;28mself\u001b[39m\u001b[38;5;241m.\u001b[39m_check_indexing_error(key)\n",
      "\u001b[0;31mKeyError\u001b[0m: 'full_name'"
     ]
    }
   ],
   "source": [
    "airlines['full_name'] = airlines['full_name'].str.replace(\"Dr.\",\"\")\n",
    "airlines['full_name'] = airlines['full_name'].str.replace(\"Mr.\",\"\")\n",
    "airlines['full_name'] = airlines['full_name'].str.replace(\"Miss\",\"\")\n",
    "airlines['full_name'] = airlines['full_name'].str.replace(\"Ms.\",\"\")\n",
    "\n",
    "assert airlines['full_name'].str.contains('Ms.|Mr.|Miss|Dr.').any() == False"
   ]
  },
  {
   "cell_type": "code",
   "execution_count": 58,
   "id": "f63a67ac-c4e6-428b-a5df-b3076ebb5fb4",
   "metadata": {
    "execution": {
     "iopub.execute_input": "2024-07-15T14:09:31.627432Z",
     "iopub.status.busy": "2024-07-15T14:09:31.625465Z",
     "iopub.status.idle": "2024-07-15T14:09:31.738133Z",
     "shell.execute_reply": "2024-07-15T14:09:31.737138Z",
     "shell.execute_reply.started": "2024-07-15T14:09:31.627350Z"
    }
   },
   "outputs": [
    {
     "ename": "KeyError",
     "evalue": "'survey_response'",
     "output_type": "error",
     "traceback": [
      "\u001b[0;31m---------------------------------------------------------------------------\u001b[0m",
      "\u001b[0;31mKeyError\u001b[0m                                  Traceback (most recent call last)",
      "File \u001b[0;32m/opt/anaconda3/envs/ISLP_new/lib/python3.12/site-packages/pandas/core/indexes/base.py:3805\u001b[0m, in \u001b[0;36mIndex.get_loc\u001b[0;34m(self, key)\u001b[0m\n\u001b[1;32m   3804\u001b[0m \u001b[38;5;28;01mtry\u001b[39;00m:\n\u001b[0;32m-> 3805\u001b[0m     \u001b[38;5;28;01mreturn\u001b[39;00m \u001b[38;5;28;43mself\u001b[39;49m\u001b[38;5;241;43m.\u001b[39;49m\u001b[43m_engine\u001b[49m\u001b[38;5;241;43m.\u001b[39;49m\u001b[43mget_loc\u001b[49m\u001b[43m(\u001b[49m\u001b[43mcasted_key\u001b[49m\u001b[43m)\u001b[49m\n\u001b[1;32m   3806\u001b[0m \u001b[38;5;28;01mexcept\u001b[39;00m \u001b[38;5;167;01mKeyError\u001b[39;00m \u001b[38;5;28;01mas\u001b[39;00m err:\n",
      "File \u001b[0;32mindex.pyx:167\u001b[0m, in \u001b[0;36mpandas._libs.index.IndexEngine.get_loc\u001b[0;34m()\u001b[0m\n",
      "File \u001b[0;32mindex.pyx:196\u001b[0m, in \u001b[0;36mpandas._libs.index.IndexEngine.get_loc\u001b[0;34m()\u001b[0m\n",
      "File \u001b[0;32mpandas/_libs/hashtable_class_helper.pxi:7081\u001b[0m, in \u001b[0;36mpandas._libs.hashtable.PyObjectHashTable.get_item\u001b[0;34m()\u001b[0m\n",
      "File \u001b[0;32mpandas/_libs/hashtable_class_helper.pxi:7089\u001b[0m, in \u001b[0;36mpandas._libs.hashtable.PyObjectHashTable.get_item\u001b[0;34m()\u001b[0m\n",
      "\u001b[0;31mKeyError\u001b[0m: 'survey_response'",
      "\nThe above exception was the direct cause of the following exception:\n",
      "\u001b[0;31mKeyError\u001b[0m                                  Traceback (most recent call last)",
      "Cell \u001b[0;32mIn[58], line 1\u001b[0m\n\u001b[0;32m----> 1\u001b[0m resp_length \u001b[38;5;241m=\u001b[39m \u001b[43mairlines\u001b[49m\u001b[43m[\u001b[49m\u001b[38;5;124;43m'\u001b[39;49m\u001b[38;5;124;43msurvey_response\u001b[39;49m\u001b[38;5;124;43m'\u001b[39;49m\u001b[43m]\u001b[49m\u001b[38;5;241m.\u001b[39mstr\u001b[38;5;241m.\u001b[39mlen()\n\u001b[1;32m      3\u001b[0m airlines_survey \u001b[38;5;241m=\u001b[39m airlines[resp_length \u001b[38;5;241m>\u001b[39m \u001b[38;5;241m40\u001b[39m]\n\u001b[1;32m      5\u001b[0m \u001b[38;5;28;01massert\u001b[39;00m airlines_survey[\u001b[38;5;124m'\u001b[39m\u001b[38;5;124msurvey_response\u001b[39m\u001b[38;5;124m'\u001b[39m]\u001b[38;5;241m.\u001b[39mstr\u001b[38;5;241m.\u001b[39mlen()\u001b[38;5;241m.\u001b[39mmin() \u001b[38;5;241m>\u001b[39m \u001b[38;5;241m40\u001b[39m\n",
      "File \u001b[0;32m/opt/anaconda3/envs/ISLP_new/lib/python3.12/site-packages/pandas/core/frame.py:4102\u001b[0m, in \u001b[0;36mDataFrame.__getitem__\u001b[0;34m(self, key)\u001b[0m\n\u001b[1;32m   4100\u001b[0m \u001b[38;5;28;01mif\u001b[39;00m \u001b[38;5;28mself\u001b[39m\u001b[38;5;241m.\u001b[39mcolumns\u001b[38;5;241m.\u001b[39mnlevels \u001b[38;5;241m>\u001b[39m \u001b[38;5;241m1\u001b[39m:\n\u001b[1;32m   4101\u001b[0m     \u001b[38;5;28;01mreturn\u001b[39;00m \u001b[38;5;28mself\u001b[39m\u001b[38;5;241m.\u001b[39m_getitem_multilevel(key)\n\u001b[0;32m-> 4102\u001b[0m indexer \u001b[38;5;241m=\u001b[39m \u001b[38;5;28;43mself\u001b[39;49m\u001b[38;5;241;43m.\u001b[39;49m\u001b[43mcolumns\u001b[49m\u001b[38;5;241;43m.\u001b[39;49m\u001b[43mget_loc\u001b[49m\u001b[43m(\u001b[49m\u001b[43mkey\u001b[49m\u001b[43m)\u001b[49m\n\u001b[1;32m   4103\u001b[0m \u001b[38;5;28;01mif\u001b[39;00m is_integer(indexer):\n\u001b[1;32m   4104\u001b[0m     indexer \u001b[38;5;241m=\u001b[39m [indexer]\n",
      "File \u001b[0;32m/opt/anaconda3/envs/ISLP_new/lib/python3.12/site-packages/pandas/core/indexes/base.py:3812\u001b[0m, in \u001b[0;36mIndex.get_loc\u001b[0;34m(self, key)\u001b[0m\n\u001b[1;32m   3807\u001b[0m     \u001b[38;5;28;01mif\u001b[39;00m \u001b[38;5;28misinstance\u001b[39m(casted_key, \u001b[38;5;28mslice\u001b[39m) \u001b[38;5;129;01mor\u001b[39;00m (\n\u001b[1;32m   3808\u001b[0m         \u001b[38;5;28misinstance\u001b[39m(casted_key, abc\u001b[38;5;241m.\u001b[39mIterable)\n\u001b[1;32m   3809\u001b[0m         \u001b[38;5;129;01mand\u001b[39;00m \u001b[38;5;28many\u001b[39m(\u001b[38;5;28misinstance\u001b[39m(x, \u001b[38;5;28mslice\u001b[39m) \u001b[38;5;28;01mfor\u001b[39;00m x \u001b[38;5;129;01min\u001b[39;00m casted_key)\n\u001b[1;32m   3810\u001b[0m     ):\n\u001b[1;32m   3811\u001b[0m         \u001b[38;5;28;01mraise\u001b[39;00m InvalidIndexError(key)\n\u001b[0;32m-> 3812\u001b[0m     \u001b[38;5;28;01mraise\u001b[39;00m \u001b[38;5;167;01mKeyError\u001b[39;00m(key) \u001b[38;5;28;01mfrom\u001b[39;00m \u001b[38;5;21;01merr\u001b[39;00m\n\u001b[1;32m   3813\u001b[0m \u001b[38;5;28;01mexcept\u001b[39;00m \u001b[38;5;167;01mTypeError\u001b[39;00m:\n\u001b[1;32m   3814\u001b[0m     \u001b[38;5;66;03m# If we have a listlike key, _check_indexing_error will raise\u001b[39;00m\n\u001b[1;32m   3815\u001b[0m     \u001b[38;5;66;03m#  InvalidIndexError. Otherwise we fall through and re-raise\u001b[39;00m\n\u001b[1;32m   3816\u001b[0m     \u001b[38;5;66;03m#  the TypeError.\u001b[39;00m\n\u001b[1;32m   3817\u001b[0m     \u001b[38;5;28mself\u001b[39m\u001b[38;5;241m.\u001b[39m_check_indexing_error(key)\n",
      "\u001b[0;31mKeyError\u001b[0m: 'survey_response'"
     ]
    }
   ],
   "source": [
    "resp_length = airlines['survey_response'].str.len()\n",
    "\n",
    "airlines_survey = airlines[resp_length > 40]\n",
    "\n",
    "assert airlines_survey['survey_response'].str.len().min() > 40\n",
    "\n",
    "print(airlines_survey['survey_response'])"
   ]
  },
  {
   "cell_type": "markdown",
   "id": "8c800489-bb15-4d6b-89e6-587a11a5a607",
   "metadata": {},
   "source": [
    "## Uniformity\n",
    "\n",
    "Ensuring unit uniformity is paramount. Currency, temperatures, distances... are prone to have different units through datasets.\n",
    "\n",
    "Dates can have multiple formats too. Sometimes, specific dates can be ambiguous.\n",
    "\n",
    "Its very important to understand where the data is coming from.\n"
   ]
  },
  {
   "cell_type": "code",
   "execution_count": 59,
   "id": "6652c2b5-aa52-47a7-a0a5-fcc409067318",
   "metadata": {
    "execution": {
     "iopub.execute_input": "2024-07-15T14:27:35.752468Z",
     "iopub.status.busy": "2024-07-15T14:27:35.751159Z",
     "iopub.status.idle": "2024-07-15T14:27:35.767975Z",
     "shell.execute_reply": "2024-07-15T14:27:35.767102Z",
     "shell.execute_reply.started": "2024-07-15T14:27:35.752386Z"
    }
   },
   "outputs": [],
   "source": [
    "banking = pd.read_csv('../data/banking_dirty.csv')"
   ]
  },
  {
   "cell_type": "code",
   "execution_count": null,
   "id": "51e6544a-dd8e-48ff-bb02-d013902e54ea",
   "metadata": {},
   "outputs": [],
   "source": [
    "acct_eu = banking['acct_cur'] == 'euro'\n",
    "\n",
    "# Convert acct_amount where it is in euro to dollars\n",
    "banking.loc[acct_eu, 'acct_amount'] = banking.loc[acct_eu, 'acct_amount'] * 1.1\n",
    "\n",
    "# Unify acct_cur column by changing 'euro' values to 'dollar'\n",
    "banking.loc[acct_eu, 'acct_cur'] = 'dollar'\n",
    "\n",
    "# Assert that only dollar currency remains\n",
    "assert banking['acct_cur'].unique() == 'dollar'"
   ]
  },
  {
   "cell_type": "code",
   "execution_count": 60,
   "id": "b74ba557-bcef-4dbb-b59c-62bec802a638",
   "metadata": {
    "execution": {
     "iopub.execute_input": "2024-07-15T14:37:55.886431Z",
     "iopub.status.busy": "2024-07-15T14:37:55.885631Z",
     "iopub.status.idle": "2024-07-15T14:37:55.925091Z",
     "shell.execute_reply": "2024-07-15T14:37:55.924587Z",
     "shell.execute_reply.started": "2024-07-15T14:37:55.886388Z"
    }
   },
   "outputs": [
    {
     "name": "stdout",
     "output_type": "stream",
     "text": [
      "0    02-09-18\n",
      "1    28-02-19\n",
      "2    25-04-18\n",
      "3    07-11-17\n",
      "4    14-05-18\n",
      "Name: account_opened, dtype: object\n",
      "0     2018\n",
      "1     2019\n",
      "2     2018\n",
      "3     2017\n",
      "4     2018\n",
      "      ... \n",
      "95    2018\n",
      "96    2017\n",
      "97    2017\n",
      "98    2017\n",
      "99    2017\n",
      "Name: acct_year, Length: 100, dtype: object\n"
     ]
    },
    {
     "name": "stderr",
     "output_type": "stream",
     "text": [
      "/var/folders/tx/44c409ls4bvf__rjhb2qjmf40000gn/T/ipykernel_3249/3102869659.py:3: UserWarning: The argument 'infer_datetime_format' is deprecated and will be removed in a future version. A strict version of it is now the default, see https://pandas.pydata.org/pdeps/0004-consistent-to-datetime-parsing.html. You can safely remove this argument.\n",
      "  banking['account_opened'] = pd.to_datetime(banking['account_opened'],\n",
      "/var/folders/tx/44c409ls4bvf__rjhb2qjmf40000gn/T/ipykernel_3249/3102869659.py:3: UserWarning: Could not infer format, so each element will be parsed individually, falling back to `dateutil`. To ensure parsing is consistent and as-expected, please specify a format.\n",
      "  banking['account_opened'] = pd.to_datetime(banking['account_opened'],\n"
     ]
    }
   ],
   "source": [
    "print(banking['account_opened'].head())\n",
    "\n",
    "banking['account_opened'] = pd.to_datetime(banking['account_opened'],\n",
    "                                           # Infer datetime format\n",
    "                                           infer_datetime_format = True,\n",
    "                                           # Return missing value for error\n",
    "                                           errors = 'coerce') \n",
    "\n",
    "banking['acct_year'] = banking['account_opened'].dt.strftime('%Y')\n",
    "\n",
    "print(banking['acct_year'])"
   ]
  },
  {
   "cell_type": "markdown",
   "id": "ea6c0ff7-90fd-4e74-a983-09d59468f3e8",
   "metadata": {
    "execution": {
     "iopub.execute_input": "2024-07-15T14:40:54.579428Z",
     "iopub.status.busy": "2024-07-15T14:40:54.578490Z",
     "iopub.status.idle": "2024-07-15T14:40:54.606218Z",
     "shell.execute_reply": "2024-07-15T14:40:54.602414Z",
     "shell.execute_reply.started": "2024-07-15T14:40:54.579372Z"
    }
   },
   "source": [
    "### Cross Field Validation \n",
    "\n",
    "Cross field validation refers to the usage of multiple fields in a dataset to sanity check data integrity. This is often required when merging different datasets comming from different sources.\n",
    "\n",
    "In case of inconsistencies, many options can be taken into account, all of them requiring a deep understanding about where the data is comming from.\n"
   ]
  },
  {
   "cell_type": "code",
   "execution_count": 62,
   "id": "1e0f2e7e-a580-4779-9626-9a3adaf27390",
   "metadata": {
    "execution": {
     "iopub.execute_input": "2024-07-15T14:47:26.792266Z",
     "iopub.status.busy": "2024-07-15T14:47:26.791003Z",
     "iopub.status.idle": "2024-07-15T14:47:26.811270Z",
     "shell.execute_reply": "2024-07-15T14:47:26.810363Z",
     "shell.execute_reply.started": "2024-07-15T14:47:26.792190Z"
    }
   },
   "outputs": [
    {
     "name": "stdout",
     "output_type": "stream",
     "text": [
      "Number of inconsistent investments:  8\n"
     ]
    }
   ],
   "source": [
    "fund_columns = ['fund_A', 'fund_B', 'fund_C', 'fund_D']\n",
    "\n",
    "inv_equ = banking[fund_columns].sum(axis=1) == banking['inv_amount']\n",
    "\n",
    "consistent_inv = banking[inv_equ]\n",
    "inconsistent_inv = banking[~inv_equ]\n",
    "\n",
    "print(\"Number of inconsistent investments: \", inconsistent_inv.shape[0])"
   ]
  },
  {
   "cell_type": "code",
   "execution_count": 70,
   "id": "b2296323-e25e-46e3-8a9d-96e460a7db03",
   "metadata": {
    "execution": {
     "iopub.execute_input": "2024-07-15T14:54:57.874881Z",
     "iopub.status.busy": "2024-07-15T14:54:57.874106Z",
     "iopub.status.idle": "2024-07-15T14:54:57.894439Z",
     "shell.execute_reply": "2024-07-15T14:54:57.893617Z",
     "shell.execute_reply.started": "2024-07-15T14:54:57.874837Z"
    }
   },
   "outputs": [
    {
     "name": "stdout",
     "output_type": "stream",
     "text": [
      "Number of inconsistent ages:  8\n"
     ]
    }
   ],
   "source": [
    "today = dt.date.today()\n",
    "banking['birth_date'] = pd.to_datetime(banking['birth_date'])\n",
    "\n",
    "ages_manual = 2020 - banking['birth_date'].dt.year\n",
    "\n",
    "# Find rows where age column == ages_manual\n",
    "age_equ = banking['Age'] == ages_manual\n",
    "\n",
    "# Store consistent and inconsistent data\n",
    "consistent_ages = banking[age_equ]\n",
    "inconsistent_ages = banking[~age_equ]\n",
    "\n",
    "# Store consistent and inconsistent data\n",
    "print(\"Number of inconsistent ages: \", inconsistent_ages.shape[0])"
   ]
  },
  {
   "cell_type": "code",
   "execution_count": 71,
   "id": "9af70c90-f504-4023-b99b-b9a6ddb480bc",
   "metadata": {
    "execution": {
     "iopub.execute_input": "2024-07-15T14:55:01.403284Z",
     "iopub.status.busy": "2024-07-15T14:55:01.402051Z",
     "iopub.status.idle": "2024-07-15T14:55:01.431281Z",
     "shell.execute_reply": "2024-07-15T14:55:01.430309Z",
     "shell.execute_reply.started": "2024-07-15T14:55:01.403211Z"
    }
   },
   "outputs": [
    {
     "data": {
      "text/html": [
       "<div>\n",
       "<style scoped>\n",
       "    .dataframe tbody tr th:only-of-type {\n",
       "        vertical-align: middle;\n",
       "    }\n",
       "\n",
       "    .dataframe tbody tr th {\n",
       "        vertical-align: top;\n",
       "    }\n",
       "\n",
       "    .dataframe thead th {\n",
       "        text-align: right;\n",
       "    }\n",
       "</style>\n",
       "<table border=\"1\" class=\"dataframe\">\n",
       "  <thead>\n",
       "    <tr style=\"text-align: right;\">\n",
       "      <th></th>\n",
       "      <th>Unnamed: 0</th>\n",
       "      <th>cust_id</th>\n",
       "      <th>birth_date</th>\n",
       "      <th>Age</th>\n",
       "      <th>acct_amount</th>\n",
       "      <th>inv_amount</th>\n",
       "      <th>fund_A</th>\n",
       "      <th>fund_B</th>\n",
       "      <th>fund_C</th>\n",
       "      <th>fund_D</th>\n",
       "      <th>account_opened</th>\n",
       "      <th>last_transaction</th>\n",
       "      <th>acct_year</th>\n",
       "    </tr>\n",
       "  </thead>\n",
       "  <tbody>\n",
       "    <tr>\n",
       "      <th>0</th>\n",
       "      <td>0</td>\n",
       "      <td>870A9281</td>\n",
       "      <td>1962-06-09</td>\n",
       "      <td>58</td>\n",
       "      <td>63523.31</td>\n",
       "      <td>51295</td>\n",
       "      <td>30105.0</td>\n",
       "      <td>4138.0</td>\n",
       "      <td>1420.0</td>\n",
       "      <td>15632.0</td>\n",
       "      <td>2018-02-09</td>\n",
       "      <td>22-02-19</td>\n",
       "      <td>2018</td>\n",
       "    </tr>\n",
       "    <tr>\n",
       "      <th>1</th>\n",
       "      <td>1</td>\n",
       "      <td>166B05B0</td>\n",
       "      <td>1962-12-16</td>\n",
       "      <td>58</td>\n",
       "      <td>38175.46</td>\n",
       "      <td>15050</td>\n",
       "      <td>4995.0</td>\n",
       "      <td>938.0</td>\n",
       "      <td>6696.0</td>\n",
       "      <td>2421.0</td>\n",
       "      <td>2019-02-28</td>\n",
       "      <td>31-10-18</td>\n",
       "      <td>2019</td>\n",
       "    </tr>\n",
       "    <tr>\n",
       "      <th>2</th>\n",
       "      <td>2</td>\n",
       "      <td>BFC13E88</td>\n",
       "      <td>1990-09-12</td>\n",
       "      <td>34</td>\n",
       "      <td>59863.77</td>\n",
       "      <td>24567</td>\n",
       "      <td>10323.0</td>\n",
       "      <td>4590.0</td>\n",
       "      <td>8469.0</td>\n",
       "      <td>1185.0</td>\n",
       "      <td>2018-04-25</td>\n",
       "      <td>02-04-18</td>\n",
       "      <td>2018</td>\n",
       "    </tr>\n",
       "    <tr>\n",
       "      <th>3</th>\n",
       "      <td>3</td>\n",
       "      <td>F2158F66</td>\n",
       "      <td>1985-11-03</td>\n",
       "      <td>35</td>\n",
       "      <td>84132.10</td>\n",
       "      <td>23712</td>\n",
       "      <td>3908.0</td>\n",
       "      <td>492.0</td>\n",
       "      <td>6482.0</td>\n",
       "      <td>12830.0</td>\n",
       "      <td>2017-07-11</td>\n",
       "      <td>08-11-18</td>\n",
       "      <td>2017</td>\n",
       "    </tr>\n",
       "    <tr>\n",
       "      <th>4</th>\n",
       "      <td>4</td>\n",
       "      <td>7A73F334</td>\n",
       "      <td>1990-05-17</td>\n",
       "      <td>30</td>\n",
       "      <td>120512.00</td>\n",
       "      <td>93230</td>\n",
       "      <td>12158.4</td>\n",
       "      <td>51281.0</td>\n",
       "      <td>13434.0</td>\n",
       "      <td>18383.0</td>\n",
       "      <td>2018-05-14</td>\n",
       "      <td>19-07-18</td>\n",
       "      <td>2018</td>\n",
       "    </tr>\n",
       "    <tr>\n",
       "      <th>...</th>\n",
       "      <td>...</td>\n",
       "      <td>...</td>\n",
       "      <td>...</td>\n",
       "      <td>...</td>\n",
       "      <td>...</td>\n",
       "      <td>...</td>\n",
       "      <td>...</td>\n",
       "      <td>...</td>\n",
       "      <td>...</td>\n",
       "      <td>...</td>\n",
       "      <td>...</td>\n",
       "      <td>...</td>\n",
       "      <td>...</td>\n",
       "    </tr>\n",
       "    <tr>\n",
       "      <th>95</th>\n",
       "      <td>95</td>\n",
       "      <td>CA507BA1</td>\n",
       "      <td>1974-08-10</td>\n",
       "      <td>46</td>\n",
       "      <td>12209.84</td>\n",
       "      <td>7515</td>\n",
       "      <td>190.0</td>\n",
       "      <td>931.0</td>\n",
       "      <td>1451.0</td>\n",
       "      <td>4943.0</td>\n",
       "      <td>2018-05-26</td>\n",
       "      <td>11-09-19</td>\n",
       "      <td>2018</td>\n",
       "    </tr>\n",
       "    <tr>\n",
       "      <th>96</th>\n",
       "      <td>96</td>\n",
       "      <td>B99CD662</td>\n",
       "      <td>1989-12-12</td>\n",
       "      <td>31</td>\n",
       "      <td>92838.44</td>\n",
       "      <td>49089</td>\n",
       "      <td>2453.0</td>\n",
       "      <td>7892.0</td>\n",
       "      <td>31486.0</td>\n",
       "      <td>7258.0</td>\n",
       "      <td>2017-04-05</td>\n",
       "      <td>12-03-19</td>\n",
       "      <td>2017</td>\n",
       "    </tr>\n",
       "    <tr>\n",
       "      <th>97</th>\n",
       "      <td>97</td>\n",
       "      <td>13770971</td>\n",
       "      <td>1984-11-29</td>\n",
       "      <td>36</td>\n",
       "      <td>92750.87</td>\n",
       "      <td>27962</td>\n",
       "      <td>3352.0</td>\n",
       "      <td>7547.0</td>\n",
       "      <td>8486.0</td>\n",
       "      <td>8577.0</td>\n",
       "      <td>2017-08-16</td>\n",
       "      <td>24-04-19</td>\n",
       "      <td>2017</td>\n",
       "    </tr>\n",
       "    <tr>\n",
       "      <th>98</th>\n",
       "      <td>98</td>\n",
       "      <td>93E78DA3</td>\n",
       "      <td>1969-12-14</td>\n",
       "      <td>51</td>\n",
       "      <td>41942.23</td>\n",
       "      <td>29662</td>\n",
       "      <td>1758.0</td>\n",
       "      <td>11174.0</td>\n",
       "      <td>11650.0</td>\n",
       "      <td>5080.0</td>\n",
       "      <td>2017-09-10</td>\n",
       "      <td>15-04-18</td>\n",
       "      <td>2017</td>\n",
       "    </tr>\n",
       "    <tr>\n",
       "      <th>99</th>\n",
       "      <td>99</td>\n",
       "      <td>AC91D689</td>\n",
       "      <td>1993-05-18</td>\n",
       "      <td>27</td>\n",
       "      <td>99490.61</td>\n",
       "      <td>32149</td>\n",
       "      <td>2184.0</td>\n",
       "      <td>17918.0</td>\n",
       "      <td>6714.0</td>\n",
       "      <td>5333.0</td>\n",
       "      <td>2017-01-08</td>\n",
       "      <td>04-08-19</td>\n",
       "      <td>2017</td>\n",
       "    </tr>\n",
       "  </tbody>\n",
       "</table>\n",
       "<p>100 rows × 13 columns</p>\n",
       "</div>"
      ],
      "text/plain": [
       "    Unnamed: 0   cust_id birth_date  Age  acct_amount  inv_amount   fund_A  \\\n",
       "0            0  870A9281 1962-06-09   58     63523.31       51295  30105.0   \n",
       "1            1  166B05B0 1962-12-16   58     38175.46       15050   4995.0   \n",
       "2            2  BFC13E88 1990-09-12   34     59863.77       24567  10323.0   \n",
       "3            3  F2158F66 1985-11-03   35     84132.10       23712   3908.0   \n",
       "4            4  7A73F334 1990-05-17   30    120512.00       93230  12158.4   \n",
       "..         ...       ...        ...  ...          ...         ...      ...   \n",
       "95          95  CA507BA1 1974-08-10   46     12209.84        7515    190.0   \n",
       "96          96  B99CD662 1989-12-12   31     92838.44       49089   2453.0   \n",
       "97          97  13770971 1984-11-29   36     92750.87       27962   3352.0   \n",
       "98          98  93E78DA3 1969-12-14   51     41942.23       29662   1758.0   \n",
       "99          99  AC91D689 1993-05-18   27     99490.61       32149   2184.0   \n",
       "\n",
       "     fund_B   fund_C   fund_D account_opened last_transaction acct_year  \n",
       "0    4138.0   1420.0  15632.0     2018-02-09         22-02-19      2018  \n",
       "1     938.0   6696.0   2421.0     2019-02-28         31-10-18      2019  \n",
       "2    4590.0   8469.0   1185.0     2018-04-25         02-04-18      2018  \n",
       "3     492.0   6482.0  12830.0     2017-07-11         08-11-18      2017  \n",
       "4   51281.0  13434.0  18383.0     2018-05-14         19-07-18      2018  \n",
       "..      ...      ...      ...            ...              ...       ...  \n",
       "95    931.0   1451.0   4943.0     2018-05-26         11-09-19      2018  \n",
       "96   7892.0  31486.0   7258.0     2017-04-05         12-03-19      2017  \n",
       "97   7547.0   8486.0   8577.0     2017-08-16         24-04-19      2017  \n",
       "98  11174.0  11650.0   5080.0     2017-09-10         15-04-18      2017  \n",
       "99  17918.0   6714.0   5333.0     2017-01-08         04-08-19      2017  \n",
       "\n",
       "[100 rows x 13 columns]"
      ]
     },
     "execution_count": 71,
     "metadata": {},
     "output_type": "execute_result"
    }
   ],
   "source": [
    "banking"
   ]
  },
  {
   "cell_type": "markdown",
   "id": "9be05a95-720a-4001-83ce-215584849df8",
   "metadata": {
    "execution": {
     "iopub.execute_input": "2024-07-15T14:55:30.848105Z",
     "iopub.status.busy": "2024-07-15T14:55:30.847215Z",
     "iopub.status.idle": "2024-07-15T14:55:30.855613Z",
     "shell.execute_reply": "2024-07-15T14:55:30.854424Z",
     "shell.execute_reply.started": "2024-07-15T14:55:30.848038Z"
    }
   },
   "source": [
    "### Completeness and missing data\n",
    "\n",
    "Missing data occurs when no data value is stored for a variable in an observation. Can be represented as NaN, NA, 0...\n",
    "\n",
    "There are multiple reasons behind missing data.\n"
   ]
  },
  {
   "cell_type": "code",
   "execution_count": 73,
   "id": "fac4404a-8cfe-4fde-b027-72c10174cde7",
   "metadata": {
    "execution": {
     "iopub.execute_input": "2024-07-15T14:58:10.589339Z",
     "iopub.status.busy": "2024-07-15T14:58:10.588325Z",
     "iopub.status.idle": "2024-07-15T14:58:10.610626Z",
     "shell.execute_reply": "2024-07-15T14:58:10.609327Z",
     "shell.execute_reply.started": "2024-07-15T14:58:10.589286Z"
    }
   },
   "outputs": [
    {
     "data": {
      "text/plain": [
       "Unnamed: 0          0\n",
       "cust_id             0\n",
       "birth_date          0\n",
       "Age                 0\n",
       "acct_amount         0\n",
       "inv_amount          0\n",
       "fund_A              0\n",
       "fund_B              0\n",
       "fund_C              0\n",
       "fund_D              0\n",
       "account_opened      0\n",
       "last_transaction    0\n",
       "acct_year           0\n",
       "dtype: int64"
      ]
     },
     "execution_count": 73,
     "metadata": {},
     "output_type": "execute_result"
    }
   ],
   "source": [
    "# To get an idea about missingness\n",
    "banking.isna().sum()"
   ]
  },
  {
   "cell_type": "markdown",
   "id": "52043166-5dc8-497f-a2c8-a7b3d17b8dd4",
   "metadata": {},
   "source": [
    "There is no null value in this dataframe\n",
    "\n",
    "The **missingno** package allows us to better understand our missing data."
   ]
  },
  {
   "cell_type": "code",
   "execution_count": 74,
   "id": "3759be04-b69c-4137-8272-5bfb636a7ef2",
   "metadata": {
    "execution": {
     "iopub.execute_input": "2024-07-15T15:01:15.928086Z",
     "iopub.status.busy": "2024-07-15T15:01:15.927366Z",
     "iopub.status.idle": "2024-07-15T15:01:19.241433Z",
     "shell.execute_reply": "2024-07-15T15:01:19.240929Z",
     "shell.execute_reply.started": "2024-07-15T15:01:15.928044Z"
    }
   },
   "outputs": [
    {
     "data": {
      "image/png": "[encoded data removed]",
      "text/plain": [
       "<Figure size 2500x1000 with 2 Axes>"
      ]
     },
     "metadata": {},
     "output_type": "display_data"
    }
   ],
   "source": [
    "import missingno as msno\n",
    "import matplotlib.pyplot as plt\n",
    "\n",
    "msno.matrix(banking)\n",
    "plt.show()"
   ]
  },
  {
   "cell_type": "markdown",
   "id": "9b3a12aa-940b-4058-a766-ee4ec7899d03",
   "metadata": {},
   "source": [
    "Missing values can happen:\n",
    "- Completely at random: completely due to randomness\n",
    "- At random: there is a relationship between missing data and other observed values\n",
    "- Not at random: there is a systematic relationship between missing data and unobserved values\n",
    "\n",
    "Again, there are many ways to proceed with missing data: dropping it, imputing means, medians or modes, imputing based on machine learning models, impute them by hand if we have sufficient domain knowledge..."
   ]
  },
  {
   "cell_type": "markdown",
   "id": "8f960f37-6f27-43d0-b979-f2508ff0540b",
   "metadata": {
    "execution": {
     "iopub.execute_input": "2024-07-15T15:34:16.723904Z",
     "iopub.status.busy": "2024-07-15T15:34:16.723067Z",
     "iopub.status.idle": "2024-07-15T15:34:16.737543Z",
     "shell.execute_reply": "2024-07-15T15:34:16.736239Z",
     "shell.execute_reply.started": "2024-07-15T15:34:16.723851Z"
    }
   },
   "source": [
    "## Record Linkage\n",
    "\n",
    "**Minimum edit distance**: least possible amount of steps needed to transition from one string to another, operations being insertion, deletion, substitution or transposition. The smaller the minimum edit distance, the closer the 2 words are. There are several algorithms to calculate this distance.\n",
    "\n",
    "Several packages to calculate these distances: thefuzz, nltk, recordlinkage...\n"
   ]
  },
  {
   "cell_type": "code",
   "execution_count": 76,
   "id": "58d4cb48-c22d-4fa4-8012-a73faba252af",
   "metadata": {
    "execution": {
     "iopub.execute_input": "2024-07-15T16:35:48.439003Z",
     "iopub.status.busy": "2024-07-15T16:35:48.438119Z",
     "iopub.status.idle": "2024-07-15T16:35:48.465562Z",
     "shell.execute_reply": "2024-07-15T16:35:48.464872Z",
     "shell.execute_reply.started": "2024-07-15T16:35:48.438959Z"
    }
   },
   "outputs": [
    {
     "data": {
      "text/html": [
       "<div>\n",
       "<style scoped>\n",
       "    .dataframe tbody tr th:only-of-type {\n",
       "        vertical-align: middle;\n",
       "    }\n",
       "\n",
       "    .dataframe tbody tr th {\n",
       "        vertical-align: top;\n",
       "    }\n",
       "\n",
       "    .dataframe thead th {\n",
       "        text-align: right;\n",
       "    }\n",
       "</style>\n",
       "<table border=\"1\" class=\"dataframe\">\n",
       "  <thead>\n",
       "    <tr style=\"text-align: right;\">\n",
       "      <th></th>\n",
       "      <th>Unnamed: 0</th>\n",
       "      <th>name</th>\n",
       "      <th>addr</th>\n",
       "      <th>city</th>\n",
       "      <th>phone</th>\n",
       "      <th>type</th>\n",
       "    </tr>\n",
       "  </thead>\n",
       "  <tbody>\n",
       "    <tr>\n",
       "      <th>0</th>\n",
       "      <td>0</td>\n",
       "      <td>kokomo</td>\n",
       "      <td>6333 w. third st.</td>\n",
       "      <td>la</td>\n",
       "      <td>2139330773</td>\n",
       "      <td>american</td>\n",
       "    </tr>\n",
       "    <tr>\n",
       "      <th>1</th>\n",
       "      <td>1</td>\n",
       "      <td>feenix</td>\n",
       "      <td>8358 sunset blvd. west</td>\n",
       "      <td>hollywood</td>\n",
       "      <td>2138486677</td>\n",
       "      <td>american</td>\n",
       "    </tr>\n",
       "    <tr>\n",
       "      <th>2</th>\n",
       "      <td>2</td>\n",
       "      <td>parkway</td>\n",
       "      <td>510 s. arroyo pkwy .</td>\n",
       "      <td>pasadena</td>\n",
       "      <td>8187951001</td>\n",
       "      <td>californian</td>\n",
       "    </tr>\n",
       "    <tr>\n",
       "      <th>3</th>\n",
       "      <td>3</td>\n",
       "      <td>r-23</td>\n",
       "      <td>923 e. third st.</td>\n",
       "      <td>los angeles</td>\n",
       "      <td>2136877178</td>\n",
       "      <td>japanese</td>\n",
       "    </tr>\n",
       "    <tr>\n",
       "      <th>4</th>\n",
       "      <td>4</td>\n",
       "      <td>gumbo</td>\n",
       "      <td>6333 w. third st.</td>\n",
       "      <td>la</td>\n",
       "      <td>2139330358</td>\n",
       "      <td>cajun/creole</td>\n",
       "    </tr>\n",
       "    <tr>\n",
       "      <th>...</th>\n",
       "      <td>...</td>\n",
       "      <td>...</td>\n",
       "      <td>...</td>\n",
       "      <td>...</td>\n",
       "      <td>...</td>\n",
       "      <td>...</td>\n",
       "    </tr>\n",
       "    <tr>\n",
       "      <th>77</th>\n",
       "      <td>77</td>\n",
       "      <td>feast</td>\n",
       "      <td>1949 westwood blvd.</td>\n",
       "      <td>west la</td>\n",
       "      <td>3104750400</td>\n",
       "      <td>chinese</td>\n",
       "    </tr>\n",
       "    <tr>\n",
       "      <th>78</th>\n",
       "      <td>78</td>\n",
       "      <td>mulberry</td>\n",
       "      <td>17040 ventura blvd.</td>\n",
       "      <td>encino</td>\n",
       "      <td>8189068881</td>\n",
       "      <td>pizza</td>\n",
       "    </tr>\n",
       "    <tr>\n",
       "      <th>79</th>\n",
       "      <td>79</td>\n",
       "      <td>matsuhissa</td>\n",
       "      <td>129 n. la cienega blvd.</td>\n",
       "      <td>beverly hills</td>\n",
       "      <td>3106599639</td>\n",
       "      <td>asian</td>\n",
       "    </tr>\n",
       "    <tr>\n",
       "      <th>80</th>\n",
       "      <td>80</td>\n",
       "      <td>jiraffe</td>\n",
       "      <td>502 santa monica blvd</td>\n",
       "      <td>santa monica</td>\n",
       "      <td>3109176671</td>\n",
       "      <td>californian</td>\n",
       "    </tr>\n",
       "    <tr>\n",
       "      <th>81</th>\n",
       "      <td>81</td>\n",
       "      <td>martha's</td>\n",
       "      <td>22nd street grill 25 22nd</td>\n",
       "      <td>st. hermosa beach</td>\n",
       "      <td>3103767786</td>\n",
       "      <td>american</td>\n",
       "    </tr>\n",
       "  </tbody>\n",
       "</table>\n",
       "<p>82 rows × 6 columns</p>\n",
       "</div>"
      ],
      "text/plain": [
       "    Unnamed: 0        name                       addr               city  \\\n",
       "0            0      kokomo          6333 w. third st.                 la   \n",
       "1            1      feenix    8358 sunset blvd. west           hollywood   \n",
       "2            2     parkway       510 s. arroyo pkwy .           pasadena   \n",
       "3            3        r-23           923 e. third st.        los angeles   \n",
       "4            4       gumbo          6333 w. third st.                 la   \n",
       "..         ...         ...                        ...                ...   \n",
       "77          77       feast        1949 westwood blvd.            west la   \n",
       "78          78    mulberry        17040 ventura blvd.             encino   \n",
       "79          79  matsuhissa   129 n. la cienega blvd.       beverly hills   \n",
       "80          80     jiraffe      502 santa monica blvd       santa monica   \n",
       "81          81    martha's  22nd street grill 25 22nd  st. hermosa beach   \n",
       "\n",
       "         phone          type  \n",
       "0   2139330773      american  \n",
       "1   2138486677      american  \n",
       "2   8187951001   californian  \n",
       "3   2136877178      japanese  \n",
       "4   2139330358  cajun/creole  \n",
       "..         ...           ...  \n",
       "77  3104750400       chinese  \n",
       "78  8189068881         pizza  \n",
       "79  3106599639         asian  \n",
       "80  3109176671   californian  \n",
       "81  3103767786      american  \n",
       "\n",
       "[82 rows x 6 columns]"
      ]
     },
     "execution_count": 76,
     "metadata": {},
     "output_type": "execute_result"
    }
   ],
   "source": [
    "restaurants = pd.read_csv('../data/restaurants_L2_dirty.csv')\n",
    "restaurants"
   ]
  },
  {
   "cell_type": "code",
   "execution_count": 84,
   "id": "7fc094cf-3c2a-4359-83ee-38ffcc3206b9",
   "metadata": {
    "execution": {
     "iopub.execute_input": "2024-07-15T16:38:40.617132Z",
     "iopub.status.busy": "2024-07-15T16:38:40.615962Z",
     "iopub.status.idle": "2024-07-15T16:38:40.632214Z",
     "shell.execute_reply": "2024-07-15T16:38:40.631450Z",
     "shell.execute_reply.started": "2024-07-15T16:38:40.617054Z"
    }
   },
   "outputs": [
    {
     "name": "stdout",
     "output_type": "stream",
     "text": [
      "[('asian', 100), ('indonesian', 80), ('californian', 68), ('italian', 67), ('russian', 67), ('american', 62), ('japanese', 54), ('mexican/tex-mex', 54), ('american ( new )', 54), ('mexican', 50), ('fast food', 45), ('middle eastern', 43), ('steakhouses', 40), ('pacific new wave', 40), ('pizza', 40), ('diners', 36), ('cajun/creole', 36), ('vietnamese', 36), ('continental', 36), ('seafood', 33), ('chicken', 33), ('chinese', 33), ('hot dogs', 30), ('hamburgers', 30), ('coffee shops', 30), ('noodle shops', 30), ('southern/soul', 30), ('desserts', 30), ('eclectic', 26), ('coffeebar', 26), ('health food', 22), ('french ( new )', 22), ('delis', 20)]\n",
      "[('american', 100), ('american ( new )', 90), ('mexican', 80), ('mexican/tex-mex', 72), ('asian', 62), ('italian', 53), ('russian', 53), ('californian', 53), ('middle eastern', 51), ('southern/soul', 47), ('pacific new wave', 45), ('hamburgers', 44), ('indonesian', 44), ('cajun/creole', 42), ('chicken', 40), ('pizza', 40), ('japanese', 38), ('eclectic', 38), ('delis', 36), ('french ( new )', 34), ('vietnamese', 33), ('diners', 29), ('seafood', 27), ('chinese', 27), ('desserts', 25), ('coffeebar', 24), ('steakhouses', 21), ('health food', 21), ('continental', 21), ('coffee shops', 20), ('noodle shops', 20), ('fast food', 12), ('hot dogs', 0)]\n",
      "[('italian', 100), ('asian', 67), ('californian', 56), ('continental', 54), ('american', 53), ('indonesian', 47), ('russian', 43), ('mexican', 43), ('japanese', 40), ('mexican/tex-mex', 39), ('american ( new )', 39), ('pacific new wave', 39), ('middle eastern', 38), ('vietnamese', 35), ('delis', 33), ('pizza', 33), ('steakhouses', 33), ('health food', 33), ('diners', 31), ('cajun/creole', 30), ('chicken', 29), ('chinese', 29), ('southern/soul', 28), ('eclectic', 27), ('noodle shops', 22), ('french ( new )', 18), ('seafood', 14), ('hot dogs', 13), ('desserts', 13), ('fast food', 12), ('coffeebar', 12), ('hamburgers', 12), ('coffee shops', 0)]\n"
     ]
    }
   ],
   "source": [
    "from thefuzz import process\n",
    "\n",
    "unique_types = restaurants.type.unique()\n",
    "\n",
    "print(process.extract('asian', unique_types, limit = len(unique_types)))\n",
    "print(process.extract('american', unique_types, limit = len(unique_types)))\n",
    "print(process.extract('italian', unique_types, limit = len(unique_types)))"
   ]
  },
  {
   "cell_type": "code",
   "execution_count": 85,
   "id": "87355e2f-38fe-4468-95c0-5ee372c4838e",
   "metadata": {
    "execution": {
     "iopub.execute_input": "2024-07-15T16:38:46.727420Z",
     "iopub.status.busy": "2024-07-15T16:38:46.726429Z",
     "iopub.status.idle": "2024-07-15T16:38:46.742309Z",
     "shell.execute_reply": "2024-07-15T16:38:46.741157Z",
     "shell.execute_reply.started": "2024-07-15T16:38:46.727359Z"
    }
   },
   "outputs": [
    {
     "name": "stdout",
     "output_type": "stream",
     "text": [
      "['american' 'californian' 'japanese' 'cajun/creole' 'hot dogs' 'diners'\n",
      " 'delis' 'hamburgers' 'seafood' 'italian' 'coffee shops' 'russian'\n",
      " 'steakhouses' 'mexican/tex-mex' 'noodle shops' 'mexican' 'middle eastern'\n",
      " 'asian' 'vietnamese' 'health food' 'american ( new )' 'pacific new wave'\n",
      " 'indonesian' 'eclectic' 'chicken' 'fast food' 'southern/soul' 'coffeebar'\n",
      " 'continental' 'french ( new )' 'desserts' 'chinese' 'pizza']\n"
     ]
    }
   ],
   "source": [
    "print(restaurants['type'].unique())"
   ]
  },
  {
   "cell_type": "code",
   "execution_count": 86,
   "id": "82ee3ab4-4fab-416e-868b-6f9e0361bc71",
   "metadata": {
    "execution": {
     "iopub.execute_input": "2024-07-15T16:38:52.664363Z",
     "iopub.status.busy": "2024-07-15T16:38:52.663586Z",
     "iopub.status.idle": "2024-07-15T16:38:52.678321Z",
     "shell.execute_reply": "2024-07-15T16:38:52.677187Z",
     "shell.execute_reply.started": "2024-07-15T16:38:52.664314Z"
    }
   },
   "outputs": [
    {
     "name": "stdout",
     "output_type": "stream",
     "text": [
      "[('italian', 100, 14), ('italian', 100, 21), ('italian', 100, 47), ('italian', 100, 57), ('italian', 100, 73)]\n"
     ]
    }
   ],
   "source": [
    "matches = process.extract('italian', restaurants['type'], limit=len(restaurants))\n",
    "\n",
    "# Inspect the first 5 matches\n",
    "print(matches[0:5])"
   ]
  },
  {
   "cell_type": "code",
   "execution_count": 88,
   "id": "91f12b2b-833d-4614-99fb-9eca553af2d3",
   "metadata": {
    "execution": {
     "iopub.execute_input": "2024-07-15T16:39:08.488505Z",
     "iopub.status.busy": "2024-07-15T16:39:08.487398Z",
     "iopub.status.idle": "2024-07-15T16:39:08.512490Z",
     "shell.execute_reply": "2024-07-15T16:39:08.511734Z",
     "shell.execute_reply.started": "2024-07-15T16:39:08.488454Z"
    }
   },
   "outputs": [],
   "source": [
    "matches = process.extract('italian', restaurants['type'], limit=len(restaurants.type))\n",
    "\n",
    "for match in matches:\n",
    "  if match[1] >= 80:\n",
    "    restaurants.loc[restaurants['type'] == match[0]] = 'italian'"
   ]
  },
  {
   "cell_type": "code",
   "execution_count": 89,
   "id": "de28d350-4bb8-4db1-87cd-60d017de5095",
   "metadata": {
    "execution": {
     "iopub.execute_input": "2024-07-15T16:39:31.404740Z",
     "iopub.status.busy": "2024-07-15T16:39:31.403821Z",
     "iopub.status.idle": "2024-07-15T16:39:31.422007Z",
     "shell.execute_reply": "2024-07-15T16:39:31.420839Z",
     "shell.execute_reply.started": "2024-07-15T16:39:31.404682Z"
    }
   },
   "outputs": [
    {
     "name": "stdout",
     "output_type": "stream",
     "text": [
      "['american' 'californian' 'japanese' 'cajun/creole' 'hot dogs' 'diners'\n",
      " 'delis' 'hamburgers' 'seafood' 'italian' 'coffee shops' 'russian'\n",
      " 'steakhouses' 'mexican/tex-mex' 'noodle shops' 'mexican' 'middle eastern'\n",
      " 'asian' 'vietnamese' 'health food' 'american ( new )' 'pacific new wave'\n",
      " 'indonesian' 'eclectic' 'chicken' 'fast food' 'southern/soul' 'coffeebar'\n",
      " 'continental' 'french ( new )' 'desserts' 'chinese' 'pizza']\n"
     ]
    }
   ],
   "source": [
    "for cuisine in categories:  \n",
    "  # Create a list of matches, comparing cuisine with the cuisine_type column\n",
    "  matches = process.extract(cuisine, restaurants['type'], limit=len(restaurants.type))\n",
    "\n",
    "  # Iterate through the list of matches\n",
    "  for match in matches:\n",
    "     # Check whether the similarity score is greater than or equal to 80\n",
    "    if match[1] >= 80:\n",
    "      # If it is, select all rows where the cuisine_type is spelled this way, and set them to the correct cuisine\n",
    "      restaurants.loc[restaurants['type'] == match[0]] = cuisine\n",
    "      \n",
    "# Inspect the final result\n",
    "print(restaurants['type'].unique())"
   ]
  },
  {
   "cell_type": "markdown",
   "id": "d169b3ba-df8f-4326-9b11-f552c078c897",
   "metadata": {
    "execution": {
     "iopub.execute_input": "2024-07-15T16:39:49.272496Z",
     "iopub.status.busy": "2024-07-15T16:39:49.271709Z",
     "iopub.status.idle": "2024-07-15T16:39:49.284030Z",
     "shell.execute_reply": "2024-07-15T16:39:49.282438Z",
     "shell.execute_reply.started": "2024-07-15T16:39:49.272456Z"
    }
   },
   "source": [
    "**Record Linkage** is the act of linking data from different sources regarding the same entity. Generally, we clean two or more DataFrames, generate pairs of potentially matching records, score these pairs according to string similarity and other similarity metrics, and link them. All of these steps can be achieved with the recordlinkage package\n",
    "\n",
    "https://recordlinkage.readthedocs.io/en/latest/\n",
    "\n",
    "### Generating pairs\n",
    "First step for record linkage: composing candidate pairs for further comparison.\n",
    "Blocking is the technique to reduce the amount of pairs based on variables having the same value on both observations of the same pair.\n"
   ]
  },
  {
   "cell_type": "code",
   "execution_count": 93,
   "id": "f3ba8bbe-5acb-4c47-8d13-a40fb7653838",
   "metadata": {
    "execution": {
     "iopub.execute_input": "2024-07-15T16:56:21.398270Z",
     "iopub.status.busy": "2024-07-15T16:56:21.397095Z",
     "iopub.status.idle": "2024-07-15T16:56:21.432650Z",
     "shell.execute_reply": "2024-07-15T16:56:21.431993Z",
     "shell.execute_reply.started": "2024-07-15T16:56:21.398192Z"
    }
   },
   "outputs": [
    {
     "ename": "NameError",
     "evalue": "name 'restaurants_new' is not defined",
     "output_type": "error",
     "traceback": [
      "\u001b[0;31m---------------------------------------------------------------------------\u001b[0m",
      "\u001b[0;31mNameError\u001b[0m                                 Traceback (most recent call last)",
      "Cell \u001b[0;32mIn[93], line 9\u001b[0m\n\u001b[1;32m      6\u001b[0m indexer\u001b[38;5;241m.\u001b[39mblock(\u001b[38;5;124m'\u001b[39m\u001b[38;5;124mtype\u001b[39m\u001b[38;5;124m'\u001b[39m)\n\u001b[1;32m      8\u001b[0m \u001b[38;5;66;03m# Generate pairs\u001b[39;00m\n\u001b[0;32m----> 9\u001b[0m pairs \u001b[38;5;241m=\u001b[39m indexer\u001b[38;5;241m.\u001b[39mindex(restaurants, \u001b[43mrestaurants_new\u001b[49m)\n",
      "\u001b[0;31mNameError\u001b[0m: name 'restaurants_new' is not defined"
     ]
    }
   ],
   "source": [
    "import recordlinkage \n",
    "\n",
    "indexer = recordlinkage.Index()\n",
    "\n",
    "# Block pairing on cuisine_type\n",
    "indexer.block('type')\n",
    "\n",
    "# Generate pairs\n",
    "pairs = indexer.index(restaurants, restaurants_new)"
   ]
  },
  {
   "cell_type": "markdown",
   "id": "b951be84-858a-4e50-b3ff-50af4165a4c5",
   "metadata": {},
   "source": [
    "### Comparing fields"
   ]
  },
  {
   "cell_type": "code",
   "execution_count": 94,
   "id": "a55cfedd-5923-4b79-b606-643dec475017",
   "metadata": {
    "execution": {
     "iopub.execute_input": "2024-07-15T16:57:34.094175Z",
     "iopub.status.busy": "2024-07-15T16:57:34.092781Z",
     "iopub.status.idle": "2024-07-15T16:57:34.131974Z",
     "shell.execute_reply": "2024-07-15T16:57:34.131223Z",
     "shell.execute_reply.started": "2024-07-15T16:57:34.094113Z"
    }
   },
   "outputs": [
    {
     "ename": "NameError",
     "evalue": "name 'pairs' is not defined",
     "output_type": "error",
     "traceback": [
      "\u001b[0;31m---------------------------------------------------------------------------\u001b[0m",
      "\u001b[0;31mNameError\u001b[0m                                 Traceback (most recent call last)",
      "Cell \u001b[0;32mIn[94], line 12\u001b[0m\n\u001b[1;32m      9\u001b[0m \u001b[38;5;66;03m# Find similar matches of rest_name\u001b[39;00m\n\u001b[1;32m     10\u001b[0m comp_cl\u001b[38;5;241m.\u001b[39mstring(\u001b[38;5;124m'\u001b[39m\u001b[38;5;124mrest_name\u001b[39m\u001b[38;5;124m'\u001b[39m, \u001b[38;5;124m'\u001b[39m\u001b[38;5;124mrest_name\u001b[39m\u001b[38;5;124m'\u001b[39m, label\u001b[38;5;241m=\u001b[39m\u001b[38;5;124m'\u001b[39m\u001b[38;5;124mname\u001b[39m\u001b[38;5;124m'\u001b[39m, threshold \u001b[38;5;241m=\u001b[39m \u001b[38;5;241m0.8\u001b[39m) \n\u001b[0;32m---> 12\u001b[0m potential_matches \u001b[38;5;241m=\u001b[39m comp_cl\u001b[38;5;241m.\u001b[39mcompute(\u001b[43mpairs\u001b[49m, restaurants, restaurants_new)\n\u001b[1;32m     13\u001b[0m \u001b[38;5;28mprint\u001b[39m(potential_matches)\n",
      "\u001b[0;31mNameError\u001b[0m: name 'pairs' is not defined"
     ]
    }
   ],
   "source": [
    "comp_cl = recordlinkage.Compare()\n",
    "\n",
    "# Find exact matches on city, cuisine_types \n",
    "comp_cl.exact('city', 'city', label='city')\n",
    "comp_cl.exact('type', 'type', label = 'cuisine_type')\n",
    "\n",
    "# Find similar matches of rest_name\n",
    "comp_cl.string('rest_name', 'rest_name', label='name', threshold = 0.8) \n",
    "\n",
    "potential_matches = comp_cl.compute(pairs, restaurants, restaurants_new)\n",
    "print(potential_matches)\n"
   ]
  },
  {
   "cell_type": "markdown",
   "id": "5957ccaa-345f-4ca5-984c-6920e8bc1eb8",
   "metadata": {
    "execution": {
     "iopub.execute_input": "2024-07-15T16:58:08.752213Z",
     "iopub.status.busy": "2024-07-15T16:58:08.750377Z",
     "iopub.status.idle": "2024-07-15T16:58:08.760365Z",
     "shell.execute_reply": "2024-07-15T16:58:08.758985Z",
     "shell.execute_reply.started": "2024-07-15T16:58:08.752143Z"
    }
   },
   "source": [
    "### Linking dataframes"
   ]
  },
  {
   "cell_type": "code",
   "execution_count": null,
   "id": "ce29609a-f8ad-43d6-99bb-8800ae9f269b",
   "metadata": {},
   "outputs": [],
   "source": [
    "matches = potential_matches[potential_matches.sum(axis = 1) >= 3]\n",
    "\n",
    "# Get values of second column index of matches\n",
    "matching_indices = matches.index.get_level_values(1)\n",
    "\n",
    "# Subset restaurants_new based on non-duplicate values\n",
    "non_dup = restaurants_new[~restaurants_new.index.isin(matching_indices)]\n",
    "\n",
    "# Append non_dup to restaurants\n",
    "full_restaurants = restaurants.append(non_dup)\n",
    "print(full_restaurants)\n",
    "\n"
   ]
  }
 ],
 "metadata": {
  "kernelspec": {
   "display_name": "Python 3 (ipykernel)",
   "language": "python",
   "name": "python3"
  },
  "language_info": {
   "codemirror_mode": {
    "name": "ipython",
    "version": 3
   },
   "file_extension": ".py",
   "mimetype": "text/x-python",
   "name": "python",
   "nbconvert_exporter": "python",
   "pygments_lexer": "ipython3",
   "version": "3.12.4"
  }
 },
 "nbformat": 4,
 "nbformat_minor": 5
}
