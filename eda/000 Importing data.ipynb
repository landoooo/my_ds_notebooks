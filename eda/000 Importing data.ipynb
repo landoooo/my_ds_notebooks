{
 "cells": [
  {
   "cell_type": "markdown",
   "id": "94ae42ea-e322-4c4b-ac00-a5209fd69310",
   "metadata": {},
   "source": [
    "# Importing data \n",
    "\n"
   ]
  },
  {
   "cell_type": "markdown",
   "id": "226d2ae1-151e-4834-8452-b886c532cd61",
   "metadata": {},
   "source": [
    "## Reading from plain text files \n",
    "\n",
    "### Reading the whole file at once"
   ]
  },
  {
   "cell_type": "code",
   "execution_count": 1,
   "id": "968ba674-b2b0-4420-af33-adc59c907b1a",
   "metadata": {
    "execution": {
     "iopub.execute_input": "2024-07-14T09:09:35.371417Z",
     "iopub.status.busy": "2024-07-14T09:09:35.370113Z",
     "iopub.status.idle": "2024-07-14T09:09:35.384922Z",
     "shell.execute_reply": "2024-07-14T09:09:35.383758Z",
     "shell.execute_reply.started": "2024-07-14T09:09:35.371330Z"
    }
   },
   "outputs": [
    {
     "name": "stdout",
     "output_type": "stream",
     "text": [
      "The Title\n",
      "\n",
      "This is just a plain text file with several lines. The existence of this file is no other but practice reading its different lines.\n",
      "This is a second line, just in case.\n",
      "Here we go for a third one.\n",
      "\n"
     ]
    }
   ],
   "source": [
    "filename = '../data/plain text with several lines.txt'\n",
    "\n",
    "# mode='r' to prevent writting into it. Mode='w' if you want to write\n",
    "file = open(filename, mode='r')\n",
    "text = file.read()\n",
    "file.close()\n",
    "\n",
    "print(text)"
   ]
  },
  {
   "cell_type": "markdown",
   "id": "03b8e634-cd0e-49d2-909b-36a0647acb2d",
   "metadata": {},
   "source": [
    "Using the file inside a context makes the reading of the file more concise and less cluttered. Outside of the context, the file is already closed:"
   ]
  },
  {
   "cell_type": "code",
   "execution_count": 2,
   "id": "2a226157-11f4-4d88-841d-e34bde7243d6",
   "metadata": {
    "execution": {
     "iopub.execute_input": "2024-07-14T09:12:40.816147Z",
     "iopub.status.busy": "2024-07-14T09:12:40.813733Z",
     "iopub.status.idle": "2024-07-14T09:12:40.827655Z",
     "shell.execute_reply": "2024-07-14T09:12:40.825498Z",
     "shell.execute_reply.started": "2024-07-14T09:12:40.816063Z"
    }
   },
   "outputs": [
    {
     "name": "stdout",
     "output_type": "stream",
     "text": [
      "The Title\n",
      "\n",
      "This is just a plain text file with several lines. The existence of this file is no other but practice reading its different lines.\n",
      "This is a second line, just in case.\n",
      "Here we go for a third one.\n",
      "\n"
     ]
    }
   ],
   "source": [
    "with open(filename, 'r') as file:\n",
    "    print(file.read())"
   ]
  },
  {
   "cell_type": "markdown",
   "id": "a7a3192e-b842-4324-90df-2a4557fc939e",
   "metadata": {},
   "source": [
    "We can read line by line:"
   ]
  },
  {
   "cell_type": "code",
   "execution_count": 5,
   "id": "e07c404b-b182-4499-bc95-f00fabaa3782",
   "metadata": {
    "execution": {
     "iopub.execute_input": "2024-07-14T09:19:03.988393Z",
     "iopub.status.busy": "2024-07-14T09:19:03.987236Z",
     "iopub.status.idle": "2024-07-14T09:19:04.002808Z",
     "shell.execute_reply": "2024-07-14T09:19:03.999683Z",
     "shell.execute_reply.started": "2024-07-14T09:19:03.988317Z"
    }
   },
   "outputs": [
    {
     "name": "stdout",
     "output_type": "stream",
     "text": [
      "The Title\n",
      "\n",
      "\n",
      "\n",
      "This is just a plain text file with several lines. The existence of this file is no other but practice reading its different lines.\n",
      "\n"
     ]
    }
   ],
   "source": [
    "with open(filename, 'r') as file:\n",
    "    print(file.readline())\n",
    "    print(file.readline())\n",
    "    print(file.readline())"
   ]
  },
  {
   "cell_type": "markdown",
   "id": "7f24ae4b-0873-4170-adb6-f19997ed607f",
   "metadata": {},
   "source": [
    "## Reading flat files\n",
    "\n",
    "Flat files are text files contaning records (row of fields or attributes). Tabular data.\n",
    "They usually have a header, but its not mandatory.\n",
    "The delimiter (character used to separate values) can be a comma (csv), tab or any other character."
   ]
  },
  {
   "cell_type": "code",
   "execution_count": 7,
   "id": "3c112275-d03e-416f-8638-b4fde6884aca",
   "metadata": {
    "execution": {
     "iopub.execute_input": "2024-07-14T09:21:18.133755Z",
     "iopub.status.busy": "2024-07-14T09:21:18.132613Z",
     "iopub.status.idle": "2024-07-14T09:21:18.143986Z",
     "shell.execute_reply": "2024-07-14T09:21:18.143053Z",
     "shell.execute_reply.started": "2024-07-14T09:21:18.133696Z"
    }
   },
   "outputs": [
    {
     "name": "stdout",
     "output_type": "stream",
     "text": [
      "PassengerId,Survived,Pclass,Sex,Age,SibSp,Parch,Ticket,Fare,Cabin,Embarked\n",
      "\n",
      "1,0,3,male,22.0,1,0,A/5 21171,7.25,,S\n",
      "\n",
      "2,1,1,female,38.0,1,0,PC 17599,71.2833,C85,C\n",
      "\n"
     ]
    }
   ],
   "source": [
    "titanic_filename = '../data/titanic_sub.csv'\n",
    "\n",
    "with open(titanic_filename, 'r') as file:\n",
    "    print(file.readline())\n",
    "    print(file.readline())\n",
    "    print(file.readline())"
   ]
  },
  {
   "cell_type": "markdown",
   "id": "7a78972d-b83e-4965-b4ad-84185254a1fd",
   "metadata": {},
   "source": [
    "### Reading numeric flat files using numpy\n",
    "\n",
    "This method applies when the whole dataset to be read is numeric"
   ]
  },
  {
   "cell_type": "code",
   "execution_count": 11,
   "id": "a51fa928-63b7-4517-8d05-cf5e3c466110",
   "metadata": {
    "execution": {
     "iopub.execute_input": "2024-07-14T09:31:54.170053Z",
     "iopub.status.busy": "2024-07-14T09:31:54.168884Z",
     "iopub.status.idle": "2024-07-14T09:31:54.199323Z",
     "shell.execute_reply": "2024-07-14T09:31:54.198420Z",
     "shell.execute_reply.started": "2024-07-14T09:31:54.169977Z"
    }
   },
   "outputs": [
    {
     "data": {
      "text/plain": [
       "array([[1., 0., 0., ..., 0., 0., 0.],\n",
       "       [0., 0., 0., ..., 0., 0., 0.],\n",
       "       [1., 0., 0., ..., 0., 0., 0.],\n",
       "       ...,\n",
       "       [2., 0., 0., ..., 0., 0., 0.],\n",
       "       [0., 0., 0., ..., 0., 0., 0.],\n",
       "       [5., 0., 0., ..., 0., 0., 0.]])"
      ]
     },
     "execution_count": 11,
     "metadata": {},
     "output_type": "execute_result"
    }
   ],
   "source": [
    "import numpy as np \n",
    "\n",
    "filename='../data/mnist_kaggle_some_rows.csv'\n",
    "\n",
    "data = np.loadtxt(filename, delimiter=',')\n",
    "\n",
    "data"
   ]
  },
  {
   "cell_type": "code",
   "execution_count": 10,
   "id": "490e4cf6-0fdb-4c6a-99f3-18cc6c48ae86",
   "metadata": {
    "execution": {
     "iopub.execute_input": "2024-07-14T09:31:48.267177Z",
     "iopub.status.busy": "2024-07-14T09:31:48.265963Z",
     "iopub.status.idle": "2024-07-14T09:31:48.284473Z",
     "shell.execute_reply": "2024-07-14T09:31:48.283301Z",
     "shell.execute_reply.started": "2024-07-14T09:31:48.267100Z"
    }
   },
   "outputs": [
    {
     "data": {
      "text/plain": [
       "array([[1., 0., 0., ..., 0., 0., 0.],\n",
       "       [0., 0., 0., ..., 0., 0., 0.],\n",
       "       [1., 0., 0., ..., 0., 0., 0.],\n",
       "       ...,\n",
       "       [2., 0., 0., ..., 0., 0., 0.],\n",
       "       [0., 0., 0., ..., 0., 0., 0.],\n",
       "       [5., 0., 0., ..., 0., 0., 0.]])"
      ]
     },
     "execution_count": 10,
     "metadata": {},
     "output_type": "execute_result"
    }
   ],
   "source": [
    "# If we would like to skip the header and read a couple of columns only\n",
    "data = np.loadtxt(filename, delimiter=',', skiprows=1, usecols=[0,2])"
   ]
  },
  {
   "cell_type": "markdown",
   "id": "300cef2b-54d3-4729-aef5-af161f19aafc",
   "metadata": {
    "execution": {
     "iopub.execute_input": "2024-07-14T09:44:03.133450Z",
     "iopub.status.busy": "2024-07-14T09:44:03.132041Z",
     "iopub.status.idle": "2024-07-14T09:44:03.145366Z",
     "shell.execute_reply": "2024-07-14T09:44:03.143894Z",
     "shell.execute_reply.started": "2024-07-14T09:44:03.133369Z"
    }
   },
   "source": [
    "### Importing flat files using pandas\n",
    "\n",
    "The core of pandas is the DataFrame. A matrix has rows and columns. A dataframe has observations and variables."
   ]
  },
  {
   "cell_type": "code",
   "execution_count": 13,
   "id": "ba0eccb1-ada5-4a3a-84c1-5a2734aea84d",
   "metadata": {
    "execution": {
     "iopub.execute_input": "2024-07-14T09:46:07.965805Z",
     "iopub.status.busy": "2024-07-14T09:46:07.964333Z",
     "iopub.status.idle": "2024-07-14T09:46:09.712656Z",
     "shell.execute_reply": "2024-07-14T09:46:09.712240Z",
     "shell.execute_reply.started": "2024-07-14T09:46:07.965722Z"
    }
   },
   "outputs": [],
   "source": [
    "import pandas as pd \n",
    "\n",
    "filename = '../data/cars.csv'\n",
    "\n",
    "df = pd.read_csv(filename)\n",
    "#df = pd.read_csv(filename, nrows=5, header=None, sep='')"
   ]
  },
  {
   "cell_type": "code",
   "execution_count": 14,
   "id": "c5de6a9a-69fa-428f-9e99-345283563e03",
   "metadata": {
    "execution": {
     "iopub.execute_input": "2024-07-14T09:46:10.766645Z",
     "iopub.status.busy": "2024-07-14T09:46:10.765355Z",
     "iopub.status.idle": "2024-07-14T09:46:10.808947Z",
     "shell.execute_reply": "2024-07-14T09:46:10.808365Z",
     "shell.execute_reply.started": "2024-07-14T09:46:10.766572Z"
    }
   },
   "outputs": [
    {
     "data": {
      "text/html": [
       "<div>\n",
       "<style scoped>\n",
       "    .dataframe tbody tr th:only-of-type {\n",
       "        vertical-align: middle;\n",
       "    }\n",
       "\n",
       "    .dataframe tbody tr th {\n",
       "        vertical-align: top;\n",
       "    }\n",
       "\n",
       "    .dataframe thead th {\n",
       "        text-align: right;\n",
       "    }\n",
       "</style>\n",
       "<table border=\"1\" class=\"dataframe\">\n",
       "  <thead>\n",
       "    <tr style=\"text-align: right;\">\n",
       "      <th></th>\n",
       "      <th>manufacturer_name</th>\n",
       "      <th>model_name</th>\n",
       "      <th>transmission</th>\n",
       "      <th>color</th>\n",
       "      <th>odometer_value</th>\n",
       "      <th>year_produced</th>\n",
       "      <th>engine_fuel</th>\n",
       "      <th>engine_has_gas</th>\n",
       "      <th>engine_type</th>\n",
       "      <th>engine_capacity</th>\n",
       "      <th>...</th>\n",
       "      <th>feature_1</th>\n",
       "      <th>feature_2</th>\n",
       "      <th>feature_3</th>\n",
       "      <th>feature_4</th>\n",
       "      <th>feature_5</th>\n",
       "      <th>feature_6</th>\n",
       "      <th>feature_7</th>\n",
       "      <th>feature_8</th>\n",
       "      <th>feature_9</th>\n",
       "      <th>duration_listed</th>\n",
       "    </tr>\n",
       "  </thead>\n",
       "  <tbody>\n",
       "    <tr>\n",
       "      <th>0</th>\n",
       "      <td>Subaru</td>\n",
       "      <td>Outback</td>\n",
       "      <td>automatic</td>\n",
       "      <td>silver</td>\n",
       "      <td>190000</td>\n",
       "      <td>2010</td>\n",
       "      <td>gasoline</td>\n",
       "      <td>False</td>\n",
       "      <td>gasoline</td>\n",
       "      <td>2.5</td>\n",
       "      <td>...</td>\n",
       "      <td>True</td>\n",
       "      <td>True</td>\n",
       "      <td>True</td>\n",
       "      <td>False</td>\n",
       "      <td>True</td>\n",
       "      <td>False</td>\n",
       "      <td>True</td>\n",
       "      <td>True</td>\n",
       "      <td>True</td>\n",
       "      <td>16</td>\n",
       "    </tr>\n",
       "    <tr>\n",
       "      <th>1</th>\n",
       "      <td>Subaru</td>\n",
       "      <td>Outback</td>\n",
       "      <td>automatic</td>\n",
       "      <td>blue</td>\n",
       "      <td>290000</td>\n",
       "      <td>2002</td>\n",
       "      <td>gasoline</td>\n",
       "      <td>False</td>\n",
       "      <td>gasoline</td>\n",
       "      <td>3.0</td>\n",
       "      <td>...</td>\n",
       "      <td>True</td>\n",
       "      <td>False</td>\n",
       "      <td>False</td>\n",
       "      <td>True</td>\n",
       "      <td>True</td>\n",
       "      <td>False</td>\n",
       "      <td>False</td>\n",
       "      <td>False</td>\n",
       "      <td>True</td>\n",
       "      <td>83</td>\n",
       "    </tr>\n",
       "    <tr>\n",
       "      <th>2</th>\n",
       "      <td>Subaru</td>\n",
       "      <td>Forester</td>\n",
       "      <td>automatic</td>\n",
       "      <td>red</td>\n",
       "      <td>402000</td>\n",
       "      <td>2001</td>\n",
       "      <td>gasoline</td>\n",
       "      <td>False</td>\n",
       "      <td>gasoline</td>\n",
       "      <td>2.5</td>\n",
       "      <td>...</td>\n",
       "      <td>True</td>\n",
       "      <td>False</td>\n",
       "      <td>False</td>\n",
       "      <td>False</td>\n",
       "      <td>False</td>\n",
       "      <td>False</td>\n",
       "      <td>False</td>\n",
       "      <td>True</td>\n",
       "      <td>True</td>\n",
       "      <td>151</td>\n",
       "    </tr>\n",
       "    <tr>\n",
       "      <th>3</th>\n",
       "      <td>Subaru</td>\n",
       "      <td>Impreza</td>\n",
       "      <td>mechanical</td>\n",
       "      <td>blue</td>\n",
       "      <td>10000</td>\n",
       "      <td>1999</td>\n",
       "      <td>gasoline</td>\n",
       "      <td>False</td>\n",
       "      <td>gasoline</td>\n",
       "      <td>3.0</td>\n",
       "      <td>...</td>\n",
       "      <td>False</td>\n",
       "      <td>False</td>\n",
       "      <td>False</td>\n",
       "      <td>False</td>\n",
       "      <td>False</td>\n",
       "      <td>False</td>\n",
       "      <td>False</td>\n",
       "      <td>False</td>\n",
       "      <td>False</td>\n",
       "      <td>86</td>\n",
       "    </tr>\n",
       "    <tr>\n",
       "      <th>4</th>\n",
       "      <td>Subaru</td>\n",
       "      <td>Legacy</td>\n",
       "      <td>automatic</td>\n",
       "      <td>black</td>\n",
       "      <td>280000</td>\n",
       "      <td>2001</td>\n",
       "      <td>gasoline</td>\n",
       "      <td>False</td>\n",
       "      <td>gasoline</td>\n",
       "      <td>2.5</td>\n",
       "      <td>...</td>\n",
       "      <td>True</td>\n",
       "      <td>False</td>\n",
       "      <td>True</td>\n",
       "      <td>True</td>\n",
       "      <td>False</td>\n",
       "      <td>False</td>\n",
       "      <td>False</td>\n",
       "      <td>False</td>\n",
       "      <td>True</td>\n",
       "      <td>7</td>\n",
       "    </tr>\n",
       "    <tr>\n",
       "      <th>...</th>\n",
       "      <td>...</td>\n",
       "      <td>...</td>\n",
       "      <td>...</td>\n",
       "      <td>...</td>\n",
       "      <td>...</td>\n",
       "      <td>...</td>\n",
       "      <td>...</td>\n",
       "      <td>...</td>\n",
       "      <td>...</td>\n",
       "      <td>...</td>\n",
       "      <td>...</td>\n",
       "      <td>...</td>\n",
       "      <td>...</td>\n",
       "      <td>...</td>\n",
       "      <td>...</td>\n",
       "      <td>...</td>\n",
       "      <td>...</td>\n",
       "      <td>...</td>\n",
       "      <td>...</td>\n",
       "      <td>...</td>\n",
       "      <td>...</td>\n",
       "    </tr>\n",
       "    <tr>\n",
       "      <th>38526</th>\n",
       "      <td>Chrysler</td>\n",
       "      <td>300</td>\n",
       "      <td>automatic</td>\n",
       "      <td>silver</td>\n",
       "      <td>290000</td>\n",
       "      <td>2000</td>\n",
       "      <td>gasoline</td>\n",
       "      <td>False</td>\n",
       "      <td>gasoline</td>\n",
       "      <td>3.5</td>\n",
       "      <td>...</td>\n",
       "      <td>True</td>\n",
       "      <td>False</td>\n",
       "      <td>False</td>\n",
       "      <td>True</td>\n",
       "      <td>True</td>\n",
       "      <td>False</td>\n",
       "      <td>False</td>\n",
       "      <td>True</td>\n",
       "      <td>True</td>\n",
       "      <td>301</td>\n",
       "    </tr>\n",
       "    <tr>\n",
       "      <th>38527</th>\n",
       "      <td>Chrysler</td>\n",
       "      <td>PT Cruiser</td>\n",
       "      <td>mechanical</td>\n",
       "      <td>blue</td>\n",
       "      <td>321000</td>\n",
       "      <td>2004</td>\n",
       "      <td>diesel</td>\n",
       "      <td>False</td>\n",
       "      <td>diesel</td>\n",
       "      <td>2.2</td>\n",
       "      <td>...</td>\n",
       "      <td>True</td>\n",
       "      <td>False</td>\n",
       "      <td>False</td>\n",
       "      <td>True</td>\n",
       "      <td>True</td>\n",
       "      <td>False</td>\n",
       "      <td>False</td>\n",
       "      <td>True</td>\n",
       "      <td>True</td>\n",
       "      <td>317</td>\n",
       "    </tr>\n",
       "    <tr>\n",
       "      <th>38528</th>\n",
       "      <td>Chrysler</td>\n",
       "      <td>300</td>\n",
       "      <td>automatic</td>\n",
       "      <td>blue</td>\n",
       "      <td>777957</td>\n",
       "      <td>2000</td>\n",
       "      <td>gasoline</td>\n",
       "      <td>False</td>\n",
       "      <td>gasoline</td>\n",
       "      <td>3.5</td>\n",
       "      <td>...</td>\n",
       "      <td>True</td>\n",
       "      <td>False</td>\n",
       "      <td>False</td>\n",
       "      <td>True</td>\n",
       "      <td>True</td>\n",
       "      <td>False</td>\n",
       "      <td>False</td>\n",
       "      <td>True</td>\n",
       "      <td>True</td>\n",
       "      <td>369</td>\n",
       "    </tr>\n",
       "    <tr>\n",
       "      <th>38529</th>\n",
       "      <td>Chrysler</td>\n",
       "      <td>PT Cruiser</td>\n",
       "      <td>mechanical</td>\n",
       "      <td>black</td>\n",
       "      <td>20000</td>\n",
       "      <td>2001</td>\n",
       "      <td>gasoline</td>\n",
       "      <td>False</td>\n",
       "      <td>gasoline</td>\n",
       "      <td>2.0</td>\n",
       "      <td>...</td>\n",
       "      <td>True</td>\n",
       "      <td>False</td>\n",
       "      <td>False</td>\n",
       "      <td>False</td>\n",
       "      <td>False</td>\n",
       "      <td>False</td>\n",
       "      <td>False</td>\n",
       "      <td>False</td>\n",
       "      <td>True</td>\n",
       "      <td>490</td>\n",
       "    </tr>\n",
       "    <tr>\n",
       "      <th>38530</th>\n",
       "      <td>Chrysler</td>\n",
       "      <td>Voyager</td>\n",
       "      <td>automatic</td>\n",
       "      <td>silver</td>\n",
       "      <td>297729</td>\n",
       "      <td>2000</td>\n",
       "      <td>gasoline</td>\n",
       "      <td>False</td>\n",
       "      <td>gasoline</td>\n",
       "      <td>2.4</td>\n",
       "      <td>...</td>\n",
       "      <td>False</td>\n",
       "      <td>False</td>\n",
       "      <td>False</td>\n",
       "      <td>False</td>\n",
       "      <td>False</td>\n",
       "      <td>False</td>\n",
       "      <td>False</td>\n",
       "      <td>False</td>\n",
       "      <td>True</td>\n",
       "      <td>632</td>\n",
       "    </tr>\n",
       "  </tbody>\n",
       "</table>\n",
       "<p>38531 rows × 30 columns</p>\n",
       "</div>"
      ],
      "text/plain": [
       "      manufacturer_name  model_name transmission   color  odometer_value  \\\n",
       "0                Subaru     Outback    automatic  silver          190000   \n",
       "1                Subaru     Outback    automatic    blue          290000   \n",
       "2                Subaru    Forester    automatic     red          402000   \n",
       "3                Subaru     Impreza   mechanical    blue           10000   \n",
       "4                Subaru      Legacy    automatic   black          280000   \n",
       "...                 ...         ...          ...     ...             ...   \n",
       "38526          Chrysler         300    automatic  silver          290000   \n",
       "38527          Chrysler  PT Cruiser   mechanical    blue          321000   \n",
       "38528          Chrysler         300    automatic    blue          777957   \n",
       "38529          Chrysler  PT Cruiser   mechanical   black           20000   \n",
       "38530          Chrysler     Voyager    automatic  silver          297729   \n",
       "\n",
       "       year_produced engine_fuel  engine_has_gas engine_type  engine_capacity  \\\n",
       "0               2010    gasoline           False    gasoline              2.5   \n",
       "1               2002    gasoline           False    gasoline              3.0   \n",
       "2               2001    gasoline           False    gasoline              2.5   \n",
       "3               1999    gasoline           False    gasoline              3.0   \n",
       "4               2001    gasoline           False    gasoline              2.5   \n",
       "...              ...         ...             ...         ...              ...   \n",
       "38526           2000    gasoline           False    gasoline              3.5   \n",
       "38527           2004      diesel           False      diesel              2.2   \n",
       "38528           2000    gasoline           False    gasoline              3.5   \n",
       "38529           2001    gasoline           False    gasoline              2.0   \n",
       "38530           2000    gasoline           False    gasoline              2.4   \n",
       "\n",
       "       ... feature_1  feature_2 feature_3 feature_4  feature_5  feature_6  \\\n",
       "0      ...      True       True      True     False       True      False   \n",
       "1      ...      True      False     False      True       True      False   \n",
       "2      ...      True      False     False     False      False      False   \n",
       "3      ...     False      False     False     False      False      False   \n",
       "4      ...      True      False      True      True      False      False   \n",
       "...    ...       ...        ...       ...       ...        ...        ...   \n",
       "38526  ...      True      False     False      True       True      False   \n",
       "38527  ...      True      False     False      True       True      False   \n",
       "38528  ...      True      False     False      True       True      False   \n",
       "38529  ...      True      False     False     False      False      False   \n",
       "38530  ...     False      False     False     False      False      False   \n",
       "\n",
       "      feature_7  feature_8  feature_9  duration_listed  \n",
       "0          True       True       True               16  \n",
       "1         False      False       True               83  \n",
       "2         False       True       True              151  \n",
       "3         False      False      False               86  \n",
       "4         False      False       True                7  \n",
       "...         ...        ...        ...              ...  \n",
       "38526     False       True       True              301  \n",
       "38527     False       True       True              317  \n",
       "38528     False       True       True              369  \n",
       "38529     False      False       True              490  \n",
       "38530     False      False       True              632  \n",
       "\n",
       "[38531 rows x 30 columns]"
      ]
     },
     "execution_count": 14,
     "metadata": {},
     "output_type": "execute_result"
    }
   ],
   "source": [
    "df"
   ]
  },
  {
   "cell_type": "code",
   "execution_count": null,
   "id": "eca4ac9e-45f0-4e38-a033-d2fcef3bb294",
   "metadata": {},
   "outputs": [],
   "source": []
  }
 ],
 "metadata": {
  "kernelspec": {
   "display_name": "Python 3 (ipykernel)",
   "language": "python",
   "name": "python3"
  },
  "language_info": {
   "codemirror_mode": {
    "name": "ipython",
    "version": 3
   },
   "file_extension": ".py",
   "mimetype": "text/x-python",
   "name": "python",
   "nbconvert_exporter": "python",
   "pygments_lexer": "ipython3",
   "version": "3.12.4"
  }
 },
 "nbformat": 4,
 "nbformat_minor": 5
}
