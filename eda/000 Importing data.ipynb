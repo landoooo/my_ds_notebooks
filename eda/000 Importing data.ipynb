{
 "cells": [
  {
   "cell_type": "markdown",
   "id": "94ae42ea-e322-4c4b-ac00-a5209fd69310",
   "metadata": {},
   "source": [
    "# Importing data \n"
   ]
  },
  {
   "cell_type": "markdown",
   "id": "226d2ae1-151e-4834-8452-b886c532cd61",
   "metadata": {},
   "source": [
    "## Reading from plain text files \n",
    "\n",
    "### Reading the whole file at once"
   ]
  },
  {
   "cell_type": "code",
   "execution_count": null,
   "id": "968ba674-b2b0-4420-af33-adc59c907b1a",
   "metadata": {},
   "outputs": [],
   "source": [
    "filename = '../data/plain text with several lines.txt'\n",
    "\n",
    "# mode='r' to prevent writting into it. Mode='w' if you want to write\n",
    "file = open(filename, mode='r')\n",
    "text = file.read()\n",
    "file.close()\n",
    "\n",
    "print(text)"
   ]
  },
  {
   "cell_type": "markdown",
   "id": "03b8e634-cd0e-49d2-909b-36a0647acb2d",
   "metadata": {},
   "source": [
    "Using the file inside a context makes the reading of the file more concise and less cluttered. Outside of the context, the file is already closed:"
   ]
  },
  {
   "cell_type": "code",
   "execution_count": null,
   "id": "2a226157-11f4-4d88-841d-e34bde7243d6",
   "metadata": {},
   "outputs": [],
   "source": [
    "with open(filename, 'r') as file:\n",
    "    print(file.read())"
   ]
  },
  {
   "cell_type": "markdown",
   "id": "a7a3192e-b842-4324-90df-2a4557fc939e",
   "metadata": {},
   "source": [
    "We can read line by line:"
   ]
  },
  {
   "cell_type": "code",
   "execution_count": null,
   "id": "e07c404b-b182-4499-bc95-f00fabaa3782",
   "metadata": {},
   "outputs": [],
   "source": [
    "with open(filename, 'r') as file:\n",
    "    print(file.readline())\n",
    "    print(file.readline())\n",
    "    print(file.readline())"
   ]
  },
  {
   "cell_type": "markdown",
   "id": "7f24ae4b-0873-4170-adb6-f19997ed607f",
   "metadata": {},
   "source": [
    "## Reading flat files\n",
    "\n",
    "Flat files are text files contaning records (row of fields or attributes). Tabular data.\n",
    "They usually have a header, but its not mandatory.\n",
    "The delimiter (character used to separate values) can be a comma (csv), tab or any other character."
   ]
  },
  {
   "cell_type": "code",
   "execution_count": null,
   "id": "3c112275-d03e-416f-8638-b4fde6884aca",
   "metadata": {},
   "outputs": [],
   "source": [
    "titanic_filename = '../data/titanic_sub.csv'\n",
    "\n",
    "with open(titanic_filename, 'r') as file:\n",
    "    print(file.readline())\n",
    "    print(file.readline())\n",
    "    print(file.readline())"
   ]
  },
  {
   "cell_type": "markdown",
   "id": "7a78972d-b83e-4965-b4ad-84185254a1fd",
   "metadata": {},
   "source": [
    "### Reading numeric flat files using numpy\n",
    "\n",
    "This method applies when the whole dataset to be read is numeric"
   ]
  },
  {
   "cell_type": "code",
   "execution_count": null,
   "id": "a51fa928-63b7-4517-8d05-cf5e3c466110",
   "metadata": {},
   "outputs": [],
   "source": [
    "import numpy as np \n",
    "\n",
    "filename='../data/mnist_kaggle_some_rows.csv'\n",
    "\n",
    "data = np.loadtxt(filename, delimiter=',')\n",
    "\n",
    "data"
   ]
  },
  {
   "cell_type": "code",
   "execution_count": null,
   "id": "490e4cf6-0fdb-4c6a-99f3-18cc6c48ae86",
   "metadata": {},
   "outputs": [],
   "source": [
    "# If we would like to skip the header and read a couple of columns only\n",
    "data = np.loadtxt(filename, delimiter=',', skiprows=1, usecols=[0,2])"
   ]
  },
  {
   "cell_type": "markdown",
   "id": "300cef2b-54d3-4729-aef5-af161f19aafc",
   "metadata": {
    "execution": {
     "iopub.execute_input": "2024-07-14T09:44:03.133450Z",
     "iopub.status.busy": "2024-07-14T09:44:03.132041Z",
     "iopub.status.idle": "2024-07-14T09:44:03.145366Z",
     "shell.execute_reply": "2024-07-14T09:44:03.143894Z",
     "shell.execute_reply.started": "2024-07-14T09:44:03.133369Z"
    }
   },
   "source": [
    "### Importing flat files using pandas\n",
    "\n",
    "The core of pandas is the DataFrame. A matrix has rows and columns. A dataframe has observations and variables."
   ]
  },
  {
   "cell_type": "code",
   "execution_count": null,
   "id": "ba0eccb1-ada5-4a3a-84c1-5a2734aea84d",
   "metadata": {},
   "outputs": [],
   "source": [
    "import pandas as pd \n",
    "\n",
    "filename = '../data/cars.csv'\n",
    "\n",
    "df = pd.read_csv(filename)\n",
    "#df = pd.read_csv(filename, nrows=5, header=None, sep='\\t', comment='#', na_values=['Nothing'])"
   ]
  },
  {
   "cell_type": "markdown",
   "id": "2cb96200-7acd-4e07-ab61-dab80519e146",
   "metadata": {},
   "source": [
    "## Importing other file types\n",
    "\n",
    "### Picked files\n",
    "Pickled files are python objects serialized into files."
   ]
  },
  {
   "cell_type": "code",
   "execution_count": null,
   "id": "7136e2ca-b024-4b3f-bba0-f6f086c986c1",
   "metadata": {},
   "outputs": [],
   "source": [
    "import pickle\n",
    "\n",
    "filename='filename.pickle'\n",
    "\n",
    "my_dict = {'a': 53, 'b': 12}\n",
    "\n",
    "with open(filename, 'wb') as handle:\n",
    "    pickle.dump(my_dict, handle, protocol=pickle.HIGHEST_PROTOCOL)\n",
    "\n",
    "with open(filename, 'rb') as handle:\n",
    "    my_dict_restored = pickle.load(handle)\n",
    "\n",
    "print(my_dict_restored)"
   ]
  },
  {
   "cell_type": "markdown",
   "id": "ed05b27c-9820-4da7-a1ed-d3f1e3c0e1ea",
   "metadata": {},
   "source": [
    "### Excel files"
   ]
  },
  {
   "cell_type": "code",
   "execution_count": null,
   "id": "c1bbd27e-11e6-4257-8c28-d5971f99d164",
   "metadata": {},
   "outputs": [],
   "source": [
    "import pandas as pd \n",
    "\n",
    "file='../data/battledeath.xlsx'\n",
    "\n",
    "data = pd.read_excel(file)\n",
    "\n",
    "data.head()"
   ]
  },
  {
   "cell_type": "markdown",
   "id": "59ea8e84-6563-42e7-aa0f-17112fe1cdc1",
   "metadata": {},
   "source": [
    "## Reading SAS, HD5, matlab and other files"
   ]
  },
  {
   "cell_type": "markdown",
   "id": "cafa6431-5568-4eb6-a877-d68c571bc56f",
   "metadata": {},
   "source": [
    "## Querying databases"
   ]
  },
  {
   "cell_type": "markdown",
   "id": "9102d927-c6f5-425b-b26e-c5fb340b2986",
   "metadata": {
    "execution": {
     "iopub.execute_input": "2024-08-26T12:43:40.567427Z",
     "iopub.status.busy": "2024-08-26T12:43:40.565876Z",
     "iopub.status.idle": "2024-08-26T12:43:40.576071Z",
     "shell.execute_reply": "2024-08-26T12:43:40.575231Z",
     "shell.execute_reply.started": "2024-08-26T12:43:40.567327Z"
    }
   },
   "source": [
    "# Importing data from the web\n",
    "\n",
    "## Urllib package\n",
    "\n",
    "Provides interface for fetching data across the web"
   ]
  },
  {
   "cell_type": "code",
   "execution_count": null,
   "id": "1b107ccd-b097-41bc-906b-da317dd576b4",
   "metadata": {},
   "outputs": [],
   "source": [
    "from urllib.request import urlretrieve\n",
    "\n",
    "url = 'https://archive.ics.uci.edu/ml/machine-learning-databases/wine-quality/winequality-white.csv'\n",
    "\n",
    "urlretrieve(url, 'winequality.csv')"
   ]
  },
  {
   "cell_type": "code",
   "execution_count": null,
   "id": "d51f81b7-aa79-4c85-80db-49f387f01387",
   "metadata": {},
   "outputs": [],
   "source": [
    "from urllib.request import urlopen, Request\n",
    "\n",
    "url = 'https://wikipedia.org'\n",
    "\n",
    "request = Request(url)\n",
    "response = urlopen(request)\n",
    "html = response.read()\n",
    "\n",
    "response.close() \n",
    "\n",
    "print(html[:1000])"
   ]
  },
  {
   "cell_type": "code",
   "execution_count": null,
   "id": "b643acc1-a8cf-4a32-854b-c7e42a82284c",
   "metadata": {},
   "outputs": [],
   "source": [
    "import requests\n",
    "\n",
    "url = 'https://wikipedia.org'\n",
    "\n",
    "r = requests.get(url)\n",
    "text = r.text\n",
    "\n",
    "print(text[:1000])"
   ]
  },
  {
   "cell_type": "markdown",
   "id": "d2d3e32d-7b3d-492b-9731-2e580910655f",
   "metadata": {},
   "source": [
    "# Scraping the web\n",
    "\n",
    "HTML is a mix of structured data (predefined model or organized in some manner) and unstructured data.\n",
    "\n",
    "BeautifulSoup is a python package that helps parsing and extracting structured data from HTML.\n"
   ]
  },
  {
   "cell_type": "code",
   "execution_count": null,
   "id": "af62b9a5-2d91-431e-9e26-2f19085437a1",
   "metadata": {},
   "outputs": [],
   "source": [
    "from bs4 import BeautifulSoup\n",
    "\n",
    "import requests\n",
    "\n",
    "url = 'https://www.crummy.com/software/BeautifulSoup/bs4/doc/'\n",
    "\n",
    "r = requests.get(url)\n",
    "html_doc=r.text\n",
    "soup = BeautifulSoup(html_doc)\n",
    "\n",
    "print(soup.prettify())"
   ]
  },
  {
   "cell_type": "code",
   "execution_count": null,
   "id": "31d843f0-37ba-45d7-af8f-09a66f94cecf",
   "metadata": {},
   "outputs": [],
   "source": [
    "# Import packages\n",
    "import requests\n",
    "from bs4 import BeautifulSoup\n",
    "\n",
    "# Specify url: url\n",
    "url = 'https://www.python.org/~guido/'\n",
    "\n",
    "# Package the request, send the request and catch the response: r\n",
    "r = requests.get(url)\n",
    "\n",
    "# Extracts the response as html: html_doc\n",
    "html_doc = r.text\n",
    "\n",
    "# Create a BeautifulSoup object from the HTML: soup\n",
    "soup = BeautifulSoup(html_doc)\n",
    "\n",
    "# Prettify the BeautifulSoup object: pretty_soup\n",
    "pretty_soup = soup.prettify()\n",
    "\n",
    "# Print the response\n",
    "print(pretty_soup)"
   ]
  },
  {
   "cell_type": "code",
   "execution_count": null,
   "id": "0c1be633-8480-47ed-a3c2-5e233039b5b3",
   "metadata": {},
   "outputs": [],
   "source": [
    "# Import packages\n",
    "import requests\n",
    "from bs4 import BeautifulSoup\n",
    "\n",
    "# Specify url: url\n",
    "url = 'https://www.python.org/~guido/'\n",
    "\n",
    "# Package the request, send the request and catch the response: r\n",
    "r = requests.get(url)\n",
    "\n",
    "# Extract the response as html: html_doc\n",
    "html_doc = r.text\n",
    "\n",
    "# Create a BeautifulSoup object from the HTML: soup\n",
    "soup = BeautifulSoup(html_doc)\n",
    "\n",
    "# Get the title of Guido's webpage: guido_title\n",
    "guido_title = soup.title\n",
    "\n",
    "# Print the title of Guido's webpage to the shell\n",
    "print(guido_title)\n",
    "\n",
    "# Get Guido's text: guido_text\n",
    "guido_text = soup.text\n",
    "\n",
    "# Print Guido's text to the shell\n",
    "print(guido_text)"
   ]
  },
  {
   "cell_type": "code",
   "execution_count": null,
   "id": "51b0f1e0-3c51-4527-91d3-a4a7853d681d",
   "metadata": {},
   "outputs": [],
   "source": [
    "# Import packages\n",
    "import requests\n",
    "from bs4 import BeautifulSoup\n",
    "\n",
    "# Specify url\n",
    "url = 'https://www.python.org/~guido/'\n",
    "\n",
    "# Package the request, send the request and catch the response: r\n",
    "r = requests.get(url)\n",
    "\n",
    "# Extracts the response as html: html_doc\n",
    "html_doc = r.text\n",
    "\n",
    "# create a BeautifulSoup object from the HTML: soup\n",
    "soup = BeautifulSoup(html_doc)\n",
    "\n",
    "# Print the title of Guido's webpage\n",
    "print(soup.title)\n",
    "\n",
    "# Find all 'a' tags (which define hyperlinks): a_tags\n",
    "a_tags = soup.find_all('a')\n",
    "\n",
    "# Print the URLs to the shell\n",
    "for link  in a_tags:\n",
    "    print(link.get('href'))"
   ]
  },
  {
   "cell_type": "markdown",
   "id": "db8151c4-4478-4184-ba50-6b39ba586a3f",
   "metadata": {},
   "source": [
    "# APIs and JSON"
   ]
  },
  {
   "cell_type": "code",
   "execution_count": 16,
   "id": "87b73c7d-6e2c-4940-b11d-ccfa4498f4d7",
   "metadata": {
    "execution": {
     "iopub.execute_input": "2024-08-26T14:48:55.202503Z",
     "iopub.status.busy": "2024-08-26T14:48:55.201037Z",
     "iopub.status.idle": "2024-08-26T14:48:55.216214Z",
     "shell.execute_reply": "2024-08-26T14:48:55.214609Z",
     "shell.execute_reply.started": "2024-08-26T14:48:55.202423Z"
    }
   },
   "outputs": [
    {
     "name": "stdout",
     "output_type": "stream",
     "text": [
      "<class 'dict'>\n",
      "{'nombre': 'El nombre de mi json', 'anho': 1988}\n"
     ]
    }
   ],
   "source": [
    "import json\n",
    "\n",
    "with open('cosa.json', 'r') as json_file:\n",
    "    json_data = json.load(json_file)\n",
    "\n",
    "print(type(json_data))\n",
    "print(json_data)"
   ]
  },
  {
   "cell_type": "code",
   "execution_count": 18,
   "id": "7481b7c2-c698-4062-8ed8-2758176f3ad6",
   "metadata": {
    "execution": {
     "iopub.execute_input": "2024-08-26T14:49:51.065486Z",
     "iopub.status.busy": "2024-08-26T14:49:51.064319Z",
     "iopub.status.idle": "2024-08-26T14:49:51.080508Z",
     "shell.execute_reply": "2024-08-26T14:49:51.078602Z",
     "shell.execute_reply.started": "2024-08-26T14:49:51.065412Z"
    }
   },
   "outputs": [
    {
     "name": "stdout",
     "output_type": "stream",
     "text": [
      "nombre: El nombre de mi json\n",
      "anho: 1988\n"
     ]
    }
   ],
   "source": [
    "for key, item in json_data.items():\n",
    "    print(f'{key}: {item}')"
   ]
  },
  {
   "cell_type": "code",
   "execution_count": 27,
   "id": "23fcbc14-987a-411e-b8a8-77b36a6a62aa",
   "metadata": {
    "execution": {
     "iopub.execute_input": "2024-08-26T15:10:27.954178Z",
     "iopub.status.busy": "2024-08-26T15:10:27.953128Z",
     "iopub.status.idle": "2024-08-26T15:10:28.058660Z",
     "shell.execute_reply": "2024-08-26T15:10:28.056587Z",
     "shell.execute_reply.started": "2024-08-26T15:10:27.954118Z"
    }
   },
   "outputs": [
    {
     "name": "stdout",
     "output_type": "stream",
     "text": [
      "Title: Guardians of the Galaxy Vol. 2\n",
      "Year: 2017\n",
      "Rated: PG-13\n",
      "Released: 05 May 2017\n",
      "Runtime: 136 min\n",
      "Genre: Action, Adventure, Comedy\n",
      "Director: James Gunn\n",
      "Writer: James Gunn, Dan Abnett, Andy Lanning\n",
      "Actors: Chris Pratt, Zoe Saldana, Dave Bautista\n",
      "Plot: The Guardians struggle to keep together as a team while dealing with their personal family issues, notably Star-Lord's encounter with his father, the ambitious celestial being Ego.\n",
      "Language: English\n",
      "Country: United States\n",
      "Awards: Nominated for 1 Oscar. 15 wins & 60 nominations total\n",
      "Poster: https://m.media-amazon.com/images/M/MV5BNjM0NTc0NzItM2FlYS00YzEwLWE0YmUtNTA2ZWIzODc2OTgxXkEyXkFqcGdeQXVyNTgwNzIyNzg@._V1_SX300.jpg\n",
      "Ratings: [{'Source': 'Internet Movie Database', 'Value': '7.6/10'}, {'Source': 'Rotten Tomatoes', 'Value': '85%'}, {'Source': 'Metacritic', 'Value': '67/100'}]\n",
      "Metascore: 67\n",
      "imdbRating: 7.6\n",
      "imdbVotes: 768,933\n",
      "imdbID: tt3896198\n",
      "Type: movie\n",
      "DVD: N/A\n",
      "BoxOffice: $389,813,101\n",
      "Production: N/A\n",
      "Website: N/A\n",
      "Response: True\n"
     ]
    }
   ],
   "source": [
    "import requests\n",
    "\n",
    "import subprocess\n",
    "def get_password_from_keychain(service, account):\n",
    "    command = f\"/usr/bin/security find-generic-password -s '{service}' -a '{account}' -g -w\"\n",
    "    result = subprocess.run(command, shell=True, capture_output=True)\n",
    "    password = result.stdout.decode().strip()\n",
    "    return password\n",
    "    \n",
    "url = 'https://www.omdbapi.com/?i=tt3896198&apikey=XXXXXX'\n",
    "\n",
    "r = requests.get(url)\n",
    "json_data = r.json()\n",
    "\n",
    "for key, value in json_data.items():\n",
    "    print(key+ ':', value)"
   ]
  },
  {
   "cell_type": "code",
   "execution_count": 26,
   "id": "708338a2-e3cd-4564-8e5c-981787ebc34a",
   "metadata": {
    "execution": {
     "iopub.execute_input": "2024-08-26T15:09:48.927466Z",
     "iopub.status.busy": "2024-08-26T15:09:48.924190Z",
     "iopub.status.idle": "2024-08-26T15:09:48.994299Z",
     "shell.execute_reply": "2024-08-26T15:09:48.993637Z",
     "shell.execute_reply.started": "2024-08-26T15:09:48.927361Z"
    }
   },
   "outputs": [
    {
     "data": {
      "text/plain": [
       "''"
      ]
     },
     "execution_count": 26,
     "metadata": {},
     "output_type": "execute_result"
    }
   ],
   "source": []
  },
  {
   "cell_type": "code",
   "execution_count": null,
   "id": "68354e96-7912-44da-9a54-70c3a5b814be",
   "metadata": {},
   "outputs": [],
   "source": []
  }
 ],
 "metadata": {
  "kernelspec": {
   "display_name": "Python 3 (ipykernel)",
   "language": "python",
   "name": "python3"
  },
  "language_info": {
   "codemirror_mode": {
    "name": "ipython",
    "version": 3
   },
   "file_extension": ".py",
   "mimetype": "text/x-python",
   "name": "python",
   "nbconvert_exporter": "python",
   "pygments_lexer": "ipython3",
   "version": "3.12.4"
  }
 },
 "nbformat": 4,
 "nbformat_minor": 5
}
