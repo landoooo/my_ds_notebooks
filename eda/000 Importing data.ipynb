{
 "cells": [
  {
   "cell_type": "markdown",
   "id": "94ae42ea-e322-4c4b-ac00-a5209fd69310",
   "metadata": {},
   "source": [
    "# Importing data \n"
   ]
  },
  {
   "cell_type": "markdown",
   "id": "226d2ae1-151e-4834-8452-b886c532cd61",
   "metadata": {},
   "source": [
    "## Reading from plain text files \n",
    "\n",
    "### Reading the whole file at once"
   ]
  },
  {
   "cell_type": "code",
   "execution_count": null,
   "id": "968ba674-b2b0-4420-af33-adc59c907b1a",
   "metadata": {},
   "outputs": [],
   "source": [
    "filename = '../data/plain text with several lines.txt'\n",
    "\n",
    "# mode='r' to prevent writting into it. Mode='w' if you want to write\n",
    "file = open(filename, mode='r')\n",
    "text = file.read()\n",
    "file.close()\n",
    "\n",
    "print(text)"
   ]
  },
  {
   "cell_type": "markdown",
   "id": "03b8e634-cd0e-49d2-909b-36a0647acb2d",
   "metadata": {},
   "source": [
    "Using the file inside a context makes the reading of the file more concise and less cluttered. Outside of the context, the file is already closed:"
   ]
  },
  {
   "cell_type": "code",
   "execution_count": null,
   "id": "2a226157-11f4-4d88-841d-e34bde7243d6",
   "metadata": {},
   "outputs": [],
   "source": [
    "with open(filename, 'r') as file:\n",
    "    print(file.read())"
   ]
  },
  {
   "cell_type": "markdown",
   "id": "a7a3192e-b842-4324-90df-2a4557fc939e",
   "metadata": {},
   "source": [
    "We can read line by line:"
   ]
  },
  {
   "cell_type": "code",
   "execution_count": null,
   "id": "e07c404b-b182-4499-bc95-f00fabaa3782",
   "metadata": {},
   "outputs": [],
   "source": [
    "with open(filename, 'r') as file:\n",
    "    print(file.readline())\n",
    "    print(file.readline())\n",
    "    print(file.readline())"
   ]
  },
  {
   "cell_type": "markdown",
   "id": "7f24ae4b-0873-4170-adb6-f19997ed607f",
   "metadata": {},
   "source": [
    "## Reading flat files\n",
    "\n",
    "Flat files are text files contaning records (row of fields or attributes). Tabular data.\n",
    "They usually have a header, but its not mandatory.\n",
    "The delimiter (character used to separate values) can be a comma (csv), tab or any other character."
   ]
  },
  {
   "cell_type": "code",
   "execution_count": null,
   "id": "3c112275-d03e-416f-8638-b4fde6884aca",
   "metadata": {},
   "outputs": [],
   "source": [
    "titanic_filename = '../data/titanic_sub.csv'\n",
    "\n",
    "with open(titanic_filename, 'r') as file:\n",
    "    print(file.readline())\n",
    "    print(file.readline())\n",
    "    print(file.readline())"
   ]
  },
  {
   "cell_type": "markdown",
   "id": "7a78972d-b83e-4965-b4ad-84185254a1fd",
   "metadata": {},
   "source": [
    "### Reading numeric flat files using numpy\n",
    "\n",
    "This method applies when the whole dataset to be read is numeric"
   ]
  },
  {
   "cell_type": "code",
   "execution_count": null,
   "id": "a51fa928-63b7-4517-8d05-cf5e3c466110",
   "metadata": {},
   "outputs": [],
   "source": [
    "import numpy as np \n",
    "\n",
    "filename='../data/mnist_kaggle_some_rows.csv'\n",
    "\n",
    "data = np.loadtxt(filename, delimiter=',')\n",
    "\n",
    "data"
   ]
  },
  {
   "cell_type": "code",
   "execution_count": null,
   "id": "490e4cf6-0fdb-4c6a-99f3-18cc6c48ae86",
   "metadata": {},
   "outputs": [],
   "source": [
    "# If we would like to skip the header and read a couple of columns only\n",
    "data = np.loadtxt(filename, delimiter=',', skiprows=1, usecols=[0,2])"
   ]
  },
  {
   "cell_type": "markdown",
   "id": "300cef2b-54d3-4729-aef5-af161f19aafc",
   "metadata": {
    "execution": {
     "iopub.execute_input": "2024-07-14T09:44:03.133450Z",
     "iopub.status.busy": "2024-07-14T09:44:03.132041Z",
     "iopub.status.idle": "2024-07-14T09:44:03.145366Z",
     "shell.execute_reply": "2024-07-14T09:44:03.143894Z",
     "shell.execute_reply.started": "2024-07-14T09:44:03.133369Z"
    }
   },
   "source": [
    "### Importing flat files using pandas\n",
    "\n",
    "The core of pandas is the DataFrame. A matrix has rows and columns. A dataframe has observations and variables."
   ]
  },
  {
   "cell_type": "code",
   "execution_count": null,
   "id": "ba0eccb1-ada5-4a3a-84c1-5a2734aea84d",
   "metadata": {},
   "outputs": [],
   "source": [
    "import pandas as pd \n",
    "\n",
    "filename = '../data/cars.csv'\n",
    "\n",
    "df = pd.read_csv(filename)\n",
    "#df = pd.read_csv(filename, nrows=5, header=None, sep='\\t', comment='#', na_values=['Nothing'])"
   ]
  },
  {
   "cell_type": "markdown",
   "id": "2cb96200-7acd-4e07-ab61-dab80519e146",
   "metadata": {},
   "source": [
    "## Importing other file types\n",
    "\n",
    "### Picked files\n",
    "Pickled files are python objects serialized into files."
   ]
  },
  {
   "cell_type": "code",
   "execution_count": 19,
   "id": "7136e2ca-b024-4b3f-bba0-f6f086c986c1",
   "metadata": {
    "execution": {
     "iopub.execute_input": "2024-07-14T12:45:33.829285Z",
     "iopub.status.busy": "2024-07-14T12:45:33.828068Z",
     "iopub.status.idle": "2024-07-14T12:45:33.841292Z",
     "shell.execute_reply": "2024-07-14T12:45:33.840178Z",
     "shell.execute_reply.started": "2024-07-14T12:45:33.829210Z"
    }
   },
   "outputs": [
    {
     "name": "stdout",
     "output_type": "stream",
     "text": [
      "{'a': 53, 'b': 12}\n"
     ]
    }
   ],
   "source": [
    "import pickle\n",
    "\n",
    "filename='filename.pickle'\n",
    "\n",
    "my_dict = {'a': 53, 'b': 12}\n",
    "\n",
    "with open(filename, 'wb') as handle:\n",
    "    pickle.dump(my_dict, handle, protocol=pickle.HIGHEST_PROTOCOL)\n",
    "\n",
    "with open(filename, 'rb') as handle:\n",
    "    my_dict_restored = pickle.load(handle)\n",
    "\n",
    "print(my_dict_restored)"
   ]
  },
  {
   "cell_type": "markdown",
   "id": "ed05b27c-9820-4da7-a1ed-d3f1e3c0e1ea",
   "metadata": {},
   "source": [
    "### Excel files"
   ]
  },
  {
   "cell_type": "code",
   "execution_count": 22,
   "id": "c1bbd27e-11e6-4257-8c28-d5971f99d164",
   "metadata": {
    "execution": {
     "iopub.execute_input": "2024-07-14T13:23:27.808335Z",
     "iopub.status.busy": "2024-07-14T13:23:27.807113Z",
     "iopub.status.idle": "2024-07-14T13:23:27.847615Z",
     "shell.execute_reply": "2024-07-14T13:23:27.847146Z",
     "shell.execute_reply.started": "2024-07-14T13:23:27.808261Z"
    }
   },
   "outputs": [
    {
     "data": {
      "text/html": [
       "<div>\n",
       "<style scoped>\n",
       "    .dataframe tbody tr th:only-of-type {\n",
       "        vertical-align: middle;\n",
       "    }\n",
       "\n",
       "    .dataframe tbody tr th {\n",
       "        vertical-align: top;\n",
       "    }\n",
       "\n",
       "    .dataframe thead th {\n",
       "        text-align: right;\n",
       "    }\n",
       "</style>\n",
       "<table border=\"1\" class=\"dataframe\">\n",
       "  <thead>\n",
       "    <tr style=\"text-align: right;\">\n",
       "      <th></th>\n",
       "      <th>War, age-adjusted mortality due to</th>\n",
       "      <th>2002</th>\n",
       "    </tr>\n",
       "  </thead>\n",
       "  <tbody>\n",
       "    <tr>\n",
       "      <th>0</th>\n",
       "      <td>Afghanistan</td>\n",
       "      <td>36.083990</td>\n",
       "    </tr>\n",
       "    <tr>\n",
       "      <th>1</th>\n",
       "      <td>Albania</td>\n",
       "      <td>0.128908</td>\n",
       "    </tr>\n",
       "    <tr>\n",
       "      <th>2</th>\n",
       "      <td>Algeria</td>\n",
       "      <td>18.314120</td>\n",
       "    </tr>\n",
       "    <tr>\n",
       "      <th>3</th>\n",
       "      <td>Andorra</td>\n",
       "      <td>0.000000</td>\n",
       "    </tr>\n",
       "    <tr>\n",
       "      <th>4</th>\n",
       "      <td>Angola</td>\n",
       "      <td>18.964560</td>\n",
       "    </tr>\n",
       "  </tbody>\n",
       "</table>\n",
       "</div>"
      ],
      "text/plain": [
       "  War, age-adjusted mortality due to       2002\n",
       "0                        Afghanistan  36.083990\n",
       "1                            Albania   0.128908\n",
       "2                            Algeria  18.314120\n",
       "3                            Andorra   0.000000\n",
       "4                             Angola  18.964560"
      ]
     },
     "execution_count": 22,
     "metadata": {},
     "output_type": "execute_result"
    }
   ],
   "source": [
    "import pandas as pd \n",
    "\n",
    "file='../data/battledeath.xlsx'\n",
    "\n",
    "data = pd.read_excel(file)\n",
    "\n",
    "data.head()"
   ]
  },
  {
   "cell_type": "markdown",
   "id": "59ea8e84-6563-42e7-aa0f-17112fe1cdc1",
   "metadata": {},
   "source": [
    "## Reading SAS, HD5, matlab and other files"
   ]
  },
  {
   "cell_type": "markdown",
   "id": "cafa6431-5568-4eb6-a877-d68c571bc56f",
   "metadata": {},
   "source": [
    "## Querying databases"
   ]
  },
  {
   "cell_type": "code",
   "execution_count": null,
   "id": "16798eff-191f-4138-9057-81d6a91e235a",
   "metadata": {},
   "outputs": [],
   "source": []
  }
 ],
 "metadata": {
  "kernelspec": {
   "display_name": "Python 3 (ipykernel)",
   "language": "python",
   "name": "python3"
  },
  "language_info": {
   "codemirror_mode": {
    "name": "ipython",
    "version": 3
   },
   "file_extension": ".py",
   "mimetype": "text/x-python",
   "name": "python",
   "nbconvert_exporter": "python",
   "pygments_lexer": "ipython3",
   "version": "3.12.4"
  }
 },
 "nbformat": 4,
 "nbformat_minor": 5
}
