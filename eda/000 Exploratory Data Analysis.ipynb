{
 "cells": [
  {
   "cell_type": "markdown",
   "id": "8b1e92ab-0859-4e65-9e2a-5f36a21af62b",
   "metadata": {},
   "source": [
    "# Exploratory Data Analysis (EDA)\n",
    "\n",
    "Exploratory data analysis is the process of reviewing and cleaning data to:\n",
    "- derive insights\n",
    "- generate hypothesis for experiments\n"
   ]
  },
  {
   "cell_type": "code",
   "execution_count": null,
   "id": "2238d249-4c9b-4544-b914-3d546e2dec14",
   "metadata": {},
   "outputs": [],
   "source": [
    "import pandas as pd\n",
    "import numpy as np\n",
    "\n",
    "import matplotlib.pyplot as plt\n",
    "import seaborn as sns\n",
    "\n",
    "import warnings\n",
    "\n",
    "warnings.filterwarnings('ignore')"
   ]
  },
  {
   "cell_type": "markdown",
   "id": "ff44b085-cd04-4e79-bbd2-e77f4d001a10",
   "metadata": {},
   "source": [
    "## Loading data"
   ]
  },
  {
   "cell_type": "code",
   "execution_count": null,
   "id": "f6f16112-d917-40f6-9f69-69831303c91a",
   "metadata": {},
   "outputs": [],
   "source": [
    "df = pd.read_csv('../data/Auto.csv')"
   ]
  },
  {
   "cell_type": "markdown",
   "id": "6af90ed7-2843-42d3-9239-5fb1ec0d3ba3",
   "metadata": {},
   "source": [
    "## Exploring"
   ]
  },
  {
   "cell_type": "code",
   "execution_count": null,
   "id": "f5b3f66e-fc89-4eb2-a71c-97a9bdced733",
   "metadata": {},
   "outputs": [],
   "source": [
    "df.head()"
   ]
  },
  {
   "cell_type": "code",
   "execution_count": null,
   "id": "62235d60-e642-405a-9477-fd0fbdf9c7f1",
   "metadata": {},
   "outputs": [],
   "source": [
    "df.head(10)"
   ]
  },
  {
   "cell_type": "code",
   "execution_count": null,
   "id": "87cea10d-7f6b-45b9-ad97-2ca5e07ec2a6",
   "metadata": {},
   "outputs": [],
   "source": [
    "df.info()"
   ]
  },
  {
   "cell_type": "code",
   "execution_count": null,
   "id": "02e57aa9-25c4-4a04-80ba-59cfb01fcb24",
   "metadata": {},
   "outputs": [],
   "source": [
    "df.name.value_counts()"
   ]
  },
  {
   "cell_type": "code",
   "execution_count": null,
   "id": "6baa161b-2185-422b-aea1-d0d078234e96",
   "metadata": {},
   "outputs": [],
   "source": [
    "df.describe()"
   ]
  },
  {
   "cell_type": "code",
   "execution_count": null,
   "id": "c4a5aaac-05e4-4501-a301-94e3ec8ae1c2",
   "metadata": {},
   "outputs": [],
   "source": [
    "sns.histplot(data=df, x='mpg')\n",
    "plt.show()"
   ]
  },
  {
   "cell_type": "code",
   "execution_count": null,
   "id": "dfbd8fe6-0cc4-4304-bc1e-da61cbb9aa5e",
   "metadata": {},
   "outputs": [],
   "source": [
    "sns.histplot(data=df, x='mpg',binwidth=2)\n",
    "plt.show()"
   ]
  },
  {
   "cell_type": "markdown",
   "id": "2cccc199-da87-44fd-811b-c6fd8d340494",
   "metadata": {},
   "source": [
    "## Data Validation\n",
    "\n",
    "Data validation is an important early step in exploratory data analysis. It checks data types and data ranges against their expectations before we go any further."
   ]
  },
  {
   "cell_type": "code",
   "execution_count": null,
   "id": "fe4c4874-5328-493b-ae10-4d4720f29042",
   "metadata": {},
   "outputs": [],
   "source": [
    "df.info()"
   ]
  },
  {
   "cell_type": "code",
   "execution_count": null,
   "id": "bcdd5899-93e2-4b31-88d8-d1842897a3fa",
   "metadata": {},
   "outputs": [],
   "source": [
    "df.dtypes"
   ]
  },
  {
   "cell_type": "markdown",
   "id": "e38c022e-b8a4-4bc8-a8f8-59e90f8ad52a",
   "metadata": {},
   "source": [
    "What if we are not happy with the type of a column?"
   ]
  },
  {
   "cell_type": "code",
   "execution_count": null,
   "id": "a86d9b10-ccf4-4902-9ab7-a8255e3676d4",
   "metadata": {},
   "outputs": [],
   "source": [
    "df['origin'] = df.origin.astype('category')\n",
    "df['cylinders'] = df.cylinders.astype('category')"
   ]
  },
  {
   "cell_type": "code",
   "execution_count": null,
   "id": "1c2f4e77-a7fa-43a3-8d19-7181bf0410a2",
   "metadata": {},
   "outputs": [],
   "source": [
    "# df['column'] = df['column'].astype(int)"
   ]
  },
  {
   "cell_type": "markdown",
   "id": "6a83915e-d2a7-43e6-9109-2ba8a8f81b35",
   "metadata": {},
   "source": [
    "We can validate categorical data using the isin method"
   ]
  },
  {
   "cell_type": "code",
   "execution_count": null,
   "id": "e290c51d-fb21-4d66-ba93-53ad2c0c3d81",
   "metadata": {},
   "outputs": [],
   "source": [
    "# df['categorical_column'].isin([\"value_a\", \"value_b\"])\n",
    "# ~df['categorical_column'].isin([\"value_a\", \"value_b\"])"
   ]
  },
  {
   "cell_type": "markdown",
   "id": "772e6f2e-d22a-4fd0-a8ce-2f83ab474e6c",
   "metadata": {
    "execution": {
     "iopub.execute_input": "2024-07-03T13:13:29.268706Z",
     "iopub.status.busy": "2024-07-03T13:13:29.268406Z",
     "iopub.status.idle": "2024-07-03T13:13:29.273436Z",
     "shell.execute_reply": "2024-07-03T13:13:29.272487Z",
     "shell.execute_reply.started": "2024-07-03T13:13:29.268688Z"
    }
   },
   "source": [
    "Validating numerical data"
   ]
  },
  {
   "cell_type": "code",
   "execution_count": null,
   "id": "d827b038-74bf-430f-80c7-ca560c988517",
   "metadata": {},
   "outputs": [],
   "source": [
    "df.select_dtypes(\"number\").head()"
   ]
  },
  {
   "cell_type": "code",
   "execution_count": null,
   "id": "1aa73a70-81cd-4289-81a6-56b729ac2cdf",
   "metadata": {},
   "outputs": [],
   "source": [
    "df.mpg.min()"
   ]
  },
  {
   "cell_type": "code",
   "execution_count": null,
   "id": "d2fd2c4f-59da-47bf-a128-e651a017d077",
   "metadata": {},
   "outputs": [],
   "source": [
    "df.mpg.max()"
   ]
  },
  {
   "cell_type": "code",
   "execution_count": null,
   "id": "f6cf2f96-c998-40f7-a455-f1eec9478fc3",
   "metadata": {},
   "outputs": [],
   "source": [
    "sns.boxplot(data=df, x='mpg')"
   ]
  },
  {
   "cell_type": "code",
   "execution_count": null,
   "id": "18e1a9a3-086e-4784-a3d7-0d8cc377a02c",
   "metadata": {},
   "outputs": [],
   "source": [
    "sns.boxplot(data=df, x='mpg', y='origin')"
   ]
  },
  {
   "cell_type": "code",
   "execution_count": null,
   "id": "54b5911a-886a-4000-a804-c1e832302f86",
   "metadata": {},
   "outputs": [],
   "source": [
    "sns.boxplot(data=df, x='mpg', hue='origin')"
   ]
  },
  {
   "cell_type": "markdown",
   "id": "e2f72aea-c7b3-4b23-bac9-c282d15b7dbb",
   "metadata": {},
   "source": [
    "# Data Summarization\n",
    "\n",
    "Grouping data helps understanding the characteristics of groups of data.\n",
    "Aggregating function indicates how to summarize the grouped data (count, mean, sum, min, max, var, std)"
   ]
  },
  {
   "cell_type": "markdown",
   "id": "abe7e758-3603-4411-990d-3ecf54e335e3",
   "metadata": {
    "execution": {
     "iopub.execute_input": "2024-07-03T14:20:12.522289Z",
     "iopub.status.busy": "2024-07-03T14:20:12.520876Z",
     "iopub.status.idle": "2024-07-03T14:20:12.529871Z",
     "shell.execute_reply": "2024-07-03T14:20:12.528971Z",
     "shell.execute_reply.started": "2024-07-03T14:20:12.522219Z"
    }
   },
   "source": [
    "## Numerical"
   ]
  },
  {
   "cell_type": "code",
   "execution_count": null,
   "id": "c4349648-7e27-4d85-85ee-0057e257f395",
   "metadata": {},
   "outputs": [],
   "source": [
    "df.groupby('origin')['mpg'].mean()"
   ]
  },
  {
   "cell_type": "code",
   "execution_count": null,
   "id": "adaad84c-b1ab-4fa7-82e0-e4a24c73f70b",
   "metadata": {},
   "outputs": [],
   "source": [
    "df[['origin', 'mpg']].groupby('origin').agg(['count', 'mean'])"
   ]
  },
  {
   "cell_type": "code",
   "execution_count": null,
   "id": "8f42ad8b-53b4-409b-9812-48fcd8129fa7",
   "metadata": {},
   "outputs": [],
   "source": [
    "df.groupby('origin').agg({'mpg':['max', 'min'],'weight':['max', 'min']})"
   ]
  },
  {
   "cell_type": "code",
   "execution_count": null,
   "id": "a51385cd-a2b3-46bc-8307-d3d96d7143b0",
   "metadata": {},
   "outputs": [],
   "source": [
    "df.groupby('origin').agg(min_mpg=('mpg', 'min'), max_weight=('weight', 'max'))"
   ]
  },
  {
   "cell_type": "markdown",
   "id": "abc99c03-7237-4d5c-8719-238f82b8c7f1",
   "metadata": {
    "execution": {
     "iopub.execute_input": "2024-07-03T14:20:36.574420Z",
     "iopub.status.busy": "2024-07-03T14:20:36.573935Z",
     "iopub.status.idle": "2024-07-03T14:20:36.578553Z",
     "shell.execute_reply": "2024-07-03T14:20:36.577683Z",
     "shell.execute_reply.started": "2024-07-03T14:20:36.574384Z"
    }
   },
   "source": [
    "### Categorical"
   ]
  },
  {
   "cell_type": "code",
   "execution_count": null,
   "id": "7363ceb7-de6d-40c0-ad18-934c2504cfe0",
   "metadata": {},
   "outputs": [],
   "source": [
    "sns.barplot(data=df, x='origin', hue='cylinders')"
   ]
  },
  {
   "cell_type": "markdown",
   "id": "5e4a56cc-9530-4ebb-80a0-7ea179788317",
   "metadata": {
    "execution": {
     "iopub.execute_input": "2024-07-03T14:35:03.228629Z",
     "iopub.status.busy": "2024-07-03T14:35:03.228103Z",
     "iopub.status.idle": "2024-07-03T14:35:03.232612Z",
     "shell.execute_reply": "2024-07-03T14:35:03.231808Z",
     "shell.execute_reply.started": "2024-07-03T14:35:03.228595Z"
    }
   },
   "source": [
    "## Addressing Missing Data\n",
    "\n",
    "Missing data can affect distributions. Data can be then underrepresentative of the whole population, leading to wrong conclusions."
   ]
  },
  {
   "cell_type": "code",
   "execution_count": null,
   "id": "100ca685-f225-4612-b0c3-dfa7176bd666",
   "metadata": {},
   "outputs": [],
   "source": [
    "df.isna().sum()"
   ]
  },
  {
   "cell_type": "markdown",
   "id": "45f8c9eb-8287-4332-b101-24ad920ff217",
   "metadata": {},
   "source": [
    "When facing missing data there are several options:\n",
    "- drop missing values (if the total is < 5% of the total values)\n",
    "- imputation of the mean, median or mode depending on the context\n",
    "- imputation by subgroup\n"
   ]
  },
  {
   "cell_type": "code",
   "execution_count": null,
   "id": "a3bddedd-06f1-4c15-a654-fd13f287d105",
   "metadata": {},
   "outputs": [],
   "source": [
    "# Example on how to proceed with missing values:\n",
    "\n",
    "threshold = len(df)*0.05\n",
    "\n",
    "# Drop those under the threshold\n",
    "cols_to_drop = df.columns[df.isna().sum() <= threshold]\n",
    "df.dropna(subset=cols_to_drop, inplace=True)\n",
    "\n",
    "# For the ones over the threshold, impute mode, mean...\n",
    "cols_with_missing_values = df.columns[df.isna().sum() > threshold]\n",
    "\n",
    "for col in cols_with_missing_values:\n",
    "    df[col].fillna(df[col].mode()[0])\n",
    "\n",
    "# Imputing by subgroup\n",
    "df_dict = df.groupby(\"grouping_col\").['target_col'].median().to_dict()\n",
    "df['target_col'] = df['target_col'].fillna(df['grouping_col'].map(df_dict))\n"
   ]
  },
  {
   "cell_type": "code",
   "execution_count": null,
   "id": "cbc3fd01-0e60-49c4-8875-4523a67fbe57",
   "metadata": {},
   "outputs": [],
   "source": [
    "## Converting and analyzing categorical data"
   ]
  },
  {
   "cell_type": "code",
   "execution_count": null,
   "id": "71340d7b-bc7d-44b4-86b1-258e444f5e67",
   "metadata": {},
   "outputs": [],
   "source": [
    "df"
   ]
  },
  {
   "cell_type": "code",
   "execution_count": null,
   "id": "b53c3511-a915-470a-be85-3a57b942e8c3",
   "metadata": {},
   "outputs": [],
   "source": [
    "df['brand'] = df.name.str.split().str[0]"
   ]
  },
  {
   "cell_type": "code",
   "execution_count": null,
   "id": "725175e9-35b7-447c-8eef-5497692f60ec",
   "metadata": {},
   "outputs": [],
   "source": [
    "df.brand.nunique()"
   ]
  },
  {
   "cell_type": "code",
   "execution_count": null,
   "id": "3a24f4c8-b724-4a44-8671-cfcdb06cfb29",
   "metadata": {},
   "outputs": [],
   "source": [
    "sns.histplot(data=df, x='brand')"
   ]
  },
  {
   "cell_type": "code",
   "execution_count": null,
   "id": "d7ab3bb3-6776-48c8-a7e6-b82db5b9a5fd",
   "metadata": {},
   "outputs": [],
   "source": [
    "df.brand.str.contains('^chev', case=False).sum()"
   ]
  },
  {
   "cell_type": "code",
   "execution_count": null,
   "id": "663ca127-1c10-4fba-8c83-a973c55c9a81",
   "metadata": {},
   "outputs": [],
   "source": [
    "df.brand.value_counts()"
   ]
  },
  {
   "cell_type": "code",
   "execution_count": null,
   "id": "4a28934a-2284-4127-987f-fa2c2a61705a",
   "metadata": {},
   "outputs": [],
   "source": [
    "ford='ford'\n",
    "chevrolet='chevrolet'\n",
    "plymouth='plymouth'\n",
    "dodge='dodge'\n",
    "amc='amc'\n",
    "toyota='toyota'\n",
    "datsun='datsun'\n",
    "buick='buick'\n",
    "pontiac='pontiac'\n",
    "volkswagen='volkswagen'\n",
    "honda='honda'\n",
    "mercury='mercury'\n",
    "mazda='mazda'\n",
    "oldsmobile='oldsmobile'\n",
    "fiat='fiat'\n",
    "peugeot='peugeot'\n",
    "audi='audi'\n",
    "chrysler='chrysler'\n",
    "volvo='volvo'\n",
    "\n",
    "brands=[ford, chevrolet, plymouth, dodge, amc, toyota, datsun, buick, pontiac, volkswagen, honda, mercury, mazda, oldsmobile, fiat, peugeot, audi, chrysler, volvo]"
   ]
  },
  {
   "cell_type": "code",
   "execution_count": null,
   "id": "3ea1a95d-5326-43ef-9f46-4ac1d07bf1b4",
   "metadata": {},
   "outputs": [],
   "source": [
    "conditions=[\n",
    "    (df.name.str.contains('^ford', case=False)),\n",
    "    (df.name.str.contains('^chevrolet|chevroelt|chevy', case=False)),\n",
    "    (df.name.str.contains('^plymouth', case=False)),\n",
    "    (df.name.str.contains('^dodge', case=False)),\n",
    "    (df.name.str.contains('^amc', case=False)),\n",
    "    (df.name.str.contains('^toyota|toyouta', case=False)),\n",
    "    (df.name.str.contains('^datsun', case=False)),\n",
    "    (df.name.str.contains('^buick', case=False)),\n",
    "    (df.name.str.contains('^pontiac', case=False)),\n",
    "    (df.name.str.contains('^volkswagen|vw|vokswagen', case=False)),\n",
    "    (df.name.str.contains('^honda', case=False)),\n",
    "    (df.name.str.contains('^mercury', case=False)),\n",
    "    (df.name.str.contains('^mazda', case=False)),\n",
    "    (df.name.str.contains('^oldsmobile', case=False)),\n",
    "    (df.name.str.contains('^fiat', case=False)),\n",
    "    (df.name.str.contains('^peugeot', case=False)),\n",
    "    (df.name.str.contains('^audi', case=False)),\n",
    "    (df.name.str.contains('^chrysler', case=False)),\n",
    "    (df.name.str.contains('^volvo', case=False))\n",
    "]"
   ]
  },
  {
   "cell_type": "code",
   "execution_count": null,
   "id": "469506d6-0d3d-45eb-9f8c-0d3b6e3e7933",
   "metadata": {},
   "outputs": [],
   "source": [
    "df['clean_brand'] = np.select(conditions, brands, default='other')"
   ]
  },
  {
   "cell_type": "code",
   "execution_count": null,
   "id": "519dffd9-dd90-41d6-b655-015cdf0ce677",
   "metadata": {},
   "outputs": [],
   "source": [
    "df"
   ]
  },
  {
   "cell_type": "code",
   "execution_count": null,
   "id": "02bf6c25-bc0c-4c89-9864-0b28bf164d05",
   "metadata": {},
   "outputs": [],
   "source": [
    "sns.countplot(data=df, x='brand')\n",
    "plt.show()"
   ]
  },
  {
   "cell_type": "markdown",
   "id": "e3454e05-a088-498b-85a9-e7a8800148a8",
   "metadata": {
    "execution": {
     "iopub.execute_input": "2024-07-03T16:28:39.939679Z",
     "iopub.status.busy": "2024-07-03T16:28:39.939197Z",
     "iopub.status.idle": "2024-07-03T16:28:39.945445Z",
     "shell.execute_reply": "2024-07-03T16:28:39.943407Z",
     "shell.execute_reply.started": "2024-07-03T16:28:39.939646Z"
    }
   },
   "source": [
    "## Working with numeric data\n",
    "\n",
    "\n"
   ]
  },
  {
   "cell_type": "code",
   "execution_count": null,
   "id": "7ee86684-15be-4a24-9194-6f567b852860",
   "metadata": {},
   "outputs": [],
   "source": [
    "# pd.Series.str.replace('to remove', 'to replace with')\n",
    "\n",
    "# df['col'] = df['col'].astype(float)\n",
    "\n",
    "# df['std_dev']"
   ]
  },
  {
   "cell_type": "code",
   "execution_count": null,
   "id": "a934b264-8ebb-4799-b839-e349d6f95aea",
   "metadata": {},
   "outputs": [],
   "source": [
    "df"
   ]
  },
  {
   "cell_type": "code",
   "execution_count": null,
   "id": "42358818-0596-48f0-9e39-eb2cf8103898",
   "metadata": {},
   "outputs": [],
   "source": [
    "df['clean_brand_mean_std'] = df.groupby('clean_brand')['mpg'].transform(lambda x: x.std())\n",
    "df['clean_brand_mean_mpg'] = df.groupby('clean_brand')['mpg'].transform(lambda x: x.mean())"
   ]
  },
  {
   "cell_type": "code",
   "execution_count": null,
   "id": "8c3f0780-4126-405a-aacd-37d367733cbe",
   "metadata": {},
   "outputs": [],
   "source": [
    "df[['mpg', 'clean_brand', 'clean_brand_mean_mpg', 'clean_brand_mean_std']]"
   ]
  },
  {
   "cell_type": "markdown",
   "id": "899d1647-0393-4e2a-b25a-80c3d60e7716",
   "metadata": {},
   "source": [
    "## Outliers\n",
    "\n",
    "The Interquartile Range (IQR) can help us identifying outliers.\n",
    "\n",
    "Upper outliers are those observations bigger than the 75th percentile + 1.5 times IQR\n",
    "Lower outliers are those observations smaller than the 25th percentile - 1.5 times IQR\n",
    "\n",
    "Outliers are extreme values that may not accurately represent our data. They can change the mean and standard deviation. Statistical tests and machine learning models need normally distributed data and not skewed.\n",
    "\n",
    "Once we know we have outliers...:\n",
    "- why do they have them?\n",
    "- are they accurate? or do they represent errors during the data collection phase?"
   ]
  },
  {
   "cell_type": "code",
   "execution_count": null,
   "id": "9f3c4600-27a5-416e-8057-4ff48cbe780f",
   "metadata": {},
   "outputs": [],
   "source": [
    "seventyfifth_q = df['mpg'].quantile(0.75)\n",
    "twentyfifth_q = df['mpg'].quantile(0.25)\n",
    "\n",
    "iqr = seventyfifth_q - twentyfifth_q\n",
    "\n",
    "df['outliers'] = ((df['mpg']<twentyfifth_q-1.5*iqr) | (df['mpg']>seventyfifth_q+1.5*iqr))"
   ]
  },
  {
   "cell_type": "code",
   "execution_count": null,
   "id": "51440dbe-e694-4421-9a35-78ccad14326d",
   "metadata": {},
   "outputs": [],
   "source": [
    "#In this example there is no outlier\n",
    "\n",
    "df.outliers.sum()"
   ]
  },
  {
   "cell_type": "code",
   "execution_count": null,
   "id": "0a9bcdd6-584f-4e35-acc4-d63673161faf",
   "metadata": {},
   "outputs": [],
   "source": [
    "sns.boxplot(data=df, x='mpg')"
   ]
  },
  {
   "cell_type": "code",
   "execution_count": null,
   "id": "e3cbb043-c8f1-4bc5-bc0a-36042f437065",
   "metadata": {},
   "outputs": [],
   "source": [
    "sns.histplot(data=df, x='mpg')"
   ]
  },
  {
   "cell_type": "code",
   "execution_count": null,
   "id": "11c1ff7a-e5cd-4a2a-b9eb-0ca8cf011749",
   "metadata": {},
   "outputs": [],
   "source": [
    "sns.histplot(data=df[df.outliers==False], x='mpg')"
   ]
  },
  {
   "cell_type": "code",
   "execution_count": null,
   "id": "caa39444-a358-4d26-bccb-0173c5aa66de",
   "metadata": {},
   "outputs": [],
   "source": [
    "sns.pairplot(data=df)"
   ]
  },
  {
   "cell_type": "markdown",
   "id": "cfbc4175-ba31-4bd0-be10-03b4c2670e90",
   "metadata": {},
   "source": [
    "## Histograms"
   ]
  },
  {
   "cell_type": "code",
   "execution_count": null,
   "id": "bd132bd4-4613-485b-8178-d35569dfd242",
   "metadata": {},
   "outputs": [],
   "source": [
    "swing = pd.read_csv('../data/2008_swing_states.csv')\n",
    "swing.head()"
   ]
  },
  {
   "cell_type": "code",
   "execution_count": null,
   "id": "43464da4-5bed-4993-b5f7-af4761cee6da",
   "metadata": {},
   "outputs": [],
   "source": [
    "plt.hist(swing['dem_share'])\n",
    "plt.xlabel('percent of vote for obama')\n",
    "plt.ylabel('number of counties')\n",
    "plt.show()"
   ]
  },
  {
   "cell_type": "code",
   "execution_count": null,
   "id": "b8390926-985f-439a-8f8a-a63f30adf714",
   "metadata": {},
   "outputs": [],
   "source": [
    "plt.hist(swing['dem_share'], bins=[0,10,20,30,40,50,60,70,80,90,100])\n",
    "plt.xlabel('percent of vote for obama')\n",
    "plt.ylabel('number of counties')\n",
    "plt.show()"
   ]
  },
  {
   "cell_type": "code",
   "execution_count": null,
   "id": "28aab3b5-52fc-49a0-b292-5475f82dd11d",
   "metadata": {},
   "outputs": [],
   "source": [
    "sns.set()\n",
    "plt.hist(swing['dem_share'], bins=[0,10,20,30,40,50,60,70,80,90,100])\n",
    "plt.xlabel('percent of vote for obama')\n",
    "plt.ylabel('number of counties')\n",
    "plt.show()"
   ]
  },
  {
   "cell_type": "markdown",
   "id": "00ff1e8e-4663-4eb2-94a5-143263e9f187",
   "metadata": {},
   "source": [
    "**BINNING BIAS:** Histograms depend a lot on the chosen bins"
   ]
  },
  {
   "cell_type": "markdown",
   "id": "30018806-d84c-4f02-a4da-927adcda8ee9",
   "metadata": {},
   "source": [
    "## Bee Swarm Plot\n"
   ]
  },
  {
   "cell_type": "code",
   "execution_count": null,
   "id": "a5ed1299-6618-479d-a071-fa6fb25859a8",
   "metadata": {},
   "outputs": [],
   "source": [
    "sns.swarmplot(y='dem_share', x='state', hue='state', data=swing)\n",
    "plt.xlabel('state')\n",
    "plt.ylabel('percent of vote for obama')\n",
    "plt.show()"
   ]
  },
  {
   "cell_type": "code",
   "execution_count": null,
   "id": "de77ab38-868b-47ec-9129-2a123b2587b3",
   "metadata": {},
   "outputs": [],
   "source": [
    "swing"
   ]
  },
  {
   "cell_type": "markdown",
   "id": "55bba1b8-08ab-4379-8c85-1701ce6caf85",
   "metadata": {
    "execution": {
     "iopub.execute_input": "2024-08-21T16:15:11.238039Z",
     "iopub.status.busy": "2024-08-21T16:15:11.236579Z",
     "iopub.status.idle": "2024-08-21T16:15:11.248557Z",
     "shell.execute_reply": "2024-08-21T16:15:11.247396Z",
     "shell.execute_reply.started": "2024-08-21T16:15:11.237965Z"
    }
   },
   "source": [
    "Bee swarm plots have limitations when displaying too many datapoints\n",
    "\n",
    "## Empirical cumulative distribution function (ECDFs)"
   ]
  },
  {
   "cell_type": "code",
   "execution_count": null,
   "id": "dd9f2563-02e9-44ab-b7a6-64783b25c5cf",
   "metadata": {},
   "outputs": [],
   "source": [
    "x = np.sort(swing.dem_share)\n",
    "y = np.arange(1,len(x)+1)/len(x)\n",
    "plt.plot(x, y, marker='.', linestyle='none')\n",
    "plt.ylabel('ECDF')\n",
    "plt.xlabel('percent of vote for obama')\n",
    "\n",
    "plt.show()"
   ]
  },
  {
   "cell_type": "code",
   "execution_count": null,
   "id": "8712cefa-5a34-49c1-8262-1c83759bb7c2",
   "metadata": {},
   "outputs": [],
   "source": []
  }
 ],
 "metadata": {
  "kernelspec": {
   "display_name": "Python 3 (ipykernel)",
   "language": "python",
   "name": "python3"
  },
  "language_info": {
   "codemirror_mode": {
    "name": "ipython",
    "version": 3
   },
   "file_extension": ".py",
   "mimetype": "text/x-python",
   "name": "python",
   "nbconvert_exporter": "python",
   "pygments_lexer": "ipython3",
   "version": "3.12.4"
  }
 },
 "nbformat": 4,
 "nbformat_minor": 5
}
