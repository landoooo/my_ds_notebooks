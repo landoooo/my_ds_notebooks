{
 "cells": [
  {
   "cell_type": "markdown",
   "id": "9edb6e66-041c-4142-9151-7068e6ed88b3",
   "metadata": {},
   "source": [
    "# Working with dates and times\n",
    "\n",
    "## Dates in python\n",
    "In python we use the datetime package to handle dates and times. There is plenty of functionality already built-in there ready to be used."
   ]
  },
  {
   "cell_type": "code",
   "execution_count": 1,
   "id": "3f13c2a2-9747-47f5-9583-3a34dd0cc461",
   "metadata": {
    "execution": {
     "iopub.execute_input": "2024-07-16T12:21:48.941887Z",
     "iopub.status.busy": "2024-07-16T12:21:48.941013Z",
     "iopub.status.idle": "2024-07-16T12:21:48.958421Z",
     "shell.execute_reply": "2024-07-16T12:21:48.956936Z",
     "shell.execute_reply.started": "2024-07-16T12:21:48.941832Z"
    }
   },
   "outputs": [],
   "source": [
    "from datetime import date"
   ]
  },
  {
   "cell_type": "code",
   "execution_count": 8,
   "id": "dcb950c3-ef6d-4563-a75c-b1911418ec7c",
   "metadata": {
    "execution": {
     "iopub.execute_input": "2024-07-16T12:24:25.455477Z",
     "iopub.status.busy": "2024-07-16T12:24:25.454496Z",
     "iopub.status.idle": "2024-07-16T12:24:25.464331Z",
     "shell.execute_reply": "2024-07-16T12:24:25.462313Z",
     "shell.execute_reply.started": "2024-07-16T12:24:25.455422Z"
    }
   },
   "outputs": [],
   "source": [
    "two_dates = [date(2014, 5, 13), date(2025, 1, 20)]"
   ]
  },
  {
   "cell_type": "code",
   "execution_count": 9,
   "id": "ab713639-f641-4fe7-8520-da008154ed1c",
   "metadata": {
    "execution": {
     "iopub.execute_input": "2024-07-16T12:24:26.019433Z",
     "iopub.status.busy": "2024-07-16T12:24:26.018489Z",
     "iopub.status.idle": "2024-07-16T12:24:26.033336Z",
     "shell.execute_reply": "2024-07-16T12:24:26.032299Z",
     "shell.execute_reply.started": "2024-07-16T12:24:26.019396Z"
    }
   },
   "outputs": [
    {
     "data": {
      "text/plain": [
       "[datetime.date(2014, 5, 13), datetime.date(2025, 1, 20)]"
      ]
     },
     "execution_count": 9,
     "metadata": {},
     "output_type": "execute_result"
    }
   ],
   "source": [
    "two_dates"
   ]
  },
  {
   "cell_type": "code",
   "execution_count": 10,
   "id": "a3c61d3d-91e0-4902-b6f5-f0d650dd5f46",
   "metadata": {
    "execution": {
     "iopub.execute_input": "2024-07-16T12:24:26.524254Z",
     "iopub.status.busy": "2024-07-16T12:24:26.523422Z",
     "iopub.status.idle": "2024-07-16T12:24:26.537764Z",
     "shell.execute_reply": "2024-07-16T12:24:26.535924Z",
     "shell.execute_reply.started": "2024-07-16T12:24:26.524187Z"
    }
   },
   "outputs": [
    {
     "data": {
      "text/plain": [
       "2014"
      ]
     },
     "execution_count": 10,
     "metadata": {},
     "output_type": "execute_result"
    }
   ],
   "source": [
    "two_dates[0].year"
   ]
  },
  {
   "cell_type": "code",
   "execution_count": 11,
   "id": "8d76048e-bf3a-43ff-9b26-ec73f5522139",
   "metadata": {
    "execution": {
     "iopub.execute_input": "2024-07-16T12:24:26.901568Z",
     "iopub.status.busy": "2024-07-16T12:24:26.900646Z",
     "iopub.status.idle": "2024-07-16T12:24:26.917024Z",
     "shell.execute_reply": "2024-07-16T12:24:26.915527Z",
     "shell.execute_reply.started": "2024-07-16T12:24:26.901524Z"
    }
   },
   "outputs": [
    {
     "data": {
      "text/plain": [
       "1"
      ]
     },
     "execution_count": 11,
     "metadata": {},
     "output_type": "execute_result"
    }
   ],
   "source": [
    "two_dates[1].month"
   ]
  },
  {
   "cell_type": "markdown",
   "id": "ab208ac7-39d8-48e8-869c-fa6ec8508f5b",
   "metadata": {},
   "source": [
    "Weekdays in python starts from 0"
   ]
  },
  {
   "cell_type": "code",
   "execution_count": 12,
   "id": "c1626e40-bdc3-4766-bd4a-7673526bd8d8",
   "metadata": {
    "execution": {
     "iopub.execute_input": "2024-07-16T12:24:27.610652Z",
     "iopub.status.busy": "2024-07-16T12:24:27.609504Z",
     "iopub.status.idle": "2024-07-16T12:24:27.623343Z",
     "shell.execute_reply": "2024-07-16T12:24:27.622315Z",
     "shell.execute_reply.started": "2024-07-16T12:24:27.610560Z"
    }
   },
   "outputs": [
    {
     "data": {
      "text/plain": [
       "0"
      ]
     },
     "execution_count": 12,
     "metadata": {},
     "output_type": "execute_result"
    }
   ],
   "source": [
    "two_dates[1].weekday()"
   ]
  },
  {
   "cell_type": "markdown",
   "id": "23d39bf6-683a-4aaf-8eea-5d484879225b",
   "metadata": {
    "execution": {
     "iopub.execute_input": "2024-07-16T12:24:38.581638Z",
     "iopub.status.busy": "2024-07-16T12:24:38.580703Z",
     "iopub.status.idle": "2024-07-16T12:24:38.596856Z",
     "shell.execute_reply": "2024-07-16T12:24:38.595900Z",
     "shell.execute_reply.started": "2024-07-16T12:24:38.581565Z"
    }
   },
   "source": [
    "### Math with python dates"
   ]
  },
  {
   "cell_type": "code",
   "execution_count": 16,
   "id": "dec5d9b3-fd40-4c1e-8d1a-6c6b5c0a30d6",
   "metadata": {
    "execution": {
     "iopub.execute_input": "2024-07-16T12:28:45.669217Z",
     "iopub.status.busy": "2024-07-16T12:28:45.667903Z",
     "iopub.status.idle": "2024-07-16T12:28:45.683344Z",
     "shell.execute_reply": "2024-07-16T12:28:45.682107Z",
     "shell.execute_reply.started": "2024-07-16T12:28:45.669125Z"
    }
   },
   "outputs": [
    {
     "data": {
      "text/plain": [
       "datetime.timedelta(days=3905)"
      ]
     },
     "execution_count": 16,
     "metadata": {},
     "output_type": "execute_result"
    }
   ],
   "source": [
    "diff = two_dates[1] - two_dates[0]\n",
    "diff"
   ]
  },
  {
   "cell_type": "code",
   "execution_count": 17,
   "id": "6fa4411e-582e-42a4-9aa3-680213e203c0",
   "metadata": {
    "execution": {
     "iopub.execute_input": "2024-07-16T12:28:56.438885Z",
     "iopub.status.busy": "2024-07-16T12:28:56.437619Z",
     "iopub.status.idle": "2024-07-16T12:28:56.454256Z",
     "shell.execute_reply": "2024-07-16T12:28:56.450660Z",
     "shell.execute_reply.started": "2024-07-16T12:28:56.438810Z"
    }
   },
   "outputs": [
    {
     "data": {
      "text/plain": [
       "datetime.date(2014, 5, 13)"
      ]
     },
     "execution_count": 17,
     "metadata": {},
     "output_type": "execute_result"
    }
   ],
   "source": [
    "min(two_dates)"
   ]
  },
  {
   "cell_type": "code",
   "execution_count": 18,
   "id": "a40d15c7-930e-4f22-b638-408d640df810",
   "metadata": {
    "execution": {
     "iopub.execute_input": "2024-07-16T12:29:01.635310Z",
     "iopub.status.busy": "2024-07-16T12:29:01.634156Z",
     "iopub.status.idle": "2024-07-16T12:29:01.647735Z",
     "shell.execute_reply": "2024-07-16T12:29:01.645939Z",
     "shell.execute_reply.started": "2024-07-16T12:29:01.635241Z"
    }
   },
   "outputs": [
    {
     "data": {
      "text/plain": [
       "datetime.date(2025, 1, 20)"
      ]
     },
     "execution_count": 18,
     "metadata": {},
     "output_type": "execute_result"
    }
   ],
   "source": [
    "max(two_dates)"
   ]
  },
  {
   "cell_type": "code",
   "execution_count": 19,
   "id": "75e78ab1-5196-407f-ba23-11ead524de05",
   "metadata": {
    "execution": {
     "iopub.execute_input": "2024-07-16T12:29:24.829583Z",
     "iopub.status.busy": "2024-07-16T12:29:24.828487Z",
     "iopub.status.idle": "2024-07-16T12:29:24.843415Z",
     "shell.execute_reply": "2024-07-16T12:29:24.842356Z",
     "shell.execute_reply.started": "2024-07-16T12:29:24.829523Z"
    }
   },
   "outputs": [],
   "source": [
    "from datetime import timedelta"
   ]
  },
  {
   "cell_type": "code",
   "execution_count": 20,
   "id": "302c3720-0756-4ec9-a741-69a5b2b9e213",
   "metadata": {
    "execution": {
     "iopub.execute_input": "2024-07-16T12:29:40.663544Z",
     "iopub.status.busy": "2024-07-16T12:29:40.662494Z",
     "iopub.status.idle": "2024-07-16T12:29:40.674635Z",
     "shell.execute_reply": "2024-07-16T12:29:40.673284Z",
     "shell.execute_reply.started": "2024-07-16T12:29:40.663468Z"
    }
   },
   "outputs": [],
   "source": [
    "td = timedelta(days=29)"
   ]
  },
  {
   "cell_type": "code",
   "execution_count": 21,
   "id": "aa712c50-5fa8-49f1-9d64-f6fc83830f6b",
   "metadata": {
    "execution": {
     "iopub.execute_input": "2024-07-16T12:30:04.200345Z",
     "iopub.status.busy": "2024-07-16T12:30:04.199189Z",
     "iopub.status.idle": "2024-07-16T12:30:04.215261Z",
     "shell.execute_reply": "2024-07-16T12:30:04.214030Z",
     "shell.execute_reply.started": "2024-07-16T12:30:04.200274Z"
    }
   },
   "outputs": [
    {
     "data": {
      "text/plain": [
       "datetime.date(1999, 1, 30)"
      ]
     },
     "execution_count": 21,
     "metadata": {},
     "output_type": "execute_result"
    }
   ],
   "source": [
    "date(1999, 1, 1) + td"
   ]
  },
  {
   "cell_type": "code",
   "execution_count": 22,
   "id": "49a168a6-785d-453f-be6b-84dd5be67bb3",
   "metadata": {
    "execution": {
     "iopub.execute_input": "2024-07-16T12:32:00.661874Z",
     "iopub.status.busy": "2024-07-16T12:32:00.660989Z",
     "iopub.status.idle": "2024-07-16T12:32:00.672805Z",
     "shell.execute_reply": "2024-07-16T12:32:00.671320Z",
     "shell.execute_reply.started": "2024-07-16T12:32:00.661810Z"
    }
   },
   "outputs": [
    {
     "data": {
      "text/plain": [
       "29"
      ]
     },
     "execution_count": 22,
     "metadata": {},
     "output_type": "execute_result"
    }
   ],
   "source": [
    "td.days"
   ]
  },
  {
   "cell_type": "code",
   "execution_count": 23,
   "id": "db55da71-5aad-471d-b649-d76a1795e244",
   "metadata": {
    "execution": {
     "iopub.execute_input": "2024-07-16T12:33:42.762306Z",
     "iopub.status.busy": "2024-07-16T12:33:42.761569Z",
     "iopub.status.idle": "2024-07-16T12:33:42.775305Z",
     "shell.execute_reply": "2024-07-16T12:33:42.773725Z",
     "shell.execute_reply.started": "2024-07-16T12:33:42.762266Z"
    }
   },
   "outputs": [
    {
     "data": {
      "text/plain": [
       "[datetime.date(2005, 1, 20),\n",
       " datetime.date(2014, 5, 13),\n",
       " datetime.date(2015, 1, 20),\n",
       " datetime.date(2025, 1, 20)]"
      ]
     },
     "execution_count": 23,
     "metadata": {},
     "output_type": "execute_result"
    }
   ],
   "source": [
    "unsorted_dates = [date(2014, 5, 13), date(2025, 1, 20), date(2005, 1, 20), date(2015, 1, 20)]\n",
    "\n",
    "sorted(unsorted_dates)"
   ]
  },
  {
   "cell_type": "markdown",
   "id": "5c1f717e-7fcb-42d7-88e8-c8bf7e83dd26",
   "metadata": {},
   "source": [
    "## Parsing and formatting\n"
   ]
  },
  {
   "cell_type": "code",
   "execution_count": 24,
   "id": "69dfa253-e427-4061-9f1b-cbb8ead4f22a",
   "metadata": {
    "execution": {
     "iopub.execute_input": "2024-07-16T13:37:52.329500Z",
     "iopub.status.busy": "2024-07-16T13:37:52.328405Z",
     "iopub.status.idle": "2024-07-16T13:37:52.341651Z",
     "shell.execute_reply": "2024-07-16T13:37:52.338989Z",
     "shell.execute_reply.started": "2024-07-16T13:37:52.329459Z"
    }
   },
   "outputs": [
    {
     "name": "stdout",
     "output_type": "stream",
     "text": [
      "2017-11-05\n"
     ]
    }
   ],
   "source": [
    "d = date(2017, 11, 5)\n",
    "print (d)"
   ]
  },
  {
   "cell_type": "markdown",
   "id": "4c7b04e0-6e83-42a3-80db-ab1646b50b7e",
   "metadata": {},
   "source": [
    "The default date format in datetime is the ISO 8601, that is YYYY-MM-DD"
   ]
  },
  {
   "cell_type": "code",
   "execution_count": 25,
   "id": "dda2a90d-e00b-4c94-bf32-b77713055ec1",
   "metadata": {
    "execution": {
     "iopub.execute_input": "2024-07-16T13:39:21.851197Z",
     "iopub.status.busy": "2024-07-16T13:39:21.849374Z",
     "iopub.status.idle": "2024-07-16T13:39:21.869602Z",
     "shell.execute_reply": "2024-07-16T13:39:21.868264Z",
     "shell.execute_reply.started": "2024-07-16T13:39:21.851029Z"
    }
   },
   "outputs": [
    {
     "data": {
      "text/plain": [
       "'2017-11-05'"
      ]
     },
     "execution_count": 25,
     "metadata": {},
     "output_type": "execute_result"
    }
   ],
   "source": [
    "d.isoformat()"
   ]
  },
  {
   "cell_type": "markdown",
   "id": "eb8adaed-6cf4-411e-80f3-9ab8b634d10e",
   "metadata": {},
   "source": [
    "If you want a date to be formatted in a different way, dtrftime():"
   ]
  },
  {
   "cell_type": "code",
   "execution_count": 28,
   "id": "f1112ebb-f8af-465c-b83b-8c97873f22c1",
   "metadata": {
    "execution": {
     "iopub.execute_input": "2024-07-16T13:41:01.271998Z",
     "iopub.status.busy": "2024-07-16T13:41:01.271212Z",
     "iopub.status.idle": "2024-07-16T13:41:01.282226Z",
     "shell.execute_reply": "2024-07-16T13:41:01.280882Z",
     "shell.execute_reply.started": "2024-07-16T13:41:01.271961Z"
    }
   },
   "outputs": [
    {
     "data": {
      "text/plain": [
       "'2017'"
      ]
     },
     "execution_count": 28,
     "metadata": {},
     "output_type": "execute_result"
    }
   ],
   "source": [
    "d.strftime('%Y')"
   ]
  },
  {
   "cell_type": "code",
   "execution_count": 29,
   "id": "ca6889f3-3941-4e92-8318-747075cbbaa5",
   "metadata": {
    "execution": {
     "iopub.execute_input": "2024-07-16T13:41:31.580858Z",
     "iopub.status.busy": "2024-07-16T13:41:31.579716Z",
     "iopub.status.idle": "2024-07-16T13:41:31.595552Z",
     "shell.execute_reply": "2024-07-16T13:41:31.594025Z",
     "shell.execute_reply.started": "2024-07-16T13:41:31.580787Z"
    }
   },
   "outputs": [
    {
     "data": {
      "text/plain": [
       "'2017/11/05'"
      ]
     },
     "execution_count": 29,
     "metadata": {},
     "output_type": "execute_result"
    }
   ],
   "source": [
    "d.strftime('%Y/%m/%d')"
   ]
  },
  {
   "cell_type": "markdown",
   "id": "11c1f658-3d21-4b4a-aa79-2cf75294f9bd",
   "metadata": {},
   "source": [
    "## Adding times"
   ]
  },
  {
   "cell_type": "code",
   "execution_count": 30,
   "id": "859cc0c2-2c47-4a9e-9a00-f4fa72c14292",
   "metadata": {
    "execution": {
     "iopub.execute_input": "2024-07-16T13:51:03.956621Z",
     "iopub.status.busy": "2024-07-16T13:51:03.955492Z",
     "iopub.status.idle": "2024-07-16T13:51:03.979869Z",
     "shell.execute_reply": "2024-07-16T13:51:03.977152Z",
     "shell.execute_reply.started": "2024-07-16T13:51:03.956551Z"
    }
   },
   "outputs": [],
   "source": [
    "from datetime import datetime"
   ]
  },
  {
   "cell_type": "code",
   "execution_count": 32,
   "id": "1c385f7a-984a-4b65-be9f-e41877b1841f",
   "metadata": {
    "execution": {
     "iopub.execute_input": "2024-07-16T13:51:51.660468Z",
     "iopub.status.busy": "2024-07-16T13:51:51.659345Z",
     "iopub.status.idle": "2024-07-16T13:51:51.672670Z",
     "shell.execute_reply": "2024-07-16T13:51:51.671503Z",
     "shell.execute_reply.started": "2024-07-16T13:51:51.660414Z"
    }
   },
   "outputs": [
    {
     "data": {
      "text/plain": [
       "datetime.datetime(2024, 12, 25, 12, 34, 56)"
      ]
     },
     "execution_count": 32,
     "metadata": {},
     "output_type": "execute_result"
    }
   ],
   "source": [
    "dt = datetime(2024, 12, 25, 12, 34, 56)\n",
    "dt"
   ]
  },
  {
   "cell_type": "code",
   "execution_count": 33,
   "id": "7fec3494-540f-47f2-b75a-2b49ce9a130f",
   "metadata": {
    "execution": {
     "iopub.execute_input": "2024-07-16T13:52:37.853053Z",
     "iopub.status.busy": "2024-07-16T13:52:37.851875Z",
     "iopub.status.idle": "2024-07-16T13:52:37.868722Z",
     "shell.execute_reply": "2024-07-16T13:52:37.867915Z",
     "shell.execute_reply.started": "2024-07-16T13:52:37.852981Z"
    }
   },
   "outputs": [
    {
     "data": {
      "text/plain": [
       "datetime.datetime(2024, 5, 25, 12, 34, 56)"
      ]
     },
     "execution_count": 33,
     "metadata": {},
     "output_type": "execute_result"
    }
   ],
   "source": [
    "dt.replace(month=5)"
   ]
  },
  {
   "cell_type": "code",
   "execution_count": 34,
   "id": "89fd4a01-09f5-459f-9d45-7daa0bc2012d",
   "metadata": {
    "execution": {
     "iopub.execute_input": "2024-07-17T14:21:58.736276Z",
     "iopub.status.busy": "2024-07-17T14:21:58.734209Z",
     "iopub.status.idle": "2024-07-17T14:21:58.749943Z",
     "shell.execute_reply": "2024-07-17T14:21:58.748524Z",
     "shell.execute_reply.started": "2024-07-17T14:21:58.736185Z"
    }
   },
   "outputs": [
    {
     "data": {
      "text/plain": [
       "'2024=12-25'"
      ]
     },
     "execution_count": 34,
     "metadata": {},
     "output_type": "execute_result"
    }
   ],
   "source": [
    "dt.strftime('%Y=%m-%d')"
   ]
  },
  {
   "cell_type": "code",
   "execution_count": 35,
   "id": "5dbf13c1-0de7-4fb0-a5c6-9c4cb16ff401",
   "metadata": {
    "execution": {
     "iopub.execute_input": "2024-07-17T14:22:26.265868Z",
     "iopub.status.busy": "2024-07-17T14:22:26.264701Z",
     "iopub.status.idle": "2024-07-17T14:22:26.283383Z",
     "shell.execute_reply": "2024-07-17T14:22:26.279013Z",
     "shell.execute_reply.started": "2024-07-17T14:22:26.265797Z"
    }
   },
   "outputs": [
    {
     "data": {
      "text/plain": [
       "'2024=12-25 12:34:56'"
      ]
     },
     "execution_count": 35,
     "metadata": {},
     "output_type": "execute_result"
    }
   ],
   "source": [
    "dt.strftime('%Y=%m-%d %H:%M:%S')"
   ]
  },
  {
   "cell_type": "code",
   "execution_count": 36,
   "id": "9b6ed35f-97de-4a32-b9ec-341a13158d1f",
   "metadata": {
    "execution": {
     "iopub.execute_input": "2024-07-17T14:22:41.057585Z",
     "iopub.status.busy": "2024-07-17T14:22:41.056321Z",
     "iopub.status.idle": "2024-07-17T14:22:41.071522Z",
     "shell.execute_reply": "2024-07-17T14:22:41.070579Z",
     "shell.execute_reply.started": "2024-07-17T14:22:41.057512Z"
    }
   },
   "outputs": [
    {
     "data": {
      "text/plain": [
       "'2024-12-25T12:34:56'"
      ]
     },
     "execution_count": 36,
     "metadata": {},
     "output_type": "execute_result"
    }
   ],
   "source": [
    "dt.isoformat()"
   ]
  },
  {
   "cell_type": "code",
   "execution_count": 41,
   "id": "9efa7f25-fe76-4c4f-a32c-25696683cdb1",
   "metadata": {
    "execution": {
     "iopub.execute_input": "2024-07-17T14:24:10.721902Z",
     "iopub.status.busy": "2024-07-17T14:24:10.720110Z",
     "iopub.status.idle": "2024-07-17T14:24:10.735812Z",
     "shell.execute_reply": "2024-07-17T14:24:10.734375Z",
     "shell.execute_reply.started": "2024-07-17T14:24:10.721827Z"
    }
   },
   "outputs": [
    {
     "data": {
      "text/plain": [
       "datetime.datetime(2024, 12, 25, 12, 34, 56)"
      ]
     },
     "execution_count": 41,
     "metadata": {},
     "output_type": "execute_result"
    }
   ],
   "source": [
    "datetime.strptime('2024-12-25 12:34:56', '%Y-%m-%d %H:%M:%S')"
   ]
  },
  {
   "cell_type": "code",
   "execution_count": 52,
   "id": "f9818ae7-943d-40ae-8362-09b25ff3a7c2",
   "metadata": {
    "execution": {
     "iopub.execute_input": "2024-07-17T14:26:12.653211Z",
     "iopub.status.busy": "2024-07-17T14:26:12.651977Z",
     "iopub.status.idle": "2024-07-17T14:26:12.668527Z",
     "shell.execute_reply": "2024-07-17T14:26:12.667630Z",
     "shell.execute_reply.started": "2024-07-17T14:26:12.653151Z"
    }
   },
   "outputs": [
    {
     "name": "stdout",
     "output_type": "stream",
     "text": [
      "2026-04-21 11:52:33\n"
     ]
    }
   ],
   "source": [
    "timestamp = 1776765153.0\n",
    "print(datetime.fromtimestamp(timestamp))"
   ]
  },
  {
   "cell_type": "markdown",
   "id": "df1e6d88-3938-4b40-a28d-41cdd90c4421",
   "metadata": {},
   "source": [
    "## Working with durations"
   ]
  },
  {
   "cell_type": "code",
   "execution_count": 55,
   "id": "032f6ef5-7055-4535-a184-7b73e06e10e3",
   "metadata": {
    "execution": {
     "iopub.execute_input": "2024-07-17T14:43:45.666746Z",
     "iopub.status.busy": "2024-07-17T14:43:45.665581Z",
     "iopub.status.idle": "2024-07-17T14:43:45.682824Z",
     "shell.execute_reply": "2024-07-17T14:43:45.681877Z",
     "shell.execute_reply.started": "2024-07-17T14:43:45.666674Z"
    }
   },
   "outputs": [
    {
     "data": {
      "text/plain": [
       "datetime.timedelta(days=120, seconds=71841)"
      ]
     },
     "execution_count": 55,
     "metadata": {},
     "output_type": "execute_result"
    }
   ],
   "source": [
    "start = datetime.strptime('2021-12-25 12:34:56', '%Y-%m-%d %H:%M:%S')\n",
    "end = datetime.strptime('2022-04-25 08:32:17', '%Y-%m-%d %H:%M:%S')\n",
    "\n",
    "duration = end - start\n",
    "\n",
    "duration"
   ]
  },
  {
   "cell_type": "code",
   "execution_count": 56,
   "id": "b8eaad2d-362d-4146-a1ae-72caeb65deb9",
   "metadata": {
    "execution": {
     "iopub.execute_input": "2024-07-17T14:43:47.693307Z",
     "iopub.status.busy": "2024-07-17T14:43:47.692108Z",
     "iopub.status.idle": "2024-07-17T14:43:47.709597Z",
     "shell.execute_reply": "2024-07-17T14:43:47.707902Z",
     "shell.execute_reply.started": "2024-07-17T14:43:47.693233Z"
    }
   },
   "outputs": [
    {
     "data": {
      "text/plain": [
       "datetime.timedelta"
      ]
     },
     "execution_count": 56,
     "metadata": {},
     "output_type": "execute_result"
    }
   ],
   "source": [
    "type(duration)"
   ]
  },
  {
   "cell_type": "code",
   "execution_count": 57,
   "id": "112761f5-3947-442a-b774-7d8586b4f194",
   "metadata": {
    "execution": {
     "iopub.execute_input": "2024-07-17T14:44:26.766198Z",
     "iopub.status.busy": "2024-07-17T14:44:26.765394Z",
     "iopub.status.idle": "2024-07-17T14:44:26.782638Z",
     "shell.execute_reply": "2024-07-17T14:44:26.781290Z",
     "shell.execute_reply.started": "2024-07-17T14:44:26.766127Z"
    }
   },
   "outputs": [
    {
     "data": {
      "text/plain": [
       "10439841.0"
      ]
     },
     "execution_count": 57,
     "metadata": {},
     "output_type": "execute_result"
    }
   ],
   "source": [
    "duration.total_seconds()"
   ]
  },
  {
   "cell_type": "code",
   "execution_count": 58,
   "id": "dc1dcce6-e193-4421-b457-9dd2cf8bb535",
   "metadata": {
    "execution": {
     "iopub.execute_input": "2024-07-17T14:46:55.346527Z",
     "iopub.status.busy": "2024-07-17T14:46:55.345241Z",
     "iopub.status.idle": "2024-07-17T14:46:55.356707Z",
     "shell.execute_reply": "2024-07-17T14:46:55.355593Z",
     "shell.execute_reply.started": "2024-07-17T14:46:55.346450Z"
    }
   },
   "outputs": [],
   "source": [
    "from datetime import timedelta\n",
    "delta1 = timedelta(seconds=1)"
   ]
  },
  {
   "cell_type": "code",
   "execution_count": 60,
   "id": "12eb733a-5b62-4374-b661-f210293dd32f",
   "metadata": {
    "execution": {
     "iopub.execute_input": "2024-07-17T14:47:19.712644Z",
     "iopub.status.busy": "2024-07-17T14:47:19.711524Z",
     "iopub.status.idle": "2024-07-17T14:47:19.722940Z",
     "shell.execute_reply": "2024-07-17T14:47:19.721412Z",
     "shell.execute_reply.started": "2024-07-17T14:47:19.712585Z"
    }
   },
   "outputs": [],
   "source": [
    "delta2 = timedelta(days=1, seconds=1)"
   ]
  },
  {
   "cell_type": "code",
   "execution_count": 61,
   "id": "82582415-3591-41b1-84cd-c1e0b723c383",
   "metadata": {
    "execution": {
     "iopub.execute_input": "2024-07-17T14:47:26.052434Z",
     "iopub.status.busy": "2024-07-17T14:47:26.051701Z",
     "iopub.status.idle": "2024-07-17T14:47:26.064791Z",
     "shell.execute_reply": "2024-07-17T14:47:26.063554Z",
     "shell.execute_reply.started": "2024-07-17T14:47:26.052395Z"
    }
   },
   "outputs": [
    {
     "data": {
      "text/plain": [
       "datetime.datetime(2021, 12, 25, 12, 34, 57)"
      ]
     },
     "execution_count": 61,
     "metadata": {},
     "output_type": "execute_result"
    }
   ],
   "source": [
    "start + delta1"
   ]
  },
  {
   "cell_type": "markdown",
   "id": "d62bacc1-fbcb-4f0c-bdad-954f5efa4c29",
   "metadata": {
    "execution": {
     "iopub.execute_input": "2024-07-17T15:01:57.410943Z",
     "iopub.status.busy": "2024-07-17T15:01:57.409759Z",
     "iopub.status.idle": "2024-07-17T15:01:57.421576Z",
     "shell.execute_reply": "2024-07-17T15:01:57.419430Z",
     "shell.execute_reply.started": "2024-07-17T15:01:57.410869Z"
    }
   },
   "source": [
    "## Timezones"
   ]
  },
  {
   "cell_type": "code",
   "execution_count": 63,
   "id": "4c79e384-20ea-4b58-bcf6-6850ae23427c",
   "metadata": {
    "execution": {
     "iopub.execute_input": "2024-07-17T15:02:15.309930Z",
     "iopub.status.busy": "2024-07-17T15:02:15.308701Z",
     "iopub.status.idle": "2024-07-17T15:02:15.318805Z",
     "shell.execute_reply": "2024-07-17T15:02:15.317324Z",
     "shell.execute_reply.started": "2024-07-17T15:02:15.309882Z"
    }
   },
   "outputs": [],
   "source": [
    "from datetime import datetime, timedelta, timezone"
   ]
  },
  {
   "cell_type": "code",
   "execution_count": 91,
   "id": "af21fd8b-7aa3-4f24-aba4-fa08a45e52a0",
   "metadata": {
    "execution": {
     "iopub.execute_input": "2024-07-17T15:12:01.957612Z",
     "iopub.status.busy": "2024-07-17T15:12:01.956851Z",
     "iopub.status.idle": "2024-07-17T15:12:01.969186Z",
     "shell.execute_reply": "2024-07-17T15:12:01.967948Z",
     "shell.execute_reply.started": "2024-07-17T15:12:01.957571Z"
    }
   },
   "outputs": [],
   "source": [
    "onebike_datetimes=[{'start': datetime(2017, 10, 3, 19, 24, 10),\n",
    "  'end': datetime(2017, 10, 3, 19, 52, 8)},\n",
    " {'start': datetime(2017, 10, 3, 20, 17, 6),\n",
    "  'end': datetime(2017, 10, 3, 20, 23, 52)},\n",
    " {'start': datetime(2017, 10, 3, 20, 45, 21),\n",
    "  'end': datetime(2017, 10, 3, 20, 57, 10)},\n",
    " {'start': datetime(2017, 10, 4, 7, 4, 57),\n",
    "  'end': datetime(2017, 10, 4, 7, 13, 31)}]"
   ]
  },
  {
   "cell_type": "code",
   "execution_count": 92,
   "id": "43f4e432-2785-46ba-bf45-0b1dbbadd328",
   "metadata": {
    "execution": {
     "iopub.execute_input": "2024-07-17T15:12:02.109235Z",
     "iopub.status.busy": "2024-07-17T15:12:02.108331Z",
     "iopub.status.idle": "2024-07-17T15:12:02.116718Z",
     "shell.execute_reply": "2024-07-17T15:12:02.115359Z",
     "shell.execute_reply.started": "2024-07-17T15:12:02.109170Z"
    }
   },
   "outputs": [],
   "source": [
    "ET = timezone(timedelta(hours=-5))"
   ]
  },
  {
   "cell_type": "code",
   "execution_count": 93,
   "id": "f6c0dff4-c6b4-47bd-a439-a830e91c2873",
   "metadata": {
    "execution": {
     "iopub.execute_input": "2024-07-17T15:12:02.215094Z",
     "iopub.status.busy": "2024-07-17T15:12:02.214190Z",
     "iopub.status.idle": "2024-07-17T15:12:02.223935Z",
     "shell.execute_reply": "2024-07-17T15:12:02.222362Z",
     "shell.execute_reply.started": "2024-07-17T15:12:02.215030Z"
    }
   },
   "outputs": [],
   "source": [
    "dt = datetime(2021, 12, 25, 12, 34, 56,  tzinfo= ET)"
   ]
  },
  {
   "cell_type": "code",
   "execution_count": 94,
   "id": "017fb441-7a2c-4d70-bb38-df9e0bd698d7",
   "metadata": {
    "execution": {
     "iopub.execute_input": "2024-07-17T15:12:02.338316Z",
     "iopub.status.busy": "2024-07-17T15:12:02.337397Z",
     "iopub.status.idle": "2024-07-17T15:12:02.349483Z",
     "shell.execute_reply": "2024-07-17T15:12:02.348222Z",
     "shell.execute_reply.started": "2024-07-17T15:12:02.338249Z"
    }
   },
   "outputs": [
    {
     "data": {
      "text/plain": [
       "datetime.datetime(2021, 12, 25, 12, 34, 56, tzinfo=datetime.timezone(datetime.timedelta(days=-1, seconds=68400)))"
      ]
     },
     "execution_count": 94,
     "metadata": {},
     "output_type": "execute_result"
    }
   ],
   "source": [
    "dt"
   ]
  },
  {
   "cell_type": "code",
   "execution_count": 95,
   "id": "3c132bbd-7cb7-439c-b9e8-d9aaeddb89c1",
   "metadata": {
    "execution": {
     "iopub.execute_input": "2024-07-17T15:12:02.448938Z",
     "iopub.status.busy": "2024-07-17T15:12:02.447943Z",
     "iopub.status.idle": "2024-07-17T15:12:02.461127Z",
     "shell.execute_reply": "2024-07-17T15:12:02.459834Z",
     "shell.execute_reply.started": "2024-07-17T15:12:02.448869Z"
    }
   },
   "outputs": [
    {
     "name": "stdout",
     "output_type": "stream",
     "text": [
      "2017-10-01T15:26:26-08:00\n"
     ]
    }
   ],
   "source": [
    "pst = timezone(timedelta(hours=-8))\n",
    "\n",
    "dt = datetime(2017, 10, 1, 15, 26, 26, tzinfo=pst)\n",
    "\n",
    "print(dt.isoformat())"
   ]
  },
  {
   "cell_type": "code",
   "execution_count": 96,
   "id": "0e328b64-601c-4ca6-b39a-b31e9833f164",
   "metadata": {
    "execution": {
     "iopub.execute_input": "2024-07-17T15:12:02.576249Z",
     "iopub.status.busy": "2024-07-17T15:12:02.575390Z",
     "iopub.status.idle": "2024-07-17T15:12:02.584708Z",
     "shell.execute_reply": "2024-07-17T15:12:02.583590Z",
     "shell.execute_reply.started": "2024-07-17T15:12:02.576186Z"
    }
   },
   "outputs": [],
   "source": [
    "edt = timezone(timedelta(hours=-4))\n",
    "\n",
    "for trip in onebike_datetimes[:2]:\n",
    "  # Update trip['start'] and trip['end']\n",
    "  trip['start'] = trip['start'].replace(tzinfo=edt)\n",
    "  trip['end'] = trip['end'].replace(tzinfo=edt)"
   ]
  },
  {
   "cell_type": "code",
   "execution_count": 97,
   "id": "a39e623b-0f5e-4998-b545-7f9d4931fb1c",
   "metadata": {
    "execution": {
     "iopub.execute_input": "2024-07-17T15:12:02.682837Z",
     "iopub.status.busy": "2024-07-17T15:12:02.682368Z",
     "iopub.status.idle": "2024-07-17T15:12:02.694474Z",
     "shell.execute_reply": "2024-07-17T15:12:02.693437Z",
     "shell.execute_reply.started": "2024-07-17T15:12:02.682806Z"
    }
   },
   "outputs": [
    {
     "data": {
      "text/plain": [
       "[{'start': datetime.datetime(2017, 10, 3, 19, 24, 10, tzinfo=datetime.timezone(datetime.timedelta(days=-1, seconds=72000))),\n",
       "  'end': datetime.datetime(2017, 10, 3, 19, 52, 8, tzinfo=datetime.timezone(datetime.timedelta(days=-1, seconds=72000)))},\n",
       " {'start': datetime.datetime(2017, 10, 3, 20, 17, 6, tzinfo=datetime.timezone(datetime.timedelta(days=-1, seconds=72000))),\n",
       "  'end': datetime.datetime(2017, 10, 3, 20, 23, 52, tzinfo=datetime.timezone(datetime.timedelta(days=-1, seconds=72000)))},\n",
       " {'start': datetime.datetime(2017, 10, 3, 20, 45, 21),\n",
       "  'end': datetime.datetime(2017, 10, 3, 20, 57, 10)},\n",
       " {'start': datetime.datetime(2017, 10, 4, 7, 4, 57),\n",
       "  'end': datetime.datetime(2017, 10, 4, 7, 13, 31)}]"
      ]
     },
     "execution_count": 97,
     "metadata": {},
     "output_type": "execute_result"
    }
   ],
   "source": [
    "onebike_datetimes"
   ]
  },
  {
   "cell_type": "markdown",
   "id": "ca1303ed-d639-44bb-9c71-fb97e0a9249f",
   "metadata": {},
   "source": [
    "## Timezone databases"
   ]
  },
  {
   "cell_type": "code",
   "execution_count": 98,
   "id": "f1ca7c77-f467-4c8b-a696-b2cb74d31a95",
   "metadata": {
    "execution": {
     "iopub.execute_input": "2024-07-19T13:46:12.377761Z",
     "iopub.status.busy": "2024-07-19T13:46:12.376634Z",
     "iopub.status.idle": "2024-07-19T13:46:12.388381Z",
     "shell.execute_reply": "2024-07-19T13:46:12.387029Z",
     "shell.execute_reply.started": "2024-07-19T13:46:12.377690Z"
    }
   },
   "outputs": [],
   "source": [
    "from dateutil import tz"
   ]
  },
  {
   "cell_type": "code",
   "execution_count": 99,
   "id": "1cd6fb65-d169-459a-b102-4a3e9c4d1345",
   "metadata": {
    "execution": {
     "iopub.execute_input": "2024-07-19T13:46:46.968998Z",
     "iopub.status.busy": "2024-07-19T13:46:46.967966Z",
     "iopub.status.idle": "2024-07-19T13:46:46.982087Z",
     "shell.execute_reply": "2024-07-19T13:46:46.981007Z",
     "shell.execute_reply.started": "2024-07-19T13:46:46.968929Z"
    }
   },
   "outputs": [],
   "source": [
    "et = tz.gettz('America/New_York')"
   ]
  },
  {
   "cell_type": "code",
   "execution_count": 100,
   "id": "f256ca2d-dba1-4724-9c86-d9107a51b5c8",
   "metadata": {
    "execution": {
     "iopub.execute_input": "2024-07-19T13:46:48.817336Z",
     "iopub.status.busy": "2024-07-19T13:46:48.816381Z",
     "iopub.status.idle": "2024-07-19T13:46:48.829082Z",
     "shell.execute_reply": "2024-07-19T13:46:48.828050Z",
     "shell.execute_reply.started": "2024-07-19T13:46:48.817293Z"
    }
   },
   "outputs": [
    {
     "data": {
      "text/plain": [
       "tzfile('/usr/share/zoneinfo/America/New_York')"
      ]
     },
     "execution_count": 100,
     "metadata": {},
     "output_type": "execute_result"
    }
   ],
   "source": [
    "et"
   ]
  },
  {
   "cell_type": "code",
   "execution_count": 101,
   "id": "d54d3aac-220b-4f00-ae80-ed38a2405ba6",
   "metadata": {
    "execution": {
     "iopub.execute_input": "2024-07-19T13:47:06.146985Z",
     "iopub.status.busy": "2024-07-19T13:47:06.145746Z",
     "iopub.status.idle": "2024-07-19T13:47:06.541172Z",
     "shell.execute_reply": "2024-07-19T13:47:06.540390Z",
     "shell.execute_reply.started": "2024-07-19T13:47:06.146917Z"
    }
   },
   "outputs": [
    {
     "name": "stdout",
     "output_type": "stream",
     "text": [
      "@p��9`ˈ�p�#�p�`���u���@���U��� ���5���\u0000���\u0015���������p��e��މpݩ�`޾kp߉d`��Mp�iF`�~/p�I(`�^\u0011p�W.��G-��7\u0010��'\u000f��\u0016���\u0006�����������ֶ��Ƶ���`��p�`�p��`�o�p�_y`�Oxp�?[`�/Zp�(w��\u000f<pY���X���;���:���\u001d",
      "���\u001c",
      "�����\u0000���\u0001���\u0002w��\u0003p�`\u0004`�p\u0005P�`\u0006@�p\u00070�`\u0007�\u0019p\t\u0010�`\t���\n",
      "�gp\u000e���\u000f���\u0010�f�\u0011�e�\u0012yH�\u0013iG�\u0014Y*�\u0015I)�\u00169\f",
      "�\u0017)\u000b",
      "�\u0018\")`��\u001a\u0002\u000b",
      "`\u001a�\n",
      "p\u001b��`\u001c",
      "��p\u001d",
      "��`\u001e",
      "��p\u001f��` v\u0000�!��`\"U��#j��$5��%J��&\u0015��'*s�'��p)\n",
      "@p������9`����ˈ�p�����#�p�����`�������u�������@�������U������� �������5�������\u0000�������\u0015�����������������p������e������މp����ݩ�`����޾kp����߉d`������Mp�����iF`�����~/p�����I(`�����^\u0011p�����W.������G-������7\u0010������'\u000f������\u0016�������\u0006�����������������������ֶ������Ƶ�������`������p�����`�����p������`�����o�p�����_y`�����Oxp�����?[`�����/Zp�����(w������\u000f<p����Y�������X�������;�������:�������\u001d",
      "�������\u001c",
      "���������\u0000\u0000\u0000\u0000\u0000���\u0000\u0000\u0000\u0000\u0001���\u0000\u0000\u0000\u0000\u0002w��\u0000\u0000\u0000\u0000\u0003p�`\u0000\u0000\u0000\u0000\u0004`�p\u0000\u0000\u0000\u0000\u0005P�`\u0000\u0000\u0000\u0000\u0006@�p\u0000\u0000\u0000\u0000\u00070�`\u0000\u0000\u0000\u0000\u0007�\u0019p\u0000\u0000\u0000\u0000\t\u0010�`\u0000\u0000\u0000\u0000\t���\u0000\u0000\u0000\u0000�����`�����e�p�������������j�p�����5�`�����S�������\u0015�`�����3���������������\u0013�������އ�������p�������i�������R�������K�������4������~-�������Qp�����gJ`�����|3p�����G,`�����\\\u0015p�����'\u000e`�����;�p�����\u0006�`�����\u001b�p�������`�����\u0004�������ƴ`���������������������Ĺ����������������������o������}������Ov������d_������/X������M|p�����\u000f:������-^p������W`�����\n",
      "�gp\u0000\u0000\u0000\u0000\u000e���\u0000\u0000\u0000\u0000\u000f���\u0000\u0000\u0000\u0000\u0010�f�\u0000\u0000\u0000\u0000\u0011�e�\u0000\u0000\u0000\u0000\u0012yH�\u0000\u0000\u0000\u0000\u0013iG�\u0000\u0000\u0000\u0000\u0014Y*�\u0000\u0000\u0000\u0000\u0015I)�\u0000\u0000\u0000\u0000\u00169\f",
      "�\u0000\u0000\u0000\u0000\u0017)\u000b",
      "�\u0000\u0000\u0000\u0000\u0018\")`\u0000\u0000\u0000\u0000��\u0000\u0000\u0000\u0000\u001a\u0002\u000b",
      "`\u0000\u0000\u0000\u0000\u001a�\n",
      "p\u0000\u0000\u0000\u0000\u001b��`\u0000\u0000\u0000\u0000\u001c",
      "��p\u0000\u0000\u0000\u0000\u001d",
      "��`\u0000\u0000\u0000\u0000\u001e",
      "��p\u0000\u0000\u0000\u0000\u001f��`\u0000\u0000\u0000\u0000 v\u0000�\u0000\u0000\u0000\u0000!��`\u0000\u0000\u0000\u0000\"U��\u0000\u0000\u0000\u0000#j��\u0000\u0000\u0000\u0000$5��\u0000\u0000\u0000\u0000%J��\u0000\u0000\u0000\u0000&\u0015��\u0000\u0000\u0000\u0000'*s�\u0000\u0000\u0000\u0000'��p\u0000\u0000\u0000\u0000)\n",
      "xp\u0000\u0000\u0000\u0000eG/`\u0000\u0000\u0000\u0000e�Zp\u0000\u0000\u0000\u0000g'\u0011`\u0000\u0000\u0000\u0000g�<p\u0000\u0000\u0000\u0000i\u0006�`\u0000\u0000\u0000\u0000i�\u001e",
      "p\u0000\u0000\u0000\u0000j��`\u0000\u0000\u0000\u0000k�:�\u0000\u0000\u0000\u0000l���\u0000\u0000\u0000\u0000mv\u001c",
      "�\u0000\u0000\u0000\u0000n���\u0000\u0000\u0000\u0000oU��\u0000\u0000\u0000\u0000p���\u0000\u0000\u0000\u0000q5��\u0000\u0000\u0000\u0000ro��\u0000\u0000\u0000\u0000s\u0015��\u0000\u0000\u0000\u0000tOy�\u0000\u0000\u0000\u0000t��p\u0000\u0000\u0000\u0000v8�`\u0000\u0000\u0000\u0000v��p\u0000\u0000\u0000\u0000x\u0018x`\u0000\u0000\u0000\u0000x��p\u0000\u0000\u0000\u0000y�Z`\u0000\u0000\u0000\u0000z��p\u0000\u0000\u0000\u0000{�<`\u0000\u0000\u0000\u0000|~gp\u0000\u0000\u0000\u0000}�\u001e",
      "`\u0000\u0000\u0000\u0000~^Ip\u0000\u0000\u0000\u0000�\u0000`\u0003\u0001\u0002\u0001\u0002\u0001\u0002\u0001\u0002\u0001\u0002\u0001\u0002\u0001\u0002\u0001\u0002\u0001\u0002\u0001\u0002\u0001\u0002\u0001\u0002\u0001\u0002\u0001\u0002\u0001\u0002\u0001\u0002\u0001\u0002\u0001\u0002\u0001\u0002\u0001\u0002\u0001\u0002\u0001\u0002\u0001\u0002\u0001\u0002\u0004\u0005\u0002\u0001\u0002\u0001\u0002\u0001\u0002\u0001\u0002\u0001\u0002\u0001\u0002\u0001\u0002\u0001\u0002\u0001\u0002\u0001\u0002\u0001\u0002\u0001\u0002\u0001\u0002\u0001\u0002\u0001\u0002\u0001\u0002\u0001\u0002\u0001\u0002\u0001\u0002\u0001\u0002\u0001\u0002\u0001\u0002\u0001\u0002\u0001\u0002\u0001\u0002\u0001\u0002\u0001\u0002\u0001\u0002\u0001\u0002\u0001\u0002\u0001\u0002\u0001\u0002\u0001\u0002\u0001\u0002\u0001\u0002\u0001\u0002\u0001\u0002\u0001\u0002\u0001\u0002\u0001\u0002\u0001\u0002\u0001\u0002\u0001\u0002\u0001\u0002\u0001\u0002\u0001\u0002\u0001\u0002\u0001\u0002\u0001\u0002\u0001\u0002\u0001\u0002\u0001\u0002\u0001\u0002\u0001\u0002\u0001\u0002\u0001\u0002\u0001\u0002\u0001\u0002\u0001\u0002\u0001\u0002\u0001\u0002\u0001\u0002\u0001\u0002\u0001\u0002\u0001\u0002\u0001\u0002\u0001\u0002\u0001\u0002\u0001\u0002\u0001\u0002\u0001\u0002\u0001\u0002\u0001\u0002\u0001\u0002\u0001\u0002\u0001\u0002\u0001\u0002\u0001\u0002\u0001\u0002\u0001\u0002\u0001\u0002\u0001\u0002\u0001\u0002\u0001\u0002\u0001\u0002\u0001\u0002\u0001\u0002\u0001\u0002\u0001\u0002\u0001\u0002\u0001\u0002\u0001\u0002����\u0000\u0000����\u0001\u0004������������\u0001\f",
      "����\u0001\u0010LMT\u0000EDT\u0000EST\u0000EWT\u0000EPT\u0000\u0000\u0000\u0000\u0001\u0000\u0001\u0000\u0000\u0000\u0001\u0000\u0001\n",
      "EST5EDT,M3.2.0,M11.1.0\n"
     ]
    }
   ],
   "source": [
    "!cat /usr/share/zoneinfo/America/New_York"
   ]
  },
  {
   "cell_type": "code",
   "execution_count": 102,
   "id": "a247994e-42a8-4771-a524-3f6fffbe0370",
   "metadata": {
    "execution": {
     "iopub.execute_input": "2024-07-19T13:48:11.831928Z",
     "iopub.status.busy": "2024-07-19T13:48:11.831020Z",
     "iopub.status.idle": "2024-07-19T13:48:11.840991Z",
     "shell.execute_reply": "2024-07-19T13:48:11.840075Z",
     "shell.execute_reply.started": "2024-07-19T13:48:11.831855Z"
    }
   },
   "outputs": [],
   "source": [
    "last = datetime(2017,12,30,15, 9, 3, tzinfo=et)"
   ]
  },
  {
   "cell_type": "code",
   "execution_count": 104,
   "id": "bb1ddfb6-2449-4020-bdd8-31e4d955628f",
   "metadata": {
    "execution": {
     "iopub.execute_input": "2024-07-19T13:48:37.550515Z",
     "iopub.status.busy": "2024-07-19T13:48:37.549415Z",
     "iopub.status.idle": "2024-07-19T13:48:37.560003Z",
     "shell.execute_reply": "2024-07-19T13:48:37.558405Z",
     "shell.execute_reply.started": "2024-07-19T13:48:37.550404Z"
    }
   },
   "outputs": [
    {
     "name": "stdout",
     "output_type": "stream",
     "text": [
      "2017-12-30 15:09:03-05:00\n"
     ]
    }
   ],
   "source": [
    "print(last)"
   ]
  },
  {
   "cell_type": "code",
   "execution_count": 105,
   "id": "6d278e9c-16b3-4dde-8302-9fa6af0493bf",
   "metadata": {
    "execution": {
     "iopub.execute_input": "2024-07-19T13:59:19.461856Z",
     "iopub.status.busy": "2024-07-19T13:59:19.460040Z",
     "iopub.status.idle": "2024-07-19T13:59:19.479530Z",
     "shell.execute_reply": "2024-07-19T13:59:19.478298Z",
     "shell.execute_reply.started": "2024-07-19T13:59:19.461774Z"
    }
   },
   "outputs": [
    {
     "name": "stdout",
     "output_type": "stream",
     "text": [
      "2017-12-30T15:09:03\n",
      "2017-12-31T04:09:03+14:00\n"
     ]
    }
   ],
   "source": [
    "sm = tz.gettz('Pacific/Apia')\n",
    "\n",
    "local = datetime(2017,12,30,15, 9, 3)\n",
    "\n",
    "notlocal = local.astimezone(sm)\n",
    "\n",
    "print(local.isoformat())\n",
    "print(notlocal.isoformat())"
   ]
  },
  {
   "cell_type": "markdown",
   "id": "5884ded5-a55c-4e54-8bdc-6e8bed9871dd",
   "metadata": {},
   "source": [
    "## Daylight Saving Time"
   ]
  },
  {
   "cell_type": "code",
   "execution_count": 109,
   "id": "8d473e6a-1b31-4a16-8a4b-15e0020ac764",
   "metadata": {
    "execution": {
     "iopub.execute_input": "2024-07-19T14:03:58.700932Z",
     "iopub.status.busy": "2024-07-19T14:03:58.700084Z",
     "iopub.status.idle": "2024-07-19T14:03:58.719113Z",
     "shell.execute_reply": "2024-07-19T14:03:58.718431Z",
     "shell.execute_reply.started": "2024-07-19T14:03:58.700886Z"
    }
   },
   "outputs": [
    {
     "data": {
      "text/plain": [
       "'2017-03-12T01:59:59'"
      ]
     },
     "execution_count": 109,
     "metadata": {},
     "output_type": "execute_result"
    }
   ],
   "source": [
    "spring_ahead_159am = datetime(2017, 3, 12, 1, 59, 59)\n",
    "spring_ahead_159am.isoformat()"
   ]
  },
  {
   "cell_type": "code",
   "execution_count": 111,
   "id": "08b85332-cc45-4a7e-b277-4a35ba134535",
   "metadata": {
    "execution": {
     "iopub.execute_input": "2024-07-19T14:04:05.087691Z",
     "iopub.status.busy": "2024-07-19T14:04:05.086838Z",
     "iopub.status.idle": "2024-07-19T14:04:05.099170Z",
     "shell.execute_reply": "2024-07-19T14:04:05.097974Z",
     "shell.execute_reply.started": "2024-07-19T14:04:05.087644Z"
    }
   },
   "outputs": [
    {
     "data": {
      "text/plain": [
       "3601.0"
      ]
     },
     "execution_count": 111,
     "metadata": {},
     "output_type": "execute_result"
    }
   ],
   "source": [
    "spring_ahead_3am = datetime(2017, 3, 12, 3, 0, 0)\n",
    "\n",
    "(spring_ahead_3am - spring_ahead_159am).total_seconds()"
   ]
  },
  {
   "cell_type": "code",
   "execution_count": 112,
   "id": "4943ff5a-cda5-48a3-bcbb-128d61af9e91",
   "metadata": {
    "execution": {
     "iopub.execute_input": "2024-07-19T14:05:52.926901Z",
     "iopub.status.busy": "2024-07-19T14:05:52.924129Z",
     "iopub.status.idle": "2024-07-19T14:05:52.941169Z",
     "shell.execute_reply": "2024-07-19T14:05:52.940171Z",
     "shell.execute_reply.started": "2024-07-19T14:05:52.926811Z"
    }
   },
   "outputs": [],
   "source": [
    "# The issue is, there was no 2am that day in X region, because it was the way where clocks were adaapted from 2 to 3\n",
    "# How to solve this?"
   ]
  },
  {
   "cell_type": "code",
   "execution_count": 113,
   "id": "2d6bcafd-8e5b-4a9d-97a9-b5f95aef55e2",
   "metadata": {
    "execution": {
     "iopub.execute_input": "2024-07-19T14:08:40.111421Z",
     "iopub.status.busy": "2024-07-19T14:08:40.110946Z",
     "iopub.status.idle": "2024-07-19T14:08:40.122806Z",
     "shell.execute_reply": "2024-07-19T14:08:40.121431Z",
     "shell.execute_reply.started": "2024-07-19T14:08:40.111389Z"
    }
   },
   "outputs": [
    {
     "data": {
      "text/plain": [
       "'2017-03-12T01:59:59-05:00'"
      ]
     },
     "execution_count": 113,
     "metadata": {},
     "output_type": "execute_result"
    }
   ],
   "source": [
    "EST = timezone(timedelta(hours=-5))\n",
    "EDT = timezone(timedelta(hours=-4))\n",
    "\n",
    "spring_ahead_159am = spring_ahead_159am.replace(tzinfo=EST)\n",
    "spring_ahead_159am.isoformat()\n"
   ]
  },
  {
   "cell_type": "code",
   "execution_count": 114,
   "id": "1b2c3818-8e52-4c1f-a6d3-bcf57d793ebb",
   "metadata": {
    "execution": {
     "iopub.execute_input": "2024-07-19T14:09:17.901102Z",
     "iopub.status.busy": "2024-07-19T14:09:17.898317Z",
     "iopub.status.idle": "2024-07-19T14:09:17.920627Z",
     "shell.execute_reply": "2024-07-19T14:09:17.919453Z",
     "shell.execute_reply.started": "2024-07-19T14:09:17.901027Z"
    }
   },
   "outputs": [
    {
     "data": {
      "text/plain": [
       "'2017-03-12T03:00:00-04:00'"
      ]
     },
     "execution_count": 114,
     "metadata": {},
     "output_type": "execute_result"
    }
   ],
   "source": [
    "spring_ahead_3am=spring_ahead_3am.replace(tzinfo=EDT)\n",
    "spring_ahead_3am.isoformat()"
   ]
  },
  {
   "cell_type": "code",
   "execution_count": 115,
   "id": "222c36f6-00ac-4c8a-b32a-fd879cfbdb3c",
   "metadata": {
    "execution": {
     "iopub.execute_input": "2024-07-19T14:09:25.606852Z",
     "iopub.status.busy": "2024-07-19T14:09:25.605725Z",
     "iopub.status.idle": "2024-07-19T14:09:25.635924Z",
     "shell.execute_reply": "2024-07-19T14:09:25.635155Z",
     "shell.execute_reply.started": "2024-07-19T14:09:25.606782Z"
    }
   },
   "outputs": [
    {
     "data": {
      "text/plain": [
       "1.0"
      ]
     },
     "execution_count": 115,
     "metadata": {},
     "output_type": "execute_result"
    }
   ],
   "source": [
    "(spring_ahead_3am - spring_ahead_159am).total_seconds()"
   ]
  },
  {
   "cell_type": "code",
   "execution_count": 116,
   "id": "564bf3d7-3332-402f-a527-f33a53230bf1",
   "metadata": {
    "execution": {
     "iopub.execute_input": "2024-07-19T14:10:01.429347Z",
     "iopub.status.busy": "2024-07-19T14:10:01.428208Z",
     "iopub.status.idle": "2024-07-19T14:10:01.439136Z",
     "shell.execute_reply": "2024-07-19T14:10:01.437929Z",
     "shell.execute_reply.started": "2024-07-19T14:10:01.429270Z"
    }
   },
   "outputs": [],
   "source": [
    "# But this approach sucks since this would require us to keep track of when the switching day is and so on"
   ]
  },
  {
   "cell_type": "code",
   "execution_count": 118,
   "id": "736d1212-b2f5-4f73-8f58-fbce74aea1be",
   "metadata": {
    "execution": {
     "iopub.execute_input": "2024-07-19T14:11:18.769487Z",
     "iopub.status.busy": "2024-07-19T14:11:18.768551Z",
     "iopub.status.idle": "2024-07-19T14:11:18.784892Z",
     "shell.execute_reply": "2024-07-19T14:11:18.783294Z",
     "shell.execute_reply.started": "2024-07-19T14:11:18.769438Z"
    }
   },
   "outputs": [
    {
     "data": {
      "text/plain": [
       "3601.0"
      ]
     },
     "execution_count": 118,
     "metadata": {},
     "output_type": "execute_result"
    }
   ],
   "source": [
    "eastern = tz.gettz('America/New_York')\n",
    "\n",
    "spring_ahead_159am = datetime(2017, 3, 12, 1, 59, 59, tzinfo = eastern)\n",
    "spring_ahead_3am = datetime(2017, 3, 12, 3, 0, 0, tzinfo = eastern)\n",
    "\n",
    "(spring_ahead_3am - spring_ahead_159am).total_seconds()"
   ]
  },
  {
   "cell_type": "code",
   "execution_count": 119,
   "id": "f534174a-c2b2-43b6-9deb-451df720aaf5",
   "metadata": {
    "execution": {
     "iopub.execute_input": "2024-07-19T14:35:32.117862Z",
     "iopub.status.busy": "2024-07-19T14:35:32.117368Z",
     "iopub.status.idle": "2024-07-19T14:35:32.139284Z",
     "shell.execute_reply": "2024-07-19T14:35:32.138264Z",
     "shell.execute_reply.started": "2024-07-19T14:35:32.117829Z"
    }
   },
   "outputs": [],
   "source": [
    "# When the clocks are back from 3am to 2am, to restore the usual time delta the methods ddatetime_ambibuaous and enfold are of help"
   ]
  },
  {
   "cell_type": "markdown",
   "id": "cc568ac6-8776-4a06-bf17-bcfb6c35bf43",
   "metadata": {},
   "source": [
    "# Dates and times in Pandas"
   ]
  },
  {
   "cell_type": "code",
   "execution_count": 120,
   "id": "4c95c8f6-02ea-4b53-b785-593199957ff8",
   "metadata": {
    "execution": {
     "iopub.execute_input": "2024-07-19T14:42:31.181466Z",
     "iopub.status.busy": "2024-07-19T14:42:31.180307Z",
     "iopub.status.idle": "2024-07-19T14:42:32.395591Z",
     "shell.execute_reply": "2024-07-19T14:42:32.395126Z",
     "shell.execute_reply.started": "2024-07-19T14:42:31.181390Z"
    }
   },
   "outputs": [],
   "source": [
    "import pandas as pd"
   ]
  },
  {
   "cell_type": "code",
   "execution_count": 123,
   "id": "15e65309-8de4-4143-82c9-ef48776994dc",
   "metadata": {
    "execution": {
     "iopub.execute_input": "2024-07-19T14:43:44.215158Z",
     "iopub.status.busy": "2024-07-19T14:43:44.213819Z",
     "iopub.status.idle": "2024-07-19T14:43:44.234410Z",
     "shell.execute_reply": "2024-07-19T14:43:44.233625Z",
     "shell.execute_reply.started": "2024-07-19T14:43:44.215087Z"
    }
   },
   "outputs": [],
   "source": [
    "rides = pd.read_csv('../data/capital-onebike.csv')"
   ]
  },
  {
   "cell_type": "code",
   "execution_count": 124,
   "id": "97f79d1c-dd27-4804-8486-43debed6f0e9",
   "metadata": {
    "execution": {
     "iopub.execute_input": "2024-07-19T14:43:45.275201Z",
     "iopub.status.busy": "2024-07-19T14:43:45.273210Z",
     "iopub.status.idle": "2024-07-19T14:43:45.297453Z",
     "shell.execute_reply": "2024-07-19T14:43:45.296622Z",
     "shell.execute_reply.started": "2024-07-19T14:43:45.275119Z"
    }
   },
   "outputs": [
    {
     "data": {
      "text/html": [
       "<div>\n",
       "<style scoped>\n",
       "    .dataframe tbody tr th:only-of-type {\n",
       "        vertical-align: middle;\n",
       "    }\n",
       "\n",
       "    .dataframe tbody tr th {\n",
       "        vertical-align: top;\n",
       "    }\n",
       "\n",
       "    .dataframe thead th {\n",
       "        text-align: right;\n",
       "    }\n",
       "</style>\n",
       "<table border=\"1\" class=\"dataframe\">\n",
       "  <thead>\n",
       "    <tr style=\"text-align: right;\">\n",
       "      <th></th>\n",
       "      <th>Start date</th>\n",
       "      <th>End date</th>\n",
       "      <th>Start station number</th>\n",
       "      <th>Start station</th>\n",
       "      <th>End station number</th>\n",
       "      <th>End station</th>\n",
       "      <th>Bike number</th>\n",
       "      <th>Member type</th>\n",
       "    </tr>\n",
       "  </thead>\n",
       "  <tbody>\n",
       "    <tr>\n",
       "      <th>0</th>\n",
       "      <td>2017-10-01 15:23:25</td>\n",
       "      <td>2017-10-01 15:26:26</td>\n",
       "      <td>31038</td>\n",
       "      <td>Glebe Rd &amp; 11th St N</td>\n",
       "      <td>31036</td>\n",
       "      <td>George Mason Dr &amp; Wilson Blvd</td>\n",
       "      <td>W20529</td>\n",
       "      <td>Member</td>\n",
       "    </tr>\n",
       "    <tr>\n",
       "      <th>1</th>\n",
       "      <td>2017-10-01 15:42:57</td>\n",
       "      <td>2017-10-01 17:49:59</td>\n",
       "      <td>31036</td>\n",
       "      <td>George Mason Dr &amp; Wilson Blvd</td>\n",
       "      <td>31036</td>\n",
       "      <td>George Mason Dr &amp; Wilson Blvd</td>\n",
       "      <td>W20529</td>\n",
       "      <td>Casual</td>\n",
       "    </tr>\n",
       "    <tr>\n",
       "      <th>2</th>\n",
       "      <td>2017-10-02 06:37:10</td>\n",
       "      <td>2017-10-02 06:42:53</td>\n",
       "      <td>31036</td>\n",
       "      <td>George Mason Dr &amp; Wilson Blvd</td>\n",
       "      <td>31037</td>\n",
       "      <td>Ballston Metro / N Stuart &amp; 9th St N</td>\n",
       "      <td>W20529</td>\n",
       "      <td>Member</td>\n",
       "    </tr>\n",
       "    <tr>\n",
       "      <th>3</th>\n",
       "      <td>2017-10-02 08:56:45</td>\n",
       "      <td>2017-10-02 09:18:03</td>\n",
       "      <td>31037</td>\n",
       "      <td>Ballston Metro / N Stuart &amp; 9th St N</td>\n",
       "      <td>31295</td>\n",
       "      <td>Potomac &amp; M St NW</td>\n",
       "      <td>W20529</td>\n",
       "      <td>Member</td>\n",
       "    </tr>\n",
       "    <tr>\n",
       "      <th>4</th>\n",
       "      <td>2017-10-02 18:23:48</td>\n",
       "      <td>2017-10-02 18:45:05</td>\n",
       "      <td>31295</td>\n",
       "      <td>Potomac &amp; M St NW</td>\n",
       "      <td>31230</td>\n",
       "      <td>Metro Center / 12th &amp; G St NW</td>\n",
       "      <td>W20529</td>\n",
       "      <td>Member</td>\n",
       "    </tr>\n",
       "  </tbody>\n",
       "</table>\n",
       "</div>"
      ],
      "text/plain": [
       "            Start date             End date  Start station number  \\\n",
       "0  2017-10-01 15:23:25  2017-10-01 15:26:26                 31038   \n",
       "1  2017-10-01 15:42:57  2017-10-01 17:49:59                 31036   \n",
       "2  2017-10-02 06:37:10  2017-10-02 06:42:53                 31036   \n",
       "3  2017-10-02 08:56:45  2017-10-02 09:18:03                 31037   \n",
       "4  2017-10-02 18:23:48  2017-10-02 18:45:05                 31295   \n",
       "\n",
       "                          Start station  End station number  \\\n",
       "0                  Glebe Rd & 11th St N               31036   \n",
       "1         George Mason Dr & Wilson Blvd               31036   \n",
       "2         George Mason Dr & Wilson Blvd               31037   \n",
       "3  Ballston Metro / N Stuart & 9th St N               31295   \n",
       "4                     Potomac & M St NW               31230   \n",
       "\n",
       "                            End station Bike number Member type  \n",
       "0         George Mason Dr & Wilson Blvd      W20529      Member  \n",
       "1         George Mason Dr & Wilson Blvd      W20529      Casual  \n",
       "2  Ballston Metro / N Stuart & 9th St N      W20529      Member  \n",
       "3                     Potomac & M St NW      W20529      Member  \n",
       "4         Metro Center / 12th & G St NW      W20529      Member  "
      ]
     },
     "execution_count": 124,
     "metadata": {},
     "output_type": "execute_result"
    }
   ],
   "source": [
    "rides.head()"
   ]
  },
  {
   "cell_type": "code",
   "execution_count": 125,
   "id": "d8c9209b-81b9-4380-b874-f73270cf30a3",
   "metadata": {
    "execution": {
     "iopub.execute_input": "2024-07-19T14:44:04.738538Z",
     "iopub.status.busy": "2024-07-19T14:44:04.737127Z",
     "iopub.status.idle": "2024-07-19T14:44:04.752653Z",
     "shell.execute_reply": "2024-07-19T14:44:04.751937Z",
     "shell.execute_reply.started": "2024-07-19T14:44:04.738466Z"
    }
   },
   "outputs": [
    {
     "data": {
      "text/plain": [
       "0      2017-10-01 15:23:25\n",
       "1      2017-10-01 15:42:57\n",
       "2      2017-10-02 06:37:10\n",
       "3      2017-10-02 08:56:45\n",
       "4      2017-10-02 18:23:48\n",
       "              ...         \n",
       "285    2017-12-29 14:32:55\n",
       "286    2017-12-29 15:08:26\n",
       "287    2017-12-29 20:33:34\n",
       "288    2017-12-30 13:51:03\n",
       "289    2017-12-30 15:09:03\n",
       "Name: Start date, Length: 290, dtype: object"
      ]
     },
     "execution_count": 125,
     "metadata": {},
     "output_type": "execute_result"
    }
   ],
   "source": [
    "rides['Start date']"
   ]
  },
  {
   "cell_type": "code",
   "execution_count": 126,
   "id": "b460b2ef-2477-4fe5-9743-4374edbfa0ac",
   "metadata": {
    "execution": {
     "iopub.execute_input": "2024-07-19T14:44:58.136372Z",
     "iopub.status.busy": "2024-07-19T14:44:58.135177Z",
     "iopub.status.idle": "2024-07-19T14:44:58.152428Z",
     "shell.execute_reply": "2024-07-19T14:44:58.151654Z",
     "shell.execute_reply.started": "2024-07-19T14:44:58.136287Z"
    }
   },
   "outputs": [
    {
     "data": {
      "text/plain": [
       "Start date                               2017-10-02 06:37:10\n",
       "End date                                 2017-10-02 06:42:53\n",
       "Start station number                                   31036\n",
       "Start station                  George Mason Dr & Wilson Blvd\n",
       "End station number                                     31037\n",
       "End station             Ballston Metro / N Stuart & 9th St N\n",
       "Bike number                                           W20529\n",
       "Member type                                           Member\n",
       "Name: 2, dtype: object"
      ]
     },
     "execution_count": 126,
     "metadata": {},
     "output_type": "execute_result"
    }
   ],
   "source": [
    "rides.iloc[2]"
   ]
  },
  {
   "cell_type": "code",
   "execution_count": 127,
   "id": "815d35de-da55-402e-be68-4ff83026a932",
   "metadata": {
    "execution": {
     "iopub.execute_input": "2024-07-19T14:56:59.302924Z",
     "iopub.status.busy": "2024-07-19T14:56:59.302128Z",
     "iopub.status.idle": "2024-07-19T14:56:59.319037Z",
     "shell.execute_reply": "2024-07-19T14:56:59.318164Z",
     "shell.execute_reply.started": "2024-07-19T14:56:59.302881Z"
    }
   },
   "outputs": [
    {
     "data": {
      "text/plain": [
       "Start date              object\n",
       "End date                object\n",
       "Start station number     int64\n",
       "Start station           object\n",
       "End station number       int64\n",
       "End station             object\n",
       "Bike number             object\n",
       "Member type             object\n",
       "dtype: object"
      ]
     },
     "execution_count": 127,
     "metadata": {},
     "output_type": "execute_result"
    }
   ],
   "source": [
    "rides.dtypes"
   ]
  },
  {
   "cell_type": "code",
   "execution_count": 128,
   "id": "fd42dd73-4042-4971-bf9c-b7ccc2f49b25",
   "metadata": {
    "execution": {
     "iopub.execute_input": "2024-07-19T14:57:30.608200Z",
     "iopub.status.busy": "2024-07-19T14:57:30.606860Z",
     "iopub.status.idle": "2024-07-19T14:57:30.637014Z",
     "shell.execute_reply": "2024-07-19T14:57:30.636377Z",
     "shell.execute_reply.started": "2024-07-19T14:57:30.608126Z"
    }
   },
   "outputs": [],
   "source": [
    "rides = pd.read_csv('../data/capital-onebike.csv', parse_dates=['Start date', 'End date'])"
   ]
  },
  {
   "cell_type": "code",
   "execution_count": 129,
   "id": "fe48a4cc-24da-48bc-aad8-53f3bd9a8b4c",
   "metadata": {
    "execution": {
     "iopub.execute_input": "2024-07-19T14:59:13.394149Z",
     "iopub.status.busy": "2024-07-19T14:59:13.393344Z",
     "iopub.status.idle": "2024-07-19T14:59:13.411541Z",
     "shell.execute_reply": "2024-07-19T14:59:13.410705Z",
     "shell.execute_reply.started": "2024-07-19T14:59:13.394109Z"
    }
   },
   "outputs": [
    {
     "data": {
      "text/plain": [
       "Start date              datetime64[ns]\n",
       "End date                datetime64[ns]\n",
       "Start station number             int64\n",
       "Start station                   object\n",
       "End station number               int64\n",
       "End station                     object\n",
       "Bike number                     object\n",
       "Member type                     object\n",
       "dtype: object"
      ]
     },
     "execution_count": 129,
     "metadata": {},
     "output_type": "execute_result"
    }
   ],
   "source": [
    "rides.dtypes"
   ]
  },
  {
   "cell_type": "code",
   "execution_count": 130,
   "id": "3d29b296-2ebe-44f4-8c9b-1ce919e16376",
   "metadata": {
    "execution": {
     "iopub.execute_input": "2024-07-19T15:00:26.360792Z",
     "iopub.status.busy": "2024-07-19T15:00:26.359824Z",
     "iopub.status.idle": "2024-07-19T15:00:26.374962Z",
     "shell.execute_reply": "2024-07-19T15:00:26.373912Z",
     "shell.execute_reply.started": "2024-07-19T15:00:26.360732Z"
    }
   },
   "outputs": [],
   "source": [
    "rides['duration'] = rides['End date'] - rides['Start date']"
   ]
  },
  {
   "cell_type": "code",
   "execution_count": 131,
   "id": "acf23c44-d955-4ef6-8d91-00162681394c",
   "metadata": {
    "execution": {
     "iopub.execute_input": "2024-07-19T15:00:56.058833Z",
     "iopub.status.busy": "2024-07-19T15:00:56.057514Z",
     "iopub.status.idle": "2024-07-19T15:00:56.077029Z",
     "shell.execute_reply": "2024-07-19T15:00:56.076303Z",
     "shell.execute_reply.started": "2024-07-19T15:00:56.058771Z"
    }
   },
   "outputs": [
    {
     "data": {
      "text/plain": [
       "Start date               datetime64[ns]\n",
       "End date                 datetime64[ns]\n",
       "Start station number              int64\n",
       "Start station                    object\n",
       "End station number                int64\n",
       "End station                      object\n",
       "Bike number                      object\n",
       "Member type                      object\n",
       "duration                timedelta64[ns]\n",
       "dtype: object"
      ]
     },
     "execution_count": 131,
     "metadata": {},
     "output_type": "execute_result"
    }
   ],
   "source": [
    "rides.dtypes"
   ]
  },
  {
   "cell_type": "code",
   "execution_count": 132,
   "id": "dd787475-4a07-4a79-9856-a6d368012ed8",
   "metadata": {
    "execution": {
     "iopub.execute_input": "2024-07-19T15:01:02.548010Z",
     "iopub.status.busy": "2024-07-19T15:01:02.546765Z",
     "iopub.status.idle": "2024-07-19T15:01:02.569797Z",
     "shell.execute_reply": "2024-07-19T15:01:02.569227Z",
     "shell.execute_reply.started": "2024-07-19T15:01:02.547933Z"
    }
   },
   "outputs": [
    {
     "data": {
      "text/html": [
       "<div>\n",
       "<style scoped>\n",
       "    .dataframe tbody tr th:only-of-type {\n",
       "        vertical-align: middle;\n",
       "    }\n",
       "\n",
       "    .dataframe tbody tr th {\n",
       "        vertical-align: top;\n",
       "    }\n",
       "\n",
       "    .dataframe thead th {\n",
       "        text-align: right;\n",
       "    }\n",
       "</style>\n",
       "<table border=\"1\" class=\"dataframe\">\n",
       "  <thead>\n",
       "    <tr style=\"text-align: right;\">\n",
       "      <th></th>\n",
       "      <th>Start date</th>\n",
       "      <th>End date</th>\n",
       "      <th>Start station number</th>\n",
       "      <th>Start station</th>\n",
       "      <th>End station number</th>\n",
       "      <th>End station</th>\n",
       "      <th>Bike number</th>\n",
       "      <th>Member type</th>\n",
       "      <th>duration</th>\n",
       "    </tr>\n",
       "  </thead>\n",
       "  <tbody>\n",
       "    <tr>\n",
       "      <th>0</th>\n",
       "      <td>2017-10-01 15:23:25</td>\n",
       "      <td>2017-10-01 15:26:26</td>\n",
       "      <td>31038</td>\n",
       "      <td>Glebe Rd &amp; 11th St N</td>\n",
       "      <td>31036</td>\n",
       "      <td>George Mason Dr &amp; Wilson Blvd</td>\n",
       "      <td>W20529</td>\n",
       "      <td>Member</td>\n",
       "      <td>0 days 00:03:01</td>\n",
       "    </tr>\n",
       "    <tr>\n",
       "      <th>1</th>\n",
       "      <td>2017-10-01 15:42:57</td>\n",
       "      <td>2017-10-01 17:49:59</td>\n",
       "      <td>31036</td>\n",
       "      <td>George Mason Dr &amp; Wilson Blvd</td>\n",
       "      <td>31036</td>\n",
       "      <td>George Mason Dr &amp; Wilson Blvd</td>\n",
       "      <td>W20529</td>\n",
       "      <td>Casual</td>\n",
       "      <td>0 days 02:07:02</td>\n",
       "    </tr>\n",
       "    <tr>\n",
       "      <th>2</th>\n",
       "      <td>2017-10-02 06:37:10</td>\n",
       "      <td>2017-10-02 06:42:53</td>\n",
       "      <td>31036</td>\n",
       "      <td>George Mason Dr &amp; Wilson Blvd</td>\n",
       "      <td>31037</td>\n",
       "      <td>Ballston Metro / N Stuart &amp; 9th St N</td>\n",
       "      <td>W20529</td>\n",
       "      <td>Member</td>\n",
       "      <td>0 days 00:05:43</td>\n",
       "    </tr>\n",
       "    <tr>\n",
       "      <th>3</th>\n",
       "      <td>2017-10-02 08:56:45</td>\n",
       "      <td>2017-10-02 09:18:03</td>\n",
       "      <td>31037</td>\n",
       "      <td>Ballston Metro / N Stuart &amp; 9th St N</td>\n",
       "      <td>31295</td>\n",
       "      <td>Potomac &amp; M St NW</td>\n",
       "      <td>W20529</td>\n",
       "      <td>Member</td>\n",
       "      <td>0 days 00:21:18</td>\n",
       "    </tr>\n",
       "    <tr>\n",
       "      <th>4</th>\n",
       "      <td>2017-10-02 18:23:48</td>\n",
       "      <td>2017-10-02 18:45:05</td>\n",
       "      <td>31295</td>\n",
       "      <td>Potomac &amp; M St NW</td>\n",
       "      <td>31230</td>\n",
       "      <td>Metro Center / 12th &amp; G St NW</td>\n",
       "      <td>W20529</td>\n",
       "      <td>Member</td>\n",
       "      <td>0 days 00:21:17</td>\n",
       "    </tr>\n",
       "  </tbody>\n",
       "</table>\n",
       "</div>"
      ],
      "text/plain": [
       "           Start date            End date  Start station number  \\\n",
       "0 2017-10-01 15:23:25 2017-10-01 15:26:26                 31038   \n",
       "1 2017-10-01 15:42:57 2017-10-01 17:49:59                 31036   \n",
       "2 2017-10-02 06:37:10 2017-10-02 06:42:53                 31036   \n",
       "3 2017-10-02 08:56:45 2017-10-02 09:18:03                 31037   \n",
       "4 2017-10-02 18:23:48 2017-10-02 18:45:05                 31295   \n",
       "\n",
       "                          Start station  End station number  \\\n",
       "0                  Glebe Rd & 11th St N               31036   \n",
       "1         George Mason Dr & Wilson Blvd               31036   \n",
       "2         George Mason Dr & Wilson Blvd               31037   \n",
       "3  Ballston Metro / N Stuart & 9th St N               31295   \n",
       "4                     Potomac & M St NW               31230   \n",
       "\n",
       "                            End station Bike number Member type  \\\n",
       "0         George Mason Dr & Wilson Blvd      W20529      Member   \n",
       "1         George Mason Dr & Wilson Blvd      W20529      Casual   \n",
       "2  Ballston Metro / N Stuart & 9th St N      W20529      Member   \n",
       "3                     Potomac & M St NW      W20529      Member   \n",
       "4         Metro Center / 12th & G St NW      W20529      Member   \n",
       "\n",
       "         duration  \n",
       "0 0 days 00:03:01  \n",
       "1 0 days 02:07:02  \n",
       "2 0 days 00:05:43  \n",
       "3 0 days 00:21:18  \n",
       "4 0 days 00:21:17  "
      ]
     },
     "execution_count": 132,
     "metadata": {},
     "output_type": "execute_result"
    }
   ],
   "source": [
    "rides.head()"
   ]
  },
  {
   "cell_type": "code",
   "execution_count": 141,
   "id": "3f6b32fc-b389-40bf-9598-bf2fb8c85eda",
   "metadata": {
    "execution": {
     "iopub.execute_input": "2024-07-19T15:15:54.206917Z",
     "iopub.status.busy": "2024-07-19T15:15:54.206057Z",
     "iopub.status.idle": "2024-07-19T15:15:54.221576Z",
     "shell.execute_reply": "2024-07-19T15:15:54.220224Z",
     "shell.execute_reply.started": "2024-07-19T15:15:54.206868Z"
    }
   },
   "outputs": [],
   "source": [
    "rides['duration seconds'] = rides['duration'].dt.total_seconds()"
   ]
  },
  {
   "cell_type": "code",
   "execution_count": 142,
   "id": "d60fd089-a127-43da-a27c-30fc1e6ee3bd",
   "metadata": {
    "execution": {
     "iopub.execute_input": "2024-07-19T15:15:55.235426Z",
     "iopub.status.busy": "2024-07-19T15:15:55.234586Z",
     "iopub.status.idle": "2024-07-19T15:15:55.257026Z",
     "shell.execute_reply": "2024-07-19T15:15:55.256388Z",
     "shell.execute_reply.started": "2024-07-19T15:15:55.235379Z"
    }
   },
   "outputs": [
    {
     "data": {
      "text/html": [
       "<div>\n",
       "<style scoped>\n",
       "    .dataframe tbody tr th:only-of-type {\n",
       "        vertical-align: middle;\n",
       "    }\n",
       "\n",
       "    .dataframe tbody tr th {\n",
       "        vertical-align: top;\n",
       "    }\n",
       "\n",
       "    .dataframe thead th {\n",
       "        text-align: right;\n",
       "    }\n",
       "</style>\n",
       "<table border=\"1\" class=\"dataframe\">\n",
       "  <thead>\n",
       "    <tr style=\"text-align: right;\">\n",
       "      <th></th>\n",
       "      <th>Start date</th>\n",
       "      <th>End date</th>\n",
       "      <th>Start station number</th>\n",
       "      <th>Start station</th>\n",
       "      <th>End station number</th>\n",
       "      <th>End station</th>\n",
       "      <th>Bike number</th>\n",
       "      <th>Member type</th>\n",
       "      <th>duration</th>\n",
       "      <th>duration seconds</th>\n",
       "    </tr>\n",
       "  </thead>\n",
       "  <tbody>\n",
       "    <tr>\n",
       "      <th>0</th>\n",
       "      <td>2017-10-01 15:23:25</td>\n",
       "      <td>2017-10-01 15:26:26</td>\n",
       "      <td>31038</td>\n",
       "      <td>Glebe Rd &amp; 11th St N</td>\n",
       "      <td>31036</td>\n",
       "      <td>George Mason Dr &amp; Wilson Blvd</td>\n",
       "      <td>W20529</td>\n",
       "      <td>Member</td>\n",
       "      <td>0 days 00:03:01</td>\n",
       "      <td>181.0</td>\n",
       "    </tr>\n",
       "    <tr>\n",
       "      <th>1</th>\n",
       "      <td>2017-10-01 15:42:57</td>\n",
       "      <td>2017-10-01 17:49:59</td>\n",
       "      <td>31036</td>\n",
       "      <td>George Mason Dr &amp; Wilson Blvd</td>\n",
       "      <td>31036</td>\n",
       "      <td>George Mason Dr &amp; Wilson Blvd</td>\n",
       "      <td>W20529</td>\n",
       "      <td>Casual</td>\n",
       "      <td>0 days 02:07:02</td>\n",
       "      <td>7622.0</td>\n",
       "    </tr>\n",
       "    <tr>\n",
       "      <th>2</th>\n",
       "      <td>2017-10-02 06:37:10</td>\n",
       "      <td>2017-10-02 06:42:53</td>\n",
       "      <td>31036</td>\n",
       "      <td>George Mason Dr &amp; Wilson Blvd</td>\n",
       "      <td>31037</td>\n",
       "      <td>Ballston Metro / N Stuart &amp; 9th St N</td>\n",
       "      <td>W20529</td>\n",
       "      <td>Member</td>\n",
       "      <td>0 days 00:05:43</td>\n",
       "      <td>343.0</td>\n",
       "    </tr>\n",
       "    <tr>\n",
       "      <th>3</th>\n",
       "      <td>2017-10-02 08:56:45</td>\n",
       "      <td>2017-10-02 09:18:03</td>\n",
       "      <td>31037</td>\n",
       "      <td>Ballston Metro / N Stuart &amp; 9th St N</td>\n",
       "      <td>31295</td>\n",
       "      <td>Potomac &amp; M St NW</td>\n",
       "      <td>W20529</td>\n",
       "      <td>Member</td>\n",
       "      <td>0 days 00:21:18</td>\n",
       "      <td>1278.0</td>\n",
       "    </tr>\n",
       "    <tr>\n",
       "      <th>4</th>\n",
       "      <td>2017-10-02 18:23:48</td>\n",
       "      <td>2017-10-02 18:45:05</td>\n",
       "      <td>31295</td>\n",
       "      <td>Potomac &amp; M St NW</td>\n",
       "      <td>31230</td>\n",
       "      <td>Metro Center / 12th &amp; G St NW</td>\n",
       "      <td>W20529</td>\n",
       "      <td>Member</td>\n",
       "      <td>0 days 00:21:17</td>\n",
       "      <td>1277.0</td>\n",
       "    </tr>\n",
       "  </tbody>\n",
       "</table>\n",
       "</div>"
      ],
      "text/plain": [
       "           Start date            End date  Start station number  \\\n",
       "0 2017-10-01 15:23:25 2017-10-01 15:26:26                 31038   \n",
       "1 2017-10-01 15:42:57 2017-10-01 17:49:59                 31036   \n",
       "2 2017-10-02 06:37:10 2017-10-02 06:42:53                 31036   \n",
       "3 2017-10-02 08:56:45 2017-10-02 09:18:03                 31037   \n",
       "4 2017-10-02 18:23:48 2017-10-02 18:45:05                 31295   \n",
       "\n",
       "                          Start station  End station number  \\\n",
       "0                  Glebe Rd & 11th St N               31036   \n",
       "1         George Mason Dr & Wilson Blvd               31036   \n",
       "2         George Mason Dr & Wilson Blvd               31037   \n",
       "3  Ballston Metro / N Stuart & 9th St N               31295   \n",
       "4                     Potomac & M St NW               31230   \n",
       "\n",
       "                            End station Bike number Member type  \\\n",
       "0         George Mason Dr & Wilson Blvd      W20529      Member   \n",
       "1         George Mason Dr & Wilson Blvd      W20529      Casual   \n",
       "2  Ballston Metro / N Stuart & 9th St N      W20529      Member   \n",
       "3                     Potomac & M St NW      W20529      Member   \n",
       "4         Metro Center / 12th & G St NW      W20529      Member   \n",
       "\n",
       "         duration  duration seconds  \n",
       "0 0 days 00:03:01             181.0  \n",
       "1 0 days 02:07:02            7622.0  \n",
       "2 0 days 00:05:43             343.0  \n",
       "3 0 days 00:21:18            1278.0  \n",
       "4 0 days 00:21:17            1277.0  "
      ]
     },
     "execution_count": 142,
     "metadata": {},
     "output_type": "execute_result"
    }
   ],
   "source": [
    "rides.head()"
   ]
  },
  {
   "cell_type": "code",
   "execution_count": 136,
   "id": "de37fbe1-9a1f-4b06-95a8-b067702eeb6d",
   "metadata": {
    "execution": {
     "iopub.execute_input": "2024-07-19T15:04:41.644527Z",
     "iopub.status.busy": "2024-07-19T15:04:41.643351Z",
     "iopub.status.idle": "2024-07-19T15:04:41.660064Z",
     "shell.execute_reply": "2024-07-19T15:04:41.658777Z",
     "shell.execute_reply.started": "2024-07-19T15:04:41.644452Z"
    }
   },
   "outputs": [
    {
     "data": {
      "text/plain": [
       "Start date              datetime64[ns]\n",
       "End date                datetime64[ns]\n",
       "Start station number             int64\n",
       "Start station                   object\n",
       "End station number               int64\n",
       "End station                     object\n",
       "Bike number                     object\n",
       "Member type                     object\n",
       "duration                       float64\n",
       "dtype: object"
      ]
     },
     "execution_count": 136,
     "metadata": {},
     "output_type": "execute_result"
    }
   ],
   "source": [
    "rides.dtypes"
   ]
  },
  {
   "cell_type": "code",
   "execution_count": 138,
   "id": "e4816bf6-1ef0-43c7-b29b-cfb7b329eb31",
   "metadata": {
    "execution": {
     "iopub.execute_input": "2024-07-19T15:09:38.836922Z",
     "iopub.status.busy": "2024-07-19T15:09:38.835697Z",
     "iopub.status.idle": "2024-07-19T15:09:38.849021Z",
     "shell.execute_reply": "2024-07-19T15:09:38.847985Z",
     "shell.execute_reply.started": "2024-07-19T15:09:38.836874Z"
    }
   },
   "outputs": [
    {
     "data": {
      "text/plain": [
       "np.float64(1178.9310344827586)"
      ]
     },
     "execution_count": 138,
     "metadata": {},
     "output_type": "execute_result"
    }
   ],
   "source": [
    "rides.duration.mean()"
   ]
  },
  {
   "cell_type": "code",
   "execution_count": 140,
   "id": "83a1d2f4-fb69-48bd-b3b7-ab63a3aa1a5f",
   "metadata": {
    "execution": {
     "iopub.execute_input": "2024-07-19T15:10:34.445523Z",
     "iopub.status.busy": "2024-07-19T15:10:34.444134Z",
     "iopub.status.idle": "2024-07-19T15:10:34.463712Z",
     "shell.execute_reply": "2024-07-19T15:10:34.463040Z",
     "shell.execute_reply.started": "2024-07-19T15:10:34.445447Z"
    }
   },
   "outputs": [
    {
     "data": {
      "text/plain": [
       "0.04348417785917786"
      ]
     },
     "execution_count": 140,
     "metadata": {},
     "output_type": "execute_result"
    }
   ],
   "source": [
    "rides['duration'] = rides['End date'] - rides['Start date']\n",
    "rides.duration.sum()/timedelta(days=91)"
   ]
  },
  {
   "cell_type": "code",
   "execution_count": 143,
   "id": "cc5e7143-63e8-4b25-8073-f9f83c83f20d",
   "metadata": {
    "execution": {
     "iopub.execute_input": "2024-07-19T15:16:02.582879Z",
     "iopub.status.busy": "2024-07-19T15:16:02.581711Z",
     "iopub.status.idle": "2024-07-19T15:16:02.608334Z",
     "shell.execute_reply": "2024-07-19T15:16:02.607825Z",
     "shell.execute_reply.started": "2024-07-19T15:16:02.582808Z"
    }
   },
   "outputs": [
    {
     "name": "stderr",
     "output_type": "stream",
     "text": [
      "/var/folders/tx/44c409ls4bvf__rjhb2qjmf40000gn/T/ipykernel_7148/3557841886.py:3: FutureWarning: 'M' is deprecated and will be removed in a future version, please use 'ME' instead.\n",
      "  rides.resample('M', on = 'Start date')['duration seconds'].mean()\n"
     ]
    },
    {
     "data": {
      "text/plain": [
       "Start date\n",
       "2017-10-31    1886.453704\n",
       "2017-11-30     854.174757\n",
       "2017-12-31     635.101266\n",
       "Freq: ME, Name: duration seconds, dtype: float64"
      ]
     },
     "execution_count": 143,
     "metadata": {},
     "output_type": "execute_result"
    }
   ],
   "source": [
    "# average duration by month\n",
    "\n",
    "rides.resample('M', on = 'Start date')['duration seconds'].mean()"
   ]
  },
  {
   "cell_type": "code",
   "execution_count": 146,
   "id": "96642dc2-f027-4595-94b8-9347f91982b4",
   "metadata": {
    "execution": {
     "iopub.execute_input": "2024-07-19T15:35:09.714956Z",
     "iopub.status.busy": "2024-07-19T15:35:09.713731Z",
     "iopub.status.idle": "2024-07-19T15:35:09.730806Z",
     "shell.execute_reply": "2024-07-19T15:35:09.729911Z",
     "shell.execute_reply.started": "2024-07-19T15:35:09.714898Z"
    }
   },
   "outputs": [
    {
     "data": {
      "text/plain": [
       "np.float64(-3346.0)"
      ]
     },
     "execution_count": 146,
     "metadata": {},
     "output_type": "execute_result"
    }
   ],
   "source": [
    "# There is no timezone associated to the datetimes in the dataframe, so...\n",
    "rides['duration'].dt.total_seconds().min()"
   ]
  },
  {
   "cell_type": "code",
   "execution_count": 148,
   "id": "3aeba4eb-1c74-4b38-b6bc-5e48343e0d4b",
   "metadata": {
    "execution": {
     "iopub.execute_input": "2024-07-19T15:37:09.220321Z",
     "iopub.status.busy": "2024-07-19T15:37:09.219546Z",
     "iopub.status.idle": "2024-07-19T15:37:09.279364Z",
     "shell.execute_reply": "2024-07-19T15:37:09.278820Z",
     "shell.execute_reply.started": "2024-07-19T15:37:09.220281Z"
    }
   },
   "outputs": [
    {
     "data": {
      "text/plain": [
       "0   2017-10-01 15:23:25-04:00\n",
       "1   2017-10-01 15:42:57-04:00\n",
       "2   2017-10-02 06:37:10-04:00\n",
       "3   2017-10-02 08:56:45-04:00\n",
       "4   2017-10-02 18:23:48-04:00\n",
       "Name: Start date, dtype: datetime64[ns, America/New_York]"
      ]
     },
     "execution_count": 148,
     "metadata": {},
     "output_type": "execute_result"
    }
   ],
   "source": [
    "# Lets assign a time zone to the datetime columns\n",
    "rides['Start date'].head().dt.tz_localize('America/New_York')"
   ]
  },
  {
   "cell_type": "code",
   "execution_count": 149,
   "id": "dbc8c6c2-31f0-40db-9b3c-3aad8bbb52e5",
   "metadata": {
    "execution": {
     "iopub.execute_input": "2024-07-19T15:42:04.846614Z",
     "iopub.status.busy": "2024-07-19T15:42:04.845457Z",
     "iopub.status.idle": "2024-07-19T15:42:05.055336Z",
     "shell.execute_reply": "2024-07-19T15:42:05.054340Z",
     "shell.execute_reply.started": "2024-07-19T15:42:04.846544Z"
    }
   },
   "outputs": [
    {
     "ename": "AmbiguousTimeError",
     "evalue": "Cannot infer dst time from 2017-11-05 01:56:50, try using the 'ambiguous' argument",
     "output_type": "error",
     "traceback": [
      "\u001b[0;31m---------------------------------------------------------------------------\u001b[0m",
      "\u001b[0;31mAmbiguousTimeError\u001b[0m                        Traceback (most recent call last)",
      "Cell \u001b[0;32mIn[149], line 1\u001b[0m\n\u001b[0;32m----> 1\u001b[0m rides[\u001b[38;5;124m'\u001b[39m\u001b[38;5;124mStart date\u001b[39m\u001b[38;5;124m'\u001b[39m]\u001b[38;5;241m=\u001b[39m\u001b[43mrides\u001b[49m\u001b[43m[\u001b[49m\u001b[38;5;124;43m'\u001b[39;49m\u001b[38;5;124;43mStart date\u001b[39;49m\u001b[38;5;124;43m'\u001b[39;49m\u001b[43m]\u001b[49m\u001b[38;5;241;43m.\u001b[39;49m\u001b[43mdt\u001b[49m\u001b[38;5;241;43m.\u001b[39;49m\u001b[43mtz_localize\u001b[49m\u001b[43m(\u001b[49m\u001b[38;5;124;43m'\u001b[39;49m\u001b[38;5;124;43mAmerica/New_York\u001b[39;49m\u001b[38;5;124;43m'\u001b[39;49m\u001b[43m)\u001b[49m\n",
      "File \u001b[0;32m/opt/anaconda3/envs/ISLP_new/lib/python3.12/site-packages/pandas/core/accessor.py:112\u001b[0m, in \u001b[0;36mPandasDelegate._add_delegate_accessors.<locals>._create_delegator_method.<locals>.f\u001b[0;34m(self, *args, **kwargs)\u001b[0m\n\u001b[1;32m    111\u001b[0m \u001b[38;5;28;01mdef\u001b[39;00m \u001b[38;5;21mf\u001b[39m(\u001b[38;5;28mself\u001b[39m, \u001b[38;5;241m*\u001b[39margs, \u001b[38;5;241m*\u001b[39m\u001b[38;5;241m*\u001b[39mkwargs):\n\u001b[0;32m--> 112\u001b[0m     \u001b[38;5;28;01mreturn\u001b[39;00m \u001b[38;5;28;43mself\u001b[39;49m\u001b[38;5;241;43m.\u001b[39;49m\u001b[43m_delegate_method\u001b[49m\u001b[43m(\u001b[49m\u001b[43mname\u001b[49m\u001b[43m,\u001b[49m\u001b[43m \u001b[49m\u001b[38;5;241;43m*\u001b[39;49m\u001b[43margs\u001b[49m\u001b[43m,\u001b[49m\u001b[43m \u001b[49m\u001b[38;5;241;43m*\u001b[39;49m\u001b[38;5;241;43m*\u001b[39;49m\u001b[43mkwargs\u001b[49m\u001b[43m)\u001b[49m\n",
      "File \u001b[0;32m/opt/anaconda3/envs/ISLP_new/lib/python3.12/site-packages/pandas/core/indexes/accessors.py:132\u001b[0m, in \u001b[0;36mProperties._delegate_method\u001b[0;34m(self, name, *args, **kwargs)\u001b[0m\n\u001b[1;32m    129\u001b[0m values \u001b[38;5;241m=\u001b[39m \u001b[38;5;28mself\u001b[39m\u001b[38;5;241m.\u001b[39m_get_values()\n\u001b[1;32m    131\u001b[0m method \u001b[38;5;241m=\u001b[39m \u001b[38;5;28mgetattr\u001b[39m(values, name)\n\u001b[0;32m--> 132\u001b[0m result \u001b[38;5;241m=\u001b[39m \u001b[43mmethod\u001b[49m\u001b[43m(\u001b[49m\u001b[38;5;241;43m*\u001b[39;49m\u001b[43margs\u001b[49m\u001b[43m,\u001b[49m\u001b[43m \u001b[49m\u001b[38;5;241;43m*\u001b[39;49m\u001b[38;5;241;43m*\u001b[39;49m\u001b[43mkwargs\u001b[49m\u001b[43m)\u001b[49m\n\u001b[1;32m    134\u001b[0m \u001b[38;5;28;01mif\u001b[39;00m \u001b[38;5;129;01mnot\u001b[39;00m is_list_like(result):\n\u001b[1;32m    135\u001b[0m     \u001b[38;5;28;01mreturn\u001b[39;00m result\n",
      "File \u001b[0;32m/opt/anaconda3/envs/ISLP_new/lib/python3.12/site-packages/pandas/core/indexes/datetimes.py:293\u001b[0m, in \u001b[0;36mDatetimeIndex.tz_localize\u001b[0;34m(self, tz, ambiguous, nonexistent)\u001b[0m\n\u001b[1;32m    286\u001b[0m \u001b[38;5;129m@doc\u001b[39m(DatetimeArray\u001b[38;5;241m.\u001b[39mtz_localize)\n\u001b[1;32m    287\u001b[0m \u001b[38;5;28;01mdef\u001b[39;00m \u001b[38;5;21mtz_localize\u001b[39m(\n\u001b[1;32m    288\u001b[0m     \u001b[38;5;28mself\u001b[39m,\n\u001b[0;32m   (...)\u001b[0m\n\u001b[1;32m    291\u001b[0m     nonexistent: TimeNonexistent \u001b[38;5;241m=\u001b[39m \u001b[38;5;124m\"\u001b[39m\u001b[38;5;124mraise\u001b[39m\u001b[38;5;124m\"\u001b[39m,\n\u001b[1;32m    292\u001b[0m ) \u001b[38;5;241m-\u001b[39m\u001b[38;5;241m>\u001b[39m Self:\n\u001b[0;32m--> 293\u001b[0m     arr \u001b[38;5;241m=\u001b[39m \u001b[38;5;28;43mself\u001b[39;49m\u001b[38;5;241;43m.\u001b[39;49m\u001b[43m_data\u001b[49m\u001b[38;5;241;43m.\u001b[39;49m\u001b[43mtz_localize\u001b[49m\u001b[43m(\u001b[49m\u001b[43mtz\u001b[49m\u001b[43m,\u001b[49m\u001b[43m \u001b[49m\u001b[43mambiguous\u001b[49m\u001b[43m,\u001b[49m\u001b[43m \u001b[49m\u001b[43mnonexistent\u001b[49m\u001b[43m)\u001b[49m\n\u001b[1;32m    294\u001b[0m     \u001b[38;5;28;01mreturn\u001b[39;00m \u001b[38;5;28mtype\u001b[39m(\u001b[38;5;28mself\u001b[39m)\u001b[38;5;241m.\u001b[39m_simple_new(arr, name\u001b[38;5;241m=\u001b[39m\u001b[38;5;28mself\u001b[39m\u001b[38;5;241m.\u001b[39mname)\n",
      "File \u001b[0;32m/opt/anaconda3/envs/ISLP_new/lib/python3.12/site-packages/pandas/core/arrays/_mixins.py:81\u001b[0m, in \u001b[0;36mravel_compat.<locals>.method\u001b[0;34m(self, *args, **kwargs)\u001b[0m\n\u001b[1;32m     78\u001b[0m \u001b[38;5;129m@wraps\u001b[39m(meth)\n\u001b[1;32m     79\u001b[0m \u001b[38;5;28;01mdef\u001b[39;00m \u001b[38;5;21mmethod\u001b[39m(\u001b[38;5;28mself\u001b[39m, \u001b[38;5;241m*\u001b[39margs, \u001b[38;5;241m*\u001b[39m\u001b[38;5;241m*\u001b[39mkwargs):\n\u001b[1;32m     80\u001b[0m     \u001b[38;5;28;01mif\u001b[39;00m \u001b[38;5;28mself\u001b[39m\u001b[38;5;241m.\u001b[39mndim \u001b[38;5;241m==\u001b[39m \u001b[38;5;241m1\u001b[39m:\n\u001b[0;32m---> 81\u001b[0m         \u001b[38;5;28;01mreturn\u001b[39;00m \u001b[43mmeth\u001b[49m\u001b[43m(\u001b[49m\u001b[38;5;28;43mself\u001b[39;49m\u001b[43m,\u001b[49m\u001b[43m \u001b[49m\u001b[38;5;241;43m*\u001b[39;49m\u001b[43margs\u001b[49m\u001b[43m,\u001b[49m\u001b[43m \u001b[49m\u001b[38;5;241;43m*\u001b[39;49m\u001b[38;5;241;43m*\u001b[39;49m\u001b[43mkwargs\u001b[49m\u001b[43m)\u001b[49m\n\u001b[1;32m     83\u001b[0m     flags \u001b[38;5;241m=\u001b[39m \u001b[38;5;28mself\u001b[39m\u001b[38;5;241m.\u001b[39m_ndarray\u001b[38;5;241m.\u001b[39mflags\n\u001b[1;32m     84\u001b[0m     flat \u001b[38;5;241m=\u001b[39m \u001b[38;5;28mself\u001b[39m\u001b[38;5;241m.\u001b[39mravel(\u001b[38;5;124m\"\u001b[39m\u001b[38;5;124mK\u001b[39m\u001b[38;5;124m\"\u001b[39m)\n",
      "File \u001b[0;32m/opt/anaconda3/envs/ISLP_new/lib/python3.12/site-packages/pandas/core/arrays/datetimes.py:1088\u001b[0m, in \u001b[0;36mDatetimeArray.tz_localize\u001b[0;34m(self, tz, ambiguous, nonexistent)\u001b[0m\n\u001b[1;32m   1085\u001b[0m     tz \u001b[38;5;241m=\u001b[39m timezones\u001b[38;5;241m.\u001b[39mmaybe_get_tz(tz)\n\u001b[1;32m   1086\u001b[0m     \u001b[38;5;66;03m# Convert to UTC\u001b[39;00m\n\u001b[0;32m-> 1088\u001b[0m     new_dates \u001b[38;5;241m=\u001b[39m \u001b[43mtzconversion\u001b[49m\u001b[38;5;241;43m.\u001b[39;49m\u001b[43mtz_localize_to_utc\u001b[49m\u001b[43m(\u001b[49m\n\u001b[1;32m   1089\u001b[0m \u001b[43m        \u001b[49m\u001b[38;5;28;43mself\u001b[39;49m\u001b[38;5;241;43m.\u001b[39;49m\u001b[43masi8\u001b[49m\u001b[43m,\u001b[49m\n\u001b[1;32m   1090\u001b[0m \u001b[43m        \u001b[49m\u001b[43mtz\u001b[49m\u001b[43m,\u001b[49m\n\u001b[1;32m   1091\u001b[0m \u001b[43m        \u001b[49m\u001b[43mambiguous\u001b[49m\u001b[38;5;241;43m=\u001b[39;49m\u001b[43mambiguous\u001b[49m\u001b[43m,\u001b[49m\n\u001b[1;32m   1092\u001b[0m \u001b[43m        \u001b[49m\u001b[43mnonexistent\u001b[49m\u001b[38;5;241;43m=\u001b[39;49m\u001b[43mnonexistent\u001b[49m\u001b[43m,\u001b[49m\n\u001b[1;32m   1093\u001b[0m \u001b[43m        \u001b[49m\u001b[43mcreso\u001b[49m\u001b[38;5;241;43m=\u001b[39;49m\u001b[38;5;28;43mself\u001b[39;49m\u001b[38;5;241;43m.\u001b[39;49m\u001b[43m_creso\u001b[49m\u001b[43m,\u001b[49m\n\u001b[1;32m   1094\u001b[0m \u001b[43m    \u001b[49m\u001b[43m)\u001b[49m\n\u001b[1;32m   1095\u001b[0m new_dates_dt64 \u001b[38;5;241m=\u001b[39m new_dates\u001b[38;5;241m.\u001b[39mview(\u001b[38;5;124mf\u001b[39m\u001b[38;5;124m\"\u001b[39m\u001b[38;5;124mM8[\u001b[39m\u001b[38;5;132;01m{\u001b[39;00m\u001b[38;5;28mself\u001b[39m\u001b[38;5;241m.\u001b[39munit\u001b[38;5;132;01m}\u001b[39;00m\u001b[38;5;124m]\u001b[39m\u001b[38;5;124m\"\u001b[39m)\n\u001b[1;32m   1096\u001b[0m dtype \u001b[38;5;241m=\u001b[39m tz_to_dtype(tz, unit\u001b[38;5;241m=\u001b[39m\u001b[38;5;28mself\u001b[39m\u001b[38;5;241m.\u001b[39munit)\n",
      "File \u001b[0;32mtzconversion.pyx:371\u001b[0m, in \u001b[0;36mpandas._libs.tslibs.tzconversion.tz_localize_to_utc\u001b[0;34m()\u001b[0m\n",
      "\u001b[0;31mAmbiguousTimeError\u001b[0m: Cannot infer dst time from 2017-11-05 01:56:50, try using the 'ambiguous' argument"
     ]
    }
   ],
   "source": [
    "rides['Start date']=rides['Start date'].dt.tz_localize('America/New_York')"
   ]
  },
  {
   "cell_type": "code",
   "execution_count": 150,
   "id": "ac6ad254-7a6d-477c-a046-099ca132c6f6",
   "metadata": {
    "execution": {
     "iopub.execute_input": "2024-07-19T15:42:53.812213Z",
     "iopub.status.busy": "2024-07-19T15:42:53.811047Z",
     "iopub.status.idle": "2024-07-19T15:42:53.831428Z",
     "shell.execute_reply": "2024-07-19T15:42:53.830157Z",
     "shell.execute_reply.started": "2024-07-19T15:42:53.812137Z"
    }
   },
   "outputs": [],
   "source": [
    "rides['Start date']=rides['Start date'].dt.tz_localize('America/New_York', ambiguous='NaT')"
   ]
  },
  {
   "cell_type": "code",
   "execution_count": 151,
   "id": "b68eb147-cbe2-4bde-b452-e2ef14d50343",
   "metadata": {
    "execution": {
     "iopub.execute_input": "2024-07-19T15:45:14.157998Z",
     "iopub.status.busy": "2024-07-19T15:45:14.157212Z",
     "iopub.status.idle": "2024-07-19T15:45:14.169007Z",
     "shell.execute_reply": "2024-07-19T15:45:14.167908Z",
     "shell.execute_reply.started": "2024-07-19T15:45:14.157959Z"
    }
   },
   "outputs": [
    {
     "data": {
      "text/plain": [
       "Start date                              NaT\n",
       "End date                2017-11-05 01:01:04\n",
       "Start station number                  31615\n",
       "Start station                 6th & H St NE\n",
       "End station number                    31627\n",
       "End station                   3rd & M St NE\n",
       "Bike number                          W20529\n",
       "Member type                          Member\n",
       "duration                  -1 days +23:04:14\n",
       "duration seconds                    -3346.0\n",
       "Name: 129, dtype: object"
      ]
     },
     "execution_count": 151,
     "metadata": {},
     "output_type": "execute_result"
    }
   ],
   "source": [
    "rides.iloc[129]"
   ]
  },
  {
   "cell_type": "code",
   "execution_count": 152,
   "id": "7f3ca46f-67a7-4516-8c68-da44c6930e4f",
   "metadata": {
    "execution": {
     "iopub.execute_input": "2024-07-19T15:46:52.166216Z",
     "iopub.status.busy": "2024-07-19T15:46:52.165943Z",
     "iopub.status.idle": "2024-07-19T15:46:52.172232Z",
     "shell.execute_reply": "2024-07-19T15:46:52.171675Z",
     "shell.execute_reply.started": "2024-07-19T15:46:52.166199Z"
    }
   },
   "outputs": [
    {
     "data": {
      "text/plain": [
       "0      2017.0\n",
       "1      2017.0\n",
       "2      2017.0\n",
       "3      2017.0\n",
       "4      2017.0\n",
       "        ...  \n",
       "285    2017.0\n",
       "286    2017.0\n",
       "287    2017.0\n",
       "288    2017.0\n",
       "289    2017.0\n",
       "Name: Start date, Length: 290, dtype: float64"
      ]
     },
     "execution_count": 152,
     "metadata": {},
     "output_type": "execute_result"
    }
   ],
   "source": [
    "rides['Start date'].dt.year"
   ]
  },
  {
   "cell_type": "code",
   "execution_count": 154,
   "id": "83605774-2db7-4b8e-b3d6-a6923ff47a3e",
   "metadata": {
    "execution": {
     "iopub.execute_input": "2024-07-19T15:47:26.186926Z",
     "iopub.status.busy": "2024-07-19T15:47:26.185945Z",
     "iopub.status.idle": "2024-07-19T15:47:26.203084Z",
     "shell.execute_reply": "2024-07-19T15:47:26.201976Z",
     "shell.execute_reply.started": "2024-07-19T15:47:26.186860Z"
    }
   },
   "outputs": [
    {
     "data": {
      "text/plain": [
       "0        Sunday\n",
       "1        Sunday\n",
       "2        Monday\n",
       "3        Monday\n",
       "4        Monday\n",
       "         ...   \n",
       "285      Friday\n",
       "286      Friday\n",
       "287      Friday\n",
       "288    Saturday\n",
       "289    Saturday\n",
       "Name: Start date, Length: 290, dtype: object"
      ]
     },
     "execution_count": 154,
     "metadata": {},
     "output_type": "execute_result"
    }
   ],
   "source": [
    "rides['Start date'].dt.day_name()"
   ]
  },
  {
   "cell_type": "code",
   "execution_count": 155,
   "id": "b6b0524e-b95c-4021-a59e-bb7f39bd1938",
   "metadata": {
    "execution": {
     "iopub.execute_input": "2024-07-19T15:49:55.689711Z",
     "iopub.status.busy": "2024-07-19T15:49:55.688477Z",
     "iopub.status.idle": "2024-07-19T15:49:55.704776Z",
     "shell.execute_reply": "2024-07-19T15:49:55.704231Z",
     "shell.execute_reply.started": "2024-07-19T15:49:55.689633Z"
    }
   },
   "outputs": [
    {
     "data": {
      "text/plain": [
       "0                         NaT\n",
       "1   2017-10-01 15:23:25-04:00\n",
       "2   2017-10-01 15:42:57-04:00\n",
       "Name: Start date, dtype: datetime64[ns, America/New_York]"
      ]
     },
     "execution_count": 155,
     "metadata": {},
     "output_type": "execute_result"
    }
   ],
   "source": [
    "rides['Start date'].shift(1).head(3)"
   ]
  },
  {
   "cell_type": "code",
   "execution_count": 157,
   "id": "2ea159d8-a8b6-4acc-95a6-b7881e7bbf80",
   "metadata": {
    "execution": {
     "iopub.execute_input": "2024-07-19T15:50:08.678425Z",
     "iopub.status.busy": "2024-07-19T15:50:08.676311Z",
     "iopub.status.idle": "2024-07-19T15:50:08.691122Z",
     "shell.execute_reply": "2024-07-19T15:50:08.690165Z",
     "shell.execute_reply.started": "2024-07-19T15:50:08.678329Z"
    }
   },
   "outputs": [
    {
     "data": {
      "text/plain": [
       "0   2017-10-01 15:23:25-04:00\n",
       "1   2017-10-01 15:42:57-04:00\n",
       "2   2017-10-02 06:37:10-04:00\n",
       "Name: Start date, dtype: datetime64[ns, America/New_York]"
      ]
     },
     "execution_count": 157,
     "metadata": {},
     "output_type": "execute_result"
    }
   ],
   "source": [
    "rides['Start date'].head(3)"
   ]
  },
  {
   "cell_type": "code",
   "execution_count": null,
   "id": "86dfd914-7356-4b90-8c19-f80522d049d4",
   "metadata": {},
   "outputs": [],
   "source": []
  }
 ],
 "metadata": {
  "kernelspec": {
   "display_name": "Python 3 (ipykernel)",
   "language": "python",
   "name": "python3"
  },
  "language_info": {
   "codemirror_mode": {
    "name": "ipython",
    "version": 3
   },
   "file_extension": ".py",
   "mimetype": "text/x-python",
   "name": "python",
   "nbconvert_exporter": "python",
   "pygments_lexer": "ipython3",
   "version": "3.12.4"
  }
 },
 "nbformat": 4,
 "nbformat_minor": 5
}
