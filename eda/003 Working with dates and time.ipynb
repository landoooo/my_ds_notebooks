{
 "cells": [
  {
   "cell_type": "markdown",
   "id": "9edb6e66-041c-4142-9151-7068e6ed88b3",
   "metadata": {},
   "source": [
    "# Working with dates and times\n",
    "\n",
    "## Dates in python\n",
    "In python we use the datetime package to handle dates and times. There is plenty of functionality already built-in there ready to be used."
   ]
  },
  {
   "cell_type": "code",
   "execution_count": 1,
   "id": "3f13c2a2-9747-47f5-9583-3a34dd0cc461",
   "metadata": {
    "execution": {
     "iopub.execute_input": "2024-07-16T12:21:48.941887Z",
     "iopub.status.busy": "2024-07-16T12:21:48.941013Z",
     "iopub.status.idle": "2024-07-16T12:21:48.958421Z",
     "shell.execute_reply": "2024-07-16T12:21:48.956936Z",
     "shell.execute_reply.started": "2024-07-16T12:21:48.941832Z"
    }
   },
   "outputs": [],
   "source": [
    "from datetime import date"
   ]
  },
  {
   "cell_type": "code",
   "execution_count": 8,
   "id": "dcb950c3-ef6d-4563-a75c-b1911418ec7c",
   "metadata": {
    "execution": {
     "iopub.execute_input": "2024-07-16T12:24:25.455477Z",
     "iopub.status.busy": "2024-07-16T12:24:25.454496Z",
     "iopub.status.idle": "2024-07-16T12:24:25.464331Z",
     "shell.execute_reply": "2024-07-16T12:24:25.462313Z",
     "shell.execute_reply.started": "2024-07-16T12:24:25.455422Z"
    }
   },
   "outputs": [],
   "source": [
    "two_dates = [date(2014, 5, 13), date(2025, 1, 20)]"
   ]
  },
  {
   "cell_type": "code",
   "execution_count": 9,
   "id": "ab713639-f641-4fe7-8520-da008154ed1c",
   "metadata": {
    "execution": {
     "iopub.execute_input": "2024-07-16T12:24:26.019433Z",
     "iopub.status.busy": "2024-07-16T12:24:26.018489Z",
     "iopub.status.idle": "2024-07-16T12:24:26.033336Z",
     "shell.execute_reply": "2024-07-16T12:24:26.032299Z",
     "shell.execute_reply.started": "2024-07-16T12:24:26.019396Z"
    }
   },
   "outputs": [
    {
     "data": {
      "text/plain": [
       "[datetime.date(2014, 5, 13), datetime.date(2025, 1, 20)]"
      ]
     },
     "execution_count": 9,
     "metadata": {},
     "output_type": "execute_result"
    }
   ],
   "source": [
    "two_dates"
   ]
  },
  {
   "cell_type": "code",
   "execution_count": 10,
   "id": "a3c61d3d-91e0-4902-b6f5-f0d650dd5f46",
   "metadata": {
    "execution": {
     "iopub.execute_input": "2024-07-16T12:24:26.524254Z",
     "iopub.status.busy": "2024-07-16T12:24:26.523422Z",
     "iopub.status.idle": "2024-07-16T12:24:26.537764Z",
     "shell.execute_reply": "2024-07-16T12:24:26.535924Z",
     "shell.execute_reply.started": "2024-07-16T12:24:26.524187Z"
    }
   },
   "outputs": [
    {
     "data": {
      "text/plain": [
       "2014"
      ]
     },
     "execution_count": 10,
     "metadata": {},
     "output_type": "execute_result"
    }
   ],
   "source": [
    "two_dates[0].year"
   ]
  },
  {
   "cell_type": "code",
   "execution_count": 11,
   "id": "8d76048e-bf3a-43ff-9b26-ec73f5522139",
   "metadata": {
    "execution": {
     "iopub.execute_input": "2024-07-16T12:24:26.901568Z",
     "iopub.status.busy": "2024-07-16T12:24:26.900646Z",
     "iopub.status.idle": "2024-07-16T12:24:26.917024Z",
     "shell.execute_reply": "2024-07-16T12:24:26.915527Z",
     "shell.execute_reply.started": "2024-07-16T12:24:26.901524Z"
    }
   },
   "outputs": [
    {
     "data": {
      "text/plain": [
       "1"
      ]
     },
     "execution_count": 11,
     "metadata": {},
     "output_type": "execute_result"
    }
   ],
   "source": [
    "two_dates[1].month"
   ]
  },
  {
   "cell_type": "markdown",
   "id": "ab208ac7-39d8-48e8-869c-fa6ec8508f5b",
   "metadata": {},
   "source": [
    "Weekdays in python starts from 0"
   ]
  },
  {
   "cell_type": "code",
   "execution_count": 12,
   "id": "c1626e40-bdc3-4766-bd4a-7673526bd8d8",
   "metadata": {
    "execution": {
     "iopub.execute_input": "2024-07-16T12:24:27.610652Z",
     "iopub.status.busy": "2024-07-16T12:24:27.609504Z",
     "iopub.status.idle": "2024-07-16T12:24:27.623343Z",
     "shell.execute_reply": "2024-07-16T12:24:27.622315Z",
     "shell.execute_reply.started": "2024-07-16T12:24:27.610560Z"
    }
   },
   "outputs": [
    {
     "data": {
      "text/plain": [
       "0"
      ]
     },
     "execution_count": 12,
     "metadata": {},
     "output_type": "execute_result"
    }
   ],
   "source": [
    "two_dates[1].weekday()"
   ]
  },
  {
   "cell_type": "markdown",
   "id": "23d39bf6-683a-4aaf-8eea-5d484879225b",
   "metadata": {
    "execution": {
     "iopub.execute_input": "2024-07-16T12:24:38.581638Z",
     "iopub.status.busy": "2024-07-16T12:24:38.580703Z",
     "iopub.status.idle": "2024-07-16T12:24:38.596856Z",
     "shell.execute_reply": "2024-07-16T12:24:38.595900Z",
     "shell.execute_reply.started": "2024-07-16T12:24:38.581565Z"
    }
   },
   "source": [
    "### Math with python dates"
   ]
  },
  {
   "cell_type": "code",
   "execution_count": 16,
   "id": "dec5d9b3-fd40-4c1e-8d1a-6c6b5c0a30d6",
   "metadata": {
    "execution": {
     "iopub.execute_input": "2024-07-16T12:28:45.669217Z",
     "iopub.status.busy": "2024-07-16T12:28:45.667903Z",
     "iopub.status.idle": "2024-07-16T12:28:45.683344Z",
     "shell.execute_reply": "2024-07-16T12:28:45.682107Z",
     "shell.execute_reply.started": "2024-07-16T12:28:45.669125Z"
    }
   },
   "outputs": [
    {
     "data": {
      "text/plain": [
       "datetime.timedelta(days=3905)"
      ]
     },
     "execution_count": 16,
     "metadata": {},
     "output_type": "execute_result"
    }
   ],
   "source": [
    "diff = two_dates[1] - two_dates[0]\n",
    "diff"
   ]
  },
  {
   "cell_type": "code",
   "execution_count": 17,
   "id": "6fa4411e-582e-42a4-9aa3-680213e203c0",
   "metadata": {
    "execution": {
     "iopub.execute_input": "2024-07-16T12:28:56.438885Z",
     "iopub.status.busy": "2024-07-16T12:28:56.437619Z",
     "iopub.status.idle": "2024-07-16T12:28:56.454256Z",
     "shell.execute_reply": "2024-07-16T12:28:56.450660Z",
     "shell.execute_reply.started": "2024-07-16T12:28:56.438810Z"
    }
   },
   "outputs": [
    {
     "data": {
      "text/plain": [
       "datetime.date(2014, 5, 13)"
      ]
     },
     "execution_count": 17,
     "metadata": {},
     "output_type": "execute_result"
    }
   ],
   "source": [
    "min(two_dates)"
   ]
  },
  {
   "cell_type": "code",
   "execution_count": 18,
   "id": "a40d15c7-930e-4f22-b638-408d640df810",
   "metadata": {
    "execution": {
     "iopub.execute_input": "2024-07-16T12:29:01.635310Z",
     "iopub.status.busy": "2024-07-16T12:29:01.634156Z",
     "iopub.status.idle": "2024-07-16T12:29:01.647735Z",
     "shell.execute_reply": "2024-07-16T12:29:01.645939Z",
     "shell.execute_reply.started": "2024-07-16T12:29:01.635241Z"
    }
   },
   "outputs": [
    {
     "data": {
      "text/plain": [
       "datetime.date(2025, 1, 20)"
      ]
     },
     "execution_count": 18,
     "metadata": {},
     "output_type": "execute_result"
    }
   ],
   "source": [
    "max(two_dates)"
   ]
  },
  {
   "cell_type": "code",
   "execution_count": 19,
   "id": "75e78ab1-5196-407f-ba23-11ead524de05",
   "metadata": {
    "execution": {
     "iopub.execute_input": "2024-07-16T12:29:24.829583Z",
     "iopub.status.busy": "2024-07-16T12:29:24.828487Z",
     "iopub.status.idle": "2024-07-16T12:29:24.843415Z",
     "shell.execute_reply": "2024-07-16T12:29:24.842356Z",
     "shell.execute_reply.started": "2024-07-16T12:29:24.829523Z"
    }
   },
   "outputs": [],
   "source": [
    "from datetime import timedelta"
   ]
  },
  {
   "cell_type": "code",
   "execution_count": 20,
   "id": "302c3720-0756-4ec9-a741-69a5b2b9e213",
   "metadata": {
    "execution": {
     "iopub.execute_input": "2024-07-16T12:29:40.663544Z",
     "iopub.status.busy": "2024-07-16T12:29:40.662494Z",
     "iopub.status.idle": "2024-07-16T12:29:40.674635Z",
     "shell.execute_reply": "2024-07-16T12:29:40.673284Z",
     "shell.execute_reply.started": "2024-07-16T12:29:40.663468Z"
    }
   },
   "outputs": [],
   "source": [
    "td = timedelta(days=29)"
   ]
  },
  {
   "cell_type": "code",
   "execution_count": 21,
   "id": "aa712c50-5fa8-49f1-9d64-f6fc83830f6b",
   "metadata": {
    "execution": {
     "iopub.execute_input": "2024-07-16T12:30:04.200345Z",
     "iopub.status.busy": "2024-07-16T12:30:04.199189Z",
     "iopub.status.idle": "2024-07-16T12:30:04.215261Z",
     "shell.execute_reply": "2024-07-16T12:30:04.214030Z",
     "shell.execute_reply.started": "2024-07-16T12:30:04.200274Z"
    }
   },
   "outputs": [
    {
     "data": {
      "text/plain": [
       "datetime.date(1999, 1, 30)"
      ]
     },
     "execution_count": 21,
     "metadata": {},
     "output_type": "execute_result"
    }
   ],
   "source": [
    "date(1999, 1, 1) + td"
   ]
  },
  {
   "cell_type": "code",
   "execution_count": 22,
   "id": "49a168a6-785d-453f-be6b-84dd5be67bb3",
   "metadata": {
    "execution": {
     "iopub.execute_input": "2024-07-16T12:32:00.661874Z",
     "iopub.status.busy": "2024-07-16T12:32:00.660989Z",
     "iopub.status.idle": "2024-07-16T12:32:00.672805Z",
     "shell.execute_reply": "2024-07-16T12:32:00.671320Z",
     "shell.execute_reply.started": "2024-07-16T12:32:00.661810Z"
    }
   },
   "outputs": [
    {
     "data": {
      "text/plain": [
       "29"
      ]
     },
     "execution_count": 22,
     "metadata": {},
     "output_type": "execute_result"
    }
   ],
   "source": [
    "td.days"
   ]
  },
  {
   "cell_type": "code",
   "execution_count": 23,
   "id": "db55da71-5aad-471d-b649-d76a1795e244",
   "metadata": {
    "execution": {
     "iopub.execute_input": "2024-07-16T12:33:42.762306Z",
     "iopub.status.busy": "2024-07-16T12:33:42.761569Z",
     "iopub.status.idle": "2024-07-16T12:33:42.775305Z",
     "shell.execute_reply": "2024-07-16T12:33:42.773725Z",
     "shell.execute_reply.started": "2024-07-16T12:33:42.762266Z"
    }
   },
   "outputs": [
    {
     "data": {
      "text/plain": [
       "[datetime.date(2005, 1, 20),\n",
       " datetime.date(2014, 5, 13),\n",
       " datetime.date(2015, 1, 20),\n",
       " datetime.date(2025, 1, 20)]"
      ]
     },
     "execution_count": 23,
     "metadata": {},
     "output_type": "execute_result"
    }
   ],
   "source": [
    "unsorted_dates = [date(2014, 5, 13), date(2025, 1, 20), date(2005, 1, 20), date(2015, 1, 20)]\n",
    "\n",
    "sorted(unsorted_dates)"
   ]
  },
  {
   "cell_type": "markdown",
   "id": "5c1f717e-7fcb-42d7-88e8-c8bf7e83dd26",
   "metadata": {},
   "source": [
    "## Parsing and formatting\n"
   ]
  },
  {
   "cell_type": "code",
   "execution_count": 24,
   "id": "69dfa253-e427-4061-9f1b-cbb8ead4f22a",
   "metadata": {
    "execution": {
     "iopub.execute_input": "2024-07-16T13:37:52.329500Z",
     "iopub.status.busy": "2024-07-16T13:37:52.328405Z",
     "iopub.status.idle": "2024-07-16T13:37:52.341651Z",
     "shell.execute_reply": "2024-07-16T13:37:52.338989Z",
     "shell.execute_reply.started": "2024-07-16T13:37:52.329459Z"
    }
   },
   "outputs": [
    {
     "name": "stdout",
     "output_type": "stream",
     "text": [
      "2017-11-05\n"
     ]
    }
   ],
   "source": [
    "d = date(2017, 11, 5)\n",
    "print (d)"
   ]
  },
  {
   "cell_type": "markdown",
   "id": "4c7b04e0-6e83-42a3-80db-ab1646b50b7e",
   "metadata": {},
   "source": [
    "The default date format in datetime is the ISO 8601, that is YYYY-MM-DD"
   ]
  },
  {
   "cell_type": "code",
   "execution_count": 25,
   "id": "dda2a90d-e00b-4c94-bf32-b77713055ec1",
   "metadata": {
    "execution": {
     "iopub.execute_input": "2024-07-16T13:39:21.851197Z",
     "iopub.status.busy": "2024-07-16T13:39:21.849374Z",
     "iopub.status.idle": "2024-07-16T13:39:21.869602Z",
     "shell.execute_reply": "2024-07-16T13:39:21.868264Z",
     "shell.execute_reply.started": "2024-07-16T13:39:21.851029Z"
    }
   },
   "outputs": [
    {
     "data": {
      "text/plain": [
       "'2017-11-05'"
      ]
     },
     "execution_count": 25,
     "metadata": {},
     "output_type": "execute_result"
    }
   ],
   "source": [
    "d.isoformat()"
   ]
  },
  {
   "cell_type": "markdown",
   "id": "eb8adaed-6cf4-411e-80f3-9ab8b634d10e",
   "metadata": {},
   "source": [
    "If you want a date to be formatted in a different way, dtrftime():"
   ]
  },
  {
   "cell_type": "code",
   "execution_count": 28,
   "id": "f1112ebb-f8af-465c-b83b-8c97873f22c1",
   "metadata": {
    "execution": {
     "iopub.execute_input": "2024-07-16T13:41:01.271998Z",
     "iopub.status.busy": "2024-07-16T13:41:01.271212Z",
     "iopub.status.idle": "2024-07-16T13:41:01.282226Z",
     "shell.execute_reply": "2024-07-16T13:41:01.280882Z",
     "shell.execute_reply.started": "2024-07-16T13:41:01.271961Z"
    }
   },
   "outputs": [
    {
     "data": {
      "text/plain": [
       "'2017'"
      ]
     },
     "execution_count": 28,
     "metadata": {},
     "output_type": "execute_result"
    }
   ],
   "source": [
    "d.strftime('%Y')"
   ]
  },
  {
   "cell_type": "code",
   "execution_count": 29,
   "id": "ca6889f3-3941-4e92-8318-747075cbbaa5",
   "metadata": {
    "execution": {
     "iopub.execute_input": "2024-07-16T13:41:31.580858Z",
     "iopub.status.busy": "2024-07-16T13:41:31.579716Z",
     "iopub.status.idle": "2024-07-16T13:41:31.595552Z",
     "shell.execute_reply": "2024-07-16T13:41:31.594025Z",
     "shell.execute_reply.started": "2024-07-16T13:41:31.580787Z"
    }
   },
   "outputs": [
    {
     "data": {
      "text/plain": [
       "'2017/11/05'"
      ]
     },
     "execution_count": 29,
     "metadata": {},
     "output_type": "execute_result"
    }
   ],
   "source": [
    "d.strftime('%Y/%m/%d')"
   ]
  },
  {
   "cell_type": "markdown",
   "id": "11c1f658-3d21-4b4a-aa79-2cf75294f9bd",
   "metadata": {},
   "source": [
    "## Adding times"
   ]
  },
  {
   "cell_type": "code",
   "execution_count": 30,
   "id": "859cc0c2-2c47-4a9e-9a00-f4fa72c14292",
   "metadata": {
    "execution": {
     "iopub.execute_input": "2024-07-16T13:51:03.956621Z",
     "iopub.status.busy": "2024-07-16T13:51:03.955492Z",
     "iopub.status.idle": "2024-07-16T13:51:03.979869Z",
     "shell.execute_reply": "2024-07-16T13:51:03.977152Z",
     "shell.execute_reply.started": "2024-07-16T13:51:03.956551Z"
    }
   },
   "outputs": [],
   "source": [
    "from datetime import datetime"
   ]
  },
  {
   "cell_type": "code",
   "execution_count": 32,
   "id": "1c385f7a-984a-4b65-be9f-e41877b1841f",
   "metadata": {
    "execution": {
     "iopub.execute_input": "2024-07-16T13:51:51.660468Z",
     "iopub.status.busy": "2024-07-16T13:51:51.659345Z",
     "iopub.status.idle": "2024-07-16T13:51:51.672670Z",
     "shell.execute_reply": "2024-07-16T13:51:51.671503Z",
     "shell.execute_reply.started": "2024-07-16T13:51:51.660414Z"
    }
   },
   "outputs": [
    {
     "data": {
      "text/plain": [
       "datetime.datetime(2024, 12, 25, 12, 34, 56)"
      ]
     },
     "execution_count": 32,
     "metadata": {},
     "output_type": "execute_result"
    }
   ],
   "source": [
    "dt = datetime(2024, 12, 25, 12, 34, 56)\n",
    "dt"
   ]
  },
  {
   "cell_type": "code",
   "execution_count": 33,
   "id": "7fec3494-540f-47f2-b75a-2b49ce9a130f",
   "metadata": {
    "execution": {
     "iopub.execute_input": "2024-07-16T13:52:37.853053Z",
     "iopub.status.busy": "2024-07-16T13:52:37.851875Z",
     "iopub.status.idle": "2024-07-16T13:52:37.868722Z",
     "shell.execute_reply": "2024-07-16T13:52:37.867915Z",
     "shell.execute_reply.started": "2024-07-16T13:52:37.852981Z"
    }
   },
   "outputs": [
    {
     "data": {
      "text/plain": [
       "datetime.datetime(2024, 5, 25, 12, 34, 56)"
      ]
     },
     "execution_count": 33,
     "metadata": {},
     "output_type": "execute_result"
    }
   ],
   "source": [
    "dt.replace(month=5)"
   ]
  },
  {
   "cell_type": "code",
   "execution_count": null,
   "id": "89fd4a01-09f5-459f-9d45-7daa0bc2012d",
   "metadata": {},
   "outputs": [],
   "source": []
  }
 ],
 "metadata": {
  "kernelspec": {
   "display_name": "Python 3 (ipykernel)",
   "language": "python",
   "name": "python3"
  },
  "language_info": {
   "codemirror_mode": {
    "name": "ipython",
    "version": 3
   },
   "file_extension": ".py",
   "mimetype": "text/x-python",
   "name": "python",
   "nbconvert_exporter": "python",
   "pygments_lexer": "ipython3",
   "version": "3.12.4"
  }
 },
 "nbformat": 4,
 "nbformat_minor": 5
}
