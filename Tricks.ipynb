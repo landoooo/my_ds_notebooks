{
 "cells": [
  {
   "cell_type": "code",
   "execution_count": null,
   "id": "eafe67af-fe62-4d40-99ac-a3b2c53c6267",
   "metadata": {},
   "outputs": [],
   "source": [
    "import pandas as pd \n",
    "import numpy as np \n",
    "import matplotlib.pyplot as plt \n",
    "import seaborn as sns \n",
    "import warnings\n",
    "\n",
    "warnings.filterwarnings('ignore')"
   ]
  },
  {
   "cell_type": "code",
   "execution_count": null,
   "id": "13620660-9850-40aa-8e55-a04a50314492",
   "metadata": {},
   "outputs": [],
   "source": [
    "df = pd.read_csv('data/divorces.csv')"
   ]
  },
  {
   "cell_type": "code",
   "execution_count": null,
   "id": "cdd8bcf9-f485-415b-bfba-4d0926b80670",
   "metadata": {},
   "outputs": [],
   "source": [
    "ax = sns.pairplot(df, diag_kind='kde')\n",
    "plt.show()"
   ]
  },
  {
   "cell_type": "code",
   "execution_count": null,
   "id": "d2b4cd90-7ed7-47bd-9f89-624a62280baa",
   "metadata": {},
   "outputs": [],
   "source": [
    "ax = sns.pairplot(df)\n",
    "plt.show()"
   ]
  },
  {
   "cell_type": "code",
   "execution_count": null,
   "id": "2e466933-68c6-4ee2-a9b1-784318ea7b89",
   "metadata": {},
   "outputs": [],
   "source": [
    "from scipy.stats import poisson\n",
    "\n",
    "poisson.rvs(5, size=100)"
   ]
  },
  {
   "cell_type": "code",
   "execution_count": null,
   "id": "0da71c5e-8fed-426b-8235-26e1331d9551",
   "metadata": {},
   "outputs": [],
   "source": [
    "from statsmodels.distributions.empirical_distribution import ECDF\n",
    "\n",
    "ecdf = ECDF(df.Age_partner_man)\n",
    "\n",
    "print(ecdf(40))"
   ]
  },
  {
   "cell_type": "code",
   "execution_count": null,
   "id": "5435b577-244a-43b8-86da-94c824076ea9",
   "metadata": {},
   "outputs": [],
   "source": [
    "roc_auc_score is more interesting than accuracy in clssification scenarios with highly imbalanced data"
   ]
  }
 ],
 "metadata": {
  "kernelspec": {
   "display_name": "Python 3 (ipykernel)",
   "language": "python",
   "name": "python3"
  },
  "language_info": {
   "codemirror_mode": {
    "name": "ipython",
    "version": 3
   },
   "file_extension": ".py",
   "mimetype": "text/x-python",
   "name": "python",
   "nbconvert_exporter": "python",
   "pygments_lexer": "ipython3",
   "version": "3.12.4"
  }
 },
 "nbformat": 4,
 "nbformat_minor": 5
}
