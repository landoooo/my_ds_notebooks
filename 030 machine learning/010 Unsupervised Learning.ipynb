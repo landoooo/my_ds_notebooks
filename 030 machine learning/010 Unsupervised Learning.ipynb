{
 "cells": [
  {
   "cell_type": "markdown",
   "id": "14592bc6-f930-4a47-9e3e-0ec8915a7856",
   "metadata": {},
   "source": [
    "# Unsupervised learning\n",
    "\n",
    "Unsupervised learning finds patterns in data but without a specific prediction task in mind\n"
   ]
  },
  {
   "cell_type": "code",
   "execution_count": null,
   "id": "5b89b25c-49af-43f5-bd9c-56a1daa61fd8",
   "metadata": {},
   "outputs": [],
   "source": [
    "import pandas as pd \n",
    "import numpy as np \n",
    "import seaborn as sns\n",
    "import warnings\n",
    "import matplotlib.pyplot as plt\n",
    "from sklearn.datasets import load_iris\n",
    "\n",
    "sns.set_style('whitegrid')\n",
    "sns.color_palette(\"Spectral\", as_cmap=True)\n",
    "warnings.filterwarnings('ignore')"
   ]
  },
  {
   "cell_type": "code",
   "execution_count": null,
   "id": "d7f79683-0344-4293-8040-437eb9dd5e26",
   "metadata": {},
   "outputs": [],
   "source": [
    "# https://scikit-learn.org/stable/auto_examples/datasets/plot_iris_dataset.html\n",
    "iris = load_iris()"
   ]
  },
  {
   "cell_type": "code",
   "execution_count": null,
   "id": "f01f06bb-b456-4e61-96de-a7a26df1fff4",
   "metadata": {},
   "outputs": [],
   "source": [
    "type(iris)"
   ]
  },
  {
   "cell_type": "markdown",
   "id": "fb1b7878-5e8c-406c-b13f-0b6b6cad4e9d",
   "metadata": {},
   "source": [
    "## KMeans\n",
    "\n",
    "\n"
   ]
  },
  {
   "cell_type": "code",
   "execution_count": null,
   "id": "38787f00-d252-41e7-91ef-3252c0eeedc9",
   "metadata": {},
   "outputs": [],
   "source": [
    "from sklearn.cluster import KMeans\n",
    "\n",
    "model = KMeans(n_clusters=3)\n",
    "\n",
    "model.fit(iris.data)"
   ]
  },
  {
   "cell_type": "code",
   "execution_count": null,
   "id": "86ba28c2-4c83-487e-adf1-d73eb69eb9f3",
   "metadata": {},
   "outputs": [],
   "source": [
    "model.cluster_centers_"
   ]
  },
  {
   "cell_type": "code",
   "execution_count": null,
   "id": "42791b4d-f579-418d-b743-12c5c3799197",
   "metadata": {},
   "outputs": [],
   "source": [
    "df = pd.DataFrame(iris.data, columns=iris.feature_names) \n",
    "df['target'] = iris.target\n",
    "\n",
    "sns.pairplot(df, hue='target')"
   ]
  },
  {
   "cell_type": "markdown",
   "id": "748118f0-4840-427e-a607-9c7784f4adeb",
   "metadata": {},
   "source": [
    "## Evaluating a clustering\n",
    "\n",
    "Evaluating a clustering will depend if we already have labels for the observations or if we dont."
   ]
  },
  {
   "cell_type": "code",
   "execution_count": null,
   "id": "98b42ad9-c26c-423e-9ced-de06515c3c08",
   "metadata": {},
   "outputs": [],
   "source": [
    "model.labels_"
   ]
  },
  {
   "cell_type": "code",
   "execution_count": null,
   "id": "cb6d4a97-d124-4e36-933e-e37ec5645a48",
   "metadata": {},
   "outputs": [],
   "source": [
    "from sklearn.metrics import confusion_matrix\n",
    "\n",
    "confusion_matrix(iris.target, model.labels_)"
   ]
  },
  {
   "cell_type": "code",
   "execution_count": null,
   "id": "fc368787-0d90-4f33-a4f3-d39b61a14b49",
   "metadata": {},
   "outputs": [],
   "source": [
    "pd.crosstab(iris.target, model.labels_)"
   ]
  },
  {
   "cell_type": "markdown",
   "id": "836cd33c-5afb-4413-8e8a-cb44772c488a",
   "metadata": {},
   "source": [
    "In case we dont have labels, we can still measure the quality of the clusters.\n",
    "\n",
    "**Inertia** measures how spread out the clusters are (lower is better). Inertia can be understood as the distance from each sample to the centroid of its cluster. \n",
    "\n",
    "## Number of clusters\n",
    "\n",
    "As we add more clusters to the clustering, inertia keeps dropping.\n",
    "Elbow rule to pick the best number of clusters.\n"
   ]
  },
  {
   "cell_type": "code",
   "execution_count": null,
   "id": "75d48f35-cb9a-45a3-a9d5-9e2cf06ad485",
   "metadata": {},
   "outputs": [],
   "source": [
    "ks = range(1, 6)\n",
    "inertias = []\n",
    "\n",
    "for k in ks:\n",
    "    # Create a KMeans instance with k clusters: model\n",
    "    model = KMeans(n_clusters=k)\n",
    "    model.fit(iris.data)\n",
    "    # Append the inertia to the list of inertias\n",
    "    inertias.append(model.inertia_)\n",
    "    \n",
    "# Plot ks vs inertias\n",
    "plt.plot(ks, inertias, '-o')\n",
    "plt.xlabel('number of clusters, k')\n",
    "plt.ylabel('inertia')\n",
    "plt.xticks(ks)\n",
    "plt.show()"
   ]
  },
  {
   "cell_type": "markdown",
   "id": "f6487c9f-9515-4d0b-aeb2-000a348b159a",
   "metadata": {},
   "source": [
    "## Transforming features for better clusterings\n"
   ]
  },
  {
   "cell_type": "code",
   "execution_count": null,
   "id": "582641f4-a7ae-4f05-b8cb-81f7ed401f69",
   "metadata": {},
   "outputs": [],
   "source": [
    "wines = pd.read_csv('../data/wine.csv')\n",
    "wines"
   ]
  },
  {
   "cell_type": "code",
   "execution_count": null,
   "id": "aefba585-f7dd-4d94-ba4d-b69b8c9c30c0",
   "metadata": {},
   "outputs": [],
   "source": [
    "wines.isna().sum()"
   ]
  },
  {
   "cell_type": "code",
   "execution_count": null,
   "id": "c1230d45-ace1-4f2c-a480-6d0e34a67574",
   "metadata": {},
   "outputs": [],
   "source": [
    "wines.class_name.value_counts()"
   ]
  },
  {
   "cell_type": "code",
   "execution_count": null,
   "id": "ce36af95-2a3a-4d80-a8c0-09c10424f962",
   "metadata": {},
   "outputs": [],
   "source": [
    "model = KMeans(n_clusters=3)\n",
    "\n",
    "model.fit(wines[['alcohol', 'malic_acid', 'ash', 'alcalinity_of_ash', 'magnesium', \n",
    "                 'total_phenols', 'flavanoids', 'nonflavanoid_phenols', 'proanthocyanins', \n",
    "                 'color_intensity', 'hue', 'od280', 'proline']])\n",
    "model.labels_"
   ]
  },
  {
   "cell_type": "code",
   "execution_count": null,
   "id": "b9497f2d-6d10-4634-bb84-929a3351b72a",
   "metadata": {},
   "outputs": [],
   "source": [
    "pd.crosstab(wines.class_name, model.labels_)"
   ]
  },
  {
   "cell_type": "markdown",
   "id": "5c76e4e5-6086-4282-9001-67cd2b10c9ec",
   "metadata": {},
   "source": [
    "The result doesnt look so great."
   ]
  },
  {
   "cell_type": "code",
   "execution_count": null,
   "id": "8ca9d212-6a80-48af-88c1-5c7da462a20e",
   "metadata": {},
   "outputs": [],
   "source": [
    "sns.pairplot(wines, hue='class_name')"
   ]
  },
  {
   "cell_type": "code",
   "execution_count": null,
   "id": "3980b3d1-ea2a-4453-b277-69e90cf4e290",
   "metadata": {},
   "outputs": [],
   "source": [
    "wines.describe()"
   ]
  },
  {
   "cell_type": "markdown",
   "id": "505ef7a3-1da8-4209-84fd-27c00a4dbc76",
   "metadata": {},
   "source": [
    "Means and std vary a lot from feature to feature. Lets try scaling and standardizing them."
   ]
  },
  {
   "cell_type": "code",
   "execution_count": null,
   "id": "54c5463e-2799-4f43-a7ed-fb2a5344b071",
   "metadata": {},
   "outputs": [],
   "source": [
    "from sklearn.preprocessing import StandardScaler\n",
    "\n",
    "scaler = StandardScaler() \n",
    "wines_scaled = scaler.fit_transform(wines[['alcohol', 'malic_acid', 'ash', 'alcalinity_of_ash', 'magnesium', \n",
    "                 'total_phenols', 'flavanoids', 'nonflavanoid_phenols', 'proanthocyanins', \n",
    "                 'color_intensity', 'hue', 'od280', 'proline']])\n",
    "\n",
    "model = KMeans(n_clusters=3)\n",
    "\n",
    "model.fit(wines_scaled)\n",
    "\n",
    "pd.crosstab(model.labels_, wines.class_name)\n"
   ]
  },
  {
   "cell_type": "markdown",
   "id": "857d03e6-a519-4d20-867f-f1544eb550bc",
   "metadata": {},
   "source": [
    "## Unsupervised Visualizing Techniques\n",
    "\n",
    "### Visualizing hierarchies\n",
    "\n",
    "Hierarchical clustering helps organizing samples in hierarchies.\n",
    "\n"
   ]
  },
  {
   "cell_type": "code",
   "execution_count": null,
   "id": "ebadd264-e42c-4522-b829-899e776236cb",
   "metadata": {},
   "outputs": [],
   "source": [
    "eurovision = pd.read_csv('../data/eurovision-2016.csv')\n",
    "eurovision"
   ]
  },
  {
   "cell_type": "markdown",
   "id": "e9621c9b-598b-44cc-8d82-6aefbb1c6664",
   "metadata": {},
   "source": [
    "Hierarchical clustering can be *agglomerative* when starting with one cluster for element and combining them little by little or *divisive*, who starts with one single cluster and split it step by step.\n"
   ]
  },
  {
   "cell_type": "code",
   "execution_count": null,
   "id": "f2ee7759-afd2-4a35-ae5d-0cbf8e08672a",
   "metadata": {},
   "outputs": [],
   "source": [
    "samples=[[14.88  , 14.57  ,  0.8811,  5.554 ,  3.333 ,  1.018 ,  4.956 ],\n",
    "       [14.69  , 14.49  ,  0.8799,  5.563 ,  3.259 ,  3.586 ,  5.219 ],\n",
    "       [14.03  , 14.16  ,  0.8796,  5.438 ,  3.201 ,  1.717 ,  5.001 ],\n",
    "       [13.99  , 13.83  ,  0.9183,  5.119 ,  3.383 ,  5.234 ,  4.781 ],\n",
    "       [14.11  , 14.26  ,  0.8722,  5.52  ,  3.168 ,  2.688 ,  5.219 ],\n",
    "       [13.02  , 13.76  ,  0.8641,  5.395 ,  3.026 ,  3.373 ,  4.825 ],\n",
    "       [15.49  , 14.94  ,  0.8724,  5.757 ,  3.371 ,  3.412 ,  5.228 ],\n",
    "       [16.2   , 15.27  ,  0.8734,  5.826 ,  3.464 ,  2.823 ,  5.527 ],\n",
    "       [13.5   , 13.85  ,  0.8852,  5.351 ,  3.158 ,  2.249 ,  5.176 ],\n",
    "       [15.36  , 14.76  ,  0.8861,  5.701 ,  3.393 ,  1.367 ,  5.132 ],\n",
    "       [15.78  , 14.91  ,  0.8923,  5.674 ,  3.434 ,  5.593 ,  5.136 ],\n",
    "       [14.46  , 14.35  ,  0.8818,  5.388 ,  3.377 ,  2.802 ,  5.044 ],\n",
    "       [11.23  , 12.63  ,  0.884 ,  4.902 ,  2.879 ,  2.269 ,  4.703 ],\n",
    "       [14.34  , 14.37  ,  0.8726,  5.63  ,  3.19  ,  1.313 ,  5.15  ],\n",
    "       [16.84  , 15.67  ,  0.8623,  5.998 ,  3.484 ,  4.675 ,  5.877 ],\n",
    "       [17.32  , 15.91  ,  0.8599,  6.064 ,  3.403 ,  3.824 ,  5.922 ],\n",
    "       [18.72  , 16.19  ,  0.8977,  6.006 ,  3.857 ,  5.324 ,  5.879 ],\n",
    "       [18.88  , 16.26  ,  0.8969,  6.084 ,  3.764 ,  1.649 ,  6.109 ],\n",
    "       [18.76  , 16.2   ,  0.8984,  6.172 ,  3.796 ,  3.12  ,  6.053 ],\n",
    "       [19.31  , 16.59  ,  0.8815,  6.341 ,  3.81  ,  3.477 ,  6.238 ],\n",
    "       [17.99  , 15.86  ,  0.8992,  5.89  ,  3.694 ,  2.068 ,  5.837 ],\n",
    "       [18.85  , 16.17  ,  0.9056,  6.152 ,  3.806 ,  2.843 ,  6.2   ],\n",
    "       [19.38  , 16.72  ,  0.8716,  6.303 ,  3.791 ,  3.678 ,  5.965 ],\n",
    "       [18.96  , 16.2   ,  0.9077,  6.051 ,  3.897 ,  4.334 ,  5.75  ],\n",
    "       [18.14  , 16.12  ,  0.8772,  6.059 ,  3.563 ,  3.619 ,  6.011 ],\n",
    "       [18.65  , 16.41  ,  0.8698,  6.285 ,  3.594 ,  4.391 ,  6.102 ],\n",
    "       [18.94  , 16.32  ,  0.8942,  6.144 ,  3.825 ,  2.908 ,  5.949 ],\n",
    "       [17.36  , 15.76  ,  0.8785,  6.145 ,  3.574 ,  3.526 ,  5.971 ],\n",
    "       [13.32  , 13.94  ,  0.8613,  5.541 ,  3.073 ,  7.035 ,  5.44  ],\n",
    "       [11.43  , 13.13  ,  0.8335,  5.176 ,  2.719 ,  2.221 ,  5.132 ],\n",
    "       [12.01  , 13.52  ,  0.8249,  5.405 ,  2.776 ,  6.992 ,  5.27  ],\n",
    "       [11.34  , 12.87  ,  0.8596,  5.053 ,  2.849 ,  3.347 ,  5.003 ],\n",
    "       [12.02  , 13.33  ,  0.8503,  5.35  ,  2.81  ,  4.271 ,  5.308 ],\n",
    "       [12.44  , 13.59  ,  0.8462,  5.319 ,  2.897 ,  4.924 ,  5.27  ],\n",
    "       [11.55  , 13.1   ,  0.8455,  5.167 ,  2.845 ,  6.715 ,  4.956 ],\n",
    "       [11.26  , 13.01  ,  0.8355,  5.186 ,  2.71  ,  5.335 ,  5.092 ],\n",
    "       [12.46  , 13.41  ,  0.8706,  5.236 ,  3.017 ,  4.987 ,  5.147 ],\n",
    "       [11.81  , 13.45  ,  0.8198,  5.413 ,  2.716 ,  4.898 ,  5.352 ],\n",
    "       [11.27  , 12.86  ,  0.8563,  5.091 ,  2.804 ,  3.985 ,  5.001 ],\n",
    "       [12.79  , 13.53  ,  0.8786,  5.224 ,  3.054 ,  5.483 ,  4.958 ],\n",
    "       [12.67  , 13.32  ,  0.8977,  4.984 ,  3.135 ,  2.3   ,  4.745 ],\n",
    "       [11.23  , 12.88  ,  0.8511,  5.14  ,  2.795 ,  4.325 ,  5.003 ]]"
   ]
  },
  {
   "cell_type": "code",
   "execution_count": null,
   "id": "e3ee892b-42e4-4bba-bba0-b556b3b8039f",
   "metadata": {},
   "outputs": [],
   "source": [
    "varieties=['Kama wheat',\n",
    " 'Kama wheat',\n",
    " 'Kama wheat',\n",
    " 'Kama wheat',\n",
    " 'Kama wheat',\n",
    " 'Kama wheat',\n",
    " 'Kama wheat',\n",
    " 'Kama wheat',\n",
    " 'Kama wheat',\n",
    " 'Kama wheat',\n",
    " 'Kama wheat',\n",
    " 'Kama wheat',\n",
    " 'Kama wheat',\n",
    " 'Kama wheat',\n",
    " 'Rosa wheat',\n",
    " 'Rosa wheat',\n",
    " 'Rosa wheat',\n",
    " 'Rosa wheat',\n",
    " 'Rosa wheat',\n",
    " 'Rosa wheat',\n",
    " 'Rosa wheat',\n",
    " 'Rosa wheat',\n",
    " 'Rosa wheat',\n",
    " 'Rosa wheat',\n",
    " 'Rosa wheat',\n",
    " 'Rosa wheat',\n",
    " 'Rosa wheat',\n",
    " 'Rosa wheat',\n",
    " 'Canadian wheat',\n",
    " 'Canadian wheat',\n",
    " 'Canadian wheat',\n",
    " 'Canadian wheat',\n",
    " 'Canadian wheat',\n",
    " 'Canadian wheat',\n",
    " 'Canadian wheat',\n",
    " 'Canadian wheat',\n",
    " 'Canadian wheat',\n",
    " 'Canadian wheat',\n",
    " 'Canadian wheat',\n",
    " 'Canadian wheat',\n",
    " 'Canadian wheat',\n",
    " 'Canadian wheat']"
   ]
  },
  {
   "cell_type": "code",
   "execution_count": null,
   "id": "7181a40d-65e1-4381-b29b-2793222871f7",
   "metadata": {},
   "outputs": [],
   "source": [
    "# Perform the necessary imports\n",
    "from scipy.cluster.hierarchy import linkage, dendrogram\n",
    "import matplotlib.pyplot as plt\n",
    "\n",
    "# Calculate the linkage: mergings\n",
    "mergings = linkage(samples, method=\"complete\")\n",
    "\n",
    "# Plot the dendrogram, using varieties as labels\n",
    "dendrogram(mergings,\n",
    "           labels=varieties,\n",
    "           leaf_rotation=90,\n",
    "           leaf_font_size=6,\n",
    ")\n",
    "plt.show()\n",
    "\n"
   ]
  },
  {
   "cell_type": "markdown",
   "id": "68f4c92b-be86-464f-aebe-fdfb27655ce5",
   "metadata": {},
   "source": [
    "The intermediate clusters and the height on a dendrogram can be useful too.\n",
    "\n",
    "The height on a dendrogram is the distance between merging clusters.\n",
    "\n",
    "The distance between clusters is defined by the linkage method.\n",
    "\n",
    "In complete linkage the distance between clusters is the max distance between their samples. \n",
    "\n",
    "The cluster lables for any intermediate level can be retrieved by the fcluster() function.\n"
   ]
  },
  {
   "cell_type": "code",
   "execution_count": null,
   "id": "0b87db97-5620-4c40-80be-69a2a559e4e3",
   "metadata": {},
   "outputs": [],
   "source": [
    "from scipy.cluster.hierarchy import fcluster\n",
    "\n",
    "mergings = linkage(samples, method=\"complete\")\n",
    "\n",
    "labels = fcluster(mergings, 5, criterion='distance')\n",
    "\n",
    "print(labels)"
   ]
  },
  {
   "cell_type": "code",
   "execution_count": null,
   "id": "2259db38-10d7-4dd1-9d44-76e16013364b",
   "metadata": {},
   "outputs": [],
   "source": [
    "ct = pd.crosstab(labels, varieties)"
   ]
  },
  {
   "cell_type": "code",
   "execution_count": null,
   "id": "a44fef13-a822-433c-b19f-5aecf289f0bb",
   "metadata": {},
   "outputs": [],
   "source": [
    "ct"
   ]
  },
  {
   "cell_type": "markdown",
   "id": "3ad684d0-563f-4527-91fb-4f488770ce9c",
   "metadata": {},
   "source": [
    "## t-SNE (t-distributed Stochastic Neighbor Embedding)\n",
    "\n",
    "Maps samples to 2D (or 3d) spaces\n",
    "\n",
    "Map approximately preserves nearness of samples\n",
    "\n",
    "Great for inspecting datasets\n",
    "\n"
   ]
  },
  {
   "cell_type": "code",
   "execution_count": null,
   "id": "49df6258-884b-4cc7-95f0-0cdc0264de4e",
   "metadata": {},
   "outputs": [],
   "source": [
    "from sklearn.manifold import TSNE\n",
    "\n",
    "model = TSNE(learning_rate=100)\n",
    "\n",
    "transformed = model.fit_transform(iris.data) \n",
    "xs = transformed[:,0]\n",
    "ys = transformed[:,1] \n",
    "sns.scatterplot(x=xs, y=ys, hue=iris.target)"
   ]
  },
  {
   "cell_type": "markdown",
   "id": "4b144847-309f-46fd-b084-7d9e3727e1a9",
   "metadata": {},
   "source": [
    "TSNE doesnt have fit and transform separate methods, so each time we want to perform a TSNE thingy we have to start from scratch.\n",
    "\n",
    "The learning_rate in TSNE can lead to all the datapoint sitting together in the scatterplot. Normally its enough trying few values between 50 and 200.\n",
    "\n",
    "The axis on the tsne representation dont have any interpretation."
   ]
  },
  {
   "cell_type": "markdown",
   "id": "b0634426-b80a-4cc5-a61e-2cbc3d12af07",
   "metadata": {
    "execution": {
     "iopub.execute_input": "2024-08-13T15:12:36.880506Z",
     "iopub.status.busy": "2024-08-13T15:12:36.879649Z",
     "iopub.status.idle": "2024-08-13T15:12:36.893367Z",
     "shell.execute_reply": "2024-08-13T15:12:36.891851Z",
     "shell.execute_reply.started": "2024-08-13T15:12:36.880463Z"
    }
   },
   "source": [
    "## Dimension Reduction\n",
    "\n",
    "Finds patterns in data and use them to express the data in a compressed form.\n",
    "\n",
    "### Principal Component Analysis (PCA)\n",
    "\n",
    "Its the a fundamental dimension reduction technique. First of all it:\n",
    "- Rotates data samples to be aligned with axes -> decorrelates data\n",
    "- Shifts data samples so they have mean 0\n",
    "- No information is lost.\n",
    "\n",
    "The PCA implementation in scikit learn follows the fit/transform pattern.\n",
    "\n",
    "Principal Components refers to the directions in the n-dimensional space of the observations where the variance changes the most.\n"
   ]
  },
  {
   "cell_type": "code",
   "execution_count": null,
   "id": "7bc722e6-6ecb-4b36-acf7-42e21a5e3a62",
   "metadata": {},
   "outputs": [],
   "source": [
    "grains = pd.read_csv('../data/seeds-width-vs-length.csv')"
   ]
  },
  {
   "cell_type": "code",
   "execution_count": null,
   "id": "7dc3f37b-a39f-49d9-981b-2eef67ed92c4",
   "metadata": {},
   "outputs": [],
   "source": [
    "from sklearn.decomposition import PCA\n",
    "\n",
    "model = PCA()\n",
    "model.fit(grains)\n",
    "pca_samples = model.transform(grains)\n",
    "\n",
    "model.components_"
   ]
  },
  {
   "cell_type": "code",
   "execution_count": null,
   "id": "e34697b6-9efc-45b5-913f-c16b6eaae400",
   "metadata": {},
   "outputs": [],
   "source": [
    "# Perform the necessary imports\n",
    "import matplotlib.pyplot as plt\n",
    "from scipy.stats import pearsonr\n",
    "\n",
    "# Assign the 0th column of grains: width\n",
    "width = grains.values[:,0]\n",
    "\n",
    "# Assign the 1st column of grains: length\n",
    "length = grains.values[:,1]\n",
    "\n",
    "# Scatter plot width vs length\n",
    "plt.scatter(width, length)\n",
    "plt.axis('equal')\n",
    "plt.show()\n",
    "\n",
    "# Calculate the Pearson correlation\n",
    "correlation, pvalue = pearsonr(width, length)\n",
    "\n",
    "# Display the correlation\n",
    "print(correlation)"
   ]
  },
  {
   "cell_type": "code",
   "execution_count": null,
   "id": "b7004544-b6b9-48b3-97e4-f2ff4a0d55aa",
   "metadata": {},
   "outputs": [],
   "source": [
    "# Import PCA\n",
    "from sklearn.decomposition import PCA\n",
    "\n",
    "# Create PCA instance: model\n",
    "model = PCA()\n",
    "\n",
    "# Apply the fit_transform method of model to grains: pca_features\n",
    "pca_features = model.fit_transform(grains.values)\n",
    "\n",
    "# Assign 0th column of pca_features: xs\n",
    "xs = pca_features[:,0]\n",
    "\n",
    "# Assign 1st column of pca_features: ys\n",
    "ys = pca_features[:,1]\n",
    "\n",
    "# Scatter plot xs vs ys\n",
    "plt.scatter(xs, ys)\n",
    "plt.axis('equal')\n",
    "plt.show()\n",
    "\n",
    "# Calculate the Pearson correlation of xs and ys\n",
    "correlation, pvalue = pearsonr(xs, ys)\n",
    "\n",
    "# Display the correlation\n",
    "print(correlation)"
   ]
  },
  {
   "cell_type": "markdown",
   "id": "e1ed5843-4498-4087-87ed-52684f852f8c",
   "metadata": {},
   "source": [
    "## Intrinsic Dimension\n",
    "\n",
    "The intrinsic dimension of a dataset is the number of features needed to approximate the dataset. Its an essential idea behind dimension reduction. Can be detected using PCA: it suffice counting the number of PCA features with significant variance. Yet, depending on the dataset, the intrinsic dimension could not be that clear.\n",
    "\n",
    "\n",
    "\n"
   ]
  },
  {
   "cell_type": "code",
   "execution_count": null,
   "id": "c55cb6da-6ce8-4d5a-8834-baafb69200f2",
   "metadata": {},
   "outputs": [],
   "source": [
    "# Make a scatter plot of the untransformed points\n",
    "plt.scatter(grains.values[:,0], grains.values[:,1])\n",
    "\n",
    "# Create a PCA instance: model\n",
    "model = PCA()\n",
    "\n",
    "# Fit model to points\n",
    "model.fit(grains.values)\n",
    "\n",
    "# Get the mean of the grain samples: mean\n",
    "mean = model.mean_\n",
    "\n",
    "# Get the first principal component: first_pc\n",
    "first_pc = model.components_[0,:]\n",
    "\n",
    "# Plot first_pc as an arrow, starting at mean\n",
    "plt.arrow(mean[0], mean[1], first_pc[0], first_pc[1], color='red', width=0.01)\n",
    "\n",
    "# Keep axes on same scale\n",
    "plt.axis('equal')\n",
    "\n",
    "plt.show()"
   ]
  },
  {
   "cell_type": "code",
   "execution_count": null,
   "id": "4abe5f2f-1cb1-474a-a026-ccf9b7116a7e",
   "metadata": {},
   "outputs": [],
   "source": [
    "from sklearn.pipeline import make_pipeline\n",
    "\n",
    "# Create scaler: scaler\n",
    "scaler = StandardScaler()\n",
    "\n",
    "# Create a PCA instance: pca\n",
    "pca = PCA()\n",
    "\n",
    "# Create pipeline: pipeline\n",
    "pipeline = make_pipeline(scaler, pca)\n",
    "\n",
    "# Fit the pipeline to 'samples'\n",
    "pipeline.fit(wines.drop(['class_name'], axis=1).values)\n",
    "\n",
    "# Plot the explained variances\n",
    "features = range(pca.n_components_)\n",
    "plt.bar(features, pca.explained_variance_)\n",
    "plt.xlabel('PCA feature')\n",
    "plt.ylabel('variance')\n",
    "plt.xticks(features)\n",
    "plt.show()\n"
   ]
  },
  {
   "cell_type": "markdown",
   "id": "8459d6f5-b6b5-4555-bac3-247ebeccd844",
   "metadata": {},
   "source": [
    "## Dimension Reduction \n",
    "\n",
    "Dimension reduction is a technique used to represent the same data using less features\n",
    "\n",
    "Its an important part of machine-learning techniques.\n",
    "\n",
    "Can be done with scikit learn PCA using the n_components attribute."
   ]
  },
  {
   "cell_type": "markdown",
   "id": "1f4c8fb6-8418-44ae-add6-dbc43850deb7",
   "metadata": {},
   "source": [
    "## Non-Negative Matrix Factorization (NMF)\n",
    "\n",
    "NMF is a dimension reduction technique.\n",
    "\n",
    "NMF are interpretable (images are combinations of patterns, documents are combination of topics...)\n",
    "\n",
    "All sample features must be non-negative\n",
    "\n",
    "sklearn implementation of NMF follows the fit/transform pattern. Accepts a n_components parameter that in this case, is mandatory.\n",
    "\n",
    "NMF has components (as PCA) and they have the same number of dimensions as the samples.\n",
    "\n",
    "The NMF features are non negative and they can be used to reconstruct the samples."
   ]
  },
  {
   "cell_type": "code",
   "execution_count": null,
   "id": "8b58eae2-9ac7-4765-8a9e-d36df16d3b74",
   "metadata": {},
   "outputs": [],
   "source": [
    "from sklearn.decomposition import NMF\n",
    "\n",
    "model = NMF(n_components=2)\n",
    "\n",
    "model.fit(samples)\n",
    "\n",
    "nmf_features = model.transform(samples)\n",
    "\n"
   ]
  },
  {
   "cell_type": "code",
   "execution_count": null,
   "id": "503d0695-80cf-48e4-9285-bf0383660e54",
   "metadata": {},
   "outputs": [],
   "source": [
    "nmf_features"
   ]
  },
  {
   "cell_type": "code",
   "execution_count": null,
   "id": "fc69b622-8d81-4918-96f3-2aa62dc43535",
   "metadata": {},
   "outputs": [],
   "source": [
    "model.components_"
   ]
  },
  {
   "cell_type": "code",
   "execution_count": null,
   "id": "231d5ca8-a80e-4cee-90bd-4b8d905dd590",
   "metadata": {},
   "outputs": [],
   "source": [
    "samples"
   ]
  },
  {
   "cell_type": "code",
   "execution_count": null,
   "id": "6130352f-0037-4930-92e3-67d091f00ef8",
   "metadata": {},
   "outputs": [],
   "source": []
  },
  {
   "cell_type": "code",
   "execution_count": null,
   "id": "2b2f2415-3efa-4fc8-976f-0581ea4eab33",
   "metadata": {},
   "outputs": [],
   "source": []
  },
  {
   "cell_type": "code",
   "execution_count": null,
   "id": "e1611b3b-409f-4e2b-aaad-d5da9d5b243f",
   "metadata": {},
   "outputs": [],
   "source": []
  },
  {
   "cell_type": "code",
   "execution_count": null,
   "id": "755f69d2-36a2-4303-a06d-af80d1cee6da",
   "metadata": {},
   "outputs": [],
   "source": []
  },
  {
   "cell_type": "code",
   "execution_count": null,
   "id": "bd4ad334-5170-4bb4-9e8e-5f0f9e6cc287",
   "metadata": {},
   "outputs": [],
   "source": []
  },
  {
   "cell_type": "code",
   "execution_count": null,
   "id": "3a0c8cf9-c82e-4a00-9a25-08751e8029b4",
   "metadata": {},
   "outputs": [],
   "source": []
  }
 ],
 "metadata": {
  "kernelspec": {
   "display_name": "Python 3 (ipykernel)",
   "language": "python",
   "name": "python3"
  },
  "language_info": {
   "codemirror_mode": {
    "name": "ipython",
    "version": 3
   },
   "file_extension": ".py",
   "mimetype": "text/x-python",
   "name": "python",
   "nbconvert_exporter": "python",
   "pygments_lexer": "ipython3",
   "version": "3.11.10"
  }
 },
 "nbformat": 4,
 "nbformat_minor": 5
}
