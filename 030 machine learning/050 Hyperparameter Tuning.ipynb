{
 "cells": [
  {
   "cell_type": "code",
   "execution_count": null,
   "id": "bf100a2c-5c03-40f4-913a-987b6e1db802",
   "metadata": {},
   "outputs": [],
   "source": [
    "import pandas as pd \n",
    "import numpy as np \n",
    "import matplotlib.pyplot as plt \n",
    "import seaborn as sns \n",
    "import warnings \n",
    "\n",
    "from sklearn.model_selection import train_test_split\n",
    "\n",
    "warnings.filterwarnings('ignore')"
   ]
  },
  {
   "cell_type": "markdown",
   "id": "e5b28017-6ed7-4f2c-b71a-9d49b8a08699",
   "metadata": {},
   "source": [
    "# Parameters VS Hyperparameters\n",
    "\n",
    "## Parameters\n",
    "\n",
    "**Parameters** are components of the model learned during the modeling process. \n",
    "\n",
    "You cannot set them. They are discovered by the algorithm.\n",
    "\n",
    "In linear models these parameters are the coefficients and the intercept. In tree based algorithms these params are node decisionas (feature and value to split on)\n",
    "\n",
    "## Hyperparameters\n",
    "\n",
    "**Hyperparameters** are something you set before the modeling process \n",
    "\n",
    "The algorithm does not learn these during the training\n",
    "\n",
    "Some hyperparameters are more important than others.\n",
    "\n",
    "To find the parameters of a model, create one and print it out:\n"
   ]
  },
  {
   "cell_type": "code",
   "execution_count": null,
   "id": "947eb134-a282-4b78-8274-ebef13f754f0",
   "metadata": {},
   "outputs": [],
   "source": [
    "from sklearn.ensemble import RandomForestClassifier\n",
    "\n",
    "rfc = RandomForestClassifier() \n",
    "rfc"
   ]
  },
  {
   "cell_type": "markdown",
   "id": "04ea51db-9e98-45eb-90e2-272e02a22898",
   "metadata": {},
   "source": [
    "To know the meaning of each parameter, go to the sklearn documentation page \n",
    "\n",
    "Some hyperparameters are more important than others. Some wont help model performance (the ones about keeping information about the training, the verbosity level or the random state for instance)\n"
   ]
  },
  {
   "cell_type": "code",
   "execution_count": null,
   "id": "46c7f6b8-9d09-425b-a701-01e81733fab4",
   "metadata": {},
   "outputs": [],
   "source": [
    "df = pd.read_csv('../data/credit-card-full.csv')\n"
   ]
  },
  {
   "cell_type": "markdown",
   "id": "05029a85-dfae-44db-9b85-a67b3ffeb59f",
   "metadata": {},
   "source": [
    "# Hyperparameter Values\n",
    "\n",
    "There is no one size that fits all. The values for each hyperparameter depend on the algorithm and hyperparameter. There are some best practices for them though.\n",
    "\n",
    "## Conflicting Values\n",
    "\n",
    "Be aware of conflicting hyperparameter choices. This should be clearly stated in the sklearn documentation.\n",
    "\n",
    "## Silly Values\n",
    "\n",
    "There are values for different algorithms that most likely wont yield any good result like low number of trees in a random forest model, one neighbor in KNN, or increment a hyperparameter by a very small value...\n",
    "\n",
    "# Automating Hyperparameter Choice\n",
    "\n",
    "It an be automated with for loops over arrays of possible values, storing scores, but it becomes unmanageble when we consider multiple hyperparameters\n",
    "\n",
    "## Grid Search \n",
    "\n",
    "We could nest a loop per hyperparameter to consider, what would increase the computational charge in an exponentional manner.\n",
    "\n",
    "Grid search consist in train a model for each combination of values for the different hyperparameters.\n",
    "\n",
    "### Pro's \n",
    "\n",
    "You dont have to write thousands of lines of code\n",
    "\n",
    "The best model within the grid values is guaranteed to be found (unless silly or conflicting values are there)\n",
    "\n",
    "### Cons \n",
    "\n",
    "Computationally expensive\n",
    "\n",
    "Its uninformed: each model doesnt take into account the outcome of previous trainings. \n",
    "\n",
    "## Grid Search in SciKit Learn\n",
    "\n",
    "Steps to perform grid search: \n",
    "1. Choose an algortithm to tune its hyperparameters (estimator)\n",
    "2. Define the hyperparameters to be tuned\n",
    "3. Define range of values for each hyperparameter\n",
    "4. setting a cross validation scheme\n",
    "5. define a scoring function\n",
    "6. include extra useful information or functions\n",
    "\n",
    "[sklearn GridSearchCV documentation](https://scikit-learn.org/stable/modules/generated/sklearn.model_selection.GridSearchCV.html)"
   ]
  },
  {
   "cell_type": "code",
   "execution_count": null,
   "id": "c393649f-8ed3-454a-9cbe-e86235bf3387",
   "metadata": {},
   "outputs": [],
   "source": [
    "from sklearn.model_selection import GridSearchCV\n",
    "\n",
    "# Create a Random Forest Classifier with specified criterion\n",
    "rf_class = RandomForestClassifier(criterion='entropy')\n",
    "\n",
    "# Create the parameter grid\n",
    "param_grid = {'max_depth': [2, 4, 8, 15], 'max_features': ['auto', 'sqrt']} \n",
    "\n",
    "# Create a GridSearchCV object\n",
    "grid_rf_class = GridSearchCV(\n",
    "    estimator=rf_class,\n",
    "    param_grid=param_grid,\n",
    "    scoring='roc_auc',\n",
    "    n_jobs=4,\n",
    "    cv=5,\n",
    "    refit=True, return_train_score=True)\n",
    "print(grid_rf_class)"
   ]
  },
  {
   "cell_type": "markdown",
   "id": "2863028b-4dab-4ea8-b94f-3d86fb071c3f",
   "metadata": {},
   "source": [
    "Fitting a model via GridSearchCV returns: \n",
    "- A results log (*.cv_results_*)\n",
    "- The best results (*.best_index_*, *.best_params_* and *.best_score_*)\n",
    "- Extra Information (*.scorer_*, *.n_splits_* and *.refit_time_*)"
   ]
  },
  {
   "cell_type": "code",
   "execution_count": null,
   "id": "589de9a2-3f1d-421a-80ea-e616ecd88d90",
   "metadata": {},
   "outputs": [],
   "source": [
    "# Random Search "
   ]
  }
 ],
 "metadata": {
  "kernelspec": {
   "display_name": "Python 3 (ipykernel)",
   "language": "python",
   "name": "python3"
  },
  "language_info": {
   "codemirror_mode": {
    "name": "ipython",
    "version": 3
   },
   "file_extension": ".py",
   "mimetype": "text/x-python",
   "name": "python",
   "nbconvert_exporter": "python",
   "pygments_lexer": "ipython3",
   "version": "3.12.4"
  }
 },
 "nbformat": 4,
 "nbformat_minor": 5
}
