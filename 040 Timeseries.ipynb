{
 "cells": [
  {
   "cell_type": "markdown",
   "id": "54128699-ca52-46d8-82a8-ff1af5d99bf2",
   "metadata": {},
   "source": [
    "# Introduction to Timeseries"
   ]
  },
  {
   "cell_type": "code",
   "execution_count": 1,
   "id": "10f2a9c6-e77b-4439-9a26-8b04c641ee04",
   "metadata": {
    "execution": {
     "iopub.execute_input": "2024-09-03T16:50:11.671339Z",
     "iopub.status.busy": "2024-09-03T16:50:11.670046Z",
     "iopub.status.idle": "2024-09-03T16:50:13.295856Z",
     "shell.execute_reply": "2024-09-03T16:50:13.295299Z",
     "shell.execute_reply.started": "2024-09-03T16:50:11.671256Z"
    }
   },
   "outputs": [],
   "source": [
    "import pandas as pd \n",
    "import numpy as np \n",
    "import matplotlib.pyplot as plt \n",
    "import seaborn as sns \n",
    "import warnings \n",
    "\n",
    "warnings.filterwarnings('ignore')\n",
    "sns.set()\n",
    "\n",
    "import librosa as lr"
   ]
  },
  {
   "cell_type": "markdown",
   "id": "052070d6-fd02-4a20-a5a8-fca460ead0a1",
   "metadata": {},
   "source": [
    "A timeserie consists on at least 2 things: \n",
    "- an array of observations\n",
    "- an array of timestamp per datapoint\n",
    "\n",
    "The amount of time between consecutive timestamps defines the **period** of the dataset.\n",
    "\n",
    "# Combining timeseries and machine learning"
   ]
  },
  {
   "cell_type": "code",
   "execution_count": null,
   "id": "0212a760-9410-4ddc-b6bf-637ca62161e0",
   "metadata": {},
   "outputs": [],
   "source": []
  }
 ],
 "metadata": {
  "kernelspec": {
   "display_name": "Python 3 (ipykernel)",
   "language": "python",
   "name": "python3"
  },
  "language_info": {
   "codemirror_mode": {
    "name": "ipython",
    "version": 3
   },
   "file_extension": ".py",
   "mimetype": "text/x-python",
   "name": "python",
   "nbconvert_exporter": "python",
   "pygments_lexer": "ipython3",
   "version": "3.12.4"
  }
 },
 "nbformat": 4,
 "nbformat_minor": 5
}
