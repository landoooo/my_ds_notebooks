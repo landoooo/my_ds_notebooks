{
 "cells": [
  {
   "cell_type": "code",
   "execution_count": 1,
   "id": "ac972f9e-dadd-4ee9-97de-ff1cf47640cd",
   "metadata": {
    "execution": {
     "iopub.execute_input": "2024-12-27T10:32:39.567096Z",
     "iopub.status.busy": "2024-12-27T10:32:39.566809Z",
     "iopub.status.idle": "2024-12-27T10:32:40.351157Z",
     "shell.execute_reply": "2024-12-27T10:32:40.350754Z",
     "shell.execute_reply.started": "2024-12-27T10:32:39.567074Z"
    }
   },
   "outputs": [],
   "source": [
    "import pandas as pd \n",
    "import numpy as np \n",
    "from dask import delayed "
   ]
  },
  {
   "cell_type": "markdown",
   "id": "930f41cd-33a9-49a3-a608-ed52051e43d0",
   "metadata": {},
   "source": [
    "# Lazy Evaluation\n",
    "\n",
    "Dask achieves parallel programming using lazy evaluation: variables are not calculated till the point they are needed, instead, a task list is created and updated. When about to calculate a variable, dask splits the tasks between threads or processes.\n",
    "\n"
   ]
  },
  {
   "cell_type": "code",
   "execution_count": 2,
   "id": "7ec8d5b0-388b-48f5-b743-052eab8bba98",
   "metadata": {
    "execution": {
     "iopub.execute_input": "2024-12-27T10:32:40.351856Z",
     "iopub.status.busy": "2024-12-27T10:32:40.351683Z",
     "iopub.status.idle": "2024-12-27T10:32:40.354459Z",
     "shell.execute_reply": "2024-12-27T10:32:40.354058Z",
     "shell.execute_reply.started": "2024-12-27T10:32:40.351842Z"
    }
   },
   "outputs": [],
   "source": [
    "def my_square_function(x): \n",
    "    return x**2 \n",
    "\n",
    "delayed_square_function = delayed(my_square_function)"
   ]
  },
  {
   "cell_type": "code",
   "execution_count": null,
   "id": "81042ac6-cda2-45dd-9cdf-bdf958ffae6f",
   "metadata": {
    "execution": {
     "iopub.execute_input": "2024-12-27T10:32:40.355348Z",
     "iopub.status.busy": "2024-12-27T10:32:40.355206Z",
     "iopub.status.idle": "2024-12-27T10:32:40.361235Z",
     "shell.execute_reply": "2024-12-27T10:32:40.360823Z",
     "shell.execute_reply.started": "2024-12-27T10:32:40.355335Z"
    }
   },
   "outputs": [],
   "source": [
    "delayed_square_function(4)"
   ]
  },
  {
   "cell_type": "code",
   "execution_count": null,
   "id": "f4988cfc-0ec1-476c-aed6-405f564b1b8b",
   "metadata": {
    "execution": {
     "iopub.execute_input": "2024-12-27T10:32:40.362283Z",
     "iopub.status.busy": "2024-12-27T10:32:40.362056Z",
     "iopub.status.idle": "2024-12-27T10:32:40.364949Z",
     "shell.execute_reply": "2024-12-27T10:32:40.364408Z",
     "shell.execute_reply.started": "2024-12-27T10:32:40.362268Z"
    }
   },
   "outputs": [],
   "source": [
    "print(delayed_square_function)"
   ]
  },
  {
   "cell_type": "code",
   "execution_count": null,
   "id": "2a53a8bd-ec3b-4442-9169-4f6e13123296",
   "metadata": {
    "execution": {
     "iopub.execute_input": "2024-12-27T10:32:40.365920Z",
     "iopub.status.busy": "2024-12-27T10:32:40.365735Z",
     "iopub.status.idle": "2024-12-27T10:32:40.684957Z",
     "shell.execute_reply": "2024-12-27T10:32:40.684344Z",
     "shell.execute_reply.started": "2024-12-27T10:32:40.365906Z"
    }
   },
   "outputs": [],
   "source": [
    "delayed_result_1 = delayed(my_square_function)(4)\n",
    "\n",
    "delayed_result_2 = (4 + delayed_result_1) * 5\n",
    "print(delayed_result_2.compute())"
   ]
  },
  {
   "cell_type": "code",
   "execution_count": 6,
   "id": "c5d58539-74df-409e-88dc-6d38b61c7ab1",
   "metadata": {
    "execution": {
     "iopub.execute_input": "2024-12-27T10:32:40.688846Z",
     "iopub.status.busy": "2024-12-27T10:32:40.688622Z",
     "iopub.status.idle": "2024-12-27T10:32:40.692414Z",
     "shell.execute_reply": "2024-12-27T10:32:40.691934Z",
     "shell.execute_reply.started": "2024-12-27T10:32:40.688832Z"
    }
   },
   "outputs": [],
   "source": [
    "x_list = [30, 23, 25 , 68]\n",
    "\n",
    "sum_of_squares = 0\n",
    "\n",
    "for x in x_list: \n",
    "    sum_of_squares += delayed(my_square_function)(x)\n",
    "\n"
   ]
  },
  {
   "cell_type": "code",
   "execution_count": null,
   "id": "6bb6df8d-e77d-48b8-8790-cc570cf7a678",
   "metadata": {
    "execution": {
     "iopub.execute_input": "2024-12-27T10:32:40.693145Z",
     "iopub.status.busy": "2024-12-27T10:32:40.692957Z",
     "iopub.status.idle": "2024-12-27T10:32:40.696911Z",
     "shell.execute_reply": "2024-12-27T10:32:40.696471Z",
     "shell.execute_reply.started": "2024-12-27T10:32:40.693093Z"
    }
   },
   "outputs": [],
   "source": [
    "type(sum_of_squares)"
   ]
  },
  {
   "cell_type": "code",
   "execution_count": null,
   "id": "602a8df1-8e10-48c9-b7ec-cccc43568bca",
   "metadata": {
    "execution": {
     "iopub.execute_input": "2024-12-27T10:32:40.697564Z",
     "iopub.status.busy": "2024-12-27T10:32:40.697392Z",
     "iopub.status.idle": "2024-12-27T10:32:40.704352Z",
     "shell.execute_reply": "2024-12-27T10:32:40.702909Z",
     "shell.execute_reply.started": "2024-12-27T10:32:40.697523Z"
    }
   },
   "outputs": [],
   "source": [
    "result = sum_of_squares.compute()\n",
    "print(result)"
   ]
  },
  {
   "cell_type": "markdown",
   "id": "7f52fa98-07d9-4989-a0cd-858720bf391b",
   "metadata": {},
   "source": [
    "> The approach hereunder is inefficient, since the `delayed_intermediate` has to be calculated twice"
   ]
  },
  {
   "cell_type": "code",
   "execution_count": null,
   "id": "2ea29a2f-5368-4b63-b149-68dc6c66af94",
   "metadata": {
    "execution": {
     "iopub.execute_input": "2024-12-27T10:32:40.705279Z",
     "iopub.status.busy": "2024-12-27T10:32:40.705092Z",
     "iopub.status.idle": "2024-12-27T10:32:40.710307Z",
     "shell.execute_reply": "2024-12-27T10:32:40.709935Z",
     "shell.execute_reply.started": "2024-12-27T10:32:40.705264Z"
    }
   },
   "outputs": [],
   "source": [
    "delayed_intermediate = delayed (my_square_function) (3)\n",
    "# These two results both use delayed_intermediate\n",
    "delayed_result1 = delayed_intermediate - 5\n",
    "delayed_result2 = delayed_intermediate + 4\n",
    "# delayed_3_squared will be computed twice\n",
    "print( 'delayed_resultl:', delayed_result1.compute())\n",
    "print('delayed_result2:', delayed_result2.compute())"
   ]
  },
  {
   "cell_type": "code",
   "execution_count": null,
   "id": "5734f7c6-418d-4c7b-8e9a-bf9335199afc",
   "metadata": {
    "execution": {
     "iopub.execute_input": "2024-12-27T10:32:40.711143Z",
     "iopub.status.busy": "2024-12-27T10:32:40.710861Z",
     "iopub.status.idle": "2024-12-27T10:32:40.715058Z",
     "shell.execute_reply": "2024-12-27T10:32:40.714575Z",
     "shell.execute_reply.started": "2024-12-27T10:32:40.711123Z"
    }
   },
   "outputs": [],
   "source": [
    "#Fixing this: \n",
    "\n",
    "import dask \n",
    "\n",
    "comp_result1, comp_result2 = dask.compute(delayed_result1, delayed_result2)\n",
    "\n",
    "print( 'comp_result1:', comp_result1)\n",
    "print('comp_result2:', comp_result2)"
   ]
  },
  {
   "cell_type": "code",
   "execution_count": null,
   "id": "06a563f6-47b2-4657-87da-f2a29aeea448",
   "metadata": {
    "execution": {
     "iopub.execute_input": "2024-12-27T10:32:40.715765Z",
     "iopub.status.busy": "2024-12-27T10:32:40.715592Z",
     "iopub.status.idle": "2024-12-27T10:32:41.029063Z",
     "shell.execute_reply": "2024-12-27T10:32:41.028603Z",
     "shell.execute_reply.started": "2024-12-27T10:32:40.715746Z"
    }
   },
   "outputs": [],
   "source": [
    "# Import the delayed function from Dask\n",
    "from dask import delayed\n",
    "\n",
    "costs_week_1 = [1, 2, 3, 4]\n",
    "costs_week_2 = [5, 1, 2, 3, 4]\n",
    "\n",
    "# Lazily calculate the sums of costs_week_1 and costs_week_2\n",
    "sum1 = delayed(np.sum)(costs_week_1)\n",
    "sum2 = delayed(np.sum)(costs_week_2)\n",
    "\n",
    "# Add the two delayed sums\n",
    "total = delayed(sum1+sum2)\n",
    "\n",
    "total.visualize()\n",
    "\n",
    "# Compute and print the final answer\n",
    "print(total.compute())"
   ]
  },
  {
   "cell_type": "code",
   "execution_count": null,
   "id": "92f78974-722e-4feb-94c8-6161250b4ad9",
   "metadata": {
    "execution": {
     "iopub.execute_input": "2024-12-27T10:32:41.030095Z",
     "iopub.status.busy": "2024-12-27T10:32:41.029783Z",
     "iopub.status.idle": "2024-12-27T10:32:41.048090Z",
     "shell.execute_reply": "2024-12-27T10:32:41.047693Z",
     "shell.execute_reply.started": "2024-12-27T10:32:41.030080Z"
    }
   },
   "outputs": [],
   "source": [
    "from ipycytoscape import CytoscapeWidget\n",
    "import ipywidgets as widgets\n",
    "\n",
    "total.visualize()"
   ]
  },
  {
   "cell_type": "code",
   "execution_count": null,
   "id": "4236e448-10e6-4043-aaa4-0378a059680a",
   "metadata": {
    "execution": {
     "iopub.execute_input": "2024-12-27T10:32:41.049135Z",
     "iopub.status.busy": "2024-12-27T10:32:41.048862Z",
     "iopub.status.idle": "2024-12-27T10:32:41.063173Z",
     "shell.execute_reply": "2024-12-27T10:32:41.062656Z",
     "shell.execute_reply.started": "2024-12-27T10:32:41.049108Z"
    }
   },
   "outputs": [],
   "source": [
    "dask.visualize(sum1, sum2)"
   ]
  },
  {
   "cell_type": "code",
   "execution_count": null,
   "id": "6cfffd1b-7c25-4336-9869-fc2b472bf4d6",
   "metadata": {
    "execution": {
     "iopub.execute_input": "2024-12-27T10:32:41.064053Z",
     "iopub.status.busy": "2024-12-27T10:32:41.063792Z",
     "iopub.status.idle": "2024-12-27T10:32:41.084392Z",
     "shell.execute_reply": "2024-12-27T10:32:41.083982Z",
     "shell.execute_reply.started": "2024-12-27T10:32:41.064038Z"
    }
   },
   "outputs": [],
   "source": [
    "dask.visualize(delayed_result1, delayed_result2)"
   ]
  },
  {
   "cell_type": "code",
   "execution_count": null,
   "id": "40ffb139-be26-41f0-b34f-b9dd69d4691f",
   "metadata": {},
   "outputs": [],
   "source": []
  },
  {
   "cell_type": "markdown",
   "id": "9799cb0c-1092-4c95-8217-a0691c489331",
   "metadata": {},
   "source": [
    "# Dask Arrays \n",
    "\n",
    "Dask arrays allow to split numpy arrays into chunks.\n",
    "\n",
    "Dask arrays are created lazily and have almost all the methods numpy arrays have (max, min, sum, mean...)"
   ]
  },
  {
   "cell_type": "code",
   "execution_count": 15,
   "id": "d57b5f30-e6f3-4e81-97b3-9d614c444390",
   "metadata": {
    "execution": {
     "iopub.execute_input": "2024-12-27T10:32:41.085562Z",
     "iopub.status.busy": "2024-12-27T10:32:41.085096Z",
     "iopub.status.idle": "2024-12-27T10:32:41.209448Z",
     "shell.execute_reply": "2024-12-27T10:32:41.209000Z",
     "shell.execute_reply.started": "2024-12-27T10:32:41.085542Z"
    }
   },
   "outputs": [],
   "source": [
    "import numpy as np \n",
    "\n",
    "x= np.ones((4000, 6000))"
   ]
  },
  {
   "cell_type": "code",
   "execution_count": null,
   "id": "8b4b47e0-2d57-44f5-b3a6-32600430d85c",
   "metadata": {
    "execution": {
     "iopub.execute_input": "2024-12-27T10:32:41.210157Z",
     "iopub.status.busy": "2024-12-27T10:32:41.210025Z",
     "iopub.status.idle": "2024-12-27T10:32:45.837910Z",
     "shell.execute_reply": "2024-12-27T10:32:45.837404Z",
     "shell.execute_reply.started": "2024-12-27T10:32:41.210142Z"
    }
   },
   "outputs": [],
   "source": [
    "%timeit x.sum()"
   ]
  },
  {
   "cell_type": "code",
   "execution_count": 17,
   "id": "0ea8debd-579c-4e64-ada9-3b15945243dd",
   "metadata": {
    "execution": {
     "iopub.execute_input": "2024-12-27T10:32:45.838859Z",
     "iopub.status.busy": "2024-12-27T10:32:45.838669Z",
     "iopub.status.idle": "2024-12-27T10:32:46.100149Z",
     "shell.execute_reply": "2024-12-27T10:32:46.099673Z",
     "shell.execute_reply.started": "2024-12-27T10:32:45.838843Z"
    }
   },
   "outputs": [],
   "source": [
    "import dask.array as da \n",
    "dx = da.ones((4000, 6000), chunks=(1000, 2000))"
   ]
  },
  {
   "attachments": {
    "2e5adb1f-dff4-4ba1-a5a1-691a5e236087.png": {
     "image/png": "[encoded data removed]"
    }
   },
   "cell_type": "markdown",
   "id": "00756ca7-5fd4-4446-984a-6c591c36c507",
   "metadata": {},
   "source": [
    "![image.png](attachment:2e5adb1f-dff4-4ba1-a5a1-691a5e236087.png)"
   ]
  },
  {
   "cell_type": "code",
   "execution_count": null,
   "id": "6199cf23-b8e7-4a3b-8ffb-d72c53463c16",
   "metadata": {
    "execution": {
     "iopub.execute_input": "2024-12-27T10:32:46.101342Z",
     "iopub.status.busy": "2024-12-27T10:32:46.100924Z",
     "iopub.status.idle": "2024-12-27T10:32:50.639255Z",
     "shell.execute_reply": "2024-12-27T10:32:50.638845Z",
     "shell.execute_reply.started": "2024-12-27T10:32:46.101316Z"
    }
   },
   "outputs": [],
   "source": [
    "%timeit dx.sum().compute()"
   ]
  },
  {
   "cell_type": "code",
   "execution_count": null,
   "id": "f654819e-4f30-42b2-a5ea-87dca9a824d3",
   "metadata": {
    "execution": {
     "iopub.execute_input": "2024-12-27T10:32:50.640439Z",
     "iopub.status.busy": "2024-12-27T10:32:50.640099Z",
     "iopub.status.idle": "2024-12-27T10:32:50.712129Z",
     "shell.execute_reply": "2024-12-27T10:32:50.711652Z",
     "shell.execute_reply.started": "2024-12-27T10:32:50.640422Z"
    }
   },
   "outputs": [],
   "source": [
    "dx.sum().visualize()"
   ]
  },
  {
   "cell_type": "markdown",
   "id": "4b802f67-21e2-41b6-9d0c-c5a26fb23503",
   "metadata": {
    "execution": {
     "iopub.execute_input": "2024-12-27T10:01:23.825887Z",
     "iopub.status.busy": "2024-12-27T10:01:23.825039Z",
     "iopub.status.idle": "2024-12-27T10:01:23.835605Z",
     "shell.execute_reply": "2024-12-27T10:01:23.833875Z",
     "shell.execute_reply.started": "2024-12-27T10:01:23.825848Z"
    }
   },
   "source": [
    "## Loading data into dask arrays"
   ]
  },
  {
   "cell_type": "code",
   "execution_count": 20,
   "id": "c74cb8e5-fe41-4fd4-a769-fd046f5b4378",
   "metadata": {
    "execution": {
     "iopub.execute_input": "2024-12-27T10:32:50.712902Z",
     "iopub.status.busy": "2024-12-27T10:32:50.712758Z",
     "iopub.status.idle": "2024-12-27T10:32:51.595652Z",
     "shell.execute_reply": "2024-12-27T10:32:51.595202Z",
     "shell.execute_reply.started": "2024-12-27T10:32:50.712889Z"
    }
   },
   "outputs": [],
   "source": [
    "import dask.array as da\n",
    "import dask.array.image as image \n",
    "\n",
    "image_array = image.imread('images/*.png')\n"
   ]
  },
  {
   "cell_type": "code",
   "execution_count": null,
   "id": "930035a7-1b6b-4b9b-98ac-31e983bca6cc",
   "metadata": {
    "execution": {
     "iopub.execute_input": "2024-12-27T10:33:36.263942Z",
     "iopub.status.busy": "2024-12-27T10:33:36.262766Z",
     "iopub.status.idle": "2024-12-27T10:33:36.273050Z",
     "shell.execute_reply": "2024-12-27T10:33:36.271824Z",
     "shell.execute_reply.started": "2024-12-27T10:33:36.263868Z"
    }
   },
   "outputs": [],
   "source": [
    "print(image_array)"
   ]
  },
  {
   "cell_type": "code",
   "execution_count": null,
   "id": "01f24df0-80f4-4be0-8fc9-5f8d9ba39b33",
   "metadata": {
    "execution": {
     "iopub.execute_input": "2024-12-27T13:19:09.163471Z",
     "iopub.status.busy": "2024-12-27T13:19:09.163324Z",
     "iopub.status.idle": "2024-12-27T13:19:09.196171Z",
     "shell.execute_reply": "2024-12-27T13:19:09.195565Z",
     "shell.execute_reply.started": "2024-12-27T13:19:09.163458Z"
    }
   },
   "outputs": [],
   "source": [
    "import pandas as pd \n",
    "\n",
    "pandas_df = pd.read_csv(\n",
    "    '../data/spotify/2005_tracks.csv'\n",
    ")\n",
    "pandas_df.head()\n"
   ]
  },
  {
   "cell_type": "code",
   "execution_count": null,
   "id": "360f95c9-c0e1-46f4-b6c1-588b85f14eb8",
   "metadata": {
    "execution": {
     "iopub.execute_input": "2024-12-27T13:20:42.263233Z",
     "iopub.status.busy": "2024-12-27T13:20:42.262556Z",
     "iopub.status.idle": "2024-12-27T13:20:42.285149Z",
     "shell.execute_reply": "2024-12-27T13:20:42.284354Z",
     "shell.execute_reply.started": "2024-12-27T13:20:42.263197Z"
    }
   },
   "outputs": [],
   "source": [
    "import dask.dataframe as dd \n",
    "\n",
    "dask_df = dd.read_csv(\n",
    "    \"../data/spotify/*.csv\"\n",
    ")\n",
    "\n",
    "print(dask_df)"
   ]
  },
  {
   "cell_type": "code",
   "execution_count": null,
   "id": "404a7388-fb03-4ab1-bc39-dc44d6002e49",
   "metadata": {
    "execution": {
     "iopub.execute_input": "2024-12-27T13:22:57.405077Z",
     "iopub.status.busy": "2024-12-27T13:22:57.403932Z",
     "iopub.status.idle": "2024-12-27T13:22:57.471659Z",
     "shell.execute_reply": "2024-12-27T13:22:57.471229Z",
     "shell.execute_reply.started": "2024-12-27T13:22:57.405006Z"
    }
   },
   "outputs": [],
   "source": [
    "dask.visualize(dask_df)"
   ]
  },
  {
   "cell_type": "code",
   "execution_count": null,
   "id": "0458aa29-bb8c-4cf3-8f78-2a6ae977b8b9",
   "metadata": {
    "execution": {
     "iopub.execute_input": "2024-12-27T13:27:58.210407Z",
     "iopub.status.busy": "2024-12-27T13:27:58.209581Z",
     "iopub.status.idle": "2024-12-27T13:27:58.249834Z",
     "shell.execute_reply": "2024-12-27T13:27:58.249197Z",
     "shell.execute_reply.started": "2024-12-27T13:27:58.210345Z"
    }
   },
   "outputs": [],
   "source": [
    "dask_df = dd.read_csv(\"../data/spotify/*.csv\", blocksize=\"100KB\")\n",
    "print(dask_df)"
   ]
  },
  {
   "cell_type": "code",
   "execution_count": 33,
   "id": "3a0b664a-6489-4ed8-83ea-e63c3fc6bdf1",
   "metadata": {
    "execution": {
     "iopub.execute_input": "2024-12-27T13:28:33.657045Z",
     "iopub.status.busy": "2024-12-27T13:28:33.655933Z",
     "iopub.status.idle": "2024-12-27T13:28:33.670159Z",
     "shell.execute_reply": "2024-12-27T13:28:33.668742Z",
     "shell.execute_reply.started": "2024-12-27T13:28:33.656978Z"
    }
   },
   "outputs": [],
   "source": [
    "col1 = dask_df['name']"
   ]
  },
  {
   "cell_type": "code",
   "execution_count": null,
   "id": "fb1b401e-fdd1-4834-8398-7cc70862a343",
   "metadata": {
    "execution": {
     "iopub.execute_input": "2024-12-27T14:41:32.293449Z",
     "iopub.status.busy": "2024-12-27T14:41:32.292305Z",
     "iopub.status.idle": "2024-12-27T14:41:32.587847Z",
     "shell.execute_reply": "2024-12-27T14:41:32.587486Z",
     "shell.execute_reply.started": "2024-12-27T14:41:32.293376Z"
    }
   },
   "outputs": [],
   "source": [
    "dask_df['popularity'].std().compute()"
   ]
  },
  {
   "cell_type": "code",
   "execution_count": null,
   "id": "b8ae01ed-a259-4bcc-99f7-5b783c344e87",
   "metadata": {
    "execution": {
     "iopub.execute_input": "2024-12-27T14:41:40.218876Z",
     "iopub.status.busy": "2024-12-27T14:41:40.218550Z",
     "iopub.status.idle": "2024-12-27T14:41:40.455582Z",
     "shell.execute_reply": "2024-12-27T14:41:40.455196Z",
     "shell.execute_reply.started": "2024-12-27T14:41:40.218853Z"
    }
   },
   "outputs": [],
   "source": [
    "dask_df['popularity'].min().compute()"
   ]
  },
  {
   "cell_type": "code",
   "execution_count": null,
   "id": "3ef965de-4c24-4e6b-8477-37d22b14a880",
   "metadata": {
    "execution": {
     "iopub.execute_input": "2024-12-27T14:42:27.815919Z",
     "iopub.status.busy": "2024-12-27T14:42:27.814706Z",
     "iopub.status.idle": "2024-12-27T14:42:27.856997Z",
     "shell.execute_reply": "2024-12-27T14:42:27.856458Z",
     "shell.execute_reply.started": "2024-12-27T14:42:27.815841Z"
    }
   },
   "outputs": [],
   "source": [
    "dask_df.nlargest(n=3, columns='popularity')"
   ]
  },
  {
   "cell_type": "code",
   "execution_count": null,
   "id": "695a9988-6e41-44a0-a078-58ed84a300fa",
   "metadata": {
    "execution": {
     "iopub.execute_input": "2024-12-27T14:59:12.927774Z",
     "iopub.status.busy": "2024-12-27T14:59:12.926543Z",
     "iopub.status.idle": "2024-12-27T14:59:14.236166Z",
     "shell.execute_reply": "2024-12-27T14:59:14.235777Z",
     "shell.execute_reply.started": "2024-12-27T14:59:12.927700Z"
    }
   },
   "outputs": [],
   "source": [
    "dask_df = dd.read_csv(\"../data/spotify/*.csv\", blocksize=\"10MB\")\n",
    "dask_df.to_csv('part-*.csv')"
   ]
  },
  {
   "cell_type": "code",
   "execution_count": null,
   "id": "915ea2e5-d5d6-4354-b761-620174024145",
   "metadata": {},
   "outputs": [],
   "source": []
  }
 ],
 "metadata": {
  "kernelspec": {
   "display_name": "Python 3 (ipykernel)",
   "language": "python",
   "name": "python3"
  },
  "language_info": {
   "codemirror_mode": {
    "name": "ipython",
    "version": 3
   },
   "file_extension": ".py",
   "mimetype": "text/x-python",
   "name": "python",
   "nbconvert_exporter": "python",
   "pygments_lexer": "ipython3",
   "version": "3.11.10"
  }
 },
 "nbformat": 4,
 "nbformat_minor": 5
}
