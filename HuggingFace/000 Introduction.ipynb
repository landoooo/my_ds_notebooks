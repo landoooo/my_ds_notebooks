{
 "cells": [
  {
   "cell_type": "markdown",
   "id": "ec028c92-8d57-47e0-9e75-c4650e09c584",
   "metadata": {},
   "source": [
    "# Loading the API"
   ]
  },
  {
   "cell_type": "code",
   "execution_count": null,
   "id": "650de626-f6dd-42d4-8066-7e883e143dc6",
   "metadata": {},
   "outputs": [],
   "source": [
    "from huggingface_hub import HfApi \n",
    "import tqdm as notebook_tqdm\n",
    "\n",
    "api = HfApi() \n",
    "\n",
    "#list(api.list_models())"
   ]
  },
  {
   "cell_type": "markdown",
   "id": "390f5234-b790-4ff9-9df7-cff0ad24d005",
   "metadata": {},
   "source": [
    "# Filtering Models"
   ]
  },
  {
   "cell_type": "code",
   "execution_count": null,
   "id": "a4161243-5826-408d-97fc-39026da08459",
   "metadata": {},
   "outputs": [],
   "source": [
    "from huggingface_hub import ModelFilter\n",
    "\n",
    "# Return the filtered list from the Hub\n",
    "models = api.list_models(\n",
    "    filter=ModelFilter(task=\"text-classification\"),\n",
    "    sort=\"downloads\",\n",
    "    direction=-1,\n",
    "  \tlimit=1\n",
    ")\n",
    "\n",
    "# Store as a list\n",
    "modelList = list(models)\n",
    "\n",
    "print(modelList[0].modelId)"
   ]
  },
  {
   "cell_type": "markdown",
   "id": "0ee5ebac-c3d9-457e-88c1-c617a12755cd",
   "metadata": {},
   "source": [
    "# Downloading a Model"
   ]
  },
  {
   "cell_type": "code",
   "execution_count": null,
   "id": "868f5129-67c6-4b80-838b-1e61caf29786",
   "metadata": {},
   "outputs": [],
   "source": [
    "from transformers import AutoModel\n",
    "\n",
    "modelId = \"distilbert-base-uncased-finetuned-sst-2-english\"\n",
    "\n",
    "# Instantiate the AutoModel class\n",
    "model = AutoModel.from_pretrained(modelId)\n",
    "\n",
    "# Save the model\n",
    "model.save_pretrained(save_directory=f\"models/{modelId}\")"
   ]
  },
  {
   "cell_type": "markdown",
   "id": "e6119242-95b7-46a0-9281-518d276d2e80",
   "metadata": {},
   "source": [
    "# Woking with Datasets\n",
    "\n",
    "Datasets can be consulted [here](https://huggingface.co/datasets). Each dataset has a dataset card, detailing itself.\n",
    "\n",
    "The library *dataset* allows access, download, mutate, use and share all these datasets straight away. \n",
    "\n",
    "These datasets are usually quite big. Check them before downloading and mind the disk space.\n",
    "\n",
    "\n",
    "\n"
   ]
  },
  {
   "cell_type": "code",
   "execution_count": null,
   "id": "f1d01caa-1f62-4391-bf31-fdfba8851442",
   "metadata": {},
   "outputs": [],
   "source": [
    "from datasets import load_dataset_builder\n",
    "\n",
    "data_builder = load_dataset_builder(\"derenrich/wikidata-en-descriptions-small\")\n",
    "\n",
    "print('Description: ', data_builder.info.description)\n",
    "print('Features: ', data_builder.info.features)"
   ]
  },
  {
   "cell_type": "code",
   "execution_count": null,
   "id": "16d27891-eca2-4b2e-b739-6c94cdffe5e3",
   "metadata": {},
   "outputs": [],
   "source": [
    "from datasets import load_dataset \n",
    "\n",
    "data=load_dataset('imdb')\n"
   ]
  },
  {
   "cell_type": "code",
   "execution_count": null,
   "id": "f1c7129e-77b3-48cc-b549-df0bc94900fc",
   "metadata": {},
   "outputs": [],
   "source": [
    "# With split parameter\n",
    "data = load_dataset('imdb', split='train')"
   ]
  },
  {
   "cell_type": "code",
   "execution_count": null,
   "id": "61ea849f-7bef-4553-9734-38130c5e0650",
   "metadata": {},
   "outputs": [],
   "source": [
    "# Configuration parameter \n",
    "#data=load_dataset('wikipedia', '20231101.en')"
   ]
  },
  {
   "cell_type": "markdown",
   "id": "e217457a-0d20-41ce-8b3a-c62725c1f96b",
   "metadata": {},
   "source": [
    "This datasets are in apache arrow format -> efficient processing on large data and faster querying\n",
    "\n"
   ]
  },
  {
   "cell_type": "markdown",
   "id": "833d6f6d-3a80-4503-8ba6-ba5699a776ef",
   "metadata": {},
   "source": [
    "# Pipelines \n",
    "\n",
    "Autoclasses are general classes for using Models, tokenizers, Configurations, Processors, Feature extractors. They are flexible and direct.\n",
    "\n",
    "## AutoModels \n",
    "\n",
    "They are Auto classes to directly download a model \n",
    "\n",
    "AutoModel class for each type of task"
   ]
  },
  {
   "cell_type": "code",
   "execution_count": null,
   "id": "5359791f-c90a-416f-9f69-c2c8565e6977",
   "metadata": {},
   "outputs": [],
   "source": [
    "from transformers import AutoModelForSequenceClassification \n",
    "\n",
    "model = AutoModelForSequenceClassification.from_pretrained(\n",
    "    'distilbert-base-uncased-finetuned-sst-2-english'\n",
    ")\n",
    "\n"
   ]
  },
  {
   "cell_type": "markdown",
   "id": "1ad94d8a-6e64-4afe-b23b-bf74131a952a",
   "metadata": {},
   "source": [
    "## AutoTokenizers\n",
    "\n",
    "Prepare text input data.\n",
    "\n",
    "Recommended to use the tokenizer paired with the model. \n",
    "\n"
   ]
  },
  {
   "cell_type": "code",
   "execution_count": null,
   "id": "e3f132ef-d3a2-47e6-8be5-350eb29dac93",
   "metadata": {},
   "outputs": [],
   "source": [
    "from transformers import AutoTokenizer \n",
    "\n",
    "tokenizer = AutoTokenizer.from_pretrained(\n",
    "    'distilbert-base-uncased-finetuned-sst-2-english'    \n",
    ")"
   ]
  },
  {
   "cell_type": "markdown",
   "id": "1b55e474-88aa-4b6d-82f1-7a0a6403427f",
   "metadata": {},
   "source": [
    "## Pipeline Module \n",
    "\n",
    "Contains all task-specific steps \n",
    "\n",
    "Best for quickly performing tasks \n",
    "\n",
    "### Task Pipelines \n",
    "\n",
    "contains task specific pipeline for each task. These task pipelines leverage Auto classes. They download model and relevant processing.\n",
    "\n"
   ]
  },
  {
   "cell_type": "code",
   "execution_count": null,
   "id": "1108e4b2-a2ff-4672-80f8-8b4c0972b212",
   "metadata": {},
   "outputs": [],
   "source": [
    "from transformers import pipeline\n",
    "\n",
    "from transformers import (\n",
    "    SummarizationPipeline, \n",
    "    TextClassificationPipeline, \n",
    "    AudioClassificationPipeline,\n",
    "    ImageSegmentationPipeline, \n",
    "    QuestionAnsweringPipeline\n",
    ")"
   ]
  },
  {
   "cell_type": "markdown",
   "id": "ebbc3950-7d27-4f4e-a9a7-d766643b5e39",
   "metadata": {},
   "source": [
    "### Creating a pipeline \n",
    "\n",
    "When creating a pipeline you can specify a task or a model. This will end up in hf using default values for the missing param."
   ]
  },
  {
   "cell_type": "code",
   "execution_count": null,
   "id": "22cd43ab-55a4-4f0c-a97d-98887d6b94ed",
   "metadata": {},
   "outputs": [],
   "source": [
    "my_pipelne = pipeline(task='text-classification') \n",
    "\n",
    "my_pipeline = pipeline(model='distilbert-base-uncased-finetuned-sst-2-english')\n"
   ]
  },
  {
   "cell_type": "code",
   "execution_count": null,
   "id": "e88e93b4-d10c-4e67-9bbc-d1397c66b931",
   "metadata": {},
   "outputs": [],
   "source": [
    "my_pipelne = pipeline(task='text-classification',\n",
    "                      model='distilbert-base-uncased-finetuned-sst-2-english')\n"
   ]
  },
  {
   "cell_type": "code",
   "execution_count": null,
   "id": "ad1fc50f-ca1c-498f-a316-667b798e50d0",
   "metadata": {},
   "outputs": [],
   "source": [
    "from transformers import pipeline, AutoModelForSequenceClassification\n",
    "\n",
    "model = AutoModelForSequenceClassification.from_pretrained(\n",
    "    'distilbert-base-uncased-finetuned-sst-2-english'\n",
    ")\n",
    "\n",
    "my_pipeline = pipeline(model=model)"
   ]
  },
  {
   "cell_type": "code",
   "execution_count": null,
   "id": "a8a2e5ab-492b-427f-ab29-ecacaa3d72cf",
   "metadata": {},
   "outputs": [],
   "source": [
    "from transformers import pipeline \n",
    "\n",
    "my_pipeline = pipeline(task = 'text-classification', \n",
    "                        model='distilbert-base-uncased-finetuned-sst-2-english')"
   ]
  },
  {
   "cell_type": "code",
   "execution_count": null,
   "id": "7c41fc6f-a347-4990-b0f7-a4f7bb03c75f",
   "metadata": {},
   "outputs": [],
   "source": [
    "input = 'Hi, welcome to this course'\n",
    "\n",
    "my_pipeline(input)"
   ]
  },
  {
   "cell_type": "code",
   "execution_count": null,
   "id": "3e311adc-5d31-4b2d-a5cc-531ccf541213",
   "metadata": {},
   "outputs": [],
   "source": []
  }
 ],
 "metadata": {
  "kernelspec": {
   "display_name": "Python 3 (ipykernel)",
   "language": "python",
   "name": "python3"
  },
  "language_info": {
   "codemirror_mode": {
    "name": "ipython",
    "version": 3
   },
   "file_extension": ".py",
   "mimetype": "text/x-python",
   "name": "python",
   "nbconvert_exporter": "python",
   "pygments_lexer": "ipython3",
   "version": "3.11.10"
  }
 },
 "nbformat": 4,
 "nbformat_minor": 5
}
