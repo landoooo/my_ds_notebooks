{
 "cells": [
  {
   "cell_type": "markdown",
   "id": "6cd1a274-6f09-410b-99f5-26de488ea8a9",
   "metadata": {},
   "source": [
    "# Embeddings \n",
    "\n",
    "Concept comming from NLP\n",
    "\n",
    "Embeddings are numerical representations of text in a multidimensional space where similar texts are closer than disimilar ones. Relations are kept too.\n",
    "\n",
    "Embeddings allow semantic meaning to be captured.\n",
    "\n",
    "Embeddings enable semantic search engines, sophisticated recommender systems and semantic classifiers.\n",
    "\n",
    "\n",
    "\n"
   ]
  },
  {
   "cell_type": "code",
   "execution_count": null,
   "id": "d19185f1-e5cc-47e3-85a2-49d01bcfb98b",
   "metadata": {},
   "outputs": [],
   "source": [
    "from openai import OpenAI \n",
    "import os \n",
    "\n",
    "client = OpenAI(api_key=os.getenv('OPENAI_API_KEY'))\n",
    "\n",
    "response = client.embeddings.create(\n",
    "    model='text-embedding-3-small',\n",
    "    input='Embeddings are a numerical representation of text that can be used to measure the relatedness between two pieces of text.'\n",
    ")\n",
    "\n",
    "response_dict = response.model_dump() \n",
    "print(response_dict)"
   ]
  },
  {
   "cell_type": "markdown",
   "id": "e87696aa-2399-4d2b-af30-f5e4196a1b4e",
   "metadata": {},
   "source": [
    "# Investigating the vector space"
   ]
  },
  {
   "cell_type": "code",
   "execution_count": null,
   "id": "12956144-921b-45e6-9f1a-fdabd4b8a0a8",
   "metadata": {},
   "outputs": [],
   "source": [
    "len(response_dict['data'][0]['embedding'])"
   ]
  },
  {
   "cell_type": "code",
   "execution_count": null,
   "id": "3cc2f813-234c-4edc-b281-c5893d62dadc",
   "metadata": {},
   "outputs": [],
   "source": [
    "products=[{'title': 'Smartphone X1',\n",
    "  'short_description': 'The latest flagship smartphone with AI-powered features and 5G connectivity.',\n",
    "  'price': 799.99,\n",
    "  'category': 'Electronics',\n",
    "  'features': ['6.5-inch AMOLED display',\n",
    "   'Quad-camera system with 48MP main sensor',\n",
    "   'Face recognition and fingerprint sensor',\n",
    "   'Fast wireless charging']},\n",
    " {'title': 'Luxury Diamond Necklace',\n",
    "  'short_description': 'Elegant necklace featuring genuine diamonds, perfect for special occasions.',\n",
    "  'price': 1499.99,\n",
    "  'category': 'Beauty',\n",
    "  'features': ['18k white gold chain',\n",
    "   '0.5 carat diamond pendant',\n",
    "   'Adjustable chain length',\n",
    "   'Gift box included']},\n",
    " {'title': 'RC Racing Car',\n",
    "  'short_description': 'High-speed remote-controlled racing car for adrenaline-packed fun.',\n",
    "  'price': 89.99,\n",
    "  'category': 'Toys',\n",
    "  'features': ['Top speed of 30 mph',\n",
    "   'Responsive remote control',\n",
    "   'Rechargeable battery',\n",
    "   'Durable construction']},\n",
    " {'title': 'Ultra HD 4K TV',\n",
    "  'short_description': 'Immerse yourself in stunning visuals with this 65-inch 4K TV.',\n",
    "  'price': 1299.99,\n",
    "  'category': 'Electronics',\n",
    "  'features': ['65-inch 4K UHD display',\n",
    "   'Dolby Vision and HDR10+ support',\n",
    "   'Smart TV with streaming apps',\n",
    "   'Voice remote included']},\n",
    " {'title': 'Glowing Skin Serum',\n",
    "  'short_description': 'Revitalize your skin with this nourishing serum for a radiant glow.',\n",
    "  'price': 39.99,\n",
    "  'category': 'Beauty',\n",
    "  'features': ['Hyaluronic acid and vitamin C',\n",
    "   'Hydrates and reduces fine lines',\n",
    "   'Suitable for all skin types',\n",
    "   'Cruelty-free']},\n",
    " {'title': 'LEGO Space Shuttle',\n",
    "  'short_description': 'Build your own space adventure with this LEGO space shuttle set.',\n",
    "  'price': 49.99,\n",
    "  'category': 'Toys',\n",
    "  'features': ['359 pieces for creative building',\n",
    "   'Astronaut minifigure included',\n",
    "   'Compatible with other LEGO sets',\n",
    "   'For ages 7+']},\n",
    " {'title': 'Wireless Noise-Canceling Headphones',\n",
    "  'short_description': 'Enjoy immersive audio and block out distractions with these headphones.',\n",
    "  'price': 199.99,\n",
    "  'category': 'Electronics',\n",
    "  'features': ['Active noise cancellation',\n",
    "   'Bluetooth 5.0 connectivity',\n",
    "   'Long-lasting battery life',\n",
    "   'Foldable design for portability']},\n",
    " {'title': 'Luxury Perfume Gift Set',\n",
    "  'short_description': 'Indulge in a collection of premium fragrances with this gift set.',\n",
    "  'price': 129.99,\n",
    "  'category': 'Beauty',\n",
    "  'features': ['Five unique scents',\n",
    "   'Elegant packaging',\n",
    "   'Perfect gift for fragrance enthusiasts',\n",
    "   'Variety of fragrance notes']},\n",
    " {'title': 'Remote-Controlled Drone',\n",
    "  'short_description': 'Take to the skies and capture stunning aerial footage with this drone.',\n",
    "  'price': 299.99,\n",
    "  'category': 'Electronics',\n",
    "  'features': ['4K camera with gimbal stabilization',\n",
    "   'GPS-assisted flight',\n",
    "   'Remote control with smartphone app',\n",
    "   'Return-to-home function']},\n",
    " {'title': 'Luxurious Spa Gift Basket',\n",
    "  'short_description': 'Pamper yourself or a loved one with this spa gift basket full of relaxation goodies.',\n",
    "  'price': 79.99,\n",
    "  'category': 'Beauty',\n",
    "  'features': ['Bath bombs, body lotion, and more',\n",
    "   'Aromatherapy candles',\n",
    "   'Reusable wicker basket',\n",
    "   'Great for self-care']},\n",
    " {'title': 'Robot Building Kit',\n",
    "  'short_description': 'Learn robotics and coding with this educational robot building kit.',\n",
    "  'price': 59.99,\n",
    "  'category': 'Toys',\n",
    "  'features': ['Build and program your own robot',\n",
    "   'STEM learning tool',\n",
    "   'Compatible with Scratch and Python',\n",
    "   'Ideal for young inventors']},\n",
    " {'title': 'High-Performance Gaming Laptop',\n",
    "  'short_description': 'Dominate the gaming world with this powerful gaming laptop.',\n",
    "  'price': 1499.99,\n",
    "  'category': 'Electronics',\n",
    "  'features': ['Intel Core i7 processor',\n",
    "   'NVIDIA RTX graphics',\n",
    "   '144Hz refresh rate display',\n",
    "   'RGB backlit keyboard']},\n",
    " {'title': 'Natural Mineral Makeup Set',\n",
    "  'short_description': 'Enhance your beauty with this mineral makeup set for a flawless look.',\n",
    "  'price': 34.99,\n",
    "  'category': 'Beauty',\n",
    "  'features': ['Mineral foundation and eyeshadows',\n",
    "   'Non-comedogenic and paraben-free',\n",
    "   'Cruelty-free and vegan',\n",
    "   'Includes makeup brushes']},\n",
    " {'title': 'Interactive Robot Pet',\n",
    "  'short_description': 'Adopt your own robot pet that responds to your voice and touch.',\n",
    "  'price': 79.99,\n",
    "  'category': 'Toys',\n",
    "  'features': ['Realistic pet behaviors',\n",
    "   'Voice recognition and touch sensors',\n",
    "   'Teaches responsibility and empathy',\n",
    "   'Rechargeable battery']},\n",
    " {'title': 'Smart Thermostat',\n",
    "  'short_description': \"Control your home's temperature and save energy with this smart thermostat.\",\n",
    "  'price': 129.99,\n",
    "  'category': 'Electronics',\n",
    "  'features': ['Wi-Fi connectivity',\n",
    "   'Energy-saving features',\n",
    "   'Compatible with voice assistants',\n",
    "   'Easy installation']},\n",
    " {'title': 'Designer Makeup Brush Set',\n",
    "  'short_description': 'Upgrade your makeup routine with this premium designer brush set.',\n",
    "  'price': 59.99,\n",
    "  'category': 'Beauty',\n",
    "  'features': ['High-quality synthetic bristles',\n",
    "   'Chic designer brush handles',\n",
    "   'Complete set for all makeup needs',\n",
    "   'Includes stylish carrying case']},\n",
    " {'title': 'Remote-Controlled Dinosaur Toy',\n",
    "  'short_description': 'Roar into action with this remote-controlled dinosaur toy with lifelike movements.',\n",
    "  'price': 49.99,\n",
    "  'category': 'Toys',\n",
    "  'features': ['Realistic dinosaur sound effects',\n",
    "   'Walks and roars like a real dinosaur',\n",
    "   'Remote control included',\n",
    "   'Educational and entertaining']},\n",
    " {'title': 'Wireless Charging Dock',\n",
    "  'short_description': 'Charge your devices conveniently with this sleek wireless charging dock.',\n",
    "  'price': 39.99,\n",
    "  'category': 'Electronics',\n",
    "  'features': ['Qi wireless charging technology',\n",
    "   'Supports multiple devices',\n",
    "   'LED charging indicators',\n",
    "   'Compact and stylish design']},\n",
    " {'title': 'Luxury Skincare Set',\n",
    "  'short_description': 'Elevate your skincare routine with this luxurious skincare set.',\n",
    "  'price': 179.99,\n",
    "  'category': 'Beauty',\n",
    "  'features': ['Premium anti-aging ingredients',\n",
    "   'Hydrating and rejuvenating formulas',\n",
    "   'Complete skincare regimen',\n",
    "   'Elegant packaging']}]"
   ]
  },
  {
   "cell_type": "code",
   "execution_count": null,
   "id": "e4b93fc3-b311-48d2-a875-d9020897376c",
   "metadata": {},
   "outputs": [],
   "source": [
    "# Extract a list of product short descriptions from products\n",
    "product_descriptions = [product['short_description'] for product in products]\n",
    "\n",
    "# Create embeddings for each product description\n",
    "response = client.embeddings.create(\n",
    "    model='text-embedding-3-small',\n",
    "    input=product_descriptions\n",
    ")\n",
    "response_dict = response.model_dump()\n",
    "\n",
    "# Extract the embeddings from response_dict and store in products\n",
    "for i, product in enumerate(products):\n",
    "    product['embedding'] = response_dict['data'][i]['embedding']\n",
    "    \n",
    "print(products[0].items())"
   ]
  },
  {
   "cell_type": "code",
   "execution_count": null,
   "id": "5446b747-e6d5-4905-ba64-7f6139200d45",
   "metadata": {},
   "outputs": [],
   "source": [
    "from sklearn.manifold import TSNE \n",
    "import numpy as np \n",
    "import matplotlib.pyplot as plt  \n",
    "\n",
    "# Create reviews and embeddings lists using list comprehensions\n",
    "categories = [product['category'] for product in products]\n",
    "embeddings = [product['embedding'] for product in products]\n",
    "\n",
    "# Reduce the number of embeddings dimensions to two using t-SNE\n",
    "tsne = TSNE(n_components=2, perplexity=5)\n",
    "embeddings_2d = tsne.fit_transform(np.array(embeddings))\n",
    "\n",
    "# Create a scatter plot from embeddings_2d\n",
    "plt.scatter(embeddings_2d[:,0], embeddings_2d[:,1])\n",
    "\n",
    "for i, category in enumerate(categories):\n",
    "    plt.annotate(category, (embeddings_2d[i, 0], embeddings_2d[i, 1]))\n",
    "\n",
    "plt.show()"
   ]
  },
  {
   "cell_type": "markdown",
   "id": "0037ad2a-d0f9-4d5e-b5ac-1b202425e497",
   "metadata": {},
   "source": [
    "# Searching in the vector space"
   ]
  },
  {
   "cell_type": "code",
   "execution_count": null,
   "id": "005e6258-0f2c-43c5-ac03-c299e0556d31",
   "metadata": {},
   "outputs": [],
   "source": [
    "# Define a create_embeddings function\n",
    "def create_embeddings(texts):\n",
    "  response = client.embeddings.create(\n",
    "    model=\"text-embedding-3-small\",\n",
    "    input=texts\n",
    "  )\n",
    "  response_dict = response.model_dump()\n",
    "  \n",
    "  return [data['embedding'] for data in response_dict['data']]\n",
    "\n",
    "short_description = 'The latest flagship smartphone with AI-powered features and 5G connectivity.'\n",
    "\n",
    "# Embed short_description and print\n",
    "print(create_embeddings(short_description)[0])\n",
    "\n",
    "list_of_descriptions= ['Charge your devices conveniently with this sleek wireless charging dock.',\n",
    " 'Elevate your skincare routine with this luxurious skincare set.']\n",
    "\n",
    "# Embed list_of_descriptions and print\n",
    "print(create_embeddings(list_of_descriptions))"
   ]
  },
  {
   "cell_type": "code",
   "execution_count": null,
   "id": "5acb7ede-dbf8-43a8-94a5-0ec5edb9e762",
   "metadata": {},
   "outputs": [],
   "source": [
    "from scipy.spatial import distance \n",
    "\n",
    "# Embed the search text\n",
    "search_text = \"soap\"\n",
    "search_embedding = create_embeddings(search_text)[0]\n",
    "\n",
    "distances = []\n",
    "for product in products:\n",
    "  # Compute the cosine distance for each product description\n",
    "  dist = distance.cosine(search_embedding, product['embedding'])\n",
    "  distances.append(dist)\n",
    "\n",
    "# Find and print the most similar product short_description    \n",
    "min_dist_ind = np.argmin(distances)\n",
    "print(products[min_dist_ind]['short_description'])"
   ]
  },
  {
   "cell_type": "markdown",
   "id": "5348b34c-4fee-413f-9ddf-0d4675b372ad",
   "metadata": {},
   "source": [
    "# Semantic search and enriched embeddings\n",
    "\n"
   ]
  },
  {
   "cell_type": "code",
   "execution_count": null,
   "id": "95309c0a-e76f-4169-8d6d-2067ec7c176d",
   "metadata": {},
   "outputs": [],
   "source": [
    "articles = [\n",
    "    {\n",
    "        \"headline\": \"AI Transforms Healthcare in Rural Areas\",\n",
    "        \"topic\": \"Technology\",\n",
    "        \"keywords\": [\"AI\", \"healthcare\", \"innovation\", \"technology\"]\n",
    "    },\n",
    "    {\n",
    "        \"headline\": \"Top Travel Destinations for Food Enthusiasts\",\n",
    "        \"topic\": \"Travel\",\n",
    "        \"keywords\": [\"travel\", \"food\", \"vacation\", \"destinations\"]\n",
    "    },\n",
    "    {\n",
    "        \"headline\": \"The Benefits of Sustainable Gardening\",\n",
    "        \"topic\": \"Lifestyle\",\n",
    "        \"keywords\": [\"sustainability\", \"gardening\", \"eco-friendly\", \"lifestyle\"]\n",
    "    },\n",
    "    {\n",
    "        \"headline\": \"Stock Market Trends to Watch This Year\",\n",
    "        \"topic\": \"Finance\",\n",
    "        \"keywords\": [\"stock market\", \"finance\", \"investment\", \"economy\"]\n",
    "    },\n",
    "    {\n",
    "        \"headline\": \"Rising Ocean Temperatures and Marine Ecosystems\",\n",
    "        \"topic\": \"Environment\",\n",
    "        \"keywords\": [\"climate change\", \"ocean\", \"marine life\", \"environment\"]\n",
    "    },\n",
    "    {\n",
    "        \"headline\": \"New Discoveries About Black Holes and Space Travel\",\n",
    "        \"topic\": \"Science\",\n",
    "        \"keywords\": [\"space\", \"black holes\", \"astronomy\", \"science\"]\n",
    "    },\n",
    "    {\n",
    "        \"headline\": \"How to Stay Productive While Working Remotely\",\n",
    "        \"topic\": \"Career\",\n",
    "        \"keywords\": [\"productivity\", \"work\", \"career\", \"efficiency\"]\n",
    "    },\n",
    "    {\n",
    "        \"headline\": \"Electric Vehicles Are Driving the Future of Transportation\",\n",
    "        \"topic\": \"Technology\",\n",
    "        \"keywords\": [\"electric vehicles\", \"technology\", \"innovation\", \"cars\"]\n",
    "    },\n",
    "    {\n",
    "        \"headline\": \"Mindfulness Practices for a Stress-Free Day\",\n",
    "        \"topic\": \"Wellness\",\n",
    "        \"keywords\": [\"mindfulness\", \"mental health\", \"self-care\", \"well-being\"]\n",
    "    },\n",
    "    {\n",
    "        \"headline\": \"Fashion Trends You Need to Know This Season\",\n",
    "        \"topic\": \"Lifestyle\",\n",
    "        \"keywords\": [\"fashion\", \"trends\", \"style\", \"lifestyle\"]\n",
    "    }\n",
    "]"
   ]
  },
  {
   "cell_type": "code",
   "execution_count": null,
   "id": "8d8b5d2f-1bd3-4adc-a3ec-1a48cfdd1b5a",
   "metadata": {},
   "outputs": [],
   "source": [
    "def create_article_text(article): \n",
    "    return f'''Headline: {article['headline']} - Topic: {article['topic']} - Keywords: {', '.join(article['keywords'])}'''"
   ]
  },
  {
   "cell_type": "code",
   "execution_count": null,
   "id": "12416cd7-eb78-4102-b246-86fb89a1761e",
   "metadata": {},
   "outputs": [],
   "source": [
    "article_texts = [create_article_text(article) for article in articles] \n",
    "\n",
    "article_embeddings = create_embeddings(article_texts)"
   ]
  },
  {
   "cell_type": "code",
   "execution_count": null,
   "id": "c18d454f-1c60-4e92-bf00-2650cfd63583",
   "metadata": {},
   "outputs": [],
   "source": [
    "from scipy.spatial import distance \n",
    "\n",
    "def find_n_closest(query_vector, embeddings, n=3): \n",
    "    distances = [] \n",
    "    for index, embedding in enumerate(embeddings): \n",
    "        dist = distance.cosine(query_vector, embedding)\n",
    "        distances.append({'distance': dist, 'index': index}) \n",
    "    distances_sorted = sorted(distances, key=lambda x:x['distance'])\n",
    "    return distances_sorted[0:n]\n",
    "\n",
    "    "
   ]
  },
  {
   "cell_type": "code",
   "execution_count": null,
   "id": "5c82b02e-e44f-4d60-8603-f04530ff9d9f",
   "metadata": {},
   "outputs": [],
   "source": [
    "query_text = 'AI'\n",
    "query_vector = create_embeddings(query_text)[0] \n",
    "hits = find_n_closest(query_vector, article_embeddings)\n",
    "\n",
    "for hit in hits: \n",
    "    article = articles[hit['index']]\n",
    "    print(article['headline'])"
   ]
  },
  {
   "cell_type": "code",
   "execution_count": null,
   "id": "3bf29142-ec70-4ab1-ae10-2a75caa852a3",
   "metadata": {},
   "outputs": [],
   "source": [
    "# Define a function to combine the relevant features into a single string\n",
    "def create_product_text(product):\n",
    "  return f\"\"\"Title: {product['title']}\n",
    "Description: {product['short_description']}\n",
    "Category: {product['category']}\n",
    "Features: {', '.join(product['features'])}\"\"\"\n",
    "\n",
    "# Combine the features for each product\n",
    "product_texts = [create_product_text(product) for product in products]\n",
    "\n",
    "# Create the embeddings from product_texts\n",
    "product_embeddings = [create_embeddings(product_text) for product_text in product_texts]"
   ]
  },
  {
   "cell_type": "markdown",
   "id": "a43c92f2-c3ab-4318-ad4a-47bbc74251e8",
   "metadata": {
    "execution": {
     "iopub.execute_input": "2024-11-24T13:58:02.457776Z",
     "iopub.status.busy": "2024-11-24T13:58:02.455968Z",
     "iopub.status.idle": "2024-11-24T13:58:02.472796Z",
     "shell.execute_reply": "2024-11-24T13:58:02.471781Z",
     "shell.execute_reply.started": "2024-11-24T13:58:02.457701Z"
    }
   },
   "source": [
    "# Recommender systems\n",
    "\n",
    "Very similar to searches, but taking into account removing the items the user already knows"
   ]
  },
  {
   "cell_type": "markdown",
   "id": "fdfd4b5d-cb59-4bf3-9956-ce538dd26976",
   "metadata": {},
   "source": [
    "# Classification systems \n",
    "\n",
    "We calculate the embeddings for texts of each classification category and calculate cosine similarity with the items to be classified"
   ]
  },
  {
   "cell_type": "markdown",
   "id": "43fb963c-c2ac-4957-9858-b79a4766056a",
   "metadata": {},
   "source": [
    "# Vector databases\n",
    "\n",
    "Keeping embeddings in memory is not an option.\n",
    "\n",
    "Today there are many vector databases. In order to chose the one that fits the best: \n",
    "- Open or closed source?\n",
    "- Managed or not?\n",
    "- Multimodal or not?"
   ]
  },
  {
   "cell_type": "markdown",
   "id": "0436462f-470d-4e0b-9de4-b599ebf7bd66",
   "metadata": {
    "execution": {
     "iopub.execute_input": "2024-11-24T16:41:29.548872Z",
     "iopub.status.busy": "2024-11-24T16:41:29.548207Z",
     "iopub.status.idle": "2024-11-24T16:41:29.556890Z",
     "shell.execute_reply": "2024-11-24T16:41:29.554298Z",
     "shell.execute_reply.started": "2024-11-24T16:41:29.548836Z"
    }
   },
   "source": [
    "## ChromaDB\n",
    "\n",
    "The chromaDB has 2 flavors: local mode and client/server mode\n",
    "\n",
    "**Collections** are analogous to tables\n"
   ]
  },
  {
   "cell_type": "code",
   "execution_count": null,
   "id": "44b973ae-baef-48e1-a07a-611cb7312062",
   "metadata": {},
   "outputs": [],
   "source": [
    "import chromadb\n",
    "from chromadb.utils.embedding_functions import OpenAIEmbeddingFunction\n",
    "\n",
    "client=chromadb.PersistentClient(path=\"./chromaDB\")"
   ]
  },
  {
   "cell_type": "code",
   "execution_count": null,
   "id": "908ca8b7-a42b-4f53-928b-db1bfcf55c5d",
   "metadata": {},
   "outputs": [],
   "source": [
    "collection = client.create_collection(\n",
    "    name='my_collection', \n",
    "    embedding_function=OpenAIEmbeddingFunction(\n",
    "        model_name='text-embedding-3-small', \n",
    "        api_key=os.getenv('OPENAI_API_KEY')\n",
    "    )\n",
    ")"
   ]
  },
  {
   "cell_type": "code",
   "execution_count": null,
   "id": "9bfb5506-0cd4-4a0a-b734-4782d3290c5d",
   "metadata": {},
   "outputs": [],
   "source": [
    "client.list_collections()"
   ]
  },
  {
   "cell_type": "code",
   "execution_count": null,
   "id": "49288299-4489-478a-94d6-547367d7b04a",
   "metadata": {},
   "outputs": [],
   "source": [
    "collection.add(ids=[\"my-doc\"], documents=[\"this is the source text\"])"
   ]
  },
  {
   "cell_type": "code",
   "execution_count": null,
   "id": "9f971cbc-1f08-4636-a3ab-d51d01c9d535",
   "metadata": {},
   "outputs": [],
   "source": [
    "collection.count()"
   ]
  },
  {
   "cell_type": "code",
   "execution_count": null,
   "id": "2698abe8-287f-4e95-90be-d1304b924cfb",
   "metadata": {},
   "outputs": [],
   "source": [
    "collection.peek()"
   ]
  },
  {
   "cell_type": "markdown",
   "id": "bb1ae230-97c6-42d9-87a9-02c87ce4e1a3",
   "metadata": {},
   "source": [
    "# Querying and updating a database"
   ]
  },
  {
   "cell_type": "code",
   "execution_count": null,
   "id": "a57682c7-f54c-49c7-93e1-1b62804ebda8",
   "metadata": {},
   "outputs": [],
   "source": [
    "import json \n",
    "\n",
    "# The embedding function has to be the same\n",
    "collection = client.get_collection(\n",
    "    name='my_collection', \n",
    "    embedding_function=OpenAIEmbeddingFunction(\n",
    "        model_name='text-embedding-3-small', \n",
    "        api_key=os.getenv('OPENAI_API_KEY')\n",
    "    )\n",
    ")\n",
    "\n",
    "result = collection.query(\n",
    "    query_texts=[\"movies where people sing a lot\"], \n",
    "    n_results=1\n",
    ")\n",
    "\n",
    "print(json.dumps(result, indent=2))\n",
    "\n"
   ]
  },
  {
   "cell_type": "code",
   "execution_count": null,
   "id": "794b3775-26ca-462e-8107-4186ec58de63",
   "metadata": {},
   "outputs": [],
   "source": [
    "collection.update(\n",
    "    ids=['my-doc'],\n",
    "    documents=['And this is the new version']\n",
    ")"
   ]
  },
  {
   "cell_type": "code",
   "execution_count": null,
   "id": "981eb15d-86de-40d6-857c-1cd9ab8dd3f6",
   "metadata": {},
   "outputs": [],
   "source": [
    "collection.upsert(\n",
    "    ids=['my-doc-IDK-if-it-exsists'],\n",
    "    documents=['And this is the new version']\n",
    ")"
   ]
  },
  {
   "cell_type": "code",
   "execution_count": null,
   "id": "e6cbaf7c-ced0-4e81-916c-1ad1863f1ca5",
   "metadata": {},
   "outputs": [],
   "source": [
    "collection.peek()"
   ]
  },
  {
   "cell_type": "code",
   "execution_count": null,
   "id": "83e3b8b1-4841-4ece-9fb5-bcdd00a1f9cc",
   "metadata": {},
   "outputs": [],
   "source": [
    "collection.delete(\n",
    "    ids=['my-doc-IDK-if-it-exsists'])"
   ]
  },
  {
   "cell_type": "code",
   "execution_count": null,
   "id": "9b0c7d7d-6e8e-4352-8256-dda848c9a7ed",
   "metadata": {},
   "outputs": [],
   "source": [
    "client.reset()"
   ]
  },
  {
   "cell_type": "code",
   "execution_count": null,
   "id": "34efd8b9-1067-47f6-a971-5a278fc5f28a",
   "metadata": {},
   "outputs": [],
   "source": []
  }
 ],
 "metadata": {
  "kernelspec": {
   "display_name": "Python 3 (ipykernel)",
   "language": "python",
   "name": "python3"
  },
  "language_info": {
   "codemirror_mode": {
    "name": "ipython",
    "version": 3
   },
   "file_extension": ".py",
   "mimetype": "text/x-python",
   "name": "python",
   "nbconvert_exporter": "python",
   "pygments_lexer": "ipython3",
   "version": "3.11.10"
  }
 },
 "nbformat": 4,
 "nbformat_minor": 5
}
