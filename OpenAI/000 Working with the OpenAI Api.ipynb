{
 "cells": [
  {
   "cell_type": "code",
   "execution_count": 14,
   "id": "55781362-5dac-4726-9298-e844b0e23f95",
   "metadata": {
    "execution": {
     "iopub.execute_input": "2024-10-09T16:30:52.970468Z",
     "iopub.status.busy": "2024-10-09T16:30:52.969566Z",
     "iopub.status.idle": "2024-10-09T16:30:55.068611Z",
     "shell.execute_reply": "2024-10-09T16:30:55.067527Z",
     "shell.execute_reply.started": "2024-10-09T16:30:52.970404Z"
    }
   },
   "outputs": [
    {
     "name": "stdout",
     "output_type": "stream",
     "text": [
      "\n",
      "\n",
      "The OpenAI API can be used to access advanced machine learning models and tools, allowing me to develop a deeper understanding of AI technology and stay up-to-date in the field. By utilizing the OpenAI API, I can also gain hands-on experience in building and implementing AI applications, which can enhance my technical skills and make me more competitive in the job market.\n"
     ]
    }
   ],
   "source": [
    "import os\n",
    "import openai\n",
    "\n",
    "client = openai.OpenAI(api_key=os.getenv(\"OPENAI_API_KEY\"))\n",
    "\n",
    "response = client.completions.create(\n",
    "    model=\"gpt-3.5-turbo-instruct\",\n",
    "    # Write your prompt\n",
    "    prompt=\"In two sentences, how can the OpenAI API be used to upskill myself?\",\n",
    "    max_tokens=200\n",
    ")\n",
    "\n",
    "print(response.choices[0].text)"
   ]
  },
  {
   "cell_type": "code",
   "execution_count": 17,
   "id": "3fc689ba-707b-494d-9e15-128c4d109bbe",
   "metadata": {
    "execution": {
     "iopub.execute_input": "2024-10-09T16:40:30.179923Z",
     "iopub.status.busy": "2024-10-09T16:40:30.179250Z",
     "iopub.status.idle": "2024-10-09T16:40:30.208263Z",
     "shell.execute_reply": "2024-10-09T16:40:30.207723Z",
     "shell.execute_reply.started": "2024-10-09T16:40:30.179883Z"
    }
   },
   "outputs": [
    {
     "data": {
      "text/plain": [
       "{'id': 'cmpl-AGTsMxKx5BfPKaA5O3xGSbX2VIX3o',\n",
       " 'choices': [{'finish_reason': 'stop',\n",
       "   'index': 0,\n",
       "   'logprobs': None,\n",
       "   'text': '\\n\\nThe OpenAI API can be used to access advanced machine learning models and tools, allowing me to develop a deeper understanding of AI technology and stay up-to-date in the field. By utilizing the OpenAI API, I can also gain hands-on experience in building and implementing AI applications, which can enhance my technical skills and make me more competitive in the job market.'}],\n",
       " 'created': 1728491454,\n",
       " 'model': 'gpt-3.5-turbo-instruct',\n",
       " 'object': 'text_completion',\n",
       " 'system_fingerprint': None,\n",
       " 'usage': {'completion_tokens': 73,\n",
       "  'prompt_tokens': 17,\n",
       "  'total_tokens': 90,\n",
       "  'completion_tokens_details': None,\n",
       "  'prompt_tokens_details': None}}"
      ]
     },
     "execution_count": 17,
     "metadata": {},
     "output_type": "execute_result"
    }
   ],
   "source": [
    "# Converts the response into a dictionary\n",
    "response.model_dump()"
   ]
  },
  {
   "cell_type": "code",
   "execution_count": 15,
   "id": "06d2d9ba-8f43-4ee9-b83e-66a00caec42e",
   "metadata": {
    "execution": {
     "iopub.execute_input": "2024-10-09T16:31:07.916297Z",
     "iopub.status.busy": "2024-10-09T16:31:07.915311Z",
     "iopub.status.idle": "2024-10-09T16:31:07.948437Z",
     "shell.execute_reply": "2024-10-09T16:31:07.947860Z",
     "shell.execute_reply.started": "2024-10-09T16:31:07.916237Z"
    }
   },
   "outputs": [],
   "source": [
    "# Using an organization can help with limits, billing, etc. \n",
    "\n",
    "from openai import OpenAI\n",
    "\n",
    "client = OpenAI(\n",
    "  organization='org-4otiQhcm1LBuWdDYRBImSUlI',\n",
    "  project='proj_bAW2JMzoEkGe09EcZZrTQ5oi',\n",
    ")"
   ]
  },
  {
   "cell_type": "code",
   "execution_count": 16,
   "id": "8f3f5219-988e-4ba8-b6ad-6442ed24185a",
   "metadata": {
    "execution": {
     "iopub.execute_input": "2024-10-09T16:31:08.580238Z",
     "iopub.status.busy": "2024-10-09T16:31:08.579393Z",
     "iopub.status.idle": "2024-10-09T16:31:10.206770Z",
     "shell.execute_reply": "2024-10-09T16:31:10.200987Z",
     "shell.execute_reply.started": "2024-10-09T16:31:08.580198Z"
    }
   },
   "outputs": [
    {
     "name": "stdout",
     "output_type": "stream",
     "text": [
      "This is a test. How can I assist you further?"
     ]
    }
   ],
   "source": [
    "stream = client.chat.completions.create(\n",
    "    model=\"gpt-4o-mini\",\n",
    "    messages=[{\"role\": \"user\", \"content\": \"Say this is a test\"}],\n",
    "    stream=True,\n",
    ")\n",
    "for chunk in stream:\n",
    "    if chunk.choices[0].delta.content is not None:\n",
    "        print(chunk.choices[0].delta.content, end=\"\")"
   ]
  },
  {
   "cell_type": "markdown",
   "id": "e18763b2-8d83-4e1f-ac26-c62d0ef5b5d6",
   "metadata": {},
   "source": [
    "# OpenAI Models\n",
    "\n",
    "## Completions \n",
    "\n",
    "- Receive continuation of a prompt\n",
    "- Single Turn Tasks\n",
    "    - Answer quesions\n",
    "    - Classification\n",
    "    - Sentiment Analysis\n",
    "    - Explain Complex Topics\n",
    "\n",
    "## Chat \n",
    "\n",
    "- Multi-turn conversations\n",
    "  - Ideation\n",
    "  - Customer Support Assistant\n",
    "  - Personal Tutor\n",
    "  - Translations\n",
    "  - Write code\n",
    "- Also performs well single turn tasks\n",
    "\n",
    "## Moderation \n",
    "\n",
    "- Checks content for violations of OpenAIs usage policies, including inciting violence or hate speech.\n",
    "- The sensitivity can be customized\n",
    "\n"
   ]
  }
 ],
 "metadata": {
  "kernelspec": {
   "display_name": "Python 3 (ipykernel)",
   "language": "python",
   "name": "python3"
  },
  "language_info": {
   "codemirror_mode": {
    "name": "ipython",
    "version": 3
   },
   "file_extension": ".py",
   "mimetype": "text/x-python",
   "name": "python",
   "nbconvert_exporter": "python",
   "pygments_lexer": "ipython3",
   "version": "3.11.10"
  }
 },
 "nbformat": 4,
 "nbformat_minor": 5
}
