{
 "cells": [
  {
   "cell_type": "markdown",
   "id": "8e108334-6e43-406a-b31a-07a05b18d9dd",
   "metadata": {},
   "source": [
    "# Prompt engineering \n",
    "\n",
    "Crafting prompt to get what we want.\n",
    "\n",
    "The quality of the answer is correlated to the quality of the prompt \n",
    "\n",
    "Temperature controls the randomnes\n",
    "Max_tokens controls the length \n"
   ]
  },
  {
   "cell_type": "code",
   "execution_count": null,
   "id": "ca7b5017-ebed-4e33-adf8-12c3a74f4ae5",
   "metadata": {},
   "outputs": [],
   "source": [
    "import os\n",
    "import openai\n",
    "\n",
    "client = openai.OpenAI(api_key=os.getenv(\"OPENAI_API_KEY\"))"
   ]
  },
  {
   "cell_type": "code",
   "execution_count": null,
   "id": "68eaa764-ae8b-4844-923c-b5ca501d35f9",
   "metadata": {},
   "outputs": [],
   "source": [
    "def get_response(prompt, model='gpt-3.5-turbo',temperature=0): \n",
    "    response = client.chat.completions.create(\n",
    "        model=model, \n",
    "        messages=[\n",
    "            {'role':'user', 'content': prompt}\n",
    "        ],\n",
    "        temperature=temperature,\n",
    "        max_tokens=200\n",
    "    )\n",
    "    return response.choices[0].message.content"
   ]
  },
  {
   "cell_type": "code",
   "execution_count": null,
   "id": "59b5c0db-c3d3-4262-9b0e-9bec23884b4c",
   "metadata": {},
   "outputs": [],
   "source": [
    "print(get_response('Como te encuentras?'))"
   ]
  },
  {
   "cell_type": "markdown",
   "id": "050fd248-6597-450a-8c40-6d196ef16f39",
   "metadata": {},
   "source": [
    "# Principles \n",
    "\n",
    "Clear and precise prompts \n",
    "\n",
    "## Appropiate action verbs \n",
    "\n",
    "Write, complete, explain, describe... work well. Understand, think, feel, try, know... dont.\n",
    "\n",
    "\n",
    "## Formulating detailed instructions \n",
    "\n",
    "Provide specific, descriptive and detailed instructions regarding: \n",
    "- context\n",
    "- output text\n",
    "- length (max_tokens is a hard limit, while lenght in words, sentences, paragraphs... in the prompt could be bypassed)\n",
    "- audience\n",
    "\n",
    "\n",
    "## Components \n",
    "\n",
    "Use delimiters like backticks, parenthesis... between the instructions (at the beginning) and the content"
   ]
  },
  {
   "cell_type": "code",
   "execution_count": null,
   "id": "a614205e-5d1b-4fbf-a10c-f751c4e2f3fb",
   "metadata": {},
   "outputs": [],
   "source": [
    "story = 'Habia una vez un niño que tenia la cabeza como una cebolla.'\n",
    "\n",
    "\n",
    "# Create a prompt that completes the story\n",
    "prompt = f\"\"\"\n",
    "        Complete the story delimited by triple backticks(```) with only two paragraphs in the style of Shakespeare:\n",
    "        ```{story}``` \"\"\"\n",
    "\n",
    "# Get the generated response \n",
    "response = get_response(prompt)\n",
    "\n",
    "print(\"\\n Original story: \\n\", story)\n",
    "print(\"\\n Generated story: \\n\", response)"
   ]
  },
  {
   "cell_type": "markdown",
   "id": "e28cb115-fd6d-4e30-96ab-ecc04ac492c8",
   "metadata": {},
   "source": [
    "# Structured outputs \n",
    "\n",
    "If we want the output to be in a specific format like a table, csv, lit... its important to mention the expected columns.\n",
    "\n"
   ]
  },
  {
   "cell_type": "code",
   "execution_count": null,
   "id": "c69365da-4cfc-4913-9bfd-e31eec7466a8",
   "metadata": {},
   "outputs": [],
   "source": [
    "# Create a prompt that completes the story\n",
    "prompt = f\"\"\"\n",
    "            Give me a list of the top 5 action movies with title, ranking and rating in a table\n",
    "         \"\"\"\n",
    "\n",
    "# Get the generated response \n",
    "response = get_response(prompt)\n",
    "print (response)"
   ]
  },
  {
   "cell_type": "markdown",
   "id": "150c545f-4feb-4242-9571-63c81b6f518d",
   "metadata": {},
   "source": [
    "# Conditional prompts \n",
    "\n",
    "\n"
   ]
  },
  {
   "cell_type": "code",
   "execution_count": null,
   "id": "abd325ab-d7f6-4f3b-bb25-7c50c98635f0",
   "metadata": {},
   "outputs": [],
   "source": [
    "text='Tengo ganas de ir al baño, que la ultima vez que fui fue hace un año. Como no vaya pronto atasco el caño.'\n",
    "\n",
    "prompt=f\"\"\"You will be provided with a text delimited by ||. \n",
    "    If the text is in spanish, provide a title for it. Otherwise, write 'Queeee???'\n",
    "    ||{text}||\"\"\"\n",
    "\n",
    "print(get_response(prompt))\n"
   ]
  },
  {
   "cell_type": "code",
   "execution_count": null,
   "id": "4ec7dfff-95e7-4d17-aafa-e8f48928d6bb",
   "metadata": {},
   "outputs": [],
   "source": [
    "text='I gotta go to the restroom or i would go Boom!'\n",
    "\n",
    "prompt=f\"\"\"You will be provided with a text delimited by ||. \n",
    "    If the text is in spanish, provide a title for it. Otherwise, write 'Queeee???'\n",
    "    ||{text}||\"\"\"\n",
    "\n",
    "print(get_response(prompt))"
   ]
  },
  {
   "cell_type": "markdown",
   "id": "c483ba99-596f-4a33-8d43-1cb927340eb5",
   "metadata": {},
   "source": [
    "# Few-shot prompting \n",
    "\n",
    "The number of shots may correspond to the task complexity.\n",
    "\n"
   ]
  },
  {
   "cell_type": "code",
   "execution_count": null,
   "id": "39b33e7a-9b18-4aab-81ae-b628d4ccd29e",
   "metadata": {},
   "outputs": [],
   "source": [
    "# Create a one-shot prompt\n",
    "prompt = \"\"\"Extract the odd numbers {1, 3, 7, 12, 19} -> {1, 3, 7, 19}\n",
    "Extract the odd numbers from {3, 5, 11, 12, 16} -> \"\"\"\n",
    "\n",
    "response = get_response(prompt)\n",
    "print(response)"
   ]
  },
  {
   "cell_type": "code",
   "execution_count": null,
   "id": "1fb96433-884b-4099-a29a-ffb51cc9b7b3",
   "metadata": {},
   "outputs": [],
   "source": [
    "response = client.chat.completions.create(\n",
    "  model = \"gpt-4o-mini\",\n",
    "  # Provide the examples as previous conversations\n",
    "  messages = [{\"role\": \"user\", \"content\": \"The product quality exceeded my expectations\"},\n",
    "              {\"role\": \"assistant\", \"content\": \"1\"},\n",
    "              {\"role\": \"user\", \"content\": \"I had a terrible experience with this product's customer service\"},\n",
    "              {\"role\": \"assistant\", \"content\": \"-1\"},\n",
    "              # Provide the text for the model to classify\n",
    "              {\"role\": \"user\", \"content\": \"The price of the product is really fair given its features\"}\n",
    "             ],\n",
    "  temperature = 0\n",
    ")\n",
    "print(response.choices[0].message.content)"
   ]
  },
  {
   "cell_type": "markdown",
   "id": "19303351-7eb9-4e81-91ae-711ee91c736b",
   "metadata": {},
   "source": [
    "# Multi Step Prompting \n",
    "\n",
    "Breaking a goal into a series of steps. Provides a roadmap to the model.\n",
    "\n",
    "Good for sequential tasks \n",
    "\n"
   ]
  },
  {
   "cell_type": "code",
   "execution_count": null,
   "id": "25ea0a51-7ccb-4f3a-a020-49bd3f3e57c5",
   "metadata": {},
   "outputs": [],
   "source": [
    "# Create a single-step prompt to get help planning the vacation\n",
    "prompt = 'Help me planning a beach vacation'\n",
    "\n",
    "response = get_response(prompt)\n",
    "print(response)"
   ]
  },
  {
   "cell_type": "markdown",
   "id": "08e839e2-ad66-4206-bd75-010453a7c819",
   "metadata": {},
   "source": [
    "# Chain of Thought Prompting \n",
    "\n",
    "Requires LLMs to provide reasoning steps before giving an answer. Used for complex reasoning tasks. Help reduce model errors. \n",
    "\n",
    "One limitation of this technique is the fact that one missed step with an invalid reasoning will make the whole process to fail.\n",
    "\n",
    "Self-consistency prompting generates multiple chain of thoughts by prompting the model several times. It majority votes to obtain final output.\n",
    "\n"
   ]
  },
  {
   "cell_type": "code",
   "execution_count": null,
   "id": "74cdf5c7-efdf-4eee-83ac-b750c5b1a878",
   "metadata": {},
   "outputs": [],
   "source": [
    "# Create the chain-of-thought prompt\n",
    "prompt = f'''\n",
    "Write my friend's father's age in 10 years, given that he is currently twice my friend's age, and my friend is 20. Write a step by step reasoning.\n",
    "'''\n",
    "\n",
    "response = get_response(prompt)\n",
    "print(response)"
   ]
  },
  {
   "cell_type": "code",
   "execution_count": null,
   "id": "f915bcb1-62ad-4572-81ee-abad9491994c",
   "metadata": {},
   "outputs": [],
   "source": [
    "# Create the self_consistency instruction\n",
    "self_consistency_instruction = '''Solve the problem with three experts and combine the results with a majority vote:\n",
    "'''\n",
    "\n",
    "# Create the problem to solve\n",
    "problem_to_solve = \"If you own a store that sells laptops and mobile phones. You start your day with 50 devices in the store, out of which 60% are mobile phones. Throughout the day, three clients visited the store, each of them bought one mobile phone, and one of them bought additionally a laptop. Also, you added to your collection 10 laptops and 5 mobile phones. How many laptops and mobile phones do you have by the end of the day?\"\n",
    "\n",
    "# Create the final prompt\n",
    "prompt = self_consistency_instruction + problem_to_solve\n",
    "\n",
    "response = get_response(prompt)\n",
    "print(response)"
   ]
  },
  {
   "cell_type": "markdown",
   "id": "8498d226-4860-4bec-8edc-00c6c28578fa",
   "metadata": {},
   "source": [
    "# Iterative prompt engineering\n"
   ]
  },
  {
   "cell_type": "code",
   "execution_count": null,
   "id": "90bd16c8-f9a1-444b-b3df-be753f31bfe3",
   "metadata": {},
   "outputs": [],
   "source": [
    "# Refine the following prompt\n",
    "prompt = \"Give me the top 10 pre-trained language models\"\n",
    "\n",
    "response = get_response(prompt)\n",
    "print(response)"
   ]
  },
  {
   "cell_type": "code",
   "execution_count": null,
   "id": "3f3e516e-3709-43c4-bf32-64eb9afc07f3",
   "metadata": {},
   "outputs": [],
   "source": [
    "# Refine the following prompt\n",
    "prompt = \"Give me the top 10 pre-trained language models. Write the output as a table with the following columns: model name, release year, and owning company\"\n",
    "\n",
    "response = get_response(prompt)\n",
    "print(response)"
   ]
  },
  {
   "cell_type": "markdown",
   "id": "ae8ccad0-709c-4042-8c46-0297b9072b47",
   "metadata": {},
   "source": [
    "# Text Summarization and Expansion\n",
    "\n",
    "In order to have an effective text summarization prompt, include: \n",
    "\n",
    "- output limits (number of sentences, words, characters...)\n",
    "- the output structure (bullet points, list...)\n",
    "- focus (pros/cons...)\n",
    "\n",
    "# Text Expansion \n",
    "\n",
    "Generates text from ideas or bullet points. Improves efficiency and productivity. Text expansion prompts should: \n",
    "- Ask to expand a delimited text\n",
    "- Highlight aspects to focus on\n",
    "- Provide output requirements (tone, length, structure and audience)\n",
    "\n",
    "\n"
   ]
  },
  {
   "cell_type": "code",
   "execution_count": null,
   "id": "ef1078dc-7fad-43d4-b079-2e4a41009395",
   "metadata": {},
   "outputs": [],
   "source": [
    "report=\"\\nTitle: Market Trends and Customer Behavior Analysis\\n\\nUnderstanding customer behavior is vital for businesses to remain competitive and relevant in today's dynamic market. This report explores recent trends and shifts in customer behavior, focusing on key drivers of change. The insights aim to assist businesses in making informed decisions and adapting strategies to meet evolving customer demands.\\n\\n1. Introduction:\\n\\n1.1 Background:\\nThe analysis of customer behavior has evolved significantly due to technological advancements, data analytics, and changing consumer preferences. To stay competitive, businesses must continuously monitor and adapt to these shifting trends.\\n\\n1.2 Objective:\\nThis report provides a comprehensive overview of research trends and changes in customer behavior, with a particular focus on the following key areas:\\n\\n2. AI and Data Privacy:\\n\\nArtificial Intelligence (AI) is transforming customer service and engagement. Companies are increasingly implementing chatbots and virtual assistants to automate customer support. Predictive analytics, powered by AI, allows businesses to forecast customer behavior, making informed decisions. However, the growing concern for data privacy, spurred by regulations like GDPR and CCPA, is impacting how companies handle customer data. Strengthening cybersecurity measures is crucial to protect customer data from cyber threats and breaches.\\n\\n3. E-commerce and Digital Transformation:\\n\\nE-commerce has experienced significant growth, accelerated by the COVID-19 pandemic. Key trends include a shift towards mobile online shopping, the integration of shopping features into social media platforms (social commerce), and the use of augmented reality (AR) and virtual reality (VR) for immersive shopping experiences.\\n\\n4. Personalization and Customer Experience:\\n\\nCustomers now expect highly personalized experiences, driving the emergence of AI-driven personalization. Omni-channel experiences that seamlessly connect online and offline interactions are increasingly important. Voice commerce, facilitated by voice-activated devices like smart speakers, is also on the rise.\\n\\n5. Sustainability and Ethical Consumption:\\n\\nConsumer awareness of environmental and ethical issues is influencing buying habits. This trend is reflected in the growing demand for eco-friendly products that are sustainable, recyclable, and biodegradable. Consumers are also favoring brands that demonstrate responsible sourcing and ethical production practices.\\n\\n6. Mobile-First Approach:\\n\\nThe widespread use of smartphones has transformed customer-business interactions. As a result, companies are heavily investing in mobile apps to provide convenience and enhance engagement. Mobile payments, including contactless methods and digital wallets, are gaining popularity.\\n\\n7. Conclusion:\\n\\nTo remain competitive in today's business landscape, organizations must closely monitor research trends and changes in customer behavior. Adaptation, innovation, and a customer-centric approach are key to success. Businesses should prioritize personalized experiences, sustainable practices, mobile accessibility, and data security to meet evolving customer demands.\\n\\n8. Recommendations:\\n\\nInvest in data analytics and AI to drive personalization and gain deeper customer insights.\\nEmbrace sustainable and ethical practices to align with consumer values and preferences.\\nPrioritize the development of mobile experiences and seamless omni-channel engagement.\\nEnsure strict compliance with data privacy regulations and continuously enhance cybersecurity measures to safeguard customer data.\\n\"\n",
    "\n",
    "# Craft a prompt to summarize the report\n",
    "prompt = f'''\n",
    "    Summarize the delimited buy (´´´) text in maximum five sentences, while focusing on aspects related to AI and data privacy\n",
    "    ´´´{report}´´´\n",
    "'''\n",
    "\n",
    "response = get_response(prompt)\n",
    "\n",
    "print(\"Summarized report: \\n\", response)"
   ]
  },
  {
   "cell_type": "code",
   "execution_count": null,
   "id": "37261d53-3a39-48b9-87b5-b581e0ad7558",
   "metadata": {},
   "outputs": [],
   "source": [
    "product_description = \"\\nThe Smartphone XYZ-5000 is a device packed with innovative features to enhance the user experience. Its sleek design and vibrant display make it visually appealing, while the powerful octa-core processor ensures smooth performance and multitasking capabilities.\\nThe XYZ-5000 boasts a high-resolution triple-camera system, combining a 48MP primary lens, a 12MP ultra-wide lens, and a 5MP depth sensor, enabling users to capture stunning photos and videos in various shooting scenarios. The device also supports 4K video recording and comes with advanced image stabilization features.\\nWith a generous 128GB of internal storage, expandable up to 512GB via microSD, users can store a vast collection of media files and apps without worrying about running out of space. The smartphone runs on the latest Android OS and offers seamless integration with various Google services.\\nIn terms of security, the XYZ-5000 features a reliable fingerprint sensor and facial recognition technology for quick and secure unlocking. Additionally, it supports NFC for contactless payments and has a dedicated AI-powered virtual assistant to simplify daily tasks.\\nThe device's long-lasting 4000mAh battery ensures all-day usage, and it supports fast charging, providing hours of power with just a few minutes of charging. The XYZ-5000 is also water and dust resistant, giving users peace of mind in various environments.\\nOverall, the Smartphone XYZ-5000 offers a fantastic combination of style, performance, and advanced features, making it an excellent choice for tech enthusiasts and everyday users alike.\\n\"\n",
    "\n",
    "# Craft a prompt to summarize the product description\n",
    "prompt = prompt = f'''\n",
    "    Summarize the delimited buy (´´´) text in no more than five bullet points\n",
    "    ´´´{product_description}´´´\n",
    "'''\n",
    "\n",
    "response = get_response(prompt)\n",
    "\n",
    "print(\"Original description: \\n\", product_description)\n",
    "print(\"Summarized description: \\n\", response)"
   ]
  },
  {
   "cell_type": "code",
   "execution_count": null,
   "id": "c2f65bca-c57f-47e3-9775-a390d29c6aae",
   "metadata": {},
   "outputs": [],
   "source": [
    "product_description='\\nProduct: \"Smart Home Security Camera\"\\n- High-tech security camera with night vision and motion detection.\\n- Easy setup and remote monitoring.\\n- Two-way audio communication for real-time interaction.\\n- Mobile app integration for convenient control and alerts.\\n- Weather-resistant design for both indoor and outdoor use.\\n- Smart AI algorithms for advanced person and object detection.\\n- Cloud storage and local backup options for recorded footage.\\n- Infrared LEDs for clear imaging even in complete darkness.\\n- Customizable motion zones to focus on specific areas.\\n- Compatibility with voice assistants for hands-free control.\\n'\n",
    "\n",
    "# Craft a prompt to expand the product's description\n",
    "prompt = f\"\"\"expands the product_description string delimited by ```, and write a one paragraph comprehensive overview capturing the key information of the product: unique features, benefits, and potential applications.\n",
    "\n",
    "```{product_description}```\n",
    "\"\"\"\n",
    "\n",
    "response = get_response(prompt)\n",
    "\n",
    "print(\"Original description: \\n\", product_description)\n",
    "print(\"Expanded description: \\n\", response)"
   ]
  },
  {
   "cell_type": "markdown",
   "id": "54778193-f9a3-4f5a-a18b-5f023bcd6e67",
   "metadata": {
    "execution": {
     "iopub.execute_input": "2024-10-12T14:24:22.167314Z",
     "iopub.status.busy": "2024-10-12T14:24:22.166458Z",
     "iopub.status.idle": "2024-10-12T14:24:22.180652Z",
     "shell.execute_reply": "2024-10-12T14:24:22.178459Z",
     "shell.execute_reply.started": "2024-10-12T14:24:22.167266Z"
    }
   },
   "source": [
    "# Translations \n",
    "\n",
    "Indicate text language \n",
    "\n",
    "We can ask the model to identify the language\n",
    "\n",
    "# Tone adjustement \n",
    "\n",
    "Indicating the target audience helps too\n",
    "\n",
    "# Grammar and writing improvements \n",
    "\n",
    "We can ask for a proofread or a proofread AND restructure a text \n",
    "\n",
    "# Multiple transformations \n",
    "\n",
    "Multiple transformations at once can be achieved with multistep prompts.\n",
    "\n"
   ]
  },
  {
   "cell_type": "code",
   "execution_count": null,
   "id": "ab1feffd-154f-4901-88f9-a7de835d4e90",
   "metadata": {},
   "outputs": [],
   "source": [
    "marketing_message='Introducing our latest collection of premium leather handbags. Each bag is meticulously crafted using the finest leather, ensuring durability and elegance. With a variety of designs and colors, our handbags are perfect for any occasion. Shop now and experience the epitome of style and quality.'\n",
    "\n",
    "# Craft a prompt that translates\n",
    "prompt = f'''translate the text delimited by ``` from English to French, Spanish, and Japanese.\n",
    "```{marketing_message}```\n",
    "'''\n",
    " \n",
    "response = get_response(prompt)\n",
    "\n",
    "print(\"English:\", marketing_message)\n",
    "print(response)"
   ]
  },
  {
   "cell_type": "code",
   "execution_count": null,
   "id": "3b38ecbe-62f3-4d34-8778-5733dcc6c358",
   "metadata": {},
   "outputs": [],
   "source": [
    "sample_mail='''    Subject: Check out our latest products!\n",
    "    \n",
    "    Dear Customer,\n",
    "    \n",
    "    We are excited to introduce our latest product line that includes a wide range of items to suit your needs. Whether you're looking for electronics, home appliances, or fashion accessories, we have it all!\n",
    "    \n",
    "    Hurry and visit our website to explore the fantastic deals and discounts we have for you. Don't miss out on the opportunity to get the best products at unbeatable prices.\n",
    "    \n",
    "    Thank you for being a valued customer, and we look forward to serving you soon!\n",
    "    \n",
    "    Best regards,\n",
    "    The Marketing Team\n",
    "'''\n",
    "\n",
    "# Craft a prompt to change the email's tone\n",
    "prompt = f'''transforms the sample_email by changing its tone to be professional, positive, and user-centric.\n",
    "\n",
    "```{sample_mail}````\n",
    "'''\n",
    "\n",
    "response = get_response(prompt)\n",
    "\n",
    "print(\"Before transformation: \\n\", sample_mail)\n",
    "print(\"After transformation: \\n\", response)"
   ]
  },
  {
   "cell_type": "code",
   "execution_count": null,
   "id": "e97331e7-e615-43bb-abd3-8bf5f5c44c10",
   "metadata": {},
   "outputs": [],
   "source": [
    "text = \"\\nHey guys, wanna know a cool trick? Here's how u can up your productivity game! First, download this awesome app, it's like the best thing ever! Then, just start using it and u'll see the difference. Its super easy and fun, trust me! So, what are u waiting for? Try it out now!\\n\"\n",
    "\n",
    "# Craft a prompt to transform the text\n",
    "prompt = f'''Do the next task in 2 steps on the text delimited by ```:\n",
    "Step 1.- Proofread the text without changing its structure. \n",
    "Step 2.- Adjust its tone to be formal and friendly.\n",
    "\n",
    "```{text}```\n",
    "'''\n",
    "\n",
    "response = get_response(prompt)\n",
    "\n",
    "print(\"Before transformation:\\n\", text)\n",
    "print(\"After transformation:\\n\", response)"
   ]
  },
  {
   "cell_type": "markdown",
   "id": "a83aa044-e8e8-4dea-9ac6-a6998d7db675",
   "metadata": {},
   "source": [
    "# Text Analysis\n",
    "\n",
    "Sentiment analysis for instance. \n",
    "\n",
    "- Specify classification categories when known\n",
    "- Mention output requirements\n",
    "\n",
    "Entity Extraction (people, places...). The output format is desirable. For complex outputs, few shots can help too.\n",
    "\n"
   ]
  },
  {
   "cell_type": "code",
   "execution_count": null,
   "id": "75f43374-17d0-428f-914c-8b006a019125",
   "metadata": {},
   "outputs": [],
   "source": [
    "ticket='\\nSubject: Urgent - Login Error\\n\\nHi Support Team,\\n\\nI\\'m having trouble accessing my account with the username \"example_user.\" Every time I try to log in, I encounter an error message. I\\'ve already attempted to reset my password, but the issue persists. I need to resolve this problem urgently, as I have pending tasks that require immediate attention.\\n\\nPlease investigate and assist promptly.\\n\\nThanks,\\nJohn.\\n'\n",
    "\n",
    "# Craft a prompt to classify the ticket\n",
    "prompt = f'''classifies the ticket delimited by ``` as technical issue, billing inquiry, or product feedback, without providing anything else in the response.\n",
    "\n",
    "```{ticket}```\n",
    "'''\n",
    "\n",
    "response = get_response(prompt)\n",
    "\n",
    "print(\"Ticket: \", ticket)\n",
    "print(\"Class: \", response)"
   ]
  },
  {
   "cell_type": "code",
   "execution_count": null,
   "id": "88ba3c14-1d87-4823-942d-4f2b1e6a878d",
   "metadata": {},
   "outputs": [],
   "source": [
    "ticket_1=\"Hi there! My name is John Smith, and I am experiencing issues with your premium software, XYZ Pro. My license key is ABC12345. I purchased it last week, but it's not activating properly on my computer.\"\n",
    "ticket_2=\"Dear support team, I am writing to inquire about the delivery status of my order. My name is Jane Doe, and I placed an order for a laptop on your website two days ago. The order number is ORD56789. Can you please provide an update on the delivery?\"\n",
    "ticket_3=\"Hello, I am having trouble accessing my account on your mobile app. My name is Alex Johnson, and I have a subscription for your Gold Plan. Can you help me resolve this issue?\"\n",
    "ticket_4=\"Greetings, I am facing technical difficulties with your software, ABC Editor. My name is Sarah Lee, and I recently upgraded to the latest version. However, whenever I try to save my work, the software crashes. Can you please help me resolve this problem?\"\n",
    "\n",
    "entities_1=\"\"\"\n",
    "* Customer Details:\n",
    "  - Name: John Smith\n",
    "  - License Key: ABC12345\n",
    "* Product/Service Mentions:\n",
    "  - Product: XYZ Pro (premium software)\"\"\"\n",
    "\n",
    "entities_2=\"\"\"\n",
    "* Customer Details:\n",
    "  - Name: Jane Doe\n",
    "* Product/Service Mentions:\n",
    "  - Product: laptop\"\"\"\n",
    "\n",
    "entities_3=\"\"\"\n",
    "* Customer Details:\n",
    "  - Name: Alex Johnson\n",
    "* Product/Service Mentions:\n",
    "  - Product: mobile app\n",
    "  - Service: Gold Plan\"\"\"\n",
    "\n",
    "# Craft a few-shot prompt to get the ticket's entities\n",
    "prompt = f'''extract entities from the new ticket as in the following examples\n",
    "- {ticket_1} -> {entities_1}\n",
    "- {ticket_2} -> {entities_2}\n",
    "- {ticket_3} -> {entities_3}\n",
    "- {ticket_4} ->\n",
    "'''\n",
    "\n",
    "response = get_response(prompt)\n",
    "\n",
    "print(\"Ticket: \\n\", ticket_4)\n",
    "print(\"Entities: \\n\", response)"
   ]
  },
  {
   "cell_type": "markdown",
   "id": "f46befed-da5b-4de5-bd9d-cfdfd86ec28b",
   "metadata": {},
   "source": [
    "# Code generation and Code explanation \n",
    "\n"
   ]
  },
  {
   "cell_type": "code",
   "execution_count": null,
   "id": "aa4d2183-964e-4663-99a7-a2ae191bf28e",
   "metadata": {},
   "outputs": [],
   "source": [
    "# Craft a prompt that asks the model for the function\n",
    "prompt = '''write a Python function that receives a list of 12 floats representing monthly sales data as input and, returns the month with the highest sales value as output.\n",
    "\n",
    "'''\n",
    "\n",
    "response = get_response(prompt)\n",
    "print(response)"
   ]
  },
  {
   "cell_type": "code",
   "execution_count": null,
   "id": "ef5c70f7-9711-4ec2-8ec8-7645471702a8",
   "metadata": {},
   "outputs": [],
   "source": [
    "examples=\"\"\"input = [10, 5, 8] -> output = 23\n",
    "input = [5, 2, 4] -> output = 11\n",
    "input = [2, 1, 3] -> output = 6\n",
    "input = [8, 4, 6] -> output = 18\n",
    "\"\"\"\n",
    "\n",
    "# Craft a prompt that asks the model for the function\n",
    "prompt = f'''infer the Python function that maps the inputs to the outputs in the provided examples:\n",
    "\n",
    "{examples}\n",
    "'''\n",
    "\n",
    "response = get_response(prompt)\n",
    "print(response)"
   ]
  },
  {
   "cell_type": "code",
   "execution_count": null,
   "id": "8bbf79ab-3822-4803-8bbd-75066951a0a8",
   "metadata": {},
   "outputs": [],
   "source": [
    "function = \"\"\"def calculate_area_rectangular_floor(width, length):\n",
    "\t\t\t\t\treturn width*length\"\"\"\n",
    "\n",
    "# Craft a multi-step prompt that asks the model to adjust the function\n",
    "prompt = f'''modify the function delimited by ``` according to the specified requirements in multiple steps: \n",
    "Step 1: test if the inputs to the functions are positive, and \n",
    "Step 2: if not, display appropriate error messages, \n",
    "Step 3: otherwise return the area and perimeter of the rectangle.\n",
    "\n",
    "```{function}```\n",
    "\n",
    "'''\n",
    "\n",
    "response = get_response(prompt)\n",
    "print(response)"
   ]
  },
  {
   "cell_type": "code",
   "execution_count": null,
   "id": "f3b12556-c6f0-431b-9063-f25b4e9905c5",
   "metadata": {},
   "outputs": [],
   "source": [
    "function=\"\\ndef analyze_portfolio(portfolio_data):\\n  total_value = 0\\n  highest_value = 0\\n  lowest_value = float('inf')\\n  \\n  for entry in portfolio_data:\\n    total_value += entry[1]\\n    if entry[1] > highest_value:\\n        highest_value = entry[1]\\n    if entry[1] < lowest_value:\\n        lowest_value = entry[1]\\n\\n  average_value = total_value / len(portfolio_data)\\n  return highest_value, lowest_value, average_value\\n  \\n\"\n",
    "\n",
    "# Craft a chain-of-thought prompt that asks the model to explain what the function does\n",
    "prompt = f'''Explain the provided function delimited by ``` in a chain of thought step by step:\n",
    "\n",
    "```{function}```\n",
    "'''\n",
    " \n",
    "response = get_response(prompt)\n",
    "print(response)"
   ]
  },
  {
   "cell_type": "markdown",
   "id": "fdeb3cc7-2472-4a0c-a27a-a205fe87bf3e",
   "metadata": {},
   "source": [
    "# Prompt engineering for chatbot development \n",
    "\n",
    "In the system prompt it can be estated that the model shouldnt respond to other questions but the topic it has been created for.\n",
    "\n"
   ]
  },
  {
   "cell_type": "code",
   "execution_count": null,
   "id": "07efcef0-ddc9-49c5-a9e5-2b2711f2660a",
   "metadata": {},
   "outputs": [],
   "source": [
    "def get_response(system_prompt, user_prompt):\n",
    "  # Assign the role and content for each message\n",
    "  messages = [{\"role\": 'system', \"content\": 'You are a data scientist'},\n",
    "      \t\t  {\"role\": 'user', \"content\": 'Explain ols'}]  \n",
    "  response = client.chat.completions.create(\n",
    "      model=\"gpt-4o-mini\", messages= messages, temperature=0)\n",
    "  \n",
    "  return response.choices[0].message.content\n",
    "\n",
    "# Try the function with a system and user prompts of your choice \n",
    "response = get_response('You are a data scientist', \"Explain ols\")\n",
    "print(response)"
   ]
  },
  {
   "cell_type": "code",
   "execution_count": null,
   "id": "87035cd2-24bd-430a-be28-149ef27f4957",
   "metadata": {},
   "outputs": [],
   "source": [
    "client = openai.OpenAI(api_key=os.getenv(\"OPENAI_API_KEY\"))\n",
    "\n",
    "def get_response(system_prompt, user_prompt):\n",
    "  # Assign the role and content for each message\n",
    "  messages = [{\"role\": 'system', \"content\": system_prompt},\n",
    "      \t\t  {\"role\": 'user', \"content\": user_prompt}]  \n",
    "  response = client.chat.completions.create(\n",
    "      model=\"gpt-4o-mini\", messages= messages, temperature=0)\n",
    "  \n",
    "  return response.choices[0].message.content\n",
    "\n",
    "# Try the function with a system and user prompts of your choice \n",
    "response = get_response('You are a data scientist', \"Explain ols\")\n",
    "print(response)\n",
    "\n",
    "# Define the purpose of the chatbot\n",
    "chatbot_purpose = \"You are a customer support agent, specialized in electronics.\"\n",
    "\n",
    "# Define audience guidelines\n",
    "audience_guidelines = \"the target audience are tech-savvy individuals interested in purchasing electronic gadgets.\"\n",
    "\n",
    "# Define tone guidelines\n",
    "tone_guidelines = \"The tone should be professional and user-friendly while interacting with customers.\"\n",
    "\n",
    "system_prompt = chatbot_purpose + audience_guidelines + tone_guidelines\n",
    "response = get_response(system_prompt, \"My new headphones aren't connecting to my device\")\n",
    "print(response)"
   ]
  },
  {
   "cell_type": "code",
   "execution_count": null,
   "id": "345d2e8c-4c1d-4b2d-a7a2-262af00b436b",
   "metadata": {},
   "outputs": [],
   "source": [
    "base_system_prompt='You are the customer support chatbot for an e-commerce platform specializing in electronics. Your role is to assist customers with inquiries, order tracking, and troubleshooting common issues related to their purchases. Your primary audience consists of tech-savvy individuals who are interested in purchasing electronic gadgets. Maintain a professional and user_friendly tone in your responses. '\n",
    "\n",
    "# Define the order number condition\n",
    "order_number_condition = \"If the user is asking about an order, and did not specify the order number, reply by asking for this number. \"\n",
    "\n",
    "# Define the technical issue condition\n",
    "technical_issue_condition = \"If the user is talking about a technical issue, start your response with `I'm sorry to hear about your issue with ...` \"\n",
    "\n",
    "# Create the refined system prompt\n",
    "refined_system_prompt = base_system_prompt + order_number_condition + technical_issue_condition\n",
    "\n",
    "response_1 = get_response(refined_system_prompt, \"My laptop screen is flickering. What should I do?\")\n",
    "response_2 = get_response(refined_system_prompt, \"Can you help me track my recent order?\")\n",
    "\n",
    "print(\"Response 1: \", response_1)\n",
    "print(\"Response 2: \", response_2)"
   ]
  },
  {
   "cell_type": "markdown",
   "id": "a5dedd50-7adc-495c-a4e5-cf8b0ee067c5",
   "metadata": {},
   "source": [
    "# Role Playing Prompts"
   ]
  },
  {
   "cell_type": "code",
   "execution_count": null,
   "id": "ab3a7d54-b68e-49e6-af78-309df326dcf0",
   "metadata": {},
   "outputs": [],
   "source": [
    "# Craft the system_prompt using the role-playing approach\n",
    "system_prompt = \"act as a learning advisor who can interpret learner queries as described and provide the relevant textbook recommendations\"\n",
    "\n",
    "user_prompt = \"Hello there! I'm a beginner with a marketing background, and I'm really interested in learning about Python, data analytics, and machine learning. Can you recommend some books?\"\n",
    "\n",
    "response = get_response(system_prompt, user_prompt)\n",
    "print(response)"
   ]
  },
  {
   "cell_type": "markdown",
   "id": "d95898a9-7448-4722-af89-6880e9822b53",
   "metadata": {},
   "source": [
    "# Incorporating External Content\n",
    "\n",
    "Lack on information in LLMs: \n",
    "- Information after the cutoff (data used for training)\n",
    "- Information that is not publicly available\n",
    "\n",
    "How to give extra information? \n",
    "We can provide user-assistant interactions in the messages object, to show the model how to interact. \n",
    "a context can be passed to in the system prompt. This works well with small contexts, since the context to be keept this way by a model is relatively small."
   ]
  },
  {
   "cell_type": "code",
   "execution_count": null,
   "id": "c49a25fd-ceb2-4cec-b58f-cda91c807a42",
   "metadata": {},
   "outputs": [],
   "source": [
    "# Define the system prompt\n",
    "system_prompt = \"You are a customer service chatbot for MyPersonalDelivery, a delivery service that offers a wide range of delivery options for various items. You should respond to user queries in a gentle way.\"\n",
    "\n",
    "context_question = \"What types of items can be delivered using MyPersonalDelivery?\"\n",
    "context_answer = \"We deliver everything from everyday essentials such as groceries, medications, and documents to larger items like electronics, clothing, and furniture. However, please note that we currently do not offer delivery for hazardous materials or extremely fragile items requiring special handling.\"\n",
    "\n",
    "# Add the context to the model\n",
    "response = client.chat.completions.create(\n",
    "  model=\"gpt-4o-mini\",\n",
    "  messages=[{\"role\": \"system\", \"content\": system_prompt},\n",
    "            {\"role\": \"user\", \"content\": context_question},\n",
    "            {\"role\": \"assistant\", \"content\": context_answer},\n",
    "            {\"role\": \"user\", \"content\": \"Do you deliver furniture?\"}])\n",
    "response = response.choices[0].message.content\n",
    "print(response)"
   ]
  },
  {
   "cell_type": "code",
   "execution_count": null,
   "id": "37302d87-27c4-464c-9fe3-027210004939",
   "metadata": {},
   "outputs": [],
   "source": [
    "service_description=\"\\nWelcome to MyPersonalDelivery, your trusted and versatile delivery service partner. At MyPersonalDelivery, we are committed to providing you with a seamless and efficient delivery experience for a wide range of items. Whether you need groceries, documents, electronics, or even furniture, we've got you covered.\\n\\nOur Services:\\nWe offer a diverse range of delivery services to cater to your unique needs. From same-day delivery for urgent items to scheduled deliveries that fit your convenience, we have the flexibility to meet your busy lifestyle. Our real-time tracking system ensures that you can monitor the status of your delivery every step of the way.\\n\\nWhat We Deliver:\\nOur service is designed to handle various items, including everyday essentials such as groceries and medications. Need to send important documents? No problem, we'll ensure they reach their destination securely. We also specialize in transporting larger items like electronics, clothing, and even furniture. However, please note that we currently do not offer delivery for hazardous materials or items that are extremely fragile and require special handling.\\n\\nSafety and Care:\\nYour items' safety is our top priority. We take pride in our secure handling practices to ensure that your deliveries arrive intact. Our contactless delivery option minimizes physical contact, adding an extra layer of safety during these times. We understand that each item is valuable, and you can trust us to treat your belongings with the utmost care.\\n\\nWhy Choose MyPersonalDelivery:\\n- Wide variety of items delivered\\n- Flexible delivery options\\n- Real-time tracking for peace of mind\\n- Secure handling and contactless delivery\\n- Reliable service with a commitment to excellence\\n\\nWhether you need a small package delivered across town or a larger item transported across the city, you can rely on MyPersonalDelivery to provide a reliable, secure, and efficient delivery solution. Your satisfaction is our driving force, and we look forward to serving you with our dedicated and customer-centric approach.\\n\\nFeel free to ask any questions you may have about our services, and we'll be more than happy to assist you.\\n\\n\"\n",
    "\n",
    "# Define the system prompt\n",
    "system_prompt = f\"\"\"You are a customer service chatbot for MyPersonalDelivery whose service description is delimited by triple backticks. You should respond to user queries in a gentle way.\n",
    " ```{service_description}```\n",
    "\"\"\"\n",
    "\n",
    "user_prompt = \"What benefits does MyPersonalDelivery offer?\"\n",
    "\n",
    "# Get the response to the user prompt\n",
    "response = get_response(system_prompt, user_prompt)\n",
    "\n",
    "print(response)"
   ]
  },
  {
   "cell_type": "code",
   "execution_count": null,
   "id": "a28767bf-6541-44e2-b9ce-7bc2719f7bbf",
   "metadata": {},
   "outputs": [],
   "source": []
  }
 ],
 "metadata": {
  "kernelspec": {
   "display_name": "Python 3 (ipykernel)",
   "language": "python",
   "name": "python3"
  },
  "language_info": {
   "codemirror_mode": {
    "name": "ipython",
    "version": 3
   },
   "file_extension": ".py",
   "mimetype": "text/x-python",
   "name": "python",
   "nbconvert_exporter": "python",
   "pygments_lexer": "ipython3",
   "version": "3.11.10"
  }
 },
 "nbformat": 4,
 "nbformat_minor": 5
}
