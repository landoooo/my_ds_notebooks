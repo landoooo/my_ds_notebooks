{
 "cells": [
  {
   "cell_type": "markdown",
   "id": "214dab39-3269-4718-a291-07a1817060ef",
   "metadata": {
    "execution": {
     "iopub.execute_input": "2024-07-19T20:46:43.728488Z",
     "iopub.status.busy": "2024-07-19T20:46:43.727333Z",
     "iopub.status.idle": "2024-07-19T20:46:43.738876Z",
     "shell.execute_reply": "2024-07-19T20:46:43.737575Z",
     "shell.execute_reply.started": "2024-07-19T20:46:43.728383Z"
    }
   },
   "source": [
    "# Functions\n",
    "\n",
    "There are several standards for python docstrings. The most used are the google and the numpydoc ones."
   ]
  },
  {
   "cell_type": "code",
   "execution_count": 4,
   "id": "ae64a1f7-80a7-4476-8831-c608fc9f342b",
   "metadata": {
    "execution": {
     "iopub.execute_input": "2024-07-19T20:50:55.536834Z",
     "iopub.status.busy": "2024-07-19T20:50:55.535550Z",
     "iopub.status.idle": "2024-07-19T20:50:55.549439Z",
     "shell.execute_reply": "2024-07-19T20:50:55.548196Z",
     "shell.execute_reply.started": "2024-07-19T20:50:55.536740Z"
    }
   },
   "outputs": [
    {
     "name": "stdout",
     "output_type": "stream",
     "text": [
      "Count the number of times `letter` appears in `content`.\n",
      "\n",
      "  Args:\n",
      "    content (str): The string to search.\n",
      "    letter (str): The letter to search for.\n",
      "\n",
      "  Returns:\n",
      "    int\n",
      "\n",
      "  Raises:\n",
      "    ValueError: If `letter` is not a one-character string.\n",
      "  \n"
     ]
    }
   ],
   "source": [
    "def count_letter(content, letter):\n",
    "  \"\"\"Count the number of times `letter` appears in `content`.\n",
    "\n",
    "  Args:\n",
    "    content (str): The string to search.\n",
    "    letter (str): The letter to search for.\n",
    "\n",
    "  Returns:\n",
    "    int\n",
    "\n",
    "  Raises:\n",
    "    ValueError: If `letter` is not a one-character string.\n",
    "  \"\"\"\n",
    "  if (not isinstance(letter, str)) or len(letter) != 1:\n",
    "    raise ValueError('`letter` must be a single character string.')\n",
    "  return len([char for char in content if char == letter])\n",
    "\n",
    "print(count_letter.__doc__)"
   ]
  },
  {
   "cell_type": "code",
   "execution_count": 5,
   "id": "cbf39543-0eec-4789-a9b1-27dbfb49e529",
   "metadata": {
    "execution": {
     "iopub.execute_input": "2024-07-19T20:52:45.405639Z",
     "iopub.status.busy": "2024-07-19T20:52:45.404873Z",
     "iopub.status.idle": "2024-07-19T20:52:45.417479Z",
     "shell.execute_reply": "2024-07-19T20:52:45.416465Z",
     "shell.execute_reply.started": "2024-07-19T20:52:45.405598Z"
    }
   },
   "outputs": [
    {
     "name": "stdout",
     "output_type": "stream",
     "text": [
      "Count the number of times `letter` appears in `content`.\n",
      "\n",
      "Args:\n",
      "  content (str): The string to search.\n",
      "  letter (str): The letter to search for.\n",
      "\n",
      "Returns:\n",
      "  int\n",
      "\n",
      "Raises:\n",
      "  ValueError: If `letter` is not a one-character string.\n"
     ]
    }
   ],
   "source": [
    "import inspect\n",
    "\n",
    "docstring = inspect.getdoc(count_letter)\n",
    "\n",
    "print(docstring)"
   ]
  },
  {
   "cell_type": "markdown",
   "id": "9d41aaf2-1ed3-4959-969e-3a8241b061df",
   "metadata": {},
   "source": [
    "# DRY (Dont Repeat Yourself)"
   ]
  },
  {
   "cell_type": "markdown",
   "id": "97426fe2-21f7-4b34-beae-6b8c48827afe",
   "metadata": {},
   "source": [
    "# Do One Thing"
   ]
  },
  {
   "cell_type": "markdown",
   "id": "1de72b3e-fa64-4806-954b-16e8345e1389",
   "metadata": {
    "execution": {
     "iopub.execute_input": "2024-07-20T14:03:36.524802Z",
     "iopub.status.busy": "2024-07-20T14:03:36.523744Z",
     "iopub.status.idle": "2024-07-20T14:03:36.531365Z",
     "shell.execute_reply": "2024-07-20T14:03:36.530389Z",
     "shell.execute_reply.started": "2024-07-20T14:03:36.524760Z"
    }
   },
   "source": [
    "# Passing by assignment"
   ]
  },
  {
   "cell_type": "code",
   "execution_count": 8,
   "id": "ccbfc619-e1e7-4337-a684-db25e6f0ec1d",
   "metadata": {
    "execution": {
     "iopub.execute_input": "2024-07-20T14:04:35.973369Z",
     "iopub.status.busy": "2024-07-20T14:04:35.972240Z",
     "iopub.status.idle": "2024-07-20T14:04:35.986550Z",
     "shell.execute_reply": "2024-07-20T14:04:35.985253Z",
     "shell.execute_reply.started": "2024-07-20T14:04:35.973298Z"
    }
   },
   "outputs": [
    {
     "name": "stdout",
     "output_type": "stream",
     "text": [
      "[99, 2, 3]\n"
     ]
    }
   ],
   "source": [
    "def foo(x):\n",
    "   x[0] = 99\n",
    "\n",
    "my_list = [1, 2, 3]\n",
    "foo(my_list)\n",
    "print(my_list)"
   ]
  },
  {
   "cell_type": "markdown",
   "id": "6f509cc0-f127-416e-8dd2-12d846efc94f",
   "metadata": {
    "execution": {
     "iopub.execute_input": "2024-07-20T14:05:15.260678Z",
     "iopub.status.busy": "2024-07-20T14:05:15.259771Z",
     "iopub.status.idle": "2024-07-20T14:05:15.273824Z",
     "shell.execute_reply": "2024-07-20T14:05:15.271910Z",
     "shell.execute_reply.started": "2024-07-20T14:05:15.260631Z"
    }
   },
   "source": [
    "Lists in python are mutable objects"
   ]
  },
  {
   "cell_type": "code",
   "execution_count": 10,
   "id": "eb418633-1d20-465f-80cc-a3c2c40712a1",
   "metadata": {
    "execution": {
     "iopub.execute_input": "2024-07-20T14:06:07.602081Z",
     "iopub.status.busy": "2024-07-20T14:06:07.601321Z",
     "iopub.status.idle": "2024-07-20T14:06:07.615033Z",
     "shell.execute_reply": "2024-07-20T14:06:07.613914Z",
     "shell.execute_reply.started": "2024-07-20T14:06:07.602039Z"
    }
   },
   "outputs": [
    {
     "name": "stdout",
     "output_type": "stream",
     "text": [
      "3\n"
     ]
    }
   ],
   "source": [
    "def bar(x):\n",
    "   x = x + 99\n",
    "\n",
    "my_var = 3\n",
    "bar(my_var)\n",
    "print(my_var)"
   ]
  },
  {
   "cell_type": "markdown",
   "id": "76ee245f-8677-4172-a25a-7dfaee1df789",
   "metadata": {},
   "source": [
    "But integers are not..."
   ]
  },
  {
   "cell_type": "code",
   "execution_count": 11,
   "id": "368a33f2-bd5e-4268-8b24-07d8625fee9a",
   "metadata": {
    "execution": {
     "iopub.execute_input": "2024-07-20T14:07:35.542781Z",
     "iopub.status.busy": "2024-07-20T14:07:35.541777Z",
     "iopub.status.idle": "2024-07-20T14:07:35.562477Z",
     "shell.execute_reply": "2024-07-20T14:07:35.560976Z",
     "shell.execute_reply.started": "2024-07-20T14:07:35.542710Z"
    }
   },
   "outputs": [
    {
     "data": {
      "text/plain": [
       "[1, 2, 3, 5]"
      ]
     },
     "execution_count": 11,
     "metadata": {},
     "output_type": "execute_result"
    }
   ],
   "source": [
    "a=[1,2,3]\n",
    "b=a\n",
    "b.append(5)\n",
    "a"
   ]
  },
  {
   "cell_type": "code",
   "execution_count": 12,
   "id": "7d542722-2e4f-40cf-ad80-04f188107537",
   "metadata": {
    "execution": {
     "iopub.execute_input": "2024-07-20T14:08:04.291551Z",
     "iopub.status.busy": "2024-07-20T14:08:04.290251Z",
     "iopub.status.idle": "2024-07-20T14:08:04.305469Z",
     "shell.execute_reply": "2024-07-20T14:08:04.304270Z",
     "shell.execute_reply.started": "2024-07-20T14:08:04.291475Z"
    }
   },
   "outputs": [
    {
     "data": {
      "text/plain": [
       "[1, 2, 3, 5]"
      ]
     },
     "execution_count": 12,
     "metadata": {},
     "output_type": "execute_result"
    }
   ],
   "source": [
    "b"
   ]
  },
  {
   "cell_type": "code",
   "execution_count": 13,
   "id": "62cee530-19cf-4595-9812-83e05eb28327",
   "metadata": {
    "execution": {
     "iopub.execute_input": "2024-07-20T14:08:12.232617Z",
     "iopub.status.busy": "2024-07-20T14:08:12.231754Z",
     "iopub.status.idle": "2024-07-20T14:08:12.246302Z",
     "shell.execute_reply": "2024-07-20T14:08:12.245195Z",
     "shell.execute_reply.started": "2024-07-20T14:08:12.232546Z"
    }
   },
   "outputs": [
    {
     "data": {
      "text/plain": [
       "[1, 2, 3, 5, 45]"
      ]
     },
     "execution_count": 13,
     "metadata": {},
     "output_type": "execute_result"
    }
   ],
   "source": [
    "b.append(45)\n",
    "a"
   ]
  },
  {
   "cell_type": "code",
   "execution_count": 14,
   "id": "92102f92-4502-4330-b81d-9be1582e7d6e",
   "metadata": {
    "execution": {
     "iopub.execute_input": "2024-07-20T14:08:18.393548Z",
     "iopub.status.busy": "2024-07-20T14:08:18.391808Z",
     "iopub.status.idle": "2024-07-20T14:08:18.405814Z",
     "shell.execute_reply": "2024-07-20T14:08:18.404854Z",
     "shell.execute_reply.started": "2024-07-20T14:08:18.393468Z"
    }
   },
   "outputs": [
    {
     "data": {
      "text/plain": [
       "[1, 2, 3, 5, 45]"
      ]
     },
     "execution_count": 14,
     "metadata": {},
     "output_type": "execute_result"
    }
   ],
   "source": [
    "a=42\n",
    "b"
   ]
  },
  {
   "cell_type": "markdown",
   "id": "f21d80af-8dcd-4c84-9b36-2256a2128346",
   "metadata": {},
   "source": [
    "## Special case with function's default values"
   ]
  },
  {
   "cell_type": "code",
   "execution_count": 18,
   "id": "49b42f8d-e6b9-4c6e-ac4a-3a79f7e52b8c",
   "metadata": {
    "execution": {
     "iopub.execute_input": "2024-07-20T14:17:25.311402Z",
     "iopub.status.busy": "2024-07-20T14:17:25.310302Z",
     "iopub.status.idle": "2024-07-20T14:17:25.334643Z",
     "shell.execute_reply": "2024-07-20T14:17:25.334090Z",
     "shell.execute_reply.started": "2024-07-20T14:17:25.311327Z"
    }
   },
   "outputs": [
    {
     "data": {
      "text/html": [
       "<div>\n",
       "<style scoped>\n",
       "    .dataframe tbody tr th:only-of-type {\n",
       "        vertical-align: middle;\n",
       "    }\n",
       "\n",
       "    .dataframe tbody tr th {\n",
       "        vertical-align: top;\n",
       "    }\n",
       "\n",
       "    .dataframe thead th {\n",
       "        text-align: right;\n",
       "    }\n",
       "</style>\n",
       "<table border=\"1\" class=\"dataframe\">\n",
       "  <thead>\n",
       "    <tr style=\"text-align: right;\">\n",
       "      <th></th>\n",
       "      <th>col_0</th>\n",
       "      <th>col_1</th>\n",
       "    </tr>\n",
       "  </thead>\n",
       "  <tbody>\n",
       "    <tr>\n",
       "      <th>0</th>\n",
       "      <td>1</td>\n",
       "      <td>1</td>\n",
       "    </tr>\n",
       "    <tr>\n",
       "      <th>1</th>\n",
       "      <td>2</td>\n",
       "      <td>2</td>\n",
       "    </tr>\n",
       "  </tbody>\n",
       "</table>\n",
       "</div>"
      ],
      "text/plain": [
       "   col_0  col_1\n",
       "0      1      1\n",
       "1      2      2"
      ]
     },
     "execution_count": 18,
     "metadata": {},
     "output_type": "execute_result"
    }
   ],
   "source": [
    "import pandas as pd\n",
    "\n",
    "def add_column(values, df=pd.DataFrame()):\n",
    "  df['col_{}'.format(len(df.columns))] = values\n",
    "  return df\n",
    "\n",
    "df = add_column([1, 2])\n",
    "df = add_column([1, 2])\n",
    "\n",
    "df.head()"
   ]
  },
  {
   "cell_type": "code",
   "execution_count": 19,
   "id": "d16ffb83-0cbd-4275-9bbf-b75d60fa59f2",
   "metadata": {
    "execution": {
     "iopub.execute_input": "2024-07-20T14:17:25.591969Z",
     "iopub.status.busy": "2024-07-20T14:17:25.590622Z",
     "iopub.status.idle": "2024-07-20T14:17:25.615841Z",
     "shell.execute_reply": "2024-07-20T14:17:25.614721Z",
     "shell.execute_reply.started": "2024-07-20T14:17:25.591890Z"
    }
   },
   "outputs": [
    {
     "data": {
      "text/html": [
       "<div>\n",
       "<style scoped>\n",
       "    .dataframe tbody tr th:only-of-type {\n",
       "        vertical-align: middle;\n",
       "    }\n",
       "\n",
       "    .dataframe tbody tr th {\n",
       "        vertical-align: top;\n",
       "    }\n",
       "\n",
       "    .dataframe thead th {\n",
       "        text-align: right;\n",
       "    }\n",
       "</style>\n",
       "<table border=\"1\" class=\"dataframe\">\n",
       "  <thead>\n",
       "    <tr style=\"text-align: right;\">\n",
       "      <th></th>\n",
       "      <th>col_0</th>\n",
       "    </tr>\n",
       "  </thead>\n",
       "  <tbody>\n",
       "    <tr>\n",
       "      <th>0</th>\n",
       "      <td>1</td>\n",
       "    </tr>\n",
       "    <tr>\n",
       "      <th>1</th>\n",
       "      <td>2</td>\n",
       "    </tr>\n",
       "  </tbody>\n",
       "</table>\n",
       "</div>"
      ],
      "text/plain": [
       "   col_0\n",
       "0      1\n",
       "1      2"
      ]
     },
     "execution_count": 19,
     "metadata": {},
     "output_type": "execute_result"
    }
   ],
   "source": [
    "def better_add_column(values, df=None):\n",
    "  if df is None:\n",
    "    df = pd.DataFrame()\n",
    "  df['col_{}'.format(len(df.columns))] = values\n",
    "  return df\n",
    "\n",
    "df = better_add_column([1, 2])\n",
    "df = better_add_column([1, 2])\n",
    "\n",
    "df.head()"
   ]
  },
  {
   "cell_type": "markdown",
   "id": "1fc5a953-b186-4210-b9ce-3da205af4068",
   "metadata": {},
   "source": [
    "# Context Managers"
   ]
  },
  {
   "cell_type": "raw",
   "id": "f6fb3f10-dc4b-4906-b1a8-10ce99587f39",
   "metadata": {},
   "source": [
    "with ‹context-manager>(<args>) as ‹variable-name>:\n",
    " # Run your code here\n",
    " # This code is running \"inside the context\"\n",
    "\n",
    "# This code runs after the context is removed"
   ]
  },
  {
   "cell_type": "code",
   "execution_count": 21,
   "id": "a50fe693-e03f-4039-a02d-af45da39ba82",
   "metadata": {
    "execution": {
     "iopub.execute_input": "2024-07-20T14:22:47.517896Z",
     "iopub.status.busy": "2024-07-20T14:22:47.517186Z",
     "iopub.status.idle": "2024-07-20T14:22:47.529556Z",
     "shell.execute_reply": "2024-07-20T14:22:47.528417Z",
     "shell.execute_reply.started": "2024-07-20T14:22:47.517850Z"
    }
   },
   "outputs": [
    {
     "name": "stdout",
     "output_type": "stream",
     "text": [
      "The file has the word \"other\" 1 times\n"
     ]
    }
   ],
   "source": [
    "# Open \"alice.txt\" and assign the file to \"file\"\n",
    "with open('../data/Plain text with several lines.txt') as file:\n",
    "  text = file.read()\n",
    "\n",
    "n = 0\n",
    "for word in text.split():\n",
    "  if word.lower() in ['other']:\n",
    "    n += 1\n",
    "\n",
    "print('The file has the word \"other\" {} times'.format(n))"
   ]
  },
  {
   "cell_type": "markdown",
   "id": "6b4d2bd2-ed70-4dee-8639-88dab626933e",
   "metadata": {
    "execution": {
     "iopub.execute_input": "2024-07-21T08:32:57.953668Z",
     "iopub.status.busy": "2024-07-21T08:32:57.952827Z",
     "iopub.status.idle": "2024-07-21T08:32:57.960858Z",
     "shell.execute_reply": "2024-07-21T08:32:57.959656Z",
     "shell.execute_reply.started": "2024-07-21T08:32:57.953619Z"
    }
   },
   "source": [
    "## Writing context managers\n",
    "\n",
    "There are two ways for writing context managers in python:\n",
    "\n",
    "### Class based\n",
    "\n",
    "### Function based\n",
    "1. Define a function\n",
    "2. (optional) Add any set up code your context needs\n",
    "3. Use the \"yield\" keyword\n",
    "4. (optional) Add any teardown code your context needs\n",
    "5. Add the **@contextlib.contextmanager** decorator\n",
    "\n",
    "Note that the yield statement can return nothing."
   ]
  },
  {
   "cell_type": "code",
   "execution_count": 26,
   "id": "55fcad86-bd1f-485d-be25-436c17bf7a64",
   "metadata": {
    "execution": {
     "iopub.execute_input": "2024-07-21T08:38:23.157801Z",
     "iopub.status.busy": "2024-07-21T08:38:23.156727Z",
     "iopub.status.idle": "2024-07-21T08:38:23.168522Z",
     "shell.execute_reply": "2024-07-21T08:38:23.167128Z",
     "shell.execute_reply.started": "2024-07-21T08:38:23.157731Z"
    }
   },
   "outputs": [],
   "source": [
    "import contextlib\n",
    "\n",
    "@contextlib.contextmanager\n",
    "def my_context():\n",
    "    # setup\n",
    "    print('hello')\n",
    "    \n",
    "    yield 42\n",
    "\n",
    "    # teardown\n",
    "    print ('goodbye')\n"
   ]
  },
  {
   "cell_type": "code",
   "execution_count": 27,
   "id": "d96e57ea-ce27-4363-a82b-cc16d49132d5",
   "metadata": {
    "execution": {
     "iopub.execute_input": "2024-07-21T08:39:09.250236Z",
     "iopub.status.busy": "2024-07-21T08:39:09.248588Z",
     "iopub.status.idle": "2024-07-21T08:39:09.261793Z",
     "shell.execute_reply": "2024-07-21T08:39:09.260406Z",
     "shell.execute_reply.started": "2024-07-21T08:39:09.250167Z"
    }
   },
   "outputs": [
    {
     "name": "stdout",
     "output_type": "stream",
     "text": [
      "hello\n",
      "foo is 42\n",
      "goodbye\n"
     ]
    }
   ],
   "source": [
    "with my_context() as foo:\n",
    "    print('foo is {}'.format(foo))"
   ]
  },
  {
   "cell_type": "markdown",
   "id": "a2dcd5cd-451b-4ee7-ba16-c30eeed575b9",
   "metadata": {},
   "source": [
    "## Advanced topics\n",
    "### Nested contexts"
   ]
  },
  {
   "cell_type": "code",
   "execution_count": null,
   "id": "ce6daa9b-6c44-417b-aba9-6733a50151d6",
   "metadata": {},
   "outputs": [],
   "source": [
    "def copy(src, dst):\n",
    "    with open(src) as f_src:\n",
    "        with open(dst, 'w') as f_dst:\n",
    "            for line in f_src:\n",
    "                f_dst.write(line)"
   ]
  },
  {
   "cell_type": "markdown",
   "id": "b9f42e19-7b11-4947-a7eb-a29546e71d5d",
   "metadata": {},
   "source": [
    "### Handling errors"
   ]
  },
  {
   "cell_type": "code",
   "execution_count": 30,
   "id": "6f0a8b75-fb51-4d8f-85e0-2b21c62e7351",
   "metadata": {
    "execution": {
     "iopub.execute_input": "2024-07-21T08:52:28.985869Z",
     "iopub.status.busy": "2024-07-21T08:52:28.984692Z",
     "iopub.status.idle": "2024-07-21T08:52:28.997414Z",
     "shell.execute_reply": "2024-07-21T08:52:28.996187Z",
     "shell.execute_reply.started": "2024-07-21T08:52:28.985797Z"
    }
   },
   "outputs": [],
   "source": [
    "def function(var):\n",
    "    #setup\n",
    "    try:\n",
    "        yield\n",
    "    finally:\n",
    "        #teardown\n",
    "        print('tearing down')\n"
   ]
  },
  {
   "cell_type": "markdown",
   "id": "f2ade684-370c-4c81-a659-5ba04e5dfecf",
   "metadata": {
    "execution": {
     "iopub.execute_input": "2024-07-21T09:07:51.046737Z",
     "iopub.status.busy": "2024-07-21T09:07:51.045899Z",
     "iopub.status.idle": "2024-07-21T09:07:51.056092Z",
     "shell.execute_reply": "2024-07-21T09:07:51.053911Z",
     "shell.execute_reply.started": "2024-07-21T09:07:51.046660Z"
    }
   },
   "source": [
    "### Decorators"
   ]
  },
  {
   "cell_type": "markdown",
   "id": "2d960bb6-c377-4272-9d7a-9ddca20fec96",
   "metadata": {
    "execution": {
     "iopub.execute_input": "2024-07-21T09:08:30.510492Z",
     "iopub.status.busy": "2024-07-21T09:08:30.509698Z",
     "iopub.status.idle": "2024-07-21T09:08:30.526611Z",
     "shell.execute_reply": "2024-07-21T09:08:30.524133Z",
     "shell.execute_reply.started": "2024-07-21T09:08:30.510446Z"
    }
   },
   "source": [
    "#### Functions are objects"
   ]
  },
  {
   "cell_type": "code",
   "execution_count": 34,
   "id": "8e1dace0-d444-432c-9f22-af733be08b3e",
   "metadata": {
    "execution": {
     "iopub.execute_input": "2024-07-21T09:09:01.342765Z",
     "iopub.status.busy": "2024-07-21T09:09:01.341977Z",
     "iopub.status.idle": "2024-07-21T09:09:01.358012Z",
     "shell.execute_reply": "2024-07-21T09:09:01.356709Z",
     "shell.execute_reply.started": "2024-07-21T09:09:01.342723Z"
    }
   },
   "outputs": [
    {
     "data": {
      "text/plain": [
       "function"
      ]
     },
     "execution_count": 34,
     "metadata": {},
     "output_type": "execute_result"
    }
   ],
   "source": [
    "def my_function():\n",
    "    print('Hello')\n",
    "\n",
    "x=my_function\n",
    "type(x)"
   ]
  },
  {
   "cell_type": "code",
   "execution_count": 35,
   "id": "5358ee8e-2042-41f9-bb74-a2286318e852",
   "metadata": {
    "execution": {
     "iopub.execute_input": "2024-07-21T09:09:06.424310Z",
     "iopub.status.busy": "2024-07-21T09:09:06.423178Z",
     "iopub.status.idle": "2024-07-21T09:09:06.434244Z",
     "shell.execute_reply": "2024-07-21T09:09:06.433178Z",
     "shell.execute_reply.started": "2024-07-21T09:09:06.424238Z"
    }
   },
   "outputs": [
    {
     "name": "stdout",
     "output_type": "stream",
     "text": [
      "Hello\n"
     ]
    }
   ],
   "source": [
    "x()"
   ]
  },
  {
   "cell_type": "code",
   "execution_count": 38,
   "id": "d2b903e3-6580-4d89-b72d-9f5a0e8586aa",
   "metadata": {
    "execution": {
     "iopub.execute_input": "2024-07-21T09:10:52.465642Z",
     "iopub.status.busy": "2024-07-21T09:10:52.464519Z",
     "iopub.status.idle": "2024-07-21T09:10:52.479104Z",
     "shell.execute_reply": "2024-07-21T09:10:52.477834Z",
     "shell.execute_reply.started": "2024-07-21T09:10:52.465572Z"
    }
   },
   "outputs": [
    {
     "data": {
      "text/plain": [
       "<function __main__.my_function()>"
      ]
     },
     "execution_count": 38,
     "metadata": {},
     "output_type": "execute_result"
    }
   ],
   "source": [
    "x"
   ]
  },
  {
   "cell_type": "code",
   "execution_count": 36,
   "id": "9b01eaed-788c-4282-84f2-d17d06dff139",
   "metadata": {
    "execution": {
     "iopub.execute_input": "2024-07-21T09:09:38.087972Z",
     "iopub.status.busy": "2024-07-21T09:09:38.087082Z",
     "iopub.status.idle": "2024-07-21T09:09:38.098855Z",
     "shell.execute_reply": "2024-07-21T09:09:38.096257Z",
     "shell.execute_reply.started": "2024-07-21T09:09:38.087900Z"
    }
   },
   "outputs": [],
   "source": [
    "list_of_functions = [my_function, open, print]"
   ]
  },
  {
   "cell_type": "code",
   "execution_count": 37,
   "id": "e93a65d5-84e5-4400-98a3-9480ef750ef8",
   "metadata": {
    "execution": {
     "iopub.execute_input": "2024-07-21T09:10:02.839939Z",
     "iopub.status.busy": "2024-07-21T09:10:02.837803Z",
     "iopub.status.idle": "2024-07-21T09:10:02.851406Z",
     "shell.execute_reply": "2024-07-21T09:10:02.850288Z",
     "shell.execute_reply.started": "2024-07-21T09:10:02.839426Z"
    }
   },
   "outputs": [
    {
     "name": "stdout",
     "output_type": "stream",
     "text": [
      "hi\n"
     ]
    }
   ],
   "source": [
    "list_of_functions[2]('hi')"
   ]
  },
  {
   "cell_type": "code",
   "execution_count": 39,
   "id": "2c42f9e0-6479-4283-aec9-3624a37bee39",
   "metadata": {
    "execution": {
     "iopub.execute_input": "2024-07-21T09:11:39.422766Z",
     "iopub.status.busy": "2024-07-21T09:11:39.421623Z",
     "iopub.status.idle": "2024-07-21T09:11:39.434600Z",
     "shell.execute_reply": "2024-07-21T09:11:39.429585Z",
     "shell.execute_reply.started": "2024-07-21T09:11:39.422690Z"
    }
   },
   "outputs": [],
   "source": [
    "def has_docstring(func):\n",
    "    return func.__doc__ is not None"
   ]
  },
  {
   "cell_type": "code",
   "execution_count": 40,
   "id": "4bdd110d-7376-459d-b353-126be3f2c48e",
   "metadata": {
    "execution": {
     "iopub.execute_input": "2024-07-21T09:11:49.279861Z",
     "iopub.status.busy": "2024-07-21T09:11:49.278852Z",
     "iopub.status.idle": "2024-07-21T09:11:49.293353Z",
     "shell.execute_reply": "2024-07-21T09:11:49.292303Z",
     "shell.execute_reply.started": "2024-07-21T09:11:49.279787Z"
    }
   },
   "outputs": [
    {
     "data": {
      "text/plain": [
       "False"
      ]
     },
     "execution_count": 40,
     "metadata": {},
     "output_type": "execute_result"
    }
   ],
   "source": [
    "has_docstring(x)"
   ]
  },
  {
   "cell_type": "code",
   "execution_count": 41,
   "id": "6f7fe194-21bb-4c85-9334-28e6fa538dac",
   "metadata": {
    "execution": {
     "iopub.execute_input": "2024-07-21T09:12:23.752563Z",
     "iopub.status.busy": "2024-07-21T09:12:23.751629Z",
     "iopub.status.idle": "2024-07-21T09:12:23.762945Z",
     "shell.execute_reply": "2024-07-21T09:12:23.761212Z",
     "shell.execute_reply.started": "2024-07-21T09:12:23.752519Z"
    }
   },
   "outputs": [],
   "source": [
    "def my_documented_function():\n",
    "    '''\n",
    "        Returns hello\n",
    "    '''\n",
    "    print('Hello')"
   ]
  },
  {
   "cell_type": "code",
   "execution_count": 42,
   "id": "24b9a5be-7a02-46b9-bd24-358c26e752a3",
   "metadata": {
    "execution": {
     "iopub.execute_input": "2024-07-21T09:12:31.851918Z",
     "iopub.status.busy": "2024-07-21T09:12:31.851147Z",
     "iopub.status.idle": "2024-07-21T09:12:31.866745Z",
     "shell.execute_reply": "2024-07-21T09:12:31.863127Z",
     "shell.execute_reply.started": "2024-07-21T09:12:31.851877Z"
    }
   },
   "outputs": [
    {
     "data": {
      "text/plain": [
       "True"
      ]
     },
     "execution_count": 42,
     "metadata": {},
     "output_type": "execute_result"
    }
   ],
   "source": [
    "has_docstring(my_documented_function)"
   ]
  },
  {
   "cell_type": "code",
   "execution_count": 44,
   "id": "64448e74-fd06-4742-bc2c-6734709ff80b",
   "metadata": {
    "execution": {
     "iopub.execute_input": "2024-07-21T09:14:35.797303Z",
     "iopub.status.busy": "2024-07-21T09:14:35.796124Z",
     "iopub.status.idle": "2024-07-21T09:14:35.807877Z",
     "shell.execute_reply": "2024-07-21T09:14:35.806506Z",
     "shell.execute_reply.started": "2024-07-21T09:14:35.797231Z"
    }
   },
   "outputs": [],
   "source": [
    "def get_function():\n",
    "    def print_me(s):\n",
    "        print(s)\n",
    "    \n",
    "    return print_me()"
   ]
  },
  {
   "cell_type": "markdown",
   "id": "fc92e3b8-4ff6-40af-a549-129b85ed2cd1",
   "metadata": {},
   "source": [
    "# Scope"
   ]
  },
  {
   "cell_type": "code",
   "execution_count": 48,
   "id": "6d51e528-a3d7-4368-9e75-a5a2a22295e3",
   "metadata": {
    "execution": {
     "iopub.execute_input": "2024-07-21T09:22:52.172693Z",
     "iopub.status.busy": "2024-07-21T09:22:52.171542Z",
     "iopub.status.idle": "2024-07-21T09:22:52.186767Z",
     "shell.execute_reply": "2024-07-21T09:22:52.185715Z",
     "shell.execute_reply.started": "2024-07-21T09:22:52.172614Z"
    }
   },
   "outputs": [
    {
     "name": "stdout",
     "output_type": "stream",
     "text": [
      "x inside: 4\n",
      "y inside: 100\n",
      "x outside: 3\n",
      "y outside: 100\n"
     ]
    }
   ],
   "source": [
    "x = 3\n",
    "y = 100\n",
    "def foo():\n",
    "    x=4\n",
    "    print(f'x inside: {x}')\n",
    "    print(f'y inside: {y}')\n",
    "    return ''\n",
    "\n",
    "foo()\n",
    "print(f'x outside: {x}')\n",
    "print(f'y outside: {y}')"
   ]
  },
  {
   "cell_type": "markdown",
   "id": "6aeccb23-4ec4-40c2-aebb-863f42f597d8",
   "metadata": {},
   "source": [
    "Python looks for vbles based on the name:\n",
    "1. Local scope, and if its not there,\n",
    "2. Global scope, and if its not there,a\n",
    "3. Builtin scope"
   ]
  },
  {
   "cell_type": "markdown",
   "id": "ac337a1f-e40c-4867-ad57-4e1b2a8a0a91",
   "metadata": {},
   "source": [
    "## The global keyword"
   ]
  },
  {
   "cell_type": "code",
   "execution_count": 49,
   "id": "49a53b62-3f90-4fe3-8c05-9b7673949279",
   "metadata": {
    "execution": {
     "iopub.execute_input": "2024-07-21T09:25:52.377012Z",
     "iopub.status.busy": "2024-07-21T09:25:52.376140Z",
     "iopub.status.idle": "2024-07-21T09:25:52.388299Z",
     "shell.execute_reply": "2024-07-21T09:25:52.386946Z",
     "shell.execute_reply.started": "2024-07-21T09:25:52.376947Z"
    }
   },
   "outputs": [
    {
     "name": "stdout",
     "output_type": "stream",
     "text": [
      "x inside: 4\n",
      "y inside: 100\n",
      "x outside: 4\n",
      "y outside: 100\n"
     ]
    }
   ],
   "source": [
    "x = 3\n",
    "y = 100\n",
    "def foo():\n",
    "    global x\n",
    "    x=4\n",
    "    print(f'x inside: {x}')\n",
    "    print(f'y inside: {y}')\n",
    "    return ''\n",
    "\n",
    "foo()\n",
    "print(f'x outside: {x}')\n",
    "print(f'y outside: {y}')"
   ]
  },
  {
   "cell_type": "markdown",
   "id": "0e3dca0f-c2ed-41c1-9339-19ddc552c048",
   "metadata": {},
   "source": [
    "## The nonlocal keyword"
   ]
  },
  {
   "cell_type": "code",
   "execution_count": 55,
   "id": "248efd32-db70-4982-a62f-f1ab791e21be",
   "metadata": {
    "execution": {
     "iopub.execute_input": "2024-07-21T09:29:35.839908Z",
     "iopub.status.busy": "2024-07-21T09:29:35.839156Z",
     "iopub.status.idle": "2024-07-21T09:29:35.853188Z",
     "shell.execute_reply": "2024-07-21T09:29:35.851830Z",
     "shell.execute_reply.started": "2024-07-21T09:29:35.839868Z"
    }
   },
   "outputs": [
    {
     "name": "stdout",
     "output_type": "stream",
     "text": [
      "x inside: 77\n",
      "x outside: 77\n"
     ]
    },
    {
     "data": {
      "text/plain": [
       "''"
      ]
     },
     "execution_count": 55,
     "metadata": {},
     "output_type": "execute_result"
    }
   ],
   "source": [
    "\n",
    "def foo():\n",
    "    x = 3\n",
    "    \n",
    "    def bar():\n",
    "        nonlocal x\n",
    "        x=77 \n",
    "        print(f'x inside: {x}')\n",
    "        return ''\n",
    "    \n",
    "    bar()\n",
    "    print(f'x outside: {x}')\n",
    "    return ''  \n",
    "\n",
    "foo()"
   ]
  },
  {
   "cell_type": "code",
   "execution_count": null,
   "id": "cd2dfe59-2332-4cb4-baa4-9cc2141a5d2f",
   "metadata": {},
   "outputs": [],
   "source": []
  }
 ],
 "metadata": {
  "kernelspec": {
   "display_name": "Python 3 (ipykernel)",
   "language": "python",
   "name": "python3"
  },
  "language_info": {
   "codemirror_mode": {
    "name": "ipython",
    "version": 3
   },
   "file_extension": ".py",
   "mimetype": "text/x-python",
   "name": "python",
   "nbconvert_exporter": "python",
   "pygments_lexer": "ipython3",
   "version": "3.12.4"
  }
 },
 "nbformat": 4,
 "nbformat_minor": 5
}
