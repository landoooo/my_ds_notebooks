{
 "cells": [
  {
   "cell_type": "markdown",
   "id": "214dab39-3269-4718-a291-07a1817060ef",
   "metadata": {
    "execution": {
     "iopub.execute_input": "2024-07-19T20:46:43.728488Z",
     "iopub.status.busy": "2024-07-19T20:46:43.727333Z",
     "iopub.status.idle": "2024-07-19T20:46:43.738876Z",
     "shell.execute_reply": "2024-07-19T20:46:43.737575Z",
     "shell.execute_reply.started": "2024-07-19T20:46:43.728383Z"
    }
   },
   "source": [
    "# Functions\n",
    "\n",
    "There are several standards for python docstrings. The most used are the google and the numpydoc ones."
   ]
  },
  {
   "cell_type": "code",
   "execution_count": null,
   "id": "ae64a1f7-80a7-4476-8831-c608fc9f342b",
   "metadata": {},
   "outputs": [],
   "source": [
    "def count_letter(content, letter):\n",
    "  \"\"\"Count the number of times `letter` appears in `content`.\n",
    "\n",
    "  Args:\n",
    "    content (str): The string to search.\n",
    "    letter (str): The letter to search for.\n",
    "\n",
    "  Returns:\n",
    "    int\n",
    "\n",
    "  Raises:\n",
    "    ValueError: If `letter` is not a one-character string.\n",
    "  \"\"\"\n",
    "  if (not isinstance(letter, str)) or len(letter) != 1:\n",
    "    raise ValueError('`letter` must be a single character string.')\n",
    "  return len([char for char in content if char == letter])\n",
    "\n",
    "print(count_letter.__doc__)"
   ]
  },
  {
   "cell_type": "code",
   "execution_count": null,
   "id": "cbf39543-0eec-4789-a9b1-27dbfb49e529",
   "metadata": {},
   "outputs": [],
   "source": [
    "import inspect\n",
    "\n",
    "docstring = inspect.getdoc(count_letter)\n",
    "\n",
    "print(docstring)"
   ]
  },
  {
   "cell_type": "markdown",
   "id": "9d41aaf2-1ed3-4959-969e-3a8241b061df",
   "metadata": {},
   "source": [
    "# DRY (Dont Repeat Yourself)"
   ]
  },
  {
   "cell_type": "markdown",
   "id": "97426fe2-21f7-4b34-beae-6b8c48827afe",
   "metadata": {},
   "source": [
    "# Do One Thing"
   ]
  },
  {
   "cell_type": "markdown",
   "id": "1de72b3e-fa64-4806-954b-16e8345e1389",
   "metadata": {
    "execution": {
     "iopub.execute_input": "2024-07-20T14:03:36.524802Z",
     "iopub.status.busy": "2024-07-20T14:03:36.523744Z",
     "iopub.status.idle": "2024-07-20T14:03:36.531365Z",
     "shell.execute_reply": "2024-07-20T14:03:36.530389Z",
     "shell.execute_reply.started": "2024-07-20T14:03:36.524760Z"
    }
   },
   "source": [
    "# Passing by assignment"
   ]
  },
  {
   "cell_type": "code",
   "execution_count": null,
   "id": "ccbfc619-e1e7-4337-a684-db25e6f0ec1d",
   "metadata": {},
   "outputs": [],
   "source": [
    "def foo(x):\n",
    "   x[0] = 99\n",
    "\n",
    "my_list = [1, 2, 3]\n",
    "foo(my_list)\n",
    "print(my_list)"
   ]
  },
  {
   "cell_type": "markdown",
   "id": "6f509cc0-f127-416e-8dd2-12d846efc94f",
   "metadata": {
    "execution": {
     "iopub.execute_input": "2024-07-20T14:05:15.260678Z",
     "iopub.status.busy": "2024-07-20T14:05:15.259771Z",
     "iopub.status.idle": "2024-07-20T14:05:15.273824Z",
     "shell.execute_reply": "2024-07-20T14:05:15.271910Z",
     "shell.execute_reply.started": "2024-07-20T14:05:15.260631Z"
    }
   },
   "source": [
    "Lists in python are mutable objects"
   ]
  },
  {
   "cell_type": "code",
   "execution_count": null,
   "id": "eb418633-1d20-465f-80cc-a3c2c40712a1",
   "metadata": {},
   "outputs": [],
   "source": [
    "def bar(x):\n",
    "   x = x + 99\n",
    "\n",
    "my_var = 3\n",
    "bar(my_var)\n",
    "print(my_var)"
   ]
  },
  {
   "cell_type": "markdown",
   "id": "76ee245f-8677-4172-a25a-7dfaee1df789",
   "metadata": {},
   "source": [
    "But integers are not..."
   ]
  },
  {
   "cell_type": "code",
   "execution_count": null,
   "id": "368a33f2-bd5e-4268-8b24-07d8625fee9a",
   "metadata": {},
   "outputs": [],
   "source": [
    "a=[1,2,3]\n",
    "b=a\n",
    "b.append(5)\n",
    "a"
   ]
  },
  {
   "cell_type": "code",
   "execution_count": null,
   "id": "7d542722-2e4f-40cf-ad80-04f188107537",
   "metadata": {},
   "outputs": [],
   "source": [
    "b"
   ]
  },
  {
   "cell_type": "code",
   "execution_count": null,
   "id": "62cee530-19cf-4595-9812-83e05eb28327",
   "metadata": {},
   "outputs": [],
   "source": [
    "b.append(45)\n",
    "a"
   ]
  },
  {
   "cell_type": "code",
   "execution_count": null,
   "id": "92102f92-4502-4330-b81d-9be1582e7d6e",
   "metadata": {},
   "outputs": [],
   "source": [
    "a=42\n",
    "b"
   ]
  },
  {
   "cell_type": "markdown",
   "id": "f21d80af-8dcd-4c84-9b36-2256a2128346",
   "metadata": {},
   "source": [
    "## Special case with function's default values"
   ]
  },
  {
   "cell_type": "code",
   "execution_count": null,
   "id": "49b42f8d-e6b9-4c6e-ac4a-3a79f7e52b8c",
   "metadata": {},
   "outputs": [],
   "source": [
    "import pandas as pd\n",
    "\n",
    "def add_column(values, df=pd.DataFrame()):\n",
    "  df['col_{}'.format(len(df.columns))] = values\n",
    "  return df\n",
    "\n",
    "df = add_column([1, 2])\n",
    "df = add_column([1, 2])\n",
    "\n",
    "df.head()"
   ]
  },
  {
   "cell_type": "code",
   "execution_count": null,
   "id": "d16ffb83-0cbd-4275-9bbf-b75d60fa59f2",
   "metadata": {},
   "outputs": [],
   "source": [
    "def better_add_column(values, df=None):\n",
    "  if df is None:\n",
    "    df = pd.DataFrame()\n",
    "  df['col_{}'.format(len(df.columns))] = values\n",
    "  return df\n",
    "\n",
    "df = better_add_column([1, 2])\n",
    "df = better_add_column([1, 2])\n",
    "\n",
    "df.head()"
   ]
  },
  {
   "cell_type": "markdown",
   "id": "1fc5a953-b186-4210-b9ce-3da205af4068",
   "metadata": {},
   "source": [
    "# Context Managers"
   ]
  },
  {
   "cell_type": "raw",
   "id": "f6fb3f10-dc4b-4906-b1a8-10ce99587f39",
   "metadata": {},
   "source": [
    "with ‹context-manager>(<args>) as ‹variable-name>:\n",
    " # Run your code here\n",
    " # This code is running \"inside the context\"\n",
    "\n",
    "# This code runs after the context is removed"
   ]
  },
  {
   "cell_type": "code",
   "execution_count": null,
   "id": "a50fe693-e03f-4039-a02d-af45da39ba82",
   "metadata": {},
   "outputs": [],
   "source": [
    "# Open \"alice.txt\" and assign the file to \"file\"\n",
    "with open('../data/Plain text with several lines.txt') as file:\n",
    "  text = file.read()\n",
    "\n",
    "n = 0\n",
    "for word in text.split():\n",
    "  if word.lower() in ['other']:\n",
    "    n += 1\n",
    "\n",
    "print('The file has the word \"other\" {} times'.format(n))"
   ]
  },
  {
   "cell_type": "markdown",
   "id": "6b4d2bd2-ed70-4dee-8639-88dab626933e",
   "metadata": {
    "execution": {
     "iopub.execute_input": "2024-07-21T08:32:57.953668Z",
     "iopub.status.busy": "2024-07-21T08:32:57.952827Z",
     "iopub.status.idle": "2024-07-21T08:32:57.960858Z",
     "shell.execute_reply": "2024-07-21T08:32:57.959656Z",
     "shell.execute_reply.started": "2024-07-21T08:32:57.953619Z"
    }
   },
   "source": [
    "## Writing context managers\n",
    "\n",
    "There are two ways for writing context managers in python:\n",
    "\n",
    "### Class based\n",
    "\n",
    "### Function based\n",
    "1. Define a function\n",
    "2. (optional) Add any set up code your context needs\n",
    "3. Use the \"yield\" keyword\n",
    "4. (optional) Add any teardown code your context needs\n",
    "5. Add the **@contextlib.contextmanager** decorator\n",
    "\n",
    "Note that the yield statement can return nothing."
   ]
  },
  {
   "cell_type": "code",
   "execution_count": null,
   "id": "55fcad86-bd1f-485d-be25-436c17bf7a64",
   "metadata": {},
   "outputs": [],
   "source": [
    "import contextlib\n",
    "\n",
    "@contextlib.contextmanager\n",
    "def my_context():\n",
    "    # setup\n",
    "    print('hello')\n",
    "    \n",
    "    yield 42\n",
    "\n",
    "    # teardown\n",
    "    print ('goodbye')\n"
   ]
  },
  {
   "cell_type": "code",
   "execution_count": null,
   "id": "d96e57ea-ce27-4363-a82b-cc16d49132d5",
   "metadata": {},
   "outputs": [],
   "source": [
    "with my_context() as foo:\n",
    "    print('foo is {}'.format(foo))"
   ]
  },
  {
   "cell_type": "markdown",
   "id": "a2dcd5cd-451b-4ee7-ba16-c30eeed575b9",
   "metadata": {},
   "source": [
    "## Advanced topics\n",
    "### Nested contexts"
   ]
  },
  {
   "cell_type": "code",
   "execution_count": null,
   "id": "ce6daa9b-6c44-417b-aba9-6733a50151d6",
   "metadata": {},
   "outputs": [],
   "source": [
    "def copy(src, dst):\n",
    "    with open(src) as f_src:\n",
    "        with open(dst, 'w') as f_dst:\n",
    "            for line in f_src:\n",
    "                f_dst.write(line)"
   ]
  },
  {
   "cell_type": "markdown",
   "id": "b9f42e19-7b11-4947-a7eb-a29546e71d5d",
   "metadata": {},
   "source": [
    "### Handling errors"
   ]
  },
  {
   "cell_type": "code",
   "execution_count": null,
   "id": "6f0a8b75-fb51-4d8f-85e0-2b21c62e7351",
   "metadata": {},
   "outputs": [],
   "source": [
    "def function(var):\n",
    "    #setup\n",
    "    try:\n",
    "        yield\n",
    "    finally:\n",
    "        #teardown\n",
    "        print('tearing down')\n"
   ]
  },
  {
   "cell_type": "markdown",
   "id": "f2ade684-370c-4c81-a659-5ba04e5dfecf",
   "metadata": {
    "execution": {
     "iopub.execute_input": "2024-07-21T09:07:51.046737Z",
     "iopub.status.busy": "2024-07-21T09:07:51.045899Z",
     "iopub.status.idle": "2024-07-21T09:07:51.056092Z",
     "shell.execute_reply": "2024-07-21T09:07:51.053911Z",
     "shell.execute_reply.started": "2024-07-21T09:07:51.046660Z"
    }
   },
   "source": [
    "### Decorators"
   ]
  },
  {
   "cell_type": "markdown",
   "id": "2d960bb6-c377-4272-9d7a-9ddca20fec96",
   "metadata": {
    "execution": {
     "iopub.execute_input": "2024-07-21T09:08:30.510492Z",
     "iopub.status.busy": "2024-07-21T09:08:30.509698Z",
     "iopub.status.idle": "2024-07-21T09:08:30.526611Z",
     "shell.execute_reply": "2024-07-21T09:08:30.524133Z",
     "shell.execute_reply.started": "2024-07-21T09:08:30.510446Z"
    }
   },
   "source": [
    "#### Functions are objects"
   ]
  },
  {
   "cell_type": "code",
   "execution_count": null,
   "id": "8e1dace0-d444-432c-9f22-af733be08b3e",
   "metadata": {},
   "outputs": [],
   "source": [
    "def my_function():\n",
    "    print('Hello')\n",
    "\n",
    "x=my_function\n",
    "type(x)"
   ]
  },
  {
   "cell_type": "code",
   "execution_count": null,
   "id": "5358ee8e-2042-41f9-bb74-a2286318e852",
   "metadata": {},
   "outputs": [],
   "source": [
    "x()"
   ]
  },
  {
   "cell_type": "code",
   "execution_count": null,
   "id": "d2b903e3-6580-4d89-b72d-9f5a0e8586aa",
   "metadata": {},
   "outputs": [],
   "source": [
    "x"
   ]
  },
  {
   "cell_type": "code",
   "execution_count": null,
   "id": "9b01eaed-788c-4282-84f2-d17d06dff139",
   "metadata": {},
   "outputs": [],
   "source": [
    "list_of_functions = [my_function, open, print]"
   ]
  },
  {
   "cell_type": "code",
   "execution_count": null,
   "id": "e93a65d5-84e5-4400-98a3-9480ef750ef8",
   "metadata": {},
   "outputs": [],
   "source": [
    "list_of_functions[2]('hi')"
   ]
  },
  {
   "cell_type": "code",
   "execution_count": null,
   "id": "2c42f9e0-6479-4283-aec9-3624a37bee39",
   "metadata": {},
   "outputs": [],
   "source": [
    "def has_docstring(func):\n",
    "    return func.__doc__ is not None"
   ]
  },
  {
   "cell_type": "code",
   "execution_count": null,
   "id": "4bdd110d-7376-459d-b353-126be3f2c48e",
   "metadata": {},
   "outputs": [],
   "source": [
    "has_docstring(x)"
   ]
  },
  {
   "cell_type": "code",
   "execution_count": null,
   "id": "6f7fe194-21bb-4c85-9334-28e6fa538dac",
   "metadata": {},
   "outputs": [],
   "source": [
    "def my_documented_function():\n",
    "    '''\n",
    "        Returns hello\n",
    "    '''\n",
    "    print('Hello')"
   ]
  },
  {
   "cell_type": "code",
   "execution_count": null,
   "id": "24b9a5be-7a02-46b9-bd24-358c26e752a3",
   "metadata": {},
   "outputs": [],
   "source": [
    "has_docstring(my_documented_function)"
   ]
  },
  {
   "cell_type": "markdown",
   "id": "f14bb615-9aa3-4eda-aedf-a4162502ad22",
   "metadata": {},
   "source": [
    "### Nested functions\n",
    "\n",
    "A nested function is a function defined inside another function."
   ]
  },
  {
   "cell_type": "code",
   "execution_count": null,
   "id": "64448e74-fd06-4742-bc2c-6734709ff80b",
   "metadata": {},
   "outputs": [],
   "source": [
    "def parent():\n",
    "    def child(s):\n",
    "        print(s)\n",
    "    \n",
    "    return parent()"
   ]
  },
  {
   "cell_type": "markdown",
   "id": "fc92e3b8-4ff6-40af-a549-129b85ed2cd1",
   "metadata": {},
   "source": [
    "# Scope"
   ]
  },
  {
   "cell_type": "code",
   "execution_count": null,
   "id": "6d51e528-a3d7-4368-9e75-a5a2a22295e3",
   "metadata": {},
   "outputs": [],
   "source": [
    "x = 3\n",
    "y = 100\n",
    "def foo():\n",
    "    x=4\n",
    "    print(f'x inside: {x}')\n",
    "    print(f'y inside: {y}')\n",
    "    return ''\n",
    "\n",
    "foo()\n",
    "print(f'x outside: {x}')\n",
    "print(f'y outside: {y}')"
   ]
  },
  {
   "cell_type": "markdown",
   "id": "6aeccb23-4ec4-40c2-aebb-863f42f597d8",
   "metadata": {},
   "source": [
    "Python looks for vbles based on the name:\n",
    "1. Local scope, and if its not there,\n",
    "2. Global scope, and if its not there,a\n",
    "3. Builtin scope"
   ]
  },
  {
   "cell_type": "markdown",
   "id": "ac337a1f-e40c-4867-ad57-4e1b2a8a0a91",
   "metadata": {},
   "source": [
    "## The global keyword"
   ]
  },
  {
   "cell_type": "code",
   "execution_count": null,
   "id": "49a53b62-3f90-4fe3-8c05-9b7673949279",
   "metadata": {},
   "outputs": [],
   "source": [
    "x = 3\n",
    "y = 100\n",
    "def foo():\n",
    "    global x\n",
    "    x=4\n",
    "    print(f'x inside: {x}')\n",
    "    print(f'y inside: {y}')\n",
    "    return ''\n",
    "\n",
    "foo()\n",
    "print(f'x outside: {x}')\n",
    "print(f'y outside: {y}')"
   ]
  },
  {
   "cell_type": "markdown",
   "id": "0e3dca0f-c2ed-41c1-9339-19ddc552c048",
   "metadata": {},
   "source": [
    "## The nonlocal keyword\n",
    "\n",
    "Nonlocal variables are variables defined in the parent function that are used by the child function"
   ]
  },
  {
   "cell_type": "code",
   "execution_count": null,
   "id": "248efd32-db70-4982-a62f-f1ab791e21be",
   "metadata": {},
   "outputs": [],
   "source": [
    "\n",
    "def foo():\n",
    "    x = 3\n",
    "    \n",
    "    def bar():\n",
    "        nonlocal x\n",
    "        x=77 \n",
    "        print(f'x inside: {x}')\n",
    "        return ''\n",
    "    \n",
    "    bar()\n",
    "    print(f'x outside: {x}')\n",
    "    return ''  \n",
    "\n",
    "foo()"
   ]
  },
  {
   "cell_type": "markdown",
   "id": "e5af5341-17ab-4586-9280-553bde894e54",
   "metadata": {},
   "source": [
    "## Closures\n",
    "\n",
    "A closure in Python is a tuple of variables that are no longer in scope, but that a function needs in order to run. In other words, a closure is a nonlocal variable attached to a returned function."
   ]
  },
  {
   "cell_type": "code",
   "execution_count": null,
   "id": "f2e13532-c126-40ba-bcce-e1c59a6b1b91",
   "metadata": {},
   "outputs": [],
   "source": [
    "def return_a_func(arg1, arg2):\n",
    "  def new_func():\n",
    "    print('arg1 was {}'.format(arg1))\n",
    "    print('arg2 was {}'.format(arg2))\n",
    "  return new_func\n",
    "    \n",
    "my_func = return_a_func(2, 17)\n",
    "\n",
    "print(my_func.__closure__ is not None)\n",
    "print(len(my_func.__closure__) == 2)\n",
    "\n",
    "closure_values = [\n",
    "  my_func.__closure__[i].cell_contents for i in range(2)\n",
    "]\n",
    "print(closure_values == [2, 17])"
   ]
  },
  {
   "cell_type": "markdown",
   "id": "aa540dee-1e9e-46c8-bdb7-6d5bb87163be",
   "metadata": {},
   "source": [
    "# Decorators\n",
    "\n",
    "A decorator is a wraper that you can place around a function that change the behaviour of that function. It can change the input, the output or the logic."
   ]
  },
  {
   "cell_type": "code",
   "execution_count": null,
   "id": "d7b91cf5-4ee0-4507-b3d5-80a4aaf9dd16",
   "metadata": {},
   "outputs": [],
   "source": [
    "def multiply(a,b):\n",
    "    return a*b\n",
    "\n",
    "def double_args(func):\n",
    "    \n",
    "    def wrapper(a,b):\n",
    "        return func(a*2,b*2)\n",
    "\n",
    "    return wrapper\n",
    "\n",
    "multiply = double_args(multiply)"
   ]
  },
  {
   "cell_type": "code",
   "execution_count": null,
   "id": "2d311851-586b-4898-a3bf-3033e60947c9",
   "metadata": {},
   "outputs": [],
   "source": [
    "multiply(1, 2)"
   ]
  },
  {
   "cell_type": "code",
   "execution_count": null,
   "id": "e96efeeb-9886-4344-87ae-a0ce377feb9d",
   "metadata": {},
   "outputs": [],
   "source": [
    "# The previous code is the same as the following:\n",
    "def double_args(func):\n",
    "    \n",
    "    def wrapper(a,b):\n",
    "        return func(a*2,b*2)\n",
    "\n",
    "    return wrapper\n",
    "\n",
    "@double_args\n",
    "def multiply(a,b):\n",
    "    return a*b\n",
    "\n",
    "multiply(1, 2)"
   ]
  },
  {
   "cell_type": "markdown",
   "id": "a69de108-046d-49b3-91a1-5d6f38b41fa4",
   "metadata": {},
   "source": [
    "wraps from functools helps fixing the missing docstring and name from the wrapped functions"
   ]
  },
  {
   "cell_type": "code",
   "execution_count": null,
   "id": "2a5476a9-54e3-4e5d-9792-63aaa65bea97",
   "metadata": {},
   "outputs": [],
   "source": [
    "from functools import wraps\n",
    "\n",
    "def add_hello(func):\n",
    "  # Decorate wrapper() so that it keeps func()'s metadata\n",
    "  @wraps(func)\n",
    "  def wrapper(*args, **kwargs):\n",
    "    \"\"\"Print 'hello' and then call the decorated function.\"\"\"\n",
    "    print('Hello')\n",
    "    return func(*args, **kwargs)\n",
    "  return wrapper\n",
    "  \n",
    "@add_hello\n",
    "def print_sum(a, b):\n",
    "  \"\"\"Adds two numbers and prints the sum\"\"\"\n",
    "  print(a + b)\n",
    "\n",
    "print_sum(10, 20)\n",
    "print_sum_docstring = print_sum.__doc__\n",
    "print(print_sum_docstring)"
   ]
  },
  {
   "cell_type": "code",
   "execution_count": null,
   "id": "b865bfa7-4599-4e4d-a463-b9bf33dffc59",
   "metadata": {},
   "outputs": [],
   "source": []
  }
 ],
 "metadata": {
  "kernelspec": {
   "display_name": "Python 3 (ipykernel)",
   "language": "python",
   "name": "python3"
  },
  "language_info": {
   "codemirror_mode": {
    "name": "ipython",
    "version": 3
   },
   "file_extension": ".py",
   "mimetype": "text/x-python",
   "name": "python",
   "nbconvert_exporter": "python",
   "pygments_lexer": "ipython3",
   "version": "3.12.4"
  }
 },
 "nbformat": 4,
 "nbformat_minor": 5
}
