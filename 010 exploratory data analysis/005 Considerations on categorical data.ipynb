{
 "cells": [
  {
   "cell_type": "markdown",
   "id": "119b59cd-dc37-45fe-b6dc-7d8fb11af553",
   "metadata": {},
   "source": [
    "# Considerations on categorical data\n",
    "\n",
    "The data (sample) has to represent the population\n",
    "\n",
    "One of the most important considerations when working with categorical data are their classes (or labels)\n",
    "\n",
    "Sometimes, our classes are imbalanced: one class is more frequent than the others.\n",
    "\n",
    "For checking class frequencies there are several methods:"
   ]
  },
  {
   "cell_type": "code",
   "execution_count": null,
   "id": "32489e4e-878b-4c15-a405-56a878fa7f8e",
   "metadata": {},
   "outputs": [],
   "source": [
    "import pandas as pd \n",
    "import numpy as np\n",
    "import seaborn as sns\n",
    "import matplotlib.pyplot as plt \n",
    "\n",
    "import warnings\n",
    "warnings.filterwarnings('ignore')\n"
   ]
  },
  {
   "cell_type": "code",
   "execution_count": null,
   "id": "1b066ed8-4c9e-4ae1-85f4-671d9b85f751",
   "metadata": {},
   "outputs": [],
   "source": [
    "divorce = pd.read_csv('../data/divorces.csv')"
   ]
  },
  {
   "cell_type": "code",
   "execution_count": null,
   "id": "a3f035f9-77ba-4896-9173-b364c0ae804d",
   "metadata": {},
   "outputs": [],
   "source": [
    "divorce"
   ]
  },
  {
   "cell_type": "code",
   "execution_count": null,
   "id": "b39c3228-f8ed-454d-a886-c4cfcfedf35b",
   "metadata": {},
   "outputs": [],
   "source": [
    "divorce['Type_of_divorce'] = divorce['Type_of_divorce'].astype('category')\n",
    "divorce['Level_of_education_partner_man'] = divorce['Level_of_education_partner_man'].astype('category')\n",
    "divorce['Level_of_education_partner_woman'] = divorce['Level_of_education_partner_woman'].astype('category')\n"
   ]
  },
  {
   "cell_type": "code",
   "execution_count": null,
   "id": "3ad63c7c-5aa3-4b40-988a-9a3ebae421d7",
   "metadata": {},
   "outputs": [],
   "source": [
    "sns.histplot(data=divorce, x='Type_of_divorce', hue='Type_of_divorce')"
   ]
  },
  {
   "cell_type": "code",
   "execution_count": null,
   "id": "fa548a24-3609-4401-9abb-4095627be588",
   "metadata": {},
   "outputs": [],
   "source": [
    "sns.histplot(data=divorce, x='Level_of_education_partner_man', hue='Level_of_education_partner_man')"
   ]
  },
  {
   "cell_type": "code",
   "execution_count": null,
   "id": "554aeb82-9846-4a8b-bfdc-7c8fde57ae76",
   "metadata": {},
   "outputs": [],
   "source": [
    "divorce['Level_of_education_partner_man'].value_counts(normalize=True)"
   ]
  },
  {
   "cell_type": "code",
   "execution_count": null,
   "id": "ee1fb144-a7b4-4da8-a363-4a50d2297925",
   "metadata": {},
   "outputs": [],
   "source": [
    "pd.crosstab(divorce['Level_of_education_partner_man'], divorce['Level_of_education_partner_woman'])"
   ]
  },
  {
   "cell_type": "code",
   "execution_count": null,
   "id": "60287ba6-c1d8-44f7-a76d-0e2b982340b1",
   "metadata": {},
   "outputs": [],
   "source": [
    "pd.crosstab(divorce['Level_of_education_partner_man'], divorce['Level_of_education_partner_woman'], \n",
    "            values=divorce['Num_Children'], aggfunc='median')"
   ]
  },
  {
   "cell_type": "markdown",
   "id": "6e010a32-0827-42ae-9bea-5d3bed5a001e",
   "metadata": {},
   "source": [
    "# Generating new features \n",
    "\n",
    "Sometimes we have to do changes on the data as we received it, replacing chars, converting into numeric, extracting year, month or day, \n",
    "\n"
   ]
  },
  {
   "cell_type": "code",
   "execution_count": null,
   "id": "039d8004-52ad-4578-8dfc-28b64a5f8256",
   "metadata": {},
   "outputs": [],
   "source": [
    "str.replace\n",
    "dt.month\n",
    "dt.year\n",
    "dt.day\n",
    "dt.hour\n"
   ]
  },
  {
   "cell_type": "markdown",
   "id": "4d1c334e-07e7-4bcb-b1d3-237e4ed4f8ba",
   "metadata": {},
   "source": [
    "We can group values into classes too:"
   ]
  },
  {
   "cell_type": "code",
   "execution_count": null,
   "id": "bafd5457-f7e6-4878-b0a9-e45f76e2e725",
   "metadata": {},
   "outputs": [],
   "source": [
    "twenty_fifth = divorce['Monthly_income_partner_man_peso'].quantile(0.25)\n",
    "fifthy = divorce['Monthly_income_partner_man_peso'].quantile(0.5)\n",
    "seventy_fifth = divorce['Monthly_income_partner_man_peso'].quantile(0.75)\n",
    "max_ = divorce['Monthly_income_partner_man_peso'].max()\n",
    "\n",
    "labels = ['low_inc', 'med_inc', 'med_high_inc', 'high_inc']\n",
    "bins = [0, twenty_fifth, fifthy, seventy_fifth, max_]"
   ]
  },
  {
   "cell_type": "code",
   "execution_count": null,
   "id": "99d0a088-117b-4777-9383-5cedcc16b263",
   "metadata": {},
   "outputs": [],
   "source": [
    "divorce[\"inc_cat\"]=pd.cut(divorce['Monthly_income_partner_man_peso'], \n",
    "                          labels=labels,\n",
    "                         bins=bins)"
   ]
  },
  {
   "cell_type": "code",
   "execution_count": null,
   "id": "dd1371ef-0f9c-453b-84b6-a02cae6e5b17",
   "metadata": {},
   "outputs": [],
   "source": [
    "divorce"
   ]
  },
  {
   "cell_type": "code",
   "execution_count": null,
   "id": "291baead-c932-4738-b0fc-5aeb484e6790",
   "metadata": {},
   "outputs": [],
   "source": []
  }
 ],
 "metadata": {
  "kernelspec": {
   "display_name": "Python 3 (ipykernel)",
   "language": "python",
   "name": "python3"
  },
  "language_info": {
   "codemirror_mode": {
    "name": "ipython",
    "version": 3
   },
   "file_extension": ".py",
   "mimetype": "text/x-python",
   "name": "python",
   "nbconvert_exporter": "python",
   "pygments_lexer": "ipython3",
   "version": "3.12.4"
  }
 },
 "nbformat": 4,
 "nbformat_minor": 5
}
