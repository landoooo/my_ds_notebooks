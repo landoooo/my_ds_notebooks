{
 "cells": [
  {
   "cell_type": "markdown",
   "id": "da33c2ec-56c5-457d-89eb-1bfd550b29ca",
   "metadata": {
    "execution": {
     "iopub.execute_input": "2024-10-15T13:55:58.649913Z",
     "iopub.status.busy": "2024-10-15T13:55:58.648842Z",
     "iopub.status.idle": "2024-10-15T13:55:58.658530Z",
     "shell.execute_reply": "2024-10-15T13:55:58.656778Z",
     "shell.execute_reply.started": "2024-10-15T13:55:58.649855Z"
    }
   },
   "source": [
    "# Highlighting data"
   ]
  },
  {
   "cell_type": "code",
   "execution_count": null,
   "id": "1f5f62ff-826e-4e41-b902-b0bbca137565",
   "metadata": {},
   "outputs": [],
   "source": [
    "import pandas as pd \n",
    "import seaborn as sns \n",
    "import matplotlib.pyplot as plt \n",
    "import numpy as np \n",
    "\n",
    "pollution = pd.read_csv('../data/pollution_wide.csv')\n",
    "pollution.head()"
   ]
  },
  {
   "cell_type": "code",
   "execution_count": null,
   "id": "49aa6649-1e59-4d36-9b57-8e3be76c67bb",
   "metadata": {},
   "outputs": [],
   "source": [
    "sns.scatterplot(pollution['CO'])"
   ]
  },
  {
   "cell_type": "code",
   "execution_count": null,
   "id": "db4a3dbc-db8d-4dd3-bdb9-2d493235f8e4",
   "metadata": {},
   "outputs": [],
   "source": [
    "cinci_pollution=pollution[pollution['city']=='Cincinnati']"
   ]
  },
  {
   "cell_type": "code",
   "execution_count": null,
   "id": "11a93c53-52bf-46ec-a78e-7623ee5a16a0",
   "metadata": {},
   "outputs": [],
   "source": [
    "sns.scatterplot(cinci_pollution['CO'])"
   ]
  },
  {
   "cell_type": "markdown",
   "id": "ba9c31da-b1e1-4801-af3e-87f806e016d9",
   "metadata": {},
   "source": [
    "Lets highlight some data points."
   ]
  },
  {
   "cell_type": "code",
   "execution_count": null,
   "id": "73b08ca5-0557-44a4-876b-7684635f081e",
   "metadata": {},
   "outputs": [],
   "source": [
    "cinci_colors = ['orangered' if day==38 else 'steelblue' for day in cinci_pollution.day] \n",
    "\n",
    "p = sns.regplot(x='NO2', \n",
    "               y='SO2', \n",
    "               data = cinci_pollution, \n",
    "               fit_reg=False, \n",
    "               scatter_kws={'facecolors':cinci_colors, 'alpha':0.7})"
   ]
  },
  {
   "cell_type": "code",
   "execution_count": null,
   "id": "fca871f9-74a4-475a-bb23-17411840ce91",
   "metadata": {},
   "outputs": [],
   "source": [
    "houston_pollution = pollution[pollution.city  ==  'Houston']\n",
    "\n",
    "# Make array orangred for day 330 of year 2014, otherwise lightgray\n",
    "houston_colors = ['orangered' if (day  ==  330) & (year  ==  2014) else 'lightgray' \n",
    "                  for day,year in zip(houston_pollution.day, houston_pollution.year)]\n",
    "\n",
    "sns.regplot(x = 'NO2',\n",
    "            y = 'SO2',\n",
    "            data = houston_pollution,\n",
    "            fit_reg = False, \n",
    "            # Send scatterplot argument to color points \n",
    "            scatter_kws = {'facecolors': houston_colors, 'alpha': 0.7})\n",
    "plt.show()"
   ]
  },
  {
   "cell_type": "code",
   "execution_count": null,
   "id": "ebe17c17-208d-499b-991e-8e703ab1a734",
   "metadata": {},
   "outputs": [],
   "source": [
    "houston_pollution = pollution[pollution.city  ==  'Houston'].copy()\n",
    "\n",
    "# Find the highest observed O3 value\n",
    "max_O3 = houston_pollution.O3.max()\n",
    "\n",
    "# Make a column that denotes which day had highest O3\n",
    "houston_pollution['point_type'] = ['Highest O3 Day' if O3  ==  max_O3 else 'Others' for O3 in houston_pollution.O3]\n",
    "\n",
    "# Encode the hue of the points with the O3 generated column\n",
    "sns.scatterplot(x = 'NO2',\n",
    "                y = 'SO2',\n",
    "                hue = 'point_type',\n",
    "                data = houston_pollution)\n",
    "plt.show()"
   ]
  },
  {
   "cell_type": "markdown",
   "id": "d4084871-bc52-4ae3-b5e0-73de65ba41cc",
   "metadata": {},
   "source": [
    "# Comparing groups"
   ]
  },
  {
   "cell_type": "code",
   "execution_count": null,
   "id": "131111a9-bb80-48d4-9af4-eaf2099f5c75",
   "metadata": {},
   "outputs": [],
   "source": [
    "sns.set_style('whitegrid')"
   ]
  },
  {
   "cell_type": "code",
   "execution_count": null,
   "id": "b8cc475c-6c4b-4d97-926d-179c29f1f165",
   "metadata": {},
   "outputs": [],
   "source": [
    "pollution_nov = pollution[pollution['month']==10]\n",
    "sns.distplot(pollution_nov[pollution_nov.city == 'Denver'].O3, hist=False, color='red')\n",
    "sns.distplot(pollution_nov[pollution_nov.city != 'Denver'].O3, hist=False)"
   ]
  },
  {
   "cell_type": "code",
   "execution_count": null,
   "id": "0037583a-094a-4e1c-88d0-376c520c78a0",
   "metadata": {},
   "outputs": [],
   "source": [
    "sns.distplot(pollution_nov[pollution_nov.city == 'Denver'].O3, hist=False, color='red', rug=True)\n",
    "sns.distplot(pollution_nov[pollution_nov.city != 'Denver'].O3, hist=False)"
   ]
  },
  {
   "cell_type": "markdown",
   "id": "f42200e0-7862-48a9-9185-8d8d793be58b",
   "metadata": {},
   "source": [
    "Adding rug=True sns add small dashes corresponding to the datapoints, so their distribution can be better understood"
   ]
  },
  {
   "cell_type": "code",
   "execution_count": null,
   "id": "c4d30769-7c5f-4386-8843-f30b51761ae1",
   "metadata": {},
   "outputs": [],
   "source": [
    "# Filter dataset to the year 2012\n",
    "sns.kdeplot(pollution[pollution.year == 2012].O3, \n",
    "            # Shade under kde and add a helpful label\n",
    "            shade = True,\n",
    "            label = '2012')\n",
    "\n",
    "# Filter dataset to everything except the year 2012\n",
    "sns.kdeplot(pollution[pollution.year != 2012].O3, \n",
    "            # Again, shade under kde and add a helpful label\n",
    "            shade = True,\n",
    "            label = 'other years')\n",
    "plt.show()"
   ]
  },
  {
   "cell_type": "code",
   "execution_count": null,
   "id": "d49e5e08-3d5e-46ce-a8e8-aa7f1ad9d9d7",
   "metadata": {},
   "outputs": [],
   "source": [
    "sns.distplot(pollution[pollution.city == 'Vandenberg Air Force Base'].O3, \n",
    "             label = 'Vandenberg', \n",
    "             # Turn off the histogram and color blue to stand out\n",
    "             hist = False,\n",
    "             color = 'steelblue', \n",
    "             # Turn on rugplot\n",
    "             rug = True)\n",
    "\n",
    "sns.distplot(pollution[pollution.city != 'Vandenberg Air Force Base'].O3, \n",
    "             label = 'Other cities',\n",
    "             # Turn off histogram and color gray\n",
    "             hist = False,  \n",
    "             color = 'gray')\n",
    "plt.show()"
   ]
  },
  {
   "cell_type": "markdown",
   "id": "b5e24c26-5ee7-4efe-a00e-3fde632c3e88",
   "metadata": {},
   "source": [
    "# The Beeswarm plot\n",
    "\n",
    "Better approach to compare the distribution of many groups than the kernel density plot.\n"
   ]
  },
  {
   "cell_type": "code",
   "execution_count": null,
   "id": "27807d06-6c2e-4b3f-bba2-d65278c35c90",
   "metadata": {},
   "outputs": [],
   "source": [
    "# Filter data to just March\n",
    "pollution_mar = pollution[pollution.month == 3]\n",
    "\n",
    "# Plot beeswarm with x as O3\n",
    "sns.swarmplot(y = \"city\",\n",
    "              x = 'O3', \n",
    "              data = pollution_mar, \n",
    "              # Decrease the size of the points to avoid crowding \n",
    "              size = 3)\n",
    "\n",
    "# Give a descriptive title\n",
    "plt.title('March Ozone levels by city')\n",
    "plt.show()"
   ]
  },
  {
   "cell_type": "code",
   "execution_count": null,
   "id": "6cd5549c-6131-42d7-9cde-6056658021c3",
   "metadata": {},
   "outputs": [],
   "source": [
    "pollution.city.value_counts()"
   ]
  },
  {
   "cell_type": "code",
   "execution_count": null,
   "id": "709287e0-d459-4579-9212-ce921286f5ab",
   "metadata": {},
   "outputs": [],
   "source": [
    "sns.set_theme(rc={'figure.figsize':(13.7,8.27)})\n",
    "\n",
    "cities=['Houston',\n",
    "'Vandenberg Air Force Base',\n",
    "'Denver',\n",
    "'Long Beach',\n",
    "'Indianapolis',\n",
    "'Cincinnati',\n",
    "'Des Moines']                 \n",
    "\n",
    "sns.swarmplot(data=pollution[pollution.city.isin(cities) & (pollution.year==2012)], y='O3', x='city', hue='city')"
   ]
  },
  {
   "cell_type": "markdown",
   "id": "8ddab96b-157c-4c1f-abb2-257e013b27d3",
   "metadata": {},
   "source": [
    "# Annotations \n",
    "\n",
    "Annotations are great to add analysis to graphs, but they are time consuming.\n"
   ]
  },
  {
   "cell_type": "code",
   "execution_count": null,
   "id": "ce283394-368c-4c5d-9eff-cd7a1edc205b",
   "metadata": {},
   "outputs": [],
   "source": [
    "sns.scatterplot(x='NO2', y='SO2', data=houston_pollution)\n",
    "\n",
    "plt.text(13,33, 'Outlier', \n",
    "        fontdict={'ha': 'left', 'size':'x-large'})"
   ]
  },
  {
   "cell_type": "code",
   "execution_count": null,
   "id": "b5eee6c3-2181-45ff-beed-b5fa4d15a642",
   "metadata": {},
   "outputs": [],
   "source": [
    "sns.scatterplot(x='NO2', y='SO2', data=houston_pollution) \n",
    "\n",
    "plt.annotate('A buried point to look at', xy=(45.5, 11.8), xytext=(60,22), \n",
    "            arrowprops={'facecolor':'gray', 'width':3}, backgroundcolor = 'white')\n",
    "                "
   ]
  },
  {
   "cell_type": "code",
   "execution_count": null,
   "id": "4847fff6-fa42-45a9-b862-7185a7063a48",
   "metadata": {},
   "outputs": [],
   "source": [
    "# Draw basic scatter plot of pollution data for August\n",
    "sns.scatterplot(x = 'CO', y = 'SO2', data = pollution[pollution.month  ==  8])\n",
    "\n",
    "# Label highest SO2 value with text annotation\n",
    "plt.text(0.57, 41,\n",
    "         'Cincinnati had highest observed\\nSO2 value on Aug 11, 2013', \n",
    "         # Set the font to large\n",
    "         fontdict = {'ha': 'left', 'size': 'large'})\n",
    "plt.show()"
   ]
  },
  {
   "cell_type": "code",
   "execution_count": null,
   "id": "b4bf64cc-a88b-4d9e-bdad-0e115a714e2d",
   "metadata": {},
   "outputs": [],
   "source": [
    "# Query and filter to New Years in Long Beach\n",
    "jan_pollution = pollution.query(\"(month  ==  1) & (year  ==  2012)\")\n",
    "lb_newyears = jan_pollution.query(\"(day  ==  1) & (city  ==  'Long Beach')\")\n",
    "\n",
    "sns.scatterplot(x = 'CO', y = 'NO2',\n",
    "                data = jan_pollution)\n",
    "\n",
    "# Point arrow to lb_newyears & place text in lower left \n",
    "plt.annotate('Long Beach New Years',\n",
    "             xy = (lb_newyears.CO, lb_newyears.NO2),\n",
    "             xytext = (2, 15), \n",
    "             # Shrink the arrow to avoid occlusion\n",
    "             arrowprops = {'facecolor':'gray', 'width': 3, 'shrink': 0.03},\n",
    "             backgroundcolor = 'white')\n",
    "plt.show()"
   ]
  },
  {
   "cell_type": "markdown",
   "id": "ba9b4d32-afc5-4faf-9301-9cf431a15e05",
   "metadata": {},
   "source": [
    "# Colors in visualizations\n",
    "\n",
    "Colors are very useful but have to be used carefully\n",
    "\n",
    "Colors can affect the perception of size. Boxing the shapes in black mitigates this."
   ]
  },
  {
   "cell_type": "code",
   "execution_count": null,
   "id": "5c458aff-d3d1-41b2-800e-0d074b759781",
   "metadata": {},
   "outputs": [],
   "source": [
    "# Hard to read scatter of CO and NO2 w/ color mapped to city\n",
    "sns.scatterplot(x='CO', y='NO2',\n",
    "                alpha = 0.2,\n",
    "                hue = 'city',\n",
    "                data = pollution)\n",
    "\n",
    "plt.show()"
   ]
  },
  {
   "cell_type": "code",
   "execution_count": null,
   "id": "e682f267-fd01-429c-b42e-0817e7623064",
   "metadata": {},
   "outputs": [],
   "source": [
    "# Setup a facet grid to separate the cities apart\n",
    "g = sns.FacetGrid(data = pollution,\n",
    "                  col = 'city',\n",
    "                  col_wrap = 3)\n",
    "\n",
    "# Map sns.scatterplot to create separate city scatter plots\n",
    "g.map(sns.scatterplot, 'CO', 'NO2', alpha = 0.2)\n",
    "plt.show()"
   ]
  },
  {
   "cell_type": "code",
   "execution_count": null,
   "id": "61c9a954-3082-41a8-8fac-66a185cd61a6",
   "metadata": {},
   "outputs": [],
   "source": [
    "sns.barplot(y = 'city', x = 'CO', \n",
    "            estimator = np.mean,\n",
    "            errorbar=('ci', False),\n",
    "            data = pollution, \n",
    "           hue='city')\n",
    "plt.show()"
   ]
  },
  {
   "cell_type": "code",
   "execution_count": null,
   "id": "defef301-8be3-4f85-b4f3-0599d4454408",
   "metadata": {},
   "outputs": [],
   "source": [
    "sns.barplot(y = 'city', x = 'CO', \n",
    "            estimator = np.mean,\n",
    "            errorbar=('ci', False),\n",
    "            data = pollution, \n",
    "           hue='city', \n",
    "           edgecolor='black')\n",
    "plt.show()"
   ]
  },
  {
   "cell_type": "markdown",
   "id": "04f2c1c2-f488-41b7-88dd-35423ae32760",
   "metadata": {},
   "source": [
    "# Continuous color palettes \n",
    "\n",
    "Seaborn offers the *sns.palplot()* method to check palettes.\n",
    "\n",
    "Color is less precise when we use it to convey values. Sizes perform better.\n",
    "\n",
    "Keep in mind color blindness. Palettes relying on intensity are safer.\n",
    "\n",
    "When the data you are representing have a natural center point, diverging palettes are preferred.\n",
    "\n",
    "When using light palettes, beware of the null color: if the background is white and there are datapoints displayed in very light colors, they could go unnoticed"
   ]
  },
  {
   "cell_type": "code",
   "execution_count": null,
   "id": "d1242332-c7ba-4cf8-9f93-b6771dee2605",
   "metadata": {},
   "outputs": [],
   "source": [
    "blue_scale = sns.light_palette('steelblue')\n",
    "\n",
    "sns.palplot(blue_scale)"
   ]
  },
  {
   "cell_type": "code",
   "execution_count": null,
   "id": "f9493d38-74d2-4111-8c9d-a03266ca1895",
   "metadata": {},
   "outputs": [],
   "source": [
    "cadetblue_scale = sns.light_palette('cadetblue')\n",
    "\n",
    "sns.palplot(cadetblue_scale)"
   ]
  },
  {
   "cell_type": "code",
   "execution_count": null,
   "id": "8230853b-b936-4bad-aeae-03b4c63b8130",
   "metadata": {},
   "outputs": [],
   "source": [
    "scale = sns.light_palette('orangered')\n",
    "\n",
    "sns.palplot(scale)"
   ]
  },
  {
   "cell_type": "code",
   "execution_count": null,
   "id": "3895316b-1b6b-4665-bc64-6571627259fb",
   "metadata": {},
   "outputs": [],
   "source": [
    "sns.palplot(sns.light_palette('seagreen'))"
   ]
  },
  {
   "cell_type": "code",
   "execution_count": null,
   "id": "24e7c77b-c193-4918-bbac-c6264d11db3d",
   "metadata": {},
   "outputs": [],
   "source": [
    "sns.palplot(sns.dark_palette('seagreen'))"
   ]
  },
  {
   "cell_type": "code",
   "execution_count": null,
   "id": "165b7465-9648-457d-91aa-f255531c8224",
   "metadata": {},
   "outputs": [],
   "source": [
    "# Filter the data\n",
    "cinci_2014 = pollution.query(\"city  ==  'Cincinnati' & year  ==  2014\")\n",
    "\n",
    "# Define a custom continuous color palette\n",
    "color_palette = sns.light_palette('orangered',\n",
    "                         as_cmap = True)\n",
    "\n",
    "# Plot mapping the color of the points with custom palette\n",
    "sns.scatterplot(x = 'CO',\n",
    "                y = 'NO2',\n",
    "                hue = 'O3', \n",
    "                data = cinci_2014,\n",
    "                palette = color_palette)\n",
    "plt.show()"
   ]
  },
  {
   "cell_type": "code",
   "execution_count": null,
   "id": "edaf8436-d352-40c1-aaec-a804300cef92",
   "metadata": {},
   "outputs": [],
   "source": [
    "nov_2015_CO = pollution[(pollution.month==11)&(pollution.year==2015)&(pollution.city.isin(cities))][['city','CO','day']].pivot(index='city', columns='day', values='CO') - 1 \n",
    "\n",
    "# Define a custom palette\n",
    "color_palette = sns.diverging_palette(250, 0, as_cmap = True)\n",
    "\n",
    "# Pass palette to plot and set axis ranges\n",
    "sns.heatmap(nov_2015_CO,\n",
    "            cmap = color_palette,\n",
    "            center = 0,\n",
    "            vmin = -2,\n",
    "            vmax = 2)\n",
    "plt.yticks(rotation = 0)\n",
    "plt.show()"
   ]
  },
  {
   "cell_type": "code",
   "execution_count": null,
   "id": "20bf65c8-8db0-4eec-99fc-ed788bc957b8",
   "metadata": {},
   "outputs": [],
   "source": [
    "plt.style.available"
   ]
  },
  {
   "cell_type": "code",
   "execution_count": null,
   "id": "ccc18c62-3b99-412c-a5e6-9d1d5ccd02cd",
   "metadata": {},
   "outputs": [],
   "source": [
    "# Dark plot background\n",
    "plt.style.use(\"dark_background\")\n",
    "\n",
    "# Modify palette for dark background\n",
    "color_palette = sns.diverging_palette(250, 0,\n",
    "                                      center = 'dark',\n",
    "                                      as_cmap = True)\n",
    "\n",
    "# Pass palette to plot and set center\n",
    "sns.heatmap(nov,\n",
    "            cmap = color_palette,\n",
    "            center = 0)\n",
    "plt.yticks(rotation = 0)\n",
    "plt.show()"
   ]
  },
  {
   "cell_type": "markdown",
   "id": "82a7441e-0be5-44be-a913-8ae7ce83c8c8",
   "metadata": {},
   "source": [
    "# Categorical Palettes \n",
    "\n",
    "Dont put more than 10 categories/colors on a single graph.\n",
    "\n",
    "Keep color blind in mind \n",
    "\n",
    "A good alternative to reduce the amount of colors on a graph is to include a 'other' category and group there the less interesting categories \n",
    "\n",
    "# Ordinal Data\n",
    "\n",
    "Seaborn has built in a lot of nice palettes for ordinal data"
   ]
  },
  {
   "cell_type": "code",
   "execution_count": null,
   "id": "a3ab1dc4-3294-4236-b3aa-d3d3283a52f1",
   "metadata": {},
   "outputs": [],
   "source": [
    "# Dark plot background\n",
    "plt.style.use(\"ggplot\")\n",
    "\n",
    "colorbrewer_palettes = ['Reds', 'Blues', 'YlOrBr', 'PuBuGn', 'GnBu', 'Greys']\n",
    "\n",
    "for i,pal in enumerate(colorbrewer_palettes): \n",
    "    sns.palplot(pal=sns.color_palette(pal, n_colors=i+4))"
   ]
  },
  {
   "cell_type": "code",
   "execution_count": null,
   "id": "f0d32914-176b-48b3-ad06-f28597f54141",
   "metadata": {},
   "outputs": [],
   "source": [
    "pollution['NO2 Tertial'] = pd.qcut(pollution['NO2'], 3, labels=False)\n",
    "\n",
    "sns.scatterplot(x='CO', y='SO2', hue='NO2 Tertial', palette='OrRd', \n",
    "               data=pollution[(pollution.city=='Long Beach')&(pollution.year==2014)])"
   ]
  },
  {
   "cell_type": "code",
   "execution_count": null,
   "id": "43832b4d-e2bf-4242-911f-cc19692a2250",
   "metadata": {},
   "outputs": [],
   "source": [
    "# Filter our data to Jan 2013\n",
    "pollution_jan13 = pollution.query('year  ==  2013 & month  ==  1')\n",
    "\n",
    "# Color lines by the city and use custom ColorBrewer palette\n",
    "sns.lineplot(x = \"day\", \n",
    "             y = \"CO\", \n",
    "             hue = \"city\",\n",
    "             palette = \"Set2\", \n",
    "             linewidth = 3,\n",
    "             data = pollution_jan13)\n",
    "plt.show()"
   ]
  },
  {
   "cell_type": "code",
   "execution_count": null,
   "id": "10b34271-5e7f-4d8e-abf0-4f31d1fc501c",
   "metadata": {},
   "outputs": [],
   "source": [
    "# Divide CO into quartiles\n",
    "pollution['CO quartile'] = pd.qcut(pollution['CO'], q = 4, labels = False)\n",
    "\n",
    "# Filter to just Des Moines\n",
    "des_moines = pollution.query(\"city  ==  'Des Moines'\")\n",
    "\n",
    "# Color points with by quartile and use ColorBrewer palette\n",
    "sns.scatterplot(x = 'SO2',\n",
    "                y = 'NO2',\n",
    "                hue = 'CO quartile', \n",
    "                  data = des_moines,\n",
    "                palette = 'GnBu')\n",
    "plt.show()"
   ]
  },
  {
   "cell_type": "markdown",
   "id": "3226d751-47cb-4746-ae02-e6d0ec959f11",
   "metadata": {},
   "source": [
    "# Dealing with Uncertainty\n",
    "\n",
    "We have to care about uncertainty every time what we are displaying is an estimate (average of a subset, linear model coefficients...). Values that are facts, like counts or summaries of an entire population dont have anything to deal with uncertainty. \n",
    "\n",
    "Uncertainty helps inform confidence in estimate and its necessary for decission making.\n",
    "\n",
    "In seaborn, confidence intervals can be displayed using hlines. When there are many confidence intervals to be displayed through time, the confidence band makes more sense (plt.fill_between()). Dont display many confidence bands on the same graph. If you want to compare confidence bands, dont put more than 2, and use alphas.\n",
    "\n",
    "\n",
    "\n"
   ]
  },
  {
   "cell_type": "code",
   "execution_count": null,
   "id": "22731285-5951-4b23-8f87-3998c5b30221",
   "metadata": {},
   "outputs": [],
   "source": [
    "# Import necessary libraries\n",
    "import numpy as np\n",
    "import pandas as pd\n",
    "import matplotlib.pyplot as plt\n",
    "\n",
    "# Generate some example data\n",
    "np.random.seed(10)\n",
    "x = np.repeat(np.arange(0, 10, 0.5), 10)  # Create more data points per x value\n",
    "y = 2.5 * x + np.random.normal(0, 1, len(x))  # Simulated data points\n",
    "df = pd.DataFrame({\"x\": x, \"y\": y})\n",
    "\n",
    "# Group by x values and calculate the mean and standard deviation\n",
    "grouped = df.groupby('x')['y'].agg(['mean', 'std', 'count'])\n",
    "\n",
    "# Calculate the 95% confidence interval: CI = Z * (std / sqrt(n))\n",
    "z_value = 1.96  # Z-score for 95% confidence level\n",
    "grouped['ci'] = z_value * (grouped['std'] / np.sqrt(grouped['count']))\n",
    "\n",
    "# Plot the mean line\n",
    "plt.figure(figsize=(10, 6))\n",
    "plt.plot(grouped.index, grouped['mean'], label=\"Mean\", color=\"blue\")\n",
    "\n",
    "# Fill between for confidence interval\n",
    "plt.fill_between(grouped.index, grouped['mean'] - grouped['ci'], grouped['mean'] + grouped['ci'], color='blue', alpha=0.3, label='95% Confidence Interval')\n",
    "\n",
    "# Add labels, title, and legend\n",
    "plt.title('Confidence Bands using fill_between Method', fontsize=16)\n",
    "plt.xlabel('X', fontsize=14)\n",
    "plt.ylabel('Y', fontsize=14)\n",
    "plt.legend()\n",
    "\n",
    "# Show the plot\n",
    "plt.show()"
   ]
  },
  {
   "cell_type": "markdown",
   "id": "19ac97f7-43ed-4341-9045-0dd3ee52314a",
   "metadata": {},
   "source": [
    "Sometimes we want to go beyond that 95% CI and display more bands"
   ]
  },
  {
   "cell_type": "code",
   "execution_count": null,
   "id": "6470669d-1f72-4835-a33e-516eb67b5305",
   "metadata": {},
   "outputs": [],
   "source": [
    "sns.set_style('whitegrid')\n",
    "\n",
    "# Import necessary libraries\n",
    "import numpy as np\n",
    "import pandas as pd\n",
    "import matplotlib.pyplot as plt\n",
    "\n",
    "# Generate some example data\n",
    "np.random.seed(10)\n",
    "x = np.repeat(np.arange(0, 10, 0.1), 10)  # Create more data points per x value\n",
    "y = 2.5 * x + np.random.normal(0, 1, len(x))+ np.random.normal(0, 2, len(x))**2  # Simulated data points\n",
    "df = pd.DataFrame({\"x\": x, \"y\": y})\n",
    "\n",
    "# Group by x values and calculate the mean, standard deviation, and count\n",
    "grouped = df.groupby('x')['y'].agg(['mean', 'std', 'count'])\n",
    "\n",
    "# Z-scores for different confidence levels\n",
    "z_values = {\n",
    "    \"90%\": 1.645,  # Z-score for 90% confidence level\n",
    "    \"95%\": 1.96,   # Z-score for 95% confidence level\n",
    "    \"99%\": 2.576   # Z-score for 99% confidence level\n",
    "}\n",
    "\n",
    "# Calculate confidence intervals for 90%, 95%, and 99% confidence levels\n",
    "for level, z in z_values.items():\n",
    "    grouped[f'ci_{level}'] = z * (grouped['std'] / np.sqrt(grouped['count']))\n",
    "\n",
    "# Plot the mean line\n",
    "plt.figure(figsize=(10, 6))\n",
    "plt.plot(grouped.index, grouped['mean'], label=\"Mean\", color=\"blue\")\n",
    "\n",
    "# Fill between for each confidence interval\n",
    "plt.fill_between(grouped.index, grouped['mean'] - grouped['ci_90%'], grouped['mean'] + grouped['ci_90%'], \n",
    "                 color='red', alpha=0.35, label='90% Confidence Interval')\n",
    "\n",
    "plt.fill_between(grouped.index, grouped['mean'] - grouped['ci_95%'], grouped['mean'] + grouped['ci_95%'], \n",
    "                 color='orange', alpha=0.3, label='95% Confidence Interval')\n",
    "\n",
    "plt.fill_between(grouped.index, grouped['mean'] - grouped['ci_99%'], grouped['mean'] + grouped['ci_99%'], \n",
    "                 color='yellow', alpha=0.3, label='99% Confidence Interval')\n",
    "\n",
    "# Add labels, title, and legend\n",
    "plt.title('90%, 95%, and 99% Confidence Bands', fontsize=16)\n",
    "plt.xlabel('X', fontsize=14)\n",
    "plt.ylabel('Y', fontsize=14)\n",
    "plt.legend()\n",
    "\n",
    "# Show the plot\n",
    "plt.show()"
   ]
  },
  {
   "cell_type": "code",
   "execution_count": null,
   "id": "6bd189b1-ea59-418d-997c-facfba182593",
   "metadata": {},
   "outputs": [],
   "source": [
    "TO DO: UNFINISHED"
   ]
  }
 ],
 "metadata": {
  "kernelspec": {
   "display_name": "Python 3 (ipykernel)",
   "language": "python",
   "name": "python3"
  },
  "language_info": {
   "codemirror_mode": {
    "name": "ipython",
    "version": 3
   },
   "file_extension": ".py",
   "mimetype": "text/x-python",
   "name": "python",
   "nbconvert_exporter": "python",
   "pygments_lexer": "ipython3",
   "version": "3.11.9"
  }
 },
 "nbformat": 4,
 "nbformat_minor": 5
}
