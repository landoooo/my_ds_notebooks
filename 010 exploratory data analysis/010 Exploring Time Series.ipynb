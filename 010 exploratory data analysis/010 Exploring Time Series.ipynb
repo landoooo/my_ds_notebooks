{
 "cells": [
  {
   "cell_type": "markdown",
   "id": "50d0e80f-caf9-46a3-9a05-7ff5319c6de2",
   "metadata": {},
   "source": [
    "# Exploring Time Series"
   ]
  },
  {
   "cell_type": "code",
   "execution_count": null,
   "id": "81371f8e-16e0-4771-b15b-1da88eabfc55",
   "metadata": {},
   "outputs": [],
   "source": [
    "import pandas as pd \n",
    "import numpy as np\n",
    "import seaborn as sns\n",
    "import matplotlib.pyplot as plt \n",
    "\n",
    "import warnings\n",
    "warnings.filterwarnings('ignore')\n"
   ]
  },
  {
   "cell_type": "markdown",
   "id": "7abcb7e6-b800-4235-bcfc-0c5efceaa4ca",
   "metadata": {},
   "source": [
    "## Loading Data"
   ]
  },
  {
   "cell_type": "code",
   "execution_count": null,
   "id": "9c2ecef5-69cc-47aa-835d-e4fdf6504b9d",
   "metadata": {},
   "outputs": [],
   "source": [
    "# We only read the columns we need, thanks to usecols param\n",
    "divorce = pd.read_csv('../data/divorces.csv', usecols=['Divorce_date', 'Marriage_duration', 'Date_of_marriage'])"
   ]
  },
  {
   "cell_type": "code",
   "execution_count": null,
   "id": "69d9d454-37dd-44b9-9529-6333ec4288ee",
   "metadata": {},
   "outputs": [],
   "source": [
    "divorce"
   ]
  },
  {
   "cell_type": "markdown",
   "id": "7fe6719e-59d4-4348-94da-a30bdd8c0334",
   "metadata": {},
   "source": [
    "## Importing DateTime data \n",
    "\n",
    "Datetime data has to be explicitly declared to Pandas"
   ]
  },
  {
   "cell_type": "code",
   "execution_count": null,
   "id": "020313ab-0500-4d3c-a3b9-9dc2f3936280",
   "metadata": {},
   "outputs": [],
   "source": [
    "divorce.dtypes"
   ]
  },
  {
   "cell_type": "code",
   "execution_count": null,
   "id": "63f29962-5209-4826-874f-e2f1e4232dda",
   "metadata": {},
   "outputs": [],
   "source": [
    "# Dates can be parsed directly when reading from the filesystem\n",
    "divorce = pd.read_csv('../data/divorces.csv', parse_dates=['Divorce_date'], usecols=['Divorce_date', 'Marriage_duration', 'Date_of_marriage'])"
   ]
  },
  {
   "cell_type": "code",
   "execution_count": null,
   "id": "caae92df-76b5-416f-8c18-24af99fba04d",
   "metadata": {},
   "outputs": [],
   "source": [
    "divorce"
   ]
  },
  {
   "cell_type": "code",
   "execution_count": null,
   "id": "3ab9e3ec-1ddf-46e8-9136-c42535f351a4",
   "metadata": {},
   "outputs": [],
   "source": [
    "divorce.dtypes"
   ]
  },
  {
   "cell_type": "code",
   "execution_count": null,
   "id": "aaa1ee26-4126-4c49-9071-44ab2b59076e",
   "metadata": {},
   "outputs": [],
   "source": [
    "# Dates can be parsed as well once the data is loaded into memory\n",
    "divorce['Date_of_marriage'] = pd.to_datetime(divorce['Date_of_marriage'])"
   ]
  },
  {
   "cell_type": "code",
   "execution_count": null,
   "id": "0c791906-18ef-4629-b66b-811b1b9dd972",
   "metadata": {},
   "outputs": [],
   "source": [
    "divorce.dtypes"
   ]
  },
  {
   "cell_type": "code",
   "execution_count": null,
   "id": "d83ef806-d722-43b2-985e-632fe3511075",
   "metadata": {},
   "outputs": [],
   "source": [
    "# pd.to_datetime can merge year, moth, day columns into a single brand new datetime one. For this to work, columns have to be named \"month\", \"day\", \"year\"\n",
    "\n",
    "# The other way around:\n",
    "\n",
    "divorce['Date_of_marriage_month'] = divorce['Date_of_marriage'].dt.month"
   ]
  },
  {
   "cell_type": "code",
   "execution_count": null,
   "id": "84eb74b4-abe2-4174-8d39-0df405d992f8",
   "metadata": {},
   "outputs": [],
   "source": [
    "divorce['Date_of_marriage_month']"
   ]
  },
  {
   "cell_type": "markdown",
   "id": "38999002-c4e8-4ed5-8fb9-6c1a106ed092",
   "metadata": {},
   "source": [
    "## Visualizing patterns over time\n",
    "\n",
    "In the lineplots, the blue line represents the mean while the lighter blue area represents the confidence interval with 95% of the probability for the population."
   ]
  },
  {
   "cell_type": "code",
   "execution_count": null,
   "id": "ed0d35c5-7f8c-410a-bb9a-976b33bb91f1",
   "metadata": {},
   "outputs": [],
   "source": [
    "sns.lineplot(data=divorce, x='Date_of_marriage_month', y='Marriage_duration')"
   ]
  },
  {
   "cell_type": "markdown",
   "id": "d930af21-a1bf-4e2b-9bb8-97da4c34ef52",
   "metadata": {},
   "source": [
    "## Correlation\n",
    "\n",
    "Correlation describes the direction and strength of the relationship between two variables\n",
    "\n",
    "Correlations can help us using variables to predict future outcomes\n"
   ]
  },
  {
   "cell_type": "code",
   "execution_count": null,
   "id": "3efc2b49-ffd8-4294-ae04-cb4fa52ac66d",
   "metadata": {},
   "outputs": [],
   "source": [
    "divorce = pd.read_csv('../data/divorces.csv',             \n",
    "            usecols=['Divorce_date', 'Marriage_duration', 'Date_of_marriage', 'Num_Children', 'Monthly_income_partner_man_peso', 'Monthly_income_partner_woman_peso'],\n",
    "            parse_dates=['Divorce_date', 'Date_of_marriage'])\n",
    "\n",
    "divorce['Date_of_marriage_year'] = divorce['Date_of_marriage'].dt.year"
   ]
  },
  {
   "cell_type": "markdown",
   "id": "69539f84-6880-4593-9cc5-ba049827c5f2",
   "metadata": {},
   "source": [
    "The corr() method calculates the Pearson correlation coefficient, that only pays attention to linear relationships"
   ]
  },
  {
   "cell_type": "code",
   "execution_count": null,
   "id": "642a4ae0-55b8-4b2b-904a-0be92c995ef0",
   "metadata": {},
   "outputs": [],
   "source": [
    "divorce[['Monthly_income_partner_man_peso',\n",
    "       'Monthly_income_partner_woman_peso', 'Date_of_marriage_year',\n",
    "       'Marriage_duration', 'Num_Children']].corr()"
   ]
  },
  {
   "cell_type": "markdown",
   "id": "33a7bf90-9832-42e0-b631-2978693d9b9c",
   "metadata": {},
   "source": [
    "It turns out to be very handy to represent the correlation matrix with a heatmap:"
   ]
  },
  {
   "cell_type": "code",
   "execution_count": null,
   "id": "adfdc11a-054a-4aae-aac0-03d50962a616",
   "metadata": {
    "scrolled": true
   },
   "outputs": [],
   "source": [
    "sns.heatmap(divorce[['Monthly_income_partner_man_peso',\n",
    "       'Monthly_income_partner_woman_peso', 'Date_of_marriage_year',\n",
    "       'Marriage_duration', 'Num_Children']].corr(), annot=True)"
   ]
  },
  {
   "cell_type": "markdown",
   "id": "c40dbdc6-2a54-4119-bd06-ee2038d979f9",
   "metadata": {},
   "source": [
    "Scatter plots are a very nice complement to our correlation matrix, since there we can see if the relationships between our variables are actually linear or not."
   ]
  },
  {
   "cell_type": "code",
   "execution_count": null,
   "id": "e3493d2f-ae72-4521-851c-5da02fc82a25",
   "metadata": {},
   "outputs": [],
   "source": [
    "sns.scatterplot(data=divorce, x='Monthly_income_partner_man_peso', y='Monthly_income_partner_woman_peso')"
   ]
  },
  {
   "cell_type": "code",
   "execution_count": null,
   "id": "da217dbb-6aac-4235-b224-5bf06975658b",
   "metadata": {},
   "outputs": [],
   "source": [
    "#The pairplot goes beyond scatterplots and shows a scatterplot for each pair or variables in the dataframe\n",
    "sns.pairplot(data=divorce)"
   ]
  },
  {
   "cell_type": "code",
   "execution_count": null,
   "id": "4c72ada1-0eef-4736-bd27-5514aa115801",
   "metadata": {},
   "outputs": [],
   "source": [
    "#the vars parameter helps us decluttering the plot\n",
    "sns.pairplot(data=divorce, vars=['Divorce_date', 'Monthly_income_partner_man_peso',\n",
    "       'Monthly_income_partner_woman_peso', 'Num_Children'])"
   ]
  },
  {
   "cell_type": "markdown",
   "id": "0ccc202f-9492-4ab3-a71b-01942709c61a",
   "metadata": {},
   "source": [
    "## Factor relationships and distributions\n",
    "\n"
   ]
  },
  {
   "cell_type": "code",
   "execution_count": null,
   "id": "c1d1c8b9-b711-491e-92fa-cc9996053747",
   "metadata": {},
   "outputs": [],
   "source": [
    "divorce = pd.read_csv('../data/divorces.csv',             \n",
    "            usecols=['Divorce_date', 'Marriage_duration', 'Date_of_marriage', 'Num_Children', 'Monthly_income_partner_man_peso', 'Monthly_income_partner_woman_peso', 'Level_of_education_partner_man', 'Level_of_education_partner_woman'],\n",
    "            parse_dates=['Divorce_date', 'Date_of_marriage'])\n",
    "\n",
    "divorce['Date_of_marriage_year'] = divorce['Date_of_marriage'].dt.year"
   ]
  },
  {
   "cell_type": "code",
   "execution_count": null,
   "id": "23fc2b4b-0140-47f6-9a5d-abfa777959f6",
   "metadata": {},
   "outputs": [],
   "source": [
    "divorce = pd.read_csv('../data/divorces.csv')"
   ]
  },
  {
   "cell_type": "code",
   "execution_count": null,
   "id": "12426a88-8093-48b1-b18e-8d7f1a478c09",
   "metadata": {},
   "outputs": [],
   "source": [
    "divorce.columns"
   ]
  },
  {
   "cell_type": "code",
   "execution_count": null,
   "id": "d12d60df-4484-4716-8152-1aea89ef2fac",
   "metadata": {},
   "outputs": [],
   "source": [
    "divorce['Level_of_education_partner_man'].value_counts()"
   ]
  },
  {
   "cell_type": "code",
   "execution_count": null,
   "id": "af8b9851-dbe0-4621-b3ec-de4d79ae10fe",
   "metadata": {},
   "outputs": [],
   "source": [
    "sns.histplot(data=divorce, x='Marriage_duration', hue='Level_of_education_partner_man')"
   ]
  },
  {
   "cell_type": "code",
   "execution_count": null,
   "id": "b72c9ed5-8897-4219-a4f3-fc6f5c8589db",
   "metadata": {},
   "outputs": [],
   "source": [
    "# Kdeplots offer a clearer way to display this kind of information, but keep in mind that there is some smoothing happening here. Its very important to properly parametrize that smoothing\n",
    "sns.kdeplot(data=divorce, x='Marriage_duration', hue='Level_of_education_partner_man')"
   ]
  },
  {
   "cell_type": "code",
   "execution_count": null,
   "id": "8a6e0209-5d82-4781-a405-cb974a9447ea",
   "metadata": {},
   "outputs": [],
   "source": [
    "# To avoid showing negative marriage duration we can use the cut parameter\n",
    "sns.kdeplot(data=divorce, x='Marriage_duration', hue='Level_of_education_partner_man', cut=0)"
   ]
  },
  {
   "cell_type": "code",
   "execution_count": null,
   "id": "b0ba288a-f056-4145-bcbc-59b488188398",
   "metadata": {},
   "outputs": [],
   "source": [
    "sns.kdeplot(data=divorce, x='Marriage_duration', hue='Level_of_education_partner_man', cut=0, cumulative=True)"
   ]
  },
  {
   "cell_type": "code",
   "execution_count": null,
   "id": "1b9fd547-c309-4d67-8bd0-130932843b65",
   "metadata": {},
   "outputs": [],
   "source": []
  }
 ],
 "metadata": {
  "kernelspec": {
   "display_name": "Python 3 (ipykernel)",
   "language": "python",
   "name": "python3"
  },
  "language_info": {
   "codemirror_mode": {
    "name": "ipython",
    "version": 3
   },
   "file_extension": ".py",
   "mimetype": "text/x-python",
   "name": "python",
   "nbconvert_exporter": "python",
   "pygments_lexer": "ipython3",
   "version": "3.12.4"
  }
 },
 "nbformat": 4,
 "nbformat_minor": 5
}
