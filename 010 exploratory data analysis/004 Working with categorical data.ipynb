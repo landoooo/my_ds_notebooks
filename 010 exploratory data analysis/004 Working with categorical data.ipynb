{
 "cells": [
  {
   "cell_type": "markdown",
   "id": "d6e1a944-27b5-487a-b767-0f045f3c1ba9",
   "metadata": {},
   "source": [
    "# Working with categorical data\n",
    "\n",
    "Categorical data can be split in 2 different kinds:\n",
    "- Ordinal: having a natural order\n",
    "- Nominal: they cannot be ordered"
   ]
  },
  {
   "cell_type": "code",
   "execution_count": null,
   "id": "528d97ef-fa8c-4905-a86f-4e2be1da1ea4",
   "metadata": {},
   "outputs": [],
   "source": [
    "import pandas as pd \n",
    "import numpy as np\n",
    "import seaborn as sns\n",
    "import matplotlib.pyplot as plt \n",
    "\n",
    "import warnings\n",
    "warnings.filterwarnings('ignore')\n"
   ]
  },
  {
   "cell_type": "code",
   "execution_count": null,
   "id": "10d49d64-aa42-4242-bcde-3efcb2f5c15c",
   "metadata": {},
   "outputs": [],
   "source": [
    "df = pd.read_csv('../data/adult.csv')"
   ]
  },
  {
   "cell_type": "code",
   "execution_count": null,
   "id": "f5f6a16d-c5b5-44ac-b26a-2ba6154dff00",
   "metadata": {},
   "outputs": [],
   "source": [
    "df.info()"
   ]
  },
  {
   "cell_type": "markdown",
   "id": "de8bb620-515c-4a4c-be8e-ed89726a53c6",
   "metadata": {},
   "source": [
    "The object variables contain strings.\n",
    "Pandas try to infer the type of each column. Categories are not directly flagged as categorical data but as strings.\n"
   ]
  },
  {
   "cell_type": "code",
   "execution_count": null,
   "id": "c7e48e1b-4c81-47e2-870b-d159157a5d47",
   "metadata": {},
   "outputs": [],
   "source": [
    "df.describe()"
   ]
  },
  {
   "cell_type": "code",
   "execution_count": null,
   "id": "d77ea749-95b9-4238-8702-67a02ada74be",
   "metadata": {},
   "outputs": [],
   "source": [
    "# What's the amount of different values of each variable?\n",
    "df.nunique()"
   ]
  },
  {
   "cell_type": "code",
   "execution_count": null,
   "id": "647947ca-00cf-4dab-888d-ac799b2dcd75",
   "metadata": {},
   "outputs": [],
   "source": [
    "# What are the different values of a specific variable?\n",
    "df.workclass.value_counts()"
   ]
  },
  {
   "cell_type": "code",
   "execution_count": null,
   "id": "3bc853e1-97fb-4df8-92aa-0962cf1eea0a",
   "metadata": {},
   "outputs": [],
   "source": [
    "# And their relative frequences\n",
    "df.workclass.value_counts(normalize=True)"
   ]
  },
  {
   "cell_type": "markdown",
   "id": "bf91e3a0-2465-45de-93c9-41c8686427e2",
   "metadata": {},
   "source": [
    "Object types can be converted into categorical ones by using the astype method:"
   ]
  },
  {
   "cell_type": "code",
   "execution_count": null,
   "id": "6787eb15-23be-4eb9-b661-f7de032fd8c9",
   "metadata": {},
   "outputs": [],
   "source": [
    "df['marital.status'] = df['marital.status'].astype('category')"
   ]
  },
  {
   "cell_type": "code",
   "execution_count": null,
   "id": "1c975d56-9b08-4d43-ae78-a23f15399f3c",
   "metadata": {},
   "outputs": [],
   "source": [
    "df['marital.status'].dtype"
   ]
  },
  {
   "cell_type": "code",
   "execution_count": null,
   "id": "5c879307-4779-496e-9bb2-125d73823f2a",
   "metadata": {},
   "outputs": [],
   "source": [
    "# Creating categorical series\n",
    "\n",
    "my_data = ['A', 'A', 'B', 'A', 'C', 'B']\n",
    "\n",
    "# Unordered\n",
    "my_series1 = pd.Series(my_data, dtype='category')\n",
    "print(my_series1)"
   ]
  },
  {
   "cell_type": "code",
   "execution_count": null,
   "id": "bda5f8bb-db20-4f31-910b-dac74dc73077",
   "metadata": {},
   "outputs": [],
   "source": [
    "# Ordered\n",
    "my_series2 = pd.Categorical(my_data, categories=[\"C\", \"B\", \"A\"], ordered=True)\n",
    "print(my_series2)"
   ]
  },
  {
   "cell_type": "markdown",
   "id": "b57d60f0-dd68-4c53-9b51-d340851ac37c",
   "metadata": {
    "execution": {
     "iopub.execute_input": "2024-07-05T10:08:43.450738Z",
     "iopub.status.busy": "2024-07-05T10:08:43.450260Z",
     "iopub.status.idle": "2024-07-05T10:08:43.464749Z",
     "shell.execute_reply": "2024-07-05T10:08:43.458371Z",
     "shell.execute_reply.started": "2024-07-05T10:08:43.450705Z"
    }
   },
   "source": [
    "Categorical data helps reducing memory footprint by a lot.\n",
    "\n",
    "In order to benefit from lower memory requirements right from the beginning there is a way to pass the dtypes of the variables when reading from the source:"
   ]
  },
  {
   "cell_type": "code",
   "execution_count": null,
   "id": "0ec8857c-4b90-4961-b11d-fce17d19dce1",
   "metadata": {},
   "outputs": [],
   "source": [
    "df_dtypes={\n",
    "\"marital.status\": \"category\"\n",
    "}\n",
    "\n",
    "df = pd.read_csv('../data/adult.csv', dtype=df_dtypes)\n",
    "\n",
    "df.dtypes\n"
   ]
  },
  {
   "cell_type": "markdown",
   "id": "a94ed91c-ba11-4483-b88c-798cd0944fa9",
   "metadata": {},
   "source": [
    "## Grouping data by categories\n",
    "\n"
   ]
  },
  {
   "cell_type": "code",
   "execution_count": null,
   "id": "10f1b50f-130c-41da-8fe3-cb1fee4f8068",
   "metadata": {},
   "outputs": [],
   "source": [
    "df = pd.read_csv('../data/adult.csv')\n",
    "\n",
    "#the following\n",
    "df1 = df[df[\"income\"]==\"<=50K\"]\n",
    "df2 = df[df[\"income\"]==\">50K\"]\n",
    "#can be replaced by \n",
    "groupby_object = df.groupby(by=[\"income\"])"
   ]
  },
  {
   "cell_type": "code",
   "execution_count": null,
   "id": "9051bcda-4a54-4198-8ee9-4a9847b8ebca",
   "metadata": {},
   "outputs": [],
   "source": [
    "#We can use now functions like countm sum, mean... or our own custom functions\n",
    "groupby_object.size()"
   ]
  },
  {
   "cell_type": "code",
   "execution_count": null,
   "id": "eae8a979-e603-4c8a-ba28-ac24152380fc",
   "metadata": {},
   "outputs": [],
   "source": [
    "groupby_object[[\"education.num\", \"age\"]].sum()"
   ]
  },
  {
   "cell_type": "code",
   "execution_count": null,
   "id": "2311b836-552c-4d99-8c50-1194cd82b1fe",
   "metadata": {},
   "outputs": [],
   "source": [
    "groupby_object = df.groupby(by=[\"income\", \"marital.status\"])"
   ]
  },
  {
   "cell_type": "code",
   "execution_count": null,
   "id": "fbbefb64-c1df-4d0d-91a3-7376c0c29c84",
   "metadata": {},
   "outputs": [],
   "source": [
    "groupby_object[[\"education.num\", \"age\"]].sum()"
   ]
  },
  {
   "cell_type": "markdown",
   "id": "e18cd51d-3a25-40b3-bf84-b0474ec575ed",
   "metadata": {},
   "source": [
    "## Setting categorical variables\n",
    "\n",
    "In this section we are going to see how we can manipulate categories. For the most part we are going to use the *.cat* accessor."
   ]
  },
  {
   "cell_type": "code",
   "execution_count": null,
   "id": "7e551af2-693b-4ea0-9dc6-afa77e2cef2e",
   "metadata": {},
   "outputs": [],
   "source": [
    "dogs = pd.read_csv('../data/ShelterDogs.csv')"
   ]
  },
  {
   "cell_type": "code",
   "execution_count": null,
   "id": "442c7b44-abd2-4bea-b029-38072439fd90",
   "metadata": {},
   "outputs": [],
   "source": [
    "dogs.info()"
   ]
  },
  {
   "cell_type": "code",
   "execution_count": null,
   "id": "81289dd0-3223-4c8e-8ccc-58892f1763b2",
   "metadata": {},
   "outputs": [],
   "source": [
    "dogs[\"coat\"] = dogs[\"coat\"].astype(\"category\")"
   ]
  },
  {
   "cell_type": "code",
   "execution_count": null,
   "id": "607f9ccd-882f-4de8-b479-0e81b9cb55ab",
   "metadata": {},
   "outputs": [],
   "source": [
    "dogs[\"coat\"].value_counts()"
   ]
  },
  {
   "cell_type": "code",
   "execution_count": null,
   "id": "8fa08b69-8b54-48ca-a30b-17435c585c90",
   "metadata": {},
   "outputs": [],
   "source": [
    "# Setting the categories will assing a null categorie to the eventual categories previously assigned but not included in the list\n",
    "dogs[\"coat\"] = dogs[\"coat\"].cat.set_categories(new_categories=[\"short\", \"medium\", \"long\"])"
   ]
  },
  {
   "cell_type": "code",
   "execution_count": null,
   "id": "78b56ad6-bedc-4883-88b3-260d69e6cc5c",
   "metadata": {},
   "outputs": [],
   "source": [
    "dogs[\"coat\"].value_counts(dropna=False)"
   ]
  },
  {
   "cell_type": "markdown",
   "id": "6813cf1b-c415-4da2-96e4-acccb3edfe67",
   "metadata": {},
   "source": [
    "The wirehaired category is now gone"
   ]
  },
  {
   "cell_type": "code",
   "execution_count": null,
   "id": "db2426aa-d4f4-47ec-954e-cdc215ba5e10",
   "metadata": {},
   "outputs": [],
   "source": [
    "dogs[\"coat\"] = dogs[\"coat\"].cat.set_categories(\n",
    "    new_categories=[\"short\", \"medium\", \"long\"], \n",
    "    ordered=True\n",
    ")\n",
    "dogs[\"coat\"].head(3)"
   ]
  },
  {
   "cell_type": "code",
   "execution_count": null,
   "id": "48b8ba44-bc51-45e8-8bbe-06780693e06a",
   "metadata": {},
   "outputs": [],
   "source": [
    "#In the case of likes_people, there is a lot of null values\n",
    "\n",
    "dogs['likes_people'].value_counts(dropna=False)"
   ]
  },
  {
   "cell_type": "code",
   "execution_count": null,
   "id": "9443950e-d2c5-4024-914d-053555795f89",
   "metadata": {},
   "outputs": [],
   "source": [
    "dogs[\"likes_people\"] = dogs[\"likes_people\"].astype(\"category\")\n",
    "dogs[\"likes_people\"] = dogs[\"likes_people\"].cat.add_categories([\"did not check\", \"could not tell\"])"
   ]
  },
  {
   "cell_type": "code",
   "execution_count": null,
   "id": "8a7afee3-dc34-46a2-9e13-429ecf98c92c",
   "metadata": {},
   "outputs": [],
   "source": [
    "dogs[\"likes_people\"].value_counts(dropna=False)"
   ]
  },
  {
   "cell_type": "code",
   "execution_count": null,
   "id": "16fb0a76-8347-4607-9a61-42598a505653",
   "metadata": {},
   "outputs": [],
   "source": [
    "#We can remove categories as well\n",
    "dogs['coat'] = dogs['coat'].cat.remove_categories(removals=['wirehaired'])"
   ]
  },
  {
   "cell_type": "markdown",
   "id": "2a1ba9dc-3594-4d54-8cec-ec4a336588ff",
   "metadata": {},
   "source": [
    "## Updating and collapsing categories"
   ]
  },
  {
   "cell_type": "code",
   "execution_count": null,
   "id": "b270fa66-d2c7-4c0f-88a7-6e590ab1d1b9",
   "metadata": {},
   "outputs": [],
   "source": [
    "dogs['breed'] = dogs['breed'].astype('category')"
   ]
  },
  {
   "cell_type": "code",
   "execution_count": null,
   "id": "44ac3f1e-6012-4796-83d5-b80b4c28d755",
   "metadata": {},
   "outputs": [],
   "source": [
    "dogs['breed'].value_counts()"
   ]
  },
  {
   "cell_type": "code",
   "execution_count": null,
   "id": "d7f3460b-3cfe-40fa-9ca6-0ae3990e3992",
   "metadata": {},
   "outputs": [],
   "source": [
    "#Renaming one or more categories\n",
    "dogs['breed'] = dogs['breed'].cat.rename_categories(new_categories={\n",
    "   'Unknown Mix': 'Unknown'\n",
    "})"
   ]
  },
  {
   "cell_type": "code",
   "execution_count": null,
   "id": "2e63ebe4-a9ad-4ad3-b427-08903bb4cc0f",
   "metadata": {},
   "outputs": [],
   "source": [
    "dogs['breed'].value_counts()"
   ]
  },
  {
   "cell_type": "code",
   "execution_count": null,
   "id": "28594d4c-30bc-4584-9d26-a22be6f8d742",
   "metadata": {},
   "outputs": [],
   "source": [
    "# Renaming can be done with lambdas too\n",
    "dogs['sex'] = dogs['sex'].astype('category')\n",
    "dogs['sex'] = dogs['sex'].cat.rename_categories(lambda x: x.title())"
   ]
  },
  {
   "cell_type": "code",
   "execution_count": null,
   "id": "c9e083b3-8717-4310-88bb-fcc5e7c342d5",
   "metadata": {},
   "outputs": [],
   "source": [
    "dogs['sex'].value_counts()"
   ]
  },
  {
   "cell_type": "code",
   "execution_count": null,
   "id": "68e75be5-ac64-4005-b457-daa083c80520",
   "metadata": {},
   "outputs": [],
   "source": [
    "dogs['color'] = dogs['color'].astype(\"category\")\n",
    "print(dogs['color'].cat.categories)"
   ]
  },
  {
   "cell_type": "code",
   "execution_count": null,
   "id": "528099c9-47f7-4890-8b7b-7755b1338f18",
   "metadata": {},
   "outputs": [],
   "source": [
    "update_colors = {\n",
    "    \"black and brown\": \"black\",\n",
    "    \"black and tan\": \"black\",\n",
    "    \"black and white\": \"black\"\n",
    "}"
   ]
  },
  {
   "cell_type": "code",
   "execution_count": null,
   "id": "cdd9b3e5-e09e-47ed-acbe-7d03815dba7b",
   "metadata": {},
   "outputs": [],
   "source": [
    "dogs[\"main_color\"] = dogs[\"color\"].replace(update_colors)"
   ]
  },
  {
   "cell_type": "code",
   "execution_count": null,
   "id": "ba9615cc-58fa-45e3-aed8-06fa78dffaab",
   "metadata": {},
   "outputs": [],
   "source": [
    "dogs[\"main_color\"].value_counts()"
   ]
  },
  {
   "cell_type": "code",
   "execution_count": null,
   "id": "35469049-09bf-4efc-b12e-2f62523abd6d",
   "metadata": {},
   "outputs": [],
   "source": [
    "dogs[\"main_color\"].dtype"
   ]
  },
  {
   "cell_type": "markdown",
   "id": "2ae53c2e-f18e-43ab-b2f1-13e48e0144a2",
   "metadata": {
    "execution": {
     "iopub.execute_input": "2024-07-05T18:47:46.504184Z",
     "iopub.status.busy": "2024-07-05T18:47:46.503707Z",
     "iopub.status.idle": "2024-07-05T18:47:46.511172Z",
     "shell.execute_reply": "2024-07-05T18:47:46.510386Z",
     "shell.execute_reply.started": "2024-07-05T18:47:46.504151Z"
    }
   },
   "source": [
    "## Reordering Categories"
   ]
  },
  {
   "cell_type": "code",
   "execution_count": null,
   "id": "f8a221ac-b7b5-48ac-ac6e-60a8b2d05add",
   "metadata": {},
   "outputs": [],
   "source": [
    "dogs = pd.read_csv('../data/ShelterDogs.csv')\n",
    "\n",
    "dogs['coat'] = dogs['coat'].astype('category')\n",
    "dogs['coat'] = dogs['coat'].cat.reorder_categories(\n",
    "    new_categories=['short', 'medium', 'wirehaired', 'long'],\n",
    "    ordered=True\n",
    ")\n",
    "\n",
    "dogs['coat'].cat.categories"
   ]
  },
  {
   "cell_type": "code",
   "execution_count": null,
   "id": "9f1792d8-5868-43e4-b3de-72286d405232",
   "metadata": {},
   "outputs": [],
   "source": [
    "#The order is taken into account to display the results of the grouping\n",
    "dogs.groupby(by='coat')['age'].mean()"
   ]
  },
  {
   "cell_type": "markdown",
   "id": "d146355a-e182-4e95-a479-17b7c8649d85",
   "metadata": {
    "execution": {
     "iopub.execute_input": "2024-07-05T19:14:33.531306Z",
     "iopub.status.busy": "2024-07-05T19:14:33.530823Z",
     "iopub.status.idle": "2024-07-05T19:14:33.535442Z",
     "shell.execute_reply": "2024-07-05T19:14:33.534671Z",
     "shell.execute_reply.started": "2024-07-05T19:14:33.531272Z"
    }
   },
   "source": [
    "## Cleaning and accessing data\n",
    "\n",
    "There are several kinds of issues we can face when dealing with categorical data:\n",
    "- Inconsistent values\n",
    "- Misspelled values\n",
    "- Wrong dtype after corrections\n",
    "\n",
    "To identify them we can use either the cat.categories or the value_counts method.\n",
    "\n",
    "For fixing the inconsistent values we can use the same methods as for fixing strings:\n",
    "- str.strip()\n",
    "- str.title(), upper() or lower()\n",
    "- str.mapping(dict)\n",
    "\n",
    "Dont forget to check the dtype after the change\n",
    "\n",
    "To access data we can use .str.contains(string or regex)"
   ]
  },
  {
   "cell_type": "code",
   "execution_count": null,
   "id": "3ad577a1-b269-4c16-9298-6263c5c96668",
   "metadata": {},
   "outputs": [],
   "source": [
    "# Accessing data with loc\n",
    "\n",
    "dogs.loc[dogs['get_along_cats']=='yes', \"size\"]"
   ]
  },
  {
   "cell_type": "code",
   "execution_count": null,
   "id": "1e697265-0913-4334-817c-7c8cdbf40ff7",
   "metadata": {},
   "outputs": [],
   "source": [
    "dogs.loc[dogs['get_along_cats']=='yes', \"size\"].value_counts(sort=False)"
   ]
  },
  {
   "cell_type": "markdown",
   "id": "70e32ba3-12c8-45f7-96fd-d618fed8161c",
   "metadata": {
    "execution": {
     "iopub.execute_input": "2024-07-06T12:31:56.424425Z",
     "iopub.status.busy": "2024-07-06T12:31:56.423849Z",
     "iopub.status.idle": "2024-07-06T12:31:56.435453Z",
     "shell.execute_reply": "2024-07-06T12:31:56.434575Z",
     "shell.execute_reply.started": "2024-07-06T12:31:56.424388Z"
    }
   },
   "source": [
    "## Using categorical data in visualization\n",
    "\n",
    "Seaborn has a kind of plot for categories, called catplot"
   ]
  },
  {
   "cell_type": "code",
   "execution_count": null,
   "id": "cc167793-8fb2-4293-b97f-52a720032250",
   "metadata": {},
   "outputs": [],
   "source": [
    "df = pd.read_csv('../data/lasvegas_tripadvisor.csv')"
   ]
  },
  {
   "cell_type": "code",
   "execution_count": null,
   "id": "5773c54c-781e-4b4e-a12a-75f14a00df0a",
   "metadata": {},
   "outputs": [],
   "source": [
    "df"
   ]
  },
  {
   "cell_type": "code",
   "execution_count": null,
   "id": "68cb95f7-65e0-4b1b-8dda-4b3eb774bb00",
   "metadata": {},
   "outputs": [],
   "source": [
    "df.describe()"
   ]
  },
  {
   "cell_type": "code",
   "execution_count": null,
   "id": "0e10e04b-cb25-43d7-b4b2-91af8c47f815",
   "metadata": {},
   "outputs": [],
   "source": [
    "df.info()"
   ]
  },
  {
   "cell_type": "markdown",
   "id": "1c67dacc-e7eb-46dd-b088-62e8652b8710",
   "metadata": {
    "execution": {
     "iopub.execute_input": "2024-07-06T12:37:07.450108Z",
     "iopub.status.busy": "2024-07-06T12:37:07.449482Z",
     "iopub.status.idle": "2024-07-06T12:37:07.457310Z",
     "shell.execute_reply": "2024-07-06T12:37:07.456255Z",
     "shell.execute_reply.started": "2024-07-06T12:37:07.450067Z"
    }
   },
   "source": [
    "Catplot has the following parameters:\n",
    "- x\n",
    "- y\n",
    "- data\n",
    "- kind: strip, swarm, box, violin, boxen, point, bar, count"
   ]
  },
  {
   "cell_type": "code",
   "execution_count": null,
   "id": "857c95f6-1603-4f5a-8ab6-3eb5a4c915e7",
   "metadata": {},
   "outputs": [],
   "source": [
    "sns.catplot(data=df, y='Nr. rooms', kind='box')"
   ]
  },
  {
   "cell_type": "code",
   "execution_count": null,
   "id": "da006dd3-8dfb-4a67-903a-1f58b010154e",
   "metadata": {},
   "outputs": [],
   "source": [
    "sns.catplot(data=df, y='Nr. rooms', kind='boxen')"
   ]
  },
  {
   "cell_type": "code",
   "execution_count": null,
   "id": "c35f53ff-bd3b-4a9f-8c3b-e96feed1994c",
   "metadata": {},
   "outputs": [],
   "source": [
    "sns.catplot(data=df, y='Nr. rooms', kind='violin')"
   ]
  },
  {
   "cell_type": "code",
   "execution_count": null,
   "id": "19a854de-b7b4-46ad-aceb-bb570619179f",
   "metadata": {},
   "outputs": [],
   "source": [
    "sns.catplot(data=df, y='Nr. rooms', kind='swarm')"
   ]
  },
  {
   "cell_type": "code",
   "execution_count": null,
   "id": "587d6f2d-d0a4-45de-b315-bbb1ecbf95ad",
   "metadata": {},
   "outputs": [],
   "source": [
    "sns.catplot(data=df, y='Nr. rooms', kind='strip')"
   ]
  },
  {
   "cell_type": "code",
   "execution_count": null,
   "id": "fb3b28e8-3192-4fa5-b498-000da1714c8e",
   "metadata": {},
   "outputs": [],
   "source": [
    "sns.catplot(data=df, y='Nr. rooms', kind='point')"
   ]
  },
  {
   "cell_type": "code",
   "execution_count": null,
   "id": "f3a5e324-ec3b-4d8d-b1db-5e4c57107395",
   "metadata": {},
   "outputs": [],
   "source": [
    "sns.catplot(data=df, y='Nr. rooms', kind='bar')"
   ]
  },
  {
   "cell_type": "code",
   "execution_count": null,
   "id": "a44cc295-b58b-4a54-8a6a-64e4cd63743a",
   "metadata": {},
   "outputs": [],
   "source": [
    "df['Score'].value_counts()"
   ]
  },
  {
   "cell_type": "code",
   "execution_count": null,
   "id": "d68d9c1b-084f-4d9e-9f09-8761f7c9d394",
   "metadata": {},
   "outputs": [],
   "source": [
    "sns.catplot(x='Pool', y='Score', data=df, kind='box')"
   ]
  },
  {
   "cell_type": "code",
   "execution_count": null,
   "id": "439c4576-a3d0-44e6-8f1f-c5a1351f903a",
   "metadata": {},
   "outputs": [],
   "source": [
    "sns.set(font_scale=1.4)\n",
    "sns.set_style('whitegrid')"
   ]
  },
  {
   "cell_type": "code",
   "execution_count": null,
   "id": "b01dcfd7-ea18-4a90-95e5-4ac97b282992",
   "metadata": {},
   "outputs": [],
   "source": [
    "sns.catplot(x='Pool', y='Score', data=df, kind='box')"
   ]
  },
  {
   "cell_type": "code",
   "execution_count": null,
   "id": "df72d1ab-1f58-43f5-a41d-0a9b45234d11",
   "metadata": {},
   "outputs": [],
   "source": [
    "#Pandas offers a way to plot barcharts out of the box:\n",
    "df['Traveler type'].value_counts().plot.bar()"
   ]
  },
  {
   "cell_type": "code",
   "execution_count": null,
   "id": "17ff51c1-5d75-413d-9955-e75734342067",
   "metadata": {},
   "outputs": [],
   "source": [
    "#Seaborn goes beyond this simple plot and allow us to analyze numerical variables through categorical ones\n",
    "sns.catplot(x='Traveler type', hue='Traveler type', y='Score', data=df, kind='bar')"
   ]
  },
  {
   "cell_type": "markdown",
   "id": "6181190e-9be1-40f2-8f97-f098b3fb6879",
   "metadata": {},
   "source": [
    "Sns barplot represents with the height of each bar, the point estimate of the mean of the data. \n",
    "\n",
    "The black band represent the confidence interval for that value. That means, the range of values we are confident at 95% that the observations will fall in."
   ]
  },
  {
   "cell_type": "markdown",
   "id": "5686546c-ac2a-4359-a0c4-1c2e3e630343",
   "metadata": {
    "execution": {
     "iopub.execute_input": "2024-07-06T13:26:17.261097Z",
     "iopub.status.busy": "2024-07-06T13:26:17.260542Z",
     "iopub.status.idle": "2024-07-06T13:26:17.266417Z",
     "shell.execute_reply": "2024-07-06T13:26:17.265626Z",
     "shell.execute_reply.started": "2024-07-06T13:26:17.261058Z"
    }
   },
   "source": [
    "### Ordering categories"
   ]
  },
  {
   "cell_type": "code",
   "execution_count": null,
   "id": "aa5b3106-8a0f-47ec-949f-4e677f5171ce",
   "metadata": {},
   "outputs": [],
   "source": [
    "df['Traveler type'] = df['Traveler type'].astype('category')\n",
    "df['Traveler type'].cat.categories\n",
    "\n",
    "sns.catplot(x='Traveler type', hue='Traveler type', y='Score', data=df, kind='bar')"
   ]
  },
  {
   "cell_type": "markdown",
   "id": "b25d6361-17fe-4c04-83c2-635a702e846e",
   "metadata": {},
   "source": [
    "The catplot method has a \"order\" attribute, but its way more preferable to use the category order since that would be applied to every single graph, and not only."
   ]
  },
  {
   "cell_type": "markdown",
   "id": "8f7cdc34-9c58-470c-84d3-42d58f4a397e",
   "metadata": {},
   "source": [
    "### The hue parameter\n",
    "\n",
    "Adds a color difference depending on the category"
   ]
  },
  {
   "cell_type": "code",
   "execution_count": null,
   "id": "c8c442ce-28c4-4fb6-93db-2c9978145ed4",
   "metadata": {},
   "outputs": [],
   "source": [
    "sns.catplot(x='Traveler type', hue='Tennis court', y='Score', data=df, kind='bar')"
   ]
  },
  {
   "cell_type": "markdown",
   "id": "fab32b0a-5316-4a5b-bb98-3dd6ac986ab4",
   "metadata": {},
   "source": [
    "## Point and count plot\n",
    "\n",
    "The point plot connects the means of the categories helping understanding the eventual difference between them. Confidence intervals are represented as well."
   ]
  },
  {
   "cell_type": "code",
   "execution_count": null,
   "id": "e875aecd-3274-4a67-9372-205d38c0e8c5",
   "metadata": {},
   "outputs": [],
   "source": [
    "sns.catplot(x='Pool', y='Score', data=df, kind='point')"
   ]
  },
  {
   "cell_type": "code",
   "execution_count": null,
   "id": "7704614b-f232-4f21-9a1e-da52d5d13404",
   "metadata": {},
   "outputs": [],
   "source": [
    "sns.catplot(x='Spa', y='Score', data=df, kind='point', hue='Tennis court', dodge=True)"
   ]
  },
  {
   "cell_type": "code",
   "execution_count": null,
   "id": "1654e6e0-9059-44a2-86e8-3c0d70e985bb",
   "metadata": {},
   "outputs": [],
   "source": [
    "sns.catplot(x='Spa', y='Score', data=df, kind='point', hue='Tennis court', dodge=True, join=False)"
   ]
  },
  {
   "cell_type": "code",
   "execution_count": null,
   "id": "e78afb09-1bd5-4909-bf77-4b9b98d1f962",
   "metadata": {},
   "outputs": [],
   "source": [
    "sns.catplot(x='Spa', data=df, kind='count', hue='Tennis court')"
   ]
  },
  {
   "cell_type": "code",
   "execution_count": null,
   "id": "5332c306-fab3-4624-86cb-0d13e4f91a53",
   "metadata": {},
   "outputs": [],
   "source": []
  },
  {
   "cell_type": "markdown",
   "id": "aadfd57b-d3aa-415d-9708-1ed310031b64",
   "metadata": {
    "execution": {
     "iopub.execute_input": "2024-07-06T14:36:23.641507Z",
     "iopub.status.busy": "2024-07-06T14:36:23.641239Z",
     "iopub.status.idle": "2024-07-06T14:36:23.644362Z",
     "shell.execute_reply": "2024-07-06T14:36:23.643696Z",
     "shell.execute_reply.started": "2024-07-06T14:36:23.641486Z"
    }
   },
   "source": [
    "## The challenge of displaying several categories at the same time"
   ]
  },
  {
   "cell_type": "code",
   "execution_count": null,
   "id": "7e3b3a41-0679-404c-8570-affe7df4428d",
   "metadata": {},
   "outputs": [],
   "source": [
    "ax = sns.catplot(x='Traveler type', \n",
    "            kind='count', \n",
    "            col='User continent', \n",
    "            col_wrap=3, \n",
    "            palette=sns.color_palette('Set1'), \n",
    "            data=df)\n",
    "\n",
    "ax.fig.suptitle('Hotel Score by Traveler Type and User Continent')\n",
    "ax.set_axis_labels(\"Traveler Type\", 'Number of Reviews')\n",
    "plt.subplots_adjust(top=.9)\n"
   ]
  },
  {
   "cell_type": "markdown",
   "id": "6baaf695-5e2c-4d20-85b5-20a8aae7951c",
   "metadata": {
    "execution": {
     "iopub.execute_input": "2024-07-06T14:54:11.722293Z",
     "iopub.status.busy": "2024-07-06T14:54:11.721789Z",
     "iopub.status.idle": "2024-07-06T14:54:11.730557Z",
     "shell.execute_reply": "2024-07-06T14:54:11.728528Z",
     "shell.execute_reply.started": "2024-07-06T14:54:11.722258Z"
    }
   },
   "source": [
    "## Categorical Pitfalls\n",
    "\n",
    "The first one is related to the memory footprint reduction associated with the usage of categories. It wont happen in case of the variable having a big number of different values."
   ]
  },
  {
   "cell_type": "code",
   "execution_count": null,
   "id": "ace0fd08-6019-49ee-a60e-a8e10e98a24e",
   "metadata": {},
   "outputs": [],
   "source": [
    "df = pd.read_csv('../data/cars.csv')"
   ]
  },
  {
   "cell_type": "code",
   "execution_count": null,
   "id": "f265a165-1a56-47cd-a00d-593a20792f73",
   "metadata": {},
   "outputs": [],
   "source": [
    "df"
   ]
  },
  {
   "cell_type": "code",
   "execution_count": null,
   "id": "132cd099-5ecf-477f-9618-c16ff55a16fe",
   "metadata": {},
   "outputs": [],
   "source": [
    "df.manufacturer_name.nunique()"
   ]
  },
  {
   "cell_type": "code",
   "execution_count": null,
   "id": "edd7d127-39e2-41d4-b974-ff0423cb584b",
   "metadata": {},
   "outputs": [],
   "source": [
    "df.manufacturer_name.nbytes"
   ]
  },
  {
   "cell_type": "code",
   "execution_count": null,
   "id": "c7992023-9a37-41be-9e5c-b7eca7338e50",
   "metadata": {},
   "outputs": [],
   "source": [
    "df.manufacturer_name.astype('category').nbytes"
   ]
  },
  {
   "cell_type": "code",
   "execution_count": null,
   "id": "2d6fcc9f-7482-47ef-a4b5-a9dda6834a9e",
   "metadata": {},
   "outputs": [],
   "source": [
    "df.odometer_value.nbytes"
   ]
  },
  {
   "cell_type": "code",
   "execution_count": null,
   "id": "ef6f6635-0a23-4c45-b27d-6e09a85060dd",
   "metadata": {},
   "outputs": [],
   "source": [
    "df.odometer_value.astype('category').nbytes"
   ]
  },
  {
   "cell_type": "code",
   "execution_count": null,
   "id": "1c1db1ea-86ca-491f-8c7f-a1de4af5e7ae",
   "metadata": {},
   "outputs": [],
   "source": [
    "df.odometer_value.nunique()"
   ]
  },
  {
   "cell_type": "markdown",
   "id": "9b6bf3c1-c193-4129-a853-6ebfb3d22dd9",
   "metadata": {},
   "source": [
    "The memory saving on odometer_value is quite limited compared to what happens with manufacturer_name"
   ]
  },
  {
   "cell_type": "markdown",
   "id": "b4189b37-2751-4a49-b18c-19f217cd83a1",
   "metadata": {
    "execution": {
     "iopub.execute_input": "2024-07-06T14:59:36.767528Z",
     "iopub.status.busy": "2024-07-06T14:59:36.766927Z",
     "iopub.status.idle": "2024-07-06T14:59:36.779973Z",
     "shell.execute_reply": "2024-07-06T14:59:36.775936Z",
     "shell.execute_reply.started": "2024-07-06T14:59:36.767481Z"
    }
   },
   "source": [
    "Using categories can be frustrating as well because:\n",
    "- using .str accessor object to manipulate data converts the Series into objects\n",
    "- The .apply() method outputs a new Series as an object\n",
    "- The common methods of adding, removing, replacing or setting categories do not handle missing categories the same way\n",
    "- Numpy functions generally do not work with categorical Series\n"
   ]
  },
  {
   "cell_type": "code",
   "execution_count": null,
   "id": "01fc72f2-49aa-4cf0-8868-df1146042052",
   "metadata": {},
   "outputs": [],
   "source": [
    "#Double check the variable is still a category after an operationabs\n",
    "df['color']=df['color'].astype('category')\n",
    "df['color']=df['color'].str.upper()\n",
    "print(df['color'].dtype)\n"
   ]
  },
  {
   "cell_type": "code",
   "execution_count": null,
   "id": "6fb8ebea-a646-46cb-9975-c01098201ffb",
   "metadata": {},
   "outputs": [],
   "source": [
    "df['color']=df['color'].astype('category')\n",
    "print(df['color'].dtype)"
   ]
  },
  {
   "cell_type": "code",
   "execution_count": null,
   "id": "72904da7-36ee-4c53-b161-7a998f06aab6",
   "metadata": {},
   "outputs": [],
   "source": [
    "#Check the missing values\n",
    "df['color']=df['color'].astype('category')\n",
    "df['color']=df['color'].cat.set_categories(['black', 'silver', 'blue'])\n",
    "df['color'].value_counts(dropna=False)"
   ]
  },
  {
   "cell_type": "markdown",
   "id": "465d9bd1-9b56-4c76-b32d-c058bf58d910",
   "metadata": {},
   "source": [
    "## Label Encoding\n",
    "\n",
    "It codes each category with an integer from 0 to n-1 where n is the number of different categories.\n",
    "-1 is often use to encode missing values.\n",
    "Label encoding is often used to save memory\n",
    "\n",
    "The method cat.codes is used to crete codes:\n"
   ]
  },
  {
   "cell_type": "code",
   "execution_count": null,
   "id": "8eb70cdd-2fba-4e06-bdb5-c719709c50af",
   "metadata": {},
   "outputs": [],
   "source": [
    "df['manufacturer_name'] = df['manufacturer_name'].astype('category')"
   ]
  },
  {
   "cell_type": "code",
   "execution_count": null,
   "id": "9dee5f91-5961-4a6a-b6b9-146720dc84ed",
   "metadata": {},
   "outputs": [],
   "source": [
    "df['manufacturer_code'] = df['manufacturer_name'].cat.codes"
   ]
  },
  {
   "cell_type": "code",
   "execution_count": null,
   "id": "573f501d-ea29-4dac-bc8e-bb33b003f356",
   "metadata": {},
   "outputs": [],
   "source": [
    "df[['manufacturer_code', 'manufacturer_name']]"
   ]
  },
  {
   "cell_type": "markdown",
   "id": "a4af90ff-7564-494e-a205-42011a9382fc",
   "metadata": {},
   "source": [
    "If we want to create a code book with the codes and names for later manipulation we can do so thanks to python's zip method:"
   ]
  },
  {
   "cell_type": "code",
   "execution_count": null,
   "id": "a6ea7bdf-e332-40e5-b627-af5704090b42",
   "metadata": {},
   "outputs": [],
   "source": [
    "name_map = dict(zip(df.manufacturer_code, df.manufacturer_name))"
   ]
  },
  {
   "cell_type": "code",
   "execution_count": null,
   "id": "b1c5c693-4cd1-487f-b475-48ba75ebada1",
   "metadata": {},
   "outputs": [],
   "source": [
    "name_map"
   ]
  },
  {
   "cell_type": "code",
   "execution_count": null,
   "id": "6b042afd-1e84-4f52-a2ac-8e61e60e6632",
   "metadata": {},
   "outputs": [],
   "source": [
    "#to convert codes back into names:\n",
    "df['manufacturer_code'].map(name_map)"
   ]
  },
  {
   "cell_type": "code",
   "execution_count": null,
   "id": "fa3446de-5c00-4a51-888f-a6269c7ad962",
   "metadata": {},
   "outputs": [],
   "source": [
    "# To create a van code \n",
    "df['van_code'] = np.where (df['body_type'].str.contains('van', regex=False), 1, 0)"
   ]
  },
  {
   "cell_type": "code",
   "execution_count": null,
   "id": "0567d2a9-34a0-4715-b93f-81e64216c173",
   "metadata": {},
   "outputs": [],
   "source": [
    "df['van_code'].value_counts()"
   ]
  },
  {
   "cell_type": "markdown",
   "id": "f30d6eed-14c6-4b7a-9421-59dad4644cc1",
   "metadata": {},
   "source": [
    "### One hot encoding \n",
    "\n",
    "Very helpful for machine learning data preparation.\n",
    "\n",
    "The pandas get_dummies method does this"
   ]
  },
  {
   "cell_type": "code",
   "execution_count": null,
   "id": "6776ba8c-c9cd-4ce2-948c-46e95ab49c77",
   "metadata": {},
   "outputs": [],
   "source": [
    "df[['odometer_value', 'color']].head()"
   ]
  },
  {
   "cell_type": "code",
   "execution_count": null,
   "id": "436706eb-3785-4b86-aa1e-7f1ac013dba9",
   "metadata": {},
   "outputs": [],
   "source": [
    "df_onehot = pd.get_dummies(df[['odometer_value', 'color']])"
   ]
  },
  {
   "cell_type": "code",
   "execution_count": null,
   "id": "686c4415-25e3-4270-ba50-8a446e836e14",
   "metadata": {},
   "outputs": [],
   "source": [
    "df_onehot.head()"
   ]
  },
  {
   "cell_type": "code",
   "execution_count": null,
   "id": "be3d55c3-d53f-4a65-acae-3c27a5d863e9",
   "metadata": {},
   "outputs": [],
   "source": [
    "df_onehot = pd.get_dummies(df, columns=['color'], prefix='onehot')"
   ]
  },
  {
   "cell_type": "code",
   "execution_count": null,
   "id": "229e082a-9d92-4411-87a8-64f4e6f17883",
   "metadata": {},
   "outputs": [],
   "source": [
    "df_onehot"
   ]
  },
  {
   "cell_type": "code",
   "execution_count": null,
   "id": "7646d5bb-8c94-4df1-9afe-bb5e8dbca88c",
   "metadata": {},
   "outputs": [],
   "source": []
  }
 ],
 "metadata": {
  "kernelspec": {
   "display_name": "Python 3 (ipykernel)",
   "language": "python",
   "name": "python3"
  },
  "language_info": {
   "codemirror_mode": {
    "name": "ipython",
    "version": 3
   },
   "file_extension": ".py",
   "mimetype": "text/x-python",
   "name": "python",
   "nbconvert_exporter": "python",
   "pygments_lexer": "ipython3",
   "version": "3.12.4"
  }
 },
 "nbformat": 4,
 "nbformat_minor": 5
}
