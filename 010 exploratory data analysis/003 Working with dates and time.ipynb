{
 "cells": [
  {
   "cell_type": "markdown",
   "id": "9edb6e66-041c-4142-9151-7068e6ed88b3",
   "metadata": {},
   "source": [
    "# Working with dates and times\n",
    "\n",
    "## Dates in python\n",
    "In python we use the datetime package to handle dates and times. There is plenty of functionality already built-in there ready to be used."
   ]
  },
  {
   "cell_type": "code",
   "execution_count": null,
   "id": "3f13c2a2-9747-47f5-9583-3a34dd0cc461",
   "metadata": {},
   "outputs": [],
   "source": [
    "from datetime import date"
   ]
  },
  {
   "cell_type": "code",
   "execution_count": null,
   "id": "dcb950c3-ef6d-4563-a75c-b1911418ec7c",
   "metadata": {},
   "outputs": [],
   "source": [
    "two_dates = [date(2014, 5, 13), date(2025, 1, 20)]"
   ]
  },
  {
   "cell_type": "code",
   "execution_count": null,
   "id": "ab713639-f641-4fe7-8520-da008154ed1c",
   "metadata": {},
   "outputs": [],
   "source": [
    "two_dates"
   ]
  },
  {
   "cell_type": "code",
   "execution_count": null,
   "id": "a3c61d3d-91e0-4902-b6f5-f0d650dd5f46",
   "metadata": {},
   "outputs": [],
   "source": [
    "two_dates[0].year"
   ]
  },
  {
   "cell_type": "code",
   "execution_count": null,
   "id": "8d76048e-bf3a-43ff-9b26-ec73f5522139",
   "metadata": {},
   "outputs": [],
   "source": [
    "two_dates[1].month"
   ]
  },
  {
   "cell_type": "markdown",
   "id": "ab208ac7-39d8-48e8-869c-fa6ec8508f5b",
   "metadata": {},
   "source": [
    "Weekdays in python starts from 0"
   ]
  },
  {
   "cell_type": "code",
   "execution_count": null,
   "id": "c1626e40-bdc3-4766-bd4a-7673526bd8d8",
   "metadata": {},
   "outputs": [],
   "source": [
    "two_dates[1].weekday()"
   ]
  },
  {
   "cell_type": "markdown",
   "id": "23d39bf6-683a-4aaf-8eea-5d484879225b",
   "metadata": {
    "execution": {
     "iopub.execute_input": "2024-07-16T12:24:38.581638Z",
     "iopub.status.busy": "2024-07-16T12:24:38.580703Z",
     "iopub.status.idle": "2024-07-16T12:24:38.596856Z",
     "shell.execute_reply": "2024-07-16T12:24:38.595900Z",
     "shell.execute_reply.started": "2024-07-16T12:24:38.581565Z"
    }
   },
   "source": [
    "### Math with python dates"
   ]
  },
  {
   "cell_type": "code",
   "execution_count": null,
   "id": "dec5d9b3-fd40-4c1e-8d1a-6c6b5c0a30d6",
   "metadata": {},
   "outputs": [],
   "source": [
    "diff = two_dates[1] - two_dates[0]\n",
    "diff"
   ]
  },
  {
   "cell_type": "code",
   "execution_count": null,
   "id": "6fa4411e-582e-42a4-9aa3-680213e203c0",
   "metadata": {},
   "outputs": [],
   "source": [
    "min(two_dates)"
   ]
  },
  {
   "cell_type": "code",
   "execution_count": null,
   "id": "a40d15c7-930e-4f22-b638-408d640df810",
   "metadata": {},
   "outputs": [],
   "source": [
    "max(two_dates)"
   ]
  },
  {
   "cell_type": "code",
   "execution_count": null,
   "id": "75e78ab1-5196-407f-ba23-11ead524de05",
   "metadata": {},
   "outputs": [],
   "source": [
    "from datetime import timedelta"
   ]
  },
  {
   "cell_type": "code",
   "execution_count": null,
   "id": "302c3720-0756-4ec9-a741-69a5b2b9e213",
   "metadata": {},
   "outputs": [],
   "source": [
    "td = timedelta(days=29)"
   ]
  },
  {
   "cell_type": "code",
   "execution_count": null,
   "id": "aa712c50-5fa8-49f1-9d64-f6fc83830f6b",
   "metadata": {},
   "outputs": [],
   "source": [
    "date(1999, 1, 1) + td"
   ]
  },
  {
   "cell_type": "code",
   "execution_count": null,
   "id": "49a168a6-785d-453f-be6b-84dd5be67bb3",
   "metadata": {},
   "outputs": [],
   "source": [
    "td.days"
   ]
  },
  {
   "cell_type": "code",
   "execution_count": null,
   "id": "db55da71-5aad-471d-b649-d76a1795e244",
   "metadata": {},
   "outputs": [],
   "source": [
    "unsorted_dates = [date(2014, 5, 13), date(2025, 1, 20), date(2005, 1, 20), date(2015, 1, 20)]\n",
    "\n",
    "sorted(unsorted_dates)"
   ]
  },
  {
   "cell_type": "markdown",
   "id": "5c1f717e-7fcb-42d7-88e8-c8bf7e83dd26",
   "metadata": {},
   "source": [
    "## Parsing and formatting\n"
   ]
  },
  {
   "cell_type": "code",
   "execution_count": null,
   "id": "69dfa253-e427-4061-9f1b-cbb8ead4f22a",
   "metadata": {},
   "outputs": [],
   "source": [
    "d = date(2017, 11, 5)\n",
    "print (d)"
   ]
  },
  {
   "cell_type": "markdown",
   "id": "4c7b04e0-6e83-42a3-80db-ab1646b50b7e",
   "metadata": {},
   "source": [
    "The default date format in datetime is the ISO 8601, that is YYYY-MM-DD"
   ]
  },
  {
   "cell_type": "code",
   "execution_count": null,
   "id": "dda2a90d-e00b-4c94-bf32-b77713055ec1",
   "metadata": {},
   "outputs": [],
   "source": [
    "d.isoformat()"
   ]
  },
  {
   "cell_type": "markdown",
   "id": "eb8adaed-6cf4-411e-80f3-9ab8b634d10e",
   "metadata": {},
   "source": [
    "If you want a date to be formatted in a different way, dtrftime():"
   ]
  },
  {
   "cell_type": "code",
   "execution_count": null,
   "id": "f1112ebb-f8af-465c-b83b-8c97873f22c1",
   "metadata": {},
   "outputs": [],
   "source": [
    "d.strftime('%Y')"
   ]
  },
  {
   "cell_type": "code",
   "execution_count": null,
   "id": "ca6889f3-3941-4e92-8318-747075cbbaa5",
   "metadata": {},
   "outputs": [],
   "source": [
    "d.strftime('%Y/%m/%d')"
   ]
  },
  {
   "cell_type": "markdown",
   "id": "11c1f658-3d21-4b4a-aa79-2cf75294f9bd",
   "metadata": {},
   "source": [
    "## Adding times"
   ]
  },
  {
   "cell_type": "code",
   "execution_count": null,
   "id": "859cc0c2-2c47-4a9e-9a00-f4fa72c14292",
   "metadata": {},
   "outputs": [],
   "source": [
    "from datetime import datetime"
   ]
  },
  {
   "cell_type": "code",
   "execution_count": null,
   "id": "1c385f7a-984a-4b65-be9f-e41877b1841f",
   "metadata": {},
   "outputs": [],
   "source": [
    "dt = datetime(2024, 12, 25, 12, 34, 56)\n",
    "dt"
   ]
  },
  {
   "cell_type": "code",
   "execution_count": null,
   "id": "7fec3494-540f-47f2-b75a-2b49ce9a130f",
   "metadata": {},
   "outputs": [],
   "source": [
    "dt.replace(month=5)"
   ]
  },
  {
   "cell_type": "code",
   "execution_count": null,
   "id": "89fd4a01-09f5-459f-9d45-7daa0bc2012d",
   "metadata": {},
   "outputs": [],
   "source": [
    "dt.strftime('%Y=%m-%d')"
   ]
  },
  {
   "cell_type": "code",
   "execution_count": null,
   "id": "5dbf13c1-0de7-4fb0-a5c6-9c4cb16ff401",
   "metadata": {},
   "outputs": [],
   "source": [
    "dt.strftime('%Y=%m-%d %H:%M:%S')"
   ]
  },
  {
   "cell_type": "code",
   "execution_count": null,
   "id": "9b6ed35f-97de-4a32-b9ec-341a13158d1f",
   "metadata": {},
   "outputs": [],
   "source": [
    "dt.isoformat()"
   ]
  },
  {
   "cell_type": "code",
   "execution_count": null,
   "id": "9efa7f25-fe76-4c4f-a32c-25696683cdb1",
   "metadata": {},
   "outputs": [],
   "source": [
    "datetime.strptime('2024-12-25 12:34:56', '%Y-%m-%d %H:%M:%S')"
   ]
  },
  {
   "cell_type": "code",
   "execution_count": null,
   "id": "f9818ae7-943d-40ae-8362-09b25ff3a7c2",
   "metadata": {},
   "outputs": [],
   "source": [
    "timestamp = 1776765153.0\n",
    "print(datetime.fromtimestamp(timestamp))"
   ]
  },
  {
   "cell_type": "markdown",
   "id": "df1e6d88-3938-4b40-a28d-41cdd90c4421",
   "metadata": {},
   "source": [
    "## Working with durations"
   ]
  },
  {
   "cell_type": "code",
   "execution_count": null,
   "id": "032f6ef5-7055-4535-a184-7b73e06e10e3",
   "metadata": {},
   "outputs": [],
   "source": [
    "start = datetime.strptime('2021-12-25 12:34:56', '%Y-%m-%d %H:%M:%S')\n",
    "end = datetime.strptime('2022-04-25 08:32:17', '%Y-%m-%d %H:%M:%S')\n",
    "\n",
    "duration = end - start\n",
    "\n",
    "duration"
   ]
  },
  {
   "cell_type": "code",
   "execution_count": null,
   "id": "b8eaad2d-362d-4146-a1ae-72caeb65deb9",
   "metadata": {},
   "outputs": [],
   "source": [
    "type(duration)"
   ]
  },
  {
   "cell_type": "code",
   "execution_count": null,
   "id": "112761f5-3947-442a-b774-7d8586b4f194",
   "metadata": {},
   "outputs": [],
   "source": [
    "duration.total_seconds()"
   ]
  },
  {
   "cell_type": "code",
   "execution_count": null,
   "id": "dc1dcce6-e193-4421-b457-9dd2cf8bb535",
   "metadata": {},
   "outputs": [],
   "source": [
    "from datetime import timedelta\n",
    "delta1 = timedelta(seconds=1)"
   ]
  },
  {
   "cell_type": "code",
   "execution_count": null,
   "id": "12eb733a-5b62-4374-b661-f210293dd32f",
   "metadata": {},
   "outputs": [],
   "source": [
    "delta2 = timedelta(days=1, seconds=1)"
   ]
  },
  {
   "cell_type": "code",
   "execution_count": null,
   "id": "82582415-3591-41b1-84cd-c1e0b723c383",
   "metadata": {},
   "outputs": [],
   "source": [
    "start + delta1"
   ]
  },
  {
   "cell_type": "markdown",
   "id": "d62bacc1-fbcb-4f0c-bdad-954f5efa4c29",
   "metadata": {
    "execution": {
     "iopub.execute_input": "2024-07-17T15:01:57.410943Z",
     "iopub.status.busy": "2024-07-17T15:01:57.409759Z",
     "iopub.status.idle": "2024-07-17T15:01:57.421576Z",
     "shell.execute_reply": "2024-07-17T15:01:57.419430Z",
     "shell.execute_reply.started": "2024-07-17T15:01:57.410869Z"
    }
   },
   "source": [
    "## Timezones"
   ]
  },
  {
   "cell_type": "code",
   "execution_count": null,
   "id": "4c79e384-20ea-4b58-bcf6-6850ae23427c",
   "metadata": {},
   "outputs": [],
   "source": [
    "from datetime import datetime, timedelta, timezone"
   ]
  },
  {
   "cell_type": "code",
   "execution_count": null,
   "id": "af21fd8b-7aa3-4f24-aba4-fa08a45e52a0",
   "metadata": {},
   "outputs": [],
   "source": [
    "onebike_datetimes=[{'start': datetime(2017, 10, 3, 19, 24, 10),\n",
    "  'end': datetime(2017, 10, 3, 19, 52, 8)},\n",
    " {'start': datetime(2017, 10, 3, 20, 17, 6),\n",
    "  'end': datetime(2017, 10, 3, 20, 23, 52)},\n",
    " {'start': datetime(2017, 10, 3, 20, 45, 21),\n",
    "  'end': datetime(2017, 10, 3, 20, 57, 10)},\n",
    " {'start': datetime(2017, 10, 4, 7, 4, 57),\n",
    "  'end': datetime(2017, 10, 4, 7, 13, 31)}]"
   ]
  },
  {
   "cell_type": "code",
   "execution_count": null,
   "id": "43f4e432-2785-46ba-bf45-0b1dbbadd328",
   "metadata": {},
   "outputs": [],
   "source": [
    "ET = timezone(timedelta(hours=-5))"
   ]
  },
  {
   "cell_type": "code",
   "execution_count": null,
   "id": "f6c0dff4-c6b4-47bd-a439-a830e91c2873",
   "metadata": {},
   "outputs": [],
   "source": [
    "dt = datetime(2021, 12, 25, 12, 34, 56,  tzinfo= ET)"
   ]
  },
  {
   "cell_type": "code",
   "execution_count": null,
   "id": "017fb441-7a2c-4d70-bb38-df9e0bd698d7",
   "metadata": {},
   "outputs": [],
   "source": [
    "dt"
   ]
  },
  {
   "cell_type": "code",
   "execution_count": null,
   "id": "3c132bbd-7cb7-439c-b9e8-d9aaeddb89c1",
   "metadata": {},
   "outputs": [],
   "source": [
    "pst = timezone(timedelta(hours=-8))\n",
    "\n",
    "dt = datetime(2017, 10, 1, 15, 26, 26, tzinfo=pst)\n",
    "\n",
    "print(dt.isoformat())"
   ]
  },
  {
   "cell_type": "code",
   "execution_count": null,
   "id": "0e328b64-601c-4ca6-b39a-b31e9833f164",
   "metadata": {},
   "outputs": [],
   "source": [
    "edt = timezone(timedelta(hours=-4))\n",
    "\n",
    "for trip in onebike_datetimes[:2]:\n",
    "  # Update trip['start'] and trip['end']\n",
    "  trip['start'] = trip['start'].replace(tzinfo=edt)\n",
    "  trip['end'] = trip['end'].replace(tzinfo=edt)"
   ]
  },
  {
   "cell_type": "code",
   "execution_count": null,
   "id": "a39e623b-0f5e-4998-b545-7f9d4931fb1c",
   "metadata": {},
   "outputs": [],
   "source": [
    "onebike_datetimes"
   ]
  },
  {
   "cell_type": "markdown",
   "id": "ca1303ed-d639-44bb-9c71-fb97e0a9249f",
   "metadata": {},
   "source": [
    "## Timezone databases"
   ]
  },
  {
   "cell_type": "code",
   "execution_count": null,
   "id": "f1ca7c77-f467-4c8b-a696-b2cb74d31a95",
   "metadata": {},
   "outputs": [],
   "source": [
    "from dateutil import tz"
   ]
  },
  {
   "cell_type": "code",
   "execution_count": null,
   "id": "1cd6fb65-d169-459a-b102-4a3e9c4d1345",
   "metadata": {},
   "outputs": [],
   "source": [
    "et = tz.gettz('America/New_York')"
   ]
  },
  {
   "cell_type": "code",
   "execution_count": null,
   "id": "f256ca2d-dba1-4724-9c86-d9107a51b5c8",
   "metadata": {},
   "outputs": [],
   "source": [
    "et"
   ]
  },
  {
   "cell_type": "code",
   "execution_count": null,
   "id": "d54d3aac-220b-4f00-ae80-ed38a2405ba6",
   "metadata": {},
   "outputs": [],
   "source": [
    "!cat /usr/share/zoneinfo/America/New_York"
   ]
  },
  {
   "cell_type": "code",
   "execution_count": null,
   "id": "a247994e-42a8-4771-a524-3f6fffbe0370",
   "metadata": {},
   "outputs": [],
   "source": [
    "last = datetime(2017,12,30,15, 9, 3, tzinfo=et)"
   ]
  },
  {
   "cell_type": "code",
   "execution_count": null,
   "id": "bb1ddfb6-2449-4020-bdd8-31e4d955628f",
   "metadata": {},
   "outputs": [],
   "source": [
    "print(last)"
   ]
  },
  {
   "cell_type": "code",
   "execution_count": null,
   "id": "6d278e9c-16b3-4dde-8302-9fa6af0493bf",
   "metadata": {},
   "outputs": [],
   "source": [
    "sm = tz.gettz('Pacific/Apia')\n",
    "\n",
    "local = datetime(2017,12,30,15, 9, 3)\n",
    "\n",
    "notlocal = local.astimezone(sm)\n",
    "\n",
    "print(local.isoformat())\n",
    "print(notlocal.isoformat())"
   ]
  },
  {
   "cell_type": "markdown",
   "id": "5884ded5-a55c-4e54-8bdc-6e8bed9871dd",
   "metadata": {},
   "source": [
    "## Daylight Saving Time"
   ]
  },
  {
   "cell_type": "code",
   "execution_count": null,
   "id": "8d473e6a-1b31-4a16-8a4b-15e0020ac764",
   "metadata": {},
   "outputs": [],
   "source": [
    "spring_ahead_159am = datetime(2017, 3, 12, 1, 59, 59)\n",
    "spring_ahead_159am.isoformat()"
   ]
  },
  {
   "cell_type": "code",
   "execution_count": null,
   "id": "08b85332-cc45-4a7e-b277-4a35ba134535",
   "metadata": {},
   "outputs": [],
   "source": [
    "spring_ahead_3am = datetime(2017, 3, 12, 3, 0, 0)\n",
    "\n",
    "(spring_ahead_3am - spring_ahead_159am).total_seconds()"
   ]
  },
  {
   "cell_type": "code",
   "execution_count": null,
   "id": "4943ff5a-cda5-48a3-bcbb-128d61af9e91",
   "metadata": {},
   "outputs": [],
   "source": [
    "# The issue is, there was no 2am that day in X region, because it was the way where clocks were adaapted from 2 to 3\n",
    "# How to solve this?"
   ]
  },
  {
   "cell_type": "code",
   "execution_count": null,
   "id": "2d6bcafd-8e5b-4a9d-97a9-b5f95aef55e2",
   "metadata": {},
   "outputs": [],
   "source": [
    "EST = timezone(timedelta(hours=-5))\n",
    "EDT = timezone(timedelta(hours=-4))\n",
    "\n",
    "spring_ahead_159am = spring_ahead_159am.replace(tzinfo=EST)\n",
    "spring_ahead_159am.isoformat()\n"
   ]
  },
  {
   "cell_type": "code",
   "execution_count": null,
   "id": "1b2c3818-8e52-4c1f-a6d3-bcf57d793ebb",
   "metadata": {},
   "outputs": [],
   "source": [
    "spring_ahead_3am=spring_ahead_3am.replace(tzinfo=EDT)\n",
    "spring_ahead_3am.isoformat()"
   ]
  },
  {
   "cell_type": "code",
   "execution_count": null,
   "id": "222c36f6-00ac-4c8a-b32a-fd879cfbdb3c",
   "metadata": {},
   "outputs": [],
   "source": [
    "(spring_ahead_3am - spring_ahead_159am).total_seconds()"
   ]
  },
  {
   "cell_type": "code",
   "execution_count": null,
   "id": "564bf3d7-3332-402f-a527-f33a53230bf1",
   "metadata": {},
   "outputs": [],
   "source": [
    "# But this approach sucks since this would require us to keep track of when the switching day is and so on"
   ]
  },
  {
   "cell_type": "code",
   "execution_count": null,
   "id": "736d1212-b2f5-4f73-8f58-fbce74aea1be",
   "metadata": {},
   "outputs": [],
   "source": [
    "eastern = tz.gettz('America/New_York')\n",
    "\n",
    "spring_ahead_159am = datetime(2017, 3, 12, 1, 59, 59, tzinfo = eastern)\n",
    "spring_ahead_3am = datetime(2017, 3, 12, 3, 0, 0, tzinfo = eastern)\n",
    "\n",
    "(spring_ahead_3am - spring_ahead_159am).total_seconds()"
   ]
  },
  {
   "cell_type": "code",
   "execution_count": null,
   "id": "f534174a-c2b2-43b6-9deb-451df720aaf5",
   "metadata": {},
   "outputs": [],
   "source": [
    "# When the clocks are back from 3am to 2am, to restore the usual time delta the methods ddatetime_ambibuaous and enfold are of help"
   ]
  },
  {
   "cell_type": "markdown",
   "id": "cc568ac6-8776-4a06-bf17-bcfb6c35bf43",
   "metadata": {},
   "source": [
    "# Dates and times in Pandas"
   ]
  },
  {
   "cell_type": "code",
   "execution_count": null,
   "id": "4c95c8f6-02ea-4b53-b785-593199957ff8",
   "metadata": {},
   "outputs": [],
   "source": [
    "import pandas as pd"
   ]
  },
  {
   "cell_type": "code",
   "execution_count": null,
   "id": "15e65309-8de4-4143-82c9-ef48776994dc",
   "metadata": {},
   "outputs": [],
   "source": [
    "rides = pd.read_csv('../data/capital-onebike.csv')"
   ]
  },
  {
   "cell_type": "code",
   "execution_count": null,
   "id": "97f79d1c-dd27-4804-8486-43debed6f0e9",
   "metadata": {},
   "outputs": [],
   "source": [
    "rides.head()"
   ]
  },
  {
   "cell_type": "code",
   "execution_count": null,
   "id": "d8c9209b-81b9-4380-b874-f73270cf30a3",
   "metadata": {},
   "outputs": [],
   "source": [
    "rides['Start date']"
   ]
  },
  {
   "cell_type": "code",
   "execution_count": null,
   "id": "b460b2ef-2477-4fe5-9743-4374edbfa0ac",
   "metadata": {},
   "outputs": [],
   "source": [
    "rides.iloc[2]"
   ]
  },
  {
   "cell_type": "code",
   "execution_count": null,
   "id": "815d35de-da55-402e-be68-4ff83026a932",
   "metadata": {},
   "outputs": [],
   "source": [
    "rides.dtypes"
   ]
  },
  {
   "cell_type": "code",
   "execution_count": null,
   "id": "fd42dd73-4042-4971-bf9c-b7ccc2f49b25",
   "metadata": {},
   "outputs": [],
   "source": [
    "rides = pd.read_csv('../data/capital-onebike.csv', parse_dates=['Start date', 'End date'])"
   ]
  },
  {
   "cell_type": "code",
   "execution_count": null,
   "id": "fe48a4cc-24da-48bc-aad8-53f3bd9a8b4c",
   "metadata": {},
   "outputs": [],
   "source": [
    "rides.dtypes"
   ]
  },
  {
   "cell_type": "code",
   "execution_count": null,
   "id": "3d29b296-2ebe-44f4-8c9b-1ce919e16376",
   "metadata": {},
   "outputs": [],
   "source": [
    "rides['duration'] = rides['End date'] - rides['Start date']"
   ]
  },
  {
   "cell_type": "code",
   "execution_count": null,
   "id": "acf23c44-d955-4ef6-8d91-00162681394c",
   "metadata": {},
   "outputs": [],
   "source": [
    "rides.dtypes"
   ]
  },
  {
   "cell_type": "code",
   "execution_count": null,
   "id": "dd787475-4a07-4a79-9856-a6d368012ed8",
   "metadata": {},
   "outputs": [],
   "source": [
    "rides.head()"
   ]
  },
  {
   "cell_type": "code",
   "execution_count": null,
   "id": "3f6b32fc-b389-40bf-9598-bf2fb8c85eda",
   "metadata": {},
   "outputs": [],
   "source": [
    "rides['duration seconds'] = rides['duration'].dt.total_seconds()"
   ]
  },
  {
   "cell_type": "code",
   "execution_count": null,
   "id": "d60fd089-a127-43da-a27c-30fc1e6ee3bd",
   "metadata": {},
   "outputs": [],
   "source": [
    "rides.head()"
   ]
  },
  {
   "cell_type": "code",
   "execution_count": null,
   "id": "de37fbe1-9a1f-4b06-95a8-b067702eeb6d",
   "metadata": {},
   "outputs": [],
   "source": [
    "rides.dtypes"
   ]
  },
  {
   "cell_type": "code",
   "execution_count": null,
   "id": "e4816bf6-1ef0-43c7-b29b-cfb7b329eb31",
   "metadata": {},
   "outputs": [],
   "source": [
    "rides.duration.mean()"
   ]
  },
  {
   "cell_type": "code",
   "execution_count": null,
   "id": "83a1d2f4-fb69-48bd-b3b7-ab63a3aa1a5f",
   "metadata": {},
   "outputs": [],
   "source": [
    "rides['duration'] = rides['End date'] - rides['Start date']\n",
    "rides.duration.sum()/timedelta(days=91)"
   ]
  },
  {
   "cell_type": "code",
   "execution_count": null,
   "id": "cc5e7143-63e8-4b25-8073-f9f83c83f20d",
   "metadata": {},
   "outputs": [],
   "source": [
    "# average duration by month\n",
    "\n",
    "rides.resample('M', on = 'Start date')['duration seconds'].mean()"
   ]
  },
  {
   "cell_type": "code",
   "execution_count": null,
   "id": "96642dc2-f027-4595-94b8-9347f91982b4",
   "metadata": {},
   "outputs": [],
   "source": [
    "# There is no timezone associated to the datetimes in the dataframe, so...\n",
    "rides['duration'].dt.total_seconds().min()"
   ]
  },
  {
   "cell_type": "code",
   "execution_count": null,
   "id": "3aeba4eb-1c74-4b38-b6bc-5e48343e0d4b",
   "metadata": {},
   "outputs": [],
   "source": [
    "# Lets assign a time zone to the datetime columns\n",
    "rides['Start date'].head().dt.tz_localize('America/New_York')"
   ]
  },
  {
   "cell_type": "code",
   "execution_count": null,
   "id": "dbc8c6c2-31f0-40db-9b3c-3aad8bbb52e5",
   "metadata": {},
   "outputs": [],
   "source": [
    "rides['Start date']=rides['Start date'].dt.tz_localize('America/New_York')"
   ]
  },
  {
   "cell_type": "code",
   "execution_count": null,
   "id": "ac6ad254-7a6d-477c-a046-099ca132c6f6",
   "metadata": {},
   "outputs": [],
   "source": [
    "rides['Start date']=rides['Start date'].dt.tz_localize('America/New_York', ambiguous='NaT')"
   ]
  },
  {
   "cell_type": "code",
   "execution_count": null,
   "id": "b68eb147-cbe2-4bde-b452-e2ef14d50343",
   "metadata": {},
   "outputs": [],
   "source": [
    "rides.iloc[129]"
   ]
  },
  {
   "cell_type": "code",
   "execution_count": null,
   "id": "7f3ca46f-67a7-4516-8c68-da44c6930e4f",
   "metadata": {},
   "outputs": [],
   "source": [
    "rides['Start date'].dt.year"
   ]
  },
  {
   "cell_type": "code",
   "execution_count": null,
   "id": "83605774-2db7-4b8e-b3d6-a6923ff47a3e",
   "metadata": {},
   "outputs": [],
   "source": [
    "rides['Start date'].dt.day_name()"
   ]
  },
  {
   "cell_type": "code",
   "execution_count": null,
   "id": "b6b0524e-b95c-4021-a59e-bb7f39bd1938",
   "metadata": {},
   "outputs": [],
   "source": [
    "rides['Start date'].shift(1).head(3)"
   ]
  },
  {
   "cell_type": "code",
   "execution_count": null,
   "id": "2ea159d8-a8b6-4acc-95a6-b7881e7bbf80",
   "metadata": {},
   "outputs": [],
   "source": [
    "rides['Start date'].head(3)"
   ]
  },
  {
   "cell_type": "code",
   "execution_count": null,
   "id": "86dfd914-7356-4b90-8c19-f80522d049d4",
   "metadata": {},
   "outputs": [],
   "source": []
  }
 ],
 "metadata": {
  "kernelspec": {
   "display_name": "Python 3 (ipykernel)",
   "language": "python",
   "name": "python3"
  },
  "language_info": {
   "codemirror_mode": {
    "name": "ipython",
    "version": 3
   },
   "file_extension": ".py",
   "mimetype": "text/x-python",
   "name": "python",
   "nbconvert_exporter": "python",
   "pygments_lexer": "ipython3",
   "version": "3.12.4"
  }
 },
 "nbformat": 4,
 "nbformat_minor": 5
}
