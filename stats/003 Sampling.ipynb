{
 "cells": [
  {
   "cell_type": "markdown",
   "id": "d33e2dc2-8a2a-4b36-abd0-f390533df636",
   "metadata": {},
   "source": [
    "# Sampling"
   ]
  },
  {
   "cell_type": "code",
   "execution_count": null,
   "id": "19ea2f97-9474-4e29-9d7c-359a944c2ff7",
   "metadata": {},
   "outputs": [],
   "source": [
    "import pandas as pd \n",
    "import numpy as np\n",
    "import seaborn as sns"
   ]
  },
  {
   "cell_type": "markdown",
   "id": "bdb41ded-5790-4e25-bf87-0da7db5d03be",
   "metadata": {},
   "source": [
    "## Population vs Sample\n",
    "\n",
    "The **population** is the complete dataset. It doesnt have to refer to people. Typically we dont know what the whole population is.\n",
    "\n",
    "The **sample** is the subset of data you calculate on."
   ]
  },
  {
   "cell_type": "code",
   "execution_count": null,
   "id": "4878aa95-1a8e-4d0c-8fef-ec2a3eda7cdb",
   "metadata": {},
   "outputs": [],
   "source": [
    "# The following dataset corresponds to a set of professional evaluations of coffees\n",
    "coffee = pd.read_feather('../data/coffee_ratings_full.feather')"
   ]
  },
  {
   "cell_type": "code",
   "execution_count": null,
   "id": "9c1edbe3-d7f4-4f49-820b-f14f7ee20025",
   "metadata": {},
   "outputs": [],
   "source": [
    "coffee.head()"
   ]
  },
  {
   "cell_type": "code",
   "execution_count": null,
   "id": "2e6ede5f-a338-4294-b8f2-e7505b9fef79",
   "metadata": {},
   "outputs": [],
   "source": [
    "coffee.shape"
   ]
  },
  {
   "cell_type": "code",
   "execution_count": null,
   "id": "735c8a15-b299-4b56-a3cf-0d33c150ad0e",
   "metadata": {},
   "outputs": [],
   "source": [
    "coffee.dtypes"
   ]
  },
  {
   "cell_type": "code",
   "execution_count": null,
   "id": "bf940f26-11e2-44dd-92df-84c2efee4de0",
   "metadata": {},
   "outputs": [],
   "source": [
    "coffee['variety'] = coffee.variety.astype('category')"
   ]
  },
  {
   "cell_type": "markdown",
   "id": "a8116767-c7d5-4a7d-80ea-58cd38b602d2",
   "metadata": {},
   "source": [
    "The 1338 observations of the coffee dataset correspond to a sample, and not to the population of the kinds of existing coffee varieties. Yet, in our particular context lets consider this dataset as our population.\n",
    "\n",
    "We can take a sample of this *population* using the *.sample()* method."
   ]
  },
  {
   "cell_type": "code",
   "execution_count": null,
   "id": "e32a48bd-e859-4e09-86b8-aba3ad5b5def",
   "metadata": {},
   "outputs": [],
   "source": [
    "coffee_samp = coffee.sample(n=10)\n",
    "coffee_samp"
   ]
  },
  {
   "cell_type": "markdown",
   "id": "9b3357db-5b20-44a8-95cb-860cce491f00",
   "metadata": {
    "execution": {
     "iopub.execute_input": "2024-07-28T15:49:52.988516Z",
     "iopub.status.busy": "2024-07-28T15:49:52.987452Z",
     "iopub.status.idle": "2024-07-28T15:49:53.000480Z",
     "shell.execute_reply": "2024-07-28T15:49:52.997440Z",
     "shell.execute_reply.started": "2024-07-28T15:49:52.988441Z"
    }
   },
   "source": [
    "## Population parameters and point estimates\n",
    "\n",
    "A **population parameter** is a calculation made on the population dataset.\n",
    "\n",
    "\n"
   ]
  },
  {
   "cell_type": "code",
   "execution_count": null,
   "id": "808113cf-f079-4adb-88a4-214d9df0059e",
   "metadata": {},
   "outputs": [],
   "source": [
    "np.mean(coffee.aftertaste)"
   ]
  },
  {
   "cell_type": "code",
   "execution_count": null,
   "id": "2092fe9c-3e24-4388-b34e-ea5dc37e40f5",
   "metadata": {},
   "outputs": [],
   "source": [
    "coffee.aftertaste.mean()"
   ]
  },
  {
   "cell_type": "markdown",
   "id": "5960ce35-4e67-4499-8175-dfed646c73f7",
   "metadata": {},
   "source": [
    "A **point estimate** or sample statistic is a calculation made on the sample dataset"
   ]
  },
  {
   "cell_type": "code",
   "execution_count": null,
   "id": "53d6a8f0-e17d-4ee6-bb90-119a12a07315",
   "metadata": {},
   "outputs": [],
   "source": [
    "np.mean(coffee_samp.aftertaste)"
   ]
  },
  {
   "cell_type": "code",
   "execution_count": null,
   "id": "940579a9-19ab-45f9-b38e-750684064aac",
   "metadata": {},
   "outputs": [],
   "source": [
    "coffee_samp.aftertaste.mean()"
   ]
  },
  {
   "cell_type": "markdown",
   "id": "0878a92d-2b57-4392-ad7a-cd49d99bed4f",
   "metadata": {
    "execution": {
     "iopub.execute_input": "2024-07-28T15:57:56.221062Z",
     "iopub.status.busy": "2024-07-28T15:57:56.220332Z",
     "iopub.status.idle": "2024-07-28T15:57:56.229038Z",
     "shell.execute_reply": "2024-07-28T15:57:56.226062Z",
     "shell.execute_reply.started": "2024-07-28T15:57:56.221020Z"
    }
   },
   "source": [
    "## Convenience sample\n",
    "\n",
    "**Sample bias** is a problem caused when the sample is not representative of the population.\n",
    "Collecting data by the easiest method is called *convenience sampling* and often causes sample bias.\n",
    "\n",
    "Plotting histograms of the sample vs population helps identifying selection bias"
   ]
  },
  {
   "cell_type": "code",
   "execution_count": null,
   "id": "4fec8424-b746-44e5-8123-0abb652d4c76",
   "metadata": {},
   "outputs": [],
   "source": [
    "coffee_bad_samp = coffee.head(10)"
   ]
  },
  {
   "cell_type": "code",
   "execution_count": null,
   "id": "9ba6eb6c-97a4-4f8f-aadb-7c9b1e04d9f3",
   "metadata": {},
   "outputs": [],
   "source": [
    "coffee.total_cup_points.hist(bins=np.arange(0,101, 1))"
   ]
  },
  {
   "cell_type": "code",
   "execution_count": null,
   "id": "b6727362-dba0-47d4-a4bb-3e5cce9ec4f4",
   "metadata": {},
   "outputs": [],
   "source": [
    "coffee_samp.total_cup_points.hist(bins=np.arange(0,101, 1))"
   ]
  },
  {
   "cell_type": "code",
   "execution_count": null,
   "id": "feb7ee27-ee2c-4a2a-b321-556aa882af8f",
   "metadata": {},
   "outputs": [],
   "source": [
    "coffee_bad_samp.total_cup_points.hist(bins=np.arange(0,101, 1))"
   ]
  },
  {
   "cell_type": "markdown",
   "id": "d09e8a28-6e96-425e-9d1f-ada608e78527",
   "metadata": {},
   "source": [
    "The random sample seems more representative than the head one."
   ]
  },
  {
   "cell_type": "markdown",
   "id": "ece6bf9f-54dd-4b49-b71b-b59fbc55677a",
   "metadata": {},
   "source": [
    "## Pseudo-random number generation\n",
    "\n",
    "Random numbers cannot be known beforehand. True randomness is expensive. Pseudorandomness is a good workaround.\n",
    "\n",
    "Pseudo-random number generation is cheap and fast.\n",
    "Next random number is calculated from the previous one.\n",
    "The first one is calculated from a *seed*.\n",
    "All future values are always the same.##\n",
    "\n",
    "Numpy has many number generators from different statistical distributions under numpy.random"
   ]
  },
  {
   "cell_type": "code",
   "execution_count": null,
   "id": "e9f9c92b-e3e4-4aa2-b160-fe7605e42d71",
   "metadata": {},
   "outputs": [],
   "source": [
    "import numpy.random as random\n",
    "\n",
    "betas = random.beta(a=2, b=2, size=5000)\n",
    "betas\n",
    "                   "
   ]
  },
  {
   "cell_type": "code",
   "execution_count": null,
   "id": "1fde97fa-1885-4edf-a411-c5eebbf9df12",
   "metadata": {},
   "outputs": [],
   "source": [
    "sns.histplot(data=betas)"
   ]
  },
  {
   "cell_type": "markdown",
   "id": "8e1c79d3-66a5-4bb3-b5cd-06eed1f9d586",
   "metadata": {},
   "source": [
    "Numpy allows us to set the seed so our code is reproducible."
   ]
  },
  {
   "cell_type": "code",
   "execution_count": null,
   "id": "5d193a61-eb11-4b58-a208-5a6e1b991f00",
   "metadata": {},
   "outputs": [],
   "source": [
    "random.seed(42)"
   ]
  },
  {
   "cell_type": "code",
   "execution_count": null,
   "id": "1b237b11-2251-40cc-b835-c3ef38d5bd82",
   "metadata": {},
   "outputs": [],
   "source": [
    "normals = random.normal(loc=2, scale=1.5, size=2000)\n",
    "sns.histplot(normals)"
   ]
  },
  {
   "cell_type": "markdown",
   "id": "519b5aae-41af-4a9a-a733-4b2ca45fb48c",
   "metadata": {},
   "source": [
    "## Simple Random and Systematic Sampling \n",
    "\n",
    "### Simple Random Sampling\n",
    "\n",
    "Its like a raffle. We take n random examples, one at a time. The pandas .sample method for instance."
   ]
  },
  {
   "cell_type": "code",
   "execution_count": null,
   "id": "db5d07ea-f297-4895-9c4a-6c228b6bd939",
   "metadata": {},
   "outputs": [],
   "source": [
    "sample = coffee.sample(n=10)"
   ]
  },
  {
   "cell_type": "markdown",
   "id": "d28865c0-bad6-4fc2-aa70-fed0c40bd503",
   "metadata": {},
   "source": [
    "### Systematic Random Sampling \n",
    "\n",
    "Picks random samples with a fixed interval. There is no pandas implementation for this, but the .iloc[::interval] works.\n",
    "The systematic random sampling is only safe when there is no pattern in the data. Sampling the whole dataset avoids problems caused by patterns in the original dataset."
   ]
  },
  {
   "cell_type": "code",
   "execution_count": null,
   "id": "096f4af6-0570-48b6-8fb6-12e59b8a8760",
   "metadata": {},
   "outputs": [],
   "source": [
    "size = len(coffee)\n",
    "sample_size = 10\n",
    "interval = size//sample_size\n",
    "sample_sys = coffee[::interval]"
   ]
  },
  {
   "cell_type": "markdown",
   "id": "1d86bddf-ad56-4dd5-874f-ed026cf18eed",
   "metadata": {},
   "source": [
    "sampling the whole dataset:"
   ]
  },
  {
   "cell_type": "code",
   "execution_count": null,
   "id": "73ae7113-d75d-49d9-b76b-e801eceef5d9",
   "metadata": {},
   "outputs": [],
   "source": [
    "shuffled = coffee.sample(frac=1)"
   ]
  },
  {
   "cell_type": "code",
   "execution_count": null,
   "id": "d88dc741-f69d-40e8-8d4f-e5d23825782f",
   "metadata": {},
   "outputs": [],
   "source": [
    "shuffled"
   ]
  },
  {
   "cell_type": "markdown",
   "id": "1a3c0790-b402-4c04-8117-f1b0e45dbb31",
   "metadata": {},
   "source": [
    "## Stratified and weighted random sampling\n"
   ]
  },
  {
   "cell_type": "code",
   "execution_count": null,
   "id": "c574bb42-e16b-457c-991e-a6d2eb2d812d",
   "metadata": {},
   "outputs": [],
   "source": [
    "coffee.country_of_origin.value_counts(normalize=True)"
   ]
  },
  {
   "cell_type": "code",
   "execution_count": null,
   "id": "0beffdbe-5385-48c4-8167-05dbc4fcb06d",
   "metadata": {},
   "outputs": [],
   "source": [
    "coffee_sample = coffee.sample(frac=0.1, random_state=42)\n",
    "coffee_sample.country_of_origin.value_counts(normalize=True)"
   ]
  },
  {
   "cell_type": "markdown",
   "id": "dd749119-17c4-4f67-9ec2-6a521615de72",
   "metadata": {},
   "source": [
    "If we care about the proportions of each category in the sample, being closer to the ones of the original population, we can group by before sampling:"
   ]
  },
  {
   "cell_type": "code",
   "execution_count": null,
   "id": "b07e274c-db2d-47ef-95f9-b4259f002364",
   "metadata": {},
   "outputs": [],
   "source": [
    "coffee_strat = coffee.groupby(\"country_of_origin\").sample(frac=0.1, random_state=42)\n",
    "coffee_strat.country_of_origin.value_counts(normalize=True)"
   ]
  },
  {
   "cell_type": "markdown",
   "id": "0db3c6f9-55ba-4a89-acb2-850a63b08b54",
   "metadata": {},
   "source": [
    "If we want the same amount of elements by category:"
   ]
  },
  {
   "cell_type": "code",
   "execution_count": null,
   "id": "5906d7ac-45be-464d-800d-1438524387bd",
   "metadata": {},
   "outputs": [],
   "source": [
    "coffee_strat_eq = coffee.groupby(\"country_of_origin\").sample(n=1, random_state=42)\n",
    "coffee_strat_eq.country_of_origin.value_counts(normalize=True)"
   ]
  },
  {
   "cell_type": "markdown",
   "id": "764c9233-49ca-48c6-a1e5-d5e68de292d8",
   "metadata": {},
   "source": [
    "In this dataset, there are countries with only one observation, so we cannot have more than 1 per group if we dont do the sampling with Replacement.\n",
    "\n",
    "Another way of doing sampling is taking into account weights: adding a column with weights to the dataframe and passing it to the sampling method.\n",
    "\n"
   ]
  },
  {
   "cell_type": "markdown",
   "id": "7759da6b-7b43-4a6f-97f8-a54c61b96b0d",
   "metadata": {},
   "source": [
    "## Cluster Sampling\n",
    "\n",
    "The problem with stratified samping is we need to collect data from each group. This could be a problem in terms of time and/or money.\n",
    "\n",
    "When collecting data is expensive, we can use **cluster sampling**\n",
    "\n",
    "Cluster sampling uses simple random sampling to pick some subgroups and use simple random sampling on those subgroups.\n",
    "\n",
    "Cluster sampling is an example of multistage sampling."
   ]
  },
  {
   "cell_type": "code",
   "execution_count": null,
   "id": "87c2c4fb-19f2-4ac9-a016-1ff6b1519be6",
   "metadata": {},
   "outputs": [],
   "source": [
    "varieties_pop = list(coffee.variety.unique())\n",
    "varieties_pop"
   ]
  },
  {
   "cell_type": "code",
   "execution_count": null,
   "id": "1b0c9e8e-1646-442e-9c3b-a696075638fd",
   "metadata": {},
   "outputs": [],
   "source": [
    "# Step 1:\n",
    "import random\n",
    "\n",
    "varieties_samp = random.sample(varieties_pop, k=3)\n",
    "varieties_samp"
   ]
  },
  {
   "cell_type": "code",
   "execution_count": null,
   "id": "1ca25bb3-39b7-4c48-b3e9-84201513b33a",
   "metadata": {},
   "outputs": [],
   "source": [
    "# Step 2:\n",
    "variety_condition = coffee.variety.isin(varieties_samp)\n",
    "coffee_cluster = coffee[variety_condition]\n",
    "\n",
    "coffee_cluster['variety'] = coffee_cluster['variety'].cat.remove_unused_categories()"
   ]
  },
  {
   "cell_type": "code",
   "execution_count": null,
   "id": "e2fb9190-b535-4095-a057-63884fbc819a",
   "metadata": {},
   "outputs": [],
   "source": [
    "coffee_cluster.groupby('variety').sample(n=5, random_state=42)"
   ]
  },
  {
   "cell_type": "code",
   "execution_count": null,
   "id": "2b9e9f5f-6ba6-46f5-903f-aecfc39d851f",
   "metadata": {},
   "outputs": [],
   "source": []
  },
  {
   "cell_type": "code",
   "execution_count": null,
   "id": "883234ea-a6a8-4b4c-a9c0-4e78b9f5d000",
   "metadata": {},
   "outputs": [],
   "source": []
  }
 ],
 "metadata": {
  "language_info": {
   "name": "python"
  }
 },
 "nbformat": 4,
 "nbformat_minor": 5
}
