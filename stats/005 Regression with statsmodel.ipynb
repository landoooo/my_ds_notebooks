{
 "cells": [
  {
   "cell_type": "markdown",
   "id": "8662fb73-cb96-431a-b381-dd8ff8b15c75",
   "metadata": {},
   "source": [
    "# Regression"
   ]
  },
  {
   "cell_type": "code",
   "execution_count": null,
   "id": "683bb1ce-5e23-4581-8b7d-9624b122ef53",
   "metadata": {},
   "outputs": [],
   "source": [
    "import pandas as pd \n",
    "import numpy as np\n",
    "import seaborn as sns\n",
    "import matplotlib.pyplot as plt\n",
    "import statsmodels as sm\n",
    "import warnings\n",
    "\n",
    "warnings.filterwarnings('ignore')\n",
    "sns.set_style('whitegrid')"
   ]
  },
  {
   "cell_type": "markdown",
   "id": "73df992f-633d-44e0-aeb8-6778b57e0725",
   "metadata": {},
   "source": [
    "Regression is a statistical tool to analyze the relationships between variables.\n",
    "Its composed of many statistical models to explore the relationship between a response variable (dependent variable) and some exploratory variables (independent variables), so, given values of the explanatory variables we can predict the values of the response variable.\n",
    "\n",
    "Two main types:\n",
    "- Linear Regression: the response variable is numeric\n",
    "- Logistic Regression: the response variable is logical (True or False values)\n",
    "\n",
    "## Before start\n",
    "\n",
    "Before playing with any regression, **visualize the data**.\n",
    "**Scatterplots** are very interesting as this stage. **Regplot** adds a trend line to the scatterplot."
   ]
  },
  {
   "cell_type": "code",
   "execution_count": null,
   "id": "8a93a724-3a57-444d-90d4-bd0e8264c519",
   "metadata": {},
   "outputs": [],
   "source": [
    "taiwan_real_estate = pd.read_csv('../data/taiwan_real_estate2.csv')\n",
    "taiwan_real_estate.head()"
   ]
  },
  {
   "cell_type": "code",
   "execution_count": null,
   "id": "b3463932-480f-4686-a374-c54a926c41b3",
   "metadata": {},
   "outputs": [],
   "source": [
    "taiwan_real_estate['house_age_years'] = taiwan_real_estate['house_age_years'].astype('category')"
   ]
  },
  {
   "cell_type": "code",
   "execution_count": null,
   "id": "634cd682-b16c-48b6-ad04-224cb91743a8",
   "metadata": {},
   "outputs": [],
   "source": [
    "taiwan_real_estate.info()"
   ]
  },
  {
   "cell_type": "markdown",
   "id": "53669200-b941-4318-87e8-3cc43ca77385",
   "metadata": {},
   "source": [
    "To keep it simple, lets focus on the simple linear regression, that is, using a single explanatory variable to predict the response variable. In this case, lets use the *n_convinience* variable to predict *price_twd_msq*"
   ]
  },
  {
   "cell_type": "code",
   "execution_count": null,
   "id": "bcce6d66-65bf-4b15-a523-2e2622e16e8d",
   "metadata": {},
   "outputs": [],
   "source": [
    "sns.scatterplot(data=taiwan_real_estate, x='n_convenience', y='price_twd_msq')\n",
    "plt.show()"
   ]
  },
  {
   "cell_type": "code",
   "execution_count": null,
   "id": "0fbd4e5a-fefe-4b01-beeb-e07956b8bfa9",
   "metadata": {},
   "outputs": [],
   "source": [
    "sns.regplot(x='n_convenience',\n",
    "         y='price_twd_msq',\n",
    "         data=taiwan_real_estate,\n",
    "         ci=90,\n",
    "         scatter_kws={'alpha': 0.5})"
   ]
  },
  {
   "cell_type": "markdown",
   "id": "fd5d6029-c55b-447a-ac04-ed40ab04b5a3",
   "metadata": {},
   "source": [
    "The fitted lines are defined by:\n",
    "- Intercept: y value at x=0\n",
    "- Slope: steepness. The amount the y value increases when x increases 1 unit\n",
    "\n",
    "$$\n",
    "  y = intercept + slope*x\n",
    "$$"
   ]
  },
  {
   "cell_type": "markdown",
   "id": "895f4439-d935-4b14-9720-da1e68868c77",
   "metadata": {
    "execution": {
     "iopub.execute_input": "2024-07-22T15:28:45.391159Z",
     "iopub.status.busy": "2024-07-22T15:28:45.390206Z",
     "iopub.status.idle": "2024-07-22T15:28:45.401597Z",
     "shell.execute_reply": "2024-07-22T15:28:45.400141Z",
     "shell.execute_reply.started": "2024-07-22T15:28:45.391082Z"
    }
   },
   "source": [
    "## Run the linear regression model"
   ]
  },
  {
   "cell_type": "code",
   "execution_count": null,
   "id": "4d447328-8516-45e1-b166-aa9c815899ab",
   "metadata": {},
   "outputs": [],
   "source": [
    "from statsmodels.formula.api import ols"
   ]
  },
  {
   "cell_type": "code",
   "execution_count": null,
   "id": "a625ca70-42c4-4c3c-8c55-f55604ad8b33",
   "metadata": {},
   "outputs": [],
   "source": [
    "mdl_price_vs_conv = ols(\"price_twd_msq ~ n_convenience\",\n",
    "                           data=taiwan_real_estate)"
   ]
  },
  {
   "cell_type": "code",
   "execution_count": null,
   "id": "7ea1c788-76d6-481c-8094-652d1fddc3bf",
   "metadata": {},
   "outputs": [],
   "source": [
    "mdl_price_vs_conv = mdl_price_vs_conv.fit()"
   ]
  },
  {
   "cell_type": "code",
   "execution_count": null,
   "id": "76779838-5025-4816-97fc-e24c13bcee1a",
   "metadata": {},
   "outputs": [],
   "source": [
    "print(mdl_price_vs_conv.params)"
   ]
  },
  {
   "cell_type": "markdown",
   "id": "4e2b9b90-0e6e-43e2-a3fa-3b10f632a4f3",
   "metadata": {},
   "source": [
    "On average, a house with zero convenience stores nearby had a price of 8.2242 TWD per square meter.\n",
    "\n",
    "If you increase the number of nearby convenience stores by one, then the expected increase in house price is 0.7981 TWD per square meter.\n",
    "\n"
   ]
  },
  {
   "cell_type": "markdown",
   "id": "a5ff7750-5728-4288-8b36-9717fc809808",
   "metadata": {
    "execution": {
     "iopub.execute_input": "2024-07-22T15:48:47.106432Z",
     "iopub.status.busy": "2024-07-22T15:48:47.105556Z",
     "iopub.status.idle": "2024-07-22T15:48:47.117844Z",
     "shell.execute_reply": "2024-07-22T15:48:47.114933Z",
     "shell.execute_reply.started": "2024-07-22T15:48:47.106388Z"
    }
   },
   "source": [
    "## Run the linear Regression Model using a categorical variable\n",
    "Lets predict the price using the age of the property."
   ]
  },
  {
   "cell_type": "code",
   "execution_count": null,
   "id": "f436ac2f-2963-4ed6-8bbe-db162106a513",
   "metadata": {},
   "outputs": [],
   "source": [
    "taiwan_real_estate.house_age_years.value_counts()"
   ]
  },
  {
   "cell_type": "markdown",
   "id": "4c44dff7-f74e-4ce1-9780-4c5a8158b969",
   "metadata": {},
   "source": [
    "The '0 to 15' value will be used as the baseline. The other coeficients will be calculated in relation to that one"
   ]
  },
  {
   "cell_type": "code",
   "execution_count": null,
   "id": "431d05b1-d9ef-4325-baf8-11a699eb51fe",
   "metadata": {},
   "outputs": [],
   "source": [
    "sns.displot(data=taiwan_real_estate,\n",
    "            x=\"price_twd_msq\",\n",
    "            col=\"house_age_years\",\n",
    "            bins=10)"
   ]
  },
  {
   "cell_type": "code",
   "execution_count": null,
   "id": "7a8e21c2-db5c-4084-9810-675ab811b023",
   "metadata": {},
   "outputs": [],
   "source": [
    "mdl_price_vs_age = ols(\"price_twd_msq ~ house_age_years\",\n",
    "                           data=taiwan_real_estate)"
   ]
  },
  {
   "cell_type": "code",
   "execution_count": null,
   "id": "85cd5fe6-b8d9-479b-91ae-dea973ca396a",
   "metadata": {},
   "outputs": [],
   "source": [
    "mdl_price_vs_age=mdl_price_vs_age.fit()"
   ]
  },
  {
   "cell_type": "code",
   "execution_count": null,
   "id": "18e110b7-646f-4d06-830d-4df027509979",
   "metadata": {},
   "outputs": [],
   "source": [
    "print(mdl_price_vs_age.params)"
   ]
  },
  {
   "cell_type": "markdown",
   "id": "deabc932-8138-4a06-9b4a-1e7278a8b4e1",
   "metadata": {},
   "source": [
    "If we want to calculate all the coefficients from 0 we can slightly edit the formula adding a *'+ 0'*"
   ]
  },
  {
   "cell_type": "code",
   "execution_count": null,
   "id": "8433c8e8-902a-4892-aabb-3686e57ab17b",
   "metadata": {},
   "outputs": [],
   "source": [
    "mdl_price_vs_age = ols(\"price_twd_msq ~ house_age_years + 0\",\n",
    "                           data=taiwan_real_estate)"
   ]
  },
  {
   "cell_type": "code",
   "execution_count": null,
   "id": "c7beef08-382d-49f6-8ad2-84706f93ff0f",
   "metadata": {},
   "outputs": [],
   "source": [
    "mdl_price_vs_age=mdl_price_vs_age.fit()"
   ]
  },
  {
   "cell_type": "code",
   "execution_count": null,
   "id": "ca7fa8f4-fa7c-427c-b3d3-39d379879086",
   "metadata": {},
   "outputs": [],
   "source": [
    "print(mdl_price_vs_age.params)"
   ]
  },
  {
   "cell_type": "code",
   "execution_count": null,
   "id": "acbcaa5f-f245-4e97-86b4-0413374ca3c0",
   "metadata": {},
   "outputs": [],
   "source": [
    "taiwan_real_estate.groupby('house_age_years')['price_twd_msq'].mean()"
   ]
  },
  {
   "cell_type": "markdown",
   "id": "49b75b2d-8fcd-47ee-b7e7-a6aa4eb0ffcf",
   "metadata": {
    "execution": {
     "iopub.execute_input": "2024-07-23T13:47:09.137758Z",
     "iopub.status.busy": "2024-07-23T13:47:09.137010Z",
     "iopub.status.idle": "2024-07-23T13:47:09.143109Z",
     "shell.execute_reply": "2024-07-23T13:47:09.142097Z",
     "shell.execute_reply.started": "2024-07-23T13:47:09.137716Z"
    }
   },
   "source": [
    "## Predictions"
   ]
  },
  {
   "cell_type": "code",
   "execution_count": null,
   "id": "8fec1b3b-5fdf-40fb-bcc1-7e9af45d2e81",
   "metadata": {},
   "outputs": [],
   "source": [
    "import numpy as np\n",
    "\n",
    "# Create explanatory_data \n",
    "explanatory_data = pd.DataFrame({'n_convenience': np.arange(0, 11)})\n",
    "\n",
    "# Use mdl_price_vs_conv to predict with explanatory_data, call it price_twd_msq\n",
    "price_twd_msq = mdl_price_vs_conv.predict(explanatory_data)\n",
    "\n",
    "# Create prediction_data\n",
    "prediction_data = explanatory_data.assign(price_twd_msq = price_twd_msq)\n",
    "\n",
    "# Print the result\n",
    "print(prediction_data)"
   ]
  },
  {
   "cell_type": "code",
   "execution_count": null,
   "id": "1002e717-3162-4478-8abb-1f2931e47156",
   "metadata": {},
   "outputs": [],
   "source": [
    "# Create a new figure, fig\n",
    "fig = plt.figure()\n",
    "\n",
    "sns.regplot(x=\"n_convenience\",\n",
    "            y=\"price_twd_msq\",\n",
    "            data=taiwan_real_estate,\n",
    "            ci=None)\n",
    "# Add a scatter plot layer to the regplot\n",
    "sns.scatterplot(x=\"n_convenience\",\n",
    "            y=\"price_twd_msq\",\n",
    "            data=prediction_data,\n",
    "            color='r')\n",
    "\n",
    "# Show the layered plot\n",
    "plt.show()"
   ]
  },
  {
   "cell_type": "markdown",
   "id": "6a7aa289-d1bc-44a3-a805-a8be23dc7418",
   "metadata": {
    "execution": {
     "iopub.execute_input": "2024-07-23T14:20:43.322763Z",
     "iopub.status.busy": "2024-07-23T14:20:43.321812Z",
     "iopub.status.idle": "2024-07-23T14:20:43.332780Z",
     "shell.execute_reply": "2024-07-23T14:20:43.331423Z",
     "shell.execute_reply.started": "2024-07-23T14:20:43.322684Z"
    }
   },
   "source": [
    "## The model objects"
   ]
  },
  {
   "cell_type": "code",
   "execution_count": null,
   "id": "c57caf89-2c91-4712-b6be-6631ae3bd158",
   "metadata": {},
   "outputs": [],
   "source": [
    "mdl_price_vs_conv.params"
   ]
  },
  {
   "cell_type": "code",
   "execution_count": null,
   "id": "da81a1a3-a4d6-446d-ab28-4a8fff6726fb",
   "metadata": {},
   "outputs": [],
   "source": [
    "mdl_price_vs_conv.fittedvalues"
   ]
  },
  {
   "cell_type": "markdown",
   "id": "a437ea52-6cb7-4440-9866-1456c9cd0989",
   "metadata": {},
   "source": [
    "The .fittedvalues is a shortcut to access the predictions on the original dataset. Its equivalent to:"
   ]
  },
  {
   "cell_type": "code",
   "execution_count": null,
   "id": "864357a9-6813-4478-8735-c63858fcf1a7",
   "metadata": {},
   "outputs": [],
   "source": [
    "mdl_price_vs_conv.predict(taiwan_real_estate.n_convenience)"
   ]
  },
  {
   "cell_type": "code",
   "execution_count": null,
   "id": "9d00f435-099f-4621-8ceb-a0a693db3d5a",
   "metadata": {},
   "outputs": [],
   "source": [
    "# Residuals are the difference between the observed response values and the predicted ones\n",
    "mdl_price_vs_conv.resid"
   ]
  },
  {
   "cell_type": "code",
   "execution_count": null,
   "id": "f8bfa7ed-b066-47ad-be04-c2b6efe77f67",
   "metadata": {},
   "outputs": [],
   "source": [
    "mdl_price_vs_conv.summary()"
   ]
  },
  {
   "cell_type": "code",
   "execution_count": null,
   "id": "0b0a3edd-49a4-4264-9731-f0a5e27f7df5",
   "metadata": {},
   "outputs": [],
   "source": [
    "coeffs = mdl_price_vs_conv.params\n",
    "\n",
    "intercept = coeffs['Intercept']\n",
    "slope = coeffs['n_convenience']\n",
    "\n",
    "# Manually calculate the predictions\n",
    "price_twd_msq = intercept + slope*explanatory_data\n",
    "print(price_twd_msq)\n",
    "\n",
    "print(price_twd_msq.assign(predictions_auto=mdl_price_vs_conv.predict(explanatory_data)))"
   ]
  },
  {
   "cell_type": "markdown",
   "id": "a0e731c7-7380-477f-b9f6-f3795914feab",
   "metadata": {},
   "source": [
    "## Regression to the mean\n",
    "\n",
    "Response = fitted value + residual\n",
    "- Fitted value: what the model can explain\n",
    "- Residual: what the model can not explain\n",
    "\n",
    "Residuals exist due to problems in the model and fundamental randomness\n",
    "Extreme values will tend to go towards the mean when we predict them"
   ]
  },
  {
   "cell_type": "code",
   "execution_count": null,
   "id": "a3129c96-dedb-47f5-9907-65e3b448898a",
   "metadata": {},
   "outputs": [],
   "source": [
    "sp500_yearly_returns = pd.read_csv('../data/sp500_yearly_returns.csv')"
   ]
  },
  {
   "cell_type": "code",
   "execution_count": null,
   "id": "677f7f04-c1f4-4491-b5cc-6798e2e9245a",
   "metadata": {},
   "outputs": [],
   "source": [
    "sp500_yearly_returns.info()"
   ]
  },
  {
   "cell_type": "code",
   "execution_count": null,
   "id": "784836af-be50-4438-809d-3247f50f56af",
   "metadata": {},
   "outputs": [],
   "source": [
    "sp500_yearly_returns.head()"
   ]
  },
  {
   "cell_type": "code",
   "execution_count": null,
   "id": "677fa42e-cfc0-4a1c-a71d-0a24f68d3063",
   "metadata": {},
   "outputs": [],
   "source": [
    "sp500_yearly_returns['symbol'] = sp500_yearly_returns['symbol'].astype('category')"
   ]
  },
  {
   "cell_type": "code",
   "execution_count": null,
   "id": "7d91543f-454c-474e-8de4-9f1f344c71dc",
   "metadata": {},
   "outputs": [],
   "source": [
    "sp500_yearly_returns.info()"
   ]
  },
  {
   "cell_type": "code",
   "execution_count": null,
   "id": "2e728f1d-f513-4822-ad1c-fb64e1416a32",
   "metadata": {},
   "outputs": [],
   "source": [
    "# Create a new figure, fig\n",
    "fig = plt.figure()\n",
    "\n",
    "# Plot the first layer: y = x\n",
    "plt.axline(xy1=(0,0), slope=1, linewidth=2, color=\"green\")\n",
    "\n",
    "# Add scatter plot with linear regression trend line\n",
    "sns.regplot(data=sp500_yearly_returns, x='return_2018', y='return_2019', ci=None)\n",
    "\n",
    "# Set the axes so that the distances along the x and y axes look the same\n",
    "plt.axis('equal')\n",
    "\n",
    "# Show the plot\n",
    "plt.show()"
   ]
  },
  {
   "cell_type": "code",
   "execution_count": null,
   "id": "f2a916dc-ee7a-4a7a-bde4-933cdba89f70",
   "metadata": {},
   "outputs": [],
   "source": [
    "mdl_returns = ols('return_2019 ~ return_2018', data=sp500_yearly_returns).fit()\n",
    "mdl_returns.params"
   ]
  },
  {
   "cell_type": "code",
   "execution_count": null,
   "id": "495b0f81-a597-4cbb-a93c-90aebe48f70a",
   "metadata": {},
   "outputs": [],
   "source": [
    "mdl_returns = ols(\"return_2019 ~ return_2018\", data=sp500_yearly_returns).fit()\n",
    "explanatory_data = pd.DataFrame({'return_2018': [-1, 0, 1]})\n",
    "print(mdl_returns.predict(explanatory_data))"
   ]
  },
  {
   "cell_type": "markdown",
   "id": "b6ceb30c-38f7-4633-8903-1d5fbac9f81d",
   "metadata": {},
   "source": [
    "## Transforming variables\n",
    "\n",
    "Sometimes the relation between the dependent and independent variables is not a straight line."
   ]
  },
  {
   "cell_type": "code",
   "execution_count": null,
   "id": "e5075c76-66b3-442f-8e14-89fa9c82dda3",
   "metadata": {},
   "outputs": [],
   "source": [
    "sns.regplot(data=taiwan_real_estate, x='dist_to_mrt_m', y='price_twd_msq', ci=None)\n",
    "plt.show()"
   ]
  },
  {
   "cell_type": "code",
   "execution_count": null,
   "id": "33a2c7aa-dbf0-4160-9996-4c5ddc9d67b3",
   "metadata": {},
   "outputs": [],
   "source": [
    "# Create sqrt_dist_to_mrt_m\n",
    "taiwan_real_estate[\"sqrt_dist_to_mrt_m\"] = np.sqrt(taiwan_real_estate[\"dist_to_mrt_m\"])\n",
    "\n",
    "plt.figure()\n",
    "\n",
    "# Plot using the transformed variable\n",
    "sns.regplot(data=taiwan_real_estate,\n",
    "x='sqrt_dist_to_mrt_m', y='price_twd_msq', ci=None)\n",
    "plt.show()"
   ]
  },
  {
   "cell_type": "code",
   "execution_count": null,
   "id": "0f711318-76e6-4bb8-b3da-385ff5986594",
   "metadata": {},
   "outputs": [],
   "source": [
    "# Run a linear regression of price_twd_msq vs. sqrt_dist_to_mrt_m\n",
    "mdl_price_vs_dist = ols(\"price_twd_msq ~ sqrt_dist_to_mrt_m\", \n",
    "                        data=taiwan_real_estate).fit()\n",
    "\n",
    "# Use this explanatory data\n",
    "explanatory_data = pd.DataFrame({\"sqrt_dist_to_mrt_m\": np.sqrt(np.arange(0, 81, 10) ** 2),\n",
    "                                \"dist_to_mrt_m\": np.arange(0, 81, 10) ** 2})\n",
    "\n",
    "# Use mdl_price_vs_dist to predict explanatory_data\n",
    "prediction_data = explanatory_data.assign(\n",
    "    price_twd_msq = mdl_price_vs_dist.predict(explanatory_data)\n",
    ")\n",
    "\n",
    "fig = plt.figure()\n",
    "sns.regplot(x=\"sqrt_dist_to_mrt_m\", y=\"price_twd_msq\", data=taiwan_real_estate, ci=None)\n",
    "\n",
    "# Add a layer of your prediction points\n",
    "sns.scatterplot(data=prediction_data, \n",
    "                x='sqrt_dist_to_mrt_m', \n",
    "                y='price_twd_msq', \n",
    "                color='red')\n",
    "plt.show()"
   ]
  },
  {
   "cell_type": "code",
   "execution_count": null,
   "id": "9561c7d0-8d57-4e08-956c-d4a85b21442a",
   "metadata": {},
   "outputs": [],
   "source": [
    "ad_conversion = pd.read_csv('../data/ad_conversion.csv')\n",
    "ad_conversion.head()"
   ]
  },
  {
   "cell_type": "code",
   "execution_count": null,
   "id": "a34bf31e-d3a3-4f5e-bb47-036f1fd6ca42",
   "metadata": {},
   "outputs": [],
   "source": [
    "# Create qdrt_n_impressions and qdrt_n_clicks\n",
    "ad_conversion[\"qdrt_n_impressions\"] = ad_conversion['n_impressions'] ** 0.25\n",
    "ad_conversion[\"qdrt_n_clicks\"] = ad_conversion['n_clicks'] ** 0.25\n",
    "\n",
    "plt.figure()\n",
    "\n",
    "# Plot using the transformed variables\n",
    "sns.regplot(data=ad_conversion, x='qdrt_n_impressions', y=\"qdrt_n_clicks\")\n",
    "plt.show()"
   ]
  },
  {
   "cell_type": "code",
   "execution_count": null,
   "id": "7385b0ab-ef8b-4183-8bee-8f4c19471c25",
   "metadata": {},
   "outputs": [],
   "source": [
    "ad_conversion[\"qdrt_n_impressions\"] = ad_conversion[\"n_impressions\"] ** 0.25\n",
    "ad_conversion[\"qdrt_n_clicks\"] = ad_conversion[\"n_clicks\"] ** 0.25\n",
    "\n",
    "mdl_click_vs_impression = ols(\"qdrt_n_clicks ~ qdrt_n_impressions\", data=ad_conversion, ci=None).fit()\n",
    "\n",
    "explanatory_data = pd.DataFrame({\"qdrt_n_impressions\": np.arange(0, 3e6+1, 5e5) ** .25,\n",
    "                                 \"n_impressions\": np.arange(0, 3e6+1, 5e5)})\n",
    "\n",
    "# Complete prediction_data\n",
    "prediction_data = explanatory_data.assign(\n",
    "    qdrt_n_clicks = mdl_click_vs_impression.predict(explanatory_data.qdrt_n_impressions)\n",
    ")\n",
    "\n",
    "# Print the result\n",
    "print(prediction_data)"
   ]
  },
  {
   "cell_type": "code",
   "execution_count": null,
   "id": "8da3b2f5-8235-4a16-8040-2a87dae48d75",
   "metadata": {},
   "outputs": [],
   "source": [
    "# Back transform qdrt_n_clicks\n",
    "prediction_data[\"n_clicks\"] = prediction_data.qdrt_n_clicks ** 4\n",
    "print(prediction_data)"
   ]
  },
  {
   "cell_type": "code",
   "execution_count": null,
   "id": "cc87177d-6c1b-4049-a08b-fb0ccbfa9b51",
   "metadata": {},
   "outputs": [],
   "source": [
    "# Back transform qdrt_n_clicks\n",
    "prediction_data[\"n_clicks\"] = prediction_data[\"qdrt_n_clicks\"] ** 4\n",
    "\n",
    "# Plot the transformed variables\n",
    "fig = plt.figure()\n",
    "sns.regplot(x=\"qdrt_n_impressions\", y=\"qdrt_n_clicks\", data=ad_conversion, ci=None)\n",
    "\n",
    "# Add a layer of your prediction points\n",
    "sns.scatterplot(data=prediction_data, x='qdrt_n_impressions', y='qdrt_n_clicks', color='red')\n",
    "plt.show()"
   ]
  },
  {
   "cell_type": "markdown",
   "id": "10e2586e-606e-45ab-88e1-ecf9a9baf301",
   "metadata": {},
   "source": [
    "# Quantifying model fit\n",
    "\n",
    "How good is our model?\n",
    "\n",
    "## Coefficient of Determination (r-squared)\n",
    "\n",
    "The proportion of the variance in the response variable that is predictable from the explanatory variable.\n",
    "\n",
    "1 -> perfect fit\n",
    "0 -> the worst possible fit\n",
    "\n",
    "Statsmodels provides the r-squared value in the **.summary()** output of the fitted model. It can be accessed via the **.rsquared** attribute too.\n",
    "\n",
    "## Residual standard error (RSE)\n",
    "\n",
    "The residual standard error is the \"typical\" difference between a prediction and an observed response.\n",
    "\n",
    "It has the same units as the response variable.\n",
    "\n",
    "A related metric is the Mean Squared Error, or MSE, that is MSE^2. Another related metric is the RMSE (Root Mean Squared Error)\n"
   ]
  },
  {
   "cell_type": "code",
   "execution_count": null,
   "id": "4597b5e9-358d-4103-b181-7b719deb3ee9",
   "metadata": {},
   "outputs": [],
   "source": [
    "print(mdl_click_vs_impression.summary())\n"
   ]
  },
  {
   "cell_type": "code",
   "execution_count": null,
   "id": "ff38579d-4fb8-44b6-92b5-4b427992948a",
   "metadata": {},
   "outputs": [],
   "source": [
    "print(mdl_click_vs_impression.rsquared)"
   ]
  },
  {
   "cell_type": "code",
   "execution_count": null,
   "id": "81e3231f-8376-4783-b495-e1f3ddf18e35",
   "metadata": {},
   "outputs": [],
   "source": [
    "mse = mdl_click_vs_impression.mse_resid\n",
    "rse = np.sqrt(mse)\n",
    "print(\"RSE: \", rse)\n"
   ]
  },
  {
   "cell_type": "markdown",
   "id": "6bf13978-707f-4125-81cc-58d1fc99a382",
   "metadata": {},
   "source": [
    "## Visualizing model fit\n",
    "\n",
    "The residuals of a well fitted model:\n",
    "- Are normally distributed\n",
    "- Have mean zero"
   ]
  },
  {
   "cell_type": "markdown",
   "id": "d003b0f6-4024-4e81-974d-cc0634e1c54c",
   "metadata": {},
   "source": [
    "A **scatterplot of residuals vs fitted values** helps visualizing trends."
   ]
  },
  {
   "cell_type": "code",
   "execution_count": null,
   "id": "95028da8-de4d-4fa7-aa54-c9d35b6e53a5",
   "metadata": {},
   "outputs": [],
   "source": [
    "sns.residplot(x=\"n_convenience\", y=\"price_twd_msq\", data=taiwan_real_estate, lowess=True)\n",
    "plt.xlabel(\"Fitted values\")\n",
    "plt.ylabel(\"Residuals\")\n",
    "\n",
    "plt.show()"
   ]
  },
  {
   "cell_type": "markdown",
   "id": "f8f25d8c-c854-4292-b83e-db89049fb062",
   "metadata": {},
   "source": [
    "**QQ plots** help visualizing if the residuals follow a normal distribution (residuals along the line) or not (residuals far from it)."
   ]
  },
  {
   "cell_type": "code",
   "execution_count": null,
   "id": "66ee84e1-c37f-448c-a12a-287d12f4d6e3",
   "metadata": {},
   "outputs": [],
   "source": [
    "from statsmodels.api import qqplot\n",
    "qqplot(data=mdl_price_vs_conv.resid, fit=True, line=\"45\")\n",
    "\n",
    "plt.show()"
   ]
  },
  {
   "cell_type": "markdown",
   "id": "32d3fbb8-a438-45cb-88e5-f75cb62354aa",
   "metadata": {},
   "source": [
    "The **Scale Location plot**, plots the squared root of the standardized residuals vs the fitted value. It shows if the residuals grow along with the fitted value."
   ]
  },
  {
   "cell_type": "code",
   "execution_count": null,
   "id": "b55074e6-d554-453f-8fc2-a3c756071801",
   "metadata": {},
   "outputs": [],
   "source": [
    "model_norm_residuals = mdl_price_vs_conv.get_influence().resid_studentized_internal\n",
    "model_norm_residuals_abs_sqrt = np.sqrt(np.abs(model_norm_residuals))\n",
    "\n",
    "sns.regplot(x=mdl_price_vs_conv.fittedvalues, y=model_norm_residuals_abs_sqrt, ci=None, lowess=True)\n",
    "plt.xlabel(\"Fitted values\")\n",
    "plt.ylabel(\"Sqrt of abs val of stdized residuals\")\n",
    "\n",
    "plt.show()"
   ]
  },
  {
   "cell_type": "markdown",
   "id": "296fb949-62b8-4cea-8133-e3d8dd706511",
   "metadata": {},
   "source": [
    "## Outliers, Leverage and Influence\n",
    "\n",
    "**Outliers** are unusual data points. They could be explanatory datapoints away from the rest or datapoints away from the prediction line.\n",
    "\n",
    "**Leverage** is a measure of how extreme the explanatory variable values are\n",
    "\n",
    "**Influence** of an observation measures how much the model would change if we left out that observation. Statsmodel provides the cook's distance as a measure to evaluate the influence of each datapoint."
   ]
  },
  {
   "cell_type": "code",
   "execution_count": null,
   "id": "70abd46f-010b-4767-a5bc-30af767074ac",
   "metadata": {},
   "outputs": [],
   "source": [
    "summary_info = mdl_price_vs_dist.get_influence().summary_frame()\n",
    "\n",
    "# Add the hat_diag column to taiwan_real_estate, name it leverage\n",
    "taiwan_real_estate[\"leverage\"] = summary_info.hat_diag\n",
    "\n",
    "# Sort taiwan_real_estate by leverage in descending order and print the head\n",
    "taiwan_real_estate.sort_values(by='leverage', ascending=False).head()"
   ]
  },
  {
   "cell_type": "code",
   "execution_count": null,
   "id": "50d1cf72-9fb3-4601-a909-5c4e986028c4",
   "metadata": {},
   "outputs": [],
   "source": [
    "# Add the cooks_d column to taiwan_real_estate, name it cooks_dist\n",
    "taiwan_real_estate[\"cooks_dist\"] = summary_info[\"cooks_d\"]\n",
    "\n",
    "# Sort taiwan_real_estate by cooks_dist in descending order and print the head.\n",
    "taiwan_real_estate.sort_values(by='cooks_dist', ascending=False).head()"
   ]
  },
  {
   "cell_type": "markdown",
   "id": "2612731d-fd67-45d8-aea1-dca62a1dec11",
   "metadata": {
    "execution": {
     "iopub.execute_input": "2024-07-26T14:13:43.607195Z",
     "iopub.status.busy": "2024-07-26T14:13:43.606405Z",
     "iopub.status.idle": "2024-07-26T14:13:43.617612Z",
     "shell.execute_reply": "2024-07-26T14:13:43.616156Z",
     "shell.execute_reply.started": "2024-07-26T14:13:43.607150Z"
    }
   },
   "source": [
    "# Logistic Regression"
   ]
  },
  {
   "cell_type": "markdown",
   "id": "98638195-08f9-4a23-9056-5a1027b2a629",
   "metadata": {},
   "source": [
    "- a type of generalized linear model\n",
    "- used when the response variable is logical\n",
    "- the responses follow a logistic (S-shaped) curve"
   ]
  },
  {
   "cell_type": "markdown",
   "id": "7b7e63b7-3d07-4ffc-89ed-3c0d14683f3b",
   "metadata": {},
   "source": [
    "When the response variable is logical, all the points lie on the  and lines, making it difficult to see what is happening. This can be solved with a histogram of the explanatory variable, grouped by the response.\n"
   ]
  },
  {
   "cell_type": "code",
   "execution_count": null,
   "id": "62aaf076-e4c7-4e67-861b-127b72284b41",
   "metadata": {},
   "outputs": [],
   "source": [
    "churn = pd.read_csv('../data/churn.csv')"
   ]
  },
  {
   "cell_type": "code",
   "execution_count": null,
   "id": "af3b9562-09ea-4cc8-936c-7a14a01f1b07",
   "metadata": {},
   "outputs": [],
   "source": [
    "# Create the histograms of time_since_last_purchase split by has_churned\n",
    "sns.displot(data=churn, x='time_since_last_purchase', col='has_churned')\n",
    "\n",
    "plt.show()"
   ]
  },
  {
   "cell_type": "code",
   "execution_count": null,
   "id": "9c0c8361-0a97-45f9-a622-a0eba2d33983",
   "metadata": {},
   "outputs": [],
   "source": [
    "sns.displot(data=churn, x='time_since_first_purchase', col='has_churned')\n",
    "\n",
    "plt.show()"
   ]
  },
  {
   "cell_type": "code",
   "execution_count": null,
   "id": "6d23787a-0fc7-484a-9621-1801ee976f45",
   "metadata": {},
   "outputs": [],
   "source": [
    "# Draw a linear regression trend line and a scatter plot of time_since_first_purchase vs. has_churned\n",
    "sns.regplot(x=\"time_since_first_purchase\",\n",
    "            y=\"has_churned\",\n",
    "            data=churn, \n",
    "            ci=None,\n",
    "            line_kws={\"color\": \"red\"})\n",
    "\n",
    "# Draw a logistic regression trend line and a scatter plot of time_since_first_purchase vs. has_churned\n",
    "sns.regplot(x=\"time_since_first_purchase\",\n",
    "            y=\"has_churned\",\n",
    "            data=churn, \n",
    "            ci=None,\n",
    "            line_kws={\"color\": \"blue\"}, logistic=True)\n",
    "\n",
    "plt.show()"
   ]
  },
  {
   "cell_type": "code",
   "execution_count": null,
   "id": "424b4b61-70f1-42a7-a672-648ac9f305d4",
   "metadata": {},
   "outputs": [],
   "source": [
    "# Import logit\n",
    "from statsmodels.formula.api import logit\n",
    "\n",
    "# Fit a logistic regression of churn vs. length of relationship using the churn dataset\n",
    "mdl_churn_vs_relationship = logit('has_churned ~ time_since_first_purchase', data=churn).fit()\n",
    "\n",
    "# Print the parameters of the fitted model\n",
    "print(mdl_churn_vs_relationship.params)"
   ]
  },
  {
   "cell_type": "code",
   "execution_count": null,
   "id": "86f227ff-a070-49a6-84b0-6c2ecb66b311",
   "metadata": {},
   "outputs": [],
   "source": [
    "explanatory_data=pd.DataFrame({'time_since_first_purchase': np.arange(-1.5, 4.24, 0.25)})\n",
    "explanatory_data"
   ]
  },
  {
   "cell_type": "code",
   "execution_count": null,
   "id": "93e53f8e-0142-4497-abaa-3bc3b972e808",
   "metadata": {},
   "outputs": [],
   "source": [
    "# Create prediction_data\n",
    "prediction_data = explanatory_data.assign(\n",
    "  has_churned=mdl_churn_vs_relationship.predict(explanatory_data)\n",
    ")\n",
    "\n",
    "# Print the head\n",
    "print(prediction_data.head())"
   ]
  },
  {
   "cell_type": "code",
   "execution_count": null,
   "id": "2a3071a3-923f-412f-8b7c-f377dbbd60da",
   "metadata": {},
   "outputs": [],
   "source": [
    "# Create prediction_data\n",
    "prediction_data = explanatory_data.assign(\n",
    "    has_churned = mdl_churn_vs_relationship.predict(explanatory_data)\n",
    ")\n",
    "\n",
    "fig = plt.figure()\n",
    "\n",
    "# Create a scatter plot with logistic trend line\n",
    "sns.regplot(data=churn, y='has_churned', x='time_since_first_purchase', logistic=True, ci=None)\n",
    "\n",
    "# Overlay with prediction_data, colored red\n",
    "sns.scatterplot(data=prediction_data, y='has_churned', x='time_since_first_purchase',\n",
    "color='red')\n",
    "\n",
    "plt.show()"
   ]
  },
  {
   "cell_type": "code",
   "execution_count": null,
   "id": "0be08029-b758-450d-b6f7-9ed0e1b39d5c",
   "metadata": {},
   "outputs": [],
   "source": [
    "# Update prediction data by adding most_likely_outcome\n",
    "prediction_data[\"most_likely_outcome\"] = np.round(prediction_data[\"has_churned\"])\n",
    "\n",
    "fig = plt.figure()\n",
    "\n",
    "# Create a scatter plot with logistic trend line (from previous exercise)\n",
    "sns.regplot(x=\"time_since_first_purchase\",\n",
    "            y=\"has_churned\",\n",
    "            data=churn,\n",
    "            ci=None,\n",
    "            logistic=True)\n",
    "\n",
    "# Overlay with prediction_data, colored red\n",
    "sns.scatterplot(data=prediction_data, x=\"time_since_first_purchase\", y='most_likely_outcome', color='red')\n",
    "\n",
    "plt.show()"
   ]
  },
  {
   "cell_type": "code",
   "execution_count": null,
   "id": "98422fd3-b2bf-4f46-93b1-82f0e5cca1d4",
   "metadata": {},
   "outputs": [],
   "source": [
    "# Update prediction data with odds_ratio\n",
    "prediction_data[\"odds_ratio\"] = prediction_data[\"has_churned\"] / (1 - prediction_data[\"has_churned\"])\n",
    "\n",
    "fig = plt.figure()\n",
    "\n",
    "# Create a line plot of odds_ratio vs time_since_first_purchase\n",
    "sns.lineplot(data=prediction_data, y='odds_ratio', x='time_since_first_purchase')\n",
    "\n",
    "# Add a dotted horizontal line at odds_ratio = 1\n",
    "plt.axhline(y=1, linestyle=\"dotted\")\n",
    "\n",
    "plt.show()"
   ]
  },
  {
   "cell_type": "code",
   "execution_count": null,
   "id": "e58c5add-aeff-468e-9e36-b5b68b2323e1",
   "metadata": {},
   "outputs": [],
   "source": [
    "# Update prediction data with log_odds_ratio\n",
    "prediction_data[\"log_odds_ratio\"] = np.log(prediction_data[\"odds_ratio\"])\n",
    "\n",
    "fig = plt.figure()\n",
    "\n",
    "# Update the line plot: log_odds_ratio vs. time_since_first_purchase\n",
    "sns.lineplot(x=\"time_since_first_purchase\",\n",
    "             y=\"log_odds_ratio\",\n",
    "             data=prediction_data)\n",
    "\n",
    "# Add a dotted horizontal line at log_odds_ratio = 0\n",
    "plt.axhline(y=0, linestyle=\"dotted\")\n",
    "\n",
    "plt.show()"
   ]
  },
  {
   "attachments": {
    "7d953bba-dde6-4d49-89f8-5b5546b7460f.png": {
     "image/png": "[encoded data removed]"
    }
   },
   "cell_type": "markdown",
   "id": "caeafa36-d08e-4999-a886-fe68c254e59b",
   "metadata": {
    "execution": {
     "iopub.execute_input": "2024-07-26T15:01:06.501819Z",
     "iopub.status.busy": "2024-07-26T15:01:06.500985Z",
     "iopub.status.idle": "2024-07-26T15:01:06.509515Z",
     "shell.execute_reply": "2024-07-26T15:01:06.508036Z",
     "shell.execute_reply.started": "2024-07-26T15:01:06.501777Z"
    }
   },
   "source": [
    "## Quantifying logistic regression fit\n",
    "\n",
    "![image.png](attachment:7d953bba-dde6-4d49-89f8-5b5546b7460f.png)\n",
    "\n",
    "The count of the different categories is called **confusion matrix**"
   ]
  },
  {
   "cell_type": "code",
   "execution_count": null,
   "id": "d73fcd3c-e764-4d69-ad8a-b6ad3beb91ac",
   "metadata": {},
   "outputs": [],
   "source": [
    "actual_response = churn.has_churned"
   ]
  },
  {
   "cell_type": "code",
   "execution_count": null,
   "id": "c0210262-377c-4a7d-862f-5b83a4af76b7",
   "metadata": {},
   "outputs": [],
   "source": [
    "mdl_churn_vs_relationship.pred_table()"
   ]
  },
  {
   "cell_type": "code",
   "execution_count": null,
   "id": "3ccc47df-66d4-4652-9535-32065f785e25",
   "metadata": {},
   "outputs": [],
   "source": [
    "from statsmodels.graphics.mosaicplot import mosaic\n",
    "mosaic(mdl_churn_vs_relationship.pred_table())"
   ]
  },
  {
   "cell_type": "markdown",
   "id": "9af42ddd-7b5c-49a0-a2a3-56a4ddc3b038",
   "metadata": {
    "execution": {
     "iopub.execute_input": "2024-07-26T15:04:55.767111Z",
     "iopub.status.busy": "2024-07-26T15:04:55.765990Z",
     "iopub.status.idle": "2024-07-26T15:04:55.798182Z",
     "shell.execute_reply": "2024-07-26T15:04:55.797391Z",
     "shell.execute_reply.started": "2024-07-26T15:04:55.767031Z"
    }
   },
   "source": [
    "## Model Accuracy\n",
    "\n",
    "accuracy = (TN+TP)/(TN+TP+FN+FP)"
   ]
  },
  {
   "cell_type": "markdown",
   "id": "8235f26f-b741-484e-ac2c-1738607cbb38",
   "metadata": {},
   "source": [
    "## Sensitivity\n",
    "\n",
    "Sensitivity = (TP)/(TP+FN)"
   ]
  },
  {
   "cell_type": "markdown",
   "id": "69dd41b6-9c7c-42d1-852c-e1e17c2f7597",
   "metadata": {},
   "source": [
    "## Specificity\n",
    "\n",
    "Specificity = (TN)/(TN+FP)"
   ]
  },
  {
   "cell_type": "markdown",
   "id": "c9f98a90-3dbe-489a-b513-3b468ac32e45",
   "metadata": {},
   "source": [
    "There is a tradeoff between sensitivity and specificity"
   ]
  },
  {
   "cell_type": "code",
   "execution_count": null,
   "id": "304eb7e1-7ee9-4be4-85da-e316e010bd98",
   "metadata": {},
   "outputs": [],
   "source": [
    "conf_matrix = mdl_churn_vs_relationship.pred_table()\n",
    "\n",
    "# Extract TN, TP, FN and FP from conf_matrix\n",
    "TN = conf_matrix[0, 0]\n",
    "TP = conf_matrix[1, 1]\n",
    "FN = conf_matrix[1, 0]\n",
    "FP = conf_matrix[0, 1]\n",
    "\n",
    "# Calculate and print the accuracy\n",
    "accuracy = (TN+TP)/(TN+TP+FN+FP)\n",
    "print(\"accuracy: \", accuracy)\n",
    "\n",
    "# Calculate and print the sensitivity\n",
    "sensitivity = (TP)/(TP+FN)\n",
    "print(\"sensitivity: \", sensitivity)\n",
    "\n",
    "# Calculate and print the specificity\n",
    "specificity = (TN)/(TN+FP)\n",
    "print(\"specificity: \", specificity)"
   ]
  },
  {
   "cell_type": "code",
   "execution_count": null,
   "id": "482bbeec-8eaf-4892-b306-eac86c30fc5c",
   "metadata": {},
   "outputs": [],
   "source": []
  }
 ],
 "metadata": {
  "language_info": {
   "name": "python"
  }
 },
 "nbformat": 4,
 "nbformat_minor": 5
}
