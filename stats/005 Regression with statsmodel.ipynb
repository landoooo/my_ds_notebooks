{
 "cells": [
  {
   "cell_type": "markdown",
   "id": "8662fb73-cb96-431a-b381-dd8ff8b15c75",
   "metadata": {},
   "source": [
    "# Regression"
   ]
  },
  {
   "cell_type": "code",
   "execution_count": null,
   "id": "683bb1ce-5e23-4581-8b7d-9624b122ef53",
   "metadata": {},
   "outputs": [],
   "source": [
    "import pandas as pd \n",
    "import numpy as np\n",
    "import seaborn as sns\n",
    "import matplotlib.pyplot as plt\n",
    "import statsmodels as sm\n",
    "import warnings\n",
    "\n",
    "warnings.filterwarnings('ignore')\n",
    "sns.set_style('whitegrid')"
   ]
  },
  {
   "cell_type": "markdown",
   "id": "73df992f-633d-44e0-aeb8-6778b57e0725",
   "metadata": {},
   "source": [
    "Regression is a statistical tool to analyze the relationships between variables.\n",
    "Its composed of many statistical models to explore the relationship between a response variable (dependent variable) and some exploratory variables (independent variables), so, given values of the explanatory variables we can predict the values of the response variable.\n",
    "\n",
    "Two main types:\n",
    "- Linear Regression: the response variable is numeric\n",
    "- Logistic Regression: the response variable is logical (True or False values)\n",
    "\n",
    "## Before start\n",
    "\n",
    "Before playing with any regression, **visualize the data**.\n",
    "**Scatterplots** are very interesting as this stage. **Regplot** adds a trend line to the scatterplot."
   ]
  },
  {
   "cell_type": "code",
   "execution_count": null,
   "id": "8a93a724-3a57-444d-90d4-bd0e8264c519",
   "metadata": {},
   "outputs": [],
   "source": [
    "taiwan_real_estate = pd.read_csv('../data/taiwan_real_estate2.csv')\n",
    "taiwan_real_estate.head()"
   ]
  },
  {
   "cell_type": "code",
   "execution_count": null,
   "id": "b3463932-480f-4686-a374-c54a926c41b3",
   "metadata": {},
   "outputs": [],
   "source": [
    "taiwan_real_estate['house_age_years'] = taiwan_real_estate['house_age_years'].astype('category')"
   ]
  },
  {
   "cell_type": "code",
   "execution_count": null,
   "id": "634cd682-b16c-48b6-ad04-224cb91743a8",
   "metadata": {},
   "outputs": [],
   "source": [
    "taiwan_real_estate.info()"
   ]
  },
  {
   "cell_type": "markdown",
   "id": "53669200-b941-4318-87e8-3cc43ca77385",
   "metadata": {},
   "source": [
    "To keep it simple, lets focus on the simple linear regression, that is, using a single explanatory variable to predict the response variable. In this case, lets use the *n_convinience* variable to predict *price_twd_msq*"
   ]
  },
  {
   "cell_type": "code",
   "execution_count": null,
   "id": "bcce6d66-65bf-4b15-a523-2e2622e16e8d",
   "metadata": {},
   "outputs": [],
   "source": [
    "sns.scatterplot(data=taiwan_real_estate, x='n_convenience', y='price_twd_msq')\n",
    "plt.show()"
   ]
  },
  {
   "cell_type": "code",
   "execution_count": null,
   "id": "0fbd4e5a-fefe-4b01-beeb-e07956b8bfa9",
   "metadata": {},
   "outputs": [],
   "source": [
    "sns.regplot(x='n_convenience',\n",
    "         y='price_twd_msq',\n",
    "         data=taiwan_real_estate,\n",
    "         ci=90,\n",
    "         scatter_kws={'alpha': 0.5})"
   ]
  },
  {
   "cell_type": "markdown",
   "id": "fd5d6029-c55b-447a-ac04-ed40ab04b5a3",
   "metadata": {},
   "source": [
    "The fitted lines are defined by:\n",
    "- Intercept: y value at x=0\n",
    "- Slope: steepness. The amount the y value increases when x increases 1 unit\n",
    "\n",
    "$$\n",
    "  y = intercept + slope*x\n",
    "$$"
   ]
  },
  {
   "cell_type": "markdown",
   "id": "895f4439-d935-4b14-9720-da1e68868c77",
   "metadata": {
    "execution": {
     "iopub.execute_input": "2024-07-22T15:28:45.391159Z",
     "iopub.status.busy": "2024-07-22T15:28:45.390206Z",
     "iopub.status.idle": "2024-07-22T15:28:45.401597Z",
     "shell.execute_reply": "2024-07-22T15:28:45.400141Z",
     "shell.execute_reply.started": "2024-07-22T15:28:45.391082Z"
    }
   },
   "source": [
    "## Run the linear regression model"
   ]
  },
  {
   "cell_type": "code",
   "execution_count": null,
   "id": "4d447328-8516-45e1-b166-aa9c815899ab",
   "metadata": {},
   "outputs": [],
   "source": [
    "from statsmodels.formula.api import ols"
   ]
  },
  {
   "cell_type": "code",
   "execution_count": null,
   "id": "a625ca70-42c4-4c3c-8c55-f55604ad8b33",
   "metadata": {},
   "outputs": [],
   "source": [
    "mdl_price_twd_msq = ols(\"price_twd_msq ~ n_convenience\",\n",
    "                           data=taiwan_real_estate)"
   ]
  },
  {
   "cell_type": "code",
   "execution_count": null,
   "id": "7ea1c788-76d6-481c-8094-652d1fddc3bf",
   "metadata": {},
   "outputs": [],
   "source": [
    "mdl_price_twd_msq = mdl_price_twd_msq.fit()"
   ]
  },
  {
   "cell_type": "code",
   "execution_count": null,
   "id": "76779838-5025-4816-97fc-e24c13bcee1a",
   "metadata": {},
   "outputs": [],
   "source": [
    "print(mdl_price_twd_msq.params)"
   ]
  },
  {
   "cell_type": "markdown",
   "id": "4e2b9b90-0e6e-43e2-a3fa-3b10f632a4f3",
   "metadata": {},
   "source": [
    "On average, a house with zero convenience stores nearby had a price of 8.2242 TWD per square meter.\n",
    "\n",
    "If you increase the number of nearby convenience stores by one, then the expected increase in house price is 0.7981 TWD per square meter.\n",
    "\n"
   ]
  },
  {
   "cell_type": "markdown",
   "id": "a5ff7750-5728-4288-8b36-9717fc809808",
   "metadata": {
    "execution": {
     "iopub.execute_input": "2024-07-22T15:48:47.106432Z",
     "iopub.status.busy": "2024-07-22T15:48:47.105556Z",
     "iopub.status.idle": "2024-07-22T15:48:47.117844Z",
     "shell.execute_reply": "2024-07-22T15:48:47.114933Z",
     "shell.execute_reply.started": "2024-07-22T15:48:47.106388Z"
    }
   },
   "source": [
    "## Run the linear Regression Model using a categorical variable\n",
    "Lets predict the price using the age of the property."
   ]
  },
  {
   "cell_type": "code",
   "execution_count": null,
   "id": "f436ac2f-2963-4ed6-8bbe-db162106a513",
   "metadata": {},
   "outputs": [],
   "source": [
    "taiwan_real_estate.house_age_years.value_counts()"
   ]
  },
  {
   "cell_type": "markdown",
   "id": "4c44dff7-f74e-4ce1-9780-4c5a8158b969",
   "metadata": {},
   "source": [
    "The '0 to 15' value will be used as the baseline. The other coeficients will be calculated in relation to that one"
   ]
  },
  {
   "cell_type": "code",
   "execution_count": null,
   "id": "431d05b1-d9ef-4325-baf8-11a699eb51fe",
   "metadata": {},
   "outputs": [],
   "source": [
    "sns.displot(data=taiwan_real_estate,\n",
    "            x=\"price_twd_msq\",\n",
    "            col=\"house_age_years\",\n",
    "            bins=10)"
   ]
  },
  {
   "cell_type": "code",
   "execution_count": null,
   "id": "7a8e21c2-db5c-4084-9810-675ab811b023",
   "metadata": {},
   "outputs": [],
   "source": [
    "mdl_price_vs_age = ols(\"price_twd_msq ~ house_age_years\",\n",
    "                           data=taiwan_real_estate)"
   ]
  },
  {
   "cell_type": "code",
   "execution_count": null,
   "id": "85cd5fe6-b8d9-479b-91ae-dea973ca396a",
   "metadata": {},
   "outputs": [],
   "source": [
    "mdl_price_vs_age=mdl_price_vs_age.fit()"
   ]
  },
  {
   "cell_type": "code",
   "execution_count": null,
   "id": "18e110b7-646f-4d06-830d-4df027509979",
   "metadata": {},
   "outputs": [],
   "source": [
    "print(mdl_price_vs_age.params)"
   ]
  },
  {
   "cell_type": "markdown",
   "id": "deabc932-8138-4a06-9b4a-1e7278a8b4e1",
   "metadata": {},
   "source": [
    "If we want to calculate all the coefficients from 0 we can slightly edit the formula adding a *'+ 0'*"
   ]
  },
  {
   "cell_type": "code",
   "execution_count": null,
   "id": "8433c8e8-902a-4892-aabb-3686e57ab17b",
   "metadata": {},
   "outputs": [],
   "source": [
    "mdl_price_vs_age = ols(\"price_twd_msq ~ house_age_years + 0\",\n",
    "                           data=taiwan_real_estate)"
   ]
  },
  {
   "cell_type": "code",
   "execution_count": null,
   "id": "c7beef08-382d-49f6-8ad2-84706f93ff0f",
   "metadata": {},
   "outputs": [],
   "source": [
    "mdl_price_vs_age=mdl_price_vs_age.fit()"
   ]
  },
  {
   "cell_type": "code",
   "execution_count": null,
   "id": "ca7fa8f4-fa7c-427c-b3d3-39d379879086",
   "metadata": {},
   "outputs": [],
   "source": [
    "print(mdl_price_vs_age.params)"
   ]
  },
  {
   "cell_type": "code",
   "execution_count": null,
   "id": "acbcaa5f-f245-4e97-86b4-0413374ca3c0",
   "metadata": {},
   "outputs": [],
   "source": [
    "taiwan_real_estate.groupby('house_age_years')['price_twd_msq'].mean()"
   ]
  },
  {
   "cell_type": "code",
   "execution_count": null,
   "id": "7d6a4891-b41d-42d2-9c60-2536173813c5",
   "metadata": {},
   "outputs": [],
   "source": []
  }
 ],
 "metadata": {
  "language_info": {
   "name": "python"
  }
 },
 "nbformat": 4,
 "nbformat_minor": 5
}
