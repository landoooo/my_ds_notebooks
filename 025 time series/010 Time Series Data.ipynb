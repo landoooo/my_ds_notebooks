{
 "cells": [
  {
   "cell_type": "markdown",
   "id": "6afc1fa5-5fcb-4437-ad0e-6b263b11e4cc",
   "metadata": {},
   "source": [
    "# Dates and times in pandas\n",
    "\n",
    "Pandas can handle dates and times thanks to specific data types.\n",
    "\n",
    "It has objects for points in time as well as periods of time with methods and attributes that reflect time related details\n",
    "\n",
    "Sequences of dates and periods can be found as:\n",
    "- series\n",
    "- dataframe columns\n",
    "- indexes\n",
    "\n",
    "# Timestamp, Period, Frequency, date_range"
   ]
  },
  {
   "cell_type": "code",
   "execution_count": null,
   "id": "634d2bf7-2b75-42b3-b5cb-7fc697605f88",
   "metadata": {},
   "outputs": [],
   "source": [
    "import pandas as pd \n",
    "from datetime import datetime \n",
    "import seaborn as sns\n",
    "import matplotlib.pyplot as plt\n",
    "\n",
    "time_stamp = pd.Timestamp(datetime(2024,1,1))\n",
    "pd.Timestamp('2024-01-01') == time_stamp"
   ]
  },
  {
   "cell_type": "code",
   "execution_count": null,
   "id": "15711576-5b9a-44c0-85ec-8f3b7c0294ab",
   "metadata": {},
   "outputs": [],
   "source": [
    "type(time_stamp)"
   ]
  },
  {
   "cell_type": "code",
   "execution_count": null,
   "id": "49ecfd69-44f8-4501-b83b-681bd1675b16",
   "metadata": {},
   "outputs": [],
   "source": [
    "time_stamp"
   ]
  },
  {
   "cell_type": "code",
   "execution_count": null,
   "id": "72d767a8-d45b-4ad6-8c58-6581318705d4",
   "metadata": {},
   "outputs": [],
   "source": [
    "time_stamp.year"
   ]
  },
  {
   "cell_type": "code",
   "execution_count": null,
   "id": "d8650314-b620-4ecb-aace-847c93dc7cc8",
   "metadata": {},
   "outputs": [],
   "source": [
    "time_stamp.month"
   ]
  },
  {
   "cell_type": "code",
   "execution_count": null,
   "id": "b8cd5710-ab65-4b71-841f-da79e615270d",
   "metadata": {},
   "outputs": [],
   "source": [
    "time_stamp.day_of_week"
   ]
  },
  {
   "cell_type": "code",
   "execution_count": null,
   "id": "b3efd2dd-0a2d-4805-95e6-43456347fcce",
   "metadata": {},
   "outputs": [],
   "source": [
    "period = pd.Period('2024-01')\n",
    "period"
   ]
  },
  {
   "cell_type": "code",
   "execution_count": null,
   "id": "32bacd23-c9e2-478e-b8b4-f757f72bb6fd",
   "metadata": {},
   "outputs": [],
   "source": [
    "period.asfreq('D')"
   ]
  },
  {
   "cell_type": "code",
   "execution_count": null,
   "id": "64aceb38-f03e-403f-8677-6c8be6f19779",
   "metadata": {},
   "outputs": [],
   "source": [
    "period.to_timestamp()"
   ]
  },
  {
   "cell_type": "code",
   "execution_count": null,
   "id": "be1ef66f-2b1f-4469-945d-d1341a16ed7b",
   "metadata": {},
   "outputs": [],
   "source": [
    "period.to_timestamp().to_period('M')"
   ]
  },
  {
   "cell_type": "code",
   "execution_count": null,
   "id": "8ce1b162-bc8d-4582-bc8e-8649a881a41f",
   "metadata": {},
   "outputs": [],
   "source": [
    "period + 2"
   ]
  },
  {
   "cell_type": "code",
   "execution_count": null,
   "id": "3939cf70-6eef-4ff2-b4a9-2e206dfec58d",
   "metadata": {},
   "outputs": [],
   "source": [
    "index = pd.date_range(start='2017-1-1', periods=12, freq='ME')\n",
    "index"
   ]
  },
  {
   "cell_type": "code",
   "execution_count": null,
   "id": "424b14db-ae16-4c38-a618-1acf6c928648",
   "metadata": {},
   "outputs": [],
   "source": [
    "index[0]"
   ]
  },
  {
   "cell_type": "code",
   "execution_count": null,
   "id": "89f6a9d9-743e-42cb-98db-1843a902c1ea",
   "metadata": {},
   "outputs": [],
   "source": [
    "index.to_period()"
   ]
  },
  {
   "cell_type": "markdown",
   "id": "1e042a10-b67f-4ba8-a2fd-f42106b2147d",
   "metadata": {},
   "source": [
    "There are many frequency aliases besides 'ME' and 'D':\n",
    "\n",
    "| Period   | Alias |\n",
    "|----------|-------|\n",
    "| Hour     | H     |\n",
    "| Day      | D     |\n",
    "| Week     | W     |\n",
    "| Month    | ME    |\n",
    "| Quarter  | Q     |\n",
    "| Year     | A     |\n",
    "\n",
    "These may be further differentiated by beginning/end of period, or business-specific definition.\n",
    "\n",
    "You can also access these `pd.Timestamp()` attributes:\n",
    "\n",
    "| attribute                            |\n",
    "|--------------------------------------|\n",
    "| .second, .minute, .hour              |\n",
    "| .day, .month, .quarter, .year        |\n",
    "| .weekday                             |\n",
    "| dayofweek                            |\n",
    "| .weekofyear                          |\n",
    "| .dayofyear                           |"
   ]
  },
  {
   "cell_type": "code",
   "execution_count": null,
   "id": "66a0fadc-ea5f-4ad0-bfec-0fe53ee167f3",
   "metadata": {},
   "outputs": [],
   "source": [
    "# Parsing strings into datetime"
   ]
  },
  {
   "cell_type": "code",
   "execution_count": null,
   "id": "47626693-9aca-4205-8ea5-c6aca2e405db",
   "metadata": {},
   "outputs": [],
   "source": [
    "google = pd.read_csv('../data/stock_data/google.csv')\n",
    "google.head()"
   ]
  },
  {
   "cell_type": "code",
   "execution_count": null,
   "id": "98f34816-8dfe-4815-8491-438427b5b411",
   "metadata": {},
   "outputs": [],
   "source": [
    "google.info()"
   ]
  },
  {
   "cell_type": "code",
   "execution_count": null,
   "id": "47469940-a902-441a-9839-40346ada6a70",
   "metadata": {},
   "outputs": [],
   "source": [
    "google['Date'] = pd.to_datetime(google['Date'])"
   ]
  },
  {
   "cell_type": "code",
   "execution_count": null,
   "id": "dc296c94-4507-46da-b02f-4b5400c85c9e",
   "metadata": {},
   "outputs": [],
   "source": [
    "google.set_index('Date', inplace=True)"
   ]
  },
  {
   "cell_type": "code",
   "execution_count": null,
   "id": "90651479-df0c-414d-ada7-710c2617877a",
   "metadata": {},
   "outputs": [],
   "source": [
    "google.head()"
   ]
  },
  {
   "cell_type": "code",
   "execution_count": null,
   "id": "438ec175-9959-4aa0-ad07-3118b95ac020",
   "metadata": {},
   "outputs": [],
   "source": [
    "sns.set()\n",
    "google.plot(title='Google Stock Price')\n",
    "plt.tight_layout()\n",
    "plt.show()"
   ]
  },
  {
   "cell_type": "code",
   "execution_count": null,
   "id": "394a5f0c-8c85-4850-a462-ee22788d3ea2",
   "metadata": {},
   "outputs": [],
   "source": [
    "google.loc['2015-1'].info()"
   ]
  },
  {
   "cell_type": "code",
   "execution_count": null,
   "id": "43b47844-d35c-4d4d-9bfd-4aa908490d80",
   "metadata": {},
   "outputs": [],
   "source": [
    "google.loc['2015':'2016'].describe()"
   ]
  },
  {
   "cell_type": "code",
   "execution_count": null,
   "id": "a08ad2b1-c515-475a-895e-0ae0348296f2",
   "metadata": {},
   "outputs": [],
   "source": [
    "# We can add frequency information to the dataframe with \n",
    "\n",
    "google.asfreq('D')"
   ]
  },
  {
   "cell_type": "code",
   "execution_count": null,
   "id": "d4b4eb9a-d79b-4642-9a4f-8b8d12bce034",
   "metadata": {},
   "outputs": [],
   "source": [
    "google.info()"
   ]
  },
  {
   "cell_type": "code",
   "execution_count": null,
   "id": "008a42cc-8533-4b48-ac4d-b30d6be053b0",
   "metadata": {},
   "outputs": [],
   "source": [
    "google.head()"
   ]
  },
  {
   "cell_type": "markdown",
   "id": "7ddbffeb-2390-4fd8-8e0b-719bae235c3b",
   "metadata": {},
   "source": [
    "We have empty values in our dataframe due to the **upsampling** (including weekendays)\n",
    "\n",
    "**'B'** frequency stands for business day"
   ]
  },
  {
   "cell_type": "code",
   "execution_count": null,
   "id": "25615e52-5f97-4fb8-85de-e16a7a5a3b01",
   "metadata": {},
   "outputs": [],
   "source": [
    "google.asfreq('B').head()"
   ]
  },
  {
   "cell_type": "markdown",
   "id": "8b7bd177-8a24-4029-ab51-1b61dd6c93ea",
   "metadata": {
    "execution": {
     "iopub.execute_input": "2024-09-09T12:06:53.398126Z",
     "iopub.status.busy": "2024-09-09T12:06:53.397170Z",
     "iopub.status.idle": "2024-09-09T12:06:53.406425Z",
     "shell.execute_reply": "2024-09-09T12:06:53.405056Z",
     "shell.execute_reply.started": "2024-09-09T12:06:53.398058Z"
    }
   },
   "source": [
    "# Timeseries Calculations \n",
    "\n",
    "## Shifting and Lagging"
   ]
  },
  {
   "cell_type": "code",
   "execution_count": null,
   "id": "9aec044e-a128-48ed-a3c6-0556ff02944c",
   "metadata": {},
   "outputs": [],
   "source": [
    "google = pd.read_csv('../data/stock_data/google.csv', parse_dates=['Date'], index_col='Date')\n",
    "google.info()"
   ]
  },
  {
   "cell_type": "code",
   "execution_count": null,
   "id": "e838c0ed-b160-4038-afe3-b3a94723ecfc",
   "metadata": {},
   "outputs": [],
   "source": [
    "google['shifted'] = google['Close'].shift(1)\n",
    "google['lagged'] = google['Close'].shift(-1)\n",
    "google"
   ]
  },
  {
   "cell_type": "markdown",
   "id": "08260856-3a2a-4328-97f9-b4a5816cce74",
   "metadata": {
    "execution": {
     "iopub.execute_input": "2024-09-09T12:13:10.283256Z",
     "iopub.status.busy": "2024-09-09T12:13:10.281490Z",
     "iopub.status.idle": "2024-09-09T12:13:10.293826Z",
     "shell.execute_reply": "2024-09-09T12:13:10.292290Z",
     "shell.execute_reply.started": "2024-09-09T12:13:10.283178Z"
    }
   },
   "source": [
    "## Calculate one-period percent change"
   ]
  },
  {
   "cell_type": "code",
   "execution_count": null,
   "id": "a76abcdb-361f-4ec5-af9f-b1f4680705ea",
   "metadata": {},
   "outputs": [],
   "source": [
    "google['change']= google.Close.div(google.shifted)\n",
    "google"
   ]
  },
  {
   "cell_type": "markdown",
   "id": "84a52f8d-6bb6-481f-9a9d-fa9b464acbc5",
   "metadata": {},
   "source": [
    "## Diff"
   ]
  },
  {
   "cell_type": "code",
   "execution_count": null,
   "id": "cffd10c1-7f73-4dc9-bb19-a06df3a5a8fb",
   "metadata": {},
   "outputs": [],
   "source": [
    "google['diff'] = google.Close.diff() \n",
    "google"
   ]
  },
  {
   "cell_type": "markdown",
   "id": "0ac6b275-ec42-4cba-91b9-34f860058fd9",
   "metadata": {},
   "source": [
    "## Percent Change"
   ]
  },
  {
   "cell_type": "code",
   "execution_count": null,
   "id": "1b2ce375-2597-45bc-b3ef-95c9029fdde1",
   "metadata": {},
   "outputs": [],
   "source": [
    "google['pct_change'] = google.Close.pct_change()\n",
    "google"
   ]
  },
  {
   "cell_type": "markdown",
   "id": "4444d1fa-658a-454c-a923-ed96f7e8e16f",
   "metadata": {
    "execution": {
     "iopub.execute_input": "2024-09-09T12:33:18.678633Z",
     "iopub.status.busy": "2024-09-09T12:33:18.677118Z",
     "iopub.status.idle": "2024-09-09T12:33:18.688821Z",
     "shell.execute_reply": "2024-09-09T12:33:18.686515Z",
     "shell.execute_reply.started": "2024-09-09T12:33:18.678545Z"
    }
   },
   "source": [
    "## Compare timeseries growth rate\n",
    "\n",
    "Whats often done is dividing the whole series by its first data point (and eventually multiply by 100)\n"
   ]
  },
  {
   "cell_type": "code",
   "execution_count": null,
   "id": "157c547a-5821-40c0-905c-6d6c45a48d50",
   "metadata": {},
   "outputs": [],
   "source": [
    "google.Close.iloc[0]"
   ]
  },
  {
   "cell_type": "code",
   "execution_count": null,
   "id": "3ced0424-fc89-4fe7-8f03-ecdba15f19f5",
   "metadata": {},
   "outputs": [],
   "source": [
    "normalized = google.Close.div(google.Close.iloc[0]).mul(100)\n",
    "normalized"
   ]
  },
  {
   "cell_type": "code",
   "execution_count": null,
   "id": "f5a8f3f8-7626-4ddc-a9e4-7927f412350b",
   "metadata": {},
   "outputs": [],
   "source": [
    "normalized.plot()"
   ]
  },
  {
   "cell_type": "code",
   "execution_count": null,
   "id": "2931bf8e-6351-4462-a617-22c913badedc",
   "metadata": {},
   "outputs": [],
   "source": [
    "prices = pd.read_csv('../data/stock_data/stock_data.csv', parse_dates=['Date'], index_col='Date')[['AAPL', 'AMZN', 'TEF']]\n",
    "prices"
   ]
  },
  {
   "cell_type": "code",
   "execution_count": null,
   "id": "36ba2e16-b4c4-44ac-bfb2-65e870ab1825",
   "metadata": {},
   "outputs": [],
   "source": [
    "prices.plot()"
   ]
  },
  {
   "cell_type": "code",
   "execution_count": null,
   "id": "29088d17-a678-4907-a3b3-d767e546fda7",
   "metadata": {},
   "outputs": [],
   "source": [
    "prices = prices.div(prices.iloc[0])"
   ]
  },
  {
   "cell_type": "code",
   "execution_count": null,
   "id": "36fc9cfd-a3ca-4912-b3da-a7a46f7a9fd7",
   "metadata": {},
   "outputs": [],
   "source": [
    "prices.plot()"
   ]
  },
  {
   "cell_type": "code",
   "execution_count": null,
   "id": "204e81a8-a089-4628-9b90-a2cfdb19cdf2",
   "metadata": {},
   "outputs": [],
   "source": [
    "sp500 = pd.read_csv('../data/stock_data/sp500.csv', parse_dates=['date'], index_col='date')\n",
    "sp500.info()"
   ]
  },
  {
   "cell_type": "code",
   "execution_count": null,
   "id": "31578713-e49f-45e1-8bc5-30f008e158d1",
   "metadata": {},
   "outputs": [],
   "source": [
    "prices.info()"
   ]
  },
  {
   "cell_type": "code",
   "execution_count": null,
   "id": "825f2313-0058-4781-9a69-458c88e28d49",
   "metadata": {},
   "outputs": [],
   "source": [
    "sp500 = sp500.loc['2010-01-04':'2016-12-30']"
   ]
  },
  {
   "cell_type": "code",
   "execution_count": null,
   "id": "ce9dcb9d-aa56-4489-9297-174af5b448a6",
   "metadata": {},
   "outputs": [],
   "source": [
    "sp500.info()"
   ]
  },
  {
   "cell_type": "code",
   "execution_count": null,
   "id": "7c357ccb-6e82-44ca-8850-7f35e1dfafce",
   "metadata": {},
   "outputs": [],
   "source": [
    "prices = pd.concat([prices, sp500], axis=1)"
   ]
  },
  {
   "cell_type": "code",
   "execution_count": null,
   "id": "8c80dbce-544c-43f0-8cb3-8bfa90b21b2f",
   "metadata": {},
   "outputs": [],
   "source": [
    "prices"
   ]
  },
  {
   "cell_type": "code",
   "execution_count": null,
   "id": "9145bbc1-d0fb-4692-993a-776733e0a2c4",
   "metadata": {},
   "outputs": [],
   "source": [
    "prices.isna().sum()"
   ]
  },
  {
   "cell_type": "code",
   "execution_count": null,
   "id": "4cbad22b-a8c5-4b6b-9651-c2db9d2df42d",
   "metadata": {},
   "outputs": [],
   "source": [
    "prices = prices.dropna()"
   ]
  },
  {
   "cell_type": "code",
   "execution_count": null,
   "id": "c155e1dd-4968-4331-8571-fa80596096c7",
   "metadata": {},
   "outputs": [],
   "source": [
    "prices.isna().sum()"
   ]
  },
  {
   "cell_type": "code",
   "execution_count": null,
   "id": "495eb3b9-d51a-463a-bc80-89c0a1440061",
   "metadata": {},
   "outputs": [],
   "source": [
    "prices['SP500'] = prices['SP500'].div(prices['SP500'].iloc[0])"
   ]
  },
  {
   "cell_type": "code",
   "execution_count": null,
   "id": "bf8ea32d-5adf-4dbc-9aa1-df376cb77c5f",
   "metadata": {},
   "outputs": [],
   "source": [
    "prices"
   ]
  },
  {
   "cell_type": "code",
   "execution_count": null,
   "id": "27a1e4df-e2c3-44eb-beaa-cd031364b21a",
   "metadata": {},
   "outputs": [],
   "source": [
    "prices.plot()"
   ]
  },
  {
   "cell_type": "markdown",
   "id": "3c8b1449-ab40-40d6-949a-8c0cb9b7e055",
   "metadata": {
    "execution": {
     "iopub.execute_input": "2024-09-09T13:09:35.781111Z",
     "iopub.status.busy": "2024-09-09T13:09:35.780261Z",
     "iopub.status.idle": "2024-09-09T13:09:35.789980Z",
     "shell.execute_reply": "2024-09-09T13:09:35.788622Z",
     "shell.execute_reply.started": "2024-09-09T13:09:35.781065Z"
    }
   },
   "source": [
    "## Resampling\n",
    "\n",
    "When we change the frequency of a dataset it affects the data itself too.\n",
    "\n",
    "When upsampling you have to tell pandas how to fill the new created datapoints (fill or interpolate)\n",
    "\n",
    "When downsampling you have to specify how to aggregate the values too."
   ]
  },
  {
   "cell_type": "code",
   "execution_count": null,
   "id": "d92b8b02-6375-4240-a197-5443cf1cce1d",
   "metadata": {},
   "outputs": [],
   "source": [
    "# Set start and end dates\n",
    "start = '2016-1-1'\n",
    "end = '2016-2-29'\n",
    "\n",
    "# Create monthly_dates here\n",
    "monthly_dates = pd.date_range(start=start, end=end, freq='M')\n",
    "\n",
    "# Create and print monthly here\n",
    "monthly = pd.Series(data=[1,2], index=monthly_dates)\n",
    "print(monthly)\n",
    "\n",
    "# Create weekly_dates here\n",
    "weekly_dates = pd.date_range(start=start, end=end, freq='W')\n",
    "\n",
    "# Print monthly, reindexed using weekly_dates\n",
    "print(monthly.reindex(weekly_dates))\n",
    "print(monthly.reindex(weekly_dates, method='bfill'))\n",
    "print(monthly.reindex(weekly_dates, method='ffill'))"
   ]
  },
  {
   "cell_type": "code",
   "execution_count": null,
   "id": "13a85d4a-a911-4306-9326-88896e5bc6d1",
   "metadata": {},
   "outputs": [],
   "source": [
    "# Import data here\n",
    "data = pd.read_csv('../data/stock_data/unrate_2000.csv', parse_dates=['date'], index_col='date')\n",
    "\n",
    "# Show first five rows of weekly series\n",
    "print(data.asfreq('W').head())\n",
    "\n",
    "# Show first five rows of weekly series with bfill option\n",
    "print(data.asfreq('W', method='bfill').head())\n",
    "\n",
    "# Create weekly series with ffill option and show first five rows\n",
    "weekly_ffill = data.asfreq('W', method='ffill')\n",
    "print(weekly_ffill.head())\n",
    "\n",
    "# Plot weekly_fill starting 2015 here \n",
    "weekly_ffill.loc['2015':].plot()\n",
    "plt.show()"
   ]
  },
  {
   "cell_type": "code",
   "execution_count": null,
   "id": "c041c629-8933-4010-a11e-1824bc390d00",
   "metadata": {},
   "outputs": [],
   "source": [
    "# Import & inspect data here\n",
    "data = pd.read_csv('../data/stock_data/debt_unemployment.csv', parse_dates = ['date'], index_col='date')\n",
    "print(data.info())\n",
    "\n",
    "# Interpolate and inspect here\n",
    "interpolated = data.interpolate()\n",
    "print(interpolated.info())\n",
    "\n",
    "# Plot interpolated data here\n",
    "interpolated.plot(secondary_y='Unemployment')\n",
    "plt.show()"
   ]
  },
  {
   "cell_type": "markdown",
   "id": "f377356b-45d3-4624-804f-c25888e2e870",
   "metadata": {},
   "source": [
    "# Downsampling and aggregation methods\n",
    "\n",
    "Downsampling its about reducing the frequency: daily to monthly, hourly to daily...\n",
    "\n",
    "Mean? Median? Last value? \n",
    "\n"
   ]
  },
  {
   "cell_type": "code",
   "execution_count": null,
   "id": "c0a6d483-112e-4fd5-9694-cb2acea69b73",
   "metadata": {},
   "outputs": [],
   "source": [
    "ozone = pd.read_csv('../data/air_quality_data/ozone_nyc.csv', parse_dates=['date'], index_col='date')\n",
    "ozone"
   ]
  },
  {
   "cell_type": "code",
   "execution_count": null,
   "id": "d180743e-0389-49e3-943a-5971c0e472fc",
   "metadata": {},
   "outputs": [],
   "source": [
    "ozone.info()"
   ]
  },
  {
   "cell_type": "code",
   "execution_count": null,
   "id": "4192a945-2813-4f06-8450-5f8aa8c8cbb2",
   "metadata": {},
   "outputs": [],
   "source": [
    "ozone.asfreq('D')\n",
    "ozone.info()"
   ]
  },
  {
   "cell_type": "code",
   "execution_count": null,
   "id": "a60ccc08-e6c4-40a8-808b-1c9cb73674db",
   "metadata": {},
   "outputs": [],
   "source": [
    "# convert to monthly \n",
    "ozone.resample('M').mean().head()"
   ]
  },
  {
   "cell_type": "code",
   "execution_count": null,
   "id": "511e18f5-f807-4c58-ab11-fcd5976f5934",
   "metadata": {},
   "outputs": [],
   "source": [
    "#we can aggregate in different manners at once too \n",
    "ozone.resample('M').agg(['mean', 'std']).head()"
   ]
  },
  {
   "cell_type": "code",
   "execution_count": null,
   "id": "8dffe1c5-dfd5-4c2d-bfd8-44e7507bb72f",
   "metadata": {},
   "outputs": [],
   "source": [
    "ozone = ozone.loc['2016':]\n",
    "ax=ozone.plot()\n",
    "monthly = ozone.resample('M').mean()\n",
    "monthly.add_suffix('_monthly').plot(ax=ax)"
   ]
  },
  {
   "cell_type": "markdown",
   "id": "cbb5ceaa-4041-4e4e-80a2-85899668b9ff",
   "metadata": {},
   "source": [
    "# Window Functions\n",
    "\n",
    "Windows specify sub periods of your time series\n",
    "\n",
    "Calculate metrics for sub periods inside the window\n",
    "\n",
    "Create a new time series of metrics\n",
    "\n",
    "There are two main window types: \n",
    "- Rolling\n",
    "- Expanding\n",
    "\n",
    "## Rolling Windows"
   ]
  },
  {
   "cell_type": "code",
   "execution_count": null,
   "id": "e40f07fa-607c-4826-bacc-0fdf70eea095",
   "metadata": {},
   "outputs": [],
   "source": [
    "google = pd.read_csv('../data/stock_data/google.csv', parse_dates=['Date'], index_col='Date')\n",
    "ax = google.plot()"
   ]
  },
  {
   "cell_type": "code",
   "execution_count": null,
   "id": "b14d65ad-eeec-4de7-a162-5fd734aa0604",
   "metadata": {},
   "outputs": [],
   "source": [
    "ax = google.plot()\n",
    "google.rolling(window='30D').mean().plot(ax=ax)\n",
    "plt.show()"
   ]
  },
  {
   "cell_type": "code",
   "execution_count": null,
   "id": "7229ef4e-6b1f-4bb6-bd7d-46689ee530a0",
   "metadata": {},
   "outputs": [],
   "source": [
    "r = google.Close.rolling('30D').agg(['mean', 'std'])\n",
    "r.plot(subplots=True)"
   ]
  },
  {
   "cell_type": "code",
   "execution_count": null,
   "id": "6b75553e-ee62-44c8-aada-aa33d062b348",
   "metadata": {},
   "outputs": [],
   "source": [
    "# Resample, interpolate and inspect ozone data here\n",
    "ozone = ozone.resample('D').interpolate()\n",
    "print(data.info())\n",
    "\n",
    "# Create the rolling window\n",
    "rolling = ozone.Ozone.rolling(60)\n",
    "\n",
    "# Insert the rolling quantiles to the monthly returns\n",
    "ozone['q10'] = rolling.quantile(0.1)\n",
    "ozone['q50'] = rolling.quantile(0.5)\n",
    "ozone['q90'] = rolling.quantile(0.9)\n",
    "\n",
    "# Plot the data\n",
    "ozone.plot()\n",
    "plt.show()"
   ]
  },
  {
   "cell_type": "markdown",
   "id": "bdfd4e51-558f-4dad-8327-44208830f15b",
   "metadata": {
    "execution": {
     "iopub.execute_input": "2024-09-09T16:07:02.497563Z",
     "iopub.status.busy": "2024-09-09T16:07:02.496368Z",
     "iopub.status.idle": "2024-09-09T16:07:02.508188Z",
     "shell.execute_reply": "2024-09-09T16:07:02.506900Z",
     "shell.execute_reply.started": "2024-09-09T16:07:02.497484Z"
    }
   },
   "source": [
    "## Expanding Windows\n",
    "\n",
    "Calculate metrics for periods up to current date\n",
    "\n",
    "New time series reflects all historical values\n",
    "\n",
    "Two options in pandas\n",
    "- *.expanding()* (like rolling)\n",
    "- *.cumsum()*, *.cumprod()*, *.cummin()*, *.cummax()*\n"
   ]
  },
  {
   "cell_type": "code",
   "execution_count": null,
   "id": "afc7c55a-4a42-4d39-9b8b-7d6baef9a285",
   "metadata": {},
   "outputs": [],
   "source": [
    "df = pd.DataFrame({'data': range(5)})\n",
    "df['expanding sum']=df.data.expanding().sum() \n",
    "df['cumulative sum']=df.data.cumsum() \n",
    "\n",
    "df"
   ]
  },
  {
   "cell_type": "code",
   "execution_count": null,
   "id": "d2eec1c3-a070-416e-bfe0-58594f964481",
   "metadata": {},
   "outputs": [],
   "source": [
    "google = pd.read_csv('../data/stock_data/google.csv', parse_dates=['Date'], index_col='Date')\n",
    "google['running min'] = google.Close.expanding().min() \n",
    "google['running max'] = google.Close.expanding().max() "
   ]
  },
  {
   "cell_type": "code",
   "execution_count": null,
   "id": "171056d2-b687-4cfd-8257-fd8db67aadd8",
   "metadata": {},
   "outputs": [],
   "source": [
    "google.plot()"
   ]
  },
  {
   "cell_type": "markdown",
   "id": "edab0495-7979-4983-8ee6-1f598b629b10",
   "metadata": {},
   "source": [
    "# SP500 price simulation\n",
    "\n"
   ]
  },
  {
   "cell_type": "code",
   "execution_count": null,
   "id": "37874b93-9e44-4d59-8d26-e1a1b74398a6",
   "metadata": {},
   "outputs": [],
   "source": [
    "from numpy.random import normal, seed \n",
    "from scipy.stats import norm\n",
    "\n",
    "seed(42)\n",
    "\n",
    "random_returns = normal(loc=0, scale=0.01, size=1000)\n",
    "sns.displot(random_returns, kde=True)"
   ]
  },
  {
   "cell_type": "code",
   "execution_count": null,
   "id": "704f7d2f-9734-47a2-9db7-13e8622d1049",
   "metadata": {},
   "outputs": [],
   "source": [
    "return_series = pd.Series(random_returns)\n",
    "random_prices = return_series.add(1).cumprod().sub(1)\n",
    "random_prices.mul(100).plot()"
   ]
  },
  {
   "cell_type": "code",
   "execution_count": null,
   "id": "6e2c00d0-384c-4d80-a957-3712249a44c1",
   "metadata": {},
   "outputs": [],
   "source": [
    "data = pd.read_csv('../data/stock_data/sp500.csv', parse_dates=['date'], index_col='date')\n",
    "data"
   ]
  },
  {
   "cell_type": "code",
   "execution_count": null,
   "id": "eb3f477c-cae1-4ca6-8ed9-0d5f7a558f4c",
   "metadata": {},
   "outputs": [],
   "source": [
    "data['returns'] = data.SP500.pct_change() \n",
    "data.plot(subplots=True) \n"
   ]
  },
  {
   "cell_type": "code",
   "execution_count": null,
   "id": "2d9d4a55-1b56-4ab2-b4c4-bf10f2668a63",
   "metadata": {},
   "outputs": [],
   "source": [
    "sns.displot(data.returns.dropna().mul(100), kde=True)"
   ]
  },
  {
   "cell_type": "code",
   "execution_count": null,
   "id": "70ef8468-cfb3-4c5a-88ac-fa1a5dabab26",
   "metadata": {},
   "outputs": [],
   "source": [
    "from numpy.random import choice \n",
    "\n",
    "sample = data.returns.dropna() \n",
    "n_obs = data.returns.count() \n",
    "random_walk = choice(sample, size=n_obs) \n",
    "random_walk = pd.Series(random_walk, index=sample.index) \n",
    "random_walk.head()"
   ]
  },
  {
   "cell_type": "markdown",
   "id": "34d4ed68-f518-4c8c-8bba-bcccbb55222c",
   "metadata": {
    "execution": {
     "iopub.execute_input": "2024-09-10T08:16:35.141402Z",
     "iopub.status.busy": "2024-09-10T08:16:35.141250Z",
     "iopub.status.idle": "2024-09-10T08:16:35.143632Z",
     "shell.execute_reply": "2024-09-10T08:16:35.143240Z",
     "shell.execute_reply.started": "2024-09-10T08:16:35.141387Z"
    }
   },
   "source": [
    "# Relationships between time series: Correlation\n",
    "\n",
    "**Correlation coefficient**: how similar is the pairwise movement (covariance) of two variables around their averages\n"
   ]
  },
  {
   "cell_type": "code",
   "execution_count": null,
   "id": "08fcdde7-ef20-4561-b02e-400676a6ca80",
   "metadata": {},
   "outputs": [],
   "source": [
    "data = pd.read_csv('../data/stock_data/asset_classes.csv', parse_dates=['DATE'], index_col='DATE')\n",
    "data.info()"
   ]
  },
  {
   "cell_type": "code",
   "execution_count": null,
   "id": "1da9455b-99f4-4e68-bbef-cd243fa80836",
   "metadata": {},
   "outputs": [],
   "source": [
    "daily_returns = data.pct_change()\n",
    "daily_returns"
   ]
  },
  {
   "cell_type": "code",
   "execution_count": null,
   "id": "ca7d073d-6a63-4435-a7ce-f70a8a22dbfd",
   "metadata": {},
   "outputs": [],
   "source": [
    "sns.jointplot(x='SP500', y='Bonds', data=daily_returns)"
   ]
  },
  {
   "cell_type": "code",
   "execution_count": null,
   "id": "fcaba3b7-112c-4dd6-94f2-281e53b56c37",
   "metadata": {},
   "outputs": [],
   "source": [
    "sns.jointplot(x='Gold', y='Oil', data=daily_returns)"
   ]
  },
  {
   "cell_type": "code",
   "execution_count": null,
   "id": "06a3324b-d56a-4657-9986-99ca91b84fef",
   "metadata": {},
   "outputs": [],
   "source": [
    "sns.jointplot(x='Bonds', y='Oil', data=daily_returns)"
   ]
  },
  {
   "cell_type": "code",
   "execution_count": null,
   "id": "59af3df0-8aac-4952-a16e-27be0f9225cf",
   "metadata": {},
   "outputs": [],
   "source": [
    "correlations = daily_returns.corr()\n",
    "correlations"
   ]
  },
  {
   "cell_type": "code",
   "execution_count": null,
   "id": "38f7e9da-c2d6-4407-b07e-c573a68f6dc3",
   "metadata": {},
   "outputs": [],
   "source": [
    "sns.heatmap(correlations, annot=True)"
   ]
  },
  {
   "cell_type": "code",
   "execution_count": null,
   "id": "8dee3217-123e-40e2-9b7a-f8facf46a9be",
   "metadata": {},
   "outputs": [],
   "source": []
  }
 ],
 "metadata": {
  "kernelspec": {
   "display_name": "Python 3 (ipykernel)",
   "language": "python",
   "name": "python3"
  },
  "language_info": {
   "codemirror_mode": {
    "name": "ipython",
    "version": 3
   },
   "file_extension": ".py",
   "mimetype": "text/x-python",
   "name": "python",
   "nbconvert_exporter": "python",
   "pygments_lexer": "ipython3",
   "version": "3.12.4"
  }
 },
 "nbformat": 4,
 "nbformat_minor": 5
}
