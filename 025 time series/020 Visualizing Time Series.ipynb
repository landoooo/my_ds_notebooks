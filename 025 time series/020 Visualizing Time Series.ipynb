{
 "cells": [
  {
   "cell_type": "markdown",
   "id": "290eb390-eece-4aaa-b8eb-11e31d16fd80",
   "metadata": {},
   "source": [
    "# Visualizing Time Series"
   ]
  },
  {
   "cell_type": "code",
   "execution_count": null,
   "id": "258da8a4-c67c-449f-88dd-0b16f9080708",
   "metadata": {
    "execution": {
     "iopub.execute_input": "2025-04-22T10:30:32.582991Z",
     "iopub.status.busy": "2025-04-22T10:30:32.582125Z",
     "iopub.status.idle": "2025-04-22T10:31:45.074455Z",
     "shell.execute_reply": "2025-04-22T10:31:45.074058Z",
     "shell.execute_reply.started": "2025-04-22T10:30:32.582948Z"
    }
   },
   "outputs": [],
   "source": [
    "import pandas as pd \n",
    "import numpy as np \n",
    "import seaborn as sns\n",
    "import matplotlib.pyplot as plt \n",
    "\n",
    "import warnings\n",
    "\n",
    "warnings.filterwarnings('ignore')\n",
    "sns.set()"
   ]
  },
  {
   "cell_type": "code",
   "execution_count": null,
   "id": "5c874820-684b-4e18-8add-b48eff41d421",
   "metadata": {
    "execution": {
     "iopub.execute_input": "2025-04-22T10:31:45.076021Z",
     "iopub.status.busy": "2025-04-22T10:31:45.075833Z",
     "iopub.status.idle": "2025-04-22T10:31:45.670684Z",
     "shell.execute_reply": "2025-04-22T10:31:45.670305Z",
     "shell.execute_reply.started": "2025-04-22T10:31:45.076007Z"
    }
   },
   "outputs": [],
   "source": [
    "discoveries = pd.read_csv('../data/discoveries.csv')\n",
    "\n",
    "discoveries['date'] = pd.to_datetime(discoveries['date'])\n",
    "\n",
    "# Set the date column as the index of your DataFrame discoveries\n",
    "discoveries = discoveries.set_index('date')\n",
    "\n",
    "# Plot the time series in your DataFrame\n",
    "ax = discoveries.plot(color='blue')\n",
    "\n",
    "# Specify the x-axis label inyour plot\n",
    "ax.set_xlabel('Date')\n",
    "\n",
    "# Specify the y-axis label in your plot\n",
    "ax.set_ylabel('Number of great discoveries')\n",
    "\n",
    "# Show plot\n",
    "plt.show()\n"
   ]
  },
  {
   "cell_type": "code",
   "execution_count": null,
   "id": "84da7b01-0720-41ce-9cdf-87cfbe1d90bf",
   "metadata": {
    "execution": {
     "iopub.execute_input": "2025-04-22T10:31:45.671416Z",
     "iopub.status.busy": "2025-04-22T10:31:45.671290Z",
     "iopub.status.idle": "2025-04-22T10:31:45.776983Z",
     "shell.execute_reply": "2025-04-22T10:31:45.776608Z",
     "shell.execute_reply.started": "2025-04-22T10:31:45.671403Z"
    }
   },
   "outputs": [],
   "source": [
    "# Import the matplotlib.pyplot sub-module\n",
    "import matplotlib.pyplot as plt\n",
    "\n",
    "# Use the fivethirtyeight style\n",
    "plt.style.use('fivethirtyeight')\n",
    "\n",
    "# Plot the time series\n",
    "ax1 = discoveries.plot()\n",
    "ax1.set_title('FiveThirtyEight Style')\n",
    "plt.show()"
   ]
  },
  {
   "cell_type": "code",
   "execution_count": null,
   "id": "be679c70-e596-45f5-b378-d4a442737085",
   "metadata": {
    "execution": {
     "iopub.execute_input": "2025-04-22T10:31:45.778447Z",
     "iopub.status.busy": "2025-04-22T10:31:45.778292Z",
     "iopub.status.idle": "2025-04-22T10:31:45.881574Z",
     "shell.execute_reply": "2025-04-22T10:31:45.881199Z",
     "shell.execute_reply.started": "2025-04-22T10:31:45.778433Z"
    }
   },
   "outputs": [],
   "source": [
    "# Import the matplotlib.pyplot sub-module\n",
    "import matplotlib.pyplot as plt\n",
    "\n",
    "# Use the ggplot style\n",
    "plt.style.use('ggplot')\n",
    "ax2 = discoveries.plot()\n",
    "\n",
    "# Set the title\n",
    "ax2.set_title('ggplot Style')\n",
    "plt.show()"
   ]
  },
  {
   "cell_type": "code",
   "execution_count": null,
   "id": "5914cc47-f1bb-428f-97c5-f4cf0846e094",
   "metadata": {
    "execution": {
     "iopub.execute_input": "2025-04-22T10:31:45.882260Z",
     "iopub.status.busy": "2025-04-22T10:31:45.882126Z",
     "iopub.status.idle": "2025-04-22T10:31:45.987344Z",
     "shell.execute_reply": "2025-04-22T10:31:45.986964Z",
     "shell.execute_reply.started": "2025-04-22T10:31:45.882247Z"
    }
   },
   "outputs": [],
   "source": [
    "# Plot a line chart of the discoveries DataFrame using the specified arguments\n",
    "ax = discoveries.plot(color='blue', figsize=(8, 3), linewidth=2, fontsize=6)\n",
    "\n",
    "# Specify the title in your plot\n",
    "ax.set_title('Number of great inventions and scientific discoveries from 1860 to 1959', fontsize=8)\n",
    "\n",
    "# Show plot\n",
    "plt.show()"
   ]
  },
  {
   "cell_type": "markdown",
   "id": "bb6262fa-d259-42e5-b71b-82a06ef04f0c",
   "metadata": {
    "execution": {
     "iopub.execute_input": "2024-09-10T12:34:09.296186Z",
     "iopub.status.busy": "2024-09-10T12:34:09.295289Z",
     "iopub.status.idle": "2024-09-10T12:34:09.306081Z",
     "shell.execute_reply": "2024-09-10T12:34:09.303433Z",
     "shell.execute_reply.started": "2024-09-10T12:34:09.296114Z"
    }
   },
   "source": [
    "# Slicing time"
   ]
  },
  {
   "cell_type": "code",
   "execution_count": null,
   "id": "5b2ef7df-19e0-406a-ad96-d1fc41b85225",
   "metadata": {
    "execution": {
     "iopub.execute_input": "2025-04-22T10:31:45.988002Z",
     "iopub.status.busy": "2025-04-22T10:31:45.987868Z",
     "iopub.status.idle": "2025-04-22T10:31:45.996769Z",
     "shell.execute_reply": "2025-04-22T10:31:45.996041Z",
     "shell.execute_reply.started": "2025-04-22T10:31:45.987988Z"
    }
   },
   "outputs": [],
   "source": [
    "discoveries"
   ]
  },
  {
   "cell_type": "code",
   "execution_count": null,
   "id": "7eea6f3c-deb3-4ea2-b09e-387dda22baa6",
   "metadata": {
    "execution": {
     "iopub.execute_input": "2025-04-22T10:31:45.997811Z",
     "iopub.status.busy": "2025-04-22T10:31:45.997617Z",
     "iopub.status.idle": "2025-04-22T10:31:46.005459Z",
     "shell.execute_reply": "2025-04-22T10:31:46.004772Z",
     "shell.execute_reply.started": "2025-04-22T10:31:45.997796Z"
    }
   },
   "outputs": [],
   "source": [
    "discoveries['1900':'1920']"
   ]
  },
  {
   "cell_type": "code",
   "execution_count": null,
   "id": "c3c86454-6d0c-4a5f-91a3-b5c3cc2aeb55",
   "metadata": {
    "execution": {
     "iopub.execute_input": "2025-04-22T10:31:46.006531Z",
     "iopub.status.busy": "2025-04-22T10:31:46.006376Z",
     "iopub.status.idle": "2025-04-22T10:31:46.011942Z",
     "shell.execute_reply": "2025-04-22T10:31:46.011472Z",
     "shell.execute_reply.started": "2025-04-22T10:31:46.006516Z"
    }
   },
   "outputs": [],
   "source": [
    "discoveries['1900-01':'1905-01']"
   ]
  },
  {
   "cell_type": "code",
   "execution_count": null,
   "id": "07c8f5b4-f331-40ef-b82e-07ada8c43c16",
   "metadata": {
    "execution": {
     "iopub.execute_input": "2025-04-22T10:31:46.012890Z",
     "iopub.status.busy": "2025-04-22T10:31:46.012637Z",
     "iopub.status.idle": "2025-04-22T10:31:46.101406Z",
     "shell.execute_reply": "2025-04-22T10:31:46.101014Z",
     "shell.execute_reply.started": "2025-04-22T10:31:46.012870Z"
    }
   },
   "outputs": [],
   "source": [
    "discoveries['1900-01':'1905-01'].plot(color='blue', fontsize=12)"
   ]
  },
  {
   "cell_type": "markdown",
   "id": "6bfaafed-aa93-4a56-b403-1ce3e0103b5f",
   "metadata": {},
   "source": [
    "# Markers "
   ]
  },
  {
   "cell_type": "code",
   "execution_count": null,
   "id": "b7d818f5-f5b6-4119-b071-79955b084ba6",
   "metadata": {
    "execution": {
     "iopub.execute_input": "2025-04-22T10:31:46.103909Z",
     "iopub.status.busy": "2025-04-22T10:31:46.103745Z",
     "iopub.status.idle": "2025-04-22T10:31:46.196749Z",
     "shell.execute_reply": "2025-04-22T10:31:46.196383Z",
     "shell.execute_reply.started": "2025-04-22T10:31:46.103894Z"
    }
   },
   "outputs": [],
   "source": [
    "discoveries.asfreq('Y')\n",
    "ax = discoveries.plot(color='blue', fontsize=12)\n",
    "ax.axvline(x=(pd.Timestamp('1902-01-01')), color='red', linestyle='--')\n",
    "ax.axhline(y=5, color='green', linestyle='--')\n",
    "ax.set_xlabel('year')\n",
    "ax.set_ylabel('number of discoveries')\n",
    "\n",
    "plt.show()"
   ]
  },
  {
   "cell_type": "code",
   "execution_count": null,
   "id": "05d762cd-5d1b-48ec-a2a4-593ddc36ca6c",
   "metadata": {
    "execution": {
     "iopub.execute_input": "2025-04-22T10:31:46.197443Z",
     "iopub.status.busy": "2025-04-22T10:31:46.197311Z",
     "iopub.status.idle": "2025-04-22T10:31:46.199544Z",
     "shell.execute_reply": "2025-04-22T10:31:46.199209Z",
     "shell.execute_reply.started": "2025-04-22T10:31:46.197430Z"
    }
   },
   "outputs": [],
   "source": [
    "# Regions"
   ]
  },
  {
   "cell_type": "code",
   "execution_count": null,
   "id": "542d3598-bb8d-4393-9432-a5030961e913",
   "metadata": {
    "execution": {
     "iopub.execute_input": "2025-04-22T10:31:46.200269Z",
     "iopub.status.busy": "2025-04-22T10:31:46.200099Z",
     "iopub.status.idle": "2025-04-22T10:31:46.294886Z",
     "shell.execute_reply": "2025-04-22T10:31:46.294492Z",
     "shell.execute_reply.started": "2025-04-22T10:31:46.200257Z"
    }
   },
   "outputs": [],
   "source": [
    "discoveries.asfreq('Y')\n",
    "ax = discoveries.plot(color='blue', fontsize=12)\n",
    "\n",
    "ax.axvspan(pd.Timestamp('1901-01-01'), pd.Timestamp('1903-01-01'), color='red', alpha=0.2)\n",
    "ax.axhspan(4,5 , color='green', linestyle='--', alpha=0.2)\n",
    "\n",
    "ax.set_xlabel('year')\n",
    "ax.set_ylabel('number of discoveries')\n",
    "\n",
    "plt.show()"
   ]
  },
  {
   "cell_type": "markdown",
   "id": "2cadcf28-f627-4590-aeba-9a92851e7536",
   "metadata": {
    "execution": {
     "iopub.execute_input": "2024-09-10T13:04:11.129288Z",
     "iopub.status.busy": "2024-09-10T13:04:11.128304Z",
     "iopub.status.idle": "2024-09-10T13:04:11.136961Z",
     "shell.execute_reply": "2024-09-10T13:04:11.135667Z",
     "shell.execute_reply.started": "2024-09-10T13:04:11.129231Z"
    }
   },
   "source": [
    "# Cleaning time series"
   ]
  },
  {
   "cell_type": "code",
   "execution_count": null,
   "id": "1056e07f-7bdb-4317-91f2-532bb068b036",
   "metadata": {
    "execution": {
     "iopub.execute_input": "2025-04-22T10:31:46.295726Z",
     "iopub.status.busy": "2025-04-22T10:31:46.295461Z",
     "iopub.status.idle": "2025-04-22T10:31:46.306944Z",
     "shell.execute_reply": "2025-04-22T10:31:46.306361Z",
     "shell.execute_reply.started": "2025-04-22T10:31:46.295710Z"
    }
   },
   "outputs": [],
   "source": [
    "co2 = pd.read_csv('../data/ch2_co2_levels.csv', parse_dates=['datestamp'], index_col='datestamp')\n",
    "co2"
   ]
  },
  {
   "cell_type": "code",
   "execution_count": null,
   "id": "e2fa382a-73de-40a8-a147-23e843398dfe",
   "metadata": {
    "execution": {
     "iopub.execute_input": "2025-04-22T10:31:46.307813Z",
     "iopub.status.busy": "2025-04-22T10:31:46.307577Z",
     "iopub.status.idle": "2025-04-22T10:31:46.312129Z",
     "shell.execute_reply": "2025-04-22T10:31:46.311665Z",
     "shell.execute_reply.started": "2025-04-22T10:31:46.307774Z"
    }
   },
   "outputs": [],
   "source": [
    "co2.isnull().sum()"
   ]
  },
  {
   "cell_type": "code",
   "execution_count": null,
   "id": "58179330-ddcc-4b9d-b711-a2ebaa67c6db",
   "metadata": {
    "execution": {
     "iopub.execute_input": "2025-04-22T10:31:46.313283Z",
     "iopub.status.busy": "2025-04-22T10:31:46.313000Z",
     "iopub.status.idle": "2025-04-22T10:31:46.317159Z",
     "shell.execute_reply": "2025-04-22T10:31:46.316699Z",
     "shell.execute_reply.started": "2025-04-22T10:31:46.313259Z"
    }
   },
   "outputs": [],
   "source": [
    "co2.notnull().sum()"
   ]
  },
  {
   "cell_type": "markdown",
   "id": "95453bea-187d-45b0-877a-9bc5fdb2011b",
   "metadata": {},
   "source": [
    "We can fill empty values with the mean of the time series, the value before or after."
   ]
  },
  {
   "cell_type": "code",
   "execution_count": null,
   "id": "a4b74a23-be60-43e3-a0e6-84ee7dd2477b",
   "metadata": {
    "execution": {
     "iopub.execute_input": "2025-04-22T10:31:46.318249Z",
     "iopub.status.busy": "2025-04-22T10:31:46.317921Z",
     "iopub.status.idle": "2025-04-22T10:31:46.326116Z",
     "shell.execute_reply": "2025-04-22T10:31:46.325740Z",
     "shell.execute_reply.started": "2025-04-22T10:31:46.318233Z"
    }
   },
   "outputs": [],
   "source": [
    "co2.fillna(method='ffill')\n",
    "co2.fillna(method='bfill')\n",
    "co2.fillna(value=co2.mean())"
   ]
  },
  {
   "cell_type": "markdown",
   "id": "4fa6a3ab-2d7f-44d8-bca9-5f8e4da9df9f",
   "metadata": {},
   "source": [
    "# Plot aggregates of your data\n",
    "## Moving averages \n",
    "\n",
    "Used for: \n",
    "- smooth out short term fluctuations\n",
    "- removing outliers\n",
    "- highlighting long term trends or cycles\n",
    "\n"
   ]
  },
  {
   "cell_type": "code",
   "execution_count": null,
   "id": "ee97bea4-1b8a-4079-bef7-dcf54ac6fbdf",
   "metadata": {
    "execution": {
     "iopub.execute_input": "2025-04-22T10:31:46.326933Z",
     "iopub.status.busy": "2025-04-22T10:31:46.326755Z",
     "iopub.status.idle": "2025-04-22T10:31:46.330314Z",
     "shell.execute_reply": "2025-04-22T10:31:46.329889Z",
     "shell.execute_reply.started": "2025-04-22T10:31:46.326914Z"
    }
   },
   "outputs": [],
   "source": [
    "co2_mean = co2.rolling(window=52).mean()"
   ]
  },
  {
   "cell_type": "code",
   "execution_count": null,
   "id": "825b9681-9e33-4e10-81db-0158c573c9ba",
   "metadata": {
    "execution": {
     "iopub.execute_input": "2025-04-22T10:31:46.331132Z",
     "iopub.status.busy": "2025-04-22T10:31:46.330904Z",
     "iopub.status.idle": "2025-04-22T10:31:46.468153Z",
     "shell.execute_reply": "2025-04-22T10:31:46.467749Z",
     "shell.execute_reply.started": "2025-04-22T10:31:46.331110Z"
    }
   },
   "outputs": [],
   "source": [
    "ax=co2_mean.plot()\n",
    "ax.set_xlabel('Date')\n",
    "ax.set_ylabel('The value of my Y axis')\n",
    "ax.set_title('52 weeks rolling mean of my time series')\n",
    "\n",
    "plt.show()"
   ]
  },
  {
   "cell_type": "markdown",
   "id": "a0afafd0-79d9-453b-9e6f-c290ab99e3d9",
   "metadata": {},
   "source": [
    "# Aggregating by month, week...\n"
   ]
  },
  {
   "cell_type": "code",
   "execution_count": null,
   "id": "b3d091f6-cbd8-4799-b6f1-0655e75f4bb0",
   "metadata": {
    "execution": {
     "iopub.execute_input": "2025-04-22T10:31:46.468935Z",
     "iopub.status.busy": "2025-04-22T10:31:46.468809Z",
     "iopub.status.idle": "2025-04-22T10:31:46.472251Z",
     "shell.execute_reply": "2025-04-22T10:31:46.471826Z",
     "shell.execute_reply.started": "2025-04-22T10:31:46.468922Z"
    }
   },
   "outputs": [],
   "source": [
    "index_month =co2.index.month\n",
    "index_month"
   ]
  },
  {
   "cell_type": "code",
   "execution_count": null,
   "id": "2b79eab3-9d47-4f5e-8d0e-8941d1414c8e",
   "metadata": {
    "execution": {
     "iopub.execute_input": "2025-04-22T10:31:46.473141Z",
     "iopub.status.busy": "2025-04-22T10:31:46.472978Z",
     "iopub.status.idle": "2025-04-22T10:31:46.547217Z",
     "shell.execute_reply": "2025-04-22T10:31:46.546820Z",
     "shell.execute_reply.started": "2025-04-22T10:31:46.473129Z"
    }
   },
   "outputs": [],
   "source": [
    "co2_by_month = co2.groupby(index_month).mean()\n",
    "co2_by_month.plot() \n",
    "plt.show()"
   ]
  },
  {
   "cell_type": "code",
   "execution_count": null,
   "id": "cbb6934a-3c48-42f5-b061-1a3c69fcf7dd",
   "metadata": {
    "execution": {
     "iopub.execute_input": "2025-04-22T10:31:46.547937Z",
     "iopub.status.busy": "2025-04-22T10:31:46.547802Z",
     "iopub.status.idle": "2025-04-22T10:31:46.550138Z",
     "shell.execute_reply": "2025-04-22T10:31:46.549775Z",
     "shell.execute_reply.started": "2025-04-22T10:31:46.547924Z"
    }
   },
   "outputs": [],
   "source": [
    "co2_levels = co2"
   ]
  },
  {
   "cell_type": "code",
   "execution_count": null,
   "id": "b735b391-e107-4a61-8b4b-98f4abca131c",
   "metadata": {
    "execution": {
     "iopub.execute_input": "2025-04-22T10:31:46.551121Z",
     "iopub.status.busy": "2025-04-22T10:31:46.550950Z",
     "iopub.status.idle": "2025-04-22T10:31:46.749977Z",
     "shell.execute_reply": "2025-04-22T10:31:46.749433Z",
     "shell.execute_reply.started": "2025-04-22T10:31:46.551107Z"
    }
   },
   "outputs": [],
   "source": [
    "# Compute the 52 weeks rolling mean of the co2_levels DataFrame\n",
    "ma = co2_levels.rolling(window=52).mean()\n",
    "\n",
    "# Compute the 52 weeks rolling standard deviation of the co2_levels DataFrame\n",
    "mstd = co2_levels.rolling(window=52).std()\n",
    "\n",
    "# Add the upper bound column to the ma DataFrame\n",
    "ma['upper'] = ma['co2'] + (2 * mstd['co2'])\n",
    "\n",
    "# Add the lower bound column to the ma DataFrame\n",
    "ma['lower'] = ma['co2'] - (2 * mstd['co2'])\n",
    "\n",
    "# Plot the content of the ma DataFrame\n",
    "ax = ma.plot(linewidth=0.8, fontsize=6)\n",
    "\n",
    "# Specify labels, legend, and show the plot\n",
    "ax.set_xlabel('Date', fontsize=10)\n",
    "ax.set_ylabel('CO2 levels in Mauai Hawaii', fontsize=10)\n",
    "ax.set_title('Rolling mean and variance of CO2 levels\\nin Mauai Hawaii from 1958 to 2001', fontsize=10)\n",
    "plt.show()"
   ]
  },
  {
   "cell_type": "markdown",
   "id": "373b8369-ebba-4e93-9eff-ae6d749bba43",
   "metadata": {
    "execution": {
     "iopub.execute_input": "2024-10-23T08:27:02.638802Z",
     "iopub.status.busy": "2024-10-23T08:27:02.637991Z",
     "iopub.status.idle": "2024-10-23T08:27:02.648910Z",
     "shell.execute_reply": "2024-10-23T08:27:02.647903Z",
     "shell.execute_reply.started": "2024-10-23T08:27:02.638733Z"
    }
   },
   "source": [
    "## Histograms \n",
    "\n",
    "## Boxplots \n",
    "\n",
    "## Kerne Density Plots"
   ]
  },
  {
   "cell_type": "code",
   "execution_count": null,
   "id": "9aac487a-0129-4172-b3c5-2abc4f8a55a2",
   "metadata": {},
   "outputs": [],
   "source": []
  },
  {
   "cell_type": "code",
   "execution_count": null,
   "id": "0f0f8169-4156-48aa-8362-26db1ab1c78e",
   "metadata": {
    "execution": {
     "iopub.execute_input": "2025-04-22T10:31:46.750883Z",
     "iopub.status.busy": "2025-04-22T10:31:46.750711Z",
     "iopub.status.idle": "2025-04-22T10:31:46.812952Z",
     "shell.execute_reply": "2025-04-22T10:31:46.812438Z",
     "shell.execute_reply.started": "2025-04-22T10:31:46.750867Z"
    }
   },
   "outputs": [],
   "source": [
    "# Generate a boxplot\n",
    "ax = co2_levels.boxplot()\n",
    "\n",
    "# Set the labels and display the plot\n",
    "ax.set_xlabel('CO2', fontsize=10)\n",
    "ax.set_ylabel('Boxplot CO2 levels in Maui Hawaii', fontsize=10)\n",
    "plt.legend(fontsize=10)\n",
    "plt.show()"
   ]
  },
  {
   "cell_type": "code",
   "execution_count": null,
   "id": "43303a8b-9992-403e-89f5-8419c3ed3840",
   "metadata": {
    "execution": {
     "iopub.execute_input": "2025-04-22T10:31:46.813870Z",
     "iopub.status.busy": "2025-04-22T10:31:46.813681Z",
     "iopub.status.idle": "2025-04-22T10:31:46.935429Z",
     "shell.execute_reply": "2025-04-22T10:31:46.935040Z",
     "shell.execute_reply.started": "2025-04-22T10:31:46.813854Z"
    }
   },
   "outputs": [],
   "source": [
    "# Generate a histogram\n",
    "ax = co2_levels.plot(kind='hist', bins=50, fontsize=6)\n",
    "\n",
    "# Set the labels and display the plot\n",
    "ax.set_xlabel('CO2', fontsize=10)\n",
    "ax.set_ylabel('Histogram of CO2 levels in Maui Hawaii', fontsize=10)\n",
    "plt.legend(fontsize=10)\n",
    "plt.show()"
   ]
  },
  {
   "cell_type": "code",
   "execution_count": null,
   "id": "76689fe6-1e29-410e-adf3-f6c4a81a9965",
   "metadata": {
    "execution": {
     "iopub.execute_input": "2025-04-22T10:31:46.936242Z",
     "iopub.status.busy": "2025-04-22T10:31:46.936074Z",
     "iopub.status.idle": "2025-04-22T10:31:47.091483Z",
     "shell.execute_reply": "2025-04-22T10:31:47.091012Z",
     "shell.execute_reply.started": "2025-04-22T10:31:46.936228Z"
    }
   },
   "outputs": [],
   "source": [
    "# Display density plot of CO2 levels values\n",
    "ax = co2_levels.plot(kind='density', linewidth=4, fontsize=6)\n",
    "\n",
    "# Annotate x-axis labels\n",
    "ax.set_xlabel('CO2', fontsize=10)\n",
    "\n",
    "# Annotate y-axis labels\n",
    "ax.set_ylabel('Density plot of CO2 levels in Maui Hawaii', fontsize=10)\n",
    "\n",
    "plt.show()\n"
   ]
  },
  {
   "cell_type": "markdown",
   "id": "c1851e92-579b-4aff-a5aa-d668c50ad41c",
   "metadata": {},
   "source": [
    "# Autocorrelation and Partial Autocorrelation\n",
    "**Autocorrelation** is measured as the correlation between a time series and a delayed copy of itself\n",
    "\n",
    "For example, an autocorrelation of order 3 returns the correlation between a time series at points and its own values lagged by 3 time points. \n",
    "\n",
    "It is used to find repetitive patterns or periodic signal in time series\n",
    "\n",
    "Statsmodels has an implementation for autocorrelations\n"
   ]
  },
  {
   "cell_type": "code",
   "execution_count": null,
   "id": "d766a924-5936-49e7-9b5d-6a20f7c84ac1",
   "metadata": {
    "execution": {
     "iopub.execute_input": "2025-04-22T10:31:47.092301Z",
     "iopub.status.busy": "2025-04-22T10:31:47.092144Z",
     "iopub.status.idle": "2025-04-22T10:31:49.727372Z",
     "shell.execute_reply": "2025-04-22T10:31:49.727009Z",
     "shell.execute_reply.started": "2025-04-22T10:31:47.092286Z"
    }
   },
   "outputs": [],
   "source": [
    "# Import required libraries\n",
    "import matplotlib.pyplot as plt\n",
    "plt.style.use('fivethirtyeight')\n",
    "from statsmodels.graphics import tsaplots\n",
    "\n",
    "co2_levels = pd.read_csv('../data/ch2_co2_levels.csv', index_col='datestamp').dropna()\n",
    "\n",
    "# Display the autocorrelation plot of your time series\n",
    "fig = tsaplots.plot_acf(co2_levels['co2'], lags=24)\n",
    "\n",
    "# Show plot\n",
    "plt.show()"
   ]
  },
  {
   "cell_type": "markdown",
   "id": "9a0301f0-7bb5-409d-beba-9ba926c91ce3",
   "metadata": {
    "execution": {
     "iopub.execute_input": "2024-09-11T07:02:06.244030Z",
     "iopub.status.busy": "2024-09-11T07:02:06.242982Z",
     "iopub.status.idle": "2024-09-11T07:02:06.265970Z",
     "shell.execute_reply": "2024-09-11T07:02:06.264592Z",
     "shell.execute_reply.started": "2024-09-11T07:02:06.243963Z"
    }
   },
   "source": [
    "If autocorrelation values are close to 0, then values between consecutive observations are not correlated with one another. Inversely, autocorrelations values close to 1 or -1 indicate that there exists strong positive or negative correlations between consecutive observations, respectively.\n",
    "\n",
    "In order to help you asses how trustworthy these autocorrelation values are, the plot_acf() function also returns confidence intervals (represented as blue shaded regions). If an autocorrelation value goes beyond the confidence interval region, you can assume that the observed autocorrelation value is statistically significant."
   ]
  },
  {
   "cell_type": "markdown",
   "id": "450e6bd3-34f6-4329-922d-9cd0fdbe92bf",
   "metadata": {
    "execution": {
     "iopub.execute_input": "2024-09-11T07:00:08.251034Z",
     "iopub.status.busy": "2024-09-11T07:00:08.248229Z",
     "iopub.status.idle": "2024-09-11T07:00:08.273953Z",
     "shell.execute_reply": "2024-09-11T07:00:08.272950Z",
     "shell.execute_reply.started": "2024-09-11T07:00:08.250968Z"
    }
   },
   "source": [
    "the partial autocorrelation function (PACF) measures the correlation coefficient between a time-series and lagged versions of itself. However, it extends upon this idea by also removing the effect of previous time points. For example, a partial autocorrelation function of order 3 returns the correlation between our time series (t_1, t_2, t_3, …) and its own values lagged by 3 time points (t_4, t_5, t_6, …), but only after removing all effects attributable to lags 1 and 2.\n",
    "\n"
   ]
  },
  {
   "cell_type": "code",
   "execution_count": null,
   "id": "72f13544-866f-42c0-9996-4cf4a96a61bf",
   "metadata": {
    "execution": {
     "iopub.execute_input": "2025-04-22T10:31:49.728087Z",
     "iopub.status.busy": "2025-04-22T10:31:49.727957Z",
     "iopub.status.idle": "2025-04-22T10:31:49.813766Z",
     "shell.execute_reply": "2025-04-22T10:31:49.813373Z",
     "shell.execute_reply.started": "2025-04-22T10:31:49.728075Z"
    }
   },
   "outputs": [],
   "source": [
    "# Import required libraries\n",
    "import matplotlib.pyplot as plt\n",
    "plt.style.use('fivethirtyeight')\n",
    "from statsmodels.graphics import tsaplots\n",
    "\n",
    "# Display the partial autocorrelation plot of your time series\n",
    "fig = tsaplots.plot_pacf(co2_levels['co2'], lags=24)\n",
    "\n",
    "# Show plot\n",
    "plt.show()"
   ]
  },
  {
   "cell_type": "markdown",
   "id": "0bcf61c3-760c-420b-9b1c-909abc61ef14",
   "metadata": {},
   "source": [
    "# Seasonality, trend and noise in time series data\n",
    "\n",
    "Most time series can be decomposed in 3 major components: \n",
    "- **Seasonality**:  periodic pattern\n",
    "- **Trend**: consistent upwords or downwards slope\n",
    "- **Noise**: unexplained variance/volatility\n",
    "\n",
    "## Time series decomposition \n",
    "\n",
    "Automated method to extract the components. Statsmodels has an implementation\n"
   ]
  },
  {
   "cell_type": "code",
   "execution_count": null,
   "id": "89a23787-d8b3-4e26-9674-5d4421ba9e93",
   "metadata": {
    "execution": {
     "iopub.execute_input": "2025-04-22T10:31:49.818276Z",
     "iopub.status.busy": "2025-04-22T10:31:49.818121Z",
     "iopub.status.idle": "2025-04-22T10:32:01.107462Z",
     "shell.execute_reply": "2025-04-22T10:32:01.106902Z",
     "shell.execute_reply.started": "2025-04-22T10:31:49.818262Z"
    }
   },
   "outputs": [],
   "source": [
    "import statsmodels.api as sm \n",
    "from pylab import rcParams \n",
    "\n",
    "co2_levels = pd.read_csv('../data/ch2_co2_levels.csv', parse_dates=['datestamp'], index_col='datestamp').dropna()\n",
    "\n",
    "rcParams['figure.figsize'] = 11,9 \n",
    "decomposition = sm.tsa.seasonal_decompose(co2_levels['co2'], period=52)\n",
    "fig = decomposition.plot() \n",
    "\n",
    "plt.show()"
   ]
  },
  {
   "cell_type": "code",
   "execution_count": null,
   "id": "34c01e74-63d3-42e2-9c8b-cff106c3a2cc",
   "metadata": {
    "execution": {
     "iopub.execute_input": "2025-04-22T10:32:01.108695Z",
     "iopub.status.busy": "2025-04-22T10:32:01.108437Z",
     "iopub.status.idle": "2025-04-22T10:32:01.112190Z",
     "shell.execute_reply": "2025-04-22T10:32:01.111693Z",
     "shell.execute_reply.started": "2025-04-22T10:32:01.108666Z"
    }
   },
   "outputs": [],
   "source": [
    "print(dir(decomposition))"
   ]
  },
  {
   "cell_type": "code",
   "execution_count": null,
   "id": "10283617-1884-4ac0-93a4-23d814ff5539",
   "metadata": {
    "execution": {
     "iopub.execute_input": "2025-04-22T10:32:01.113567Z",
     "iopub.status.busy": "2025-04-22T10:32:01.113180Z",
     "iopub.status.idle": "2025-04-22T10:32:01.294080Z",
     "shell.execute_reply": "2025-04-22T10:32:01.293691Z",
     "shell.execute_reply.started": "2025-04-22T10:32:01.113549Z"
    }
   },
   "outputs": [],
   "source": [
    "decomposition.seasonal.plot()"
   ]
  },
  {
   "cell_type": "code",
   "execution_count": null,
   "id": "352e4552-c230-4304-b502-5c69c2b596a7",
   "metadata": {
    "execution": {
     "iopub.execute_input": "2025-04-22T10:32:01.294867Z",
     "iopub.status.busy": "2025-04-22T10:32:01.294731Z",
     "iopub.status.idle": "2025-04-22T10:32:01.445538Z",
     "shell.execute_reply": "2025-04-22T10:32:01.445156Z",
     "shell.execute_reply.started": "2025-04-22T10:32:01.294854Z"
    }
   },
   "outputs": [],
   "source": [
    "decomposition.trend.plot()"
   ]
  },
  {
   "cell_type": "markdown",
   "id": "4ea6c974-42e1-466a-a469-79e39e4f0752",
   "metadata": {
    "execution": {
     "iopub.execute_input": "2024-09-11T07:35:30.231366Z",
     "iopub.status.busy": "2024-09-11T07:35:30.230353Z",
     "iopub.status.idle": "2024-09-11T07:35:30.239710Z",
     "shell.execute_reply": "2024-09-11T07:35:30.238594Z",
     "shell.execute_reply.started": "2024-09-11T07:35:30.231310Z"
    }
   },
   "source": [
    "# Review"
   ]
  },
  {
   "cell_type": "code",
   "execution_count": null,
   "id": "c3e3f922-d247-452b-b1f8-c9d371a29455",
   "metadata": {
    "execution": {
     "iopub.execute_input": "2025-04-22T10:32:01.446219Z",
     "iopub.status.busy": "2025-04-22T10:32:01.446098Z",
     "iopub.status.idle": "2025-04-22T10:32:01.455591Z",
     "shell.execute_reply": "2025-04-22T10:32:01.455148Z",
     "shell.execute_reply.started": "2025-04-22T10:32:01.446207Z"
    }
   },
   "outputs": [],
   "source": [
    "airline = pd.read_csv('../data/ch3_airline_passengers.csv', parse_dates=['Month'], index_col='Month')\n",
    "airline"
   ]
  },
  {
   "cell_type": "code",
   "execution_count": null,
   "id": "fe9bce65-d121-473c-b4a2-130ef4548a84",
   "metadata": {
    "execution": {
     "iopub.execute_input": "2025-04-22T10:32:01.456419Z",
     "iopub.status.busy": "2025-04-22T10:32:01.456185Z",
     "iopub.status.idle": "2025-04-22T10:32:01.649097Z",
     "shell.execute_reply": "2025-04-22T10:32:01.648534Z",
     "shell.execute_reply.started": "2025-04-22T10:32:01.456398Z"
    }
   },
   "outputs": [],
   "source": [
    "# Plot the time series in your DataFrame\n",
    "ax = airline.plot(color='blue', fontsize=12)\n",
    "\n",
    "# Add a red vertical line at the date 1955-12-01\n",
    "ax.axvline('1955-12-01', color='red', linestyle='--')\n",
    "\n",
    "# Specify the labels in your plot\n",
    "ax.set_xlabel('Date', fontsize=12)\n",
    "ax.set_title('Number of Monthly Airline Passengers', fontsize=12)\n",
    "plt.show()"
   ]
  },
  {
   "cell_type": "code",
   "execution_count": null,
   "id": "42daea06-c90b-4fe0-aeff-09a2a15e6dbc",
   "metadata": {
    "execution": {
     "iopub.execute_input": "2025-04-22T10:32:01.650023Z",
     "iopub.status.busy": "2025-04-22T10:32:01.649682Z",
     "iopub.status.idle": "2025-04-22T10:32:01.657345Z",
     "shell.execute_reply": "2025-04-22T10:32:01.656879Z",
     "shell.execute_reply.started": "2025-04-22T10:32:01.650005Z"
    }
   },
   "outputs": [],
   "source": [
    "# Print out the number of missing values\n",
    "print(airline.isna().sum())\n",
    "\n",
    "# Print out summary statistics of the airline DataFrame\n",
    "print(airline.describe())"
   ]
  },
  {
   "cell_type": "code",
   "execution_count": null,
   "id": "b7332a9b-cdbc-4e38-a75e-07e1f82b6332",
   "metadata": {
    "execution": {
     "iopub.execute_input": "2025-04-22T10:32:01.659116Z",
     "iopub.status.busy": "2025-04-22T10:32:01.658344Z",
     "iopub.status.idle": "2025-04-22T10:32:01.741343Z",
     "shell.execute_reply": "2025-04-22T10:32:01.740885Z",
     "shell.execute_reply.started": "2025-04-22T10:32:01.658974Z"
    }
   },
   "outputs": [],
   "source": [
    "# Display boxplot of airline values\n",
    "ax = airline.boxplot()\n",
    "\n",
    "# Specify the title of your plot\n",
    "ax.set_title('Boxplot of Monthly Airline\\nPassengers Count', fontsize=20)\n",
    "plt.show()"
   ]
  },
  {
   "cell_type": "code",
   "execution_count": null,
   "id": "ac829fab-4f5e-43d8-9e1e-14e3509edf81",
   "metadata": {
    "execution": {
     "iopub.execute_input": "2025-04-22T10:32:01.742400Z",
     "iopub.status.busy": "2025-04-22T10:32:01.742065Z",
     "iopub.status.idle": "2025-04-22T10:32:01.840301Z",
     "shell.execute_reply": "2025-04-22T10:32:01.839676Z",
     "shell.execute_reply.started": "2025-04-22T10:32:01.742375Z"
    }
   },
   "outputs": [],
   "source": [
    "# Get month for each dates from the index of airline\n",
    "index_month = airline.index.month\n",
    "\n",
    "# Compute the mean number of passengers for each month of the year\n",
    "mean_airline_by_month = airline.groupby(index_month).mean()\n",
    "\n",
    "# Plot the mean number of passengers for each month of the year\n",
    "mean_airline_by_month.plot()\n",
    "plt.legend(fontsize=20)\n",
    "plt.show()"
   ]
  },
  {
   "cell_type": "code",
   "execution_count": null,
   "id": "1d5dee90-c201-4207-964b-95b0b47a722c",
   "metadata": {
    "execution": {
     "iopub.execute_input": "2025-04-22T10:32:01.841424Z",
     "iopub.status.busy": "2025-04-22T10:32:01.840991Z",
     "iopub.status.idle": "2025-04-22T10:32:01.847260Z",
     "shell.execute_reply": "2025-04-22T10:32:01.846589Z",
     "shell.execute_reply.started": "2025-04-22T10:32:01.841408Z"
    }
   },
   "outputs": [],
   "source": [
    "# Import statsmodels.api as sm\n",
    "import statsmodels.api as sm\n",
    "\n",
    "# Perform time series decompositon\n",
    "decomposition = sm.tsa.seasonal_decompose(airline)\n",
    "\n",
    "# Extract the trend and seasonal components\n",
    "trend = decomposition.trend\n",
    "seasonal = decomposition.seasonal"
   ]
  },
  {
   "cell_type": "code",
   "execution_count": null,
   "id": "4b42f3e4-2b9d-4fbb-92ff-4498e6fef2f7",
   "metadata": {
    "execution": {
     "iopub.execute_input": "2025-04-22T10:32:01.848102Z",
     "iopub.status.busy": "2025-04-22T10:32:01.847897Z",
     "iopub.status.idle": "2025-04-22T10:32:01.958458Z",
     "shell.execute_reply": "2025-04-22T10:32:01.957983Z",
     "shell.execute_reply.started": "2025-04-22T10:32:01.848086Z"
    }
   },
   "outputs": [],
   "source": [
    "trend.plot()"
   ]
  },
  {
   "cell_type": "markdown",
   "id": "f9053abd-56ab-4146-9809-6f405329cfb0",
   "metadata": {},
   "source": [
    "# Working with more than one time series\n",
    "\n"
   ]
  },
  {
   "cell_type": "code",
   "execution_count": null,
   "id": "a5080509-d6da-49b3-9220-3a8ff5527ca0",
   "metadata": {
    "execution": {
     "iopub.execute_input": "2025-04-22T10:32:01.959500Z",
     "iopub.status.busy": "2025-04-22T10:32:01.959294Z",
     "iopub.status.idle": "2025-04-22T10:32:01.976197Z",
     "shell.execute_reply": "2025-04-22T10:32:01.975581Z",
     "shell.execute_reply.started": "2025-04-22T10:32:01.959480Z"
    }
   },
   "outputs": [],
   "source": [
    "meat = pd.read_csv('../data/ch4_meat.csv', parse_dates=['date'], index_col='date')\n",
    "\n",
    "# Review the first five lines of the meat DataFrame\n",
    "print(meat.head(5))\n",
    "\n",
    "# Print the summary statistics of the DataFrame\n",
    "print(meat.describe())"
   ]
  },
  {
   "cell_type": "code",
   "execution_count": null,
   "id": "4b2f587e-72ac-454b-a0d6-59c05cba0bfd",
   "metadata": {},
   "outputs": [],
   "source": [
    "ax = meat.plot(figsize=(12,8), fontsize=14)\n",
    "ax.set_xlabel('Date')\n",
    "ax.set_ylabel('Production Volume (in tons)')\n",
    "\n",
    "plt.show()"
   ]
  },
  {
   "cell_type": "code",
   "execution_count": null,
   "id": "ba2cefc2-7311-4d52-a9d1-bdbcea8fd7a7",
   "metadata": {},
   "outputs": [],
   "source": [
    "ax = df.plot.area(figsize=(12,8), fontsize=14)\n",
    "\n",
    "ax.set_xlabel('Date')\n",
    "ax.set_ylabel('Production Volume (in tons)')\n",
    "\n",
    "plt.show()"
   ]
  },
  {
   "cell_type": "markdown",
   "id": "c72ab604-a5da-4d88-99fd-89f5304740d0",
   "metadata": {},
   "source": [
    "## Plotting multiple time series\n",
    "\n",
    "Matplotlib default values may not be optimal to display many time series. Sometime series are assigned with the same color."
   ]
  },
  {
   "cell_type": "code",
   "execution_count": null,
   "id": "09e723e6-d365-42d2-a70a-3f07655b6815",
   "metadata": {
    "execution": {
     "iopub.execute_input": "2025-04-22T10:35:21.288227Z",
     "iopub.status.busy": "2025-04-22T10:35:21.287435Z",
     "iopub.status.idle": "2025-04-22T10:35:21.531540Z",
     "shell.execute_reply": "2025-04-22T10:35:21.530818Z",
     "shell.execute_reply.started": "2025-04-22T10:35:21.288182Z"
    }
   },
   "outputs": [],
   "source": [
    "ax = meat.plot(figsize=(12,8), fontsize=14, colormap='Dark2')\n",
    "ax.set_xlabel('Date')\n",
    "ax.set_ylabel('Production Volume (in tons)')\n",
    "\n",
    "plt.show()"
   ]
  },
  {
   "cell_type": "markdown",
   "id": "8fcc8dd2-5e27-4749-9b3c-67f70931a90e",
   "metadata": {},
   "source": [
    "## Enhancing plots with information"
   ]
  },
  {
   "cell_type": "code",
   "execution_count": null,
   "id": "8fc0bee5-d3f6-473b-a0e8-c1920f01daeb",
   "metadata": {
    "execution": {
     "iopub.execute_input": "2025-04-22T10:35:39.601866Z",
     "iopub.status.busy": "2025-04-22T10:35:39.601389Z",
     "iopub.status.idle": "2025-04-22T10:35:40.004066Z",
     "shell.execute_reply": "2025-04-22T10:35:40.003612Z",
     "shell.execute_reply.started": "2025-04-22T10:35:39.601834Z"
    }
   },
   "outputs": [],
   "source": [
    "ax = meat.plot(figsize=(12,8), fontsize=14, colormap='Dark2')\n",
    "df_summary = np.round(meat.describe())\n",
    "ax.table(cellText=df_summary.values, \n",
    "        colWidths=[0.3]*len(meat.columns), \n",
    "        rowLabels=df_summary.index, \n",
    "         colLabels = df_summary.columns, \n",
    "         loc='top'\n",
    "        )\n",
    "\n",
    "plt.show()"
   ]
  },
  {
   "cell_type": "markdown",
   "id": "8849660e-f81f-42df-8ac4-673936fe109b",
   "metadata": {},
   "source": [
    "## Dealing with different scales"
   ]
  },
  {
   "cell_type": "code",
   "execution_count": null,
   "id": "58c64c73-46fb-43dc-893a-f7a622139c51",
   "metadata": {
    "execution": {
     "iopub.execute_input": "2025-04-22T10:35:49.119309Z",
     "iopub.status.busy": "2025-04-22T10:35:49.118432Z",
     "iopub.status.idle": "2025-04-22T10:35:49.348438Z",
     "shell.execute_reply": "2025-04-22T10:35:49.348010Z",
     "shell.execute_reply.started": "2025-04-22T10:35:49.119269Z"
    }
   },
   "outputs": [],
   "source": [
    "meat['veal'].plot()"
   ]
  },
  {
   "cell_type": "code",
   "execution_count": null,
   "id": "9cf9fe1e-353a-4420-bcf9-0dda86b5e4e9",
   "metadata": {
    "execution": {
     "iopub.execute_input": "2025-04-22T10:46:42.837140Z",
     "iopub.status.busy": "2025-04-22T10:46:42.835698Z",
     "iopub.status.idle": "2025-04-22T10:46:43.272916Z",
     "shell.execute_reply": "2025-04-22T10:46:43.272517Z",
     "shell.execute_reply.started": "2025-04-22T10:46:42.837078Z"
    }
   },
   "outputs": [],
   "source": [
    "meat.plot(subplots=True, sharex=True, sharey=False, layout=(6,2), linewidth=0.5)\n",
    "plt.show()"
   ]
  },
  {
   "cell_type": "markdown",
   "id": "52a30e70-cc47-4e3e-a0f2-4b0c9aa9b47c",
   "metadata": {},
   "source": [
    "# Find relationships between two variables\n",
    "\n",
    "In the field of Statistics, the correlation coefficient is a measure used to determine the strength or lack of relationship between two variables:\n",
    "- **Pearson's coefficient** can be used to compute the correlation coefficient between variables for which the relationship is thought to be linear\n",
    "- **Kendall Tau** or **Spearman rank** can be used to compute the correlation coefficient between variables for which the relationship is thought to be non-linear"
   ]
  },
  {
   "cell_type": "code",
   "execution_count": null,
   "id": "0b99e21a-a27c-4847-8247-d3749268e1a9",
   "metadata": {
    "execution": {
     "iopub.execute_input": "2025-04-22T11:07:37.415991Z",
     "iopub.status.busy": "2025-04-22T11:07:37.415423Z",
     "iopub.status.idle": "2025-04-22T11:07:37.432651Z",
     "shell.execute_reply": "2025-04-22T11:07:37.430578Z",
     "shell.execute_reply.started": "2025-04-22T11:07:37.415958Z"
    }
   },
   "outputs": [],
   "source": [
    "from scipy.stats import pearsonr, spearmanr, kendalltau\n",
    "\n",
    "x=[1,2,4,7]\n",
    "y=[1,3,4,8]\n",
    "\n",
    "print(pearsonr(x, y))\n",
    "print(spearmanr(x, y))\n",
    "print(kendalltau(x, y))"
   ]
  },
  {
   "cell_type": "code",
   "execution_count": null,
   "id": "9ca84548-484f-4838-9012-9c115573d7e6",
   "metadata": {},
   "outputs": [],
   "source": [
    "corr_p = meat[['beef', 'veal', 'turkey']].corr(method='pearson')\n",
    "print(corr_p)"
   ]
  },
  {
   "cell_type": "code",
   "execution_count": null,
   "id": "3fbc078d-cd48-4aa5-a934-014ba4ea3c97",
   "metadata": {},
   "outputs": [],
   "source": [
    "corr_s = meat[['beef', 'veal', 'turkey']].corr(method='spearman')\n",
    "print(corr_s)"
   ]
  },
  {
   "cell_type": "code",
   "execution_count": null,
   "id": "4b7f007f-3aae-4311-b6c3-87f1e0a30043",
   "metadata": {},
   "outputs": [],
   "source": [
    "corr_t = meat[['beef', 'veal', 'turkey']].corr(method='kendall')\n",
    "print(corr_t)"
   ]
  },
  {
   "cell_type": "code",
   "execution_count": null,
   "id": "407b6e11-91da-4286-b919-2b7cc8e8fafe",
   "metadata": {},
   "outputs": [],
   "source": [
    "sns.heatmap(corr_p, annot=True)"
   ]
  },
  {
   "cell_type": "code",
   "execution_count": null,
   "id": "246daea5-187c-4648-9b24-d3c472fc63f7",
   "metadata": {},
   "outputs": [],
   "source": [
    "sns.clustermap(corr_p)"
   ]
  },
  {
   "cell_type": "code",
   "execution_count": null,
   "id": "14828ced-573d-4885-a7ea-c1b5a4c02027",
   "metadata": {},
   "outputs": [],
   "source": []
  }
 ],
 "metadata": {
  "kernelspec": {
   "display_name": "Python 3 (ipykernel)",
   "language": "python",
   "name": "python3"
  },
  "language_info": {
   "codemirror_mode": {
    "name": "ipython",
    "version": 3
   },
   "file_extension": ".py",
   "mimetype": "text/x-python",
   "name": "python",
   "nbconvert_exporter": "python",
   "pygments_lexer": "ipython3",
   "version": "3.11.11"
  }
 },
 "nbformat": 4,
 "nbformat_minor": 5
}
