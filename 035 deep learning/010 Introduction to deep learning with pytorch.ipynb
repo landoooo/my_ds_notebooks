{
 "cells": [
  {
   "cell_type": "markdown",
   "id": "96e39f05-b408-41a5-aa3c-727702c8c1f4",
   "metadata": {},
   "source": [
    "# Deep learning \n",
    "\n",
    "Traditional machine learning uses hand crafted machine learning.\n",
    "\n",
    "Deep learning enables feature learning from data in not only tabular data but text, audio and images.\n",
    "\n",
    "Deep learning is inspired by the connections in the human brain.\n",
    "\n",
    "Deep learning models require a larger amount of data compared to traditional machine learning to learn patterns.\n",
    "\n",
    "# Pytorch \n",
    "\n",
    "Widely used by researchers.\n",
    "\n",
    "**Tensors** are the building blocks of networks in PyTorch."
   ]
  },
  {
   "cell_type": "code",
   "execution_count": null,
   "id": "95cc4490-f62a-421b-b4a4-900bf17119f9",
   "metadata": {},
   "outputs": [],
   "source": [
    "import torch\n",
    "\n",
    "import numpy as np \n",
    "import pandas as pd"
   ]
  },
  {
   "cell_type": "code",
   "execution_count": null,
   "id": "dfa90a5b-4349-48c2-8ecf-642de1ba60df",
   "metadata": {},
   "outputs": [],
   "source": [
    "lst = [[1,2,3],[4,5,6]]\n",
    "tensor = torch.tensor(lst)\n",
    "\n",
    "np_array = np.array(lst)\n",
    "np_tensor = torch.from_numpy(np_array)"
   ]
  },
  {
   "cell_type": "code",
   "execution_count": null,
   "id": "b511c55d-3f50-4073-a7c4-e36c94f44d07",
   "metadata": {},
   "outputs": [],
   "source": [
    "tensor.shape"
   ]
  },
  {
   "cell_type": "code",
   "execution_count": null,
   "id": "e8262f4f-24d7-4fc1-9f3f-70d33a641cd8",
   "metadata": {},
   "outputs": [],
   "source": [
    "tensor.dtype"
   ]
  },
  {
   "cell_type": "code",
   "execution_count": null,
   "id": "466e14a5-c09a-4f40-acd5-e9eb29043d3d",
   "metadata": {},
   "outputs": [],
   "source": [
    "tensor.device"
   ]
  },
  {
   "cell_type": "code",
   "execution_count": null,
   "id": "51091f75-a0a5-487b-a922-ec7441bc17c5",
   "metadata": {},
   "outputs": [],
   "source": [
    "a = [[1,2,3],[4,5,6]]\n",
    "b = [[1,2,3],[4,5,6]]\n",
    "\n",
    "tensor_a = torch.tensor(a)\n",
    "tensor_b = torch.tensor(b)\n",
    "\n",
    "tensor_a+tensor_b"
   ]
  },
  {
   "cell_type": "code",
   "execution_count": null,
   "id": "b749fbe2-7ed7-4ec8-b7f4-c02170f8040d",
   "metadata": {},
   "outputs": [],
   "source": [
    "a = [[1,2,3],[4,5,6]]\n",
    "b = [[1,2],[4,5]]\n",
    "\n",
    "tensor_a = torch.tensor(a)\n",
    "tensor_b = torch.tensor(b)\n",
    "\n",
    "tensor_a+tensor_b"
   ]
  },
  {
   "cell_type": "code",
   "execution_count": null,
   "id": "6dc0776a-3a02-43be-a279-00362341e5f2",
   "metadata": {},
   "outputs": [],
   "source": [
    "a = [[1,2,3],[4,5,6]]\n",
    "b = [[1,2,3],[4,5,6]]\n",
    "\n",
    "tensor_a = torch.tensor(a)\n",
    "tensor_b = torch.tensor(b)\n",
    "\n",
    "# element by element product\n",
    "tensor_a*tensor_b"
   ]
  },
  {
   "cell_type": "code",
   "execution_count": null,
   "id": "b1de5568-d253-4fa9-8468-7deb614814c2",
   "metadata": {},
   "outputs": [],
   "source": []
  }
 ],
 "metadata": {
  "kernelspec": {
   "display_name": "Python 3 (ipykernel)",
   "language": "python",
   "name": "python3"
  },
  "language_info": {
   "codemirror_mode": {
    "name": "ipython",
    "version": 3
   },
   "file_extension": ".py",
   "mimetype": "text/x-python",
   "name": "python",
   "nbconvert_exporter": "python",
   "pygments_lexer": "ipython3",
   "version": "3.11.10"
  }
 },
 "nbformat": 4,
 "nbformat_minor": 5
}
