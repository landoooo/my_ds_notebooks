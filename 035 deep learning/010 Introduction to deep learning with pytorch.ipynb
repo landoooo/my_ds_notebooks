{
 "cells": [
  {
   "cell_type": "markdown",
   "id": "96e39f05-b408-41a5-aa3c-727702c8c1f4",
   "metadata": {},
   "source": [
    "# Deep learning \n",
    "\n",
    "Traditional machine learning uses hand crafted machine learning.\n",
    "\n",
    "Deep learning enables feature learning from data in not only tabular data but text, audio and images.\n",
    "\n",
    "Deep learning is inspired by the connections in the human brain.\n",
    "\n",
    "Deep learning models require a larger amount of data compared to traditional machine learning to learn patterns.\n",
    "\n",
    "# Pytorch \n",
    "\n",
    "Widely used by researchers.\n",
    "\n",
    "**Tensors** are the building blocks of networks in PyTorch."
   ]
  },
  {
   "cell_type": "code",
   "execution_count": null,
   "id": "95cc4490-f62a-421b-b4a4-900bf17119f9",
   "metadata": {},
   "outputs": [],
   "source": [
    "import torch\n",
    "\n",
    "import numpy as np \n",
    "import pandas as pd"
   ]
  },
  {
   "cell_type": "code",
   "execution_count": null,
   "id": "dfa90a5b-4349-48c2-8ecf-642de1ba60df",
   "metadata": {},
   "outputs": [],
   "source": [
    "lst = [[1,2,3],[4,5,6]]\n",
    "tensor = torch.tensor(lst)\n",
    "\n",
    "np_array = np.array(lst)\n",
    "np_tensor = torch.from_numpy(np_array)"
   ]
  },
  {
   "cell_type": "code",
   "execution_count": null,
   "id": "b511c55d-3f50-4073-a7c4-e36c94f44d07",
   "metadata": {},
   "outputs": [],
   "source": [
    "tensor.shape"
   ]
  },
  {
   "cell_type": "code",
   "execution_count": null,
   "id": "e8262f4f-24d7-4fc1-9f3f-70d33a641cd8",
   "metadata": {},
   "outputs": [],
   "source": [
    "tensor.dtype"
   ]
  },
  {
   "cell_type": "code",
   "execution_count": null,
   "id": "466e14a5-c09a-4f40-acd5-e9eb29043d3d",
   "metadata": {},
   "outputs": [],
   "source": [
    "tensor.device"
   ]
  },
  {
   "cell_type": "code",
   "execution_count": null,
   "id": "51091f75-a0a5-487b-a922-ec7441bc17c5",
   "metadata": {},
   "outputs": [],
   "source": [
    "a = [[1,2,3],[4,5,6]]\n",
    "b = [[1,2,3],[4,5,6]]\n",
    "\n",
    "tensor_a = torch.tensor(a)\n",
    "tensor_b = torch.tensor(b)\n",
    "\n",
    "tensor_a+tensor_b"
   ]
  },
  {
   "cell_type": "code",
   "execution_count": null,
   "id": "b749fbe2-7ed7-4ec8-b7f4-c02170f8040d",
   "metadata": {},
   "outputs": [],
   "source": [
    "a = [[1,2,3],[4,5,6]]\n",
    "b = [[1,2],[4,5]]\n",
    "\n",
    "tensor_a = torch.tensor(a)\n",
    "tensor_b = torch.tensor(b)\n",
    "\n",
    "tensor_a+tensor_b"
   ]
  },
  {
   "cell_type": "code",
   "execution_count": null,
   "id": "6dc0776a-3a02-43be-a279-00362341e5f2",
   "metadata": {},
   "outputs": [],
   "source": [
    "a = [[1,2,3],[4,5,6]]\n",
    "b = [[1,2,3],[4,5,6]]\n",
    "\n",
    "tensor_a = torch.tensor(a)\n",
    "tensor_b = torch.tensor(b)\n",
    "\n",
    "# element by element product\n",
    "tensor_a*tensor_b"
   ]
  },
  {
   "cell_type": "markdown",
   "id": "86ee8441-fa94-4647-9ffb-9cc322cb520c",
   "metadata": {},
   "source": [
    "# First Neural Network \n",
    "\n"
   ]
  },
  {
   "cell_type": "code",
   "execution_count": null,
   "id": "8d5f215d-19e3-4a43-8b4b-f6d11392f46f",
   "metadata": {},
   "outputs": [],
   "source": [
    "import torch.nn as nn\n",
    "\n",
    "input_tensor = torch.tensor([[0.3, 0.4, -0.23]])\n",
    "\n",
    "# A linear layer takes an input, applies a linear function and returns an output\n",
    "linear_layer = nn.Linear(in_features=3, out_features=2)\n",
    "\n",
    "# Pass the input through linear layer \n",
    "output = linear_layer(input_tensor)\n",
    "print(output)"
   ]
  },
  {
   "cell_type": "code",
   "execution_count": null,
   "id": "1ee1719d-2366-4ea6-a91a-923dd5362652",
   "metadata": {},
   "outputs": [],
   "source": [
    "linear_layer.weight"
   ]
  },
  {
   "cell_type": "code",
   "execution_count": null,
   "id": "83622682-0bda-4470-afec-c49081bf0ef8",
   "metadata": {},
   "outputs": [],
   "source": [
    "linear_layer.bias"
   ]
  },
  {
   "cell_type": "markdown",
   "id": "6a05c9d4-03fe-414d-8f75-fee5f90e9844",
   "metadata": {
    "execution": {
     "iopub.execute_input": "2024-09-22T17:33:43.686115Z",
     "iopub.status.busy": "2024-09-22T17:33:43.685396Z",
     "iopub.status.idle": "2024-09-22T17:33:43.703530Z",
     "shell.execute_reply": "2024-09-22T17:33:43.698661Z",
     "shell.execute_reply.started": "2024-09-22T17:33:43.686079Z"
    }
   },
   "source": [
    "For input $X$, weights $W_0$ and bias $b_0$, the linear layer performs:\n",
    "\n",
    "$$\n",
    "y_0 = W_0 \\cdot X + b_0\n",
    "$$\n",
    "\n",
    "In PyTorch:\n",
    "```python\n",
    "output = W0 @ input + b0\n",
    "```\n",
    "\n",
    "- Weights and biases are initialized randomly.\n",
    "- They are not useful until they are tuned.\n",
    "\n",
    "The input dimensions of our nn is 1x3\n",
    "The output dimensions is 1x2\n",
    "\n",
    "Networks with only linear layers are called fully connected: each neuron in one layer is connected to each neuron in the next layer.\n",
    "\n",
    "## Stacking layers with nn.Sequential()\n"
   ]
  },
  {
   "cell_type": "code",
   "execution_count": null,
   "id": "7bd7b60d-25b1-49e5-bd02-197996fe541c",
   "metadata": {},
   "outputs": [],
   "source": [
    "model = nn.Sequential(\n",
    "    nn.Linear(10,18),\n",
    "    nn.Linear(18,20),\n",
    "    nn.Linear(20,5)\n",
    ")\n",
    "\n",
    "input_tensor = torch.tensor([[0.3, 0.4, -0.23, 0.3, 0.4, -0.23, 0, 0.4, -0.23, 0]])\n",
    "\n",
    "output_tensor = model(input_tensor)\n",
    "\n",
    "print(output_tensor)"
   ]
  },
  {
   "cell_type": "code",
   "execution_count": null,
   "id": "dc981fa1-3c3a-4352-80b3-a8d0e0dd98e0",
   "metadata": {},
   "outputs": [],
   "source": [
    "# Activation Functions \n",
    "\n"
   ]
  }
 ],
 "metadata": {
  "kernelspec": {
   "display_name": "Python 3 (ipykernel)",
   "language": "python",
   "name": "python3"
  },
  "language_info": {
   "codemirror_mode": {
    "name": "ipython",
    "version": 3
   },
   "file_extension": ".py",
   "mimetype": "text/x-python",
   "name": "python",
   "nbconvert_exporter": "python",
   "pygments_lexer": "ipython3",
   "version": "3.11.10"
  }
 },
 "nbformat": 4,
 "nbformat_minor": 5
}
