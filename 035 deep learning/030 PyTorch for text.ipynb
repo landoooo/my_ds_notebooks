{
 "cells": [
  {
   "cell_type": "markdown",
   "id": "bd6d5ac8-5dc3-4eec-a01f-f18a777f6aee",
   "metadata": {},
   "source": [
    "# Preprocessing\n",
    "\n",
    "## Tokenization"
   ]
  },
  {
   "cell_type": "code",
   "execution_count": null,
   "id": "05322897-6db2-4073-af42-b854c0cac22e",
   "metadata": {},
   "outputs": [],
   "source": [
    "from torchtext.data.utils import get_tokenizer\n",
    "\n",
    "tokenizer = get_tokenizer('basic_english')\n",
    "tokens = tokenizer('I am reading a book now. I love to read books!')\n",
    "print(tokens)"
   ]
  },
  {
   "cell_type": "markdown",
   "id": "0aa2435f-a6b7-4a20-8f2e-04228c3858b5",
   "metadata": {},
   "source": [
    "## Removing stopwords"
   ]
  },
  {
   "cell_type": "code",
   "execution_count": null,
   "id": "70a6ae9d-4e7f-44d8-a5b8-da828a875f90",
   "metadata": {},
   "outputs": [],
   "source": [
    "import nltk \n",
    "\n",
    "nltk.download('stopwords')\n",
    "\n",
    "from nltk.corpus import stopwords \n",
    "\n",
    "stop_words = set(stopwords.words('english'))\n",
    "\n",
    "filtered_tokens = [token for token in tokens if token.lower() not in stop_words]\n",
    "print(filtered_tokens)"
   ]
  },
  {
   "cell_type": "markdown",
   "id": "de720783-17ee-4a06-8c53-23b3695ce4ed",
   "metadata": {},
   "source": [
    "## Stemming"
   ]
  },
  {
   "cell_type": "code",
   "execution_count": null,
   "id": "fb294251-81f7-4129-a874-320a3c9a01a9",
   "metadata": {},
   "outputs": [],
   "source": [
    "from nltk.stem import PorterStemmer \n",
    "\n",
    "stemmer = PorterStemmer() \n",
    "\n",
    "stemmed_tokens = [stemmer.stem(token) for token in filtered_tokens]\n",
    "print(stemmed_tokens)"
   ]
  },
  {
   "cell_type": "markdown",
   "id": "2642a279-203b-4617-8a38-dd5d5bf87932",
   "metadata": {},
   "source": [
    "## Rare word removal"
   ]
  },
  {
   "cell_type": "code",
   "execution_count": null,
   "id": "411d7b1e-5b67-4f8c-8183-48c18bd1327c",
   "metadata": {},
   "outputs": [],
   "source": [
    "from nltk.probability import FreqDist \n",
    "\n",
    "freq_dist = FreqDist(stemmed_tokens)\n",
    "\n",
    "threshold = 2 \n",
    "\n",
    "common_tokens = [token for token in stemmed_tokens if freq_dist[token]>=threshold]\n",
    "print(common_tokens)"
   ]
  },
  {
   "cell_type": "markdown",
   "id": "80a0d82b-186a-41ca-aded-692bd01f7942",
   "metadata": {},
   "source": [
    "## Encoding text data\n",
    "\n",
    "### One Hot Encoding"
   ]
  },
  {
   "cell_type": "code",
   "execution_count": null,
   "id": "c98e0cc1-4491-4feb-b390-d30f9c7eae10",
   "metadata": {},
   "outputs": [],
   "source": [
    "import torch \n",
    "\n",
    "vocab=['cat', 'dog', 'rabbit']\n",
    "vocab_size = len(vocab)\n",
    "\n",
    "one_hot_vectors = torch.eye(vocab_size)\n",
    "one_hot_dict = {word: one_hot_vectors[i] for i, word in enumerate(vocab)}\n",
    "print(one_hot_dict)"
   ]
  },
  {
   "cell_type": "markdown",
   "id": "b7a68fd9-3467-493c-837b-2ce12ecb928a",
   "metadata": {},
   "source": [
    "### Bag of Words "
   ]
  },
  {
   "cell_type": "code",
   "execution_count": null,
   "id": "17d69216-9299-478a-820b-bcd13b7954e6",
   "metadata": {},
   "outputs": [],
   "source": [
    "from sklearn.feature_extraction.text import CountVectorizer\n",
    "\n",
    "vectorizer = CountVectorizer() \n",
    "corpus = ['Primer documento.', \n",
    "          'Otro documento mas, y ya van dos documentos. Cuantos documentos mas necesitamos?', \n",
    "          'Un ultimo documento para terminar la coleccion de documentos'] \n",
    "\n",
    "X = vectorizer.fit_transform(corpus) \n",
    "print(X.toarray())\n",
    "print(vectorizer.get_feature_names_out())\n"
   ]
  },
  {
   "cell_type": "markdown",
   "id": "08314488-270e-4833-bab3-fe5d96327610",
   "metadata": {},
   "source": [
    "### TF-IDF "
   ]
  },
  {
   "cell_type": "code",
   "execution_count": null,
   "id": "df9c94c8-4d88-4182-a34a-3861f96673e7",
   "metadata": {},
   "outputs": [],
   "source": [
    "from sklearn.feature_extraction.text import TfidfVectorizer\n",
    "import numpy as np \n",
    "\n",
    "vectorizer = TfidfVectorizer() \n",
    "corpus = ['Primer documento.', \n",
    "          'Otro documento mas, y ya van dos documentos. Cuantos documentos mas necesitamos?', \n",
    "          'Un ultimo documento para terminar la coleccion de documentos'] \n",
    "\n",
    "X = vectorizer.fit_transform(corpus) \n",
    "print(np.round(X.toarray(), 2))\n",
    "print(vectorizer.get_feature_names_out())\n"
   ]
  },
  {
   "cell_type": "markdown",
   "id": "a45e0da4-2001-4901-ab4a-7fad0205b5e0",
   "metadata": {},
   "source": [
    "### Embeddings"
   ]
  },
  {
   "cell_type": "code",
   "execution_count": null,
   "id": "12543504-d163-4176-ae2c-17490b1dbd1a",
   "metadata": {},
   "outputs": [],
   "source": []
  },
  {
   "cell_type": "code",
   "execution_count": null,
   "id": "f7576eb8-e845-4b9a-a31e-3879e69500d6",
   "metadata": {},
   "outputs": [],
   "source": [
    "with open('../data/shakespeare.txt', 'r') as file:\n",
    "    raw_text = file.read()\n",
    "\n",
    "def extract_sentences(data): \n",
    "    sentences = re.findall(r'[A-Z][^.!?]*[.!?]', data) \n",
    "    return sentences\n",
    "\n",
    "shakespeare = extract_sentences(raw_text)"
   ]
  },
  {
   "cell_type": "code",
   "execution_count": null,
   "id": "108ae42a-dcde-4c33-9851-abf2af9fe741",
   "metadata": {},
   "outputs": [],
   "source": [
    "# Create a list of stopwords\n",
    "stop_words = set(stopwords.words(\"english\"))\n",
    "\n",
    "# Initialize the tokenizer and stemmer\n",
    "tokenizer = get_tokenizer(\"basic_english\")\n",
    "stemmer = PorterStemmer() \n",
    "\n",
    "# Complete the function to preprocess sentences\n",
    "def preprocess_sentences(sentences):\n",
    "    processed_sentences = []\n",
    "    for sentence in sentences:\n",
    "        sentence = sentence.lower()\n",
    "\t\t# Tokenize the sentence\n",
    "        tokens = tokenizer(sentence)\n",
    "\t\t# Remove stop words\n",
    "        tokens = [token for token in tokens if token not in stop_words]        \n",
    "\t\t# Stem the tokens\n",
    "        tokens = [stemmer.stem(token) for token in tokens]\n",
    "        processed_sentences.append(' '.join(tokens))\n",
    "    return processed_sentences\n",
    "\n",
    "processed_shakespeare = preprocess_sentences(shakespeare)\n",
    "print(processed_shakespeare[:5]) "
   ]
  },
  {
   "cell_type": "code",
   "execution_count": null,
   "id": "7011f215-883d-41ad-b10b-ca0c28af8489",
   "metadata": {},
   "outputs": [],
   "source": [
    "# Define your Dataset class\n",
    "class ShakespeareDataset(Dataset):\n",
    "    def __init__(self, data):\n",
    "        self.data = data\n",
    "    def __len__(self):\n",
    "        return len(self.data)\n",
    "    def __getitem__(self, idx):\n",
    "        return self.data[idx]\n",
    "\n",
    "# Complete the encoding function\n",
    "def encode_sentences(sentences):\n",
    "    vectorizer = CountVectorizer()\n",
    "    X = vectorizer.fit_transform(sentences)\n",
    "    return X.toarray(), vectorizer\n",
    "    \n",
    "# Complete the text processing pipeline\n",
    "def text_processing_pipeline(sentences):\n",
    "    processed_sentences = preprocess_sentences(sentences)\n",
    "    encoded_sentences, vectorizer = encode_sentences(processed_sentences)\n",
    "    dataset = ShakespeareDataset(encoded_sentences)\n",
    "    dataloader = DataLoader(dataset, batch_size=2, shuffle=True)\n",
    "    return dataloader, vectorizer\n",
    "\n",
    "dataloader, vectorizer = text_processing_pipeline(processed_shakespeare)\n"
   ]
  },
  {
   "cell_type": "code",
   "execution_count": null,
   "id": "20a170c3-b519-4aa6-abfb-d017f1405444",
   "metadata": {},
   "outputs": [],
   "source": [
    "# Print the vectorizer's feature names and the first 10 components of the first item\n",
    "print(vectorizer.get_feature_names_out()[:500]) \n",
    "print(next(iter(dataloader))[0, :50])"
   ]
  },
  {
   "cell_type": "code",
   "execution_count": null,
   "id": "7fcb356e-165a-4d93-9cf0-a601b70f4d77",
   "metadata": {},
   "outputs": [],
   "source": []
  }
 ],
 "metadata": {
  "kernelspec": {
   "display_name": "Python 3 (ipykernel)",
   "language": "python",
   "name": "python3"
  },
  "language_info": {
   "codemirror_mode": {
    "name": "ipython",
    "version": 3
   },
   "file_extension": ".py",
   "mimetype": "text/x-python",
   "name": "python",
   "nbconvert_exporter": "python",
   "pygments_lexer": "ipython3",
   "version": "3.11.10"
  }
 },
 "nbformat": 4,
 "nbformat_minor": 5
}
