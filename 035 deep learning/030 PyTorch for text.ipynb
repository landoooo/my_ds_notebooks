{
 "cells": [
  {
   "cell_type": "markdown",
   "id": "bd6d5ac8-5dc3-4eec-a01f-f18a777f6aee",
   "metadata": {},
   "source": [
    "# Preprocessing\n",
    "\n",
    "## Tokenization"
   ]
  },
  {
   "cell_type": "code",
   "execution_count": null,
   "id": "05322897-6db2-4073-af42-b854c0cac22e",
   "metadata": {},
   "outputs": [],
   "source": [
    "from torchtext.data.utils import get_tokenizer\n",
    "\n",
    "tokenizer = get_tokenizer('basic_english')\n",
    "tokens = tokenizer('I am reading a book now. I love to read books!')\n",
    "print(tokens)"
   ]
  },
  {
   "cell_type": "markdown",
   "id": "0aa2435f-a6b7-4a20-8f2e-04228c3858b5",
   "metadata": {},
   "source": [
    "## Removing stopwords"
   ]
  },
  {
   "cell_type": "code",
   "execution_count": null,
   "id": "70a6ae9d-4e7f-44d8-a5b8-da828a875f90",
   "metadata": {},
   "outputs": [],
   "source": [
    "import nltk \n",
    "\n",
    "nltk.download('stopwords')\n",
    "\n",
    "from nltk.corpus import stopwords \n",
    "\n",
    "stop_words = set(stopwords.words('english'))\n",
    "\n",
    "filtered_tokens = [token for token in tokens if token.lower() not in stop_words]\n",
    "print(filtered_tokens)"
   ]
  },
  {
   "cell_type": "markdown",
   "id": "de720783-17ee-4a06-8c53-23b3695ce4ed",
   "metadata": {},
   "source": [
    "## Stemming"
   ]
  },
  {
   "cell_type": "code",
   "execution_count": null,
   "id": "fb294251-81f7-4129-a874-320a3c9a01a9",
   "metadata": {},
   "outputs": [],
   "source": [
    "from nltk.stem import PorterStemmer \n",
    "\n",
    "stemmer = PorterStemmer() \n",
    "\n",
    "stemmed_tokens = [stemmer.stem(token) for token in filtered_tokens]\n",
    "print(stemmed_tokens)"
   ]
  },
  {
   "cell_type": "markdown",
   "id": "2642a279-203b-4617-8a38-dd5d5bf87932",
   "metadata": {},
   "source": [
    "## Rare word removal"
   ]
  },
  {
   "cell_type": "code",
   "execution_count": null,
   "id": "411d7b1e-5b67-4f8c-8183-48c18bd1327c",
   "metadata": {},
   "outputs": [],
   "source": [
    "from nltk.probability import FreqDist \n",
    "\n",
    "freq_dist = FreqDist(stemmed_tokens)\n",
    "\n",
    "threshold = 2 \n",
    "\n",
    "common_tokens = [token for token in stemmed_tokens if freq_dist[token]>=threshold]\n",
    "print(common_tokens)"
   ]
  },
  {
   "cell_type": "code",
   "execution_count": null,
   "id": "0ced1917-faa9-410a-99a7-6dbd48212e78",
   "metadata": {},
   "outputs": [],
   "source": []
  }
 ],
 "metadata": {
  "kernelspec": {
   "display_name": "Python 3 (ipykernel)",
   "language": "python",
   "name": "python3"
  },
  "language_info": {
   "codemirror_mode": {
    "name": "ipython",
    "version": 3
   },
   "file_extension": ".py",
   "mimetype": "text/x-python",
   "name": "python",
   "nbconvert_exporter": "python",
   "pygments_lexer": "ipython3",
   "version": "3.11.10"
  }
 },
 "nbformat": 4,
 "nbformat_minor": 5
}
