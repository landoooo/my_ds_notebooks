{
 "cells": [
  {
   "cell_type": "markdown",
   "id": "31ceb8d9-83d1-40bb-8c8c-91a09eb4e89f",
   "metadata": {},
   "source": [
    "# Introduction to pytorch \n",
    "\n",
    "Following Sebastian Raschka's book Build a Large Language Model from scracth Appendix A"
   ]
  },
  {
   "cell_type": "code",
   "execution_count": null,
   "id": "56ea49a2-ff32-40a9-8058-1f189740e0a2",
   "metadata": {},
   "outputs": [],
   "source": [
    "import torch\n",
    "torch.cuda.is_available()"
   ]
  },
  {
   "cell_type": "code",
   "execution_count": null,
   "id": "ca92b03a-10fc-45d0-b95d-751a5c387428",
   "metadata": {},
   "outputs": [],
   "source": [
    "print(torch.backends.mps.is_available())"
   ]
  },
  {
   "cell_type": "code",
   "execution_count": null,
   "id": "dd0c7556-25df-476f-bb53-2ec1bbae4ca7",
   "metadata": {},
   "outputs": [],
   "source": [
    "tensor0d = torch.tensor(1)\n",
    "tensor1d = torch.tensor([1, 2, 3])\n",
    "tensor2d = torch.tensor([[1, 2],\n",
    "                         [3, 4]])\n",
    "tensor3d = torch.tensor([[[1, 2], \n",
    "                          [3, 4]],\n",
    "                         [[5, 6], \n",
    "                          [7, 8]]])"
   ]
  },
  {
   "cell_type": "code",
   "execution_count": null,
   "id": "64448cac-ff1f-4a89-aa2a-269abed130c6",
   "metadata": {},
   "outputs": [],
   "source": [
    "tensor1d = torch.tensor([1, 2, 3])\n",
    "print(tensor1d.dtype)"
   ]
  },
  {
   "cell_type": "code",
   "execution_count": null,
   "id": "526cc6ea-124b-4946-aea7-377da7802239",
   "metadata": {},
   "outputs": [],
   "source": [
    "floatvec = torch.tensor([1.0, 2.0, 3.0])\n",
    "print(floatvec.dtype)"
   ]
  },
  {
   "cell_type": "code",
   "execution_count": null,
   "id": "ac4a6676-2b95-44c2-be0f-3032a29c09de",
   "metadata": {},
   "outputs": [],
   "source": [
    "floatvec = tensor1d.to(torch.float32)\n",
    "print(floatvec.dtype)"
   ]
  },
  {
   "cell_type": "code",
   "execution_count": null,
   "id": "ed8e737d-ec25-485e-8967-d946fac5da50",
   "metadata": {},
   "outputs": [],
   "source": [
    "tensor2d = torch.tensor([[1, 2, 3],\n",
    "                         [4, 5, 6]])\n",
    "print(tensor2d)"
   ]
  },
  {
   "cell_type": "code",
   "execution_count": null,
   "id": "3abdc6b4-bc9c-4e81-b0f9-98efbc003388",
   "metadata": {},
   "outputs": [],
   "source": [
    "print(tensor2d.reshape(3, 2))"
   ]
  },
  {
   "cell_type": "code",
   "execution_count": null,
   "id": "2580bb81-b29f-4a76-974a-0acd932d1cde",
   "metadata": {},
   "outputs": [],
   "source": [
    "# Traditionally, view. It does the same as reshape, introduced later for numpy alingment\n",
    "print(tensor2d.view(3, 2))"
   ]
  },
  {
   "cell_type": "code",
   "execution_count": null,
   "id": "ce13f1f9-0e53-4dd6-9f2d-dd65b8c64a6b",
   "metadata": {},
   "outputs": [],
   "source": [
    "# flipping over the diagonal\n",
    "print(tensor2d.T)\n"
   ]
  },
  {
   "cell_type": "code",
   "execution_count": null,
   "id": "a48defa6-3b5e-4b2a-ae02-91c85de9ff04",
   "metadata": {},
   "outputs": [],
   "source": [
    "print(tensor2d.matmul(tensor2d.T))"
   ]
  },
  {
   "cell_type": "code",
   "execution_count": null,
   "id": "d6405def-b0b7-471f-bbaf-8914a8d409ca",
   "metadata": {},
   "outputs": [],
   "source": [
    "print(tensor2d @ tensor2d.T)"
   ]
  },
  {
   "cell_type": "code",
   "execution_count": null,
   "id": "3fc9af42-9e01-43ac-955a-2033316b0490",
   "metadata": {},
   "outputs": [],
   "source": [
    "import torch.nn.functional as F\n",
    "\n",
    "y = torch.tensor([1.0])\n",
    "x1 = torch.tensor([1.1])\n",
    "w1 = torch.tensor([2.2])\n",
    "b = torch.tensor([0.0])\n",
    "\n",
    "z = x1 * w1 + b\n",
    "\n",
    "a = torch.sigmoid(z)\n",
    "\n",
    "loss = F.binary_cross_entropy(a, y)"
   ]
  },
  {
   "cell_type": "code",
   "execution_count": null,
   "id": "cba5d840-2bef-4a29-831d-8348bcbd398a",
   "metadata": {},
   "outputs": [],
   "source": [
    "print(loss)"
   ]
  },
  {
   "cell_type": "code",
   "execution_count": null,
   "id": "ffec67fa-fba9-4120-a83c-cf683b880f46",
   "metadata": {},
   "outputs": [],
   "source": [
    "import torch.nn.functional as F\n",
    "from torch.autograd import grad\n",
    "\n",
    "y = torch.tensor([1.0])\n",
    "x1 = torch.tensor([1.1])\n",
    "w1 = torch.tensor([2.2], requires_grad=True)\n",
    "b = torch.tensor([0.0], requires_grad=True)\n",
    "z = x1 * w1 + b\n",
    "a = torch.sigmoid(z)\n",
    "\n",
    "loss = F.binary_cross_entropy(a, y)\n",
    "\n",
    "grad_L_w1 = grad(loss, w1, retain_graph=True)\n",
    "grad_L_b = grad(loss, b, retain_graph=True)\n",
    "\n",
    "print(grad_L_w1)\n",
    "print(grad_L_b)"
   ]
  },
  {
   "cell_type": "code",
   "execution_count": null,
   "id": "322a25dc-e670-44f4-8f76-bb2d881280ef",
   "metadata": {},
   "outputs": [],
   "source": [
    "loss.backward()\n",
    "print(w1.grad)\n",
    "print(b.grad)"
   ]
  },
  {
   "cell_type": "code",
   "execution_count": null,
   "id": "265684b5-8a08-4247-a767-aa2723b6f971",
   "metadata": {},
   "outputs": [],
   "source": [
    "class NeuralNetwork(torch.nn.Module):\n",
    "    def __init__(self, num_inputs, num_outputs):\n",
    "        super().__init__()\n",
    "        self.layers = torch.nn.Sequential(\n",
    "            \n",
    "            # 1st hidden layer\n",
    "            torch.nn.Linear(num_inputs, 30),\n",
    "            torch.nn.ReLU(),\n",
    "            \n",
    "            # 2nd hidden layer\n",
    "            torch.nn.Linear(30, 20),\n",
    "            torch.nn.ReLU(),\n",
    "            \n",
    "            # output layer\n",
    "            torch.nn.Linear(20, num_outputs),\n",
    "        )\n",
    "\n",
    "    def forward(self, x):\n",
    "        logits = self.layers(x)\n",
    "        return logits\n",
    "\n",
    "model = NeuralNetwork(50, 3)\n",
    "\n",
    "print(model)"
   ]
  },
  {
   "cell_type": "code",
   "execution_count": null,
   "id": "f06ada40-8111-4325-9aa4-abc9e58638a3",
   "metadata": {},
   "outputs": [],
   "source": [
    "num_params = sum(p.numel() for p in model.parameters() if p.requires_grad)\n",
    "print(\"Total number of trainable model parameters:\", num_params)"
   ]
  },
  {
   "cell_type": "code",
   "execution_count": null,
   "id": "81b69b25-0416-4b53-b6dd-b357cd05bd31",
   "metadata": {},
   "outputs": [],
   "source": [
    "print(model.layers[0].weight)"
   ]
  },
  {
   "cell_type": "code",
   "execution_count": null,
   "id": "00adef78-79bb-4df5-b101-05443f30d719",
   "metadata": {},
   "outputs": [],
   "source": [
    "print(model.layers[0].weight.shape)"
   ]
  },
  {
   "cell_type": "code",
   "execution_count": null,
   "id": "5f784425-e159-4135-a80a-f3cfeecdf626",
   "metadata": {},
   "outputs": [],
   "source": [
    "print(model.layers[0].bias.shape)"
   ]
  },
  {
   "cell_type": "code",
   "execution_count": null,
   "id": "23492b32-82e4-4118-9f0e-aed850b20b42",
   "metadata": {},
   "outputs": [],
   "source": [
    "torch.manual_seed(123)\n",
    "model = NeuralNetwork(50, 3)\n",
    "print(model.layers[0].weight)"
   ]
  },
  {
   "cell_type": "code",
   "execution_count": null,
   "id": "f04ff484-4fbd-4b91-8995-b3683bee300a",
   "metadata": {},
   "outputs": [],
   "source": [
    "torch.manual_seed(123)\n",
    "X = torch.rand((1, 50))\n",
    "print(X)\n",
    "out = model(X)\n",
    "print(out)"
   ]
  },
  {
   "cell_type": "code",
   "execution_count": null,
   "id": "3669d2c6-a805-4907-a169-fbea8e3a759b",
   "metadata": {},
   "outputs": [],
   "source": [
    "type(torch.rand((1, 50)))"
   ]
  },
  {
   "cell_type": "code",
   "execution_count": null,
   "id": "e821162b-d237-449a-b3fa-093e9d931750",
   "metadata": {},
   "outputs": [],
   "source": [
    "with torch.no_grad():\n",
    "    out = model(X)\n",
    "print(out)"
   ]
  },
  {
   "cell_type": "code",
   "execution_count": null,
   "id": "4cb2c2da-c968-4a90-ba60-a2c0f1d87fa8",
   "metadata": {},
   "outputs": [],
   "source": [
    "with torch.no_grad():\n",
    "    out = torch.softmax(model(X), dim=1)\n",
    "print(out)"
   ]
  },
  {
   "cell_type": "markdown",
   "id": "27958c6f-1c47-46b4-a847-95fe7550c46e",
   "metadata": {
    "execution": {
     "iopub.execute_input": "2024-11-19T13:28:48.096305Z",
     "iopub.status.busy": "2024-11-19T13:28:48.095452Z",
     "iopub.status.idle": "2024-11-19T13:28:48.103528Z",
     "shell.execute_reply": "2024-11-19T13:28:48.101662Z",
     "shell.execute_reply.started": "2024-11-19T13:28:48.096249Z"
    }
   },
   "source": [
    "# Datasets and dataloaders"
   ]
  },
  {
   "cell_type": "code",
   "execution_count": null,
   "id": "6fb81374-03f3-4f20-b60b-3a41691c436d",
   "metadata": {},
   "outputs": [],
   "source": [
    "X_train = torch.tensor([\n",
    "                        [-1.2, 3.1],\n",
    "                        [-0.9, 2.9],\n",
    "                        [-0.5, 2.6],\n",
    "                        [2.3, -1.1],\n",
    "                        [2.7, -1.5]\n",
    "                    ])\n",
    "y_train = torch.tensor([0, 0, 0, 1, 1])\n",
    "X_test = torch.tensor([\n",
    "                        [-0.8, 2.8],\n",
    "                        [2.6, -1.6],\n",
    "                    ])\n",
    "y_test = torch.tensor([0, 1])"
   ]
  },
  {
   "cell_type": "code",
   "execution_count": null,
   "id": "626b9ce3-87f4-4342-b44d-2cd10233c05f",
   "metadata": {},
   "outputs": [],
   "source": [
    "from torch.utils.data import Dataset\n",
    "\n",
    "class ToyDataset(Dataset):\n",
    "    def __init__(self, X, y):\n",
    "        self.features = X\n",
    "        self.labels = y\n",
    "\n",
    "    def __getitem__(self, index):\n",
    "        one_x = self.features[index]\n",
    "        one_y = self.labels[index]\n",
    "        return one_x, one_y\n",
    "    \n",
    "    def __len__(self):\n",
    "        return self.labels.shape[0]\n",
    "\n",
    "train_ds = ToyDataset(X_train, y_train)\n",
    "test_ds = ToyDataset(X_test, y_test)"
   ]
  },
  {
   "cell_type": "code",
   "execution_count": null,
   "id": "4c9cc4e4-f701-4ebe-b2a3-c78d322eee34",
   "metadata": {},
   "outputs": [],
   "source": [
    "from torch.utils.data import DataLoader\n",
    "\n",
    "torch.manual_seed(123)\n",
    "\n",
    "train_loader = DataLoader(\n",
    "                            dataset=train_ds,\n",
    "                            batch_size=2,\n",
    "                            shuffle=True,\n",
    "                            num_workers=0\n",
    "                            )\n",
    "\n",
    "test_loader = DataLoader(\n",
    "                            dataset=test_ds,\n",
    "                            batch_size=2,\n",
    "                            shuffle=False,\n",
    "                            num_workers=0)"
   ]
  },
  {
   "cell_type": "code",
   "execution_count": null,
   "id": "0115bbd6-b0fc-43e7-a238-811a7d0d6619",
   "metadata": {},
   "outputs": [],
   "source": [
    "for idx, (x, y) in enumerate(train_loader):\n",
    "    print(f\"Batch {idx+1}:\", x, y)"
   ]
  },
  {
   "cell_type": "code",
   "execution_count": null,
   "id": "02cc5496-3cf4-4a0e-9f39-be45f45966ec",
   "metadata": {},
   "outputs": [],
   "source": [
    "torch.manual_seed(123)\n",
    "\n",
    "train_loader = DataLoader(\n",
    "                            dataset=train_ds,\n",
    "                            batch_size=2,\n",
    "                            shuffle=True,\n",
    "                            num_workers=0,\n",
    "                            drop_last=True\n",
    "                            )\n",
    "\n",
    "test_loader = DataLoader(\n",
    "                            dataset=test_ds,\n",
    "                            batch_size=2,\n",
    "                            shuffle=False,\n",
    "                            num_workers=0)"
   ]
  },
  {
   "cell_type": "code",
   "execution_count": null,
   "id": "e948078c-1d8b-4440-8dc9-657c4d8ee580",
   "metadata": {},
   "outputs": [],
   "source": [
    "for idx, (x, y) in enumerate(train_loader):\n",
    "    print(f\"Batch {idx+1}:\", x, y)"
   ]
  },
  {
   "cell_type": "code",
   "execution_count": null,
   "id": "fbb55357-7134-4e64-aadc-941f091c7b6a",
   "metadata": {},
   "outputs": [],
   "source": [
    "import torch.nn.functional as F\n",
    "\n",
    "torch.manual_seed(123)\n",
    "\n",
    "model = NeuralNetwork(num_inputs=2, num_outputs=2)\n",
    "optimizer = torch.optim.SGD(model.parameters(), lr=0.5)\n",
    "num_epochs = 3\n",
    "\n",
    "device = torch.device(\n",
    "    \"mps\" if torch.backends.mps.is_available() else \"cpu\"\n",
    ")\n",
    "\n",
    "for epoch in range(num_epochs):\n",
    "    model.train()\n",
    "\n",
    "    for batch_idx, (features, labels) in enumerate(train_loader):\n",
    "        logits = model(features)\n",
    "        loss = F.cross_entropy(logits, labels)\n",
    "        optimizer.zero_grad()\n",
    "        loss.backward()\n",
    "        optimizer.step()\n",
    "\n",
    "        ### LOGGING\n",
    "        print(f\"Epoch: {epoch+1:03d}/{num_epochs:03d}\"\n",
    "        f\" | Batch {batch_idx:03d}/{len(train_loader):03d}\"\n",
    "        f\" | Train Loss: {loss:.2f}\")\n",
    "\n",
    "    model.eval()\n",
    "    # Insert optional model evaluation code"
   ]
  },
  {
   "cell_type": "code",
   "execution_count": null,
   "id": "8e09bb90-36eb-473d-9254-0c2db4705243",
   "metadata": {},
   "outputs": [],
   "source": [
    "model.eval()\n",
    "with torch.no_grad():\n",
    "    outputs = model(X_train)\n",
    "\n",
    "print(outputs)"
   ]
  },
  {
   "cell_type": "code",
   "execution_count": null,
   "id": "f542da73-8105-4330-9fcf-7c3a86175f72",
   "metadata": {},
   "outputs": [],
   "source": [
    "torch.set_printoptions(sci_mode=False)\n",
    "probas = torch.softmax(outputs, dim=1)\n",
    "print(probas)"
   ]
  },
  {
   "cell_type": "code",
   "execution_count": null,
   "id": "6aedcfe0-a4a1-46c3-8613-659f79737448",
   "metadata": {},
   "outputs": [],
   "source": [
    "predictions = torch.argmax(probas, dim=1)\n",
    "print(predictions)"
   ]
  },
  {
   "cell_type": "code",
   "execution_count": null,
   "id": "159bbb26-26e7-4ad3-a688-f5ca52f87490",
   "metadata": {},
   "outputs": [],
   "source": [
    "predictions = torch.argmax(outputs, dim=1)\n",
    "print(predictions)"
   ]
  },
  {
   "cell_type": "code",
   "execution_count": null,
   "id": "368a086b-b07f-463f-b0fb-8f3297a94106",
   "metadata": {},
   "outputs": [],
   "source": [
    "predictions == y_train"
   ]
  },
  {
   "cell_type": "code",
   "execution_count": null,
   "id": "729c4017-2625-459f-851a-24b84135640c",
   "metadata": {},
   "outputs": [],
   "source": [
    "torch.sum(predictions == y_train)"
   ]
  },
  {
   "cell_type": "code",
   "execution_count": null,
   "id": "68fa88c8-ecd7-4bd7-ba54-24478351f850",
   "metadata": {},
   "outputs": [],
   "source": [
    "def compute_accuracy(model, dataloader):\n",
    "    model = model.eval()\n",
    "    correct = 0.0\n",
    "    total_examples = 0\n",
    "    for idx, (features, labels) in enumerate(dataloader):\n",
    "        with torch.no_grad():\n",
    "            logits = model(features)\n",
    "        predictions = torch.argmax(logits, dim=1)\n",
    "        compare = labels == predictions\n",
    "        correct += torch.sum(compare)\n",
    "        total_examples += len(compare)\n",
    "    return (correct / total_examples).item()"
   ]
  },
  {
   "cell_type": "code",
   "execution_count": null,
   "id": "064b27ac-b836-4e6c-88a2-4f7e7002ac07",
   "metadata": {},
   "outputs": [],
   "source": [
    "print(compute_accuracy(model, train_loader))"
   ]
  },
  {
   "cell_type": "code",
   "execution_count": null,
   "id": "65ba054c-e037-4d52-9b76-cd71fbf36d48",
   "metadata": {},
   "outputs": [],
   "source": [
    "print(compute_accuracy(model, test_loader))"
   ]
  },
  {
   "cell_type": "code",
   "execution_count": null,
   "id": "2baac4ee-d8c5-4f1a-8fae-cfc01d8e6fe2",
   "metadata": {},
   "outputs": [],
   "source": [
    "torch.save(model.state_dict(), \"model.pth\")"
   ]
  },
  {
   "cell_type": "code",
   "execution_count": null,
   "id": "bbd804d3-d19f-4cb1-b7cd-bdcebae6ef03",
   "metadata": {},
   "outputs": [],
   "source": [
    "model = NeuralNetwork(2, 2)\n",
    "model.load_state_dict(torch.load(\"model.pth\"))"
   ]
  },
  {
   "cell_type": "code",
   "execution_count": null,
   "id": "38182cd8-dbab-474d-9fc5-1cc3dd448a32",
   "metadata": {},
   "outputs": [],
   "source": []
  }
 ],
 "metadata": {
  "kernelspec": {
   "display_name": "Python 3 (ipykernel)",
   "language": "python",
   "name": "python3"
  },
  "language_info": {
   "codemirror_mode": {
    "name": "ipython",
    "version": 3
   },
   "file_extension": ".py",
   "mimetype": "text/x-python",
   "name": "python",
   "nbconvert_exporter": "python",
   "pygments_lexer": "ipython3",
   "version": "3.11.10"
  }
 },
 "nbformat": 4,
 "nbformat_minor": 5
}
