{
 "cells": [
  {
   "cell_type": "markdown",
   "id": "262e0148-b4ab-4e52-9492-0c731f1bd5d1",
   "metadata": {},
   "source": [
    "# Cluster Analysis"
   ]
  },
  {
   "cell_type": "code",
   "execution_count": null,
   "id": "eb8e3901-70e6-4f43-9138-05b66e8e857c",
   "metadata": {},
   "outputs": [],
   "source": [
    "import pandas as pd \n",
    "import numpy as np \n",
    "import matplotlib.pyplot as plt \n",
    "import seaborn as sns\n",
    "import warnings \n",
    "\n",
    "warnings.filterwarnings('ignore')"
   ]
  },
  {
   "cell_type": "markdown",
   "id": "f4f3eb9b-dfc0-4009-8637-386d3dcabaa9",
   "metadata": {},
   "source": [
    "A **cluster** is a group of items with similar characteristics (customers with similar habits, news about the same topics...)\n",
    "\n",
    "Clustering algorithms: \n",
    "- Hierarchical clustering\n",
    "- K Means Clustering\n",
    "- DBScan, Gaussian methods...\n",
    "\n",
    "## Hierarchical clustering \n",
    "\n",
    "Steps of **hierarchical clustering**:\n",
    "- Initially, there is a cluster pero observation.\n",
    "- We calculate distances between each pair of datapoints.\n",
    "- The closest 2 datapoints are merged in a single cluster\n",
    "- This process continues till we reach the desired amount of clusters."
   ]
  },
  {
   "cell_type": "code",
   "execution_count": null,
   "id": "f93e75e8-2632-44b3-89dd-d8be72fcca93",
   "metadata": {},
   "outputs": [],
   "source": [
    "from scipy.cluster.hierarchy import linkage, fcluster\n",
    "\n",
    "x_coordinates = [80.1, 93.1, 86.6, 98.5, 86.4, 9.5, 15.2, 3.4,\n",
    "                10.4, 20.3, 44.2, 56.8, 49.2, 62.5, 44.01]\n",
    "y_coordinates = [87.2, 96.1, 95.6, 92.4, 92.4, 57.7, 49.4,\n",
    "                47.3, 59.1, 55.5, 25.6, 2.1, 10.9, 24.1, 10.3]\n",
    "df = pd. DataFrame({'x_coordinate': _coordinates,\n",
    "                    'y_coordinate': y_coordinates})"
   ]
  },
  {
   "cell_type": "code",
   "execution_count": null,
   "id": "438bf751-bb79-4a12-aad5-6b3b5c1d2af5",
   "metadata": {},
   "outputs": [],
   "source": [
    "sns.scatterplot(data=df, x='x_coordinate', y='y_coordinate')"
   ]
  },
  {
   "cell_type": "code",
   "execution_count": null,
   "id": "3e209d8f-a790-46a9-a54e-7011be2046e2",
   "metadata": {},
   "outputs": [],
   "source": [
    "Z = linkage(df, 'ward')\n",
    "df['cluster_labels'] = fcluster(Z, 3, criterion='maxclust')"
   ]
  },
  {
   "cell_type": "code",
   "execution_count": null,
   "id": "1624dbaf-0131-4784-9b21-0680b21a3879",
   "metadata": {},
   "outputs": [],
   "source": [
    "sns.scatterplot(data=df, x='x_coordinate', y='y_coordinate', hue='cluster_labels')"
   ]
  },
  {
   "cell_type": "markdown",
   "id": "4be1e761-614f-4b97-8b4b-3bc95b05a899",
   "metadata": {
    "execution": {
     "iopub.execute_input": "2024-08-31T07:17:02.596293Z",
     "iopub.status.busy": "2024-08-31T07:17:02.595442Z",
     "iopub.status.idle": "2024-08-31T07:17:02.615928Z",
     "shell.execute_reply": "2024-08-31T07:17:02.614901Z",
     "shell.execute_reply.started": "2024-08-31T07:17:02.596253Z"
    }
   },
   "source": [
    "## Kmeans\n",
    "\n",
    "Steps:\n",
    "- Cluster centroids are randomly initiallized.\n",
    "- Distances from each datapoint to each cluster center is calculated.\n",
    "- Datapoints are asigned to the closest centroid.\n",
    "- Cluster centers are recalculated based on the datapoints assigned.\n",
    "- Repeat this for a predefined number of iterations\n",
    "\n",
    "\n"
   ]
  },
  {
   "cell_type": "code",
   "execution_count": null,
   "id": "a2305fdf-00e6-4130-b103-4e810c5a96cc",
   "metadata": {},
   "outputs": [],
   "source": [
    "from scipy.cluster.vq import kmeans, vq\n",
    "\n",
    "centroids,_ = kmeans(df, 3)\n",
    "df['cluster_labels_kmeans'],_ = vq(df, centroids) "
   ]
  },
  {
   "cell_type": "code",
   "execution_count": null,
   "id": "8e13ea9f-2773-4e92-9b01-39483c8c98c3",
   "metadata": {},
   "outputs": [],
   "source": [
    "sns.set_palette(\"inferno\")\n",
    "\n",
    "\n",
    "sns.scatterplot(data=df, x='x_coordinate', y='y_coordinate', hue='cluster_labels_kmeans')"
   ]
  },
  {
   "cell_type": "markdown",
   "id": "26458b78-d516-4797-af1a-ff761f9d800b",
   "metadata": {},
   "source": [
    "# Data preparation for cluster analysis\n",
    "\n",
    "Why?\n",
    "- Variables in incomparable units\n",
    "- Variables with different scales and variances\n",
    "- Data in raw form may lead to bias in clustering\n",
    "- Clusters may be heavily dependent on one variable\n",
    "\n",
    "Solution: normalization of individual variables\n",
    "\n",
    "## Normalization of data\n",
    "\n",
    "Normalization is the process of rescaling data to a standard deviation of 1\n",
    "\n",
    "$$x\\_new = \\frac{ x }{ std(x) }$$\n"
   ]
  },
  {
   "cell_type": "code",
   "execution_count": null,
   "id": "ce0dba1b-6e7a-4640-87ec-d52023180fb1",
   "metadata": {},
   "outputs": [],
   "source": [
    "from scipy.cluster.vq import whiten\n",
    "\n",
    "data = [5,1,3,7,3,5,8,2]\n",
    "\n",
    "scaled_data = whiten(data)\n",
    "print(scaled_data)"
   ]
  },
  {
   "cell_type": "code",
   "execution_count": null,
   "id": "e89df54c-5c95-4a21-b969-6962eb06ccba",
   "metadata": {},
   "outputs": [],
   "source": [
    "plt.plot(data, label='original', c='red')\n",
    "plt.plot(scaled_data, label='scaled')\n",
    "plt.legend()\n",
    "plt.show()"
   ]
  },
  {
   "cell_type": "code",
   "execution_count": null,
   "id": "824937a1-f801-4c95-bc9e-fac6378c8b75",
   "metadata": {},
   "outputs": [],
   "source": []
  }
 ],
 "metadata": {
  "kernelspec": {
   "display_name": "Python 3 (ipykernel)",
   "language": "python",
   "name": "python3"
  },
  "language_info": {
   "codemirror_mode": {
    "name": "ipython",
    "version": 3
   },
   "file_extension": ".py",
   "mimetype": "text/x-python",
   "name": "python",
   "nbconvert_exporter": "python",
   "pygments_lexer": "ipython3",
   "version": "3.12.4"
  }
 },
 "nbformat": 4,
 "nbformat_minor": 5
}
