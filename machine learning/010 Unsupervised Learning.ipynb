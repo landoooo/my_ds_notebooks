{
 "cells": [
  {
   "cell_type": "markdown",
   "id": "14592bc6-f930-4a47-9e3e-0ec8915a7856",
   "metadata": {},
   "source": [
    "# Unsupervised learning\n",
    "\n",
    "Unsupervised learning finds patterns in data but without a specific prediction task in mind\n",
    "\n",
    "\n"
   ]
  },
  {
   "cell_type": "code",
   "execution_count": 4,
   "id": "5b89b25c-49af-43f5-bd9c-56a1daa61fd8",
   "metadata": {
    "execution": {
     "iopub.execute_input": "2024-08-12T20:13:48.229593Z",
     "iopub.status.busy": "2024-08-12T20:13:48.228794Z",
     "iopub.status.idle": "2024-08-12T20:13:48.236240Z",
     "shell.execute_reply": "2024-08-12T20:13:48.235203Z",
     "shell.execute_reply.started": "2024-08-12T20:13:48.229554Z"
    }
   },
   "outputs": [],
   "source": [
    "import pandas as pd \n",
    "import numpy as np \n",
    "import seaborn as sns\n",
    "import warnings\n",
    "import matplotlib.pyplot as plt\n",
    "from sklearn.datasets import load_iris\n",
    "\n",
    "sns.set_style('whitegrid')\n",
    "warnings.filterwarnings('ignore')"
   ]
  },
  {
   "cell_type": "code",
   "execution_count": 5,
   "id": "d7f79683-0344-4293-8040-437eb9dd5e26",
   "metadata": {
    "execution": {
     "iopub.execute_input": "2024-08-12T20:13:48.390458Z",
     "iopub.status.busy": "2024-08-12T20:13:48.389427Z",
     "iopub.status.idle": "2024-08-12T20:13:48.407804Z",
     "shell.execute_reply": "2024-08-12T20:13:48.407043Z",
     "shell.execute_reply.started": "2024-08-12T20:13:48.390382Z"
    }
   },
   "outputs": [],
   "source": [
    "iris_df = load_iris()"
   ]
  },
  {
   "cell_type": "code",
   "execution_count": 8,
   "id": "f01f06bb-b456-4e61-96de-a7a26df1fff4",
   "metadata": {
    "execution": {
     "iopub.execute_input": "2024-08-12T20:14:09.497931Z",
     "iopub.status.busy": "2024-08-12T20:14:09.497197Z",
     "iopub.status.idle": "2024-08-12T20:14:09.516135Z",
     "shell.execute_reply": "2024-08-12T20:14:09.514696Z",
     "shell.execute_reply.started": "2024-08-12T20:14:09.497894Z"
    }
   },
   "outputs": [
    {
     "data": {
      "text/plain": [
       "sklearn.utils._bunch.Bunch"
      ]
     },
     "execution_count": 8,
     "metadata": {},
     "output_type": "execute_result"
    }
   ],
   "source": [
    "type(iris_df)"
   ]
  },
  {
   "cell_type": "code",
   "execution_count": null,
   "id": "d46479e3-1bee-4d8f-bbc8-0b200f83d032",
   "metadata": {},
   "outputs": [],
   "source": []
  }
 ],
 "metadata": {
  "kernelspec": {
   "display_name": "Python 3 (ipykernel)",
   "language": "python",
   "name": "python3"
  },
  "language_info": {
   "codemirror_mode": {
    "name": "ipython",
    "version": 3
   },
   "file_extension": ".py",
   "mimetype": "text/x-python",
   "name": "python",
   "nbconvert_exporter": "python",
   "pygments_lexer": "ipython3",
   "version": "3.12.4"
  }
 },
 "nbformat": 4,
 "nbformat_minor": 5
}
