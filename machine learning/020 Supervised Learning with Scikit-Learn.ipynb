{
 "cells": [
  {
   "cell_type": "markdown",
   "id": "e2f52cfc-f275-47e8-b7ca-2f0721532f42",
   "metadata": {},
   "source": [
    "# Machine Learning with Scikit Learn"
   ]
  },
  {
   "cell_type": "code",
   "execution_count": null,
   "id": "170eda79-cf11-43a1-8d8e-7b29381fcd1c",
   "metadata": {},
   "outputs": [],
   "source": [
    "import pandas as pd \n",
    "import numpy as np \n",
    "import matplotlib.pyplot as plt \n",
    "import seaborn as sns\n",
    "import warnings\n",
    "\n",
    "warnings.filterwarnings('ignore')"
   ]
  },
  {
   "cell_type": "markdown",
   "id": "973c3f1e-42ef-49af-a4d0-c02bbaca1f05",
   "metadata": {},
   "source": [
    "Supervised learning is a type of machine learning where the values to be predicted are already known, and a model is built with the aim of accurately predicting values of previously unseen data.\n",
    "\n",
    "2 kinds of supervised learning:\n",
    "- Classification: target variable consists of categories\n",
    "- Regression: target variable is continuous\n",
    "\n",
    "Feature = predictor variable = independent variable\n",
    "Target variable = dependent variable = response variable\n",
    "\n",
    "Before using supervised learning:\n",
    "- no missing values\n",
    "- numeric format\n",
    "- data stored in pandas dataframe or numpy arrays\n",
    "\n",
    "EDA to be performed before doing supervised learning\n",
    "\n",
    "> Scikit-learn follows the same syntax for all the models\n",
    "\n",
    "```\n",
    "from sklearn.module import Model\n",
    "\n",
    "model = Model()\n",
    "model.fit(X,y)\n",
    "predictions = model.predict(X_new)\n",
    "print(predictions)\n",
    "```"
   ]
  },
  {
   "cell_type": "markdown",
   "id": "e2b7bada-d716-4d7a-ad57-9d53fd2f8cf0",
   "metadata": {
    "execution": {
     "iopub.execute_input": "2024-08-05T17:19:39.846102Z",
     "iopub.status.busy": "2024-08-05T17:19:39.845548Z",
     "iopub.status.idle": "2024-08-05T17:19:39.854845Z",
     "shell.execute_reply": "2024-08-05T17:19:39.852359Z",
     "shell.execute_reply.started": "2024-08-05T17:19:39.846061Z"
    }
   },
   "source": [
    "# Classification\n",
    "\n",
    "1. Build a model\n",
    "2. Model learns from the labeled data\n",
    "3. Pass unlabel data to the model as input\n",
    "4. Model predicts the labels of unseen data\n",
    "\n",
    "## k-Nearest Neighbors (KNN)\n",
    "\n",
    "Predicts the label of a data point by\n",
    "- Looking at the k closest labeled data points\n",
    "- Taking a majority vote\n"
   ]
  },
  {
   "cell_type": "code",
   "execution_count": null,
   "id": "8732f2f2-4af0-4209-8ac3-d0fbc18bf11e",
   "metadata": {},
   "outputs": [],
   "source": [
    "churn = pd.read_csv('../data/telecom_churn_clean.csv')\n",
    "churn.head()"
   ]
  },
  {
   "cell_type": "code",
   "execution_count": null,
   "id": "b800cf20-296c-42ae-a55d-9b2dd00368fd",
   "metadata": {},
   "outputs": [],
   "source": [
    "sns.scatterplot(data=churn, x='account_length', y='customer_service_calls', hue='churn')"
   ]
  },
  {
   "cell_type": "code",
   "execution_count": null,
   "id": "2c848cc8-d342-4ad2-aba4-05cd1e194ece",
   "metadata": {},
   "outputs": [],
   "source": [
    "from sklearn.neighbors import KNeighborsClassifier\n",
    "\n",
    "# the .values converts the dataFrames into numpy arrays\n",
    "X = churn[['account_length', 'customer_service_calls']].values\n",
    "y = churn.churn.values\n",
    "\n",
    "print(X.shape)\n",
    "print(y.shape)"
   ]
  },
  {
   "cell_type": "code",
   "execution_count": null,
   "id": "2f103fbe-1fa0-402c-9185-53f462a87580",
   "metadata": {},
   "outputs": [],
   "source": [
    "knn = KNeighborsClassifier(n_neighbors=15)\n",
    "\n",
    "knn.fit(X, y)"
   ]
  },
  {
   "cell_type": "code",
   "execution_count": null,
   "id": "f7e5cfda-52e4-49d1-88e2-3e980ce13fb2",
   "metadata": {},
   "outputs": [],
   "source": [
    "X_new=np.array([[1, 1],\n",
    "                [0, 0], \n",
    "               [-1, -1]])\n",
    "print(X_new)"
   ]
  },
  {
   "cell_type": "code",
   "execution_count": null,
   "id": "83f59daa-fe69-46aa-ba62-1364d8b290eb",
   "metadata": {},
   "outputs": [],
   "source": [
    "predictions = knn.predict(X_new)\n",
    "print(predictions)"
   ]
  },
  {
   "cell_type": "markdown",
   "id": "1ad771a2-01f7-459e-bf50-3ea4fbe08a6f",
   "metadata": {
    "execution": {
     "iopub.execute_input": "2024-08-05T17:49:55.296309Z",
     "iopub.status.busy": "2024-08-05T17:49:55.294719Z",
     "iopub.status.idle": "2024-08-05T17:49:55.312518Z",
     "shell.execute_reply": "2024-08-05T17:49:55.311376Z",
     "shell.execute_reply.started": "2024-08-05T17:49:55.296235Z"
    }
   },
   "source": [
    "The `n_neighbors` parameter in a K-Nearest Neighbors (KNN) model specifies the number of closest data points (neighbors) the model considers when making a prediction. Here’s how it impacts the model:\n",
    "\n",
    "1. **Small `n_neighbors` (e.g., 1 or 2):** The model becomes highly sensitive to noise in the data, as predictions are based on very few neighbors. This can lead to overfitting.\n",
    "\n",
    "2. **Large `n_neighbors` (e.g., 10 or more):** The model becomes more robust to noise by averaging over more neighbors, but it may also oversmooth the data, potentially missing patterns and leading to underfitting.\n",
    "\n",
    "In summary, `n_neighbors` controls the trade-off between bias and variance: a small value can capture more complex patterns but may be too sensitive to noise, while a large value smooths out noise but may miss finer details.\n"
   ]
  },
  {
   "cell_type": "markdown",
   "id": "a7dccbff-8e53-44ed-899e-eca731c8aed1",
   "metadata": {
    "execution": {
     "iopub.execute_input": "2024-08-05T17:32:32.461747Z",
     "iopub.status.busy": "2024-08-05T17:32:32.460630Z",
     "iopub.status.idle": "2024-08-05T17:32:32.473290Z",
     "shell.execute_reply": "2024-08-05T17:32:32.471949Z",
     "shell.execute_reply.started": "2024-08-05T17:32:32.461703Z"
    }
   },
   "source": [
    "## Measuring model performance\n",
    "\n",
    "Accuracy is a commonly used metric\n",
    "\n",
    "$$\n",
    "    accuracy = {correct\\_predictions \\over total\\_observations}\n",
    "$$\n",
    "\n",
    "Split data into training and test set. Evaluation has to be performed on unseen data."
   ]
  },
  {
   "cell_type": "code",
   "execution_count": null,
   "id": "2abf17c7-03fe-4735-b98c-0050d2ebbee9",
   "metadata": {},
   "outputs": [],
   "source": [
    "from sklearn.model_selection import train_test_split\n",
    "\n",
    "X_train, X_test, y_train, y_test = train_test_split(X, y, test_size=0.3, random_state=42, stratify=y)"
   ]
  },
  {
   "cell_type": "code",
   "execution_count": null,
   "id": "da05533e-b713-4741-a41b-98581b3290cb",
   "metadata": {},
   "outputs": [],
   "source": [
    "knn = KNeighborsClassifier(n_neighbors=6)\n",
    "\n",
    "knn.fit(X_train, y_train)"
   ]
  },
  {
   "cell_type": "code",
   "execution_count": null,
   "id": "265f867f-0930-461b-a765-e3d972ee7d93",
   "metadata": {},
   "outputs": [],
   "source": [
    "print(knn.score(X_test, y_test))"
   ]
  },
  {
   "cell_type": "markdown",
   "id": "4f0b432b-2d21-47f3-9a90-77e09d8bb0e6",
   "metadata": {},
   "source": [
    "Lets try different n values"
   ]
  },
  {
   "cell_type": "code",
   "execution_count": null,
   "id": "507cc231-8844-4018-a81f-0fedeea1bbfb",
   "metadata": {},
   "outputs": [],
   "source": [
    "train_accuracies = {}\n",
    "test_accuracies = {}\n",
    "neighbors =  np.arange(1, 26)\n",
    "\n",
    "for n in neighbors:\n",
    "    knn = KNeighborsClassifier(n_neighbors=n)\n",
    "    knn.fit(X_train, y_train)\n",
    "    train_accuracies[n] = knn.score(X_train, y_train)\n",
    "    test_accuracies[n] = knn.score(X_test, y_test)\n"
   ]
  },
  {
   "cell_type": "code",
   "execution_count": null,
   "id": "70e8bcb4-4bf0-400d-8533-0611dc0f3f4f",
   "metadata": {},
   "outputs": [],
   "source": [
    "# Add a title\n",
    "plt.title(\"KNN: Varying Number of Neighbors\")\n",
    "\n",
    "# Plot training accuracies\n",
    "plt.plot(neighbors,train_accuracies.values(), label=\"Training Accuracy\")\n",
    "\n",
    "# Plot test accuracies\n",
    "plt.plot(neighbors,test_accuracies.values(),  label=\"Test Accuracy\")\n",
    "\n",
    "plt.legend()\n",
    "plt.xlabel(\"Number of Neighbors\")\n",
    "plt.ylabel(\"Accuracy\")\n",
    "\n",
    "# Display the plot\n",
    "plt.show()"
   ]
  },
  {
   "cell_type": "markdown",
   "id": "9e3e4855-b8d8-4ec1-a1de-e5a7ca9a3b4b",
   "metadata": {},
   "source": [
    "# Introduction to Regression\n",
    "\n",
    "In these kinds of problems the response variable is typically continuous."
   ]
  },
  {
   "cell_type": "code",
   "execution_count": null,
   "id": "c9cbea08-c52c-4067-a2d9-8d5fe54c3b02",
   "metadata": {},
   "outputs": [],
   "source": [
    "diabetes_df = pd.read_csv('../data/diabetes_clean.csv')\n",
    "diabetes_df"
   ]
  },
  {
   "cell_type": "code",
   "execution_count": null,
   "id": "90539aa7-5d9c-475d-9407-7c66affec788",
   "metadata": {},
   "outputs": [],
   "source": [
    "X = diabetes_df.drop(\"glucose\", axis=1).values\n",
    "y = diabetes_df.glucose.values"
   ]
  },
  {
   "cell_type": "code",
   "execution_count": null,
   "id": "e9413d83-e7e7-46f4-958f-8f03b21a01c4",
   "metadata": {},
   "outputs": [],
   "source": []
  }
 ],
 "metadata": {
  "kernelspec": {
   "display_name": "Python 3 (ipykernel)",
   "language": "python",
   "name": "python3"
  },
  "language_info": {
   "codemirror_mode": {
    "name": "ipython",
    "version": 3
   },
   "file_extension": ".py",
   "mimetype": "text/x-python",
   "name": "python",
   "nbconvert_exporter": "python",
   "pygments_lexer": "ipython3",
   "version": "3.12.4"
  }
 },
 "nbformat": 4,
 "nbformat_minor": 5
}
