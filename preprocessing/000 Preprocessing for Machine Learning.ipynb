{
 "cells": [
  {
   "cell_type": "code",
   "execution_count": 2,
   "id": "24eb7c51-22bb-4c35-bc64-f7e758effea9",
   "metadata": {
    "execution": {
     "iopub.execute_input": "2024-08-27T08:53:17.267533Z",
     "iopub.status.busy": "2024-08-27T08:53:17.266728Z",
     "iopub.status.idle": "2024-08-27T08:53:18.669616Z",
     "shell.execute_reply": "2024-08-27T08:53:18.669059Z",
     "shell.execute_reply.started": "2024-08-27T08:53:17.267483Z"
    }
   },
   "outputs": [],
   "source": [
    "import pandas as pd \n",
    "import numpy as np \n",
    "import matplotlib.pyplot as plt \n",
    "import seaborn as sns \n",
    "import warnings \n",
    "\n",
    "warnings.filterwarnings('ignore')"
   ]
  },
  {
   "cell_type": "markdown",
   "id": "3f4d4c74-73d7-4e6b-a16e-612a3184a688",
   "metadata": {},
   "source": [
    "# Introduction\n",
    "\n",
    "Data preprocessing takes place after exploratory data analysis and cleaning\n",
    "\n",
    "We preprocess the data to: \n",
    "- transform the dataset so its suitable for modeling\n",
    "  AND\n",
    "- to improve model performance\n",
    "\n",
    "## 1. Importing data"
   ]
  },
  {
   "cell_type": "code",
   "execution_count": 22,
   "id": "65ff760c-039a-4f25-a834-29011d9e4417",
   "metadata": {
    "execution": {
     "iopub.execute_input": "2024-08-27T09:31:41.097501Z",
     "iopub.status.busy": "2024-08-27T09:31:41.096438Z",
     "iopub.status.idle": "2024-08-27T09:31:41.126933Z",
     "shell.execute_reply": "2024-08-27T09:31:41.126358Z",
     "shell.execute_reply.started": "2024-08-27T09:31:41.097444Z"
    }
   },
   "outputs": [],
   "source": [
    "df = pd.read_csv('../data/volunteer_opportunities.csv')"
   ]
  },
  {
   "cell_type": "markdown",
   "id": "2dee03e9-7289-4749-984f-de0f7e39d8bf",
   "metadata": {},
   "source": [
    "## 2. Inspecting"
   ]
  },
  {
   "cell_type": "code",
   "execution_count": 23,
   "id": "c716f5ec-c64d-45cd-a2ee-76e68950fcbd",
   "metadata": {
    "execution": {
     "iopub.execute_input": "2024-08-27T09:31:43.936220Z",
     "iopub.status.busy": "2024-08-27T09:31:43.935347Z",
     "iopub.status.idle": "2024-08-27T09:31:43.962163Z",
     "shell.execute_reply": "2024-08-27T09:31:43.961526Z",
     "shell.execute_reply.started": "2024-08-27T09:31:43.936150Z"
    }
   },
   "outputs": [
    {
     "data": {
      "text/html": [
       "<div>\n",
       "<style scoped>\n",
       "    .dataframe tbody tr th:only-of-type {\n",
       "        vertical-align: middle;\n",
       "    }\n",
       "\n",
       "    .dataframe tbody tr th {\n",
       "        vertical-align: top;\n",
       "    }\n",
       "\n",
       "    .dataframe thead th {\n",
       "        text-align: right;\n",
       "    }\n",
       "</style>\n",
       "<table border=\"1\" class=\"dataframe\">\n",
       "  <thead>\n",
       "    <tr style=\"text-align: right;\">\n",
       "      <th></th>\n",
       "      <th>opportunity_id</th>\n",
       "      <th>content_id</th>\n",
       "      <th>vol_requests</th>\n",
       "      <th>event_time</th>\n",
       "      <th>title</th>\n",
       "      <th>hits</th>\n",
       "      <th>summary</th>\n",
       "      <th>is_priority</th>\n",
       "      <th>category_id</th>\n",
       "      <th>category_desc</th>\n",
       "      <th>...</th>\n",
       "      <th>end_date_date</th>\n",
       "      <th>status</th>\n",
       "      <th>Latitude</th>\n",
       "      <th>Longitude</th>\n",
       "      <th>Community Board</th>\n",
       "      <th>Community Council</th>\n",
       "      <th>Census Tract</th>\n",
       "      <th>BIN</th>\n",
       "      <th>BBL</th>\n",
       "      <th>NTA</th>\n",
       "    </tr>\n",
       "  </thead>\n",
       "  <tbody>\n",
       "    <tr>\n",
       "      <th>0</th>\n",
       "      <td>4996</td>\n",
       "      <td>37004</td>\n",
       "      <td>50</td>\n",
       "      <td>0</td>\n",
       "      <td>Volunteers Needed For Rise Up &amp; Stay Put! Home...</td>\n",
       "      <td>737</td>\n",
       "      <td>Building on successful events last summer and ...</td>\n",
       "      <td>NaN</td>\n",
       "      <td>NaN</td>\n",
       "      <td>NaN</td>\n",
       "      <td>...</td>\n",
       "      <td>July 30 2011</td>\n",
       "      <td>approved</td>\n",
       "      <td>NaN</td>\n",
       "      <td>NaN</td>\n",
       "      <td>NaN</td>\n",
       "      <td>NaN</td>\n",
       "      <td>NaN</td>\n",
       "      <td>NaN</td>\n",
       "      <td>NaN</td>\n",
       "      <td>NaN</td>\n",
       "    </tr>\n",
       "    <tr>\n",
       "      <th>1</th>\n",
       "      <td>5008</td>\n",
       "      <td>37036</td>\n",
       "      <td>2</td>\n",
       "      <td>0</td>\n",
       "      <td>Web designer</td>\n",
       "      <td>22</td>\n",
       "      <td>Build a website for an Afghan business</td>\n",
       "      <td>NaN</td>\n",
       "      <td>1.0</td>\n",
       "      <td>Strengthening Communities</td>\n",
       "      <td>...</td>\n",
       "      <td>February 01 2011</td>\n",
       "      <td>approved</td>\n",
       "      <td>NaN</td>\n",
       "      <td>NaN</td>\n",
       "      <td>NaN</td>\n",
       "      <td>NaN</td>\n",
       "      <td>NaN</td>\n",
       "      <td>NaN</td>\n",
       "      <td>NaN</td>\n",
       "      <td>NaN</td>\n",
       "    </tr>\n",
       "    <tr>\n",
       "      <th>2</th>\n",
       "      <td>5016</td>\n",
       "      <td>37143</td>\n",
       "      <td>20</td>\n",
       "      <td>0</td>\n",
       "      <td>Urban Adventures - Ice Skating at Lasker Rink</td>\n",
       "      <td>62</td>\n",
       "      <td>Please join us and the students from Mott Hall...</td>\n",
       "      <td>NaN</td>\n",
       "      <td>1.0</td>\n",
       "      <td>Strengthening Communities</td>\n",
       "      <td>...</td>\n",
       "      <td>January 29 2011</td>\n",
       "      <td>approved</td>\n",
       "      <td>NaN</td>\n",
       "      <td>NaN</td>\n",
       "      <td>NaN</td>\n",
       "      <td>NaN</td>\n",
       "      <td>NaN</td>\n",
       "      <td>NaN</td>\n",
       "      <td>NaN</td>\n",
       "      <td>NaN</td>\n",
       "    </tr>\n",
       "    <tr>\n",
       "      <th>3</th>\n",
       "      <td>5022</td>\n",
       "      <td>37237</td>\n",
       "      <td>500</td>\n",
       "      <td>0</td>\n",
       "      <td>Fight global hunger and support women farmers ...</td>\n",
       "      <td>14</td>\n",
       "      <td>The Oxfam Action Corps is a group of dedicated...</td>\n",
       "      <td>NaN</td>\n",
       "      <td>1.0</td>\n",
       "      <td>Strengthening Communities</td>\n",
       "      <td>...</td>\n",
       "      <td>March 31 2012</td>\n",
       "      <td>approved</td>\n",
       "      <td>NaN</td>\n",
       "      <td>NaN</td>\n",
       "      <td>NaN</td>\n",
       "      <td>NaN</td>\n",
       "      <td>NaN</td>\n",
       "      <td>NaN</td>\n",
       "      <td>NaN</td>\n",
       "      <td>NaN</td>\n",
       "    </tr>\n",
       "    <tr>\n",
       "      <th>4</th>\n",
       "      <td>5055</td>\n",
       "      <td>37425</td>\n",
       "      <td>15</td>\n",
       "      <td>0</td>\n",
       "      <td>Stop 'N' Swap</td>\n",
       "      <td>31</td>\n",
       "      <td>Stop 'N' Swap reduces NYC's waste by finding n...</td>\n",
       "      <td>NaN</td>\n",
       "      <td>4.0</td>\n",
       "      <td>Environment</td>\n",
       "      <td>...</td>\n",
       "      <td>February 05 2011</td>\n",
       "      <td>approved</td>\n",
       "      <td>NaN</td>\n",
       "      <td>NaN</td>\n",
       "      <td>NaN</td>\n",
       "      <td>NaN</td>\n",
       "      <td>NaN</td>\n",
       "      <td>NaN</td>\n",
       "      <td>NaN</td>\n",
       "      <td>NaN</td>\n",
       "    </tr>\n",
       "  </tbody>\n",
       "</table>\n",
       "<p>5 rows × 35 columns</p>\n",
       "</div>"
      ],
      "text/plain": [
       "   opportunity_id  content_id  vol_requests  event_time  \\\n",
       "0            4996       37004            50           0   \n",
       "1            5008       37036             2           0   \n",
       "2            5016       37143            20           0   \n",
       "3            5022       37237           500           0   \n",
       "4            5055       37425            15           0   \n",
       "\n",
       "                                               title  hits  \\\n",
       "0  Volunteers Needed For Rise Up & Stay Put! Home...   737   \n",
       "1                                       Web designer    22   \n",
       "2      Urban Adventures - Ice Skating at Lasker Rink    62   \n",
       "3  Fight global hunger and support women farmers ...    14   \n",
       "4                                      Stop 'N' Swap    31   \n",
       "\n",
       "                                             summary is_priority  category_id  \\\n",
       "0  Building on successful events last summer and ...         NaN          NaN   \n",
       "1             Build a website for an Afghan business         NaN          1.0   \n",
       "2  Please join us and the students from Mott Hall...         NaN          1.0   \n",
       "3  The Oxfam Action Corps is a group of dedicated...         NaN          1.0   \n",
       "4  Stop 'N' Swap reduces NYC's waste by finding n...         NaN          4.0   \n",
       "\n",
       "               category_desc  ...     end_date_date    status Latitude  \\\n",
       "0                        NaN  ...      July 30 2011  approved      NaN   \n",
       "1  Strengthening Communities  ...  February 01 2011  approved      NaN   \n",
       "2  Strengthening Communities  ...   January 29 2011  approved      NaN   \n",
       "3  Strengthening Communities  ...     March 31 2012  approved      NaN   \n",
       "4                Environment  ...  February 05 2011  approved      NaN   \n",
       "\n",
       "   Longitude  Community Board Community Council  Census Tract  BIN  BBL NTA  \n",
       "0        NaN              NaN                NaN          NaN  NaN  NaN NaN  \n",
       "1        NaN              NaN                NaN          NaN  NaN  NaN NaN  \n",
       "2        NaN              NaN                NaN          NaN  NaN  NaN NaN  \n",
       "3        NaN              NaN                NaN          NaN  NaN  NaN NaN  \n",
       "4        NaN              NaN                NaN          NaN  NaN  NaN NaN  \n",
       "\n",
       "[5 rows x 35 columns]"
      ]
     },
     "execution_count": 23,
     "metadata": {},
     "output_type": "execute_result"
    }
   ],
   "source": [
    "df.head()"
   ]
  },
  {
   "cell_type": "code",
   "execution_count": 24,
   "id": "88ba63af-3d3b-423e-bfdb-2ddddd896253",
   "metadata": {
    "execution": {
     "iopub.execute_input": "2024-08-27T09:31:47.351941Z",
     "iopub.status.busy": "2024-08-27T09:31:47.350258Z",
     "iopub.status.idle": "2024-08-27T09:31:47.376412Z",
     "shell.execute_reply": "2024-08-27T09:31:47.375644Z",
     "shell.execute_reply.started": "2024-08-27T09:31:47.351855Z"
    }
   },
   "outputs": [
    {
     "name": "stdout",
     "output_type": "stream",
     "text": [
      "<class 'pandas.core.frame.DataFrame'>\n",
      "RangeIndex: 665 entries, 0 to 664\n",
      "Data columns (total 35 columns):\n",
      " #   Column              Non-Null Count  Dtype  \n",
      "---  ------              --------------  -----  \n",
      " 0   opportunity_id      665 non-null    int64  \n",
      " 1   content_id          665 non-null    int64  \n",
      " 2   vol_requests        665 non-null    int64  \n",
      " 3   event_time          665 non-null    int64  \n",
      " 4   title               665 non-null    object \n",
      " 5   hits                665 non-null    int64  \n",
      " 6   summary             665 non-null    object \n",
      " 7   is_priority         62 non-null     object \n",
      " 8   category_id         617 non-null    float64\n",
      " 9   category_desc       617 non-null    object \n",
      " 10  amsl                0 non-null      float64\n",
      " 11  amsl_unit           0 non-null      float64\n",
      " 12  org_title           665 non-null    object \n",
      " 13  org_content_id      665 non-null    int64  \n",
      " 14  addresses_count     665 non-null    int64  \n",
      " 15  locality            595 non-null    object \n",
      " 16  region              665 non-null    object \n",
      " 17  postalcode          659 non-null    float64\n",
      " 18  primary_loc         0 non-null      float64\n",
      " 19  display_url         665 non-null    object \n",
      " 20  recurrence_type     665 non-null    object \n",
      " 21  hours               665 non-null    int64  \n",
      " 22  created_date        665 non-null    object \n",
      " 23  last_modified_date  665 non-null    object \n",
      " 24  start_date_date     665 non-null    object \n",
      " 25  end_date_date       665 non-null    object \n",
      " 26  status              665 non-null    object \n",
      " 27  Latitude            0 non-null      float64\n",
      " 28  Longitude           0 non-null      float64\n",
      " 29  Community Board     0 non-null      float64\n",
      " 30  Community Council   0 non-null      float64\n",
      " 31  Census Tract        0 non-null      float64\n",
      " 32  BIN                 0 non-null      float64\n",
      " 33  BBL                 0 non-null      float64\n",
      " 34  NTA                 0 non-null      float64\n",
      "dtypes: float64(13), int64(8), object(14)\n",
      "memory usage: 182.0+ KB\n"
     ]
    }
   ],
   "source": [
    "df.info()"
   ]
  },
  {
   "cell_type": "code",
   "execution_count": 26,
   "id": "d73168b8-7566-4dd7-9281-dddfd583e1d4",
   "metadata": {
    "execution": {
     "iopub.execute_input": "2024-08-27T09:31:57.907475Z",
     "iopub.status.busy": "2024-08-27T09:31:57.906470Z",
     "iopub.status.idle": "2024-08-27T09:31:57.923942Z",
     "shell.execute_reply": "2024-08-27T09:31:57.923057Z",
     "shell.execute_reply.started": "2024-08-27T09:31:57.907398Z"
    }
   },
   "outputs": [
    {
     "data": {
      "text/plain": [
       "opportunity_id          int64\n",
       "content_id              int64\n",
       "vol_requests            int64\n",
       "event_time              int64\n",
       "title                  object\n",
       "hits                    int64\n",
       "summary                object\n",
       "is_priority            object\n",
       "category_id           float64\n",
       "category_desc          object\n",
       "amsl                  float64\n",
       "amsl_unit             float64\n",
       "org_title              object\n",
       "org_content_id          int64\n",
       "addresses_count         int64\n",
       "locality               object\n",
       "region                 object\n",
       "postalcode            float64\n",
       "primary_loc           float64\n",
       "display_url            object\n",
       "recurrence_type        object\n",
       "hours                   int64\n",
       "created_date           object\n",
       "last_modified_date     object\n",
       "start_date_date        object\n",
       "end_date_date          object\n",
       "status                 object\n",
       "Latitude              float64\n",
       "Longitude             float64\n",
       "Community Board       float64\n",
       "Community Council     float64\n",
       "Census Tract          float64\n",
       "BIN                   float64\n",
       "BBL                   float64\n",
       "NTA                   float64\n",
       "dtype: object"
      ]
     },
     "execution_count": 26,
     "metadata": {},
     "output_type": "execute_result"
    }
   ],
   "source": [
    "df.dtypes"
   ]
  },
  {
   "cell_type": "code",
   "execution_count": 27,
   "id": "fd341c8e-0c57-49b4-9c03-e5c679dc59bf",
   "metadata": {
    "execution": {
     "iopub.execute_input": "2024-08-27T09:31:59.059424Z",
     "iopub.status.busy": "2024-08-27T09:31:59.058883Z",
     "iopub.status.idle": "2024-08-27T09:31:59.107700Z",
     "shell.execute_reply": "2024-08-27T09:31:59.107260Z",
     "shell.execute_reply.started": "2024-08-27T09:31:59.059386Z"
    }
   },
   "outputs": [
    {
     "data": {
      "text/html": [
       "<div>\n",
       "<style scoped>\n",
       "    .dataframe tbody tr th:only-of-type {\n",
       "        vertical-align: middle;\n",
       "    }\n",
       "\n",
       "    .dataframe tbody tr th {\n",
       "        vertical-align: top;\n",
       "    }\n",
       "\n",
       "    .dataframe thead th {\n",
       "        text-align: right;\n",
       "    }\n",
       "</style>\n",
       "<table border=\"1\" class=\"dataframe\">\n",
       "  <thead>\n",
       "    <tr style=\"text-align: right;\">\n",
       "      <th></th>\n",
       "      <th>opportunity_id</th>\n",
       "      <th>content_id</th>\n",
       "      <th>vol_requests</th>\n",
       "      <th>event_time</th>\n",
       "      <th>hits</th>\n",
       "      <th>category_id</th>\n",
       "      <th>amsl</th>\n",
       "      <th>amsl_unit</th>\n",
       "      <th>org_content_id</th>\n",
       "      <th>addresses_count</th>\n",
       "      <th>...</th>\n",
       "      <th>primary_loc</th>\n",
       "      <th>hours</th>\n",
       "      <th>Latitude</th>\n",
       "      <th>Longitude</th>\n",
       "      <th>Community Board</th>\n",
       "      <th>Community Council</th>\n",
       "      <th>Census Tract</th>\n",
       "      <th>BIN</th>\n",
       "      <th>BBL</th>\n",
       "      <th>NTA</th>\n",
       "    </tr>\n",
       "  </thead>\n",
       "  <tbody>\n",
       "    <tr>\n",
       "      <th>count</th>\n",
       "      <td>665.000000</td>\n",
       "      <td>665.000000</td>\n",
       "      <td>665.000000</td>\n",
       "      <td>665.0</td>\n",
       "      <td>665.000000</td>\n",
       "      <td>617.000000</td>\n",
       "      <td>0.0</td>\n",
       "      <td>0.0</td>\n",
       "      <td>665.000000</td>\n",
       "      <td>665.000000</td>\n",
       "      <td>...</td>\n",
       "      <td>0.0</td>\n",
       "      <td>665.000000</td>\n",
       "      <td>0.0</td>\n",
       "      <td>0.0</td>\n",
       "      <td>0.0</td>\n",
       "      <td>0.0</td>\n",
       "      <td>0.0</td>\n",
       "      <td>0.0</td>\n",
       "      <td>0.0</td>\n",
       "      <td>0.0</td>\n",
       "    </tr>\n",
       "    <tr>\n",
       "      <th>mean</th>\n",
       "      <td>5374.454135</td>\n",
       "      <td>42790.643609</td>\n",
       "      <td>78.778947</td>\n",
       "      <td>0.0</td>\n",
       "      <td>345.409023</td>\n",
       "      <td>2.105348</td>\n",
       "      <td>NaN</td>\n",
       "      <td>NaN</td>\n",
       "      <td>20752.207519</td>\n",
       "      <td>1.046617</td>\n",
       "      <td>...</td>\n",
       "      <td>NaN</td>\n",
       "      <td>0.027068</td>\n",
       "      <td>NaN</td>\n",
       "      <td>NaN</td>\n",
       "      <td>NaN</td>\n",
       "      <td>NaN</td>\n",
       "      <td>NaN</td>\n",
       "      <td>NaN</td>\n",
       "      <td>NaN</td>\n",
       "      <td>NaN</td>\n",
       "    </tr>\n",
       "    <tr>\n",
       "      <th>std</th>\n",
       "      <td>234.322154</td>\n",
       "      <td>5491.720274</td>\n",
       "      <td>569.763773</td>\n",
       "      <td>0.0</td>\n",
       "      <td>530.716526</td>\n",
       "      <td>1.412003</td>\n",
       "      <td>NaN</td>\n",
       "      <td>NaN</td>\n",
       "      <td>19143.034346</td>\n",
       "      <td>0.537109</td>\n",
       "      <td>...</td>\n",
       "      <td>NaN</td>\n",
       "      <td>0.519952</td>\n",
       "      <td>NaN</td>\n",
       "      <td>NaN</td>\n",
       "      <td>NaN</td>\n",
       "      <td>NaN</td>\n",
       "      <td>NaN</td>\n",
       "      <td>NaN</td>\n",
       "      <td>NaN</td>\n",
       "      <td>NaN</td>\n",
       "    </tr>\n",
       "    <tr>\n",
       "      <th>min</th>\n",
       "      <td>4952.000000</td>\n",
       "      <td>36697.000000</td>\n",
       "      <td>1.000000</td>\n",
       "      <td>0.0</td>\n",
       "      <td>0.000000</td>\n",
       "      <td>1.000000</td>\n",
       "      <td>NaN</td>\n",
       "      <td>NaN</td>\n",
       "      <td>24.000000</td>\n",
       "      <td>1.000000</td>\n",
       "      <td>...</td>\n",
       "      <td>NaN</td>\n",
       "      <td>0.000000</td>\n",
       "      <td>NaN</td>\n",
       "      <td>NaN</td>\n",
       "      <td>NaN</td>\n",
       "      <td>NaN</td>\n",
       "      <td>NaN</td>\n",
       "      <td>NaN</td>\n",
       "      <td>NaN</td>\n",
       "      <td>NaN</td>\n",
       "    </tr>\n",
       "    <tr>\n",
       "      <th>25%</th>\n",
       "      <td>5175.000000</td>\n",
       "      <td>38414.000000</td>\n",
       "      <td>3.000000</td>\n",
       "      <td>0.0</td>\n",
       "      <td>102.000000</td>\n",
       "      <td>1.000000</td>\n",
       "      <td>NaN</td>\n",
       "      <td>NaN</td>\n",
       "      <td>2138.000000</td>\n",
       "      <td>1.000000</td>\n",
       "      <td>...</td>\n",
       "      <td>NaN</td>\n",
       "      <td>0.000000</td>\n",
       "      <td>NaN</td>\n",
       "      <td>NaN</td>\n",
       "      <td>NaN</td>\n",
       "      <td>NaN</td>\n",
       "      <td>NaN</td>\n",
       "      <td>NaN</td>\n",
       "      <td>NaN</td>\n",
       "      <td>NaN</td>\n",
       "    </tr>\n",
       "    <tr>\n",
       "      <th>50%</th>\n",
       "      <td>5377.000000</td>\n",
       "      <td>40222.000000</td>\n",
       "      <td>12.000000</td>\n",
       "      <td>0.0</td>\n",
       "      <td>204.000000</td>\n",
       "      <td>2.000000</td>\n",
       "      <td>NaN</td>\n",
       "      <td>NaN</td>\n",
       "      <td>4442.000000</td>\n",
       "      <td>1.000000</td>\n",
       "      <td>...</td>\n",
       "      <td>NaN</td>\n",
       "      <td>0.000000</td>\n",
       "      <td>NaN</td>\n",
       "      <td>NaN</td>\n",
       "      <td>NaN</td>\n",
       "      <td>NaN</td>\n",
       "      <td>NaN</td>\n",
       "      <td>NaN</td>\n",
       "      <td>NaN</td>\n",
       "      <td>NaN</td>\n",
       "    </tr>\n",
       "    <tr>\n",
       "      <th>75%</th>\n",
       "      <td>5580.000000</td>\n",
       "      <td>49308.000000</td>\n",
       "      <td>30.000000</td>\n",
       "      <td>0.0</td>\n",
       "      <td>374.000000</td>\n",
       "      <td>3.000000</td>\n",
       "      <td>NaN</td>\n",
       "      <td>NaN</td>\n",
       "      <td>39189.000000</td>\n",
       "      <td>1.000000</td>\n",
       "      <td>...</td>\n",
       "      <td>NaN</td>\n",
       "      <td>0.000000</td>\n",
       "      <td>NaN</td>\n",
       "      <td>NaN</td>\n",
       "      <td>NaN</td>\n",
       "      <td>NaN</td>\n",
       "      <td>NaN</td>\n",
       "      <td>NaN</td>\n",
       "      <td>NaN</td>\n",
       "      <td>NaN</td>\n",
       "    </tr>\n",
       "    <tr>\n",
       "      <th>max</th>\n",
       "      <td>5782.000000</td>\n",
       "      <td>52894.000000</td>\n",
       "      <td>9999.000000</td>\n",
       "      <td>0.0</td>\n",
       "      <td>4662.000000</td>\n",
       "      <td>6.000000</td>\n",
       "      <td>NaN</td>\n",
       "      <td>NaN</td>\n",
       "      <td>52858.000000</td>\n",
       "      <td>12.000000</td>\n",
       "      <td>...</td>\n",
       "      <td>NaN</td>\n",
       "      <td>12.000000</td>\n",
       "      <td>NaN</td>\n",
       "      <td>NaN</td>\n",
       "      <td>NaN</td>\n",
       "      <td>NaN</td>\n",
       "      <td>NaN</td>\n",
       "      <td>NaN</td>\n",
       "      <td>NaN</td>\n",
       "      <td>NaN</td>\n",
       "    </tr>\n",
       "  </tbody>\n",
       "</table>\n",
       "<p>8 rows × 21 columns</p>\n",
       "</div>"
      ],
      "text/plain": [
       "       opportunity_id    content_id  vol_requests  event_time         hits  \\\n",
       "count      665.000000    665.000000    665.000000       665.0   665.000000   \n",
       "mean      5374.454135  42790.643609     78.778947         0.0   345.409023   \n",
       "std        234.322154   5491.720274    569.763773         0.0   530.716526   \n",
       "min       4952.000000  36697.000000      1.000000         0.0     0.000000   \n",
       "25%       5175.000000  38414.000000      3.000000         0.0   102.000000   \n",
       "50%       5377.000000  40222.000000     12.000000         0.0   204.000000   \n",
       "75%       5580.000000  49308.000000     30.000000         0.0   374.000000   \n",
       "max       5782.000000  52894.000000   9999.000000         0.0  4662.000000   \n",
       "\n",
       "       category_id  amsl  amsl_unit  org_content_id  addresses_count  ...  \\\n",
       "count   617.000000   0.0        0.0      665.000000       665.000000  ...   \n",
       "mean      2.105348   NaN        NaN    20752.207519         1.046617  ...   \n",
       "std       1.412003   NaN        NaN    19143.034346         0.537109  ...   \n",
       "min       1.000000   NaN        NaN       24.000000         1.000000  ...   \n",
       "25%       1.000000   NaN        NaN     2138.000000         1.000000  ...   \n",
       "50%       2.000000   NaN        NaN     4442.000000         1.000000  ...   \n",
       "75%       3.000000   NaN        NaN    39189.000000         1.000000  ...   \n",
       "max       6.000000   NaN        NaN    52858.000000        12.000000  ...   \n",
       "\n",
       "       primary_loc       hours  Latitude  Longitude  Community Board  \\\n",
       "count          0.0  665.000000       0.0        0.0              0.0   \n",
       "mean           NaN    0.027068       NaN        NaN              NaN   \n",
       "std            NaN    0.519952       NaN        NaN              NaN   \n",
       "min            NaN    0.000000       NaN        NaN              NaN   \n",
       "25%            NaN    0.000000       NaN        NaN              NaN   \n",
       "50%            NaN    0.000000       NaN        NaN              NaN   \n",
       "75%            NaN    0.000000       NaN        NaN              NaN   \n",
       "max            NaN   12.000000       NaN        NaN              NaN   \n",
       "\n",
       "       Community Council   Census Tract  BIN  BBL  NTA  \n",
       "count                 0.0           0.0  0.0  0.0  0.0  \n",
       "mean                  NaN           NaN  NaN  NaN  NaN  \n",
       "std                   NaN           NaN  NaN  NaN  NaN  \n",
       "min                   NaN           NaN  NaN  NaN  NaN  \n",
       "25%                   NaN           NaN  NaN  NaN  NaN  \n",
       "50%                   NaN           NaN  NaN  NaN  NaN  \n",
       "75%                   NaN           NaN  NaN  NaN  NaN  \n",
       "max                   NaN           NaN  NaN  NaN  NaN  \n",
       "\n",
       "[8 rows x 21 columns]"
      ]
     },
     "execution_count": 27,
     "metadata": {},
     "output_type": "execute_result"
    }
   ],
   "source": [
    "df.describe()"
   ]
  },
  {
   "cell_type": "markdown",
   "id": "91190ac2-e856-496a-b634-8422cf3f2c30",
   "metadata": {},
   "source": [
    "## 3. Remove Missing Data"
   ]
  },
  {
   "cell_type": "code",
   "execution_count": 33,
   "id": "915a5626-4b2f-4429-b40f-4ef36c8a4a63",
   "metadata": {
    "execution": {
     "iopub.execute_input": "2024-08-27T09:33:36.618662Z",
     "iopub.status.busy": "2024-08-27T09:33:36.618066Z",
     "iopub.status.idle": "2024-08-27T09:33:36.635624Z",
     "shell.execute_reply": "2024-08-27T09:33:36.633720Z",
     "shell.execute_reply.started": "2024-08-27T09:33:36.618621Z"
    }
   },
   "outputs": [
    {
     "data": {
      "text/plain": [
       "opportunity_id          0\n",
       "content_id              0\n",
       "vol_requests            0\n",
       "event_time              0\n",
       "title                   0\n",
       "hits                    0\n",
       "summary                 0\n",
       "is_priority           603\n",
       "category_id            48\n",
       "category_desc          48\n",
       "amsl                  665\n",
       "amsl_unit             665\n",
       "org_title               0\n",
       "org_content_id          0\n",
       "addresses_count         0\n",
       "locality               70\n",
       "region                  0\n",
       "postalcode              6\n",
       "primary_loc           665\n",
       "display_url             0\n",
       "recurrence_type         0\n",
       "hours                   0\n",
       "created_date            0\n",
       "last_modified_date      0\n",
       "start_date_date         0\n",
       "end_date_date           0\n",
       "status                  0\n",
       "Latitude              665\n",
       "Longitude             665\n",
       "Community Board       665\n",
       "Community Council     665\n",
       "Census Tract          665\n",
       "BIN                   665\n",
       "BBL                   665\n",
       "NTA                   665\n",
       "dtype: int64"
      ]
     },
     "execution_count": 33,
     "metadata": {},
     "output_type": "execute_result"
    }
   ],
   "source": [
    "df.isna().sum()"
   ]
  },
  {
   "cell_type": "markdown",
   "id": "21e8214e-ba78-4eab-8d02-e6613b4036b9",
   "metadata": {},
   "source": [
    "- *df.dropna()* -> if only a few rows contain missing data\n",
    "- *df.drop([1,2,3])* -> drops specific rows\n",
    "- *df.drop('column_name', axis=1)* -> drops columns\n",
    "- *df.dropna(subset=['column_name'])* -> drops rows where column_name is empty\n",
    "- *df.dropna(thresh=2)* -> drop columns with 2 or more missing values"
   ]
  },
  {
   "cell_type": "markdown",
   "id": "0b096385-a5f2-45cf-978c-42231d2a1453",
   "metadata": {},
   "source": [
    "## 4. Typing\n",
    "\n",
    "Pandas infer data types, sometimes incorrectly.\n",
    "\n",
    "The *.info()* method shows the datatype of each column as well as *.dtypes*"
   ]
  },
  {
   "cell_type": "code",
   "execution_count": 34,
   "id": "8b21a1dc-d43b-4a30-86b2-8661bb771eb9",
   "metadata": {
    "execution": {
     "iopub.execute_input": "2024-08-27T09:33:39.282053Z",
     "iopub.status.busy": "2024-08-27T09:33:39.280966Z",
     "iopub.status.idle": "2024-08-27T09:33:39.300968Z",
     "shell.execute_reply": "2024-08-27T09:33:39.300089Z",
     "shell.execute_reply.started": "2024-08-27T09:33:39.281978Z"
    }
   },
   "outputs": [
    {
     "name": "stdout",
     "output_type": "stream",
     "text": [
      "<class 'pandas.core.frame.DataFrame'>\n",
      "RangeIndex: 665 entries, 0 to 664\n",
      "Data columns (total 35 columns):\n",
      " #   Column              Non-Null Count  Dtype  \n",
      "---  ------              --------------  -----  \n",
      " 0   opportunity_id      665 non-null    int64  \n",
      " 1   content_id          665 non-null    int64  \n",
      " 2   vol_requests        665 non-null    int64  \n",
      " 3   event_time          665 non-null    int64  \n",
      " 4   title               665 non-null    object \n",
      " 5   hits                665 non-null    int64  \n",
      " 6   summary             665 non-null    object \n",
      " 7   is_priority         62 non-null     object \n",
      " 8   category_id         617 non-null    float64\n",
      " 9   category_desc       617 non-null    object \n",
      " 10  amsl                0 non-null      float64\n",
      " 11  amsl_unit           0 non-null      float64\n",
      " 12  org_title           665 non-null    object \n",
      " 13  org_content_id      665 non-null    int64  \n",
      " 14  addresses_count     665 non-null    int64  \n",
      " 15  locality            595 non-null    object \n",
      " 16  region              665 non-null    object \n",
      " 17  postalcode          659 non-null    float64\n",
      " 18  primary_loc         0 non-null      float64\n",
      " 19  display_url         665 non-null    object \n",
      " 20  recurrence_type     665 non-null    object \n",
      " 21  hours               665 non-null    int64  \n",
      " 22  created_date        665 non-null    object \n",
      " 23  last_modified_date  665 non-null    object \n",
      " 24  start_date_date     665 non-null    object \n",
      " 25  end_date_date       665 non-null    object \n",
      " 26  status              665 non-null    object \n",
      " 27  Latitude            0 non-null      float64\n",
      " 28  Longitude           0 non-null      float64\n",
      " 29  Community Board     0 non-null      float64\n",
      " 30  Community Council   0 non-null      float64\n",
      " 31  Census Tract        0 non-null      float64\n",
      " 32  BIN                 0 non-null      float64\n",
      " 33  BBL                 0 non-null      float64\n",
      " 34  NTA                 0 non-null      float64\n",
      "dtypes: float64(13), int64(8), object(14)\n",
      "memory usage: 182.0+ KB\n"
     ]
    }
   ],
   "source": [
    "df.info()"
   ]
  },
  {
   "cell_type": "code",
   "execution_count": 35,
   "id": "f018f8ac-eccf-4246-9487-c5830142f5da",
   "metadata": {
    "execution": {
     "iopub.execute_input": "2024-08-27T09:33:40.064187Z",
     "iopub.status.busy": "2024-08-27T09:33:40.063119Z",
     "iopub.status.idle": "2024-08-27T09:33:40.091620Z",
     "shell.execute_reply": "2024-08-27T09:33:40.090812Z",
     "shell.execute_reply.started": "2024-08-27T09:33:40.064127Z"
    }
   },
   "outputs": [
    {
     "data": {
      "text/html": [
       "<div>\n",
       "<style scoped>\n",
       "    .dataframe tbody tr th:only-of-type {\n",
       "        vertical-align: middle;\n",
       "    }\n",
       "\n",
       "    .dataframe tbody tr th {\n",
       "        vertical-align: top;\n",
       "    }\n",
       "\n",
       "    .dataframe thead th {\n",
       "        text-align: right;\n",
       "    }\n",
       "</style>\n",
       "<table border=\"1\" class=\"dataframe\">\n",
       "  <thead>\n",
       "    <tr style=\"text-align: right;\">\n",
       "      <th></th>\n",
       "      <th>opportunity_id</th>\n",
       "      <th>content_id</th>\n",
       "      <th>vol_requests</th>\n",
       "      <th>event_time</th>\n",
       "      <th>title</th>\n",
       "      <th>hits</th>\n",
       "      <th>summary</th>\n",
       "      <th>is_priority</th>\n",
       "      <th>category_id</th>\n",
       "      <th>category_desc</th>\n",
       "      <th>...</th>\n",
       "      <th>end_date_date</th>\n",
       "      <th>status</th>\n",
       "      <th>Latitude</th>\n",
       "      <th>Longitude</th>\n",
       "      <th>Community Board</th>\n",
       "      <th>Community Council</th>\n",
       "      <th>Census Tract</th>\n",
       "      <th>BIN</th>\n",
       "      <th>BBL</th>\n",
       "      <th>NTA</th>\n",
       "    </tr>\n",
       "  </thead>\n",
       "  <tbody>\n",
       "    <tr>\n",
       "      <th>0</th>\n",
       "      <td>4996</td>\n",
       "      <td>37004</td>\n",
       "      <td>50</td>\n",
       "      <td>0</td>\n",
       "      <td>Volunteers Needed For Rise Up &amp; Stay Put! Home...</td>\n",
       "      <td>737</td>\n",
       "      <td>Building on successful events last summer and ...</td>\n",
       "      <td>NaN</td>\n",
       "      <td>NaN</td>\n",
       "      <td>NaN</td>\n",
       "      <td>...</td>\n",
       "      <td>July 30 2011</td>\n",
       "      <td>approved</td>\n",
       "      <td>NaN</td>\n",
       "      <td>NaN</td>\n",
       "      <td>NaN</td>\n",
       "      <td>NaN</td>\n",
       "      <td>NaN</td>\n",
       "      <td>NaN</td>\n",
       "      <td>NaN</td>\n",
       "      <td>NaN</td>\n",
       "    </tr>\n",
       "    <tr>\n",
       "      <th>1</th>\n",
       "      <td>5008</td>\n",
       "      <td>37036</td>\n",
       "      <td>2</td>\n",
       "      <td>0</td>\n",
       "      <td>Web designer</td>\n",
       "      <td>22</td>\n",
       "      <td>Build a website for an Afghan business</td>\n",
       "      <td>NaN</td>\n",
       "      <td>1.0</td>\n",
       "      <td>Strengthening Communities</td>\n",
       "      <td>...</td>\n",
       "      <td>February 01 2011</td>\n",
       "      <td>approved</td>\n",
       "      <td>NaN</td>\n",
       "      <td>NaN</td>\n",
       "      <td>NaN</td>\n",
       "      <td>NaN</td>\n",
       "      <td>NaN</td>\n",
       "      <td>NaN</td>\n",
       "      <td>NaN</td>\n",
       "      <td>NaN</td>\n",
       "    </tr>\n",
       "    <tr>\n",
       "      <th>2</th>\n",
       "      <td>5016</td>\n",
       "      <td>37143</td>\n",
       "      <td>20</td>\n",
       "      <td>0</td>\n",
       "      <td>Urban Adventures - Ice Skating at Lasker Rink</td>\n",
       "      <td>62</td>\n",
       "      <td>Please join us and the students from Mott Hall...</td>\n",
       "      <td>NaN</td>\n",
       "      <td>1.0</td>\n",
       "      <td>Strengthening Communities</td>\n",
       "      <td>...</td>\n",
       "      <td>January 29 2011</td>\n",
       "      <td>approved</td>\n",
       "      <td>NaN</td>\n",
       "      <td>NaN</td>\n",
       "      <td>NaN</td>\n",
       "      <td>NaN</td>\n",
       "      <td>NaN</td>\n",
       "      <td>NaN</td>\n",
       "      <td>NaN</td>\n",
       "      <td>NaN</td>\n",
       "    </tr>\n",
       "    <tr>\n",
       "      <th>3</th>\n",
       "      <td>5022</td>\n",
       "      <td>37237</td>\n",
       "      <td>500</td>\n",
       "      <td>0</td>\n",
       "      <td>Fight global hunger and support women farmers ...</td>\n",
       "      <td>14</td>\n",
       "      <td>The Oxfam Action Corps is a group of dedicated...</td>\n",
       "      <td>NaN</td>\n",
       "      <td>1.0</td>\n",
       "      <td>Strengthening Communities</td>\n",
       "      <td>...</td>\n",
       "      <td>March 31 2012</td>\n",
       "      <td>approved</td>\n",
       "      <td>NaN</td>\n",
       "      <td>NaN</td>\n",
       "      <td>NaN</td>\n",
       "      <td>NaN</td>\n",
       "      <td>NaN</td>\n",
       "      <td>NaN</td>\n",
       "      <td>NaN</td>\n",
       "      <td>NaN</td>\n",
       "    </tr>\n",
       "    <tr>\n",
       "      <th>4</th>\n",
       "      <td>5055</td>\n",
       "      <td>37425</td>\n",
       "      <td>15</td>\n",
       "      <td>0</td>\n",
       "      <td>Stop 'N' Swap</td>\n",
       "      <td>31</td>\n",
       "      <td>Stop 'N' Swap reduces NYC's waste by finding n...</td>\n",
       "      <td>NaN</td>\n",
       "      <td>4.0</td>\n",
       "      <td>Environment</td>\n",
       "      <td>...</td>\n",
       "      <td>February 05 2011</td>\n",
       "      <td>approved</td>\n",
       "      <td>NaN</td>\n",
       "      <td>NaN</td>\n",
       "      <td>NaN</td>\n",
       "      <td>NaN</td>\n",
       "      <td>NaN</td>\n",
       "      <td>NaN</td>\n",
       "      <td>NaN</td>\n",
       "      <td>NaN</td>\n",
       "    </tr>\n",
       "  </tbody>\n",
       "</table>\n",
       "<p>5 rows × 35 columns</p>\n",
       "</div>"
      ],
      "text/plain": [
       "   opportunity_id  content_id  vol_requests  event_time  \\\n",
       "0            4996       37004            50           0   \n",
       "1            5008       37036             2           0   \n",
       "2            5016       37143            20           0   \n",
       "3            5022       37237           500           0   \n",
       "4            5055       37425            15           0   \n",
       "\n",
       "                                               title  hits  \\\n",
       "0  Volunteers Needed For Rise Up & Stay Put! Home...   737   \n",
       "1                                       Web designer    22   \n",
       "2      Urban Adventures - Ice Skating at Lasker Rink    62   \n",
       "3  Fight global hunger and support women farmers ...    14   \n",
       "4                                      Stop 'N' Swap    31   \n",
       "\n",
       "                                             summary is_priority  category_id  \\\n",
       "0  Building on successful events last summer and ...         NaN          NaN   \n",
       "1             Build a website for an Afghan business         NaN          1.0   \n",
       "2  Please join us and the students from Mott Hall...         NaN          1.0   \n",
       "3  The Oxfam Action Corps is a group of dedicated...         NaN          1.0   \n",
       "4  Stop 'N' Swap reduces NYC's waste by finding n...         NaN          4.0   \n",
       "\n",
       "               category_desc  ...     end_date_date    status Latitude  \\\n",
       "0                        NaN  ...      July 30 2011  approved      NaN   \n",
       "1  Strengthening Communities  ...  February 01 2011  approved      NaN   \n",
       "2  Strengthening Communities  ...   January 29 2011  approved      NaN   \n",
       "3  Strengthening Communities  ...     March 31 2012  approved      NaN   \n",
       "4                Environment  ...  February 05 2011  approved      NaN   \n",
       "\n",
       "   Longitude  Community Board Community Council  Census Tract  BIN  BBL NTA  \n",
       "0        NaN              NaN                NaN          NaN  NaN  NaN NaN  \n",
       "1        NaN              NaN                NaN          NaN  NaN  NaN NaN  \n",
       "2        NaN              NaN                NaN          NaN  NaN  NaN NaN  \n",
       "3        NaN              NaN                NaN          NaN  NaN  NaN NaN  \n",
       "4        NaN              NaN                NaN          NaN  NaN  NaN NaN  \n",
       "\n",
       "[5 rows x 35 columns]"
      ]
     },
     "execution_count": 35,
     "metadata": {},
     "output_type": "execute_result"
    }
   ],
   "source": [
    "df.head()"
   ]
  },
  {
   "cell_type": "code",
   "execution_count": 36,
   "id": "84e9afff-40b3-4831-bb4c-f71e3c4aa547",
   "metadata": {
    "execution": {
     "iopub.execute_input": "2024-08-27T09:33:40.887505Z",
     "iopub.status.busy": "2024-08-27T09:33:40.886363Z",
     "iopub.status.idle": "2024-08-27T09:33:40.903481Z",
     "shell.execute_reply": "2024-08-27T09:33:40.901561Z",
     "shell.execute_reply.started": "2024-08-27T09:33:40.887442Z"
    }
   },
   "outputs": [
    {
     "name": "stdout",
     "output_type": "stream",
     "text": [
      "<class 'pandas.core.frame.DataFrame'>\n",
      "RangeIndex: 2 entries, 0 to 1\n",
      "Data columns (total 1 columns):\n",
      " #   Column  Non-Null Count  Dtype \n",
      "---  ------  --------------  ----- \n",
      " 0   A       2 non-null      object\n",
      "dtypes: object(1)\n",
      "memory usage: 148.0+ bytes\n"
     ]
    }
   ],
   "source": [
    "df_toy = pd.DataFrame({'A': ['1.0', '2.0']})\n",
    "df_toy.info()"
   ]
  },
  {
   "cell_type": "code",
   "execution_count": 37,
   "id": "1236b80e-36fd-4c9d-bd5e-d3d025a33bbb",
   "metadata": {
    "execution": {
     "iopub.execute_input": "2024-08-27T09:33:41.280285Z",
     "iopub.status.busy": "2024-08-27T09:33:41.279486Z",
     "iopub.status.idle": "2024-08-27T09:33:41.295162Z",
     "shell.execute_reply": "2024-08-27T09:33:41.292608Z",
     "shell.execute_reply.started": "2024-08-27T09:33:41.280242Z"
    }
   },
   "outputs": [],
   "source": [
    "df_toy['A'] = df_toy['A'].astype('float')"
   ]
  },
  {
   "cell_type": "code",
   "execution_count": 38,
   "id": "4bed4e0a-2f81-4de8-990a-b45b15b3b208",
   "metadata": {
    "execution": {
     "iopub.execute_input": "2024-08-27T09:33:41.741797Z",
     "iopub.status.busy": "2024-08-27T09:33:41.739975Z",
     "iopub.status.idle": "2024-08-27T09:33:41.756830Z",
     "shell.execute_reply": "2024-08-27T09:33:41.756065Z",
     "shell.execute_reply.started": "2024-08-27T09:33:41.741711Z"
    }
   },
   "outputs": [
    {
     "name": "stdout",
     "output_type": "stream",
     "text": [
      "<class 'pandas.core.frame.DataFrame'>\n",
      "RangeIndex: 2 entries, 0 to 1\n",
      "Data columns (total 1 columns):\n",
      " #   Column  Non-Null Count  Dtype  \n",
      "---  ------  --------------  -----  \n",
      " 0   A       2 non-null      float64\n",
      "dtypes: float64(1)\n",
      "memory usage: 148.0 bytes\n"
     ]
    }
   ],
   "source": [
    "df_toy.info()"
   ]
  },
  {
   "cell_type": "code",
   "execution_count": 39,
   "id": "751b1241-b169-476d-800a-09cc45a92725",
   "metadata": {
    "execution": {
     "iopub.execute_input": "2024-08-27T09:33:42.888090Z",
     "iopub.status.busy": "2024-08-27T09:33:42.887175Z",
     "iopub.status.idle": "2024-08-27T09:33:42.905468Z",
     "shell.execute_reply": "2024-08-27T09:33:42.904488Z",
     "shell.execute_reply.started": "2024-08-27T09:33:42.888008Z"
    }
   },
   "outputs": [
    {
     "data": {
      "text/plain": [
       "A    float64\n",
       "dtype: object"
      ]
     },
     "execution_count": 39,
     "metadata": {},
     "output_type": "execute_result"
    }
   ],
   "source": [
    "df_toy.dtypes"
   ]
  },
  {
   "cell_type": "markdown",
   "id": "047f00c8-6f36-4fa9-8bd6-92e1175544e8",
   "metadata": {},
   "source": [
    "## 5. Training and test split\n",
    "\n",
    "Splitting the dataset into training and test helps: \n",
    "- reducing overfitting\n",
    "- evaluate performance on a holdout set"
   ]
  },
  {
   "cell_type": "code",
   "execution_count": 41,
   "id": "105344b5-6485-44e7-ad9a-58c247d4304a",
   "metadata": {
    "execution": {
     "iopub.execute_input": "2024-08-27T09:34:32.662977Z",
     "iopub.status.busy": "2024-08-27T09:34:32.662205Z",
     "iopub.status.idle": "2024-08-27T09:34:32.679587Z",
     "shell.execute_reply": "2024-08-27T09:34:32.678592Z",
     "shell.execute_reply.started": "2024-08-27T09:34:32.662934Z"
    }
   },
   "outputs": [],
   "source": [
    "from sklearn.model_selection import train_test_split\n",
    "\n",
    "X_train, X_test, y_train, y_test = train_test_split(df, df.category_desc, test_size=0.2, random_state=42)"
   ]
  },
  {
   "cell_type": "markdown",
   "id": "8bc3003b-9feb-4b8f-b744-655e50e71878",
   "metadata": {},
   "source": [
    "**Stratified sampling** helps keeping all the classes represented in the target test dataset when it is very imbalanced."
   ]
  },
  {
   "cell_type": "code",
   "execution_count": 42,
   "id": "ab813734-d378-4a7e-86af-2a7282ff8f4a",
   "metadata": {
    "execution": {
     "iopub.execute_input": "2024-08-27T09:34:34.827835Z",
     "iopub.status.busy": "2024-08-27T09:34:34.827110Z",
     "iopub.status.idle": "2024-08-27T09:34:34.929723Z",
     "shell.execute_reply": "2024-08-27T09:34:34.928968Z",
     "shell.execute_reply.started": "2024-08-27T09:34:34.827794Z"
    }
   },
   "outputs": [
    {
     "ename": "ValueError",
     "evalue": "Input contains NaN",
     "output_type": "error",
     "traceback": [
      "\u001b[0;31m---------------------------------------------------------------------------\u001b[0m",
      "\u001b[0;31mValueError\u001b[0m                                Traceback (most recent call last)",
      "Cell \u001b[0;32mIn[42], line 1\u001b[0m\n\u001b[0;32m----> 1\u001b[0m X_train, X_test, y_train, y_test \u001b[38;5;241m=\u001b[39m \u001b[43mtrain_test_split\u001b[49m\u001b[43m(\u001b[49m\u001b[43mdf\u001b[49m\u001b[43m,\u001b[49m\u001b[43m \u001b[49m\u001b[43mdf\u001b[49m\u001b[38;5;241;43m.\u001b[39;49m\u001b[43mcategory_desc\u001b[49m\u001b[43m,\u001b[49m\u001b[43m \u001b[49m\u001b[43mtest_size\u001b[49m\u001b[38;5;241;43m=\u001b[39;49m\u001b[38;5;241;43m0.2\u001b[39;49m\u001b[43m,\u001b[49m\u001b[43m \u001b[49m\u001b[43mrandom_state\u001b[49m\u001b[38;5;241;43m=\u001b[39;49m\u001b[38;5;241;43m42\u001b[39;49m\u001b[43m,\u001b[49m\u001b[43m \u001b[49m\u001b[43mstratify\u001b[49m\u001b[38;5;241;43m=\u001b[39;49m\u001b[43mdf\u001b[49m\u001b[38;5;241;43m.\u001b[39;49m\u001b[43mcategory_desc\u001b[49m\u001b[43m)\u001b[49m\n",
      "File \u001b[0;32m/opt/anaconda3/envs/ISLP_new/lib/python3.12/site-packages/sklearn/utils/_param_validation.py:213\u001b[0m, in \u001b[0;36mvalidate_params.<locals>.decorator.<locals>.wrapper\u001b[0;34m(*args, **kwargs)\u001b[0m\n\u001b[1;32m    207\u001b[0m \u001b[38;5;28;01mtry\u001b[39;00m:\n\u001b[1;32m    208\u001b[0m     \u001b[38;5;28;01mwith\u001b[39;00m config_context(\n\u001b[1;32m    209\u001b[0m         skip_parameter_validation\u001b[38;5;241m=\u001b[39m(\n\u001b[1;32m    210\u001b[0m             prefer_skip_nested_validation \u001b[38;5;129;01mor\u001b[39;00m global_skip_validation\n\u001b[1;32m    211\u001b[0m         )\n\u001b[1;32m    212\u001b[0m     ):\n\u001b[0;32m--> 213\u001b[0m         \u001b[38;5;28;01mreturn\u001b[39;00m \u001b[43mfunc\u001b[49m\u001b[43m(\u001b[49m\u001b[38;5;241;43m*\u001b[39;49m\u001b[43margs\u001b[49m\u001b[43m,\u001b[49m\u001b[43m \u001b[49m\u001b[38;5;241;43m*\u001b[39;49m\u001b[38;5;241;43m*\u001b[39;49m\u001b[43mkwargs\u001b[49m\u001b[43m)\u001b[49m\n\u001b[1;32m    214\u001b[0m \u001b[38;5;28;01mexcept\u001b[39;00m InvalidParameterError \u001b[38;5;28;01mas\u001b[39;00m e:\n\u001b[1;32m    215\u001b[0m     \u001b[38;5;66;03m# When the function is just a wrapper around an estimator, we allow\u001b[39;00m\n\u001b[1;32m    216\u001b[0m     \u001b[38;5;66;03m# the function to delegate validation to the estimator, but we replace\u001b[39;00m\n\u001b[1;32m    217\u001b[0m     \u001b[38;5;66;03m# the name of the estimator by the name of the function in the error\u001b[39;00m\n\u001b[1;32m    218\u001b[0m     \u001b[38;5;66;03m# message to avoid confusion.\u001b[39;00m\n\u001b[1;32m    219\u001b[0m     msg \u001b[38;5;241m=\u001b[39m re\u001b[38;5;241m.\u001b[39msub(\n\u001b[1;32m    220\u001b[0m         \u001b[38;5;124mr\u001b[39m\u001b[38;5;124m\"\u001b[39m\u001b[38;5;124mparameter of \u001b[39m\u001b[38;5;124m\\\u001b[39m\u001b[38;5;124mw+ must be\u001b[39m\u001b[38;5;124m\"\u001b[39m,\n\u001b[1;32m    221\u001b[0m         \u001b[38;5;124mf\u001b[39m\u001b[38;5;124m\"\u001b[39m\u001b[38;5;124mparameter of \u001b[39m\u001b[38;5;132;01m{\u001b[39;00mfunc\u001b[38;5;241m.\u001b[39m\u001b[38;5;18m__qualname__\u001b[39m\u001b[38;5;132;01m}\u001b[39;00m\u001b[38;5;124m must be\u001b[39m\u001b[38;5;124m\"\u001b[39m,\n\u001b[1;32m    222\u001b[0m         \u001b[38;5;28mstr\u001b[39m(e),\n\u001b[1;32m    223\u001b[0m     )\n",
      "File \u001b[0;32m/opt/anaconda3/envs/ISLP_new/lib/python3.12/site-packages/sklearn/model_selection/_split.py:2801\u001b[0m, in \u001b[0;36mtrain_test_split\u001b[0;34m(test_size, train_size, random_state, shuffle, stratify, *arrays)\u001b[0m\n\u001b[1;32m   2797\u001b[0m         CVClass \u001b[38;5;241m=\u001b[39m ShuffleSplit\n\u001b[1;32m   2799\u001b[0m     cv \u001b[38;5;241m=\u001b[39m CVClass(test_size\u001b[38;5;241m=\u001b[39mn_test, train_size\u001b[38;5;241m=\u001b[39mn_train, random_state\u001b[38;5;241m=\u001b[39mrandom_state)\n\u001b[0;32m-> 2801\u001b[0m     train, test \u001b[38;5;241m=\u001b[39m \u001b[38;5;28mnext\u001b[39m(\u001b[43mcv\u001b[49m\u001b[38;5;241;43m.\u001b[39;49m\u001b[43msplit\u001b[49m\u001b[43m(\u001b[49m\u001b[43mX\u001b[49m\u001b[38;5;241;43m=\u001b[39;49m\u001b[43marrays\u001b[49m\u001b[43m[\u001b[49m\u001b[38;5;241;43m0\u001b[39;49m\u001b[43m]\u001b[49m\u001b[43m,\u001b[49m\u001b[43m \u001b[49m\u001b[43my\u001b[49m\u001b[38;5;241;43m=\u001b[39;49m\u001b[43mstratify\u001b[49m\u001b[43m)\u001b[49m)\n\u001b[1;32m   2803\u001b[0m train, test \u001b[38;5;241m=\u001b[39m ensure_common_namespace_device(arrays[\u001b[38;5;241m0\u001b[39m], train, test)\n\u001b[1;32m   2805\u001b[0m \u001b[38;5;28;01mreturn\u001b[39;00m \u001b[38;5;28mlist\u001b[39m(\n\u001b[1;32m   2806\u001b[0m     chain\u001b[38;5;241m.\u001b[39mfrom_iterable(\n\u001b[1;32m   2807\u001b[0m         (_safe_indexing(a, train), _safe_indexing(a, test)) \u001b[38;5;28;01mfor\u001b[39;00m a \u001b[38;5;129;01min\u001b[39;00m arrays\n\u001b[1;32m   2808\u001b[0m     )\n\u001b[1;32m   2809\u001b[0m )\n",
      "File \u001b[0;32m/opt/anaconda3/envs/ISLP_new/lib/python3.12/site-packages/sklearn/model_selection/_split.py:2334\u001b[0m, in \u001b[0;36mStratifiedShuffleSplit.split\u001b[0;34m(self, X, y, groups)\u001b[0m\n\u001b[1;32m   2329\u001b[0m \u001b[38;5;28;01mif\u001b[39;00m groups \u001b[38;5;129;01mis\u001b[39;00m \u001b[38;5;129;01mnot\u001b[39;00m \u001b[38;5;28;01mNone\u001b[39;00m:\n\u001b[1;32m   2330\u001b[0m     warnings\u001b[38;5;241m.\u001b[39mwarn(\n\u001b[1;32m   2331\u001b[0m         \u001b[38;5;124mf\u001b[39m\u001b[38;5;124m\"\u001b[39m\u001b[38;5;124mThe groups parameter is ignored by \u001b[39m\u001b[38;5;132;01m{\u001b[39;00m\u001b[38;5;28mself\u001b[39m\u001b[38;5;241m.\u001b[39m\u001b[38;5;18m__class__\u001b[39m\u001b[38;5;241m.\u001b[39m\u001b[38;5;18m__name__\u001b[39m\u001b[38;5;132;01m}\u001b[39;00m\u001b[38;5;124m\"\u001b[39m,\n\u001b[1;32m   2332\u001b[0m         \u001b[38;5;167;01mUserWarning\u001b[39;00m,\n\u001b[1;32m   2333\u001b[0m     )\n\u001b[0;32m-> 2334\u001b[0m y \u001b[38;5;241m=\u001b[39m \u001b[43mcheck_array\u001b[49m\u001b[43m(\u001b[49m\u001b[43my\u001b[49m\u001b[43m,\u001b[49m\u001b[43m \u001b[49m\u001b[43minput_name\u001b[49m\u001b[38;5;241;43m=\u001b[39;49m\u001b[38;5;124;43m\"\u001b[39;49m\u001b[38;5;124;43my\u001b[39;49m\u001b[38;5;124;43m\"\u001b[39;49m\u001b[43m,\u001b[49m\u001b[43m \u001b[49m\u001b[43mensure_2d\u001b[49m\u001b[38;5;241;43m=\u001b[39;49m\u001b[38;5;28;43;01mFalse\u001b[39;49;00m\u001b[43m,\u001b[49m\u001b[43m \u001b[49m\u001b[43mdtype\u001b[49m\u001b[38;5;241;43m=\u001b[39;49m\u001b[38;5;28;43;01mNone\u001b[39;49;00m\u001b[43m)\u001b[49m\n\u001b[1;32m   2335\u001b[0m \u001b[38;5;28;01mreturn\u001b[39;00m \u001b[38;5;28msuper\u001b[39m()\u001b[38;5;241m.\u001b[39msplit(X, y, groups)\n",
      "File \u001b[0;32m/opt/anaconda3/envs/ISLP_new/lib/python3.12/site-packages/sklearn/utils/validation.py:1064\u001b[0m, in \u001b[0;36mcheck_array\u001b[0;34m(array, accept_sparse, accept_large_sparse, dtype, order, copy, force_writeable, force_all_finite, ensure_2d, allow_nd, ensure_min_samples, ensure_min_features, estimator, input_name)\u001b[0m\n\u001b[1;32m   1058\u001b[0m     \u001b[38;5;28;01mraise\u001b[39;00m \u001b[38;5;167;01mValueError\u001b[39;00m(\n\u001b[1;32m   1059\u001b[0m         \u001b[38;5;124m\"\u001b[39m\u001b[38;5;124mFound array with dim \u001b[39m\u001b[38;5;132;01m%d\u001b[39;00m\u001b[38;5;124m. \u001b[39m\u001b[38;5;132;01m%s\u001b[39;00m\u001b[38;5;124m expected <= 2.\u001b[39m\u001b[38;5;124m\"\u001b[39m\n\u001b[1;32m   1060\u001b[0m         \u001b[38;5;241m%\u001b[39m (array\u001b[38;5;241m.\u001b[39mndim, estimator_name)\n\u001b[1;32m   1061\u001b[0m     )\n\u001b[1;32m   1063\u001b[0m \u001b[38;5;28;01mif\u001b[39;00m force_all_finite:\n\u001b[0;32m-> 1064\u001b[0m     \u001b[43m_assert_all_finite\u001b[49m\u001b[43m(\u001b[49m\n\u001b[1;32m   1065\u001b[0m \u001b[43m        \u001b[49m\u001b[43marray\u001b[49m\u001b[43m,\u001b[49m\n\u001b[1;32m   1066\u001b[0m \u001b[43m        \u001b[49m\u001b[43minput_name\u001b[49m\u001b[38;5;241;43m=\u001b[39;49m\u001b[43minput_name\u001b[49m\u001b[43m,\u001b[49m\n\u001b[1;32m   1067\u001b[0m \u001b[43m        \u001b[49m\u001b[43mestimator_name\u001b[49m\u001b[38;5;241;43m=\u001b[39;49m\u001b[43mestimator_name\u001b[49m\u001b[43m,\u001b[49m\n\u001b[1;32m   1068\u001b[0m \u001b[43m        \u001b[49m\u001b[43mallow_nan\u001b[49m\u001b[38;5;241;43m=\u001b[39;49m\u001b[43mforce_all_finite\u001b[49m\u001b[43m \u001b[49m\u001b[38;5;241;43m==\u001b[39;49m\u001b[43m \u001b[49m\u001b[38;5;124;43m\"\u001b[39;49m\u001b[38;5;124;43mallow-nan\u001b[39;49m\u001b[38;5;124;43m\"\u001b[39;49m\u001b[43m,\u001b[49m\n\u001b[1;32m   1069\u001b[0m \u001b[43m    \u001b[49m\u001b[43m)\u001b[49m\n\u001b[1;32m   1071\u001b[0m \u001b[38;5;28;01mif\u001b[39;00m copy:\n\u001b[1;32m   1072\u001b[0m     \u001b[38;5;28;01mif\u001b[39;00m _is_numpy_namespace(xp):\n\u001b[1;32m   1073\u001b[0m         \u001b[38;5;66;03m# only make a copy if `array` and `array_orig` may share memory`\u001b[39;00m\n",
      "File \u001b[0;32m/opt/anaconda3/envs/ISLP_new/lib/python3.12/site-packages/sklearn/utils/validation.py:108\u001b[0m, in \u001b[0;36m_assert_all_finite\u001b[0;34m(X, allow_nan, msg_dtype, estimator_name, input_name)\u001b[0m\n\u001b[1;32m    106\u001b[0m \u001b[38;5;28;01mif\u001b[39;00m \u001b[38;5;129;01mnot\u001b[39;00m is_array_api \u001b[38;5;129;01mand\u001b[39;00m X\u001b[38;5;241m.\u001b[39mdtype \u001b[38;5;241m==\u001b[39m np\u001b[38;5;241m.\u001b[39mdtype(\u001b[38;5;124m\"\u001b[39m\u001b[38;5;124mobject\u001b[39m\u001b[38;5;124m\"\u001b[39m) \u001b[38;5;129;01mand\u001b[39;00m \u001b[38;5;129;01mnot\u001b[39;00m allow_nan:\n\u001b[1;32m    107\u001b[0m     \u001b[38;5;28;01mif\u001b[39;00m _object_dtype_isnan(X)\u001b[38;5;241m.\u001b[39many():\n\u001b[0;32m--> 108\u001b[0m         \u001b[38;5;28;01mraise\u001b[39;00m \u001b[38;5;167;01mValueError\u001b[39;00m(\u001b[38;5;124m\"\u001b[39m\u001b[38;5;124mInput contains NaN\u001b[39m\u001b[38;5;124m\"\u001b[39m)\n\u001b[1;32m    110\u001b[0m \u001b[38;5;66;03m# We need only consider float arrays, hence can early return for all else.\u001b[39;00m\n\u001b[1;32m    111\u001b[0m \u001b[38;5;28;01mif\u001b[39;00m \u001b[38;5;129;01mnot\u001b[39;00m xp\u001b[38;5;241m.\u001b[39misdtype(X\u001b[38;5;241m.\u001b[39mdtype, (\u001b[38;5;124m\"\u001b[39m\u001b[38;5;124mreal floating\u001b[39m\u001b[38;5;124m\"\u001b[39m, \u001b[38;5;124m\"\u001b[39m\u001b[38;5;124mcomplex floating\u001b[39m\u001b[38;5;124m\"\u001b[39m)):\n",
      "\u001b[0;31mValueError\u001b[0m: Input contains NaN"
     ]
    }
   ],
   "source": [
    "X_train, X_test, y_train, y_test = train_test_split(df, df.category_desc, test_size=0.2, random_state=42, stratify=df.category_desc)"
   ]
  },
  {
   "cell_type": "markdown",
   "id": "6e39dbcf-ccb1-4777-a1be-d619a93dc7db",
   "metadata": {},
   "source": [
    "## 6. Standardization\n",
    "\n",
    "**Standardization** is the process to transform **continuous** data to appear **normally distributed**\n",
    "\n",
    "Many of the sklearn models assume normally distributed data. Using non-normal data could bias the models.\n",
    "\n",
    "Standardization is required: \n",
    "- When we are using a model in linera space (like KNN, linear regression or KMeans)\n",
    "- When the dataset features have high variance\n",
    "- Features are on different scales (for instance number of bedrooms vs price)\n",
    "\n",
    "## 6.1. Log Normalization\n",
    "\n",
    "Useful for features with high variance\n",
    "\n",
    "Applies logarithm transformation\n",
    "\n",
    "Natural log using the constant $e$\n",
    "\n",
    "\n"
   ]
  },
  {
   "cell_type": "code",
   "execution_count": 47,
   "id": "c2120a02-f4ff-442e-955c-4fd7b94bdf5b",
   "metadata": {
    "execution": {
     "iopub.execute_input": "2024-08-27T11:40:54.383669Z",
     "iopub.status.busy": "2024-08-27T11:40:54.382892Z",
     "iopub.status.idle": "2024-08-27T11:40:54.402436Z",
     "shell.execute_reply": "2024-08-27T11:40:54.401376Z",
     "shell.execute_reply.started": "2024-08-27T11:40:54.383625Z"
    }
   },
   "outputs": [
    {
     "data": {
      "text/html": [
       "<div>\n",
       "<style scoped>\n",
       "    .dataframe tbody tr th:only-of-type {\n",
       "        vertical-align: middle;\n",
       "    }\n",
       "\n",
       "    .dataframe tbody tr th {\n",
       "        vertical-align: top;\n",
       "    }\n",
       "\n",
       "    .dataframe thead th {\n",
       "        text-align: right;\n",
       "    }\n",
       "</style>\n",
       "<table border=\"1\" class=\"dataframe\">\n",
       "  <thead>\n",
       "    <tr style=\"text-align: right;\">\n",
       "      <th></th>\n",
       "      <th>values</th>\n",
       "      <th>logs</th>\n",
       "    </tr>\n",
       "  </thead>\n",
       "  <tbody>\n",
       "    <tr>\n",
       "      <th>0</th>\n",
       "      <td>0</td>\n",
       "      <td>-inf</td>\n",
       "    </tr>\n",
       "    <tr>\n",
       "      <th>1</th>\n",
       "      <td>1</td>\n",
       "      <td>0.000000</td>\n",
       "    </tr>\n",
       "    <tr>\n",
       "      <th>2</th>\n",
       "      <td>10</td>\n",
       "      <td>2.302585</td>\n",
       "    </tr>\n",
       "    <tr>\n",
       "      <th>3</th>\n",
       "      <td>100</td>\n",
       "      <td>4.605170</td>\n",
       "    </tr>\n",
       "    <tr>\n",
       "      <th>4</th>\n",
       "      <td>1000</td>\n",
       "      <td>6.907755</td>\n",
       "    </tr>\n",
       "    <tr>\n",
       "      <th>5</th>\n",
       "      <td>10000</td>\n",
       "      <td>9.210340</td>\n",
       "    </tr>\n",
       "  </tbody>\n",
       "</table>\n",
       "</div>"
      ],
      "text/plain": [
       "   values      logs\n",
       "0       0      -inf\n",
       "1       1  0.000000\n",
       "2      10  2.302585\n",
       "3     100  4.605170\n",
       "4    1000  6.907755\n",
       "5   10000  9.210340"
      ]
     },
     "execution_count": 47,
     "metadata": {},
     "output_type": "execute_result"
    }
   ],
   "source": [
    "c\n",
    "df['logs'] = np.log(df['values'])\n",
    "\n",
    "df"
   ]
  },
  {
   "cell_type": "markdown",
   "id": "7a0e9394-08f8-443d-8368-9789b2a12925",
   "metadata": {},
   "source": [
    "Captures relative changes, the magnitude of change, and keeps everything positive."
   ]
  },
  {
   "cell_type": "markdown",
   "id": "0d4a2250-ff81-4b8b-a038-6c92b1b50a4d",
   "metadata": {
    "execution": {
     "iopub.execute_input": "2024-08-27T12:04:59.939936Z",
     "iopub.status.busy": "2024-08-27T12:04:59.938822Z",
     "iopub.status.idle": "2024-08-27T12:04:59.953136Z",
     "shell.execute_reply": "2024-08-27T12:04:59.951393Z",
     "shell.execute_reply.started": "2024-08-27T12:04:59.939891Z"
    }
   },
   "source": [
    "## 6.2. Scaling \n",
    "\n",
    "Features on different scales\n",
    "\n",
    "Model with linear characteristics\n",
    "\n",
    "Center features around 0 and transform variance to 1\n",
    "\n",
    "Transforms to approximately normal distribution\n"
   ]
  },
  {
   "cell_type": "code",
   "execution_count": 53,
   "id": "8cfda24c-85f2-4a9e-bc52-47a14faff13e",
   "metadata": {
    "execution": {
     "iopub.execute_input": "2024-08-27T12:09:00.152998Z",
     "iopub.status.busy": "2024-08-27T12:09:00.150706Z",
     "iopub.status.idle": "2024-08-27T12:09:00.176549Z",
     "shell.execute_reply": "2024-08-27T12:09:00.176030Z",
     "shell.execute_reply.started": "2024-08-27T12:09:00.152851Z"
    }
   },
   "outputs": [
    {
     "data": {
      "text/html": [
       "<div>\n",
       "<style scoped>\n",
       "    .dataframe tbody tr th:only-of-type {\n",
       "        vertical-align: middle;\n",
       "    }\n",
       "\n",
       "    .dataframe tbody tr th {\n",
       "        vertical-align: top;\n",
       "    }\n",
       "\n",
       "    .dataframe thead th {\n",
       "        text-align: right;\n",
       "    }\n",
       "</style>\n",
       "<table border=\"1\" class=\"dataframe\">\n",
       "  <thead>\n",
       "    <tr style=\"text-align: right;\">\n",
       "      <th></th>\n",
       "      <th>col1</th>\n",
       "      <th>col2</th>\n",
       "      <th>col3</th>\n",
       "    </tr>\n",
       "  </thead>\n",
       "  <tbody>\n",
       "    <tr>\n",
       "      <th>0</th>\n",
       "      <td>-1.224745e+00</td>\n",
       "      <td>1.090322</td>\n",
       "      <td>1.324670</td>\n",
       "    </tr>\n",
       "    <tr>\n",
       "      <th>1</th>\n",
       "      <td>-3.399350e-16</td>\n",
       "      <td>-1.325160</td>\n",
       "      <td>-0.233457</td>\n",
       "    </tr>\n",
       "    <tr>\n",
       "      <th>2</th>\n",
       "      <td>1.224745e+00</td>\n",
       "      <td>0.234839</td>\n",
       "      <td>-1.091213</td>\n",
       "    </tr>\n",
       "  </tbody>\n",
       "</table>\n",
       "</div>"
      ],
      "text/plain": [
       "           col1      col2      col3\n",
       "0 -1.224745e+00  1.090322  1.324670\n",
       "1 -3.399350e-16 -1.325160 -0.233457\n",
       "2  1.224745e+00  0.234839 -1.091213"
      ]
     },
     "execution_count": 53,
     "metadata": {},
     "output_type": "execute_result"
    }
   ],
   "source": [
    "from sklearn.preprocessing import StandardScaler\n",
    "\n",
    "df = pd.DataFrame({\n",
    "    'col1': [0.1, 0.2, 0.3],\n",
    "    'col2': [10, 5.2, 8.3],\n",
    "    'col3': [120, 100.2, 89.3]\n",
    "})\n",
    "\n",
    "scaler = StandardScaler()\n",
    "\n",
    "df_scaled = pd.DataFrame(scaler.fit_transform(df), columns=df.columns)\n",
    "\n",
    "df_scaled"
   ]
  },
  {
   "cell_type": "code",
   "execution_count": 54,
   "id": "e5f1704d-0ed6-4ec5-8770-818ac6f4a7e0",
   "metadata": {
    "execution": {
     "iopub.execute_input": "2024-08-27T12:09:00.711375Z",
     "iopub.status.busy": "2024-08-27T12:09:00.701225Z",
     "iopub.status.idle": "2024-08-27T12:09:00.721892Z",
     "shell.execute_reply": "2024-08-27T12:09:00.720597Z",
     "shell.execute_reply.started": "2024-08-27T12:09:00.711214Z"
    }
   },
   "outputs": [
    {
     "data": {
      "text/plain": [
       "col1    1.0\n",
       "col2    1.0\n",
       "col3    1.0\n",
       "dtype: float64"
      ]
     },
     "execution_count": 54,
     "metadata": {},
     "output_type": "execute_result"
    }
   ],
   "source": [
    "np.var(df_scaled)"
   ]
  },
  {
   "cell_type": "markdown",
   "id": "4bafb2f6-24ee-41d5-9de4-5125a71ae4dc",
   "metadata": {},
   "source": [
    "## 6. Standardized data and modeling\n",
    "\n",
    "Its important to split the data before preprocessing the data, otherwise there would be a **data leakage** and the test data could have been showed somehow to the model."
   ]
  },
  {
   "cell_type": "code",
   "execution_count": null,
   "id": "8e857d4a-1f51-458c-afe3-ae83823b114d",
   "metadata": {},
   "outputs": [],
   "source": [
    "from sklearn.model_selection import train_test_split\n",
    "from sklearn.neighbors import KNeighborsClassifier\n",
    "\n",
    "X_train, X_test, y_train, y_test = train_test_split(X, y, stratify=y, random_state=42)\n",
    "scaler = StandardScaler()\n",
    "\n",
    "X_train_scaled = scaler.fit_transform(X_train)\n",
    "X_test = scaler.transform(X_test)\n",
    "\n",
    "knn.fit(X_train_scaled, y_train)\n",
    "knn.score(X_test_scaled, y_test)"
   ]
  },
  {
   "cell_type": "markdown",
   "id": "6f5dd8f8-0b2e-40f5-ad14-ba9214ed930a",
   "metadata": {},
   "source": [
    "## 7. Feature Engineering\n",
    "\n",
    "**Feature engineering** is the creation of new features from existing ones\n",
    "\n",
    "It adds information to the dataset that can improve the performance of the model or add insight into relationships between features\n",
    "\n",
    "Before doing feature engineering we must understand our data first.\n",
    "\n",
    "Feature engineering is highly dependent on the dataset we have at hand\n",
    "\n",
    "Typical feature engineering scenarios are extracting features from free text, or parsing strings containing dates.\n",
    "\n",
    "## 8. Encoding categorical variables\n",
    "\n",
    "Sklearn models requires numerical input only. If there is any categorical data, it has to be encoded.\n",
    "\n",
    "### 8.2 Encoding variables with 2 different values"
   ]
  },
  {
   "cell_type": "code",
   "execution_count": 59,
   "id": "37b1f24b-0743-4f99-ba43-a2672956692e",
   "metadata": {
    "execution": {
     "iopub.execute_input": "2024-08-27T12:59:59.917600Z",
     "iopub.status.busy": "2024-08-27T12:59:59.916900Z",
     "iopub.status.idle": "2024-08-27T12:59:59.933652Z",
     "shell.execute_reply": "2024-08-27T12:59:59.932420Z",
     "shell.execute_reply.started": "2024-08-27T12:59:59.917560Z"
    }
   },
   "outputs": [],
   "source": [
    "df = pd.DataFrame({\n",
    "    'user': [1,2,3, 4],\n",
    "    'subscribed': ['y','y','n', 'y'],\n",
    "    'fav_color': ['yellow', 'orange', 'orange', 'green']\n",
    "})"
   ]
  },
  {
   "cell_type": "code",
   "execution_count": 56,
   "id": "068ecfce-5cba-4fec-a09e-b7ab2db643ef",
   "metadata": {
    "execution": {
     "iopub.execute_input": "2024-08-27T12:49:21.478853Z",
     "iopub.status.busy": "2024-08-27T12:49:21.478020Z",
     "iopub.status.idle": "2024-08-27T12:49:21.494348Z",
     "shell.execute_reply": "2024-08-27T12:49:21.493271Z",
     "shell.execute_reply.started": "2024-08-27T12:49:21.478806Z"
    }
   },
   "outputs": [
    {
     "data": {
      "text/plain": [
       "0    y\n",
       "1    y\n",
       "2    n\n",
       "Name: subscribed, dtype: object"
      ]
     },
     "execution_count": 56,
     "metadata": {},
     "output_type": "execute_result"
    }
   ],
   "source": [
    "df.subscribed"
   ]
  },
  {
   "cell_type": "code",
   "execution_count": 57,
   "id": "75dfaa7f-2d37-4433-904f-4935503adbf5",
   "metadata": {
    "execution": {
     "iopub.execute_input": "2024-08-27T12:50:10.011183Z",
     "iopub.status.busy": "2024-08-27T12:50:10.010382Z",
     "iopub.status.idle": "2024-08-27T12:50:10.025724Z",
     "shell.execute_reply": "2024-08-27T12:50:10.024779Z",
     "shell.execute_reply.started": "2024-08-27T12:50:10.011138Z"
    }
   },
   "outputs": [
    {
     "data": {
      "text/plain": [
       "0    1\n",
       "1    1\n",
       "2    0\n",
       "Name: subscribed, dtype: int64"
      ]
     },
     "execution_count": 57,
     "metadata": {},
     "output_type": "execute_result"
    }
   ],
   "source": [
    "# Pandas way\n",
    "df.subscribed.apply(lambda x: 1 if x=='y' else 0)"
   ]
  },
  {
   "cell_type": "code",
   "execution_count": 58,
   "id": "413f9950-6f33-4d74-86a1-8665947a909c",
   "metadata": {
    "execution": {
     "iopub.execute_input": "2024-08-27T12:52:31.371468Z",
     "iopub.status.busy": "2024-08-27T12:52:31.370765Z",
     "iopub.status.idle": "2024-08-27T12:52:31.382865Z",
     "shell.execute_reply": "2024-08-27T12:52:31.381189Z",
     "shell.execute_reply.started": "2024-08-27T12:52:31.371427Z"
    }
   },
   "outputs": [
    {
     "data": {
      "text/plain": [
       "array([1, 1, 0])"
      ]
     },
     "execution_count": 58,
     "metadata": {},
     "output_type": "execute_result"
    }
   ],
   "source": [
    "# SciKit Learn way \n",
    "\n",
    "from sklearn.preprocessing import LabelEncoder\n",
    "\n",
    "encoder = LabelEncoder()\n",
    "encoder.fit_transform(df.subscribed)"
   ]
  },
  {
   "cell_type": "markdown",
   "id": "ed210c04-4aba-4987-9136-26b2ff5a962e",
   "metadata": {},
   "source": [
    "### 8.2 One Hot Encoding\n",
    "\n",
    "Applies when the variable has more than 2 different values.\n",
    "\n"
   ]
  },
  {
   "cell_type": "code",
   "execution_count": 60,
   "id": "a506e115-14b5-4d61-a0be-29120ef81c6a",
   "metadata": {
    "execution": {
     "iopub.execute_input": "2024-08-27T13:00:05.731600Z",
     "iopub.status.busy": "2024-08-27T13:00:05.730736Z",
     "iopub.status.idle": "2024-08-27T13:00:05.752017Z",
     "shell.execute_reply": "2024-08-27T13:00:05.751333Z",
     "shell.execute_reply.started": "2024-08-27T13:00:05.731552Z"
    }
   },
   "outputs": [
    {
     "data": {
      "text/html": [
       "<div>\n",
       "<style scoped>\n",
       "    .dataframe tbody tr th:only-of-type {\n",
       "        vertical-align: middle;\n",
       "    }\n",
       "\n",
       "    .dataframe tbody tr th {\n",
       "        vertical-align: top;\n",
       "    }\n",
       "\n",
       "    .dataframe thead th {\n",
       "        text-align: right;\n",
       "    }\n",
       "</style>\n",
       "<table border=\"1\" class=\"dataframe\">\n",
       "  <thead>\n",
       "    <tr style=\"text-align: right;\">\n",
       "      <th></th>\n",
       "      <th>green</th>\n",
       "      <th>orange</th>\n",
       "      <th>yellow</th>\n",
       "    </tr>\n",
       "  </thead>\n",
       "  <tbody>\n",
       "    <tr>\n",
       "      <th>0</th>\n",
       "      <td>False</td>\n",
       "      <td>False</td>\n",
       "      <td>True</td>\n",
       "    </tr>\n",
       "    <tr>\n",
       "      <th>1</th>\n",
       "      <td>False</td>\n",
       "      <td>True</td>\n",
       "      <td>False</td>\n",
       "    </tr>\n",
       "    <tr>\n",
       "      <th>2</th>\n",
       "      <td>False</td>\n",
       "      <td>True</td>\n",
       "      <td>False</td>\n",
       "    </tr>\n",
       "    <tr>\n",
       "      <th>3</th>\n",
       "      <td>True</td>\n",
       "      <td>False</td>\n",
       "      <td>False</td>\n",
       "    </tr>\n",
       "  </tbody>\n",
       "</table>\n",
       "</div>"
      ],
      "text/plain": [
       "   green  orange  yellow\n",
       "0  False   False    True\n",
       "1  False    True   False\n",
       "2  False    True   False\n",
       "3   True   False   False"
      ]
     },
     "execution_count": 60,
     "metadata": {},
     "output_type": "execute_result"
    }
   ],
   "source": [
    "pd.get_dummies(df.fav_color)"
   ]
  },
  {
   "cell_type": "markdown",
   "id": "2960a783-b27c-4315-91da-2d4ef9c9fc0d",
   "metadata": {},
   "source": [
    "# 9. Engineering Numerical Features\n",
    "\n",
    "Examples of reducing dimensionality: Means or medians of several variables, extracting month or week from dates\n"
   ]
  },
  {
   "cell_type": "code",
   "execution_count": 63,
   "id": "f57300bc-8958-4354-93d5-aef570e7f5a7",
   "metadata": {
    "execution": {
     "iopub.execute_input": "2024-08-27T13:16:28.519199Z",
     "iopub.status.busy": "2024-08-27T13:16:28.518035Z",
     "iopub.status.idle": "2024-08-27T13:16:28.555179Z",
     "shell.execute_reply": "2024-08-27T13:16:28.554693Z",
     "shell.execute_reply.started": "2024-08-27T13:16:28.519125Z"
    }
   },
   "outputs": [
    {
     "data": {
      "text/html": [
       "<div>\n",
       "<style scoped>\n",
       "    .dataframe tbody tr th:only-of-type {\n",
       "        vertical-align: middle;\n",
       "    }\n",
       "\n",
       "    .dataframe tbody tr th {\n",
       "        vertical-align: top;\n",
       "    }\n",
       "\n",
       "    .dataframe thead th {\n",
       "        text-align: right;\n",
       "    }\n",
       "</style>\n",
       "<table border=\"1\" class=\"dataframe\">\n",
       "  <thead>\n",
       "    <tr style=\"text-align: right;\">\n",
       "      <th></th>\n",
       "      <th>opportunity_id</th>\n",
       "      <th>content_id</th>\n",
       "      <th>vol_requests</th>\n",
       "      <th>event_time</th>\n",
       "      <th>title</th>\n",
       "      <th>hits</th>\n",
       "      <th>summary</th>\n",
       "      <th>is_priority</th>\n",
       "      <th>category_id</th>\n",
       "      <th>category_desc</th>\n",
       "      <th>...</th>\n",
       "      <th>end_date_date</th>\n",
       "      <th>status</th>\n",
       "      <th>Latitude</th>\n",
       "      <th>Longitude</th>\n",
       "      <th>Community Board</th>\n",
       "      <th>Community Council</th>\n",
       "      <th>Census Tract</th>\n",
       "      <th>BIN</th>\n",
       "      <th>BBL</th>\n",
       "      <th>NTA</th>\n",
       "    </tr>\n",
       "  </thead>\n",
       "  <tbody>\n",
       "    <tr>\n",
       "      <th>0</th>\n",
       "      <td>4996</td>\n",
       "      <td>37004</td>\n",
       "      <td>50</td>\n",
       "      <td>0</td>\n",
       "      <td>Volunteers Needed For Rise Up &amp; Stay Put! Home...</td>\n",
       "      <td>737</td>\n",
       "      <td>Building on successful events last summer and ...</td>\n",
       "      <td>NaN</td>\n",
       "      <td>NaN</td>\n",
       "      <td>NaN</td>\n",
       "      <td>...</td>\n",
       "      <td>July 30 2011</td>\n",
       "      <td>approved</td>\n",
       "      <td>NaN</td>\n",
       "      <td>NaN</td>\n",
       "      <td>NaN</td>\n",
       "      <td>NaN</td>\n",
       "      <td>NaN</td>\n",
       "      <td>NaN</td>\n",
       "      <td>NaN</td>\n",
       "      <td>NaN</td>\n",
       "    </tr>\n",
       "    <tr>\n",
       "      <th>1</th>\n",
       "      <td>5008</td>\n",
       "      <td>37036</td>\n",
       "      <td>2</td>\n",
       "      <td>0</td>\n",
       "      <td>Web designer</td>\n",
       "      <td>22</td>\n",
       "      <td>Build a website for an Afghan business</td>\n",
       "      <td>NaN</td>\n",
       "      <td>1.0</td>\n",
       "      <td>Strengthening Communities</td>\n",
       "      <td>...</td>\n",
       "      <td>February 01 2011</td>\n",
       "      <td>approved</td>\n",
       "      <td>NaN</td>\n",
       "      <td>NaN</td>\n",
       "      <td>NaN</td>\n",
       "      <td>NaN</td>\n",
       "      <td>NaN</td>\n",
       "      <td>NaN</td>\n",
       "      <td>NaN</td>\n",
       "      <td>NaN</td>\n",
       "    </tr>\n",
       "    <tr>\n",
       "      <th>2</th>\n",
       "      <td>5016</td>\n",
       "      <td>37143</td>\n",
       "      <td>20</td>\n",
       "      <td>0</td>\n",
       "      <td>Urban Adventures - Ice Skating at Lasker Rink</td>\n",
       "      <td>62</td>\n",
       "      <td>Please join us and the students from Mott Hall...</td>\n",
       "      <td>NaN</td>\n",
       "      <td>1.0</td>\n",
       "      <td>Strengthening Communities</td>\n",
       "      <td>...</td>\n",
       "      <td>January 29 2011</td>\n",
       "      <td>approved</td>\n",
       "      <td>NaN</td>\n",
       "      <td>NaN</td>\n",
       "      <td>NaN</td>\n",
       "      <td>NaN</td>\n",
       "      <td>NaN</td>\n",
       "      <td>NaN</td>\n",
       "      <td>NaN</td>\n",
       "      <td>NaN</td>\n",
       "    </tr>\n",
       "    <tr>\n",
       "      <th>3</th>\n",
       "      <td>5022</td>\n",
       "      <td>37237</td>\n",
       "      <td>500</td>\n",
       "      <td>0</td>\n",
       "      <td>Fight global hunger and support women farmers ...</td>\n",
       "      <td>14</td>\n",
       "      <td>The Oxfam Action Corps is a group of dedicated...</td>\n",
       "      <td>NaN</td>\n",
       "      <td>1.0</td>\n",
       "      <td>Strengthening Communities</td>\n",
       "      <td>...</td>\n",
       "      <td>March 31 2012</td>\n",
       "      <td>approved</td>\n",
       "      <td>NaN</td>\n",
       "      <td>NaN</td>\n",
       "      <td>NaN</td>\n",
       "      <td>NaN</td>\n",
       "      <td>NaN</td>\n",
       "      <td>NaN</td>\n",
       "      <td>NaN</td>\n",
       "      <td>NaN</td>\n",
       "    </tr>\n",
       "    <tr>\n",
       "      <th>4</th>\n",
       "      <td>5055</td>\n",
       "      <td>37425</td>\n",
       "      <td>15</td>\n",
       "      <td>0</td>\n",
       "      <td>Stop 'N' Swap</td>\n",
       "      <td>31</td>\n",
       "      <td>Stop 'N' Swap reduces NYC's waste by finding n...</td>\n",
       "      <td>NaN</td>\n",
       "      <td>4.0</td>\n",
       "      <td>Environment</td>\n",
       "      <td>...</td>\n",
       "      <td>February 05 2011</td>\n",
       "      <td>approved</td>\n",
       "      <td>NaN</td>\n",
       "      <td>NaN</td>\n",
       "      <td>NaN</td>\n",
       "      <td>NaN</td>\n",
       "      <td>NaN</td>\n",
       "      <td>NaN</td>\n",
       "      <td>NaN</td>\n",
       "      <td>NaN</td>\n",
       "    </tr>\n",
       "  </tbody>\n",
       "</table>\n",
       "<p>5 rows × 35 columns</p>\n",
       "</div>"
      ],
      "text/plain": [
       "   opportunity_id  content_id  vol_requests  event_time  \\\n",
       "0            4996       37004            50           0   \n",
       "1            5008       37036             2           0   \n",
       "2            5016       37143            20           0   \n",
       "3            5022       37237           500           0   \n",
       "4            5055       37425            15           0   \n",
       "\n",
       "                                               title  hits  \\\n",
       "0  Volunteers Needed For Rise Up & Stay Put! Home...   737   \n",
       "1                                       Web designer    22   \n",
       "2      Urban Adventures - Ice Skating at Lasker Rink    62   \n",
       "3  Fight global hunger and support women farmers ...    14   \n",
       "4                                      Stop 'N' Swap    31   \n",
       "\n",
       "                                             summary is_priority  category_id  \\\n",
       "0  Building on successful events last summer and ...         NaN          NaN   \n",
       "1             Build a website for an Afghan business         NaN          1.0   \n",
       "2  Please join us and the students from Mott Hall...         NaN          1.0   \n",
       "3  The Oxfam Action Corps is a group of dedicated...         NaN          1.0   \n",
       "4  Stop 'N' Swap reduces NYC's waste by finding n...         NaN          4.0   \n",
       "\n",
       "               category_desc  ...     end_date_date    status Latitude  \\\n",
       "0                        NaN  ...      July 30 2011  approved      NaN   \n",
       "1  Strengthening Communities  ...  February 01 2011  approved      NaN   \n",
       "2  Strengthening Communities  ...   January 29 2011  approved      NaN   \n",
       "3  Strengthening Communities  ...     March 31 2012  approved      NaN   \n",
       "4                Environment  ...  February 05 2011  approved      NaN   \n",
       "\n",
       "   Longitude  Community Board Community Council  Census Tract  BIN  BBL NTA  \n",
       "0        NaN              NaN                NaN          NaN  NaN  NaN NaN  \n",
       "1        NaN              NaN                NaN          NaN  NaN  NaN NaN  \n",
       "2        NaN              NaN                NaN          NaN  NaN  NaN NaN  \n",
       "3        NaN              NaN                NaN          NaN  NaN  NaN NaN  \n",
       "4        NaN              NaN                NaN          NaN  NaN  NaN NaN  \n",
       "\n",
       "[5 rows x 35 columns]"
      ]
     },
     "execution_count": 63,
     "metadata": {},
     "output_type": "execute_result"
    }
   ],
   "source": [
    "volunteer = pd.read_csv('../data/volunteer_opportunities.csv')\n",
    "volunteer.head()"
   ]
  },
  {
   "cell_type": "code",
   "execution_count": 66,
   "id": "83616549-b3c4-439d-bce8-1522e0f93fd7",
   "metadata": {
    "execution": {
     "iopub.execute_input": "2024-08-27T13:17:05.278254Z",
     "iopub.status.busy": "2024-08-27T13:17:05.277266Z",
     "iopub.status.idle": "2024-08-27T13:17:05.291880Z",
     "shell.execute_reply": "2024-08-27T13:17:05.290684Z",
     "shell.execute_reply.started": "2024-08-27T13:17:05.278211Z"
    }
   },
   "outputs": [
    {
     "data": {
      "text/plain": [
       "Index(['opportunity_id', 'content_id', 'vol_requests', 'event_time', 'title',\n",
       "       'hits', 'summary', 'is_priority', 'category_id', 'category_desc',\n",
       "       'amsl', 'amsl_unit', 'org_title', 'org_content_id', 'addresses_count',\n",
       "       'locality', 'region', 'postalcode', 'primary_loc', 'display_url',\n",
       "       'recurrence_type', 'hours', 'created_date', 'last_modified_date',\n",
       "       'start_date_date', 'end_date_date', 'status', 'Latitude', 'Longitude',\n",
       "       'Community Board', 'Community Council ', 'Census Tract', 'BIN', 'BBL',\n",
       "       'NTA'],\n",
       "      dtype='object')"
      ]
     },
     "execution_count": 66,
     "metadata": {},
     "output_type": "execute_result"
    }
   ],
   "source": [
    "volunteer.columns"
   ]
  },
  {
   "cell_type": "code",
   "execution_count": 73,
   "id": "a6f2d0b5-5dab-4688-af89-d55cadcccea1",
   "metadata": {
    "execution": {
     "iopub.execute_input": "2024-08-27T13:19:24.779925Z",
     "iopub.status.busy": "2024-08-27T13:19:24.778961Z",
     "iopub.status.idle": "2024-08-27T13:19:24.794580Z",
     "shell.execute_reply": "2024-08-27T13:19:24.793869Z",
     "shell.execute_reply.started": "2024-08-27T13:19:24.779875Z"
    }
   },
   "outputs": [],
   "source": [
    "volunteer[\"start_date_converted\"] = pd.to_datetime(volunteer[\"start_date_date\"])\n",
    "volunteer[\"start_date_month\"] = volunteer['start_date_converted'].dt.month"
   ]
  },
  {
   "cell_type": "code",
   "execution_count": 74,
   "id": "9efd3162-8dd3-42e7-8a1c-cd2e3a1da132",
   "metadata": {
    "execution": {
     "iopub.execute_input": "2024-08-27T13:19:27.027925Z",
     "iopub.status.busy": "2024-08-27T13:19:27.027425Z",
     "iopub.status.idle": "2024-08-27T13:19:27.042234Z",
     "shell.execute_reply": "2024-08-27T13:19:27.041268Z",
     "shell.execute_reply.started": "2024-08-27T13:19:27.027890Z"
    }
   },
   "outputs": [
    {
     "name": "stdout",
     "output_type": "stream",
     "text": [
      "  start_date_converted  start_date_month\n",
      "0           2011-07-30                 7\n",
      "1           2011-02-01                 2\n",
      "2           2011-01-29                 1\n",
      "3           2011-02-14                 2\n",
      "4           2011-02-05                 2\n"
     ]
    }
   ],
   "source": [
    "print(volunteer[['start_date_converted', 'start_date_month']].head())"
   ]
  },
  {
   "cell_type": "markdown",
   "id": "ff24d2a1-3db5-4b5b-b128-3b1070a71d08",
   "metadata": {
    "execution": {
     "iopub.execute_input": "2024-08-27T13:19:41.950489Z",
     "iopub.status.busy": "2024-08-27T13:19:41.949710Z",
     "iopub.status.idle": "2024-08-27T13:19:41.958589Z",
     "shell.execute_reply": "2024-08-27T13:19:41.956069Z",
     "shell.execute_reply.started": "2024-08-27T13:19:41.950446Z"
    }
   },
   "source": [
    "# 10. Engineering Text Features\n",
    "\n",
    "## 10.1. Extraction\n",
    "\n",
    "Regular expressions is code that identify patterns\n"
   ]
  },
  {
   "cell_type": "code",
   "execution_count": 78,
   "id": "08bfb966-ba74-45ab-8d12-5e316c4cd496",
   "metadata": {
    "execution": {
     "iopub.execute_input": "2024-08-27T13:22:18.455088Z",
     "iopub.status.busy": "2024-08-27T13:22:18.454526Z",
     "iopub.status.idle": "2024-08-27T13:22:18.466283Z",
     "shell.execute_reply": "2024-08-27T13:22:18.464883Z",
     "shell.execute_reply.started": "2024-08-27T13:22:18.455047Z"
    }
   },
   "outputs": [
    {
     "data": {
      "text/plain": [
       "<re.Match object; span=(12, 16), match='75.6'>"
      ]
     },
     "execution_count": 78,
     "metadata": {},
     "output_type": "execute_result"
    }
   ],
   "source": [
    "import re\n",
    "\n",
    "my_string = 'temperature:75.6 F'\n",
    "temp = re.search('\\d+\\.\\d+', my_string)\n",
    "\n",
    "temp"
   ]
  },
  {
   "cell_type": "markdown",
   "id": "ad178ba1-d139-4861-a2ea-875317692cc7",
   "metadata": {},
   "source": [
    "If we are working with text it could be helpful to model it in some way.\n",
    "\n",
    "**TF/IDF** (Term Frequency/Inverse Document Frequency) Vectorizes words based upon importance\n",
    "\n"
   ]
  },
  {
   "cell_type": "code",
   "execution_count": 82,
   "id": "91aa7edb-5b63-4b6b-9f15-ef72929516fe",
   "metadata": {
    "execution": {
     "iopub.execute_input": "2024-08-27T13:27:28.261531Z",
     "iopub.status.busy": "2024-08-27T13:27:28.260314Z",
     "iopub.status.idle": "2024-08-27T13:27:28.278193Z",
     "shell.execute_reply": "2024-08-27T13:27:28.277465Z",
     "shell.execute_reply.started": "2024-08-27T13:27:28.261451Z"
    }
   },
   "outputs": [
    {
     "data": {
      "text/plain": [
       "0      Building on successful events last summer and ...\n",
       "1                 Build a website for an Afghan business\n",
       "2      Please join us and the students from Mott Hall...\n",
       "3      The Oxfam Action Corps is a group of dedicated...\n",
       "4      Stop 'N' Swap reduces NYC's waste by finding n...\n",
       "                             ...                        \n",
       "660    Volunteers needed to file for fair hearings, d...\n",
       "661    Come out to the South Bronx to help us hold ou...\n",
       "662    Volunteer needed to translate written material...\n",
       "663    World Cares Center is looking for individuals ...\n",
       "664    Attention all filmmakers, producers, and edito...\n",
       "Name: summary, Length: 665, dtype: object"
      ]
     },
     "execution_count": 82,
     "metadata": {},
     "output_type": "execute_result"
    }
   ],
   "source": [
    "from sklearn.feature_extraction.text import TfidfVectorizer\n",
    "\n",
    "volunteer.summary"
   ]
  },
  {
   "cell_type": "code",
   "execution_count": 84,
   "id": "42753ade-025f-4241-8749-956967722238",
   "metadata": {
    "execution": {
     "iopub.execute_input": "2024-08-27T13:28:13.874788Z",
     "iopub.status.busy": "2024-08-27T13:28:13.873641Z",
     "iopub.status.idle": "2024-08-27T13:28:13.917728Z",
     "shell.execute_reply": "2024-08-27T13:28:13.917047Z",
     "shell.execute_reply.started": "2024-08-27T13:28:13.874739Z"
    }
   },
   "outputs": [],
   "source": [
    "tfidf_vec = TfidfVectorizer()\n",
    "text_tfidf = tfidf_vec.fit_transform(volunteer.summary)"
   ]
  },
  {
   "cell_type": "code",
   "execution_count": 88,
   "id": "ce3730ea-1de4-46d1-9def-1838ff6a960c",
   "metadata": {
    "execution": {
     "iopub.execute_input": "2024-08-27T13:29:10.564492Z",
     "iopub.status.busy": "2024-08-27T13:29:10.563337Z",
     "iopub.status.idle": "2024-08-27T13:29:10.577777Z",
     "shell.execute_reply": "2024-08-27T13:29:10.576316Z",
     "shell.execute_reply.started": "2024-08-27T13:29:10.564419Z"
    }
   },
   "outputs": [
    {
     "data": {
      "text/plain": [
       "<665x3242 sparse matrix of type '<class 'numpy.float64'>'\n",
       "\twith 15600 stored elements in Compressed Sparse Row format>"
      ]
     },
     "execution_count": 88,
     "metadata": {},
     "output_type": "execute_result"
    }
   ],
   "source": [
    "text_tfidf"
   ]
  },
  {
   "cell_type": "code",
   "execution_count": null,
   "id": "afcf9cdf-e90a-41ce-b048-f4268f312ecd",
   "metadata": {},
   "outputs": [],
   "source": []
  }
 ],
 "metadata": {
  "kernelspec": {
   "display_name": "Python 3 (ipykernel)",
   "language": "python",
   "name": "python3"
  },
  "language_info": {
   "codemirror_mode": {
    "name": "ipython",
    "version": 3
   },
   "file_extension": ".py",
   "mimetype": "text/x-python",
   "name": "python",
   "nbconvert_exporter": "python",
   "pygments_lexer": "ipython3",
   "version": "3.12.4"
  }
 },
 "nbformat": 4,
 "nbformat_minor": 5
}
