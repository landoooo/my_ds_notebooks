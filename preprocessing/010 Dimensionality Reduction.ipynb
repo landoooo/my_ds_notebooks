{
 "cells": [
  {
   "cell_type": "markdown",
   "id": "ca33f9ba-ad86-417b-a8d3-cc3940760e5c",
   "metadata": {},
   "source": [
    "# Introduction \n",
    "\n",
    "Working with **tidy data** makes our lives as data scientists way easier.\n",
    "\n",
    "We consider a dataset is of **high dimensionality** if it has more than 10 features.\n",
    "\n",
    "Before opting to reduce dimensionality of our dataset we have to understand it"
   ]
  },
  {
   "cell_type": "code",
   "execution_count": null,
   "id": "84c76163-33e5-4e15-b7d3-1e566cbfa6f6",
   "metadata": {},
   "outputs": [],
   "source": [
    "import pandas as pd \n",
    "import numpy as np \n",
    "import matplotlib.pyplot as plt \n",
    "import seaborn as sns \n",
    "import warnings \n",
    "\n",
    "warnings.filterwarnings('ignore')\n",
    "sns.set()\n"
   ]
  },
  {
   "cell_type": "code",
   "execution_count": null,
   "id": "29c4ddfa-559c-4544-a1a0-43128b515136",
   "metadata": {},
   "outputs": [],
   "source": [
    "pokemon_df = pd.read_csv('../data/pokemon.csv')"
   ]
  },
  {
   "cell_type": "code",
   "execution_count": null,
   "id": "5b9a8bb3-8a00-4eb8-b368-0d27a9ff6dd4",
   "metadata": {},
   "outputs": [],
   "source": [
    "pokemon_df.head()"
   ]
  },
  {
   "cell_type": "markdown",
   "id": "2ee0d771-e96b-4867-8008-85faf2f663a0",
   "metadata": {},
   "source": [
    "We can start reducing dimensionality by getting rid of those columns with no variance: having the same values for all the observations.\n",
    "\n",
    "We can have a look to the variance of each feature with the *.describe()* pandas method. Keep in mind this method ignores non numerical columns by default. "
   ]
  },
  {
   "cell_type": "code",
   "execution_count": null,
   "id": "f7c08919-9a45-49f0-b2e4-38f4a51b0989",
   "metadata": {},
   "outputs": [],
   "source": [
    "len(pokemon_df.columns)"
   ]
  },
  {
   "cell_type": "code",
   "execution_count": null,
   "id": "f78c06ff-e468-4b70-b4a6-e6c352b779ac",
   "metadata": {},
   "outputs": [],
   "source": [
    "pokemon_df.describe()"
   ]
  },
  {
   "cell_type": "code",
   "execution_count": null,
   "id": "88e316c3-30e1-481d-a74b-047cda889f34",
   "metadata": {},
   "outputs": [],
   "source": [
    "pokemon_df.describe(exclude='number')"
   ]
  },
  {
   "cell_type": "code",
   "execution_count": null,
   "id": "cd965651-eac8-41bd-9048-3d84fc3c3230",
   "metadata": {},
   "outputs": [],
   "source": [
    "pokemon_df.shape"
   ]
  },
  {
   "cell_type": "markdown",
   "id": "4a8ba14a-684a-436c-a356-6602f6da8209",
   "metadata": {},
   "source": [
    "Reducing dimensionality makes datasets: \n",
    "- be less complex\n",
    "- require less disk space\n",
    "- require less computation time\n",
    "- have a lower chance of model overfitting\n",
    "\n",
    "The simplest way to reduce dimensionality is to select only the features that are useful, but how to know who they are?\n",
    "\n",
    "# Feature Selection VS Feature Extractions\n",
    "\n",
    "## Feature selection\n",
    "\n",
    "We can perform feature selection based on expertise (knowing that a certain feature wont be of any used based on SME experience), based on correlation with other features, the lack of variance of a certain feature.\n",
    "\n",
    "## Feature extraction\n",
    "\n",
    "It also reduces dimensionality, but it calculates or extract new features based on originals.\n",
    "\n",
    "For datasets with numerous highly correlated features, dimensionality can be reduced using feature extraction.\n"
   ]
  },
  {
   "cell_type": "code",
   "execution_count": null,
   "id": "5b5f3e47-1fd3-45cd-af6c-5666df8b514c",
   "metadata": {},
   "outputs": [],
   "source": [
    "ansur_df = pd.read_csv('../data/ANSUR_II_MALE.csv')\n",
    "\n",
    "ansur_df.head()"
   ]
  },
  {
   "cell_type": "code",
   "execution_count": null,
   "id": "fcad4b1b-f652-486c-b91c-183acf31fb22",
   "metadata": {},
   "outputs": [],
   "source": [
    "ansur_df.shape"
   ]
  },
  {
   "cell_type": "code",
   "execution_count": null,
   "id": "b617691d-6536-4443-b2dc-36d5f006f0c1",
   "metadata": {},
   "outputs": [],
   "source": [
    "list(ansur_df.columns)"
   ]
  },
  {
   "cell_type": "code",
   "execution_count": null,
   "id": "02f40728-1c98-40c4-845f-7a3187682752",
   "metadata": {},
   "outputs": [],
   "source": [
    "ansur_df_1 = ansur_df[['weight_kg', 'earlength', 'waistdepth', 'Gender']]"
   ]
  },
  {
   "cell_type": "code",
   "execution_count": null,
   "id": "7dd2bfd3-da00-450e-968d-f6a761f5ed3c",
   "metadata": {},
   "outputs": [],
   "source": [
    "# Create a pairplot and color the points using the 'Gender' feature\n",
    "sns.pairplot(ansur_df_1, hue='Gender', diag_kind='hist')\n",
    "\n",
    "# Show the plot\n",
    "plt.show()"
   ]
  },
  {
   "cell_type": "code",
   "execution_count": null,
   "id": "b1458f45-96f1-48c6-b7e7-21102e7fa6f7",
   "metadata": {},
   "outputs": [],
   "source": [
    "ansur_df_1.shape"
   ]
  },
  {
   "cell_type": "markdown",
   "id": "bcfe0fb2-12bf-4148-9cb5-557d55230acb",
   "metadata": {
    "execution": {
     "iopub.execute_input": "2024-09-02T12:55:53.084839Z",
     "iopub.status.busy": "2024-09-02T12:55:53.083601Z",
     "iopub.status.idle": "2024-09-02T12:55:53.095462Z",
     "shell.execute_reply": "2024-09-02T12:55:53.094224Z",
     "shell.execute_reply.started": "2024-09-02T12:55:53.084758Z"
    }
   },
   "source": [
    "# t-SNE visualization of high-dimensional data\n",
    "\n",
    "t-Distributed Stochastic Neighbor Embedding or t-SNE it's just a powerful technique to visualize high dimensional data using feature extraction.\n",
    "\n",
    "t-SNE maximizes the distance in a two dimensional space between observations thata are most different in a high dimensional space.\n",
    "\n"
   ]
  },
  {
   "cell_type": "code",
   "execution_count": null,
   "id": "8d000c3c-739f-481a-b1f9-ec782a9f84c8",
   "metadata": {},
   "outputs": [],
   "source": [
    "ansur_f_df = pd.read_csv('../data/ANSUR_II_FEMALE.csv')\n",
    "\n",
    "ansur_f_df.head()"
   ]
  },
  {
   "cell_type": "code",
   "execution_count": null,
   "id": "a28d7be8-52b9-4c35-a607-5ba48db7db3d",
   "metadata": {},
   "outputs": [],
   "source": [
    "ansur_f_df.shape"
   ]
  },
  {
   "cell_type": "markdown",
   "id": "26414479-af1a-4535-ad67-985b7197bed0",
   "metadata": {},
   "source": [
    "Lets remove the non numerical columns first since t-SNE doesnt work with that. \n",
    "We could do smth like one hot encoding eventually."
   ]
  },
  {
   "cell_type": "code",
   "execution_count": null,
   "id": "a366026d-6e2d-4fa5-b0a2-cac286e9510a",
   "metadata": {},
   "outputs": [],
   "source": [
    "non_numeric = ['BMI_class', 'Height_class', 'Gender', 'Component', 'Branch']\n",
    "df_numeric = ansur_f_df.drop(non_numeric, axis=1)\n",
    "df_numeric.shape"
   ]
  },
  {
   "cell_type": "code",
   "execution_count": null,
   "id": "d137eb9b-4184-44d0-b5d2-5a97a1e909ea",
   "metadata": {},
   "outputs": [],
   "source": [
    "from sklearn.manifold import TSNE\n",
    "\n",
    "m = TSNE(learning_rate=50)"
   ]
  },
  {
   "cell_type": "code",
   "execution_count": null,
   "id": "24d19b33-fdea-476d-8f8e-f8f5a09462be",
   "metadata": {},
   "outputs": [],
   "source": [
    "tsne_features = m.fit_transform(df_numeric)\n",
    "\n",
    "tsne_features[1:4,:]"
   ]
  },
  {
   "cell_type": "code",
   "execution_count": null,
   "id": "4202ce73-b219-47f5-b018-29b0c7de7350",
   "metadata": {},
   "outputs": [],
   "source": [
    "ansur_f_df['x'] =tsne_features[:,0]\n",
    "ansur_f_df['y'] =tsne_features[:,1]\n"
   ]
  },
  {
   "cell_type": "code",
   "execution_count": null,
   "id": "1fa7ae8d-4d8e-46fe-ba43-83496b80d3b0",
   "metadata": {},
   "outputs": [],
   "source": [
    "sns.scatterplot(data=ansur_f_df, x='x', y='y')\n",
    "plt.show()"
   ]
  },
  {
   "cell_type": "code",
   "execution_count": null,
   "id": "1c263ef3-340d-4760-9969-4cf69dfc3813",
   "metadata": {},
   "outputs": [],
   "source": [
    "sns.scatterplot(data=ansur_f_df, x='x', y='y', hue='BMI_class')\n",
    "plt.show()"
   ]
  },
  {
   "cell_type": "code",
   "execution_count": null,
   "id": "cea6fc47-d9f9-4113-80f5-11009113a194",
   "metadata": {},
   "outputs": [],
   "source": [
    "sns.scatterplot(data=ansur_f_df, x='x', y='y', hue='Height_class')\n",
    "plt.show()"
   ]
  },
  {
   "cell_type": "markdown",
   "id": "8aeca102-ff9e-484b-96ba-5e4effa50860",
   "metadata": {},
   "source": [
    "# The Curse of Dimensionality\n",
    "\n",
    "Models tend to overfit when there are too many features.\n",
    "\n",
    "The number of observations should increase exponentially with the number of features to prevent overfitting.\n",
    "\n",
    "## Features with missing values or little variance \n",
    "\n"
   ]
  },
  {
   "cell_type": "code",
   "execution_count": null,
   "id": "c39a3c75-5896-4cf6-9dd3-9156d70a0282",
   "metadata": {},
   "outputs": [],
   "source": [
    "ansur_m_df = pd.read_csv('../data/ANSUR_II_MALE.csv')\n",
    "ansur_f_df = pd.read_csv('../data/ANSUR_II_FEMALE.csv')\n",
    "\n",
    "ansur_df = pd.concat([ansur_m_df, ansur_f_df]) \n",
    "print(ansur_df.shape)"
   ]
  },
  {
   "cell_type": "code",
   "execution_count": null,
   "id": "55d4ec2c-2e15-41ec-a6d5-64fdb1834555",
   "metadata": {},
   "outputs": [],
   "source": [
    "non_numeric = ['BMI_class', 'Height_class', 'Gender', 'Component', 'Branch']\n",
    "ansur_df = ansur_df.drop(non_numeric, axis=1)\n",
    "ansur_df.shape"
   ]
  },
  {
   "cell_type": "code",
   "execution_count": null,
   "id": "cbf94b7b-6f10-4821-9d19-0fdce41c5f34",
   "metadata": {},
   "outputs": [],
   "source": [
    "from sklearn.feature_selection import VarianceThreshold\n",
    "\n",
    "sel = VarianceThreshold(threshold=1)\n",
    "\n",
    "sel.fit(ansur_df)\n",
    "\n",
    "mask = sel.get_support() \n",
    "\n",
    "print(mask)"
   ]
  },
  {
   "cell_type": "code",
   "execution_count": null,
   "id": "491403f6-a6f8-49dc-b013-6e4756cdd5b0",
   "metadata": {},
   "outputs": [],
   "source": [
    "reduced_df = ansur_df.loc[:,mask]\n",
    "print(reduced_df.shape)"
   ]
  },
  {
   "cell_type": "markdown",
   "id": "9bfcd205-8d84-43ba-aeb3-fbd71ce01e05",
   "metadata": {},
   "source": [
    "There is a caveat when using the variance threshold selection technique: bigger values have bigger variances. To prevent problems linked to this normalize the values before performing the cleanup.\n",
    "\n"
   ]
  },
  {
   "cell_type": "code",
   "execution_count": null,
   "id": "7d95ca11-765a-4212-8889-fac6447ccb06",
   "metadata": {},
   "outputs": [],
   "source": [
    "sel = VarianceThreshold(threshold=0.005)\n",
    "\n",
    "sel.fit(ansur_df/ansur_df.mean())\n",
    "\n",
    "mask = sel.get_support() \n",
    "\n",
    "print(mask)"
   ]
  },
  {
   "cell_type": "code",
   "execution_count": null,
   "id": "804716e9-29da-437e-9c50-849dbb63b1ed",
   "metadata": {},
   "outputs": [],
   "source": [
    "reduced_df = ansur_df.loc[:,mask]\n",
    "print(reduced_df.shape)"
   ]
  },
  {
   "cell_type": "markdown",
   "id": "834dbae1-9bdb-47b7-ba9c-5f3d2ce95a17",
   "metadata": {},
   "source": [
    "Another reason to drop a feature is the amount of missing values."
   ]
  },
  {
   "cell_type": "code",
   "execution_count": null,
   "id": "22910dd3-9d11-4eb0-b5f4-41186353d700",
   "metadata": {},
   "outputs": [],
   "source": [
    "pokemon_df.isna().sum().value_counts()"
   ]
  },
  {
   "cell_type": "code",
   "execution_count": null,
   "id": "e5f4550d-4b3c-483d-b46e-a71987aade44",
   "metadata": {},
   "outputs": [],
   "source": [
    "mask = pokemon_df.isna().sum() / len(pokemon_df) < 0.3\n",
    "print (mask)"
   ]
  },
  {
   "cell_type": "code",
   "execution_count": null,
   "id": "f54d4b61-a546-4c7d-9fad-b636ab4d5952",
   "metadata": {},
   "outputs": [],
   "source": [
    "reduced_pokemon_df = pokemon_df.loc[:,mask]\n",
    "print(reduced_pokemon_df.shape)"
   ]
  },
  {
   "cell_type": "markdown",
   "id": "250c511f-0302-410a-a3ae-116614570e4f",
   "metadata": {},
   "source": [
    "When the number of missing values is low enough, instead of removing the feature we could apply **imputation** to filling in those missing values"
   ]
  },
  {
   "cell_type": "markdown",
   "id": "b22dad40-60f8-4e12-bb62-a5db50cea345",
   "metadata": {},
   "source": [
    "# Pairwise correlation\n",
    "\n",
    "Lets analize now how features relate to one another to decide if they are worth keeping\n",
    "\n",
    "The correlation coefficient $r$ tells us if 2 variables are positive or negative correlated, no correlated at all and the intensity of the correlation. Values are from [-1, 1]\n"
   ]
  },
  {
   "cell_type": "code",
   "execution_count": null,
   "id": "677a6b5f-c2e3-4d4c-bd36-6c6f8392fbe8",
   "metadata": {},
   "outputs": [],
   "source": [
    "ansur_m_df = pd.read_csv('../data/ANSUR_II_MALE.csv')\n",
    "ansur_f_df = pd.read_csv('../data/ANSUR_II_FEMALE.csv')\n",
    "\n",
    "ansur_df = pd.concat([ansur_m_df, ansur_f_df]) \n",
    "print(ansur_df.shape)\n",
    "\n",
    "ansur_df_small = ansur_df[['weight_kg', 'earlength', 'waistdepth']]"
   ]
  },
  {
   "cell_type": "code",
   "execution_count": null,
   "id": "717c0f37-bfb5-4765-a5b5-d393abeb03d9",
   "metadata": {},
   "outputs": [],
   "source": [
    "ansur_df_small.corr()"
   ]
  },
  {
   "cell_type": "code",
   "execution_count": null,
   "id": "c6a1ab09-9bc5-45f5-8942-332694af5ff8",
   "metadata": {},
   "outputs": [],
   "source": [
    "cmap = sns.diverging_palette(h_neg=10, h_pos=240, as_cmap=True)\n",
    "\n",
    "sns.heatmap(ansur_df_small.corr(), center=0, cmap=cmap, linewidths=1, annot=True, fmt=\".2f\")"
   ]
  },
  {
   "cell_type": "code",
   "execution_count": null,
   "id": "3154a519-218e-4c9e-9970-cec7cce4b8cf",
   "metadata": {},
   "outputs": [],
   "source": [
    "corr =ansur_df_small.corr()\n",
    "\n",
    "mask = np.triu(np.ones_like(corr, dtype=bool))\n",
    "\n",
    "mask"
   ]
  },
  {
   "cell_type": "code",
   "execution_count": null,
   "id": "72f9787f-fde9-438a-b6b7-2c9ba3bac830",
   "metadata": {},
   "outputs": [],
   "source": [
    "sns.heatmap(ansur_df_small.corr(), center=0, cmap=cmap, linewidths=1, annot=True, fmt=\".2f\", mask=mask)"
   ]
  },
  {
   "cell_type": "markdown",
   "id": "b205172b-3a31-4b58-a700-2a6d40889b52",
   "metadata": {},
   "source": [
    "## Removing Highly Correlated Features\n",
    "\n",
    "Perfectly correlated features dont add information but complexity to the dataset.\n",
    "\n"
   ]
  },
  {
   "cell_type": "code",
   "execution_count": null,
   "id": "992cd2d1-1c9f-4a43-a531-68a2d4eb1e98",
   "metadata": {},
   "outputs": [],
   "source": [
    "ansur_small = ansur_df[['suprasternaleheight', 'cervicaleheight', 'chestheight']]\n",
    "\n",
    "corr = ansur_small.corr()\n",
    "\n",
    "mask = np.triu(np.ones_like(corr, dtype=bool))\n",
    "\n",
    "sns.heatmap(corr, center=0, cmap=cmap, linewidths=1, annot=True, fmt=\".2f\", mask=mask)"
   ]
  },
  {
   "cell_type": "markdown",
   "id": "9141d7aa-3f82-4e7f-b036-0b0a92cd23b9",
   "metadata": {},
   "source": [
    "For these 3 features that are that highly correlated we can remove 2 and keep only one of them"
   ]
  },
  {
   "cell_type": "code",
   "execution_count": null,
   "id": "8514ea78-5ba8-4c3f-85ef-f07ae0351560",
   "metadata": {},
   "outputs": [],
   "source": [
    "corr_df = ansur_small.corr().abs()\n",
    "\n",
    "mask = np.triu(np.ones_like(corr_df, dtype=bool))\n",
    "\n",
    "sns.heatmap(corr_df, center=0, cmap=cmap, linewidths=1, annot=True, fmt=\".2f\", mask=mask)"
   ]
  },
  {
   "cell_type": "code",
   "execution_count": null,
   "id": "017b22c4-3fbd-4a4c-8527-2ffafa692f63",
   "metadata": {},
   "outputs": [],
   "source": [
    "tri_df = corr_df.mask(mask)\n",
    "tri_df"
   ]
  },
  {
   "cell_type": "code",
   "execution_count": null,
   "id": "c154a6f0-7f84-4916-af6b-bf798d09e00e",
   "metadata": {},
   "outputs": [],
   "source": [
    "to_drop = [c for c in tri_df.columns if any(tri_df[c]>0.95)]"
   ]
  },
  {
   "cell_type": "code",
   "execution_count": null,
   "id": "4040967f-eb3c-41f6-baf5-314ead1fa597",
   "metadata": {},
   "outputs": [],
   "source": [
    "print (to_drop)"
   ]
  },
  {
   "attachments": {
    "1e3815dc-b5fa-40cf-9d63-1d93d524ae8c.png": {
     "image/png": "[encoded data removed]"
    }
   },
   "cell_type": "markdown",
   "id": "5919d5ce-5abd-4f77-9971-92c4599d0e2b",
   "metadata": {},
   "source": [
    "Correlation works well when there is a liner relationship between the 2 variables and the amount of outliers is not significant.\n",
    "\n",
    "![image.png](attachment:1e3815dc-b5fa-40cf-9d63-1d93d524ae8c.png)\n",
    "\n",
    "Make sure you visualy check the data before blindly trust the correlation coefficient."
   ]
  },
  {
   "cell_type": "markdown",
   "id": "31e302a6-c3dd-4fea-9228-3e401a2acb69",
   "metadata": {},
   "source": [
    "# Selecting Features based on model performance\n",
    "\n",
    "Another aspect to take into account when sekecting features is using how they contribute to the model performance.\n",
    "\n"
   ]
  },
  {
   "cell_type": "code",
   "execution_count": null,
   "id": "c0f9602f-7a41-4b7c-a9b9-66954de98f8e",
   "metadata": {},
   "outputs": [],
   "source": [
    "X = ansur_df[['chestdepth', 'handlength', 'neckcircumference', 'shoulderlength', 'earlength']]\n",
    "\n",
    "y= ansur_df.Gender"
   ]
  },
  {
   "cell_type": "code",
   "execution_count": null,
   "id": "d684c2b5-17ed-415a-9c22-a06781cf6185",
   "metadata": {},
   "outputs": [],
   "source": [
    "from sklearn.model_selection import train_test_split\n",
    "from sklearn.preprocessing import StandardScaler\n",
    "from sklearn.linear_model import LogisticRegression\n",
    "from sklearn.metrics import accuracy_score\n",
    "\n",
    "X_train, X_test, y_train, y_test = train_test_split(X, y, test_size=0.3)\n",
    "\n",
    "scaler = StandardScaler()\n",
    "\n",
    "X_train_std = scaler.fit_transform(X_train)\n",
    "\n",
    "lr = LogisticRegression() \n",
    "\n",
    "lr.fit(X_train_std, y_train)\n",
    "\n",
    "X_test_std = scaler.transform(X_test)\n",
    "\n",
    "print (accuracy_score(y_test, lr.predict(X_test_std)))\n"
   ]
  },
  {
   "cell_type": "code",
   "execution_count": null,
   "id": "e8a81b8f-3fd0-4f92-a1bc-4c98490f9a5e",
   "metadata": {},
   "outputs": [],
   "source": [
    "print(lr.coef_)"
   ]
  },
  {
   "cell_type": "code",
   "execution_count": null,
   "id": "265a6478-0399-4023-a640-8088beb6d003",
   "metadata": {},
   "outputs": [],
   "source": [
    "print(dict(zip(X.columns, abs(lr.coef_[0]))))"
   ]
  },
  {
   "cell_type": "markdown",
   "id": "cf4a441a-b1da-47ad-9619-3e9b87404bce",
   "metadata": {},
   "source": [
    "The coefficients close to 0 dont contribute much to the performance of the model."
   ]
  },
  {
   "cell_type": "code",
   "execution_count": null,
   "id": "d34b83b2-acf6-48ff-a99a-ab81d709ec76",
   "metadata": {},
   "outputs": [],
   "source": [
    "X.drop(['handlength'], axis=1, inplace=True)\n",
    "\n",
    "X_train, X_test, y_train, y_test = train_test_split(X, y, test_size=0.3)\n",
    "\n",
    "scaler = StandardScaler()\n",
    "\n",
    "X_train_std = scaler.fit_transform(X_train)\n",
    "\n",
    "lr = LogisticRegression() \n",
    "\n",
    "lr.fit(X_train_std, y_train)\n",
    "\n",
    "X_test_std = scaler.transform(X_test)\n",
    "\n",
    "print (accuracy_score(y_test, lr.predict(X_test_std)))"
   ]
  },
  {
   "cell_type": "markdown",
   "id": "ce29ab7d-87e7-4fbd-9464-78f4df053b53",
   "metadata": {},
   "source": [
    "The model performance remains pretty similar, the model complexity has been reduced and most likely its capacity of generalization has increased.\n",
    "\n",
    "SciKit Learn has a tool for **Recursive Feature Elimination**. It trains the specified model using all the features available and keeps dropping them one by one and retraining till the *n_features_to_select* is achieved. This process is safer because instead of training once and dropping many features it trains the model several times so the coefficients are always up to date before dropping each feature."
   ]
  },
  {
   "cell_type": "code",
   "execution_count": null,
   "id": "b005eacd-f675-473b-9f09-a5e165f89b90",
   "metadata": {},
   "outputs": [],
   "source": [
    "from sklearn.feature_selection import RFE\n",
    "\n",
    "X = ansur_df[['chestdepth', 'handlength', 'neckcircumference', 'shoulderlength', 'earlength']]\n",
    "\n",
    "X_train, X_test, y_train, y_test = train_test_split(X, y, test_size=0.3)\n",
    "\n",
    "scaler = StandardScaler()\n",
    "\n",
    "X_train_std = scaler.fit_transform(X_train)\n",
    "X_test_std = scaler.transform(X_test)\n",
    "\n",
    "rfe = RFE(estimator=LogisticRegression(), n_features_to_select=2, verbose=1)\n",
    "\n",
    "rfe.fit(X_train_std, y_train)"
   ]
  },
  {
   "cell_type": "code",
   "execution_count": null,
   "id": "c0c4a2b0-d8d5-4d46-b306-f63bc8a2bfbe",
   "metadata": {},
   "outputs": [],
   "source": [
    "print(rfe.support_)"
   ]
  },
  {
   "cell_type": "code",
   "execution_count": null,
   "id": "7318ac46-85fa-4272-a3d9-5e9e856df2e5",
   "metadata": {},
   "outputs": [],
   "source": [
    "X.columns[rfe.support_]"
   ]
  },
  {
   "cell_type": "code",
   "execution_count": null,
   "id": "20e85e2f-4df3-4284-be0e-749880057e95",
   "metadata": {},
   "outputs": [],
   "source": [
    "# Shows in which iteration each column has been dropped\n",
    "print(dict(zip(X.columns, rfe.ranking_)))"
   ]
  },
  {
   "cell_type": "code",
   "execution_count": null,
   "id": "88067ee1-8e14-4ee6-a486-d3d172fb86b0",
   "metadata": {},
   "outputs": [],
   "source": [
    "print(accuracy_score(y_test, rfe.predict(X_test_std)))"
   ]
  },
  {
   "cell_type": "markdown",
   "id": "1f51c346-5dab-4ec1-9b36-b8a36bdd691f",
   "metadata": {},
   "source": [
    "The drop in performance is quite low compared to the drop in complexity of the model."
   ]
  },
  {
   "cell_type": "markdown",
   "id": "5e1b44af-0ad4-41cf-b3f6-55796b34331d",
   "metadata": {
    "execution": {
     "iopub.execute_input": "2024-09-03T07:57:30.297044Z",
     "iopub.status.busy": "2024-09-03T07:57:30.296476Z",
     "iopub.status.idle": "2024-09-03T07:57:30.302810Z",
     "shell.execute_reply": "2024-09-03T07:57:30.301344Z",
     "shell.execute_reply.started": "2024-09-03T07:57:30.297010Z"
    }
   },
   "source": [
    "# Tree-based feature selection\n",
    "\n",
    "Some models perform feature selection by design like random forest.\n"
   ]
  },
  {
   "cell_type": "code",
   "execution_count": null,
   "id": "0bb1803e-949d-4724-ac79-fcddb52d07b0",
   "metadata": {},
   "outputs": [],
   "source": [
    "from sklearn.ensemble import RandomForestClassifier\n",
    "from sklearn.metrics import accuracy_score\n",
    "\n",
    "non_numeric = ['BMI_class', 'Height_class', 'Gender', 'Component', 'Branch']\n",
    "\n",
    "X = ansur_df.drop(non_numeric + ['Gender'], axis=1)\n",
    "y = ansur_df['Gender']\n",
    "\n",
    "X_train, X_test, y_train, y_test = train_test_split(X, y, test_size=0.3)\n",
    "\n",
    "rf = RandomForestClassifier() \n",
    "rf.fit(X_train, y_train)\n",
    "\n",
    "print(accuracy_score(y_test, rf.predict(X_test)))"
   ]
  },
  {
   "cell_type": "markdown",
   "id": "bb21b3da-8ab8-4237-8709-02dca9fa8988",
   "metadata": {},
   "source": [
    "Training a randomForestClassifier on all the available features of ANSUR, the random forest seems to escape the Curse of Dimensionality and not overfit the training dataset.\n",
    "\n",
    "Based on how often a feature is used to take decissions and if the decissions using that feature are at the beginning of the decision process or at the end, the RandomForestClassifier provides us with a feature importance list."
   ]
  },
  {
   "cell_type": "code",
   "execution_count": null,
   "id": "f4ccf3b6-66ca-4ec1-95bc-02bc64dd3305",
   "metadata": {},
   "outputs": [],
   "source": [
    "import json\n",
    "\n",
    "print(json.dumps(dict(zip(X.columns, np.round(rf.feature_importances_,2))), indent=True))\n",
    "\n"
   ]
  },
  {
   "cell_type": "markdown",
   "id": "2499e826-2b90-4227-b513-ba8d51c5d6b0",
   "metadata": {},
   "source": [
    "This feature importance values can be used to perform feature selection!!"
   ]
  },
  {
   "cell_type": "code",
   "execution_count": null,
   "id": "bde71b98-98b8-4afe-975f-695ee3093f05",
   "metadata": {},
   "outputs": [],
   "source": [
    "mask = rf.feature_importances_ > 0.070\n",
    "X_small = X.loc[:, mask]\n",
    "print(X_small.columns)"
   ]
  },
  {
   "cell_type": "markdown",
   "id": "e74f3881-3b7d-4fc5-b8f0-9a213a233fa7",
   "metadata": {},
   "source": [
    "> **REMEMBER**: removing one feature can have an impact on the coefficients of other features"
   ]
  },
  {
   "cell_type": "code",
   "execution_count": null,
   "id": "5030b983-4142-4fc8-98af-85bb50e7c49e",
   "metadata": {},
   "outputs": [],
   "source": [
    "rfe = RFE(estimator=RandomForestClassifier(), n_features_to_select=6, verbose=1)\n",
    "rfe.fit(X_train, y_train)"
   ]
  },
  {
   "cell_type": "code",
   "execution_count": null,
   "id": "bbbb5d93-67f3-4dd1-af67-4ae534110537",
   "metadata": {},
   "outputs": [],
   "source": [
    "# The step parameter makes the process faster\n",
    "rfe = RFE(estimator=RandomForestClassifier(),step=10, n_features_to_select=6, verbose=1)\n",
    "rfe.fit(X_train, y_train)"
   ]
  },
  {
   "cell_type": "code",
   "execution_count": null,
   "id": "c642537e-5823-47bb-90d2-37c0fb0d76eb",
   "metadata": {},
   "outputs": [],
   "source": [
    "print(X.columns[rfe.support_])"
   ]
  },
  {
   "cell_type": "markdown",
   "id": "cc5bb679-7587-4ec4-b738-7f6416c4e7d3",
   "metadata": {},
   "source": [
    "# Regularized Linear Regression\n",
    "\n",
    "To avoid overfitting, in linear regression is often introduced a regularization term in the loss function, managed by a coefficient $\\alpha$, that is the sum of the absolute values of the feature coefficients. Like this, during the fitting process, we will tray to minimize this term too, reducing like that the size of the feature coefficients.\n",
    "\n",
    "Lasso is one variant of LinearRegression introducing this regularization term."
   ]
  },
  {
   "cell_type": "code",
   "execution_count": null,
   "id": "f4ec5fb0-7230-4535-83f6-177947e6d191",
   "metadata": {},
   "outputs": [],
   "source": [
    "from sklearn.linear_model import Lasso\n",
    "\n",
    "la = Lasso(alpha=0.005)\n",
    "\n",
    "#la.fit(X_train, y_train)\n",
    "print(la.coef_)\n",
    "\n",
    "# The y we currently have is a categorical one :("
   ]
  },
  {
   "cell_type": "markdown",
   "id": "2baf3f34-fbe6-43c5-9f5f-2b2b5068064e",
   "metadata": {},
   "source": [
    "LassoCV eases the process to find the best alpha value."
   ]
  },
  {
   "cell_type": "markdown",
   "id": "fcc3ec96-94b7-4c93-a35d-86f9d75c318b",
   "metadata": {
    "execution": {
     "iopub.execute_input": "2024-09-03T09:09:54.709485Z",
     "iopub.status.busy": "2024-09-03T09:09:54.708553Z",
     "iopub.status.idle": "2024-09-03T09:09:54.720089Z",
     "shell.execute_reply": "2024-09-03T09:09:54.718476Z",
     "shell.execute_reply.started": "2024-09-03T09:09:54.709421Z"
    }
   },
   "source": [
    "# Combining feature selectors\n",
    "\n",
    "We can use RFE with different estimators having the *.support_* parameter or *.coef_* != 0 after training to do a voting on which features to keep."
   ]
  },
  {
   "cell_type": "markdown",
   "id": "5306fd66-8131-4862-94eb-b531171c9120",
   "metadata": {},
   "source": [
    "# Feature extraction"
   ]
  },
  {
   "cell_type": "code",
   "execution_count": null,
   "id": "22f16c8d-d35e-4010-91d3-c3dba7f73bd8",
   "metadata": {},
   "outputs": [],
   "source": []
  }
 ],
 "metadata": {
  "kernelspec": {
   "display_name": "Python 3 (ipykernel)",
   "language": "python",
   "name": "python3"
  },
  "language_info": {
   "codemirror_mode": {
    "name": "ipython",
    "version": 3
   },
   "file_extension": ".py",
   "mimetype": "text/x-python",
   "name": "python",
   "nbconvert_exporter": "python",
   "pygments_lexer": "ipython3",
   "version": "3.12.4"
  }
 },
 "nbformat": 4,
 "nbformat_minor": 5
}
