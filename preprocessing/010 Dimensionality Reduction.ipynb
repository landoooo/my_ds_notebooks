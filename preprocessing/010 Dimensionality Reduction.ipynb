{
 "cells": [
  {
   "cell_type": "markdown",
   "id": "ca33f9ba-ad86-417b-a8d3-cc3940760e5c",
   "metadata": {},
   "source": [
    "# Introduction \n",
    "\n",
    "Working with **tidy data** makes our lives as data scientists way easier.\n",
    "\n",
    "We consider a dataset is of **high dimensionality** if it has more than 10 features.\n",
    "\n",
    "Before opting to reduce dimensionality of our dataset we have to understand it"
   ]
  },
  {
   "cell_type": "code",
   "execution_count": null,
   "id": "84c76163-33e5-4e15-b7d3-1e566cbfa6f6",
   "metadata": {},
   "outputs": [],
   "source": [
    "import pandas as pd \n",
    "import numpy as np \n",
    "import matplotlib.pyplot as plt \n",
    "import seaborn as sns \n",
    "import warnings \n",
    "\n",
    "warnings.filterwarnings('ignore')\n",
    "sns.set()\n"
   ]
  },
  {
   "cell_type": "code",
   "execution_count": null,
   "id": "29c4ddfa-559c-4544-a1a0-43128b515136",
   "metadata": {},
   "outputs": [],
   "source": [
    "pokemon_df = pd.read_csv('../data/pokemon.csv')"
   ]
  },
  {
   "cell_type": "code",
   "execution_count": null,
   "id": "5b9a8bb3-8a00-4eb8-b368-0d27a9ff6dd4",
   "metadata": {},
   "outputs": [],
   "source": [
    "pokemon_df.head()"
   ]
  },
  {
   "cell_type": "markdown",
   "id": "2ee0d771-e96b-4867-8008-85faf2f663a0",
   "metadata": {},
   "source": [
    "We can start reducing dimensionality by getting rid of those columns with no variance: having the same values for all the observations.\n",
    "\n",
    "We can have a look to the variance of each feature with the *.describe()* pandas method. Keep in mind this method ignores non numerical columns by default. "
   ]
  },
  {
   "cell_type": "code",
   "execution_count": null,
   "id": "f7c08919-9a45-49f0-b2e4-38f4a51b0989",
   "metadata": {},
   "outputs": [],
   "source": [
    "len(pokemon_df.columns)"
   ]
  },
  {
   "cell_type": "code",
   "execution_count": null,
   "id": "f78c06ff-e468-4b70-b4a6-e6c352b779ac",
   "metadata": {},
   "outputs": [],
   "source": [
    "pokemon_df.describe()"
   ]
  },
  {
   "cell_type": "code",
   "execution_count": null,
   "id": "88e316c3-30e1-481d-a74b-047cda889f34",
   "metadata": {},
   "outputs": [],
   "source": [
    "pokemon_df.describe(exclude='number')"
   ]
  },
  {
   "cell_type": "code",
   "execution_count": null,
   "id": "cd965651-eac8-41bd-9048-3d84fc3c3230",
   "metadata": {},
   "outputs": [],
   "source": [
    "pokemon_df.shape"
   ]
  },
  {
   "cell_type": "markdown",
   "id": "4a8ba14a-684a-436c-a356-6602f6da8209",
   "metadata": {},
   "source": [
    "Reducing dimensionality makes datasets: \n",
    "- be less complex\n",
    "- require less disk space\n",
    "- require less computation time\n",
    "- have a lower chance of model overfitting\n",
    "\n",
    "The simplest way to reduce dimensionality is to select only the features that are useful, but how to know who they are?\n",
    "\n",
    "# Feature Selection VS Feature Extractions\n",
    "\n",
    "## Feature selection\n",
    "\n",
    "We can perform feature selection based on expertise (knowing that a certain feature wont be of any used based on SME experience), based on correlation with other features, the lack of variance of a certain feature.\n",
    "\n",
    "## Feature extraction\n",
    "\n",
    "It also reduces dimensionality, but it calculates or extract new features based on originals.\n",
    "\n",
    "For datasets with numerous highly correlated features, dimensionality can be reduced using feature extraction.\n"
   ]
  },
  {
   "cell_type": "code",
   "execution_count": null,
   "id": "5b5f3e47-1fd3-45cd-af6c-5666df8b514c",
   "metadata": {},
   "outputs": [],
   "source": [
    "ansur_df = pd.read_csv('../data/ANSUR_II_MALE.csv')\n",
    "\n",
    "ansur_df.head()"
   ]
  },
  {
   "cell_type": "code",
   "execution_count": null,
   "id": "fcad4b1b-f652-486c-b91c-183acf31fb22",
   "metadata": {},
   "outputs": [],
   "source": [
    "ansur_df.shape"
   ]
  },
  {
   "cell_type": "code",
   "execution_count": null,
   "id": "b617691d-6536-4443-b2dc-36d5f006f0c1",
   "metadata": {},
   "outputs": [],
   "source": [
    "list(ansur_df.columns)"
   ]
  },
  {
   "cell_type": "code",
   "execution_count": null,
   "id": "02f40728-1c98-40c4-845f-7a3187682752",
   "metadata": {},
   "outputs": [],
   "source": [
    "ansur_df_1 = ansur_df[['weight_kg', 'earlength', 'waistdepth', 'Gender']]"
   ]
  },
  {
   "cell_type": "code",
   "execution_count": null,
   "id": "7dd2bfd3-da00-450e-968d-f6a761f5ed3c",
   "metadata": {},
   "outputs": [],
   "source": [
    "# Create a pairplot and color the points using the 'Gender' feature\n",
    "sns.pairplot(ansur_df_1, hue='Gender', diag_kind='hist')\n",
    "\n",
    "# Show the plot\n",
    "plt.show()"
   ]
  },
  {
   "cell_type": "code",
   "execution_count": null,
   "id": "b1458f45-96f1-48c6-b7e7-21102e7fa6f7",
   "metadata": {},
   "outputs": [],
   "source": [
    "ansur_df_1.shape"
   ]
  },
  {
   "cell_type": "markdown",
   "id": "bcfe0fb2-12bf-4148-9cb5-557d55230acb",
   "metadata": {
    "execution": {
     "iopub.execute_input": "2024-09-02T12:55:53.084839Z",
     "iopub.status.busy": "2024-09-02T12:55:53.083601Z",
     "iopub.status.idle": "2024-09-02T12:55:53.095462Z",
     "shell.execute_reply": "2024-09-02T12:55:53.094224Z",
     "shell.execute_reply.started": "2024-09-02T12:55:53.084758Z"
    }
   },
   "source": [
    "# t-SNE visualization of high-dimensional data\n",
    "\n",
    "t-Distributed Stochastic Neighbor Embedding or t-SNE it's just a powerful technique to visualize high dimensional data using feature extraction.\n",
    "\n",
    "t-SNE maximizes the distance in a two dimensional space between observations thata are most different in a high dimensional space.\n",
    "\n"
   ]
  },
  {
   "cell_type": "code",
   "execution_count": null,
   "id": "8d000c3c-739f-481a-b1f9-ec782a9f84c8",
   "metadata": {},
   "outputs": [],
   "source": [
    "ansur_f_df = pd.read_csv('../data/ANSUR_II_FEMALE.csv')\n",
    "\n",
    "ansur_f_df.head()"
   ]
  },
  {
   "cell_type": "code",
   "execution_count": null,
   "id": "a28d7be8-52b9-4c35-a607-5ba48db7db3d",
   "metadata": {},
   "outputs": [],
   "source": [
    "ansur_f_df.shape"
   ]
  },
  {
   "cell_type": "markdown",
   "id": "26414479-af1a-4535-ad67-985b7197bed0",
   "metadata": {},
   "source": [
    "Lets remove the non numerical columns first since t-SNE doesnt work with that. \n",
    "We could do smth like one hot encoding eventually."
   ]
  },
  {
   "cell_type": "code",
   "execution_count": null,
   "id": "a366026d-6e2d-4fa5-b0a2-cac286e9510a",
   "metadata": {},
   "outputs": [],
   "source": [
    "non_numeric = ['BMI_class', 'Height_class', 'Gender', 'Component', 'Branch']\n",
    "df_numeric = ansur_f_df.drop(non_numeric, axis=1)\n",
    "df_numeric.shape"
   ]
  },
  {
   "cell_type": "code",
   "execution_count": null,
   "id": "d137eb9b-4184-44d0-b5d2-5a97a1e909ea",
   "metadata": {},
   "outputs": [],
   "source": [
    "from sklearn.manifold import TSNE\n",
    "\n",
    "m = TSNE(learning_rate=50)"
   ]
  },
  {
   "cell_type": "code",
   "execution_count": null,
   "id": "24d19b33-fdea-476d-8f8e-f8f5a09462be",
   "metadata": {},
   "outputs": [],
   "source": [
    "tsne_features = m.fit_transform(df_numeric)\n",
    "\n",
    "tsne_features[1:4,:]"
   ]
  },
  {
   "cell_type": "code",
   "execution_count": null,
   "id": "4202ce73-b219-47f5-b018-29b0c7de7350",
   "metadata": {},
   "outputs": [],
   "source": [
    "ansur_f_df['x'] =tsne_features[:,0]\n",
    "ansur_f_df['y'] =tsne_features[:,1]\n"
   ]
  },
  {
   "cell_type": "code",
   "execution_count": null,
   "id": "1fa7ae8d-4d8e-46fe-ba43-83496b80d3b0",
   "metadata": {},
   "outputs": [],
   "source": [
    "sns.scatterplot(data=ansur_f_df, x='x', y='y')\n",
    "plt.show()"
   ]
  },
  {
   "cell_type": "code",
   "execution_count": null,
   "id": "1c263ef3-340d-4760-9969-4cf69dfc3813",
   "metadata": {},
   "outputs": [],
   "source": [
    "sns.scatterplot(data=ansur_f_df, x='x', y='y', hue='BMI_class')\n",
    "plt.show()"
   ]
  },
  {
   "cell_type": "code",
   "execution_count": null,
   "id": "cea6fc47-d9f9-4113-80f5-11009113a194",
   "metadata": {},
   "outputs": [],
   "source": [
    "sns.scatterplot(data=ansur_f_df, x='x', y='y', hue='Height_class')\n",
    "plt.show()"
   ]
  },
  {
   "cell_type": "code",
   "execution_count": null,
   "id": "458a6099-7b3e-4623-a555-632e62a47416",
   "metadata": {},
   "outputs": [],
   "source": []
  }
 ],
 "metadata": {
  "kernelspec": {
   "display_name": "Python 3 (ipykernel)",
   "language": "python",
   "name": "python3"
  },
  "language_info": {
   "codemirror_mode": {
    "name": "ipython",
    "version": 3
   },
   "file_extension": ".py",
   "mimetype": "text/x-python",
   "name": "python",
   "nbconvert_exporter": "python",
   "pygments_lexer": "ipython3",
   "version": "3.12.4"
  }
 },
 "nbformat": 4,
 "nbformat_minor": 5
}
