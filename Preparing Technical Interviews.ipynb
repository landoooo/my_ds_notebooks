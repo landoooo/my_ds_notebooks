{
 "cells": [
  {
   "cell_type": "markdown",
   "id": "95bdb416-f680-4994-9be5-c8fafeca0041",
   "metadata": {},
   "source": [
    "1. Programming and Coding"
   ]
  },
  {
   "cell_type": "markdown",
   "id": "e1489200-6031-4c10-af61-8e56d2ade3ce",
   "metadata": {},
   "source": [
    "\t1.\tWrite a function to calculate the mean, median, and mode of a dataset."
   ]
  },
  {
   "cell_type": "code",
   "execution_count": 22,
   "id": "d323f374-67e8-45fb-9d9d-f933aba00882",
   "metadata": {
    "execution": {
     "iopub.execute_input": "2024-12-02T09:34:17.300846Z",
     "iopub.status.busy": "2024-12-02T09:34:17.300285Z",
     "iopub.status.idle": "2024-12-02T09:34:17.312143Z",
     "shell.execute_reply": "2024-12-02T09:34:17.311057Z",
     "shell.execute_reply.started": "2024-12-02T09:34:17.300811Z"
    }
   },
   "outputs": [],
   "source": [
    "from typing import List, Tuple\n",
    "import numpy as np\n",
    "from collections import Counter\n",
    "from icecream import ic\n",
    "\n",
    "dataset = [1,2,3,4,5,6,7,7]\n",
    "\n",
    "def stats(dataset: list[int]) -> Tuple[float, float, float]:\n",
    "    if (len(dataset)>0):\n",
    "        mean = np.sum(dataset)/len(dataset)\n",
    "     \n",
    "        if (len(dataset)%2==0):\n",
    "            median = ((dataset[len(dataset)//2-1] + dataset[len(dataset)//2]))/2\n",
    "        else: \n",
    "            median = dataset[len(dataset)//2]\n",
    "\n",
    "        mode = Counter(dataset).most_common(1)[0][0]\n",
    "        return (mean, median, mode)\n",
    "        \n",
    "    else:\n",
    "        raise ValueError('The dataset cannot be empty')\n"
   ]
  },
  {
   "cell_type": "code",
   "execution_count": null,
   "id": "26f5f528-2701-4e37-95b6-682b6ed02581",
   "metadata": {
    "execution": {
     "iopub.execute_input": "2024-12-02T09:49:32.675827Z",
     "iopub.status.busy": "2024-12-02T09:49:32.675275Z",
     "iopub.status.idle": "2024-12-02T09:49:32.940463Z",
     "shell.execute_reply": "2024-12-02T09:49:32.934144Z",
     "shell.execute_reply.started": "2024-12-02T09:49:32.675794Z"
    }
   },
   "outputs": [],
   "source": [
    "assert stats([0]) == (0,0,0)\n",
    "assert stats([1,1]) == (1,1,1)\n",
    "assert stats([1,2,3]) == (2,2,1)\n",
    "assert stats([0,0,2,2]) == (1,1,0)\n"
   ]
  },
  {
   "cell_type": "markdown",
   "id": "03234df6-9bfc-495a-9252-fd23fd52d510",
   "metadata": {},
   "source": [
    "\t2.\tReverse a string or list in Python."
   ]
  },
  {
   "cell_type": "code",
   "execution_count": null,
   "id": "c267a2a3-bc66-4771-9810-2635a4a48fb1",
   "metadata": {
    "execution": {
     "iopub.execute_input": "2024-12-02T09:50:36.841553Z",
     "iopub.status.busy": "2024-12-02T09:50:36.841000Z",
     "iopub.status.idle": "2024-12-02T09:50:36.892102Z",
     "shell.execute_reply": "2024-12-02T09:50:36.890488Z",
     "shell.execute_reply.started": "2024-12-02T09:50:36.841518Z"
    }
   },
   "outputs": [],
   "source": [
    "to_reverse = [1,2,3]\n",
    "reverse = to_reverse[::-1]\n",
    "ic(reverse)"
   ]
  },
  {
   "cell_type": "markdown",
   "id": "e564dddc-36b0-4b7c-b84e-4197e5d454b1",
   "metadata": {},
   "source": [
    "\t3.\tExplain the difference between a list and a tuple in Python."
   ]
  },
  {
   "cell_type": "code",
   "execution_count": null,
   "id": "455e220d-9c76-46e8-92f6-9c82ce5d17b3",
   "metadata": {
    "execution": {
     "iopub.execute_input": "2024-12-02T09:51:11.079006Z",
     "iopub.status.busy": "2024-12-02T09:51:11.078147Z",
     "iopub.status.idle": "2024-12-02T09:51:11.092809Z",
     "shell.execute_reply": "2024-12-02T09:51:11.091377Z",
     "shell.execute_reply.started": "2024-12-02T09:51:11.078963Z"
    }
   },
   "outputs": [],
   "source": [
    "my_tuple = (1, 2, 4)\n",
    "my_tuple[1]"
   ]
  },
  {
   "cell_type": "markdown",
   "id": "107f6895-98e6-4c83-aabf-5ea473615c55",
   "metadata": {},
   "source": [
    "\t4.\tHow do you handle missing data in a dataset?\n",
    "    "
   ]
  },
  {
   "cell_type": "markdown",
   "id": "bb4def58-c4bf-4e71-a955-424aee646f3b",
   "metadata": {},
   "source": [
    "First, lets analyze the origin and type of missing values: \n",
    "- Missing completely at random: the missing happens with no relation to any value\n",
    "- Missing at random: the missing happens with relation to another value of the observation\n",
    "- Missing not at random: the value of the missing feature determines if its missing or not\n",
    "\n",
    "To handle missing data, you can either:\n",
    "- Remove rows or columns with missing values if they are few.\n",
    "- Impute missing values using mean, median, mode, or advanced techniques like k-NN or regression.\n",
    "- Flag missing values with an indicator variable.\n",
    "- Use models that can handle missing values directly, like decision trees or XGBoost."
   ]
  },
  {
   "cell_type": "markdown",
   "id": "16adb12f-e468-4de6-b03d-729cba06b2c2",
   "metadata": {},
   "source": [
    "\t5.\tImplement a binary search algorithm."
   ]
  },
  {
   "cell_type": "code",
   "execution_count": null,
   "id": "6816bc4b-9334-40f1-a2ac-93dbe434a3fe",
   "metadata": {},
   "outputs": [],
   "source": []
  },
  {
   "cell_type": "code",
   "execution_count": null,
   "id": "68bc1f3f-84c4-43ea-a9b6-4c254a806b10",
   "metadata": {
    "execution": {
     "iopub.execute_input": "2024-12-02T13:43:35.195834Z",
     "iopub.status.busy": "2024-12-02T13:43:35.195167Z",
     "iopub.status.idle": "2024-12-02T13:43:37.351932Z",
     "shell.execute_reply": "2024-12-02T13:43:37.349019Z",
     "shell.execute_reply.started": "2024-12-02T13:43:35.195800Z"
    }
   },
   "outputs": [],
   "source": [
    "doc = np.arange(10)\n",
    "\n",
    "def bin_search(docs: List[int], x: int, a:int, z:int) -> int:\n",
    "    ic(a)\n",
    "    ic(z)\n",
    "    if (a == z):\n",
    "        print('equals')\n",
    "        return (z)\n",
    "    else: \n",
    "        if docs[(z+a)//2]==x:\n",
    "            print('middle')\n",
    "            ic(z//2)\n",
    "            return (z//2)\n",
    "        elif docs[(z+a)//2]>x:\n",
    "            print('first half')\n",
    "            bin_search(docs, x, a, (z+a)//2)\n",
    "        else:\n",
    "            print('second half')\n",
    "            bin_search(docs, x, (z+a)//2, z)\n",
    "\n",
    "ic(doc)\n",
    "print(bin_search(doc, 1, 0, 9))"
   ]
  },
  {
   "cell_type": "markdown",
   "id": "d0194d9f-3f2a-46a0-9f29-8ce463ebe860",
   "metadata": {},
   "source": [
    "\t6.\tWrite SQL queries to find duplicates in a table."
   ]
  },
  {
   "cell_type": "code",
   "execution_count": null,
   "id": "c469a3c6-0a71-4fc6-bad1-0d2196740c0d",
   "metadata": {},
   "outputs": [],
   "source": [
    "SELECT COUNT(*) as count, col1, col2, col3, col4 \n",
    "FROM table\n",
    "GROUP BY col1, col2, col3, col4\n",
    "HAVING count > 1"
   ]
  },
  {
   "cell_type": "markdown",
   "id": "ae3a5709-d6c6-4bc5-97c6-7815ae8ec96a",
   "metadata": {},
   "source": [
    "\t7.\tWrite a Python function to calculate the Levenshtein distance between two strings."
   ]
  },
  {
   "cell_type": "code",
   "execution_count": null,
   "id": "7a82cfe0-eb8a-4629-8f0e-2245771f42e1",
   "metadata": {},
   "outputs": [],
   "source": []
  },
  {
   "cell_type": "markdown",
   "id": "a9ab42ba-a9b6-4b6c-9563-4d1110229916",
   "metadata": {},
   "source": [
    "\t8.\tHow do you optimize code performance in Python?"
   ]
  },
  {
   "cell_type": "code",
   "execution_count": null,
   "id": "6fa12877-1a0b-42c9-8649-7da662ae59f7",
   "metadata": {},
   "outputs": [],
   "source": [
    "Split data in chunks, delete unused objects, list comprehensions..."
   ]
  },
  {
   "cell_type": "markdown",
   "id": "6c499d5b-9a4f-4273-ac21-e289577e6f7f",
   "metadata": {},
   "source": [
    "\t9.\tExplain the difference between shallow and deep copy in Python."
   ]
  },
  {
   "cell_type": "code",
   "execution_count": null,
   "id": "7b0b101a-a38e-4343-9db0-e136eb04c7fa",
   "metadata": {},
   "outputs": [],
   "source": [
    "Shallow copy creates a copy but keeps references to the original nested objects.\n",
    "Deep copy recursively copies nested objects too"
   ]
  },
  {
   "cell_type": "code",
   "execution_count": 62,
   "id": "f1b80405-4362-492f-ad3f-2ad66b35a169",
   "metadata": {
    "execution": {
     "iopub.execute_input": "2024-12-02T14:38:44.678448Z",
     "iopub.status.busy": "2024-12-02T14:38:44.677968Z",
     "iopub.status.idle": "2024-12-02T14:38:44.685594Z",
     "shell.execute_reply": "2024-12-02T14:38:44.684025Z",
     "shell.execute_reply.started": "2024-12-02T14:38:44.678415Z"
    }
   },
   "outputs": [],
   "source": [
    "import copy \n",
    "\n",
    "copy.copy(None) # shallow\n",
    "copy.deepcopy(None) # deep"
   ]
  },
  {
   "cell_type": "markdown",
   "id": "48a851c6-3eb3-429b-aebb-efcc018c9f04",
   "metadata": {},
   "source": [
    "\t10.\tImplement a machine learning model from scratch (e.g., linear regression or decision tree)."
   ]
  },
  {
   "cell_type": "code",
   "execution_count": null,
   "id": "b528a7f8-ae5e-4555-8851-29d7508c236f",
   "metadata": {
    "execution": {
     "iopub.execute_input": "2024-12-02T14:44:06.746802Z",
     "iopub.status.busy": "2024-12-02T14:44:06.746307Z",
     "iopub.status.idle": "2024-12-02T14:44:06.787131Z",
     "shell.execute_reply": "2024-12-02T14:44:06.784870Z",
     "shell.execute_reply.started": "2024-12-02T14:44:06.746769Z"
    }
   },
   "outputs": [],
   "source": [
    "from sklearn.linear_model import LinearRegression\n",
    "import pandas as pd \n",
    "\n",
    "lr = LinearRegression() \n",
    "\n",
    "data = pd.DataFrame(data=[[0,1],[12,4],[1,3],[5,0]], columns=['x', 'y'])\n",
    "\n",
    "lr.fit(data[['x']], data[['y']])"
   ]
  },
  {
   "cell_type": "code",
   "execution_count": null,
   "id": "0ec253d8-0f1b-4e15-a1cd-4cc6a939d5dc",
   "metadata": {
    "execution": {
     "iopub.execute_input": "2024-12-02T14:44:12.891521Z",
     "iopub.status.busy": "2024-12-02T14:44:12.890858Z",
     "iopub.status.idle": "2024-12-02T14:44:12.901104Z",
     "shell.execute_reply": "2024-12-02T14:44:12.899912Z",
     "shell.execute_reply.started": "2024-12-02T14:44:12.891487Z"
    }
   },
   "outputs": [],
   "source": [
    "lr.coef_"
   ]
  },
  {
   "cell_type": "code",
   "execution_count": null,
   "id": "5d386f2c-8367-4926-abab-e4ec0c9b8478",
   "metadata": {
    "execution": {
     "iopub.execute_input": "2024-12-09T13:31:21.065998Z",
     "iopub.status.busy": "2024-12-09T13:31:21.065511Z",
     "iopub.status.idle": "2024-12-09T13:31:21.078684Z",
     "shell.execute_reply": "2024-12-09T13:31:21.077426Z",
     "shell.execute_reply.started": "2024-12-09T13:31:21.065964Z"
    }
   },
   "outputs": [],
   "source": [
    "import numpy as np\n",
    "np.array([34.62, True], dtype=np.int8).astype('<U5')"
   ]
  },
  {
   "cell_type": "code",
   "execution_count": null,
   "id": "ebf50d1f-6822-424e-8b0d-d5033a5480cc",
   "metadata": {},
   "outputs": [],
   "source": []
  }
 ],
 "metadata": {
  "kernelspec": {
   "display_name": "Python 3 (ipykernel)",
   "language": "python",
   "name": "python3"
  },
  "language_info": {
   "codemirror_mode": {
    "name": "ipython",
    "version": 3
   },
   "file_extension": ".py",
   "mimetype": "text/x-python",
   "name": "python",
   "nbconvert_exporter": "python",
   "pygments_lexer": "ipython3",
   "version": "3.11.10"
  }
 },
 "nbformat": 4,
 "nbformat_minor": 5
}
