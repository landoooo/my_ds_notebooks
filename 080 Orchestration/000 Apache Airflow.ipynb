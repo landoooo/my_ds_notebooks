{
 "cells": [
  {
   "cell_type": "markdown",
   "id": "12a79196-ecb4-4a2b-b520-95c2567dce47",
   "metadata": {},
   "source": [
    "# Workflows \n",
    "\n",
    "A **workflow** is a set of steps to accomplish a given data engineering task.\n",
    "\n",
    "Its complexity varies from one to another.\n",
    "\n",
    "Depending on the context, workflows can refer to different things.\n",
    "\n",
    "# Airflow \n",
    "\n",
    "**Airflow** is a platform to program workfows, including creation, scheduling and monitoring of the created workflows \n",
    "\n",
    "Airflow implements workflows as DAGs (Directed Acyclic Graphs)\n",
    "\n",
    "Airflow can be accessed via python code (mostly for dag creation), command line (used for running dags manually, start processes or get logging information) or via web interface or rest api\n",
    "\n",
    "Alternatives to Airflow are Luigi, SSIS or even bash scripts.\n",
    "\n",
    "# Directed Acyclic Graphs \n",
    "\n",
    "set of tasks that make up a workflow and the dependencies between tasks\n",
    "\n",
    "created with various details about the dag, including the name, start date, owner...\n",
    "\n",
    "They are **directed** because there is an inherent flow representing dependencies between components\n",
    "\n",
    "They are **acyclic** because there are not loops \n",
    "\n",
    "They are depicted as **graphs** \n",
    "\n",
    "DAGs in airflow are written in python. Components are called **tasks** and they can be operators, sensors...\n",
    "\n",
    "Dags in airflow contain dependencies defined explicitly or implicitly.\n",
    "\n"
   ]
  },
  {
   "cell_type": "code",
   "execution_count": null,
   "id": "f88f5c9e-0056-426d-8225-e654c906cc3f",
   "metadata": {},
   "outputs": [],
   "source": [
    "from airflow import DAG \n",
    "import datetime \n",
    "\n",
    "etl_dag = DAG(\n",
    "    dag_id = 'etl_pipeline',\n",
    "    default_args={'start_date': '2024-01-08'}, \n",
    "    schedule=datetime.timedelta(days=1)\n",
    ")"
   ]
  },
  {
   "cell_type": "code",
   "execution_count": null,
   "id": "2a468b7c-d8a4-490f-9c32-6d687f00a5bc",
   "metadata": {},
   "outputs": [],
   "source": [
    "!airflow tasks test <dag_id> <task_id> [execution_date]"
   ]
  },
  {
   "cell_type": "code",
   "execution_count": null,
   "id": "51f6b123-1e51-4a0e-8cc9-2479f9a7074f",
   "metadata": {},
   "outputs": [],
   "source": [
    "default_arguments={\n",
    "    'owner': 'jdoe', \n",
    "    'email': 'jdoe@datacamp.com', \n",
    "    'start_date': datetime.datetime(2024, 1, 10)\n",
    "}\n",
    "\n",
    "with DAG('etl_workflow', default_args=default_arguments) as etl_dag: \n",
    "    print('hi')\n",
    "    "
   ]
  },
  {
   "cell_type": "markdown",
   "id": "c8d8127f-0011-42a3-896a-36a8053f4ef5",
   "metadata": {},
   "source": [
    "# Operators \n",
    "\n",
    "In airflow, an **operator** is a single task in a workflow. \n",
    "\n",
    "In general, an operator run independently and do not share information.\n",
    "\n",
    "## BashOperator"
   ]
  },
  {
   "cell_type": "markdown",
   "id": "8728fe10-796b-434e-811f-d9be68bd32e5",
   "metadata": {},
   "source": [
    "## PythonOperator"
   ]
  },
  {
   "cell_type": "markdown",
   "id": "5ef5b369-f956-4728-8f15-0e18f58dcf8c",
   "metadata": {},
   "source": [
    "## EmailOperator"
   ]
  },
  {
   "cell_type": "markdown",
   "id": "54696d11-ca11-4fde-8643-f2a02b551adf",
   "metadata": {},
   "source": [
    "# Sensors\n",
    "\n",
    "A **sensor** is an operator that waits for a certain condition yo be true. Conditions could be the creation of a file,the upload of a database record, certain response from a web request... \n",
    "Sensors allow to define how often to check for the condition to be true. \n",
    "\n",
    "Sensors have arguments like: \n",
    "- mode: how to check for the condition. Can be *poke* or *reschedule*.\n",
    "- poke_interval: how often to wait between checks in the poke mode.\n",
    "- timeout: how long to wait before failing the task\n",
    "\n",
    "Since sensors are operators, they include common attributes like task_id or dag.\n",
    "\n",
    "## FileSensor\n",
    "\n",
    "Part of the `airflow.sensors` library.\n",
    "\n",
    "Checks for the existence of a file at a certain location \n",
    "\n",
    "Can also check if any files exist within a directory\n",
    "\n",
    "## ExternalTaskSensor\n",
    "\n",
    "Waits for a task in another DAG to complete\n",
    "\n",
    "## HttpSensor \n",
    "\n",
    "## SqlSensor\n",
    "\n",
    "# Sensor VS Operators \n",
    "\n",
    "Sensors should be used whenever: \n",
    "- Uncertainty when it will be true\n",
    "- If failure not immediately desired\n",
    "- To add task repetition without loops\n",
    "\n",
    "# Executors \n",
    "\n",
    "**Executors** run tasks \n",
    "\n",
    "Different executors handle running the tasks differently \n",
    "\n",
    "`SequentialExecutor` (default, one task at a time, useful for debugging, not recommended for production), `LocalExecutor` (runs on a single system, treats tasks as processes, parallelism defined by the user), `KubernetesExecutor` (uses Kubernetes as task manager, multiple worker systems can be defined, is significantly more difficult to setup and configure, extremely powerful)... \n",
    "\n",
    "The executor is set in the `airflow.cfg` file. The command `airflow info` displays that information too. \n",
    "\n"
   ]
  },
  {
   "cell_type": "code",
   "execution_count": null,
   "id": "f2bdab5f-f87f-4d61-85d3-045bcdc83c80",
   "metadata": {},
   "outputs": [],
   "source": [
    "!airflow info"
   ]
  },
  {
   "cell_type": "markdown",
   "id": "c1947795-a317-4328-b594-666fe947a714",
   "metadata": {},
   "source": [
    "# Templates\n",
    "\n",
    "# Branching"
   ]
  }
 ],
 "metadata": {
  "kernelspec": {
   "display_name": "Python 3 (ipykernel)",
   "language": "python",
   "name": "python3"
  },
  "language_info": {
   "codemirror_mode": {
    "name": "ipython",
    "version": 3
   },
   "file_extension": ".py",
   "mimetype": "text/x-python",
   "name": "python",
   "nbconvert_exporter": "python",
   "pygments_lexer": "ipython3",
   "version": "3.11.10"
  }
 },
 "nbformat": 4,
 "nbformat_minor": 5
}
