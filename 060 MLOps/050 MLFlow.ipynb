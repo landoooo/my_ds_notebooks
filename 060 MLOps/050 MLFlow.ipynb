{
 "cells": [
  {
   "cell_type": "markdown",
   "id": "62a4606a-7a79-4e4e-9142-54bfbe07d38d",
   "metadata": {},
   "source": [
    "# Introduction to MLFlow \n",
    "\n",
    "MLFlow its an open source platform that tries to tackle the Machine Learning specific steps not included in the traditional software development lifecycle.\n",
    "\n",
    "MLFlow covers: \n",
    "- Experiment tracking\n",
    "- Reproducibility\n",
    "- Deployment\n",
    "- Model Registry\n",
    "\n",
    "4 major components: \n",
    "- **MLFlow Tracking**: record metrics and parameters from training runs, query data from experiments and store models, artifacts and code.\n",
    "- **MLFlow Models**: Standardize models for deployment, build customized models\n",
    "- **Model Registry**: Store and version ML models\n",
    "- **Model Projects**: Package ML code for reproducibility and repeatability\n",
    "\n",
    "In MLFlow an **experiment** is a record of a model training round. They can be created and deleted and its tags, set. \n",
    "\n"
   ]
  },
  {
   "cell_type": "code",
   "execution_count": null,
   "id": "4b5ef7e5-4103-4395-be62-d75a4a77c013",
   "metadata": {},
   "outputs": [],
   "source": [
    "import mlflow \n",
    "\n",
    "mlflow.create_experiment('My first experiment')"
   ]
  },
  {
   "cell_type": "code",
   "execution_count": null,
   "id": "06d4f158-1fa7-42d3-98fa-a7d2e042aba3",
   "metadata": {},
   "outputs": [],
   "source": [
    "mlflow.get_tracking_uri()"
   ]
  },
  {
   "cell_type": "code",
   "execution_count": null,
   "id": "d701abb9-3768-42c5-9567-894b967bf455",
   "metadata": {},
   "outputs": [],
   "source": [
    "mlflow.set_experiment_tag('scikit-learn', 'lr')\n",
    "mlflow.set_experiment('My first experiment')"
   ]
  },
  {
   "cell_type": "markdown",
   "id": "d7326430-a8ad-4def-8ef5-f3f12458e078",
   "metadata": {},
   "source": [
    "# MLFlow tracking\n",
    "\n",
    "- Model Metrics\n",
    "- Parameters\n",
    "- Code\n",
    "- Other artifacts\n",
    "\n",
    "MLFlow is organized in training runs \n",
    "\n",
    "New run == new model training \n",
    "\n",
    "A run in placed within an experiment \n"
   ]
  },
  {
   "cell_type": "code",
   "execution_count": null,
   "id": "a1fed92a-160b-4f7a-8158-a542a6e76f19",
   "metadata": {},
   "outputs": [],
   "source": [
    "run = mlflow.start_run()\n",
    "\n",
    "run.info"
   ]
  },
  {
   "cell_type": "markdown",
   "id": "f1b29a3b-5aaa-42b4-8d96-edb55f76f840",
   "metadata": {},
   "source": [
    "## Logging to MLFlow Tracking\n",
    "\n",
    "### Metrics "
   ]
  },
  {
   "cell_type": "code",
   "execution_count": null,
   "id": "7c0f46fc-427c-4210-9814-51b498006899",
   "metadata": {},
   "outputs": [],
   "source": [
    "mlflow.log_metric('accuracy', 0.9)\n",
    "mlflow.log_metrics({'accuracy': 0.9, 'loss': 0.5})"
   ]
  },
  {
   "cell_type": "markdown",
   "id": "22e16dbd-41a7-4ae5-81a0-434e68730515",
   "metadata": {},
   "source": [
    "### Parameters "
   ]
  },
  {
   "cell_type": "code",
   "execution_count": null,
   "id": "ca17c772-8d1a-4d9c-a486-d5cadc8116ce",
   "metadata": {},
   "outputs": [],
   "source": [
    "mlflow.log_param('n_jobs', 1)\n",
    "mlflow.log_params({'n_jobs': 1, 'fir_intercept': False})"
   ]
  },
  {
   "cell_type": "code",
   "execution_count": null,
   "id": "4f817fc5-869d-46b9-adf8-10b10b878cdd",
   "metadata": {},
   "outputs": [],
   "source": []
  },
  {
   "cell_type": "markdown",
   "id": "c14acf89-0255-4410-b5d2-372678e21f63",
   "metadata": {},
   "source": [
    "### Artifacts"
   ]
  },
  {
   "cell_type": "code",
   "execution_count": null,
   "id": "bb069cd8-b903-4b36-af54-67649ba663e7",
   "metadata": {},
   "outputs": [],
   "source": [
    "# mlflow.log_artifact('file.py')\n",
    "# mlflow.log_artifacts('./directory/')"
   ]
  },
  {
   "cell_type": "code",
   "execution_count": null,
   "id": "2fc581f6-cd1b-4c68-9ab2-b5f9f0150470",
   "metadata": {},
   "outputs": [],
   "source": [
    "mlflow.end_run()"
   ]
  },
  {
   "cell_type": "code",
   "execution_count": null,
   "id": "a61c28fb-a860-43cb-a640-4095bb570645",
   "metadata": {},
   "outputs": [],
   "source": [
    "import pandas as pd\n",
    "from sklearn.model_selection import train_test_split\n",
    "from sklearn.linear_model import LinearRegression\n",
    "from sklearn.metrics import mean_squared_error, r2_score\n",
    "import mlflow\n",
    "import mlflow.sklearn\n",
    "\n",
    "# Crear un conjunto de datos pequeño\n",
    "data = {\n",
    "    'experience': [1, 2, 3, 4, 5, 6, 7, 8, 9, 10],\n",
    "    'salary': [45000, 50000, 60000, 65000, 70000, 80000, 85000, 90000, 100000, 105000]\n",
    "}\n",
    "df = pd.DataFrame(data)\n",
    "\n",
    "# Definir las características (X) y el objetivo (y)\n",
    "X = df[['experience']]\n",
    "y = df['salary']\n",
    "\n",
    "# Dividir los datos en conjunto de entrenamiento y prueba\n",
    "X_train, X_test, y_train, y_test = train_test_split(X, y, test_size=0.2, random_state=42)\n",
    "\n",
    "# Configurar el experimento de MLflow\n",
    "mlflow.set_experiment(\"Salary Prediction Linear Regression\")\n",
    "\n",
    "with mlflow.start_run():\n",
    "    # Crear y entrenar el modelo\n",
    "    model = LinearRegression()\n",
    "    model.fit(X_train, y_train)\n",
    "\n",
    "    # Hacer predicciones\n",
    "    y_pred = model.predict(X_test)\n",
    "\n",
    "    # Calcular métricas de rendimiento\n",
    "    mse = mean_squared_error(y_test, y_pred)\n",
    "    r2 = r2_score(y_test, y_pred)\n",
    "\n",
    "    # Registrar el modelo y las métricas en MLflow\n",
    "    mlflow.log_param(\"test_size\", 0.2)\n",
    "    mlflow.log_param(\"random_state\", 42)\n",
    "    \n",
    "    mlflow.log_metric(\"mse\", mse)\n",
    "    mlflow.log_metric(\"r2_score\", r2)\n",
    "\n",
    "    mlflow.sklearn.log_model(model, \"linear_regression_model\")\n",
    "\n",
    "    print(f\"Mean Squared Error: {mse}\")\n",
    "    print(f\"R2 Score: {r2}\")"
   ]
  },
  {
   "cell_type": "code",
   "execution_count": null,
   "id": "01c805f6-a08f-4336-9731-ef3ded831895",
   "metadata": {},
   "outputs": [],
   "source": [
    "!mlflow ui"
   ]
  },
  {
   "cell_type": "markdown",
   "id": "d1f60831-7a68-42b6-bd11-95c32863b374",
   "metadata": {},
   "source": [
    "## Querying runs"
   ]
  },
  {
   "cell_type": "code",
   "execution_count": null,
   "id": "ef93cef2-9846-4706-a0fd-c0a01b09fd22",
   "metadata": {},
   "outputs": [],
   "source": [
    "runs = mlflow.search_runs()\n",
    "runs"
   ]
  },
  {
   "cell_type": "code",
   "execution_count": null,
   "id": "b8235d52-90b7-43d1-9d3d-8645f9c241c9",
   "metadata": {},
   "outputs": [],
   "source": [
    "r_squared_filter = \"metrics.r2_score > .70\"\n",
    "\n",
    "# Search runs\n",
    "mlflow.search_runs(experiment_names=[\"Salary Prediction Linear Regression\", \"Unicorn Other Experiments\"], \n",
    "                   filter_string=r_squared_filter, \n",
    "                   order_by=[\"metrics.r2_score DESC\"])"
   ]
  },
  {
   "cell_type": "markdown",
   "id": "57adf3ac-8ef4-45b6-99a7-958e859b74c7",
   "metadata": {},
   "source": [
    "# MLFlow Models\n",
    "\n",
    "Flavors to ease and uniform dealing with models from kears, tensorflow, pytorch, scikit-learn, xgboost, spark...\n",
    "\n",
    "Some flavors support **Autolog**, like the sklearn one."
   ]
  },
  {
   "cell_type": "code",
   "execution_count": null,
   "id": "4cb9b68c-8987-444e-8adb-73c60c2417cc",
   "metadata": {},
   "outputs": [],
   "source": [
    "mlflow.sklearn.autolog()\n",
    "\n",
    "# Crear un conjunto de datos pequeño\n",
    "data = {\n",
    "    'experience': [1, 2, 3, 4, 5, 6, 7, 8, 9, 10],\n",
    "    'salary': [45000, 50000, 60000, 65000, 70000, 80000, 85000, 90000, 100000, 105000]\n",
    "}\n",
    "df = pd.DataFrame(data)\n",
    "\n",
    "# Definir las características (X) y el objetivo (y)\n",
    "X = df[['experience']]\n",
    "y = df['salary']\n",
    "\n",
    "# Dividir los datos en conjunto de entrenamiento y prueba\n",
    "X_train, X_test, y_train, y_test = train_test_split(X, y, test_size=0.2, random_state=42)\n",
    "\n",
    "# Iniciar el seguimiento del experimento de MLflow\n",
    "with mlflow.start_run():\n",
    "    # Crear y entrenar el modelo\n",
    "    model = LinearRegression()\n",
    "    model.fit(X_train, y_train)\n",
    "\n",
    "    # Hacer predicciones\n",
    "    y_pred = model.predict(X_test)\n",
    "\n",
    "    # Calcular métricas de rendimiento\n",
    "    mse = mean_squared_error(y_test, y_pred)\n",
    "    r2 = r2_score(y_test, y_pred)\n",
    "\n",
    "    # Los parámetros, métricas y el modelo se registran automáticamente con autolog\n",
    "    print(f\"Mean Squared Error: {mse}\")\n",
    "    print(f\"R2 Score: {r2}\")"
   ]
  },
  {
   "cell_type": "code",
   "execution_count": null,
   "id": "6f99279a-7db7-4c8d-9e93-b2f395c865da",
   "metadata": {},
   "outputs": [],
   "source": [
    "mlflow.search_runs()"
   ]
  },
  {
   "cell_type": "markdown",
   "id": "22d6a689-a687-4faa-b6c5-7f6c5fbfc198",
   "metadata": {},
   "source": [
    "# MLFlow Rest API\n",
    "\n",
    "MLFlow has rest APIs to interact with the different elements\n",
    "\n",
    "## Model API \n",
    "\n",
    "Enables the interaction with models (save, load flavor, log)\n"
   ]
  },
  {
   "cell_type": "code",
   "execution_count": null,
   "id": "1651511b-9319-4402-b752-48b725b8a771",
   "metadata": {},
   "outputs": [],
   "source": [
    "mlflow.sklearn.save_model(model, \"my first model\")"
   ]
  },
  {
   "cell_type": "code",
   "execution_count": null,
   "id": "feb83698-feab-44da-bc23-e9f037257ad4",
   "metadata": {},
   "outputs": [],
   "source": [
    "# Log model to MLflow Tracking\n",
    "mlflow.sklearn.log_model(model, \"lr_tracking\")\n",
    "\n",
    "# Get the last run\n",
    "run = mlflow.last_active_run()\n",
    "\n",
    "# Get the run_id of the above run\n",
    "run_id = run.info.run_id\n",
    "\n",
    "# Load model from MLflow Tracking\n",
    "model = mlflow.sklearn.load_model(f\"runs:/{run_id}/lr_tracking\")"
   ]
  },
  {
   "cell_type": "markdown",
   "id": "bc811705-8848-4a10-a980-bad85c95dc33",
   "metadata": {
    "execution": {
     "iopub.execute_input": "2024-10-05T15:16:20.130826Z",
     "iopub.status.busy": "2024-10-05T15:16:20.130023Z",
     "iopub.status.idle": "2024-10-05T15:16:20.142316Z",
     "shell.execute_reply": "2024-10-05T15:16:20.141011Z",
     "shell.execute_reply.started": "2024-10-05T15:16:20.130723Z"
    }
   },
   "source": [
    "## Custom models\n",
    "\n",
    "MLFlow supports custom models not covered by all the pre-existing flavors."
   ]
  },
  {
   "cell_type": "markdown",
   "id": "c633cbdb-5ba5-4261-bf4a-f4d80315b057",
   "metadata": {},
   "source": [
    "# Serving \n",
    "\n",
    "MLFlow can provide endpoints to serve models"
   ]
  },
  {
   "cell_type": "markdown",
   "id": "2a322463-7fe2-44c2-aafc-c4153daa4fda",
   "metadata": {},
   "source": [
    "# MLFlow Model Registry\n",
    "\n",
    "- Model: model logged to MLFlow Tracking\n",
    "- Registered model: with a version and eligible to a stage\n",
    "- Model Version: invrements each new registered model\n",
    "- Model Stage: can be assigned one of: none, staging, production, archived\n",
    "\n",
    "Working with the model registry can be done via the client or via the ui \n",
    "\n"
   ]
  },
  {
   "cell_type": "code",
   "execution_count": null,
   "id": "c041273a-3fb8-4a01-aaa4-1521498f3c74",
   "metadata": {},
   "outputs": [],
   "source": [
    "from mlflow import MlflowClient\n",
    "\n",
    "client = MlflowClient()"
   ]
  },
  {
   "cell_type": "code",
   "execution_count": null,
   "id": "4816e144-61cd-4364-ba1f-dc44fdff55d2",
   "metadata": {},
   "outputs": [],
   "source": [
    "client"
   ]
  },
  {
   "cell_type": "code",
   "execution_count": null,
   "id": "68b1897f-3d78-4033-87e3-6ddebc908716",
   "metadata": {},
   "outputs": [],
   "source": [
    "client.create_registered_model(name='Unicorn')"
   ]
  },
  {
   "cell_type": "code",
   "execution_count": null,
   "id": "6da8b485-36f7-4a21-b7a1-6baad0981136",
   "metadata": {},
   "outputs": [],
   "source": [
    "client.search_registered_models(filter_string='name like \"Unicorn\"')"
   ]
  },
  {
   "cell_type": "markdown",
   "id": "8a38b17b-7ebe-45ed-877e-71e8bc4e6347",
   "metadata": {},
   "source": [
    "# Registering Models \n",
    "\n",
    "Registering models adds versioning, track changes, improves collaboration, etc."
   ]
  },
  {
   "cell_type": "code",
   "execution_count": null,
   "id": "b8bd33b4-179b-4278-b279-21204aa4e238",
   "metadata": {},
   "outputs": [],
   "source": [
    "mlflow.register_model(model_uri, name)"
   ]
  },
  {
   "cell_type": "code",
   "execution_count": null,
   "id": "f2e7861e-1179-4d96-90a5-584a61484549",
   "metadata": {},
   "outputs": [],
   "source": []
  },
  {
   "cell_type": "code",
   "execution_count": null,
   "id": "eff17a06-246b-4788-9e2f-41d54c6a49c9",
   "metadata": {},
   "outputs": [],
   "source": []
  },
  {
   "cell_type": "code",
   "execution_count": null,
   "id": "4854b44d-7b72-47f8-acc5-afd84c5fd6c2",
   "metadata": {},
   "outputs": [],
   "source": []
  },
  {
   "cell_type": "markdown",
   "id": "5f96bbc2-57fe-4673-bb77-e9fd18afc24d",
   "metadata": {},
   "source": [
    "# MLFlow Projects "
   ]
  },
  {
   "cell_type": "markdown",
   "id": "91d0bef4-e779-42ba-a3b0-0ef2fec7e9bf",
   "metadata": {},
   "source": [
    "This section provides an introduction to MLflow Projects, a component of MLflow designed to simplify the machine learning lifecycle. MLflow Projects package code into reusable, reproducible units, enabling easier collaboration and execution across various environments, including local machines and the cloud. \n",
    "\n",
    "At its core, a Project is a directory containing ML code, described by a YAML file called MLproject, which defines the project’s name, entry points, and environment. An example of an MLflow Project is presented, including the setup of Python environments and dependencies, the use of autologging for metrics tracking, and the training of a linear regression model."
   ]
  },
  {
   "cell_type": "code",
   "execution_count": null,
   "id": "7f7347b3-2370-4508-b7aa-825b7a8ff252",
   "metadata": {},
   "outputs": [],
   "source": []
  }
 ],
 "metadata": {
  "kernelspec": {
   "display_name": "Python 3 (ipykernel)",
   "language": "python",
   "name": "python3"
  },
  "language_info": {
   "codemirror_mode": {
    "name": "ipython",
    "version": 3
   },
   "file_extension": ".py",
   "mimetype": "text/x-python",
   "name": "python",
   "nbconvert_exporter": "python",
   "pygments_lexer": "ipython3",
   "version": "3.11.10"
  }
 },
 "nbformat": 4,
 "nbformat_minor": 5
}
