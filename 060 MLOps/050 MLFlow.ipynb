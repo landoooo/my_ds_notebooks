{
 "cells": [
  {
   "cell_type": "markdown",
   "id": "62a4606a-7a79-4e4e-9142-54bfbe07d38d",
   "metadata": {},
   "source": [
    "# Introduction to MLFlow \n",
    "\n",
    "MLFlow its an open source platform that tries to tackle the Machine Learning specific steps not included in the traditional software development lifecycle.\n",
    "\n",
    "MLFlow covers: \n",
    "- Experiment tracking\n",
    "- Reproducibility\n",
    "- Deployment\n",
    "- Model Registry\n",
    "\n",
    "4 major components: \n",
    "- **MLFlow Tracking**: record metrics and parameters from training runs, query data from experiments and store models, artifacts and code.\n",
    "- **MLFlow Models**: Standardize models for deployment, build customized models\n",
    "- **Model Registry**: Store and version ML models\n",
    "- **Model Projects**: Package ML code for reproducibility and repeatability\n",
    "\n",
    "In MLFlow an **experiment** is a record of a model training round. They can be created and deleted and its tags, set. \n",
    "\n"
   ]
  },
  {
   "cell_type": "code",
   "execution_count": 1,
   "id": "4b5ef7e5-4103-4395-be62-d75a4a77c013",
   "metadata": {
    "execution": {
     "iopub.execute_input": "2024-10-04T15:20:04.317753Z",
     "iopub.status.busy": "2024-10-04T15:20:04.317574Z",
     "iopub.status.idle": "2024-10-04T15:20:05.814594Z",
     "shell.execute_reply": "2024-10-04T15:20:05.813839Z",
     "shell.execute_reply.started": "2024-10-04T15:20:04.317729Z"
    }
   },
   "outputs": [
    {
     "ename": "MlflowException",
     "evalue": "Experiment 'My first experiment' already exists.",
     "output_type": "error",
     "traceback": [
      "\u001b[0;31m---------------------------------------------------------------------------\u001b[0m",
      "\u001b[0;31mMlflowException\u001b[0m                           Traceback (most recent call last)",
      "Cell \u001b[0;32mIn[1], line 3\u001b[0m\n\u001b[1;32m      1\u001b[0m \u001b[38;5;28;01mimport\u001b[39;00m \u001b[38;5;21;01mmlflow\u001b[39;00m \n\u001b[0;32m----> 3\u001b[0m \u001b[43mmlflow\u001b[49m\u001b[38;5;241;43m.\u001b[39;49m\u001b[43mcreate_experiment\u001b[49m\u001b[43m(\u001b[49m\u001b[38;5;124;43m'\u001b[39;49m\u001b[38;5;124;43mMy first experiment\u001b[39;49m\u001b[38;5;124;43m'\u001b[39;49m\u001b[43m)\u001b[49m\n",
      "File \u001b[0;32m/opt/anaconda3/envs/MLFlow/lib/python3.11/site-packages/mlflow/tracking/fluent.py:1781\u001b[0m, in \u001b[0;36mcreate_experiment\u001b[0;34m(name, artifact_location, tags)\u001b[0m\n\u001b[1;32m   1733\u001b[0m \u001b[38;5;28;01mdef\u001b[39;00m \u001b[38;5;21mcreate_experiment\u001b[39m(\n\u001b[1;32m   1734\u001b[0m     name: \u001b[38;5;28mstr\u001b[39m,\n\u001b[1;32m   1735\u001b[0m     artifact_location: Optional[\u001b[38;5;28mstr\u001b[39m] \u001b[38;5;241m=\u001b[39m \u001b[38;5;28;01mNone\u001b[39;00m,\n\u001b[1;32m   1736\u001b[0m     tags: Optional[Dict[\u001b[38;5;28mstr\u001b[39m, Any]] \u001b[38;5;241m=\u001b[39m \u001b[38;5;28;01mNone\u001b[39;00m,\n\u001b[1;32m   1737\u001b[0m ) \u001b[38;5;241m-\u001b[39m\u001b[38;5;241m>\u001b[39m \u001b[38;5;28mstr\u001b[39m:\n\u001b[1;32m   1738\u001b[0m \u001b[38;5;250m    \u001b[39m\u001b[38;5;124;03m\"\"\"\u001b[39;00m\n\u001b[1;32m   1739\u001b[0m \u001b[38;5;124;03m    Create an experiment.\u001b[39;00m\n\u001b[1;32m   1740\u001b[0m \n\u001b[0;32m   (...)\u001b[0m\n\u001b[1;32m   1779\u001b[0m \u001b[38;5;124;03m        Creation timestamp: 1662004217511\u001b[39;00m\n\u001b[1;32m   1780\u001b[0m \u001b[38;5;124;03m    \"\"\"\u001b[39;00m\n\u001b[0;32m-> 1781\u001b[0m     \u001b[38;5;28;01mreturn\u001b[39;00m \u001b[43mMlflowClient\u001b[49m\u001b[43m(\u001b[49m\u001b[43m)\u001b[49m\u001b[38;5;241;43m.\u001b[39;49m\u001b[43mcreate_experiment\u001b[49m\u001b[43m(\u001b[49m\u001b[43mname\u001b[49m\u001b[43m,\u001b[49m\u001b[43m \u001b[49m\u001b[43martifact_location\u001b[49m\u001b[43m,\u001b[49m\u001b[43m \u001b[49m\u001b[43mtags\u001b[49m\u001b[43m)\u001b[49m\n",
      "File \u001b[0;32m/opt/anaconda3/envs/MLFlow/lib/python3.11/site-packages/mlflow/tracking/client.py:1303\u001b[0m, in \u001b[0;36mMlflowClient.create_experiment\u001b[0;34m(self, name, artifact_location, tags)\u001b[0m\n\u001b[1;32m   1251\u001b[0m \u001b[38;5;28;01mdef\u001b[39;00m \u001b[38;5;21mcreate_experiment\u001b[39m(\n\u001b[1;32m   1252\u001b[0m     \u001b[38;5;28mself\u001b[39m,\n\u001b[1;32m   1253\u001b[0m     name: \u001b[38;5;28mstr\u001b[39m,\n\u001b[1;32m   1254\u001b[0m     artifact_location: Optional[\u001b[38;5;28mstr\u001b[39m] \u001b[38;5;241m=\u001b[39m \u001b[38;5;28;01mNone\u001b[39;00m,\n\u001b[1;32m   1255\u001b[0m     tags: Optional[Dict[\u001b[38;5;28mstr\u001b[39m, Any]] \u001b[38;5;241m=\u001b[39m \u001b[38;5;28;01mNone\u001b[39;00m,\n\u001b[1;32m   1256\u001b[0m ) \u001b[38;5;241m-\u001b[39m\u001b[38;5;241m>\u001b[39m \u001b[38;5;28mstr\u001b[39m:\n\u001b[1;32m   1257\u001b[0m \u001b[38;5;250m    \u001b[39m\u001b[38;5;124;03m\"\"\"Create an experiment.\u001b[39;00m\n\u001b[1;32m   1258\u001b[0m \n\u001b[1;32m   1259\u001b[0m \u001b[38;5;124;03m    Args:\u001b[39;00m\n\u001b[0;32m   (...)\u001b[0m\n\u001b[1;32m   1301\u001b[0m \n\u001b[1;32m   1302\u001b[0m \u001b[38;5;124;03m    \"\"\"\u001b[39;00m\n\u001b[0;32m-> 1303\u001b[0m     \u001b[38;5;28;01mreturn\u001b[39;00m \u001b[38;5;28;43mself\u001b[39;49m\u001b[38;5;241;43m.\u001b[39;49m\u001b[43m_tracking_client\u001b[49m\u001b[38;5;241;43m.\u001b[39;49m\u001b[43mcreate_experiment\u001b[49m\u001b[43m(\u001b[49m\u001b[43mname\u001b[49m\u001b[43m,\u001b[49m\u001b[43m \u001b[49m\u001b[43martifact_location\u001b[49m\u001b[43m,\u001b[49m\u001b[43m \u001b[49m\u001b[43mtags\u001b[49m\u001b[43m)\u001b[49m\n",
      "File \u001b[0;32m/opt/anaconda3/envs/MLFlow/lib/python3.11/site-packages/mlflow/tracking/_tracking_service/client.py:501\u001b[0m, in \u001b[0;36mTrackingServiceClient.create_experiment\u001b[0;34m(self, name, artifact_location, tags)\u001b[0m\n\u001b[1;32m    487\u001b[0m \u001b[38;5;250m\u001b[39m\u001b[38;5;124;03m\"\"\"Create an experiment.\u001b[39;00m\n\u001b[1;32m    488\u001b[0m \n\u001b[1;32m    489\u001b[0m \u001b[38;5;124;03mArgs:\u001b[39;00m\n\u001b[0;32m   (...)\u001b[0m\n\u001b[1;32m    498\u001b[0m \n\u001b[1;32m    499\u001b[0m \u001b[38;5;124;03m\"\"\"\u001b[39;00m\n\u001b[1;32m    500\u001b[0m _validate_experiment_artifact_location(artifact_location)\n\u001b[0;32m--> 501\u001b[0m \u001b[38;5;28;01mreturn\u001b[39;00m \u001b[38;5;28;43mself\u001b[39;49m\u001b[38;5;241;43m.\u001b[39;49m\u001b[43mstore\u001b[49m\u001b[38;5;241;43m.\u001b[39;49m\u001b[43mcreate_experiment\u001b[49m\u001b[43m(\u001b[49m\n\u001b[1;32m    502\u001b[0m \u001b[43m    \u001b[49m\u001b[43mname\u001b[49m\u001b[38;5;241;43m=\u001b[39;49m\u001b[43mname\u001b[49m\u001b[43m,\u001b[49m\n\u001b[1;32m    503\u001b[0m \u001b[43m    \u001b[49m\u001b[43martifact_location\u001b[49m\u001b[38;5;241;43m=\u001b[39;49m\u001b[43martifact_location\u001b[49m\u001b[43m,\u001b[49m\n\u001b[1;32m    504\u001b[0m \u001b[43m    \u001b[49m\u001b[43mtags\u001b[49m\u001b[38;5;241;43m=\u001b[39;49m\u001b[43m[\u001b[49m\u001b[43mExperimentTag\u001b[49m\u001b[43m(\u001b[49m\u001b[43mkey\u001b[49m\u001b[43m,\u001b[49m\u001b[43m \u001b[49m\u001b[43mvalue\u001b[49m\u001b[43m)\u001b[49m\u001b[43m \u001b[49m\u001b[38;5;28;43;01mfor\u001b[39;49;00m\u001b[43m \u001b[49m\u001b[43m(\u001b[49m\u001b[43mkey\u001b[49m\u001b[43m,\u001b[49m\u001b[43m \u001b[49m\u001b[43mvalue\u001b[49m\u001b[43m)\u001b[49m\u001b[43m \u001b[49m\u001b[38;5;129;43;01min\u001b[39;49;00m\u001b[43m \u001b[49m\u001b[43mtags\u001b[49m\u001b[38;5;241;43m.\u001b[39;49m\u001b[43mitems\u001b[49m\u001b[43m(\u001b[49m\u001b[43m)\u001b[49m\u001b[43m]\u001b[49m\u001b[43m \u001b[49m\u001b[38;5;28;43;01mif\u001b[39;49;00m\u001b[43m \u001b[49m\u001b[43mtags\u001b[49m\u001b[43m \u001b[49m\u001b[38;5;28;43;01melse\u001b[39;49;00m\u001b[43m \u001b[49m\u001b[43m[\u001b[49m\u001b[43m]\u001b[49m\u001b[43m,\u001b[49m\n\u001b[1;32m    505\u001b[0m \u001b[43m\u001b[49m\u001b[43m)\u001b[49m\n",
      "File \u001b[0;32m/opt/anaconda3/envs/MLFlow/lib/python3.11/site-packages/mlflow/store/tracking/file_store.py:405\u001b[0m, in \u001b[0;36mFileStore.create_experiment\u001b[0;34m(self, name, artifact_location, tags)\u001b[0m\n\u001b[1;32m    403\u001b[0m \u001b[38;5;28mself\u001b[39m\u001b[38;5;241m.\u001b[39m_check_root_dir()\n\u001b[1;32m    404\u001b[0m _validate_experiment_name(name)\n\u001b[0;32m--> 405\u001b[0m \u001b[38;5;28;43mself\u001b[39;49m\u001b[38;5;241;43m.\u001b[39;49m\u001b[43m_validate_experiment_does_not_exist\u001b[49m\u001b[43m(\u001b[49m\u001b[43mname\u001b[49m\u001b[43m)\u001b[49m\n\u001b[1;32m    406\u001b[0m experiment_id \u001b[38;5;241m=\u001b[39m _generate_unique_integer_id()\n\u001b[1;32m    407\u001b[0m \u001b[38;5;28;01mreturn\u001b[39;00m \u001b[38;5;28mself\u001b[39m\u001b[38;5;241m.\u001b[39m_create_experiment_with_id(name, \u001b[38;5;28mstr\u001b[39m(experiment_id), artifact_location, tags)\n",
      "File \u001b[0;32m/opt/anaconda3/envs/MLFlow/lib/python3.11/site-packages/mlflow/store/tracking/file_store.py:397\u001b[0m, in \u001b[0;36mFileStore._validate_experiment_does_not_exist\u001b[0;34m(self, name)\u001b[0m\n\u001b[1;32m    389\u001b[0m     \u001b[38;5;28;01mraise\u001b[39;00m MlflowException(\n\u001b[1;32m    390\u001b[0m         \u001b[38;5;124mf\u001b[39m\u001b[38;5;124m\"\u001b[39m\u001b[38;5;124mExperiment \u001b[39m\u001b[38;5;132;01m{\u001b[39;00mexperiment\u001b[38;5;241m.\u001b[39mname\u001b[38;5;132;01m!r}\u001b[39;00m\u001b[38;5;124m already exists in deleted state. \u001b[39m\u001b[38;5;124m\"\u001b[39m\n\u001b[1;32m    391\u001b[0m         \u001b[38;5;124m\"\u001b[39m\u001b[38;5;124mYou can restore the experiment, or permanently delete the experiment \u001b[39m\u001b[38;5;124m\"\u001b[39m\n\u001b[0;32m   (...)\u001b[0m\n\u001b[1;32m    394\u001b[0m         databricks_pb2\u001b[38;5;241m.\u001b[39mRESOURCE_ALREADY_EXISTS,\n\u001b[1;32m    395\u001b[0m     )\n\u001b[1;32m    396\u001b[0m \u001b[38;5;28;01melse\u001b[39;00m:\n\u001b[0;32m--> 397\u001b[0m     \u001b[38;5;28;01mraise\u001b[39;00m MlflowException(\n\u001b[1;32m    398\u001b[0m         \u001b[38;5;124mf\u001b[39m\u001b[38;5;124m\"\u001b[39m\u001b[38;5;124mExperiment \u001b[39m\u001b[38;5;124m'\u001b[39m\u001b[38;5;132;01m{\u001b[39;00mexperiment\u001b[38;5;241m.\u001b[39mname\u001b[38;5;132;01m}\u001b[39;00m\u001b[38;5;124m'\u001b[39m\u001b[38;5;124m already exists.\u001b[39m\u001b[38;5;124m\"\u001b[39m,\n\u001b[1;32m    399\u001b[0m         databricks_pb2\u001b[38;5;241m.\u001b[39mRESOURCE_ALREADY_EXISTS,\n\u001b[1;32m    400\u001b[0m     )\n",
      "\u001b[0;31mMlflowException\u001b[0m: Experiment 'My first experiment' already exists."
     ]
    }
   ],
   "source": [
    "import mlflow \n",
    "\n",
    "mlflow.create_experiment('My first experiment')"
   ]
  },
  {
   "cell_type": "code",
   "execution_count": 2,
   "id": "d701abb9-3768-42c5-9567-894b967bf455",
   "metadata": {
    "execution": {
     "iopub.execute_input": "2024-10-04T15:20:17.794819Z",
     "iopub.status.busy": "2024-10-04T15:20:17.792887Z",
     "iopub.status.idle": "2024-10-04T15:20:17.815158Z",
     "shell.execute_reply": "2024-10-04T15:20:17.814729Z",
     "shell.execute_reply.started": "2024-10-04T15:20:17.794760Z"
    }
   },
   "outputs": [
    {
     "data": {
      "text/plain": [
       "<Experiment: artifact_location='file:///Users/el_fer/Repos/my_ds_notebooks/060%20MLOps/mlruns/234909114283278316', creation_time=1728050461180, experiment_id='234909114283278316', last_update_time=1728050461180, lifecycle_stage='active', name='My first experiment', tags={}>"
      ]
     },
     "execution_count": 2,
     "metadata": {},
     "output_type": "execute_result"
    }
   ],
   "source": [
    "mlflow.set_experiment_tag('scikit-learn', 'lr')\n",
    "mlflow.set_experiment('My first experiment')"
   ]
  },
  {
   "cell_type": "markdown",
   "id": "d7326430-a8ad-4def-8ef5-f3f12458e078",
   "metadata": {},
   "source": [
    "# MLFlow tracking\n",
    "\n",
    "- Model Metrics\n",
    "- Parameters\n",
    "- Code\n",
    "- Other artifacts\n",
    "\n",
    "MLFlow is organized in training runs \n",
    "\n",
    "New run == new model training \n",
    "\n",
    "A run in placed within an experiment \n"
   ]
  },
  {
   "cell_type": "code",
   "execution_count": 3,
   "id": "a1fed92a-160b-4f7a-8158-a542a6e76f19",
   "metadata": {
    "execution": {
     "iopub.execute_input": "2024-10-04T15:20:19.603111Z",
     "iopub.status.busy": "2024-10-04T15:20:19.602330Z",
     "iopub.status.idle": "2024-10-04T15:20:19.745566Z",
     "shell.execute_reply": "2024-10-04T15:20:19.745014Z",
     "shell.execute_reply.started": "2024-10-04T15:20:19.603055Z"
    }
   },
   "outputs": [
    {
     "data": {
      "text/plain": [
       "<RunInfo: artifact_uri='file:///Users/el_fer/Repos/my_ds_notebooks/060%20MLOps/mlruns/234909114283278316/e1b435f69a034b2493f3a8bf946991b2/artifacts', end_time=None, experiment_id='234909114283278316', lifecycle_stage='active', run_id='e1b435f69a034b2493f3a8bf946991b2', run_name='adorable-crow-180', run_uuid='e1b435f69a034b2493f3a8bf946991b2', start_time=1728055219734, status='RUNNING', user_id='el_fer'>"
      ]
     },
     "execution_count": 3,
     "metadata": {},
     "output_type": "execute_result"
    }
   ],
   "source": [
    "run = mlflow.start_run()\n",
    "\n",
    "run.info"
   ]
  },
  {
   "cell_type": "markdown",
   "id": "f1b29a3b-5aaa-42b4-8d96-edb55f76f840",
   "metadata": {},
   "source": [
    "## Logging to MLFlow Tracking\n",
    "\n",
    "### Metrics "
   ]
  },
  {
   "cell_type": "code",
   "execution_count": 6,
   "id": "7c0f46fc-427c-4210-9814-51b498006899",
   "metadata": {
    "execution": {
     "iopub.execute_input": "2024-10-04T15:32:23.044385Z",
     "iopub.status.busy": "2024-10-04T15:32:23.043168Z",
     "iopub.status.idle": "2024-10-04T15:32:23.061867Z",
     "shell.execute_reply": "2024-10-04T15:32:23.061098Z",
     "shell.execute_reply.started": "2024-10-04T15:32:23.044335Z"
    }
   },
   "outputs": [],
   "source": [
    "mlflow.log_metric('accuracy', 0.9)\n",
    "mlflow.log_metrics({'accuracy': 0.9, 'loss': 0.5})"
   ]
  },
  {
   "cell_type": "markdown",
   "id": "22e16dbd-41a7-4ae5-81a0-434e68730515",
   "metadata": {},
   "source": [
    "### Parameters "
   ]
  },
  {
   "cell_type": "code",
   "execution_count": 7,
   "id": "ca17c772-8d1a-4d9c-a486-d5cadc8116ce",
   "metadata": {
    "execution": {
     "iopub.execute_input": "2024-10-04T15:34:51.580630Z",
     "iopub.status.busy": "2024-10-04T15:34:51.579762Z",
     "iopub.status.idle": "2024-10-04T15:34:51.599657Z",
     "shell.execute_reply": "2024-10-04T15:34:51.598201Z",
     "shell.execute_reply.started": "2024-10-04T15:34:51.580576Z"
    }
   },
   "outputs": [],
   "source": [
    "mlflow.log_param('n_jobs', 1)\n",
    "mlflow.log_params({'n_jobs': 1, 'fir_intercept': False})"
   ]
  },
  {
   "cell_type": "code",
   "execution_count": null,
   "id": "4f817fc5-869d-46b9-adf8-10b10b878cdd",
   "metadata": {},
   "outputs": [],
   "source": []
  },
  {
   "cell_type": "markdown",
   "id": "c14acf89-0255-4410-b5d2-372678e21f63",
   "metadata": {},
   "source": [
    "### Artifacts"
   ]
  },
  {
   "cell_type": "code",
   "execution_count": 9,
   "id": "bb069cd8-b903-4b36-af54-67649ba663e7",
   "metadata": {
    "execution": {
     "iopub.execute_input": "2024-10-04T15:36:03.002363Z",
     "iopub.status.busy": "2024-10-04T15:36:03.001273Z",
     "iopub.status.idle": "2024-10-04T15:36:03.011456Z",
     "shell.execute_reply": "2024-10-04T15:36:03.010413Z",
     "shell.execute_reply.started": "2024-10-04T15:36:03.002305Z"
    }
   },
   "outputs": [],
   "source": [
    "# mlflow.log_artifact('file.py')\n",
    "# mlflow.log_artifacts('./directory/')"
   ]
  },
  {
   "cell_type": "code",
   "execution_count": 11,
   "id": "2fc581f6-cd1b-4c68-9ab2-b5f9f0150470",
   "metadata": {
    "execution": {
     "iopub.execute_input": "2024-10-04T15:40:33.864705Z",
     "iopub.status.busy": "2024-10-04T15:40:33.864223Z",
     "iopub.status.idle": "2024-10-04T15:40:33.872608Z",
     "shell.execute_reply": "2024-10-04T15:40:33.871849Z",
     "shell.execute_reply.started": "2024-10-04T15:40:33.864675Z"
    }
   },
   "outputs": [],
   "source": [
    "mlflow.end_run()"
   ]
  },
  {
   "cell_type": "code",
   "execution_count": 12,
   "id": "a61c28fb-a860-43cb-a640-4095bb570645",
   "metadata": {
    "execution": {
     "iopub.execute_input": "2024-10-04T15:40:35.748646Z",
     "iopub.status.busy": "2024-10-04T15:40:35.747510Z",
     "iopub.status.idle": "2024-10-04T15:40:38.411116Z",
     "shell.execute_reply": "2024-10-04T15:40:38.410555Z",
     "shell.execute_reply.started": "2024-10-04T15:40:35.748589Z"
    }
   },
   "outputs": [
    {
     "name": "stderr",
     "output_type": "stream",
     "text": [
      "2024/10/04 17:40:38 WARNING mlflow.models.model: Model logged without a signature and input example. Please set `input_example` parameter when logging the model to auto infer the model signature.\n"
     ]
    },
    {
     "name": "stdout",
     "output_type": "stream",
     "text": [
      "Mean Squared Error: 4280618.311533848\n",
      "R2 Score: 0.9931510107015459\n"
     ]
    }
   ],
   "source": [
    "import pandas as pd\n",
    "from sklearn.model_selection import train_test_split\n",
    "from sklearn.linear_model import LinearRegression\n",
    "from sklearn.metrics import mean_squared_error, r2_score\n",
    "import mlflow\n",
    "import mlflow.sklearn\n",
    "\n",
    "# Crear un conjunto de datos pequeño\n",
    "data = {\n",
    "    'experience': [1, 2, 3, 4, 5, 6, 7, 8, 9, 10],\n",
    "    'salary': [45000, 50000, 60000, 65000, 70000, 80000, 85000, 90000, 100000, 105000]\n",
    "}\n",
    "df = pd.DataFrame(data)\n",
    "\n",
    "# Definir las características (X) y el objetivo (y)\n",
    "X = df[['experience']]\n",
    "y = df['salary']\n",
    "\n",
    "# Dividir los datos en conjunto de entrenamiento y prueba\n",
    "X_train, X_test, y_train, y_test = train_test_split(X, y, test_size=0.2, random_state=42)\n",
    "\n",
    "# Configurar el experimento de MLflow\n",
    "mlflow.set_experiment(\"Salary Prediction Linear Regression\")\n",
    "\n",
    "with mlflow.start_run():\n",
    "    # Crear y entrenar el modelo\n",
    "    model = LinearRegression()\n",
    "    model.fit(X_train, y_train)\n",
    "\n",
    "    # Hacer predicciones\n",
    "    y_pred = model.predict(X_test)\n",
    "\n",
    "    # Calcular métricas de rendimiento\n",
    "    mse = mean_squared_error(y_test, y_pred)\n",
    "    r2 = r2_score(y_test, y_pred)\n",
    "\n",
    "    # Registrar el modelo y las métricas en MLflow\n",
    "    mlflow.log_param(\"test_size\", 0.2)\n",
    "    mlflow.log_param(\"random_state\", 42)\n",
    "    \n",
    "    mlflow.log_metric(\"mse\", mse)\n",
    "    mlflow.log_metric(\"r2_score\", r2)\n",
    "\n",
    "    mlflow.sklearn.log_model(model, \"linear_regression_model\")\n",
    "\n",
    "    print(f\"Mean Squared Error: {mse}\")\n",
    "    print(f\"R2 Score: {r2}\")"
   ]
  },
  {
   "cell_type": "code",
   "execution_count": 14,
   "id": "01c805f6-a08f-4336-9731-ef3ded831895",
   "metadata": {
    "execution": {
     "iopub.execute_input": "2024-10-04T15:40:59.874169Z",
     "iopub.status.busy": "2024-10-04T15:40:59.873389Z",
     "iopub.status.idle": "2024-10-04T15:56:41.121992Z",
     "shell.execute_reply": "2024-10-04T15:56:41.121195Z",
     "shell.execute_reply.started": "2024-10-04T15:40:59.874128Z"
    }
   },
   "outputs": [
    {
     "name": "stdout",
     "output_type": "stream",
     "text": [
      "[2024-10-04 17:41:01 +0200] [14407] [INFO] Starting gunicorn 22.0.0\n",
      "[2024-10-04 17:41:01 +0200] [14407] [INFO] Listening at: http://127.0.0.1:5000 (14407)\n",
      "[2024-10-04 17:41:01 +0200] [14407] [INFO] Using worker: sync\n",
      "[2024-10-04 17:41:01 +0200] [14408] [INFO] Booting worker with pid: 14408\n",
      "[2024-10-04 17:41:01 +0200] [14409] [INFO] Booting worker with pid: 14409\n",
      "[2024-10-04 17:41:01 +0200] [14410] [INFO] Booting worker with pid: 14410\n",
      "[2024-10-04 17:41:01 +0200] [14411] [INFO] Booting worker with pid: 14411\n",
      "^C\n",
      "[2024-10-04 17:56:40 +0200] [14407] [INFO] Handling signal: int\n",
      "[2024-10-04 17:56:40 +0200] [14409] [INFO] Worker exiting (pid: 14409)\n",
      "[2024-10-04 17:56:40 +0200] [14411] [INFO] Worker exiting (pid: 14411)\n",
      "[2024-10-04 17:56:40 +0200] [14408] [INFO] Worker exiting (pid: 14408)\n",
      "[2024-10-04 17:56:40 +0200] [14410] [INFO] Worker exiting (pid: 14410)\n"
     ]
    }
   ],
   "source": [
    "!mlflow ui"
   ]
  },
  {
   "cell_type": "markdown",
   "id": "d1f60831-7a68-42b6-bd11-95c32863b374",
   "metadata": {},
   "source": [
    "## Querying runs"
   ]
  },
  {
   "cell_type": "code",
   "execution_count": 18,
   "id": "ef93cef2-9846-4706-a0fd-c0a01b09fd22",
   "metadata": {
    "execution": {
     "iopub.execute_input": "2024-10-04T15:57:10.195371Z",
     "iopub.status.busy": "2024-10-04T15:57:10.193793Z",
     "iopub.status.idle": "2024-10-04T15:57:10.222433Z",
     "shell.execute_reply": "2024-10-04T15:57:10.221837Z",
     "shell.execute_reply.started": "2024-10-04T15:57:10.195314Z"
    }
   },
   "outputs": [
    {
     "data": {
      "text/html": [
       "<div>\n",
       "<style scoped>\n",
       "    .dataframe tbody tr th:only-of-type {\n",
       "        vertical-align: middle;\n",
       "    }\n",
       "\n",
       "    .dataframe tbody tr th {\n",
       "        vertical-align: top;\n",
       "    }\n",
       "\n",
       "    .dataframe thead th {\n",
       "        text-align: right;\n",
       "    }\n",
       "</style>\n",
       "<table border=\"1\" class=\"dataframe\">\n",
       "  <thead>\n",
       "    <tr style=\"text-align: right;\">\n",
       "      <th></th>\n",
       "      <th>run_id</th>\n",
       "      <th>experiment_id</th>\n",
       "      <th>status</th>\n",
       "      <th>artifact_uri</th>\n",
       "      <th>start_time</th>\n",
       "      <th>end_time</th>\n",
       "      <th>metrics.r2_score</th>\n",
       "      <th>metrics.mse</th>\n",
       "      <th>params.test_size</th>\n",
       "      <th>params.random_state</th>\n",
       "      <th>tags.mlflow.source.type</th>\n",
       "      <th>tags.mlflow.source.name</th>\n",
       "      <th>tags.mlflow.user</th>\n",
       "      <th>tags.mlflow.log-model.history</th>\n",
       "      <th>tags.mlflow.runName</th>\n",
       "    </tr>\n",
       "  </thead>\n",
       "  <tbody>\n",
       "    <tr>\n",
       "      <th>0</th>\n",
       "      <td>e34fb6f162854422b658cf484142a391</td>\n",
       "      <td>428983509010758787</td>\n",
       "      <td>FINISHED</td>\n",
       "      <td>file:///Users/el_fer/Repos/my_ds_notebooks/060...</td>\n",
       "      <td>2024-10-04 15:40:35.779000+00:00</td>\n",
       "      <td>2024-10-04 15:40:38.407000+00:00</td>\n",
       "      <td>0.993151</td>\n",
       "      <td>4.280618e+06</td>\n",
       "      <td>0.2</td>\n",
       "      <td>42</td>\n",
       "      <td>LOCAL</td>\n",
       "      <td>/opt/anaconda3/envs/MLFlow/lib/python3.11/site...</td>\n",
       "      <td>el_fer</td>\n",
       "      <td>[{\"run_id\": \"e34fb6f162854422b658cf484142a391\"...</td>\n",
       "      <td>gifted-slug-720</td>\n",
       "    </tr>\n",
       "  </tbody>\n",
       "</table>\n",
       "</div>"
      ],
      "text/plain": [
       "                             run_id       experiment_id    status  \\\n",
       "0  e34fb6f162854422b658cf484142a391  428983509010758787  FINISHED   \n",
       "\n",
       "                                        artifact_uri  \\\n",
       "0  file:///Users/el_fer/Repos/my_ds_notebooks/060...   \n",
       "\n",
       "                        start_time                         end_time  \\\n",
       "0 2024-10-04 15:40:35.779000+00:00 2024-10-04 15:40:38.407000+00:00   \n",
       "\n",
       "   metrics.r2_score   metrics.mse params.test_size params.random_state  \\\n",
       "0          0.993151  4.280618e+06              0.2                  42   \n",
       "\n",
       "  tags.mlflow.source.type                            tags.mlflow.source.name  \\\n",
       "0                   LOCAL  /opt/anaconda3/envs/MLFlow/lib/python3.11/site...   \n",
       "\n",
       "  tags.mlflow.user                      tags.mlflow.log-model.history  \\\n",
       "0           el_fer  [{\"run_id\": \"e34fb6f162854422b658cf484142a391\"...   \n",
       "\n",
       "  tags.mlflow.runName  \n",
       "0     gifted-slug-720  "
      ]
     },
     "execution_count": 18,
     "metadata": {},
     "output_type": "execute_result"
    }
   ],
   "source": [
    "runs = mlflow.search_runs()\n",
    "runs"
   ]
  },
  {
   "cell_type": "code",
   "execution_count": 21,
   "id": "b8235d52-90b7-43d1-9d3d-8645f9c241c9",
   "metadata": {
    "execution": {
     "iopub.execute_input": "2024-10-04T16:02:26.822909Z",
     "iopub.status.busy": "2024-10-04T16:02:26.821896Z",
     "iopub.status.idle": "2024-10-04T16:02:26.855297Z",
     "shell.execute_reply": "2024-10-04T16:02:26.854831Z",
     "shell.execute_reply.started": "2024-10-04T16:02:26.822863Z"
    }
   },
   "outputs": [
    {
     "name": "stderr",
     "output_type": "stream",
     "text": [
      "2024/10/04 18:02:26 WARNING mlflow.tracking.fluent: Cannot retrieve experiment by name Unicorn Other Experiments\n"
     ]
    },
    {
     "data": {
      "text/html": [
       "<div>\n",
       "<style scoped>\n",
       "    .dataframe tbody tr th:only-of-type {\n",
       "        vertical-align: middle;\n",
       "    }\n",
       "\n",
       "    .dataframe tbody tr th {\n",
       "        vertical-align: top;\n",
       "    }\n",
       "\n",
       "    .dataframe thead th {\n",
       "        text-align: right;\n",
       "    }\n",
       "</style>\n",
       "<table border=\"1\" class=\"dataframe\">\n",
       "  <thead>\n",
       "    <tr style=\"text-align: right;\">\n",
       "      <th></th>\n",
       "      <th>run_id</th>\n",
       "      <th>experiment_id</th>\n",
       "      <th>status</th>\n",
       "      <th>artifact_uri</th>\n",
       "      <th>start_time</th>\n",
       "      <th>end_time</th>\n",
       "      <th>metrics.r2_score</th>\n",
       "      <th>metrics.mse</th>\n",
       "      <th>params.test_size</th>\n",
       "      <th>params.random_state</th>\n",
       "      <th>tags.mlflow.source.type</th>\n",
       "      <th>tags.mlflow.source.name</th>\n",
       "      <th>tags.mlflow.user</th>\n",
       "      <th>tags.mlflow.log-model.history</th>\n",
       "      <th>tags.mlflow.runName</th>\n",
       "    </tr>\n",
       "  </thead>\n",
       "  <tbody>\n",
       "    <tr>\n",
       "      <th>0</th>\n",
       "      <td>e34fb6f162854422b658cf484142a391</td>\n",
       "      <td>428983509010758787</td>\n",
       "      <td>FINISHED</td>\n",
       "      <td>file:///Users/el_fer/Repos/my_ds_notebooks/060...</td>\n",
       "      <td>2024-10-04 15:40:35.779000+00:00</td>\n",
       "      <td>2024-10-04 15:40:38.407000+00:00</td>\n",
       "      <td>0.993151</td>\n",
       "      <td>4.280618e+06</td>\n",
       "      <td>0.2</td>\n",
       "      <td>42</td>\n",
       "      <td>LOCAL</td>\n",
       "      <td>/opt/anaconda3/envs/MLFlow/lib/python3.11/site...</td>\n",
       "      <td>el_fer</td>\n",
       "      <td>[{\"run_id\": \"e34fb6f162854422b658cf484142a391\"...</td>\n",
       "      <td>gifted-slug-720</td>\n",
       "    </tr>\n",
       "  </tbody>\n",
       "</table>\n",
       "</div>"
      ],
      "text/plain": [
       "                             run_id       experiment_id    status  \\\n",
       "0  e34fb6f162854422b658cf484142a391  428983509010758787  FINISHED   \n",
       "\n",
       "                                        artifact_uri  \\\n",
       "0  file:///Users/el_fer/Repos/my_ds_notebooks/060...   \n",
       "\n",
       "                        start_time                         end_time  \\\n",
       "0 2024-10-04 15:40:35.779000+00:00 2024-10-04 15:40:38.407000+00:00   \n",
       "\n",
       "   metrics.r2_score   metrics.mse params.test_size params.random_state  \\\n",
       "0          0.993151  4.280618e+06              0.2                  42   \n",
       "\n",
       "  tags.mlflow.source.type                            tags.mlflow.source.name  \\\n",
       "0                   LOCAL  /opt/anaconda3/envs/MLFlow/lib/python3.11/site...   \n",
       "\n",
       "  tags.mlflow.user                      tags.mlflow.log-model.history  \\\n",
       "0           el_fer  [{\"run_id\": \"e34fb6f162854422b658cf484142a391\"...   \n",
       "\n",
       "  tags.mlflow.runName  \n",
       "0     gifted-slug-720  "
      ]
     },
     "execution_count": 21,
     "metadata": {},
     "output_type": "execute_result"
    }
   ],
   "source": [
    "r_squared_filter = \"metrics.r2_score > .70\"\n",
    "\n",
    "# Search runs\n",
    "mlflow.search_runs(experiment_names=[\"Salary Prediction Linear Regression\", \"Unicorn Other Experiments\"], \n",
    "                   filter_string=r_squared_filter, \n",
    "                   order_by=[\"metrics.r2_score DESC\"])"
   ]
  },
  {
   "cell_type": "markdown",
   "id": "57adf3ac-8ef4-45b6-99a7-958e859b74c7",
   "metadata": {},
   "source": [
    "# MLFlow Models\n",
    "\n",
    "Flavors to ease and uniform dealing with models from kears, tensorflow, pytorch, scikit-learn, xgboost, spark...\n",
    "\n",
    "Some flavors support **Autolog**, like the sklearn one."
   ]
  },
  {
   "cell_type": "code",
   "execution_count": 22,
   "id": "4cb9b68c-8987-444e-8adb-73c60c2417cc",
   "metadata": {
    "execution": {
     "iopub.execute_input": "2024-10-04T16:37:55.772340Z",
     "iopub.status.busy": "2024-10-04T16:37:55.771541Z",
     "iopub.status.idle": "2024-10-04T16:38:13.732271Z",
     "shell.execute_reply": "2024-10-04T16:38:13.731692Z",
     "shell.execute_reply.started": "2024-10-04T16:37:55.772301Z"
    }
   },
   "outputs": [
    {
     "name": "stderr",
     "output_type": "stream",
     "text": [
      "2024/10/04 18:37:55 WARNING mlflow.utils.autologging_utils: MLflow sklearn autologging is known to be compatible with 0.24.1 <= scikit-learn <= 1.5.1, but the installed version is 1.5.2. If you encounter errors during autologging, try upgrading / downgrading scikit-learn to a compatible version, or try upgrading MLflow.\n",
      "2024/10/04 18:38:11 WARNING mlflow.utils.autologging_utils: MLflow autologging encountered a warning: \"/opt/anaconda3/envs/MLFlow/lib/python3.11/site-packages/mlflow/types/utils.py:407: UserWarning: Hint: Inferred schema contains integer column(s). Integer columns in Python cannot represent missing values. If your input data contains missing values at inference time, it will be encoded as floats and will cause a schema enforcement error. The best way to avoid this problem is to infer the model schema based on a realistic data sample (training dataset) that includes missing values. Alternatively, you can declare integer columns as doubles (float64) whenever these columns may have missing values. See `Handling Integers With Missing Values <https://www.mlflow.org/docs/latest/models.html#handling-integers-with-missing-values>`_ for more details.\"\n",
      "2024/10/04 18:38:11 WARNING mlflow.utils.autologging_utils: MLflow autologging encountered a warning: \"/opt/anaconda3/envs/MLFlow/lib/python3.11/site-packages/mlflow/types/utils.py:407: UserWarning: Hint: Inferred schema contains integer column(s). Integer columns in Python cannot represent missing values. If your input data contains missing values at inference time, it will be encoded as floats and will cause a schema enforcement error. The best way to avoid this problem is to infer the model schema based on a realistic data sample (training dataset) that includes missing values. Alternatively, you can declare integer columns as doubles (float64) whenever these columns may have missing values. See `Handling Integers With Missing Values <https://www.mlflow.org/docs/latest/models.html#handling-integers-with-missing-values>`_ for more details.\"\n",
      "2024/10/04 18:38:13 WARNING mlflow.utils.autologging_utils: MLflow autologging encountered a warning: \"/opt/anaconda3/envs/MLFlow/lib/python3.11/site-packages/mlflow/types/utils.py:407: UserWarning: Hint: Inferred schema contains integer column(s). Integer columns in Python cannot represent missing values. If your input data contains missing values at inference time, it will be encoded as floats and will cause a schema enforcement error. The best way to avoid this problem is to infer the model schema based on a realistic data sample (training dataset) that includes missing values. Alternatively, you can declare integer columns as doubles (float64) whenever these columns may have missing values. See `Handling Integers With Missing Values <https://www.mlflow.org/docs/latest/models.html#handling-integers-with-missing-values>`_ for more details.\"\n"
     ]
    },
    {
     "name": "stdout",
     "output_type": "stream",
     "text": [
      "Mean Squared Error: 4280618.311533848\n",
      "R2 Score: 0.9931510107015459\n"
     ]
    }
   ],
   "source": [
    "mlflow.sklearn.autolog()\n",
    "\n",
    "# Crear un conjunto de datos pequeño\n",
    "data = {\n",
    "    'experience': [1, 2, 3, 4, 5, 6, 7, 8, 9, 10],\n",
    "    'salary': [45000, 50000, 60000, 65000, 70000, 80000, 85000, 90000, 100000, 105000]\n",
    "}\n",
    "df = pd.DataFrame(data)\n",
    "\n",
    "# Definir las características (X) y el objetivo (y)\n",
    "X = df[['experience']]\n",
    "y = df['salary']\n",
    "\n",
    "# Dividir los datos en conjunto de entrenamiento y prueba\n",
    "X_train, X_test, y_train, y_test = train_test_split(X, y, test_size=0.2, random_state=42)\n",
    "\n",
    "# Iniciar el seguimiento del experimento de MLflow\n",
    "with mlflow.start_run():\n",
    "    # Crear y entrenar el modelo\n",
    "    model = LinearRegression()\n",
    "    model.fit(X_train, y_train)\n",
    "\n",
    "    # Hacer predicciones\n",
    "    y_pred = model.predict(X_test)\n",
    "\n",
    "    # Calcular métricas de rendimiento\n",
    "    mse = mean_squared_error(y_test, y_pred)\n",
    "    r2 = r2_score(y_test, y_pred)\n",
    "\n",
    "    # Los parámetros, métricas y el modelo se registran automáticamente con autolog\n",
    "    print(f\"Mean Squared Error: {mse}\")\n",
    "    print(f\"R2 Score: {r2}\")"
   ]
  },
  {
   "cell_type": "code",
   "execution_count": 23,
   "id": "6f99279a-7db7-4c8d-9e93-b2f395c865da",
   "metadata": {
    "execution": {
     "iopub.execute_input": "2024-10-04T16:38:13.916151Z",
     "iopub.status.busy": "2024-10-04T16:38:13.915988Z",
     "iopub.status.idle": "2024-10-04T16:38:13.934695Z",
     "shell.execute_reply": "2024-10-04T16:38:13.934238Z",
     "shell.execute_reply.started": "2024-10-04T16:38:13.916128Z"
    }
   },
   "outputs": [
    {
     "data": {
      "text/html": [
       "<div>\n",
       "<style scoped>\n",
       "    .dataframe tbody tr th:only-of-type {\n",
       "        vertical-align: middle;\n",
       "    }\n",
       "\n",
       "    .dataframe tbody tr th {\n",
       "        vertical-align: top;\n",
       "    }\n",
       "\n",
       "    .dataframe thead th {\n",
       "        text-align: right;\n",
       "    }\n",
       "</style>\n",
       "<table border=\"1\" class=\"dataframe\">\n",
       "  <thead>\n",
       "    <tr style=\"text-align: right;\">\n",
       "      <th></th>\n",
       "      <th>run_id</th>\n",
       "      <th>experiment_id</th>\n",
       "      <th>status</th>\n",
       "      <th>artifact_uri</th>\n",
       "      <th>start_time</th>\n",
       "      <th>end_time</th>\n",
       "      <th>metrics.training_mean_absolute_error</th>\n",
       "      <th>metrics.training_score</th>\n",
       "      <th>metrics.training_r2_score</th>\n",
       "      <th>metrics.training_root_mean_squared_error</th>\n",
       "      <th>...</th>\n",
       "      <th>params.fit_intercept</th>\n",
       "      <th>params.test_size</th>\n",
       "      <th>params.random_state</th>\n",
       "      <th>tags.mlflow.source.type</th>\n",
       "      <th>tags.estimator_name</th>\n",
       "      <th>tags.mlflow.source.name</th>\n",
       "      <th>tags.mlflow.user</th>\n",
       "      <th>tags.mlflow.log-model.history</th>\n",
       "      <th>tags.mlflow.runName</th>\n",
       "      <th>tags.estimator_class</th>\n",
       "    </tr>\n",
       "  </thead>\n",
       "  <tbody>\n",
       "    <tr>\n",
       "      <th>0</th>\n",
       "      <td>26d2147d74ed4018b902d56c51fec053</td>\n",
       "      <td>428983509010758787</td>\n",
       "      <td>FINISHED</td>\n",
       "      <td>file:///Users/el_fer/Repos/my_ds_notebooks/060...</td>\n",
       "      <td>2024-10-04 16:38:11.790000+00:00</td>\n",
       "      <td>2024-10-04 16:38:13.729000+00:00</td>\n",
       "      <td>948.275862</td>\n",
       "      <td>0.995862</td>\n",
       "      <td>0.995862</td>\n",
       "      <td>1137.147065</td>\n",
       "      <td>...</td>\n",
       "      <td>True</td>\n",
       "      <td>None</td>\n",
       "      <td>None</td>\n",
       "      <td>LOCAL</td>\n",
       "      <td>LinearRegression</td>\n",
       "      <td>/opt/anaconda3/envs/MLFlow/lib/python3.11/site...</td>\n",
       "      <td>el_fer</td>\n",
       "      <td>[{\"run_id\": \"26d2147d74ed4018b902d56c51fec053\"...</td>\n",
       "      <td>nervous-calf-942</td>\n",
       "      <td>sklearn.linear_model._base.LinearRegression</td>\n",
       "    </tr>\n",
       "    <tr>\n",
       "      <th>1</th>\n",
       "      <td>e34fb6f162854422b658cf484142a391</td>\n",
       "      <td>428983509010758787</td>\n",
       "      <td>FINISHED</td>\n",
       "      <td>file:///Users/el_fer/Repos/my_ds_notebooks/060...</td>\n",
       "      <td>2024-10-04 15:40:35.779000+00:00</td>\n",
       "      <td>2024-10-04 15:40:38.407000+00:00</td>\n",
       "      <td>NaN</td>\n",
       "      <td>NaN</td>\n",
       "      <td>NaN</td>\n",
       "      <td>NaN</td>\n",
       "      <td>...</td>\n",
       "      <td>None</td>\n",
       "      <td>0.2</td>\n",
       "      <td>42</td>\n",
       "      <td>LOCAL</td>\n",
       "      <td>None</td>\n",
       "      <td>/opt/anaconda3/envs/MLFlow/lib/python3.11/site...</td>\n",
       "      <td>el_fer</td>\n",
       "      <td>[{\"run_id\": \"e34fb6f162854422b658cf484142a391\"...</td>\n",
       "      <td>gifted-slug-720</td>\n",
       "      <td>None</td>\n",
       "    </tr>\n",
       "  </tbody>\n",
       "</table>\n",
       "<p>2 rows × 26 columns</p>\n",
       "</div>"
      ],
      "text/plain": [
       "                             run_id       experiment_id    status  \\\n",
       "0  26d2147d74ed4018b902d56c51fec053  428983509010758787  FINISHED   \n",
       "1  e34fb6f162854422b658cf484142a391  428983509010758787  FINISHED   \n",
       "\n",
       "                                        artifact_uri  \\\n",
       "0  file:///Users/el_fer/Repos/my_ds_notebooks/060...   \n",
       "1  file:///Users/el_fer/Repos/my_ds_notebooks/060...   \n",
       "\n",
       "                        start_time                         end_time  \\\n",
       "0 2024-10-04 16:38:11.790000+00:00 2024-10-04 16:38:13.729000+00:00   \n",
       "1 2024-10-04 15:40:35.779000+00:00 2024-10-04 15:40:38.407000+00:00   \n",
       "\n",
       "   metrics.training_mean_absolute_error  metrics.training_score  \\\n",
       "0                            948.275862                0.995862   \n",
       "1                                   NaN                     NaN   \n",
       "\n",
       "   metrics.training_r2_score  metrics.training_root_mean_squared_error  ...  \\\n",
       "0                   0.995862                               1137.147065  ...   \n",
       "1                        NaN                                       NaN  ...   \n",
       "\n",
       "   params.fit_intercept  params.test_size  params.random_state  \\\n",
       "0                  True              None                 None   \n",
       "1                  None               0.2                   42   \n",
       "\n",
       "  tags.mlflow.source.type tags.estimator_name  \\\n",
       "0                   LOCAL    LinearRegression   \n",
       "1                   LOCAL                None   \n",
       "\n",
       "                             tags.mlflow.source.name tags.mlflow.user  \\\n",
       "0  /opt/anaconda3/envs/MLFlow/lib/python3.11/site...           el_fer   \n",
       "1  /opt/anaconda3/envs/MLFlow/lib/python3.11/site...           el_fer   \n",
       "\n",
       "                       tags.mlflow.log-model.history tags.mlflow.runName  \\\n",
       "0  [{\"run_id\": \"26d2147d74ed4018b902d56c51fec053\"...    nervous-calf-942   \n",
       "1  [{\"run_id\": \"e34fb6f162854422b658cf484142a391\"...     gifted-slug-720   \n",
       "\n",
       "                          tags.estimator_class  \n",
       "0  sklearn.linear_model._base.LinearRegression  \n",
       "1                                         None  \n",
       "\n",
       "[2 rows x 26 columns]"
      ]
     },
     "execution_count": 23,
     "metadata": {},
     "output_type": "execute_result"
    }
   ],
   "source": [
    "mlflow.search_runs()"
   ]
  },
  {
   "cell_type": "code",
   "execution_count": null,
   "id": "bd149c43-9483-464c-bd7d-c05a9d0924f4",
   "metadata": {},
   "outputs": [],
   "source": []
  }
 ],
 "metadata": {
  "kernelspec": {
   "display_name": "Python 3 (ipykernel)",
   "language": "python",
   "name": "python3"
  },
  "language_info": {
   "codemirror_mode": {
    "name": "ipython",
    "version": 3
   },
   "file_extension": ".py",
   "mimetype": "text/x-python",
   "name": "python",
   "nbconvert_exporter": "python",
   "pygments_lexer": "ipython3",
   "version": "3.11.10"
  }
 },
 "nbformat": 4,
 "nbformat_minor": 5
}
