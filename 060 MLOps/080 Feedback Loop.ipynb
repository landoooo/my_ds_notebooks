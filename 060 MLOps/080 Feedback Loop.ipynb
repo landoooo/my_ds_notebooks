{
 "cells": [
  {
   "cell_type": "markdown",
   "id": "524a003e-e8f0-49d7-8852-a33287eb188c",
   "metadata": {},
   "source": [
    "# Feedback Loops\n",
    "\n",
    "Architecture were model output is considered as system input.\n",
    "\n",
    "Metrics and or predictions can be used to inform syestem evolution\n",
    "\n",
    "Feedback loops allows for rapid learning and adjustment therefore better adapting to change\n",
    "\n",
    "Feedback loop implementation types: \n",
    "- Manual\n",
    "- Semiautomated\n",
    "- Automated\n",
    "  \n",
    "Data drift detection triggering a new retrain of the model is an example of feedback loop \n",
    "\n",
    "Online Learning, periodically retrain based on changing data is another. This goes beyond data drift: for instance changes in the data structure\n",
    "\n",
    "# Dangers of feedback loops \n",
    "\n",
    "Model's output can influence inputs (recomendations guiding users criteria)\n",
    "\n",
    "Can develop undesired behavioral patterns\n",
    "\n",
    "# Better usage of feedback loop\n",
    "\n",
    "Reactive: we decide when to adapt.\n",
    "\n",
    "Have a human in the loop \n",
    "\n",
    "Caution and oversight is key\n",
    "\n",
    "\n",
    "\n",
    "\n"
   ]
  }
 ],
 "metadata": {
  "kernelspec": {
   "display_name": "Python 3 (ipykernel)",
   "language": "python",
   "name": "python3"
  },
  "language_info": {
   "codemirror_mode": {
    "name": "ipython",
    "version": 3
   },
   "file_extension": ".py",
   "mimetype": "text/x-python",
   "name": "python",
   "nbconvert_exporter": "python",
   "pygments_lexer": "ipython3",
   "version": "3.12.4"
  }
 },
 "nbformat": 4,
 "nbformat_minor": 5
}
