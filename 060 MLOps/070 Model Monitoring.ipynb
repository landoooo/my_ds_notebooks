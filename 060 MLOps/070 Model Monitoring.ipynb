{
 "cells": [
  {
   "cell_type": "markdown",
   "id": "6769a20e-bbfc-49f2-a2b3-7a8b462e107b",
   "metadata": {
    "execution": {
     "iopub.execute_input": "2024-09-09T08:17:26.068195Z",
     "iopub.status.busy": "2024-09-09T08:17:26.067356Z",
     "iopub.status.idle": "2024-09-09T08:17:26.080687Z",
     "shell.execute_reply": "2024-09-09T08:17:26.078852Z",
     "shell.execute_reply.started": "2024-09-09T08:17:26.068131Z"
    }
   },
   "source": [
    "[NannyML](https://www.nannyml.com/)\n",
    "\n",
    "[NannyML on Github](https://github.com/nannyml/nannyml)"
   ]
  },
  {
   "cell_type": "code",
   "execution_count": null,
   "id": "bcacd958-f493-4ca4-a4a8-b725c6060af6",
   "metadata": {},
   "outputs": [],
   "source": []
  }
 ],
 "metadata": {
  "kernelspec": {
   "display_name": "Python 3 (ipykernel)",
   "language": "python",
   "name": "python3"
  },
  "language_info": {
   "codemirror_mode": {
    "name": "ipython",
    "version": 3
   },
   "file_extension": ".py",
   "mimetype": "text/x-python",
   "name": "python",
   "nbconvert_exporter": "python",
   "pygments_lexer": "ipython3",
   "version": "3.12.4"
  }
 },
 "nbformat": 4,
 "nbformat_minor": 5
}
