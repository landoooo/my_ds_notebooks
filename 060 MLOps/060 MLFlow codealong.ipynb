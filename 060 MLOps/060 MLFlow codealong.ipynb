{
 "cells": [
  {
   "cell_type": "code",
   "execution_count": null,
   "id": "480d08fd-aa6b-4b1b-9a14-3075ad762eb2",
   "metadata": {},
   "outputs": [],
   "source": [
    "import pandas as pd\n",
    "import mlflow"
   ]
  },
  {
   "cell_type": "code",
   "execution_count": null,
   "id": "13c5e439-b029-4c96-8f35-3be2130a190c",
   "metadata": {},
   "outputs": [],
   "source": [
    "mlflow.set_tracking_uri('sqlite:///mydb.sqlite')"
   ]
  },
  {
   "cell_type": "code",
   "execution_count": null,
   "id": "38ac58f7-3e09-46d7-8bf3-7e28071609fc",
   "metadata": {},
   "outputs": [],
   "source": [
    "experiment_id = mlflow.create_experiment('PotentialStartups')"
   ]
  },
  {
   "cell_type": "code",
   "execution_count": null,
   "id": "ad7cb891-6750-442b-8fa4-c691ea7ac9c0",
   "metadata": {},
   "outputs": [],
   "source": [
    "experiment = mlflow.get_experiment(experiment_id)\n",
    "print(f'Name: {experiment.name}')\n",
    "print(f'Creation time: {experiment.creation_time}')"
   ]
  },
  {
   "cell_type": "markdown",
   "id": "2181f1ca-64be-4c0d-a964-f61cc27ee772",
   "metadata": {
    "execution": {
     "iopub.execute_input": "2024-10-06T14:21:54.955294Z",
     "iopub.status.busy": "2024-10-06T14:21:54.953446Z",
     "iopub.status.idle": "2024-10-06T14:21:55.213754Z",
     "shell.execute_reply": "2024-10-06T14:21:55.212954Z",
     "shell.execute_reply.started": "2024-10-06T14:21:54.955218Z"
    }
   },
   "source": [
    "Now run the following command line command where the sqlite file is to startup the web interface\n",
    "\n",
    "```\n",
    "mlflow ui --backend-store-uri sqlite:///mydb.sqlite\n",
    "```"
   ]
  },
  {
   "cell_type": "code",
   "execution_count": null,
   "id": "f36996bf-8b7e-4de8-9622-1ba89b81abdf",
   "metadata": {},
   "outputs": [],
   "source": [
    "import pandas as pd\n",
    "import numpy as np\n",
    "from sklearn.model_selection import train_test_split\n",
    "\n",
    "# Load the Dataset\n",
    "df = pd.read_csv('../data/startups_profit.csv', index_col=False)\n",
    "df['State']=df['State'].map({'New York':0,'Florida':1, 'California': 2}).astype(int)\n",
    "\n",
    "# Training Data\n",
    "X = df[[\"R&D Spend\", \"Administration\", \"Marketing Spend\",\"State\"]]\n",
    "y = df[[\"Profit\"]]\n",
    "X, y = df.iloc[:, :-1], df.iloc[:, -1] \n",
    "\n",
    "# Setting up train test split\n",
    "X_train, X_test, y_train, y_test = train_test_split(X, np.ravel(y), train_size=0.7,random_state=0)"
   ]
  },
  {
   "cell_type": "code",
   "execution_count": null,
   "id": "900a5224-a224-4249-aef5-f051758caa3f",
   "metadata": {},
   "outputs": [],
   "source": [
    "len(X_train), len(X_test), len(y_train), len(y_test)"
   ]
  },
  {
   "cell_type": "code",
   "execution_count": null,
   "id": "c3d38237-f937-4d26-83ea-484a49137d3f",
   "metadata": {},
   "outputs": [],
   "source": [
    "# Log model to our Project\n",
    "import mlflow\n",
    "\n",
    "# Set the connection to the tracking URI\n",
    "mlflow.set_tracking_uri('sqlite:///mydb.sqlite')\n",
    "# Set the experiment\n",
    "mlflow.set_experiment(\"PotentialStartups\")"
   ]
  },
  {
   "cell_type": "code",
   "execution_count": null,
   "id": "2e13edad-b599-457b-8155-8f84d6ec33db",
   "metadata": {},
   "outputs": [],
   "source": [
    "mlflow.start_run()"
   ]
  },
  {
   "cell_type": "code",
   "execution_count": null,
   "id": "4d8cc9db-bd26-4c8b-af27-65899e9d44a5",
   "metadata": {},
   "outputs": [],
   "source": [
    "# Set Autolog for XGBoost\n",
    "import mlflow.xgboost\n",
    "\n",
    "mlflow.xgboost.autolog()"
   ]
  },
  {
   "cell_type": "code",
   "execution_count": null,
   "id": "d7b096eb-f976-4f39-b078-aeea7b6a257e",
   "metadata": {},
   "outputs": [],
   "source": [
    "# Train our First Model\n",
    "import xgboost \n",
    "\n",
    "xgbr = xgboost.XGBRegressor() \n",
    "xgbr.fit(X_train, y_train)"
   ]
  },
  {
   "cell_type": "code",
   "execution_count": null,
   "id": "9ced5999-5e92-4f93-a235-32d19108ff23",
   "metadata": {},
   "outputs": [],
   "source": [
    "# Evaluate our Model using MLflow. This is Log the metrics for us to MLflow.\n",
    "eval_data = X_test\n",
    "eval_data[\"Profits\"] = y_test\n",
    "\n",
    "# This will load our Model\n",
    "model_uri = mlflow.get_artifact_uri(\"model\")\n",
    "\n",
    "# This will run the evaluate Method against our model and our evaluation Data for the Regressor Type.\n",
    "# Here we are also only selecting the \"default\" evaluators\n",
    "result = mlflow.evaluate(\n",
    "    model_uri,\n",
    "    eval_data,\n",
    "    targets=\"Profits\",\n",
    "    model_type=\"regressor\",\n",
    "    evaluators=\"default\"\n",
    ")"
   ]
  },
  {
   "cell_type": "code",
   "execution_count": null,
   "id": "fc27b087-74ec-43ce-be81-c07c9c6aff5c",
   "metadata": {},
   "outputs": [],
   "source": [
    "# End our Run\n",
    "mlflow.end_run()"
   ]
  },
  {
   "cell_type": "code",
   "execution_count": null,
   "id": "29819fcc-08fc-4b35-9f24-3e3e1d8b7a61",
   "metadata": {},
   "outputs": [],
   "source": [
    "# Run this Cell a few times just to populate some data\n",
    "import mlflow.xgboost\n",
    "import xgboost\n",
    "\n",
    "# Start another MLflow Run\n",
    "with mlflow.start_run() as run:\n",
    "    mlflow.xgboost.autolog()\n",
    "\n",
    "    xgbr = xgboost.XGBRegressor() \n",
    "    xgbr.fit(X_train, y_train)\n",
    "\n",
    "    # Evaluate our Model using MLflow\n",
    "    eval_data = X_test\n",
    "    eval_data[\"Profits\"] = y_test\n",
    "    \n",
    "    # This will load our Model\n",
    "    model_uri = mlflow.get_artifact_uri(\"model\")\n",
    "    \n",
    "    # Set the evaluation function\n",
    "    result = mlflow.evaluate(\n",
    "        model_uri,\n",
    "        eval_data,\n",
    "        targets=\"Profits\",\n",
    "        model_type=\"regressor\",\n",
    "        evaluators=\"default\"\n",
    "    )"
   ]
  },
  {
   "cell_type": "code",
   "execution_count": null,
   "id": "7ac08068-f91e-493a-a9b3-7e896e0aeeb4",
   "metadata": {},
   "outputs": [],
   "source": []
  },
  {
   "cell_type": "code",
   "execution_count": null,
   "id": "7b91f002-2a2e-4605-a4b1-1d64e97853e0",
   "metadata": {},
   "outputs": [],
   "source": [
    "import mlflow\n",
    "import pandas as pd\n",
    "\n",
    "# Set Tracking URL \n",
    "mlflow.set_tracking_uri(\"sqlite:///mydb.sqlite\")\n",
    "\n",
    "# Get the Experiment ID\n",
    "experiment_id = mlflow.get_experiment_by_name(\"PotentialStartups\").experiment_id\n",
    "\n",
    "# Search runs and output to Pandas DF\n",
    "evals_df = mlflow.search_runs([experiment_id])\n",
    "evals_df.info()"
   ]
  },
  {
   "cell_type": "code",
   "execution_count": null,
   "id": "72843803-4eed-4699-9c32-d2c3d0dc9372",
   "metadata": {},
   "outputs": [],
   "source": [
    "evals_df"
   ]
  },
  {
   "cell_type": "code",
   "execution_count": null,
   "id": "3ba6f0db-34f2-4168-9146-9ec5214b35da",
   "metadata": {},
   "outputs": [],
   "source": [
    "# Sort it by r2_score\n",
    "evals_df = mlflow.search_runs([experiment_id], order_by=[\"metrics.r2_score DESC\"])\n",
    "evals_df"
   ]
  },
  {
   "cell_type": "code",
   "execution_count": null,
   "id": "652c3109-4132-4608-ac66-dc15a15c244c",
   "metadata": {},
   "outputs": [],
   "source": [
    "evals_df[['run_id', 'metrics.r2_score']]"
   ]
  },
  {
   "cell_type": "code",
   "execution_count": null,
   "id": "9957260a-37d2-416c-9c16-b51472d7226a",
   "metadata": {},
   "outputs": [],
   "source": []
  },
  {
   "cell_type": "code",
   "execution_count": null,
   "id": "d2550080-1601-48a4-b472-c70d2b137734",
   "metadata": {},
   "outputs": [],
   "source": [
    "# Create a New Model in The Model Registry using the MLflow Client\n",
    "import mlflow\n",
    "\n",
    "# Set out tracking URI\n",
    "mlflow.set_tracking_uri(\"sqlite:///mydb.sqlite\")\n",
    "\n",
    "# Create a client connection\n",
    "client = mlflow.MlflowClient()\n",
    "\n",
    "# Create a new Model in the Registry called StartupModels\n",
    "client.create_registered_model(\"StartupModels\")"
   ]
  },
  {
   "cell_type": "code",
   "execution_count": null,
   "id": "d6dbf598-a973-43fa-9d84-9810126ab608",
   "metadata": {},
   "outputs": [],
   "source": [
    "import mlflow\n",
    "\n",
    "# SET THESE 2 lines\n",
    "mlflow.set_tracking_uri(\"sqlite:///mydb.sqlite\")\n",
    "mlflow.set_experiment(\"PotentialStartups\")"
   ]
  },
  {
   "cell_type": "code",
   "execution_count": null,
   "id": "24b1546c-4c5d-41a9-b40e-f55ea2a23c18",
   "metadata": {},
   "outputs": [],
   "source": [
    "# To begin using the Model Registry, Pick our favorite model from above and register it using the run-id\n",
    "run_id = '80a5f60eb4724ac6a51701c411430b2c'\n",
    "\n",
    "# Register the model\n",
    "mlflow.register_model(f\"runs:/{run_id}/model\", \"StartupModels\")"
   ]
  },
  {
   "cell_type": "code",
   "execution_count": null,
   "id": "f0e6cdc2-9d38-4fdb-b7a0-5e708b4d0641",
   "metadata": {},
   "outputs": [],
   "source": []
  },
  {
   "cell_type": "code",
   "execution_count": null,
   "id": "76f8cc5f-4ad9-48b3-9fee-f297f96f3e44",
   "metadata": {},
   "outputs": [],
   "source": [
    "\n",
    "# Notice here we actually use mlflow XGBoost \"flavor\" to load the model. Check the MLflow Docs for more information on Flavors!\n",
    "model = mlflow.xgboost.load_model(model_uri=\"models:/StartupModels/1\")\n",
    "model"
   ]
  },
  {
   "cell_type": "code",
   "execution_count": null,
   "id": "bf1b93a5-2021-49e3-8188-bcadc0ee0251",
   "metadata": {},
   "outputs": [],
   "source": [
    "# Run a quick Prediction on profit using some fake data\n",
    "\n",
    "# R&D Spend, Administration, Marketing Spend, State\n",
    "predict_list = [345349.2, 133337.8, 472345.10, 1]\n",
    "# Predict\n",
    "prediction = model.predict([predict_list])\n",
    "prediction[0]"
   ]
  },
  {
   "cell_type": "raw",
   "id": "fb60d899-7eff-4170-b29c-d560d29c8dd4",
   "metadata": {
    "execution": {
     "iopub.execute_input": "2024-10-06T15:05:05.740793Z",
     "iopub.status.busy": "2024-10-06T15:05:05.740289Z",
     "iopub.status.idle": "2024-10-06T15:05:05.757735Z",
     "shell.execute_reply": "2024-10-06T15:05:05.755241Z",
     "shell.execute_reply.started": "2024-10-06T15:05:05.740757Z"
    }
   },
   "source": [
    "#!/usr/bin/env sh\n",
    "\n",
    "# Deploying a Model using the mlflow cli\n",
    "export MLFLOW_TRACKING_URI=\"sqlite:///mydb.sqlite\"\n",
    "\n",
    "# Serve the model from the Registry\n",
    "mlflow models serve -m \"models:/StartupModels/1\" --no-conda"
   ]
  },
  {
   "cell_type": "code",
   "execution_count": null,
   "id": "b54aaba1-c194-426a-a3e0-5636d226b6ac",
   "metadata": {},
   "outputs": [],
   "source": []
  }
 ],
 "metadata": {
  "kernelspec": {
   "display_name": "Python 3 (ipykernel)",
   "language": "python",
   "name": "python3"
  },
  "language_info": {
   "codemirror_mode": {
    "name": "ipython",
    "version": 3
   },
   "file_extension": ".py",
   "mimetype": "text/x-python",
   "name": "python",
   "nbconvert_exporter": "python",
   "pygments_lexer": "ipython3",
   "version": "3.11.10"
  }
 },
 "nbformat": 4,
 "nbformat_minor": 5
}
