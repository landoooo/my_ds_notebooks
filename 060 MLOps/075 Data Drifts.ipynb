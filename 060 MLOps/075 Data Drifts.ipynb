{
 "cells": [
  {
   "cell_type": "markdown",
   "id": "3438e228-5142-4661-b3c4-30669363450a",
   "metadata": {},
   "source": [
    "### What is Data Drift in Machine Learning?\n",
    "\n",
    "**Data drift** refers to changes in the statistical properties of input data over time. Machine learning models are trained with the assumption that the data distribution remains stable. When this distribution shifts, model performance can degrade, leading to less accurate predictions.\n",
    "\n",
    "### Why Does Data Drift Happen?\n",
    "\n",
    "Data drift can occur due to several reasons:\n",
    "\n",
    "- **Changes in user behavior**: Users may change their preferences or actions over time.\n",
    "- **Seasonality**: Periodic changes, such as holiday seasons, can impact data patterns.\n",
    "- **External factors**: Economic conditions, new regulations, or unforeseen events can alter the data distribution.\n",
    "- **Measurement changes**: A change in how data is collected (e.g., sensors or instruments) can cause drift.\n",
    "\n",
    "### Types of Data Drift\n",
    "\n",
    "1. **Covariate Shift**: The distribution of input features (X) changes, but the relationship between the input and the target remains the same.\n",
    "2. **Prior Probability Shift**: The distribution of the target variable (y) changes over time. For example, the proportion of different classes in a classification task may shift.\n",
    "3. **Concept Drift**: The relationship between input features and the target variable changes. This is more complex, as it means the model's learned patterns no longer apply (e.g., changes in customer behavior due to external events).\n",
    "\n",
    "### How to Identify Data Drift\n",
    "\n",
    "You can detect data drift using the following methods:\n",
    "\n",
    "- **Statistical Tests**:\n",
    "  - **Kolmogorov-Smirnov Test**: Compares the distribution of input features."
   ]
  },
  {
   "cell_type": "code",
   "execution_count": 2,
   "id": "46350faa-2166-4e61-9317-ee5bc6c6dede",
   "metadata": {
    "execution": {
     "iopub.execute_input": "2024-09-09T08:05:30.238511Z",
     "iopub.status.busy": "2024-09-09T08:05:30.237791Z",
     "iopub.status.idle": "2024-09-09T08:05:31.279917Z",
     "shell.execute_reply": "2024-09-09T08:05:31.279384Z",
     "shell.execute_reply.started": "2024-09-09T08:05:30.238468Z"
    }
   },
   "outputs": [
    {
     "name": "stdout",
     "output_type": "stream",
     "text": [
      "KS Statistic: 0.14285714285714285, P-value: 0.9999609537692629\n",
      "No data drift detected.\n"
     ]
    },
    {
     "name": "stderr",
     "output_type": "stream",
     "text": [
      "/opt/anaconda3/envs/ISLP_new/lib/python3.12/site-packages/scipy/stats/_axis_nan_policy.py:531: RuntimeWarning: ks_2samp: Exact calculation unsuccessful. Switching to method=asymp.\n",
      "  res = hypotest_fun_out(*samples, **kwds)\n"
     ]
    }
   ],
   "source": [
    "import pandas as pd\n",
    "from scipy import stats\n",
    "\n",
    "# Example DataFrames representing data at different times\n",
    "data1 = pd.Series([1.2, 2.3, 3.5, 4.6, 5.9, 7.2, 8.3])\n",
    "data2 = pd.Series([1.1, 2.1, 3.6, 4.5, 6.0, 7.1, 8.5])\n",
    "\n",
    "# Perform the KS test\n",
    "ks_statistic, p_value = stats.ks_2samp(data1, data2)\n",
    "\n",
    "print(f\"KS Statistic: {ks_statistic}, P-value: {p_value}\")\n",
    "if p_value < 0.05:\n",
    "    print(\"Data drift detected (significant difference in distributions).\")\n",
    "else:\n",
    "    print(\"No data drift detected.\")"
   ]
  },
  {
   "cell_type": "markdown",
   "id": "ab4e9195-5ffc-4fd0-8dd9-52a64e149671",
   "metadata": {},
   "source": [
    "      - **Chi-Square Test**: Often used for categorical variables."
   ]
  },
  {
   "cell_type": "code",
   "execution_count": 3,
   "id": "ab6d23a2-4ea7-4f19-b5b0-4132f1d5fc84",
   "metadata": {
    "execution": {
     "iopub.execute_input": "2024-09-09T08:05:33.842852Z",
     "iopub.status.busy": "2024-09-09T08:05:33.841605Z",
     "iopub.status.idle": "2024-09-09T08:05:33.869649Z",
     "shell.execute_reply": "2024-09-09T08:05:33.868868Z",
     "shell.execute_reply.started": "2024-09-09T08:05:33.842794Z"
    }
   },
   "outputs": [
    {
     "name": "stdout",
     "output_type": "stream",
     "text": [
      "Chi-Square Statistic: 0.34285714285714286, P-value: 0.8424604416167714\n",
      "No data drift detected.\n"
     ]
    }
   ],
   "source": [
    "from scipy.stats import chi2_contingency\n",
    "\n",
    "# Example categorical data at two different time points\n",
    "observed_data = pd.Series(['A', 'B', 'A', 'A', 'B', 'C', 'A'])\n",
    "new_data = pd.Series(['A', 'B', 'B', 'B', 'C', 'A', 'A'])\n",
    "\n",
    "# Create a frequency table\n",
    "observed_freq = observed_data.value_counts().sort_index()\n",
    "new_freq = new_data.value_counts().sort_index()\n",
    "\n",
    "# Align the indexes and fill missing values\n",
    "observed_freq, new_freq = observed_freq.align(new_freq, fill_value=0)\n",
    "\n",
    "# Perform the Chi-Square test\n",
    "chi2_stat, p_value, _, _ = chi2_contingency([observed_freq, new_freq])\n",
    "\n",
    "print(f\"Chi-Square Statistic: {chi2_stat}, P-value: {p_value}\")\n",
    "if p_value < 0.05:\n",
    "    print(\"Data drift detected (significant difference in categorical distribution).\")\n",
    "else:\n",
    "    print(\"No data drift detected.\")"
   ]
  },
  {
   "cell_type": "markdown",
   "id": "b05cfeb9-6294-4783-af5c-f202075c2fe4",
   "metadata": {},
   "source": [
    "      - **Population Stability Index (PSI)**: Measures how much a feature's distribution has shifted."
   ]
  },
  {
   "cell_type": "code",
   "execution_count": 4,
   "id": "6c567795-c5b6-4433-ba4f-fa91f7afe4a9",
   "metadata": {
    "execution": {
     "iopub.execute_input": "2024-09-09T08:05:52.524778Z",
     "iopub.status.busy": "2024-09-09T08:05:52.523772Z",
     "iopub.status.idle": "2024-09-09T08:05:52.548141Z",
     "shell.execute_reply": "2024-09-09T08:05:52.547365Z",
     "shell.execute_reply.started": "2024-09-09T08:05:52.524736Z"
    }
   },
   "outputs": [
    {
     "name": "stdout",
     "output_type": "stream",
     "text": [
      "PSI Value: 0.6216175723509778\n",
      "Significant drift detected.\n"
     ]
    },
    {
     "name": "stderr",
     "output_type": "stream",
     "text": [
      "/var/folders/tx/44c409ls4bvf__rjhb2qjmf40000gn/T/ipykernel_36007/2548220819.py:10: RuntimeWarning: divide by zero encountered in log\n",
      "  psi_values = (expected_perc - actual_perc) * np.log(expected_perc / actual_perc)\n"
     ]
    }
   ],
   "source": [
    "import numpy as np\n",
    "\n",
    "# Function to calculate PSI\n",
    "def calculate_psi(expected, actual, buckets=10):\n",
    "    \"\"\"Calculates PSI for a single feature.\"\"\"\n",
    "    breakpoints = np.linspace(0, 1, buckets + 1)\n",
    "    expected_perc = np.histogram(expected, bins=buckets, range=(0, 1))[0] / len(expected)\n",
    "    actual_perc = np.histogram(actual, bins=buckets, range=(0, 1))[0] / len(actual)\n",
    "\n",
    "    psi_values = (expected_perc - actual_perc) * np.log(expected_perc / actual_perc)\n",
    "    psi = np.sum(psi_values[np.isfinite(psi_values)])  # Ignore nan or inf\n",
    "    return psi\n",
    "\n",
    "# Example data\n",
    "expected_data = np.random.normal(0.5, 0.1, 1000)  # Original data\n",
    "actual_data = np.random.normal(0.6, 0.2, 1000)    # New data with drift\n",
    "\n",
    "# Calculate PSI\n",
    "psi_value = calculate_psi(expected_data, actual_data)\n",
    "print(f\"PSI Value: {psi_value}\")\n",
    "\n",
    "# PSI thresholds:\n",
    "if psi_value < 0.1:\n",
    "    print(\"No significant drift.\")\n",
    "elif psi_value < 0.2:\n",
    "    print(\"Slight drift.\")\n",
    "else:\n",
    "    print(\"Significant drift detected.\")"
   ]
  },
  {
   "cell_type": "markdown",
   "id": "36985289-6dac-4e76-bf87-bce642318900",
   "metadata": {},
   "source": [
    "- **Model Performance Monitoring**: Degrading performance (accuracy, precision, recall) can be a sign of data drift."
   ]
  },
  {
   "cell_type": "code",
   "execution_count": 5,
   "id": "f0afccf9-44b5-4023-8af3-48b2dd3964cc",
   "metadata": {
    "execution": {
     "iopub.execute_input": "2024-09-09T08:06:29.763370Z",
     "iopub.status.busy": "2024-09-09T08:06:29.760951Z",
     "iopub.status.idle": "2024-09-09T08:06:30.005796Z",
     "shell.execute_reply": "2024-09-09T08:06:30.005389Z",
     "shell.execute_reply.started": "2024-09-09T08:06:29.763228Z"
    }
   },
   "outputs": [
    {
     "name": "stdout",
     "output_type": "stream",
     "text": [
      "Accuracy Before Drift: 1.0\n",
      "Accuracy After Drift: 0.7142857142857143\n",
      "Significant performance drop detected, possible data drift.\n"
     ]
    }
   ],
   "source": [
    "from sklearn.metrics import accuracy_score\n",
    "\n",
    "# Example: Accuracy of a model on two datasets (before and after drift)\n",
    "true_labels = [0, 1, 1, 0, 1, 1, 0]\n",
    "predicted_labels_before = [0, 1, 1, 0, 1, 1, 0]\n",
    "predicted_labels_after = [0, 0, 1, 0, 0, 1, 0]\n",
    "\n",
    "# Calculate accuracy before and after\n",
    "accuracy_before = accuracy_score(true_labels, predicted_labels_before)\n",
    "accuracy_after = accuracy_score(true_labels, predicted_labels_after)\n",
    "\n",
    "print(f\"Accuracy Before Drift: {accuracy_before}\")\n",
    "print(f\"Accuracy After Drift: {accuracy_after}\")\n",
    "\n",
    "if accuracy_before - accuracy_after > 0.1:  # Arbitrary threshold for drop\n",
    "    print(\"Significant performance drop detected, possible data drift.\")\n",
    "else:\n",
    "    print(\"No significant performance drop.\")"
   ]
  },
  {
   "cell_type": "markdown",
   "id": "50a4418a-7e2e-4d48-adb8-bf9382afcb98",
   "metadata": {},
   "source": [
    "- **Visualization**: Comparing data distributions across time periods can help visually detect drift.\n",
    "- **Drift Detection Algorithms**:\n",
    "  - **DDM (Drift Detection Method)** and **EDDM (Early Drift Detection Method)**: Algorithms that monitor error rates for drift detection."
   ]
  },
  {
   "cell_type": "code",
   "execution_count": 6,
   "id": "a5c0244e-531b-4a2f-a0d3-8ba1cc57d38d",
   "metadata": {
    "execution": {
     "iopub.execute_input": "2024-09-09T08:07:02.392679Z",
     "iopub.status.busy": "2024-09-09T08:07:02.390858Z",
     "iopub.status.idle": "2024-09-09T08:07:02.412914Z",
     "shell.execute_reply": "2024-09-09T08:07:02.409093Z",
     "shell.execute_reply.started": "2024-09-09T08:07:02.392630Z"
    }
   },
   "outputs": [],
   "source": [
    "class DDM:\n",
    "    def __init__(self):\n",
    "        self.min_error_rate = float('inf')\n",
    "        self.warning_level = 0\n",
    "        self.drift_level = 0\n",
    "        self.error_thresholds = []\n",
    "\n",
    "    def add_error(self, error_rate):\n",
    "        self.min_error_rate = min(self.min_error_rate, error_rate)\n",
    "        diff = error_rate - self.min_error_rate\n",
    "        self.warning_level = self.min_error_rate + 2 * np.sqrt(self.min_error_rate * (1 - self.min_error_rate) / (len(self.error_thresholds) + 1))\n",
    "        self.drift_level = self.min_error_rate + 3 * np.sqrt(self.min_error_rate * (1 - self.min_error_rate) / (len(self.error_thresholds) + 1))\n",
    "        self.error_thresholds.append(error_rate)\n",
    "\n",
    "        if error_rate > self.drift_level:\n",
    "            print(\"Drift detected.\")\n",
    "        elif error_rate > self.warning_level:\n",
    "            print(\"Warning: Possible drift.\")\n",
    "\n",
    "# Simulate error rates over time\n",
    "error_rates = [0.1, 0.12, 0.09, 0.15, 0.2, 0.3]  # A simulated drift in error rates\n",
    "\n",
    "ddm = DDM()\n",
    "for rate in error_rates:\n",
    "    ddm.add_error(rate)"
   ]
  },
  {
   "cell_type": "markdown",
   "id": "e6e0d065-0c81-4d8f-87d4-a63946de352e",
   "metadata": {},
   "source": [
    "### How to Mitigate the Effects of Data Drift\n",
    "\n",
    "1. **Regular Model Retraining**: Retrain your model periodically to adapt to new data distributions.\n",
    "2. **Online Learning**: Use algorithms that can learn incrementally, updating the model as new data arrives.\n",
    "3. **Feature Engineering**: Adjust or create new features dynamically to account for changes in data patterns.\n",
    "4. **Deploy Drift Detection Systems**: Implement systems that automatically detect drift and alert you to take action.\n",
    "5. **Monitor Input Data**: Regularly check for shifts in the distribution of input features.\n",
    "\n",
    "### What to Do When Data Drift Happens\n",
    "\n",
    "When data drift is detected, take the following actions:\n",
    "\n",
    "1. **Diagnose the Drift**: Identify whether the drift is due to covariate shift, prior probability shift, or concept drift.\n",
    "2. **Retrain the Model**: Use recent data to retrain the model. If it's concept drift, you may need to re-engineer features or even change the model architecture.\n",
    "3. **Model Refresh**: Consider periodically refreshing or replacing models if the drift is severe.\n",
    "4. **Deploy Adaptive Models**: In cases of continuous drift, online learning or adaptive models may be more suitable.\n",
    "5. **Investigate External Factors**: If the drift is driven by external events (e.g., new regulations), further adjustments might be required.\n"
   ]
  },
  {
   "cell_type": "markdown",
   "id": "a42b2eb5-cb54-4a8c-b7cb-0a858fb95e9e",
   "metadata": {},
   "source": [
    "## Evidently \n",
    "\n",
    "[Evidently](https://github.com/evidentlyai/evidently) is an open source python library that test and correct data drifts\n"
   ]
  },
  {
   "cell_type": "code",
   "execution_count": null,
   "id": "149befe3-3bf2-4ede-b9dd-8c9b9d34ae36",
   "metadata": {},
   "outputs": [],
   "source": []
  }
 ],
 "metadata": {
  "kernelspec": {
   "display_name": "Python 3 (ipykernel)",
   "language": "python",
   "name": "python3"
  },
  "language_info": {
   "codemirror_mode": {
    "name": "ipython",
    "version": 3
   },
   "file_extension": ".py",
   "mimetype": "text/x-python",
   "name": "python",
   "nbconvert_exporter": "python",
   "pygments_lexer": "ipython3",
   "version": "3.12.4"
  }
 },
 "nbformat": 4,
 "nbformat_minor": 5
}
