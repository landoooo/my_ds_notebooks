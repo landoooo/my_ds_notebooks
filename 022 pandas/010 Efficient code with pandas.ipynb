{
 "cells": [
  {
   "cell_type": "markdown",
   "metadata": {},
   "source": []
  },
  {
   "cell_type": "code",
   "execution_count": 20,
   "metadata": {},
   "outputs": [],
   "source": [
    "import pandas as pd\n",
    "import time as t \n",
    "import numpy as np"
   ]
  },
  {
   "cell_type": "code",
   "execution_count": null,
   "metadata": {},
   "outputs": [],
   "source": [
    "start_time = t.time()\n",
    "result = 5 + 2\n",
    "end_time = t.time()\n",
    "\n",
    "print(f\"Result calculated in {end_time - start_time} seconds\")"
   ]
  },
  {
   "cell_type": "code",
   "execution_count": null,
   "metadata": {},
   "outputs": [],
   "source": [
    "max = 10000000\n",
    "\n",
    "start_time = t.time()\n",
    "result = [i * i for i in range(0, max)]\n",
    "end_time = t.time()\n",
    "print(f\"Result calculated in {end_time - start_time} seconds using list comprehension\")\n",
    "\n",
    "start_time = t.time()\n",
    "result = []\n",
    "for i in range(0, max):\n",
    "    result.append(i * i)\n",
    "\n",
    "end_time = t.time()\n",
    "print(f\"Result calculated in {end_time - start_time} seconds using a for loop\")\n"
   ]
  },
  {
   "cell_type": "code",
   "execution_count": 13,
   "metadata": {},
   "outputs": [],
   "source": [
    "poker = pd.read_csv(\"poker_hand.csv\")"
   ]
  },
  {
   "cell_type": "code",
   "execution_count": null,
   "metadata": {},
   "outputs": [],
   "source": [
    "poker.head()"
   ]
  },
  {
   "cell_type": "code",
   "execution_count": null,
   "metadata": {},
   "outputs": [],
   "source": [
    "rows = range(0, 500)\n",
    "\n",
    "loc_start_time = t.time()\n",
    "poker.loc[rows]\n",
    "loc_end_time = t.time()\n",
    "\n",
    "print(f\"Data located with loc in {loc_end_time - loc_start_time} seconds\")"
   ]
  },
  {
   "cell_type": "code",
   "execution_count": null,
   "metadata": {},
   "outputs": [],
   "source": [
    "loc_start_time = t.time()\n",
    "poker.iloc[rows]\n",
    "loc_end_time = t.time()\n",
    "\n",
    "print(f\"Data located with iloc in {loc_end_time - loc_start_time} seconds\")\n"
   ]
  },
  {
   "cell_type": "code",
   "execution_count": null,
   "metadata": {},
   "outputs": [],
   "source": [
    "loc_start_time = t.time()\n",
    "poker.iloc[:, :3]\n",
    "loc_end_time = t.time()\n",
    "\n",
    "print(f\"Data located with iloc in {loc_end_time - loc_start_time} seconds\")\n",
    "\n",
    "loc_start_time = t.time()\n",
    "poker[['S1','R1','S2']]\n",
    "loc_end_time = t.time()\n",
    "\n",
    "print(f\"Data located with column names in {loc_end_time - loc_start_time} seconds\")\n"
   ]
  },
  {
   "cell_type": "markdown",
   "metadata": {},
   "source": [
    "## Sampling Random rows/columns using pandas "
   ]
  },
  {
   "cell_type": "code",
   "execution_count": null,
   "metadata": {},
   "outputs": [],
   "source": [
    "start_time = t.time()\n",
    "poker.sample(100, axis=0)\n",
    "end_time = t.time()\n",
    "print(f\"Data sampled in {end_time - start_time} seconds\")"
   ]
  },
  {
   "cell_type": "code",
   "execution_count": null,
   "metadata": {},
   "outputs": [],
   "source": [
    "start_time = t.time()\n",
    "poker.iloc[np.random.randint(0, poker.shape[0], 100)]\n",
    "end_time = t.time()\n",
    "print(f\"Data sampled in {end_time - start_time} seconds using iloc\")"
   ]
  },
  {
   "cell_type": "code",
   "execution_count": null,
   "metadata": {},
   "outputs": [],
   "source": [
    "start_time = t.time()\n",
    "poker.sample(3, axis=1)\n",
    "end_time = t.time()\n",
    "print(f\"Data sampled in {end_time - start_time} seconds\")"
   ]
  },
  {
   "cell_type": "code",
   "execution_count": null,
   "metadata": {},
   "outputs": [],
   "source": [
    "%timeit -r10 -n10 poker.sample(3, axis=1)"
   ]
  },
  {
   "cell_type": "code",
   "execution_count": null,
   "metadata": {},
   "outputs": [],
   "source": [
    "%timeit  -r10 -n10 poker.iloc[:, np.random.randint(0, poker.shape[1], 3)]"
   ]
  },
  {
   "cell_type": "markdown",
   "metadata": {},
   "source": [
    "## Replace Values in pandas"
   ]
  },
  {
   "cell_type": "code",
   "execution_count": 42,
   "metadata": {},
   "outputs": [],
   "source": [
    "names = pd.read_csv(\"Popular_Baby_Names.csv\")"
   ]
  },
  {
   "cell_type": "code",
   "execution_count": null,
   "metadata": {},
   "outputs": [],
   "source": [
    "names.head()"
   ]
  },
  {
   "cell_type": "code",
   "execution_count": null,
   "metadata": {},
   "outputs": [],
   "source": [
    "%timeit -r1 -n1 names['Gender'].loc[names.Gender=='MALE']='BOY'"
   ]
  },
  {
   "cell_type": "code",
   "execution_count": null,
   "metadata": {},
   "outputs": [],
   "source": [
    "%timeit -r1 -n1 names['Gender'].replace('MALE', 'BOY', inplace=True)\n"
   ]
  },
  {
   "cell_type": "code",
   "execution_count": null,
   "metadata": {},
   "outputs": [],
   "source": [
    "names['Ethnicity'].value_counts()"
   ]
  },
  {
   "cell_type": "code",
   "execution_count": 47,
   "metadata": {},
   "outputs": [],
   "source": [
    "names['Ethnicity'].replace(['WHITE NON HISPANIC', 'WHITE NON HISP'], 'WNH', inplace=True)"
   ]
  },
  {
   "cell_type": "code",
   "execution_count": null,
   "metadata": {},
   "outputs": [],
   "source": [
    "names[\"Ethnicity\"].value_counts()\n"
   ]
  },
  {
   "cell_type": "markdown",
   "metadata": {},
   "source": [
    "## Iterating over rows"
   ]
  },
  {
   "cell_type": "code",
   "execution_count": null,
   "metadata": {},
   "outputs": [],
   "source": [
    "# Create a generator over the rows\n",
    "generator = poker.iterrows()\n",
    "\n",
    "# Access the elements of the 2nd row\n",
    "first_element = next(generator)\n",
    "second_element = next(generator)\n",
    "print(first_element, second_element)\n"
   ]
  },
  {
   "cell_type": "code",
   "execution_count": null,
   "metadata": {},
   "outputs": [],
   "source": [
    "data_generator = poker.iterrows()\n",
    "\n",
    "for index, values in data_generator:\n",
    "    # Check if index is odd\n",
    "    if index % 2 != 0:\n",
    "        # Sum the ranks of all the cards\n",
    "        hand_sum = sum([values[1], values[3], values[5], values[7], values[9]])\n",
    "\n",
    "print(hand_sum)"
   ]
  },
  {
   "cell_type": "code",
   "execution_count": null,
   "metadata": {},
   "outputs": [],
   "source": [
    "# Define the lambda transformation\n",
    "get_square = lambda x: x**2\n",
    "\n",
    "# Apply the transformation\n",
    "data_sum = poker.apply(get_square)\n",
    "print(data_sum.head())\n"
   ]
  },
  {
   "cell_type": "code",
   "execution_count": null,
   "metadata": {},
   "outputs": [],
   "source": [
    "get_variance = lambda x: np.var(x)\n",
    "\n",
    "# Apply the transformation\n",
    "data_tr = poker[[\"R1\", \"R2\", \"R3\", \"R4\", \"R5\"]].apply(get_variance, axis=0)\n",
    "print(data_tr.head())\n"
   ]
  },
  {
   "cell_type": "code",
   "execution_count": null,
   "metadata": {},
   "outputs": [],
   "source": [
    "get_variance = lambda x: np.var(x)\n",
    "\n",
    "# Apply the transformation\n",
    "data_tr = poker[[\"R1\", \"R2\", \"R3\", \"R4\", \"R5\"]].apply(get_variance, axis=1)\n",
    "print(data_tr.head())\n"
   ]
  },
  {
   "cell_type": "markdown",
   "metadata": {},
   "source": [
    "## Data Transformation using grouped data"
   ]
  },
  {
   "cell_type": "code",
   "execution_count": null,
   "metadata": {},
   "outputs": [],
   "source": [
    "restaurant_data = pd.read_csv(\"restaurant_data.csv\")\n",
    "restaurant_data.head()"
   ]
  },
  {
   "cell_type": "code",
   "execution_count": null,
   "metadata": {},
   "outputs": [],
   "source": [
    "# Define the min-max transformation\n",
    "min_max_tr = lambda x: (x - x.min()) / (x.max() - x.min())\n",
    "\n",
    "# Group the data according to the time\n",
    "restaurant_grouped = restaurant_data.groupby(\"time\")\n",
    "\n",
    "# Apply the transformation only to numeric columns\n",
    "restaurant_min_max_group = restaurant_grouped.transform(min_max_tr)\n",
    "print(restaurant_min_max_group.head())\n"
   ]
  },
  {
   "cell_type": "code",
   "execution_count": null,
   "metadata": {},
   "outputs": [],
   "source": [
    "restaurant_data.dtypes\n"
   ]
  },
  {
   "cell_type": "code",
   "execution_count": null,
   "metadata": {},
   "outputs": [],
   "source": [
    "# Define the exponential transformation\n",
    "exp_tr = lambda x: np.exp(-x.mean() * x) * x.mean()\n",
    "\n",
    "# Group the data according to the time\n",
    "restaurant_grouped = restaurant_data.groupby(\"time\")\n",
    "\n",
    "# Apply the transformation\n",
    "restaurant_exp_group = restaurant_grouped[\"tip\"].transform(exp_tr)\n",
    "print(restaurant_exp_group.head())\n"
   ]
  },
  {
   "cell_type": "code",
   "execution_count": null,
   "metadata": {},
   "outputs": [],
   "source": [
    "poker_grouped = poker.groupby(\"Class\")\n",
    "\n",
    "zscore = lambda x: (x - x.mean()) / x.std()\n",
    "\n",
    "# Apply the transformation\n",
    "poker_trans = poker_grouped.transform(zscore)\n",
    "\n",
    "# Re-group the grouped object\n",
    "poker_regrouped = poker_trans.groupby(poker[\"Class\"])\n",
    "\n",
    "# Print each group's means and standard deviation\n",
    "print(np.round(poker_regrouped.mean(), 3))\n",
    "print(poker_regrouped.std())\n"
   ]
  },
  {
   "cell_type": "code",
   "execution_count": null,
   "metadata": {},
   "outputs": [],
   "source": []
  },
  {
   "cell_type": "markdown",
   "metadata": {},
   "source": [
    "## Filtering based on grouped data"
   ]
  },
  {
   "cell_type": "code",
   "execution_count": null,
   "metadata": {},
   "outputs": [],
   "source": [
    "grouped = restaurant_data.groupby('day')\n",
    "\n",
    "def filter_trans(x):\n",
    "    return x['total_bill'].mean() > 20 \n",
    "\n",
    "restaurant_filtered = grouped.filter(filter_trans)\n",
    "restaurant_filtered['tip'].mean()"
   ]
  },
  {
   "cell_type": "code",
   "execution_count": null,
   "metadata": {},
   "outputs": [],
   "source": [
    "restaurant_data['tip'].mean()"
   ]
  },
  {
   "cell_type": "code",
   "execution_count": null,
   "metadata": {},
   "outputs": [],
   "source": []
  }
 ],
 "metadata": {
  "kernelspec": {
   "display_name": "BaseML",
   "language": "python",
   "name": "python3"
  },
  "language_info": {
   "codemirror_mode": {
    "name": "ipython",
    "version": 3
   },
   "file_extension": ".py",
   "mimetype": "text/x-python",
   "name": "python",
   "nbconvert_exporter": "python",
   "pygments_lexer": "ipython3",
   "version": "3.11.10"
  }
 },
 "nbformat": 4,
 "nbformat_minor": 2
}
