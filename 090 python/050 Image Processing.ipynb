{
 "cells": [
  {
   "cell_type": "markdown",
   "id": "f091b42a-b044-48f0-96fe-f74449624a4e",
   "metadata": {},
   "source": [
    "# Introduction to Skimage"
   ]
  },
  {
   "cell_type": "code",
   "execution_count": null,
   "id": "84a40544-d8ba-4cbc-a9c9-d422ee6a5c9e",
   "metadata": {},
   "outputs": [],
   "source": [
    "from skimage import data \n",
    "\n",
    "rocket_image = data.rocket()"
   ]
  },
  {
   "cell_type": "code",
   "execution_count": null,
   "id": "885f7241-9f36-422e-812d-7335be29b0d7",
   "metadata": {},
   "outputs": [],
   "source": [
    "import matplotlib.pyplot as plt\n",
    "\n",
    "def show_image(image, title='Image', cmap_type='gray'): \n",
    "    plt.imshow(image, cmap=cmap_type) \n",
    "    plt.title(title)\n",
    "    plt.axis('off')\n",
    "    plt.show()"
   ]
  },
  {
   "cell_type": "code",
   "execution_count": null,
   "id": "21f975bf-c3ca-4ad1-9d5c-5f3427ef5ae0",
   "metadata": {},
   "outputs": [],
   "source": [
    "show_image(rocket_image)"
   ]
  },
  {
   "cell_type": "code",
   "execution_count": null,
   "id": "18ce8520-8a3d-41b5-898d-c41e6dba83a1",
   "metadata": {},
   "outputs": [],
   "source": [
    "from skimage import color\n",
    "\n",
    "show_image(color.rgb2gray(rocket_image))"
   ]
  },
  {
   "cell_type": "code",
   "execution_count": null,
   "id": "8e06276c-c598-4bea-8b46-88d17f8ddf9f",
   "metadata": {},
   "outputs": [],
   "source": [
    "coffee_image = data.coffee()\n",
    "coins_image = data.coins()"
   ]
  },
  {
   "cell_type": "code",
   "execution_count": null,
   "id": "8516a67a-4671-42e1-ad0a-c3476b2bce93",
   "metadata": {},
   "outputs": [],
   "source": [
    "coffee_image.shape"
   ]
  },
  {
   "cell_type": "code",
   "execution_count": null,
   "id": "81447880-128f-4bf3-9112-61d6a543128f",
   "metadata": {},
   "outputs": [],
   "source": [
    "coins_image.shape"
   ]
  },
  {
   "cell_type": "code",
   "execution_count": null,
   "id": "90147b92-8faf-45a4-bc90-9b5809fa05fc",
   "metadata": {},
   "outputs": [],
   "source": [
    "# Import the modules from skimage\n",
    "from skimage import data, color\n",
    "\n",
    "# Load the rocket image\n",
    "rocket = data.rocket()\n",
    "\n",
    "# Convert the image to grayscale\n",
    "gray_scaled_rocket = color.rgb2gray(rocket)\n",
    "\n",
    "# Show the original image\n",
    "show_image(rocket, 'Original RGB image')\n",
    "\n",
    "# Show the grayscale image\n",
    "show_image(gray_scaled_rocket, 'Grayscale image')"
   ]
  },
  {
   "cell_type": "markdown",
   "id": "75ee378a-0a3f-465d-a3da-1992b1081ae8",
   "metadata": {},
   "source": [
    "# Numpy for Images\n",
    "\n",
    "Images can be represented by numpy arrays. In particular, color images would be 3 matrices, one for each color chanel."
   ]
  },
  {
   "cell_type": "code",
   "execution_count": null,
   "id": "a5b69292-9f93-434c-bf53-57b9e550930d",
   "metadata": {},
   "outputs": [],
   "source": [
    "rocket_image = data.rocket()"
   ]
  },
  {
   "cell_type": "code",
   "execution_count": null,
   "id": "ff7b303c-4677-494b-bde8-f7e8b1169717",
   "metadata": {},
   "outputs": [],
   "source": [
    "type(rocket_image)"
   ]
  },
  {
   "cell_type": "code",
   "execution_count": null,
   "id": "b4e0714a-58f1-4e9b-bf76-4bb36f1f29d9",
   "metadata": {},
   "outputs": [],
   "source": [
    "rocket_image.shape"
   ]
  },
  {
   "cell_type": "code",
   "execution_count": null,
   "id": "8cbfaba9-3abd-4765-a118-640cbd04fcc0",
   "metadata": {},
   "outputs": [],
   "source": [
    "show_image(rocket_image[:,:,0])"
   ]
  },
  {
   "cell_type": "code",
   "execution_count": null,
   "id": "b3879e44-d321-424b-8705-a439a9ef6a7b",
   "metadata": {},
   "outputs": [],
   "source": [
    "import numpy as np \n",
    "show_image(np.flipud(rocket_image))"
   ]
  },
  {
   "cell_type": "code",
   "execution_count": null,
   "id": "63dd7116-97a1-41f9-b1dc-a9083b6e77c3",
   "metadata": {},
   "outputs": [],
   "source": [
    "show_image(np.fliplr(rocket_image))"
   ]
  },
  {
   "cell_type": "code",
   "execution_count": null,
   "id": "d81f57c5-7ef2-4365-8d35-5f463f1dfb2e",
   "metadata": {},
   "outputs": [],
   "source": [
    "import seaborn as sns\n",
    "sns.histplot(rocket_image[:,:,0].ravel(), bins=256)"
   ]
  },
  {
   "cell_type": "code",
   "execution_count": null,
   "id": "1b385b6f-97ca-40c3-b5f2-9f103dfe2ede",
   "metadata": {},
   "outputs": [],
   "source": [
    "rocket_image[:,:,0].ravel().shape"
   ]
  },
  {
   "cell_type": "markdown",
   "id": "ec031b96-9484-492b-af38-8a06791eb290",
   "metadata": {},
   "source": [
    "# Thresholding\n",
    "\n",
    "Its the easiest method for image segmentation.\n",
    "\n",
    "It works best with gray scale images, so first convert any color image to gray scale.\n",
    "\n",
    "We set a threshold value and make white any value below the threshold and black any value above it.\n",
    "\n",
    "Can be global or local"
   ]
  },
  {
   "cell_type": "code",
   "execution_count": null,
   "id": "99bfffa0-bd2b-44ca-bff3-aa02ec6706f4",
   "metadata": {},
   "outputs": [],
   "source": [
    "threshold = 127\n",
    "\n",
    "rocket_gray = color.rgb2gray(rocket_image)\n",
    "\n",
    "binary = rocket_gray*256 > threshold\n",
    "\n",
    "show_image(binary)"
   ]
  },
  {
   "cell_type": "code",
   "execution_count": null,
   "id": "0eec3d8f-05f3-4aff-9cae-6e00e2f2a342",
   "metadata": {},
   "outputs": [],
   "source": [
    "rocket_gray"
   ]
  },
  {
   "cell_type": "code",
   "execution_count": null,
   "id": "74ca76c5-006e-4782-a2d6-045b4dd1810d",
   "metadata": {},
   "outputs": [],
   "source": [
    "from skimage.filters import try_all_threshold \n",
    "\n",
    "try_all_threshold(rocket_gray*256)"
   ]
  },
  {
   "cell_type": "markdown",
   "id": "6aae5383-eb94-4f37-b6e9-6ce7ecc61f65",
   "metadata": {},
   "source": [
    "# Getting the optimal threshold value "
   ]
  },
  {
   "cell_type": "code",
   "execution_count": null,
   "id": "f89d510f-149e-4d1a-9752-9e4fa20f5ecf",
   "metadata": {},
   "outputs": [],
   "source": [
    "from skimage.filters import threshold_otsu\n",
    "\n",
    "threshold = threshold_otsu(rocket_gray*256)\n",
    "\n",
    "binary_global = rocket_gray*256 > threshold \n",
    "\n",
    "show_image(binary_global)"
   ]
  },
  {
   "cell_type": "code",
   "execution_count": null,
   "id": "c3398469-843c-47d2-ba9f-c31232aab59f",
   "metadata": {},
   "outputs": [],
   "source": [
    "from skimage.filters import threshold_local\n",
    "\n",
    "block_size = 35 \n",
    "\n",
    "local_threshold = threshold_local(rocket_gray*256, block_size, offset=10)"
   ]
  },
  {
   "cell_type": "code",
   "execution_count": null,
   "id": "52b78047-75c1-4737-8624-0702981ef49b",
   "metadata": {},
   "outputs": [],
   "source": [
    "\n",
    "binary_local = rocket_gray*256 > local_threshold \n",
    "\n",
    "show_image(binary_local)"
   ]
  },
  {
   "cell_type": "markdown",
   "id": "99cc314a-9423-4f05-b259-a9ffe8a0d7cf",
   "metadata": {},
   "source": [
    "# Filtering\n",
    "\n",
    "Can be used to enhance images, emphasize or remove features, smoothing, sharpening or edge detection\n",
    "\n",
    "Filtering is a neighborhood operation, so it doesnt tackle the whole image at once.\n",
    "\n",
    "Filtering can be used to detect edges."
   ]
  },
  {
   "cell_type": "code",
   "execution_count": null,
   "id": "f6ae73c3-7ac1-4587-bbfd-2ee622c2e427",
   "metadata": {},
   "outputs": [],
   "source": [
    "from skimage.filters import sobel\n",
    "\n",
    "from skimage.io import imread\n",
    "\n",
    "image = imread('../data/ImageProcessing/chapter 2/soap_image.jpg')\n",
    "\n",
    "show_image(image)"
   ]
  },
  {
   "cell_type": "code",
   "execution_count": null,
   "id": "53b28ecd-0db0-49ad-9d87-bc1bd5c4a314",
   "metadata": {},
   "outputs": [],
   "source": [
    "edge_sobel = sobel(color.rgb2gray(image)) \n",
    "\n",
    "show_image(edge_sobel)"
   ]
  },
  {
   "cell_type": "code",
   "execution_count": null,
   "id": "905b99a5-d6c3-439d-a9a8-05430bccd9f0",
   "metadata": {},
   "outputs": [],
   "source": [
    "def plot_comparison(original, filtered, title_filtered, shareaxis=True):\n",
    "    fig, (ax1, ax2) = plt.subplots(ncols=2, figsize=(8, 6), sharex=True,\n",
    "    sharey=True)\n",
    "    ax1.imshow(original, cmap=plt.cm.gray)\n",
    "    ax1.set_title('original')\n",
    "    ax1.axis('off')\n",
    "    ax2.imshow(filtered, cmap=plt.cm.gray)\n",
    "    ax2.set_title(title_filtered)\n",
    "    ax2.axis('off')"
   ]
  },
  {
   "cell_type": "code",
   "execution_count": null,
   "id": "bdd21f21-20a2-4830-ba5c-5ca61a0c0ec7",
   "metadata": {},
   "outputs": [],
   "source": [
    "plot_comparison(image, sobel(color.rgb2gray(image)), 'sobel')"
   ]
  },
  {
   "cell_type": "markdown",
   "id": "2eaf455a-a80f-4778-b831-ec9f42dff920",
   "metadata": {},
   "source": [
    "# Gaussian Smoothing \n",
    "\n",
    "Reduces noise "
   ]
  },
  {
   "cell_type": "code",
   "execution_count": null,
   "id": "059cf876-b3c7-472c-9bd4-f082c9e0db9f",
   "metadata": {},
   "outputs": [],
   "source": [
    "from skimage.filters import gaussian\n",
    "\n",
    "image = imread('../data/ImageProcessing/chapter 2/building_image.jpg')\n",
    "\n",
    "gaussian_image = gaussian(image)\n",
    "\n",
    "plot_comparison(image, gaussian_image, 'gaussian')"
   ]
  },
  {
   "cell_type": "markdown",
   "id": "19f89350-a55f-438e-8958-916d71630533",
   "metadata": {},
   "source": [
    "# Contrast Enhancement with Histogram Equalization\n",
    "\n",
    "\n"
   ]
  },
  {
   "cell_type": "code",
   "execution_count": null,
   "id": "041ae5cd-4211-4270-9af1-8c2a209f3650",
   "metadata": {},
   "outputs": [],
   "source": [
    "image = imread('../data/ImageProcessing/chapter 2/chest_xray_image.png')\n",
    "\n",
    "sns.histplot(image.ravel(), bins=256)"
   ]
  },
  {
   "cell_type": "code",
   "execution_count": null,
   "id": "ad628e6b-873b-42d9-8e54-bbe4f338fdd7",
   "metadata": {},
   "outputs": [],
   "source": [
    "from skimage import exposure \n",
    "\n",
    "image_eq = exposure.equalize_hist(image)\n",
    "\n",
    "plot_comparison(image, image_eq, 'histogram equalization')"
   ]
  },
  {
   "cell_type": "code",
   "execution_count": null,
   "id": "e5c5b463-8608-4c17-98e6-d5f607ed6d42",
   "metadata": {},
   "outputs": [],
   "source": [
    "## Contrastive Limited Adaptative Histogram Equalization \n",
    "\n"
   ]
  },
  {
   "cell_type": "code",
   "execution_count": null,
   "id": "a86c52fd-44dd-406c-834d-aa4a9078277f",
   "metadata": {},
   "outputs": [],
   "source": [
    "image_eq = exposure.equalize_adapthist(image)\n",
    "\n",
    "plot_comparison(image, image_eq, 'histogram equalization')"
   ]
  },
  {
   "cell_type": "code",
   "execution_count": null,
   "id": "1799b1d6-3384-4436-8718-24127e4391c2",
   "metadata": {},
   "outputs": [],
   "source": [
    "image_eq = exposure.c(image)\n",
    "\n",
    "plot_comparison(image, image_eq, 'histogram equalization')"
   ]
  },
  {
   "cell_type": "markdown",
   "id": "ddb880c0-be1b-44f4-9f60-49d99c92376a",
   "metadata": {},
   "source": [
    "# Transformations\n",
    "\n",
    "## Rotation"
   ]
  },
  {
   "cell_type": "code",
   "execution_count": null,
   "id": "e1a2344d-cc6a-451b-a307-bca27106c70d",
   "metadata": {},
   "outputs": [],
   "source": [
    "from skimage.transform import rotate \n",
    "\n",
    "image = imread('../data/ImageProcessing/chapter 2/image_cat.jpg')\n",
    "\n",
    "image_rotate = rotate(image, -90)\n",
    "\n",
    "plot_comparison(image, image_rotate, 'rotated')"
   ]
  },
  {
   "cell_type": "markdown",
   "id": "d629e37b-84d6-40d6-a983-3af8e4827a45",
   "metadata": {},
   "source": [
    "## Rescaling\n"
   ]
  },
  {
   "cell_type": "code",
   "execution_count": null,
   "id": "45c262d7-61fa-4f0a-bcef-ca0741793d65",
   "metadata": {},
   "outputs": [],
   "source": [
    "from skimage.transform import rescale \n",
    "\n",
    "image_rescaled = rescale(image, 1/4, anti_aliasing=True)\n",
    "\n",
    "plot_comparison(image, image_rescaled, 'rescaled', shareaxis=False)"
   ]
  },
  {
   "cell_type": "markdown",
   "id": "6d2738c6-f617-4cb0-a518-8289d1bdd941",
   "metadata": {},
   "source": [
    "## Resizing"
   ]
  },
  {
   "cell_type": "code",
   "execution_count": null,
   "id": "44269de2-f945-4ecc-919c-d123a2bf2aab",
   "metadata": {},
   "outputs": [],
   "source": [
    "from skimage.transform import resize \n",
    "\n",
    "height = 400\n",
    "width=500\n",
    "\n",
    "image_resized = resize(image, (height, width), anti_aliasing=True)\n",
    "\n",
    "plot_comparison(image, image_resized, 'resized', shareaxis=False)\n"
   ]
  },
  {
   "cell_type": "markdown",
   "id": "4e987565-aab4-46b2-acbc-80d9ff2a8efd",
   "metadata": {},
   "source": [
    "## Resizing proportionally"
   ]
  },
  {
   "cell_type": "code",
   "execution_count": null,
   "id": "7f82cb12-5890-413a-86ed-ee5b14250229",
   "metadata": {},
   "outputs": [],
   "source": [
    "from skimage.transform import resize \n",
    "\n",
    "height = image.shape[0]/4\n",
    "width=image.shape[1]/4\n",
    "\n",
    "image_resized = resize(image, (height, width), anti_aliasing=True)\n",
    "\n",
    "plot_comparison(image, image_resized, 'resized', shareaxis=False)"
   ]
  },
  {
   "cell_type": "markdown",
   "id": "d63aad27-b520-4fa0-b766-8d2fcf6f2421",
   "metadata": {
    "execution": {
     "iopub.execute_input": "2024-09-26T13:10:00.794042Z",
     "iopub.status.busy": "2024-09-26T13:10:00.793407Z",
     "iopub.status.idle": "2024-09-26T13:10:00.802784Z",
     "shell.execute_reply": "2024-09-26T13:10:00.801484Z",
     "shell.execute_reply.started": "2024-09-26T13:10:00.793997Z"
    }
   },
   "source": [
    "# Morphological filtering\n",
    "\n",
    "Binary Erosion or dilation"
   ]
  },
  {
   "cell_type": "code",
   "execution_count": null,
   "id": "60662e4a-85c7-42df-b659-7f19f833a655",
   "metadata": {},
   "outputs": [],
   "source": [
    "from skimage import morphology\n",
    "\n",
    "image = imread('../data/ImageProcessing/chapter 2/world_image_binary.jpg')\n",
    "\n",
    "selem = morphology.rectangle(3,3)\n",
    "\n",
    "eroded_image = morphology.binary_erosion(image, selem)\n",
    "plot_comparison(image, eroded_image, 'eroded')\n",
    "\n",
    "dilated_image = morphology.binary_dilation(image, selem)\n",
    "plot_comparison(image, dilated_image, 'dilated')\n",
    "\n"
   ]
  },
  {
   "cell_type": "markdown",
   "id": "d6f5dd25-8109-4d4b-964f-ccc4fe410758",
   "metadata": {},
   "source": [
    "# Image Restoration\n",
    "\n",
    "Inpainting "
   ]
  },
  {
   "cell_type": "code",
   "execution_count": null,
   "id": "7a07229b-5358-49a8-bbbe-adf57965ee59",
   "metadata": {},
   "outputs": [],
   "source": [
    "def get_mask(image) :\n",
    "    ''' Creates mask with three defect regions '''\n",
    "    mask = np.zeros(image.shape[:-1])\n",
    "    mask [101:106, 0:240] = 1\n",
    "    mask [152:154, 0:60] = 1\n",
    "    mask [153:155, 60:100] = 1\n",
    "    mask [154:156, 100:120] = 1\n",
    "    mask [155:156, 120:140] = 1\n",
    "    mask [212:217, 0:150] = 1\n",
    "    mask [217:222, 150:256] = 1\n",
    "    return mask"
   ]
  },
  {
   "cell_type": "code",
   "execution_count": null,
   "id": "99f5431e-fd1c-4113-9cfb-e1f09e660e52",
   "metadata": {},
   "outputs": [],
   "source": [
    "from skimage.restoration import inpaint \n",
    "\n",
    "image = imread('../data/ImageProcessing/chapter 3/4.2.06_w_logo_2_2.png')\n",
    "\n",
    "mask = get_mask(image)\n",
    "\n",
    "restored_image = inpaint.inpaint_biharmonic(image, mask, channel_axis=-1)\n",
    "\n",
    "show_image(restored_image)"
   ]
  },
  {
   "cell_type": "code",
   "execution_count": null,
   "id": "1d707cc1-b013-4ee5-872a-bdeef15d8af4",
   "metadata": {},
   "outputs": [],
   "source": [
    "show_image(mask)"
   ]
  },
  {
   "cell_type": "code",
   "execution_count": null,
   "id": "9f55b992-fe7d-491c-9192-3a5e822a3941",
   "metadata": {},
   "outputs": [],
   "source": [
    "mask.shape"
   ]
  },
  {
   "cell_type": "markdown",
   "id": "830d27f0-e226-40dd-9f92-449e509a7b73",
   "metadata": {},
   "source": [
    "# Noise"
   ]
  },
  {
   "cell_type": "code",
   "execution_count": null,
   "id": "67d02ffb-f312-4ed3-b0c2-a474b0cad4ce",
   "metadata": {},
   "outputs": [],
   "source": [
    "image = imread('../data/ImageProcessing/chapter 3/noise-noisy-nature.jpg')\n",
    "show_image(image)"
   ]
  },
  {
   "cell_type": "code",
   "execution_count": null,
   "id": "8b928557-53f8-47f0-8e47-0a92c8e3b9b4",
   "metadata": {},
   "outputs": [],
   "source": [
    "# noise can be added with the random_noise function \n",
    "\n",
    "from skimage.util import random_noise \n",
    "\n",
    "noisy_image = random_noise(image) \n",
    "\n",
    "show_image(noisy_image)"
   ]
  },
  {
   "cell_type": "code",
   "execution_count": null,
   "id": "51120690-b832-45fc-925d-2d9996a10b4e",
   "metadata": {},
   "outputs": [],
   "source": []
  }
 ],
 "metadata": {
  "kernelspec": {
   "display_name": "Python 3 (ipykernel)",
   "language": "python",
   "name": "python3"
  },
  "language_info": {
   "codemirror_mode": {
    "name": "ipython",
    "version": 3
   },
   "file_extension": ".py",
   "mimetype": "text/x-python",
   "name": "python",
   "nbconvert_exporter": "python",
   "pygments_lexer": "ipython3",
   "version": "3.11.10"
  }
 },
 "nbformat": 4,
 "nbformat_minor": 5
}
