{
 "cells": [
  {
   "cell_type": "markdown",
   "id": "238fea87-d2d1-4e4b-944e-eea3eef54f30",
   "metadata": {},
   "source": [
    "# Testing in Python\n",
    "\n",
    "the *assert* instruction checks that the condition is **True** \n",
    "\n",
    "Pytest is the reference python testing framework\n",
    "\n",
    "pytests have to be prefixed with *test_*"
   ]
  },
  {
   "cell_type": "code",
   "execution_count": null,
   "id": "522d50dc-f51f-4bcc-83ba-333cf6d0f480",
   "metadata": {},
   "outputs": [],
   "source": [
    "import pytest\n",
    "\n",
    "def squared(number): \n",
    "    return number**2 \n",
    "\n",
    "\n",
    "def test_squared():\n",
    "    assert squared(-2)==squared(2)\n",
    "    "
   ]
  },
  {
   "cell_type": "code",
   "execution_count": null,
   "id": "35a469f9-5dd0-42d9-a997-7a918ebeac7a",
   "metadata": {},
   "outputs": [],
   "source": [
    "test_squared()"
   ]
  },
  {
   "cell_type": "markdown",
   "id": "10f5dabe-f149-4b40-8097-01dd8a13cdca",
   "metadata": {},
   "source": [
    "When en exception is expected, we can use the context manager *pytest.raises*:"
   ]
  },
  {
   "cell_type": "code",
   "execution_count": null,
   "id": "796cb74a-1c9d-4401-ad87-68fed990a9e8",
   "metadata": {},
   "outputs": [],
   "source": [
    "def division(a,b): \n",
    "    return a/b\n",
    "\n",
    "def test_raises():\n",
    "    with pytest.raises(ZeroDivisionError):\n",
    "        division(a=25, b=0)"
   ]
  },
  {
   "cell_type": "code",
   "execution_count": null,
   "id": "ba114469-264a-4161-92f1-5c3757d7879e",
   "metadata": {},
   "outputs": [],
   "source": [
    "!pytest '030 Testing.ipynb'"
   ]
  },
  {
   "cell_type": "code",
   "execution_count": null,
   "id": "9857239c-f2b2-4a3b-899b-03ea40575888",
   "metadata": {},
   "outputs": [],
   "source": [
    "!pytest '030 Testing.ipynb' -k \"tests containing this string only\""
   ]
  },
  {
   "cell_type": "markdown",
   "id": "a9276be9-e7b3-4392-8a8f-7c68a04aca7e",
   "metadata": {},
   "source": [
    "@pytest.mark allows to flag tests to have special behaviour when running them, like skip"
   ]
  },
  {
   "cell_type": "code",
   "execution_count": null,
   "id": "891e716a-f45b-4cc2-bf5b-089bde1b9c24",
   "metadata": {},
   "outputs": [],
   "source": [
    "@pytest.mark.skip\n",
    "def test_get_len():\n",
    "    assert division(a='20', b='5')\n",
    "\n",
    "@pytest.mark.skipif('2 * 2 == 5')\n",
    "def test_get_len():\n",
    "    assert division(a='20', b='5')\n",
    "\n",
    "# If we expect a test to fail because we know there is a bug, we can mark the text as xfail\n",
    "@pytest.mark.xfail\n",
    "def test_get_len():\n",
    "    assert division(a='20', b='5')"
   ]
  },
  {
   "cell_type": "markdown",
   "id": "59314970-e545-4088-82db-d13738d0d178",
   "metadata": {
    "execution": {
     "iopub.execute_input": "2024-10-28T09:05:19.427198Z",
     "iopub.status.busy": "2024-10-28T09:05:19.426087Z",
     "iopub.status.idle": "2024-10-28T09:05:19.441735Z",
     "shell.execute_reply": "2024-10-28T09:05:19.440087Z",
     "shell.execute_reply.started": "2024-10-28T09:05:19.427133Z"
    }
   },
   "source": [
    "# Fixtures\n",
    "\n",
    "Fixtures are a prepared environment that can be used for a test execution\n",
    "\n",
    "Fixtures can be chained, keeping the code modular"
   ]
  },
  {
   "cell_type": "code",
   "execution_count": null,
   "id": "25857ab8-4776-4177-9f8f-c1be0fa2478d",
   "metadata": {},
   "outputs": [],
   "source": [
    "# Import the pytest library\n",
    "import pytest\n",
    "\n",
    "# Define the fixture decorator\n",
    "@pytest.fixture\n",
    "# Name the fixture function\n",
    "def prepare_data():\n",
    "    return [i for i in range(10)]\n",
    "\n",
    "# Create the tests\n",
    "def test_elements(prepare_data):\n",
    "    assert 9 in prepare_data\n",
    "    assert 10 not in prepare_data"
   ]
  },
  {
   "cell_type": "markdown",
   "id": "6de4114f-3f08-4895-8daa-1be7daa302eb",
   "metadata": {},
   "source": [
    "Autoused fixtures are fixtures that are used by every single test and that modify values of the environment. The output of the fixture cannot be pased to any test"
   ]
  },
  {
   "cell_type": "code",
   "execution_count": null,
   "id": "9feae4fd-df41-42f1-aa7a-eb6813b86230",
   "metadata": {},
   "outputs": [],
   "source": [
    "import pytest\n",
    "\n",
    "@pytest.fixture\n",
    "def init_list():\n",
    "    return []\n",
    "\n",
    "# Declare the fixture with autouse\n",
    "@pytest.fixture(autouse=True)\n",
    "def add_numbers_to_list(init_list):\n",
    "    init_list.extend([i for i in range(10)])\n",
    "\n",
    "# Complete the tests\n",
    "def test_elements(init_list):\n",
    "    assert 1 in init_list \n",
    "    assert 9 in init_list\n"
   ]
  },
  {
   "cell_type": "markdown",
   "id": "ea0cc7c4-fd4e-44be-a5d3-6d3a25fb0f9f",
   "metadata": {},
   "source": [
    "Fixture Teardown to cleanup resources after running tests: \n",
    "\n",
    "Fixtures use yield instead of return and right after the yield, we cleanup\n",
    "\n"
   ]
  },
  {
   "cell_type": "code",
   "execution_count": null,
   "id": "6c967bf1-e09c-429b-8528-6559880de0ba",
   "metadata": {},
   "outputs": [],
   "source": [
    "import pytest\n",
    "\n",
    "@pytest.fixture\n",
    "def prepare_data():\n",
    "    data = [i for i in range(10)]\n",
    "    # Return the data with the special keyword\n",
    "    yield data\n",
    "    # Clear the data list\n",
    "    data.clear()\n",
    "    # Delete the data variable\n",
    "    del data\n",
    "\n",
    "def test_elements(prepare_data):\n",
    "    assert 9 in prepare_data\n",
    "    assert 10 not in prepare_data"
   ]
  },
  {
   "cell_type": "markdown",
   "id": "5edbc131-6903-4ad3-9460-848bd93a0d0f",
   "metadata": {},
   "source": [
    "# Unit Tests\n",
    "\n",
    "Unit tests can be grouped in features.\n",
    "\n"
   ]
  },
  {
   "cell_type": "markdown",
   "id": "ff4210b8-4afb-4d10-a8cb-db815fc73a66",
   "metadata": {},
   "source": [
    "# Unittest package \n",
    "\n",
    "The unittest package is a built in python OOP testing framework"
   ]
  },
  {
   "cell_type": "code",
   "execution_count": null,
   "id": "e7a4c61d-a0de-48ae-86a5-49b1a797ed56",
   "metadata": {},
   "outputs": [],
   "source": [
    "import unittest\n",
    "\n",
    "# Function to test\n",
    "def add(x, y):\n",
    "    return x + y\n",
    "\n",
    "def subtract(x, y):\n",
    "    return x - y\n",
    "\n",
    "# Test case class\n",
    "class TestMathFunctions(unittest.TestCase):\n",
    "\n",
    "    # Setup method (runs before each test)\n",
    "    def setUp(self):\n",
    "        self.num1 = 10\n",
    "        self.num2 = 5\n",
    "\n",
    "    # Test for addition\n",
    "    def test_add(self):\n",
    "        result = add(self.num1, self.num2)\n",
    "        self.assertEqual(result, 15)\n",
    "\n",
    "    # Test for subtraction\n",
    "    def test_subtract(self):\n",
    "        result = subtract(self.num1, self.num2)\n",
    "        self.assertEqual(result, 5)\n",
    "\n",
    "    # Test that raises an exception\n",
    "    def test_add_type_error(self):\n",
    "        with self.assertRaises(TypeError):\n",
    "            add(\"ten\", 10)  # Should raise TypeError for adding str and int\n",
    "\n",
    "    # Teardown method (runs after each test)\n",
    "    def tearDown(self):\n",
    "        pass  # Used for cleanup, if necessary\n",
    "\n"
   ]
  },
  {
   "cell_type": "code",
   "execution_count": null,
   "id": "6d6d19f0-b8cf-479c-b2a6-93da4cb1351a",
   "metadata": {},
   "outputs": [],
   "source": [
    "!python3 -m unittest -f -k \"tests with this string in its name only\" \"030 Testing.ipynb\""
   ]
  },
  {
   "cell_type": "code",
   "execution_count": null,
   "id": "8da75df9-c451-4b0f-b51f-980a25792762",
   "metadata": {},
   "outputs": [],
   "source": []
  }
 ],
 "metadata": {
  "kernelspec": {
   "display_name": "Python 3 (ipykernel)",
   "language": "python",
   "name": "python3"
  },
  "language_info": {
   "codemirror_mode": {
    "name": "ipython",
    "version": 3
   },
   "file_extension": ".py",
   "mimetype": "text/x-python",
   "name": "python",
   "nbconvert_exporter": "python",
   "pygments_lexer": "ipython3",
   "version": "3.11.10"
  }
 },
 "nbformat": 4,
 "nbformat_minor": 5
}
