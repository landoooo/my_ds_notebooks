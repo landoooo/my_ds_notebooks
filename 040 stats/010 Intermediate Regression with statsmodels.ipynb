{
 "cells": [
  {
   "cell_type": "code",
   "execution_count": 1,
   "id": "0c394c09-776d-4d7b-a5e8-bcc8d23d004b",
   "metadata": {
    "execution": {
     "iopub.execute_input": "2025-01-17T16:11:11.717346Z",
     "iopub.status.busy": "2025-01-17T16:11:11.716495Z",
     "iopub.status.idle": "2025-01-17T16:11:12.752667Z",
     "shell.execute_reply": "2025-01-17T16:11:12.752282Z",
     "shell.execute_reply.started": "2025-01-17T16:11:11.717304Z"
    }
   },
   "outputs": [],
   "source": [
    "from statsmodels.formula.api import ols\n",
    "import pandas as pd \n",
    "import matplotlib.pyplot as plt \n",
    "import numpy as np \n",
    "import seaborn as sns \n",
    "\n",
    "taiwan_real_estate = pd.read_csv('../data/taiwan_real_estate2.csv')\n",
    "fish = pd.read_csv('../data/fish.csv')\n",
    "\n"
   ]
  },
  {
   "cell_type": "code",
   "execution_count": null,
   "id": "cfbd4002-8b7a-4d61-b380-6191340995c7",
   "metadata": {
    "execution": {
     "iopub.execute_input": "2025-01-17T16:11:41.108564Z",
     "iopub.status.busy": "2025-01-17T16:11:41.107409Z",
     "iopub.status.idle": "2025-01-17T16:11:41.137119Z",
     "shell.execute_reply": "2025-01-17T16:11:41.136645Z",
     "shell.execute_reply.started": "2025-01-17T16:11:41.108493Z"
    }
   },
   "outputs": [],
   "source": [
    "fish.head()"
   ]
  },
  {
   "cell_type": "code",
   "execution_count": null,
   "id": "9256675f-6bca-4ddf-bcf1-5c878a741fc2",
   "metadata": {
    "execution": {
     "iopub.execute_input": "2025-01-17T16:22:15.907176Z",
     "iopub.status.busy": "2025-01-17T16:22:15.906311Z",
     "iopub.status.idle": "2025-01-17T16:22:15.954015Z",
     "shell.execute_reply": "2025-01-17T16:22:15.952948Z",
     "shell.execute_reply.started": "2025-01-17T16:22:15.907130Z"
    }
   },
   "outputs": [],
   "source": [
    "mdl_mass_vs_length = ols('mass_g ~ length_cm', data=fish).fit()\n",
    "mdl_mass_vs_length.summary()"
   ]
  },
  {
   "cell_type": "code",
   "execution_count": null,
   "id": "b6695ac5-70da-41b1-a2b1-0c6428b91b36",
   "metadata": {
    "execution": {
     "iopub.execute_input": "2025-01-17T16:50:18.167254Z",
     "iopub.status.busy": "2025-01-17T16:50:18.165434Z",
     "iopub.status.idle": "2025-01-17T16:50:18.225248Z",
     "shell.execute_reply": "2025-01-17T16:50:18.224771Z",
     "shell.execute_reply.started": "2025-01-17T16:50:18.167175Z"
    }
   },
   "outputs": [],
   "source": [
    "mdl_mass_vs_species = ols('mass_g ~ species + 0', data=fish).fit()\n",
    "mdl_mass_vs_species.summary()"
   ]
  },
  {
   "cell_type": "code",
   "execution_count": null,
   "id": "532ed9e0-5b31-4929-9a90-37d498c29a0f",
   "metadata": {
    "execution": {
     "iopub.execute_input": "2025-01-17T16:50:18.506404Z",
     "iopub.status.busy": "2025-01-17T16:50:18.505339Z",
     "iopub.status.idle": "2025-01-17T16:50:18.542772Z",
     "shell.execute_reply": "2025-01-17T16:50:18.542320Z",
     "shell.execute_reply.started": "2025-01-17T16:50:18.506339Z"
    }
   },
   "outputs": [],
   "source": [
    "mdl_mass_vs_both = ols('mass_g ~ length_cm + species + 0', data=fish).fit()\n",
    "mdl_mass_vs_both.summary()"
   ]
  },
  {
   "cell_type": "code",
   "execution_count": null,
   "id": "bc50bf1b-f82e-4b2b-8d43-64fdf649a644",
   "metadata": {
    "execution": {
     "iopub.execute_input": "2025-01-17T16:50:19.099137Z",
     "iopub.status.busy": "2025-01-17T16:50:19.098239Z",
     "iopub.status.idle": "2025-01-17T16:50:19.235755Z",
     "shell.execute_reply": "2025-01-17T16:50:19.235341Z",
     "shell.execute_reply.started": "2025-01-17T16:50:19.099095Z"
    }
   },
   "outputs": [],
   "source": [
    "sns.boxplot(x='species', y='mass_g', data=fish, showmeans=True, hue='species')"
   ]
  },
  {
   "cell_type": "code",
   "execution_count": null,
   "id": "68c02c00-e094-4521-9bc5-acc8475594a9",
   "metadata": {
    "execution": {
     "iopub.execute_input": "2025-01-17T16:50:36.281246Z",
     "iopub.status.busy": "2025-01-17T16:50:36.280048Z",
     "iopub.status.idle": "2025-01-17T16:50:36.301236Z",
     "shell.execute_reply": "2025-01-17T16:50:36.300062Z",
     "shell.execute_reply.started": "2025-01-17T16:50:36.281173Z"
    }
   },
   "outputs": [],
   "source": [
    "coeffs=mdl_mass_vs_both.params\n",
    "print(coeffs)"
   ]
  },
  {
   "cell_type": "code",
   "execution_count": null,
   "id": "e77ef156-ef18-4dd2-8133-e14db5486b93",
   "metadata": {
    "execution": {
     "iopub.execute_input": "2025-01-17T16:52:58.477727Z",
     "iopub.status.busy": "2025-01-17T16:52:58.476650Z",
     "iopub.status.idle": "2025-01-17T16:52:58.637979Z",
     "shell.execute_reply": "2025-01-17T16:52:58.637534Z",
     "shell.execute_reply.started": "2025-01-17T16:52:58.477662Z"
    }
   },
   "outputs": [],
   "source": [
    "ic_bream, ic_perch, ic_pike, ic_roach, sl = coeffs\n",
    "\n",
    "sns.scatterplot(x='length_cm', y='mass_g', hue='species', data=fish)\n",
    "\n",
    "plt.axline(v=(0, ic_bream), slope=sl, color='blue')\n",
    "plt.axline(xy1=(0, ic_perch), slope=sl, color='green')\n",
    "plt.axline(xy1=(0, ic_pike), slope=sl, color='red')\n",
    "plt.axline(xy1=(0, ic_roach), slope=sl, color='orange')"
   ]
  },
  {
   "cell_type": "markdown",
   "id": "ba15bad5-9fce-429a-a83f-3de07de90f9f",
   "metadata": {},
   "source": [
    "This type of regression is called parallel slopes since the slope for every trend line is the same."
   ]
  },
  {
   "cell_type": "code",
   "execution_count": null,
   "id": "3823e886-c72d-46ec-8945-113a11875ef6",
   "metadata": {},
   "outputs": [],
   "source": []
  }
 ],
 "metadata": {
  "kernelspec": {
   "display_name": "Python 3 (ipykernel)",
   "language": "python",
   "name": "python3"
  },
  "language_info": {
   "codemirror_mode": {
    "name": "ipython",
    "version": 3
   },
   "file_extension": ".py",
   "mimetype": "text/x-python",
   "name": "python",
   "nbconvert_exporter": "python",
   "pygments_lexer": "ipython3",
   "version": "3.11.10"
  }
 },
 "nbformat": 4,
 "nbformat_minor": 5
}
